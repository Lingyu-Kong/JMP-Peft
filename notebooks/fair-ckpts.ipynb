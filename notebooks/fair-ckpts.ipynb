{
 "cells": [
  {
   "cell_type": "code",
   "execution_count": 9,
   "metadata": {},
   "outputs": [
    {
     "data": {
      "text/html": [
       "<pre style=\"white-space:pre;overflow-x:auto;line-height:normal;font-family:Menlo,'DejaVu Sans Mono',consolas,'Courier New',monospace\"><span style=\"font-weight: bold\">{</span>\n",
       "    <span style=\"color: #008000; text-decoration-color: #008000\">'mptrj-jmps-ec20.0_fc20.0_sc10.0'</span>: \n",
       "<span style=\"color: #800080; text-decoration-color: #800080; font-weight: bold\">PosixPath</span><span style=\"font-weight: bold\">(</span><span style=\"color: #008000; text-decoration-color: #008000\">'/mnt/datasets/jmp-mptrj-checkpoints/sm_checkpoints/mptrj-jmps-ec20.0_fc20.0_sc10.0/checkpoint/epoch=139-</span>\n",
       "<span style=\"color: #008000; text-decoration-color: #008000\">step=396200-val_matbench_discovery_force_mae=0.01921326294541359.ckpt'</span><span style=\"font-weight: bold\">)</span>,\n",
       "    <span style=\"color: #008000; text-decoration-color: #008000\">'mptrj-jmps-s2efonly'</span>: \n",
       "<span style=\"color: #800080; text-decoration-color: #800080; font-weight: bold\">PosixPath</span><span style=\"font-weight: bold\">(</span><span style=\"color: #008000; text-decoration-color: #008000\">'/mnt/datasets/jmp-mptrj-checkpoints/sm_checkpoints/mptrj-jmps-s2efonly/checkpoint/latest_epoch128_step36</span>\n",
       "<span style=\"color: #008000; text-decoration-color: #008000\">5070.ckpt'</span><span style=\"font-weight: bold\">)</span>,\n",
       "    <span style=\"color: #008000; text-decoration-color: #008000\">'mptrj-jmps-ec1.0_fc100.0_sc1.0'</span>: \n",
       "<span style=\"color: #800080; text-decoration-color: #800080; font-weight: bold\">PosixPath</span><span style=\"font-weight: bold\">(</span><span style=\"color: #008000; text-decoration-color: #008000\">'/mnt/datasets/jmp-mptrj-checkpoints/sm_checkpoints/mptrj-jmps-ec1.0_fc100.0_sc1.0/checkpoint/latest_epoc</span>\n",
       "<span style=\"color: #008000; text-decoration-color: #008000\">h129_step367900.ckpt'</span><span style=\"font-weight: bold\">)</span>,\n",
       "    <span style=\"color: #008000; text-decoration-color: #008000\">'mptrj-jmps-s2ef_s2re'</span>: \n",
       "<span style=\"color: #800080; text-decoration-color: #800080; font-weight: bold\">PosixPath</span><span style=\"font-weight: bold\">(</span><span style=\"color: #008000; text-decoration-color: #008000\">'/mnt/datasets/jmp-mptrj-checkpoints/sm_checkpoints/mptrj-jmps-s2ef_s2re/checkpoint/epoch=125-step=356580</span>\n",
       "<span style=\"color: #008000; text-decoration-color: #008000\">-val_matbench_discovery_force_mae=0.01882246695458889.ckpt'</span><span style=\"font-weight: bold\">)</span>,\n",
       "    <span style=\"color: #008000; text-decoration-color: #008000\">'mptrj-jmps-wd0.1'</span>: \n",
       "<span style=\"color: #800080; text-decoration-color: #800080; font-weight: bold\">PosixPath</span><span style=\"font-weight: bold\">(</span><span style=\"color: #008000; text-decoration-color: #008000\">'/mnt/datasets/jmp-mptrj-checkpoints/sm_checkpoints/mptrj-jmps-wd0.1/checkpoint/epoch=127-step=362240-val</span>\n",
       "<span style=\"color: #008000; text-decoration-color: #008000\">_matbench_discovery_force_mae=0.024077005684375763.ckpt'</span><span style=\"font-weight: bold\">)</span>,\n",
       "    <span style=\"color: #008000; text-decoration-color: #008000\">'mptrj-jmps-posaug0.01'</span>: \n",
       "<span style=\"color: #800080; text-decoration-color: #800080; font-weight: bold\">PosixPath</span><span style=\"font-weight: bold\">(</span><span style=\"color: #008000; text-decoration-color: #008000\">'/mnt/datasets/jmp-mptrj-checkpoints/sm_checkpoints/mptrj-jmps-posaug0.01/checkpoint/latest_epoch128_step</span>\n",
       "<span style=\"color: #008000; text-decoration-color: #008000\">365070.ckpt'</span><span style=\"font-weight: bold\">)</span>,\n",
       "    <span style=\"color: #008000; text-decoration-color: #008000\">'mptrj-jmps-ec100.0_fc100.0_sc1.0'</span>: \n",
       "<span style=\"color: #800080; text-decoration-color: #800080; font-weight: bold\">PosixPath</span><span style=\"font-weight: bold\">(</span><span style=\"color: #008000; text-decoration-color: #008000\">'/mnt/datasets/jmp-mptrj-checkpoints/sm_checkpoints/mptrj-jmps-ec100.0_fc100.0_sc1.0/checkpoint/latest_ep</span>\n",
       "<span style=\"color: #008000; text-decoration-color: #008000\">och133_step379220.ckpt'</span><span style=\"font-weight: bold\">)</span>\n",
       "<span style=\"font-weight: bold\">}</span>\n",
       "</pre>\n"
      ],
      "text/plain": [
       "\u001b[1m{\u001b[0m\n",
       "    \u001b[32m'mptrj-jmps-ec20.0_fc20.0_sc10.0'\u001b[0m: \n",
       "\u001b[1;35mPosixPath\u001b[0m\u001b[1m(\u001b[0m\u001b[32m'/mnt/datasets/jmp-mptrj-checkpoints/sm_checkpoints/mptrj-jmps-ec20.0_fc20.0_sc10.0/checkpoint/\u001b[0m\u001b[32mepoch\u001b[0m\u001b[32m=\u001b[0m\u001b[32m139\u001b[0m\u001b[32m-\u001b[0m\n",
       "\u001b[32mstep\u001b[0m\u001b[32m=\u001b[0m\u001b[32m396200\u001b[0m\u001b[32m-\u001b[0m\u001b[32mval_matbench_discovery_force_mae\u001b[0m\u001b[32m=\u001b[0m\u001b[32m0\u001b[0m\u001b[32m.01921326294541359.ckpt'\u001b[0m\u001b[1m)\u001b[0m,\n",
       "    \u001b[32m'mptrj-jmps-s2efonly'\u001b[0m: \n",
       "\u001b[1;35mPosixPath\u001b[0m\u001b[1m(\u001b[0m\u001b[32m'/mnt/datasets/jmp-mptrj-checkpoints/sm_checkpoints/mptrj-jmps-s2efonly/checkpoint/latest_epoch128_step36\u001b[0m\n",
       "\u001b[32m5070.ckpt'\u001b[0m\u001b[1m)\u001b[0m,\n",
       "    \u001b[32m'mptrj-jmps-ec1.0_fc100.0_sc1.0'\u001b[0m: \n",
       "\u001b[1;35mPosixPath\u001b[0m\u001b[1m(\u001b[0m\u001b[32m'/mnt/datasets/jmp-mptrj-checkpoints/sm_checkpoints/mptrj-jmps-ec1.0_fc100.0_sc1.0/checkpoint/latest_epoc\u001b[0m\n",
       "\u001b[32mh129_step367900.ckpt'\u001b[0m\u001b[1m)\u001b[0m,\n",
       "    \u001b[32m'mptrj-jmps-s2ef_s2re'\u001b[0m: \n",
       "\u001b[1;35mPosixPath\u001b[0m\u001b[1m(\u001b[0m\u001b[32m'/mnt/datasets/jmp-mptrj-checkpoints/sm_checkpoints/mptrj-jmps-s2ef_s2re/checkpoint/\u001b[0m\u001b[32mepoch\u001b[0m\u001b[32m=\u001b[0m\u001b[32m125\u001b[0m\u001b[32m-\u001b[0m\u001b[32mstep\u001b[0m\u001b[32m=\u001b[0m\u001b[32m356580\u001b[0m\n",
       "\u001b[32m-\u001b[0m\u001b[32mval_matbench_discovery_force_mae\u001b[0m\u001b[32m=\u001b[0m\u001b[32m0\u001b[0m\u001b[32m.01882246695458889.ckpt'\u001b[0m\u001b[1m)\u001b[0m,\n",
       "    \u001b[32m'mptrj-jmps-wd0.1'\u001b[0m: \n",
       "\u001b[1;35mPosixPath\u001b[0m\u001b[1m(\u001b[0m\u001b[32m'/mnt/datasets/jmp-mptrj-checkpoints/sm_checkpoints/mptrj-jmps-wd0.1/checkpoint/\u001b[0m\u001b[32mepoch\u001b[0m\u001b[32m=\u001b[0m\u001b[32m127\u001b[0m\u001b[32m-\u001b[0m\u001b[32mstep\u001b[0m\u001b[32m=\u001b[0m\u001b[32m362240\u001b[0m\u001b[32m-\u001b[0m\u001b[32mval\u001b[0m\n",
       "\u001b[32m_matbench_discovery_force_mae\u001b[0m\u001b[32m=\u001b[0m\u001b[32m0\u001b[0m\u001b[32m.024077005684375763.ckpt'\u001b[0m\u001b[1m)\u001b[0m,\n",
       "    \u001b[32m'mptrj-jmps-posaug0.01'\u001b[0m: \n",
       "\u001b[1;35mPosixPath\u001b[0m\u001b[1m(\u001b[0m\u001b[32m'/mnt/datasets/jmp-mptrj-checkpoints/sm_checkpoints/mptrj-jmps-posaug0.01/checkpoint/latest_epoch128_step\u001b[0m\n",
       "\u001b[32m365070.ckpt'\u001b[0m\u001b[1m)\u001b[0m,\n",
       "    \u001b[32m'mptrj-jmps-ec100.0_fc100.0_sc1.0'\u001b[0m: \n",
       "\u001b[1;35mPosixPath\u001b[0m\u001b[1m(\u001b[0m\u001b[32m'/mnt/datasets/jmp-mptrj-checkpoints/sm_checkpoints/mptrj-jmps-ec100.0_fc100.0_sc1.0/checkpoint/latest_ep\u001b[0m\n",
       "\u001b[32moch133_step379220.ckpt'\u001b[0m\u001b[1m)\u001b[0m\n",
       "\u001b[1m}\u001b[0m\n"
      ]
     },
     "metadata": {},
     "output_type": "display_data"
    }
   ],
   "source": [
    "from pathlib import Path\n",
    "\n",
    "import rich\n",
    "\n",
    "base_ckpt = Path(\"/mnt/datasets/jmp-mptrj-checkpoints/sm_checkpoints/\")\n",
    "best_ckpts: dict[str, Path] = {}\n",
    "for run in base_ckpt.iterdir():\n",
    "    if not run.is_dir():\n",
    "        continue\n",
    "\n",
    "    # Find all ckpt files and take the latest one\n",
    "    ckpts = [\n",
    "        ckpt for ckpt in run.glob(\"checkpoint/*.ckpt\") if \"exception\" not in ckpt.name\n",
    "    ]\n",
    "    if not ckpts:\n",
    "        continue\n",
    "\n",
    "    # Resolve symlinks and ignore duplicates\n",
    "    ckpts_resolved = []\n",
    "    for ckpt in ckpts:\n",
    "        # Account for symlink loops\n",
    "        try:\n",
    "            ckpt_resolved = ckpt.resolve()\n",
    "        except BaseException:\n",
    "            continue\n",
    "        ckpts_resolved.append(ckpt_resolved)\n",
    "    ckpts = list(set(ckpts_resolved))\n",
    "\n",
    "    # Find the latest checkpoint\n",
    "    best_ckpt = max(ckpts, key=lambda x: x.stat().st_mtime)\n",
    "    best_ckpts[run.name] = best_ckpt\n",
    "rich.print(best_ckpts)"
   ]
  }
 ],
 "metadata": {
  "kernelspec": {
   "display_name": "jmp-peft",
   "language": "python",
   "name": "python3"
  },
  "language_info": {
   "codemirror_mode": {
    "name": "ipython",
    "version": 3
   },
   "file_extension": ".py",
   "mimetype": "text/x-python",
   "name": "python",
   "nbconvert_exporter": "python",
   "pygments_lexer": "ipython3",
   "version": "3.11.6"
  }
 },
 "nbformat": 4,
 "nbformat_minor": 2
}
