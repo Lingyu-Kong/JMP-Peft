{
 "cells": [
  {
   "cell_type": "code",
   "execution_count": 1,
   "metadata": {},
   "outputs": [],
   "source": [
    "import nshutils\n",
    "\n",
    "nshutils.pretty()"
   ]
  },
  {
   "cell_type": "code",
   "execution_count": 2,
   "metadata": {},
   "outputs": [
    {
     "name": "stdout",
     "output_type": "stream",
     "text": [
      "/mnt/datasets/experiment-data/jmp-peft/nshtrainer/rog61gn4\n"
     ]
    },
    {
     "data": {
      "text/html": [
       "<pre style=\"white-space:pre;overflow-x:auto;line-height:normal;font-family:Menlo,'DejaVu Sans Mono',consolas,'Courier New',monospace\"><span style=\"color: #7fbfbf; text-decoration-color: #7fbfbf\">[15:41:15] </span><span style=\"color: #000080; text-decoration-color: #000080\">INFO    </span> Module jmppeft: <span style=\"color: #800080; text-decoration-color: #800080\">/workspaces/repositories/jmp-peft/src/</span><span style=\"color: #ff00ff; text-decoration-color: #ff00ff\">jmppeft</span> -&gt;                   <a href=\"file:///workspaces/nshrunner/src/nshrunner/snapshot/_load.py\" target=\"_blank\"><span style=\"color: #7f7f7f; text-decoration-color: #7f7f7f\">_load.py</span></a><span style=\"color: #7f7f7f; text-decoration-color: #7f7f7f\">:</span><a href=\"file:///workspaces/nshrunner/src/nshrunner/snapshot/_load.py#275\" target=\"_blank\"><span style=\"color: #7f7f7f; text-decoration-color: #7f7f7f\">275</span></a>\n",
       "<span style=\"color: #7fbfbf; text-decoration-color: #7fbfbf\">           </span>         <span style=\"color: #800080; text-decoration-color: #800080\">/mnt/datasets/experiment-data/jmp-peft/nshtrainer/rog61gn4/nshrunner/snapshots/202</span> <span style=\"color: #7f7f7f; text-decoration-color: #7f7f7f\">            </span>\n",
       "<span style=\"color: #7fbfbf; text-decoration-color: #7fbfbf\">           </span>         <span style=\"color: #800080; text-decoration-color: #800080\">40730143647--b58fd01f-2780-4203-b600-70978a2ceb5c/</span><span style=\"color: #ff00ff; text-decoration-color: #ff00ff\">jmppeft</span>                          <span style=\"color: #7f7f7f; text-decoration-color: #7f7f7f\">            </span>\n",
       "</pre>\n"
      ],
      "text/plain": [
       "\u001b[2;36m[15:41:15]\u001b[0m\u001b[2;36m \u001b[0m\u001b[34mINFO    \u001b[0m Module jmppeft: \u001b[35m/workspaces/repositories/jmp-peft/src/\u001b[0m\u001b[95mjmppeft\u001b[0m ->                   \u001b]8;id=955368;file:///workspaces/nshrunner/src/nshrunner/snapshot/_load.py\u001b\\\u001b[2m_load.py\u001b[0m\u001b]8;;\u001b\\\u001b[2m:\u001b[0m\u001b]8;id=425905;file:///workspaces/nshrunner/src/nshrunner/snapshot/_load.py#275\u001b\\\u001b[2m275\u001b[0m\u001b]8;;\u001b\\\n",
       "\u001b[2;36m           \u001b[0m         \u001b[35m/mnt/datasets/experiment-data/jmp-peft/nshtrainer/rog61gn4/nshrunner/snapshots/202\u001b[0m \u001b[2m            \u001b[0m\n",
       "\u001b[2;36m           \u001b[0m         \u001b[35m40730143647--b58fd01f-2780-4203-b600-70978a2ceb5c/\u001b[0m\u001b[95mjmppeft\u001b[0m                          \u001b[2m            \u001b[0m\n"
      ]
     },
     "metadata": {},
     "output_type": "display_data"
    },
    {
     "data": {
      "text/html": [
       "<pre style=\"white-space:pre;overflow-x:auto;line-height:normal;font-family:Menlo,'DejaVu Sans Mono',consolas,'Courier New',monospace\"><span style=\"color: #7fbfbf; text-decoration-color: #7fbfbf\">           </span><span style=\"color: #000080; text-decoration-color: #000080\">INFO    </span> Symlinked <span style=\"color: #800080; text-decoration-color: #800080\">/workspaces/repositories/jmp-peft/src/</span><span style=\"color: #ff00ff; text-decoration-color: #ff00ff\">jmppeft</span> to                         <a href=\"file:///workspaces/nshrunner/src/nshrunner/snapshot/_load.py\" target=\"_blank\"><span style=\"color: #7f7f7f; text-decoration-color: #7f7f7f\">_load.py</span></a><span style=\"color: #7f7f7f; text-decoration-color: #7f7f7f\">:</span><a href=\"file:///workspaces/nshrunner/src/nshrunner/snapshot/_load.py#196\" target=\"_blank\"><span style=\"color: #7f7f7f; text-decoration-color: #7f7f7f\">196</span></a>\n",
       "<span style=\"color: #7fbfbf; text-decoration-color: #7fbfbf\">           </span>         <span style=\"color: #800080; text-decoration-color: #800080\">/tmp/nshrunner_snapshot_original_modules_xqqqxl7g/</span><span style=\"color: #ff00ff; text-decoration-color: #ff00ff\">jmppeft_original</span>                 <span style=\"color: #7f7f7f; text-decoration-color: #7f7f7f\">            </span>\n",
       "</pre>\n"
      ],
      "text/plain": [
       "\u001b[2;36m          \u001b[0m\u001b[2;36m \u001b[0m\u001b[34mINFO    \u001b[0m Symlinked \u001b[35m/workspaces/repositories/jmp-peft/src/\u001b[0m\u001b[95mjmppeft\u001b[0m to                         \u001b]8;id=163932;file:///workspaces/nshrunner/src/nshrunner/snapshot/_load.py\u001b\\\u001b[2m_load.py\u001b[0m\u001b]8;;\u001b\\\u001b[2m:\u001b[0m\u001b]8;id=785634;file:///workspaces/nshrunner/src/nshrunner/snapshot/_load.py#196\u001b\\\u001b[2m196\u001b[0m\u001b]8;;\u001b\\\n",
       "\u001b[2;36m           \u001b[0m         \u001b[35m/tmp/nshrunner_snapshot_original_modules_xqqqxl7g/\u001b[0m\u001b[95mjmppeft_original\u001b[0m                 \u001b[2m            \u001b[0m\n"
      ]
     },
     "metadata": {},
     "output_type": "display_data"
    },
    {
     "data": {
      "text/html": [
       "<pre style=\"white-space:pre;overflow-x:auto;line-height:normal;font-family:Menlo,'DejaVu Sans Mono',consolas,'Courier New',monospace\"><span style=\"color: #7fbfbf; text-decoration-color: #7fbfbf\">           </span><span style=\"background-color: #800000; font-weight: bold\">CRITICAL</span> Loading the following modules from                                                 <a href=\"file:///workspaces/nshrunner/src/nshrunner/snapshot/_load.py\" target=\"_blank\"><span style=\"color: #7f7f7f; text-decoration-color: #7f7f7f\">_load.py</span></a><span style=\"color: #7f7f7f; text-decoration-color: #7f7f7f\">:</span><a href=\"file:///workspaces/nshrunner/src/nshrunner/snapshot/_load.py#174\" target=\"_blank\"><span style=\"color: #7f7f7f; text-decoration-color: #7f7f7f\">174</span></a>\n",
       "<span style=\"color: #7fbfbf; text-decoration-color: #7fbfbf\">           </span>         <span style=\"color: #800080; text-decoration-color: #800080\">/mnt/datasets/experiment-data/jmp-peft/nshtrainer/rog61gn4/nshrunner/snapshots/</span><span style=\"color: #ff00ff; text-decoration-color: #ff00ff\">202</span> <span style=\"color: #7f7f7f; text-decoration-color: #7f7f7f\">            </span>\n",
       "<span style=\"color: #7fbfbf; text-decoration-color: #7fbfbf\">           </span>         <span style=\"color: #ff00ff; text-decoration-color: #ff00ff\">40730143647--b58fd01f-2780-4203-b600-70978a2ceb5c</span>: jmppeft                         <span style=\"color: #7f7f7f; text-decoration-color: #7f7f7f\">            </span>\n",
       "</pre>\n"
      ],
      "text/plain": [
       "\u001b[2;36m          \u001b[0m\u001b[2;36m \u001b[0m\u001b[1;7;31mCRITICAL\u001b[0m Loading the following modules from                                                 \u001b]8;id=762750;file:///workspaces/nshrunner/src/nshrunner/snapshot/_load.py\u001b\\\u001b[2m_load.py\u001b[0m\u001b]8;;\u001b\\\u001b[2m:\u001b[0m\u001b]8;id=827250;file:///workspaces/nshrunner/src/nshrunner/snapshot/_load.py#174\u001b\\\u001b[2m174\u001b[0m\u001b]8;;\u001b\\\n",
       "\u001b[2;36m           \u001b[0m         \u001b[35m/mnt/datasets/experiment-data/jmp-peft/nshtrainer/rog61gn4/nshrunner/snapshots/\u001b[0m\u001b[95m202\u001b[0m \u001b[2m            \u001b[0m\n",
       "\u001b[2;36m           \u001b[0m         \u001b[95m40730143647--b58fd01f-2780-4203-b600-70978a2ceb5c\u001b[0m: jmppeft                         \u001b[2m            \u001b[0m\n"
      ]
     },
     "metadata": {},
     "output_type": "display_data"
    },
    {
     "data": {
      "text/html": [
       "<pre style=\"white-space:pre;overflow-x:auto;line-height:normal;font-family:Menlo,'DejaVu Sans Mono',consolas,'Courier New',monospace\"><span style=\"color: #7fbfbf; text-decoration-color: #7fbfbf\">           </span><span style=\"background-color: #800000; font-weight: bold\">CRITICAL</span> Loading the following modules from                                                 <a href=\"file:///workspaces/nshrunner/src/nshrunner/snapshot/_load.py\" target=\"_blank\"><span style=\"color: #7f7f7f; text-decoration-color: #7f7f7f\">_load.py</span></a><span style=\"color: #7f7f7f; text-decoration-color: #7f7f7f\">:</span><a href=\"file:///workspaces/nshrunner/src/nshrunner/snapshot/_load.py#174\" target=\"_blank\"><span style=\"color: #7f7f7f; text-decoration-color: #7f7f7f\">174</span></a>\n",
       "<span style=\"color: #7fbfbf; text-decoration-color: #7fbfbf\">           </span>         <span style=\"color: #800080; text-decoration-color: #800080\">/tmp/</span><span style=\"color: #ff00ff; text-decoration-color: #ff00ff\">nshrunner_snapshot_original_modules_xqqqxl7g</span>: jmppeft                         <span style=\"color: #7f7f7f; text-decoration-color: #7f7f7f\">            </span>\n",
       "</pre>\n"
      ],
      "text/plain": [
       "\u001b[2;36m          \u001b[0m\u001b[2;36m \u001b[0m\u001b[1;7;31mCRITICAL\u001b[0m Loading the following modules from                                                 \u001b]8;id=380121;file:///workspaces/nshrunner/src/nshrunner/snapshot/_load.py\u001b\\\u001b[2m_load.py\u001b[0m\u001b]8;;\u001b\\\u001b[2m:\u001b[0m\u001b]8;id=597138;file:///workspaces/nshrunner/src/nshrunner/snapshot/_load.py#174\u001b\\\u001b[2m174\u001b[0m\u001b]8;;\u001b\\\n",
       "\u001b[2;36m           \u001b[0m         \u001b[35m/tmp/\u001b[0m\u001b[95mnshrunner_snapshot_original_modules_xqqqxl7g\u001b[0m: jmppeft                         \u001b[2m            \u001b[0m\n"
      ]
     },
     "metadata": {},
     "output_type": "display_data"
    },
    {
     "data": {
      "text/html": [
       "<pre style=\"white-space:pre;overflow-x:auto;line-height:normal;font-family:Menlo,'DejaVu Sans Mono',consolas,'Courier New',monospace\"><span style=\"color: #7fbfbf; text-decoration-color: #7fbfbf\">           </span><span style=\"color: #000080; text-decoration-color: #000080\">INFO    </span> Added                                                                               <a href=\"file:///workspaces/nshrunner/src/nshrunner/snapshot/_load.py\" target=\"_blank\"><span style=\"color: #7f7f7f; text-decoration-color: #7f7f7f\">_load.py</span></a><span style=\"color: #7f7f7f; text-decoration-color: #7f7f7f\">:</span><a href=\"file:///workspaces/nshrunner/src/nshrunner/snapshot/_load.py#70\" target=\"_blank\"><span style=\"color: #7f7f7f; text-decoration-color: #7f7f7f\">70</span></a>\n",
       "<span style=\"color: #7fbfbf; text-decoration-color: #7fbfbf\">           </span>         <span style=\"color: #800080; text-decoration-color: #800080\">/mnt/datasets/experiment-data/jmp-peft/nshtrainer/rog61gn4/nshrunner/snapshots/</span><span style=\"color: #ff00ff; text-decoration-color: #ff00ff\">2024</span> <span style=\"color: #7f7f7f; text-decoration-color: #7f7f7f\">           </span>\n",
       "<span style=\"color: #7fbfbf; text-decoration-color: #7fbfbf\">           </span>         <span style=\"color: #ff00ff; text-decoration-color: #ff00ff\">0730143647--b58fd01f-2780-4203-b600-70978a2ceb5c</span>,                                   <span style=\"color: #7f7f7f; text-decoration-color: #7f7f7f\">           </span>\n",
       "<span style=\"color: #7fbfbf; text-decoration-color: #7fbfbf\">           </span>         <span style=\"color: #800080; text-decoration-color: #800080\">/tmp/</span><span style=\"color: #ff00ff; text-decoration-color: #ff00ff\">nshrunner_snapshot_original_modules_xqqqxl7g</span> to sys.path.                      <span style=\"color: #7f7f7f; text-decoration-color: #7f7f7f\">           </span>\n",
       "</pre>\n"
      ],
      "text/plain": [
       "\u001b[2;36m          \u001b[0m\u001b[2;36m \u001b[0m\u001b[34mINFO    \u001b[0m Added                                                                               \u001b]8;id=831618;file:///workspaces/nshrunner/src/nshrunner/snapshot/_load.py\u001b\\\u001b[2m_load.py\u001b[0m\u001b]8;;\u001b\\\u001b[2m:\u001b[0m\u001b]8;id=99277;file:///workspaces/nshrunner/src/nshrunner/snapshot/_load.py#70\u001b\\\u001b[2m70\u001b[0m\u001b]8;;\u001b\\\n",
       "\u001b[2;36m           \u001b[0m         \u001b[35m/mnt/datasets/experiment-data/jmp-peft/nshtrainer/rog61gn4/nshrunner/snapshots/\u001b[0m\u001b[95m2024\u001b[0m \u001b[2m           \u001b[0m\n",
       "\u001b[2;36m           \u001b[0m         \u001b[95m0730143647--b58fd01f-2780-4203-b600-70978a2ceb5c\u001b[0m,                                   \u001b[2m           \u001b[0m\n",
       "\u001b[2;36m           \u001b[0m         \u001b[35m/tmp/\u001b[0m\u001b[95mnshrunner_snapshot_original_modules_xqqqxl7g\u001b[0m to sys.path.                      \u001b[2m           \u001b[0m\n"
      ]
     },
     "metadata": {},
     "output_type": "display_data"
    },
    {
     "name": "stdout",
     "output_type": "stream",
     "text": [
      "<nshrunner.snapshot._load.LoadExistingSnapshotContext object at 0x79e8710643d0>\n"
     ]
    }
   ],
   "source": [
    "from pathlib import Path\n",
    "\n",
    "base_path = Path(\"/mnt/datasets/experiment-data/jmp-peft/nshtrainer/\")\n",
    "\n",
    "run_id = \"rog61gn4\"\n",
    "run_dir = base_path / run_id\n",
    "assert (\n",
    "    run_dir.exists() and run_dir.is_dir()\n",
    "), f\"run_dir: {run_dir} does not exist or is not a directory\"\n",
    "print(run_dir)\n",
    "\n",
    "if (snapshot_dir := next(run_dir.glob(\"./nshrunner/snapshots/*/\"), None)) is not None:\n",
    "    import nshrunner\n",
    "\n",
    "    ctx = nshrunner.load_existing_snapshot(snapshot_dir, preserve_original_modules=True)\n",
    "    print(ctx)\n",
    "else:\n",
    "    print(\"No snapshot found\")"
   ]
  },
  {
   "cell_type": "code",
   "execution_count": 6,
   "metadata": {},
   "outputs": [
    {
     "name": "stdout",
     "output_type": "stream",
     "text": [
      "/mnt/datasets/experiment-data/jmp-peft/nshtrainer/rog61gn4/nshrunner/snapshots/20240730143647--b58fd01f-2780-4203-b600-70978a2ceb5c/jmppeft/__init__.py\n",
      "/workspaces/repositories/jmp-peft/src/jmppeft/__init__.py\n"
     ]
    }
   ],
   "source": [
    "import jmppeft\n",
    "\n",
    "print(jmppeft.__file__)\n",
    "\n",
    "import jmppeft_original\n",
    "\n",
    "print(Path(jmppeft_original.__file__).resolve())"
   ]
  },
  {
   "cell_type": "code",
   "execution_count": 3,
   "metadata": {},
   "outputs": [],
   "source": [
    "import os\n",
    "\n",
    "os.environ[\"LL_DISABLE_TYPECHECKING\"] = \"1\"\n",
    "os.environ[\"CUDA_VISIBLE_DEVICES\"] = \"0\"\n",
    "\n",
    "\n",
    "import torch\n",
    "\n",
    "torch.no_grad().__enter__()\n",
    "torch.inference_mode().__enter__()\n",
    "\n",
    "device = torch.device(\"cuda:0\")\n",
    "default_dtype = torch.float32"
   ]
  },
  {
   "cell_type": "code",
   "execution_count": 4,
   "metadata": {},
   "outputs": [
    {
     "data": {
      "text/html": [
       "<pre style=\"white-space:pre;overflow-x:auto;line-height:normal;font-family:Menlo,'DejaVu Sans Mono',consolas,'Courier New',monospace\"><span style=\"color: #7fbfbf; text-decoration-color: #7fbfbf\">           </span><span style=\"background-color: #800000; font-weight: bold\">CRITICAL</span> Type checking the following modules: <span style=\"font-weight: bold\">(</span><span style=\"color: #008000; text-decoration-color: #008000\">'jmppeft'</span>,<span style=\"font-weight: bold\">)</span>                               <a href=\"file:///opt/conda/envs/jmp-peft/lib/python3.11/site-packages/nshutils/typecheck.py\" target=\"_blank\"><span style=\"color: #7f7f7f; text-decoration-color: #7f7f7f\">typecheck.py</span></a><span style=\"color: #7f7f7f; text-decoration-color: #7f7f7f\">:</span><a href=\"file:///opt/conda/envs/jmp-peft/lib/python3.11/site-packages/nshutils/typecheck.py#76\" target=\"_blank\"><span style=\"color: #7f7f7f; text-decoration-color: #7f7f7f\">76</span></a>\n",
       "</pre>\n"
      ],
      "text/plain": [
       "\u001b[2;36m          \u001b[0m\u001b[2;36m \u001b[0m\u001b[1;7;31mCRITICAL\u001b[0m Type checking the following modules: \u001b[1m(\u001b[0m\u001b[32m'jmppeft'\u001b[0m,\u001b[1m)\u001b[0m                               \u001b]8;id=257360;file:///opt/conda/envs/jmp-peft/lib/python3.11/site-packages/nshutils/typecheck.py\u001b\\\u001b[2mtypecheck.py\u001b[0m\u001b]8;;\u001b\\\u001b[2m:\u001b[0m\u001b]8;id=220174;file:///opt/conda/envs/jmp-peft/lib/python3.11/site-packages/nshutils/typecheck.py#76\u001b\\\u001b[2m76\u001b[0m\u001b]8;;\u001b\\\n"
      ]
     },
     "metadata": {},
     "output_type": "display_data"
    },
    {
     "data": {
      "text/html": [
       "<pre style=\"white-space:pre;overflow-x:auto;line-height:normal;font-family:Menlo,'DejaVu Sans Mono',consolas,'Courier New',monospace\"><span style=\"color: #7fbfbf; text-decoration-color: #7fbfbf\">[14:23:49] </span><span style=\"color: #000080; text-decoration-color: #000080\">INFO    </span> PyTorch version <span style=\"color: #008080; text-decoration-color: #008080; font-weight: bold\">2.2</span>.<span style=\"color: #008080; text-decoration-color: #008080; font-weight: bold\">1</span> available.                                                   <a href=\"file:///opt/conda/envs/jmp-peft/lib/python3.11/site-packages/datasets/config.py\" target=\"_blank\"><span style=\"color: #7f7f7f; text-decoration-color: #7f7f7f\">config.py</span></a><span style=\"color: #7f7f7f; text-decoration-color: #7f7f7f\">:</span><a href=\"file:///opt/conda/envs/jmp-peft/lib/python3.11/site-packages/datasets/config.py#58\" target=\"_blank\"><span style=\"color: #7f7f7f; text-decoration-color: #7f7f7f\">58</span></a>\n",
       "</pre>\n"
      ],
      "text/plain": [
       "\u001b[2;36m[14:23:49]\u001b[0m\u001b[2;36m \u001b[0m\u001b[34mINFO    \u001b[0m PyTorch version \u001b[1;36m2.2\u001b[0m.\u001b[1;36m1\u001b[0m available.                                                   \u001b]8;id=344310;file:///opt/conda/envs/jmp-peft/lib/python3.11/site-packages/datasets/config.py\u001b\\\u001b[2mconfig.py\u001b[0m\u001b]8;;\u001b\\\u001b[2m:\u001b[0m\u001b]8;id=890985;file:///opt/conda/envs/jmp-peft/lib/python3.11/site-packages/datasets/config.py#58\u001b\\\u001b[2m58\u001b[0m\u001b]8;;\u001b\\\n"
      ]
     },
     "metadata": {},
     "output_type": "display_data"
    },
    {
     "name": "stderr",
     "output_type": "stream",
     "text": [
      "/opt/conda/envs/jmp-peft/lib/python3.11/site-packages/lightning/pytorch/utilities/migration/utils.py:56: The loaded checkpoint was produced with Lightning v2.3.1, which is newer than your current Lightning version: v2.2.1\n"
     ]
    },
    {
     "data": {
      "text/html": [
       "<pre style=\"white-space:pre;overflow-x:auto;line-height:normal;font-family:Menlo,'DejaVu Sans Mono',consolas,'Courier New',monospace\"><span style=\"color: #7fbfbf; text-decoration-color: #7fbfbf\">[14:23:51] </span><span style=\"color: #800000; text-decoration-color: #800000\">WARNING </span> NSHRUNNER_SESSION_DIR is not set. Skipping symlink creation.                      <a href=\"file:///opt/conda/envs/jmp-peft/lib/python3.11/site-packages/nshtrainer/model/config.py\" target=\"_blank\"><span style=\"color: #7f7f7f; text-decoration-color: #7f7f7f\">config.py</span></a><span style=\"color: #7f7f7f; text-decoration-color: #7f7f7f\">:</span><a href=\"file:///opt/conda/envs/jmp-peft/lib/python3.11/site-packages/nshtrainer/model/config.py#621\" target=\"_blank\"><span style=\"color: #7f7f7f; text-decoration-color: #7f7f7f\">621</span></a>\n",
       "</pre>\n"
      ],
      "text/plain": [
       "\u001b[2;36m[14:23:51]\u001b[0m\u001b[2;36m \u001b[0m\u001b[31mWARNING \u001b[0m NSHRUNNER_SESSION_DIR is not set. Skipping symlink creation.                      \u001b]8;id=954576;file:///opt/conda/envs/jmp-peft/lib/python3.11/site-packages/nshtrainer/model/config.py\u001b\\\u001b[2mconfig.py\u001b[0m\u001b]8;;\u001b\\\u001b[2m:\u001b[0m\u001b]8;id=127672;file:///opt/conda/envs/jmp-peft/lib/python3.11/site-packages/nshtrainer/model/config.py#621\u001b\\\u001b[2m621\u001b[0m\u001b]8;;\u001b\\\n"
      ]
     },
     "metadata": {},
     "output_type": "display_data"
    },
    {
     "data": {
      "text/html": [
       "<pre style=\"white-space:pre;overflow-x:auto;line-height:normal;font-family:Menlo,'DejaVu Sans Mono',consolas,'Courier New',monospace\"><span style=\"color: #7fbfbf; text-decoration-color: #7fbfbf\">           </span><span style=\"color: #800000; text-decoration-color: #800000\">WARNING </span> NSHRUNNER_SESSION_DIR is not set. Skipping symlink creation.                      <a href=\"file:///opt/conda/envs/jmp-peft/lib/python3.11/site-packages/nshtrainer/model/config.py\" target=\"_blank\"><span style=\"color: #7f7f7f; text-decoration-color: #7f7f7f\">config.py</span></a><span style=\"color: #7f7f7f; text-decoration-color: #7f7f7f\">:</span><a href=\"file:///opt/conda/envs/jmp-peft/lib/python3.11/site-packages/nshtrainer/model/config.py#621\" target=\"_blank\"><span style=\"color: #7f7f7f; text-decoration-color: #7f7f7f\">621</span></a>\n",
       "</pre>\n"
      ],
      "text/plain": [
       "\u001b[2;36m          \u001b[0m\u001b[2;36m \u001b[0m\u001b[31mWARNING \u001b[0m NSHRUNNER_SESSION_DIR is not set. Skipping symlink creation.                      \u001b]8;id=954065;file:///opt/conda/envs/jmp-peft/lib/python3.11/site-packages/nshtrainer/model/config.py\u001b\\\u001b[2mconfig.py\u001b[0m\u001b]8;;\u001b\\\u001b[2m:\u001b[0m\u001b]8;id=376611;file:///opt/conda/envs/jmp-peft/lib/python3.11/site-packages/nshtrainer/model/config.py#621\u001b\\\u001b[2m621\u001b[0m\u001b]8;;\u001b\\\n"
      ]
     },
     "metadata": {},
     "output_type": "display_data"
    },
    {
     "data": {
      "text/html": [
       "<pre style=\"white-space:pre;overflow-x:auto;line-height:normal;font-family:Menlo,'DejaVu Sans Mono',consolas,'Courier New',monospace\"><span style=\"color: #7fbfbf; text-decoration-color: #7fbfbf\">           </span><span style=\"color: #800000; text-decoration-color: #800000\">WARNING </span> NSHRUNNER_SESSION_DIR is not set. Skipping symlink creation.                      <a href=\"file:///opt/conda/envs/jmp-peft/lib/python3.11/site-packages/nshtrainer/model/config.py\" target=\"_blank\"><span style=\"color: #7f7f7f; text-decoration-color: #7f7f7f\">config.py</span></a><span style=\"color: #7f7f7f; text-decoration-color: #7f7f7f\">:</span><a href=\"file:///opt/conda/envs/jmp-peft/lib/python3.11/site-packages/nshtrainer/model/config.py#621\" target=\"_blank\"><span style=\"color: #7f7f7f; text-decoration-color: #7f7f7f\">621</span></a>\n",
       "</pre>\n"
      ],
      "text/plain": [
       "\u001b[2;36m          \u001b[0m\u001b[2;36m \u001b[0m\u001b[31mWARNING \u001b[0m NSHRUNNER_SESSION_DIR is not set. Skipping symlink creation.                      \u001b]8;id=244158;file:///opt/conda/envs/jmp-peft/lib/python3.11/site-packages/nshtrainer/model/config.py\u001b\\\u001b[2mconfig.py\u001b[0m\u001b]8;;\u001b\\\u001b[2m:\u001b[0m\u001b]8;id=390991;file:///opt/conda/envs/jmp-peft/lib/python3.11/site-packages/nshtrainer/model/config.py#621\u001b\\\u001b[2m621\u001b[0m\u001b]8;;\u001b\\\n"
      ]
     },
     "metadata": {},
     "output_type": "display_data"
    },
    {
     "data": {
      "text/html": [
       "<pre style=\"white-space:pre;overflow-x:auto;line-height:normal;font-family:Menlo,'DejaVu Sans Mono',consolas,'Courier New',monospace\"><span style=\"color: #7fbfbf; text-decoration-color: #7fbfbf\">           </span><span style=\"color: #800000; text-decoration-color: #800000\">WARNING </span> NSHRUNNER_SESSION_DIR is not set. Skipping symlink creation.                      <a href=\"file:///opt/conda/envs/jmp-peft/lib/python3.11/site-packages/nshtrainer/model/config.py\" target=\"_blank\"><span style=\"color: #7f7f7f; text-decoration-color: #7f7f7f\">config.py</span></a><span style=\"color: #7f7f7f; text-decoration-color: #7f7f7f\">:</span><a href=\"file:///opt/conda/envs/jmp-peft/lib/python3.11/site-packages/nshtrainer/model/config.py#621\" target=\"_blank\"><span style=\"color: #7f7f7f; text-decoration-color: #7f7f7f\">621</span></a>\n",
       "</pre>\n"
      ],
      "text/plain": [
       "\u001b[2;36m          \u001b[0m\u001b[2;36m \u001b[0m\u001b[31mWARNING \u001b[0m NSHRUNNER_SESSION_DIR is not set. Skipping symlink creation.                      \u001b]8;id=816328;file:///opt/conda/envs/jmp-peft/lib/python3.11/site-packages/nshtrainer/model/config.py\u001b\\\u001b[2mconfig.py\u001b[0m\u001b]8;;\u001b\\\u001b[2m:\u001b[0m\u001b]8;id=429953;file:///opt/conda/envs/jmp-peft/lib/python3.11/site-packages/nshtrainer/model/config.py#621\u001b\\\u001b[2m621\u001b[0m\u001b]8;;\u001b\\\n"
      ]
     },
     "metadata": {},
     "output_type": "display_data"
    },
    {
     "data": {
      "text/html": [
       "<pre style=\"white-space:pre;overflow-x:auto;line-height:normal;font-family:Menlo,'DejaVu Sans Mono',consolas,'Courier New',monospace\"><span style=\"color: #7fbfbf; text-decoration-color: #7fbfbf\">           </span><span style=\"background-color: #800000; font-weight: bold\">CRITICAL</span> Using regular backbone                                                              <a href=\"file:///mnt/datasets/experiment-data/jmp-peft/nshtrainer/rog61gn4/nshrunner/snapshots/20240730143647--b58fd01f-2780-4203-b600-70978a2ceb5c/jmppeft/tasks/finetune/base.py\" target=\"_blank\"><span style=\"color: #7f7f7f; text-decoration-color: #7f7f7f\">base.py</span></a><span style=\"color: #7f7f7f; text-decoration-color: #7f7f7f\">:</span><a href=\"file:///mnt/datasets/experiment-data/jmp-peft/nshtrainer/rog61gn4/nshrunner/snapshots/20240730143647--b58fd01f-2780-4203-b600-70978a2ceb5c/jmppeft/tasks/finetune/base.py#611\" target=\"_blank\"><span style=\"color: #7f7f7f; text-decoration-color: #7f7f7f\">611</span></a>\n",
       "</pre>\n"
      ],
      "text/plain": [
       "\u001b[2;36m          \u001b[0m\u001b[2;36m \u001b[0m\u001b[1;7;31mCRITICAL\u001b[0m Using regular backbone                                                              \u001b]8;id=283667;file:///mnt/datasets/experiment-data/jmp-peft/nshtrainer/rog61gn4/nshrunner/snapshots/20240730143647--b58fd01f-2780-4203-b600-70978a2ceb5c/jmppeft/tasks/finetune/base.py\u001b\\\u001b[2mbase.py\u001b[0m\u001b]8;;\u001b\\\u001b[2m:\u001b[0m\u001b]8;id=861978;file:///mnt/datasets/experiment-data/jmp-peft/nshtrainer/rog61gn4/nshrunner/snapshots/20240730143647--b58fd01f-2780-4203-b600-70978a2ceb5c/jmppeft/tasks/finetune/base.py#611\u001b\\\u001b[2m611\u001b[0m\u001b]8;;\u001b\\\n"
      ]
     },
     "metadata": {},
     "output_type": "display_data"
    },
    {
     "name": "stdout",
     "output_type": "stream",
     "text": [
      "Unrecognized arguments:  dict_keys(['name', 'learnable_rbf', 'learnable_rbf_stds', 'unique_basis_per_layer', 'dropout', 'edge_dropout', 'ln_per_layer', 'scale_factor_to_ln'])\n"
     ]
    },
    {
     "data": {
      "text/html": [
       "<pre style=\"white-space:pre;overflow-x:auto;line-height:normal;font-family:Menlo,'DejaVu Sans Mono',consolas,'Courier New',monospace\"><span style=\"color: #7fbfbf; text-decoration-color: #7fbfbf\">           </span><span style=\"color: #000080; text-decoration-color: #000080\">INFO    </span> <span style=\"font-weight: bold\">[</span>RadialBasis<span style=\"font-weight: bold\">]</span> Using absolute cutoff of <span style=\"color: #008080; text-decoration-color: #008080; font-weight: bold\">12.0</span> Angstroms.       <a href=\"file:///mnt/datasets/experiment-data/jmp-peft/nshtrainer/rog61gn4/nshrunner/snapshots/20240730143647--b58fd01f-2780-4203-b600-70978a2ceb5c/jmppeft/models/gemnet/layers/radial_basis_dynamic_cutoff.py\" target=\"_blank\"><span style=\"color: #7f7f7f; text-decoration-color: #7f7f7f\">radial_basis_dynamic_cutoff.py</span></a><span style=\"color: #7f7f7f; text-decoration-color: #7f7f7f\">:</span><a href=\"file:///mnt/datasets/experiment-data/jmp-peft/nshtrainer/rog61gn4/nshrunner/snapshots/20240730143647--b58fd01f-2780-4203-b600-70978a2ceb5c/jmppeft/models/gemnet/layers/radial_basis_dynamic_cutoff.py#213\" target=\"_blank\"><span style=\"color: #7f7f7f; text-decoration-color: #7f7f7f\">213</span></a>\n",
       "</pre>\n"
      ],
      "text/plain": [
       "\u001b[2;36m          \u001b[0m\u001b[2;36m \u001b[0m\u001b[34mINFO    \u001b[0m \u001b[1m[\u001b[0mRadialBasis\u001b[1m]\u001b[0m Using absolute cutoff of \u001b[1;36m12.0\u001b[0m Angstroms.       \u001b]8;id=86379;file:///mnt/datasets/experiment-data/jmp-peft/nshtrainer/rog61gn4/nshrunner/snapshots/20240730143647--b58fd01f-2780-4203-b600-70978a2ceb5c/jmppeft/models/gemnet/layers/radial_basis_dynamic_cutoff.py\u001b\\\u001b[2mradial_basis_dynamic_cutoff.py\u001b[0m\u001b]8;;\u001b\\\u001b[2m:\u001b[0m\u001b]8;id=86201;file:///mnt/datasets/experiment-data/jmp-peft/nshtrainer/rog61gn4/nshrunner/snapshots/20240730143647--b58fd01f-2780-4203-b600-70978a2ceb5c/jmppeft/models/gemnet/layers/radial_basis_dynamic_cutoff.py#213\u001b\\\u001b[2m213\u001b[0m\u001b]8;;\u001b\\\n"
      ]
     },
     "metadata": {},
     "output_type": "display_data"
    },
    {
     "data": {
      "text/html": [
       "<pre style=\"white-space:pre;overflow-x:auto;line-height:normal;font-family:Menlo,'DejaVu Sans Mono',consolas,'Courier New',monospace\"><span style=\"color: #7fbfbf; text-decoration-color: #7fbfbf\">           </span><span style=\"color: #000080; text-decoration-color: #000080\">INFO    </span> <span style=\"font-weight: bold\">[</span>RadialBasis<span style=\"font-weight: bold\">]</span> Using absolute cutoff of <span style=\"color: #008080; text-decoration-color: #008080; font-weight: bold\">12.0</span> Angstroms.       <a href=\"file:///mnt/datasets/experiment-data/jmp-peft/nshtrainer/rog61gn4/nshrunner/snapshots/20240730143647--b58fd01f-2780-4203-b600-70978a2ceb5c/jmppeft/models/gemnet/layers/radial_basis_dynamic_cutoff.py\" target=\"_blank\"><span style=\"color: #7f7f7f; text-decoration-color: #7f7f7f\">radial_basis_dynamic_cutoff.py</span></a><span style=\"color: #7f7f7f; text-decoration-color: #7f7f7f\">:</span><a href=\"file:///mnt/datasets/experiment-data/jmp-peft/nshtrainer/rog61gn4/nshrunner/snapshots/20240730143647--b58fd01f-2780-4203-b600-70978a2ceb5c/jmppeft/models/gemnet/layers/radial_basis_dynamic_cutoff.py#213\" target=\"_blank\"><span style=\"color: #7f7f7f; text-decoration-color: #7f7f7f\">213</span></a>\n",
       "</pre>\n"
      ],
      "text/plain": [
       "\u001b[2;36m          \u001b[0m\u001b[2;36m \u001b[0m\u001b[34mINFO    \u001b[0m \u001b[1m[\u001b[0mRadialBasis\u001b[1m]\u001b[0m Using absolute cutoff of \u001b[1;36m12.0\u001b[0m Angstroms.       \u001b]8;id=186895;file:///mnt/datasets/experiment-data/jmp-peft/nshtrainer/rog61gn4/nshrunner/snapshots/20240730143647--b58fd01f-2780-4203-b600-70978a2ceb5c/jmppeft/models/gemnet/layers/radial_basis_dynamic_cutoff.py\u001b\\\u001b[2mradial_basis_dynamic_cutoff.py\u001b[0m\u001b]8;;\u001b\\\u001b[2m:\u001b[0m\u001b]8;id=915069;file:///mnt/datasets/experiment-data/jmp-peft/nshtrainer/rog61gn4/nshrunner/snapshots/20240730143647--b58fd01f-2780-4203-b600-70978a2ceb5c/jmppeft/models/gemnet/layers/radial_basis_dynamic_cutoff.py#213\u001b\\\u001b[2m213\u001b[0m\u001b]8;;\u001b\\\n"
      ]
     },
     "metadata": {},
     "output_type": "display_data"
    },
    {
     "data": {
      "text/html": [
       "<pre style=\"white-space:pre;overflow-x:auto;line-height:normal;font-family:Menlo,'DejaVu Sans Mono',consolas,'Courier New',monospace\"><span style=\"color: #7fbfbf; text-decoration-color: #7fbfbf\">           </span><span style=\"color: #000080; text-decoration-color: #000080\">INFO    </span> <span style=\"font-weight: bold\">[</span>RadialBasis<span style=\"font-weight: bold\">]</span> Using absolute cutoff of <span style=\"color: #008080; text-decoration-color: #008080; font-weight: bold\">12.0</span> Angstroms.       <a href=\"file:///mnt/datasets/experiment-data/jmp-peft/nshtrainer/rog61gn4/nshrunner/snapshots/20240730143647--b58fd01f-2780-4203-b600-70978a2ceb5c/jmppeft/models/gemnet/layers/radial_basis_dynamic_cutoff.py\" target=\"_blank\"><span style=\"color: #7f7f7f; text-decoration-color: #7f7f7f\">radial_basis_dynamic_cutoff.py</span></a><span style=\"color: #7f7f7f; text-decoration-color: #7f7f7f\">:</span><a href=\"file:///mnt/datasets/experiment-data/jmp-peft/nshtrainer/rog61gn4/nshrunner/snapshots/20240730143647--b58fd01f-2780-4203-b600-70978a2ceb5c/jmppeft/models/gemnet/layers/radial_basis_dynamic_cutoff.py#213\" target=\"_blank\"><span style=\"color: #7f7f7f; text-decoration-color: #7f7f7f\">213</span></a>\n",
       "</pre>\n"
      ],
      "text/plain": [
       "\u001b[2;36m          \u001b[0m\u001b[2;36m \u001b[0m\u001b[34mINFO    \u001b[0m \u001b[1m[\u001b[0mRadialBasis\u001b[1m]\u001b[0m Using absolute cutoff of \u001b[1;36m12.0\u001b[0m Angstroms.       \u001b]8;id=883718;file:///mnt/datasets/experiment-data/jmp-peft/nshtrainer/rog61gn4/nshrunner/snapshots/20240730143647--b58fd01f-2780-4203-b600-70978a2ceb5c/jmppeft/models/gemnet/layers/radial_basis_dynamic_cutoff.py\u001b\\\u001b[2mradial_basis_dynamic_cutoff.py\u001b[0m\u001b]8;;\u001b\\\u001b[2m:\u001b[0m\u001b]8;id=158727;file:///mnt/datasets/experiment-data/jmp-peft/nshtrainer/rog61gn4/nshrunner/snapshots/20240730143647--b58fd01f-2780-4203-b600-70978a2ceb5c/jmppeft/models/gemnet/layers/radial_basis_dynamic_cutoff.py#213\u001b\\\u001b[2m213\u001b[0m\u001b]8;;\u001b\\\n"
      ]
     },
     "metadata": {},
     "output_type": "display_data"
    },
    {
     "data": {
      "text/html": [
       "<pre style=\"white-space:pre;overflow-x:auto;line-height:normal;font-family:Menlo,'DejaVu Sans Mono',consolas,'Courier New',monospace\"><span style=\"color: #7fbfbf; text-decoration-color: #7fbfbf\">[14:23:52] </span><span style=\"color: #000080; text-decoration-color: #000080\">INFO    </span> <span style=\"font-weight: bold\">[</span>RadialBasis<span style=\"font-weight: bold\">]</span> Using absolute cutoff of <span style=\"color: #008080; text-decoration-color: #008080; font-weight: bold\">12.0</span> Angstroms.       <a href=\"file:///mnt/datasets/experiment-data/jmp-peft/nshtrainer/rog61gn4/nshrunner/snapshots/20240730143647--b58fd01f-2780-4203-b600-70978a2ceb5c/jmppeft/models/gemnet/layers/radial_basis_dynamic_cutoff.py\" target=\"_blank\"><span style=\"color: #7f7f7f; text-decoration-color: #7f7f7f\">radial_basis_dynamic_cutoff.py</span></a><span style=\"color: #7f7f7f; text-decoration-color: #7f7f7f\">:</span><a href=\"file:///mnt/datasets/experiment-data/jmp-peft/nshtrainer/rog61gn4/nshrunner/snapshots/20240730143647--b58fd01f-2780-4203-b600-70978a2ceb5c/jmppeft/models/gemnet/layers/radial_basis_dynamic_cutoff.py#213\" target=\"_blank\"><span style=\"color: #7f7f7f; text-decoration-color: #7f7f7f\">213</span></a>\n",
       "</pre>\n"
      ],
      "text/plain": [
       "\u001b[2;36m[14:23:52]\u001b[0m\u001b[2;36m \u001b[0m\u001b[34mINFO    \u001b[0m \u001b[1m[\u001b[0mRadialBasis\u001b[1m]\u001b[0m Using absolute cutoff of \u001b[1;36m12.0\u001b[0m Angstroms.       \u001b]8;id=415251;file:///mnt/datasets/experiment-data/jmp-peft/nshtrainer/rog61gn4/nshrunner/snapshots/20240730143647--b58fd01f-2780-4203-b600-70978a2ceb5c/jmppeft/models/gemnet/layers/radial_basis_dynamic_cutoff.py\u001b\\\u001b[2mradial_basis_dynamic_cutoff.py\u001b[0m\u001b]8;;\u001b\\\u001b[2m:\u001b[0m\u001b]8;id=823796;file:///mnt/datasets/experiment-data/jmp-peft/nshtrainer/rog61gn4/nshrunner/snapshots/20240730143647--b58fd01f-2780-4203-b600-70978a2ceb5c/jmppeft/models/gemnet/layers/radial_basis_dynamic_cutoff.py#213\u001b\\\u001b[2m213\u001b[0m\u001b]8;;\u001b\\\n"
      ]
     },
     "metadata": {},
     "output_type": "display_data"
    },
    {
     "data": {
      "text/html": [
       "<pre style=\"white-space:pre;overflow-x:auto;line-height:normal;font-family:Menlo,'DejaVu Sans Mono',consolas,'Courier New',monospace\"><span style=\"color: #7fbfbf; text-decoration-color: #7fbfbf\">           </span><span style=\"color: #000080; text-decoration-color: #000080\">INFO    </span> <span style=\"font-weight: bold\">[</span>RadialBasis<span style=\"font-weight: bold\">]</span> Using absolute cutoff of <span style=\"color: #008080; text-decoration-color: #008080; font-weight: bold\">12.0</span> Angstroms.       <a href=\"file:///mnt/datasets/experiment-data/jmp-peft/nshtrainer/rog61gn4/nshrunner/snapshots/20240730143647--b58fd01f-2780-4203-b600-70978a2ceb5c/jmppeft/models/gemnet/layers/radial_basis_dynamic_cutoff.py\" target=\"_blank\"><span style=\"color: #7f7f7f; text-decoration-color: #7f7f7f\">radial_basis_dynamic_cutoff.py</span></a><span style=\"color: #7f7f7f; text-decoration-color: #7f7f7f\">:</span><a href=\"file:///mnt/datasets/experiment-data/jmp-peft/nshtrainer/rog61gn4/nshrunner/snapshots/20240730143647--b58fd01f-2780-4203-b600-70978a2ceb5c/jmppeft/models/gemnet/layers/radial_basis_dynamic_cutoff.py#213\" target=\"_blank\"><span style=\"color: #7f7f7f; text-decoration-color: #7f7f7f\">213</span></a>\n",
       "</pre>\n"
      ],
      "text/plain": [
       "\u001b[2;36m          \u001b[0m\u001b[2;36m \u001b[0m\u001b[34mINFO    \u001b[0m \u001b[1m[\u001b[0mRadialBasis\u001b[1m]\u001b[0m Using absolute cutoff of \u001b[1;36m12.0\u001b[0m Angstroms.       \u001b]8;id=306461;file:///mnt/datasets/experiment-data/jmp-peft/nshtrainer/rog61gn4/nshrunner/snapshots/20240730143647--b58fd01f-2780-4203-b600-70978a2ceb5c/jmppeft/models/gemnet/layers/radial_basis_dynamic_cutoff.py\u001b\\\u001b[2mradial_basis_dynamic_cutoff.py\u001b[0m\u001b]8;;\u001b\\\u001b[2m:\u001b[0m\u001b]8;id=502377;file:///mnt/datasets/experiment-data/jmp-peft/nshtrainer/rog61gn4/nshrunner/snapshots/20240730143647--b58fd01f-2780-4203-b600-70978a2ceb5c/jmppeft/models/gemnet/layers/radial_basis_dynamic_cutoff.py#213\u001b\\\u001b[2m213\u001b[0m\u001b]8;;\u001b\\\n"
      ]
     },
     "metadata": {},
     "output_type": "display_data"
    },
    {
     "data": {
      "text/html": [
       "<pre style=\"white-space:pre;overflow-x:auto;line-height:normal;font-family:Menlo,'DejaVu Sans Mono',consolas,'Courier New',monospace\"><span style=\"color: #7fbfbf; text-decoration-color: #7fbfbf\">           </span><span style=\"color: #000080; text-decoration-color: #000080\">INFO    </span> <span style=\"font-weight: bold\">[</span>RadialBasis<span style=\"font-weight: bold\">]</span> Using absolute cutoff of <span style=\"color: #008080; text-decoration-color: #008080; font-weight: bold\">12.0</span> Angstroms.       <a href=\"file:///mnt/datasets/experiment-data/jmp-peft/nshtrainer/rog61gn4/nshrunner/snapshots/20240730143647--b58fd01f-2780-4203-b600-70978a2ceb5c/jmppeft/models/gemnet/layers/radial_basis_dynamic_cutoff.py\" target=\"_blank\"><span style=\"color: #7f7f7f; text-decoration-color: #7f7f7f\">radial_basis_dynamic_cutoff.py</span></a><span style=\"color: #7f7f7f; text-decoration-color: #7f7f7f\">:</span><a href=\"file:///mnt/datasets/experiment-data/jmp-peft/nshtrainer/rog61gn4/nshrunner/snapshots/20240730143647--b58fd01f-2780-4203-b600-70978a2ceb5c/jmppeft/models/gemnet/layers/radial_basis_dynamic_cutoff.py#213\" target=\"_blank\"><span style=\"color: #7f7f7f; text-decoration-color: #7f7f7f\">213</span></a>\n",
       "</pre>\n"
      ],
      "text/plain": [
       "\u001b[2;36m          \u001b[0m\u001b[2;36m \u001b[0m\u001b[34mINFO    \u001b[0m \u001b[1m[\u001b[0mRadialBasis\u001b[1m]\u001b[0m Using absolute cutoff of \u001b[1;36m12.0\u001b[0m Angstroms.       \u001b]8;id=441588;file:///mnt/datasets/experiment-data/jmp-peft/nshtrainer/rog61gn4/nshrunner/snapshots/20240730143647--b58fd01f-2780-4203-b600-70978a2ceb5c/jmppeft/models/gemnet/layers/radial_basis_dynamic_cutoff.py\u001b\\\u001b[2mradial_basis_dynamic_cutoff.py\u001b[0m\u001b]8;;\u001b\\\u001b[2m:\u001b[0m\u001b]8;id=222284;file:///mnt/datasets/experiment-data/jmp-peft/nshtrainer/rog61gn4/nshrunner/snapshots/20240730143647--b58fd01f-2780-4203-b600-70978a2ceb5c/jmppeft/models/gemnet/layers/radial_basis_dynamic_cutoff.py#213\u001b\\\u001b[2m213\u001b[0m\u001b]8;;\u001b\\\n"
      ]
     },
     "metadata": {},
     "output_type": "display_data"
    },
    {
     "data": {
      "text/html": [
       "<pre style=\"white-space:pre;overflow-x:auto;line-height:normal;font-family:Menlo,'DejaVu Sans Mono',consolas,'Courier New',monospace\"><span style=\"color: #7fbfbf; text-decoration-color: #7fbfbf\">           </span><span style=\"color: #000080; text-decoration-color: #000080\">INFO    </span> <span style=\"font-weight: bold\">[</span>RadialBasis<span style=\"font-weight: bold\">]</span> Using absolute cutoff of <span style=\"color: #008080; text-decoration-color: #008080; font-weight: bold\">12.0</span> Angstroms.       <a href=\"file:///mnt/datasets/experiment-data/jmp-peft/nshtrainer/rog61gn4/nshrunner/snapshots/20240730143647--b58fd01f-2780-4203-b600-70978a2ceb5c/jmppeft/models/gemnet/layers/radial_basis_dynamic_cutoff.py\" target=\"_blank\"><span style=\"color: #7f7f7f; text-decoration-color: #7f7f7f\">radial_basis_dynamic_cutoff.py</span></a><span style=\"color: #7f7f7f; text-decoration-color: #7f7f7f\">:</span><a href=\"file:///mnt/datasets/experiment-data/jmp-peft/nshtrainer/rog61gn4/nshrunner/snapshots/20240730143647--b58fd01f-2780-4203-b600-70978a2ceb5c/jmppeft/models/gemnet/layers/radial_basis_dynamic_cutoff.py#213\" target=\"_blank\"><span style=\"color: #7f7f7f; text-decoration-color: #7f7f7f\">213</span></a>\n",
       "</pre>\n"
      ],
      "text/plain": [
       "\u001b[2;36m          \u001b[0m\u001b[2;36m \u001b[0m\u001b[34mINFO    \u001b[0m \u001b[1m[\u001b[0mRadialBasis\u001b[1m]\u001b[0m Using absolute cutoff of \u001b[1;36m12.0\u001b[0m Angstroms.       \u001b]8;id=419971;file:///mnt/datasets/experiment-data/jmp-peft/nshtrainer/rog61gn4/nshrunner/snapshots/20240730143647--b58fd01f-2780-4203-b600-70978a2ceb5c/jmppeft/models/gemnet/layers/radial_basis_dynamic_cutoff.py\u001b\\\u001b[2mradial_basis_dynamic_cutoff.py\u001b[0m\u001b]8;;\u001b\\\u001b[2m:\u001b[0m\u001b]8;id=883173;file:///mnt/datasets/experiment-data/jmp-peft/nshtrainer/rog61gn4/nshrunner/snapshots/20240730143647--b58fd01f-2780-4203-b600-70978a2ceb5c/jmppeft/models/gemnet/layers/radial_basis_dynamic_cutoff.py#213\u001b\\\u001b[2m213\u001b[0m\u001b]8;;\u001b\\\n"
      ]
     },
     "metadata": {},
     "output_type": "display_data"
    },
    {
     "data": {
      "text/html": [
       "<pre style=\"white-space:pre;overflow-x:auto;line-height:normal;font-family:Menlo,'DejaVu Sans Mono',consolas,'Courier New',monospace\"><span style=\"color: #7fbfbf; text-decoration-color: #7fbfbf\">[14:23:53] </span><span style=\"background-color: #800000; font-weight: bold\">CRITICAL</span> Constructed backbone with <span style=\"color: #808000; text-decoration-color: #808000\">dlora</span>=<span style=\"color: #800080; text-decoration-color: #800080; font-style: italic\">None</span>                                                <a href=\"file:///mnt/datasets/experiment-data/jmp-peft/nshtrainer/rog61gn4/nshrunner/snapshots/20240730143647--b58fd01f-2780-4203-b600-70978a2ceb5c/jmppeft/tasks/finetune/base.py\" target=\"_blank\"><span style=\"color: #7f7f7f; text-decoration-color: #7f7f7f\">base.py</span></a><span style=\"color: #7f7f7f; text-decoration-color: #7f7f7f\">:</span><a href=\"file:///mnt/datasets/experiment-data/jmp-peft/nshtrainer/rog61gn4/nshrunner/snapshots/20240730143647--b58fd01f-2780-4203-b600-70978a2ceb5c/jmppeft/tasks/finetune/base.py#622\" target=\"_blank\"><span style=\"color: #7f7f7f; text-decoration-color: #7f7f7f\">622</span></a>\n",
       "</pre>\n"
      ],
      "text/plain": [
       "\u001b[2;36m[14:23:53]\u001b[0m\u001b[2;36m \u001b[0m\u001b[1;7;31mCRITICAL\u001b[0m Constructed backbone with \u001b[33mdlora\u001b[0m=\u001b[3;35mNone\u001b[0m                                                \u001b]8;id=713288;file:///mnt/datasets/experiment-data/jmp-peft/nshtrainer/rog61gn4/nshrunner/snapshots/20240730143647--b58fd01f-2780-4203-b600-70978a2ceb5c/jmppeft/tasks/finetune/base.py\u001b\\\u001b[2mbase.py\u001b[0m\u001b]8;;\u001b\\\u001b[2m:\u001b[0m\u001b]8;id=481055;file:///mnt/datasets/experiment-data/jmp-peft/nshtrainer/rog61gn4/nshrunner/snapshots/20240730143647--b58fd01f-2780-4203-b600-70978a2ceb5c/jmppeft/tasks/finetune/base.py#622\u001b\\\u001b[2m622\u001b[0m\u001b]8;;\u001b\\\n"
      ]
     },
     "metadata": {},
     "output_type": "display_data"
    },
    {
     "data": {
      "text/html": [
       "<pre style=\"white-space:pre;overflow-x:auto;line-height:normal;font-family:Menlo,'DejaVu Sans Mono',consolas,'Courier New',monospace\"><span style=\"color: #7fbfbf; text-decoration-color: #7fbfbf\">           </span><span style=\"color: #000080; text-decoration-color: #000080\">INFO    </span> Registered <span style=\"color: #008080; text-decoration-color: #008080; font-weight: bold\">12</span> shared parameters                                         <a href=\"file:///opt/conda/envs/jmp-peft/lib/python3.11/site-packages/nshtrainer/model/modules/shared_parameters.py\" target=\"_blank\"><span style=\"color: #7f7f7f; text-decoration-color: #7f7f7f\">shared_parameters.py</span></a><span style=\"color: #7f7f7f; text-decoration-color: #7f7f7f\">:</span><a href=\"file:///opt/conda/envs/jmp-peft/lib/python3.11/site-packages/nshtrainer/model/modules/shared_parameters.py#72\" target=\"_blank\"><span style=\"color: #7f7f7f; text-decoration-color: #7f7f7f\">72</span></a>\n",
       "</pre>\n"
      ],
      "text/plain": [
       "\u001b[2;36m          \u001b[0m\u001b[2;36m \u001b[0m\u001b[34mINFO    \u001b[0m Registered \u001b[1;36m12\u001b[0m shared parameters                                         \u001b]8;id=425856;file:///opt/conda/envs/jmp-peft/lib/python3.11/site-packages/nshtrainer/model/modules/shared_parameters.py\u001b\\\u001b[2mshared_parameters.py\u001b[0m\u001b]8;;\u001b\\\u001b[2m:\u001b[0m\u001b]8;id=485303;file:///opt/conda/envs/jmp-peft/lib/python3.11/site-packages/nshtrainer/model/modules/shared_parameters.py#72\u001b\\\u001b[2m72\u001b[0m\u001b]8;;\u001b\\\n"
      ]
     },
     "metadata": {},
     "output_type": "display_data"
    },
    {
     "data": {
      "text/html": [
       "<pre style=\"white-space:pre;overflow-x:auto;line-height:normal;font-family:Menlo,'DejaVu Sans Mono',consolas,'Courier New',monospace\"><span style=\"color: #7fbfbf; text-decoration-color: #7fbfbf\">           </span><span style=\"color: #000080; text-decoration-color: #000080\">INFO    </span> List of ignored parameters: <span style=\"font-weight: bold\">[]</span>                                                      <a href=\"file:///mnt/datasets/experiment-data/jmp-peft/nshtrainer/rog61gn4/nshrunner/snapshots/20240730143647--b58fd01f-2780-4203-b600-70978a2ceb5c/jmppeft/tasks/finetune/base.py\" target=\"_blank\"><span style=\"color: #7f7f7f; text-decoration-color: #7f7f7f\">base.py</span></a><span style=\"color: #7f7f7f; text-decoration-color: #7f7f7f\">:</span><a href=\"file:///mnt/datasets/experiment-data/jmp-peft/nshtrainer/rog61gn4/nshrunner/snapshots/20240730143647--b58fd01f-2780-4203-b600-70978a2ceb5c/jmppeft/tasks/finetune/base.py#700\" target=\"_blank\"><span style=\"color: #7f7f7f; text-decoration-color: #7f7f7f\">700</span></a>\n",
       "</pre>\n"
      ],
      "text/plain": [
       "\u001b[2;36m          \u001b[0m\u001b[2;36m \u001b[0m\u001b[34mINFO    \u001b[0m List of ignored parameters: \u001b[1m[\u001b[0m\u001b[1m]\u001b[0m                                                      \u001b]8;id=782382;file:///mnt/datasets/experiment-data/jmp-peft/nshtrainer/rog61gn4/nshrunner/snapshots/20240730143647--b58fd01f-2780-4203-b600-70978a2ceb5c/jmppeft/tasks/finetune/base.py\u001b\\\u001b[2mbase.py\u001b[0m\u001b]8;;\u001b\\\u001b[2m:\u001b[0m\u001b]8;id=980894;file:///mnt/datasets/experiment-data/jmp-peft/nshtrainer/rog61gn4/nshrunner/snapshots/20240730143647--b58fd01f-2780-4203-b600-70978a2ceb5c/jmppeft/tasks/finetune/base.py#700\u001b\\\u001b[2m700\u001b[0m\u001b]8;;\u001b\\\n"
      ]
     },
     "metadata": {},
     "output_type": "display_data"
    },
    {
     "data": {
      "text/html": [
       "<pre style=\"white-space:pre;overflow-x:auto;line-height:normal;font-family:Menlo,'DejaVu Sans Mono',consolas,'Courier New',monospace\"><span style=\"color: #7fbfbf; text-decoration-color: #7fbfbf\">           </span><span style=\"background-color: #800000; font-weight: bold\">CRITICAL</span> Freezing <span style=\"color: #008080; text-decoration-color: #008080; font-weight: bold\">0</span> parameters <span style=\"font-weight: bold\">(</span><span style=\"color: #008080; text-decoration-color: #008080; font-weight: bold\">0.00</span>%<span style=\"font-weight: bold\">)</span> out of <span style=\"color: #008080; text-decoration-color: #008080; font-weight: bold\">43</span>,<span style=\"color: #008080; text-decoration-color: #008080; font-weight: bold\">146</span>,<span style=\"color: #008080; text-decoration-color: #008080; font-weight: bold\">824</span> total parameters <span style=\"font-weight: bold\">(</span><span style=\"color: #008080; text-decoration-color: #008080; font-weight: bold\">43</span>,<span style=\"color: #008080; text-decoration-color: #008080; font-weight: bold\">146</span>,<span style=\"color: #008080; text-decoration-color: #008080; font-weight: bold\">824</span>        <a href=\"file:///mnt/datasets/experiment-data/jmp-peft/nshtrainer/rog61gn4/nshrunner/snapshots/20240730143647--b58fd01f-2780-4203-b600-70978a2ceb5c/jmppeft/tasks/finetune/base.py\" target=\"_blank\"><span style=\"color: #7f7f7f; text-decoration-color: #7f7f7f\">base.py</span></a><span style=\"color: #7f7f7f; text-decoration-color: #7f7f7f\">:</span><a href=\"file:///mnt/datasets/experiment-data/jmp-peft/nshtrainer/rog61gn4/nshrunner/snapshots/20240730143647--b58fd01f-2780-4203-b600-70978a2ceb5c/jmppeft/tasks/finetune/base.py#929\" target=\"_blank\"><span style=\"color: #7f7f7f; text-decoration-color: #7f7f7f\">929</span></a>\n",
       "<span style=\"color: #7fbfbf; text-decoration-color: #7fbfbf\">           </span>         trainable<span style=\"font-weight: bold\">)</span>                                                                          <span style=\"color: #7f7f7f; text-decoration-color: #7f7f7f\">           </span>\n",
       "</pre>\n"
      ],
      "text/plain": [
       "\u001b[2;36m          \u001b[0m\u001b[2;36m \u001b[0m\u001b[1;7;31mCRITICAL\u001b[0m Freezing \u001b[1;36m0\u001b[0m parameters \u001b[1m(\u001b[0m\u001b[1;36m0.00\u001b[0m%\u001b[1m)\u001b[0m out of \u001b[1;36m43\u001b[0m,\u001b[1;36m146\u001b[0m,\u001b[1;36m824\u001b[0m total parameters \u001b[1m(\u001b[0m\u001b[1;36m43\u001b[0m,\u001b[1;36m146\u001b[0m,\u001b[1;36m824\u001b[0m        \u001b]8;id=470959;file:///mnt/datasets/experiment-data/jmp-peft/nshtrainer/rog61gn4/nshrunner/snapshots/20240730143647--b58fd01f-2780-4203-b600-70978a2ceb5c/jmppeft/tasks/finetune/base.py\u001b\\\u001b[2mbase.py\u001b[0m\u001b]8;;\u001b\\\u001b[2m:\u001b[0m\u001b]8;id=985877;file:///mnt/datasets/experiment-data/jmp-peft/nshtrainer/rog61gn4/nshrunner/snapshots/20240730143647--b58fd01f-2780-4203-b600-70978a2ceb5c/jmppeft/tasks/finetune/base.py#929\u001b\\\u001b[2m929\u001b[0m\u001b]8;;\u001b\\\n",
       "\u001b[2;36m           \u001b[0m         trainable\u001b[1m)\u001b[0m                                                                          \u001b[2m           \u001b[0m\n"
      ]
     },
     "metadata": {},
     "output_type": "display_data"
    },
    {
     "data": {
      "text/plain": [
       "MatbenchDiscoveryModel(config=MatbenchDiscoveryConfig(name=mptrj-jmps-bsz40-linrefenergy-lr8e-05-ln-direct-maceenergy-maceforce-rele-ec5.0-fc10.0-sc100.0-posaug_std0.01, project=jmp_mptrj), device=cuda:0)"
      ]
     },
     "execution_count": 4,
     "metadata": {},
     "output_type": "execute_result"
    }
   ],
   "source": [
    "from jmppeft.tasks.finetune import matbench_discovery as M\n",
    "\n",
    "ckpt_path = (run_dir / \"checkpoint\" / \"latest.ckpt\").resolve()\n",
    "model = M.MatbenchDiscoveryModel.load_checkpoint(ckpt_path, map_location=device)\n",
    "model = model.to(device, dtype=default_dtype)\n",
    "model"
   ]
  },
  {
   "cell_type": "code",
   "execution_count": 5,
   "metadata": {},
   "outputs": [
    {
     "name": "stdout",
     "output_type": "stream",
     "text": [
      "\n",
      "Loading 'wbm_summary' from cached file at '/root/.cache/matbench-discovery/1.0.0/wbm/2023-12-13-wbm-summary.csv.gz'\n"
     ]
    },
    {
     "data": {
      "text/plain": [
       "(<jmppeft.datasets.mpd_is2re.MatBenchDiscoveryIS2REDataset at 0x7f6cb1936e90>,\n",
       " 256963)"
      ]
     },
     "execution_count": 5,
     "metadata": {},
     "output_type": "execute_result"
    }
   ],
   "source": [
    "from jmppeft.tasks.finetune.base import FinetuneMatBenchDiscoveryIS2REDatasetConfig\n",
    "\n",
    "dataset_config = FinetuneMatBenchDiscoveryIS2REDatasetConfig(\n",
    "    # sample_n=DatasetSampleNConfig(sample_n=16, seed=42)\n",
    ")\n",
    "print(dataset_config)\n",
    "\n",
    "dataset_og = dataset_config.create_dataset()\n",
    "dataset_og, len(dataset_og)"
   ]
  },
  {
   "cell_type": "code",
   "execution_count": 6,
   "metadata": {},
   "outputs": [
    {
     "data": {
      "text/html": [
       "<pre style=\"white-space:pre;overflow-x:auto;line-height:normal;font-family:Menlo,'DejaVu Sans Mono',consolas,'Courier New',monospace\"><span style=\"font-weight: bold\">{</span>\n",
       "    <span style=\"color: #008000; text-decoration-color: #008000\">'pos'</span>: tensor<span style=\"font-weight: bold\">[</span><span style=\"color: #008080; text-decoration-color: #008080; font-weight: bold\">11</span>, <span style=\"color: #008080; text-decoration-color: #008080; font-weight: bold\">3</span><span style=\"font-weight: bold\">]</span> <span style=\"color: #808000; text-decoration-color: #808000\">n</span>=<span style=\"color: #008080; text-decoration-color: #008080; font-weight: bold\">33</span> x∈<span style=\"font-weight: bold\">[</span><span style=\"color: #008080; text-decoration-color: #008080; font-weight: bold\">-4.291</span>, <span style=\"color: #008080; text-decoration-color: #008080; font-weight: bold\">6.946</span><span style=\"font-weight: bold\">]</span> <span style=\"color: #808000; text-decoration-color: #808000\">μ</span>=<span style=\"color: #008080; text-decoration-color: #008080; font-weight: bold\">1.411</span> <span style=\"color: #808000; text-decoration-color: #808000\">σ</span>=<span style=\"color: #008080; text-decoration-color: #008080; font-weight: bold\">2.424</span>,\n",
       "    <span style=\"color: #008000; text-decoration-color: #008000\">'id'</span>: <span style=\"font-weight: bold\">[</span><span style=\"color: #008000; text-decoration-color: #008000\">'wbm-3-72883'</span><span style=\"font-weight: bold\">]</span>,\n",
       "    <span style=\"color: #008000; text-decoration-color: #008000\">'atomic_numbers'</span>: tensor<span style=\"font-weight: bold\">[</span><span style=\"color: #008080; text-decoration-color: #008080; font-weight: bold\">11</span><span style=\"font-weight: bold\">]</span> i64 x∈<span style=\"font-weight: bold\">[</span><span style=\"color: #008080; text-decoration-color: #008080; font-weight: bold\">50</span>, <span style=\"color: #008080; text-decoration-color: #008080; font-weight: bold\">79</span><span style=\"font-weight: bold\">]</span> <span style=\"color: #808000; text-decoration-color: #808000\">μ</span>=<span style=\"color: #008080; text-decoration-color: #008080; font-weight: bold\">62.000</span> <span style=\"color: #808000; text-decoration-color: #808000\">σ</span>=<span style=\"color: #008080; text-decoration-color: #008080; font-weight: bold\">14.269</span>,\n",
       "    <span style=\"color: #008000; text-decoration-color: #008000\">'cell'</span>: tensor<span style=\"font-weight: bold\">[</span><span style=\"color: #008080; text-decoration-color: #008080; font-weight: bold\">1</span>, <span style=\"color: #008080; text-decoration-color: #008080; font-weight: bold\">3</span>, <span style=\"color: #008080; text-decoration-color: #008080; font-weight: bold\">3</span><span style=\"font-weight: bold\">]</span> <span style=\"color: #808000; text-decoration-color: #808000\">n</span>=<span style=\"color: #008080; text-decoration-color: #008080; font-weight: bold\">9</span> x∈<span style=\"font-weight: bold\">[</span><span style=\"color: #008080; text-decoration-color: #008080; font-weight: bold\">-3.509</span>, <span style=\"color: #008080; text-decoration-color: #008080; font-weight: bold\">6.938</span><span style=\"font-weight: bold\">]</span> <span style=\"color: #808000; text-decoration-color: #808000\">μ</span>=<span style=\"color: #008080; text-decoration-color: #008080; font-weight: bold\">1.065</span> <span style=\"color: #808000; text-decoration-color: #808000\">σ</span>=<span style=\"color: #008080; text-decoration-color: #008080; font-weight: bold\">4.112</span> <span style=\"font-weight: bold\">[[[</span><span style=\"color: #008080; text-decoration-color: #008080; font-weight: bold\">6.029</span>, <span style=\"color: #008080; text-decoration-color: #008080; font-weight: bold\">0</span>., <span style=\"color: #008080; text-decoration-color: #008080; font-weight: bold\">-3.509</span><span style=\"font-weight: bold\">]</span>, <span style=\"font-weight: bold\">[</span><span style=\"color: #008080; text-decoration-color: #008080; font-weight: bold\">-2.037</span>, <span style=\"color: #008080; text-decoration-color: #008080; font-weight: bold\">5.674</span>, <span style=\"color: #008080; text-decoration-color: #008080; font-weight: bold\">-3.509</span><span style=\"font-weight: bold\">]</span>, \n",
       "<span style=\"font-weight: bold\">[</span><span style=\"color: #008080; text-decoration-color: #008080; font-weight: bold\">0</span>., <span style=\"color: #008080; text-decoration-color: #008080; font-weight: bold\">0</span>., <span style=\"color: #008080; text-decoration-color: #008080; font-weight: bold\">6.938</span><span style=\"font-weight: bold\">]]]</span>,\n",
       "    <span style=\"color: #008000; text-decoration-color: #008000\">'y_formation'</span>: tensor<span style=\"font-weight: bold\">[</span><span style=\"color: #008080; text-decoration-color: #008080; font-weight: bold\">1</span><span style=\"font-weight: bold\">]</span> <span style=\"font-weight: bold\">[</span><span style=\"color: #008080; text-decoration-color: #008080; font-weight: bold\">-0.236</span><span style=\"font-weight: bold\">]</span>,\n",
       "    <span style=\"color: #008000; text-decoration-color: #008000\">'y_formation_correction'</span>: tensor<span style=\"font-weight: bold\">[</span><span style=\"color: #008080; text-decoration-color: #008080; font-weight: bold\">1</span><span style=\"font-weight: bold\">]</span> <span style=\"font-weight: bold\">[</span><span style=\"color: #008080; text-decoration-color: #008080; font-weight: bold\">0</span>.<span style=\"font-weight: bold\">]</span>,\n",
       "    <span style=\"color: #008000; text-decoration-color: #008000\">'y_above_hull'</span>: tensor<span style=\"font-weight: bold\">[</span><span style=\"color: #008080; text-decoration-color: #008080; font-weight: bold\">1</span><span style=\"font-weight: bold\">]</span> <span style=\"font-weight: bold\">[</span><span style=\"color: #008080; text-decoration-color: #008080; font-weight: bold\">0.093</span><span style=\"font-weight: bold\">]</span>,\n",
       "    <span style=\"color: #008000; text-decoration-color: #008000\">'natoms'</span>: tensor<span style=\"font-weight: bold\">[</span><span style=\"color: #008080; text-decoration-color: #008080; font-weight: bold\">1</span><span style=\"font-weight: bold\">]</span> i64 <span style=\"font-weight: bold\">[</span><span style=\"color: #008080; text-decoration-color: #008080; font-weight: bold\">11</span><span style=\"font-weight: bold\">]</span>,\n",
       "    <span style=\"color: #008000; text-decoration-color: #008000\">'pos_noise'</span>: tensor<span style=\"font-weight: bold\">[</span><span style=\"color: #008080; text-decoration-color: #008080; font-weight: bold\">11</span>, <span style=\"color: #008080; text-decoration-color: #008080; font-weight: bold\">3</span><span style=\"font-weight: bold\">]</span> <span style=\"color: #808000; text-decoration-color: #808000\">n</span>=<span style=\"color: #008080; text-decoration-color: #008080; font-weight: bold\">33</span> x∈<span style=\"font-weight: bold\">[</span><span style=\"color: #008080; text-decoration-color: #008080; font-weight: bold\">-0.020</span>, <span style=\"color: #008080; text-decoration-color: #008080; font-weight: bold\">0.018</span><span style=\"font-weight: bold\">]</span> <span style=\"color: #808000; text-decoration-color: #808000\">μ</span>=<span style=\"color: #008080; text-decoration-color: #008080; font-weight: bold\">-0.001</span> <span style=\"color: #808000; text-decoration-color: #808000\">σ</span>=<span style=\"color: #008080; text-decoration-color: #008080; font-weight: bold\">0.008</span>,\n",
       "    <span style=\"color: #008000; text-decoration-color: #008000\">'tags'</span>: tensor<span style=\"font-weight: bold\">[</span><span style=\"color: #008080; text-decoration-color: #008080; font-weight: bold\">11</span><span style=\"font-weight: bold\">]</span> i64 x∈<span style=\"font-weight: bold\">[</span><span style=\"color: #008080; text-decoration-color: #008080; font-weight: bold\">2</span>, <span style=\"color: #008080; text-decoration-color: #008080; font-weight: bold\">2</span><span style=\"font-weight: bold\">]</span> <span style=\"color: #808000; text-decoration-color: #808000\">μ</span>=<span style=\"color: #008080; text-decoration-color: #008080; font-weight: bold\">2.000</span> <span style=\"color: #808000; text-decoration-color: #808000\">σ</span>=<span style=\"color: #008080; text-decoration-color: #008080; font-weight: bold\">0</span>.,\n",
       "    <span style=\"color: #008000; text-decoration-color: #008000\">'fixed'</span>: tensor<span style=\"font-weight: bold\">[</span><span style=\"color: #008080; text-decoration-color: #008080; font-weight: bold\">11</span><span style=\"font-weight: bold\">]</span> bool <span style=\"color: #7f7f7f; text-decoration-color: #7f7f7f\">all_zeros</span>,\n",
       "    <span style=\"color: #008000; text-decoration-color: #008000\">'batch'</span>: tensor<span style=\"font-weight: bold\">[</span><span style=\"color: #008080; text-decoration-color: #008080; font-weight: bold\">11</span><span style=\"font-weight: bold\">]</span> i64 <span style=\"color: #7f7f7f; text-decoration-color: #7f7f7f\">all_zeros</span>,\n",
       "    <span style=\"color: #008000; text-decoration-color: #008000\">'ptr'</span>: tensor<span style=\"font-weight: bold\">[</span><span style=\"color: #008080; text-decoration-color: #008080; font-weight: bold\">2</span><span style=\"font-weight: bold\">]</span> i64 <span style=\"color: #808000; text-decoration-color: #808000\">μ</span>=<span style=\"color: #008080; text-decoration-color: #008080; font-weight: bold\">5.500</span> <span style=\"color: #808000; text-decoration-color: #808000\">σ</span>=<span style=\"color: #008080; text-decoration-color: #008080; font-weight: bold\">7.778</span> <span style=\"font-weight: bold\">[</span><span style=\"color: #008080; text-decoration-color: #008080; font-weight: bold\">0</span>, <span style=\"color: #008080; text-decoration-color: #008080; font-weight: bold\">11</span><span style=\"font-weight: bold\">]</span>\n",
       "<span style=\"font-weight: bold\">}</span>\n",
       "<span style=\"font-weight: bold\">{</span><span style=\"color: #008080; text-decoration-color: #008080; font-weight: bold\">66</span>: <span style=\"color: #008080; text-decoration-color: #008080; font-weight: bold\">1</span>, <span style=\"color: #008080; text-decoration-color: #008080; font-weight: bold\">50</span>: <span style=\"color: #008080; text-decoration-color: #008080; font-weight: bold\">6</span>, <span style=\"color: #008080; text-decoration-color: #008080; font-weight: bold\">79</span>: <span style=\"color: #008080; text-decoration-color: #008080; font-weight: bold\">4</span><span style=\"font-weight: bold\">}</span>\n",
       "</pre>\n"
      ],
      "text/plain": [
       "\u001b[1m{\u001b[0m\n",
       "    \u001b[32m'pos'\u001b[0m: tensor\u001b[1m[\u001b[0m\u001b[1;36m11\u001b[0m, \u001b[1;36m3\u001b[0m\u001b[1m]\u001b[0m \u001b[33mn\u001b[0m=\u001b[1;36m33\u001b[0m x∈\u001b[1m[\u001b[0m\u001b[1;36m-4.291\u001b[0m, \u001b[1;36m6.946\u001b[0m\u001b[1m]\u001b[0m \u001b[33mμ\u001b[0m=\u001b[1;36m1\u001b[0m\u001b[1;36m.411\u001b[0m \u001b[33mσ\u001b[0m=\u001b[1;36m2\u001b[0m\u001b[1;36m.424\u001b[0m,\n",
       "    \u001b[32m'id'\u001b[0m: \u001b[1m[\u001b[0m\u001b[32m'wbm-3-72883'\u001b[0m\u001b[1m]\u001b[0m,\n",
       "    \u001b[32m'atomic_numbers'\u001b[0m: tensor\u001b[1m[\u001b[0m\u001b[1;36m11\u001b[0m\u001b[1m]\u001b[0m i64 x∈\u001b[1m[\u001b[0m\u001b[1;36m50\u001b[0m, \u001b[1;36m79\u001b[0m\u001b[1m]\u001b[0m \u001b[33mμ\u001b[0m=\u001b[1;36m62\u001b[0m\u001b[1;36m.000\u001b[0m \u001b[33mσ\u001b[0m=\u001b[1;36m14\u001b[0m\u001b[1;36m.269\u001b[0m,\n",
       "    \u001b[32m'cell'\u001b[0m: tensor\u001b[1m[\u001b[0m\u001b[1;36m1\u001b[0m, \u001b[1;36m3\u001b[0m, \u001b[1;36m3\u001b[0m\u001b[1m]\u001b[0m \u001b[33mn\u001b[0m=\u001b[1;36m9\u001b[0m x∈\u001b[1m[\u001b[0m\u001b[1;36m-3.509\u001b[0m, \u001b[1;36m6.938\u001b[0m\u001b[1m]\u001b[0m \u001b[33mμ\u001b[0m=\u001b[1;36m1\u001b[0m\u001b[1;36m.065\u001b[0m \u001b[33mσ\u001b[0m=\u001b[1;36m4\u001b[0m\u001b[1;36m.112\u001b[0m \u001b[1m[\u001b[0m\u001b[1m[\u001b[0m\u001b[1m[\u001b[0m\u001b[1;36m6.029\u001b[0m, \u001b[1;36m0\u001b[0m., \u001b[1;36m-3.509\u001b[0m\u001b[1m]\u001b[0m, \u001b[1m[\u001b[0m\u001b[1;36m-2.037\u001b[0m, \u001b[1;36m5.674\u001b[0m, \u001b[1;36m-3.509\u001b[0m\u001b[1m]\u001b[0m, \n",
       "\u001b[1m[\u001b[0m\u001b[1;36m0\u001b[0m., \u001b[1;36m0\u001b[0m., \u001b[1;36m6.938\u001b[0m\u001b[1m]\u001b[0m\u001b[1m]\u001b[0m\u001b[1m]\u001b[0m,\n",
       "    \u001b[32m'y_formation'\u001b[0m: tensor\u001b[1m[\u001b[0m\u001b[1;36m1\u001b[0m\u001b[1m]\u001b[0m \u001b[1m[\u001b[0m\u001b[1;36m-0.236\u001b[0m\u001b[1m]\u001b[0m,\n",
       "    \u001b[32m'y_formation_correction'\u001b[0m: tensor\u001b[1m[\u001b[0m\u001b[1;36m1\u001b[0m\u001b[1m]\u001b[0m \u001b[1m[\u001b[0m\u001b[1;36m0\u001b[0m.\u001b[1m]\u001b[0m,\n",
       "    \u001b[32m'y_above_hull'\u001b[0m: tensor\u001b[1m[\u001b[0m\u001b[1;36m1\u001b[0m\u001b[1m]\u001b[0m \u001b[1m[\u001b[0m\u001b[1;36m0.093\u001b[0m\u001b[1m]\u001b[0m,\n",
       "    \u001b[32m'natoms'\u001b[0m: tensor\u001b[1m[\u001b[0m\u001b[1;36m1\u001b[0m\u001b[1m]\u001b[0m i64 \u001b[1m[\u001b[0m\u001b[1;36m11\u001b[0m\u001b[1m]\u001b[0m,\n",
       "    \u001b[32m'pos_noise'\u001b[0m: tensor\u001b[1m[\u001b[0m\u001b[1;36m11\u001b[0m, \u001b[1;36m3\u001b[0m\u001b[1m]\u001b[0m \u001b[33mn\u001b[0m=\u001b[1;36m33\u001b[0m x∈\u001b[1m[\u001b[0m\u001b[1;36m-0.020\u001b[0m, \u001b[1;36m0.018\u001b[0m\u001b[1m]\u001b[0m \u001b[33mμ\u001b[0m=\u001b[1;36m-0.001\u001b[0m \u001b[33mσ\u001b[0m=\u001b[1;36m0\u001b[0m\u001b[1;36m.008\u001b[0m,\n",
       "    \u001b[32m'tags'\u001b[0m: tensor\u001b[1m[\u001b[0m\u001b[1;36m11\u001b[0m\u001b[1m]\u001b[0m i64 x∈\u001b[1m[\u001b[0m\u001b[1;36m2\u001b[0m, \u001b[1;36m2\u001b[0m\u001b[1m]\u001b[0m \u001b[33mμ\u001b[0m=\u001b[1;36m2\u001b[0m\u001b[1;36m.000\u001b[0m \u001b[33mσ\u001b[0m=\u001b[1;36m0\u001b[0m.,\n",
       "    \u001b[32m'fixed'\u001b[0m: tensor\u001b[1m[\u001b[0m\u001b[1;36m11\u001b[0m\u001b[1m]\u001b[0m bool \u001b[38;2;127;127;127mall_zeros\u001b[0m,\n",
       "    \u001b[32m'batch'\u001b[0m: tensor\u001b[1m[\u001b[0m\u001b[1;36m11\u001b[0m\u001b[1m]\u001b[0m i64 \u001b[38;2;127;127;127mall_zeros\u001b[0m,\n",
       "    \u001b[32m'ptr'\u001b[0m: tensor\u001b[1m[\u001b[0m\u001b[1;36m2\u001b[0m\u001b[1m]\u001b[0m i64 \u001b[33mμ\u001b[0m=\u001b[1;36m5\u001b[0m\u001b[1;36m.500\u001b[0m \u001b[33mσ\u001b[0m=\u001b[1;36m7\u001b[0m\u001b[1;36m.778\u001b[0m \u001b[1m[\u001b[0m\u001b[1;36m0\u001b[0m, \u001b[1;36m11\u001b[0m\u001b[1m]\u001b[0m\n",
       "\u001b[1m}\u001b[0m\n",
       "\u001b[1m{\u001b[0m\u001b[1;36m66\u001b[0m: \u001b[1;36m1\u001b[0m, \u001b[1;36m50\u001b[0m: \u001b[1;36m6\u001b[0m, \u001b[1;36m79\u001b[0m: \u001b[1;36m4\u001b[0m\u001b[1m}\u001b[0m\n"
      ]
     },
     "metadata": {},
     "output_type": "display_data"
    }
   ],
   "source": [
    "from collections import Counter\n",
    "\n",
    "import jmppeft.modules.dataset.dataset_transform as DT\n",
    "import nshutils\n",
    "import rich\n",
    "import torch.utils._pytree as tree\n",
    "from lightning.fabric.utilities.apply_func import move_data_to_device\n",
    "from torch_geometric.data import Batch, Data\n",
    "\n",
    "nshutils.pretty()\n",
    "\n",
    "\n",
    "def data_transform(data: Data):\n",
    "    data = model.data_transform(data)\n",
    "    data = Data.from_dict(\n",
    "        tree.tree_map(\n",
    "            lambda x: x.type(default_dtype)\n",
    "            if torch.is_tensor(x) and torch.is_floating_point(x)\n",
    "            else x,\n",
    "            data.to_dict(),\n",
    "        )\n",
    "    )\n",
    "    return data\n",
    "\n",
    "\n",
    "def composition(data: Batch):\n",
    "    return dict(Counter(data.atomic_numbers.tolist()))\n",
    "\n",
    "\n",
    "num_items = 1024\n",
    "\n",
    "dataset = DT.transform(dataset_og, data_transform)\n",
    "dataset = DT.sample_n_transform(dataset, n=num_items, seed=42)\n",
    "\n",
    "\n",
    "idx = 32\n",
    "data = Batch.from_data_list([dataset[idx]])\n",
    "rich.print(data.to_dict(), composition(data))"
   ]
  },
  {
   "cell_type": "code",
   "execution_count": 7,
   "metadata": {},
   "outputs": [
    {
     "data": {
      "text/plain": [
       "{'current_energy': tensor[1] cuda:0 [0.155],\n",
       " 'relaxed_energy': tensor[1] cuda:0 [-0.173],\n",
       " 'energy': tensor[1] cuda:0 [0.155],\n",
       " 'forces': tensor[11, 3] n=33 x∈[-0.848, 0.838] μ=0.002 σ=0.380 cuda:0,\n",
       " 'stress': tensor[1, 3, 3] n=9 x∈[-0.133, -0.002] μ=-0.046 σ=0.064 cuda:0 [[[-0.130, -0.002, -0.004], [-0.002, -0.131, -0.005], [-0.004, -0.005, -0.133]]]}"
      ]
     },
     "execution_count": 7,
     "metadata": {},
     "output_type": "execute_result"
    }
   ],
   "source": [
    "import numpy as np\n",
    "from jmppeft.modules.relaxer import ModelOutput, Relaxer\n",
    "from matbench_discovery.energy import get_e_form_per_atom\n",
    "\n",
    "LINREF = np.load(\"/workspaces/repositories/jmp-peft/notebooks/mptrj_linref.npy\")\n",
    "\n",
    "\n",
    "def model_fn(data, initial_data, *, use_y_relaxed: bool) -> ModelOutput:\n",
    "    model_out = model.forward_denormalized(data)\n",
    "\n",
    "    # energy = model_out[\"y_relaxed\"] if use_y_relaxed else model_out[\"y\"]\n",
    "    energy = model_out[\"y\"]\n",
    "    relaxed_energy = model_out[\"y_relaxed\"]\n",
    "    forces = model_out[\"force\"]\n",
    "    stress = model_out[\"stress\"]\n",
    "\n",
    "    # Undo the linref\n",
    "    if LINREF is not None:\n",
    "        energy = energy + LINREF[data.atomic_numbers.cpu().numpy()].sum()\n",
    "        relaxed_energy = (\n",
    "            relaxed_energy + LINREF[data.atomic_numbers.cpu().numpy()].sum()\n",
    "        )\n",
    "\n",
    "    # JMP-S v2 energy is corrected_energy, i.e., DFT total energy\n",
    "    # This energy is now DFT total energy, we need to convert it to formation energy per atom\n",
    "    energy = get_e_form_per_atom(\n",
    "        {\n",
    "            \"composition\": composition(data),\n",
    "            \"energy\": energy,\n",
    "        }\n",
    "    )\n",
    "    relaxed_energy = get_e_form_per_atom(\n",
    "        {\n",
    "            \"composition\": composition(data),\n",
    "            \"energy\": relaxed_energy,\n",
    "        }\n",
    "    )\n",
    "    assert isinstance(energy, torch.Tensor)\n",
    "    assert isinstance(relaxed_energy, torch.Tensor)\n",
    "\n",
    "    # Add the correction factor\n",
    "    if False:\n",
    "        energy += initial_data.y_formation_correction.item()\n",
    "\n",
    "    # energy, relaxed_energy = tree.tree_map(\n",
    "    #     lambda energy: energy.view(1), (energy, relaxed_energy)\n",
    "    # )\n",
    "    energy = energy.view(1)\n",
    "    relaxed_energy = relaxed_energy.view(1)\n",
    "    forces = forces.view(-1, 3)\n",
    "    stress = stress.view(1, 3, 3) if stress.numel() == 9 else stress.view(1, 6)\n",
    "\n",
    "    return {\n",
    "        \"current_energy\": energy,\n",
    "        \"relaxed_energy\": relaxed_energy,\n",
    "        \"energy\": relaxed_energy if use_y_relaxed else energy,\n",
    "        \"forces\": forces,\n",
    "        \"stress\": stress,\n",
    "    }\n",
    "\n",
    "\n",
    "data = move_data_to_device(data, model.device)\n",
    "model_fn(data, data, use_y_relaxed=False)"
   ]
  },
  {
   "cell_type": "code",
   "execution_count": 8,
   "metadata": {},
   "outputs": [
    {
     "data": {
      "text/html": [
       "<pre style=\"white-space:pre;overflow-x:auto;line-height:normal;font-family:Menlo,'DejaVu Sans Mono',consolas,'Courier New',monospace\">tensor<span style=\"font-weight: bold\">[</span><span style=\"color: #008080; text-decoration-color: #008080; font-weight: bold\">1</span><span style=\"font-weight: bold\">]</span> cu<span style=\"color: #00ff00; text-decoration-color: #00ff00; font-weight: bold\">da:0</span> <span style=\"font-weight: bold\">[</span><span style=\"color: #008080; text-decoration-color: #008080; font-weight: bold\">-0.236</span><span style=\"font-weight: bold\">]</span>\n",
       "</pre>\n"
      ],
      "text/plain": [
       "tensor\u001b[1m[\u001b[0m\u001b[1;36m1\u001b[0m\u001b[1m]\u001b[0m cu\u001b[1;92mda:0\u001b[0m \u001b[1m[\u001b[0m\u001b[1;36m-0.236\u001b[0m\u001b[1m]\u001b[0m\n"
      ]
     },
     "metadata": {},
     "output_type": "display_data"
    },
    {
     "name": "stdout",
     "output_type": "stream",
     "text": [
      "      Step     Time          Energy          fmax\n",
      "FIRE:    0 14:24:22        0.155376        3.167624\n",
      "FIRE:    1 14:24:22       -0.060239        1.408496\n",
      "FIRE:    2 14:24:22       -0.119575        0.505123\n",
      "FIRE:    3 14:24:22       -0.121074        0.505429\n",
      "FIRE:    4 14:24:22       -0.124505        0.521099\n",
      "FIRE:    5 14:24:22       -0.127669        0.519939\n",
      "FIRE:    6 14:24:22       -0.129794        0.517050\n",
      "FIRE:    7 14:24:23       -0.131555        0.503964\n",
      "FIRE:    8 14:24:23       -0.131999        0.488141\n",
      "FIRE:    9 14:24:23       -0.132119        0.477358\n",
      "FIRE:   10 14:24:23       -0.132887        0.463058\n",
      "FIRE:   11 14:24:23       -0.135566        0.443211\n",
      "FIRE:   12 14:24:23       -0.141130        0.414212\n",
      "FIRE:   13 14:24:23       -0.151295        0.399875\n",
      "FIRE:   14 14:24:23       -0.159267        0.396879\n",
      "FIRE:   15 14:24:23       -0.167595        0.387608\n",
      "FIRE:   16 14:24:23       -0.174990        0.365853\n",
      "FIRE:   17 14:24:23       -0.183978        0.360863\n",
      "FIRE:   18 14:24:23       -0.194965        0.331346\n",
      "FIRE:   19 14:24:23       -0.204561        0.284778\n",
      "FIRE:   20 14:24:23       -0.211279        0.255389\n",
      "FIRE:   21 14:24:23       -0.211686        0.226956\n",
      "FIRE:   22 14:24:23       -0.208782        0.288570\n",
      "FIRE:   23 14:24:23       -0.209582        0.284416\n",
      "FIRE:   24 14:24:23       -0.210960        0.273341\n",
      "FIRE:   25 14:24:24       -0.212747        0.253594\n",
      "FIRE:   26 14:24:24       -0.213210        0.238496\n",
      "FIRE:   27 14:24:24       -0.214573        0.202001\n",
      "FIRE:   28 14:24:24       -0.215406        0.169258\n",
      "FIRE:   29 14:24:24       -0.215924        0.131564\n",
      "FIRE:   30 14:24:24       -0.217570        0.114687\n",
      "FIRE:   31 14:24:24       -0.219348        0.110941\n",
      "FIRE:   32 14:24:24       -0.220378        0.080688\n",
      "FIRE:   33 14:24:24       -0.222134        0.062181\n",
      "FIRE:   34 14:24:24       -0.224135        0.045417\n"
     ]
    },
    {
     "data": {
      "text/html": [
       "<pre style=\"white-space:pre;overflow-x:auto;line-height:normal;font-family:Menlo,'DejaVu Sans Mono',consolas,'Courier New',monospace\"><span style=\"color: #008080; text-decoration-color: #008080; font-weight: bold\">-0.224134624004364</span> tensor<span style=\"font-weight: bold\">[</span><span style=\"color: #008080; text-decoration-color: #008080; font-weight: bold\">1</span><span style=\"font-weight: bold\">]</span> cu<span style=\"color: #00ff00; text-decoration-color: #00ff00; font-weight: bold\">da:0</span> <span style=\"font-weight: bold\">[</span><span style=\"color: #008080; text-decoration-color: #008080; font-weight: bold\">-0.236</span><span style=\"font-weight: bold\">]</span>\n",
       "</pre>\n"
      ],
      "text/plain": [
       "\u001b[1;36m-0.224134624004364\u001b[0m tensor\u001b[1m[\u001b[0m\u001b[1;36m1\u001b[0m\u001b[1m]\u001b[0m cu\u001b[1;92mda:0\u001b[0m \u001b[1m[\u001b[0m\u001b[1;36m-0.236\u001b[0m\u001b[1m]\u001b[0m\n"
      ]
     },
     "metadata": {},
     "output_type": "display_data"
    }
   ],
   "source": [
    "from functools import partial\n",
    "\n",
    "import rich\n",
    "from jmppeft.modules.relaxer import RelaxerConfig\n",
    "\n",
    "config = RelaxerConfig(\n",
    "    compute_stress=True,\n",
    "    stress_weight=0.1,\n",
    "    optimizer=\"FIRE\",\n",
    "    fmax=0.05,\n",
    "    ase_filter=\"exp\",\n",
    ")\n",
    "relaxer = Relaxer(\n",
    "    config=config,\n",
    "    model=partial(model_fn, use_y_relaxed=False),\n",
    "    collate_fn=model.collate_fn,\n",
    "    device=model.device,\n",
    ")\n",
    "rich.print(data.y_formation)\n",
    "relax_out = relaxer.relax(data)\n",
    "# rich.print(relax_out)\n",
    "\n",
    "energy = relax_out.atoms.get_total_energy()\n",
    "rich.print(energy, data.y_formation)"
   ]
  },
  {
   "cell_type": "code",
   "execution_count": 9,
   "metadata": {},
   "outputs": [],
   "source": [
    "import copy\n",
    "\n",
    "\n",
    "def relax_and_return_structure(\n",
    "    relaxer: Relaxer,\n",
    "    graph: Batch,\n",
    "    device: str | torch.device | None = None,\n",
    "    verbose: bool = True,\n",
    "):\n",
    "    out_graph = copy.deepcopy(graph)\n",
    "    output = relaxer.relax(graph, verbose=verbose)\n",
    "\n",
    "    atoms = output.atoms\n",
    "    # Convert the relaxed structure to a graph\n",
    "    out_graph.pos = torch.tensor(\n",
    "        atoms.positions,\n",
    "        dtype=out_graph.pos.dtype,\n",
    "        device=out_graph.pos.device,\n",
    "    )\n",
    "    out_graph.cell = torch.tensor(\n",
    "        atoms.cell.array,\n",
    "        dtype=out_graph.cell.dtype,\n",
    "        device=out_graph.cell.device,\n",
    "    ).reshape_as(out_graph.cell)\n",
    "\n",
    "    out_graph.y_prediction = torch.tensor(\n",
    "        atoms.get_total_energy(),\n",
    "        dtype=torch.float,\n",
    "        device=out_graph.pos.device,\n",
    "    ).view(-1)\n",
    "\n",
    "    if device is not None:\n",
    "        out_graph = cast(Batch, move_data_to_device(out_graph, device))\n",
    "\n",
    "    return out_graph, output"
   ]
  },
  {
   "cell_type": "code",
   "execution_count": 10,
   "metadata": {},
   "outputs": [
    {
     "data": {
      "application/vnd.jupyter.widget-view+json": {
       "model_id": "8fc10df913904d788cf2203b2edd01a2",
       "version_major": 2,
       "version_minor": 0
      },
      "text/plain": [
       "  0%|          | 0/1024 [00:00<?, ?it/s]"
      ]
     },
     "metadata": {},
     "output_type": "display_data"
    },
    {
     "name": "stdout",
     "output_type": "stream",
     "text": [
      "✅ # Steps: 21; e_form: P=-0.8299, GT=-0.8008, Δ=0.0291, MAE=0.0291\n",
      "✅ # Steps: 20; e_form: P=-0.0134, GT=-0.0220, Δ=0.0086, MAE=0.0188\n",
      "✅ # Steps: 15; e_form: P=-0.6278, GT=-0.6088, Δ=0.0191, MAE=0.0189\n",
      "❌ # Steps: 82; e_form: P=-0.3170, GT=-0.1544, Δ=0.1626, MAE=0.0548\n",
      "❌ # Steps: 48; e_form: P=-0.3227, GT=-0.1154, Δ=0.2072, MAE=0.0853\n",
      "✅ # Steps: 17; e_form: P=-0.3821, GT=-0.3905, Δ=0.0084, MAE=0.0725\n",
      "✅ # Steps: 13; e_form: P=-0.3002, GT=-0.2468, Δ=0.0535, MAE=0.0698\n",
      "✅ # Steps: 11; e_form: P=-0.5277, GT=-0.4542, Δ=0.0735, MAE=0.0702\n",
      "✅ # Steps: 19; e_form: P=-1.9960, GT=-1.9089, Δ=0.0871, MAE=0.0721\n",
      "✅ # Steps: 6; e_form: P=-0.1372, GT=-0.1224, Δ=0.0149, MAE=0.0664\n",
      "✅ # Steps: 5; e_form: P=-1.9090, GT=-1.8781, Δ=0.0309, MAE=0.0632\n",
      "✅ # Steps: 11; e_form: P=-1.6070, GT=-1.6101, Δ=0.0031, MAE=0.0582\n",
      "✅ # Steps: 15; e_form: P=-1.8727, GT=-1.8180, Δ=0.0548, MAE=0.0579\n",
      "✅ # Steps: 2; e_form: P=-0.3575, GT=-0.3333, Δ=0.0242, MAE=0.0555\n",
      "✅ # Steps: 13; e_form: P=-0.7199, GT=-0.7299, Δ=0.0101, MAE=0.0525\n",
      "✅ # Steps: 12; e_form: P=-0.0443, GT=-0.0433, Δ=0.0010, MAE=0.0492\n",
      "✅ # Steps: 31; e_form: P=-0.5518, GT=-0.5591, Δ=0.0073, MAE=0.0468\n",
      "✅ # Steps: 12; e_form: P=-3.1517, GT=-3.0844, Δ=0.0673, MAE=0.0479\n",
      "❌ # Steps: 11; e_form: P=-1.6030, GT=-1.7130, Δ=0.1100, MAE=0.0512\n",
      "❌ # Steps: 30; e_form: P=-2.7078, GT=-2.8650, Δ=0.1572, MAE=0.0565\n",
      "✅ # Steps: 13; e_form: P=-2.4424, GT=-2.3807, Δ=0.0618, MAE=0.0567\n",
      "✅ # Steps: 15; e_form: P=-0.6954, GT=-0.6476, Δ=0.0478, MAE=0.0563\n",
      "✅ # Steps: 14; e_form: P=-0.3755, GT=-0.4119, Δ=0.0364, MAE=0.0555\n",
      "✅ # Steps: 7; e_form: P=-0.0186, GT=-0.0061, Δ=0.0125, MAE=0.0537\n",
      "✅ # Steps: 31; e_form: P=-0.6374, GT=-0.5812, Δ=0.0562, MAE=0.0538\n",
      "✅ # Steps: 30; e_form: P=-0.4657, GT=-0.4616, Δ=0.0042, MAE=0.0519\n",
      "✅ # Steps: 29; e_form: P=-1.1329, GT=-1.0945, Δ=0.0384, MAE=0.0514\n",
      "✅ # Steps: 17; e_form: P=-2.0945, GT=-2.0012, Δ=0.0934, MAE=0.0529\n",
      "✅ # Steps: 19; e_form: P=-2.1810, GT=-2.1870, Δ=0.0060, MAE=0.0513\n",
      "✅ # Steps: 5; e_form: P=-0.7285, GT=-0.7626, Δ=0.0341, MAE=0.0507\n",
      "✅ # Steps: 27; e_form: P=-1.8866, GT=-1.9263, Δ=0.0398, MAE=0.0503\n",
      "✅ # Steps: 5; e_form: P=-0.1562, GT=-0.1229, Δ=0.0333, MAE=0.0498\n",
      "✅ # Steps: 36; e_form: P=-0.2229, GT=-0.2364, Δ=0.0135, MAE=0.0487\n",
      "✅ # Steps: 11; e_form: P=-0.2296, GT=-0.1713, Δ=0.0583, MAE=0.0490\n",
      "✅ # Steps: 10; e_form: P=-0.4886, GT=-0.5257, Δ=0.0371, MAE=0.0486\n",
      "✅ # Steps: 17; e_form: P=-0.5049, GT=-0.4484, Δ=0.0565, MAE=0.0489\n",
      "✅ # Steps: 11; e_form: P=-0.8961, GT=-0.9048, Δ=0.0087, MAE=0.0478\n",
      "✅ # Steps: 39; e_form: P=-0.2098, GT=-0.2392, Δ=0.0294, MAE=0.0473\n",
      "✅ # Steps: 27; e_form: P=-0.5983, GT=-0.6018, Δ=0.0035, MAE=0.0462\n",
      "✅ # Steps: 5; e_form: P=-0.4543, GT=-0.4596, Δ=0.0053, MAE=0.0451\n",
      "✅ # Steps: 12; e_form: P=-0.0411, GT=0.0228, Δ=0.0638, MAE=0.0456\n",
      "✅ # Steps: 9; e_form: P=-0.6424, GT=-0.6482, Δ=0.0059, MAE=0.0447\n",
      "✅ # Steps: 8; e_form: P=-0.2955, GT=-0.3384, Δ=0.0429, MAE=0.0446\n",
      "✅ # Steps: 34; e_form: P=0.0216, GT=0.0744, Δ=0.0528, MAE=0.0448\n",
      "✅ # Steps: 4; e_form: P=-0.3494, GT=-0.2690, Δ=0.0804, MAE=0.0456\n",
      "✅ # Steps: 24; e_form: P=-3.0178, GT=-2.9990, Δ=0.0188, MAE=0.0450\n",
      "✅ # Steps: 25; e_form: P=-0.9954, GT=-1.0127, Δ=0.0173, MAE=0.0444\n",
      "✅ # Steps: 6; e_form: P=-0.3705, GT=-0.4317, Δ=0.0612, MAE=0.0448\n",
      "✅ # Steps: 6; e_form: P=-0.7814, GT=-0.8011, Δ=0.0197, MAE=0.0443\n",
      "✅ # Steps: 5; e_form: P=-3.1335, GT=-3.2035, Δ=0.0700, MAE=0.0448\n",
      "✅ # Steps: 29; e_form: P=-0.1665, GT=-0.1638, Δ=0.0027, MAE=0.0439\n",
      "❌ # Steps: 10; e_form: P=-1.4611, GT=-1.3358, Δ=0.1253, MAE=0.0455\n",
      "✅ # Steps: 16; e_form: P=-1.1467, GT=-1.1612, Δ=0.0144, MAE=0.0449\n",
      "✅ # Steps: 2; e_form: P=-0.0951, GT=-0.1789, Δ=0.0838, MAE=0.0456\n",
      "✅ # Steps: 30; e_form: P=-0.2981, GT=-0.3186, Δ=0.0205, MAE=0.0452\n",
      "✅ # Steps: 31; e_form: P=0.3988, GT=0.4827, Δ=0.0838, MAE=0.0459\n",
      "✅ # Steps: 14; e_form: P=-1.7554, GT=-1.7589, Δ=0.0035, MAE=0.0451\n",
      "✅ # Steps: 7; e_form: P=-0.2980, GT=-0.2765, Δ=0.0215, MAE=0.0447\n",
      "✅ # Steps: 16; e_form: P=-3.3048, GT=-3.3041, Δ=0.0007, MAE=0.0440\n",
      "✅ # Steps: 11; e_form: P=-0.3965, GT=-0.3660, Δ=0.0305, MAE=0.0438\n",
      "✅ # Steps: 11; e_form: P=-0.6566, GT=-0.6369, Δ=0.0197, MAE=0.0434\n",
      "✅ # Steps: 43; e_form: P=-2.6839, GT=-2.6335, Δ=0.0503, MAE=0.0435\n",
      "❌ # Steps: 26; e_form: P=-1.8998, GT=-1.5591, Δ=0.3407, MAE=0.0482\n",
      "✅ # Steps: 16; e_form: P=0.1966, GT=0.1733, Δ=0.0233, MAE=0.0478\n",
      "✅ # Steps: 32; e_form: P=-0.2391, GT=-0.1928, Δ=0.0463, MAE=0.0478\n",
      "❌ # Steps: 19; e_form: P=0.1191, GT=0.0012, Δ=0.1178, MAE=0.0488\n",
      "✅ # Steps: 21; e_form: P=-0.8647, GT=-0.8882, Δ=0.0236, MAE=0.0485\n",
      "❌ # Steps: 2; e_form: P=-0.6828, GT=-0.5519, Δ=0.1309, MAE=0.0497\n",
      "✅ # Steps: 30; e_form: P=-2.1603, GT=-2.1893, Δ=0.0291, MAE=0.0494\n",
      "✅ # Steps: 17; e_form: P=-0.0813, GT=-0.0716, Δ=0.0098, MAE=0.0488\n",
      "✅ # Steps: 6; e_form: P=0.0288, GT=0.0055, Δ=0.0232, MAE=0.0485\n",
      "✅ # Steps: 8; e_form: P=0.2090, GT=0.2183, Δ=0.0092, MAE=0.0479\n",
      "✅ # Steps: 51; e_form: P=-0.1089, GT=-0.0323, Δ=0.0765, MAE=0.0483\n",
      "✅ # Steps: 21; e_form: P=-1.2206, GT=-1.2014, Δ=0.0193, MAE=0.0479\n",
      "✅ # Steps: 9; e_form: P=0.3480, GT=0.3216, Δ=0.0264, MAE=0.0476\n",
      "✅ # Steps: 5; e_form: P=-3.7042, GT=-3.7061, Δ=0.0019, MAE=0.0470\n",
      "✅ # Steps: 4; e_form: P=-2.3895, GT=-2.3751, Δ=0.0143, MAE=0.0466\n",
      "❌ # Steps: 8; e_form: P=-0.5983, GT=-0.4485, Δ=0.1498, MAE=0.0479\n",
      "❌ # Steps: 36; e_form: P=-0.8860, GT=-1.1411, Δ=0.2551, MAE=0.0505\n",
      "✅ # Steps: 7; e_form: P=0.2141, GT=0.3030, Δ=0.0888, MAE=0.0510\n",
      "✅ # Steps: 6; e_form: P=-0.2837, GT=-0.2621, Δ=0.0216, MAE=0.0507\n",
      "✅ # Steps: 5; e_form: P=0.0833, GT=0.1009, Δ=0.0177, MAE=0.0503\n",
      "✅ # Steps: 48; e_form: P=-0.2534, GT=-0.2268, Δ=0.0266, MAE=0.0500\n",
      "✅ # Steps: 2; e_form: P=-0.4205, GT=-0.4042, Δ=0.0162, MAE=0.0496\n",
      "✅ # Steps: 22; e_form: P=-0.7826, GT=-0.7625, Δ=0.0201, MAE=0.0492\n",
      "✅ # Steps: 17; e_form: P=-0.1172, GT=-0.0655, Δ=0.0518, MAE=0.0492\n",
      "❌ # Steps: 16; e_form: P=0.0101, GT=0.2421, Δ=0.2320, MAE=0.0514\n",
      "✅ # Steps: 7; e_form: P=-0.5825, GT=-0.5644, Δ=0.0181, MAE=0.0510\n",
      "✅ # Steps: 23; e_form: P=-0.9791, GT=-0.9880, Δ=0.0089, MAE=0.0505\n",
      "✅ # Steps: 16; e_form: P=0.0352, GT=0.0243, Δ=0.0109, MAE=0.0501\n",
      "✅ # Steps: 25; e_form: P=-0.2580, GT=-0.2068, Δ=0.0512, MAE=0.0501\n",
      "✅ # Steps: 10; e_form: P=-0.9976, GT=-1.0161, Δ=0.0185, MAE=0.0497\n",
      "✅ # Steps: 23; e_form: P=-0.6287, GT=-0.6459, Δ=0.0172, MAE=0.0494\n",
      "✅ # Steps: 5; e_form: P=-0.0749, GT=-0.0518, Δ=0.0231, MAE=0.0491\n",
      "✅ # Steps: 13; e_form: P=0.1892, GT=0.2311, Δ=0.0419, MAE=0.0490\n",
      "✅ # Steps: 17; e_form: P=-2.6083, GT=-2.6037, Δ=0.0046, MAE=0.0486\n",
      "✅ # Steps: 28; e_form: P=-0.5493, GT=-0.5099, Δ=0.0395, MAE=0.0485\n",
      "✅ # Steps: 14; e_form: P=-0.5450, GT=-0.4995, Δ=0.0456, MAE=0.0484\n",
      "✅ # Steps: 43; e_form: P=-2.8255, GT=-2.8406, Δ=0.0150, MAE=0.0481\n",
      "✅ # Steps: 6; e_form: P=-0.4671, GT=-0.5100, Δ=0.0429, MAE=0.0480\n",
      "✅ # Steps: 6; e_form: P=-0.2714, GT=-0.1759, Δ=0.0955, MAE=0.0485\n",
      "✅ # Steps: 32; e_form: P=-3.1177, GT=-3.1097, Δ=0.0080, MAE=0.0481\n",
      "✅ # Steps: 7; e_form: P=-0.0561, GT=-0.0740, Δ=0.0179, MAE=0.0478\n",
      "✅ # Steps: 2; e_form: P=-0.6809, GT=-0.6186, Δ=0.0623, MAE=0.0480\n",
      "✅ # Steps: 7; e_form: P=-0.5423, GT=-0.5333, Δ=0.0090, MAE=0.0476\n",
      "✅ # Steps: 6; e_form: P=-0.8053, GT=-0.7920, Δ=0.0132, MAE=0.0473\n",
      "✅ # Steps: 5; e_form: P=-1.7523, GT=-1.7156, Δ=0.0367, MAE=0.0472\n",
      "✅ # Steps: 8; e_form: P=-1.8419, GT=-1.8573, Δ=0.0155, MAE=0.0469\n",
      "✅ # Steps: 2; e_form: P=-0.3190, GT=-0.3303, Δ=0.0114, MAE=0.0466\n",
      "✅ # Steps: 10; e_form: P=-1.0006, GT=-1.0368, Δ=0.0362, MAE=0.0465\n",
      "✅ # Steps: 20; e_form: P=-0.7089, GT=-0.7102, Δ=0.0013, MAE=0.0461\n",
      "✅ # Steps: 51; e_form: P=-0.2473, GT=-0.1778, Δ=0.0695, MAE=0.0463\n",
      "✅ # Steps: 57; e_form: P=-2.8577, GT=-2.8529, Δ=0.0048, MAE=0.0459\n",
      "✅ # Steps: 11; e_form: P=-1.5941, GT=-1.6165, Δ=0.0224, MAE=0.0457\n",
      "✅ # Steps: 17; e_form: P=-0.2383, GT=-0.1979, Δ=0.0404, MAE=0.0456\n",
      "✅ # Steps: 9; e_form: P=-0.0581, GT=-0.0864, Δ=0.0283, MAE=0.0455\n",
      "✅ # Steps: 22; e_form: P=-0.4621, GT=-0.4755, Δ=0.0134, MAE=0.0452\n",
      "✅ # Steps: 7; e_form: P=-3.1029, GT=-3.0706, Δ=0.0323, MAE=0.0451\n",
      "✅ # Steps: 8; e_form: P=-0.5036, GT=-0.5204, Δ=0.0168, MAE=0.0449\n",
      "✅ # Steps: 34; e_form: P=-0.2095, GT=-0.2087, Δ=0.0009, MAE=0.0445\n",
      "✅ # Steps: 11; e_form: P=-3.1929, GT=-3.1452, Δ=0.0477, MAE=0.0445\n",
      "✅ # Steps: 22; e_form: P=-1.3176, GT=-1.2898, Δ=0.0279, MAE=0.0444\n",
      "✅ # Steps: 11; e_form: P=-0.5110, GT=-0.5218, Δ=0.0107, MAE=0.0441\n",
      "✅ # Steps: 30; e_form: P=-0.8647, GT=-0.8567, Δ=0.0080, MAE=0.0438\n",
      "✅ # Steps: 20; e_form: P=-3.4882, GT=-3.4760, Δ=0.0123, MAE=0.0436\n",
      "✅ # Steps: 10; e_form: P=-0.2714, GT=-0.2446, Δ=0.0267, MAE=0.0434\n",
      "✅ # Steps: 36; e_form: P=-0.3133, GT=-0.2800, Δ=0.0333, MAE=0.0434\n",
      "❌ # Steps: 22; e_form: P=0.0692, GT=0.1744, Δ=0.1052, MAE=0.0438\n",
      "✅ # Steps: 4; e_form: P=-0.0965, GT=-0.1078, Δ=0.0113, MAE=0.0436\n",
      "✅ # Steps: 31; e_form: P=-0.8081, GT=-0.7996, Δ=0.0085, MAE=0.0433\n",
      "✅ # Steps: 14; e_form: P=-0.4410, GT=-0.4252, Δ=0.0158, MAE=0.0431\n",
      "✅ # Steps: 27; e_form: P=-0.8295, GT=-0.8202, Δ=0.0093, MAE=0.0429\n",
      "✅ # Steps: 11; e_form: P=0.0617, GT=0.0943, Δ=0.0326, MAE=0.0428\n",
      "✅ # Steps: 14; e_form: P=-3.0015, GT=-2.9469, Δ=0.0545, MAE=0.0429\n",
      "✅ # Steps: 8; e_form: P=-0.2772, GT=-0.2326, Δ=0.0446, MAE=0.0429\n",
      "✅ # Steps: 51; e_form: P=-0.7039, GT=-0.6756, Δ=0.0284, MAE=0.0428\n",
      "✅ # Steps: 21; e_form: P=-0.5816, GT=-0.6712, Δ=0.0895, MAE=0.0431\n",
      "✅ # Steps: 12; e_form: P=-0.4481, GT=-0.4400, Δ=0.0080, MAE=0.0429\n",
      "✅ # Steps: 18; e_form: P=-0.6155, GT=-0.6389, Δ=0.0234, MAE=0.0427\n",
      "❌ # Steps: 36; e_form: P=0.0861, GT=-0.0895, Δ=0.1755, MAE=0.0437\n",
      "✅ # Steps: 15; e_form: P=0.0191, GT=0.0838, Δ=0.0646, MAE=0.0438\n",
      "✅ # Steps: 8; e_form: P=-2.9598, GT=-2.9472, Δ=0.0126, MAE=0.0436\n",
      "✅ # Steps: 7; e_form: P=-0.1597, GT=-0.1927, Δ=0.0330, MAE=0.0435\n",
      "✅ # Steps: 4; e_form: P=-0.5485, GT=-0.5382, Δ=0.0103, MAE=0.0433\n",
      "✅ # Steps: 24; e_form: P=0.0782, GT=0.1247, Δ=0.0466, MAE=0.0433\n",
      "✅ # Steps: 34; e_form: P=-2.8225, GT=-2.8257, Δ=0.0033, MAE=0.0430\n",
      "✅ # Steps: 7; e_form: P=0.3053, GT=0.3290, Δ=0.0236, MAE=0.0429\n",
      "✅ # Steps: 31; e_form: P=-0.1583, GT=-0.1536, Δ=0.0047, MAE=0.0427\n",
      "✅ # Steps: 4; e_form: P=-0.8409, GT=-0.8690, Δ=0.0282, MAE=0.0426\n",
      "✅ # Steps: 24; e_form: P=-0.0705, GT=-0.0742, Δ=0.0037, MAE=0.0423\n",
      "✅ # Steps: 5; e_form: P=-0.4360, GT=-0.4073, Δ=0.0286, MAE=0.0422\n",
      "✅ # Steps: 4; e_form: P=-0.1391, GT=-0.1300, Δ=0.0091, MAE=0.0420\n",
      "✅ # Steps: 20; e_form: P=-0.3280, GT=-0.2779, Δ=0.0502, MAE=0.0420\n",
      "✅ # Steps: 6; e_form: P=-0.3392, GT=-0.3386, Δ=0.0005, MAE=0.0418\n",
      "✅ # Steps: 2; e_form: P=-0.3713, GT=-0.3727, Δ=0.0014, MAE=0.0415\n",
      "✅ # Steps: 22; e_form: P=-0.5432, GT=-0.5487, Δ=0.0055, MAE=0.0413\n",
      "✅ # Steps: 28; e_form: P=-3.5623, GT=-3.5561, Δ=0.0062, MAE=0.0411\n",
      "✅ # Steps: 32; e_form: P=-0.4439, GT=-0.4416, Δ=0.0023, MAE=0.0408\n",
      "✅ # Steps: 10; e_form: P=-0.2162, GT=-0.1298, Δ=0.0864, MAE=0.0411\n",
      "✅ # Steps: 7; e_form: P=-0.9940, GT=-0.9992, Δ=0.0052, MAE=0.0409\n",
      "✅ # Steps: 5; e_form: P=-0.1196, GT=-0.0392, Δ=0.0804, MAE=0.0411\n",
      "✅ # Steps: 15; e_form: P=0.6612, GT=0.5879, Δ=0.0733, MAE=0.0413\n",
      "✅ # Steps: 14; e_form: P=-2.9238, GT=-2.9056, Δ=0.0183, MAE=0.0412\n",
      "✅ # Steps: 11; e_form: P=-4.3960, GT=-4.4045, Δ=0.0085, MAE=0.0410\n",
      "✅ # Steps: 4; e_form: P=-2.7991, GT=-2.7839, Δ=0.0153, MAE=0.0408\n",
      "✅ # Steps: 12; e_form: P=-0.4189, GT=-0.3821, Δ=0.0368, MAE=0.0408\n",
      "✅ # Steps: 6; e_form: P=-0.8994, GT=-0.9093, Δ=0.0098, MAE=0.0406\n",
      "✅ # Steps: 12; e_form: P=-0.4721, GT=-0.4430, Δ=0.0291, MAE=0.0405\n",
      "✅ # Steps: 16; e_form: P=-1.1522, GT=-1.0645, Δ=0.0877, MAE=0.0408\n",
      "✅ # Steps: 5; e_form: P=-2.5925, GT=-2.5655, Δ=0.0270, MAE=0.0407\n",
      "✅ # Steps: 24; e_form: P=0.1374, GT=0.1622, Δ=0.0248, MAE=0.0406\n",
      "✅ # Steps: 11; e_form: P=-2.4721, GT=-2.5002, Δ=0.0281, MAE=0.0406\n",
      "✅ # Steps: 22; e_form: P=-0.1766, GT=-0.1793, Δ=0.0027, MAE=0.0404\n",
      "❌ # Steps: 12; e_form: P=0.4188, GT=0.5282, Δ=0.1094, MAE=0.0408\n",
      "✅ # Steps: 28; e_form: P=0.1737, GT=0.2220, Δ=0.0483, MAE=0.0408\n",
      "✅ # Steps: 8; e_form: P=-0.4939, GT=-0.4476, Δ=0.0464, MAE=0.0408\n",
      "✅ # Steps: 27; e_form: P=0.3113, GT=0.3214, Δ=0.0102, MAE=0.0407\n",
      "✅ # Steps: 5; e_form: P=-0.8473, GT=-0.8584, Δ=0.0110, MAE=0.0405\n",
      "✅ # Steps: 14; e_form: P=-0.8403, GT=-0.8007, Δ=0.0396, MAE=0.0405\n",
      "✅ # Steps: 5; e_form: P=-1.9819, GT=-1.9317, Δ=0.0502, MAE=0.0405\n",
      "✅ # Steps: 12; e_form: P=-0.5953, GT=-0.6179, Δ=0.0226, MAE=0.0404\n",
      "✅ # Steps: 9; e_form: P=-3.6921, GT=-3.6750, Δ=0.0171, MAE=0.0403\n",
      "✅ # Steps: 18; e_form: P=-1.1483, GT=-1.1545, Δ=0.0062, MAE=0.0401\n",
      "✅ # Steps: 6; e_form: P=-0.6700, GT=-0.7540, Δ=0.0841, MAE=0.0404\n",
      "❌ # Steps: 7; e_form: P=-0.6263, GT=-0.5240, Δ=0.1023, MAE=0.0407\n",
      "✅ # Steps: 2; e_form: P=-0.4931, GT=-0.4766, Δ=0.0165, MAE=0.0406\n",
      "✅ # Steps: 16; e_form: P=-0.9726, GT=-0.9658, Δ=0.0067, MAE=0.0404\n",
      "✅ # Steps: 7; e_form: P=-0.0632, GT=-0.0569, Δ=0.0063, MAE=0.0402\n",
      "✅ # Steps: 30; e_form: P=-0.4280, GT=-0.3982, Δ=0.0299, MAE=0.0401\n",
      "✅ # Steps: 46; e_form: P=0.1218, GT=0.1746, Δ=0.0528, MAE=0.0402\n",
      "✅ # Steps: 6; e_form: P=-0.2565, GT=-0.2275, Δ=0.0290, MAE=0.0402\n",
      "✅ # Steps: 19; e_form: P=-2.6602, GT=-2.6930, Δ=0.0328, MAE=0.0401\n",
      "✅ # Steps: 10; e_form: P=-0.6785, GT=-0.6667, Δ=0.0118, MAE=0.0400\n",
      "✅ # Steps: 21; e_form: P=-2.3792, GT=-2.3839, Δ=0.0048, MAE=0.0398\n",
      "✅ # Steps: 24; e_form: P=-0.3454, GT=-0.3227, Δ=0.0226, MAE=0.0397\n",
      "✅ # Steps: 9; e_form: P=-0.2968, GT=-0.3888, Δ=0.0920, MAE=0.0400\n",
      "✅ # Steps: 21; e_form: P=-0.7074, GT=-0.6294, Δ=0.0780, MAE=0.0402\n",
      "✅ # Steps: 20; e_form: P=-0.6695, GT=-0.6788, Δ=0.0092, MAE=0.0400\n",
      "✅ # Steps: 9; e_form: P=-0.0467, GT=-0.0314, Δ=0.0154, MAE=0.0399\n",
      "✅ # Steps: 28; e_form: P=-0.9169, GT=-0.9285, Δ=0.0116, MAE=0.0397\n",
      "✅ # Steps: 35; e_form: P=-0.2737, GT=-0.2881, Δ=0.0144, MAE=0.0396\n",
      "✅ # Steps: 7; e_form: P=0.2564, GT=0.3054, Δ=0.0490, MAE=0.0397\n",
      "✅ # Steps: 27; e_form: P=-0.5804, GT=-0.5965, Δ=0.0161, MAE=0.0395\n",
      "✅ # Steps: 6; e_form: P=-0.3069, GT=-0.2966, Δ=0.0102, MAE=0.0394\n",
      "✅ # Steps: 7; e_form: P=-0.4305, GT=-0.3991, Δ=0.0314, MAE=0.0394\n",
      "✅ # Steps: 2; e_form: P=0.1914, GT=0.1580, Δ=0.0334, MAE=0.0393\n",
      "✅ # Steps: 30; e_form: P=-1.2074, GT=-1.1812, Δ=0.0262, MAE=0.0393\n",
      "✅ # Steps: 4; e_form: P=-0.3591, GT=-0.3573, Δ=0.0018, MAE=0.0391\n",
      "✅ # Steps: 37; e_form: P=-0.9945, GT=-0.9678, Δ=0.0267, MAE=0.0390\n",
      "✅ # Steps: 14; e_form: P=-0.5696, GT=-0.5402, Δ=0.0293, MAE=0.0390\n",
      "✅ # Steps: 4; e_form: P=-0.3011, GT=-0.2690, Δ=0.0321, MAE=0.0390\n",
      "✅ # Steps: 22; e_form: P=-1.0618, GT=-1.0754, Δ=0.0136, MAE=0.0388\n",
      "✅ # Steps: 32; e_form: P=-2.5850, GT=-2.5812, Δ=0.0038, MAE=0.0387\n",
      "✅ # Steps: 21; e_form: P=-0.4020, GT=-0.4015, Δ=0.0006, MAE=0.0385\n",
      "❌ # Steps: 17; e_form: P=-0.5187, GT=-0.6224, Δ=0.1037, MAE=0.0388\n",
      "✅ # Steps: 29; e_form: P=-0.5155, GT=-0.4467, Δ=0.0689, MAE=0.0389\n",
      "✅ # Steps: 12; e_form: P=-0.4189, GT=-0.3721, Δ=0.0467, MAE=0.0390\n",
      "✅ # Steps: 14; e_form: P=-0.8390, GT=-0.8439, Δ=0.0050, MAE=0.0388\n",
      "✅ # Steps: 9; e_form: P=-1.3243, GT=-1.2718, Δ=0.0525, MAE=0.0389\n",
      "✅ # Steps: 39; e_form: P=-0.4837, GT=-0.4772, Δ=0.0065, MAE=0.0387\n",
      "❌ # Steps: 7; e_form: P=0.1930, GT=0.0123, Δ=0.1808, MAE=0.0394\n",
      "✅ # Steps: 6; e_form: P=-0.7521, GT=-0.7463, Δ=0.0058, MAE=0.0392\n",
      "✅ # Steps: 10; e_form: P=-0.3792, GT=-0.3658, Δ=0.0134, MAE=0.0391\n",
      "✅ # Steps: 25; e_form: P=-1.0568, GT=-1.0477, Δ=0.0091, MAE=0.0390\n",
      "✅ # Steps: 11; e_form: P=-1.1008, GT=-1.0524, Δ=0.0483, MAE=0.0390\n",
      "✅ # Steps: 5; e_form: P=-0.6485, GT=-0.6714, Δ=0.0230, MAE=0.0389\n",
      "✅ # Steps: 24; e_form: P=-0.4037, GT=-0.3983, Δ=0.0054, MAE=0.0388\n",
      "✅ # Steps: 26; e_form: P=-0.3194, GT=-0.3037, Δ=0.0157, MAE=0.0387\n",
      "❌ # Steps: 6; e_form: P=-0.1413, GT=-0.3480, Δ=0.2067, MAE=0.0394\n",
      "✅ # Steps: 9; e_form: P=-1.0585, GT=-1.0525, Δ=0.0060, MAE=0.0393\n",
      "✅ # Steps: 32; e_form: P=-0.9767, GT=-0.9909, Δ=0.0142, MAE=0.0392\n",
      "✅ # Steps: 15; e_form: P=-3.0715, GT=-3.0627, Δ=0.0089, MAE=0.0390\n",
      "✅ # Steps: 26; e_form: P=-0.4271, GT=-0.3499, Δ=0.0772, MAE=0.0392\n",
      "✅ # Steps: 14; e_form: P=-0.1912, GT=-0.1976, Δ=0.0064, MAE=0.0391\n",
      "✅ # Steps: 16; e_form: P=-3.4046, GT=-3.3686, Δ=0.0360, MAE=0.0391\n",
      "✅ # Steps: 11; e_form: P=-0.7168, GT=-0.7212, Δ=0.0044, MAE=0.0389\n",
      "✅ # Steps: 19; e_form: P=-0.1417, GT=-0.1401, Δ=0.0016, MAE=0.0387\n",
      "✅ # Steps: 31; e_form: P=-2.8532, GT=-2.8415, Δ=0.0117, MAE=0.0386\n",
      "✅ # Steps: 16; e_form: P=-1.5943, GT=-1.5647, Δ=0.0295, MAE=0.0386\n",
      "✅ # Steps: 9; e_form: P=-0.1305, GT=-0.1571, Δ=0.0266, MAE=0.0385\n",
      "✅ # Steps: 14; e_form: P=-0.6607, GT=-0.6765, Δ=0.0158, MAE=0.0385\n",
      "✅ # Steps: 5; e_form: P=-3.6787, GT=-3.6802, Δ=0.0015, MAE=0.0383\n",
      "✅ # Steps: 43; e_form: P=-0.4107, GT=-0.3848, Δ=0.0258, MAE=0.0382\n",
      "❌ # Steps: 36; e_form: P=-1.4397, GT=-1.5717, Δ=0.1319, MAE=0.0386\n",
      "❌ # Steps: 49; e_form: P=-0.1261, GT=-0.3421, Δ=0.2160, MAE=0.0394\n",
      "✅ # Steps: 10; e_form: P=0.1648, GT=0.1931, Δ=0.0283, MAE=0.0393\n",
      "✅ # Steps: 23; e_form: P=-0.2287, GT=-0.2368, Δ=0.0081, MAE=0.0392\n",
      "✅ # Steps: 26; e_form: P=-0.2557, GT=-0.1679, Δ=0.0878, MAE=0.0394\n",
      "✅ # Steps: 14; e_form: P=0.0879, GT=0.0467, Δ=0.0413, MAE=0.0394\n",
      "✅ # Steps: 13; e_form: P=-0.1717, GT=-0.1632, Δ=0.0085, MAE=0.0393\n",
      "✅ # Steps: 8; e_form: P=-1.3454, GT=-1.3506, Δ=0.0052, MAE=0.0391\n",
      "✅ # Steps: 23; e_form: P=0.2224, GT=0.2362, Δ=0.0138, MAE=0.0390\n",
      "✅ # Steps: 16; e_form: P=-1.0266, GT=-1.1042, Δ=0.0776, MAE=0.0392\n",
      "✅ # Steps: 22; e_form: P=-1.5919, GT=-1.5607, Δ=0.0313, MAE=0.0391\n",
      "✅ # Steps: 6; e_form: P=-0.3119, GT=-0.3255, Δ=0.0136, MAE=0.0390\n",
      "✅ # Steps: 18; e_form: P=-0.1580, GT=-0.1849, Δ=0.0269, MAE=0.0390\n",
      "✅ # Steps: 13; e_form: P=0.0202, GT=0.0284, Δ=0.0082, MAE=0.0389\n",
      "✅ # Steps: 25; e_form: P=-2.1526, GT=-2.1538, Δ=0.0012, MAE=0.0387\n",
      "✅ # Steps: 8; e_form: P=-0.1459, GT=-0.1270, Δ=0.0189, MAE=0.0387\n",
      "✅ # Steps: 33; e_form: P=-2.5381, GT=-2.5486, Δ=0.0105, MAE=0.0385\n",
      "❌ # Steps: 7; e_form: P=0.1063, GT=0.2551, Δ=0.1488, MAE=0.0390\n",
      "✅ # Steps: 29; e_form: P=-1.1016, GT=-1.0975, Δ=0.0041, MAE=0.0388\n",
      "✅ # Steps: 18; e_form: P=-0.5679, GT=-0.5501, Δ=0.0178, MAE=0.0388\n",
      "✅ # Steps: 35; e_form: P=0.0309, GT=-0.0254, Δ=0.0563, MAE=0.0388\n",
      "✅ # Steps: 7; e_form: P=-0.3877, GT=-0.3760, Δ=0.0117, MAE=0.0387\n",
      "✅ # Steps: 31; e_form: P=-2.8878, GT=-2.8902, Δ=0.0023, MAE=0.0386\n",
      "✅ # Steps: 11; e_form: P=-0.1375, GT=-0.1396, Δ=0.0022, MAE=0.0384\n",
      "✅ # Steps: 28; e_form: P=-0.3535, GT=-0.3002, Δ=0.0533, MAE=0.0385\n",
      "✅ # Steps: 29; e_form: P=-1.2070, GT=-1.2135, Δ=0.0065, MAE=0.0384\n",
      "✅ # Steps: 22; e_form: P=-0.9572, GT=-0.9548, Δ=0.0024, MAE=0.0383\n",
      "✅ # Steps: 2; e_form: P=-0.7809, GT=-0.7914, Δ=0.0105, MAE=0.0382\n",
      "✅ # Steps: 28; e_form: P=-0.4722, GT=-0.4398, Δ=0.0324, MAE=0.0381\n",
      "✅ # Steps: 6; e_form: P=-0.3640, GT=-0.2929, Δ=0.0711, MAE=0.0383\n",
      "✅ # Steps: 19; e_form: P=-0.7279, GT=-0.7239, Δ=0.0039, MAE=0.0381\n",
      "❌ # Steps: 42; e_form: P=-0.0870, GT=-0.3606, Δ=0.2735, MAE=0.0390\n",
      "✅ # Steps: 12; e_form: P=-1.4121, GT=-1.4032, Δ=0.0090, MAE=0.0389\n",
      "✅ # Steps: 5; e_form: P=-3.4579, GT=-3.4962, Δ=0.0383, MAE=0.0389\n",
      "✅ # Steps: 19; e_form: P=-1.1413, GT=-1.1287, Δ=0.0126, MAE=0.0388\n",
      "✅ # Steps: 7; e_form: P=-0.5540, GT=-0.5259, Δ=0.0280, MAE=0.0387\n",
      "✅ # Steps: 5; e_form: P=-0.2936, GT=-0.2606, Δ=0.0330, MAE=0.0387\n",
      "✅ # Steps: 6; e_form: P=-0.3280, GT=-0.2970, Δ=0.0311, MAE=0.0387\n",
      "✅ # Steps: 10; e_form: P=-0.6472, GT=-0.5697, Δ=0.0775, MAE=0.0388\n",
      "✅ # Steps: 15; e_form: P=-2.6254, GT=-2.5824, Δ=0.0430, MAE=0.0388\n",
      "✅ # Steps: 16; e_form: P=-0.4369, GT=-0.4214, Δ=0.0155, MAE=0.0388\n",
      "✅ # Steps: 19; e_form: P=-0.0446, GT=-0.0098, Δ=0.0348, MAE=0.0387\n",
      "✅ # Steps: 18; e_form: P=-0.4727, GT=-0.4612, Δ=0.0115, MAE=0.0387\n",
      "✅ # Steps: 49; e_form: P=-0.3377, GT=-0.2485, Δ=0.0892, MAE=0.0388\n",
      "✅ # Steps: 7; e_form: P=-0.6313, GT=-0.5462, Δ=0.0851, MAE=0.0390\n",
      "✅ # Steps: 4; e_form: P=-3.1820, GT=-3.1631, Δ=0.0189, MAE=0.0389\n",
      "✅ # Steps: 21; e_form: P=-0.1158, GT=-0.0943, Δ=0.0214, MAE=0.0389\n",
      "✅ # Steps: 18; e_form: P=-0.6586, GT=-0.6579, Δ=0.0008, MAE=0.0387\n",
      "✅ # Steps: 6; e_form: P=-0.6178, GT=-0.6384, Δ=0.0206, MAE=0.0387\n",
      "✅ # Steps: 29; e_form: P=-0.3550, GT=-0.3552, Δ=0.0002, MAE=0.0385\n",
      "✅ # Steps: 28; e_form: P=-0.7650, GT=-0.8418, Δ=0.0768, MAE=0.0387\n",
      "✅ # Steps: 10; e_form: P=-1.0770, GT=-1.0746, Δ=0.0024, MAE=0.0385\n",
      "✅ # Steps: 26; e_form: P=-1.6282, GT=-1.5943, Δ=0.0339, MAE=0.0385\n",
      "✅ # Steps: 20; e_form: P=-0.6089, GT=-0.5547, Δ=0.0542, MAE=0.0386\n",
      "✅ # Steps: 32; e_form: P=0.0261, GT=0.0806, Δ=0.0545, MAE=0.0386\n",
      "✅ # Steps: 38; e_form: P=-1.4456, GT=-1.4336, Δ=0.0120, MAE=0.0385\n",
      "✅ # Steps: 15; e_form: P=-2.3877, GT=-2.3755, Δ=0.0122, MAE=0.0385\n",
      "✅ # Steps: 10; e_form: P=-1.4405, GT=-1.4308, Δ=0.0097, MAE=0.0384\n",
      "✅ # Steps: 21; e_form: P=-0.3552, GT=-0.3374, Δ=0.0177, MAE=0.0383\n",
      "✅ # Steps: 24; e_form: P=-0.9239, GT=-0.9316, Δ=0.0077, MAE=0.0382\n",
      "✅ # Steps: 40; e_form: P=-0.3647, GT=-0.3162, Δ=0.0486, MAE=0.0382\n",
      "✅ # Steps: 17; e_form: P=0.0471, GT=0.0511, Δ=0.0040, MAE=0.0381\n",
      "✅ # Steps: 25; e_form: P=0.1480, GT=0.1616, Δ=0.0136, MAE=0.0380\n",
      "✅ # Steps: 18; e_form: P=-0.0916, GT=-0.0789, Δ=0.0127, MAE=0.0379\n",
      "✅ # Steps: 2; e_form: P=-0.2498, GT=-0.2545, Δ=0.0047, MAE=0.0378\n",
      "✅ # Steps: 15; e_form: P=-0.0594, GT=0.0015, Δ=0.0609, MAE=0.0379\n",
      "✅ # Steps: 2; e_form: P=-0.1577, GT=-0.1631, Δ=0.0054, MAE=0.0378\n",
      "✅ # Steps: 2; e_form: P=-0.1827, GT=-0.1271, Δ=0.0556, MAE=0.0379\n",
      "✅ # Steps: 7; e_form: P=-0.5368, GT=-0.5222, Δ=0.0146, MAE=0.0378\n",
      "✅ # Steps: 8; e_form: P=-1.9945, GT=-1.9784, Δ=0.0161, MAE=0.0377\n",
      "✅ # Steps: 7; e_form: P=-0.5919, GT=-0.5776, Δ=0.0143, MAE=0.0376\n",
      "✅ # Steps: 23; e_form: P=-0.2817, GT=-0.2747, Δ=0.0069, MAE=0.0376\n",
      "✅ # Steps: 9; e_form: P=-1.5028, GT=-1.4847, Δ=0.0181, MAE=0.0375\n",
      "✅ # Steps: 4; e_form: P=-0.3241, GT=-0.3292, Δ=0.0051, MAE=0.0374\n",
      "✅ # Steps: 41; e_form: P=-1.0142, GT=-0.9625, Δ=0.0517, MAE=0.0374\n",
      "✅ # Steps: 12; e_form: P=-0.5301, GT=-0.5177, Δ=0.0125, MAE=0.0374\n",
      "✅ # Steps: 24; e_form: P=0.1954, GT=0.2082, Δ=0.0128, MAE=0.0373\n",
      "✅ # Steps: 10; e_form: P=-0.3966, GT=-0.3508, Δ=0.0458, MAE=0.0373\n",
      "✅ # Steps: 20; e_form: P=-0.4701, GT=-0.4470, Δ=0.0230, MAE=0.0373\n",
      "✅ # Steps: 9; e_form: P=0.1859, GT=0.1911, Δ=0.0052, MAE=0.0372\n",
      "✅ # Steps: 32; e_form: P=0.0833, GT=0.1542, Δ=0.0709, MAE=0.0373\n",
      "✅ # Steps: 11; e_form: P=-0.8040, GT=-0.8076, Δ=0.0036, MAE=0.0372\n",
      "✅ # Steps: 5; e_form: P=0.1217, GT=0.0925, Δ=0.0292, MAE=0.0371\n",
      "✅ # Steps: 20; e_form: P=-1.8008, GT=-1.8111, Δ=0.0103, MAE=0.0371\n",
      "✅ # Steps: 7; e_form: P=-0.1544, GT=-0.1634, Δ=0.0090, MAE=0.0370\n",
      "✅ # Steps: 9; e_form: P=-0.4907, GT=-0.5007, Δ=0.0100, MAE=0.0369\n",
      "✅ # Steps: 19; e_form: P=-1.4024, GT=-1.4078, Δ=0.0054, MAE=0.0368\n",
      "✅ # Steps: 17; e_form: P=-0.1946, GT=-0.1708, Δ=0.0238, MAE=0.0368\n",
      "✅ # Steps: 37; e_form: P=-0.3709, GT=-0.3685, Δ=0.0024, MAE=0.0366\n",
      "❌ # Steps: 21; e_form: P=-0.0088, GT=0.0935, Δ=0.1023, MAE=0.0368\n",
      "✅ # Steps: 6; e_form: P=-0.2561, GT=-0.1931, Δ=0.0630, MAE=0.0369\n",
      "✅ # Steps: 11; e_form: P=-0.0713, GT=-0.1240, Δ=0.0526, MAE=0.0370\n",
      "✅ # Steps: 12; e_form: P=0.0987, GT=0.1337, Δ=0.0350, MAE=0.0370\n",
      "✅ # Steps: 11; e_form: P=0.0679, GT=0.0083, Δ=0.0597, MAE=0.0370\n",
      "❌ # Steps: 25; e_form: P=-0.5607, GT=-0.8105, Δ=0.2497, MAE=0.0377\n",
      "✅ # Steps: 4; e_form: P=-0.5675, GT=-0.4951, Δ=0.0724, MAE=0.0378\n",
      "✅ # Steps: 34; e_form: P=-2.7222, GT=-2.7213, Δ=0.0009, MAE=0.0377\n",
      "✅ # Steps: 16; e_form: P=-0.4117, GT=-0.3632, Δ=0.0485, MAE=0.0377\n",
      "❌ # Steps: 7; e_form: P=0.0140, GT=0.2833, Δ=0.2692, MAE=0.0384\n",
      "✅ # Steps: 5; e_form: P=-1.2995, GT=-1.2431, Δ=0.0564, MAE=0.0384\n",
      "✅ # Steps: 31; e_form: P=-0.3651, GT=-0.3484, Δ=0.0167, MAE=0.0384\n",
      "✅ # Steps: 9; e_form: P=-0.1969, GT=-0.1932, Δ=0.0037, MAE=0.0383\n",
      "✅ # Steps: 5; e_form: P=0.0099, GT=0.0308, Δ=0.0209, MAE=0.0382\n",
      "✅ # Steps: 8; e_form: P=-0.6029, GT=-0.5981, Δ=0.0048, MAE=0.0381\n",
      "❌ # Steps: 16; e_form: P=0.3360, GT=0.5118, Δ=0.1758, MAE=0.0385\n",
      "✅ # Steps: 5; e_form: P=-0.4653, GT=-0.4102, Δ=0.0551, MAE=0.0386\n",
      "✅ # Steps: 30; e_form: P=-2.7294, GT=-2.6799, Δ=0.0496, MAE=0.0386\n",
      "✅ # Steps: 5; e_form: P=-0.5244, GT=-0.5014, Δ=0.0230, MAE=0.0385\n",
      "✅ # Steps: 7; e_form: P=-0.2566, GT=-0.2690, Δ=0.0124, MAE=0.0385\n",
      "✅ # Steps: 17; e_form: P=-0.2784, GT=-0.2638, Δ=0.0147, MAE=0.0384\n",
      "✅ # Steps: 13; e_form: P=-0.3750, GT=-0.3963, Δ=0.0212, MAE=0.0383\n",
      "✅ # Steps: 23; e_form: P=-0.3326, GT=-0.2654, Δ=0.0672, MAE=0.0384\n",
      "❌ # Steps: 8; e_form: P=-0.4370, GT=-0.6032, Δ=0.1663, MAE=0.0388\n",
      "✅ # Steps: 18; e_form: P=-0.1570, GT=-0.1310, Δ=0.0259, MAE=0.0388\n",
      "✅ # Steps: 17; e_form: P=0.1240, GT=0.1694, Δ=0.0454, MAE=0.0388\n",
      "✅ # Steps: 11; e_form: P=-1.3620, GT=-1.3569, Δ=0.0052, MAE=0.0387\n",
      "✅ # Steps: 22; e_form: P=-0.7939, GT=-0.8004, Δ=0.0065, MAE=0.0386\n",
      "✅ # Steps: 6; e_form: P=-0.3485, GT=-0.3201, Δ=0.0284, MAE=0.0386\n",
      "✅ # Steps: 21; e_form: P=-0.4462, GT=-0.4318, Δ=0.0144, MAE=0.0385\n",
      "✅ # Steps: 17; e_form: P=-1.9996, GT=-2.0279, Δ=0.0283, MAE=0.0385\n",
      "✅ # Steps: 24; e_form: P=-0.6519, GT=-0.6544, Δ=0.0025, MAE=0.0384\n",
      "✅ # Steps: 19; e_form: P=0.3252, GT=0.3798, Δ=0.0546, MAE=0.0384\n",
      "✅ # Steps: 11; e_form: P=-0.6005, GT=-0.5976, Δ=0.0030, MAE=0.0383\n",
      "✅ # Steps: 30; e_form: P=-1.5129, GT=-1.4740, Δ=0.0388, MAE=0.0383\n",
      "✅ # Steps: 6; e_form: P=-0.3118, GT=-0.2463, Δ=0.0655, MAE=0.0384\n",
      "❌ # Steps: 14; e_form: P=-1.3619, GT=-1.2141, Δ=0.1479, MAE=0.0387\n",
      "✅ # Steps: 14; e_form: P=-1.1864, GT=-1.1408, Δ=0.0456, MAE=0.0387\n",
      "✅ # Steps: 13; e_form: P=-0.5841, GT=-0.5878, Δ=0.0037, MAE=0.0386\n",
      "✅ # Steps: 5; e_form: P=-0.4955, GT=-0.4503, Δ=0.0452, MAE=0.0386\n",
      "✅ # Steps: 13; e_form: P=-0.3009, GT=-0.3049, Δ=0.0040, MAE=0.0385\n",
      "✅ # Steps: 7; e_form: P=-0.9598, GT=-0.9830, Δ=0.0232, MAE=0.0385\n",
      "✅ # Steps: 40; e_form: P=-0.1499, GT=-0.1532, Δ=0.0033, MAE=0.0384\n",
      "✅ # Steps: 6; e_form: P=-0.3398, GT=-0.3044, Δ=0.0354, MAE=0.0384\n",
      "✅ # Steps: 10; e_form: P=-1.6558, GT=-1.6222, Δ=0.0336, MAE=0.0384\n",
      "✅ # Steps: 10; e_form: P=-0.0455, GT=-0.0301, Δ=0.0153, MAE=0.0383\n",
      "✅ # Steps: 5; e_form: P=-0.4738, GT=-0.4251, Δ=0.0487, MAE=0.0383\n",
      "✅ # Steps: 37; e_form: P=-0.5393, GT=-0.5130, Δ=0.0263, MAE=0.0383\n",
      "✅ # Steps: 18; e_form: P=-3.1366, GT=-3.1520, Δ=0.0155, MAE=0.0383\n",
      "✅ # Steps: 22; e_form: P=-0.4204, GT=-0.3649, Δ=0.0556, MAE=0.0383\n",
      "✅ # Steps: 14; e_form: P=-2.2315, GT=-2.2342, Δ=0.0027, MAE=0.0382\n",
      "✅ # Steps: 12; e_form: P=-0.5515, GT=-0.5325, Δ=0.0190, MAE=0.0382\n",
      "✅ # Steps: 12; e_form: P=-0.4601, GT=-0.4471, Δ=0.0129, MAE=0.0381\n",
      "✅ # Steps: 11; e_form: P=-2.7101, GT=-2.7168, Δ=0.0067, MAE=0.0380\n",
      "✅ # Steps: 28; e_form: P=-1.1612, GT=-1.2164, Δ=0.0551, MAE=0.0381\n",
      "✅ # Steps: 16; e_form: P=-2.1591, GT=-2.1397, Δ=0.0193, MAE=0.0380\n",
      "✅ # Steps: 18; e_form: P=-0.3561, GT=-0.3764, Δ=0.0203, MAE=0.0380\n",
      "✅ # Steps: 7; e_form: P=-0.9019, GT=-0.8865, Δ=0.0155, MAE=0.0379\n",
      "✅ # Steps: 23; e_form: P=0.1908, GT=0.2417, Δ=0.0508, MAE=0.0379\n",
      "✅ # Steps: 2; e_form: P=-0.1928, GT=-0.1682, Δ=0.0247, MAE=0.0379\n",
      "✅ # Steps: 4; e_form: P=-0.2610, GT=-0.3432, Δ=0.0822, MAE=0.0380\n",
      "✅ # Steps: 5; e_form: P=-0.2551, GT=-0.2321, Δ=0.0230, MAE=0.0380\n",
      "✅ # Steps: 22; e_form: P=-0.2168, GT=-0.1878, Δ=0.0290, MAE=0.0380\n",
      "✅ # Steps: 32; e_form: P=-0.0692, GT=-0.1427, Δ=0.0735, MAE=0.0380\n",
      "❌ # Steps: 21; e_form: P=0.2609, GT=0.5987, Δ=0.3378, MAE=0.0388\n",
      "✅ # Steps: 8; e_form: P=-1.2745, GT=-1.2601, Δ=0.0144, MAE=0.0387\n",
      "✅ # Steps: 11; e_form: P=-0.1185, GT=-0.0534, Δ=0.0650, MAE=0.0388\n",
      "✅ # Steps: 33; e_form: P=-0.3740, GT=-0.3431, Δ=0.0309, MAE=0.0388\n",
      "✅ # Steps: 4; e_form: P=-0.3498, GT=-0.3222, Δ=0.0277, MAE=0.0388\n",
      "✅ # Steps: 27; e_form: P=0.1494, GT=0.1170, Δ=0.0324, MAE=0.0387\n",
      "✅ # Steps: 9; e_form: P=-0.3883, GT=-0.4119, Δ=0.0236, MAE=0.0387\n",
      "❌ # Steps: 11; e_form: P=-0.1964, GT=-0.4360, Δ=0.2396, MAE=0.0392\n",
      "✅ # Steps: 27; e_form: P=-0.8274, GT=-0.8111, Δ=0.0163, MAE=0.0391\n",
      "✅ # Steps: 21; e_form: P=-3.1936, GT=-3.1884, Δ=0.0053, MAE=0.0391\n",
      "✅ # Steps: 14; e_form: P=-0.2270, GT=-0.1988, Δ=0.0281, MAE=0.0390\n",
      "✅ # Steps: 16; e_form: P=-0.6148, GT=-0.5643, Δ=0.0504, MAE=0.0391\n",
      "✅ # Steps: 13; e_form: P=-1.9265, GT=-1.8787, Δ=0.0478, MAE=0.0391\n",
      "✅ # Steps: 7; e_form: P=0.0631, GT=-0.0276, Δ=0.0907, MAE=0.0392\n",
      "❌ # Steps: 6; e_form: P=-2.5474, GT=-2.2873, Δ=0.2601, MAE=0.0397\n",
      "✅ # Steps: 12; e_form: P=-0.4193, GT=-0.4083, Δ=0.0109, MAE=0.0397\n",
      "✅ # Steps: 27; e_form: P=-0.3598, GT=-0.3668, Δ=0.0070, MAE=0.0396\n",
      "✅ # Steps: 9; e_form: P=-0.1185, GT=-0.0705, Δ=0.0480, MAE=0.0396\n",
      "✅ # Steps: 27; e_form: P=0.0252, GT=-0.0077, Δ=0.0329, MAE=0.0396\n",
      "✅ # Steps: 9; e_form: P=-0.2572, GT=-0.2668, Δ=0.0096, MAE=0.0395\n",
      "✅ # Steps: 11; e_form: P=-0.3575, GT=-0.3127, Δ=0.0448, MAE=0.0395\n",
      "✅ # Steps: 15; e_form: P=-0.5720, GT=-0.5940, Δ=0.0220, MAE=0.0395\n",
      "✅ # Steps: 12; e_form: P=-0.2946, GT=-0.3200, Δ=0.0254, MAE=0.0395\n",
      "✅ # Steps: 7; e_form: P=-1.7285, GT=-1.7240, Δ=0.0045, MAE=0.0394\n",
      "✅ # Steps: 18; e_form: P=-0.9579, GT=-0.8786, Δ=0.0794, MAE=0.0395\n",
      "✅ # Steps: 10; e_form: P=-0.3622, GT=-0.3632, Δ=0.0010, MAE=0.0394\n",
      "✅ # Steps: 20; e_form: P=-0.3115, GT=-0.2736, Δ=0.0379, MAE=0.0394\n",
      "✅ # Steps: 13; e_form: P=-0.7530, GT=-0.6666, Δ=0.0864, MAE=0.0395\n",
      "✅ # Steps: 15; e_form: P=0.6622, GT=0.6818, Δ=0.0196, MAE=0.0394\n",
      "✅ # Steps: 14; e_form: P=-0.6266, GT=-0.6665, Δ=0.0399, MAE=0.0394\n",
      "✅ # Steps: 16; e_form: P=-1.4861, GT=-1.5061, Δ=0.0201, MAE=0.0394\n",
      "✅ # Steps: 16; e_form: P=-0.1066, GT=-0.1093, Δ=0.0028, MAE=0.0393\n",
      "✅ # Steps: 20; e_form: P=-0.6193, GT=-0.5989, Δ=0.0204, MAE=0.0393\n",
      "✅ # Steps: 9; e_form: P=-0.5102, GT=-0.4924, Δ=0.0178, MAE=0.0392\n",
      "✅ # Steps: 22; e_form: P=-1.3653, GT=-1.3336, Δ=0.0316, MAE=0.0392\n",
      "✅ # Steps: 16; e_form: P=-3.2768, GT=-3.2792, Δ=0.0025, MAE=0.0391\n",
      "❌ # Steps: 26; e_form: P=0.2207, GT=0.3832, Δ=0.1625, MAE=0.0394\n",
      "✅ # Steps: 10; e_form: P=0.0631, GT=0.0537, Δ=0.0094, MAE=0.0393\n",
      "✅ # Steps: 10; e_form: P=-0.0453, GT=0.0027, Δ=0.0479, MAE=0.0394\n",
      "✅ # Steps: 20; e_form: P=-0.5466, GT=-0.5196, Δ=0.0270, MAE=0.0393\n",
      "✅ # Steps: 32; e_form: P=-2.2383, GT=-2.2587, Δ=0.0204, MAE=0.0393\n",
      "✅ # Steps: 17; e_form: P=-1.2937, GT=-1.2841, Δ=0.0096, MAE=0.0392\n",
      "✅ # Steps: 5; e_form: P=-0.7005, GT=-0.7231, Δ=0.0226, MAE=0.0392\n",
      "✅ # Steps: 28; e_form: P=-0.4170, GT=-0.4143, Δ=0.0027, MAE=0.0391\n",
      "✅ # Steps: 33; e_form: P=-0.8105, GT=-0.7934, Δ=0.0171, MAE=0.0390\n",
      "✅ # Steps: 20; e_form: P=0.1430, GT=0.1865, Δ=0.0435, MAE=0.0391\n",
      "✅ # Steps: 6; e_form: P=-0.4790, GT=-0.4318, Δ=0.0472, MAE=0.0391\n",
      "✅ # Steps: 7; e_form: P=-0.0930, GT=-0.0863, Δ=0.0067, MAE=0.0390\n",
      "✅ # Steps: 2; e_form: P=-0.7488, GT=-0.7530, Δ=0.0042, MAE=0.0389\n",
      "✅ # Steps: 12; e_form: P=-0.0250, GT=-0.0371, Δ=0.0121, MAE=0.0389\n",
      "✅ # Steps: 5; e_form: P=-0.0733, GT=-0.0964, Δ=0.0231, MAE=0.0388\n",
      "✅ # Steps: 6; e_form: P=-0.2845, GT=-0.2518, Δ=0.0327, MAE=0.0388\n",
      "✅ # Steps: 30; e_form: P=-0.4145, GT=-0.4321, Δ=0.0176, MAE=0.0388\n",
      "✅ # Steps: 6; e_form: P=-0.2311, GT=-0.2002, Δ=0.0309, MAE=0.0387\n",
      "✅ # Steps: 10; e_form: P=-2.6142, GT=-2.6040, Δ=0.0102, MAE=0.0387\n",
      "✅ # Steps: 19; e_form: P=-0.0504, GT=0.0170, Δ=0.0673, MAE=0.0387\n",
      "✅ # Steps: 6; e_form: P=-0.5307, GT=-0.4771, Δ=0.0537, MAE=0.0388\n",
      "✅ # Steps: 7; e_form: P=-0.2741, GT=-0.2191, Δ=0.0550, MAE=0.0388\n",
      "✅ # Steps: 45; e_form: P=-0.0167, GT=0.0449, Δ=0.0616, MAE=0.0389\n",
      "✅ # Steps: 37; e_form: P=-0.4961, GT=-0.4633, Δ=0.0329, MAE=0.0389\n",
      "✅ # Steps: 5; e_form: P=-1.7164, GT=-1.7061, Δ=0.0102, MAE=0.0388\n",
      "✅ # Steps: 5; e_form: P=-0.3641, GT=-0.2892, Δ=0.0749, MAE=0.0389\n",
      "✅ # Steps: 21; e_form: P=-0.4607, GT=-0.4551, Δ=0.0055, MAE=0.0388\n",
      "✅ # Steps: 25; e_form: P=-0.0304, GT=-0.0117, Δ=0.0187, MAE=0.0388\n",
      "✅ # Steps: 27; e_form: P=-2.3745, GT=-2.3555, Δ=0.0190, MAE=0.0387\n",
      "✅ # Steps: 5; e_form: P=-0.7977, GT=-0.8149, Δ=0.0172, MAE=0.0387\n",
      "✅ # Steps: 6; e_form: P=-0.5013, GT=-0.4467, Δ=0.0546, MAE=0.0387\n",
      "❌ # Steps: 18; e_form: P=-0.0195, GT=0.0827, Δ=0.1022, MAE=0.0388\n",
      "❌ # Steps: 29; e_form: P=-0.0486, GT=0.0775, Δ=0.1261, MAE=0.0390\n",
      "✅ # Steps: 15; e_form: P=0.1187, GT=0.1238, Δ=0.0050, MAE=0.0390\n",
      "✅ # Steps: 6; e_form: P=-0.9928, GT=-1.0357, Δ=0.0429, MAE=0.0390\n",
      "✅ # Steps: 32; e_form: P=-2.5880, GT=-2.5686, Δ=0.0194, MAE=0.0389\n",
      "✅ # Steps: 12; e_form: P=-0.4355, GT=-0.3769, Δ=0.0586, MAE=0.0390\n",
      "✅ # Steps: 28; e_form: P=-3.4084, GT=-3.3940, Δ=0.0145, MAE=0.0389\n",
      "✅ # Steps: 3; e_form: P=-0.2946, GT=-0.3032, Δ=0.0086, MAE=0.0388\n",
      "✅ # Steps: 13; e_form: P=-3.3349, GT=-3.3388, Δ=0.0040, MAE=0.0388\n",
      "✅ # Steps: 34; e_form: P=-2.6827, GT=-2.6596, Δ=0.0231, MAE=0.0387\n",
      "✅ # Steps: 50; e_form: P=-2.1763, GT=-2.1376, Δ=0.0387, MAE=0.0387\n",
      "✅ # Steps: 2; e_form: P=-0.0194, GT=-0.0600, Δ=0.0406, MAE=0.0387\n",
      "✅ # Steps: 13; e_form: P=-0.5658, GT=-0.5583, Δ=0.0076, MAE=0.0387\n",
      "✅ # Steps: 14; e_form: P=-0.4850, GT=-0.4692, Δ=0.0157, MAE=0.0386\n",
      "✅ # Steps: 8; e_form: P=-0.0784, GT=-0.0707, Δ=0.0076, MAE=0.0386\n",
      "✅ # Steps: 8; e_form: P=0.0841, GT=0.1151, Δ=0.0311, MAE=0.0385\n",
      "❌ # Steps: 22; e_form: P=-0.0248, GT=-0.1343, Δ=0.1094, MAE=0.0387\n",
      "✅ # Steps: 18; e_form: P=-0.2871, GT=-0.3037, Δ=0.0166, MAE=0.0386\n",
      "✅ # Steps: 21; e_form: P=-1.2904, GT=-1.2667, Δ=0.0237, MAE=0.0386\n",
      "✅ # Steps: 22; e_form: P=-0.4568, GT=-0.4045, Δ=0.0523, MAE=0.0386\n",
      "✅ # Steps: 2; e_form: P=-2.2987, GT=-2.2861, Δ=0.0126, MAE=0.0386\n",
      "❌ # Steps: 4; e_form: P=0.1214, GT=0.2393, Δ=0.1179, MAE=0.0388\n",
      "✅ # Steps: 29; e_form: P=-0.8956, GT=-0.8561, Δ=0.0395, MAE=0.0388\n",
      "✅ # Steps: 11; e_form: P=-0.7652, GT=-0.6908, Δ=0.0744, MAE=0.0388\n",
      "✅ # Steps: 5; e_form: P=-0.6221, GT=-0.6344, Δ=0.0123, MAE=0.0388\n",
      "✅ # Steps: 32; e_form: P=0.0241, GT=-0.0360, Δ=0.0601, MAE=0.0388\n",
      "✅ # Steps: 21; e_form: P=-2.9133, GT=-2.8779, Δ=0.0354, MAE=0.0388\n",
      "✅ # Steps: 9; e_form: P=-0.4877, GT=-0.4743, Δ=0.0134, MAE=0.0388\n",
      "✅ # Steps: 16; e_form: P=-0.1402, GT=-0.1338, Δ=0.0064, MAE=0.0387\n",
      "✅ # Steps: 18; e_form: P=-2.9386, GT=-2.9504, Δ=0.0118, MAE=0.0386\n",
      "✅ # Steps: 13; e_form: P=-1.1612, GT=-1.1308, Δ=0.0304, MAE=0.0386\n",
      "❌ # Steps: 6; e_form: P=-0.2148, GT=-0.0799, Δ=0.1348, MAE=0.0388\n",
      "✅ # Steps: 6; e_form: P=-0.4090, GT=-0.4130, Δ=0.0039, MAE=0.0387\n",
      "✅ # Steps: 19; e_form: P=-0.3181, GT=-0.2272, Δ=0.0909, MAE=0.0389\n",
      "✅ # Steps: 9; e_form: P=-0.6302, GT=-0.7093, Δ=0.0790, MAE=0.0389\n",
      "✅ # Steps: 27; e_form: P=-2.2542, GT=-2.2206, Δ=0.0337, MAE=0.0389\n",
      "✅ # Steps: 9; e_form: P=-0.2949, GT=-0.2893, Δ=0.0056, MAE=0.0389\n",
      "✅ # Steps: 21; e_form: P=-0.0354, GT=0.0387, Δ=0.0742, MAE=0.0389\n",
      "✅ # Steps: 17; e_form: P=0.0539, GT=0.0543, Δ=0.0004, MAE=0.0388\n",
      "✅ # Steps: 36; e_form: P=-1.3911, GT=-1.3329, Δ=0.0582, MAE=0.0389\n",
      "✅ # Steps: 5; e_form: P=-1.2881, GT=-1.2761, Δ=0.0120, MAE=0.0388\n",
      "✅ # Steps: 25; e_form: P=-1.4711, GT=-1.4766, Δ=0.0056, MAE=0.0388\n",
      "✅ # Steps: 2; e_form: P=-0.2061, GT=-0.1685, Δ=0.0376, MAE=0.0388\n",
      "✅ # Steps: 6; e_form: P=0.0862, GT=0.0730, Δ=0.0131, MAE=0.0387\n",
      "✅ # Steps: 18; e_form: P=-0.8748, GT=-0.8669, Δ=0.0079, MAE=0.0387\n",
      "✅ # Steps: 10; e_form: P=-2.6406, GT=-2.6322, Δ=0.0085, MAE=0.0386\n",
      "✅ # Steps: 33; e_form: P=-1.3712, GT=-1.3443, Δ=0.0269, MAE=0.0386\n",
      "✅ # Steps: 20; e_form: P=-0.6329, GT=-0.6475, Δ=0.0146, MAE=0.0385\n",
      "✅ # Steps: 17; e_form: P=-0.1915, GT=-0.1826, Δ=0.0089, MAE=0.0385\n",
      "✅ # Steps: 20; e_form: P=-2.1387, GT=-2.0983, Δ=0.0404, MAE=0.0385\n",
      "✅ # Steps: 21; e_form: P=-0.3651, GT=-0.3503, Δ=0.0148, MAE=0.0384\n",
      "✅ # Steps: 32; e_form: P=-0.1639, GT=-0.1580, Δ=0.0058, MAE=0.0384\n",
      "✅ # Steps: 22; e_form: P=-0.1361, GT=-0.1598, Δ=0.0237, MAE=0.0383\n",
      "✅ # Steps: 15; e_form: P=-0.7136, GT=-0.6876, Δ=0.0260, MAE=0.0383\n",
      "✅ # Steps: 23; e_form: P=-1.2797, GT=-1.2993, Δ=0.0196, MAE=0.0383\n",
      "✅ # Steps: 8; e_form: P=-0.5569, GT=-0.5501, Δ=0.0068, MAE=0.0382\n",
      "✅ # Steps: 12; e_form: P=-1.0776, GT=-1.0896, Δ=0.0119, MAE=0.0382\n",
      "✅ # Steps: 35; e_form: P=-0.4692, GT=-0.4637, Δ=0.0055, MAE=0.0381\n",
      "✅ # Steps: 18; e_form: P=-0.1990, GT=-0.2614, Δ=0.0624, MAE=0.0381\n",
      "❌ # Steps: 2; e_form: P=0.9580, GT=0.6411, Δ=0.3169, MAE=0.0387\n",
      "✅ # Steps: 28; e_form: P=-0.1372, GT=-0.1034, Δ=0.0337, MAE=0.0387\n",
      "✅ # Steps: 19; e_form: P=-0.5242, GT=-0.5191, Δ=0.0051, MAE=0.0386\n",
      "❌ # Steps: 9; e_form: P=-0.5596, GT=-0.1120, Δ=0.4476, MAE=0.0394\n",
      "✅ # Steps: 15; e_form: P=-0.2284, GT=-0.2499, Δ=0.0215, MAE=0.0394\n",
      "✅ # Steps: 24; e_form: P=-2.4909, GT=-2.5247, Δ=0.0338, MAE=0.0393\n",
      "✅ # Steps: 17; e_form: P=-2.0024, GT=-2.0179, Δ=0.0154, MAE=0.0393\n",
      "✅ # Steps: 9; e_form: P=-3.5025, GT=-3.4688, Δ=0.0336, MAE=0.0393\n",
      "✅ # Steps: 59; e_form: P=-1.8330, GT=-1.8129, Δ=0.0201, MAE=0.0392\n",
      "✅ # Steps: 26; e_form: P=-1.6332, GT=-1.5940, Δ=0.0391, MAE=0.0392\n",
      "❌ # Steps: 9; e_form: P=0.4787, GT=0.3225, Δ=0.1562, MAE=0.0395\n",
      "✅ # Steps: 25; e_form: P=-0.4143, GT=-0.3965, Δ=0.0178, MAE=0.0394\n",
      "❌ # Steps: 23; e_form: P=-0.0666, GT=0.0576, Δ=0.1242, MAE=0.0396\n",
      "✅ # Steps: 17; e_form: P=-0.0635, GT=-0.0159, Δ=0.0477, MAE=0.0396\n",
      "✅ # Steps: 19; e_form: P=0.1282, GT=0.1111, Δ=0.0170, MAE=0.0396\n",
      "✅ # Steps: 25; e_form: P=-0.1035, GT=-0.0377, Δ=0.0658, MAE=0.0396\n",
      "✅ # Steps: 8; e_form: P=-0.5169, GT=-0.5141, Δ=0.0028, MAE=0.0395\n",
      "✅ # Steps: 78; e_form: P=-2.1369, GT=-2.1161, Δ=0.0209, MAE=0.0395\n",
      "✅ # Steps: 74; e_form: P=-2.5358, GT=-2.5049, Δ=0.0308, MAE=0.0395\n",
      "✅ # Steps: 6; e_form: P=-0.8246, GT=-0.8271, Δ=0.0025, MAE=0.0394\n",
      "✅ # Steps: 14; e_form: P=-0.4488, GT=-0.5156, Δ=0.0668, MAE=0.0395\n",
      "✅ # Steps: 22; e_form: P=-0.5869, GT=-0.5640, Δ=0.0229, MAE=0.0394\n",
      "✅ # Steps: 15; e_form: P=-1.6771, GT=-1.6820, Δ=0.0050, MAE=0.0394\n",
      "✅ # Steps: 11; e_form: P=-0.3746, GT=-0.3405, Δ=0.0341, MAE=0.0394\n",
      "✅ # Steps: 7; e_form: P=-0.4910, GT=-0.4428, Δ=0.0482, MAE=0.0394\n",
      "✅ # Steps: 12; e_form: P=-1.1689, GT=-1.1451, Δ=0.0237, MAE=0.0394\n",
      "✅ # Steps: 13; e_form: P=-0.6340, GT=-0.6023, Δ=0.0317, MAE=0.0393\n",
      "✅ # Steps: 17; e_form: P=-0.4016, GT=-0.3936, Δ=0.0079, MAE=0.0393\n",
      "✅ # Steps: 10; e_form: P=-0.0371, GT=-0.0421, Δ=0.0050, MAE=0.0392\n",
      "✅ # Steps: 10; e_form: P=-0.9968, GT=-0.9832, Δ=0.0136, MAE=0.0392\n",
      "✅ # Steps: 4; e_form: P=-0.5862, GT=-0.5563, Δ=0.0299, MAE=0.0392\n",
      "✅ # Steps: 20; e_form: P=-0.7651, GT=-0.7670, Δ=0.0019, MAE=0.0391\n",
      "✅ # Steps: 23; e_form: P=-0.1861, GT=-0.1858, Δ=0.0004, MAE=0.0390\n",
      "✅ # Steps: 55; e_form: P=-0.3439, GT=-0.2767, Δ=0.0672, MAE=0.0391\n",
      "✅ # Steps: 25; e_form: P=-0.2102, GT=-0.2254, Δ=0.0152, MAE=0.0390\n",
      "✅ # Steps: 10; e_form: P=-0.6397, GT=-0.6263, Δ=0.0133, MAE=0.0390\n",
      "✅ # Steps: 17; e_form: P=-0.3822, GT=-0.3658, Δ=0.0164, MAE=0.0389\n",
      "✅ # Steps: 8; e_form: P=0.2096, GT=0.2445, Δ=0.0349, MAE=0.0389\n",
      "✅ # Steps: 28; e_form: P=-3.5468, GT=-3.5404, Δ=0.0064, MAE=0.0389\n",
      "✅ # Steps: 5; e_form: P=0.0719, GT=0.1506, Δ=0.0787, MAE=0.0389\n",
      "✅ # Steps: 33; e_form: P=-0.8166, GT=-0.8014, Δ=0.0151, MAE=0.0389\n",
      "✅ # Steps: 5; e_form: P=-0.6210, GT=-0.6250, Δ=0.0040, MAE=0.0388\n",
      "✅ # Steps: 13; e_form: P=-0.7188, GT=-0.7112, Δ=0.0076, MAE=0.0388\n",
      "✅ # Steps: 18; e_form: P=-0.4843, GT=-0.4879, Δ=0.0036, MAE=0.0387\n",
      "✅ # Steps: 12; e_form: P=-0.4840, GT=-0.4465, Δ=0.0375, MAE=0.0387\n",
      "✅ # Steps: 16; e_form: P=-2.4427, GT=-2.3910, Δ=0.0517, MAE=0.0387\n",
      "✅ # Steps: 12; e_form: P=-1.9495, GT=-1.9500, Δ=0.0004, MAE=0.0387\n",
      "✅ # Steps: 5; e_form: P=-0.9767, GT=-1.0008, Δ=0.0241, MAE=0.0387\n",
      "✅ # Steps: 20; e_form: P=-0.5906, GT=-0.6225, Δ=0.0319, MAE=0.0386\n",
      "❌ # Steps: 13; e_form: P=0.0455, GT=0.3101, Δ=0.2646, MAE=0.0390\n",
      "✅ # Steps: 17; e_form: P=-0.3921, GT=-0.3884, Δ=0.0038, MAE=0.0390\n",
      "❌ # Steps: 9; e_form: P=-0.9296, GT=-1.0365, Δ=0.1069, MAE=0.0391\n",
      "✅ # Steps: 15; e_form: P=-0.4261, GT=-0.4187, Δ=0.0074, MAE=0.0390\n",
      "✅ # Steps: 21; e_form: P=-0.4857, GT=-0.4417, Δ=0.0440, MAE=0.0390\n",
      "✅ # Steps: 20; e_form: P=-0.6663, GT=-0.7428, Δ=0.0765, MAE=0.0391\n",
      "✅ # Steps: 31; e_form: P=-0.8745, GT=-0.8597, Δ=0.0148, MAE=0.0391\n",
      "✅ # Steps: 7; e_form: P=-3.5499, GT=-3.5349, Δ=0.0150, MAE=0.0390\n",
      "✅ # Steps: 21; e_form: P=-0.2242, GT=-0.1952, Δ=0.0290, MAE=0.0390\n",
      "✅ # Steps: 4; e_form: P=-0.2096, GT=-0.1935, Δ=0.0161, MAE=0.0390\n",
      "✅ # Steps: 90; e_form: P=-0.8322, GT=-0.7370, Δ=0.0952, MAE=0.0391\n",
      "❌ # Steps: 7; e_form: P=-2.0823, GT=-1.9016, Δ=0.1807, MAE=0.0393\n",
      "✅ # Steps: 7; e_form: P=-1.9781, GT=-1.9823, Δ=0.0042, MAE=0.0393\n",
      "✅ # Steps: 2; e_form: P=-0.3858, GT=-0.3794, Δ=0.0064, MAE=0.0392\n",
      "✅ # Steps: 9; e_form: P=-0.3364, GT=-0.3192, Δ=0.0172, MAE=0.0392\n",
      "✅ # Steps: 27; e_form: P=-1.7161, GT=-1.7090, Δ=0.0071, MAE=0.0391\n",
      "✅ # Steps: 8; e_form: P=-0.2935, GT=-0.2734, Δ=0.0201, MAE=0.0391\n",
      "✅ # Steps: 12; e_form: P=-0.0924, GT=-0.0405, Δ=0.0519, MAE=0.0391\n",
      "✅ # Steps: 23; e_form: P=-0.5221, GT=-0.5576, Δ=0.0355, MAE=0.0391\n",
      "✅ # Steps: 10; e_form: P=-1.2799, GT=-1.2374, Δ=0.0425, MAE=0.0391\n",
      "✅ # Steps: 7; e_form: P=-0.2615, GT=-0.2633, Δ=0.0018, MAE=0.0390\n",
      "✅ # Steps: 5; e_form: P=-0.1443, GT=-0.1758, Δ=0.0316, MAE=0.0390\n",
      "✅ # Steps: 9; e_form: P=-0.0167, GT=-0.1068, Δ=0.0901, MAE=0.0391\n",
      "✅ # Steps: 31; e_form: P=-0.4272, GT=-0.4127, Δ=0.0144, MAE=0.0391\n",
      "✅ # Steps: 17; e_form: P=-0.4999, GT=-0.4826, Δ=0.0173, MAE=0.0390\n",
      "✅ # Steps: 6; e_form: P=-1.4669, GT=-1.4099, Δ=0.0570, MAE=0.0391\n",
      "❌ # Steps: 7; e_form: P=-0.5879, GT=-0.4173, Δ=0.1706, MAE=0.0393\n",
      "✅ # Steps: 29; e_form: P=-0.3342, GT=-0.3197, Δ=0.0145, MAE=0.0392\n",
      "✅ # Steps: 6; e_form: P=-0.2937, GT=-0.2976, Δ=0.0039, MAE=0.0392\n",
      "✅ # Steps: 13; e_form: P=-0.0188, GT=-0.0142, Δ=0.0046, MAE=0.0391\n",
      "✅ # Steps: 22; e_form: P=-0.6812, GT=-0.7193, Δ=0.0382, MAE=0.0391\n",
      "✅ # Steps: 21; e_form: P=-0.5680, GT=-0.5270, Δ=0.0410, MAE=0.0391\n",
      "✅ # Steps: 13; e_form: P=-0.5303, GT=-0.5331, Δ=0.0028, MAE=0.0391\n",
      "✅ # Steps: 5; e_form: P=-1.2789, GT=-1.2780, Δ=0.0009, MAE=0.0390\n",
      "❌ # Steps: 128; e_form: P=0.0595, GT=0.9251, Δ=0.8656, MAE=0.0404\n",
      "✅ # Steps: 18; e_form: P=-0.7712, GT=-0.8090, Δ=0.0378, MAE=0.0404\n",
      "✅ # Steps: 7; e_form: P=-0.8642, GT=-0.8695, Δ=0.0053, MAE=0.0403\n",
      "✅ # Steps: 16; e_form: P=-0.3277, GT=-0.3124, Δ=0.0153, MAE=0.0403\n",
      "✅ # Steps: 21; e_form: P=0.7135, GT=0.6197, Δ=0.0937, MAE=0.0403\n",
      "✅ # Steps: 9; e_form: P=-1.5271, GT=-1.4732, Δ=0.0539, MAE=0.0404\n",
      "✅ # Steps: 27; e_form: P=-2.8461, GT=-2.8317, Δ=0.0144, MAE=0.0403\n",
      "✅ # Steps: 42; e_form: P=-0.1584, GT=-0.1441, Δ=0.0143, MAE=0.0403\n",
      "✅ # Steps: 6; e_form: P=0.0818, GT=0.1213, Δ=0.0395, MAE=0.0403\n",
      "✅ # Steps: 2; e_form: P=0.2789, GT=0.3241, Δ=0.0452, MAE=0.0403\n",
      "✅ # Steps: 22; e_form: P=-0.4231, GT=-0.4136, Δ=0.0095, MAE=0.0402\n",
      "✅ # Steps: 46; e_form: P=-0.1695, GT=-0.1356, Δ=0.0339, MAE=0.0402\n",
      "✅ # Steps: 6; e_form: P=-0.4323, GT=-0.4099, Δ=0.0224, MAE=0.0402\n",
      "✅ # Steps: 19; e_form: P=0.0441, GT=0.0589, Δ=0.0148, MAE=0.0402\n",
      "✅ # Steps: 15; e_form: P=-0.6252, GT=-0.5900, Δ=0.0352, MAE=0.0401\n",
      "❌ # Steps: 60; e_form: P=-0.9597, GT=-0.6247, Δ=0.3350, MAE=0.0406\n",
      "✅ # Steps: 20; e_form: P=0.2164, GT=0.2956, Δ=0.0792, MAE=0.0407\n",
      "✅ # Steps: 25; e_form: P=-0.9161, GT=-0.9058, Δ=0.0103, MAE=0.0406\n",
      "❌ # Steps: 6; e_form: P=0.4428, GT=0.0095, Δ=0.4333, MAE=0.0413\n",
      "✅ # Steps: 12; e_form: P=-0.3794, GT=-0.3522, Δ=0.0272, MAE=0.0412\n",
      "❌ # Steps: 16; e_form: P=0.1064, GT=0.2431, Δ=0.1366, MAE=0.0414\n",
      "✅ # Steps: 24; e_form: P=-0.5681, GT=-0.5717, Δ=0.0036, MAE=0.0413\n",
      "✅ # Steps: 32; e_form: P=-0.2963, GT=-0.2693, Δ=0.0270, MAE=0.0413\n",
      "✅ # Steps: 10; e_form: P=-4.0408, GT=-4.0791, Δ=0.0383, MAE=0.0413\n",
      "✅ # Steps: 32; e_form: P=-1.4965, GT=-1.4986, Δ=0.0021, MAE=0.0412\n",
      "✅ # Steps: 17; e_form: P=0.0220, GT=0.0833, Δ=0.0613, MAE=0.0413\n",
      "✅ # Steps: 10; e_form: P=-1.0778, GT=-1.0677, Δ=0.0101, MAE=0.0412\n",
      "✅ # Steps: 7; e_form: P=-0.3562, GT=-0.3062, Δ=0.0500, MAE=0.0412\n",
      "✅ # Steps: 7; e_form: P=-0.2501, GT=-0.1545, Δ=0.0955, MAE=0.0413\n",
      "✅ # Steps: 19; e_form: P=0.0133, GT=0.0244, Δ=0.0111, MAE=0.0413\n",
      "✅ # Steps: 37; e_form: P=-0.5037, GT=-0.4438, Δ=0.0599, MAE=0.0413\n",
      "✅ # Steps: 28; e_form: P=-0.2232, GT=-0.1853, Δ=0.0379, MAE=0.0413\n",
      "✅ # Steps: 6; e_form: P=-1.3337, GT=-1.2644, Δ=0.0692, MAE=0.0413\n",
      "❌ # Steps: 8; e_form: P=-0.1603, GT=-0.0540, Δ=0.1063, MAE=0.0415\n",
      "✅ # Steps: 9; e_form: P=-0.1830, GT=-0.1437, Δ=0.0393, MAE=0.0414\n",
      "✅ # Steps: 9; e_form: P=-3.0251, GT=-3.0497, Δ=0.0246, MAE=0.0414\n",
      "✅ # Steps: 12; e_form: P=-0.6902, GT=-0.6541, Δ=0.0361, MAE=0.0414\n",
      "✅ # Steps: 19; e_form: P=-0.3277, GT=-0.2734, Δ=0.0544, MAE=0.0414\n",
      "✅ # Steps: 22; e_form: P=-1.6375, GT=-1.6798, Δ=0.0423, MAE=0.0414\n",
      "✅ # Steps: 12; e_form: P=-0.1605, GT=-0.1279, Δ=0.0327, MAE=0.0414\n",
      "✅ # Steps: 34; e_form: P=-0.3548, GT=-0.3732, Δ=0.0184, MAE=0.0414\n",
      "✅ # Steps: 9; e_form: P=-0.0444, GT=-0.0367, Δ=0.0076, MAE=0.0413\n",
      "✅ # Steps: 10; e_form: P=-0.1816, GT=-0.1873, Δ=0.0057, MAE=0.0413\n",
      "✅ # Steps: 17; e_form: P=0.0156, GT=0.0209, Δ=0.0054, MAE=0.0412\n",
      "✅ # Steps: 17; e_form: P=-0.4517, GT=-0.4533, Δ=0.0017, MAE=0.0412\n",
      "✅ # Steps: 11; e_form: P=-0.3164, GT=-0.3175, Δ=0.0011, MAE=0.0411\n",
      "✅ # Steps: 26; e_form: P=-2.3081, GT=-2.2937, Δ=0.0145, MAE=0.0411\n",
      "✅ # Steps: 12; e_form: P=-0.4937, GT=-0.4246, Δ=0.0691, MAE=0.0411\n",
      "✅ # Steps: 20; e_form: P=-0.8078, GT=-0.8142, Δ=0.0064, MAE=0.0410\n",
      "❌ # Steps: 2; e_form: P=0.0587, GT=-0.0868, Δ=0.1455, MAE=0.0412\n",
      "✅ # Steps: 10; e_form: P=-0.1847, GT=-0.1854, Δ=0.0006, MAE=0.0411\n",
      "✅ # Steps: 23; e_form: P=-3.0789, GT=-3.0680, Δ=0.0110, MAE=0.0411\n",
      "✅ # Steps: 16; e_form: P=-0.5544, GT=-0.5886, Δ=0.0342, MAE=0.0411\n",
      "✅ # Steps: 9; e_form: P=-0.5006, GT=-0.4971, Δ=0.0035, MAE=0.0410\n",
      "❌ # Steps: 22; e_form: P=-1.0442, GT=-0.8129, Δ=0.2313, MAE=0.0413\n",
      "✅ # Steps: 7; e_form: P=-0.4251, GT=-0.3976, Δ=0.0275, MAE=0.0413\n",
      "✅ # Steps: 13; e_form: P=-2.4907, GT=-2.4712, Δ=0.0195, MAE=0.0413\n",
      "✅ # Steps: 26; e_form: P=-1.4852, GT=-1.4284, Δ=0.0567, MAE=0.0413\n",
      "✅ # Steps: 25; e_form: P=-0.6694, GT=-0.6887, Δ=0.0193, MAE=0.0413\n",
      "❌ # Steps: 30; e_form: P=-2.9568, GT=-3.0873, Δ=0.1305, MAE=0.0414\n",
      "✅ # Steps: 7; e_form: P=-0.4313, GT=-0.4195, Δ=0.0119, MAE=0.0413\n",
      "✅ # Steps: 8; e_form: P=-3.0026, GT=-2.9764, Δ=0.0262, MAE=0.0413\n",
      "✅ # Steps: 5; e_form: P=-2.7269, GT=-2.7107, Δ=0.0161, MAE=0.0413\n",
      "✅ # Steps: 16; e_form: P=-0.4586, GT=-0.4271, Δ=0.0314, MAE=0.0413\n",
      "✅ # Steps: 29; e_form: P=-0.7342, GT=-0.7137, Δ=0.0205, MAE=0.0412\n",
      "✅ # Steps: 35; e_form: P=-0.1838, GT=-0.1615, Δ=0.0223, MAE=0.0412\n",
      "✅ # Steps: 5; e_form: P=-0.2122, GT=-0.2211, Δ=0.0089, MAE=0.0412\n",
      "✅ # Steps: 5; e_form: P=-0.0343, GT=-0.0350, Δ=0.0007, MAE=0.0411\n",
      "✅ # Steps: 13; e_form: P=-1.3760, GT=-1.3628, Δ=0.0132, MAE=0.0411\n",
      "✅ # Steps: 15; e_form: P=-0.4782, GT=-0.5107, Δ=0.0325, MAE=0.0411\n",
      "✅ # Steps: 15; e_form: P=-0.1943, GT=-0.1582, Δ=0.0362, MAE=0.0410\n",
      "❌ # Steps: 6; e_form: P=0.3754, GT=0.5155, Δ=0.1401, MAE=0.0412\n",
      "✅ # Steps: 6; e_form: P=-1.5645, GT=-1.4862, Δ=0.0783, MAE=0.0412\n",
      "✅ # Steps: 14; e_form: P=-1.4434, GT=-1.4614, Δ=0.0180, MAE=0.0412\n",
      "✅ # Steps: 11; e_form: P=-1.1646, GT=-1.1514, Δ=0.0132, MAE=0.0412\n",
      "✅ # Steps: 15; e_form: P=-0.5107, GT=-0.4914, Δ=0.0192, MAE=0.0411\n",
      "✅ # Steps: 18; e_form: P=-0.2862, GT=-0.2862, Δ=0.0001, MAE=0.0411\n",
      "✅ # Steps: 21; e_form: P=-1.3432, GT=-1.3198, Δ=0.0235, MAE=0.0411\n",
      "✅ # Steps: 8; e_form: P=-0.5024, GT=-0.5375, Δ=0.0351, MAE=0.0410\n",
      "✅ # Steps: 20; e_form: P=0.0230, GT=0.0398, Δ=0.0169, MAE=0.0410\n",
      "✅ # Steps: 27; e_form: P=-0.7689, GT=-0.7890, Δ=0.0201, MAE=0.0410\n",
      "✅ # Steps: 15; e_form: P=-1.1080, GT=-1.1533, Δ=0.0453, MAE=0.0410\n",
      "✅ # Steps: 21; e_form: P=-0.2632, GT=-0.1661, Δ=0.0971, MAE=0.0411\n",
      "✅ # Steps: 6; e_form: P=0.2243, GT=0.2169, Δ=0.0074, MAE=0.0410\n",
      "✅ # Steps: 9; e_form: P=-0.4271, GT=-0.4335, Δ=0.0065, MAE=0.0410\n",
      "✅ # Steps: 32; e_form: P=-0.2050, GT=-0.2764, Δ=0.0715, MAE=0.0410\n",
      "✅ # Steps: 9; e_form: P=-0.5099, GT=-0.5027, Δ=0.0072, MAE=0.0410\n",
      "✅ # Steps: 18; e_form: P=-0.0657, GT=-0.1192, Δ=0.0535, MAE=0.0410\n",
      "✅ # Steps: 31; e_form: P=-0.0491, GT=-0.1472, Δ=0.0981, MAE=0.0411\n",
      "✅ # Steps: 14; e_form: P=0.2240, GT=0.2683, Δ=0.0443, MAE=0.0411\n",
      "✅ # Steps: 14; e_form: P=0.2643, GT=0.3220, Δ=0.0577, MAE=0.0411\n",
      "✅ # Steps: 2; e_form: P=0.1138, GT=0.1714, Δ=0.0576, MAE=0.0411\n",
      "✅ # Steps: 7; e_form: P=-0.5711, GT=-0.5366, Δ=0.0345, MAE=0.0411\n",
      "✅ # Steps: 12; e_form: P=-0.3330, GT=-0.3268, Δ=0.0062, MAE=0.0411\n",
      "✅ # Steps: 31; e_form: P=-0.0557, GT=-0.0240, Δ=0.0317, MAE=0.0410\n",
      "✅ # Steps: 11; e_form: P=-0.8804, GT=-0.8487, Δ=0.0317, MAE=0.0410\n",
      "❌ # Steps: 16; e_form: P=-1.2707, GT=-1.4929, Δ=0.2222, MAE=0.0413\n",
      "✅ # Steps: 29; e_form: P=-0.6217, GT=-0.6123, Δ=0.0094, MAE=0.0412\n",
      "✅ # Steps: 12; e_form: P=-0.5012, GT=-0.4887, Δ=0.0126, MAE=0.0412\n",
      "✅ # Steps: 12; e_form: P=-0.2532, GT=-0.2442, Δ=0.0091, MAE=0.0412\n",
      "✅ # Steps: 17; e_form: P=-1.2866, GT=-1.2903, Δ=0.0037, MAE=0.0411\n",
      "❌ # Steps: 6; e_form: P=-0.5505, GT=-0.4280, Δ=0.1224, MAE=0.0412\n",
      "✅ # Steps: 10; e_form: P=-2.8713, GT=-2.8920, Δ=0.0207, MAE=0.0412\n",
      "❌ # Steps: 38; e_form: P=-0.2381, GT=-0.1126, Δ=0.1254, MAE=0.0413\n",
      "✅ # Steps: 5; e_form: P=-0.0954, GT=-0.0421, Δ=0.0533, MAE=0.0413\n",
      "✅ # Steps: 5; e_form: P=-0.3414, GT=-0.3080, Δ=0.0335, MAE=0.0413\n",
      "✅ # Steps: 15; e_form: P=-1.2675, GT=-1.2067, Δ=0.0609, MAE=0.0413\n",
      "✅ # Steps: 42; e_form: P=-0.9883, GT=-0.9616, Δ=0.0267, MAE=0.0413\n",
      "✅ # Steps: 13; e_form: P=-0.1625, GT=-0.1473, Δ=0.0152, MAE=0.0413\n",
      "✅ # Steps: 14; e_form: P=0.2910, GT=0.3355, Δ=0.0445, MAE=0.0413\n",
      "✅ # Steps: 23; e_form: P=-0.1002, GT=-0.1085, Δ=0.0083, MAE=0.0412\n",
      "✅ # Steps: 35; e_form: P=-0.2364, GT=-0.2000, Δ=0.0363, MAE=0.0412\n",
      "✅ # Steps: 20; e_form: P=-0.5442, GT=-0.5517, Δ=0.0076, MAE=0.0412\n",
      "✅ # Steps: 12; e_form: P=-1.4159, GT=-1.4016, Δ=0.0143, MAE=0.0411\n",
      "✅ # Steps: 18; e_form: P=-2.9484, GT=-2.9439, Δ=0.0045, MAE=0.0411\n",
      "✅ # Steps: 13; e_form: P=-0.3054, GT=-0.2810, Δ=0.0244, MAE=0.0411\n",
      "✅ # Steps: 11; e_form: P=-0.8778, GT=-0.8819, Δ=0.0041, MAE=0.0410\n",
      "✅ # Steps: 24; e_form: P=-0.3346, GT=-0.3042, Δ=0.0304, MAE=0.0410\n",
      "✅ # Steps: 16; e_form: P=-0.7397, GT=-0.7339, Δ=0.0058, MAE=0.0410\n",
      "✅ # Steps: 21; e_form: P=-2.5396, GT=-2.5443, Δ=0.0047, MAE=0.0409\n",
      "✅ # Steps: 2; e_form: P=-0.2105, GT=-0.1814, Δ=0.0291, MAE=0.0409\n",
      "✅ # Steps: 11; e_form: P=-0.5528, GT=-0.5537, Δ=0.0009, MAE=0.0408\n",
      "✅ # Steps: 11; e_form: P=-1.0166, GT=-0.9887, Δ=0.0279, MAE=0.0408\n",
      "✅ # Steps: 9; e_form: P=-1.2958, GT=-1.3167, Δ=0.0209, MAE=0.0408\n",
      "✅ # Steps: 7; e_form: P=0.0423, GT=0.0992, Δ=0.0568, MAE=0.0408\n",
      "✅ # Steps: 2; e_form: P=-0.1596, GT=-0.1647, Δ=0.0052, MAE=0.0408\n",
      "✅ # Steps: 16; e_form: P=-0.0424, GT=-0.0586, Δ=0.0161, MAE=0.0407\n",
      "✅ # Steps: 7; e_form: P=-0.1604, GT=-0.1909, Δ=0.0305, MAE=0.0407\n",
      "✅ # Steps: 40; e_form: P=-0.5761, GT=-0.5704, Δ=0.0056, MAE=0.0407\n",
      "✅ # Steps: 20; e_form: P=-0.5042, GT=-0.4836, Δ=0.0207, MAE=0.0406\n",
      "✅ # Steps: 6; e_form: P=0.1335, GT=0.2109, Δ=0.0774, MAE=0.0407\n",
      "✅ # Steps: 15; e_form: P=-0.9427, GT=-0.9322, Δ=0.0105, MAE=0.0407\n",
      "✅ # Steps: 7; e_form: P=0.2881, GT=0.3405, Δ=0.0524, MAE=0.0407\n",
      "✅ # Steps: 6; e_form: P=-0.8863, GT=-0.8779, Δ=0.0084, MAE=0.0406\n",
      "✅ # Steps: 27; e_form: P=-0.4577, GT=-0.4426, Δ=0.0152, MAE=0.0406\n",
      "✅ # Steps: 15; e_form: P=-0.0768, GT=-0.1311, Δ=0.0543, MAE=0.0406\n",
      "✅ # Steps: 12; e_form: P=-0.0153, GT=-0.0190, Δ=0.0036, MAE=0.0406\n",
      "✅ # Steps: 16; e_form: P=-0.8097, GT=-0.7928, Δ=0.0169, MAE=0.0405\n",
      "✅ # Steps: 29; e_form: P=-0.5553, GT=-0.5445, Δ=0.0108, MAE=0.0405\n",
      "✅ # Steps: 4; e_form: P=-2.5582, GT=-2.5577, Δ=0.0006, MAE=0.0404\n",
      "✅ # Steps: 6; e_form: P=-0.3368, GT=-0.3189, Δ=0.0179, MAE=0.0404\n",
      "✅ # Steps: 10; e_form: P=-0.3001, GT=-0.2775, Δ=0.0226, MAE=0.0404\n",
      "✅ # Steps: 13; e_form: P=-0.1618, GT=-0.1255, Δ=0.0362, MAE=0.0404\n",
      "✅ # Steps: 13; e_form: P=-0.8039, GT=-0.7905, Δ=0.0134, MAE=0.0403\n",
      "✅ # Steps: 30; e_form: P=-1.5535, GT=-1.5674, Δ=0.0139, MAE=0.0403\n",
      "✅ # Steps: 4; e_form: P=-0.3366, GT=-0.3380, Δ=0.0014, MAE=0.0403\n",
      "✅ # Steps: 17; e_form: P=-0.9408, GT=-0.8815, Δ=0.0593, MAE=0.0403\n",
      "✅ # Steps: 6; e_form: P=-0.3429, GT=-0.3199, Δ=0.0230, MAE=0.0403\n",
      "✅ # Steps: 25; e_form: P=-0.3047, GT=-0.2972, Δ=0.0075, MAE=0.0402\n",
      "✅ # Steps: 61; e_form: P=-1.1135, GT=-1.2097, Δ=0.0962, MAE=0.0403\n",
      "✅ # Steps: 17; e_form: P=-0.5464, GT=-0.5341, Δ=0.0122, MAE=0.0402\n",
      "✅ # Steps: 34; e_form: P=-0.3976, GT=-0.3826, Δ=0.0150, MAE=0.0402\n",
      "✅ # Steps: 25; e_form: P=-3.0924, GT=-3.0682, Δ=0.0242, MAE=0.0402\n",
      "✅ # Steps: 8; e_form: P=-0.4023, GT=-0.3789, Δ=0.0234, MAE=0.0402\n",
      "✅ # Steps: 7; e_form: P=0.6325, GT=0.6520, Δ=0.0195, MAE=0.0401\n",
      "✅ # Steps: 16; e_form: P=-0.5641, GT=-0.5258, Δ=0.0383, MAE=0.0401\n",
      "✅ # Steps: 29; e_form: P=-0.4880, GT=-0.4227, Δ=0.0653, MAE=0.0402\n",
      "✅ # Steps: 29; e_form: P=-0.1210, GT=-0.0997, Δ=0.0213, MAE=0.0402\n",
      "✅ # Steps: 7; e_form: P=-0.3453, GT=-0.3864, Δ=0.0411, MAE=0.0402\n",
      "✅ # Steps: 56; e_form: P=-0.4555, GT=-0.3593, Δ=0.0962, MAE=0.0402\n",
      "✅ # Steps: 6; e_form: P=-0.3363, GT=-0.3350, Δ=0.0012, MAE=0.0402\n",
      "✅ # Steps: 13; e_form: P=-0.2791, GT=-0.2919, Δ=0.0128, MAE=0.0401\n",
      "✅ # Steps: 13; e_form: P=-1.0994, GT=-1.0858, Δ=0.0137, MAE=0.0401\n",
      "✅ # Steps: 40; e_form: P=-1.1633, GT=-1.1559, Δ=0.0074, MAE=0.0401\n",
      "❌ # Steps: 28; e_form: P=-0.3077, GT=-0.4441, Δ=0.1364, MAE=0.0402\n",
      "✅ # Steps: 5; e_form: P=-0.7883, GT=-0.8317, Δ=0.0434, MAE=0.0402\n",
      "✅ # Steps: 30; e_form: P=-0.7661, GT=-0.7551, Δ=0.0110, MAE=0.0402\n",
      "✅ # Steps: 21; e_form: P=-0.7876, GT=-0.7797, Δ=0.0079, MAE=0.0401\n",
      "❌ # Steps: 44; e_form: P=0.1404, GT=0.0181, Δ=0.1223, MAE=0.0402\n",
      "❌ # Steps: 21; e_form: P=-0.6610, GT=-0.7661, Δ=0.1051, MAE=0.0403\n",
      "✅ # Steps: 13; e_form: P=-0.3034, GT=-0.2941, Δ=0.0093, MAE=0.0403\n",
      "✅ # Steps: 22; e_form: P=0.2250, GT=0.1916, Δ=0.0334, MAE=0.0403\n",
      "❌ # Steps: 11; e_form: P=-0.2295, GT=-0.0426, Δ=0.1869, MAE=0.0404\n",
      "✅ # Steps: 23; e_form: P=-1.2998, GT=-1.2569, Δ=0.0430, MAE=0.0404\n",
      "✅ # Steps: 5; e_form: P=-0.5954, GT=-0.5904, Δ=0.0051, MAE=0.0404\n",
      "✅ # Steps: 5; e_form: P=-1.6106, GT=-1.5645, Δ=0.0461, MAE=0.0404\n",
      "✅ # Steps: 27; e_form: P=-0.3279, GT=-0.2996, Δ=0.0282, MAE=0.0404\n",
      "✅ # Steps: 30; e_form: P=0.1559, GT=0.1339, Δ=0.0220, MAE=0.0404\n",
      "✅ # Steps: 22; e_form: P=-3.1631, GT=-3.1862, Δ=0.0232, MAE=0.0403\n",
      "✅ # Steps: 29; e_form: P=-0.2944, GT=-0.2866, Δ=0.0078, MAE=0.0403\n",
      "✅ # Steps: 53; e_form: P=-1.4149, GT=-1.3867, Δ=0.0281, MAE=0.0403\n",
      "✅ # Steps: 17; e_form: P=-0.4021, GT=-0.4225, Δ=0.0204, MAE=0.0403\n",
      "❌ # Steps: 2; e_form: P=0.3270, GT=0.4565, Δ=0.1295, MAE=0.0404\n",
      "✅ # Steps: 21; e_form: P=-0.7116, GT=-0.6213, Δ=0.0903, MAE=0.0404\n",
      "✅ # Steps: 23; e_form: P=-3.1969, GT=-3.1831, Δ=0.0138, MAE=0.0404\n",
      "✅ # Steps: 45; e_form: P=-1.0361, GT=-1.0546, Δ=0.0185, MAE=0.0404\n",
      "✅ # Steps: 35; e_form: P=-1.3737, GT=-1.3246, Δ=0.0490, MAE=0.0404\n",
      "✅ # Steps: 9; e_form: P=-0.2665, GT=-0.2372, Δ=0.0293, MAE=0.0404\n",
      "✅ # Steps: 13; e_form: P=-0.4929, GT=-0.4839, Δ=0.0091, MAE=0.0403\n",
      "❌ # Steps: 95; e_form: P=-0.3756, GT=0.2772, Δ=0.6528, MAE=0.0411\n",
      "✅ # Steps: 31; e_form: P=-1.6390, GT=-1.6499, Δ=0.0109, MAE=0.0411\n",
      "✅ # Steps: 3; e_form: P=-2.8633, GT=-2.8493, Δ=0.0140, MAE=0.0410\n",
      "✅ # Steps: 12; e_form: P=-0.2301, GT=-0.2488, Δ=0.0187, MAE=0.0410\n",
      "✅ # Steps: 14; e_form: P=0.6080, GT=0.6009, Δ=0.0071, MAE=0.0410\n",
      "✅ # Steps: 5; e_form: P=-0.6765, GT=-0.6159, Δ=0.0605, MAE=0.0410\n",
      "✅ # Steps: 2; e_form: P=-0.3685, GT=-0.3659, Δ=0.0025, MAE=0.0409\n",
      "✅ # Steps: 29; e_form: P=-0.3625, GT=-0.3843, Δ=0.0218, MAE=0.0409\n",
      "✅ # Steps: 23; e_form: P=0.0672, GT=0.0889, Δ=0.0217, MAE=0.0409\n",
      "✅ # Steps: 9; e_form: P=-1.8786, GT=-1.8723, Δ=0.0063, MAE=0.0408\n",
      "✅ # Steps: 20; e_form: P=-0.3548, GT=-0.3532, Δ=0.0015, MAE=0.0408\n",
      "✅ # Steps: 4; e_form: P=-0.6354, GT=-0.6330, Δ=0.0023, MAE=0.0408\n",
      "✅ # Steps: 24; e_form: P=-0.3913, GT=-0.3911, Δ=0.0002, MAE=0.0407\n",
      "✅ # Steps: 23; e_form: P=-0.4000, GT=-0.4051, Δ=0.0051, MAE=0.0407\n",
      "✅ # Steps: 9; e_form: P=-0.5577, GT=-0.5440, Δ=0.0137, MAE=0.0406\n",
      "✅ # Steps: 36; e_form: P=-0.5755, GT=-0.5438, Δ=0.0316, MAE=0.0406\n",
      "✅ # Steps: 21; e_form: P=-0.0020, GT=-0.0096, Δ=0.0076, MAE=0.0406\n",
      "❌ # Steps: 44; e_form: P=-0.2870, GT=0.2142, Δ=0.5011, MAE=0.0411\n",
      "✅ # Steps: 11; e_form: P=-1.9950, GT=-2.0031, Δ=0.0081, MAE=0.0411\n",
      "✅ # Steps: 4; e_form: P=-0.7082, GT=-0.7304, Δ=0.0223, MAE=0.0411\n",
      "✅ # Steps: 10; e_form: P=-1.1532, GT=-1.1156, Δ=0.0376, MAE=0.0411\n",
      "✅ # Steps: 6; e_form: P=-0.2137, GT=-0.2183, Δ=0.0047, MAE=0.0410\n",
      "✅ # Steps: 12; e_form: P=-0.9885, GT=-0.9451, Δ=0.0434, MAE=0.0410\n",
      "✅ # Steps: 8; e_form: P=-0.0016, GT=-0.0231, Δ=0.0215, MAE=0.0410\n",
      "✅ # Steps: 10; e_form: P=-2.7872, GT=-2.7057, Δ=0.0815, MAE=0.0411\n",
      "✅ # Steps: 16; e_form: P=-1.8494, GT=-1.8360, Δ=0.0134, MAE=0.0410\n",
      "✅ # Steps: 16; e_form: P=-0.7264, GT=-0.7217, Δ=0.0047, MAE=0.0410\n",
      "✅ # Steps: 21; e_form: P=-0.8689, GT=-0.8502, Δ=0.0188, MAE=0.0410\n",
      "✅ # Steps: 11; e_form: P=-0.3233, GT=-0.3399, Δ=0.0166, MAE=0.0409\n",
      "✅ # Steps: 2; e_form: P=-0.3926, GT=-0.3750, Δ=0.0176, MAE=0.0409\n",
      "❌ # Steps: 10; e_form: P=-0.3672, GT=-0.2399, Δ=0.1273, MAE=0.0410\n",
      "✅ # Steps: 6; e_form: P=-1.3534, GT=-1.3328, Δ=0.0206, MAE=0.0410\n",
      "✅ # Steps: 29; e_form: P=-1.8769, GT=-1.9224, Δ=0.0454, MAE=0.0410\n",
      "✅ # Steps: 2; e_form: P=-0.0759, GT=-0.0991, Δ=0.0232, MAE=0.0410\n",
      "✅ # Steps: 5; e_form: P=-0.1785, GT=-0.1183, Δ=0.0603, MAE=0.0410\n",
      "✅ # Steps: 17; e_form: P=-0.9125, GT=-0.9094, Δ=0.0031, MAE=0.0409\n",
      "✅ # Steps: 9; e_form: P=-0.6597, GT=-0.6700, Δ=0.0103, MAE=0.0409\n",
      "✅ # Steps: 18; e_form: P=-0.8831, GT=-0.9185, Δ=0.0354, MAE=0.0409\n",
      "✅ # Steps: 12; e_form: P=0.0251, GT=0.0350, Δ=0.0099, MAE=0.0409\n",
      "✅ # Steps: 26; e_form: P=-0.3180, GT=-0.2688, Δ=0.0491, MAE=0.0409\n",
      "✅ # Steps: 21; e_form: P=-0.7951, GT=-0.8164, Δ=0.0213, MAE=0.0408\n",
      "✅ # Steps: 9; e_form: P=-0.6980, GT=-0.7028, Δ=0.0048, MAE=0.0408\n",
      "✅ # Steps: 40; e_form: P=0.2205, GT=0.1311, Δ=0.0893, MAE=0.0409\n",
      "✅ # Steps: 27; e_form: P=-1.9612, GT=-1.9579, Δ=0.0033, MAE=0.0408\n",
      "✅ # Steps: 5; e_form: P=0.1741, GT=0.2206, Δ=0.0465, MAE=0.0408\n",
      "✅ # Steps: 18; e_form: P=-0.1149, GT=-0.1935, Δ=0.0786, MAE=0.0409\n",
      "✅ # Steps: 7; e_form: P=-0.5098, GT=-0.4953, Δ=0.0145, MAE=0.0408\n",
      "✅ # Steps: 16; e_form: P=0.4024, GT=0.3963, Δ=0.0061, MAE=0.0408\n",
      "✅ # Steps: 11; e_form: P=-0.0008, GT=0.0346, Δ=0.0354, MAE=0.0408\n",
      "✅ # Steps: 22; e_form: P=-0.4910, GT=-0.5234, Δ=0.0323, MAE=0.0408\n",
      "✅ # Steps: 25; e_form: P=-0.0572, GT=-0.0768, Δ=0.0196, MAE=0.0407\n",
      "✅ # Steps: 12; e_form: P=-1.1702, GT=-1.1193, Δ=0.0509, MAE=0.0408\n",
      "✅ # Steps: 4; e_form: P=-0.4574, GT=-0.4398, Δ=0.0177, MAE=0.0407\n",
      "✅ # Steps: 24; e_form: P=-0.3733, GT=-0.3507, Δ=0.0225, MAE=0.0407\n",
      "✅ # Steps: 19; e_form: P=-0.1876, GT=-0.1553, Δ=0.0323, MAE=0.0407\n",
      "✅ # Steps: 22; e_form: P=-0.2775, GT=-0.2488, Δ=0.0288, MAE=0.0407\n",
      "✅ # Steps: 10; e_form: P=-0.3847, GT=-0.3663, Δ=0.0184, MAE=0.0407\n",
      "✅ # Steps: 37; e_form: P=-0.9992, GT=-0.9867, Δ=0.0125, MAE=0.0406\n",
      "✅ # Steps: 30; e_form: P=-0.9924, GT=-0.9557, Δ=0.0367, MAE=0.0406\n",
      "✅ # Steps: 7; e_form: P=0.2490, GT=0.2244, Δ=0.0245, MAE=0.0406\n",
      "✅ # Steps: 2; e_form: P=-0.5606, GT=-0.5315, Δ=0.0291, MAE=0.0406\n",
      "✅ # Steps: 35; e_form: P=-2.4337, GT=-2.3817, Δ=0.0520, MAE=0.0406\n",
      "✅ # Steps: 27; e_form: P=-0.2058, GT=-0.1975, Δ=0.0082, MAE=0.0406\n",
      "✅ # Steps: 29; e_form: P=-3.0488, GT=-3.0125, Δ=0.0364, MAE=0.0406\n",
      "✅ # Steps: 9; e_form: P=-0.4123, GT=-0.4093, Δ=0.0030, MAE=0.0405\n",
      "❌ # Steps: 20; e_form: P=-0.2550, GT=-0.1265, Δ=0.1286, MAE=0.0406\n",
      "✅ # Steps: 2; e_form: P=0.1324, GT=0.1554, Δ=0.0230, MAE=0.0406\n",
      "✅ # Steps: 40; e_form: P=-2.4427, GT=-2.4323, Δ=0.0104, MAE=0.0406\n",
      "✅ # Steps: 20; e_form: P=-0.7083, GT=-0.7125, Δ=0.0042, MAE=0.0405\n",
      "✅ # Steps: 9; e_form: P=-0.2101, GT=-0.1733, Δ=0.0368, MAE=0.0405\n",
      "✅ # Steps: 12; e_form: P=-0.6799, GT=-0.6863, Δ=0.0064, MAE=0.0405\n",
      "✅ # Steps: 16; e_form: P=0.0246, GT=0.0148, Δ=0.0098, MAE=0.0404\n",
      "✅ # Steps: 28; e_form: P=-0.8178, GT=-0.8141, Δ=0.0037, MAE=0.0404\n",
      "✅ # Steps: 28; e_form: P=-0.7073, GT=-0.6141, Δ=0.0932, MAE=0.0405\n",
      "✅ # Steps: 5; e_form: P=-2.3567, GT=-2.3448, Δ=0.0119, MAE=0.0404\n",
      "✅ # Steps: 5; e_form: P=-0.0618, GT=-0.0540, Δ=0.0077, MAE=0.0404\n",
      "✅ # Steps: 41; e_form: P=-0.6505, GT=-0.6281, Δ=0.0225, MAE=0.0404\n",
      "✅ # Steps: 19; e_form: P=0.0770, GT=0.0599, Δ=0.0170, MAE=0.0403\n",
      "✅ # Steps: 16; e_form: P=-0.2910, GT=-0.3221, Δ=0.0311, MAE=0.0403\n",
      "✅ # Steps: 20; e_form: P=-1.8608, GT=-1.8482, Δ=0.0126, MAE=0.0403\n",
      "✅ # Steps: 49; e_form: P=-3.0668, GT=-3.0579, Δ=0.0089, MAE=0.0403\n",
      "✅ # Steps: 35; e_form: P=-0.8986, GT=-0.8600, Δ=0.0386, MAE=0.0403\n",
      "✅ # Steps: 13; e_form: P=-0.8686, GT=-0.8548, Δ=0.0138, MAE=0.0402\n",
      "✅ # Steps: 7; e_form: P=-0.5703, GT=-0.6173, Δ=0.0470, MAE=0.0402\n",
      "✅ # Steps: 38; e_form: P=-0.1512, GT=-0.1066, Δ=0.0447, MAE=0.0402\n",
      "✅ # Steps: 5; e_form: P=-0.3664, GT=-0.3295, Δ=0.0369, MAE=0.0402\n",
      "✅ # Steps: 5; e_form: P=-0.1795, GT=-0.1909, Δ=0.0115, MAE=0.0402\n",
      "✅ # Steps: 9; e_form: P=-0.4772, GT=-0.4347, Δ=0.0424, MAE=0.0402\n",
      "✅ # Steps: 8; e_form: P=0.8849, GT=0.9515, Δ=0.0666, MAE=0.0402\n",
      "✅ # Steps: 6; e_form: P=-0.1212, GT=-0.0428, Δ=0.0784, MAE=0.0403\n",
      "✅ # Steps: 21; e_form: P=-0.7924, GT=-0.7797, Δ=0.0127, MAE=0.0403\n",
      "✅ # Steps: 13; e_form: P=-3.1922, GT=-3.1435, Δ=0.0487, MAE=0.0403\n",
      "✅ # Steps: 11; e_form: P=-0.3014, GT=-0.2275, Δ=0.0739, MAE=0.0403\n",
      "✅ # Steps: 7; e_form: P=0.3084, GT=0.3174, Δ=0.0090, MAE=0.0403\n",
      "✅ # Steps: 20; e_form: P=-0.9933, GT=-0.9936, Δ=0.0003, MAE=0.0402\n",
      "✅ # Steps: 29; e_form: P=-0.1598, GT=-0.1483, Δ=0.0115, MAE=0.0402\n",
      "❌ # Steps: 26; e_form: P=-2.0523, GT=-1.7992, Δ=0.2531, MAE=0.0404\n",
      "✅ # Steps: 5; e_form: P=-3.0973, GT=-3.0938, Δ=0.0035, MAE=0.0404\n",
      "✅ # Steps: 7; e_form: P=-1.5519, GT=-1.5511, Δ=0.0008, MAE=0.0403\n",
      "✅ # Steps: 19; e_form: P=-3.6424, GT=-3.6437, Δ=0.0014, MAE=0.0403\n",
      "✅ # Steps: 18; e_form: P=-0.5902, GT=-0.5637, Δ=0.0265, MAE=0.0403\n",
      "❌ # Steps: 2; e_form: P=0.2872, GT=0.5587, Δ=0.2715, MAE=0.0405\n",
      "✅ # Steps: 16; e_form: P=-0.2842, GT=-0.1957, Δ=0.0885, MAE=0.0406\n",
      "✅ # Steps: 5; e_form: P=-0.2259, GT=-0.2136, Δ=0.0123, MAE=0.0406\n",
      "✅ # Steps: 6; e_form: P=-0.6845, GT=-0.6731, Δ=0.0114, MAE=0.0405\n",
      "✅ # Steps: 8; e_form: P=-0.9286, GT=-0.8935, Δ=0.0351, MAE=0.0405\n",
      "❌ # Steps: 43; e_form: P=-0.0227, GT=0.2243, Δ=0.2470, MAE=0.0408\n",
      "✅ # Steps: 7; e_form: P=0.1101, GT=0.0935, Δ=0.0166, MAE=0.0407\n",
      "✅ # Steps: 6; e_form: P=-2.2892, GT=-2.2954, Δ=0.0062, MAE=0.0407\n",
      "✅ # Steps: 9; e_form: P=-0.7179, GT=-0.6817, Δ=0.0362, MAE=0.0407\n",
      "✅ # Steps: 66; e_form: P=-0.3821, GT=-0.3647, Δ=0.0174, MAE=0.0407\n",
      "✅ # Steps: 16; e_form: P=0.0119, GT=0.0453, Δ=0.0335, MAE=0.0407\n",
      "✅ # Steps: 18; e_form: P=-2.6203, GT=-2.6104, Δ=0.0098, MAE=0.0406\n",
      "✅ # Steps: 6; e_form: P=-0.2873, GT=-0.2549, Δ=0.0324, MAE=0.0406\n",
      "✅ # Steps: 11; e_form: P=-0.1918, GT=-0.1989, Δ=0.0070, MAE=0.0406\n",
      "✅ # Steps: 10; e_form: P=0.4745, GT=0.4712, Δ=0.0033, MAE=0.0405\n",
      "✅ # Steps: 35; e_form: P=-0.0119, GT=-0.0030, Δ=0.0089, MAE=0.0405\n",
      "✅ # Steps: 18; e_form: P=-0.2354, GT=-0.2702, Δ=0.0348, MAE=0.0405\n",
      "✅ # Steps: 17; e_form: P=-0.5532, GT=-0.5372, Δ=0.0160, MAE=0.0405\n",
      "✅ # Steps: 6; e_form: P=-0.0432, GT=-0.0457, Δ=0.0025, MAE=0.0404\n",
      "✅ # Steps: 17; e_form: P=-0.5226, GT=-0.5335, Δ=0.0109, MAE=0.0404\n",
      "✅ # Steps: 38; e_form: P=0.0963, GT=0.1201, Δ=0.0239, MAE=0.0404\n",
      "✅ # Steps: 23; e_form: P=-1.1412, GT=-1.0874, Δ=0.0537, MAE=0.0404\n",
      "✅ # Steps: 35; e_form: P=-2.7833, GT=-2.7770, Δ=0.0063, MAE=0.0403\n",
      "✅ # Steps: 15; e_form: P=-1.1111, GT=-1.1048, Δ=0.0063, MAE=0.0403\n",
      "✅ # Steps: 48; e_form: P=-0.3637, GT=-0.3743, Δ=0.0106, MAE=0.0403\n",
      "✅ # Steps: 7; e_form: P=0.0228, GT=0.0363, Δ=0.0135, MAE=0.0402\n",
      "✅ # Steps: 31; e_form: P=-0.4031, GT=-0.3760, Δ=0.0271, MAE=0.0402\n",
      "❌ # Steps: 84; e_form: P=-1.0166, GT=-0.9046, Δ=0.1119, MAE=0.0403\n",
      "✅ # Steps: 20; e_form: P=-0.3655, GT=-0.3541, Δ=0.0115, MAE=0.0403\n",
      "✅ # Steps: 20; e_form: P=-0.9393, GT=-0.9104, Δ=0.0289, MAE=0.0403\n",
      "✅ # Steps: 22; e_form: P=-0.2984, GT=-0.3113, Δ=0.0129, MAE=0.0402\n",
      "✅ # Steps: 7; e_form: P=0.0249, GT=0.0566, Δ=0.0317, MAE=0.0402\n",
      "✅ # Steps: 9; e_form: P=-0.6088, GT=-0.5667, Δ=0.0421, MAE=0.0402\n",
      "✅ # Steps: 6; e_form: P=-1.6334, GT=-1.5421, Δ=0.0913, MAE=0.0403\n",
      "✅ # Steps: 21; e_form: P=-0.4383, GT=-0.4317, Δ=0.0066, MAE=0.0403\n",
      "✅ # Steps: 5; e_form: P=-0.1726, GT=-0.1564, Δ=0.0162, MAE=0.0402\n",
      "✅ # Steps: 11; e_form: P=-2.1886, GT=-2.1111, Δ=0.0775, MAE=0.0403\n",
      "✅ # Steps: 8; e_form: P=-0.1727, GT=-0.0939, Δ=0.0788, MAE=0.0403\n",
      "✅ # Steps: 16; e_form: P=-2.8000, GT=-2.7974, Δ=0.0027, MAE=0.0403\n",
      "✅ # Steps: 17; e_form: P=-0.5520, GT=-0.5827, Δ=0.0307, MAE=0.0403\n",
      "✅ # Steps: 6; e_form: P=-3.4012, GT=-3.4296, Δ=0.0284, MAE=0.0402\n",
      "✅ # Steps: 10; e_form: P=-0.3611, GT=-0.3281, Δ=0.0330, MAE=0.0402\n",
      "✅ # Steps: 6; e_form: P=-0.3969, GT=-0.3999, Δ=0.0030, MAE=0.0402\n",
      "✅ # Steps: 9; e_form: P=-0.2555, GT=-0.2261, Δ=0.0294, MAE=0.0402\n",
      "✅ # Steps: 18; e_form: P=0.0267, GT=-0.0728, Δ=0.0995, MAE=0.0402\n",
      "✅ # Steps: 11; e_form: P=0.0046, GT=0.0085, Δ=0.0039, MAE=0.0402\n",
      "✅ # Steps: 33; e_form: P=-0.6149, GT=-0.5824, Δ=0.0326, MAE=0.0402\n",
      "✅ # Steps: 7; e_form: P=-0.0082, GT=-0.0091, Δ=0.0009, MAE=0.0402\n",
      "✅ # Steps: 8; e_form: P=-0.0587, GT=-0.0442, Δ=0.0145, MAE=0.0401\n",
      "✅ # Steps: 23; e_form: P=-2.8614, GT=-2.8235, Δ=0.0379, MAE=0.0401\n",
      "✅ # Steps: 6; e_form: P=-1.9270, GT=-1.9013, Δ=0.0257, MAE=0.0401\n",
      "✅ # Steps: 35; e_form: P=0.0463, GT=-0.0475, Δ=0.0938, MAE=0.0402\n",
      "✅ # Steps: 24; e_form: P=-1.1757, GT=-1.2078, Δ=0.0321, MAE=0.0402\n",
      "✅ # Steps: 14; e_form: P=-0.1873, GT=-0.1637, Δ=0.0236, MAE=0.0401\n",
      "✅ # Steps: 20; e_form: P=-0.5890, GT=-0.5761, Δ=0.0129, MAE=0.0401\n",
      "✅ # Steps: 2; e_form: P=0.1271, GT=0.1568, Δ=0.0297, MAE=0.0401\n",
      "✅ # Steps: 36; e_form: P=-0.3437, GT=-0.3436, Δ=0.0001, MAE=0.0401\n",
      "✅ # Steps: 21; e_form: P=-0.3255, GT=-0.3194, Δ=0.0061, MAE=0.0400\n",
      "✅ # Steps: 2; e_form: P=-1.6044, GT=-1.5818, Δ=0.0226, MAE=0.0400\n",
      "❌ # Steps: 2; e_form: P=0.3326, GT=0.5770, Δ=0.2444, MAE=0.0402\n",
      "✅ # Steps: 38; e_form: P=-0.2352, GT=-0.2169, Δ=0.0182, MAE=0.0402\n",
      "✅ # Steps: 31; e_form: P=-1.8378, GT=-1.8275, Δ=0.0103, MAE=0.0402\n",
      "✅ # Steps: 9; e_form: P=-0.2548, GT=-0.2535, Δ=0.0013, MAE=0.0401\n",
      "✅ # Steps: 2; e_form: P=-2.8083, GT=-2.7607, Δ=0.0476, MAE=0.0401\n",
      "✅ # Steps: 13; e_form: P=-0.3721, GT=-0.3948, Δ=0.0228, MAE=0.0401\n",
      "✅ # Steps: 42; e_form: P=-0.1771, GT=-0.1468, Δ=0.0303, MAE=0.0401\n",
      "✅ # Steps: 6; e_form: P=-0.1713, GT=-0.1065, Δ=0.0648, MAE=0.0401\n",
      "✅ # Steps: 28; e_form: P=-1.1756, GT=-1.1210, Δ=0.0546, MAE=0.0401\n",
      "✅ # Steps: 7; e_form: P=-0.3604, GT=-0.2676, Δ=0.0927, MAE=0.0402\n",
      "✅ # Steps: 23; e_form: P=-0.5469, GT=-0.5560, Δ=0.0091, MAE=0.0402\n",
      "✅ # Steps: 36; e_form: P=-0.6310, GT=-0.5960, Δ=0.0350, MAE=0.0402\n",
      "✅ # Steps: 5; e_form: P=-0.3445, GT=-0.3718, Δ=0.0273, MAE=0.0402\n",
      "✅ # Steps: 21; e_form: P=-2.0455, GT=-2.0274, Δ=0.0182, MAE=0.0401\n",
      "✅ # Steps: 28; e_form: P=-0.2929, GT=-0.2564, Δ=0.0365, MAE=0.0401\n",
      "✅ # Steps: 20; e_form: P=-0.2865, GT=-0.2337, Δ=0.0528, MAE=0.0401\n",
      "✅ # Steps: 28; e_form: P=-3.5063, GT=-3.4785, Δ=0.0278, MAE=0.0401\n",
      "✅ # Steps: 6; e_form: P=-3.0388, GT=-3.0074, Δ=0.0314, MAE=0.0401\n",
      "✅ # Steps: 17; e_form: P=-0.2639, GT=-0.2525, Δ=0.0114, MAE=0.0401\n",
      "✅ # Steps: 55; e_form: P=-0.2940, GT=-0.2939, Δ=0.0001, MAE=0.0400\n",
      "✅ # Steps: 22; e_form: P=-0.7515, GT=-0.7279, Δ=0.0236, MAE=0.0400\n",
      "✅ # Steps: 20; e_form: P=-0.4491, GT=-0.4437, Δ=0.0055, MAE=0.0400\n",
      "✅ # Steps: 13; e_form: P=-0.1890, GT=-0.1949, Δ=0.0060, MAE=0.0400\n",
      "✅ # Steps: 22; e_form: P=-0.7956, GT=-0.7958, Δ=0.0003, MAE=0.0399\n",
      "✅ # Steps: 15; e_form: P=-0.3915, GT=-0.3861, Δ=0.0054, MAE=0.0399\n",
      "✅ # Steps: 6; e_form: P=-0.0582, GT=0.0020, Δ=0.0602, MAE=0.0399\n",
      "✅ # Steps: 29; e_form: P=-2.4292, GT=-2.4231, Δ=0.0061, MAE=0.0399\n",
      "✅ # Steps: 27; e_form: P=-2.3996, GT=-2.3923, Δ=0.0073, MAE=0.0398\n",
      "✅ # Steps: 10; e_form: P=-3.3744, GT=-3.3838, Δ=0.0094, MAE=0.0398\n",
      "✅ # Steps: 15; e_form: P=-0.0771, GT=-0.1283, Δ=0.0512, MAE=0.0398\n",
      "✅ # Steps: 28; e_form: P=-0.5666, GT=-0.5110, Δ=0.0556, MAE=0.0398\n",
      "✅ # Steps: 13; e_form: P=-0.6278, GT=-0.6149, Δ=0.0130, MAE=0.0398\n",
      "✅ # Steps: 5; e_form: P=-0.2591, GT=-0.2405, Δ=0.0186, MAE=0.0398\n",
      "✅ # Steps: 20; e_form: P=-0.3010, GT=-0.3139, Δ=0.0129, MAE=0.0398\n",
      "✅ # Steps: 5; e_form: P=-0.4809, GT=-0.4718, Δ=0.0091, MAE=0.0397\n",
      "✅ # Steps: 21; e_form: P=-1.6109, GT=-1.5122, Δ=0.0988, MAE=0.0398\n",
      "✅ # Steps: 13; e_form: P=-0.2558, GT=-0.2475, Δ=0.0083, MAE=0.0398\n",
      "✅ # Steps: 17; e_form: P=-2.9171, GT=-2.9445, Δ=0.0274, MAE=0.0397\n",
      "✅ # Steps: 9; e_form: P=-0.5691, GT=-0.5732, Δ=0.0041, MAE=0.0397\n",
      "✅ # Steps: 18; e_form: P=-1.1136, GT=-1.1198, Δ=0.0062, MAE=0.0397\n",
      "✅ # Steps: 47; e_form: P=-0.9122, GT=-0.9185, Δ=0.0062, MAE=0.0396\n",
      "✅ # Steps: 25; e_form: P=-0.4109, GT=-0.4203, Δ=0.0094, MAE=0.0396\n",
      "✅ # Steps: 30; e_form: P=-0.7003, GT=-0.7145, Δ=0.0142, MAE=0.0396\n",
      "✅ # Steps: 8; e_form: P=-0.8417, GT=-0.8450, Δ=0.0033, MAE=0.0395\n",
      "❌ # Steps: 16; e_form: P=-0.2670, GT=-0.0715, Δ=0.1955, MAE=0.0397\n",
      "✅ # Steps: 11; e_form: P=-1.0990, GT=-1.0688, Δ=0.0302, MAE=0.0397\n",
      "✅ # Steps: 5; e_form: P=-0.3448, GT=-0.2747, Δ=0.0701, MAE=0.0397\n",
      "✅ # Steps: 5; e_form: P=0.2586, GT=0.3054, Δ=0.0468, MAE=0.0397\n",
      "✅ # Steps: 11; e_form: P=-0.8325, GT=-0.7781, Δ=0.0545, MAE=0.0397\n",
      "✅ # Steps: 17; e_form: P=-0.4760, GT=-0.4802, Δ=0.0042, MAE=0.0397\n",
      "✅ # Steps: 11; e_form: P=-0.2052, GT=-0.1610, Δ=0.0441, MAE=0.0397\n",
      "✅ # Steps: 5; e_form: P=-0.1387, GT=-0.1797, Δ=0.0410, MAE=0.0397\n",
      "✅ # Steps: 2; e_form: P=-1.4049, GT=-1.4017, Δ=0.0033, MAE=0.0397\n",
      "✅ # Steps: 15; e_form: P=-0.2974, GT=-0.2996, Δ=0.0023, MAE=0.0396\n",
      "✅ # Steps: 35; e_form: P=-2.8541, GT=-2.8112, Δ=0.0429, MAE=0.0396\n",
      "✅ # Steps: 15; e_form: P=-3.6352, GT=-3.6233, Δ=0.0120, MAE=0.0396\n",
      "✅ # Steps: 18; e_form: P=-0.6602, GT=-0.6740, Δ=0.0137, MAE=0.0396\n",
      "✅ # Steps: 4; e_form: P=-0.4213, GT=-0.4104, Δ=0.0109, MAE=0.0396\n",
      "✅ # Steps: 6; e_form: P=-0.1166, GT=-0.0330, Δ=0.0836, MAE=0.0396\n",
      "✅ # Steps: 36; e_form: P=-2.5013, GT=-2.5160, Δ=0.0147, MAE=0.0396\n",
      "✅ # Steps: 11; e_form: P=-3.3651, GT=-3.4413, Δ=0.0762, MAE=0.0396\n",
      "✅ # Steps: 6; e_form: P=-0.1346, GT=-0.1190, Δ=0.0156, MAE=0.0396\n",
      "✅ # Steps: 27; e_form: P=-0.3342, GT=-0.2882, Δ=0.0460, MAE=0.0396\n",
      "✅ # Steps: 13; e_form: P=-1.5921, GT=-1.6352, Δ=0.0431, MAE=0.0396\n",
      "✅ # Steps: 9; e_form: P=-0.0941, GT=-0.0945, Δ=0.0003, MAE=0.0396\n",
      "✅ # Steps: 12; e_form: P=0.2720, GT=0.2147, Δ=0.0573, MAE=0.0396\n",
      "✅ # Steps: 36; e_form: P=-2.2852, GT=-2.2732, Δ=0.0119, MAE=0.0396\n",
      "❌ # Steps: 11; e_form: P=-0.6167, GT=-0.2774, Δ=0.3392, MAE=0.0399\n",
      "✅ # Steps: 16; e_form: P=-0.2216, GT=-0.1887, Δ=0.0329, MAE=0.0398\n",
      "✅ # Steps: 30; e_form: P=-2.1583, GT=-2.1022, Δ=0.0561, MAE=0.0399\n"
     ]
    }
   ],
   "source": [
    "from collections import defaultdict\n",
    "from functools import partial\n",
    "from typing import TypedDict, cast\n",
    "\n",
    "import numpy as np\n",
    "from jmppeft.modules.relaxer import RelaxationOutput\n",
    "from torch.utils.data import DataLoader\n",
    "from torch_geometric.data import Batch\n",
    "from tqdm.auto import tqdm\n",
    "\n",
    "use_y_relaxed = True\n",
    "\n",
    "config = RelaxerConfig(\n",
    "    compute_stress=True,\n",
    "    stress_weight=0.1,\n",
    "    optimizer=\"FIRE\",\n",
    "    # fmax=0.01,\n",
    "    # ase_filter=\"frechet\",\n",
    "    fmax=0.05,\n",
    "    ase_filter=\"exp\",\n",
    ")\n",
    "relaxer = Relaxer(\n",
    "    config=config,\n",
    "    model=partial(model_fn, use_y_relaxed=use_y_relaxed),\n",
    "    collate_fn=model.collate_fn,\n",
    "    device=model.device,\n",
    ")\n",
    "\n",
    "dl = DataLoader(\n",
    "    dataset,\n",
    "    batch_size=1,\n",
    "    collate_fn=model.collate_fn,\n",
    "    shuffle=False,\n",
    "    num_workers=0,\n",
    "    pin_memory=True,\n",
    ")\n",
    "\n",
    "preds_targets = defaultdict[str, list[tuple[float, float]]](lambda: [])\n",
    "mae_error = 0.0\n",
    "mae_count = 0\n",
    "\n",
    "\n",
    "class ProblematicSample(TypedDict):\n",
    "    error: float\n",
    "    initial_data: Batch\n",
    "    relaxed_data: Batch\n",
    "    relax_out: RelaxationOutput\n",
    "\n",
    "\n",
    "problematic_samples: list[ProblematicSample] = []\n",
    "ae_threshold = 0.1\n",
    "\n",
    "for data in tqdm(dl, total=len(dl)):\n",
    "    data = cast(Batch, data)\n",
    "    data = move_data_to_device(data, model.device)\n",
    "    data.y_prediction = data.y_formation\n",
    "    relaxed_data, relax_out = relax_and_return_structure(relaxer, data, verbose=False)\n",
    "\n",
    "    e_form_true = data.y_formation.item()\n",
    "    e_form_pred = relax_out.atoms.get_total_energy()\n",
    "    preds_targets[\"e_form\"].append((e_form_pred, e_form_true))\n",
    "\n",
    "    e_above_hull_true = data.y_above_hull.item()\n",
    "    e_above_hull_pred = e_above_hull_true + (e_form_pred - e_form_true)\n",
    "    preds_targets[\"e_above_hull\"].append((e_above_hull_pred, e_above_hull_true))\n",
    "\n",
    "    mae_error += abs(e_form_pred - e_form_true)\n",
    "    mae_count += 1\n",
    "    mae_running = mae_error / mae_count\n",
    "\n",
    "    nsteps = len(relax_out.trajectory.frames)\n",
    "\n",
    "    error = abs(e_form_pred - e_form_true)\n",
    "    prefix = \"✅\"\n",
    "    if error > ae_threshold:\n",
    "        problematic_samples.append(\n",
    "            {\n",
    "                \"error\": error,\n",
    "                \"initial_data\": move_data_to_device(data, \"cpu\"),\n",
    "                \"relaxed_data\": move_data_to_device(relaxed_data, \"cpu\"),\n",
    "                \"relax_out\": move_data_to_device(relax_out, \"cpu\"),\n",
    "            }\n",
    "        )\n",
    "        prefix = \"❌\"\n",
    "\n",
    "    print(\n",
    "        f\"{prefix} # Steps: {nsteps}; e_form: P={e_form_pred:.4f}, GT={e_form_true:.4f}, Δ={abs(e_form_pred - e_form_true):.4f}, MAE={mae_running:.4f}\"\n",
    "    )"
   ]
  },
  {
   "cell_type": "code",
   "execution_count": 11,
   "metadata": {},
   "outputs": [],
   "source": [
    "import ase\n",
    "import ase.visualize\n",
    "import matplotlib.pyplot as plt\n",
    "import numpy as np\n",
    "import seaborn as sns\n",
    "\n",
    "sns.set_theme()\n",
    "\n",
    "\n",
    "class UpdatedProblematicSample(TypedDict):\n",
    "    error: float\n",
    "    initial_data: Batch\n",
    "    relaxed_data: Batch\n",
    "    relax_out: RelaxationOutput\n",
    "\n",
    "    s2e_energies: list[float]\n",
    "    s2re_energies: list[float]\n",
    "\n",
    "\n",
    "def _update_sample(sample: ProblematicSample) -> UpdatedProblematicSample:\n",
    "    relax_out = sample[\"relax_out\"]\n",
    "\n",
    "    initial_data = move_data_to_device(\n",
    "        copy.deepcopy(sample[\"initial_data\"]), model.device\n",
    "    )\n",
    "    data = move_data_to_device(copy.deepcopy(sample[\"initial_data\"]), model.device)\n",
    "\n",
    "    s2e_energies = []\n",
    "    s2re_energies = []\n",
    "    for f in tqdm(relax_out.trajectory.frames):\n",
    "        data.pos = f.pos.type_as(data.pos).reshape_as(data.pos).to(data.pos.device)\n",
    "        data.cell = f.cell.type_as(data.cell).reshape_as(data.cell).to(data.cell.device)\n",
    "\n",
    "        out = model_fn(data, initial_data, use_y_relaxed=True)\n",
    "        # yield out[\"energy\"].item()\n",
    "        s2e_energies.append(out[\"current_energy\"].item())\n",
    "        s2re_energies.append(out[\"relaxed_energy\"].item())\n",
    "\n",
    "    return {**sample, \"s2e_energies\": s2e_energies, \"s2re_energies\": s2re_energies}\n",
    "\n",
    "\n",
    "def plot_energy_vs_steps(sample: UpdatedProblematicSample, ax: plt.Axes | None = None):\n",
    "    initial_data = sample[\"initial_data\"]\n",
    "\n",
    "    e_form_true = initial_data.y_formation.item()\n",
    "\n",
    "    if ax is None:\n",
    "        _, ax = plt.subplots()\n",
    "    ax.plot(sample[\"s2e_energies\"], label=\"S2E Pred\")\n",
    "    ax.plot(sample[\"s2re_energies\"], label=\"S2RE Pred\")\n",
    "    ax.axhline(y=e_form_true, color=\"r\", linestyle=\"--\", label=\"True\")\n",
    "\n",
    "    ax.set_xlabel(\"Step\")\n",
    "    ax.set_ylabel(\"Formation Energy\")\n",
    "    ax.legend()\n",
    "\n",
    "    return ax\n",
    "\n",
    "\n",
    "def plot_initial_structure(sample: ProblematicSample):\n",
    "    initial_data = sample[\"initial_data\"]\n",
    "    atoms = ase.Atoms(\n",
    "        numbers=initial_data.atomic_numbers.cpu().numpy(),\n",
    "        positions=initial_data.pos.cpu().numpy(),\n",
    "        cell=initial_data.cell.cpu().squeeze(0).numpy(),\n",
    "        pbc=[True, True, True],\n",
    "    )\n",
    "\n",
    "    return ase.visualize.view(atoms, viewer=\"ngl\")\n",
    "\n",
    "\n",
    "def plot_trajectory(sample: ProblematicSample):\n",
    "    initial_data = move_data_to_device(copy.deepcopy(sample[\"initial_data\"]), \"cpu\")\n",
    "    atoms_list = [\n",
    "        ase.Atoms(\n",
    "            numbers=initial_data.atomic_numbers.cpu().numpy(),\n",
    "            positions=f.pos.cpu().numpy(),\n",
    "            cell=f.cell.cpu().squeeze(0).numpy(),\n",
    "            pbc=[True, True, True],\n",
    "        )\n",
    "        for f in sample[\"relax_out\"].trajectory.frames\n",
    "    ]\n",
    "\n",
    "    return ase.visualize.view(atoms_list, viewer=\"ngl\")\n",
    "\n",
    "\n",
    "def debug_system(idx: int, figsize: tuple[int, int] = (3, 2)):\n",
    "    sample = problematic_samples[idx]\n",
    "    updated_sample = _update_sample(sample)\n",
    "\n",
    "    # display(plot_initial_structure(updated_sample))\n",
    "    display(plot_trajectory(updated_sample))\n",
    "\n",
    "    fig, ax = plt.subplots(figsize=figsize)\n",
    "    plot_energy_vs_steps(updated_sample, ax=ax)\n",
    "    plt.show()"
   ]
  },
  {
   "cell_type": "code",
   "execution_count": 13,
   "metadata": {},
   "outputs": [
    {
     "name": "stdout",
     "output_type": "stream",
     "text": [
      "Max error index: 45, error: 0.8655839562416077\n"
     ]
    },
    {
     "data": {
      "application/vnd.jupyter.widget-view+json": {
       "model_id": "242fe3be04e44d2682221de95b81369d",
       "version_major": 2,
       "version_minor": 0
      },
      "text/plain": [
       "  0%|          | 0/128 [00:00<?, ?it/s]"
      ]
     },
     "metadata": {},
     "output_type": "display_data"
    },
    {
     "data": {
      "application/vnd.jupyter.widget-view+json": {
       "model_id": "fec785f470824fffbdc38e0bde34ddb6",
       "version_major": 2,
       "version_minor": 0
      },
      "text/plain": []
     },
     "metadata": {},
     "output_type": "display_data"
    },
    {
     "data": {
      "application/vnd.jupyter.widget-view+json": {
       "model_id": "f8977ceb49d54430814fcb54dea6bed3",
       "version_major": 2,
       "version_minor": 0
      },
      "text/plain": [
       "HBox(children=(NGLWidget(max_frame=127), VBox(children=(Dropdown(description='Show', options=('All', 'Tl', 'Pu…"
      ]
     },
     "metadata": {},
     "output_type": "display_data"
    },
    {
     "data": {
      "image/png": "[encoded data removed]",
      "text/plain": [
       "<Figure size 600x400 with 1 Axes>"
      ]
     },
     "metadata": {},
     "output_type": "display_data"
    }
   ],
   "source": [
    "max_error_idx = np.argmax([s[\"error\"] for s in problematic_samples])\n",
    "print(\n",
    "    f\"Max error index: {max_error_idx}, error: {problematic_samples[max_error_idx]['error']}\"\n",
    ")\n",
    "debug_system(max_error_idx)"
   ]
  },
  {
   "cell_type": "code",
   "execution_count": 12,
   "metadata": {},
   "outputs": [
    {
     "name": "stdout",
     "output_type": "stream",
     "text": [
      "index: 6, error: 0.27349376678466797\n"
     ]
    },
    {
     "data": {
      "application/vnd.jupyter.widget-view+json": {
       "model_id": "0a8dbcb804e94aa5b4075dd9d3d83696",
       "version_major": 2,
       "version_minor": 0
      },
      "text/plain": [
       "  0%|          | 0/21 [00:00<?, ?it/s]"
      ]
     },
     "metadata": {},
     "output_type": "display_data"
    },
    {
     "data": {
      "application/vnd.jupyter.widget-view+json": {
       "model_id": "ecf5cfb110b44f94bf901c35a49ab4c8",
       "version_major": 2,
       "version_minor": 0
      },
      "text/plain": [
       "HBox(children=(NGLWidget(max_frame=20), VBox(children=(Dropdown(description='Show', options=('All', 'K', 'Zn',…"
      ]
     },
     "metadata": {},
     "output_type": "display_data"
    },
    {
     "data": {
      "image/png": "[encoded data removed]",
      "text/plain": [
       "<Figure size 600x400 with 1 Axes>"
      ]
     },
     "metadata": {},
     "output_type": "display_data"
    }
   ],
   "source": [
    "idx = 10\n",
    "max_error_idx = np.argsort([s[\"error\"] for s in problematic_samples])[-idx]\n",
    "print(f\"index: {max_error_idx}, error: {problematic_samples[max_error_idx]['error']}\")\n",
    "debug_system(max_error_idx)"
   ]
  },
  {
   "cell_type": "code",
   "execution_count": 13,
   "metadata": {},
   "outputs": [
    {
     "name": "stdout",
     "output_type": "stream",
     "text": [
      "index: 25, error: 0.25337085127830505\n"
     ]
    },
    {
     "data": {
      "application/vnd.jupyter.widget-view+json": {
       "model_id": "b17ba3d6059f451893d017fe9e1b7a65",
       "version_major": 2,
       "version_minor": 0
      },
      "text/plain": [
       "  0%|          | 0/7 [00:00<?, ?it/s]"
      ]
     },
     "metadata": {},
     "output_type": "display_data"
    },
    {
     "data": {
      "application/vnd.jupyter.widget-view+json": {
       "model_id": "c274cc193cb64c1ca65ef2190f9e2272",
       "version_major": 2,
       "version_minor": 0
      },
      "text/plain": [
       "HBox(children=(NGLWidget(max_frame=6), VBox(children=(Dropdown(description='Show', options=('All', 'Mn', 'Er',…"
      ]
     },
     "metadata": {},
     "output_type": "display_data"
    },
    {
     "data": {
      "image/png": "[encoded data removed]",
      "text/plain": [
       "<Figure size 600x400 with 1 Axes>"
      ]
     },
     "metadata": {},
     "output_type": "display_data"
    }
   ],
   "source": [
    "idx = 12\n",
    "max_error_idx = np.argsort([s[\"error\"] for s in problematic_samples])[-idx]\n",
    "print(f\"index: {max_error_idx}, error: {problematic_samples[max_error_idx]['error']}\")\n",
    "debug_system(max_error_idx)"
   ]
  },
  {
   "cell_type": "code",
   "execution_count": 14,
   "metadata": {},
   "outputs": [],
   "source": [
    "# Sort by error\n",
    "problematic_samples_sorted = sorted(\n",
    "    problematic_samples,\n",
    "    key=lambda x: len(x[\"relax_out\"].trajectory.frames),\n",
    "    reverse=True,\n",
    ")\n",
    "for i, sample in enumerate(problematic_samples_sorted):\n",
    "    print(\n",
    "        f\"Index: {i}, Error: {sample['error']:.4f}, # Steps: {len(sample['relax_out'].trajectory.frames)}\"\n",
    "    )\n",
    "    display(plot_trajectory(sample))\n",
    "\n",
    "    if i == 10:\n",
    "        break"
   ]
  },
  {
   "cell_type": "code",
   "execution_count": 15,
   "metadata": {},
   "outputs": [
    {
     "data": {
      "application/vnd.jupyter.widget-view+json": {
       "model_id": "73f765c1870b40af8bb633ba5eec0527",
       "version_major": 2,
       "version_minor": 0
      },
      "text/plain": [
       "  0%|          | 0/73 [00:00<?, ?it/s]"
      ]
     },
     "metadata": {},
     "output_type": "display_data"
    },
    {
     "data": {
      "application/vnd.jupyter.widget-view+json": {
       "model_id": "5fabd9dcbf4444f5973b131985b2b2a4",
       "version_major": 2,
       "version_minor": 0
      },
      "text/plain": [
       "  0%|          | 0/128 [00:00<?, ?it/s]"
      ]
     },
     "metadata": {},
     "output_type": "display_data"
    },
    {
     "data": {
      "application/vnd.jupyter.widget-view+json": {
       "model_id": "97799af3adc7405cafd731e2eb434066",
       "version_major": 2,
       "version_minor": 0
      },
      "text/plain": [
       "  0%|          | 0/95 [00:00<?, ?it/s]"
      ]
     },
     "metadata": {},
     "output_type": "display_data"
    },
    {
     "data": {
      "application/vnd.jupyter.widget-view+json": {
       "model_id": "78a1df6cf4574a9797877191edf137d6",
       "version_major": 2,
       "version_minor": 0
      },
      "text/plain": [
       "  0%|          | 0/84 [00:00<?, ?it/s]"
      ]
     },
     "metadata": {},
     "output_type": "display_data"
    },
    {
     "data": {
      "application/vnd.jupyter.widget-view+json": {
       "model_id": "edab554eba6b490cab8cbec0da04ee14",
       "version_major": 2,
       "version_minor": 0
      },
      "text/plain": [
       "  0%|          | 0/82 [00:00<?, ?it/s]"
      ]
     },
     "metadata": {},
     "output_type": "display_data"
    },
    {
     "data": {
      "application/vnd.jupyter.widget-view+json": {
       "model_id": "88350df5221b46c5a3e5abba573b336c",
       "version_major": 2,
       "version_minor": 0
      },
      "text/plain": [
       "  0%|          | 0/60 [00:00<?, ?it/s]"
      ]
     },
     "metadata": {},
     "output_type": "display_data"
    },
    {
     "data": {
      "application/vnd.jupyter.widget-view+json": {
       "model_id": "9096c32e430646dcbf88f522964af9c9",
       "version_major": 2,
       "version_minor": 0
      },
      "text/plain": [
       "  0%|          | 0/49 [00:00<?, ?it/s]"
      ]
     },
     "metadata": {},
     "output_type": "display_data"
    },
    {
     "data": {
      "application/vnd.jupyter.widget-view+json": {
       "model_id": "7b3ae99f34014d81a93ee1227fbfb4c7",
       "version_major": 2,
       "version_minor": 0
      },
      "text/plain": [
       "  0%|          | 0/48 [00:00<?, ?it/s]"
      ]
     },
     "metadata": {},
     "output_type": "display_data"
    },
    {
     "data": {
      "application/vnd.jupyter.widget-view+json": {
       "model_id": "3122edb05c1048a3bc044b76365829e0",
       "version_major": 2,
       "version_minor": 0
      },
      "text/plain": [
       "  0%|          | 0/44 [00:00<?, ?it/s]"
      ]
     },
     "metadata": {},
     "output_type": "display_data"
    },
    {
     "data": {
      "application/vnd.jupyter.widget-view+json": {
       "model_id": "dd9b3b9a082c458ba2ebee7489dd9cf3",
       "version_major": 2,
       "version_minor": 0
      },
      "text/plain": [
       "  0%|          | 0/44 [00:00<?, ?it/s]"
      ]
     },
     "metadata": {},
     "output_type": "display_data"
    },
    {
     "data": {
      "application/vnd.jupyter.widget-view+json": {
       "model_id": "911cebe132e849ef8be21bc44a77691d",
       "version_major": 2,
       "version_minor": 0
      },
      "text/plain": [
       "  0%|          | 0/43 [00:00<?, ?it/s]"
      ]
     },
     "metadata": {},
     "output_type": "display_data"
    },
    {
     "data": {
      "application/vnd.jupyter.widget-view+json": {
       "model_id": "19e207cbdd2d4fc1a03de29e2c7c5e14",
       "version_major": 2,
       "version_minor": 0
      },
      "text/plain": [
       "  0%|          | 0/42 [00:00<?, ?it/s]"
      ]
     },
     "metadata": {},
     "output_type": "display_data"
    },
    {
     "data": {
      "application/vnd.jupyter.widget-view+json": {
       "model_id": "645285bf44194226b061012e9371cea3",
       "version_major": 2,
       "version_minor": 0
      },
      "text/plain": [
       "  0%|          | 0/38 [00:00<?, ?it/s]"
      ]
     },
     "metadata": {},
     "output_type": "display_data"
    },
    {
     "data": {
      "application/vnd.jupyter.widget-view+json": {
       "model_id": "39da49eca12a4f4d836cb85e73d65676",
       "version_major": 2,
       "version_minor": 0
      },
      "text/plain": [
       "  0%|          | 0/36 [00:00<?, ?it/s]"
      ]
     },
     "metadata": {},
     "output_type": "display_data"
    },
    {
     "data": {
      "application/vnd.jupyter.widget-view+json": {
       "model_id": "fe4129c73d63497fb3fb64232b50ee90",
       "version_major": 2,
       "version_minor": 0
      },
      "text/plain": [
       "  0%|          | 0/36 [00:00<?, ?it/s]"
      ]
     },
     "metadata": {},
     "output_type": "display_data"
    },
    {
     "data": {
      "application/vnd.jupyter.widget-view+json": {
       "model_id": "5b1ccda7470346728da53a2108e14d50",
       "version_major": 2,
       "version_minor": 0
      },
      "text/plain": [
       "  0%|          | 0/36 [00:00<?, ?it/s]"
      ]
     },
     "metadata": {},
     "output_type": "display_data"
    },
    {
     "data": {
      "application/vnd.jupyter.widget-view+json": {
       "model_id": "6c4cd6f1cd9344679065560042d3e93a",
       "version_major": 2,
       "version_minor": 0
      },
      "text/plain": [
       "  0%|          | 0/30 [00:00<?, ?it/s]"
      ]
     },
     "metadata": {},
     "output_type": "display_data"
    },
    {
     "data": {
      "application/vnd.jupyter.widget-view+json": {
       "model_id": "f596c9b47dbb4eb28cd8a2c016f9b6f2",
       "version_major": 2,
       "version_minor": 0
      },
      "text/plain": [
       "  0%|          | 0/30 [00:00<?, ?it/s]"
      ]
     },
     "metadata": {},
     "output_type": "display_data"
    },
    {
     "data": {
      "application/vnd.jupyter.widget-view+json": {
       "model_id": "26036aa0fd5146e2aa4956b840183133",
       "version_major": 2,
       "version_minor": 0
      },
      "text/plain": [
       "  0%|          | 0/29 [00:00<?, ?it/s]"
      ]
     },
     "metadata": {},
     "output_type": "display_data"
    },
    {
     "data": {
      "application/vnd.jupyter.widget-view+json": {
       "model_id": "4b7d4ec1a14041d8a3427a1e07f1c184",
       "version_major": 2,
       "version_minor": 0
      },
      "text/plain": [
       "  0%|          | 0/28 [00:00<?, ?it/s]"
      ]
     },
     "metadata": {},
     "output_type": "display_data"
    },
    {
     "data": {
      "application/vnd.jupyter.widget-view+json": {
       "model_id": "456c71432cf442ed98844eb3e0302e22",
       "version_major": 2,
       "version_minor": 0
      },
      "text/plain": [
       "  0%|          | 0/26 [00:00<?, ?it/s]"
      ]
     },
     "metadata": {},
     "output_type": "display_data"
    },
    {
     "data": {
      "application/vnd.jupyter.widget-view+json": {
       "model_id": "11206f8bb0e54e2bb97bc39ade573e72",
       "version_major": 2,
       "version_minor": 0
      },
      "text/plain": [
       "  0%|          | 0/26 [00:00<?, ?it/s]"
      ]
     },
     "metadata": {},
     "output_type": "display_data"
    },
    {
     "data": {
      "application/vnd.jupyter.widget-view+json": {
       "model_id": "c1fc8156854b4f38a4e657367edcb208",
       "version_major": 2,
       "version_minor": 0
      },
      "text/plain": [
       "  0%|          | 0/26 [00:00<?, ?it/s]"
      ]
     },
     "metadata": {},
     "output_type": "display_data"
    },
    {
     "data": {
      "application/vnd.jupyter.widget-view+json": {
       "model_id": "6d4aeb08bca845f7a33c0da243556b7f",
       "version_major": 2,
       "version_minor": 0
      },
      "text/plain": [
       "  0%|          | 0/25 [00:00<?, ?it/s]"
      ]
     },
     "metadata": {},
     "output_type": "display_data"
    },
    {
     "data": {
      "application/vnd.jupyter.widget-view+json": {
       "model_id": "3fe5973ee49a4b5ebfd181117d37e726",
       "version_major": 2,
       "version_minor": 0
      },
      "text/plain": [
       "  0%|          | 0/23 [00:00<?, ?it/s]"
      ]
     },
     "metadata": {},
     "output_type": "display_data"
    },
    {
     "data": {
      "application/vnd.jupyter.widget-view+json": {
       "model_id": "426875221e5145b18f383c7fe85e7a73",
       "version_major": 2,
       "version_minor": 0
      },
      "text/plain": [
       "  0%|          | 0/22 [00:00<?, ?it/s]"
      ]
     },
     "metadata": {},
     "output_type": "display_data"
    },
    {
     "data": {
      "application/vnd.jupyter.widget-view+json": {
       "model_id": "0bf824e75ecd4a728037e14683ee752a",
       "version_major": 2,
       "version_minor": 0
      },
      "text/plain": [
       "  0%|          | 0/22 [00:00<?, ?it/s]"
      ]
     },
     "metadata": {},
     "output_type": "display_data"
    },
    {
     "data": {
      "application/vnd.jupyter.widget-view+json": {
       "model_id": "c4b36a55fbb546faabb69557f3f7be36",
       "version_major": 2,
       "version_minor": 0
      },
      "text/plain": [
       "  0%|          | 0/22 [00:00<?, ?it/s]"
      ]
     },
     "metadata": {},
     "output_type": "display_data"
    },
    {
     "data": {
      "application/vnd.jupyter.widget-view+json": {
       "model_id": "8bb3a27edcdc4f9baea79bae3142c123",
       "version_major": 2,
       "version_minor": 0
      },
      "text/plain": [
       "  0%|          | 0/21 [00:00<?, ?it/s]"
      ]
     },
     "metadata": {},
     "output_type": "display_data"
    },
    {
     "data": {
      "application/vnd.jupyter.widget-view+json": {
       "model_id": "804070e8c8a04c519825eff920ab6040",
       "version_major": 2,
       "version_minor": 0
      },
      "text/plain": [
       "  0%|          | 0/21 [00:00<?, ?it/s]"
      ]
     },
     "metadata": {},
     "output_type": "display_data"
    },
    {
     "data": {
      "application/vnd.jupyter.widget-view+json": {
       "model_id": "be48b0ae15fe434584de12ab81901ab9",
       "version_major": 2,
       "version_minor": 0
      },
      "text/plain": [
       "  0%|          | 0/21 [00:00<?, ?it/s]"
      ]
     },
     "metadata": {},
     "output_type": "display_data"
    },
    {
     "data": {
      "application/vnd.jupyter.widget-view+json": {
       "model_id": "73393788b3134346a73f29d5ef003c74",
       "version_major": 2,
       "version_minor": 0
      },
      "text/plain": [
       "  0%|          | 0/20 [00:00<?, ?it/s]"
      ]
     },
     "metadata": {},
     "output_type": "display_data"
    },
    {
     "data": {
      "application/vnd.jupyter.widget-view+json": {
       "model_id": "6d355c80cbed4601aa439d028d9d856f",
       "version_major": 2,
       "version_minor": 0
      },
      "text/plain": [
       "  0%|          | 0/19 [00:00<?, ?it/s]"
      ]
     },
     "metadata": {},
     "output_type": "display_data"
    },
    {
     "data": {
      "application/vnd.jupyter.widget-view+json": {
       "model_id": "b6d3a032c3e24e588cc66a107117239d",
       "version_major": 2,
       "version_minor": 0
      },
      "text/plain": [
       "  0%|          | 0/18 [00:00<?, ?it/s]"
      ]
     },
     "metadata": {},
     "output_type": "display_data"
    },
    {
     "data": {
      "application/vnd.jupyter.widget-view+json": {
       "model_id": "c7157e6a0e1545669a71581f9fd4433c",
       "version_major": 2,
       "version_minor": 0
      },
      "text/plain": [
       "  0%|          | 0/17 [00:00<?, ?it/s]"
      ]
     },
     "metadata": {},
     "output_type": "display_data"
    },
    {
     "data": {
      "application/vnd.jupyter.widget-view+json": {
       "model_id": "335ff47b3f4f437eaa4415be3623412e",
       "version_major": 2,
       "version_minor": 0
      },
      "text/plain": [
       "  0%|          | 0/16 [00:00<?, ?it/s]"
      ]
     },
     "metadata": {},
     "output_type": "display_data"
    },
    {
     "data": {
      "application/vnd.jupyter.widget-view+json": {
       "model_id": "5de8e519966740c19aceac2f53bb445c",
       "version_major": 2,
       "version_minor": 0
      },
      "text/plain": [
       "  0%|          | 0/16 [00:00<?, ?it/s]"
      ]
     },
     "metadata": {},
     "output_type": "display_data"
    },
    {
     "data": {
      "application/vnd.jupyter.widget-view+json": {
       "model_id": "154d815a17c84f459097bb734c47acb8",
       "version_major": 2,
       "version_minor": 0
      },
      "text/plain": [
       "  0%|          | 0/16 [00:00<?, ?it/s]"
      ]
     },
     "metadata": {},
     "output_type": "display_data"
    },
    {
     "data": {
      "application/vnd.jupyter.widget-view+json": {
       "model_id": "609e9c745756478b996b97538260fa61",
       "version_major": 2,
       "version_minor": 0
      },
      "text/plain": [
       "  0%|          | 0/16 [00:00<?, ?it/s]"
      ]
     },
     "metadata": {},
     "output_type": "display_data"
    },
    {
     "data": {
      "application/vnd.jupyter.widget-view+json": {
       "model_id": "6991c48e323946d3bff3544e81ca0906",
       "version_major": 2,
       "version_minor": 0
      },
      "text/plain": [
       "  0%|          | 0/16 [00:00<?, ?it/s]"
      ]
     },
     "metadata": {},
     "output_type": "display_data"
    },
    {
     "data": {
      "application/vnd.jupyter.widget-view+json": {
       "model_id": "452c88d428de418184e800d6082f79b3",
       "version_major": 2,
       "version_minor": 0
      },
      "text/plain": [
       "  0%|          | 0/14 [00:00<?, ?it/s]"
      ]
     },
     "metadata": {},
     "output_type": "display_data"
    },
    {
     "data": {
      "application/vnd.jupyter.widget-view+json": {
       "model_id": "3137228d905b4f89839f49d6873a1ced",
       "version_major": 2,
       "version_minor": 0
      },
      "text/plain": [
       "  0%|          | 0/13 [00:00<?, ?it/s]"
      ]
     },
     "metadata": {},
     "output_type": "display_data"
    },
    {
     "data": {
      "application/vnd.jupyter.widget-view+json": {
       "model_id": "a121a3be42d24c50948027491c61c2a6",
       "version_major": 2,
       "version_minor": 0
      },
      "text/plain": [
       "  0%|          | 0/12 [00:00<?, ?it/s]"
      ]
     },
     "metadata": {},
     "output_type": "display_data"
    },
    {
     "data": {
      "application/vnd.jupyter.widget-view+json": {
       "model_id": "71003e5a7a8d4f2fa4fba18a981839e4",
       "version_major": 2,
       "version_minor": 0
      },
      "text/plain": [
       "  0%|          | 0/11 [00:00<?, ?it/s]"
      ]
     },
     "metadata": {},
     "output_type": "display_data"
    },
    {
     "data": {
      "application/vnd.jupyter.widget-view+json": {
       "model_id": "36392a6a97914b7081279a73aacebcf5",
       "version_major": 2,
       "version_minor": 0
      },
      "text/plain": [
       "  0%|          | 0/11 [00:00<?, ?it/s]"
      ]
     },
     "metadata": {},
     "output_type": "display_data"
    },
    {
     "data": {
      "application/vnd.jupyter.widget-view+json": {
       "model_id": "8de92b92baf940e599df6b4ca700c6a0",
       "version_major": 2,
       "version_minor": 0
      },
      "text/plain": [
       "  0%|          | 0/11 [00:00<?, ?it/s]"
      ]
     },
     "metadata": {},
     "output_type": "display_data"
    },
    {
     "data": {
      "application/vnd.jupyter.widget-view+json": {
       "model_id": "f5b5ce07edc941928084077cf7602a75",
       "version_major": 2,
       "version_minor": 0
      },
      "text/plain": [
       "  0%|          | 0/11 [00:00<?, ?it/s]"
      ]
     },
     "metadata": {},
     "output_type": "display_data"
    },
    {
     "data": {
      "application/vnd.jupyter.widget-view+json": {
       "model_id": "a35468b383bb450a94a8db0182fa5929",
       "version_major": 2,
       "version_minor": 0
      },
      "text/plain": [
       "  0%|          | 0/10 [00:00<?, ?it/s]"
      ]
     },
     "metadata": {},
     "output_type": "display_data"
    },
    {
     "data": {
      "application/vnd.jupyter.widget-view+json": {
       "model_id": "7ec67aba6d674456b1f282c52d421af7",
       "version_major": 2,
       "version_minor": 0
      },
      "text/plain": [
       "  0%|          | 0/10 [00:00<?, ?it/s]"
      ]
     },
     "metadata": {},
     "output_type": "display_data"
    },
    {
     "data": {
      "application/vnd.jupyter.widget-view+json": {
       "model_id": "f59299ba25eb45c4bd20a484df8f679b",
       "version_major": 2,
       "version_minor": 0
      },
      "text/plain": [
       "  0%|          | 0/9 [00:00<?, ?it/s]"
      ]
     },
     "metadata": {},
     "output_type": "display_data"
    },
    {
     "data": {
      "application/vnd.jupyter.widget-view+json": {
       "model_id": "94eadcf3f61042e89cec0078d7b31487",
       "version_major": 2,
       "version_minor": 0
      },
      "text/plain": [
       "  0%|          | 0/9 [00:00<?, ?it/s]"
      ]
     },
     "metadata": {},
     "output_type": "display_data"
    },
    {
     "data": {
      "application/vnd.jupyter.widget-view+json": {
       "model_id": "a8c26d7dad614bd6897d4b49744d6d56",
       "version_major": 2,
       "version_minor": 0
      },
      "text/plain": [
       "  0%|          | 0/9 [00:00<?, ?it/s]"
      ]
     },
     "metadata": {},
     "output_type": "display_data"
    },
    {
     "data": {
      "application/vnd.jupyter.widget-view+json": {
       "model_id": "33ef19785f6a4773821f3bcadcd20851",
       "version_major": 2,
       "version_minor": 0
      },
      "text/plain": [
       "  0%|          | 0/8 [00:00<?, ?it/s]"
      ]
     },
     "metadata": {},
     "output_type": "display_data"
    },
    {
     "data": {
      "application/vnd.jupyter.widget-view+json": {
       "model_id": "8d9e45da51d648a083bb5d282cd275c4",
       "version_major": 2,
       "version_minor": 0
      },
      "text/plain": [
       "  0%|          | 0/8 [00:00<?, ?it/s]"
      ]
     },
     "metadata": {},
     "output_type": "display_data"
    },
    {
     "data": {
      "application/vnd.jupyter.widget-view+json": {
       "model_id": "99e1c06b060e40ae8e6441243392deaf",
       "version_major": 2,
       "version_minor": 0
      },
      "text/plain": [
       "  0%|          | 0/8 [00:00<?, ?it/s]"
      ]
     },
     "metadata": {},
     "output_type": "display_data"
    },
    {
     "data": {
      "application/vnd.jupyter.widget-view+json": {
       "model_id": "a1b9adaf62bd4d5aaa2fb6a2c3bb4e2b",
       "version_major": 2,
       "version_minor": 0
      },
      "text/plain": [
       "  0%|          | 0/7 [00:00<?, ?it/s]"
      ]
     },
     "metadata": {},
     "output_type": "display_data"
    },
    {
     "data": {
      "application/vnd.jupyter.widget-view+json": {
       "model_id": "3dfa9a005d5d4223a92380b27d67faab",
       "version_major": 2,
       "version_minor": 0
      },
      "text/plain": [
       "  0%|          | 0/7 [00:00<?, ?it/s]"
      ]
     },
     "metadata": {},
     "output_type": "display_data"
    },
    {
     "data": {
      "application/vnd.jupyter.widget-view+json": {
       "model_id": "dcbca464cb1e41db9b63ee5b31a9a46a",
       "version_major": 2,
       "version_minor": 0
      },
      "text/plain": [
       "  0%|          | 0/7 [00:00<?, ?it/s]"
      ]
     },
     "metadata": {},
     "output_type": "display_data"
    },
    {
     "data": {
      "application/vnd.jupyter.widget-view+json": {
       "model_id": "715333485f9149a9a295ac77fdc2a7d8",
       "version_major": 2,
       "version_minor": 0
      },
      "text/plain": [
       "  0%|          | 0/7 [00:00<?, ?it/s]"
      ]
     },
     "metadata": {},
     "output_type": "display_data"
    },
    {
     "data": {
      "application/vnd.jupyter.widget-view+json": {
       "model_id": "6b49a3ec0cac4cadab3bbc858c0d1100",
       "version_major": 2,
       "version_minor": 0
      },
      "text/plain": [
       "  0%|          | 0/7 [00:00<?, ?it/s]"
      ]
     },
     "metadata": {},
     "output_type": "display_data"
    },
    {
     "data": {
      "application/vnd.jupyter.widget-view+json": {
       "model_id": "a6d2b46ac6cd4dda89f8fef5fafbd9dd",
       "version_major": 2,
       "version_minor": 0
      },
      "text/plain": [
       "  0%|          | 0/7 [00:00<?, ?it/s]"
      ]
     },
     "metadata": {},
     "output_type": "display_data"
    },
    {
     "data": {
      "application/vnd.jupyter.widget-view+json": {
       "model_id": "d7d8e5dd0387403f900912ad66847696",
       "version_major": 2,
       "version_minor": 0
      },
      "text/plain": [
       "  0%|          | 0/6 [00:00<?, ?it/s]"
      ]
     },
     "metadata": {},
     "output_type": "display_data"
    },
    {
     "data": {
      "application/vnd.jupyter.widget-view+json": {
       "model_id": "b3bb971ba4ba4e45a4f51b49a2675f87",
       "version_major": 2,
       "version_minor": 0
      },
      "text/plain": [
       "  0%|          | 0/6 [00:00<?, ?it/s]"
      ]
     },
     "metadata": {},
     "output_type": "display_data"
    },
    {
     "data": {
      "application/vnd.jupyter.widget-view+json": {
       "model_id": "c566fab975c0488bb0791aecbb9d81dc",
       "version_major": 2,
       "version_minor": 0
      },
      "text/plain": [
       "  0%|          | 0/6 [00:00<?, ?it/s]"
      ]
     },
     "metadata": {},
     "output_type": "display_data"
    },
    {
     "data": {
      "application/vnd.jupyter.widget-view+json": {
       "model_id": "44235b69312d4af7be4b738a341be3d8",
       "version_major": 2,
       "version_minor": 0
      },
      "text/plain": [
       "  0%|          | 0/6 [00:00<?, ?it/s]"
      ]
     },
     "metadata": {},
     "output_type": "display_data"
    },
    {
     "data": {
      "application/vnd.jupyter.widget-view+json": {
       "model_id": "c9fa1cdeb2fa4d8f94e4ba74386c7cb0",
       "version_major": 2,
       "version_minor": 0
      },
      "text/plain": [
       "  0%|          | 0/6 [00:00<?, ?it/s]"
      ]
     },
     "metadata": {},
     "output_type": "display_data"
    },
    {
     "data": {
      "application/vnd.jupyter.widget-view+json": {
       "model_id": "f0f3e31fa98b4f7cadcd8fe6646f6bf7",
       "version_major": 2,
       "version_minor": 0
      },
      "text/plain": [
       "  0%|          | 0/6 [00:00<?, ?it/s]"
      ]
     },
     "metadata": {},
     "output_type": "display_data"
    },
    {
     "data": {
      "application/vnd.jupyter.widget-view+json": {
       "model_id": "1eda0ea68d3d422d8bf1b87b467b2126",
       "version_major": 2,
       "version_minor": 0
      },
      "text/plain": [
       "  0%|          | 0/4 [00:00<?, ?it/s]"
      ]
     },
     "metadata": {},
     "output_type": "display_data"
    },
    {
     "data": {
      "application/vnd.jupyter.widget-view+json": {
       "model_id": "6a0fbf81c8f948cc9c45a7848de8eab6",
       "version_major": 2,
       "version_minor": 0
      },
      "text/plain": [
       "  0%|          | 0/2 [00:00<?, ?it/s]"
      ]
     },
     "metadata": {},
     "output_type": "display_data"
    },
    {
     "data": {
      "application/vnd.jupyter.widget-view+json": {
       "model_id": "22226381dcc74ab9852e71c61e833f3a",
       "version_major": 2,
       "version_minor": 0
      },
      "text/plain": [
       "  0%|          | 0/2 [00:00<?, ?it/s]"
      ]
     },
     "metadata": {},
     "output_type": "display_data"
    },
    {
     "data": {
      "application/vnd.jupyter.widget-view+json": {
       "model_id": "0f009c42df4f4820a3932c394eb5f9a1",
       "version_major": 2,
       "version_minor": 0
      },
      "text/plain": [
       "  0%|          | 0/2 [00:00<?, ?it/s]"
      ]
     },
     "metadata": {},
     "output_type": "display_data"
    },
    {
     "data": {
      "application/vnd.jupyter.widget-view+json": {
       "model_id": "68ffae627c96497e9b857db45db89d0e",
       "version_major": 2,
       "version_minor": 0
      },
      "text/plain": [
       "  0%|          | 0/2 [00:00<?, ?it/s]"
      ]
     },
     "metadata": {},
     "output_type": "display_data"
    },
    {
     "data": {
      "application/vnd.jupyter.widget-view+json": {
       "model_id": "2a4aef209e0f4031accab9e5d4d086a4",
       "version_major": 2,
       "version_minor": 0
      },
      "text/plain": [
       "  0%|          | 0/2 [00:00<?, ?it/s]"
      ]
     },
     "metadata": {},
     "output_type": "display_data"
    },
    {
     "data": {
      "application/vnd.jupyter.widget-view+json": {
       "model_id": "678dc221ede74b1aaf223e0a48a6c88a",
       "version_major": 2,
       "version_minor": 0
      },
      "text/plain": [
       "  0%|          | 0/2 [00:00<?, ?it/s]"
      ]
     },
     "metadata": {},
     "output_type": "display_data"
    }
   ],
   "source": [
    "datas_to_export = []\n",
    "\n",
    "# Sort by error\n",
    "problematic_samples_sorted = sorted(\n",
    "    problematic_samples,\n",
    "    key=lambda x: len(x[\"relax_out\"].trajectory.frames),\n",
    "    reverse=True,\n",
    ")\n",
    "for i, sample in enumerate(tqdm(problematic_samples_sorted)):\n",
    "    updated_sample = _update_sample(sample)\n",
    "\n",
    "    datas_to_export.append(\n",
    "        {\n",
    "            \"s2e_energies\": updated_sample[\"s2e_energies\"],\n",
    "            \"s2re_energies\": updated_sample[\"s2re_energies\"],\n",
    "            \"atoms\": [\n",
    "                ase.Atoms(\n",
    "                    numbers=updated_sample[\"initial_data\"].atomic_numbers.cpu().numpy(),\n",
    "                    positions=f.pos.cpu().numpy(),\n",
    "                    cell=f.cell.cpu().squeeze(0).numpy(),\n",
    "                    pbc=[True, True, True],\n",
    "                ).todict()\n",
    "                for f in updated_sample[\"relax_out\"].trajectory.frames\n",
    "            ],\n",
    "            \"true_formation_energy\": updated_sample[\"initial_data\"].y_formation.item(),\n",
    "            \"true_above_hull_energy\": updated_sample[\n",
    "                \"initial_data\"\n",
    "            ].y_above_hull.item(),\n",
    "            \"error\": updated_sample[\"error\"],\n",
    "        }\n",
    "    )"
   ]
  },
  {
   "cell_type": "code",
   "execution_count": 20,
   "metadata": {},
   "outputs": [],
   "source": [
    "# Forgot to add the true formation energy, true above hull energy, and error\n",
    "\n",
    "# datas_to_export_with_true = []\n",
    "for sample, data in zip(problematic_samples_sorted, datas_to_export):\n",
    "    # data[\"true_formation_energy\"] = sample[\"initial_data\"].y_formation.item()\n",
    "    # data[\"true_above_hull_energy\"] = sample[\"initial_data\"].y_above_hull.item()\n",
    "    # data[\"error\"] = abs(data[\"true_formation_energy\"] - data[\"s2re_energies\"][-1])\n",
    "    np.testing.assert_allclose(data[\"error\"], sample[\"error\"], rtol=1e-4, atol=1e-4)\n",
    "\n",
    "    # datas_to_export_with_true.append(data)"
   ]
  },
  {
   "cell_type": "code",
   "execution_count": 16,
   "metadata": {},
   "outputs": [
    {
     "name": "stdout",
     "output_type": "stream",
     "text": [
      "  \u001b[31m×\u001b[0m could not find pixi.toml or pyproject.toml which is configured to use pixi\n",
      "\n",
      "-rw-r--r-- 1 root root 758K Aug  1 14:41 problematic_samples.relaxdata.pkl\n"
     ]
    }
   ],
   "source": [
    "import pickle\n",
    "\n",
    "with open(\"problematic_samples.relaxdata.pkl\", \"wb\") as f:\n",
    "    pickle.dump(datas_to_export, f)\n",
    "\n",
    "# print the file size\n",
    "!ls -lh problematic_samples.relaxdata.pkl"
   ]
  }
 ],
 "metadata": {
  "kernelspec": {
   "display_name": "Python 3 (ipykernel)",
   "language": "python",
   "name": "python3"
  },
  "language_info": {
   "codemirror_mode": {
    "name": "ipython",
    "version": 3
   },
   "file_extension": ".py",
   "mimetype": "text/x-python",
   "name": "python",
   "nbconvert_exporter": "python",
   "pygments_lexer": "ipython3",
   "version": "3.11.6"
  }
 },
 "nbformat": 4,
 "nbformat_minor": 4
}
