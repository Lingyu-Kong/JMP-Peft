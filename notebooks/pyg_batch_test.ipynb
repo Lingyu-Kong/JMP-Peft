{
 "cells": [
  {
   "cell_type": "code",
   "execution_count": 4,
   "metadata": {},
   "outputs": [
    {
     "name": "stdout",
     "output_type": "stream",
     "text": [
      "Data(x=[4, 2]) Data(x=[3, 2])\n",
      "DataBatch(x=[7, 2], batch=[7], ptr=[3])\n"
     ]
    }
   ],
   "source": [
    "import torch\n",
    "from torch_geometric.data import Batch, Data\n",
    "\n",
    "x = Data(x=torch.tensor([[2, 1], [5, 6], [3, 7], [12, 0]], dtype=torch.float))\n",
    "y = Data(x=torch.tensor([[2, 1], [5, 6], [3, 7]], dtype=torch.float))\n",
    "print(x, y)\n",
    "\n",
    "batch = Batch.from_data_list([x, y])\n",
    "print(batch)"
   ]
  },
  {
   "cell_type": "code",
   "execution_count": 6,
   "metadata": {},
   "outputs": [
    {
     "data": {
      "text/plain": [
       "tensor([0, 4, 7])"
      ]
     },
     "execution_count": 6,
     "metadata": {},
     "output_type": "execute_result"
    }
   ],
   "source": [
    "batch.ptr"
   ]
  }
 ],
 "metadata": {
  "kernelspec": {
   "display_name": "jmp-peft",
   "language": "python",
   "name": "python3"
  },
  "language_info": {
   "codemirror_mode": {
    "name": "ipython",
    "version": 3
   },
   "file_extension": ".py",
   "mimetype": "text/x-python",
   "name": "python",
   "nbconvert_exporter": "python",
   "pygments_lexer": "ipython3",
   "version": "3.11.9"
  }
 },
 "nbformat": 4,
 "nbformat_minor": 2
}
