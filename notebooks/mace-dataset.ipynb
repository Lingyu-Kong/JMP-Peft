{
 "cells": [
  {
   "cell_type": "code",
   "execution_count": 1,
   "metadata": {},
   "outputs": [
    {
     "name": "stderr",
     "output_type": "stream",
     "text": [
      "TensorBoard/TensorBoardX not found. Disabling TensorBoardLogger. Please install TensorBoard with `pip install tensorboard` or TensorBoardX with `pip install tensorboardx` to enable TensorBoard logging.\n"
     ]
    }
   ],
   "source": [
    "import ll\n",
    "\n",
    "ll.pretty()"
   ]
  },
  {
   "cell_type": "code",
   "execution_count": 2,
   "metadata": {},
   "outputs": [
    {
     "data": {
      "text/plain": [
       "Path('/mnt/datasets/mptrj-mace/mptrj-gga-ggapu')"
      ]
     },
     "execution_count": 2,
     "metadata": {},
     "output_type": "execute_result"
    }
   ],
   "source": [
    "from pathlib import Path\n",
    "\n",
    "base_path = Path(\"/mnt/datasets/mptrj-mace/mptrj-gga-ggapu/\")\n",
    "base_path"
   ]
  },
  {
   "cell_type": "code",
   "execution_count": 3,
   "metadata": {},
   "outputs": [
    {
     "name": "stdout",
     "output_type": "stream",
     "text": [
      "145923\n"
     ]
    }
   ],
   "source": [
    "extxyz_files = list(base_path.glob(\"**/*.extxyz\"))\n",
    "print(len(extxyz_files))"
   ]
  },
  {
   "cell_type": "code",
   "execution_count": 4,
   "metadata": {},
   "outputs": [
    {
     "name": "stdout",
     "output_type": "stream",
     "text": [
      "<class 'list'> 7\n"
     ]
    }
   ],
   "source": [
    "import ase.io\n",
    "\n",
    "f = extxyz_files[51]\n",
    "atoms_list = ase.io.read(f, index=\":\")\n",
    "print(type(atoms_list), len(atoms_list))"
   ]
  },
  {
   "cell_type": "code",
   "execution_count": 5,
   "metadata": {},
   "outputs": [
    {
     "data": {
      "text/html": [
       "<pre style=\"white-space:pre;overflow-x:auto;line-height:normal;font-family:Menlo,'DejaVu Sans Mono',consolas,'Courier New',monospace\"><span style=\"font-weight: bold\">{</span>\n",
       "    <span style=\"color: #008000; text-decoration-color: #008000\">'numbers'</span>: array<span style=\"font-weight: bold\">[</span><span style=\"color: #008080; text-decoration-color: #008080; font-weight: bold\">20</span><span style=\"font-weight: bold\">]</span> i64 x∈<span style=\"font-weight: bold\">[</span><span style=\"color: #008080; text-decoration-color: #008080; font-weight: bold\">6</span>, <span style=\"color: #008080; text-decoration-color: #008080; font-weight: bold\">83</span><span style=\"font-weight: bold\">]</span> <span style=\"color: #808000; text-decoration-color: #808000\">μ</span>=<span style=\"color: #008080; text-decoration-color: #008080; font-weight: bold\">22.600</span> <span style=\"color: #808000; text-decoration-color: #808000\">σ</span>=<span style=\"color: #008080; text-decoration-color: #008080; font-weight: bold\">30.210</span>,\n",
       "    <span style=\"color: #008000; text-decoration-color: #008000\">'positions'</span>: array<span style=\"font-weight: bold\">[</span><span style=\"color: #008080; text-decoration-color: #008080; font-weight: bold\">20</span>, <span style=\"color: #008080; text-decoration-color: #008080; font-weight: bold\">3</span><span style=\"font-weight: bold\">]</span> <span style=\"color: #808000; text-decoration-color: #808000\">n</span>=<span style=\"color: #008080; text-decoration-color: #008080; font-weight: bold\">60</span> x∈<span style=\"font-weight: bold\">[</span><span style=\"color: #008080; text-decoration-color: #008080; font-weight: bold\">0.100</span>, <span style=\"color: #008080; text-decoration-color: #008080; font-weight: bold\">7.276</span><span style=\"font-weight: bold\">]</span> <span style=\"color: #808000; text-decoration-color: #808000\">μ</span>=<span style=\"color: #008080; text-decoration-color: #008080; font-weight: bold\">3.242</span> <span style=\"color: #808000; text-decoration-color: #808000\">σ</span>=<span style=\"color: #008080; text-decoration-color: #008080; font-weight: bold\">1.983</span>,\n",
       "    <span style=\"color: #008000; text-decoration-color: #008000\">'forces'</span>: array<span style=\"font-weight: bold\">[</span><span style=\"color: #008080; text-decoration-color: #008080; font-weight: bold\">20</span>, <span style=\"color: #008080; text-decoration-color: #008080; font-weight: bold\">3</span><span style=\"font-weight: bold\">]</span> <span style=\"color: #808000; text-decoration-color: #808000\">n</span>=<span style=\"color: #008080; text-decoration-color: #008080; font-weight: bold\">60</span> x∈<span style=\"font-weight: bold\">[</span><span style=\"color: #008080; text-decoration-color: #008080; font-weight: bold\">-0.161</span>, <span style=\"color: #008080; text-decoration-color: #008080; font-weight: bold\">0.161</span><span style=\"font-weight: bold\">]</span> <span style=\"color: #808000; text-decoration-color: #808000\">μ</span>=<span style=\"color: #008080; text-decoration-color: #008080; font-weight: bold\">5.782e-19</span> <span style=\"color: #808000; text-decoration-color: #808000\">σ</span>=<span style=\"color: #008080; text-decoration-color: #008080; font-weight: bold\">0.059</span>,\n",
       "    <span style=\"color: #008000; text-decoration-color: #008000\">'magmoms'</span>: array<span style=\"font-weight: bold\">[</span><span style=\"color: #008080; text-decoration-color: #008080; font-weight: bold\">20</span><span style=\"font-weight: bold\">]</span> <span style=\"color: #7f7f7f; text-decoration-color: #7f7f7f\">all_zeros</span>,\n",
       "    <span style=\"color: #008000; text-decoration-color: #008000\">'cell'</span>: array<span style=\"font-weight: bold\">[</span><span style=\"color: #008080; text-decoration-color: #008080; font-weight: bold\">3</span>, <span style=\"color: #008080; text-decoration-color: #008080; font-weight: bold\">3</span><span style=\"font-weight: bold\">]</span> <span style=\"color: #808000; text-decoration-color: #808000\">n</span>=<span style=\"color: #008080; text-decoration-color: #008080; font-weight: bold\">9</span> x∈<span style=\"font-weight: bold\">[</span><span style=\"color: #008080; text-decoration-color: #008080; font-weight: bold\">-0.750</span>, <span style=\"color: #008080; text-decoration-color: #008080; font-weight: bold\">8.602</span><span style=\"font-weight: bold\">]</span> <span style=\"color: #808000; text-decoration-color: #808000\">μ</span>=<span style=\"color: #008080; text-decoration-color: #008080; font-weight: bold\">2.162</span> <span style=\"color: #808000; text-decoration-color: #808000\">σ</span>=<span style=\"color: #008080; text-decoration-color: #008080; font-weight: bold\">3.470</span> <span style=\"font-weight: bold\">[[</span><span style=\"color: #008080; text-decoration-color: #008080; font-weight: bold\">6.960</span>, <span style=\"color: #008080; text-decoration-color: #008080; font-weight: bold\">-0.033</span>, <span style=\"color: #008080; text-decoration-color: #008080; font-weight: bold\">-0.499</span><span style=\"font-weight: bold\">]</span>, <span style=\"font-weight: bold\">[</span><span style=\"color: #008080; text-decoration-color: #008080; font-weight: bold\">-0.032</span>, <span style=\"color: #008080; text-decoration-color: #008080; font-weight: bold\">5.214</span>, <span style=\"color: #008080; text-decoration-color: #008080; font-weight: bold\">-0.004</span><span style=\"font-weight: bold\">]</span>, \n",
       "<span style=\"font-weight: bold\">[</span><span style=\"color: #008080; text-decoration-color: #008080; font-weight: bold\">-0.750</span>, <span style=\"color: #008080; text-decoration-color: #008080; font-weight: bold\">-0.002</span>, <span style=\"color: #008080; text-decoration-color: #008080; font-weight: bold\">8.602</span><span style=\"font-weight: bold\">]]</span>,\n",
       "    <span style=\"color: #008000; text-decoration-color: #008000\">'pbc'</span>: array<span style=\"font-weight: bold\">[</span><span style=\"color: #008080; text-decoration-color: #008080; font-weight: bold\">3</span><span style=\"font-weight: bold\">]</span> bool x∈<span style=\"font-weight: bold\">[</span><span style=\"color: #00ff00; text-decoration-color: #00ff00; font-style: italic\">True</span>, <span style=\"color: #00ff00; text-decoration-color: #00ff00; font-style: italic\">True</span><span style=\"font-weight: bold\">]</span> <span style=\"color: #808000; text-decoration-color: #808000\">μ</span>=<span style=\"color: #008080; text-decoration-color: #008080; font-weight: bold\">1.000</span> <span style=\"color: #808000; text-decoration-color: #808000\">σ</span>=<span style=\"color: #008080; text-decoration-color: #008080; font-weight: bold\">0</span>. <span style=\"font-weight: bold\">[</span><span style=\"color: #00ff00; text-decoration-color: #00ff00; font-style: italic\">True</span>, <span style=\"color: #00ff00; text-decoration-color: #00ff00; font-style: italic\">True</span>, <span style=\"color: #00ff00; text-decoration-color: #00ff00; font-style: italic\">True</span><span style=\"font-weight: bold\">]</span>,\n",
       "    <span style=\"color: #008000; text-decoration-color: #008000\">'info'</span>: <span style=\"font-weight: bold\">{</span>\n",
       "        <span style=\"color: #008000; text-decoration-color: #008000\">'energy'</span>: <span style=\"color: #008080; text-decoration-color: #008080; font-weight: bold\">-135.80326564</span>,\n",
       "        <span style=\"color: #008000; text-decoration-color: #008000\">'stress'</span>: array<span style=\"font-weight: bold\">[</span><span style=\"color: #008080; text-decoration-color: #008080; font-weight: bold\">3</span>, <span style=\"color: #008080; text-decoration-color: #008080; font-weight: bold\">3</span><span style=\"font-weight: bold\">]</span> <span style=\"color: #808000; text-decoration-color: #808000\">n</span>=<span style=\"color: #008080; text-decoration-color: #008080; font-weight: bold\">9</span> x∈<span style=\"font-weight: bold\">[</span><span style=\"color: #008080; text-decoration-color: #008080; font-weight: bold\">-0.005</span>, <span style=\"color: #008080; text-decoration-color: #008080; font-weight: bold\">0.002</span><span style=\"font-weight: bold\">]</span> <span style=\"color: #808000; text-decoration-color: #808000\">μ</span>=<span style=\"color: #008080; text-decoration-color: #008080; font-weight: bold\">-0.001</span> <span style=\"color: #808000; text-decoration-color: #808000\">σ</span>=<span style=\"color: #008080; text-decoration-color: #008080; font-weight: bold\">0.002</span> <span style=\"font-weight: bold\">[[</span><span style=\"color: #008080; text-decoration-color: #008080; font-weight: bold\">-0.003</span>, <span style=\"color: #008080; text-decoration-color: #008080; font-weight: bold\">0.000</span>, <span style=\"color: #008080; text-decoration-color: #008080; font-weight: bold\">0.002</span><span style=\"font-weight: bold\">]</span>, <span style=\"font-weight: bold\">[</span><span style=\"color: #008080; text-decoration-color: #008080; font-weight: bold\">0.000</span>, <span style=\"color: #008080; text-decoration-color: #008080; font-weight: bold\">-0.005</span>, \n",
       "<span style=\"color: #008080; text-decoration-color: #008080; font-weight: bold\">0.000</span><span style=\"font-weight: bold\">]</span>, <span style=\"font-weight: bold\">[</span><span style=\"color: #008080; text-decoration-color: #008080; font-weight: bold\">0.002</span>, <span style=\"color: #008080; text-decoration-color: #008080; font-weight: bold\">0.000</span>, <span style=\"color: #008080; text-decoration-color: #008080; font-weight: bold\">-0.003</span><span style=\"font-weight: bold\">]]</span>,\n",
       "        <span style=\"color: #008000; text-decoration-color: #008000\">'bandgap'</span>: <span style=\"color: #008080; text-decoration-color: #008080; font-weight: bold\">1.5052000000000003</span>,\n",
       "        <span style=\"color: #008000; text-decoration-color: #008000\">'e_per_atom_relaxed'</span>: <span style=\"color: #008080; text-decoration-color: #008080; font-weight: bold\">-7.2055584999999995</span>,\n",
       "        <span style=\"color: #008000; text-decoration-color: #008000\">'mp_id'</span>: <span style=\"color: #008000; text-decoration-color: #008000\">'mp-1178485'</span>,\n",
       "        <span style=\"color: #008000; text-decoration-color: #008000\">'energy_per_atom'</span>: <span style=\"color: #008080; text-decoration-color: #008080; font-weight: bold\">-7.202363282</span>,\n",
       "        <span style=\"color: #008000; text-decoration-color: #008000\">'ef_per_atom_relaxed'</span>: <span style=\"color: #008080; text-decoration-color: #008080; font-weight: bold\">-7.2055584999999995</span>,\n",
       "        <span style=\"color: #008000; text-decoration-color: #008000\">'corrected_total_energy'</span>: <span style=\"color: #008080; text-decoration-color: #008080; font-weight: bold\">-144.04726564</span>,\n",
       "        <span style=\"color: #008000; text-decoration-color: #008000\">'ef_per_atom'</span>: <span style=\"color: #008080; text-decoration-color: #008080; font-weight: bold\">-1.61095276075</span>,\n",
       "        <span style=\"color: #008000; text-decoration-color: #008000\">'task_id'</span>: <span style=\"color: #008000; text-decoration-color: #008000\">'mp-1178485'</span>,\n",
       "        <span style=\"color: #008000; text-decoration-color: #008000\">'calc_id'</span>: <span style=\"color: #008080; text-decoration-color: #008080; font-weight: bold\">0</span>,\n",
       "        <span style=\"color: #008000; text-decoration-color: #008000\">'ionic_step'</span>: <span style=\"color: #008080; text-decoration-color: #008080; font-weight: bold\">4</span>\n",
       "    <span style=\"font-weight: bold\">}</span>\n",
       "<span style=\"font-weight: bold\">}</span>\n",
       "</pre>\n"
      ],
      "text/plain": [
       "\u001b[1m{\u001b[0m\n",
       "    \u001b[32m'numbers'\u001b[0m: array\u001b[1m[\u001b[0m\u001b[1;36m20\u001b[0m\u001b[1m]\u001b[0m i64 x∈\u001b[1m[\u001b[0m\u001b[1;36m6\u001b[0m, \u001b[1;36m83\u001b[0m\u001b[1m]\u001b[0m \u001b[33mμ\u001b[0m=\u001b[1;36m22\u001b[0m\u001b[1;36m.600\u001b[0m \u001b[33mσ\u001b[0m=\u001b[1;36m30\u001b[0m\u001b[1;36m.210\u001b[0m,\n",
       "    \u001b[32m'positions'\u001b[0m: array\u001b[1m[\u001b[0m\u001b[1;36m20\u001b[0m, \u001b[1;36m3\u001b[0m\u001b[1m]\u001b[0m \u001b[33mn\u001b[0m=\u001b[1;36m60\u001b[0m x∈\u001b[1m[\u001b[0m\u001b[1;36m0.100\u001b[0m, \u001b[1;36m7.276\u001b[0m\u001b[1m]\u001b[0m \u001b[33mμ\u001b[0m=\u001b[1;36m3\u001b[0m\u001b[1;36m.242\u001b[0m \u001b[33mσ\u001b[0m=\u001b[1;36m1\u001b[0m\u001b[1;36m.983\u001b[0m,\n",
       "    \u001b[32m'forces'\u001b[0m: array\u001b[1m[\u001b[0m\u001b[1;36m20\u001b[0m, \u001b[1;36m3\u001b[0m\u001b[1m]\u001b[0m \u001b[33mn\u001b[0m=\u001b[1;36m60\u001b[0m x∈\u001b[1m[\u001b[0m\u001b[1;36m-0.161\u001b[0m, \u001b[1;36m0.161\u001b[0m\u001b[1m]\u001b[0m \u001b[33mμ\u001b[0m=\u001b[1;36m5\u001b[0m\u001b[1;36m.782e-19\u001b[0m \u001b[33mσ\u001b[0m=\u001b[1;36m0\u001b[0m\u001b[1;36m.059\u001b[0m,\n",
       "    \u001b[32m'magmoms'\u001b[0m: array\u001b[1m[\u001b[0m\u001b[1;36m20\u001b[0m\u001b[1m]\u001b[0m \u001b[38;2;127;127;127mall_zeros\u001b[0m,\n",
       "    \u001b[32m'cell'\u001b[0m: array\u001b[1m[\u001b[0m\u001b[1;36m3\u001b[0m, \u001b[1;36m3\u001b[0m\u001b[1m]\u001b[0m \u001b[33mn\u001b[0m=\u001b[1;36m9\u001b[0m x∈\u001b[1m[\u001b[0m\u001b[1;36m-0.750\u001b[0m, \u001b[1;36m8.602\u001b[0m\u001b[1m]\u001b[0m \u001b[33mμ\u001b[0m=\u001b[1;36m2\u001b[0m\u001b[1;36m.162\u001b[0m \u001b[33mσ\u001b[0m=\u001b[1;36m3\u001b[0m\u001b[1;36m.470\u001b[0m \u001b[1m[\u001b[0m\u001b[1m[\u001b[0m\u001b[1;36m6.960\u001b[0m, \u001b[1;36m-0.033\u001b[0m, \u001b[1;36m-0.499\u001b[0m\u001b[1m]\u001b[0m, \u001b[1m[\u001b[0m\u001b[1;36m-0.032\u001b[0m, \u001b[1;36m5.214\u001b[0m, \u001b[1;36m-0.004\u001b[0m\u001b[1m]\u001b[0m, \n",
       "\u001b[1m[\u001b[0m\u001b[1;36m-0.750\u001b[0m, \u001b[1;36m-0.002\u001b[0m, \u001b[1;36m8.602\u001b[0m\u001b[1m]\u001b[0m\u001b[1m]\u001b[0m,\n",
       "    \u001b[32m'pbc'\u001b[0m: array\u001b[1m[\u001b[0m\u001b[1;36m3\u001b[0m\u001b[1m]\u001b[0m bool x∈\u001b[1m[\u001b[0m\u001b[3;92mTrue\u001b[0m, \u001b[3;92mTrue\u001b[0m\u001b[1m]\u001b[0m \u001b[33mμ\u001b[0m=\u001b[1;36m1\u001b[0m\u001b[1;36m.000\u001b[0m \u001b[33mσ\u001b[0m=\u001b[1;36m0\u001b[0m. \u001b[1m[\u001b[0m\u001b[3;92mTrue\u001b[0m, \u001b[3;92mTrue\u001b[0m, \u001b[3;92mTrue\u001b[0m\u001b[1m]\u001b[0m,\n",
       "    \u001b[32m'info'\u001b[0m: \u001b[1m{\u001b[0m\n",
       "        \u001b[32m'energy'\u001b[0m: \u001b[1;36m-135.80326564\u001b[0m,\n",
       "        \u001b[32m'stress'\u001b[0m: array\u001b[1m[\u001b[0m\u001b[1;36m3\u001b[0m, \u001b[1;36m3\u001b[0m\u001b[1m]\u001b[0m \u001b[33mn\u001b[0m=\u001b[1;36m9\u001b[0m x∈\u001b[1m[\u001b[0m\u001b[1;36m-0.005\u001b[0m, \u001b[1;36m0.002\u001b[0m\u001b[1m]\u001b[0m \u001b[33mμ\u001b[0m=\u001b[1;36m-0.001\u001b[0m \u001b[33mσ\u001b[0m=\u001b[1;36m0\u001b[0m\u001b[1;36m.002\u001b[0m \u001b[1m[\u001b[0m\u001b[1m[\u001b[0m\u001b[1;36m-0.003\u001b[0m, \u001b[1;36m0.000\u001b[0m, \u001b[1;36m0.002\u001b[0m\u001b[1m]\u001b[0m, \u001b[1m[\u001b[0m\u001b[1;36m0.000\u001b[0m, \u001b[1;36m-0.005\u001b[0m, \n",
       "\u001b[1;36m0.000\u001b[0m\u001b[1m]\u001b[0m, \u001b[1m[\u001b[0m\u001b[1;36m0.002\u001b[0m, \u001b[1;36m0.000\u001b[0m, \u001b[1;36m-0.003\u001b[0m\u001b[1m]\u001b[0m\u001b[1m]\u001b[0m,\n",
       "        \u001b[32m'bandgap'\u001b[0m: \u001b[1;36m1.5052000000000003\u001b[0m,\n",
       "        \u001b[32m'e_per_atom_relaxed'\u001b[0m: \u001b[1;36m-7.2055584999999995\u001b[0m,\n",
       "        \u001b[32m'mp_id'\u001b[0m: \u001b[32m'mp-1178485'\u001b[0m,\n",
       "        \u001b[32m'energy_per_atom'\u001b[0m: \u001b[1;36m-7.202363282\u001b[0m,\n",
       "        \u001b[32m'ef_per_atom_relaxed'\u001b[0m: \u001b[1;36m-7.2055584999999995\u001b[0m,\n",
       "        \u001b[32m'corrected_total_energy'\u001b[0m: \u001b[1;36m-144.04726564\u001b[0m,\n",
       "        \u001b[32m'ef_per_atom'\u001b[0m: \u001b[1;36m-1.61095276075\u001b[0m,\n",
       "        \u001b[32m'task_id'\u001b[0m: \u001b[32m'mp-1178485'\u001b[0m,\n",
       "        \u001b[32m'calc_id'\u001b[0m: \u001b[1;36m0\u001b[0m,\n",
       "        \u001b[32m'ionic_step'\u001b[0m: \u001b[1;36m4\u001b[0m\n",
       "    \u001b[1m}\u001b[0m\n",
       "\u001b[1m}\u001b[0m\n"
      ]
     },
     "metadata": {},
     "output_type": "display_data"
    },
    {
     "data": {
      "text/html": [
       "<pre style=\"white-space:pre;overflow-x:auto;line-height:normal;font-family:Menlo,'DejaVu Sans Mono',consolas,'Courier New',monospace\"><span style=\"font-weight: bold\">{</span>\n",
       "    <span style=\"color: #008000; text-decoration-color: #008000\">'numbers'</span>: array<span style=\"font-weight: bold\">[</span><span style=\"color: #008080; text-decoration-color: #008080; font-weight: bold\">20</span><span style=\"font-weight: bold\">]</span> i64 x∈<span style=\"font-weight: bold\">[</span><span style=\"color: #008080; text-decoration-color: #008080; font-weight: bold\">6</span>, <span style=\"color: #008080; text-decoration-color: #008080; font-weight: bold\">83</span><span style=\"font-weight: bold\">]</span> <span style=\"color: #808000; text-decoration-color: #808000\">μ</span>=<span style=\"color: #008080; text-decoration-color: #008080; font-weight: bold\">22.600</span> <span style=\"color: #808000; text-decoration-color: #808000\">σ</span>=<span style=\"color: #008080; text-decoration-color: #008080; font-weight: bold\">30.210</span>,\n",
       "    <span style=\"color: #008000; text-decoration-color: #008000\">'positions'</span>: array<span style=\"font-weight: bold\">[</span><span style=\"color: #008080; text-decoration-color: #008080; font-weight: bold\">20</span>, <span style=\"color: #008080; text-decoration-color: #008080; font-weight: bold\">3</span><span style=\"font-weight: bold\">]</span> <span style=\"color: #808000; text-decoration-color: #808000\">n</span>=<span style=\"color: #008080; text-decoration-color: #008080; font-weight: bold\">60</span> x∈<span style=\"font-weight: bold\">[</span><span style=\"color: #008080; text-decoration-color: #008080; font-weight: bold\">0.106</span>, <span style=\"color: #008080; text-decoration-color: #008080; font-weight: bold\">7.303</span><span style=\"font-weight: bold\">]</span> <span style=\"color: #808000; text-decoration-color: #808000\">μ</span>=<span style=\"color: #008080; text-decoration-color: #008080; font-weight: bold\">3.261</span> <span style=\"color: #808000; text-decoration-color: #808000\">σ</span>=<span style=\"color: #008080; text-decoration-color: #008080; font-weight: bold\">1.987</span>,\n",
       "    <span style=\"color: #008000; text-decoration-color: #008000\">'forces'</span>: array<span style=\"font-weight: bold\">[</span><span style=\"color: #008080; text-decoration-color: #008080; font-weight: bold\">20</span>, <span style=\"color: #008080; text-decoration-color: #008080; font-weight: bold\">3</span><span style=\"font-weight: bold\">]</span> <span style=\"color: #808000; text-decoration-color: #808000\">n</span>=<span style=\"color: #008080; text-decoration-color: #008080; font-weight: bold\">60</span> x∈<span style=\"font-weight: bold\">[</span><span style=\"color: #008080; text-decoration-color: #008080; font-weight: bold\">-0.779</span>, <span style=\"color: #008080; text-decoration-color: #008080; font-weight: bold\">0.779</span><span style=\"font-weight: bold\">]</span> <span style=\"color: #808000; text-decoration-color: #808000\">μ</span>=<span style=\"color: #008080; text-decoration-color: #008080; font-weight: bold\">-4.626e-18</span> <span style=\"color: #808000; text-decoration-color: #808000\">σ</span>=<span style=\"color: #008080; text-decoration-color: #008080; font-weight: bold\">0.298</span>,\n",
       "    <span style=\"color: #008000; text-decoration-color: #008000\">'cell'</span>: array<span style=\"font-weight: bold\">[</span><span style=\"color: #008080; text-decoration-color: #008080; font-weight: bold\">3</span>, <span style=\"color: #008080; text-decoration-color: #008080; font-weight: bold\">3</span><span style=\"font-weight: bold\">]</span> <span style=\"color: #808000; text-decoration-color: #808000\">n</span>=<span style=\"color: #008080; text-decoration-color: #008080; font-weight: bold\">9</span> x∈<span style=\"font-weight: bold\">[</span><span style=\"color: #008080; text-decoration-color: #008080; font-weight: bold\">-0.726</span>, <span style=\"color: #008080; text-decoration-color: #008080; font-weight: bold\">8.623</span><span style=\"font-weight: bold\">]</span> <span style=\"color: #808000; text-decoration-color: #808000\">μ</span>=<span style=\"color: #008080; text-decoration-color: #008080; font-weight: bold\">2.174</span> <span style=\"color: #808000; text-decoration-color: #808000\">σ</span>=<span style=\"color: #008080; text-decoration-color: #008080; font-weight: bold\">3.474</span> <span style=\"font-weight: bold\">[[</span><span style=\"color: #008080; text-decoration-color: #008080; font-weight: bold\">6.942</span>, <span style=\"color: #008080; text-decoration-color: #008080; font-weight: bold\">-0.028</span>, <span style=\"color: #008080; text-decoration-color: #008080; font-weight: bold\">-0.483</span><span style=\"font-weight: bold\">]</span>, <span style=\"font-weight: bold\">[</span><span style=\"color: #008080; text-decoration-color: #008080; font-weight: bold\">-0.028</span>, <span style=\"color: #008080; text-decoration-color: #008080; font-weight: bold\">5.278</span>, <span style=\"color: #008080; text-decoration-color: #008080; font-weight: bold\">-0.006</span><span style=\"font-weight: bold\">]</span>, \n",
       "<span style=\"font-weight: bold\">[</span><span style=\"color: #008080; text-decoration-color: #008080; font-weight: bold\">-0.726</span>, <span style=\"color: #008080; text-decoration-color: #008080; font-weight: bold\">-0.007</span>, <span style=\"color: #008080; text-decoration-color: #008080; font-weight: bold\">8.623</span><span style=\"font-weight: bold\">]]</span>,\n",
       "    <span style=\"color: #008000; text-decoration-color: #008000\">'pbc'</span>: array<span style=\"font-weight: bold\">[</span><span style=\"color: #008080; text-decoration-color: #008080; font-weight: bold\">3</span><span style=\"font-weight: bold\">]</span> bool x∈<span style=\"font-weight: bold\">[</span><span style=\"color: #00ff00; text-decoration-color: #00ff00; font-style: italic\">True</span>, <span style=\"color: #00ff00; text-decoration-color: #00ff00; font-style: italic\">True</span><span style=\"font-weight: bold\">]</span> <span style=\"color: #808000; text-decoration-color: #808000\">μ</span>=<span style=\"color: #008080; text-decoration-color: #008080; font-weight: bold\">1.000</span> <span style=\"color: #808000; text-decoration-color: #808000\">σ</span>=<span style=\"color: #008080; text-decoration-color: #008080; font-weight: bold\">0</span>. <span style=\"font-weight: bold\">[</span><span style=\"color: #00ff00; text-decoration-color: #00ff00; font-style: italic\">True</span>, <span style=\"color: #00ff00; text-decoration-color: #00ff00; font-style: italic\">True</span>, <span style=\"color: #00ff00; text-decoration-color: #00ff00; font-style: italic\">True</span><span style=\"font-weight: bold\">]</span>,\n",
       "    <span style=\"color: #008000; text-decoration-color: #008000\">'info'</span>: <span style=\"font-weight: bold\">{</span>\n",
       "        <span style=\"color: #008000; text-decoration-color: #008000\">'energy'</span>: <span style=\"color: #008080; text-decoration-color: #008080; font-weight: bold\">-135.72813107</span>,\n",
       "        <span style=\"color: #008000; text-decoration-color: #008000\">'stress'</span>: array<span style=\"font-weight: bold\">[</span><span style=\"color: #008080; text-decoration-color: #008080; font-weight: bold\">3</span>, <span style=\"color: #008080; text-decoration-color: #008080; font-weight: bold\">3</span><span style=\"font-weight: bold\">]</span> <span style=\"color: #808000; text-decoration-color: #808000\">n</span>=<span style=\"color: #008080; text-decoration-color: #008080; font-weight: bold\">9</span> x∈<span style=\"font-weight: bold\">[</span><span style=\"color: #008080; text-decoration-color: #008080; font-weight: bold\">-0.005</span>, <span style=\"color: #008080; text-decoration-color: #008080; font-weight: bold\">0.025</span><span style=\"font-weight: bold\">]</span> <span style=\"color: #808000; text-decoration-color: #808000\">μ</span>=<span style=\"color: #008080; text-decoration-color: #008080; font-weight: bold\">0.004</span> <span style=\"color: #808000; text-decoration-color: #808000\">σ</span>=<span style=\"color: #008080; text-decoration-color: #008080; font-weight: bold\">0.010</span> <span style=\"font-weight: bold\">[[</span><span style=\"color: #008080; text-decoration-color: #008080; font-weight: bold\">4.956e-05</span>, <span style=\"color: #008080; text-decoration-color: #008080; font-weight: bold\">0.000</span>, <span style=\"color: #008080; text-decoration-color: #008080; font-weight: bold\">-0.005</span><span style=\"font-weight: bold\">]</span>, <span style=\"font-weight: bold\">[</span><span style=\"color: #008080; text-decoration-color: #008080; font-weight: bold\">0.000</span>, <span style=\"color: #008080; text-decoration-color: #008080; font-weight: bold\">0.025</span>, \n",
       "<span style=\"color: #008080; text-decoration-color: #008080; font-weight: bold\">-0.000</span><span style=\"font-weight: bold\">]</span>, <span style=\"font-weight: bold\">[</span><span style=\"color: #008080; text-decoration-color: #008080; font-weight: bold\">-0.005</span>, <span style=\"color: #008080; text-decoration-color: #008080; font-weight: bold\">-0.000</span>, <span style=\"color: #008080; text-decoration-color: #008080; font-weight: bold\">0.017</span><span style=\"font-weight: bold\">]]</span>,\n",
       "        <span style=\"color: #008000; text-decoration-color: #008000\">'e_per_atom_relaxed'</span>: <span style=\"color: #008080; text-decoration-color: #008080; font-weight: bold\">-7.2055584999999995</span>,\n",
       "        <span style=\"color: #008000; text-decoration-color: #008000\">'mp_id'</span>: <span style=\"color: #008000; text-decoration-color: #008000\">'mp-1178485'</span>,\n",
       "        <span style=\"color: #008000; text-decoration-color: #008000\">'energy_per_atom'</span>: <span style=\"color: #008080; text-decoration-color: #008080; font-weight: bold\">-7.1986065534999994</span>,\n",
       "        <span style=\"color: #008000; text-decoration-color: #008000\">'ef_per_atom_relaxed'</span>: <span style=\"color: #008080; text-decoration-color: #008080; font-weight: bold\">-7.2055584999999995</span>,\n",
       "        <span style=\"color: #008000; text-decoration-color: #008000\">'corrected_total_energy'</span>: <span style=\"color: #008080; text-decoration-color: #008080; font-weight: bold\">-143.97213107</span>,\n",
       "        <span style=\"color: #008000; text-decoration-color: #008000\">'ef_per_atom'</span>: <span style=\"color: #008080; text-decoration-color: #008080; font-weight: bold\">-1.6071960322499992</span>,\n",
       "        <span style=\"color: #008000; text-decoration-color: #008000\">'task_id'</span>: <span style=\"color: #008000; text-decoration-color: #008000\">'mp-1178485'</span>,\n",
       "        <span style=\"color: #008000; text-decoration-color: #008000\">'calc_id'</span>: <span style=\"color: #008080; text-decoration-color: #008080; font-weight: bold\">1</span>,\n",
       "        <span style=\"color: #008000; text-decoration-color: #008000\">'ionic_step'</span>: <span style=\"color: #008080; text-decoration-color: #008080; font-weight: bold\">0</span>\n",
       "    <span style=\"font-weight: bold\">}</span>\n",
       "<span style=\"font-weight: bold\">}</span>\n",
       "</pre>\n"
      ],
      "text/plain": [
       "\u001b[1m{\u001b[0m\n",
       "    \u001b[32m'numbers'\u001b[0m: array\u001b[1m[\u001b[0m\u001b[1;36m20\u001b[0m\u001b[1m]\u001b[0m i64 x∈\u001b[1m[\u001b[0m\u001b[1;36m6\u001b[0m, \u001b[1;36m83\u001b[0m\u001b[1m]\u001b[0m \u001b[33mμ\u001b[0m=\u001b[1;36m22\u001b[0m\u001b[1;36m.600\u001b[0m \u001b[33mσ\u001b[0m=\u001b[1;36m30\u001b[0m\u001b[1;36m.210\u001b[0m,\n",
       "    \u001b[32m'positions'\u001b[0m: array\u001b[1m[\u001b[0m\u001b[1;36m20\u001b[0m, \u001b[1;36m3\u001b[0m\u001b[1m]\u001b[0m \u001b[33mn\u001b[0m=\u001b[1;36m60\u001b[0m x∈\u001b[1m[\u001b[0m\u001b[1;36m0.106\u001b[0m, \u001b[1;36m7.303\u001b[0m\u001b[1m]\u001b[0m \u001b[33mμ\u001b[0m=\u001b[1;36m3\u001b[0m\u001b[1;36m.261\u001b[0m \u001b[33mσ\u001b[0m=\u001b[1;36m1\u001b[0m\u001b[1;36m.987\u001b[0m,\n",
       "    \u001b[32m'forces'\u001b[0m: array\u001b[1m[\u001b[0m\u001b[1;36m20\u001b[0m, \u001b[1;36m3\u001b[0m\u001b[1m]\u001b[0m \u001b[33mn\u001b[0m=\u001b[1;36m60\u001b[0m x∈\u001b[1m[\u001b[0m\u001b[1;36m-0.779\u001b[0m, \u001b[1;36m0.779\u001b[0m\u001b[1m]\u001b[0m \u001b[33mμ\u001b[0m=\u001b[1;36m-4.626e-18\u001b[0m \u001b[33mσ\u001b[0m=\u001b[1;36m0\u001b[0m\u001b[1;36m.298\u001b[0m,\n",
       "    \u001b[32m'cell'\u001b[0m: array\u001b[1m[\u001b[0m\u001b[1;36m3\u001b[0m, \u001b[1;36m3\u001b[0m\u001b[1m]\u001b[0m \u001b[33mn\u001b[0m=\u001b[1;36m9\u001b[0m x∈\u001b[1m[\u001b[0m\u001b[1;36m-0.726\u001b[0m, \u001b[1;36m8.623\u001b[0m\u001b[1m]\u001b[0m \u001b[33mμ\u001b[0m=\u001b[1;36m2\u001b[0m\u001b[1;36m.174\u001b[0m \u001b[33mσ\u001b[0m=\u001b[1;36m3\u001b[0m\u001b[1;36m.474\u001b[0m \u001b[1m[\u001b[0m\u001b[1m[\u001b[0m\u001b[1;36m6.942\u001b[0m, \u001b[1;36m-0.028\u001b[0m, \u001b[1;36m-0.483\u001b[0m\u001b[1m]\u001b[0m, \u001b[1m[\u001b[0m\u001b[1;36m-0.028\u001b[0m, \u001b[1;36m5.278\u001b[0m, \u001b[1;36m-0.006\u001b[0m\u001b[1m]\u001b[0m, \n",
       "\u001b[1m[\u001b[0m\u001b[1;36m-0.726\u001b[0m, \u001b[1;36m-0.007\u001b[0m, \u001b[1;36m8.623\u001b[0m\u001b[1m]\u001b[0m\u001b[1m]\u001b[0m,\n",
       "    \u001b[32m'pbc'\u001b[0m: array\u001b[1m[\u001b[0m\u001b[1;36m3\u001b[0m\u001b[1m]\u001b[0m bool x∈\u001b[1m[\u001b[0m\u001b[3;92mTrue\u001b[0m, \u001b[3;92mTrue\u001b[0m\u001b[1m]\u001b[0m \u001b[33mμ\u001b[0m=\u001b[1;36m1\u001b[0m\u001b[1;36m.000\u001b[0m \u001b[33mσ\u001b[0m=\u001b[1;36m0\u001b[0m. \u001b[1m[\u001b[0m\u001b[3;92mTrue\u001b[0m, \u001b[3;92mTrue\u001b[0m, \u001b[3;92mTrue\u001b[0m\u001b[1m]\u001b[0m,\n",
       "    \u001b[32m'info'\u001b[0m: \u001b[1m{\u001b[0m\n",
       "        \u001b[32m'energy'\u001b[0m: \u001b[1;36m-135.72813107\u001b[0m,\n",
       "        \u001b[32m'stress'\u001b[0m: array\u001b[1m[\u001b[0m\u001b[1;36m3\u001b[0m, \u001b[1;36m3\u001b[0m\u001b[1m]\u001b[0m \u001b[33mn\u001b[0m=\u001b[1;36m9\u001b[0m x∈\u001b[1m[\u001b[0m\u001b[1;36m-0.005\u001b[0m, \u001b[1;36m0.025\u001b[0m\u001b[1m]\u001b[0m \u001b[33mμ\u001b[0m=\u001b[1;36m0\u001b[0m\u001b[1;36m.004\u001b[0m \u001b[33mσ\u001b[0m=\u001b[1;36m0\u001b[0m\u001b[1;36m.010\u001b[0m \u001b[1m[\u001b[0m\u001b[1m[\u001b[0m\u001b[1;36m4.956e-05\u001b[0m, \u001b[1;36m0.000\u001b[0m, \u001b[1;36m-0.005\u001b[0m\u001b[1m]\u001b[0m, \u001b[1m[\u001b[0m\u001b[1;36m0.000\u001b[0m, \u001b[1;36m0.025\u001b[0m, \n",
       "\u001b[1;36m-0.000\u001b[0m\u001b[1m]\u001b[0m, \u001b[1m[\u001b[0m\u001b[1;36m-0.005\u001b[0m, \u001b[1;36m-0.000\u001b[0m, \u001b[1;36m0.017\u001b[0m\u001b[1m]\u001b[0m\u001b[1m]\u001b[0m,\n",
       "        \u001b[32m'e_per_atom_relaxed'\u001b[0m: \u001b[1;36m-7.2055584999999995\u001b[0m,\n",
       "        \u001b[32m'mp_id'\u001b[0m: \u001b[32m'mp-1178485'\u001b[0m,\n",
       "        \u001b[32m'energy_per_atom'\u001b[0m: \u001b[1;36m-7.1986065534999994\u001b[0m,\n",
       "        \u001b[32m'ef_per_atom_relaxed'\u001b[0m: \u001b[1;36m-7.2055584999999995\u001b[0m,\n",
       "        \u001b[32m'corrected_total_energy'\u001b[0m: \u001b[1;36m-143.97213107\u001b[0m,\n",
       "        \u001b[32m'ef_per_atom'\u001b[0m: \u001b[1;36m-1.6071960322499992\u001b[0m,\n",
       "        \u001b[32m'task_id'\u001b[0m: \u001b[32m'mp-1178485'\u001b[0m,\n",
       "        \u001b[32m'calc_id'\u001b[0m: \u001b[1;36m1\u001b[0m,\n",
       "        \u001b[32m'ionic_step'\u001b[0m: \u001b[1;36m0\u001b[0m\n",
       "    \u001b[1m}\u001b[0m\n",
       "\u001b[1m}\u001b[0m\n"
      ]
     },
     "metadata": {},
     "output_type": "display_data"
    }
   ],
   "source": [
    "import rich\n",
    "\n",
    "\n",
    "rich.print(atoms_list[0].todict())\n",
    "rich.print(atoms_list[5].todict())"
   ]
  },
  {
   "cell_type": "code",
   "execution_count": 7,
   "metadata": {},
   "outputs": [
    {
     "data": {
      "application/vnd.jupyter.widget-view+json": {
       "model_id": "4f0d10233ba441cbb0dd93582298ec3e",
       "version_major": 2,
       "version_minor": 0
      },
      "text/plain": [
       "Generating train split: 0 examples [00:00, ? examples/s]"
      ]
     },
     "metadata": {},
     "output_type": "display_data"
    },
    {
     "data": {
      "application/vnd.jupyter.widget-view+json": {
       "model_id": "50296b0911c84273bfc0133c9d9db03c",
       "version_major": 2,
       "version_minor": 0
      },
      "text/plain": [
       "Loading dataset shards:   0%|          | 0/32 [00:00<?, ?it/s]"
      ]
     },
     "metadata": {},
     "output_type": "display_data"
    },
    {
     "data": {
      "text/plain": [
       "Dataset({\n",
       "    features: ['numbers', 'positions', 'forces', 'cell', 'pbc', 'energy', 'stress', 'e_per_atom_relaxed', 'mp_id', 'energy_per_atom', 'ef_per_atom_relaxed', 'corrected_total_energy', 'ef_per_atom', 'task_id', 'calc_id', 'ionic_step', 'filename', 'extxyz_id', 'num_atoms'],\n",
       "    num_rows: 1580395\n",
       "})"
      ]
     },
     "execution_count": 7,
     "metadata": {},
     "output_type": "execute_result"
    }
   ],
   "source": [
    "from collections.abc import Sequence\n",
    "import datasets\n",
    "from einops import rearrange\n",
    "\n",
    "\n",
    "def atoms_to_dict(atoms):\n",
    "    d = atoms.todict()\n",
    "    info = d.pop(\"info\")\n",
    "    return {**d, **info}\n",
    "\n",
    "\n",
    "def generator(file_path: Path):\n",
    "    atoms_list = ase.io.read(file_path, index=\":\")\n",
    "    assert isinstance(\n",
    "        atoms_list, Sequence\n",
    "    ), f\"atoms_list is not a sequence: {type(atoms_list)}\"\n",
    "\n",
    "    for i, atoms in enumerate(atoms_list):\n",
    "        d = atoms_to_dict(atoms)\n",
    "        d[\"filename\"] = str(file_path.stem)\n",
    "        d[\"extxyz_id\"] = i\n",
    "\n",
    "        # Pop magmom as it is not present in all files\n",
    "        d.pop(\"magmoms\", None)\n",
    "        d.pop(\"bandgap\", None)\n",
    "\n",
    "        assert d[\"forces\"].ndim == 2\n",
    "        assert d[\"positions\"].ndim == 2\n",
    "        assert d[\"cell\"].ndim == 2\n",
    "        assert d[\"stress\"].ndim == 2\n",
    "\n",
    "        d[\"num_atoms\"] = d[\"numbers\"].shape[0]\n",
    "\n",
    "        yield d\n",
    "\n",
    "\n",
    "def generator_all(shards: list[Path]):\n",
    "    for file_path in shards:\n",
    "        yield from generator(file_path)\n",
    "\n",
    "\n",
    "dataset = datasets.Dataset.from_generator(\n",
    "    generator_all,\n",
    "    gen_kwargs={\"shards\": extxyz_files},\n",
    "    num_proc=32,\n",
    "    features=datasets.Features(\n",
    "        {\n",
    "            # \"numbers\": datasets.Array2D(shape=(None, 1), dtype=\"int64\"),\n",
    "            \"numbers\": datasets.Sequence(datasets.Value(\"int64\")),\n",
    "            # \"positions\": datasets.Array2D(shape=(None, 3), dtype=\"float32\"),\n",
    "            \"positions\": datasets.Sequence(\n",
    "                datasets.Sequence(datasets.Value(\"float32\"))\n",
    "            ),\n",
    "            # \"forces\": datasets.Array2D(shape=(None, 3), dtype=\"float32\"),\n",
    "            \"forces\": datasets.Sequence(datasets.Sequence(datasets.Value(\"float32\"))),\n",
    "            \"cell\": datasets.Array2D(shape=(3, 3), dtype=\"float32\"),\n",
    "            \"pbc\": datasets.Sequence(datasets.Value(\"bool\")),\n",
    "            \"energy\": datasets.Value(\"float32\"),\n",
    "            \"stress\": datasets.Array2D(shape=(3, 3), dtype=\"float32\"),\n",
    "            \"e_per_atom_relaxed\": datasets.Value(\"float32\"),\n",
    "            \"mp_id\": datasets.Value(\"string\"),\n",
    "            \"energy_per_atom\": datasets.Value(\"float32\"),\n",
    "            \"ef_per_atom_relaxed\": datasets.Value(\"float32\"),\n",
    "            \"corrected_total_energy\": datasets.Value(\"float32\"),\n",
    "            \"ef_per_atom\": datasets.Value(\"float32\"),\n",
    "            \"task_id\": datasets.Value(\"string\"),\n",
    "            \"calc_id\": datasets.Value(\"int64\"),\n",
    "            \"ionic_step\": datasets.Value(\"int64\"),\n",
    "            \"filename\": datasets.Value(\"string\"),\n",
    "            \"extxyz_id\": datasets.Value(\"int64\"),\n",
    "            \"num_atoms\": datasets.Value(\"int64\"),\n",
    "        }\n",
    "    ),\n",
    ")\n",
    "dataset"
   ]
  },
  {
   "cell_type": "code",
   "execution_count": 18,
   "metadata": {},
   "outputs": [
    {
     "data": {
      "text/html": [
       "<pre style=\"white-space:pre;overflow-x:auto;line-height:normal;font-family:Menlo,'DejaVu Sans Mono',consolas,'Courier New',monospace\"><span style=\"font-weight: bold\">{</span>\n",
       "    <span style=\"color: #008000; text-decoration-color: #008000\">'train'</span>: <span style=\"color: #800080; text-decoration-color: #800080; font-weight: bold\">Dataset</span><span style=\"font-weight: bold\">({</span>\n",
       "    features: <span style=\"font-weight: bold\">[</span><span style=\"color: #008000; text-decoration-color: #008000\">'numbers'</span>, <span style=\"color: #008000; text-decoration-color: #008000\">'positions'</span>, <span style=\"color: #008000; text-decoration-color: #008000\">'forces'</span>, <span style=\"color: #008000; text-decoration-color: #008000\">'cell'</span>, <span style=\"color: #008000; text-decoration-color: #008000\">'pbc'</span>, <span style=\"color: #008000; text-decoration-color: #008000\">'energy'</span>, <span style=\"color: #008000; text-decoration-color: #008000\">'stress'</span>, <span style=\"color: #008000; text-decoration-color: #008000\">'e_per_atom_relaxed'</span>, <span style=\"color: #008000; text-decoration-color: #008000\">'mp_id'</span>, \n",
       "<span style=\"color: #008000; text-decoration-color: #008000\">'energy_per_atom'</span>, <span style=\"color: #008000; text-decoration-color: #008000\">'ef_per_atom_relaxed'</span>, <span style=\"color: #008000; text-decoration-color: #008000\">'corrected_total_energy'</span>, <span style=\"color: #008000; text-decoration-color: #008000\">'ef_per_atom'</span>, <span style=\"color: #008000; text-decoration-color: #008000\">'task_id'</span>, <span style=\"color: #008000; text-decoration-color: #008000\">'calc_id'</span>, \n",
       "<span style=\"color: #008000; text-decoration-color: #008000\">'ionic_step'</span>, <span style=\"color: #008000; text-decoration-color: #008000\">'filename'</span>, <span style=\"color: #008000; text-decoration-color: #008000\">'extxyz_id'</span>, <span style=\"color: #008000; text-decoration-color: #008000\">'num_atoms'</span><span style=\"font-weight: bold\">]</span>,\n",
       "    num_rows: <span style=\"color: #008080; text-decoration-color: #008080; font-weight: bold\">1559916</span>\n",
       "<span style=\"font-weight: bold\">})</span>,\n",
       "    <span style=\"color: #008000; text-decoration-color: #008000\">'val'</span>: <span style=\"color: #800080; text-decoration-color: #800080; font-weight: bold\">Dataset</span><span style=\"font-weight: bold\">({</span>\n",
       "    features: <span style=\"font-weight: bold\">[</span><span style=\"color: #008000; text-decoration-color: #008000\">'numbers'</span>, <span style=\"color: #008000; text-decoration-color: #008000\">'positions'</span>, <span style=\"color: #008000; text-decoration-color: #008000\">'forces'</span>, <span style=\"color: #008000; text-decoration-color: #008000\">'cell'</span>, <span style=\"color: #008000; text-decoration-color: #008000\">'pbc'</span>, <span style=\"color: #008000; text-decoration-color: #008000\">'energy'</span>, <span style=\"color: #008000; text-decoration-color: #008000\">'stress'</span>, <span style=\"color: #008000; text-decoration-color: #008000\">'e_per_atom_relaxed'</span>, <span style=\"color: #008000; text-decoration-color: #008000\">'mp_id'</span>, \n",
       "<span style=\"color: #008000; text-decoration-color: #008000\">'energy_per_atom'</span>, <span style=\"color: #008000; text-decoration-color: #008000\">'ef_per_atom_relaxed'</span>, <span style=\"color: #008000; text-decoration-color: #008000\">'corrected_total_energy'</span>, <span style=\"color: #008000; text-decoration-color: #008000\">'ef_per_atom'</span>, <span style=\"color: #008000; text-decoration-color: #008000\">'task_id'</span>, <span style=\"color: #008000; text-decoration-color: #008000\">'calc_id'</span>, \n",
       "<span style=\"color: #008000; text-decoration-color: #008000\">'ionic_step'</span>, <span style=\"color: #008000; text-decoration-color: #008000\">'filename'</span>, <span style=\"color: #008000; text-decoration-color: #008000\">'extxyz_id'</span>, <span style=\"color: #008000; text-decoration-color: #008000\">'num_atoms'</span><span style=\"font-weight: bold\">]</span>,\n",
       "    num_rows: <span style=\"color: #008080; text-decoration-color: #008080; font-weight: bold\">10206</span>\n",
       "<span style=\"font-weight: bold\">})</span>,\n",
       "    <span style=\"color: #008000; text-decoration-color: #008000\">'test'</span>: <span style=\"color: #800080; text-decoration-color: #800080; font-weight: bold\">Dataset</span><span style=\"font-weight: bold\">({</span>\n",
       "    features: <span style=\"font-weight: bold\">[</span><span style=\"color: #008000; text-decoration-color: #008000\">'numbers'</span>, <span style=\"color: #008000; text-decoration-color: #008000\">'positions'</span>, <span style=\"color: #008000; text-decoration-color: #008000\">'forces'</span>, <span style=\"color: #008000; text-decoration-color: #008000\">'cell'</span>, <span style=\"color: #008000; text-decoration-color: #008000\">'pbc'</span>, <span style=\"color: #008000; text-decoration-color: #008000\">'energy'</span>, <span style=\"color: #008000; text-decoration-color: #008000\">'stress'</span>, <span style=\"color: #008000; text-decoration-color: #008000\">'e_per_atom_relaxed'</span>, <span style=\"color: #008000; text-decoration-color: #008000\">'mp_id'</span>, \n",
       "<span style=\"color: #008000; text-decoration-color: #008000\">'energy_per_atom'</span>, <span style=\"color: #008000; text-decoration-color: #008000\">'ef_per_atom_relaxed'</span>, <span style=\"color: #008000; text-decoration-color: #008000\">'corrected_total_energy'</span>, <span style=\"color: #008000; text-decoration-color: #008000\">'ef_per_atom'</span>, <span style=\"color: #008000; text-decoration-color: #008000\">'task_id'</span>, <span style=\"color: #008000; text-decoration-color: #008000\">'calc_id'</span>, \n",
       "<span style=\"color: #008000; text-decoration-color: #008000\">'ionic_step'</span>, <span style=\"color: #008000; text-decoration-color: #008000\">'filename'</span>, <span style=\"color: #008000; text-decoration-color: #008000\">'extxyz_id'</span>, <span style=\"color: #008000; text-decoration-color: #008000\">'num_atoms'</span><span style=\"font-weight: bold\">]</span>,\n",
       "    num_rows: <span style=\"color: #008080; text-decoration-color: #008080; font-weight: bold\">10273</span>\n",
       "<span style=\"font-weight: bold\">})</span>\n",
       "<span style=\"font-weight: bold\">}</span>\n",
       "</pre>\n"
      ],
      "text/plain": [
       "\u001b[1m{\u001b[0m\n",
       "    \u001b[32m'train'\u001b[0m: \u001b[1;35mDataset\u001b[0m\u001b[1m(\u001b[0m\u001b[1m{\u001b[0m\n",
       "    features: \u001b[1m[\u001b[0m\u001b[32m'numbers'\u001b[0m, \u001b[32m'positions'\u001b[0m, \u001b[32m'forces'\u001b[0m, \u001b[32m'cell'\u001b[0m, \u001b[32m'pbc'\u001b[0m, \u001b[32m'energy'\u001b[0m, \u001b[32m'stress'\u001b[0m, \u001b[32m'e_per_atom_relaxed'\u001b[0m, \u001b[32m'mp_id'\u001b[0m, \n",
       "\u001b[32m'energy_per_atom'\u001b[0m, \u001b[32m'ef_per_atom_relaxed'\u001b[0m, \u001b[32m'corrected_total_energy'\u001b[0m, \u001b[32m'ef_per_atom'\u001b[0m, \u001b[32m'task_id'\u001b[0m, \u001b[32m'calc_id'\u001b[0m, \n",
       "\u001b[32m'ionic_step'\u001b[0m, \u001b[32m'filename'\u001b[0m, \u001b[32m'extxyz_id'\u001b[0m, \u001b[32m'num_atoms'\u001b[0m\u001b[1m]\u001b[0m,\n",
       "    num_rows: \u001b[1;36m1559916\u001b[0m\n",
       "\u001b[1m}\u001b[0m\u001b[1m)\u001b[0m,\n",
       "    \u001b[32m'val'\u001b[0m: \u001b[1;35mDataset\u001b[0m\u001b[1m(\u001b[0m\u001b[1m{\u001b[0m\n",
       "    features: \u001b[1m[\u001b[0m\u001b[32m'numbers'\u001b[0m, \u001b[32m'positions'\u001b[0m, \u001b[32m'forces'\u001b[0m, \u001b[32m'cell'\u001b[0m, \u001b[32m'pbc'\u001b[0m, \u001b[32m'energy'\u001b[0m, \u001b[32m'stress'\u001b[0m, \u001b[32m'e_per_atom_relaxed'\u001b[0m, \u001b[32m'mp_id'\u001b[0m, \n",
       "\u001b[32m'energy_per_atom'\u001b[0m, \u001b[32m'ef_per_atom_relaxed'\u001b[0m, \u001b[32m'corrected_total_energy'\u001b[0m, \u001b[32m'ef_per_atom'\u001b[0m, \u001b[32m'task_id'\u001b[0m, \u001b[32m'calc_id'\u001b[0m, \n",
       "\u001b[32m'ionic_step'\u001b[0m, \u001b[32m'filename'\u001b[0m, \u001b[32m'extxyz_id'\u001b[0m, \u001b[32m'num_atoms'\u001b[0m\u001b[1m]\u001b[0m,\n",
       "    num_rows: \u001b[1;36m10206\u001b[0m\n",
       "\u001b[1m}\u001b[0m\u001b[1m)\u001b[0m,\n",
       "    \u001b[32m'test'\u001b[0m: \u001b[1;35mDataset\u001b[0m\u001b[1m(\u001b[0m\u001b[1m{\u001b[0m\n",
       "    features: \u001b[1m[\u001b[0m\u001b[32m'numbers'\u001b[0m, \u001b[32m'positions'\u001b[0m, \u001b[32m'forces'\u001b[0m, \u001b[32m'cell'\u001b[0m, \u001b[32m'pbc'\u001b[0m, \u001b[32m'energy'\u001b[0m, \u001b[32m'stress'\u001b[0m, \u001b[32m'e_per_atom_relaxed'\u001b[0m, \u001b[32m'mp_id'\u001b[0m, \n",
       "\u001b[32m'energy_per_atom'\u001b[0m, \u001b[32m'ef_per_atom_relaxed'\u001b[0m, \u001b[32m'corrected_total_energy'\u001b[0m, \u001b[32m'ef_per_atom'\u001b[0m, \u001b[32m'task_id'\u001b[0m, \u001b[32m'calc_id'\u001b[0m, \n",
       "\u001b[32m'ionic_step'\u001b[0m, \u001b[32m'filename'\u001b[0m, \u001b[32m'extxyz_id'\u001b[0m, \u001b[32m'num_atoms'\u001b[0m\u001b[1m]\u001b[0m,\n",
       "    num_rows: \u001b[1;36m10273\u001b[0m\n",
       "\u001b[1m}\u001b[0m\u001b[1m)\u001b[0m\n",
       "\u001b[1m}\u001b[0m\n"
      ]
     },
     "metadata": {},
     "output_type": "display_data"
    }
   ],
   "source": [
    "d_test = dataset.train_test_split(test_size=0.0065)\n",
    "train, test = d_test[\"train\"], d_test[\"test\"]\n",
    "\n",
    "d_val = train.train_test_split(test_size=0.0065)\n",
    "train, val = d_val[\"train\"], d_val[\"test\"]\n",
    "\n",
    "rich.print({\"train\": train, \"val\": val, \"test\": test})"
   ]
  },
  {
   "cell_type": "code",
   "execution_count": 20,
   "metadata": {},
   "outputs": [
    {
     "data": {
      "text/html": [
       "<pre style=\"white-space:pre;overflow-x:auto;line-height:normal;font-family:Menlo,'DejaVu Sans Mono',consolas,'Courier New',monospace\"><span style=\"color: #800080; text-decoration-color: #800080; font-weight: bold\">DatasetDict</span><span style=\"font-weight: bold\">({</span>\n",
       "    train: <span style=\"color: #800080; text-decoration-color: #800080; font-weight: bold\">Dataset</span><span style=\"font-weight: bold\">({</span>\n",
       "        features: <span style=\"font-weight: bold\">[</span><span style=\"color: #008000; text-decoration-color: #008000\">'numbers'</span>, <span style=\"color: #008000; text-decoration-color: #008000\">'positions'</span>, <span style=\"color: #008000; text-decoration-color: #008000\">'forces'</span>, <span style=\"color: #008000; text-decoration-color: #008000\">'cell'</span>, <span style=\"color: #008000; text-decoration-color: #008000\">'pbc'</span>, <span style=\"color: #008000; text-decoration-color: #008000\">'energy'</span>, <span style=\"color: #008000; text-decoration-color: #008000\">'stress'</span>, <span style=\"color: #008000; text-decoration-color: #008000\">'e_per_atom_relaxed'</span>, \n",
       "<span style=\"color: #008000; text-decoration-color: #008000\">'mp_id'</span>, <span style=\"color: #008000; text-decoration-color: #008000\">'energy_per_atom'</span>, <span style=\"color: #008000; text-decoration-color: #008000\">'ef_per_atom_relaxed'</span>, <span style=\"color: #008000; text-decoration-color: #008000\">'corrected_total_energy'</span>, <span style=\"color: #008000; text-decoration-color: #008000\">'ef_per_atom'</span>, <span style=\"color: #008000; text-decoration-color: #008000\">'task_id'</span>, <span style=\"color: #008000; text-decoration-color: #008000\">'calc_id'</span>, \n",
       "<span style=\"color: #008000; text-decoration-color: #008000\">'ionic_step'</span>, <span style=\"color: #008000; text-decoration-color: #008000\">'filename'</span>, <span style=\"color: #008000; text-decoration-color: #008000\">'extxyz_id'</span>, <span style=\"color: #008000; text-decoration-color: #008000\">'num_atoms'</span><span style=\"font-weight: bold\">]</span>,\n",
       "        num_rows: <span style=\"color: #008080; text-decoration-color: #008080; font-weight: bold\">1559916</span>\n",
       "    <span style=\"font-weight: bold\">})</span>\n",
       "    val: <span style=\"color: #800080; text-decoration-color: #800080; font-weight: bold\">Dataset</span><span style=\"font-weight: bold\">({</span>\n",
       "        features: <span style=\"font-weight: bold\">[</span><span style=\"color: #008000; text-decoration-color: #008000\">'numbers'</span>, <span style=\"color: #008000; text-decoration-color: #008000\">'positions'</span>, <span style=\"color: #008000; text-decoration-color: #008000\">'forces'</span>, <span style=\"color: #008000; text-decoration-color: #008000\">'cell'</span>, <span style=\"color: #008000; text-decoration-color: #008000\">'pbc'</span>, <span style=\"color: #008000; text-decoration-color: #008000\">'energy'</span>, <span style=\"color: #008000; text-decoration-color: #008000\">'stress'</span>, <span style=\"color: #008000; text-decoration-color: #008000\">'e_per_atom_relaxed'</span>, \n",
       "<span style=\"color: #008000; text-decoration-color: #008000\">'mp_id'</span>, <span style=\"color: #008000; text-decoration-color: #008000\">'energy_per_atom'</span>, <span style=\"color: #008000; text-decoration-color: #008000\">'ef_per_atom_relaxed'</span>, <span style=\"color: #008000; text-decoration-color: #008000\">'corrected_total_energy'</span>, <span style=\"color: #008000; text-decoration-color: #008000\">'ef_per_atom'</span>, <span style=\"color: #008000; text-decoration-color: #008000\">'task_id'</span>, <span style=\"color: #008000; text-decoration-color: #008000\">'calc_id'</span>, \n",
       "<span style=\"color: #008000; text-decoration-color: #008000\">'ionic_step'</span>, <span style=\"color: #008000; text-decoration-color: #008000\">'filename'</span>, <span style=\"color: #008000; text-decoration-color: #008000\">'extxyz_id'</span>, <span style=\"color: #008000; text-decoration-color: #008000\">'num_atoms'</span><span style=\"font-weight: bold\">]</span>,\n",
       "        num_rows: <span style=\"color: #008080; text-decoration-color: #008080; font-weight: bold\">10206</span>\n",
       "    <span style=\"font-weight: bold\">})</span>\n",
       "    test: <span style=\"color: #800080; text-decoration-color: #800080; font-weight: bold\">Dataset</span><span style=\"font-weight: bold\">({</span>\n",
       "        features: <span style=\"font-weight: bold\">[</span><span style=\"color: #008000; text-decoration-color: #008000\">'numbers'</span>, <span style=\"color: #008000; text-decoration-color: #008000\">'positions'</span>, <span style=\"color: #008000; text-decoration-color: #008000\">'forces'</span>, <span style=\"color: #008000; text-decoration-color: #008000\">'cell'</span>, <span style=\"color: #008000; text-decoration-color: #008000\">'pbc'</span>, <span style=\"color: #008000; text-decoration-color: #008000\">'energy'</span>, <span style=\"color: #008000; text-decoration-color: #008000\">'stress'</span>, <span style=\"color: #008000; text-decoration-color: #008000\">'e_per_atom_relaxed'</span>, \n",
       "<span style=\"color: #008000; text-decoration-color: #008000\">'mp_id'</span>, <span style=\"color: #008000; text-decoration-color: #008000\">'energy_per_atom'</span>, <span style=\"color: #008000; text-decoration-color: #008000\">'ef_per_atom_relaxed'</span>, <span style=\"color: #008000; text-decoration-color: #008000\">'corrected_total_energy'</span>, <span style=\"color: #008000; text-decoration-color: #008000\">'ef_per_atom'</span>, <span style=\"color: #008000; text-decoration-color: #008000\">'task_id'</span>, <span style=\"color: #008000; text-decoration-color: #008000\">'calc_id'</span>, \n",
       "<span style=\"color: #008000; text-decoration-color: #008000\">'ionic_step'</span>, <span style=\"color: #008000; text-decoration-color: #008000\">'filename'</span>, <span style=\"color: #008000; text-decoration-color: #008000\">'extxyz_id'</span>, <span style=\"color: #008000; text-decoration-color: #008000\">'num_atoms'</span><span style=\"font-weight: bold\">]</span>,\n",
       "        num_rows: <span style=\"color: #008080; text-decoration-color: #008080; font-weight: bold\">10273</span>\n",
       "    <span style=\"font-weight: bold\">})</span>\n",
       "<span style=\"font-weight: bold\">})</span>\n",
       "</pre>\n"
      ],
      "text/plain": [
       "\u001b[1;35mDatasetDict\u001b[0m\u001b[1m(\u001b[0m\u001b[1m{\u001b[0m\n",
       "    train: \u001b[1;35mDataset\u001b[0m\u001b[1m(\u001b[0m\u001b[1m{\u001b[0m\n",
       "        features: \u001b[1m[\u001b[0m\u001b[32m'numbers'\u001b[0m, \u001b[32m'positions'\u001b[0m, \u001b[32m'forces'\u001b[0m, \u001b[32m'cell'\u001b[0m, \u001b[32m'pbc'\u001b[0m, \u001b[32m'energy'\u001b[0m, \u001b[32m'stress'\u001b[0m, \u001b[32m'e_per_atom_relaxed'\u001b[0m, \n",
       "\u001b[32m'mp_id'\u001b[0m, \u001b[32m'energy_per_atom'\u001b[0m, \u001b[32m'ef_per_atom_relaxed'\u001b[0m, \u001b[32m'corrected_total_energy'\u001b[0m, \u001b[32m'ef_per_atom'\u001b[0m, \u001b[32m'task_id'\u001b[0m, \u001b[32m'calc_id'\u001b[0m, \n",
       "\u001b[32m'ionic_step'\u001b[0m, \u001b[32m'filename'\u001b[0m, \u001b[32m'extxyz_id'\u001b[0m, \u001b[32m'num_atoms'\u001b[0m\u001b[1m]\u001b[0m,\n",
       "        num_rows: \u001b[1;36m1559916\u001b[0m\n",
       "    \u001b[1m}\u001b[0m\u001b[1m)\u001b[0m\n",
       "    val: \u001b[1;35mDataset\u001b[0m\u001b[1m(\u001b[0m\u001b[1m{\u001b[0m\n",
       "        features: \u001b[1m[\u001b[0m\u001b[32m'numbers'\u001b[0m, \u001b[32m'positions'\u001b[0m, \u001b[32m'forces'\u001b[0m, \u001b[32m'cell'\u001b[0m, \u001b[32m'pbc'\u001b[0m, \u001b[32m'energy'\u001b[0m, \u001b[32m'stress'\u001b[0m, \u001b[32m'e_per_atom_relaxed'\u001b[0m, \n",
       "\u001b[32m'mp_id'\u001b[0m, \u001b[32m'energy_per_atom'\u001b[0m, \u001b[32m'ef_per_atom_relaxed'\u001b[0m, \u001b[32m'corrected_total_energy'\u001b[0m, \u001b[32m'ef_per_atom'\u001b[0m, \u001b[32m'task_id'\u001b[0m, \u001b[32m'calc_id'\u001b[0m, \n",
       "\u001b[32m'ionic_step'\u001b[0m, \u001b[32m'filename'\u001b[0m, \u001b[32m'extxyz_id'\u001b[0m, \u001b[32m'num_atoms'\u001b[0m\u001b[1m]\u001b[0m,\n",
       "        num_rows: \u001b[1;36m10206\u001b[0m\n",
       "    \u001b[1m}\u001b[0m\u001b[1m)\u001b[0m\n",
       "    test: \u001b[1;35mDataset\u001b[0m\u001b[1m(\u001b[0m\u001b[1m{\u001b[0m\n",
       "        features: \u001b[1m[\u001b[0m\u001b[32m'numbers'\u001b[0m, \u001b[32m'positions'\u001b[0m, \u001b[32m'forces'\u001b[0m, \u001b[32m'cell'\u001b[0m, \u001b[32m'pbc'\u001b[0m, \u001b[32m'energy'\u001b[0m, \u001b[32m'stress'\u001b[0m, \u001b[32m'e_per_atom_relaxed'\u001b[0m, \n",
       "\u001b[32m'mp_id'\u001b[0m, \u001b[32m'energy_per_atom'\u001b[0m, \u001b[32m'ef_per_atom_relaxed'\u001b[0m, \u001b[32m'corrected_total_energy'\u001b[0m, \u001b[32m'ef_per_atom'\u001b[0m, \u001b[32m'task_id'\u001b[0m, \u001b[32m'calc_id'\u001b[0m, \n",
       "\u001b[32m'ionic_step'\u001b[0m, \u001b[32m'filename'\u001b[0m, \u001b[32m'extxyz_id'\u001b[0m, \u001b[32m'num_atoms'\u001b[0m\u001b[1m]\u001b[0m,\n",
       "        num_rows: \u001b[1;36m10273\u001b[0m\n",
       "    \u001b[1m}\u001b[0m\u001b[1m)\u001b[0m\n",
       "\u001b[1m}\u001b[0m\u001b[1m)\u001b[0m\n"
      ]
     },
     "metadata": {},
     "output_type": "display_data"
    },
    {
     "data": {
      "application/vnd.jupyter.widget-view+json": {
       "model_id": "8c35c890d11a4753a4e394342e1f4bcc",
       "version_major": 2,
       "version_minor": 0
      },
      "text/plain": [
       "Uploading the dataset shards:   0%|          | 0/5 [00:00<?, ?it/s]"
      ]
     },
     "metadata": {},
     "output_type": "display_data"
    },
    {
     "data": {
      "application/vnd.jupyter.widget-view+json": {
       "model_id": "3db59aa8ee944ef58b23ef1e14f7fbdc",
       "version_major": 2,
       "version_minor": 0
      },
      "text/plain": [
       "Creating parquet from Arrow format:   0%|          | 0/312 [00:00<?, ?ba/s]"
      ]
     },
     "metadata": {},
     "output_type": "display_data"
    },
    {
     "data": {
      "application/vnd.jupyter.widget-view+json": {
       "model_id": "30378c7e3d3c4af1969dbbd06fb47034",
       "version_major": 2,
       "version_minor": 0
      },
      "text/plain": [
       "Creating parquet from Arrow format:   0%|          | 0/312 [00:00<?, ?ba/s]"
      ]
     },
     "metadata": {},
     "output_type": "display_data"
    },
    {
     "data": {
      "application/vnd.jupyter.widget-view+json": {
       "model_id": "5e34304a25024ad1ae66fc1ee3400f0b",
       "version_major": 2,
       "version_minor": 0
      },
      "text/plain": [
       "Creating parquet from Arrow format:   0%|          | 0/312 [00:00<?, ?ba/s]"
      ]
     },
     "metadata": {},
     "output_type": "display_data"
    },
    {
     "data": {
      "application/vnd.jupyter.widget-view+json": {
       "model_id": "413ad105570d4538b16315df1dbcc2a5",
       "version_major": 2,
       "version_minor": 0
      },
      "text/plain": [
       "Creating parquet from Arrow format:   0%|          | 0/312 [00:00<?, ?ba/s]"
      ]
     },
     "metadata": {},
     "output_type": "display_data"
    },
    {
     "data": {
      "application/vnd.jupyter.widget-view+json": {
       "model_id": "9caa6d761ade4d439c0e540aac35c9b9",
       "version_major": 2,
       "version_minor": 0
      },
      "text/plain": [
       "Creating parquet from Arrow format:   0%|          | 0/312 [00:00<?, ?ba/s]"
      ]
     },
     "metadata": {},
     "output_type": "display_data"
    },
    {
     "data": {
      "application/vnd.jupyter.widget-view+json": {
       "model_id": "0874939bb97d45e0adb421a4382c714d",
       "version_major": 2,
       "version_minor": 0
      },
      "text/plain": [
       "Uploading the dataset shards:   0%|          | 0/1 [00:00<?, ?it/s]"
      ]
     },
     "metadata": {},
     "output_type": "display_data"
    },
    {
     "data": {
      "application/vnd.jupyter.widget-view+json": {
       "model_id": "ecfad7e9168d48c7a07f3d47f9998c00",
       "version_major": 2,
       "version_minor": 0
      },
      "text/plain": [
       "Creating parquet from Arrow format:   0%|          | 0/11 [00:00<?, ?ba/s]"
      ]
     },
     "metadata": {},
     "output_type": "display_data"
    },
    {
     "data": {
      "application/vnd.jupyter.widget-view+json": {
       "model_id": "b9914609bbeb4c34a4cf730bd25bfdaf",
       "version_major": 2,
       "version_minor": 0
      },
      "text/plain": [
       "Uploading the dataset shards:   0%|          | 0/1 [00:00<?, ?it/s]"
      ]
     },
     "metadata": {},
     "output_type": "display_data"
    },
    {
     "data": {
      "application/vnd.jupyter.widget-view+json": {
       "model_id": "a3a3109a865a4e81b1b96aaa13f05cf4",
       "version_major": 2,
       "version_minor": 0
      },
      "text/plain": [
       "Creating parquet from Arrow format:   0%|          | 0/11 [00:00<?, ?ba/s]"
      ]
     },
     "metadata": {},
     "output_type": "display_data"
    },
    {
     "data": {
      "text/plain": [
       "CommitInfo(commit_url='https://huggingface.co/datasets/nimashoghi/mptrj/commit/e75795f0c9f0c0ed44bcf8012689f5fc180c19d4', commit_message='Upload dataset', commit_description='', oid='e75795f0c9f0c0ed44bcf8012689f5fc180c19d4', pr_url=None, pr_revision=None, pr_num=None)"
      ]
     },
     "execution_count": 20,
     "metadata": {},
     "output_type": "execute_result"
    }
   ],
   "source": [
    "ddict = datasets.DatasetDict({\"train\": train, \"val\": val, \"test\": test})\n",
    "rich.print(ddict)\n",
    "\n",
    "ddict.push_to_hub(\"nimashoghi/mptrj\", private=True)"
   ]
  },
  {
   "cell_type": "code",
   "execution_count": 8,
   "metadata": {},
   "outputs": [
    {
     "ename": "AttributeError",
     "evalue": "'str' object has no attribute 'train_test_split'",
     "output_type": "error",
     "traceback": [
      "\u001b[0;31m---------------------------------------------------------------------------\u001b[0m",
      "\u001b[0;31mAttributeError\u001b[0m                            Traceback (most recent call last)",
      "Cell \u001b[0;32mIn[8], line 3\u001b[0m\n\u001b[1;32m      1\u001b[0m \u001b[38;5;66;03m# Split dataset into train, validation and test\u001b[39;00m\n\u001b[1;32m      2\u001b[0m train, test \u001b[38;5;241m=\u001b[39m dataset\u001b[38;5;241m.\u001b[39mtrain_test_split(test_size\u001b[38;5;241m=\u001b[39m\u001b[38;5;241m0.1\u001b[39m)\n\u001b[0;32m----> 3\u001b[0m train, val \u001b[38;5;241m=\u001b[39m \u001b[43mtrain\u001b[49m\u001b[38;5;241;43m.\u001b[39;49m\u001b[43mtrain_test_split\u001b[49m(test_size\u001b[38;5;241m=\u001b[39m\u001b[38;5;241m0.1\u001b[39m)\n\u001b[1;32m      5\u001b[0m rich\u001b[38;5;241m.\u001b[39mprint({\u001b[38;5;124m\"\u001b[39m\u001b[38;5;124mtrain\u001b[39m\u001b[38;5;124m\"\u001b[39m: train, \u001b[38;5;124m\"\u001b[39m\u001b[38;5;124mval\u001b[39m\u001b[38;5;124m\"\u001b[39m: val, \u001b[38;5;124m\"\u001b[39m\u001b[38;5;124mtest\u001b[39m\u001b[38;5;124m\"\u001b[39m: test})\n",
      "\u001b[0;31mAttributeError\u001b[0m: 'str' object has no attribute 'train_test_split'"
     ]
    }
   ],
   "source": [
    "# Split dataset into train, validation and test\n",
    "train, test = dataset.train_test_split(test_size=0.1)\n",
    "train, val = train.train_test_split(test_size=0.1)\n",
    "\n",
    "rich.print({\"train\": train, \"val\": val, \"test\": test})"
   ]
  },
  {
   "cell_type": "code",
   "execution_count": null,
   "metadata": {},
   "outputs": [],
   "source": [
    "dt = dataset.with_format(\"torch\")\n",
    "rich.print(dt[0])\n",
    "\n",
    "rich.print(dt.features)"
   ]
  },
  {
   "cell_type": "code",
   "execution_count": null,
   "metadata": {},
   "outputs": [],
   "source": [
    "dataset.push_to_hub(\"nimashoghi/mptrj\", private=True)"
   ]
  }
 ],
 "metadata": {
  "kernelspec": {
   "display_name": "jmp-peft",
   "language": "python",
   "name": "python3"
  },
  "language_info": {
   "codemirror_mode": {
    "name": "ipython",
    "version": 3
   },
   "file_extension": ".py",
   "mimetype": "text/x-python",
   "name": "python",
   "nbconvert_exporter": "python",
   "pygments_lexer": "ipython3",
   "version": "3.11.6"
  }
 },
 "nbformat": 4,
 "nbformat_minor": 2
}
