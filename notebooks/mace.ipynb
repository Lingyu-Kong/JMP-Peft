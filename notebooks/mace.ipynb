{
 "cells": [
  {
   "cell_type": "code",
   "execution_count": 15,
   "metadata": {},
   "outputs": [
    {
     "name": "stderr",
     "output_type": "stream",
     "text": [
      "TensorBoard/TensorBoardX not found. Disabling TensorBoardLogger. Please install TensorBoard with `pip install tensorboard` or TensorBoardX with `pip install tensorboardx` to enable TensorBoard logging.\n"
     ]
    }
   ],
   "source": [
    "import ll\n",
    "\n",
    "ll.pretty()"
   ]
  },
  {
   "cell_type": "code",
   "execution_count": 9,
   "metadata": {},
   "outputs": [
    {
     "data": {
      "application/vnd.jupyter.widget-view+json": {
       "model_id": "bd4ac68e66774ac6a97d619bc0e58dd2",
       "version_major": 2,
       "version_minor": 0
      },
      "text/plain": [
       "Downloading readme:   0%|          | 0.00/1.41k [00:00<?, ?B/s]"
      ]
     },
     "metadata": {},
     "output_type": "display_data"
    },
    {
     "data": {
      "application/vnd.jupyter.widget-view+json": {
       "model_id": "2afc565f6aa8477ea9dbc8c066c17b7d",
       "version_major": 2,
       "version_minor": 0
      },
      "text/plain": [
       "Downloading data:   0%|          | 0.00/330M [00:00<?, ?B/s]"
      ]
     },
     "metadata": {},
     "output_type": "display_data"
    },
    {
     "data": {
      "application/vnd.jupyter.widget-view+json": {
       "model_id": "de8f5b45ec724ea085aa790bc0f1f7c6",
       "version_major": 2,
       "version_minor": 0
      },
      "text/plain": [
       "Downloading data:   0%|          | 0.00/331M [00:00<?, ?B/s]"
      ]
     },
     "metadata": {},
     "output_type": "display_data"
    },
    {
     "data": {
      "application/vnd.jupyter.widget-view+json": {
       "model_id": "d82b6a876ad2400786cd13441204bbf5",
       "version_major": 2,
       "version_minor": 0
      },
      "text/plain": [
       "Downloading data:   0%|          | 0.00/329M [00:00<?, ?B/s]"
      ]
     },
     "metadata": {},
     "output_type": "display_data"
    },
    {
     "data": {
      "application/vnd.jupyter.widget-view+json": {
       "model_id": "8cf58095f86e431d9750b8351457e6fd",
       "version_major": 2,
       "version_minor": 0
      },
      "text/plain": [
       "Downloading data:   0%|          | 0.00/329M [00:00<?, ?B/s]"
      ]
     },
     "metadata": {},
     "output_type": "display_data"
    },
    {
     "data": {
      "application/vnd.jupyter.widget-view+json": {
       "model_id": "20fb628e12be4912a7044013ce3d56ee",
       "version_major": 2,
       "version_minor": 0
      },
      "text/plain": [
       "Downloading data:   0%|          | 0.00/330M [00:00<?, ?B/s]"
      ]
     },
     "metadata": {},
     "output_type": "display_data"
    },
    {
     "data": {
      "application/vnd.jupyter.widget-view+json": {
       "model_id": "fe16c0b37e88457aa0ee71c80d955341",
       "version_major": 2,
       "version_minor": 0
      },
      "text/plain": [
       "Downloading data:   0%|          | 0.00/10.9M [00:00<?, ?B/s]"
      ]
     },
     "metadata": {},
     "output_type": "display_data"
    },
    {
     "data": {
      "application/vnd.jupyter.widget-view+json": {
       "model_id": "dfdf7202a7094ebaaa9255599c46f4de",
       "version_major": 2,
       "version_minor": 0
      },
      "text/plain": [
       "Downloading data:   0%|          | 0.00/10.8M [00:00<?, ?B/s]"
      ]
     },
     "metadata": {},
     "output_type": "display_data"
    },
    {
     "data": {
      "application/vnd.jupyter.widget-view+json": {
       "model_id": "c5476e11f9bc40849aa3db8b7cba8524",
       "version_major": 2,
       "version_minor": 0
      },
      "text/plain": [
       "Generating train split:   0%|          | 0/1559916 [00:00<?, ? examples/s]"
      ]
     },
     "metadata": {},
     "output_type": "display_data"
    },
    {
     "data": {
      "application/vnd.jupyter.widget-view+json": {
       "model_id": "fee6046b2daa4d64b10a1e25de63e2b7",
       "version_major": 2,
       "version_minor": 0
      },
      "text/plain": [
       "Generating val split:   0%|          | 0/10206 [00:00<?, ? examples/s]"
      ]
     },
     "metadata": {},
     "output_type": "display_data"
    },
    {
     "data": {
      "application/vnd.jupyter.widget-view+json": {
       "model_id": "c619d25268cd45cb9103c70d6f03f620",
       "version_major": 2,
       "version_minor": 0
      },
      "text/plain": [
       "Generating test split:   0%|          | 0/10273 [00:00<?, ? examples/s]"
      ]
     },
     "metadata": {},
     "output_type": "display_data"
    },
    {
     "data": {
      "text/plain": [
       "DatasetDict({\n",
       "    train: Dataset({\n",
       "        features: ['numbers', 'positions', 'forces', 'cell', 'pbc', 'energy', 'stress', 'e_per_atom_relaxed', 'mp_id', 'energy_per_atom', 'ef_per_atom_relaxed', 'corrected_total_energy', 'ef_per_atom', 'task_id', 'calc_id', 'ionic_step', 'filename', 'extxyz_id', 'num_atoms'],\n",
       "        num_rows: 1559916\n",
       "    })\n",
       "    val: Dataset({\n",
       "        features: ['numbers', 'positions', 'forces', 'cell', 'pbc', 'energy', 'stress', 'e_per_atom_relaxed', 'mp_id', 'energy_per_atom', 'ef_per_atom_relaxed', 'corrected_total_energy', 'ef_per_atom', 'task_id', 'calc_id', 'ionic_step', 'filename', 'extxyz_id', 'num_atoms'],\n",
       "        num_rows: 10206\n",
       "    })\n",
       "    test: Dataset({\n",
       "        features: ['numbers', 'positions', 'forces', 'cell', 'pbc', 'energy', 'stress', 'e_per_atom_relaxed', 'mp_id', 'energy_per_atom', 'ef_per_atom_relaxed', 'corrected_total_energy', 'ef_per_atom', 'task_id', 'calc_id', 'ionic_step', 'filename', 'extxyz_id', 'num_atoms'],\n",
       "        num_rows: 10273\n",
       "    })\n",
       "})"
      ]
     },
     "execution_count": 9,
     "metadata": {},
     "output_type": "execute_result"
    }
   ],
   "source": [
    "import datasets\n",
    "\n",
    "dataset_full = datasets.load_dataset(\n",
    "    \"nimashoghi/mptrj\",\n",
    "    # verification_mode=\"no_checks\",\n",
    "    # streaming=True,\n",
    ")\n",
    "dataset_full"
   ]
  },
  {
   "cell_type": "code",
   "execution_count": 24,
   "metadata": {},
   "outputs": [
    {
     "data": {
      "text/html": [
       "<pre style=\"white-space:pre;overflow-x:auto;line-height:normal;font-family:Menlo,'DejaVu Sans Mono',consolas,'Courier New',monospace\"><span style=\"font-weight: bold\">{</span>\n",
       "    <span style=\"color: #008000; text-decoration-color: #008000\">'numbers'</span>: tensor<span style=\"font-weight: bold\">[</span><span style=\"color: #008080; text-decoration-color: #008080; font-weight: bold\">14</span><span style=\"font-weight: bold\">]</span> i64 x∈<span style=\"font-weight: bold\">[</span><span style=\"color: #008080; text-decoration-color: #008080; font-weight: bold\">34</span>, <span style=\"color: #008080; text-decoration-color: #008080; font-weight: bold\">50</span><span style=\"font-weight: bold\">]</span> <span style=\"color: #808000; text-decoration-color: #808000\">μ</span>=<span style=\"color: #008080; text-decoration-color: #008080; font-weight: bold\">37.643</span> <span style=\"color: #808000; text-decoration-color: #808000\">σ</span>=<span style=\"color: #008080; text-decoration-color: #008080; font-weight: bold\">4.924</span>,\n",
       "    <span style=\"color: #008000; text-decoration-color: #008000\">'positions'</span>: tensor<span style=\"font-weight: bold\">[</span><span style=\"color: #008080; text-decoration-color: #008080; font-weight: bold\">14</span>, <span style=\"color: #008080; text-decoration-color: #008080; font-weight: bold\">3</span><span style=\"font-weight: bold\">]</span> <span style=\"color: #808000; text-decoration-color: #808000\">n</span>=<span style=\"color: #008080; text-decoration-color: #008080; font-weight: bold\">42</span> x∈<span style=\"font-weight: bold\">[</span><span style=\"color: #008080; text-decoration-color: #008080; font-weight: bold\">-8.960</span>, <span style=\"color: #008080; text-decoration-color: #008080; font-weight: bold\">1.614</span><span style=\"font-weight: bold\">]</span> <span style=\"color: #808000; text-decoration-color: #808000\">μ</span>=<span style=\"color: #008080; text-decoration-color: #008080; font-weight: bold\">-2.795</span> <span style=\"color: #808000; text-decoration-color: #808000\">σ</span>=<span style=\"color: #008080; text-decoration-color: #008080; font-weight: bold\">2.779</span>,\n",
       "    <span style=\"color: #008000; text-decoration-color: #008000\">'forces'</span>: tensor<span style=\"font-weight: bold\">[</span><span style=\"color: #008080; text-decoration-color: #008080; font-weight: bold\">14</span>, <span style=\"color: #008080; text-decoration-color: #008080; font-weight: bold\">3</span><span style=\"font-weight: bold\">]</span> <span style=\"color: #808000; text-decoration-color: #808000\">n</span>=<span style=\"color: #008080; text-decoration-color: #008080; font-weight: bold\">42</span> x∈<span style=\"font-weight: bold\">[</span><span style=\"color: #008080; text-decoration-color: #008080; font-weight: bold\">-1.084</span>, <span style=\"color: #008080; text-decoration-color: #008080; font-weight: bold\">1.084</span><span style=\"font-weight: bold\">]</span> <span style=\"color: #808000; text-decoration-color: #808000\">μ</span>=<span style=\"color: #008080; text-decoration-color: #008080; font-weight: bold\">-2.838e-09</span> <span style=\"color: #808000; text-decoration-color: #808000\">σ</span>=<span style=\"color: #008080; text-decoration-color: #008080; font-weight: bold\">0.456</span>,\n",
       "    <span style=\"color: #008000; text-decoration-color: #008000\">'cell'</span>: tensor<span style=\"font-weight: bold\">[</span><span style=\"color: #008080; text-decoration-color: #008080; font-weight: bold\">3</span>, <span style=\"color: #008080; text-decoration-color: #008080; font-weight: bold\">3</span><span style=\"font-weight: bold\">]</span> <span style=\"color: #808000; text-decoration-color: #808000\">n</span>=<span style=\"color: #008080; text-decoration-color: #008080; font-weight: bold\">9</span> x∈<span style=\"font-weight: bold\">[</span><span style=\"color: #008080; text-decoration-color: #008080; font-weight: bold\">-9.861</span>, <span style=\"color: #008080; text-decoration-color: #008080; font-weight: bold\">2.515</span><span style=\"font-weight: bold\">]</span> <span style=\"color: #808000; text-decoration-color: #808000\">μ</span>=<span style=\"color: #008080; text-decoration-color: #008080; font-weight: bold\">-2.048</span> <span style=\"color: #808000; text-decoration-color: #808000\">σ</span>=<span style=\"color: #008080; text-decoration-color: #008080; font-weight: bold\">4.511</span> <span style=\"font-weight: bold\">[[</span><span style=\"color: #008080; text-decoration-color: #008080; font-weight: bold\">0</span>., <span style=\"color: #008080; text-decoration-color: #008080; font-weight: bold\">-3.429</span>, <span style=\"color: #008080; text-decoration-color: #008080; font-weight: bold\">1.000e-08</span><span style=\"font-weight: bold\">]</span>, <span style=\"font-weight: bold\">[</span><span style=\"color: #008080; text-decoration-color: #008080; font-weight: bold\">-9.064</span>, <span style=\"color: #008080; text-decoration-color: #008080; font-weight: bold\">1.714</span>, <span style=\"color: #008080; text-decoration-color: #008080; font-weight: bold\">2.515</span><span style=\"font-weight: bold\">]</span>, \n",
       "<span style=\"font-weight: bold\">[</span><span style=\"color: #008080; text-decoration-color: #008080; font-weight: bold\">-0.308</span>, <span style=\"color: #008080; text-decoration-color: #008080; font-weight: bold\">2.000e-08</span>, <span style=\"color: #008080; text-decoration-color: #008080; font-weight: bold\">-9.861</span><span style=\"font-weight: bold\">]]</span>,\n",
       "    <span style=\"color: #008000; text-decoration-color: #008000\">'pbc'</span>: tensor<span style=\"font-weight: bold\">[</span><span style=\"color: #008080; text-decoration-color: #008080; font-weight: bold\">3</span><span style=\"font-weight: bold\">]</span> bool x∈<span style=\"font-weight: bold\">[</span><span style=\"color: #00ff00; text-decoration-color: #00ff00; font-style: italic\">True</span>, <span style=\"color: #00ff00; text-decoration-color: #00ff00; font-style: italic\">True</span><span style=\"font-weight: bold\">]</span> <span style=\"color: #808000; text-decoration-color: #808000\">μ</span>=<span style=\"color: #008080; text-decoration-color: #008080; font-weight: bold\">1.000</span> <span style=\"color: #808000; text-decoration-color: #808000\">σ</span>=<span style=\"color: #008080; text-decoration-color: #008080; font-weight: bold\">0</span>. <span style=\"font-weight: bold\">[</span><span style=\"color: #00ff00; text-decoration-color: #00ff00; font-style: italic\">True</span>, <span style=\"color: #00ff00; text-decoration-color: #00ff00; font-style: italic\">True</span>, <span style=\"color: #00ff00; text-decoration-color: #00ff00; font-style: italic\">True</span><span style=\"font-weight: bold\">]</span>,\n",
       "    <span style=\"color: #008000; text-decoration-color: #008000\">'energy'</span>: tensor <span style=\"color: #008080; text-decoration-color: #008080; font-weight: bold\">-91.338</span>,\n",
       "    <span style=\"color: #008000; text-decoration-color: #008000\">'stress'</span>: tensor<span style=\"font-weight: bold\">[</span><span style=\"color: #008080; text-decoration-color: #008080; font-weight: bold\">3</span>, <span style=\"color: #008080; text-decoration-color: #008080; font-weight: bold\">3</span><span style=\"font-weight: bold\">]</span> <span style=\"color: #808000; text-decoration-color: #808000\">n</span>=<span style=\"color: #008080; text-decoration-color: #008080; font-weight: bold\">9</span> x∈<span style=\"font-weight: bold\">[</span><span style=\"color: #008080; text-decoration-color: #008080; font-weight: bold\">-0.013</span>, <span style=\"color: #008080; text-decoration-color: #008080; font-weight: bold\">0.010</span><span style=\"font-weight: bold\">]</span> <span style=\"color: #808000; text-decoration-color: #808000\">μ</span>=<span style=\"color: #008080; text-decoration-color: #008080; font-weight: bold\">7.731e-05</span> <span style=\"color: #808000; text-decoration-color: #808000\">σ</span>=<span style=\"color: #008080; text-decoration-color: #008080; font-weight: bold\">0.007</span> <span style=\"font-weight: bold\">[[</span><span style=\"color: #008080; text-decoration-color: #008080; font-weight: bold\">-0.002</span>, <span style=\"color: #008080; text-decoration-color: #008080; font-weight: bold\">1.248e-10</span>, <span style=\"color: #008080; text-decoration-color: #008080; font-weight: bold\">0.010</span><span style=\"font-weight: bold\">]</span>, <span style=\"font-weight: bold\">[</span><span style=\"color: #008080; text-decoration-color: #008080; font-weight: bold\">1.248e-10</span>, \n",
       "<span style=\"color: #008080; text-decoration-color: #008080; font-weight: bold\">-0.004</span>, <span style=\"color: #008080; text-decoration-color: #008080; font-weight: bold\">-5.305e-10</span><span style=\"font-weight: bold\">]</span>, <span style=\"font-weight: bold\">[</span><span style=\"color: #008080; text-decoration-color: #008080; font-weight: bold\">0.010</span>, <span style=\"color: #008080; text-decoration-color: #008080; font-weight: bold\">-5.305e-10</span>, <span style=\"color: #008080; text-decoration-color: #008080; font-weight: bold\">-0.013</span><span style=\"font-weight: bold\">]]</span>,\n",
       "    <span style=\"color: #008000; text-decoration-color: #008000\">'e_per_atom_relaxed'</span>: tensor <span style=\"color: #008080; text-decoration-color: #008080; font-weight: bold\">-6.888</span>,\n",
       "    <span style=\"color: #008000; text-decoration-color: #008000\">'mp_id'</span>: <span style=\"color: #008000; text-decoration-color: #008000\">'mp-1104829'</span>,\n",
       "    <span style=\"color: #008000; text-decoration-color: #008000\">'energy_per_atom'</span>: tensor <span style=\"color: #008080; text-decoration-color: #008080; font-weight: bold\">-6.794</span>,\n",
       "    <span style=\"color: #008000; text-decoration-color: #008000\">'ef_per_atom_relaxed'</span>: tensor <span style=\"color: #008080; text-decoration-color: #008080; font-weight: bold\">-6.888</span>,\n",
       "    <span style=\"color: #008000; text-decoration-color: #008000\">'corrected_total_energy'</span>: tensor <span style=\"color: #008080; text-decoration-color: #008080; font-weight: bold\">-95.114</span>,\n",
       "    <span style=\"color: #008000; text-decoration-color: #008000\">'ef_per_atom'</span>: tensor <span style=\"color: #008080; text-decoration-color: #008080; font-weight: bold\">-0.903</span>,\n",
       "    <span style=\"color: #008000; text-decoration-color: #008000\">'task_id'</span>: <span style=\"color: #008000; text-decoration-color: #008000\">'mp-1104829'</span>,\n",
       "    <span style=\"color: #008000; text-decoration-color: #008000\">'calc_id'</span>: tensor i64 <span style=\"color: #008080; text-decoration-color: #008080; font-weight: bold\">1</span>,\n",
       "    <span style=\"color: #008000; text-decoration-color: #008000\">'ionic_step'</span>: tensor i64 <span style=\"color: #008080; text-decoration-color: #008080; font-weight: bold\">3</span>,\n",
       "    <span style=\"color: #008000; text-decoration-color: #008000\">'filename'</span>: <span style=\"color: #008000; text-decoration-color: #008000\">'mp-1104829'</span>,\n",
       "    <span style=\"color: #008000; text-decoration-color: #008000\">'extxyz_id'</span>: tensor i64 <span style=\"color: #008080; text-decoration-color: #008080; font-weight: bold\">24</span>,\n",
       "    <span style=\"color: #008000; text-decoration-color: #008000\">'num_atoms'</span>: tensor i64 <span style=\"color: #008080; text-decoration-color: #008080; font-weight: bold\">14</span>\n",
       "<span style=\"font-weight: bold\">}</span>\n",
       "</pre>\n"
      ],
      "text/plain": [
       "\u001b[1m{\u001b[0m\n",
       "    \u001b[32m'numbers'\u001b[0m: tensor\u001b[1m[\u001b[0m\u001b[1;36m14\u001b[0m\u001b[1m]\u001b[0m i64 x∈\u001b[1m[\u001b[0m\u001b[1;36m34\u001b[0m, \u001b[1;36m50\u001b[0m\u001b[1m]\u001b[0m \u001b[33mμ\u001b[0m=\u001b[1;36m37\u001b[0m\u001b[1;36m.643\u001b[0m \u001b[33mσ\u001b[0m=\u001b[1;36m4\u001b[0m\u001b[1;36m.924\u001b[0m,\n",
       "    \u001b[32m'positions'\u001b[0m: tensor\u001b[1m[\u001b[0m\u001b[1;36m14\u001b[0m, \u001b[1;36m3\u001b[0m\u001b[1m]\u001b[0m \u001b[33mn\u001b[0m=\u001b[1;36m42\u001b[0m x∈\u001b[1m[\u001b[0m\u001b[1;36m-8.960\u001b[0m, \u001b[1;36m1.614\u001b[0m\u001b[1m]\u001b[0m \u001b[33mμ\u001b[0m=\u001b[1;36m-2.795\u001b[0m \u001b[33mσ\u001b[0m=\u001b[1;36m2\u001b[0m\u001b[1;36m.779\u001b[0m,\n",
       "    \u001b[32m'forces'\u001b[0m: tensor\u001b[1m[\u001b[0m\u001b[1;36m14\u001b[0m, \u001b[1;36m3\u001b[0m\u001b[1m]\u001b[0m \u001b[33mn\u001b[0m=\u001b[1;36m42\u001b[0m x∈\u001b[1m[\u001b[0m\u001b[1;36m-1.084\u001b[0m, \u001b[1;36m1.084\u001b[0m\u001b[1m]\u001b[0m \u001b[33mμ\u001b[0m=\u001b[1;36m-2.838e-09\u001b[0m \u001b[33mσ\u001b[0m=\u001b[1;36m0\u001b[0m\u001b[1;36m.456\u001b[0m,\n",
       "    \u001b[32m'cell'\u001b[0m: tensor\u001b[1m[\u001b[0m\u001b[1;36m3\u001b[0m, \u001b[1;36m3\u001b[0m\u001b[1m]\u001b[0m \u001b[33mn\u001b[0m=\u001b[1;36m9\u001b[0m x∈\u001b[1m[\u001b[0m\u001b[1;36m-9.861\u001b[0m, \u001b[1;36m2.515\u001b[0m\u001b[1m]\u001b[0m \u001b[33mμ\u001b[0m=\u001b[1;36m-2.048\u001b[0m \u001b[33mσ\u001b[0m=\u001b[1;36m4\u001b[0m\u001b[1;36m.511\u001b[0m \u001b[1m[\u001b[0m\u001b[1m[\u001b[0m\u001b[1;36m0\u001b[0m., \u001b[1;36m-3.429\u001b[0m, \u001b[1;36m1.000e-08\u001b[0m\u001b[1m]\u001b[0m, \u001b[1m[\u001b[0m\u001b[1;36m-9.064\u001b[0m, \u001b[1;36m1.714\u001b[0m, \u001b[1;36m2.515\u001b[0m\u001b[1m]\u001b[0m, \n",
       "\u001b[1m[\u001b[0m\u001b[1;36m-0.308\u001b[0m, \u001b[1;36m2.000e-08\u001b[0m, \u001b[1;36m-9.861\u001b[0m\u001b[1m]\u001b[0m\u001b[1m]\u001b[0m,\n",
       "    \u001b[32m'pbc'\u001b[0m: tensor\u001b[1m[\u001b[0m\u001b[1;36m3\u001b[0m\u001b[1m]\u001b[0m bool x∈\u001b[1m[\u001b[0m\u001b[3;92mTrue\u001b[0m, \u001b[3;92mTrue\u001b[0m\u001b[1m]\u001b[0m \u001b[33mμ\u001b[0m=\u001b[1;36m1\u001b[0m\u001b[1;36m.000\u001b[0m \u001b[33mσ\u001b[0m=\u001b[1;36m0\u001b[0m. \u001b[1m[\u001b[0m\u001b[3;92mTrue\u001b[0m, \u001b[3;92mTrue\u001b[0m, \u001b[3;92mTrue\u001b[0m\u001b[1m]\u001b[0m,\n",
       "    \u001b[32m'energy'\u001b[0m: tensor \u001b[1;36m-91.338\u001b[0m,\n",
       "    \u001b[32m'stress'\u001b[0m: tensor\u001b[1m[\u001b[0m\u001b[1;36m3\u001b[0m, \u001b[1;36m3\u001b[0m\u001b[1m]\u001b[0m \u001b[33mn\u001b[0m=\u001b[1;36m9\u001b[0m x∈\u001b[1m[\u001b[0m\u001b[1;36m-0.013\u001b[0m, \u001b[1;36m0.010\u001b[0m\u001b[1m]\u001b[0m \u001b[33mμ\u001b[0m=\u001b[1;36m7\u001b[0m\u001b[1;36m.731e-05\u001b[0m \u001b[33mσ\u001b[0m=\u001b[1;36m0\u001b[0m\u001b[1;36m.007\u001b[0m \u001b[1m[\u001b[0m\u001b[1m[\u001b[0m\u001b[1;36m-0.002\u001b[0m, \u001b[1;36m1.248e-10\u001b[0m, \u001b[1;36m0.010\u001b[0m\u001b[1m]\u001b[0m, \u001b[1m[\u001b[0m\u001b[1;36m1.248e-10\u001b[0m, \n",
       "\u001b[1;36m-0.004\u001b[0m, \u001b[1;36m-5.305e-10\u001b[0m\u001b[1m]\u001b[0m, \u001b[1m[\u001b[0m\u001b[1;36m0.010\u001b[0m, \u001b[1;36m-5.305e-10\u001b[0m, \u001b[1;36m-0.013\u001b[0m\u001b[1m]\u001b[0m\u001b[1m]\u001b[0m,\n",
       "    \u001b[32m'e_per_atom_relaxed'\u001b[0m: tensor \u001b[1;36m-6.888\u001b[0m,\n",
       "    \u001b[32m'mp_id'\u001b[0m: \u001b[32m'mp-1104829'\u001b[0m,\n",
       "    \u001b[32m'energy_per_atom'\u001b[0m: tensor \u001b[1;36m-6.794\u001b[0m,\n",
       "    \u001b[32m'ef_per_atom_relaxed'\u001b[0m: tensor \u001b[1;36m-6.888\u001b[0m,\n",
       "    \u001b[32m'corrected_total_energy'\u001b[0m: tensor \u001b[1;36m-95.114\u001b[0m,\n",
       "    \u001b[32m'ef_per_atom'\u001b[0m: tensor \u001b[1;36m-0.903\u001b[0m,\n",
       "    \u001b[32m'task_id'\u001b[0m: \u001b[32m'mp-1104829'\u001b[0m,\n",
       "    \u001b[32m'calc_id'\u001b[0m: tensor i64 \u001b[1;36m1\u001b[0m,\n",
       "    \u001b[32m'ionic_step'\u001b[0m: tensor i64 \u001b[1;36m3\u001b[0m,\n",
       "    \u001b[32m'filename'\u001b[0m: \u001b[32m'mp-1104829'\u001b[0m,\n",
       "    \u001b[32m'extxyz_id'\u001b[0m: tensor i64 \u001b[1;36m24\u001b[0m,\n",
       "    \u001b[32m'num_atoms'\u001b[0m: tensor i64 \u001b[1;36m14\u001b[0m\n",
       "\u001b[1m}\u001b[0m\n"
      ]
     },
     "metadata": {},
     "output_type": "display_data"
    },
    {
     "data": {
      "text/plain": [
       "array[1559916] i64 12Mb x∈[1, 444] μ=31.193 σ=29.575"
      ]
     },
     "execution_count": 24,
     "metadata": {},
     "output_type": "execute_result"
    }
   ],
   "source": [
    "import rich\n",
    "\n",
    "\n",
    "d = dataset_full[\"train\"].with_format(\"torch\")\n",
    "\n",
    "rich.print(d[0])\n",
    "d.num_atoms = d[\"num_atoms\"].numpy()\n",
    "d.num_atoms"
   ]
  },
  {
   "cell_type": "code",
   "execution_count": 8,
   "metadata": {},
   "outputs": [
    {
     "data": {
      "text/plain": [
       "{'sid': Value(dtype='string', id=None),\n",
       " 'fid': Value(dtype='string', id=None),\n",
       " 'reference_energy': Value(dtype='float64', id=None),\n",
       " 'num_atoms': Value(dtype='int64', id=None),\n",
       " 'atomic_numbers': Sequence(feature=Value(dtype='int64', id=None), length=-1, id=None),\n",
       " 'pos': Sequence(feature=Sequence(feature=Value(dtype='float32', id=None), length=-1, id=None), length=-1, id=None),\n",
       " 'energy': Value(dtype='float64', id=None),\n",
       " 'forces': Sequence(feature=Sequence(feature=Value(dtype='float32', id=None), length=-1, id=None), length=-1, id=None),\n",
       " 'cell': Array2D(shape=(3, 3), dtype='float32', id=None),\n",
       " 'fixed': Sequence(feature=Value(dtype='bool', id=None), length=-1, id=None),\n",
       " 'tags': Sequence(feature=Value(dtype='int32', id=None), length=-1, id=None)}"
      ]
     },
     "execution_count": 8,
     "metadata": {},
     "output_type": "execute_result"
    }
   ],
   "source": [
    "datasets.load_dataset(\n",
    "    \"nimashoghi/oc20-s2ef\",\n",
    "    verification_mode=\"no_checks\",\n",
    "    streaming=True,\n",
    ")[\"2M\"].features"
   ]
  },
  {
   "cell_type": "code",
   "execution_count": 32,
   "metadata": {},
   "outputs": [
    {
     "data": {
      "text/html": [
       "<pre style=\"white-space:pre;overflow-x:auto;line-height:normal;font-family:Menlo,'DejaVu Sans Mono',consolas,'Courier New',monospace\"><span style=\"font-weight: bold\">{</span>\n",
       "    <span style=\"color: #008000; text-decoration-color: #008000\">'numbers'</span>: <span style=\"color: #800080; text-decoration-color: #800080; font-weight: bold\">Sequence</span><span style=\"font-weight: bold\">(</span><span style=\"color: #808000; text-decoration-color: #808000\">feature</span>=<span style=\"color: #800080; text-decoration-color: #800080; font-weight: bold\">Value</span><span style=\"font-weight: bold\">(</span><span style=\"color: #808000; text-decoration-color: #808000\">dtype</span>=<span style=\"color: #008000; text-decoration-color: #008000\">'int64'</span>, <span style=\"color: #808000; text-decoration-color: #808000\">id</span>=<span style=\"color: #800080; text-decoration-color: #800080; font-style: italic\">None</span><span style=\"font-weight: bold\">)</span>, <span style=\"color: #808000; text-decoration-color: #808000\">length</span>=<span style=\"color: #008080; text-decoration-color: #008080; font-weight: bold\">-1</span>, <span style=\"color: #808000; text-decoration-color: #808000\">id</span>=<span style=\"color: #800080; text-decoration-color: #800080; font-style: italic\">None</span><span style=\"font-weight: bold\">)</span>,\n",
       "    <span style=\"color: #008000; text-decoration-color: #008000\">'positions'</span>: <span style=\"color: #800080; text-decoration-color: #800080; font-weight: bold\">Sequence</span><span style=\"font-weight: bold\">(</span>\n",
       "        <span style=\"color: #808000; text-decoration-color: #808000\">feature</span>=<span style=\"color: #800080; text-decoration-color: #800080; font-weight: bold\">Sequence</span><span style=\"font-weight: bold\">(</span><span style=\"color: #808000; text-decoration-color: #808000\">feature</span>=<span style=\"color: #800080; text-decoration-color: #800080; font-weight: bold\">Value</span><span style=\"font-weight: bold\">(</span><span style=\"color: #808000; text-decoration-color: #808000\">dtype</span>=<span style=\"color: #008000; text-decoration-color: #008000\">'float32'</span>, <span style=\"color: #808000; text-decoration-color: #808000\">id</span>=<span style=\"color: #800080; text-decoration-color: #800080; font-style: italic\">None</span><span style=\"font-weight: bold\">)</span>, <span style=\"color: #808000; text-decoration-color: #808000\">length</span>=<span style=\"color: #008080; text-decoration-color: #008080; font-weight: bold\">-1</span>, <span style=\"color: #808000; text-decoration-color: #808000\">id</span>=<span style=\"color: #800080; text-decoration-color: #800080; font-style: italic\">None</span><span style=\"font-weight: bold\">)</span>,\n",
       "        <span style=\"color: #808000; text-decoration-color: #808000\">length</span>=<span style=\"color: #008080; text-decoration-color: #008080; font-weight: bold\">-1</span>,\n",
       "        <span style=\"color: #808000; text-decoration-color: #808000\">id</span>=<span style=\"color: #800080; text-decoration-color: #800080; font-style: italic\">None</span>\n",
       "    <span style=\"font-weight: bold\">)</span>,\n",
       "    <span style=\"color: #008000; text-decoration-color: #008000\">'forces'</span>: <span style=\"color: #800080; text-decoration-color: #800080; font-weight: bold\">Sequence</span><span style=\"font-weight: bold\">(</span>\n",
       "        <span style=\"color: #808000; text-decoration-color: #808000\">feature</span>=<span style=\"color: #800080; text-decoration-color: #800080; font-weight: bold\">Sequence</span><span style=\"font-weight: bold\">(</span><span style=\"color: #808000; text-decoration-color: #808000\">feature</span>=<span style=\"color: #800080; text-decoration-color: #800080; font-weight: bold\">Value</span><span style=\"font-weight: bold\">(</span><span style=\"color: #808000; text-decoration-color: #808000\">dtype</span>=<span style=\"color: #008000; text-decoration-color: #008000\">'float32'</span>, <span style=\"color: #808000; text-decoration-color: #808000\">id</span>=<span style=\"color: #800080; text-decoration-color: #800080; font-style: italic\">None</span><span style=\"font-weight: bold\">)</span>, <span style=\"color: #808000; text-decoration-color: #808000\">length</span>=<span style=\"color: #008080; text-decoration-color: #008080; font-weight: bold\">-1</span>, <span style=\"color: #808000; text-decoration-color: #808000\">id</span>=<span style=\"color: #800080; text-decoration-color: #800080; font-style: italic\">None</span><span style=\"font-weight: bold\">)</span>,\n",
       "        <span style=\"color: #808000; text-decoration-color: #808000\">length</span>=<span style=\"color: #008080; text-decoration-color: #008080; font-weight: bold\">-1</span>,\n",
       "        <span style=\"color: #808000; text-decoration-color: #808000\">id</span>=<span style=\"color: #800080; text-decoration-color: #800080; font-style: italic\">None</span>\n",
       "    <span style=\"font-weight: bold\">)</span>,\n",
       "    <span style=\"color: #008000; text-decoration-color: #008000\">'cell'</span>: <span style=\"color: #800080; text-decoration-color: #800080; font-weight: bold\">Array2D</span><span style=\"font-weight: bold\">(</span><span style=\"color: #808000; text-decoration-color: #808000\">shape</span>=<span style=\"font-weight: bold\">(</span><span style=\"color: #008080; text-decoration-color: #008080; font-weight: bold\">3</span>, <span style=\"color: #008080; text-decoration-color: #008080; font-weight: bold\">3</span><span style=\"font-weight: bold\">)</span>, <span style=\"color: #808000; text-decoration-color: #808000\">dtype</span>=<span style=\"color: #008000; text-decoration-color: #008000\">'float32'</span>, <span style=\"color: #808000; text-decoration-color: #808000\">id</span>=<span style=\"color: #800080; text-decoration-color: #800080; font-style: italic\">None</span><span style=\"font-weight: bold\">)</span>,\n",
       "    <span style=\"color: #008000; text-decoration-color: #008000\">'pbc'</span>: <span style=\"color: #800080; text-decoration-color: #800080; font-weight: bold\">Sequence</span><span style=\"font-weight: bold\">(</span><span style=\"color: #808000; text-decoration-color: #808000\">feature</span>=<span style=\"color: #800080; text-decoration-color: #800080; font-weight: bold\">Value</span><span style=\"font-weight: bold\">(</span><span style=\"color: #808000; text-decoration-color: #808000\">dtype</span>=<span style=\"color: #008000; text-decoration-color: #008000\">'bool'</span>, <span style=\"color: #808000; text-decoration-color: #808000\">id</span>=<span style=\"color: #800080; text-decoration-color: #800080; font-style: italic\">None</span><span style=\"font-weight: bold\">)</span>, <span style=\"color: #808000; text-decoration-color: #808000\">length</span>=<span style=\"color: #008080; text-decoration-color: #008080; font-weight: bold\">-1</span>, <span style=\"color: #808000; text-decoration-color: #808000\">id</span>=<span style=\"color: #800080; text-decoration-color: #800080; font-style: italic\">None</span><span style=\"font-weight: bold\">)</span>,\n",
       "    <span style=\"color: #008000; text-decoration-color: #008000\">'energy'</span>: <span style=\"color: #800080; text-decoration-color: #800080; font-weight: bold\">Value</span><span style=\"font-weight: bold\">(</span><span style=\"color: #808000; text-decoration-color: #808000\">dtype</span>=<span style=\"color: #008000; text-decoration-color: #008000\">'float32'</span>, <span style=\"color: #808000; text-decoration-color: #808000\">id</span>=<span style=\"color: #800080; text-decoration-color: #800080; font-style: italic\">None</span><span style=\"font-weight: bold\">)</span>,\n",
       "    <span style=\"color: #008000; text-decoration-color: #008000\">'stress'</span>: <span style=\"color: #800080; text-decoration-color: #800080; font-weight: bold\">Array2D</span><span style=\"font-weight: bold\">(</span><span style=\"color: #808000; text-decoration-color: #808000\">shape</span>=<span style=\"font-weight: bold\">(</span><span style=\"color: #008080; text-decoration-color: #008080; font-weight: bold\">3</span>, <span style=\"color: #008080; text-decoration-color: #008080; font-weight: bold\">3</span><span style=\"font-weight: bold\">)</span>, <span style=\"color: #808000; text-decoration-color: #808000\">dtype</span>=<span style=\"color: #008000; text-decoration-color: #008000\">'float32'</span>, <span style=\"color: #808000; text-decoration-color: #808000\">id</span>=<span style=\"color: #800080; text-decoration-color: #800080; font-style: italic\">None</span><span style=\"font-weight: bold\">)</span>,\n",
       "    <span style=\"color: #008000; text-decoration-color: #008000\">'e_per_atom_relaxed'</span>: <span style=\"color: #800080; text-decoration-color: #800080; font-weight: bold\">Value</span><span style=\"font-weight: bold\">(</span><span style=\"color: #808000; text-decoration-color: #808000\">dtype</span>=<span style=\"color: #008000; text-decoration-color: #008000\">'float32'</span>, <span style=\"color: #808000; text-decoration-color: #808000\">id</span>=<span style=\"color: #800080; text-decoration-color: #800080; font-style: italic\">None</span><span style=\"font-weight: bold\">)</span>,\n",
       "    <span style=\"color: #008000; text-decoration-color: #008000\">'mp_id'</span>: <span style=\"color: #800080; text-decoration-color: #800080; font-weight: bold\">Value</span><span style=\"font-weight: bold\">(</span><span style=\"color: #808000; text-decoration-color: #808000\">dtype</span>=<span style=\"color: #008000; text-decoration-color: #008000\">'string'</span>, <span style=\"color: #808000; text-decoration-color: #808000\">id</span>=<span style=\"color: #800080; text-decoration-color: #800080; font-style: italic\">None</span><span style=\"font-weight: bold\">)</span>,\n",
       "    <span style=\"color: #008000; text-decoration-color: #008000\">'energy_per_atom'</span>: <span style=\"color: #800080; text-decoration-color: #800080; font-weight: bold\">Value</span><span style=\"font-weight: bold\">(</span><span style=\"color: #808000; text-decoration-color: #808000\">dtype</span>=<span style=\"color: #008000; text-decoration-color: #008000\">'float32'</span>, <span style=\"color: #808000; text-decoration-color: #808000\">id</span>=<span style=\"color: #800080; text-decoration-color: #800080; font-style: italic\">None</span><span style=\"font-weight: bold\">)</span>,\n",
       "    <span style=\"color: #008000; text-decoration-color: #008000\">'ef_per_atom_relaxed'</span>: <span style=\"color: #800080; text-decoration-color: #800080; font-weight: bold\">Value</span><span style=\"font-weight: bold\">(</span><span style=\"color: #808000; text-decoration-color: #808000\">dtype</span>=<span style=\"color: #008000; text-decoration-color: #008000\">'float32'</span>, <span style=\"color: #808000; text-decoration-color: #808000\">id</span>=<span style=\"color: #800080; text-decoration-color: #800080; font-style: italic\">None</span><span style=\"font-weight: bold\">)</span>,\n",
       "    <span style=\"color: #008000; text-decoration-color: #008000\">'corrected_total_energy'</span>: <span style=\"color: #800080; text-decoration-color: #800080; font-weight: bold\">Value</span><span style=\"font-weight: bold\">(</span><span style=\"color: #808000; text-decoration-color: #808000\">dtype</span>=<span style=\"color: #008000; text-decoration-color: #008000\">'float32'</span>, <span style=\"color: #808000; text-decoration-color: #808000\">id</span>=<span style=\"color: #800080; text-decoration-color: #800080; font-style: italic\">None</span><span style=\"font-weight: bold\">)</span>,\n",
       "    <span style=\"color: #008000; text-decoration-color: #008000\">'ef_per_atom'</span>: <span style=\"color: #800080; text-decoration-color: #800080; font-weight: bold\">Value</span><span style=\"font-weight: bold\">(</span><span style=\"color: #808000; text-decoration-color: #808000\">dtype</span>=<span style=\"color: #008000; text-decoration-color: #008000\">'float32'</span>, <span style=\"color: #808000; text-decoration-color: #808000\">id</span>=<span style=\"color: #800080; text-decoration-color: #800080; font-style: italic\">None</span><span style=\"font-weight: bold\">)</span>,\n",
       "    <span style=\"color: #008000; text-decoration-color: #008000\">'task_id'</span>: <span style=\"color: #800080; text-decoration-color: #800080; font-weight: bold\">Value</span><span style=\"font-weight: bold\">(</span><span style=\"color: #808000; text-decoration-color: #808000\">dtype</span>=<span style=\"color: #008000; text-decoration-color: #008000\">'string'</span>, <span style=\"color: #808000; text-decoration-color: #808000\">id</span>=<span style=\"color: #800080; text-decoration-color: #800080; font-style: italic\">None</span><span style=\"font-weight: bold\">)</span>,\n",
       "    <span style=\"color: #008000; text-decoration-color: #008000\">'calc_id'</span>: <span style=\"color: #800080; text-decoration-color: #800080; font-weight: bold\">Value</span><span style=\"font-weight: bold\">(</span><span style=\"color: #808000; text-decoration-color: #808000\">dtype</span>=<span style=\"color: #008000; text-decoration-color: #008000\">'int64'</span>, <span style=\"color: #808000; text-decoration-color: #808000\">id</span>=<span style=\"color: #800080; text-decoration-color: #800080; font-style: italic\">None</span><span style=\"font-weight: bold\">)</span>,\n",
       "    <span style=\"color: #008000; text-decoration-color: #008000\">'ionic_step'</span>: <span style=\"color: #800080; text-decoration-color: #800080; font-weight: bold\">Value</span><span style=\"font-weight: bold\">(</span><span style=\"color: #808000; text-decoration-color: #808000\">dtype</span>=<span style=\"color: #008000; text-decoration-color: #008000\">'int64'</span>, <span style=\"color: #808000; text-decoration-color: #808000\">id</span>=<span style=\"color: #800080; text-decoration-color: #800080; font-style: italic\">None</span><span style=\"font-weight: bold\">)</span>,\n",
       "    <span style=\"color: #008000; text-decoration-color: #008000\">'filename'</span>: <span style=\"color: #800080; text-decoration-color: #800080; font-weight: bold\">Value</span><span style=\"font-weight: bold\">(</span><span style=\"color: #808000; text-decoration-color: #808000\">dtype</span>=<span style=\"color: #008000; text-decoration-color: #008000\">'string'</span>, <span style=\"color: #808000; text-decoration-color: #808000\">id</span>=<span style=\"color: #800080; text-decoration-color: #800080; font-style: italic\">None</span><span style=\"font-weight: bold\">)</span>,\n",
       "    <span style=\"color: #008000; text-decoration-color: #008000\">'extxyz_id'</span>: <span style=\"color: #800080; text-decoration-color: #800080; font-weight: bold\">Value</span><span style=\"font-weight: bold\">(</span><span style=\"color: #808000; text-decoration-color: #808000\">dtype</span>=<span style=\"color: #008000; text-decoration-color: #008000\">'int64'</span>, <span style=\"color: #808000; text-decoration-color: #808000\">id</span>=<span style=\"color: #800080; text-decoration-color: #800080; font-style: italic\">None</span><span style=\"font-weight: bold\">)</span>,\n",
       "    <span style=\"color: #008000; text-decoration-color: #008000\">'num_atoms'</span>: <span style=\"color: #800080; text-decoration-color: #800080; font-weight: bold\">Value</span><span style=\"font-weight: bold\">(</span><span style=\"color: #808000; text-decoration-color: #808000\">dtype</span>=<span style=\"color: #008000; text-decoration-color: #008000\">'int64'</span>, <span style=\"color: #808000; text-decoration-color: #808000\">id</span>=<span style=\"color: #800080; text-decoration-color: #800080; font-style: italic\">None</span><span style=\"font-weight: bold\">)</span>\n",
       "<span style=\"font-weight: bold\">}</span>\n",
       "</pre>\n"
      ],
      "text/plain": [
       "\u001b[1m{\u001b[0m\n",
       "    \u001b[32m'numbers'\u001b[0m: \u001b[1;35mSequence\u001b[0m\u001b[1m(\u001b[0m\u001b[33mfeature\u001b[0m=\u001b[1;35mValue\u001b[0m\u001b[1m(\u001b[0m\u001b[33mdtype\u001b[0m=\u001b[32m'int64'\u001b[0m, \u001b[33mid\u001b[0m=\u001b[3;35mNone\u001b[0m\u001b[1m)\u001b[0m, \u001b[33mlength\u001b[0m=\u001b[1;36m-1\u001b[0m, \u001b[33mid\u001b[0m=\u001b[3;35mNone\u001b[0m\u001b[1m)\u001b[0m,\n",
       "    \u001b[32m'positions'\u001b[0m: \u001b[1;35mSequence\u001b[0m\u001b[1m(\u001b[0m\n",
       "        \u001b[33mfeature\u001b[0m=\u001b[1;35mSequence\u001b[0m\u001b[1m(\u001b[0m\u001b[33mfeature\u001b[0m=\u001b[1;35mValue\u001b[0m\u001b[1m(\u001b[0m\u001b[33mdtype\u001b[0m=\u001b[32m'float32'\u001b[0m, \u001b[33mid\u001b[0m=\u001b[3;35mNone\u001b[0m\u001b[1m)\u001b[0m, \u001b[33mlength\u001b[0m=\u001b[1;36m-1\u001b[0m, \u001b[33mid\u001b[0m=\u001b[3;35mNone\u001b[0m\u001b[1m)\u001b[0m,\n",
       "        \u001b[33mlength\u001b[0m=\u001b[1;36m-1\u001b[0m,\n",
       "        \u001b[33mid\u001b[0m=\u001b[3;35mNone\u001b[0m\n",
       "    \u001b[1m)\u001b[0m,\n",
       "    \u001b[32m'forces'\u001b[0m: \u001b[1;35mSequence\u001b[0m\u001b[1m(\u001b[0m\n",
       "        \u001b[33mfeature\u001b[0m=\u001b[1;35mSequence\u001b[0m\u001b[1m(\u001b[0m\u001b[33mfeature\u001b[0m=\u001b[1;35mValue\u001b[0m\u001b[1m(\u001b[0m\u001b[33mdtype\u001b[0m=\u001b[32m'float32'\u001b[0m, \u001b[33mid\u001b[0m=\u001b[3;35mNone\u001b[0m\u001b[1m)\u001b[0m, \u001b[33mlength\u001b[0m=\u001b[1;36m-1\u001b[0m, \u001b[33mid\u001b[0m=\u001b[3;35mNone\u001b[0m\u001b[1m)\u001b[0m,\n",
       "        \u001b[33mlength\u001b[0m=\u001b[1;36m-1\u001b[0m,\n",
       "        \u001b[33mid\u001b[0m=\u001b[3;35mNone\u001b[0m\n",
       "    \u001b[1m)\u001b[0m,\n",
       "    \u001b[32m'cell'\u001b[0m: \u001b[1;35mArray2D\u001b[0m\u001b[1m(\u001b[0m\u001b[33mshape\u001b[0m=\u001b[1m(\u001b[0m\u001b[1;36m3\u001b[0m, \u001b[1;36m3\u001b[0m\u001b[1m)\u001b[0m, \u001b[33mdtype\u001b[0m=\u001b[32m'float32'\u001b[0m, \u001b[33mid\u001b[0m=\u001b[3;35mNone\u001b[0m\u001b[1m)\u001b[0m,\n",
       "    \u001b[32m'pbc'\u001b[0m: \u001b[1;35mSequence\u001b[0m\u001b[1m(\u001b[0m\u001b[33mfeature\u001b[0m=\u001b[1;35mValue\u001b[0m\u001b[1m(\u001b[0m\u001b[33mdtype\u001b[0m=\u001b[32m'bool'\u001b[0m, \u001b[33mid\u001b[0m=\u001b[3;35mNone\u001b[0m\u001b[1m)\u001b[0m, \u001b[33mlength\u001b[0m=\u001b[1;36m-1\u001b[0m, \u001b[33mid\u001b[0m=\u001b[3;35mNone\u001b[0m\u001b[1m)\u001b[0m,\n",
       "    \u001b[32m'energy'\u001b[0m: \u001b[1;35mValue\u001b[0m\u001b[1m(\u001b[0m\u001b[33mdtype\u001b[0m=\u001b[32m'float32'\u001b[0m, \u001b[33mid\u001b[0m=\u001b[3;35mNone\u001b[0m\u001b[1m)\u001b[0m,\n",
       "    \u001b[32m'stress'\u001b[0m: \u001b[1;35mArray2D\u001b[0m\u001b[1m(\u001b[0m\u001b[33mshape\u001b[0m=\u001b[1m(\u001b[0m\u001b[1;36m3\u001b[0m, \u001b[1;36m3\u001b[0m\u001b[1m)\u001b[0m, \u001b[33mdtype\u001b[0m=\u001b[32m'float32'\u001b[0m, \u001b[33mid\u001b[0m=\u001b[3;35mNone\u001b[0m\u001b[1m)\u001b[0m,\n",
       "    \u001b[32m'e_per_atom_relaxed'\u001b[0m: \u001b[1;35mValue\u001b[0m\u001b[1m(\u001b[0m\u001b[33mdtype\u001b[0m=\u001b[32m'float32'\u001b[0m, \u001b[33mid\u001b[0m=\u001b[3;35mNone\u001b[0m\u001b[1m)\u001b[0m,\n",
       "    \u001b[32m'mp_id'\u001b[0m: \u001b[1;35mValue\u001b[0m\u001b[1m(\u001b[0m\u001b[33mdtype\u001b[0m=\u001b[32m'string'\u001b[0m, \u001b[33mid\u001b[0m=\u001b[3;35mNone\u001b[0m\u001b[1m)\u001b[0m,\n",
       "    \u001b[32m'energy_per_atom'\u001b[0m: \u001b[1;35mValue\u001b[0m\u001b[1m(\u001b[0m\u001b[33mdtype\u001b[0m=\u001b[32m'float32'\u001b[0m, \u001b[33mid\u001b[0m=\u001b[3;35mNone\u001b[0m\u001b[1m)\u001b[0m,\n",
       "    \u001b[32m'ef_per_atom_relaxed'\u001b[0m: \u001b[1;35mValue\u001b[0m\u001b[1m(\u001b[0m\u001b[33mdtype\u001b[0m=\u001b[32m'float32'\u001b[0m, \u001b[33mid\u001b[0m=\u001b[3;35mNone\u001b[0m\u001b[1m)\u001b[0m,\n",
       "    \u001b[32m'corrected_total_energy'\u001b[0m: \u001b[1;35mValue\u001b[0m\u001b[1m(\u001b[0m\u001b[33mdtype\u001b[0m=\u001b[32m'float32'\u001b[0m, \u001b[33mid\u001b[0m=\u001b[3;35mNone\u001b[0m\u001b[1m)\u001b[0m,\n",
       "    \u001b[32m'ef_per_atom'\u001b[0m: \u001b[1;35mValue\u001b[0m\u001b[1m(\u001b[0m\u001b[33mdtype\u001b[0m=\u001b[32m'float32'\u001b[0m, \u001b[33mid\u001b[0m=\u001b[3;35mNone\u001b[0m\u001b[1m)\u001b[0m,\n",
       "    \u001b[32m'task_id'\u001b[0m: \u001b[1;35mValue\u001b[0m\u001b[1m(\u001b[0m\u001b[33mdtype\u001b[0m=\u001b[32m'string'\u001b[0m, \u001b[33mid\u001b[0m=\u001b[3;35mNone\u001b[0m\u001b[1m)\u001b[0m,\n",
       "    \u001b[32m'calc_id'\u001b[0m: \u001b[1;35mValue\u001b[0m\u001b[1m(\u001b[0m\u001b[33mdtype\u001b[0m=\u001b[32m'int64'\u001b[0m, \u001b[33mid\u001b[0m=\u001b[3;35mNone\u001b[0m\u001b[1m)\u001b[0m,\n",
       "    \u001b[32m'ionic_step'\u001b[0m: \u001b[1;35mValue\u001b[0m\u001b[1m(\u001b[0m\u001b[33mdtype\u001b[0m=\u001b[32m'int64'\u001b[0m, \u001b[33mid\u001b[0m=\u001b[3;35mNone\u001b[0m\u001b[1m)\u001b[0m,\n",
       "    \u001b[32m'filename'\u001b[0m: \u001b[1;35mValue\u001b[0m\u001b[1m(\u001b[0m\u001b[33mdtype\u001b[0m=\u001b[32m'string'\u001b[0m, \u001b[33mid\u001b[0m=\u001b[3;35mNone\u001b[0m\u001b[1m)\u001b[0m,\n",
       "    \u001b[32m'extxyz_id'\u001b[0m: \u001b[1;35mValue\u001b[0m\u001b[1m(\u001b[0m\u001b[33mdtype\u001b[0m=\u001b[32m'int64'\u001b[0m, \u001b[33mid\u001b[0m=\u001b[3;35mNone\u001b[0m\u001b[1m)\u001b[0m,\n",
       "    \u001b[32m'num_atoms'\u001b[0m: \u001b[1;35mValue\u001b[0m\u001b[1m(\u001b[0m\u001b[33mdtype\u001b[0m=\u001b[32m'int64'\u001b[0m, \u001b[33mid\u001b[0m=\u001b[3;35mNone\u001b[0m\u001b[1m)\u001b[0m\n",
       "\u001b[1m}\u001b[0m\n"
      ]
     },
     "metadata": {},
     "output_type": "display_data"
    }
   ],
   "source": [
    "d = dataset_full[\"train\"].with_format(\"numpy\")\n",
    "rich.print(d.features)"
   ]
  },
  {
   "cell_type": "code",
   "execution_count": 39,
   "metadata": {},
   "outputs": [
    {
     "data": {
      "text/html": [
       "<div>\n",
       "<style scoped>\n",
       "    .dataframe tbody tr th:only-of-type {\n",
       "        vertical-align: middle;\n",
       "    }\n",
       "\n",
       "    .dataframe tbody tr th {\n",
       "        vertical-align: top;\n",
       "    }\n",
       "\n",
       "    .dataframe thead th {\n",
       "        text-align: right;\n",
       "    }\n",
       "</style>\n",
       "<table border=\"1\" class=\"dataframe\">\n",
       "  <thead>\n",
       "    <tr style=\"text-align: right;\">\n",
       "      <th></th>\n",
       "      <th>structure_id</th>\n",
       "      <th>positions</th>\n",
       "      <th>cell</th>\n",
       "      <th>atomic_numbers</th>\n",
       "      <th>energy</th>\n",
       "      <th>y</th>\n",
       "      <th>stress</th>\n",
       "      <th>forces</th>\n",
       "    </tr>\n",
       "  </thead>\n",
       "  <tbody>\n",
       "    <tr>\n",
       "      <th>0</th>\n",
       "      <td>mp-770503-0-2</td>\n",
       "      <td>[[-7.122789774563877, -5.048264316828707, -4.9...</td>\n",
       "      <td>[[-7.8013173, -4.50105389, 0.00836265000000000...</td>\n",
       "      <td>[3, 3, 3, 3, 3, 3, 3, 3, 3, 3, 3, 3, 3, 3, 3, ...</td>\n",
       "      <td>-585.579917</td>\n",
       "      <td>-585.579917</td>\n",
       "      <td>[[[0.000167021485974, -0.00013598156231400002,...</td>\n",
       "      <td>[[0.05488963, 0.040321130000000004, 0.00015947...</td>\n",
       "    </tr>\n",
       "    <tr>\n",
       "      <th>1</th>\n",
       "      <td>mp-770503-1-0</td>\n",
       "      <td>[[-7.092490665893987, -5.033007204845125, -4.9...</td>\n",
       "      <td>[[-7.7606371, -4.47912837, -0.00198596], [-2.5...</td>\n",
       "      <td>[3, 3, 3, 3, 3, 3, 3, 3, 3, 3, 3, 3, 3, 3, 3, ...</td>\n",
       "      <td>-585.295617</td>\n",
       "      <td>-585.295617</td>\n",
       "      <td>[[[-0.011510691830462001, -0.000249249998293, ...</td>\n",
       "      <td>[[0.0636803, 0.02808716, 0.017273610000000002]...</td>\n",
       "    </tr>\n",
       "    <tr>\n",
       "      <th>2</th>\n",
       "      <td>mp-770503-1-2</td>\n",
       "      <td>[[-7.112740627570031, -5.0442725147542, -4.975...</td>\n",
       "      <td>[[-7.7858518199999995, -4.49279932, 0.00289702...</td>\n",
       "      <td>[3, 3, 3, 3, 3, 3, 3, 3, 3, 3, 3, 3, 3, 3, 3, ...</td>\n",
       "      <td>-585.474111</td>\n",
       "      <td>-585.474111</td>\n",
       "      <td>[[[-0.004551843114748, -0.000487820574743, 0.0...</td>\n",
       "      <td>[[0.05757644, 0.04383206, 0.00396587], [-0.082...</td>\n",
       "    </tr>\n",
       "    <tr>\n",
       "      <th>3</th>\n",
       "      <td>mp-770840-0-2</td>\n",
       "      <td>[[1.473155175, 0.9019634041674981, 0.658619789...</td>\n",
       "      <td>[[2.94631035, -5.19398904, -0.1357224], [2.946...</td>\n",
       "      <td>[3, 3, 23, 23, 31, 31, 8, 8, 8, 8, 8, 8, 8, 8]</td>\n",
       "      <td>-91.977830</td>\n",
       "      <td>-91.977830</td>\n",
       "      <td>[[[-0.005387615171721, -0.0, -0.0], [-0.0, -0....</td>\n",
       "      <td>[[0.0, 0.08051365, 0.05879162], [0.0, -0.08051...</td>\n",
       "    </tr>\n",
       "    <tr>\n",
       "      <th>4</th>\n",
       "      <td>mp-770840-1-0</td>\n",
       "      <td>[[1.441250665, 0.876922092454337, 0.6403344543...</td>\n",
       "      <td>[[2.88250133, -5.17889585, -0.0928662300000000...</td>\n",
       "      <td>[3, 3, 23, 23, 31, 31, 8, 8, 8, 8, 8, 8, 8, 8]</td>\n",
       "      <td>-91.857566</td>\n",
       "      <td>-91.857566</td>\n",
       "      <td>[[[-0.042385308640998, -0.0, -0.0], [-0.0, -0....</td>\n",
       "      <td>[[0.0, 0.08401638, 0.06134933], [0.0, -0.08401...</td>\n",
       "    </tr>\n",
       "    <tr>\n",
       "      <th>...</th>\n",
       "      <td>...</td>\n",
       "      <td>...</td>\n",
       "      <td>...</td>\n",
       "      <td>...</td>\n",
       "      <td>...</td>\n",
       "      <td>...</td>\n",
       "      <td>...</td>\n",
       "      <td>...</td>\n",
       "    </tr>\n",
       "    <tr>\n",
       "      <th>187682</th>\n",
       "      <td>mvc-3920-1-0</td>\n",
       "      <td>[[3.749999866187181e-09, 6.453198907499999, -2...</td>\n",
       "      <td>[[9.93534927, 0.0, -3.51267677], [-4.96767463,...</td>\n",
       "      <td>[20, 20, 20, 20, 20, 20, 20, 20, 20, 20, 20, 2...</td>\n",
       "      <td>-566.215143</td>\n",
       "      <td>-566.215143</td>\n",
       "      <td>[[[0.0047802886901290005, -0.0, -1.62279237272...</td>\n",
       "      <td>[[0.0, 0.0, 0.0], [0.0, 0.0, 0.0], [0.0, 0.0, ...</td>\n",
       "    </tr>\n",
       "    <tr>\n",
       "      <th>187683</th>\n",
       "      <td>mvc-3920-1-1</td>\n",
       "      <td>[[0.0, 6.4364407425, -2.62766620875], [0.0, 2....</td>\n",
       "      <td>[[9.90954838, 0.0, -3.50355478], [-4.95477419,...</td>\n",
       "      <td>[20, 20, 20, 20, 20, 20, 20, 20, 20, 20, 20, 2...</td>\n",
       "      <td>-566.239913</td>\n",
       "      <td>-566.239913</td>\n",
       "      <td>[[[-0.005338404198988, -0.0, 1.747622555247312...</td>\n",
       "      <td>[[0.0, 0.0, 0.0], [0.0, 0.0, 0.0], [0.0, 0.0, ...</td>\n",
       "    </tr>\n",
       "    <tr>\n",
       "      <th>187684</th>\n",
       "      <td>mp-1186-0-1</td>\n",
       "      <td>[[1.8454599717879332, 1.065476792678565, 5.154...</td>\n",
       "      <td>[[3.69091991, 0.0, 0.0], [-1.84545996, 3.19643...</td>\n",
       "      <td>[16, 16, 40]</td>\n",
       "      <td>-21.359857</td>\n",
       "      <td>-21.359857</td>\n",
       "      <td>[[[-2.3152054223259324e-05, -0.0, -0.0], [-0.0...</td>\n",
       "      <td>[[0.0, 0.0, -9.375e-05], [0.0, 0.0, 9.375e-05]...</td>\n",
       "    </tr>\n",
       "    <tr>\n",
       "      <th>187685</th>\n",
       "      <td>mp-1186-1-0</td>\n",
       "      <td>[[1.8400000184, 1.0623244860434211, 4.38749999...</td>\n",
       "      <td>[[3.68, 0.0, 0.0], [-1.8399999999999999, 3.186...</td>\n",
       "      <td>[16, 16, 40]</td>\n",
       "      <td>-21.322418</td>\n",
       "      <td>-21.322418</td>\n",
       "      <td>[[[-0.002906930702605, -0.0, -0.0], [-0.0, -0....</td>\n",
       "      <td>[[0.0, 0.0, 0.09422701], [0.0, 0.0, -0.0942270...</td>\n",
       "    </tr>\n",
       "    <tr>\n",
       "      <th>187686</th>\n",
       "      <td>mp-1186-1-8</td>\n",
       "      <td>[[1.838724908387249, 1.061588299384116, 5.0756...</td>\n",
       "      <td>[[3.67744978, 0.0, 0.0], [-1.83872489, 3.18476...</td>\n",
       "      <td>[16, 16, 40]</td>\n",
       "      <td>-21.355411</td>\n",
       "      <td>-21.355411</td>\n",
       "      <td>[[[-0.004521541262025, -0.0, -0.0], [-0.0, -0....</td>\n",
       "      <td>[[0.0, 0.0, -0.05629617], [0.0, 0.0, 0.0562961...</td>\n",
       "    </tr>\n",
       "  </tbody>\n",
       "</table>\n",
       "<p>187687 rows × 8 columns</p>\n",
       "</div>"
      ],
      "text/plain": [
       "         structure_id                                          positions  \\\n",
       "0       mp-770503-0-2  [[-7.122789774563877, -5.048264316828707, -4.9...   \n",
       "1       mp-770503-1-0  [[-7.092490665893987, -5.033007204845125, -4.9...   \n",
       "2       mp-770503-1-2  [[-7.112740627570031, -5.0442725147542, -4.975...   \n",
       "3       mp-770840-0-2  [[1.473155175, 0.9019634041674981, 0.658619789...   \n",
       "4       mp-770840-1-0  [[1.441250665, 0.876922092454337, 0.6403344543...   \n",
       "...               ...                                                ...   \n",
       "187682   mvc-3920-1-0  [[3.749999866187181e-09, 6.453198907499999, -2...   \n",
       "187683   mvc-3920-1-1  [[0.0, 6.4364407425, -2.62766620875], [0.0, 2....   \n",
       "187684    mp-1186-0-1  [[1.8454599717879332, 1.065476792678565, 5.154...   \n",
       "187685    mp-1186-1-0  [[1.8400000184, 1.0623244860434211, 4.38749999...   \n",
       "187686    mp-1186-1-8  [[1.838724908387249, 1.061588299384116, 5.0756...   \n",
       "\n",
       "                                                     cell  \\\n",
       "0       [[-7.8013173, -4.50105389, 0.00836265000000000...   \n",
       "1       [[-7.7606371, -4.47912837, -0.00198596], [-2.5...   \n",
       "2       [[-7.7858518199999995, -4.49279932, 0.00289702...   \n",
       "3       [[2.94631035, -5.19398904, -0.1357224], [2.946...   \n",
       "4       [[2.88250133, -5.17889585, -0.0928662300000000...   \n",
       "...                                                   ...   \n",
       "187682  [[9.93534927, 0.0, -3.51267677], [-4.96767463,...   \n",
       "187683  [[9.90954838, 0.0, -3.50355478], [-4.95477419,...   \n",
       "187684  [[3.69091991, 0.0, 0.0], [-1.84545996, 3.19643...   \n",
       "187685  [[3.68, 0.0, 0.0], [-1.8399999999999999, 3.186...   \n",
       "187686  [[3.67744978, 0.0, 0.0], [-1.83872489, 3.18476...   \n",
       "\n",
       "                                           atomic_numbers      energy  \\\n",
       "0       [3, 3, 3, 3, 3, 3, 3, 3, 3, 3, 3, 3, 3, 3, 3, ... -585.579917   \n",
       "1       [3, 3, 3, 3, 3, 3, 3, 3, 3, 3, 3, 3, 3, 3, 3, ... -585.295617   \n",
       "2       [3, 3, 3, 3, 3, 3, 3, 3, 3, 3, 3, 3, 3, 3, 3, ... -585.474111   \n",
       "3          [3, 3, 23, 23, 31, 31, 8, 8, 8, 8, 8, 8, 8, 8]  -91.977830   \n",
       "4          [3, 3, 23, 23, 31, 31, 8, 8, 8, 8, 8, 8, 8, 8]  -91.857566   \n",
       "...                                                   ...         ...   \n",
       "187682  [20, 20, 20, 20, 20, 20, 20, 20, 20, 20, 20, 2... -566.215143   \n",
       "187683  [20, 20, 20, 20, 20, 20, 20, 20, 20, 20, 20, 2... -566.239913   \n",
       "187684                                       [16, 16, 40]  -21.359857   \n",
       "187685                                       [16, 16, 40]  -21.322418   \n",
       "187686                                       [16, 16, 40]  -21.355411   \n",
       "\n",
       "                 y                                             stress  \\\n",
       "0      -585.579917  [[[0.000167021485974, -0.00013598156231400002,...   \n",
       "1      -585.295617  [[[-0.011510691830462001, -0.000249249998293, ...   \n",
       "2      -585.474111  [[[-0.004551843114748, -0.000487820574743, 0.0...   \n",
       "3       -91.977830  [[[-0.005387615171721, -0.0, -0.0], [-0.0, -0....   \n",
       "4       -91.857566  [[[-0.042385308640998, -0.0, -0.0], [-0.0, -0....   \n",
       "...            ...                                                ...   \n",
       "187682 -566.215143  [[[0.0047802886901290005, -0.0, -1.62279237272...   \n",
       "187683 -566.239913  [[[-0.005338404198988, -0.0, 1.747622555247312...   \n",
       "187684  -21.359857  [[[-2.3152054223259324e-05, -0.0, -0.0], [-0.0...   \n",
       "187685  -21.322418  [[[-0.002906930702605, -0.0, -0.0], [-0.0, -0....   \n",
       "187686  -21.355411  [[[-0.004521541262025, -0.0, -0.0], [-0.0, -0....   \n",
       "\n",
       "                                                   forces  \n",
       "0       [[0.05488963, 0.040321130000000004, 0.00015947...  \n",
       "1       [[0.0636803, 0.02808716, 0.017273610000000002]...  \n",
       "2       [[0.05757644, 0.04383206, 0.00396587], [-0.082...  \n",
       "3       [[0.0, 0.08051365, 0.05879162], [0.0, -0.08051...  \n",
       "4       [[0.0, 0.08401638, 0.06134933], [0.0, -0.08401...  \n",
       "...                                                   ...  \n",
       "187682  [[0.0, 0.0, 0.0], [0.0, 0.0, 0.0], [0.0, 0.0, ...  \n",
       "187683  [[0.0, 0.0, 0.0], [0.0, 0.0, 0.0], [0.0, 0.0, ...  \n",
       "187684  [[0.0, 0.0, -9.375e-05], [0.0, 0.0, 9.375e-05]...  \n",
       "187685  [[0.0, 0.0, 0.09422701], [0.0, 0.0, -0.0942270...  \n",
       "187686  [[0.0, 0.0, -0.05629617], [0.0, 0.0, 0.0562961...  \n",
       "\n",
       "[187687 rows x 8 columns]"
      ]
     },
     "execution_count": 39,
     "metadata": {},
     "output_type": "execute_result"
    }
   ],
   "source": [
    "import pandas as pd\n",
    "\n",
    "\n",
    "df = pd.read_json(\"/mnt/datasets/matbench-discovery-traj/megnet-133k.json\")\n",
    "df"
   ]
  },
  {
   "cell_type": "code",
   "execution_count": 43,
   "metadata": {},
   "outputs": [
    {
     "data": {
      "text/html": [
       "<div>\n",
       "<style scoped>\n",
       "    .dataframe tbody tr th:only-of-type {\n",
       "        vertical-align: middle;\n",
       "    }\n",
       "\n",
       "    .dataframe tbody tr th {\n",
       "        vertical-align: top;\n",
       "    }\n",
       "\n",
       "    .dataframe thead th {\n",
       "        text-align: right;\n",
       "    }\n",
       "</style>\n",
       "<table border=\"1\" class=\"dataframe\">\n",
       "  <thead>\n",
       "    <tr style=\"text-align: right;\">\n",
       "      <th></th>\n",
       "      <th>structure_id</th>\n",
       "      <th>positions</th>\n",
       "      <th>cell</th>\n",
       "      <th>atomic_numbers</th>\n",
       "      <th>energy</th>\n",
       "      <th>y</th>\n",
       "      <th>stress</th>\n",
       "      <th>forces</th>\n",
       "      <th>num_atoms</th>\n",
       "    </tr>\n",
       "  </thead>\n",
       "  <tbody>\n",
       "    <tr>\n",
       "      <th>0</th>\n",
       "      <td>mp-770503-0-2</td>\n",
       "      <td>[[-7.122789774563877, -5.048264316828707, -4.9...</td>\n",
       "      <td>[[-7.8013173, -4.50105389, 0.00836265000000000...</td>\n",
       "      <td>[3, 3, 3, 3, 3, 3, 3, 3, 3, 3, 3, 3, 3, 3, 3, ...</td>\n",
       "      <td>-585.579917</td>\n",
       "      <td>-585.579917</td>\n",
       "      <td>[[[0.000167021485974, -0.00013598156231400002,...</td>\n",
       "      <td>[[0.05488963, 0.040321130000000004, 0.00015947...</td>\n",
       "      <td>84</td>\n",
       "    </tr>\n",
       "    <tr>\n",
       "      <th>1</th>\n",
       "      <td>mp-770503-1-0</td>\n",
       "      <td>[[-7.092490665893987, -5.033007204845125, -4.9...</td>\n",
       "      <td>[[-7.7606371, -4.47912837, -0.00198596], [-2.5...</td>\n",
       "      <td>[3, 3, 3, 3, 3, 3, 3, 3, 3, 3, 3, 3, 3, 3, 3, ...</td>\n",
       "      <td>-585.295617</td>\n",
       "      <td>-585.295617</td>\n",
       "      <td>[[[-0.011510691830462001, -0.000249249998293, ...</td>\n",
       "      <td>[[0.0636803, 0.02808716, 0.017273610000000002]...</td>\n",
       "      <td>84</td>\n",
       "    </tr>\n",
       "    <tr>\n",
       "      <th>2</th>\n",
       "      <td>mp-770503-1-2</td>\n",
       "      <td>[[-7.112740627570031, -5.0442725147542, -4.975...</td>\n",
       "      <td>[[-7.7858518199999995, -4.49279932, 0.00289702...</td>\n",
       "      <td>[3, 3, 3, 3, 3, 3, 3, 3, 3, 3, 3, 3, 3, 3, 3, ...</td>\n",
       "      <td>-585.474111</td>\n",
       "      <td>-585.474111</td>\n",
       "      <td>[[[-0.004551843114748, -0.000487820574743, 0.0...</td>\n",
       "      <td>[[0.05757644, 0.04383206, 0.00396587], [-0.082...</td>\n",
       "      <td>84</td>\n",
       "    </tr>\n",
       "    <tr>\n",
       "      <th>3</th>\n",
       "      <td>mp-770840-0-2</td>\n",
       "      <td>[[1.473155175, 0.9019634041674981, 0.658619789...</td>\n",
       "      <td>[[2.94631035, -5.19398904, -0.1357224], [2.946...</td>\n",
       "      <td>[3, 3, 23, 23, 31, 31, 8, 8, 8, 8, 8, 8, 8, 8]</td>\n",
       "      <td>-91.977830</td>\n",
       "      <td>-91.977830</td>\n",
       "      <td>[[[-0.005387615171721, -0.0, -0.0], [-0.0, -0....</td>\n",
       "      <td>[[0.0, 0.08051365, 0.05879162], [0.0, -0.08051...</td>\n",
       "      <td>14</td>\n",
       "    </tr>\n",
       "    <tr>\n",
       "      <th>4</th>\n",
       "      <td>mp-770840-1-0</td>\n",
       "      <td>[[1.441250665, 0.876922092454337, 0.6403344543...</td>\n",
       "      <td>[[2.88250133, -5.17889585, -0.0928662300000000...</td>\n",
       "      <td>[3, 3, 23, 23, 31, 31, 8, 8, 8, 8, 8, 8, 8, 8]</td>\n",
       "      <td>-91.857566</td>\n",
       "      <td>-91.857566</td>\n",
       "      <td>[[[-0.042385308640998, -0.0, -0.0], [-0.0, -0....</td>\n",
       "      <td>[[0.0, 0.08401638, 0.06134933], [0.0, -0.08401...</td>\n",
       "      <td>14</td>\n",
       "    </tr>\n",
       "    <tr>\n",
       "      <th>...</th>\n",
       "      <td>...</td>\n",
       "      <td>...</td>\n",
       "      <td>...</td>\n",
       "      <td>...</td>\n",
       "      <td>...</td>\n",
       "      <td>...</td>\n",
       "      <td>...</td>\n",
       "      <td>...</td>\n",
       "      <td>...</td>\n",
       "    </tr>\n",
       "    <tr>\n",
       "      <th>187682</th>\n",
       "      <td>mvc-3920-1-0</td>\n",
       "      <td>[[3.749999866187181e-09, 6.453198907499999, -2...</td>\n",
       "      <td>[[9.93534927, 0.0, -3.51267677], [-4.96767463,...</td>\n",
       "      <td>[20, 20, 20, 20, 20, 20, 20, 20, 20, 20, 20, 2...</td>\n",
       "      <td>-566.215143</td>\n",
       "      <td>-566.215143</td>\n",
       "      <td>[[[0.0047802886901290005, -0.0, -1.62279237272...</td>\n",
       "      <td>[[0.0, 0.0, 0.0], [0.0, 0.0, 0.0], [0.0, 0.0, ...</td>\n",
       "      <td>80</td>\n",
       "    </tr>\n",
       "    <tr>\n",
       "      <th>187683</th>\n",
       "      <td>mvc-3920-1-1</td>\n",
       "      <td>[[0.0, 6.4364407425, -2.62766620875], [0.0, 2....</td>\n",
       "      <td>[[9.90954838, 0.0, -3.50355478], [-4.95477419,...</td>\n",
       "      <td>[20, 20, 20, 20, 20, 20, 20, 20, 20, 20, 20, 2...</td>\n",
       "      <td>-566.239913</td>\n",
       "      <td>-566.239913</td>\n",
       "      <td>[[[-0.005338404198988, -0.0, 1.747622555247312...</td>\n",
       "      <td>[[0.0, 0.0, 0.0], [0.0, 0.0, 0.0], [0.0, 0.0, ...</td>\n",
       "      <td>80</td>\n",
       "    </tr>\n",
       "    <tr>\n",
       "      <th>187684</th>\n",
       "      <td>mp-1186-0-1</td>\n",
       "      <td>[[1.8454599717879332, 1.065476792678565, 5.154...</td>\n",
       "      <td>[[3.69091991, 0.0, 0.0], [-1.84545996, 3.19643...</td>\n",
       "      <td>[16, 16, 40]</td>\n",
       "      <td>-21.359857</td>\n",
       "      <td>-21.359857</td>\n",
       "      <td>[[[-2.3152054223259324e-05, -0.0, -0.0], [-0.0...</td>\n",
       "      <td>[[0.0, 0.0, -9.375e-05], [0.0, 0.0, 9.375e-05]...</td>\n",
       "      <td>3</td>\n",
       "    </tr>\n",
       "    <tr>\n",
       "      <th>187685</th>\n",
       "      <td>mp-1186-1-0</td>\n",
       "      <td>[[1.8400000184, 1.0623244860434211, 4.38749999...</td>\n",
       "      <td>[[3.68, 0.0, 0.0], [-1.8399999999999999, 3.186...</td>\n",
       "      <td>[16, 16, 40]</td>\n",
       "      <td>-21.322418</td>\n",
       "      <td>-21.322418</td>\n",
       "      <td>[[[-0.002906930702605, -0.0, -0.0], [-0.0, -0....</td>\n",
       "      <td>[[0.0, 0.0, 0.09422701], [0.0, 0.0, -0.0942270...</td>\n",
       "      <td>3</td>\n",
       "    </tr>\n",
       "    <tr>\n",
       "      <th>187686</th>\n",
       "      <td>mp-1186-1-8</td>\n",
       "      <td>[[1.838724908387249, 1.061588299384116, 5.0756...</td>\n",
       "      <td>[[3.67744978, 0.0, 0.0], [-1.83872489, 3.18476...</td>\n",
       "      <td>[16, 16, 40]</td>\n",
       "      <td>-21.355411</td>\n",
       "      <td>-21.355411</td>\n",
       "      <td>[[[-0.004521541262025, -0.0, -0.0], [-0.0, -0....</td>\n",
       "      <td>[[0.0, 0.0, -0.05629617], [0.0, 0.0, 0.0562961...</td>\n",
       "      <td>3</td>\n",
       "    </tr>\n",
       "  </tbody>\n",
       "</table>\n",
       "<p>187687 rows × 9 columns</p>\n",
       "</div>"
      ],
      "text/plain": [
       "         structure_id                                          positions  \\\n",
       "0       mp-770503-0-2  [[-7.122789774563877, -5.048264316828707, -4.9...   \n",
       "1       mp-770503-1-0  [[-7.092490665893987, -5.033007204845125, -4.9...   \n",
       "2       mp-770503-1-2  [[-7.112740627570031, -5.0442725147542, -4.975...   \n",
       "3       mp-770840-0-2  [[1.473155175, 0.9019634041674981, 0.658619789...   \n",
       "4       mp-770840-1-0  [[1.441250665, 0.876922092454337, 0.6403344543...   \n",
       "...               ...                                                ...   \n",
       "187682   mvc-3920-1-0  [[3.749999866187181e-09, 6.453198907499999, -2...   \n",
       "187683   mvc-3920-1-1  [[0.0, 6.4364407425, -2.62766620875], [0.0, 2....   \n",
       "187684    mp-1186-0-1  [[1.8454599717879332, 1.065476792678565, 5.154...   \n",
       "187685    mp-1186-1-0  [[1.8400000184, 1.0623244860434211, 4.38749999...   \n",
       "187686    mp-1186-1-8  [[1.838724908387249, 1.061588299384116, 5.0756...   \n",
       "\n",
       "                                                     cell  \\\n",
       "0       [[-7.8013173, -4.50105389, 0.00836265000000000...   \n",
       "1       [[-7.7606371, -4.47912837, -0.00198596], [-2.5...   \n",
       "2       [[-7.7858518199999995, -4.49279932, 0.00289702...   \n",
       "3       [[2.94631035, -5.19398904, -0.1357224], [2.946...   \n",
       "4       [[2.88250133, -5.17889585, -0.0928662300000000...   \n",
       "...                                                   ...   \n",
       "187682  [[9.93534927, 0.0, -3.51267677], [-4.96767463,...   \n",
       "187683  [[9.90954838, 0.0, -3.50355478], [-4.95477419,...   \n",
       "187684  [[3.69091991, 0.0, 0.0], [-1.84545996, 3.19643...   \n",
       "187685  [[3.68, 0.0, 0.0], [-1.8399999999999999, 3.186...   \n",
       "187686  [[3.67744978, 0.0, 0.0], [-1.83872489, 3.18476...   \n",
       "\n",
       "                                           atomic_numbers      energy  \\\n",
       "0       [3, 3, 3, 3, 3, 3, 3, 3, 3, 3, 3, 3, 3, 3, 3, ... -585.579917   \n",
       "1       [3, 3, 3, 3, 3, 3, 3, 3, 3, 3, 3, 3, 3, 3, 3, ... -585.295617   \n",
       "2       [3, 3, 3, 3, 3, 3, 3, 3, 3, 3, 3, 3, 3, 3, 3, ... -585.474111   \n",
       "3          [3, 3, 23, 23, 31, 31, 8, 8, 8, 8, 8, 8, 8, 8]  -91.977830   \n",
       "4          [3, 3, 23, 23, 31, 31, 8, 8, 8, 8, 8, 8, 8, 8]  -91.857566   \n",
       "...                                                   ...         ...   \n",
       "187682  [20, 20, 20, 20, 20, 20, 20, 20, 20, 20, 20, 2... -566.215143   \n",
       "187683  [20, 20, 20, 20, 20, 20, 20, 20, 20, 20, 20, 2... -566.239913   \n",
       "187684                                       [16, 16, 40]  -21.359857   \n",
       "187685                                       [16, 16, 40]  -21.322418   \n",
       "187686                                       [16, 16, 40]  -21.355411   \n",
       "\n",
       "                 y                                             stress  \\\n",
       "0      -585.579917  [[[0.000167021485974, -0.00013598156231400002,...   \n",
       "1      -585.295617  [[[-0.011510691830462001, -0.000249249998293, ...   \n",
       "2      -585.474111  [[[-0.004551843114748, -0.000487820574743, 0.0...   \n",
       "3       -91.977830  [[[-0.005387615171721, -0.0, -0.0], [-0.0, -0....   \n",
       "4       -91.857566  [[[-0.042385308640998, -0.0, -0.0], [-0.0, -0....   \n",
       "...            ...                                                ...   \n",
       "187682 -566.215143  [[[0.0047802886901290005, -0.0, -1.62279237272...   \n",
       "187683 -566.239913  [[[-0.005338404198988, -0.0, 1.747622555247312...   \n",
       "187684  -21.359857  [[[-2.3152054223259324e-05, -0.0, -0.0], [-0.0...   \n",
       "187685  -21.322418  [[[-0.002906930702605, -0.0, -0.0], [-0.0, -0....   \n",
       "187686  -21.355411  [[[-0.004521541262025, -0.0, -0.0], [-0.0, -0....   \n",
       "\n",
       "                                                   forces  num_atoms  \n",
       "0       [[0.05488963, 0.040321130000000004, 0.00015947...         84  \n",
       "1       [[0.0636803, 0.02808716, 0.017273610000000002]...         84  \n",
       "2       [[0.05757644, 0.04383206, 0.00396587], [-0.082...         84  \n",
       "3       [[0.0, 0.08051365, 0.05879162], [0.0, -0.08051...         14  \n",
       "4       [[0.0, 0.08401638, 0.06134933], [0.0, -0.08401...         14  \n",
       "...                                                   ...        ...  \n",
       "187682  [[0.0, 0.0, 0.0], [0.0, 0.0, 0.0], [0.0, 0.0, ...         80  \n",
       "187683  [[0.0, 0.0, 0.0], [0.0, 0.0, 0.0], [0.0, 0.0, ...         80  \n",
       "187684  [[0.0, 0.0, -9.375e-05], [0.0, 0.0, 9.375e-05]...          3  \n",
       "187685  [[0.0, 0.0, 0.09422701], [0.0, 0.0, -0.0942270...          3  \n",
       "187686  [[0.0, 0.0, -0.05629617], [0.0, 0.0, 0.0562961...          3  \n",
       "\n",
       "[187687 rows x 9 columns]"
      ]
     },
     "execution_count": 43,
     "metadata": {},
     "output_type": "execute_result"
    }
   ],
   "source": [
    "df[\"num_atoms\"] = df[\"atomic_numbers\"].apply(len)\n",
    "df"
   ]
  },
  {
   "cell_type": "code",
   "execution_count": 48,
   "metadata": {},
   "outputs": [
    {
     "data": {
      "image/png": "[encoded data removed]",
      "text/plain": [
       "<Figure size 640x480 with 1 Axes>"
      ]
     },
     "metadata": {},
     "output_type": "display_data"
    },
    {
     "data": {
      "image/png": "[encoded data removed]",
      "text/plain": [
       "<Figure size 640x480 with 1 Axes>"
      ]
     },
     "metadata": {},
     "output_type": "display_data"
    },
    {
     "data": {
      "image/png": "[encoded data removed]",
      "text/plain": [
       "<Figure size 640x480 with 1 Axes>"
      ]
     },
     "metadata": {},
     "output_type": "display_data"
    }
   ],
   "source": [
    "import seaborn as sns\n",
    "import matplotlib.pyplot as plt\n",
    "\n",
    "\n",
    "# label as \"Energy\"\n",
    "fig, ax = plt.subplots()\n",
    "sns.histplot(d[\"energy\"], label=\"Energy\", ax=ax, stat=\"density\")\n",
    "sns.histplot(\n",
    "    d[\"corrected_total_energy\"], label=\"corrected_total_energy\", ax=ax, stat=\"density\"\n",
    ")\n",
    "sns.histplot(df[\"energy\"], label=\"df_sampled energy * num_atoms\", ax=ax, stat=\"density\")\n",
    "\n",
    "ax.set_xlim(-1000, 1000)\n",
    "plt.legend()\n",
    "plt.show()\n",
    "\n",
    "\n",
    "sns.histplot(d[\"ef_per_atom\"] * d[\"num_atoms\"])\n",
    "plt.show()\n",
    "\n",
    "fig, ax = plt.subplots()\n",
    "sns.histplot(d[\"ef_per_atom\"], label=\"ef_per_atom\", ax=ax, stat=\"density\")\n",
    "sns.histplot(\n",
    "    d[\"ef_per_atom_relaxed\"], label=\"ef_per_atom_relaxed\", ax=ax, stat=\"density\"\n",
    ")\n",
    "sns.histplot(d[\"energy_per_atom\"], label=\"energy_per_atom\", ax=ax, stat=\"density\")\n",
    "sns.histplot(d[\"e_per_atom_relaxed\"], label=\"e_per_atom_relaxed\", ax=ax, stat=\"density\")\n",
    "sns.histplot(\n",
    "    df[\"energy\"] / df[\"num_atoms\"],\n",
    "    label=\"df_sampled energy / num_atoms\",\n",
    "    ax=ax,\n",
    "    stat=\"density\",\n",
    ")\n",
    "plt.legend()\n",
    "plt.show()"
   ]
  },
  {
   "cell_type": "code",
   "execution_count": null,
   "metadata": {},
   "outputs": [],
   "source": []
  }
 ],
 "metadata": {
  "kernelspec": {
   "display_name": "jmp-peft",
   "language": "python",
   "name": "python3"
  },
  "language_info": {
   "codemirror_mode": {
    "name": "ipython",
    "version": 3
   },
   "file_extension": ".py",
   "mimetype": "text/x-python",
   "name": "python",
   "nbconvert_exporter": "python",
   "pygments_lexer": "ipython3",
   "version": "3.11.6"
  }
 },
 "nbformat": 4,
 "nbformat_minor": 2
}
