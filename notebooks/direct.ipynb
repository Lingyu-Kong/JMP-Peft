{
 "cells": [
  {
   "cell_type": "markdown",
   "metadata": {},
   "source": [
    "Let $h \\in (N, d_{\\text{model}})$ be the node-level embeddings of the backbone, and $m \\in (E, d_{\\text{model}})$ be the edge-level embeddings of the backbone.\n",
    "\n",
    "$N$ is the number of nodes, $E$ is the number of edges, and $d_{\\text{model}}$ is the model embedding dimension.\n",
    "\n",
    "## Energy Prediction\n",
    "\n",
    "$$\n",
    "\\begin{align*}\n",
    "\\hat{E}_i &= \\text{MLP}_{d_{\\text{model}} \\rightarrow 1}(h_i), \\hat{E}_i \\in \\mathbb{R}^{N \\times 1} \\\\\n",
    "\\hat{E} &= \\sum_{i=1}^N \\hat{E}_i \\\\\n",
    "\\end{align*}\n",
    "$$\n",
    "\n",
    "## Force Prediction\n",
    "\n",
    "$$\n",
    "\\begin{align*}\n",
    "\\hat{F}_{st} &= \\text{MLP}_{d_{\\text{model}} \\rightarrow 1}(m_i), \\hat{F}_{st} \\in \\mathbb{R}^{E \\times 1} \\\\\n",
    "\\hat{F}_i &= \\sum_{s \\in \\text{neigh}(i)} \\hat{F}_{si} \\vec{r}_{st}, \\hat{F}_i \\in \\mathbb{R}^{N \\times 3} \\\\\n",
    "\\end{align*}\n",
    "$$\n",
    "\n",
    "## Stress Prediction (irrep0)\n",
    "\n",
    "$$\n",
    "\\begin{align*}\n",
    "\\hat{S}^{(0)}_{st} &= \\text{MLP}_{d_{\\text{model}} \\rightarrow 1}(m_i), \\hat{S}^{(0)}_{st} \\in \\mathbb{R}^{E \\times 1} \\\\\n",
    "\\hat{S}^{(0)}_i &= \\sum_{s \\in \\text{neigh}(i)} \\hat{S}^{(0)}_{si}, \\hat{S}^{(0)}_i \\in \\mathbb{R}^{N \\times 1} \\\\\n",
    "\\hat{S}^{(0)} &= \\sum_{i=1}^N \\hat{S}^{(0)}_i, \\hat{S}^{(0)} \\in \\mathbb{R}^{1 \\times 1} \\\\\n",
    "\\end{align*}\n",
    "$$\n",
    "\n",
    "## Stress Prediction (irrep2)\n",
    "\n",
    "$$\n",
    "\\begin{align*}\n",
    "\\hat{S}^{(2)}_{st} &= \\text{MLP}_{d_{\\text{model}} \\rightarrow 1}(m_i), \\hat{S}^{(2)}_{st} \\in \\mathbb{R}^{E \\times 1} \\\\\n",
    "\\hat{S}^{(2)}_i &= \\sum_{s \\in \\text{neigh}(i)} \\hat{S}^{(2)}_{si} Y^{2}(\\vec{r}_{st}), \\hat{S}^{(2)}_i \\in \\mathbb{R}^{N \\times 5} \\\\\n",
    "\\hat{S}^{(2)} &= \\sum_{i=1}^N \\hat{S}^{(2)}_i, \\hat{S}^{(2)} \\in \\mathbb{R}^{1 \\times 5} \\\\\n",
    "\\end{align*}\n",
    "$$\n",
    "\n",
    "## Stress = Stress Prediction (irrep0) + Zeros (irrep1) + Stress Prediction (irrep2)\n",
    "\n",
    "$$\n",
    "\\begin{align*}\n",
    "\\hat{S}^{(1)} &= \\left[ 0, ..., 0 \\right], \\hat{S}^{(1)} \\in \\mathbb{R}^{1 \\times 3} \\\\\n",
    "\\hat{S} &= \\left[ \\hat{S}^{(0)} \\mathbin\\Vert \\hat{S}^{(1)} \\mathbin\\Vert \\hat{S}^{(2)} \\right], \\hat{S} \\in \\mathbb{R}^{1 \\times 9} \\\\\n",
    "\\hat{S} &= \\hat{S} \\text{CG}, \\hat{S} \\in \\mathbb{R}^{1 \\times 3 \\times 3} \\\\\n",
    "\\end{align*}\n",
    "$$"
   ]
  }
 ],
 "metadata": {
  "language_info": {
   "name": "python"
  }
 },
 "nbformat": 4,
 "nbformat_minor": 2
}
