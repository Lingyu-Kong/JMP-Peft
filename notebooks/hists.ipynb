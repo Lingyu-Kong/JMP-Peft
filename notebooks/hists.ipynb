{
 "cells": [
  {
   "cell_type": "code",
   "execution_count": 34,
   "metadata": {},
   "outputs": [
    {
     "data": {
      "text/plain": [
       "Dataset({\n",
       "    features: ['numbers', 'positions', 'forces', 'cell', 'pbc', 'energy', 'stress', 'e_per_atom_relaxed', 'mp_id', 'energy_per_atom', 'ef_per_atom_relaxed', 'corrected_total_energy', 'ef_per_atom', 'task_id', 'calc_id', 'ionic_step', 'filename', 'extxyz_id', 'num_atoms', 'corrected_total_energy_relaxed', 'energy_referenced', 'corrected_total_energy_referenced', 'corrected_total_energy_relaxed_referenced', 'composition'],\n",
       "    num_rows: 1580395\n",
       "})"
      ]
     },
     "execution_count": 34,
     "metadata": {},
     "output_type": "execute_result"
    }
   ],
   "source": [
    "import datasets\n",
    "\n",
    "mptrj = datasets.load_dataset(\"nimashoghi/mptrj\", split=\"all\")\n",
    "mptrj.set_format(\"numpy\")\n",
    "mptrj"
   ]
  },
  {
   "cell_type": "code",
   "execution_count": 35,
   "metadata": {},
   "outputs": [
    {
     "data": {
      "text/plain": [
       "Dataset({\n",
       "    features: ['formula', 'n_sites', 'volume', 'uncorrected_energy', 'e_form_per_atom_wbm', 'e_above_hull_wbm', 'bandgap_pbe', 'wyckoff_spglib_initial_structure', 'uncorrected_energy_from_cse', 'e_correction_per_atom_mp2020', 'e_correction_per_atom_mp_legacy', 'e_form_per_atom_uncorrected', 'e_form_per_atom_mp2020_corrected', 'e_above_hull_mp2020_corrected_ppd_mp', 'site_stats_fingerprint_init_final_norm_diff', 'wyckoff_spglib', 'unique_prototype', 'formula_from_cse', 'initial_structure', 'id', 'material_id', 'frac_pos', 'cart_pos', 'pos', 'cell', 'num_atoms', 'atomic_numbers', 'composition'],\n",
       "    num_rows: 256963\n",
       "})"
      ]
     },
     "execution_count": 35,
     "metadata": {},
     "output_type": "execute_result"
    }
   ],
   "source": [
    "wbm = datasets.load_dataset(\"nimashoghi/wbm\", split=\"all\")\n",
    "wbm.set_format(\"numpy\")\n",
    "wbm"
   ]
  },
  {
   "cell_type": "code",
   "execution_count": 36,
   "metadata": {},
   "outputs": [
    {
     "data": {
      "application/vnd.jupyter.widget-view+json": {
       "model_id": "b5458b1414d441cc8eead0c085bf5867",
       "version_major": 2,
       "version_minor": 0
      },
      "text/plain": [
       "  0%|          | 0/75 [00:00<?, ?it/s]"
      ]
     },
     "metadata": {},
     "output_type": "display_data"
    },
    {
     "name": "stdout",
     "output_type": "stream",
     "text": [
      "(75, 120)\n"
     ]
    }
   ],
   "source": [
    "import pickle\n",
    "\n",
    "import numpy as np\n",
    "from tqdm.auto import tqdm\n",
    "\n",
    "\n",
    "def get_problematic_samples_compositions():\n",
    "    with open(\n",
    "        \"/net/csefiles/coc-fung-cluster/nima/shared/repositories/jmp-peft/notebooks/problematic_samples.relaxdata.pkl\",\n",
    "        \"rb\",\n",
    "    ) as f:\n",
    "        data = pickle.load(f)\n",
    "\n",
    "    return np.stack(\n",
    "        [np.bincount(x[\"atoms\"][0][\"numbers\"], minlength=120) for x in tqdm(data)],\n",
    "        axis=0,\n",
    "    )\n",
    "\n",
    "\n",
    "problematic_compositions = get_problematic_samples_compositions()\n",
    "print(problematic_compositions.shape)"
   ]
  },
  {
   "cell_type": "code",
   "execution_count": 37,
   "metadata": {},
   "outputs": [],
   "source": [
    "import matplotlib.pyplot as plt\n",
    "import seaborn as sns\n",
    "from tqdm.auto import trange\n",
    "\n",
    "sns.set_theme()\n",
    "\n",
    "\n",
    "def composition_to_idxs(composition: np.ndarray):\n",
    "    return np.repeat(np.arange(len(composition)), composition)\n",
    "\n",
    "\n",
    "def plot_compositions(compositions: list[tuple[str, np.ndarray]]):\n",
    "    fig, ax = plt.subplots(figsize=(10, 5))\n",
    "    for name, composition in compositions:\n",
    "        atomic_numbers_flat = np.concatenate(\n",
    "            [composition_to_idxs(composition[i]) for i in trange(len(composition))],\n",
    "            axis=0,\n",
    "        )\n",
    "        print(atomic_numbers_flat.shape)\n",
    "\n",
    "        sns.histplot(atomic_numbers_flat, ax=ax, label=name, stat=\"density\")\n",
    "\n",
    "    ax.set_xlabel(\"Atomic number\")\n",
    "    ax.set_ylabel(\"Density\")\n",
    "    ax.legend()\n",
    "\n",
    "    fig.tight_layout()\n",
    "\n",
    "\n",
    "# plot_compositions(\n",
    "#     [\n",
    "#         (\"mptrj\", mptrj[\"composition\"]),\n",
    "#         (\"wbm\", wbm[\"composition\"]),\n",
    "#         (\"problematic\", problematic_compositions),\n",
    "#     ]\n",
    "# )"
   ]
  },
  {
   "cell_type": "code",
   "execution_count": 39,
   "metadata": {},
   "outputs": [
    {
     "data": {
      "application/vnd.jupyter.widget-view+json": {
       "model_id": "8e930a5b849e4224bc431cd9e1a9624f",
       "version_major": 2,
       "version_minor": 0
      },
      "text/plain": [
       "  0%|          | 0/1580395 [00:00<?, ?it/s]"
      ]
     },
     "metadata": {},
     "output_type": "display_data"
    },
    {
     "name": "stdout",
     "output_type": "stream",
     "text": [
      "(49295660,)\n"
     ]
    },
    {
     "data": {
      "application/vnd.jupyter.widget-view+json": {
       "model_id": "3c7061b5f7c7432c86be21805031a474",
       "version_major": 2,
       "version_minor": 0
      },
      "text/plain": [
       "  0%|          | 0/256963 [00:00<?, ?it/s]"
      ]
     },
     "metadata": {},
     "output_type": "display_data"
    },
    {
     "name": "stdout",
     "output_type": "stream",
     "text": [
      "(1994133,)\n"
     ]
    },
    {
     "data": {
      "application/vnd.jupyter.widget-view+json": {
       "model_id": "8c068c545f5848179ad1362c8cf42669",
       "version_major": 2,
       "version_minor": 0
      },
      "text/plain": [
       "  0%|          | 0/75 [00:00<?, ?it/s]"
      ]
     },
     "metadata": {},
     "output_type": "display_data"
    },
    {
     "name": "stdout",
     "output_type": "stream",
     "text": [
      "(509,)\n"
     ]
    },
    {
     "data": {
      "application/vnd.plotly.v1+json": {
       "config": {
        "plotlyServerURL": "https://plot.ly"
       },
       "data": [
        {
         "name": "mptrj",
         "type": "bar",
         "x": [
          -0.5,
          0.5,
          1.5,
          2.5,
          3.5,
          4.5,
          5.5,
          6.5,
          7.5,
          8.5,
          9.5,
          10.5,
          11.5,
          12.5,
          13.5,
          14.5,
          15.5,
          16.5,
          17.5,
          18.5,
          19.5,
          20.5,
          21.5,
          22.5,
          23.5,
          24.5,
          25.5,
          26.5,
          27.5,
          28.5,
          29.5,
          30.5,
          31.5,
          32.5,
          33.5,
          34.5,
          35.5,
          36.5,
          37.5,
          38.5,
          39.5,
          40.5,
          41.5,
          42.5,
          43.5,
          44.5,
          45.5,
          46.5,
          47.5,
          48.5,
          49.5,
          50.5,
          51.5,
          52.5,
          53.5,
          54.5,
          55.5,
          56.5,
          57.5,
          58.5,
          59.5,
          60.5,
          61.5,
          62.5,
          63.5,
          64.5,
          65.5,
          66.5,
          67.5,
          68.5,
          69.5,
          70.5,
          71.5,
          72.5,
          73.5,
          74.5,
          75.5,
          76.5,
          77.5,
          78.5,
          79.5,
          80.5,
          81.5,
          82.5,
          83.5,
          84.5,
          85.5,
          86.5,
          87.5,
          88.5,
          89.5,
          90.5,
          91.5,
          92.5,
          93.5
         ],
         "y": [
          0,
          0.06131984032671436,
          0.000007992590017052211,
          0.025494029291828126,
          0.0014498842291593215,
          0.01366661892750802,
          0.0215473126843215,
          0.025765777352407898,
          0.36984840044742273,
          0.037590733139590785,
          1.4200033025219666e-7,
          0.011465410950984327,
          0.025080382329803474,
          0.012318609792423918,
          0.021198458444414783,
          0.026102277563582677,
          0.03390304542022563,
          0.01910663129370821,
          3.854294678273909e-7,
          0.009444198535936024,
          0.008777141841695597,
          0.0018682172020822929,
          0.00770088076719127,
          0.009816563973380212,
          0.005298762609122183,
          0.013524010024411885,
          0.015165858414310712,
          0.00938257039260657,
          0.007080927611071644,
          0.008988681762248442,
          0.007497576865793053,
          0.005412018015379041,
          0.00569167752293001,
          0.005564222083647932,
          0.014911312679452917,
          0.007685625874569891,
          0.000022679481317422263,
          0.004753197340293243,
          0.006898234043321461,
          0.0034435688659001625,
          0.0034519265996235775,
          0.00492607259949456,
          0.006142832857902704,
          0.00033361963304680373,
          0.001842170284361747,
          0.002078012547149181,
          0.002416541334470418,
          0.0041636728263705165,
          0.0032276675066324296,
          0.0031203355427232337,
          0.005686058367004317,
          0.006597761344507813,
          0.007227005379378225,
          0.007677633284552839,
          0.0002572437411325865,
          0.003811735150721179,
          0.007652052939345979,
          0.005063021775142071,
          0.0028170228373045414,
          0.002526774162269052,
          0.002929243669726706,
          0.00012374314493405708,
          0.0022226297406303113,
          0.0013381096834893782,
          0.0011761887354789448,
          0.0018718686391459207,
          0.0017407820485616787,
          0.001709866548089629,
          0.001858074321349993,
          0.001195784781053748,
          0.002101807745347156,
          0.001147301811153355,
          0.0015736679456163079,
          0.003092807764415772,
          0.004040335396665751,
          0.0016174649046183781,
          0.000870989454244045,
          0.0014143638608348078,
          0.0018899229668494144,
          0.0017906850217645936,
          0.0026671922031270097,
          0.0026698496378788723,
          0.0036150646933218867,
          0.005876906810863268,
          0,
          0,
          0,
          0,
          0,
          0.00006511729430136447,
          0.0007281574077717998,
          0.00006134414266894895,
          0.0022429155020949106,
          0.0002333268283658237,
          0.0003214684619295086
         ]
        },
        {
         "name": "wbm",
         "type": "bar",
         "x": [
          -0.5,
          0.5,
          1.5,
          2.5,
          3.5,
          4.5,
          5.5,
          6.5,
          7.5,
          8.5,
          9.5,
          10.5,
          11.5,
          12.5,
          13.5,
          14.5,
          15.5,
          16.5,
          17.5,
          18.5,
          19.5,
          20.5,
          21.5,
          22.5,
          23.5,
          24.5,
          25.5,
          26.5,
          27.5,
          28.5,
          29.5,
          30.5,
          31.5,
          32.5,
          33.5,
          34.5,
          35.5,
          36.5,
          37.5,
          38.5,
          39.5,
          40.5,
          41.5,
          42.5,
          43.5,
          44.5,
          45.5,
          46.5,
          47.5,
          48.5,
          49.5,
          50.5,
          51.5,
          52.5,
          53.5,
          54.5,
          55.5,
          56.5,
          57.5,
          58.5,
          59.5,
          60.5,
          61.5,
          62.5,
          63.5,
          64.5,
          65.5,
          66.5,
          67.5,
          68.5,
          69.5,
          70.5,
          71.5,
          72.5,
          73.5,
          74.5,
          75.5,
          76.5,
          77.5,
          78.5,
          79.5,
          80.5,
          81.5,
          82.5,
          83.5,
          84.5,
          85.5,
          86.5,
          87.5,
          88.5,
          89.5,
          90.5,
          91.5,
          92.5,
          93.5
         ],
         "y": [
          0,
          0.011826693605692298,
          0,
          0.007177555358644584,
          0.0009974259490214544,
          0.010961154546863224,
          0.006859121232134466,
          0.014000069203007021,
          0.07522717892938936,
          0.028990042289054944,
          0,
          0.006806466770270588,
          0.012788515109072465,
          0.02782412206206908,
          0.02394474190036472,
          0.013000135898658715,
          0.021670570618910576,
          0.013073852145268143,
          0,
          0.009002408565526974,
          0.01088041770533861,
          0.009293763254507096,
          0.007863066305005734,
          0.006071310188437783,
          0.007719645580309839,
          0.016615240808912947,
          0.02235357420994487,
          0.019065929905377425,
          0.023765215258962167,
          0.021801956038037584,
          0.016133828586157493,
          0.022740208401345347,
          0.02496724140265469,
          0.013829569040781132,
          0.021157064247971424,
          0.011385399068166466,
          0,
          0.008466837467711532,
          0.011196845947587247,
          0.009800750501596433,
          0.009192466099302304,
          0.0065818077329847105,
          0.0019767989396895793,
          0.0008204066629457513,
          0.013282965579527545,
          0.019290087471597932,
          0.018940562139034858,
          0.007963360518079787,
          0.00911172925777769,
          0.02211988869348233,
          0.02206322246309549,
          0.010178358213820241,
          0.013961957402038882,
          0.00821760634822251,
          0.0000010029421307405273,
          0.007372627603073617,
          0.010621658635607555,
          0.009387538343731336,
          0.00802453998805496,
          0.008713059760808332,
          0.008637337629937422,
          0.0007331506975713255,
          0.008636836158872051,
          0.005256921178276474,
          0.004744919220533435,
          0.00964328858707017,
          0.009346417716370974,
          0.008963293822428093,
          0.008879548154511259,
          0.009519425233923715,
          0.009953197705468993,
          0.006343608976933836,
          0.007562685136848947,
          0.005593909734205291,
          0.0018860326768575617,
          0.002096149053247702,
          0.006795434406832443,
          0.013600396763906921,
          0.01938135520549532,
          0.014286409181333441,
          0.00526945795491073,
          0.008510966921464115,
          0.010031928662732125,
          0.006430363471242891,
          0,
          0,
          0,
          0,
          0,
          0.0009342405947848012,
          0.008998898268069381,
          0.002031459285814938,
          0.007171537705860141,
          0.005103471032273174,
          0.006577795964461748
         ]
        },
        {
         "name": "problematic",
         "type": "bar",
         "x": [
          -0.5,
          0.5,
          1.5,
          2.5,
          3.5,
          4.5,
          5.5,
          6.5,
          7.5,
          8.5,
          9.5,
          10.5,
          11.5,
          12.5,
          13.5,
          14.5,
          15.5,
          16.5,
          17.5,
          18.5,
          19.5,
          20.5,
          21.5,
          22.5,
          23.5,
          24.5,
          25.5,
          26.5,
          27.5,
          28.5,
          29.5,
          30.5,
          31.5,
          32.5,
          33.5,
          34.5,
          35.5,
          36.5,
          37.5,
          38.5,
          39.5,
          40.5,
          41.5,
          42.5,
          43.5,
          44.5,
          45.5,
          46.5,
          47.5,
          48.5,
          49.5,
          50.5,
          51.5,
          52.5,
          53.5,
          54.5,
          55.5,
          56.5,
          57.5,
          58.5,
          59.5,
          60.5,
          61.5,
          62.5,
          63.5,
          64.5,
          65.5,
          66.5,
          67.5,
          68.5,
          69.5,
          70.5,
          71.5,
          72.5,
          73.5,
          74.5,
          75.5,
          76.5,
          77.5,
          78.5,
          79.5,
          80.5,
          81.5,
          82.5,
          83.5,
          84.5,
          85.5,
          86.5,
          87.5,
          88.5,
          89.5,
          90.5,
          91.5,
          92.5,
          93.5
         ],
         "y": [
          0,
          0.003929273084479371,
          0,
          0.003929273084479371,
          0.003929273084479371,
          0.005893909626719057,
          0.011787819253438114,
          0.011787819253438114,
          0.07858546168958742,
          0,
          0,
          0.003929273084479371,
          0.0019646365422396855,
          0.011787819253438114,
          0.005893909626719057,
          0.023575638506876228,
          0.0275049115913556,
          0.01768172888015717,
          0,
          0.007858546168958742,
          0.003929273084479371,
          0.003929273084479371,
          0.015717092337917484,
          0.011787819253438114,
          0.011787819253438114,
          0.0412573673870334,
          0.021611001964636542,
          0.029469548133595286,
          0.011787819253438114,
          0.003929273084479371,
          0.01768172888015717,
          0.0137524557956778,
          0.03536345776031434,
          0.023575638506876228,
          0.003929273084479371,
          0.03536345776031434,
          0,
          0.0137524557956778,
          0.005893909626719057,
          0,
          0.0019646365422396855,
          0,
          0,
          0,
          0.019646365422396856,
          0.029469548133595286,
          0.011787819253438114,
          0.003929273084479371,
          0.0019646365422396855,
          0.007858546168958742,
          0.021611001964636542,
          0.015717092337917484,
          0.04518664047151277,
          0,
          0,
          0.005893909626719057,
          0.009823182711198428,
          0.0019646365422396855,
          0.003929273084479371,
          0.003929273084479371,
          0.003929273084479371,
          0,
          0.007858546168958742,
          0.011787819253438114,
          0.0019646365422396855,
          0.005893909626719057,
          0.01768172888015717,
          0.005893909626719057,
          0.019646365422396856,
          0.005893909626719057,
          0.011787819253438114,
          0,
          0.015717092337917484,
          0.0019646365422396855,
          0.003929273084479371,
          0.0019646365422396855,
          0.011787819253438114,
          0.011787819253438114,
          0.009823182711198428,
          0.005893909626719057,
          0.003929273084479371,
          0.011787819253438114,
          0.005893909626719057,
          0,
          0,
          0,
          0,
          0,
          0,
          0.003929273084479371,
          0.009823182711198428,
          0.003929273084479371,
          0.015717092337917484,
          0.03536345776031434,
          0.04518664047151277
         ]
        }
       ],
       "layout": {
        "bargap": 0.1,
        "bargroupgap": 0.05,
        "barmode": "group",
        "height": 600,
        "legend": {
         "title": {
          "text": "Compositions"
         }
        },
        "shapes": [
         {
          "line": {
           "color": "gray",
           "dash": "dash",
           "width": 1
          },
          "type": "line",
          "x0": 0,
          "x1": 0,
          "xref": "x",
          "y0": 0,
          "y1": 1,
          "yref": "y domain"
         },
         {
          "line": {
           "color": "gray",
           "dash": "dash",
           "width": 1
          },
          "type": "line",
          "x0": 1,
          "x1": 1,
          "xref": "x",
          "y0": 0,
          "y1": 1,
          "yref": "y domain"
         },
         {
          "line": {
           "color": "gray",
           "dash": "dash",
           "width": 1
          },
          "type": "line",
          "x0": 2,
          "x1": 2,
          "xref": "x",
          "y0": 0,
          "y1": 1,
          "yref": "y domain"
         },
         {
          "line": {
           "color": "gray",
           "dash": "dash",
           "width": 1
          },
          "type": "line",
          "x0": 3,
          "x1": 3,
          "xref": "x",
          "y0": 0,
          "y1": 1,
          "yref": "y domain"
         },
         {
          "line": {
           "color": "gray",
           "dash": "dash",
           "width": 1
          },
          "type": "line",
          "x0": 4,
          "x1": 4,
          "xref": "x",
          "y0": 0,
          "y1": 1,
          "yref": "y domain"
         },
         {
          "line": {
           "color": "gray",
           "dash": "dash",
           "width": 1
          },
          "type": "line",
          "x0": 5,
          "x1": 5,
          "xref": "x",
          "y0": 0,
          "y1": 1,
          "yref": "y domain"
         },
         {
          "line": {
           "color": "gray",
           "dash": "dash",
           "width": 1
          },
          "type": "line",
          "x0": 6,
          "x1": 6,
          "xref": "x",
          "y0": 0,
          "y1": 1,
          "yref": "y domain"
         },
         {
          "line": {
           "color": "gray",
           "dash": "dash",
           "width": 1
          },
          "type": "line",
          "x0": 7,
          "x1": 7,
          "xref": "x",
          "y0": 0,
          "y1": 1,
          "yref": "y domain"
         },
         {
          "line": {
           "color": "gray",
           "dash": "dash",
           "width": 1
          },
          "type": "line",
          "x0": 8,
          "x1": 8,
          "xref": "x",
          "y0": 0,
          "y1": 1,
          "yref": "y domain"
         },
         {
          "line": {
           "color": "gray",
           "dash": "dash",
           "width": 1
          },
          "type": "line",
          "x0": 9,
          "x1": 9,
          "xref": "x",
          "y0": 0,
          "y1": 1,
          "yref": "y domain"
         },
         {
          "line": {
           "color": "gray",
           "dash": "dash",
           "width": 1
          },
          "type": "line",
          "x0": 10,
          "x1": 10,
          "xref": "x",
          "y0": 0,
          "y1": 1,
          "yref": "y domain"
         },
         {
          "line": {
           "color": "gray",
           "dash": "dash",
           "width": 1
          },
          "type": "line",
          "x0": 11,
          "x1": 11,
          "xref": "x",
          "y0": 0,
          "y1": 1,
          "yref": "y domain"
         },
         {
          "line": {
           "color": "gray",
           "dash": "dash",
           "width": 1
          },
          "type": "line",
          "x0": 12,
          "x1": 12,
          "xref": "x",
          "y0": 0,
          "y1": 1,
          "yref": "y domain"
         },
         {
          "line": {
           "color": "gray",
           "dash": "dash",
           "width": 1
          },
          "type": "line",
          "x0": 13,
          "x1": 13,
          "xref": "x",
          "y0": 0,
          "y1": 1,
          "yref": "y domain"
         },
         {
          "line": {
           "color": "gray",
           "dash": "dash",
           "width": 1
          },
          "type": "line",
          "x0": 14,
          "x1": 14,
          "xref": "x",
          "y0": 0,
          "y1": 1,
          "yref": "y domain"
         },
         {
          "line": {
           "color": "gray",
           "dash": "dash",
           "width": 1
          },
          "type": "line",
          "x0": 15,
          "x1": 15,
          "xref": "x",
          "y0": 0,
          "y1": 1,
          "yref": "y domain"
         },
         {
          "line": {
           "color": "gray",
           "dash": "dash",
           "width": 1
          },
          "type": "line",
          "x0": 16,
          "x1": 16,
          "xref": "x",
          "y0": 0,
          "y1": 1,
          "yref": "y domain"
         },
         {
          "line": {
           "color": "gray",
           "dash": "dash",
           "width": 1
          },
          "type": "line",
          "x0": 17,
          "x1": 17,
          "xref": "x",
          "y0": 0,
          "y1": 1,
          "yref": "y domain"
         },
         {
          "line": {
           "color": "gray",
           "dash": "dash",
           "width": 1
          },
          "type": "line",
          "x0": 18,
          "x1": 18,
          "xref": "x",
          "y0": 0,
          "y1": 1,
          "yref": "y domain"
         },
         {
          "line": {
           "color": "gray",
           "dash": "dash",
           "width": 1
          },
          "type": "line",
          "x0": 19,
          "x1": 19,
          "xref": "x",
          "y0": 0,
          "y1": 1,
          "yref": "y domain"
         },
         {
          "line": {
           "color": "gray",
           "dash": "dash",
           "width": 1
          },
          "type": "line",
          "x0": 20,
          "x1": 20,
          "xref": "x",
          "y0": 0,
          "y1": 1,
          "yref": "y domain"
         },
         {
          "line": {
           "color": "gray",
           "dash": "dash",
           "width": 1
          },
          "type": "line",
          "x0": 21,
          "x1": 21,
          "xref": "x",
          "y0": 0,
          "y1": 1,
          "yref": "y domain"
         },
         {
          "line": {
           "color": "gray",
           "dash": "dash",
           "width": 1
          },
          "type": "line",
          "x0": 22,
          "x1": 22,
          "xref": "x",
          "y0": 0,
          "y1": 1,
          "yref": "y domain"
         },
         {
          "line": {
           "color": "gray",
           "dash": "dash",
           "width": 1
          },
          "type": "line",
          "x0": 23,
          "x1": 23,
          "xref": "x",
          "y0": 0,
          "y1": 1,
          "yref": "y domain"
         },
         {
          "line": {
           "color": "gray",
           "dash": "dash",
           "width": 1
          },
          "type": "line",
          "x0": 24,
          "x1": 24,
          "xref": "x",
          "y0": 0,
          "y1": 1,
          "yref": "y domain"
         },
         {
          "line": {
           "color": "gray",
           "dash": "dash",
           "width": 1
          },
          "type": "line",
          "x0": 25,
          "x1": 25,
          "xref": "x",
          "y0": 0,
          "y1": 1,
          "yref": "y domain"
         },
         {
          "line": {
           "color": "gray",
           "dash": "dash",
           "width": 1
          },
          "type": "line",
          "x0": 26,
          "x1": 26,
          "xref": "x",
          "y0": 0,
          "y1": 1,
          "yref": "y domain"
         },
         {
          "line": {
           "color": "gray",
           "dash": "dash",
           "width": 1
          },
          "type": "line",
          "x0": 27,
          "x1": 27,
          "xref": "x",
          "y0": 0,
          "y1": 1,
          "yref": "y domain"
         },
         {
          "line": {
           "color": "gray",
           "dash": "dash",
           "width": 1
          },
          "type": "line",
          "x0": 28,
          "x1": 28,
          "xref": "x",
          "y0": 0,
          "y1": 1,
          "yref": "y domain"
         },
         {
          "line": {
           "color": "gray",
           "dash": "dash",
           "width": 1
          },
          "type": "line",
          "x0": 29,
          "x1": 29,
          "xref": "x",
          "y0": 0,
          "y1": 1,
          "yref": "y domain"
         },
         {
          "line": {
           "color": "gray",
           "dash": "dash",
           "width": 1
          },
          "type": "line",
          "x0": 30,
          "x1": 30,
          "xref": "x",
          "y0": 0,
          "y1": 1,
          "yref": "y domain"
         },
         {
          "line": {
           "color": "gray",
           "dash": "dash",
           "width": 1
          },
          "type": "line",
          "x0": 31,
          "x1": 31,
          "xref": "x",
          "y0": 0,
          "y1": 1,
          "yref": "y domain"
         },
         {
          "line": {
           "color": "gray",
           "dash": "dash",
           "width": 1
          },
          "type": "line",
          "x0": 32,
          "x1": 32,
          "xref": "x",
          "y0": 0,
          "y1": 1,
          "yref": "y domain"
         },
         {
          "line": {
           "color": "gray",
           "dash": "dash",
           "width": 1
          },
          "type": "line",
          "x0": 33,
          "x1": 33,
          "xref": "x",
          "y0": 0,
          "y1": 1,
          "yref": "y domain"
         },
         {
          "line": {
           "color": "gray",
           "dash": "dash",
           "width": 1
          },
          "type": "line",
          "x0": 34,
          "x1": 34,
          "xref": "x",
          "y0": 0,
          "y1": 1,
          "yref": "y domain"
         },
         {
          "line": {
           "color": "gray",
           "dash": "dash",
           "width": 1
          },
          "type": "line",
          "x0": 35,
          "x1": 35,
          "xref": "x",
          "y0": 0,
          "y1": 1,
          "yref": "y domain"
         },
         {
          "line": {
           "color": "gray",
           "dash": "dash",
           "width": 1
          },
          "type": "line",
          "x0": 36,
          "x1": 36,
          "xref": "x",
          "y0": 0,
          "y1": 1,
          "yref": "y domain"
         },
         {
          "line": {
           "color": "gray",
           "dash": "dash",
           "width": 1
          },
          "type": "line",
          "x0": 37,
          "x1": 37,
          "xref": "x",
          "y0": 0,
          "y1": 1,
          "yref": "y domain"
         },
         {
          "line": {
           "color": "gray",
           "dash": "dash",
           "width": 1
          },
          "type": "line",
          "x0": 38,
          "x1": 38,
          "xref": "x",
          "y0": 0,
          "y1": 1,
          "yref": "y domain"
         },
         {
          "line": {
           "color": "gray",
           "dash": "dash",
           "width": 1
          },
          "type": "line",
          "x0": 39,
          "x1": 39,
          "xref": "x",
          "y0": 0,
          "y1": 1,
          "yref": "y domain"
         },
         {
          "line": {
           "color": "gray",
           "dash": "dash",
           "width": 1
          },
          "type": "line",
          "x0": 40,
          "x1": 40,
          "xref": "x",
          "y0": 0,
          "y1": 1,
          "yref": "y domain"
         },
         {
          "line": {
           "color": "gray",
           "dash": "dash",
           "width": 1
          },
          "type": "line",
          "x0": 41,
          "x1": 41,
          "xref": "x",
          "y0": 0,
          "y1": 1,
          "yref": "y domain"
         },
         {
          "line": {
           "color": "gray",
           "dash": "dash",
           "width": 1
          },
          "type": "line",
          "x0": 42,
          "x1": 42,
          "xref": "x",
          "y0": 0,
          "y1": 1,
          "yref": "y domain"
         },
         {
          "line": {
           "color": "gray",
           "dash": "dash",
           "width": 1
          },
          "type": "line",
          "x0": 43,
          "x1": 43,
          "xref": "x",
          "y0": 0,
          "y1": 1,
          "yref": "y domain"
         },
         {
          "line": {
           "color": "gray",
           "dash": "dash",
           "width": 1
          },
          "type": "line",
          "x0": 44,
          "x1": 44,
          "xref": "x",
          "y0": 0,
          "y1": 1,
          "yref": "y domain"
         },
         {
          "line": {
           "color": "gray",
           "dash": "dash",
           "width": 1
          },
          "type": "line",
          "x0": 45,
          "x1": 45,
          "xref": "x",
          "y0": 0,
          "y1": 1,
          "yref": "y domain"
         },
         {
          "line": {
           "color": "gray",
           "dash": "dash",
           "width": 1
          },
          "type": "line",
          "x0": 46,
          "x1": 46,
          "xref": "x",
          "y0": 0,
          "y1": 1,
          "yref": "y domain"
         },
         {
          "line": {
           "color": "gray",
           "dash": "dash",
           "width": 1
          },
          "type": "line",
          "x0": 47,
          "x1": 47,
          "xref": "x",
          "y0": 0,
          "y1": 1,
          "yref": "y domain"
         },
         {
          "line": {
           "color": "gray",
           "dash": "dash",
           "width": 1
          },
          "type": "line",
          "x0": 48,
          "x1": 48,
          "xref": "x",
          "y0": 0,
          "y1": 1,
          "yref": "y domain"
         },
         {
          "line": {
           "color": "gray",
           "dash": "dash",
           "width": 1
          },
          "type": "line",
          "x0": 49,
          "x1": 49,
          "xref": "x",
          "y0": 0,
          "y1": 1,
          "yref": "y domain"
         },
         {
          "line": {
           "color": "gray",
           "dash": "dash",
           "width": 1
          },
          "type": "line",
          "x0": 50,
          "x1": 50,
          "xref": "x",
          "y0": 0,
          "y1": 1,
          "yref": "y domain"
         },
         {
          "line": {
           "color": "gray",
           "dash": "dash",
           "width": 1
          },
          "type": "line",
          "x0": 51,
          "x1": 51,
          "xref": "x",
          "y0": 0,
          "y1": 1,
          "yref": "y domain"
         },
         {
          "line": {
           "color": "gray",
           "dash": "dash",
           "width": 1
          },
          "type": "line",
          "x0": 52,
          "x1": 52,
          "xref": "x",
          "y0": 0,
          "y1": 1,
          "yref": "y domain"
         },
         {
          "line": {
           "color": "gray",
           "dash": "dash",
           "width": 1
          },
          "type": "line",
          "x0": 53,
          "x1": 53,
          "xref": "x",
          "y0": 0,
          "y1": 1,
          "yref": "y domain"
         },
         {
          "line": {
           "color": "gray",
           "dash": "dash",
           "width": 1
          },
          "type": "line",
          "x0": 54,
          "x1": 54,
          "xref": "x",
          "y0": 0,
          "y1": 1,
          "yref": "y domain"
         },
         {
          "line": {
           "color": "gray",
           "dash": "dash",
           "width": 1
          },
          "type": "line",
          "x0": 55,
          "x1": 55,
          "xref": "x",
          "y0": 0,
          "y1": 1,
          "yref": "y domain"
         },
         {
          "line": {
           "color": "gray",
           "dash": "dash",
           "width": 1
          },
          "type": "line",
          "x0": 56,
          "x1": 56,
          "xref": "x",
          "y0": 0,
          "y1": 1,
          "yref": "y domain"
         },
         {
          "line": {
           "color": "gray",
           "dash": "dash",
           "width": 1
          },
          "type": "line",
          "x0": 57,
          "x1": 57,
          "xref": "x",
          "y0": 0,
          "y1": 1,
          "yref": "y domain"
         },
         {
          "line": {
           "color": "gray",
           "dash": "dash",
           "width": 1
          },
          "type": "line",
          "x0": 58,
          "x1": 58,
          "xref": "x",
          "y0": 0,
          "y1": 1,
          "yref": "y domain"
         },
         {
          "line": {
           "color": "gray",
           "dash": "dash",
           "width": 1
          },
          "type": "line",
          "x0": 59,
          "x1": 59,
          "xref": "x",
          "y0": 0,
          "y1": 1,
          "yref": "y domain"
         },
         {
          "line": {
           "color": "gray",
           "dash": "dash",
           "width": 1
          },
          "type": "line",
          "x0": 60,
          "x1": 60,
          "xref": "x",
          "y0": 0,
          "y1": 1,
          "yref": "y domain"
         },
         {
          "line": {
           "color": "gray",
           "dash": "dash",
           "width": 1
          },
          "type": "line",
          "x0": 61,
          "x1": 61,
          "xref": "x",
          "y0": 0,
          "y1": 1,
          "yref": "y domain"
         },
         {
          "line": {
           "color": "gray",
           "dash": "dash",
           "width": 1
          },
          "type": "line",
          "x0": 62,
          "x1": 62,
          "xref": "x",
          "y0": 0,
          "y1": 1,
          "yref": "y domain"
         },
         {
          "line": {
           "color": "gray",
           "dash": "dash",
           "width": 1
          },
          "type": "line",
          "x0": 63,
          "x1": 63,
          "xref": "x",
          "y0": 0,
          "y1": 1,
          "yref": "y domain"
         },
         {
          "line": {
           "color": "gray",
           "dash": "dash",
           "width": 1
          },
          "type": "line",
          "x0": 64,
          "x1": 64,
          "xref": "x",
          "y0": 0,
          "y1": 1,
          "yref": "y domain"
         },
         {
          "line": {
           "color": "gray",
           "dash": "dash",
           "width": 1
          },
          "type": "line",
          "x0": 65,
          "x1": 65,
          "xref": "x",
          "y0": 0,
          "y1": 1,
          "yref": "y domain"
         },
         {
          "line": {
           "color": "gray",
           "dash": "dash",
           "width": 1
          },
          "type": "line",
          "x0": 66,
          "x1": 66,
          "xref": "x",
          "y0": 0,
          "y1": 1,
          "yref": "y domain"
         },
         {
          "line": {
           "color": "gray",
           "dash": "dash",
           "width": 1
          },
          "type": "line",
          "x0": 67,
          "x1": 67,
          "xref": "x",
          "y0": 0,
          "y1": 1,
          "yref": "y domain"
         },
         {
          "line": {
           "color": "gray",
           "dash": "dash",
           "width": 1
          },
          "type": "line",
          "x0": 68,
          "x1": 68,
          "xref": "x",
          "y0": 0,
          "y1": 1,
          "yref": "y domain"
         },
         {
          "line": {
           "color": "gray",
           "dash": "dash",
           "width": 1
          },
          "type": "line",
          "x0": 69,
          "x1": 69,
          "xref": "x",
          "y0": 0,
          "y1": 1,
          "yref": "y domain"
         },
         {
          "line": {
           "color": "gray",
           "dash": "dash",
           "width": 1
          },
          "type": "line",
          "x0": 70,
          "x1": 70,
          "xref": "x",
          "y0": 0,
          "y1": 1,
          "yref": "y domain"
         },
         {
          "line": {
           "color": "gray",
           "dash": "dash",
           "width": 1
          },
          "type": "line",
          "x0": 71,
          "x1": 71,
          "xref": "x",
          "y0": 0,
          "y1": 1,
          "yref": "y domain"
         },
         {
          "line": {
           "color": "gray",
           "dash": "dash",
           "width": 1
          },
          "type": "line",
          "x0": 72,
          "x1": 72,
          "xref": "x",
          "y0": 0,
          "y1": 1,
          "yref": "y domain"
         },
         {
          "line": {
           "color": "gray",
           "dash": "dash",
           "width": 1
          },
          "type": "line",
          "x0": 73,
          "x1": 73,
          "xref": "x",
          "y0": 0,
          "y1": 1,
          "yref": "y domain"
         },
         {
          "line": {
           "color": "gray",
           "dash": "dash",
           "width": 1
          },
          "type": "line",
          "x0": 74,
          "x1": 74,
          "xref": "x",
          "y0": 0,
          "y1": 1,
          "yref": "y domain"
         },
         {
          "line": {
           "color": "gray",
           "dash": "dash",
           "width": 1
          },
          "type": "line",
          "x0": 75,
          "x1": 75,
          "xref": "x",
          "y0": 0,
          "y1": 1,
          "yref": "y domain"
         },
         {
          "line": {
           "color": "gray",
           "dash": "dash",
           "width": 1
          },
          "type": "line",
          "x0": 76,
          "x1": 76,
          "xref": "x",
          "y0": 0,
          "y1": 1,
          "yref": "y domain"
         },
         {
          "line": {
           "color": "gray",
           "dash": "dash",
           "width": 1
          },
          "type": "line",
          "x0": 77,
          "x1": 77,
          "xref": "x",
          "y0": 0,
          "y1": 1,
          "yref": "y domain"
         },
         {
          "line": {
           "color": "gray",
           "dash": "dash",
           "width": 1
          },
          "type": "line",
          "x0": 78,
          "x1": 78,
          "xref": "x",
          "y0": 0,
          "y1": 1,
          "yref": "y domain"
         },
         {
          "line": {
           "color": "gray",
           "dash": "dash",
           "width": 1
          },
          "type": "line",
          "x0": 79,
          "x1": 79,
          "xref": "x",
          "y0": 0,
          "y1": 1,
          "yref": "y domain"
         },
         {
          "line": {
           "color": "gray",
           "dash": "dash",
           "width": 1
          },
          "type": "line",
          "x0": 80,
          "x1": 80,
          "xref": "x",
          "y0": 0,
          "y1": 1,
          "yref": "y domain"
         },
         {
          "line": {
           "color": "gray",
           "dash": "dash",
           "width": 1
          },
          "type": "line",
          "x0": 81,
          "x1": 81,
          "xref": "x",
          "y0": 0,
          "y1": 1,
          "yref": "y domain"
         },
         {
          "line": {
           "color": "gray",
           "dash": "dash",
           "width": 1
          },
          "type": "line",
          "x0": 82,
          "x1": 82,
          "xref": "x",
          "y0": 0,
          "y1": 1,
          "yref": "y domain"
         },
         {
          "line": {
           "color": "gray",
           "dash": "dash",
           "width": 1
          },
          "type": "line",
          "x0": 83,
          "x1": 83,
          "xref": "x",
          "y0": 0,
          "y1": 1,
          "yref": "y domain"
         },
         {
          "line": {
           "color": "gray",
           "dash": "dash",
           "width": 1
          },
          "type": "line",
          "x0": 84,
          "x1": 84,
          "xref": "x",
          "y0": 0,
          "y1": 1,
          "yref": "y domain"
         },
         {
          "line": {
           "color": "gray",
           "dash": "dash",
           "width": 1
          },
          "type": "line",
          "x0": 85,
          "x1": 85,
          "xref": "x",
          "y0": 0,
          "y1": 1,
          "yref": "y domain"
         },
         {
          "line": {
           "color": "gray",
           "dash": "dash",
           "width": 1
          },
          "type": "line",
          "x0": 86,
          "x1": 86,
          "xref": "x",
          "y0": 0,
          "y1": 1,
          "yref": "y domain"
         },
         {
          "line": {
           "color": "gray",
           "dash": "dash",
           "width": 1
          },
          "type": "line",
          "x0": 87,
          "x1": 87,
          "xref": "x",
          "y0": 0,
          "y1": 1,
          "yref": "y domain"
         },
         {
          "line": {
           "color": "gray",
           "dash": "dash",
           "width": 1
          },
          "type": "line",
          "x0": 88,
          "x1": 88,
          "xref": "x",
          "y0": 0,
          "y1": 1,
          "yref": "y domain"
         },
         {
          "line": {
           "color": "gray",
           "dash": "dash",
           "width": 1
          },
          "type": "line",
          "x0": 89,
          "x1": 89,
          "xref": "x",
          "y0": 0,
          "y1": 1,
          "yref": "y domain"
         },
         {
          "line": {
           "color": "gray",
           "dash": "dash",
           "width": 1
          },
          "type": "line",
          "x0": 90,
          "x1": 90,
          "xref": "x",
          "y0": 0,
          "y1": 1,
          "yref": "y domain"
         },
         {
          "line": {
           "color": "gray",
           "dash": "dash",
           "width": 1
          },
          "type": "line",
          "x0": 91,
          "x1": 91,
          "xref": "x",
          "y0": 0,
          "y1": 1,
          "yref": "y domain"
         },
         {
          "line": {
           "color": "gray",
           "dash": "dash",
           "width": 1
          },
          "type": "line",
          "x0": 92,
          "x1": 92,
          "xref": "x",
          "y0": 0,
          "y1": 1,
          "yref": "y domain"
         },
         {
          "line": {
           "color": "gray",
           "dash": "dash",
           "width": 1
          },
          "type": "line",
          "x0": 93,
          "x1": 93,
          "xref": "x",
          "y0": 0,
          "y1": 1,
          "yref": "y domain"
         },
         {
          "line": {
           "color": "gray",
           "dash": "dash",
           "width": 1
          },
          "type": "line",
          "x0": 94,
          "x1": 94,
          "xref": "x",
          "y0": 0,
          "y1": 1,
          "yref": "y domain"
         }
        ],
        "template": {
         "data": {
          "bar": [
           {
            "error_x": {
             "color": "#2a3f5f"
            },
            "error_y": {
             "color": "#2a3f5f"
            },
            "marker": {
             "line": {
              "color": "#E5ECF6",
              "width": 0.5
             },
             "pattern": {
              "fillmode": "overlay",
              "size": 10,
              "solidity": 0.2
             }
            },
            "type": "bar"
           }
          ],
          "barpolar": [
           {
            "marker": {
             "line": {
              "color": "#E5ECF6",
              "width": 0.5
             },
             "pattern": {
              "fillmode": "overlay",
              "size": 10,
              "solidity": 0.2
             }
            },
            "type": "barpolar"
           }
          ],
          "carpet": [
           {
            "aaxis": {
             "endlinecolor": "#2a3f5f",
             "gridcolor": "white",
             "linecolor": "white",
             "minorgridcolor": "white",
             "startlinecolor": "#2a3f5f"
            },
            "baxis": {
             "endlinecolor": "#2a3f5f",
             "gridcolor": "white",
             "linecolor": "white",
             "minorgridcolor": "white",
             "startlinecolor": "#2a3f5f"
            },
            "type": "carpet"
           }
          ],
          "choropleth": [
           {
            "colorbar": {
             "outlinewidth": 0,
             "ticks": ""
            },
            "type": "choropleth"
           }
          ],
          "contour": [
           {
            "colorbar": {
             "outlinewidth": 0,
             "ticks": ""
            },
            "colorscale": [
             [
              0,
              "#0d0887"
             ],
             [
              0.1111111111111111,
              "#46039f"
             ],
             [
              0.2222222222222222,
              "#7201a8"
             ],
             [
              0.3333333333333333,
              "#9c179e"
             ],
             [
              0.4444444444444444,
              "#bd3786"
             ],
             [
              0.5555555555555556,
              "#d8576b"
             ],
             [
              0.6666666666666666,
              "#ed7953"
             ],
             [
              0.7777777777777778,
              "#fb9f3a"
             ],
             [
              0.8888888888888888,
              "#fdca26"
             ],
             [
              1,
              "#f0f921"
             ]
            ],
            "type": "contour"
           }
          ],
          "contourcarpet": [
           {
            "colorbar": {
             "outlinewidth": 0,
             "ticks": ""
            },
            "type": "contourcarpet"
           }
          ],
          "heatmap": [
           {
            "colorbar": {
             "outlinewidth": 0,
             "ticks": ""
            },
            "colorscale": [
             [
              0,
              "#0d0887"
             ],
             [
              0.1111111111111111,
              "#46039f"
             ],
             [
              0.2222222222222222,
              "#7201a8"
             ],
             [
              0.3333333333333333,
              "#9c179e"
             ],
             [
              0.4444444444444444,
              "#bd3786"
             ],
             [
              0.5555555555555556,
              "#d8576b"
             ],
             [
              0.6666666666666666,
              "#ed7953"
             ],
             [
              0.7777777777777778,
              "#fb9f3a"
             ],
             [
              0.8888888888888888,
              "#fdca26"
             ],
             [
              1,
              "#f0f921"
             ]
            ],
            "type": "heatmap"
           }
          ],
          "heatmapgl": [
           {
            "colorbar": {
             "outlinewidth": 0,
             "ticks": ""
            },
            "colorscale": [
             [
              0,
              "#0d0887"
             ],
             [
              0.1111111111111111,
              "#46039f"
             ],
             [
              0.2222222222222222,
              "#7201a8"
             ],
             [
              0.3333333333333333,
              "#9c179e"
             ],
             [
              0.4444444444444444,
              "#bd3786"
             ],
             [
              0.5555555555555556,
              "#d8576b"
             ],
             [
              0.6666666666666666,
              "#ed7953"
             ],
             [
              0.7777777777777778,
              "#fb9f3a"
             ],
             [
              0.8888888888888888,
              "#fdca26"
             ],
             [
              1,
              "#f0f921"
             ]
            ],
            "type": "heatmapgl"
           }
          ],
          "histogram": [
           {
            "marker": {
             "pattern": {
              "fillmode": "overlay",
              "size": 10,
              "solidity": 0.2
             }
            },
            "type": "histogram"
           }
          ],
          "histogram2d": [
           {
            "colorbar": {
             "outlinewidth": 0,
             "ticks": ""
            },
            "colorscale": [
             [
              0,
              "#0d0887"
             ],
             [
              0.1111111111111111,
              "#46039f"
             ],
             [
              0.2222222222222222,
              "#7201a8"
             ],
             [
              0.3333333333333333,
              "#9c179e"
             ],
             [
              0.4444444444444444,
              "#bd3786"
             ],
             [
              0.5555555555555556,
              "#d8576b"
             ],
             [
              0.6666666666666666,
              "#ed7953"
             ],
             [
              0.7777777777777778,
              "#fb9f3a"
             ],
             [
              0.8888888888888888,
              "#fdca26"
             ],
             [
              1,
              "#f0f921"
             ]
            ],
            "type": "histogram2d"
           }
          ],
          "histogram2dcontour": [
           {
            "colorbar": {
             "outlinewidth": 0,
             "ticks": ""
            },
            "colorscale": [
             [
              0,
              "#0d0887"
             ],
             [
              0.1111111111111111,
              "#46039f"
             ],
             [
              0.2222222222222222,
              "#7201a8"
             ],
             [
              0.3333333333333333,
              "#9c179e"
             ],
             [
              0.4444444444444444,
              "#bd3786"
             ],
             [
              0.5555555555555556,
              "#d8576b"
             ],
             [
              0.6666666666666666,
              "#ed7953"
             ],
             [
              0.7777777777777778,
              "#fb9f3a"
             ],
             [
              0.8888888888888888,
              "#fdca26"
             ],
             [
              1,
              "#f0f921"
             ]
            ],
            "type": "histogram2dcontour"
           }
          ],
          "mesh3d": [
           {
            "colorbar": {
             "outlinewidth": 0,
             "ticks": ""
            },
            "type": "mesh3d"
           }
          ],
          "parcoords": [
           {
            "line": {
             "colorbar": {
              "outlinewidth": 0,
              "ticks": ""
             }
            },
            "type": "parcoords"
           }
          ],
          "pie": [
           {
            "automargin": true,
            "type": "pie"
           }
          ],
          "scatter": [
           {
            "fillpattern": {
             "fillmode": "overlay",
             "size": 10,
             "solidity": 0.2
            },
            "type": "scatter"
           }
          ],
          "scatter3d": [
           {
            "line": {
             "colorbar": {
              "outlinewidth": 0,
              "ticks": ""
             }
            },
            "marker": {
             "colorbar": {
              "outlinewidth": 0,
              "ticks": ""
             }
            },
            "type": "scatter3d"
           }
          ],
          "scattercarpet": [
           {
            "marker": {
             "colorbar": {
              "outlinewidth": 0,
              "ticks": ""
             }
            },
            "type": "scattercarpet"
           }
          ],
          "scattergeo": [
           {
            "marker": {
             "colorbar": {
              "outlinewidth": 0,
              "ticks": ""
             }
            },
            "type": "scattergeo"
           }
          ],
          "scattergl": [
           {
            "marker": {
             "colorbar": {
              "outlinewidth": 0,
              "ticks": ""
             }
            },
            "type": "scattergl"
           }
          ],
          "scattermapbox": [
           {
            "marker": {
             "colorbar": {
              "outlinewidth": 0,
              "ticks": ""
             }
            },
            "type": "scattermapbox"
           }
          ],
          "scatterpolar": [
           {
            "marker": {
             "colorbar": {
              "outlinewidth": 0,
              "ticks": ""
             }
            },
            "type": "scatterpolar"
           }
          ],
          "scatterpolargl": [
           {
            "marker": {
             "colorbar": {
              "outlinewidth": 0,
              "ticks": ""
             }
            },
            "type": "scatterpolargl"
           }
          ],
          "scatterternary": [
           {
            "marker": {
             "colorbar": {
              "outlinewidth": 0,
              "ticks": ""
             }
            },
            "type": "scatterternary"
           }
          ],
          "surface": [
           {
            "colorbar": {
             "outlinewidth": 0,
             "ticks": ""
            },
            "colorscale": [
             [
              0,
              "#0d0887"
             ],
             [
              0.1111111111111111,
              "#46039f"
             ],
             [
              0.2222222222222222,
              "#7201a8"
             ],
             [
              0.3333333333333333,
              "#9c179e"
             ],
             [
              0.4444444444444444,
              "#bd3786"
             ],
             [
              0.5555555555555556,
              "#d8576b"
             ],
             [
              0.6666666666666666,
              "#ed7953"
             ],
             [
              0.7777777777777778,
              "#fb9f3a"
             ],
             [
              0.8888888888888888,
              "#fdca26"
             ],
             [
              1,
              "#f0f921"
             ]
            ],
            "type": "surface"
           }
          ],
          "table": [
           {
            "cells": {
             "fill": {
              "color": "#EBF0F8"
             },
             "line": {
              "color": "white"
             }
            },
            "header": {
             "fill": {
              "color": "#C8D4E3"
             },
             "line": {
              "color": "white"
             }
            },
            "type": "table"
           }
          ]
         },
         "layout": {
          "annotationdefaults": {
           "arrowcolor": "#2a3f5f",
           "arrowhead": 0,
           "arrowwidth": 1
          },
          "autotypenumbers": "strict",
          "coloraxis": {
           "colorbar": {
            "outlinewidth": 0,
            "ticks": ""
           }
          },
          "colorscale": {
           "diverging": [
            [
             0,
             "#8e0152"
            ],
            [
             0.1,
             "#c51b7d"
            ],
            [
             0.2,
             "#de77ae"
            ],
            [
             0.3,
             "#f1b6da"
            ],
            [
             0.4,
             "#fde0ef"
            ],
            [
             0.5,
             "#f7f7f7"
            ],
            [
             0.6,
             "#e6f5d0"
            ],
            [
             0.7,
             "#b8e186"
            ],
            [
             0.8,
             "#7fbc41"
            ],
            [
             0.9,
             "#4d9221"
            ],
            [
             1,
             "#276419"
            ]
           ],
           "sequential": [
            [
             0,
             "#0d0887"
            ],
            [
             0.1111111111111111,
             "#46039f"
            ],
            [
             0.2222222222222222,
             "#7201a8"
            ],
            [
             0.3333333333333333,
             "#9c179e"
            ],
            [
             0.4444444444444444,
             "#bd3786"
            ],
            [
             0.5555555555555556,
             "#d8576b"
            ],
            [
             0.6666666666666666,
             "#ed7953"
            ],
            [
             0.7777777777777778,
             "#fb9f3a"
            ],
            [
             0.8888888888888888,
             "#fdca26"
            ],
            [
             1,
             "#f0f921"
            ]
           ],
           "sequentialminus": [
            [
             0,
             "#0d0887"
            ],
            [
             0.1111111111111111,
             "#46039f"
            ],
            [
             0.2222222222222222,
             "#7201a8"
            ],
            [
             0.3333333333333333,
             "#9c179e"
            ],
            [
             0.4444444444444444,
             "#bd3786"
            ],
            [
             0.5555555555555556,
             "#d8576b"
            ],
            [
             0.6666666666666666,
             "#ed7953"
            ],
            [
             0.7777777777777778,
             "#fb9f3a"
            ],
            [
             0.8888888888888888,
             "#fdca26"
            ],
            [
             1,
             "#f0f921"
            ]
           ]
          },
          "colorway": [
           "#636efa",
           "#EF553B",
           "#00cc96",
           "#ab63fa",
           "#FFA15A",
           "#19d3f3",
           "#FF6692",
           "#B6E880",
           "#FF97FF",
           "#FECB52"
          ],
          "font": {
           "color": "#2a3f5f"
          },
          "geo": {
           "bgcolor": "white",
           "lakecolor": "white",
           "landcolor": "#E5ECF6",
           "showlakes": true,
           "showland": true,
           "subunitcolor": "white"
          },
          "hoverlabel": {
           "align": "left"
          },
          "hovermode": "closest",
          "mapbox": {
           "style": "light"
          },
          "paper_bgcolor": "white",
          "plot_bgcolor": "#E5ECF6",
          "polar": {
           "angularaxis": {
            "gridcolor": "white",
            "linecolor": "white",
            "ticks": ""
           },
           "bgcolor": "#E5ECF6",
           "radialaxis": {
            "gridcolor": "white",
            "linecolor": "white",
            "ticks": ""
           }
          },
          "scene": {
           "xaxis": {
            "backgroundcolor": "#E5ECF6",
            "gridcolor": "white",
            "gridwidth": 2,
            "linecolor": "white",
            "showbackground": true,
            "ticks": "",
            "zerolinecolor": "white"
           },
           "yaxis": {
            "backgroundcolor": "#E5ECF6",
            "gridcolor": "white",
            "gridwidth": 2,
            "linecolor": "white",
            "showbackground": true,
            "ticks": "",
            "zerolinecolor": "white"
           },
           "zaxis": {
            "backgroundcolor": "#E5ECF6",
            "gridcolor": "white",
            "gridwidth": 2,
            "linecolor": "white",
            "showbackground": true,
            "ticks": "",
            "zerolinecolor": "white"
           }
          },
          "shapedefaults": {
           "line": {
            "color": "#2a3f5f"
           }
          },
          "ternary": {
           "aaxis": {
            "gridcolor": "white",
            "linecolor": "white",
            "ticks": ""
           },
           "baxis": {
            "gridcolor": "white",
            "linecolor": "white",
            "ticks": ""
           },
           "bgcolor": "#E5ECF6",
           "caxis": {
            "gridcolor": "white",
            "linecolor": "white",
            "ticks": ""
           }
          },
          "title": {
           "x": 0.05
          },
          "xaxis": {
           "automargin": true,
           "gridcolor": "white",
           "linecolor": "white",
           "ticks": "",
           "title": {
            "standoff": 15
           },
           "zerolinecolor": "white",
           "zerolinewidth": 2
          },
          "yaxis": {
           "automargin": true,
           "gridcolor": "white",
           "linecolor": "white",
           "ticks": "",
           "title": {
            "standoff": 15
           },
           "zerolinecolor": "white",
           "zerolinewidth": 2
          }
         }
        },
        "width": 1200,
        "xaxis": {
         "tickangle": 45,
         "tickmode": "array",
         "ticktext": [
          "H",
          "He",
          "Li",
          "Be",
          "B",
          "C",
          "N",
          "O",
          "F",
          "Ne",
          "Na",
          "Mg",
          "Al",
          "Si",
          "P",
          "S",
          "Cl",
          "Ar",
          "K",
          "Ca",
          "Sc",
          "Ti",
          "V",
          "Cr",
          "Mn",
          "Fe",
          "Co",
          "Ni",
          "Cu",
          "Zn",
          "Ga",
          "Ge",
          "As",
          "Se",
          "Br",
          "Kr",
          "Rb",
          "Sr",
          "Y",
          "Zr",
          "Nb",
          "Mo",
          "Tc",
          "Ru",
          "Rh",
          "Pd",
          "Ag",
          "Cd",
          "In",
          "Sn",
          "Sb",
          "Te",
          "I",
          "Xe",
          "Cs",
          "Ba",
          "La",
          "Ce",
          "Pr",
          "Nd",
          "Pm",
          "Sm",
          "Eu",
          "Gd",
          "Tb",
          "Dy",
          "Ho",
          "Er",
          "Tm",
          "Yb",
          "Lu",
          "Hf",
          "Ta",
          "W",
          "Re",
          "Os",
          "Ir",
          "Pt",
          "Au",
          "Hg",
          "Tl",
          "Pb",
          "Bi",
          "Po",
          "At",
          "Rn",
          "Fr",
          "Ra",
          "Ac",
          "Th",
          "Pa",
          "U",
          "Np",
          "Pu",
          "Am"
         ],
         "tickvals": [
          0,
          1,
          2,
          3,
          4,
          5,
          6,
          7,
          8,
          9,
          10,
          11,
          12,
          13,
          14,
          15,
          16,
          17,
          18,
          19,
          20,
          21,
          22,
          23,
          24,
          25,
          26,
          27,
          28,
          29,
          30,
          31,
          32,
          33,
          34,
          35,
          36,
          37,
          38,
          39,
          40,
          41,
          42,
          43,
          44,
          45,
          46,
          47,
          48,
          49,
          50,
          51,
          52,
          53,
          54,
          55,
          56,
          57,
          58,
          59,
          60,
          61,
          62,
          63,
          64,
          65,
          66,
          67,
          68,
          69,
          70,
          71,
          72,
          73,
          74,
          75,
          76,
          77,
          78,
          79,
          80,
          81,
          82,
          83,
          84,
          85,
          86,
          87,
          88,
          89,
          90,
          91,
          92,
          93,
          94
         ],
         "title": {
          "text": "Atomic number / Element"
         }
        },
        "yaxis": {
         "title": {
          "text": "Density"
         }
        }
       }
      },
      "text/html": [
       "<div>                            <div id=\"b34d626b-8764-4488-a2ff-4ab41d22bbda\" class=\"plotly-graph-div\" style=\"height:600px; width:1200px;\"></div>            <script type=\"text/javascript\">                require([\"plotly\"], function(Plotly) {                    window.PLOTLYENV=window.PLOTLYENV || {};                                    if (document.getElementById(\"b34d626b-8764-4488-a2ff-4ab41d22bbda\")) {                    Plotly.newPlot(                        \"b34d626b-8764-4488-a2ff-4ab41d22bbda\",                        [{\"name\":\"mptrj\",\"x\":[-0.5,0.5,1.5,2.5,3.5,4.5,5.5,6.5,7.5,8.5,9.5,10.5,11.5,12.5,13.5,14.5,15.5,16.5,17.5,18.5,19.5,20.5,21.5,22.5,23.5,24.5,25.5,26.5,27.5,28.5,29.5,30.5,31.5,32.5,33.5,34.5,35.5,36.5,37.5,38.5,39.5,40.5,41.5,42.5,43.5,44.5,45.5,46.5,47.5,48.5,49.5,50.5,51.5,52.5,53.5,54.5,55.5,56.5,57.5,58.5,59.5,60.5,61.5,62.5,63.5,64.5,65.5,66.5,67.5,68.5,69.5,70.5,71.5,72.5,73.5,74.5,75.5,76.5,77.5,78.5,79.5,80.5,81.5,82.5,83.5,84.5,85.5,86.5,87.5,88.5,89.5,90.5,91.5,92.5,93.5],\"y\":[0.0,0.06131984032671436,7.992590017052211e-06,0.025494029291828126,0.0014498842291593215,0.01366661892750802,0.0215473126843215,0.025765777352407898,0.36984840044742273,0.037590733139590785,1.4200033025219666e-07,0.011465410950984327,0.025080382329803474,0.012318609792423918,0.021198458444414783,0.026102277563582677,0.03390304542022563,0.01910663129370821,3.854294678273909e-07,0.009444198535936024,0.008777141841695597,0.0018682172020822929,0.00770088076719127,0.009816563973380212,0.005298762609122183,0.013524010024411885,0.015165858414310712,0.00938257039260657,0.007080927611071644,0.008988681762248442,0.007497576865793053,0.005412018015379041,0.00569167752293001,0.005564222083647932,0.014911312679452917,0.007685625874569891,2.2679481317422263e-05,0.004753197340293243,0.006898234043321461,0.0034435688659001625,0.0034519265996235775,0.00492607259949456,0.006142832857902704,0.00033361963304680373,0.001842170284361747,0.002078012547149181,0.002416541334470418,0.0041636728263705165,0.0032276675066324296,0.0031203355427232337,0.005686058367004317,0.006597761344507813,0.007227005379378225,0.007677633284552839,0.0002572437411325865,0.003811735150721179,0.007652052939345979,0.005063021775142071,0.0028170228373045414,0.002526774162269052,0.002929243669726706,0.00012374314493405708,0.0022226297406303113,0.0013381096834893782,0.0011761887354789448,0.0018718686391459207,0.0017407820485616787,0.001709866548089629,0.001858074321349993,0.001195784781053748,0.002101807745347156,0.001147301811153355,0.0015736679456163079,0.003092807764415772,0.004040335396665751,0.0016174649046183781,0.000870989454244045,0.0014143638608348078,0.0018899229668494144,0.0017906850217645936,0.0026671922031270097,0.0026698496378788723,0.0036150646933218867,0.005876906810863268,0.0,0.0,0.0,0.0,0.0,6.511729430136447e-05,0.0007281574077717998,6.134414266894895e-05,0.0022429155020949106,0.0002333268283658237,0.0003214684619295086],\"type\":\"bar\"},{\"name\":\"wbm\",\"x\":[-0.5,0.5,1.5,2.5,3.5,4.5,5.5,6.5,7.5,8.5,9.5,10.5,11.5,12.5,13.5,14.5,15.5,16.5,17.5,18.5,19.5,20.5,21.5,22.5,23.5,24.5,25.5,26.5,27.5,28.5,29.5,30.5,31.5,32.5,33.5,34.5,35.5,36.5,37.5,38.5,39.5,40.5,41.5,42.5,43.5,44.5,45.5,46.5,47.5,48.5,49.5,50.5,51.5,52.5,53.5,54.5,55.5,56.5,57.5,58.5,59.5,60.5,61.5,62.5,63.5,64.5,65.5,66.5,67.5,68.5,69.5,70.5,71.5,72.5,73.5,74.5,75.5,76.5,77.5,78.5,79.5,80.5,81.5,82.5,83.5,84.5,85.5,86.5,87.5,88.5,89.5,90.5,91.5,92.5,93.5],\"y\":[0.0,0.011826693605692298,0.0,0.007177555358644584,0.0009974259490214544,0.010961154546863224,0.006859121232134466,0.014000069203007021,0.07522717892938936,0.028990042289054944,0.0,0.006806466770270588,0.012788515109072465,0.02782412206206908,0.02394474190036472,0.013000135898658715,0.021670570618910576,0.013073852145268143,0.0,0.009002408565526974,0.01088041770533861,0.009293763254507096,0.007863066305005734,0.006071310188437783,0.007719645580309839,0.016615240808912947,0.02235357420994487,0.019065929905377425,0.023765215258962167,0.021801956038037584,0.016133828586157493,0.022740208401345347,0.02496724140265469,0.013829569040781132,0.021157064247971424,0.011385399068166466,0.0,0.008466837467711532,0.011196845947587247,0.009800750501596433,0.009192466099302304,0.0065818077329847105,0.0019767989396895793,0.0008204066629457513,0.013282965579527545,0.019290087471597932,0.018940562139034858,0.007963360518079787,0.00911172925777769,0.02211988869348233,0.02206322246309549,0.010178358213820241,0.013961957402038882,0.00821760634822251,1.0029421307405273e-06,0.007372627603073617,0.010621658635607555,0.009387538343731336,0.00802453998805496,0.008713059760808332,0.008637337629937422,0.0007331506975713255,0.008636836158872051,0.005256921178276474,0.004744919220533435,0.00964328858707017,0.009346417716370974,0.008963293822428093,0.008879548154511259,0.009519425233923715,0.009953197705468993,0.006343608976933836,0.007562685136848947,0.005593909734205291,0.0018860326768575617,0.002096149053247702,0.006795434406832443,0.013600396763906921,0.01938135520549532,0.014286409181333441,0.00526945795491073,0.008510966921464115,0.010031928662732125,0.006430363471242891,0.0,0.0,0.0,0.0,0.0,0.0009342405947848012,0.008998898268069381,0.002031459285814938,0.007171537705860141,0.005103471032273174,0.006577795964461748],\"type\":\"bar\"},{\"name\":\"problematic\",\"x\":[-0.5,0.5,1.5,2.5,3.5,4.5,5.5,6.5,7.5,8.5,9.5,10.5,11.5,12.5,13.5,14.5,15.5,16.5,17.5,18.5,19.5,20.5,21.5,22.5,23.5,24.5,25.5,26.5,27.5,28.5,29.5,30.5,31.5,32.5,33.5,34.5,35.5,36.5,37.5,38.5,39.5,40.5,41.5,42.5,43.5,44.5,45.5,46.5,47.5,48.5,49.5,50.5,51.5,52.5,53.5,54.5,55.5,56.5,57.5,58.5,59.5,60.5,61.5,62.5,63.5,64.5,65.5,66.5,67.5,68.5,69.5,70.5,71.5,72.5,73.5,74.5,75.5,76.5,77.5,78.5,79.5,80.5,81.5,82.5,83.5,84.5,85.5,86.5,87.5,88.5,89.5,90.5,91.5,92.5,93.5],\"y\":[0.0,0.003929273084479371,0.0,0.003929273084479371,0.003929273084479371,0.005893909626719057,0.011787819253438114,0.011787819253438114,0.07858546168958742,0.0,0.0,0.003929273084479371,0.0019646365422396855,0.011787819253438114,0.005893909626719057,0.023575638506876228,0.0275049115913556,0.01768172888015717,0.0,0.007858546168958742,0.003929273084479371,0.003929273084479371,0.015717092337917484,0.011787819253438114,0.011787819253438114,0.0412573673870334,0.021611001964636542,0.029469548133595286,0.011787819253438114,0.003929273084479371,0.01768172888015717,0.0137524557956778,0.03536345776031434,0.023575638506876228,0.003929273084479371,0.03536345776031434,0.0,0.0137524557956778,0.005893909626719057,0.0,0.0019646365422396855,0.0,0.0,0.0,0.019646365422396856,0.029469548133595286,0.011787819253438114,0.003929273084479371,0.0019646365422396855,0.007858546168958742,0.021611001964636542,0.015717092337917484,0.04518664047151277,0.0,0.0,0.005893909626719057,0.009823182711198428,0.0019646365422396855,0.003929273084479371,0.003929273084479371,0.003929273084479371,0.0,0.007858546168958742,0.011787819253438114,0.0019646365422396855,0.005893909626719057,0.01768172888015717,0.005893909626719057,0.019646365422396856,0.005893909626719057,0.011787819253438114,0.0,0.015717092337917484,0.0019646365422396855,0.003929273084479371,0.0019646365422396855,0.011787819253438114,0.011787819253438114,0.009823182711198428,0.005893909626719057,0.003929273084479371,0.011787819253438114,0.005893909626719057,0.0,0.0,0.0,0.0,0.0,0.0,0.003929273084479371,0.009823182711198428,0.003929273084479371,0.015717092337917484,0.03536345776031434,0.04518664047151277],\"type\":\"bar\"}],                        {\"template\":{\"data\":{\"histogram2dcontour\":[{\"type\":\"histogram2dcontour\",\"colorbar\":{\"outlinewidth\":0,\"ticks\":\"\"},\"colorscale\":[[0.0,\"#0d0887\"],[0.1111111111111111,\"#46039f\"],[0.2222222222222222,\"#7201a8\"],[0.3333333333333333,\"#9c179e\"],[0.4444444444444444,\"#bd3786\"],[0.5555555555555556,\"#d8576b\"],[0.6666666666666666,\"#ed7953\"],[0.7777777777777778,\"#fb9f3a\"],[0.8888888888888888,\"#fdca26\"],[1.0,\"#f0f921\"]]}],\"choropleth\":[{\"type\":\"choropleth\",\"colorbar\":{\"outlinewidth\":0,\"ticks\":\"\"}}],\"histogram2d\":[{\"type\":\"histogram2d\",\"colorbar\":{\"outlinewidth\":0,\"ticks\":\"\"},\"colorscale\":[[0.0,\"#0d0887\"],[0.1111111111111111,\"#46039f\"],[0.2222222222222222,\"#7201a8\"],[0.3333333333333333,\"#9c179e\"],[0.4444444444444444,\"#bd3786\"],[0.5555555555555556,\"#d8576b\"],[0.6666666666666666,\"#ed7953\"],[0.7777777777777778,\"#fb9f3a\"],[0.8888888888888888,\"#fdca26\"],[1.0,\"#f0f921\"]]}],\"heatmap\":[{\"type\":\"heatmap\",\"colorbar\":{\"outlinewidth\":0,\"ticks\":\"\"},\"colorscale\":[[0.0,\"#0d0887\"],[0.1111111111111111,\"#46039f\"],[0.2222222222222222,\"#7201a8\"],[0.3333333333333333,\"#9c179e\"],[0.4444444444444444,\"#bd3786\"],[0.5555555555555556,\"#d8576b\"],[0.6666666666666666,\"#ed7953\"],[0.7777777777777778,\"#fb9f3a\"],[0.8888888888888888,\"#fdca26\"],[1.0,\"#f0f921\"]]}],\"heatmapgl\":[{\"type\":\"heatmapgl\",\"colorbar\":{\"outlinewidth\":0,\"ticks\":\"\"},\"colorscale\":[[0.0,\"#0d0887\"],[0.1111111111111111,\"#46039f\"],[0.2222222222222222,\"#7201a8\"],[0.3333333333333333,\"#9c179e\"],[0.4444444444444444,\"#bd3786\"],[0.5555555555555556,\"#d8576b\"],[0.6666666666666666,\"#ed7953\"],[0.7777777777777778,\"#fb9f3a\"],[0.8888888888888888,\"#fdca26\"],[1.0,\"#f0f921\"]]}],\"contourcarpet\":[{\"type\":\"contourcarpet\",\"colorbar\":{\"outlinewidth\":0,\"ticks\":\"\"}}],\"contour\":[{\"type\":\"contour\",\"colorbar\":{\"outlinewidth\":0,\"ticks\":\"\"},\"colorscale\":[[0.0,\"#0d0887\"],[0.1111111111111111,\"#46039f\"],[0.2222222222222222,\"#7201a8\"],[0.3333333333333333,\"#9c179e\"],[0.4444444444444444,\"#bd3786\"],[0.5555555555555556,\"#d8576b\"],[0.6666666666666666,\"#ed7953\"],[0.7777777777777778,\"#fb9f3a\"],[0.8888888888888888,\"#fdca26\"],[1.0,\"#f0f921\"]]}],\"surface\":[{\"type\":\"surface\",\"colorbar\":{\"outlinewidth\":0,\"ticks\":\"\"},\"colorscale\":[[0.0,\"#0d0887\"],[0.1111111111111111,\"#46039f\"],[0.2222222222222222,\"#7201a8\"],[0.3333333333333333,\"#9c179e\"],[0.4444444444444444,\"#bd3786\"],[0.5555555555555556,\"#d8576b\"],[0.6666666666666666,\"#ed7953\"],[0.7777777777777778,\"#fb9f3a\"],[0.8888888888888888,\"#fdca26\"],[1.0,\"#f0f921\"]]}],\"mesh3d\":[{\"type\":\"mesh3d\",\"colorbar\":{\"outlinewidth\":0,\"ticks\":\"\"}}],\"scatter\":[{\"fillpattern\":{\"fillmode\":\"overlay\",\"size\":10,\"solidity\":0.2},\"type\":\"scatter\"}],\"parcoords\":[{\"type\":\"parcoords\",\"line\":{\"colorbar\":{\"outlinewidth\":0,\"ticks\":\"\"}}}],\"scatterpolargl\":[{\"type\":\"scatterpolargl\",\"marker\":{\"colorbar\":{\"outlinewidth\":0,\"ticks\":\"\"}}}],\"bar\":[{\"error_x\":{\"color\":\"#2a3f5f\"},\"error_y\":{\"color\":\"#2a3f5f\"},\"marker\":{\"line\":{\"color\":\"#E5ECF6\",\"width\":0.5},\"pattern\":{\"fillmode\":\"overlay\",\"size\":10,\"solidity\":0.2}},\"type\":\"bar\"}],\"scattergeo\":[{\"type\":\"scattergeo\",\"marker\":{\"colorbar\":{\"outlinewidth\":0,\"ticks\":\"\"}}}],\"scatterpolar\":[{\"type\":\"scatterpolar\",\"marker\":{\"colorbar\":{\"outlinewidth\":0,\"ticks\":\"\"}}}],\"histogram\":[{\"marker\":{\"pattern\":{\"fillmode\":\"overlay\",\"size\":10,\"solidity\":0.2}},\"type\":\"histogram\"}],\"scattergl\":[{\"type\":\"scattergl\",\"marker\":{\"colorbar\":{\"outlinewidth\":0,\"ticks\":\"\"}}}],\"scatter3d\":[{\"type\":\"scatter3d\",\"line\":{\"colorbar\":{\"outlinewidth\":0,\"ticks\":\"\"}},\"marker\":{\"colorbar\":{\"outlinewidth\":0,\"ticks\":\"\"}}}],\"scattermapbox\":[{\"type\":\"scattermapbox\",\"marker\":{\"colorbar\":{\"outlinewidth\":0,\"ticks\":\"\"}}}],\"scatterternary\":[{\"type\":\"scatterternary\",\"marker\":{\"colorbar\":{\"outlinewidth\":0,\"ticks\":\"\"}}}],\"scattercarpet\":[{\"type\":\"scattercarpet\",\"marker\":{\"colorbar\":{\"outlinewidth\":0,\"ticks\":\"\"}}}],\"carpet\":[{\"aaxis\":{\"endlinecolor\":\"#2a3f5f\",\"gridcolor\":\"white\",\"linecolor\":\"white\",\"minorgridcolor\":\"white\",\"startlinecolor\":\"#2a3f5f\"},\"baxis\":{\"endlinecolor\":\"#2a3f5f\",\"gridcolor\":\"white\",\"linecolor\":\"white\",\"minorgridcolor\":\"white\",\"startlinecolor\":\"#2a3f5f\"},\"type\":\"carpet\"}],\"table\":[{\"cells\":{\"fill\":{\"color\":\"#EBF0F8\"},\"line\":{\"color\":\"white\"}},\"header\":{\"fill\":{\"color\":\"#C8D4E3\"},\"line\":{\"color\":\"white\"}},\"type\":\"table\"}],\"barpolar\":[{\"marker\":{\"line\":{\"color\":\"#E5ECF6\",\"width\":0.5},\"pattern\":{\"fillmode\":\"overlay\",\"size\":10,\"solidity\":0.2}},\"type\":\"barpolar\"}],\"pie\":[{\"automargin\":true,\"type\":\"pie\"}]},\"layout\":{\"autotypenumbers\":\"strict\",\"colorway\":[\"#636efa\",\"#EF553B\",\"#00cc96\",\"#ab63fa\",\"#FFA15A\",\"#19d3f3\",\"#FF6692\",\"#B6E880\",\"#FF97FF\",\"#FECB52\"],\"font\":{\"color\":\"#2a3f5f\"},\"hovermode\":\"closest\",\"hoverlabel\":{\"align\":\"left\"},\"paper_bgcolor\":\"white\",\"plot_bgcolor\":\"#E5ECF6\",\"polar\":{\"bgcolor\":\"#E5ECF6\",\"angularaxis\":{\"gridcolor\":\"white\",\"linecolor\":\"white\",\"ticks\":\"\"},\"radialaxis\":{\"gridcolor\":\"white\",\"linecolor\":\"white\",\"ticks\":\"\"}},\"ternary\":{\"bgcolor\":\"#E5ECF6\",\"aaxis\":{\"gridcolor\":\"white\",\"linecolor\":\"white\",\"ticks\":\"\"},\"baxis\":{\"gridcolor\":\"white\",\"linecolor\":\"white\",\"ticks\":\"\"},\"caxis\":{\"gridcolor\":\"white\",\"linecolor\":\"white\",\"ticks\":\"\"}},\"coloraxis\":{\"colorbar\":{\"outlinewidth\":0,\"ticks\":\"\"}},\"colorscale\":{\"sequential\":[[0.0,\"#0d0887\"],[0.1111111111111111,\"#46039f\"],[0.2222222222222222,\"#7201a8\"],[0.3333333333333333,\"#9c179e\"],[0.4444444444444444,\"#bd3786\"],[0.5555555555555556,\"#d8576b\"],[0.6666666666666666,\"#ed7953\"],[0.7777777777777778,\"#fb9f3a\"],[0.8888888888888888,\"#fdca26\"],[1.0,\"#f0f921\"]],\"sequentialminus\":[[0.0,\"#0d0887\"],[0.1111111111111111,\"#46039f\"],[0.2222222222222222,\"#7201a8\"],[0.3333333333333333,\"#9c179e\"],[0.4444444444444444,\"#bd3786\"],[0.5555555555555556,\"#d8576b\"],[0.6666666666666666,\"#ed7953\"],[0.7777777777777778,\"#fb9f3a\"],[0.8888888888888888,\"#fdca26\"],[1.0,\"#f0f921\"]],\"diverging\":[[0,\"#8e0152\"],[0.1,\"#c51b7d\"],[0.2,\"#de77ae\"],[0.3,\"#f1b6da\"],[0.4,\"#fde0ef\"],[0.5,\"#f7f7f7\"],[0.6,\"#e6f5d0\"],[0.7,\"#b8e186\"],[0.8,\"#7fbc41\"],[0.9,\"#4d9221\"],[1,\"#276419\"]]},\"xaxis\":{\"gridcolor\":\"white\",\"linecolor\":\"white\",\"ticks\":\"\",\"title\":{\"standoff\":15},\"zerolinecolor\":\"white\",\"automargin\":true,\"zerolinewidth\":2},\"yaxis\":{\"gridcolor\":\"white\",\"linecolor\":\"white\",\"ticks\":\"\",\"title\":{\"standoff\":15},\"zerolinecolor\":\"white\",\"automargin\":true,\"zerolinewidth\":2},\"scene\":{\"xaxis\":{\"backgroundcolor\":\"#E5ECF6\",\"gridcolor\":\"white\",\"linecolor\":\"white\",\"showbackground\":true,\"ticks\":\"\",\"zerolinecolor\":\"white\",\"gridwidth\":2},\"yaxis\":{\"backgroundcolor\":\"#E5ECF6\",\"gridcolor\":\"white\",\"linecolor\":\"white\",\"showbackground\":true,\"ticks\":\"\",\"zerolinecolor\":\"white\",\"gridwidth\":2},\"zaxis\":{\"backgroundcolor\":\"#E5ECF6\",\"gridcolor\":\"white\",\"linecolor\":\"white\",\"showbackground\":true,\"ticks\":\"\",\"zerolinecolor\":\"white\",\"gridwidth\":2}},\"shapedefaults\":{\"line\":{\"color\":\"#2a3f5f\"}},\"annotationdefaults\":{\"arrowcolor\":\"#2a3f5f\",\"arrowhead\":0,\"arrowwidth\":1},\"geo\":{\"bgcolor\":\"white\",\"landcolor\":\"#E5ECF6\",\"subunitcolor\":\"white\",\"showland\":true,\"showlakes\":true,\"lakecolor\":\"white\"},\"title\":{\"x\":0.05},\"mapbox\":{\"style\":\"light\"}}},\"shapes\":[{\"line\":{\"color\":\"gray\",\"dash\":\"dash\",\"width\":1},\"type\":\"line\",\"x0\":0,\"x1\":0,\"xref\":\"x\",\"y0\":0,\"y1\":1,\"yref\":\"y domain\"},{\"line\":{\"color\":\"gray\",\"dash\":\"dash\",\"width\":1},\"type\":\"line\",\"x0\":1,\"x1\":1,\"xref\":\"x\",\"y0\":0,\"y1\":1,\"yref\":\"y domain\"},{\"line\":{\"color\":\"gray\",\"dash\":\"dash\",\"width\":1},\"type\":\"line\",\"x0\":2,\"x1\":2,\"xref\":\"x\",\"y0\":0,\"y1\":1,\"yref\":\"y domain\"},{\"line\":{\"color\":\"gray\",\"dash\":\"dash\",\"width\":1},\"type\":\"line\",\"x0\":3,\"x1\":3,\"xref\":\"x\",\"y0\":0,\"y1\":1,\"yref\":\"y domain\"},{\"line\":{\"color\":\"gray\",\"dash\":\"dash\",\"width\":1},\"type\":\"line\",\"x0\":4,\"x1\":4,\"xref\":\"x\",\"y0\":0,\"y1\":1,\"yref\":\"y domain\"},{\"line\":{\"color\":\"gray\",\"dash\":\"dash\",\"width\":1},\"type\":\"line\",\"x0\":5,\"x1\":5,\"xref\":\"x\",\"y0\":0,\"y1\":1,\"yref\":\"y domain\"},{\"line\":{\"color\":\"gray\",\"dash\":\"dash\",\"width\":1},\"type\":\"line\",\"x0\":6,\"x1\":6,\"xref\":\"x\",\"y0\":0,\"y1\":1,\"yref\":\"y domain\"},{\"line\":{\"color\":\"gray\",\"dash\":\"dash\",\"width\":1},\"type\":\"line\",\"x0\":7,\"x1\":7,\"xref\":\"x\",\"y0\":0,\"y1\":1,\"yref\":\"y domain\"},{\"line\":{\"color\":\"gray\",\"dash\":\"dash\",\"width\":1},\"type\":\"line\",\"x0\":8,\"x1\":8,\"xref\":\"x\",\"y0\":0,\"y1\":1,\"yref\":\"y domain\"},{\"line\":{\"color\":\"gray\",\"dash\":\"dash\",\"width\":1},\"type\":\"line\",\"x0\":9,\"x1\":9,\"xref\":\"x\",\"y0\":0,\"y1\":1,\"yref\":\"y domain\"},{\"line\":{\"color\":\"gray\",\"dash\":\"dash\",\"width\":1},\"type\":\"line\",\"x0\":10,\"x1\":10,\"xref\":\"x\",\"y0\":0,\"y1\":1,\"yref\":\"y domain\"},{\"line\":{\"color\":\"gray\",\"dash\":\"dash\",\"width\":1},\"type\":\"line\",\"x0\":11,\"x1\":11,\"xref\":\"x\",\"y0\":0,\"y1\":1,\"yref\":\"y domain\"},{\"line\":{\"color\":\"gray\",\"dash\":\"dash\",\"width\":1},\"type\":\"line\",\"x0\":12,\"x1\":12,\"xref\":\"x\",\"y0\":0,\"y1\":1,\"yref\":\"y domain\"},{\"line\":{\"color\":\"gray\",\"dash\":\"dash\",\"width\":1},\"type\":\"line\",\"x0\":13,\"x1\":13,\"xref\":\"x\",\"y0\":0,\"y1\":1,\"yref\":\"y domain\"},{\"line\":{\"color\":\"gray\",\"dash\":\"dash\",\"width\":1},\"type\":\"line\",\"x0\":14,\"x1\":14,\"xref\":\"x\",\"y0\":0,\"y1\":1,\"yref\":\"y domain\"},{\"line\":{\"color\":\"gray\",\"dash\":\"dash\",\"width\":1},\"type\":\"line\",\"x0\":15,\"x1\":15,\"xref\":\"x\",\"y0\":0,\"y1\":1,\"yref\":\"y domain\"},{\"line\":{\"color\":\"gray\",\"dash\":\"dash\",\"width\":1},\"type\":\"line\",\"x0\":16,\"x1\":16,\"xref\":\"x\",\"y0\":0,\"y1\":1,\"yref\":\"y domain\"},{\"line\":{\"color\":\"gray\",\"dash\":\"dash\",\"width\":1},\"type\":\"line\",\"x0\":17,\"x1\":17,\"xref\":\"x\",\"y0\":0,\"y1\":1,\"yref\":\"y domain\"},{\"line\":{\"color\":\"gray\",\"dash\":\"dash\",\"width\":1},\"type\":\"line\",\"x0\":18,\"x1\":18,\"xref\":\"x\",\"y0\":0,\"y1\":1,\"yref\":\"y domain\"},{\"line\":{\"color\":\"gray\",\"dash\":\"dash\",\"width\":1},\"type\":\"line\",\"x0\":19,\"x1\":19,\"xref\":\"x\",\"y0\":0,\"y1\":1,\"yref\":\"y domain\"},{\"line\":{\"color\":\"gray\",\"dash\":\"dash\",\"width\":1},\"type\":\"line\",\"x0\":20,\"x1\":20,\"xref\":\"x\",\"y0\":0,\"y1\":1,\"yref\":\"y domain\"},{\"line\":{\"color\":\"gray\",\"dash\":\"dash\",\"width\":1},\"type\":\"line\",\"x0\":21,\"x1\":21,\"xref\":\"x\",\"y0\":0,\"y1\":1,\"yref\":\"y domain\"},{\"line\":{\"color\":\"gray\",\"dash\":\"dash\",\"width\":1},\"type\":\"line\",\"x0\":22,\"x1\":22,\"xref\":\"x\",\"y0\":0,\"y1\":1,\"yref\":\"y domain\"},{\"line\":{\"color\":\"gray\",\"dash\":\"dash\",\"width\":1},\"type\":\"line\",\"x0\":23,\"x1\":23,\"xref\":\"x\",\"y0\":0,\"y1\":1,\"yref\":\"y domain\"},{\"line\":{\"color\":\"gray\",\"dash\":\"dash\",\"width\":1},\"type\":\"line\",\"x0\":24,\"x1\":24,\"xref\":\"x\",\"y0\":0,\"y1\":1,\"yref\":\"y domain\"},{\"line\":{\"color\":\"gray\",\"dash\":\"dash\",\"width\":1},\"type\":\"line\",\"x0\":25,\"x1\":25,\"xref\":\"x\",\"y0\":0,\"y1\":1,\"yref\":\"y domain\"},{\"line\":{\"color\":\"gray\",\"dash\":\"dash\",\"width\":1},\"type\":\"line\",\"x0\":26,\"x1\":26,\"xref\":\"x\",\"y0\":0,\"y1\":1,\"yref\":\"y domain\"},{\"line\":{\"color\":\"gray\",\"dash\":\"dash\",\"width\":1},\"type\":\"line\",\"x0\":27,\"x1\":27,\"xref\":\"x\",\"y0\":0,\"y1\":1,\"yref\":\"y domain\"},{\"line\":{\"color\":\"gray\",\"dash\":\"dash\",\"width\":1},\"type\":\"line\",\"x0\":28,\"x1\":28,\"xref\":\"x\",\"y0\":0,\"y1\":1,\"yref\":\"y domain\"},{\"line\":{\"color\":\"gray\",\"dash\":\"dash\",\"width\":1},\"type\":\"line\",\"x0\":29,\"x1\":29,\"xref\":\"x\",\"y0\":0,\"y1\":1,\"yref\":\"y domain\"},{\"line\":{\"color\":\"gray\",\"dash\":\"dash\",\"width\":1},\"type\":\"line\",\"x0\":30,\"x1\":30,\"xref\":\"x\",\"y0\":0,\"y1\":1,\"yref\":\"y domain\"},{\"line\":{\"color\":\"gray\",\"dash\":\"dash\",\"width\":1},\"type\":\"line\",\"x0\":31,\"x1\":31,\"xref\":\"x\",\"y0\":0,\"y1\":1,\"yref\":\"y domain\"},{\"line\":{\"color\":\"gray\",\"dash\":\"dash\",\"width\":1},\"type\":\"line\",\"x0\":32,\"x1\":32,\"xref\":\"x\",\"y0\":0,\"y1\":1,\"yref\":\"y domain\"},{\"line\":{\"color\":\"gray\",\"dash\":\"dash\",\"width\":1},\"type\":\"line\",\"x0\":33,\"x1\":33,\"xref\":\"x\",\"y0\":0,\"y1\":1,\"yref\":\"y domain\"},{\"line\":{\"color\":\"gray\",\"dash\":\"dash\",\"width\":1},\"type\":\"line\",\"x0\":34,\"x1\":34,\"xref\":\"x\",\"y0\":0,\"y1\":1,\"yref\":\"y domain\"},{\"line\":{\"color\":\"gray\",\"dash\":\"dash\",\"width\":1},\"type\":\"line\",\"x0\":35,\"x1\":35,\"xref\":\"x\",\"y0\":0,\"y1\":1,\"yref\":\"y domain\"},{\"line\":{\"color\":\"gray\",\"dash\":\"dash\",\"width\":1},\"type\":\"line\",\"x0\":36,\"x1\":36,\"xref\":\"x\",\"y0\":0,\"y1\":1,\"yref\":\"y domain\"},{\"line\":{\"color\":\"gray\",\"dash\":\"dash\",\"width\":1},\"type\":\"line\",\"x0\":37,\"x1\":37,\"xref\":\"x\",\"y0\":0,\"y1\":1,\"yref\":\"y domain\"},{\"line\":{\"color\":\"gray\",\"dash\":\"dash\",\"width\":1},\"type\":\"line\",\"x0\":38,\"x1\":38,\"xref\":\"x\",\"y0\":0,\"y1\":1,\"yref\":\"y domain\"},{\"line\":{\"color\":\"gray\",\"dash\":\"dash\",\"width\":1},\"type\":\"line\",\"x0\":39,\"x1\":39,\"xref\":\"x\",\"y0\":0,\"y1\":1,\"yref\":\"y domain\"},{\"line\":{\"color\":\"gray\",\"dash\":\"dash\",\"width\":1},\"type\":\"line\",\"x0\":40,\"x1\":40,\"xref\":\"x\",\"y0\":0,\"y1\":1,\"yref\":\"y domain\"},{\"line\":{\"color\":\"gray\",\"dash\":\"dash\",\"width\":1},\"type\":\"line\",\"x0\":41,\"x1\":41,\"xref\":\"x\",\"y0\":0,\"y1\":1,\"yref\":\"y domain\"},{\"line\":{\"color\":\"gray\",\"dash\":\"dash\",\"width\":1},\"type\":\"line\",\"x0\":42,\"x1\":42,\"xref\":\"x\",\"y0\":0,\"y1\":1,\"yref\":\"y domain\"},{\"line\":{\"color\":\"gray\",\"dash\":\"dash\",\"width\":1},\"type\":\"line\",\"x0\":43,\"x1\":43,\"xref\":\"x\",\"y0\":0,\"y1\":1,\"yref\":\"y domain\"},{\"line\":{\"color\":\"gray\",\"dash\":\"dash\",\"width\":1},\"type\":\"line\",\"x0\":44,\"x1\":44,\"xref\":\"x\",\"y0\":0,\"y1\":1,\"yref\":\"y domain\"},{\"line\":{\"color\":\"gray\",\"dash\":\"dash\",\"width\":1},\"type\":\"line\",\"x0\":45,\"x1\":45,\"xref\":\"x\",\"y0\":0,\"y1\":1,\"yref\":\"y domain\"},{\"line\":{\"color\":\"gray\",\"dash\":\"dash\",\"width\":1},\"type\":\"line\",\"x0\":46,\"x1\":46,\"xref\":\"x\",\"y0\":0,\"y1\":1,\"yref\":\"y domain\"},{\"line\":{\"color\":\"gray\",\"dash\":\"dash\",\"width\":1},\"type\":\"line\",\"x0\":47,\"x1\":47,\"xref\":\"x\",\"y0\":0,\"y1\":1,\"yref\":\"y domain\"},{\"line\":{\"color\":\"gray\",\"dash\":\"dash\",\"width\":1},\"type\":\"line\",\"x0\":48,\"x1\":48,\"xref\":\"x\",\"y0\":0,\"y1\":1,\"yref\":\"y domain\"},{\"line\":{\"color\":\"gray\",\"dash\":\"dash\",\"width\":1},\"type\":\"line\",\"x0\":49,\"x1\":49,\"xref\":\"x\",\"y0\":0,\"y1\":1,\"yref\":\"y domain\"},{\"line\":{\"color\":\"gray\",\"dash\":\"dash\",\"width\":1},\"type\":\"line\",\"x0\":50,\"x1\":50,\"xref\":\"x\",\"y0\":0,\"y1\":1,\"yref\":\"y domain\"},{\"line\":{\"color\":\"gray\",\"dash\":\"dash\",\"width\":1},\"type\":\"line\",\"x0\":51,\"x1\":51,\"xref\":\"x\",\"y0\":0,\"y1\":1,\"yref\":\"y domain\"},{\"line\":{\"color\":\"gray\",\"dash\":\"dash\",\"width\":1},\"type\":\"line\",\"x0\":52,\"x1\":52,\"xref\":\"x\",\"y0\":0,\"y1\":1,\"yref\":\"y domain\"},{\"line\":{\"color\":\"gray\",\"dash\":\"dash\",\"width\":1},\"type\":\"line\",\"x0\":53,\"x1\":53,\"xref\":\"x\",\"y0\":0,\"y1\":1,\"yref\":\"y domain\"},{\"line\":{\"color\":\"gray\",\"dash\":\"dash\",\"width\":1},\"type\":\"line\",\"x0\":54,\"x1\":54,\"xref\":\"x\",\"y0\":0,\"y1\":1,\"yref\":\"y domain\"},{\"line\":{\"color\":\"gray\",\"dash\":\"dash\",\"width\":1},\"type\":\"line\",\"x0\":55,\"x1\":55,\"xref\":\"x\",\"y0\":0,\"y1\":1,\"yref\":\"y domain\"},{\"line\":{\"color\":\"gray\",\"dash\":\"dash\",\"width\":1},\"type\":\"line\",\"x0\":56,\"x1\":56,\"xref\":\"x\",\"y0\":0,\"y1\":1,\"yref\":\"y domain\"},{\"line\":{\"color\":\"gray\",\"dash\":\"dash\",\"width\":1},\"type\":\"line\",\"x0\":57,\"x1\":57,\"xref\":\"x\",\"y0\":0,\"y1\":1,\"yref\":\"y domain\"},{\"line\":{\"color\":\"gray\",\"dash\":\"dash\",\"width\":1},\"type\":\"line\",\"x0\":58,\"x1\":58,\"xref\":\"x\",\"y0\":0,\"y1\":1,\"yref\":\"y domain\"},{\"line\":{\"color\":\"gray\",\"dash\":\"dash\",\"width\":1},\"type\":\"line\",\"x0\":59,\"x1\":59,\"xref\":\"x\",\"y0\":0,\"y1\":1,\"yref\":\"y domain\"},{\"line\":{\"color\":\"gray\",\"dash\":\"dash\",\"width\":1},\"type\":\"line\",\"x0\":60,\"x1\":60,\"xref\":\"x\",\"y0\":0,\"y1\":1,\"yref\":\"y domain\"},{\"line\":{\"color\":\"gray\",\"dash\":\"dash\",\"width\":1},\"type\":\"line\",\"x0\":61,\"x1\":61,\"xref\":\"x\",\"y0\":0,\"y1\":1,\"yref\":\"y domain\"},{\"line\":{\"color\":\"gray\",\"dash\":\"dash\",\"width\":1},\"type\":\"line\",\"x0\":62,\"x1\":62,\"xref\":\"x\",\"y0\":0,\"y1\":1,\"yref\":\"y domain\"},{\"line\":{\"color\":\"gray\",\"dash\":\"dash\",\"width\":1},\"type\":\"line\",\"x0\":63,\"x1\":63,\"xref\":\"x\",\"y0\":0,\"y1\":1,\"yref\":\"y domain\"},{\"line\":{\"color\":\"gray\",\"dash\":\"dash\",\"width\":1},\"type\":\"line\",\"x0\":64,\"x1\":64,\"xref\":\"x\",\"y0\":0,\"y1\":1,\"yref\":\"y domain\"},{\"line\":{\"color\":\"gray\",\"dash\":\"dash\",\"width\":1},\"type\":\"line\",\"x0\":65,\"x1\":65,\"xref\":\"x\",\"y0\":0,\"y1\":1,\"yref\":\"y domain\"},{\"line\":{\"color\":\"gray\",\"dash\":\"dash\",\"width\":1},\"type\":\"line\",\"x0\":66,\"x1\":66,\"xref\":\"x\",\"y0\":0,\"y1\":1,\"yref\":\"y domain\"},{\"line\":{\"color\":\"gray\",\"dash\":\"dash\",\"width\":1},\"type\":\"line\",\"x0\":67,\"x1\":67,\"xref\":\"x\",\"y0\":0,\"y1\":1,\"yref\":\"y domain\"},{\"line\":{\"color\":\"gray\",\"dash\":\"dash\",\"width\":1},\"type\":\"line\",\"x0\":68,\"x1\":68,\"xref\":\"x\",\"y0\":0,\"y1\":1,\"yref\":\"y domain\"},{\"line\":{\"color\":\"gray\",\"dash\":\"dash\",\"width\":1},\"type\":\"line\",\"x0\":69,\"x1\":69,\"xref\":\"x\",\"y0\":0,\"y1\":1,\"yref\":\"y domain\"},{\"line\":{\"color\":\"gray\",\"dash\":\"dash\",\"width\":1},\"type\":\"line\",\"x0\":70,\"x1\":70,\"xref\":\"x\",\"y0\":0,\"y1\":1,\"yref\":\"y domain\"},{\"line\":{\"color\":\"gray\",\"dash\":\"dash\",\"width\":1},\"type\":\"line\",\"x0\":71,\"x1\":71,\"xref\":\"x\",\"y0\":0,\"y1\":1,\"yref\":\"y domain\"},{\"line\":{\"color\":\"gray\",\"dash\":\"dash\",\"width\":1},\"type\":\"line\",\"x0\":72,\"x1\":72,\"xref\":\"x\",\"y0\":0,\"y1\":1,\"yref\":\"y domain\"},{\"line\":{\"color\":\"gray\",\"dash\":\"dash\",\"width\":1},\"type\":\"line\",\"x0\":73,\"x1\":73,\"xref\":\"x\",\"y0\":0,\"y1\":1,\"yref\":\"y domain\"},{\"line\":{\"color\":\"gray\",\"dash\":\"dash\",\"width\":1},\"type\":\"line\",\"x0\":74,\"x1\":74,\"xref\":\"x\",\"y0\":0,\"y1\":1,\"yref\":\"y domain\"},{\"line\":{\"color\":\"gray\",\"dash\":\"dash\",\"width\":1},\"type\":\"line\",\"x0\":75,\"x1\":75,\"xref\":\"x\",\"y0\":0,\"y1\":1,\"yref\":\"y domain\"},{\"line\":{\"color\":\"gray\",\"dash\":\"dash\",\"width\":1},\"type\":\"line\",\"x0\":76,\"x1\":76,\"xref\":\"x\",\"y0\":0,\"y1\":1,\"yref\":\"y domain\"},{\"line\":{\"color\":\"gray\",\"dash\":\"dash\",\"width\":1},\"type\":\"line\",\"x0\":77,\"x1\":77,\"xref\":\"x\",\"y0\":0,\"y1\":1,\"yref\":\"y domain\"},{\"line\":{\"color\":\"gray\",\"dash\":\"dash\",\"width\":1},\"type\":\"line\",\"x0\":78,\"x1\":78,\"xref\":\"x\",\"y0\":0,\"y1\":1,\"yref\":\"y domain\"},{\"line\":{\"color\":\"gray\",\"dash\":\"dash\",\"width\":1},\"type\":\"line\",\"x0\":79,\"x1\":79,\"xref\":\"x\",\"y0\":0,\"y1\":1,\"yref\":\"y domain\"},{\"line\":{\"color\":\"gray\",\"dash\":\"dash\",\"width\":1},\"type\":\"line\",\"x0\":80,\"x1\":80,\"xref\":\"x\",\"y0\":0,\"y1\":1,\"yref\":\"y domain\"},{\"line\":{\"color\":\"gray\",\"dash\":\"dash\",\"width\":1},\"type\":\"line\",\"x0\":81,\"x1\":81,\"xref\":\"x\",\"y0\":0,\"y1\":1,\"yref\":\"y domain\"},{\"line\":{\"color\":\"gray\",\"dash\":\"dash\",\"width\":1},\"type\":\"line\",\"x0\":82,\"x1\":82,\"xref\":\"x\",\"y0\":0,\"y1\":1,\"yref\":\"y domain\"},{\"line\":{\"color\":\"gray\",\"dash\":\"dash\",\"width\":1},\"type\":\"line\",\"x0\":83,\"x1\":83,\"xref\":\"x\",\"y0\":0,\"y1\":1,\"yref\":\"y domain\"},{\"line\":{\"color\":\"gray\",\"dash\":\"dash\",\"width\":1},\"type\":\"line\",\"x0\":84,\"x1\":84,\"xref\":\"x\",\"y0\":0,\"y1\":1,\"yref\":\"y domain\"},{\"line\":{\"color\":\"gray\",\"dash\":\"dash\",\"width\":1},\"type\":\"line\",\"x0\":85,\"x1\":85,\"xref\":\"x\",\"y0\":0,\"y1\":1,\"yref\":\"y domain\"},{\"line\":{\"color\":\"gray\",\"dash\":\"dash\",\"width\":1},\"type\":\"line\",\"x0\":86,\"x1\":86,\"xref\":\"x\",\"y0\":0,\"y1\":1,\"yref\":\"y domain\"},{\"line\":{\"color\":\"gray\",\"dash\":\"dash\",\"width\":1},\"type\":\"line\",\"x0\":87,\"x1\":87,\"xref\":\"x\",\"y0\":0,\"y1\":1,\"yref\":\"y domain\"},{\"line\":{\"color\":\"gray\",\"dash\":\"dash\",\"width\":1},\"type\":\"line\",\"x0\":88,\"x1\":88,\"xref\":\"x\",\"y0\":0,\"y1\":1,\"yref\":\"y domain\"},{\"line\":{\"color\":\"gray\",\"dash\":\"dash\",\"width\":1},\"type\":\"line\",\"x0\":89,\"x1\":89,\"xref\":\"x\",\"y0\":0,\"y1\":1,\"yref\":\"y domain\"},{\"line\":{\"color\":\"gray\",\"dash\":\"dash\",\"width\":1},\"type\":\"line\",\"x0\":90,\"x1\":90,\"xref\":\"x\",\"y0\":0,\"y1\":1,\"yref\":\"y domain\"},{\"line\":{\"color\":\"gray\",\"dash\":\"dash\",\"width\":1},\"type\":\"line\",\"x0\":91,\"x1\":91,\"xref\":\"x\",\"y0\":0,\"y1\":1,\"yref\":\"y domain\"},{\"line\":{\"color\":\"gray\",\"dash\":\"dash\",\"width\":1},\"type\":\"line\",\"x0\":92,\"x1\":92,\"xref\":\"x\",\"y0\":0,\"y1\":1,\"yref\":\"y domain\"},{\"line\":{\"color\":\"gray\",\"dash\":\"dash\",\"width\":1},\"type\":\"line\",\"x0\":93,\"x1\":93,\"xref\":\"x\",\"y0\":0,\"y1\":1,\"yref\":\"y domain\"},{\"line\":{\"color\":\"gray\",\"dash\":\"dash\",\"width\":1},\"type\":\"line\",\"x0\":94,\"x1\":94,\"xref\":\"x\",\"y0\":0,\"y1\":1,\"yref\":\"y domain\"}],\"xaxis\":{\"tickmode\":\"array\",\"tickvals\":[0,1,2,3,4,5,6,7,8,9,10,11,12,13,14,15,16,17,18,19,20,21,22,23,24,25,26,27,28,29,30,31,32,33,34,35,36,37,38,39,40,41,42,43,44,45,46,47,48,49,50,51,52,53,54,55,56,57,58,59,60,61,62,63,64,65,66,67,68,69,70,71,72,73,74,75,76,77,78,79,80,81,82,83,84,85,86,87,88,89,90,91,92,93,94],\"ticktext\":[\"H\",\"He\",\"Li\",\"Be\",\"B\",\"C\",\"N\",\"O\",\"F\",\"Ne\",\"Na\",\"Mg\",\"Al\",\"Si\",\"P\",\"S\",\"Cl\",\"Ar\",\"K\",\"Ca\",\"Sc\",\"Ti\",\"V\",\"Cr\",\"Mn\",\"Fe\",\"Co\",\"Ni\",\"Cu\",\"Zn\",\"Ga\",\"Ge\",\"As\",\"Se\",\"Br\",\"Kr\",\"Rb\",\"Sr\",\"Y\",\"Zr\",\"Nb\",\"Mo\",\"Tc\",\"Ru\",\"Rh\",\"Pd\",\"Ag\",\"Cd\",\"In\",\"Sn\",\"Sb\",\"Te\",\"I\",\"Xe\",\"Cs\",\"Ba\",\"La\",\"Ce\",\"Pr\",\"Nd\",\"Pm\",\"Sm\",\"Eu\",\"Gd\",\"Tb\",\"Dy\",\"Ho\",\"Er\",\"Tm\",\"Yb\",\"Lu\",\"Hf\",\"Ta\",\"W\",\"Re\",\"Os\",\"Ir\",\"Pt\",\"Au\",\"Hg\",\"Tl\",\"Pb\",\"Bi\",\"Po\",\"At\",\"Rn\",\"Fr\",\"Ra\",\"Ac\",\"Th\",\"Pa\",\"U\",\"Np\",\"Pu\",\"Am\"],\"tickangle\":45,\"title\":{\"text\":\"Atomic number \\u002f Element\"}},\"yaxis\":{\"title\":{\"text\":\"Density\"}},\"barmode\":\"group\",\"legend\":{\"title\":{\"text\":\"Compositions\"}},\"width\":1200,\"height\":600,\"bargap\":0.1,\"bargroupgap\":0.05},                        {\"responsive\": true}                    ).then(function(){\n",
       "                            \n",
       "var gd = document.getElementById('b34d626b-8764-4488-a2ff-4ab41d22bbda');\n",
       "var x = new MutationObserver(function (mutations, observer) {{\n",
       "        var display = window.getComputedStyle(gd).display;\n",
       "        if (!display || display === 'none') {{\n",
       "            console.log([gd, 'removed!']);\n",
       "            Plotly.purge(gd);\n",
       "            observer.disconnect();\n",
       "        }}\n",
       "}});\n",
       "\n",
       "// Listen for the removal of the full notebook cells\n",
       "var notebookContainer = gd.closest('#notebook-container');\n",
       "if (notebookContainer) {{\n",
       "    x.observe(notebookContainer, {childList: true});\n",
       "}}\n",
       "\n",
       "// Listen for the clearing of the current output cell\n",
       "var outputEl = gd.closest('.output');\n",
       "if (outputEl) {{\n",
       "    x.observe(outputEl, {childList: true});\n",
       "}}\n",
       "\n",
       "                        })                };                });            </script>        </div>"
      ]
     },
     "metadata": {},
     "output_type": "display_data"
    }
   ],
   "source": [
    "import numpy as np\n",
    "import plotly.graph_objects as go\n",
    "\n",
    "\n",
    "def composition_to_idxs(composition: np.ndarray):\n",
    "    return np.repeat(np.arange(len(composition)), composition)\n",
    "\n",
    "\n",
    "def plot_compositions(\n",
    "    compositions: list[tuple[str, np.ndarray]],\n",
    "    element_labels=None,\n",
    "    max_atomic_number: int | None = None,\n",
    "):\n",
    "    fig = go.Figure()\n",
    "\n",
    "    if max_atomic_number is None:\n",
    "        max_atomic_number = max(len(comp[0]) for _, comp in compositions)\n",
    "\n",
    "    for name, composition in compositions:\n",
    "        atomic_numbers_flat = np.concatenate(\n",
    "            [composition_to_idxs(composition[i]) for i in trange(len(composition))],\n",
    "            axis=0,\n",
    "        )\n",
    "        print(atomic_numbers_flat.shape)\n",
    "\n",
    "        hist_data = np.histogram(\n",
    "            atomic_numbers_flat,\n",
    "            bins=np.arange(max_atomic_number + 1) - 0.5,\n",
    "            density=True,\n",
    "        )\n",
    "\n",
    "        fig.add_trace(\n",
    "            go.Bar(\n",
    "                x=hist_data[1][:-1],\n",
    "                y=hist_data[0],\n",
    "                name=name,\n",
    "            )\n",
    "        )\n",
    "\n",
    "    # Add vertical lines to separate elements\n",
    "    for i in range(max_atomic_number):\n",
    "        fig.add_vline(x=i, line_width=1, line_dash=\"dash\", line_color=\"gray\")\n",
    "\n",
    "    # Customize x-axis ticks and labels\n",
    "    if element_labels:\n",
    "        fig.update_layout(\n",
    "            xaxis=dict(\n",
    "                tickmode=\"array\",\n",
    "                tickvals=list(range(max_atomic_number)),\n",
    "                ticktext=element_labels[:max_atomic_number],\n",
    "                tickangle=45,\n",
    "            )\n",
    "        )\n",
    "\n",
    "    fig.update_layout(\n",
    "        xaxis_title=\"Atomic number / Element\",\n",
    "        yaxis_title=\"Density\",\n",
    "        barmode=\"group\",\n",
    "        legend_title=\"Compositions\",\n",
    "        width=1200,\n",
    "        height=600,\n",
    "        bargap=0.1,\n",
    "        bargroupgap=0.05,\n",
    "    )\n",
    "\n",
    "    fig.show()\n",
    "\n",
    "\n",
    "# Get element symbols from the package `pymatgen`\n",
    "from pymatgen.core import Element\n",
    "\n",
    "element_labels = [Element.from_Z(i).symbol for i in range(1, 119)]\n",
    "\n",
    "\n",
    "plot_compositions(\n",
    "    [\n",
    "        (\"mptrj\", mptrj[\"composition\"]),\n",
    "        (\"wbm\", wbm[\"composition\"]),\n",
    "        (\"problematic\", problematic_compositions),\n",
    "    ],\n",
    "    element_labels=element_labels,\n",
    "    max_atomic_number=95,\n",
    ")"
   ]
  },
  {
   "cell_type": "code",
   "execution_count": null,
   "metadata": {},
   "outputs": [],
   "source": []
  }
 ],
 "metadata": {
  "kernelspec": {
   "display_name": "jmp-peft",
   "language": "python",
   "name": "python3"
  },
  "language_info": {
   "codemirror_mode": {
    "name": "ipython",
    "version": 3
   },
   "file_extension": ".py",
   "mimetype": "text/x-python",
   "name": "python",
   "nbconvert_exporter": "python",
   "pygments_lexer": "ipython3",
   "version": "3.11.9"
  }
 },
 "nbformat": 4,
 "nbformat_minor": 2
}
