{
 "cells": [
  {
   "cell_type": "code",
   "execution_count": 14,
   "metadata": {},
   "outputs": [],
   "source": [
    "import ll\n",
    "\n",
    "ll.pretty()"
   ]
  },
  {
   "cell_type": "code",
   "execution_count": 2,
   "metadata": {},
   "outputs": [
    {
     "data": {
      "text/plain": [
       "Dataset({\n",
       "    features: ['numbers', 'positions', 'forces', 'cell', 'pbc', 'energy', 'stress', 'e_per_atom_relaxed', 'mp_id', 'energy_per_atom', 'ef_per_atom_relaxed', 'corrected_total_energy', 'ef_per_atom', 'task_id', 'calc_id', 'ionic_step', 'filename', 'extxyz_id', 'num_atoms'],\n",
       "    num_rows: 10206\n",
       "})"
      ]
     },
     "execution_count": 2,
     "metadata": {},
     "output_type": "execute_result"
    }
   ],
   "source": [
    "import datasets\n",
    "\n",
    "dataset = datasets.load_dataset(\"nimashoghi/mptrj\", split=\"val\")\n",
    "dataset.set_format(\"numpy\")\n",
    "dataset"
   ]
  },
  {
   "cell_type": "code",
   "execution_count": 13,
   "metadata": {},
   "outputs": [
    {
     "data": {
      "text/html": [
       "<pre style=\"white-space:pre;overflow-x:auto;line-height:normal;font-family:Menlo,'DejaVu Sans Mono',consolas,'Courier New',monospace\">array<span style=\"font-weight: bold\">[</span><span style=\"color: #008080; text-decoration-color: #008080; font-weight: bold\">10206</span><span style=\"font-weight: bold\">]</span> f32 40Kb x∈<span style=\"font-weight: bold\">[</span><span style=\"color: #008080; text-decoration-color: #008080; font-weight: bold\">-2.335e+03</span>, <span style=\"color: #008080; text-decoration-color: #008080; font-weight: bold\">-0.755</span><span style=\"font-weight: bold\">]</span> <span style=\"color: #808000; text-decoration-color: #808000\">μ</span>=<span style=\"color: #008080; text-decoration-color: #008080; font-weight: bold\">-202.870</span> <span style=\"color: #808000; text-decoration-color: #808000\">σ</span>=<span style=\"color: #008080; text-decoration-color: #008080; font-weight: bold\">206.597</span>\n",
       "</pre>\n"
      ],
      "text/plain": [
       "array\u001b[1m[\u001b[0m\u001b[1;36m10206\u001b[0m\u001b[1m]\u001b[0m f32 40Kb x∈\u001b[1m[\u001b[0m\u001b[1;36m-2.335e+03\u001b[0m, \u001b[1;36m-0.755\u001b[0m\u001b[1m]\u001b[0m \u001b[33mμ\u001b[0m=\u001b[1;36m-202.870\u001b[0m \u001b[33mσ\u001b[0m=\u001b[1;36m206\u001b[0m\u001b[1;36m.597\u001b[0m\n"
      ]
     },
     "metadata": {},
     "output_type": "display_data"
    },
    {
     "data": {
      "text/html": [
       "<pre style=\"white-space:pre;overflow-x:auto;line-height:normal;font-family:Menlo,'DejaVu Sans Mono',consolas,'Courier New',monospace\">array<span style=\"font-weight: bold\">[</span><span style=\"color: #008080; text-decoration-color: #008080; font-weight: bold\">10206</span><span style=\"font-weight: bold\">]</span> 80Kb x∈<span style=\"font-weight: bold\">[</span><span style=\"color: #008080; text-decoration-color: #008080; font-weight: bold\">-2.335e+03</span>, <span style=\"color: #008080; text-decoration-color: #008080; font-weight: bold\">-0.755</span><span style=\"font-weight: bold\">]</span> <span style=\"color: #808000; text-decoration-color: #808000\">μ</span>=<span style=\"color: #008080; text-decoration-color: #008080; font-weight: bold\">-202.870</span> <span style=\"color: #808000; text-decoration-color: #808000\">σ</span>=<span style=\"color: #008080; text-decoration-color: #008080; font-weight: bold\">206.597</span>\n",
       "</pre>\n"
      ],
      "text/plain": [
       "array\u001b[1m[\u001b[0m\u001b[1;36m10206\u001b[0m\u001b[1m]\u001b[0m 80Kb x∈\u001b[1m[\u001b[0m\u001b[1;36m-2.335e+03\u001b[0m, \u001b[1;36m-0.755\u001b[0m\u001b[1m]\u001b[0m \u001b[33mμ\u001b[0m=\u001b[1;36m-202.870\u001b[0m \u001b[33mσ\u001b[0m=\u001b[1;36m206\u001b[0m\u001b[1;36m.597\u001b[0m\n"
      ]
     },
     "metadata": {},
     "output_type": "display_data"
    },
    {
     "data": {
      "text/html": [
       "<pre style=\"white-space:pre;overflow-x:auto;line-height:normal;font-family:Menlo,'DejaVu Sans Mono',consolas,'Courier New',monospace\"><span style=\"color: #00ff00; text-decoration-color: #00ff00; font-style: italic\">True</span>\n",
       "</pre>\n"
      ],
      "text/plain": [
       "\u001b[3;92mTrue\u001b[0m\n"
      ]
     },
     "metadata": {},
     "output_type": "display_data"
    },
    {
     "data": {
      "text/html": [
       "<pre style=\"white-space:pre;overflow-x:auto;line-height:normal;font-family:Menlo,'DejaVu Sans Mono',consolas,'Courier New',monospace\">array<span style=\"font-weight: bold\">[</span><span style=\"color: #008080; text-decoration-color: #008080; font-weight: bold\">10206</span><span style=\"font-weight: bold\">]</span> 80Kb x∈<span style=\"font-weight: bold\">[</span><span style=\"color: #008080; text-decoration-color: #008080; font-weight: bold\">-2.430e+03</span>, <span style=\"color: #008080; text-decoration-color: #008080; font-weight: bold\">-0.902</span><span style=\"font-weight: bold\">]</span> <span style=\"color: #808000; text-decoration-color: #808000\">μ</span>=<span style=\"color: #008080; text-decoration-color: #008080; font-weight: bold\">-203.843</span> <span style=\"color: #808000; text-decoration-color: #808000\">σ</span>=<span style=\"color: #008080; text-decoration-color: #008080; font-weight: bold\">207.422</span>\n",
       "</pre>\n"
      ],
      "text/plain": [
       "array\u001b[1m[\u001b[0m\u001b[1;36m10206\u001b[0m\u001b[1m]\u001b[0m 80Kb x∈\u001b[1m[\u001b[0m\u001b[1;36m-2.430e+03\u001b[0m, \u001b[1;36m-0.902\u001b[0m\u001b[1m]\u001b[0m \u001b[33mμ\u001b[0m=\u001b[1;36m-203.843\u001b[0m \u001b[33mσ\u001b[0m=\u001b[1;36m207\u001b[0m\u001b[1;36m.422\u001b[0m\n"
      ]
     },
     "metadata": {},
     "output_type": "display_data"
    },
    {
     "data": {
      "text/html": [
       "<pre style=\"white-space:pre;overflow-x:auto;line-height:normal;font-family:Menlo,'DejaVu Sans Mono',consolas,'Courier New',monospace\">array<span style=\"font-weight: bold\">[</span><span style=\"color: #008080; text-decoration-color: #008080; font-weight: bold\">10206</span><span style=\"font-weight: bold\">]</span> 80Kb x∈<span style=\"font-weight: bold\">[</span><span style=\"color: #008080; text-decoration-color: #008080; font-weight: bold\">-2.430e+03</span>, <span style=\"color: #008080; text-decoration-color: #008080; font-weight: bold\">-0.902</span><span style=\"font-weight: bold\">]</span> <span style=\"color: #808000; text-decoration-color: #808000\">μ</span>=<span style=\"color: #008080; text-decoration-color: #008080; font-weight: bold\">-203.843</span> <span style=\"color: #808000; text-decoration-color: #808000\">σ</span>=<span style=\"color: #008080; text-decoration-color: #008080; font-weight: bold\">207.422</span>\n",
       "</pre>\n"
      ],
      "text/plain": [
       "array\u001b[1m[\u001b[0m\u001b[1;36m10206\u001b[0m\u001b[1m]\u001b[0m 80Kb x∈\u001b[1m[\u001b[0m\u001b[1;36m-2.430e+03\u001b[0m, \u001b[1;36m-0.902\u001b[0m\u001b[1m]\u001b[0m \u001b[33mμ\u001b[0m=\u001b[1;36m-203.843\u001b[0m \u001b[33mσ\u001b[0m=\u001b[1;36m207\u001b[0m\u001b[1;36m.422\u001b[0m\n"
      ]
     },
     "metadata": {},
     "output_type": "display_data"
    }
   ],
   "source": [
    "import numpy as np\n",
    "import rich\n",
    "\n",
    "rich.print(dataset[\"corrected_total_energy\"])\n",
    "rich.print(dataset[\"energy_per_atom\"] * dataset[\"num_atoms\"])\n",
    "rich.print(\n",
    "    np.allclose(\n",
    "        dataset[\"corrected_total_energy\"],\n",
    "        dataset[\"energy_per_atom\"] * dataset[\"num_atoms\"],\n",
    "    )\n",
    ")\n",
    "rich.print(dataset[\"e_per_atom_relaxed\"] * dataset[\"num_atoms\"])\n",
    "rich.print(dataset[\"ef_per_atom_relaxed\"] * dataset[\"num_atoms\"])"
   ]
  }
 ],
 "metadata": {
  "kernelspec": {
   "display_name": "jmp-peft",
   "language": "python",
   "name": "python3"
  },
  "language_info": {
   "codemirror_mode": {
    "name": "ipython",
    "version": 3
   },
   "file_extension": ".py",
   "mimetype": "text/x-python",
   "name": "python",
   "nbconvert_exporter": "python",
   "pygments_lexer": "ipython3",
   "version": "3.11.6"
  }
 },
 "nbformat": 4,
 "nbformat_minor": 2
}
