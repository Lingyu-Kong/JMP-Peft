{
 "cells": [
  {
   "cell_type": "code",
   "execution_count": 1,
   "metadata": {},
   "outputs": [
    {
     "name": "stderr",
     "output_type": "stream",
     "text": [
      "TensorBoard/TensorBoardX not found. Disabling TensorBoardLogger. Please install TensorBoard with `pip install tensorboard` or TensorBoardX with `pip install tensorboardx` to enable TensorBoard logging.\n"
     ]
    }
   ],
   "source": [
    "import os\n",
    "\n",
    "os.environ[\"LL_DISABLE_TYPECHECKING\"] = \"1\"\n",
    "os.environ[\"CUDA_VISIBLE_DEVICES\"] = \"2\"\n",
    "\n",
    "\n",
    "import ll\n",
    "import rich\n",
    "\n",
    "ll.pretty()"
   ]
  },
  {
   "cell_type": "code",
   "execution_count": 2,
   "metadata": {},
   "outputs": [
    {
     "data": {
      "text/plain": [
       "Path('/net/csefiles/coc-fung-cluster/nima/shared/experiment-data/lltrainer/lmmtlw3j/checkpoint/last.ckpt')"
      ]
     },
     "execution_count": 2,
     "metadata": {},
     "output_type": "execute_result"
    }
   ],
   "source": [
    "from pathlib import Path\n",
    "\n",
    "ckpt_dir = Path(\n",
    "    \"/net/csefiles/coc-fung-cluster/nima/shared/experiment-data/lltrainer/lmmtlw3j/checkpoint/last.ckpt\"\n",
    ")\n",
    "ckpt_dir"
   ]
  },
  {
   "cell_type": "code",
   "execution_count": 3,
   "metadata": {},
   "outputs": [
    {
     "data": {
      "text/html": [
       "<pre style=\"white-space:pre;overflow-x:auto;line-height:normal;font-family:Menlo,'DejaVu Sans Mono',consolas,'Courier New',monospace\"><span style=\"color: #7fbfbf; text-decoration-color: #7fbfbf\">[19:07:40] </span><span style=\"background-color: #800000; font-weight: bold\">CRITICAL</span> Type checking is disabled due to the environment variable                       <a href=\"file:///net/csefiles/coc-fung-cluster/nima/shared/repositories/ll/src/ll/typecheck.py\" target=\"_blank\"><span style=\"color: #7f7f7f; text-decoration-color: #7f7f7f\">typecheck.py</span></a><span style=\"color: #7f7f7f; text-decoration-color: #7f7f7f\">:</span><a href=\"file:///net/csefiles/coc-fung-cluster/nima/shared/repositories/ll/src/ll/typecheck.py#55\" target=\"_blank\"><span style=\"color: #7f7f7f; text-decoration-color: #7f7f7f\">55</span></a>\n",
       "<span style=\"color: #7fbfbf; text-decoration-color: #7fbfbf\">           </span>         LL_DISABLE_TYPECHECKING.                                                        <span style=\"color: #7f7f7f; text-decoration-color: #7f7f7f\">               </span>\n",
       "</pre>\n"
      ],
      "text/plain": [
       "\u001b[2;36m[19:07:40]\u001b[0m\u001b[2;36m \u001b[0m\u001b[1;7;31mCRITICAL\u001b[0m Type checking is disabled due to the environment variable                       \u001b]8;id=117460;file:///net/csefiles/coc-fung-cluster/nima/shared/repositories/ll/src/ll/typecheck.py\u001b\\\u001b[2mtypecheck.py\u001b[0m\u001b]8;;\u001b\\\u001b[2m:\u001b[0m\u001b]8;id=336720;file:///net/csefiles/coc-fung-cluster/nima/shared/repositories/ll/src/ll/typecheck.py#55\u001b\\\u001b[2m55\u001b[0m\u001b]8;;\u001b\\\n",
       "\u001b[2;36m           \u001b[0m         LL_DISABLE_TYPECHECKING.                                                        \u001b[2m               \u001b[0m\n"
      ]
     },
     "metadata": {},
     "output_type": "display_data"
    },
    {
     "data": {
      "text/html": [
       "<pre style=\"white-space:pre;overflow-x:auto;line-height:normal;font-family:Menlo,'DejaVu Sans Mono',consolas,'Courier New',monospace\"><span style=\"color: #7fbfbf; text-decoration-color: #7fbfbf\">[19:07:41] </span><span style=\"color: #000080; text-decoration-color: #000080\">INFO    </span> PyTorch version <span style=\"color: #008080; text-decoration-color: #008080; font-weight: bold\">2.2</span>.<span style=\"color: #008080; text-decoration-color: #008080; font-weight: bold\">2</span> available.                                                   <a href=\"file:///net/csefiles/coc-fung-cluster/nima/miniforge3/envs/jmp-peft/lib/python3.11/site-packages/datasets/config.py\" target=\"_blank\"><span style=\"color: #7f7f7f; text-decoration-color: #7f7f7f\">config.py</span></a><span style=\"color: #7f7f7f; text-decoration-color: #7f7f7f\">:</span><a href=\"file:///net/csefiles/coc-fung-cluster/nima/miniforge3/envs/jmp-peft/lib/python3.11/site-packages/datasets/config.py#58\" target=\"_blank\"><span style=\"color: #7f7f7f; text-decoration-color: #7f7f7f\">58</span></a>\n",
       "</pre>\n"
      ],
      "text/plain": [
       "\u001b[2;36m[19:07:41]\u001b[0m\u001b[2;36m \u001b[0m\u001b[34mINFO    \u001b[0m PyTorch version \u001b[1;36m2.2\u001b[0m.\u001b[1;36m2\u001b[0m available.                                                   \u001b]8;id=576169;file:///net/csefiles/coc-fung-cluster/nima/miniforge3/envs/jmp-peft/lib/python3.11/site-packages/datasets/config.py\u001b\\\u001b[2mconfig.py\u001b[0m\u001b]8;;\u001b\\\u001b[2m:\u001b[0m\u001b]8;id=271323;file:///net/csefiles/coc-fung-cluster/nima/miniforge3/envs/jmp-peft/lib/python3.11/site-packages/datasets/config.py#58\u001b\\\u001b[2m58\u001b[0m\u001b]8;;\u001b\\\n"
      ]
     },
     "metadata": {},
     "output_type": "display_data"
    },
    {
     "name": "stdout",
     "output_type": "stream",
     "text": [
      "Loading 'wbm_summary' from cached file at '/nethome/nsg6/.cache/matbench-discovery/1.0.0/wbm/2023-12-13-wbm-summary.csv.gz'\n"
     ]
    },
    {
     "data": {
      "text/html": [
       "<pre style=\"white-space:pre;overflow-x:auto;line-height:normal;font-family:Menlo,'DejaVu Sans Mono',consolas,'Courier New',monospace\"><span style=\"color: #7fbfbf; text-decoration-color: #7fbfbf\">[19:07:46] </span><span style=\"background-color: #800000; font-weight: bold\">CRITICAL</span> Using regular backbone                                                              <a href=\"file:///net/csefiles/coc-fung-cluster/nima/shared/repositories/jmp-peft/src/jmppeft/tasks/finetune/base.py\" target=\"_blank\"><span style=\"color: #7f7f7f; text-decoration-color: #7f7f7f\">base.py</span></a><span style=\"color: #7f7f7f; text-decoration-color: #7f7f7f\">:</span><a href=\"file:///net/csefiles/coc-fung-cluster/nima/shared/repositories/jmp-peft/src/jmppeft/tasks/finetune/base.py#602\" target=\"_blank\"><span style=\"color: #7f7f7f; text-decoration-color: #7f7f7f\">602</span></a>\n",
       "</pre>\n"
      ],
      "text/plain": [
       "\u001b[2;36m[19:07:46]\u001b[0m\u001b[2;36m \u001b[0m\u001b[1;7;31mCRITICAL\u001b[0m Using regular backbone                                                              \u001b]8;id=2231;file:///net/csefiles/coc-fung-cluster/nima/shared/repositories/jmp-peft/src/jmppeft/tasks/finetune/base.py\u001b\\\u001b[2mbase.py\u001b[0m\u001b]8;;\u001b\\\u001b[2m:\u001b[0m\u001b]8;id=454121;file:///net/csefiles/coc-fung-cluster/nima/shared/repositories/jmp-peft/src/jmppeft/tasks/finetune/base.py#602\u001b\\\u001b[2m602\u001b[0m\u001b]8;;\u001b\\\n"
      ]
     },
     "metadata": {},
     "output_type": "display_data"
    },
    {
     "name": "stdout",
     "output_type": "stream",
     "text": [
      "Unrecognized arguments:  dict_keys(['name', 'learnable_rbf', 'learnable_rbf_stds', 'unique_basis_per_layer', 'dropout', 'edge_dropout', 'ln_per_layer', 'scale_factor_to_ln'])\n"
     ]
    },
    {
     "data": {
      "text/html": [
       "<pre style=\"white-space:pre;overflow-x:auto;line-height:normal;font-family:Menlo,'DejaVu Sans Mono',consolas,'Courier New',monospace\"><span style=\"color: #7fbfbf; text-decoration-color: #7fbfbf\">           </span><span style=\"color: #000080; text-decoration-color: #000080\">INFO    </span> <span style=\"font-weight: bold\">[</span>RadialBasis<span style=\"font-weight: bold\">]</span> Using absolute cutoff of <span style=\"color: #008080; text-decoration-color: #008080; font-weight: bold\">12.0</span> Angstroms.       <a href=\"file:///net/csefiles/coc-fung-cluster/nima/shared/repositories/jmp-peft/src/jmppeft/models/gemnet/layers/radial_basis_dynamic_cutoff.py\" target=\"_blank\"><span style=\"color: #7f7f7f; text-decoration-color: #7f7f7f\">radial_basis_dynamic_cutoff.py</span></a><span style=\"color: #7f7f7f; text-decoration-color: #7f7f7f\">:</span><a href=\"file:///net/csefiles/coc-fung-cluster/nima/shared/repositories/jmp-peft/src/jmppeft/models/gemnet/layers/radial_basis_dynamic_cutoff.py#213\" target=\"_blank\"><span style=\"color: #7f7f7f; text-decoration-color: #7f7f7f\">213</span></a>\n",
       "</pre>\n"
      ],
      "text/plain": [
       "\u001b[2;36m          \u001b[0m\u001b[2;36m \u001b[0m\u001b[34mINFO    \u001b[0m \u001b[1m[\u001b[0mRadialBasis\u001b[1m]\u001b[0m Using absolute cutoff of \u001b[1;36m12.0\u001b[0m Angstroms.       \u001b]8;id=250966;file:///net/csefiles/coc-fung-cluster/nima/shared/repositories/jmp-peft/src/jmppeft/models/gemnet/layers/radial_basis_dynamic_cutoff.py\u001b\\\u001b[2mradial_basis_dynamic_cutoff.py\u001b[0m\u001b]8;;\u001b\\\u001b[2m:\u001b[0m\u001b]8;id=438028;file:///net/csefiles/coc-fung-cluster/nima/shared/repositories/jmp-peft/src/jmppeft/models/gemnet/layers/radial_basis_dynamic_cutoff.py#213\u001b\\\u001b[2m213\u001b[0m\u001b]8;;\u001b\\\n"
      ]
     },
     "metadata": {},
     "output_type": "display_data"
    },
    {
     "data": {
      "text/html": [
       "<pre style=\"white-space:pre;overflow-x:auto;line-height:normal;font-family:Menlo,'DejaVu Sans Mono',consolas,'Courier New',monospace\"><span style=\"color: #7fbfbf; text-decoration-color: #7fbfbf\">           </span><span style=\"color: #000080; text-decoration-color: #000080\">INFO    </span> <span style=\"font-weight: bold\">[</span>RadialBasis<span style=\"font-weight: bold\">]</span> Using absolute cutoff of <span style=\"color: #008080; text-decoration-color: #008080; font-weight: bold\">12.0</span> Angstroms.       <a href=\"file:///net/csefiles/coc-fung-cluster/nima/shared/repositories/jmp-peft/src/jmppeft/models/gemnet/layers/radial_basis_dynamic_cutoff.py\" target=\"_blank\"><span style=\"color: #7f7f7f; text-decoration-color: #7f7f7f\">radial_basis_dynamic_cutoff.py</span></a><span style=\"color: #7f7f7f; text-decoration-color: #7f7f7f\">:</span><a href=\"file:///net/csefiles/coc-fung-cluster/nima/shared/repositories/jmp-peft/src/jmppeft/models/gemnet/layers/radial_basis_dynamic_cutoff.py#213\" target=\"_blank\"><span style=\"color: #7f7f7f; text-decoration-color: #7f7f7f\">213</span></a>\n",
       "</pre>\n"
      ],
      "text/plain": [
       "\u001b[2;36m          \u001b[0m\u001b[2;36m \u001b[0m\u001b[34mINFO    \u001b[0m \u001b[1m[\u001b[0mRadialBasis\u001b[1m]\u001b[0m Using absolute cutoff of \u001b[1;36m12.0\u001b[0m Angstroms.       \u001b]8;id=281192;file:///net/csefiles/coc-fung-cluster/nima/shared/repositories/jmp-peft/src/jmppeft/models/gemnet/layers/radial_basis_dynamic_cutoff.py\u001b\\\u001b[2mradial_basis_dynamic_cutoff.py\u001b[0m\u001b]8;;\u001b\\\u001b[2m:\u001b[0m\u001b]8;id=847641;file:///net/csefiles/coc-fung-cluster/nima/shared/repositories/jmp-peft/src/jmppeft/models/gemnet/layers/radial_basis_dynamic_cutoff.py#213\u001b\\\u001b[2m213\u001b[0m\u001b]8;;\u001b\\\n"
      ]
     },
     "metadata": {},
     "output_type": "display_data"
    },
    {
     "data": {
      "text/html": [
       "<pre style=\"white-space:pre;overflow-x:auto;line-height:normal;font-family:Menlo,'DejaVu Sans Mono',consolas,'Courier New',monospace\"><span style=\"color: #7fbfbf; text-decoration-color: #7fbfbf\">           </span><span style=\"color: #000080; text-decoration-color: #000080\">INFO    </span> <span style=\"font-weight: bold\">[</span>RadialBasis<span style=\"font-weight: bold\">]</span> Using absolute cutoff of <span style=\"color: #008080; text-decoration-color: #008080; font-weight: bold\">12.0</span> Angstroms.       <a href=\"file:///net/csefiles/coc-fung-cluster/nima/shared/repositories/jmp-peft/src/jmppeft/models/gemnet/layers/radial_basis_dynamic_cutoff.py\" target=\"_blank\"><span style=\"color: #7f7f7f; text-decoration-color: #7f7f7f\">radial_basis_dynamic_cutoff.py</span></a><span style=\"color: #7f7f7f; text-decoration-color: #7f7f7f\">:</span><a href=\"file:///net/csefiles/coc-fung-cluster/nima/shared/repositories/jmp-peft/src/jmppeft/models/gemnet/layers/radial_basis_dynamic_cutoff.py#213\" target=\"_blank\"><span style=\"color: #7f7f7f; text-decoration-color: #7f7f7f\">213</span></a>\n",
       "</pre>\n"
      ],
      "text/plain": [
       "\u001b[2;36m          \u001b[0m\u001b[2;36m \u001b[0m\u001b[34mINFO    \u001b[0m \u001b[1m[\u001b[0mRadialBasis\u001b[1m]\u001b[0m Using absolute cutoff of \u001b[1;36m12.0\u001b[0m Angstroms.       \u001b]8;id=561818;file:///net/csefiles/coc-fung-cluster/nima/shared/repositories/jmp-peft/src/jmppeft/models/gemnet/layers/radial_basis_dynamic_cutoff.py\u001b\\\u001b[2mradial_basis_dynamic_cutoff.py\u001b[0m\u001b]8;;\u001b\\\u001b[2m:\u001b[0m\u001b]8;id=3764;file:///net/csefiles/coc-fung-cluster/nima/shared/repositories/jmp-peft/src/jmppeft/models/gemnet/layers/radial_basis_dynamic_cutoff.py#213\u001b\\\u001b[2m213\u001b[0m\u001b]8;;\u001b\\\n"
      ]
     },
     "metadata": {},
     "output_type": "display_data"
    },
    {
     "data": {
      "text/html": [
       "<pre style=\"white-space:pre;overflow-x:auto;line-height:normal;font-family:Menlo,'DejaVu Sans Mono',consolas,'Courier New',monospace\"><span style=\"color: #7fbfbf; text-decoration-color: #7fbfbf\">           </span><span style=\"color: #000080; text-decoration-color: #000080\">INFO    </span> <span style=\"font-weight: bold\">[</span>RadialBasis<span style=\"font-weight: bold\">]</span> Using absolute cutoff of <span style=\"color: #008080; text-decoration-color: #008080; font-weight: bold\">12.0</span> Angstroms.       <a href=\"file:///net/csefiles/coc-fung-cluster/nima/shared/repositories/jmp-peft/src/jmppeft/models/gemnet/layers/radial_basis_dynamic_cutoff.py\" target=\"_blank\"><span style=\"color: #7f7f7f; text-decoration-color: #7f7f7f\">radial_basis_dynamic_cutoff.py</span></a><span style=\"color: #7f7f7f; text-decoration-color: #7f7f7f\">:</span><a href=\"file:///net/csefiles/coc-fung-cluster/nima/shared/repositories/jmp-peft/src/jmppeft/models/gemnet/layers/radial_basis_dynamic_cutoff.py#213\" target=\"_blank\"><span style=\"color: #7f7f7f; text-decoration-color: #7f7f7f\">213</span></a>\n",
       "</pre>\n"
      ],
      "text/plain": [
       "\u001b[2;36m          \u001b[0m\u001b[2;36m \u001b[0m\u001b[34mINFO    \u001b[0m \u001b[1m[\u001b[0mRadialBasis\u001b[1m]\u001b[0m Using absolute cutoff of \u001b[1;36m12.0\u001b[0m Angstroms.       \u001b]8;id=322175;file:///net/csefiles/coc-fung-cluster/nima/shared/repositories/jmp-peft/src/jmppeft/models/gemnet/layers/radial_basis_dynamic_cutoff.py\u001b\\\u001b[2mradial_basis_dynamic_cutoff.py\u001b[0m\u001b]8;;\u001b\\\u001b[2m:\u001b[0m\u001b]8;id=558604;file:///net/csefiles/coc-fung-cluster/nima/shared/repositories/jmp-peft/src/jmppeft/models/gemnet/layers/radial_basis_dynamic_cutoff.py#213\u001b\\\u001b[2m213\u001b[0m\u001b]8;;\u001b\\\n"
      ]
     },
     "metadata": {},
     "output_type": "display_data"
    },
    {
     "data": {
      "text/html": [
       "<pre style=\"white-space:pre;overflow-x:auto;line-height:normal;font-family:Menlo,'DejaVu Sans Mono',consolas,'Courier New',monospace\"><span style=\"color: #7fbfbf; text-decoration-color: #7fbfbf\">           </span><span style=\"color: #000080; text-decoration-color: #000080\">INFO    </span> <span style=\"font-weight: bold\">[</span>RadialBasis<span style=\"font-weight: bold\">]</span> Using absolute cutoff of <span style=\"color: #008080; text-decoration-color: #008080; font-weight: bold\">12.0</span> Angstroms.       <a href=\"file:///net/csefiles/coc-fung-cluster/nima/shared/repositories/jmp-peft/src/jmppeft/models/gemnet/layers/radial_basis_dynamic_cutoff.py\" target=\"_blank\"><span style=\"color: #7f7f7f; text-decoration-color: #7f7f7f\">radial_basis_dynamic_cutoff.py</span></a><span style=\"color: #7f7f7f; text-decoration-color: #7f7f7f\">:</span><a href=\"file:///net/csefiles/coc-fung-cluster/nima/shared/repositories/jmp-peft/src/jmppeft/models/gemnet/layers/radial_basis_dynamic_cutoff.py#213\" target=\"_blank\"><span style=\"color: #7f7f7f; text-decoration-color: #7f7f7f\">213</span></a>\n",
       "</pre>\n"
      ],
      "text/plain": [
       "\u001b[2;36m          \u001b[0m\u001b[2;36m \u001b[0m\u001b[34mINFO    \u001b[0m \u001b[1m[\u001b[0mRadialBasis\u001b[1m]\u001b[0m Using absolute cutoff of \u001b[1;36m12.0\u001b[0m Angstroms.       \u001b]8;id=61579;file:///net/csefiles/coc-fung-cluster/nima/shared/repositories/jmp-peft/src/jmppeft/models/gemnet/layers/radial_basis_dynamic_cutoff.py\u001b\\\u001b[2mradial_basis_dynamic_cutoff.py\u001b[0m\u001b]8;;\u001b\\\u001b[2m:\u001b[0m\u001b]8;id=142514;file:///net/csefiles/coc-fung-cluster/nima/shared/repositories/jmp-peft/src/jmppeft/models/gemnet/layers/radial_basis_dynamic_cutoff.py#213\u001b\\\u001b[2m213\u001b[0m\u001b]8;;\u001b\\\n"
      ]
     },
     "metadata": {},
     "output_type": "display_data"
    },
    {
     "data": {
      "text/html": [
       "<pre style=\"white-space:pre;overflow-x:auto;line-height:normal;font-family:Menlo,'DejaVu Sans Mono',consolas,'Courier New',monospace\"><span style=\"color: #7fbfbf; text-decoration-color: #7fbfbf\">           </span><span style=\"color: #000080; text-decoration-color: #000080\">INFO    </span> <span style=\"font-weight: bold\">[</span>RadialBasis<span style=\"font-weight: bold\">]</span> Using absolute cutoff of <span style=\"color: #008080; text-decoration-color: #008080; font-weight: bold\">12.0</span> Angstroms.       <a href=\"file:///net/csefiles/coc-fung-cluster/nima/shared/repositories/jmp-peft/src/jmppeft/models/gemnet/layers/radial_basis_dynamic_cutoff.py\" target=\"_blank\"><span style=\"color: #7f7f7f; text-decoration-color: #7f7f7f\">radial_basis_dynamic_cutoff.py</span></a><span style=\"color: #7f7f7f; text-decoration-color: #7f7f7f\">:</span><a href=\"file:///net/csefiles/coc-fung-cluster/nima/shared/repositories/jmp-peft/src/jmppeft/models/gemnet/layers/radial_basis_dynamic_cutoff.py#213\" target=\"_blank\"><span style=\"color: #7f7f7f; text-decoration-color: #7f7f7f\">213</span></a>\n",
       "</pre>\n"
      ],
      "text/plain": [
       "\u001b[2;36m          \u001b[0m\u001b[2;36m \u001b[0m\u001b[34mINFO    \u001b[0m \u001b[1m[\u001b[0mRadialBasis\u001b[1m]\u001b[0m Using absolute cutoff of \u001b[1;36m12.0\u001b[0m Angstroms.       \u001b]8;id=636693;file:///net/csefiles/coc-fung-cluster/nima/shared/repositories/jmp-peft/src/jmppeft/models/gemnet/layers/radial_basis_dynamic_cutoff.py\u001b\\\u001b[2mradial_basis_dynamic_cutoff.py\u001b[0m\u001b]8;;\u001b\\\u001b[2m:\u001b[0m\u001b]8;id=213868;file:///net/csefiles/coc-fung-cluster/nima/shared/repositories/jmp-peft/src/jmppeft/models/gemnet/layers/radial_basis_dynamic_cutoff.py#213\u001b\\\u001b[2m213\u001b[0m\u001b]8;;\u001b\\\n"
      ]
     },
     "metadata": {},
     "output_type": "display_data"
    },
    {
     "data": {
      "text/html": [
       "<pre style=\"white-space:pre;overflow-x:auto;line-height:normal;font-family:Menlo,'DejaVu Sans Mono',consolas,'Courier New',monospace\"><span style=\"color: #7fbfbf; text-decoration-color: #7fbfbf\">           </span><span style=\"color: #000080; text-decoration-color: #000080\">INFO    </span> <span style=\"font-weight: bold\">[</span>RadialBasis<span style=\"font-weight: bold\">]</span> Using absolute cutoff of <span style=\"color: #008080; text-decoration-color: #008080; font-weight: bold\">12.0</span> Angstroms.       <a href=\"file:///net/csefiles/coc-fung-cluster/nima/shared/repositories/jmp-peft/src/jmppeft/models/gemnet/layers/radial_basis_dynamic_cutoff.py\" target=\"_blank\"><span style=\"color: #7f7f7f; text-decoration-color: #7f7f7f\">radial_basis_dynamic_cutoff.py</span></a><span style=\"color: #7f7f7f; text-decoration-color: #7f7f7f\">:</span><a href=\"file:///net/csefiles/coc-fung-cluster/nima/shared/repositories/jmp-peft/src/jmppeft/models/gemnet/layers/radial_basis_dynamic_cutoff.py#213\" target=\"_blank\"><span style=\"color: #7f7f7f; text-decoration-color: #7f7f7f\">213</span></a>\n",
       "</pre>\n"
      ],
      "text/plain": [
       "\u001b[2;36m          \u001b[0m\u001b[2;36m \u001b[0m\u001b[34mINFO    \u001b[0m \u001b[1m[\u001b[0mRadialBasis\u001b[1m]\u001b[0m Using absolute cutoff of \u001b[1;36m12.0\u001b[0m Angstroms.       \u001b]8;id=661632;file:///net/csefiles/coc-fung-cluster/nima/shared/repositories/jmp-peft/src/jmppeft/models/gemnet/layers/radial_basis_dynamic_cutoff.py\u001b\\\u001b[2mradial_basis_dynamic_cutoff.py\u001b[0m\u001b]8;;\u001b\\\u001b[2m:\u001b[0m\u001b]8;id=383567;file:///net/csefiles/coc-fung-cluster/nima/shared/repositories/jmp-peft/src/jmppeft/models/gemnet/layers/radial_basis_dynamic_cutoff.py#213\u001b\\\u001b[2m213\u001b[0m\u001b]8;;\u001b\\\n"
      ]
     },
     "metadata": {},
     "output_type": "display_data"
    },
    {
     "data": {
      "text/html": [
       "<pre style=\"white-space:pre;overflow-x:auto;line-height:normal;font-family:Menlo,'DejaVu Sans Mono',consolas,'Courier New',monospace\"><span style=\"color: #7fbfbf; text-decoration-color: #7fbfbf\">[19:07:49] </span><span style=\"background-color: #800000; font-weight: bold\">CRITICAL</span> Constructed backbone with <span style=\"color: #808000; text-decoration-color: #808000\">dlora</span>=<span style=\"color: #800080; text-decoration-color: #800080; font-style: italic\">None</span>                                                <a href=\"file:///net/csefiles/coc-fung-cluster/nima/shared/repositories/jmp-peft/src/jmppeft/tasks/finetune/base.py\" target=\"_blank\"><span style=\"color: #7f7f7f; text-decoration-color: #7f7f7f\">base.py</span></a><span style=\"color: #7f7f7f; text-decoration-color: #7f7f7f\">:</span><a href=\"file:///net/csefiles/coc-fung-cluster/nima/shared/repositories/jmp-peft/src/jmppeft/tasks/finetune/base.py#613\" target=\"_blank\"><span style=\"color: #7f7f7f; text-decoration-color: #7f7f7f\">613</span></a>\n",
       "</pre>\n"
      ],
      "text/plain": [
       "\u001b[2;36m[19:07:49]\u001b[0m\u001b[2;36m \u001b[0m\u001b[1;7;31mCRITICAL\u001b[0m Constructed backbone with \u001b[33mdlora\u001b[0m=\u001b[3;35mNone\u001b[0m                                                \u001b]8;id=969928;file:///net/csefiles/coc-fung-cluster/nima/shared/repositories/jmp-peft/src/jmppeft/tasks/finetune/base.py\u001b\\\u001b[2mbase.py\u001b[0m\u001b]8;;\u001b\\\u001b[2m:\u001b[0m\u001b]8;id=403576;file:///net/csefiles/coc-fung-cluster/nima/shared/repositories/jmp-peft/src/jmppeft/tasks/finetune/base.py#613\u001b\\\u001b[2m613\u001b[0m\u001b]8;;\u001b\\\n"
      ]
     },
     "metadata": {},
     "output_type": "display_data"
    },
    {
     "data": {
      "text/html": [
       "<pre style=\"white-space:pre;overflow-x:auto;line-height:normal;font-family:Menlo,'DejaVu Sans Mono',consolas,'Courier New',monospace\"><span style=\"color: #7fbfbf; text-decoration-color: #7fbfbf\">           </span><span style=\"color: #000080; text-decoration-color: #000080\">INFO    </span> Registered <span style=\"color: #008080; text-decoration-color: #008080; font-weight: bold\">12</span> shared parameters                                         <a href=\"file:///net/csefiles/coc-fung-cluster/nima/shared/repositories/ll/src/ll/model/modules/shared_parameters.py\" target=\"_blank\"><span style=\"color: #7f7f7f; text-decoration-color: #7f7f7f\">shared_parameters.py</span></a><span style=\"color: #7f7f7f; text-decoration-color: #7f7f7f\">:</span><a href=\"file:///net/csefiles/coc-fung-cluster/nima/shared/repositories/ll/src/ll/model/modules/shared_parameters.py#72\" target=\"_blank\"><span style=\"color: #7f7f7f; text-decoration-color: #7f7f7f\">72</span></a>\n",
       "</pre>\n"
      ],
      "text/plain": [
       "\u001b[2;36m          \u001b[0m\u001b[2;36m \u001b[0m\u001b[34mINFO    \u001b[0m Registered \u001b[1;36m12\u001b[0m shared parameters                                         \u001b]8;id=648247;file:///net/csefiles/coc-fung-cluster/nima/shared/repositories/ll/src/ll/model/modules/shared_parameters.py\u001b\\\u001b[2mshared_parameters.py\u001b[0m\u001b]8;;\u001b\\\u001b[2m:\u001b[0m\u001b]8;id=489726;file:///net/csefiles/coc-fung-cluster/nima/shared/repositories/ll/src/ll/model/modules/shared_parameters.py#72\u001b\\\u001b[2m72\u001b[0m\u001b]8;;\u001b\\\n"
      ]
     },
     "metadata": {},
     "output_type": "display_data"
    },
    {
     "data": {
      "text/html": [
       "<pre style=\"white-space:pre;overflow-x:auto;line-height:normal;font-family:Menlo,'DejaVu Sans Mono',consolas,'Courier New',monospace\"><span style=\"color: #7fbfbf; text-decoration-color: #7fbfbf\">           </span><span style=\"color: #000080; text-decoration-color: #000080\">INFO    </span> List of ignored parameters: <span style=\"font-weight: bold\">[]</span>                                                      <a href=\"file:///net/csefiles/coc-fung-cluster/nima/shared/repositories/jmp-peft/src/jmppeft/tasks/finetune/base.py\" target=\"_blank\"><span style=\"color: #7f7f7f; text-decoration-color: #7f7f7f\">base.py</span></a><span style=\"color: #7f7f7f; text-decoration-color: #7f7f7f\">:</span><a href=\"file:///net/csefiles/coc-fung-cluster/nima/shared/repositories/jmp-peft/src/jmppeft/tasks/finetune/base.py#691\" target=\"_blank\"><span style=\"color: #7f7f7f; text-decoration-color: #7f7f7f\">691</span></a>\n",
       "</pre>\n"
      ],
      "text/plain": [
       "\u001b[2;36m          \u001b[0m\u001b[2;36m \u001b[0m\u001b[34mINFO    \u001b[0m List of ignored parameters: \u001b[1m[\u001b[0m\u001b[1m]\u001b[0m                                                      \u001b]8;id=27534;file:///net/csefiles/coc-fung-cluster/nima/shared/repositories/jmp-peft/src/jmppeft/tasks/finetune/base.py\u001b\\\u001b[2mbase.py\u001b[0m\u001b]8;;\u001b\\\u001b[2m:\u001b[0m\u001b]8;id=246227;file:///net/csefiles/coc-fung-cluster/nima/shared/repositories/jmp-peft/src/jmppeft/tasks/finetune/base.py#691\u001b\\\u001b[2m691\u001b[0m\u001b]8;;\u001b\\\n"
      ]
     },
     "metadata": {},
     "output_type": "display_data"
    },
    {
     "data": {
      "text/html": [
       "<pre style=\"white-space:pre;overflow-x:auto;line-height:normal;font-family:Menlo,'DejaVu Sans Mono',consolas,'Courier New',monospace\"><span style=\"color: #7fbfbf; text-decoration-color: #7fbfbf\">           </span><span style=\"background-color: #800000; font-weight: bold\">CRITICAL</span> Freezing <span style=\"color: #008080; text-decoration-color: #008080; font-weight: bold\">0</span> parameters <span style=\"font-weight: bold\">(</span><span style=\"color: #008080; text-decoration-color: #008080; font-weight: bold\">0.00</span>%<span style=\"font-weight: bold\">)</span> out of <span style=\"color: #008080; text-decoration-color: #008080; font-weight: bold\">40</span>,<span style=\"color: #008080; text-decoration-color: #008080; font-weight: bold\">720</span>,<span style=\"color: #008080; text-decoration-color: #008080; font-weight: bold\">130</span> total parameters <span style=\"font-weight: bold\">(</span><span style=\"color: #008080; text-decoration-color: #008080; font-weight: bold\">40</span>,<span style=\"color: #008080; text-decoration-color: #008080; font-weight: bold\">720</span>,<span style=\"color: #008080; text-decoration-color: #008080; font-weight: bold\">130</span>        <a href=\"file:///net/csefiles/coc-fung-cluster/nima/shared/repositories/jmp-peft/src/jmppeft/tasks/finetune/base.py\" target=\"_blank\"><span style=\"color: #7f7f7f; text-decoration-color: #7f7f7f\">base.py</span></a><span style=\"color: #7f7f7f; text-decoration-color: #7f7f7f\">:</span><a href=\"file:///net/csefiles/coc-fung-cluster/nima/shared/repositories/jmp-peft/src/jmppeft/tasks/finetune/base.py#920\" target=\"_blank\"><span style=\"color: #7f7f7f; text-decoration-color: #7f7f7f\">920</span></a>\n",
       "<span style=\"color: #7fbfbf; text-decoration-color: #7fbfbf\">           </span>         trainable<span style=\"font-weight: bold\">)</span>                                                                          <span style=\"color: #7f7f7f; text-decoration-color: #7f7f7f\">           </span>\n",
       "</pre>\n"
      ],
      "text/plain": [
       "\u001b[2;36m          \u001b[0m\u001b[2;36m \u001b[0m\u001b[1;7;31mCRITICAL\u001b[0m Freezing \u001b[1;36m0\u001b[0m parameters \u001b[1m(\u001b[0m\u001b[1;36m0.00\u001b[0m%\u001b[1m)\u001b[0m out of \u001b[1;36m40\u001b[0m,\u001b[1;36m720\u001b[0m,\u001b[1;36m130\u001b[0m total parameters \u001b[1m(\u001b[0m\u001b[1;36m40\u001b[0m,\u001b[1;36m720\u001b[0m,\u001b[1;36m130\u001b[0m        \u001b]8;id=210623;file:///net/csefiles/coc-fung-cluster/nima/shared/repositories/jmp-peft/src/jmppeft/tasks/finetune/base.py\u001b\\\u001b[2mbase.py\u001b[0m\u001b]8;;\u001b\\\u001b[2m:\u001b[0m\u001b]8;id=372200;file:///net/csefiles/coc-fung-cluster/nima/shared/repositories/jmp-peft/src/jmppeft/tasks/finetune/base.py#920\u001b\\\u001b[2m920\u001b[0m\u001b]8;;\u001b\\\n",
       "\u001b[2;36m           \u001b[0m         trainable\u001b[1m)\u001b[0m                                                                          \u001b[2m           \u001b[0m\n"
      ]
     },
     "metadata": {},
     "output_type": "display_data"
    },
    {
     "data": {
      "text/plain": [
       "MatbenchDiscoveryModel(config=MatbenchDiscoveryConfig(name=mptrj-jmp_s-stress-nograd-maceconf, project=jmp_mptrj), device=cuda:0)"
      ]
     },
     "execution_count": 3,
     "metadata": {},
     "output_type": "execute_result"
    }
   ],
   "source": [
    "from jmppeft.tasks.finetune import matbench_discovery as M\n",
    "\n",
    "model = M.MatbenchDiscoveryModel.load_from_checkpoint(ckpt_dir, map_location=\"cuda\")\n",
    "model"
   ]
  },
  {
   "cell_type": "code",
   "execution_count": 4,
   "metadata": {},
   "outputs": [
    {
     "name": "stdout",
     "output_type": "stream",
     "text": [
      "sample_n=DatasetSampleNConfig(sample_n=16, seed=42)\n"
     ]
    },
    {
     "data": {
      "text/plain": [
       "<jmppeft.datasets.mpd_is2re.MatBenchDiscoveryIS2REDataset at 0x7f987dd8be90>"
      ]
     },
     "execution_count": 4,
     "metadata": {},
     "output_type": "execute_result"
    }
   ],
   "source": [
    "from jmppeft.modules.dataset.common import DatasetSampleNConfig\n",
    "from jmppeft.tasks.finetune.base import FinetuneMatBenchDiscoveryIS2REDatasetConfig\n",
    "\n",
    "dataset_config = FinetuneMatBenchDiscoveryIS2REDatasetConfig(\n",
    "    sample_n=DatasetSampleNConfig(sample_n=16, seed=42)\n",
    ")\n",
    "print(dataset_config)\n",
    "\n",
    "dataset = dataset_config.create_dataset()\n",
    "dataset"
   ]
  },
  {
   "cell_type": "code",
   "execution_count": 5,
   "metadata": {},
   "outputs": [
    {
     "data": {
      "text/plain": [
       "<jmppeft.modules.relaxer._mixin.Relaxer at 0x7f98006039d0>"
      ]
     },
     "execution_count": 5,
     "metadata": {},
     "output_type": "execute_result"
    }
   ],
   "source": [
    "from jmppeft.modules.relaxer import ModelOutput\n",
    "\n",
    "\n",
    "def model_fn(batch) -> ModelOutput:\n",
    "    model_out = model.forward_denormalized(batch)\n",
    "\n",
    "    energy = model_out[\"y\"]\n",
    "    forces = model_out[\"force\"]\n",
    "    stress = model_out[\"stress\"]\n",
    "\n",
    "    return {\n",
    "        \"energy\": energy,\n",
    "        \"forces\": forces,\n",
    "        \"stress\": stress,\n",
    "    }"
   ]
  },
  {
   "cell_type": "code",
   "execution_count": 78,
   "metadata": {},
   "outputs": [
    {
     "data": {
      "text/html": [
       "<pre style=\"white-space:pre;overflow-x:auto;line-height:normal;font-family:Menlo,'DejaVu Sans Mono',consolas,'Courier New',monospace\"><span style=\"color: #800080; text-decoration-color: #800080; font-weight: bold\">DataBatch</span><span style=\"font-weight: bold\">(</span><span style=\"color: #808000; text-decoration-color: #808000\">pos</span>=<span style=\"font-weight: bold\">[</span><span style=\"color: #008080; text-decoration-color: #008080; font-weight: bold\">7</span>, <span style=\"color: #008080; text-decoration-color: #008080; font-weight: bold\">3</span><span style=\"font-weight: bold\">]</span>, <span style=\"color: #808000; text-decoration-color: #808000\">id</span>=<span style=\"font-weight: bold\">[</span><span style=\"color: #008080; text-decoration-color: #008080; font-weight: bold\">1</span><span style=\"font-weight: bold\">]</span>, <span style=\"color: #808000; text-decoration-color: #808000\">atomic_numbers</span>=<span style=\"font-weight: bold\">[</span><span style=\"color: #008080; text-decoration-color: #008080; font-weight: bold\">7</span><span style=\"font-weight: bold\">]</span>, <span style=\"color: #808000; text-decoration-color: #808000\">cell</span>=<span style=\"font-weight: bold\">[</span><span style=\"color: #008080; text-decoration-color: #008080; font-weight: bold\">1</span>, <span style=\"color: #008080; text-decoration-color: #008080; font-weight: bold\">3</span>, <span style=\"color: #008080; text-decoration-color: #008080; font-weight: bold\">3</span><span style=\"font-weight: bold\">]</span>, <span style=\"color: #808000; text-decoration-color: #808000\">y_formation</span>=<span style=\"font-weight: bold\">[</span><span style=\"color: #008080; text-decoration-color: #008080; font-weight: bold\">1</span><span style=\"font-weight: bold\">]</span>, <span style=\"color: #808000; text-decoration-color: #808000\">y_above_hull</span>=<span style=\"font-weight: bold\">[</span><span style=\"color: #008080; text-decoration-color: #008080; font-weight: bold\">1</span><span style=\"font-weight: bold\">]</span>, <span style=\"color: #808000; text-decoration-color: #808000\">natoms</span>=<span style=\"font-weight: bold\">[</span><span style=\"color: #008080; text-decoration-color: #008080; font-weight: bold\">1</span><span style=\"font-weight: bold\">]</span>, \n",
       "<span style=\"color: #808000; text-decoration-color: #808000\">tags</span>=<span style=\"font-weight: bold\">[</span><span style=\"color: #008080; text-decoration-color: #008080; font-weight: bold\">7</span><span style=\"font-weight: bold\">]</span>, <span style=\"color: #808000; text-decoration-color: #808000\">fixed</span>=<span style=\"font-weight: bold\">[</span><span style=\"color: #008080; text-decoration-color: #008080; font-weight: bold\">7</span><span style=\"font-weight: bold\">]</span>, <span style=\"color: #808000; text-decoration-color: #808000\">batch</span>=<span style=\"font-weight: bold\">[</span><span style=\"color: #008080; text-decoration-color: #008080; font-weight: bold\">7</span><span style=\"font-weight: bold\">]</span>, <span style=\"color: #808000; text-decoration-color: #808000\">ptr</span>=<span style=\"font-weight: bold\">[</span><span style=\"color: #008080; text-decoration-color: #008080; font-weight: bold\">2</span><span style=\"font-weight: bold\">])</span>\n",
       "</pre>\n"
      ],
      "text/plain": [
       "\u001b[1;35mDataBatch\u001b[0m\u001b[1m(\u001b[0m\u001b[33mpos\u001b[0m=\u001b[1m[\u001b[0m\u001b[1;36m7\u001b[0m, \u001b[1;36m3\u001b[0m\u001b[1m]\u001b[0m, \u001b[33mid\u001b[0m=\u001b[1m[\u001b[0m\u001b[1;36m1\u001b[0m\u001b[1m]\u001b[0m, \u001b[33matomic_numbers\u001b[0m=\u001b[1m[\u001b[0m\u001b[1;36m7\u001b[0m\u001b[1m]\u001b[0m, \u001b[33mcell\u001b[0m=\u001b[1m[\u001b[0m\u001b[1;36m1\u001b[0m, \u001b[1;36m3\u001b[0m, \u001b[1;36m3\u001b[0m\u001b[1m]\u001b[0m, \u001b[33my_formation\u001b[0m=\u001b[1m[\u001b[0m\u001b[1;36m1\u001b[0m\u001b[1m]\u001b[0m, \u001b[33my_above_hull\u001b[0m=\u001b[1m[\u001b[0m\u001b[1;36m1\u001b[0m\u001b[1m]\u001b[0m, \u001b[33mnatoms\u001b[0m=\u001b[1m[\u001b[0m\u001b[1;36m1\u001b[0m\u001b[1m]\u001b[0m, \n",
       "\u001b[33mtags\u001b[0m=\u001b[1m[\u001b[0m\u001b[1;36m7\u001b[0m\u001b[1m]\u001b[0m, \u001b[33mfixed\u001b[0m=\u001b[1m[\u001b[0m\u001b[1;36m7\u001b[0m\u001b[1m]\u001b[0m, \u001b[33mbatch\u001b[0m=\u001b[1m[\u001b[0m\u001b[1;36m7\u001b[0m\u001b[1m]\u001b[0m, \u001b[33mptr\u001b[0m=\u001b[1m[\u001b[0m\u001b[1;36m2\u001b[0m\u001b[1m]\u001b[0m\u001b[1m)\u001b[0m\n"
      ]
     },
     "metadata": {},
     "output_type": "display_data"
    },
    {
     "data": {
      "text/html": [
       "<pre style=\"white-space:pre;overflow-x:auto;line-height:normal;font-family:Menlo,'DejaVu Sans Mono',consolas,'Courier New',monospace\"><span style=\"font-weight: bold\">{</span>\n",
       "    <span style=\"color: #008000; text-decoration-color: #008000\">'energy'</span>: tensor<span style=\"font-weight: bold\">[</span><span style=\"color: #008080; text-decoration-color: #008080; font-weight: bold\">1</span><span style=\"font-weight: bold\">]</span> cu<span style=\"color: #00ff00; text-decoration-color: #00ff00; font-weight: bold\">da:0</span> <span style=\"font-weight: bold\">[</span><span style=\"color: #008080; text-decoration-color: #008080; font-weight: bold\">-2.268</span><span style=\"font-weight: bold\">]</span>,\n",
       "    <span style=\"color: #008000; text-decoration-color: #008000\">'forces'</span>: tensor<span style=\"font-weight: bold\">[</span><span style=\"color: #008080; text-decoration-color: #008080; font-weight: bold\">7</span>, <span style=\"color: #008080; text-decoration-color: #008080; font-weight: bold\">3</span><span style=\"font-weight: bold\">]</span> <span style=\"color: #808000; text-decoration-color: #808000\">n</span>=<span style=\"color: #008080; text-decoration-color: #008080; font-weight: bold\">21</span> x∈<span style=\"font-weight: bold\">[</span><span style=\"color: #008080; text-decoration-color: #008080; font-weight: bold\">-0.061</span>, <span style=\"color: #008080; text-decoration-color: #008080; font-weight: bold\">0.076</span><span style=\"font-weight: bold\">]</span> <span style=\"color: #808000; text-decoration-color: #808000\">μ</span>=<span style=\"color: #008080; text-decoration-color: #008080; font-weight: bold\">-6.904e-05</span> <span style=\"color: #808000; text-decoration-color: #808000\">σ</span>=<span style=\"color: #008080; text-decoration-color: #008080; font-weight: bold\">0.035</span> cu<span style=\"color: #00ff00; text-decoration-color: #00ff00; font-weight: bold\">da:0</span>,\n",
       "    <span style=\"color: #008000; text-decoration-color: #008000\">'stress'</span>: tensor<span style=\"font-weight: bold\">[</span><span style=\"color: #008080; text-decoration-color: #008080; font-weight: bold\">1</span>, <span style=\"color: #008080; text-decoration-color: #008080; font-weight: bold\">3</span>, <span style=\"color: #008080; text-decoration-color: #008080; font-weight: bold\">3</span><span style=\"font-weight: bold\">]</span> <span style=\"color: #808000; text-decoration-color: #808000\">n</span>=<span style=\"color: #008080; text-decoration-color: #008080; font-weight: bold\">9</span> x∈<span style=\"font-weight: bold\">[</span><span style=\"color: #008080; text-decoration-color: #008080; font-weight: bold\">-0.002</span>, <span style=\"color: #008080; text-decoration-color: #008080; font-weight: bold\">4.392e-05</span><span style=\"font-weight: bold\">]</span> <span style=\"color: #808000; text-decoration-color: #808000\">μ</span>=<span style=\"color: #008080; text-decoration-color: #008080; font-weight: bold\">-0.000</span> <span style=\"color: #808000; text-decoration-color: #808000\">σ</span>=<span style=\"color: #008080; text-decoration-color: #008080; font-weight: bold\">0.001</span> cu<span style=\"color: #00ff00; text-decoration-color: #00ff00; font-weight: bold\">da:0</span> <span style=\"font-weight: bold\">[[[</span><span style=\"color: #008080; text-decoration-color: #008080; font-weight: bold\">-0.002</span>, <span style=\"color: #008080; text-decoration-color: #008080; font-weight: bold\">8.945e-06</span>, <span style=\"color: #008080; text-decoration-color: #008080; font-weight: bold\">4.392e-05</span><span style=\"font-weight: bold\">]</span>, \n",
       "<span style=\"font-weight: bold\">[</span><span style=\"color: #008080; text-decoration-color: #008080; font-weight: bold\">8.945e-06</span>, <span style=\"color: #008080; text-decoration-color: #008080; font-weight: bold\">-0.002</span>, <span style=\"color: #008080; text-decoration-color: #008080; font-weight: bold\">1.077e-05</span><span style=\"font-weight: bold\">]</span>, <span style=\"font-weight: bold\">[</span><span style=\"color: #008080; text-decoration-color: #008080; font-weight: bold\">4.392e-05</span>, <span style=\"color: #008080; text-decoration-color: #008080; font-weight: bold\">1.077e-05</span>, <span style=\"color: #008080; text-decoration-color: #008080; font-weight: bold\">-0.001</span><span style=\"font-weight: bold\">]]]</span>\n",
       "<span style=\"font-weight: bold\">}</span>\n",
       "</pre>\n"
      ],
      "text/plain": [
       "\u001b[1m{\u001b[0m\n",
       "    \u001b[32m'energy'\u001b[0m: tensor\u001b[1m[\u001b[0m\u001b[1;36m1\u001b[0m\u001b[1m]\u001b[0m cu\u001b[1;92mda:0\u001b[0m \u001b[1m[\u001b[0m\u001b[1;36m-2.268\u001b[0m\u001b[1m]\u001b[0m,\n",
       "    \u001b[32m'forces'\u001b[0m: tensor\u001b[1m[\u001b[0m\u001b[1;36m7\u001b[0m, \u001b[1;36m3\u001b[0m\u001b[1m]\u001b[0m \u001b[33mn\u001b[0m=\u001b[1;36m21\u001b[0m x∈\u001b[1m[\u001b[0m\u001b[1;36m-0.061\u001b[0m, \u001b[1;36m0.076\u001b[0m\u001b[1m]\u001b[0m \u001b[33mμ\u001b[0m=\u001b[1;36m-6.904e-05\u001b[0m \u001b[33mσ\u001b[0m=\u001b[1;36m0\u001b[0m\u001b[1;36m.035\u001b[0m cu\u001b[1;92mda:0\u001b[0m,\n",
       "    \u001b[32m'stress'\u001b[0m: tensor\u001b[1m[\u001b[0m\u001b[1;36m1\u001b[0m, \u001b[1;36m3\u001b[0m, \u001b[1;36m3\u001b[0m\u001b[1m]\u001b[0m \u001b[33mn\u001b[0m=\u001b[1;36m9\u001b[0m x∈\u001b[1m[\u001b[0m\u001b[1;36m-0.002\u001b[0m, \u001b[1;36m4.392e-05\u001b[0m\u001b[1m]\u001b[0m \u001b[33mμ\u001b[0m=\u001b[1;36m-0.000\u001b[0m \u001b[33mσ\u001b[0m=\u001b[1;36m0\u001b[0m\u001b[1;36m.001\u001b[0m cu\u001b[1;92mda:0\u001b[0m \u001b[1m[\u001b[0m\u001b[1m[\u001b[0m\u001b[1m[\u001b[0m\u001b[1;36m-0.002\u001b[0m, \u001b[1;36m8.945e-06\u001b[0m, \u001b[1;36m4.392e-05\u001b[0m\u001b[1m]\u001b[0m, \n",
       "\u001b[1m[\u001b[0m\u001b[1;36m8.945e-06\u001b[0m, \u001b[1;36m-0.002\u001b[0m, \u001b[1;36m1.077e-05\u001b[0m\u001b[1m]\u001b[0m, \u001b[1m[\u001b[0m\u001b[1;36m4.392e-05\u001b[0m, \u001b[1;36m1.077e-05\u001b[0m, \u001b[1;36m-0.001\u001b[0m\u001b[1m]\u001b[0m\u001b[1m]\u001b[0m\u001b[1m]\u001b[0m\n",
       "\u001b[1m}\u001b[0m\n"
      ]
     },
     "metadata": {},
     "output_type": "display_data"
    }
   ],
   "source": [
    "from lightning.fabric.utilities.apply_func import move_data_to_device\n",
    "from torch_geometric.data import Batch\n",
    "\n",
    "idx = 32\n",
    "data = Batch.from_data_list([model.data_transform(dataset[idx])])\n",
    "data = move_data_to_device(data, model.device)\n",
    "rich.print(data)\n",
    "\n",
    "rich.print(model_fn(data))"
   ]
  },
  {
   "cell_type": "code",
   "execution_count": 79,
   "metadata": {},
   "outputs": [
    {
     "data": {
      "text/plain": [
       "(tensor[1] cuda:0 [-0.544], tensor[1] cuda:0 [0.001])"
      ]
     },
     "execution_count": 79,
     "metadata": {},
     "output_type": "execute_result"
    }
   ],
   "source": [
    "data.y_formation, data.y_above_hull"
   ]
  },
  {
   "cell_type": "code",
   "execution_count": 80,
   "metadata": {},
   "outputs": [
    {
     "data": {
      "text/plain": [
       "formula                                                          Ag2 Hg1 I4\n",
       "n_sites                                                                 7.0\n",
       "volume                                                               280.05\n",
       "uncorrected_energy                                                  -14.155\n",
       "e_form_per_atom_wbm                                                  -0.303\n",
       "e_above_hull_wbm                                                     -0.005\n",
       "bandgap_pbe                                                            1.22\n",
       "wyckoff_spglib_initial_structure               A2BC4_tI14_121_d_a_i:Ag-Hg-I\n",
       "uncorrected_energy_from_cse                                      -14.155362\n",
       "e_correction_per_atom_mp2020                                      -0.216571\n",
       "e_correction_per_atom_mp_legacy                                         0.0\n",
       "e_form_per_atom_uncorrected                                       -0.327552\n",
       "e_form_per_atom_mp2020_corrected                                  -0.544123\n",
       "e_above_hull_mp2020_corrected_ppd_mp                               0.000717\n",
       "site_stats_fingerprint_init_final_norm_diff                        0.036645\n",
       "wyckoff_spglib                                 A2BC4_tI14_121_d_a_i:Ag-Hg-I\n",
       "unique_prototype                                                      False\n",
       "Name: wbm-1-33, dtype: object"
      ]
     },
     "execution_count": 80,
     "metadata": {},
     "output_type": "execute_result"
    }
   ],
   "source": [
    "dataset.df_summary.iloc[idx]"
   ]
  },
  {
   "cell_type": "code",
   "execution_count": 81,
   "metadata": {},
   "outputs": [
    {
     "data": {
      "text/html": [
       "<pre style=\"white-space:pre;overflow-x:auto;line-height:normal;font-family:Menlo,'DejaVu Sans Mono',consolas,'Courier New',monospace\">tensor<span style=\"font-weight: bold\">[</span><span style=\"color: #008080; text-decoration-color: #008080; font-weight: bold\">1</span><span style=\"font-weight: bold\">]</span> cu<span style=\"color: #00ff00; text-decoration-color: #00ff00; font-weight: bold\">da:0</span> <span style=\"font-weight: bold\">[</span><span style=\"color: #008080; text-decoration-color: #008080; font-weight: bold\">-0.544</span><span style=\"font-weight: bold\">]</span>\n",
       "</pre>\n"
      ],
      "text/plain": [
       "tensor\u001b[1m[\u001b[0m\u001b[1;36m1\u001b[0m\u001b[1m]\u001b[0m cu\u001b[1;92mda:0\u001b[0m \u001b[1m[\u001b[0m\u001b[1;36m-0.544\u001b[0m\u001b[1m]\u001b[0m\n"
      ]
     },
     "metadata": {},
     "output_type": "display_data"
    },
    {
     "name": "stdout",
     "output_type": "stream",
     "text": [
      "      Step     Time          Energy          fmax\n",
      "FIRE:    0 19:21:34       -2.267986        0.079524\n",
      "FIRE:    1 19:21:34       -2.267538        0.075968\n",
      "FIRE:    2 19:21:34       -2.266078        0.069720\n",
      "FIRE:    3 19:21:34       -2.265658        0.059170\n",
      "FIRE:    4 19:21:34       -2.264349        0.047778\n",
      "FIRE:    5 19:21:34       -2.265720        0.035322\n",
      "FIRE:    6 19:21:34       -2.261600        0.024395\n",
      "FIRE:    7 19:21:34       -2.259721        0.014542\n",
      "FIRE:    8 19:21:34       -2.258955        0.005232\n"
     ]
    },
    {
     "data": {
      "text/html": [
       "<pre style=\"white-space:pre;overflow-x:auto;line-height:normal;font-family:Menlo,'DejaVu Sans Mono',consolas,'Courier New',monospace\"><span style=\"color: #800080; text-decoration-color: #800080; font-weight: bold\">RelaxationOutput</span><span style=\"font-weight: bold\">(</span>\n",
       "    <span style=\"color: #808000; text-decoration-color: #808000\">trajectory</span>=<span style=\"color: #800080; text-decoration-color: #800080; font-weight: bold\">RelaxationTrajectory</span><span style=\"font-weight: bold\">(</span>\n",
       "        <span style=\"color: #808000; text-decoration-color: #808000\">frames</span>=<span style=\"font-weight: bold\">[</span>\n",
       "            <span style=\"color: #800080; text-decoration-color: #800080; font-weight: bold\">RelaxationTrajectoryFrame</span><span style=\"font-weight: bold\">(</span>\n",
       "                <span style=\"color: #808000; text-decoration-color: #808000\">energy</span>=<span style=\"color: #800080; text-decoration-color: #800080\">tensor</span> <span style=\"color: #008080; text-decoration-color: #008080; font-weight: bold\">-2.268</span>,\n",
       "                <span style=\"color: #808000; text-decoration-color: #808000\">forces</span>=<span style=\"color: #800080; text-decoration-color: #800080\">tensor</span><span style=\"font-weight: bold\">[</span><span style=\"color: #008080; text-decoration-color: #008080; font-weight: bold\">7</span>, <span style=\"color: #008080; text-decoration-color: #008080; font-weight: bold\">3</span><span style=\"font-weight: bold\">]</span> <span style=\"color: #808000; text-decoration-color: #808000\">n</span>=<span style=\"color: #008080; text-decoration-color: #008080; font-weight: bold\">21</span> x∈<span style=\"font-weight: bold\">[</span><span style=\"color: #008080; text-decoration-color: #008080; font-weight: bold\">-0.061</span>, <span style=\"color: #008080; text-decoration-color: #008080; font-weight: bold\">0.076</span><span style=\"font-weight: bold\">]</span> <span style=\"color: #808000; text-decoration-color: #808000\">μ</span>=<span style=\"color: #008080; text-decoration-color: #008080; font-weight: bold\">-6.903e-05</span> <span style=\"color: #808000; text-decoration-color: #808000\">σ</span>=<span style=\"color: #008080; text-decoration-color: #008080; font-weight: bold\">0.035</span>,\n",
       "                <span style=\"color: #808000; text-decoration-color: #808000\">stresses</span>=<span style=\"color: #800080; text-decoration-color: #800080\">tensor</span><span style=\"font-weight: bold\">[</span><span style=\"color: #008080; text-decoration-color: #008080; font-weight: bold\">6</span><span style=\"font-weight: bold\">]</span> x∈<span style=\"font-weight: bold\">[</span><span style=\"color: #008080; text-decoration-color: #008080; font-weight: bold\">-0.000</span>, <span style=\"color: #008080; text-decoration-color: #008080; font-weight: bold\">4.392e-06</span><span style=\"font-weight: bold\">]</span> <span style=\"color: #808000; text-decoration-color: #808000\">μ</span>=<span style=\"color: #008080; text-decoration-color: #008080; font-weight: bold\">-7.421e-05</span> <span style=\"color: #808000; text-decoration-color: #808000\">σ</span>=<span style=\"color: #008080; text-decoration-color: #008080; font-weight: bold\">8.370e-05</span> <span style=\"font-weight: bold\">[</span><span style=\"color: #008080; text-decoration-color: #008080; font-weight: bold\">-0.000</span>, <span style=\"color: #008080; text-decoration-color: #008080; font-weight: bold\">-0.000</span>, <span style=\"color: #008080; text-decoration-color: #008080; font-weight: bold\">-0.000</span>, \n",
       "<span style=\"color: #008080; text-decoration-color: #008080; font-weight: bold\">1.077e-06</span>, <span style=\"color: #008080; text-decoration-color: #008080; font-weight: bold\">4.392e-06</span>, <span style=\"color: #008080; text-decoration-color: #008080; font-weight: bold\">8.945e-07</span><span style=\"font-weight: bold\">]</span>,\n",
       "                <span style=\"color: #808000; text-decoration-color: #808000\">pos</span>=<span style=\"color: #800080; text-decoration-color: #800080\">tensor</span><span style=\"font-weight: bold\">[</span><span style=\"color: #008080; text-decoration-color: #008080; font-weight: bold\">7</span>, <span style=\"color: #008080; text-decoration-color: #008080; font-weight: bold\">3</span><span style=\"font-weight: bold\">]</span> <span style=\"color: #808000; text-decoration-color: #808000\">n</span>=<span style=\"color: #008080; text-decoration-color: #008080; font-weight: bold\">21</span> x∈<span style=\"font-weight: bold\">[</span><span style=\"color: #008080; text-decoration-color: #008080; font-weight: bold\">-2.754</span>, <span style=\"color: #008080; text-decoration-color: #008080; font-weight: bold\">5.026</span><span style=\"font-weight: bold\">]</span> <span style=\"color: #808000; text-decoration-color: #808000\">μ</span>=<span style=\"color: #008080; text-decoration-color: #008080; font-weight: bold\">1.876</span> <span style=\"color: #808000; text-decoration-color: #808000\">σ</span>=<span style=\"color: #008080; text-decoration-color: #008080; font-weight: bold\">2.053</span>,\n",
       "                <span style=\"color: #808000; text-decoration-color: #808000\">cell</span>=<span style=\"color: #800080; text-decoration-color: #800080\">tensor</span><span style=\"font-weight: bold\">[</span><span style=\"color: #008080; text-decoration-color: #008080; font-weight: bold\">3</span>, <span style=\"color: #008080; text-decoration-color: #008080; font-weight: bold\">3</span><span style=\"font-weight: bold\">]</span> <span style=\"color: #808000; text-decoration-color: #808000\">n</span>=<span style=\"color: #008080; text-decoration-color: #008080; font-weight: bold\">9</span> x∈<span style=\"font-weight: bold\">[</span><span style=\"color: #008080; text-decoration-color: #008080; font-weight: bold\">-2.704</span>, <span style=\"color: #008080; text-decoration-color: #008080; font-weight: bold\">7.945</span><span style=\"font-weight: bold\">]</span> <span style=\"color: #808000; text-decoration-color: #808000\">μ</span>=<span style=\"color: #008080; text-decoration-color: #008080; font-weight: bold\">1.459</span> <span style=\"color: #808000; text-decoration-color: #808000\">σ</span>=<span style=\"color: #008080; text-decoration-color: #008080; font-weight: bold\">4.029</span> <span style=\"font-weight: bold\">[[</span><span style=\"color: #008080; text-decoration-color: #008080; font-weight: bold\">5.971</span>, <span style=\"color: #008080; text-decoration-color: #008080; font-weight: bold\">0</span>., <span style=\"color: #008080; text-decoration-color: #008080; font-weight: bold\">-2.704</span><span style=\"font-weight: bold\">]</span>, <span style=\"font-weight: bold\">[</span><span style=\"color: #008080; text-decoration-color: #008080; font-weight: bold\">-1.224</span>, <span style=\"color: #008080; text-decoration-color: #008080; font-weight: bold\">5.844</span>, \n",
       "<span style=\"color: #008080; text-decoration-color: #008080; font-weight: bold\">-2.704</span><span style=\"font-weight: bold\">]</span>, <span style=\"font-weight: bold\">[</span><span style=\"color: #008080; text-decoration-color: #008080; font-weight: bold\">0</span>., <span style=\"color: #008080; text-decoration-color: #008080; font-weight: bold\">0</span>., <span style=\"color: #008080; text-decoration-color: #008080; font-weight: bold\">7.945</span><span style=\"font-weight: bold\">]]</span>\n",
       "            <span style=\"font-weight: bold\">)</span>,\n",
       "            <span style=\"color: #800080; text-decoration-color: #800080; font-weight: bold\">RelaxationTrajectoryFrame</span><span style=\"font-weight: bold\">(</span>\n",
       "                <span style=\"color: #808000; text-decoration-color: #808000\">energy</span>=<span style=\"color: #800080; text-decoration-color: #800080\">tensor</span> <span style=\"color: #008080; text-decoration-color: #008080; font-weight: bold\">-2.268</span>,\n",
       "                <span style=\"color: #808000; text-decoration-color: #808000\">forces</span>=<span style=\"color: #800080; text-decoration-color: #800080\">tensor</span><span style=\"font-weight: bold\">[</span><span style=\"color: #008080; text-decoration-color: #008080; font-weight: bold\">7</span>, <span style=\"color: #008080; text-decoration-color: #008080; font-weight: bold\">3</span><span style=\"font-weight: bold\">]</span> <span style=\"color: #808000; text-decoration-color: #808000\">n</span>=<span style=\"color: #008080; text-decoration-color: #008080; font-weight: bold\">21</span> x∈<span style=\"font-weight: bold\">[</span><span style=\"color: #008080; text-decoration-color: #008080; font-weight: bold\">-0.057</span>, <span style=\"color: #008080; text-decoration-color: #008080; font-weight: bold\">0.072</span><span style=\"font-weight: bold\">]</span> <span style=\"color: #808000; text-decoration-color: #808000\">μ</span>=<span style=\"color: #008080; text-decoration-color: #008080; font-weight: bold\">1.215e-05</span> <span style=\"color: #808000; text-decoration-color: #808000\">σ</span>=<span style=\"color: #008080; text-decoration-color: #008080; font-weight: bold\">0.033</span>,\n",
       "                <span style=\"color: #808000; text-decoration-color: #808000\">stresses</span>=<span style=\"color: #800080; text-decoration-color: #800080\">tensor</span><span style=\"font-weight: bold\">[</span><span style=\"color: #008080; text-decoration-color: #008080; font-weight: bold\">6</span><span style=\"font-weight: bold\">]</span> x∈<span style=\"font-weight: bold\">[</span><span style=\"color: #008080; text-decoration-color: #008080; font-weight: bold\">-0.000</span>, <span style=\"color: #008080; text-decoration-color: #008080; font-weight: bold\">2.245e-06</span><span style=\"font-weight: bold\">]</span> <span style=\"color: #808000; text-decoration-color: #808000\">μ</span>=<span style=\"color: #008080; text-decoration-color: #008080; font-weight: bold\">-7.446e-05</span> <span style=\"color: #808000; text-decoration-color: #808000\">σ</span>=<span style=\"color: #008080; text-decoration-color: #008080; font-weight: bold\">8.204e-05</span> <span style=\"font-weight: bold\">[</span><span style=\"color: #008080; text-decoration-color: #008080; font-weight: bold\">-0.000</span>, <span style=\"color: #008080; text-decoration-color: #008080; font-weight: bold\">-0.000</span>, <span style=\"color: #008080; text-decoration-color: #008080; font-weight: bold\">-0.000</span>, \n",
       "<span style=\"color: #008080; text-decoration-color: #008080; font-weight: bold\">2.245e-06</span>, <span style=\"color: #008080; text-decoration-color: #008080; font-weight: bold\">-2.822e-06</span>, <span style=\"color: #008080; text-decoration-color: #008080; font-weight: bold\">1.260e-06</span><span style=\"font-weight: bold\">]</span>,\n",
       "                <span style=\"color: #808000; text-decoration-color: #808000\">pos</span>=<span style=\"color: #800080; text-decoration-color: #800080\">tensor</span><span style=\"font-weight: bold\">[</span><span style=\"color: #008080; text-decoration-color: #008080; font-weight: bold\">7</span>, <span style=\"color: #008080; text-decoration-color: #008080; font-weight: bold\">3</span><span style=\"font-weight: bold\">]</span> <span style=\"color: #808000; text-decoration-color: #808000\">n</span>=<span style=\"color: #008080; text-decoration-color: #008080; font-weight: bold\">21</span> x∈<span style=\"font-weight: bold\">[</span><span style=\"color: #008080; text-decoration-color: #008080; font-weight: bold\">-2.753</span>, <span style=\"color: #008080; text-decoration-color: #008080; font-weight: bold\">5.026</span><span style=\"font-weight: bold\">]</span> <span style=\"color: #808000; text-decoration-color: #808000\">μ</span>=<span style=\"color: #008080; text-decoration-color: #008080; font-weight: bold\">1.876</span> <span style=\"color: #808000; text-decoration-color: #808000\">σ</span>=<span style=\"color: #008080; text-decoration-color: #008080; font-weight: bold\">2.053</span>,\n",
       "                <span style=\"color: #808000; text-decoration-color: #808000\">cell</span>=<span style=\"color: #800080; text-decoration-color: #800080\">tensor</span><span style=\"font-weight: bold\">[</span><span style=\"color: #008080; text-decoration-color: #008080; font-weight: bold\">3</span>, <span style=\"color: #008080; text-decoration-color: #008080; font-weight: bold\">3</span><span style=\"font-weight: bold\">]</span> <span style=\"color: #808000; text-decoration-color: #808000\">n</span>=<span style=\"color: #008080; text-decoration-color: #008080; font-weight: bold\">9</span> x∈<span style=\"font-weight: bold\">[</span><span style=\"color: #008080; text-decoration-color: #008080; font-weight: bold\">-2.704</span>, <span style=\"color: #008080; text-decoration-color: #008080; font-weight: bold\">7.945</span><span style=\"font-weight: bold\">]</span> <span style=\"color: #808000; text-decoration-color: #808000\">μ</span>=<span style=\"color: #008080; text-decoration-color: #008080; font-weight: bold\">1.459</span> <span style=\"color: #808000; text-decoration-color: #808000\">σ</span>=<span style=\"color: #008080; text-decoration-color: #008080; font-weight: bold\">4.029</span> <span style=\"font-weight: bold\">[[</span><span style=\"color: #008080; text-decoration-color: #008080; font-weight: bold\">5.971</span>, <span style=\"color: #008080; text-decoration-color: #008080; font-weight: bold\">0</span>., <span style=\"color: #008080; text-decoration-color: #008080; font-weight: bold\">-2.704</span><span style=\"font-weight: bold\">]</span>, <span style=\"font-weight: bold\">[</span><span style=\"color: #008080; text-decoration-color: #008080; font-weight: bold\">-1.224</span>, <span style=\"color: #008080; text-decoration-color: #008080; font-weight: bold\">5.844</span>, \n",
       "<span style=\"color: #008080; text-decoration-color: #008080; font-weight: bold\">-2.704</span><span style=\"font-weight: bold\">]</span>, <span style=\"font-weight: bold\">[</span><span style=\"color: #008080; text-decoration-color: #008080; font-weight: bold\">0</span>., <span style=\"color: #008080; text-decoration-color: #008080; font-weight: bold\">0</span>., <span style=\"color: #008080; text-decoration-color: #008080; font-weight: bold\">7.945</span><span style=\"font-weight: bold\">]]</span>\n",
       "            <span style=\"font-weight: bold\">)</span>,\n",
       "            <span style=\"color: #800080; text-decoration-color: #800080; font-weight: bold\">RelaxationTrajectoryFrame</span><span style=\"font-weight: bold\">(</span>\n",
       "                <span style=\"color: #808000; text-decoration-color: #808000\">energy</span>=<span style=\"color: #800080; text-decoration-color: #800080\">tensor</span> <span style=\"color: #008080; text-decoration-color: #008080; font-weight: bold\">-2.266</span>,\n",
       "                <span style=\"color: #808000; text-decoration-color: #808000\">forces</span>=<span style=\"color: #800080; text-decoration-color: #800080\">tensor</span><span style=\"font-weight: bold\">[</span><span style=\"color: #008080; text-decoration-color: #008080; font-weight: bold\">7</span>, <span style=\"color: #008080; text-decoration-color: #008080; font-weight: bold\">3</span><span style=\"font-weight: bold\">]</span> <span style=\"color: #808000; text-decoration-color: #808000\">n</span>=<span style=\"color: #008080; text-decoration-color: #008080; font-weight: bold\">21</span> x∈<span style=\"font-weight: bold\">[</span><span style=\"color: #008080; text-decoration-color: #008080; font-weight: bold\">-0.052</span>, <span style=\"color: #008080; text-decoration-color: #008080; font-weight: bold\">0.068</span><span style=\"font-weight: bold\">]</span> <span style=\"color: #808000; text-decoration-color: #808000\">μ</span>=<span style=\"color: #008080; text-decoration-color: #008080; font-weight: bold\">0.000</span> <span style=\"color: #808000; text-decoration-color: #808000\">σ</span>=<span style=\"color: #008080; text-decoration-color: #008080; font-weight: bold\">0.031</span>,\n",
       "                <span style=\"color: #808000; text-decoration-color: #808000\">stresses</span>=<span style=\"color: #800080; text-decoration-color: #800080\">tensor</span><span style=\"font-weight: bold\">[</span><span style=\"color: #008080; text-decoration-color: #008080; font-weight: bold\">6</span><span style=\"font-weight: bold\">]</span> x∈<span style=\"font-weight: bold\">[</span><span style=\"color: #008080; text-decoration-color: #008080; font-weight: bold\">-0.000</span>, <span style=\"color: #008080; text-decoration-color: #008080; font-weight: bold\">-9.688e-07</span><span style=\"font-weight: bold\">]</span> <span style=\"color: #808000; text-decoration-color: #808000\">μ</span>=<span style=\"color: #008080; text-decoration-color: #008080; font-weight: bold\">-7.522e-05</span> <span style=\"color: #808000; text-decoration-color: #808000\">σ</span>=<span style=\"color: #008080; text-decoration-color: #008080; font-weight: bold\">7.890e-05</span> <span style=\"font-weight: bold\">[</span><span style=\"color: #008080; text-decoration-color: #008080; font-weight: bold\">-0.000</span>, <span style=\"color: #008080; text-decoration-color: #008080; font-weight: bold\">-0.000</span>, <span style=\"color: #008080; text-decoration-color: #008080; font-weight: bold\">-0.000</span>, \n",
       "<span style=\"color: #008080; text-decoration-color: #008080; font-weight: bold\">-9.688e-07</span>, <span style=\"color: #008080; text-decoration-color: #008080; font-weight: bold\">-5.014e-06</span>, <span style=\"color: #008080; text-decoration-color: #008080; font-weight: bold\">-3.826e-06</span><span style=\"font-weight: bold\">]</span>,\n",
       "                <span style=\"color: #808000; text-decoration-color: #808000\">pos</span>=<span style=\"color: #800080; text-decoration-color: #800080\">tensor</span><span style=\"font-weight: bold\">[</span><span style=\"color: #008080; text-decoration-color: #008080; font-weight: bold\">7</span>, <span style=\"color: #008080; text-decoration-color: #008080; font-weight: bold\">3</span><span style=\"font-weight: bold\">]</span> <span style=\"color: #808000; text-decoration-color: #808000\">n</span>=<span style=\"color: #008080; text-decoration-color: #008080; font-weight: bold\">21</span> x∈<span style=\"font-weight: bold\">[</span><span style=\"color: #008080; text-decoration-color: #008080; font-weight: bold\">-2.752</span>, <span style=\"color: #008080; text-decoration-color: #008080; font-weight: bold\">5.026</span><span style=\"font-weight: bold\">]</span> <span style=\"color: #808000; text-decoration-color: #808000\">μ</span>=<span style=\"color: #008080; text-decoration-color: #008080; font-weight: bold\">1.876</span> <span style=\"color: #808000; text-decoration-color: #808000\">σ</span>=<span style=\"color: #008080; text-decoration-color: #008080; font-weight: bold\">2.053</span>,\n",
       "                <span style=\"color: #808000; text-decoration-color: #808000\">cell</span>=<span style=\"color: #800080; text-decoration-color: #800080\">tensor</span><span style=\"font-weight: bold\">[</span><span style=\"color: #008080; text-decoration-color: #008080; font-weight: bold\">3</span>, <span style=\"color: #008080; text-decoration-color: #008080; font-weight: bold\">3</span><span style=\"font-weight: bold\">]</span> <span style=\"color: #808000; text-decoration-color: #808000\">n</span>=<span style=\"color: #008080; text-decoration-color: #008080; font-weight: bold\">9</span> x∈<span style=\"font-weight: bold\">[</span><span style=\"color: #008080; text-decoration-color: #008080; font-weight: bold\">-2.704</span>, <span style=\"color: #008080; text-decoration-color: #008080; font-weight: bold\">7.945</span><span style=\"font-weight: bold\">]</span> <span style=\"color: #808000; text-decoration-color: #808000\">μ</span>=<span style=\"color: #008080; text-decoration-color: #008080; font-weight: bold\">1.459</span> <span style=\"color: #808000; text-decoration-color: #808000\">σ</span>=<span style=\"color: #008080; text-decoration-color: #008080; font-weight: bold\">4.029</span> <span style=\"font-weight: bold\">[[</span><span style=\"color: #008080; text-decoration-color: #008080; font-weight: bold\">5.971</span>, <span style=\"color: #008080; text-decoration-color: #008080; font-weight: bold\">0</span>., <span style=\"color: #008080; text-decoration-color: #008080; font-weight: bold\">-2.704</span><span style=\"font-weight: bold\">]</span>, <span style=\"font-weight: bold\">[</span><span style=\"color: #008080; text-decoration-color: #008080; font-weight: bold\">-1.224</span>, <span style=\"color: #008080; text-decoration-color: #008080; font-weight: bold\">5.844</span>, \n",
       "<span style=\"color: #008080; text-decoration-color: #008080; font-weight: bold\">-2.704</span><span style=\"font-weight: bold\">]</span>, <span style=\"font-weight: bold\">[</span><span style=\"color: #008080; text-decoration-color: #008080; font-weight: bold\">0</span>., <span style=\"color: #008080; text-decoration-color: #008080; font-weight: bold\">0</span>., <span style=\"color: #008080; text-decoration-color: #008080; font-weight: bold\">7.945</span><span style=\"font-weight: bold\">]]</span>\n",
       "            <span style=\"font-weight: bold\">)</span>,\n",
       "            <span style=\"color: #800080; text-decoration-color: #800080; font-weight: bold\">RelaxationTrajectoryFrame</span><span style=\"font-weight: bold\">(</span>\n",
       "                <span style=\"color: #808000; text-decoration-color: #808000\">energy</span>=<span style=\"color: #800080; text-decoration-color: #800080\">tensor</span> <span style=\"color: #008080; text-decoration-color: #008080; font-weight: bold\">-2.266</span>,\n",
       "                <span style=\"color: #808000; text-decoration-color: #808000\">forces</span>=<span style=\"color: #800080; text-decoration-color: #800080\">tensor</span><span style=\"font-weight: bold\">[</span><span style=\"color: #008080; text-decoration-color: #008080; font-weight: bold\">7</span>, <span style=\"color: #008080; text-decoration-color: #008080; font-weight: bold\">3</span><span style=\"font-weight: bold\">]</span> <span style=\"color: #808000; text-decoration-color: #808000\">n</span>=<span style=\"color: #008080; text-decoration-color: #008080; font-weight: bold\">21</span> x∈<span style=\"font-weight: bold\">[</span><span style=\"color: #008080; text-decoration-color: #008080; font-weight: bold\">-0.045</span>, <span style=\"color: #008080; text-decoration-color: #008080; font-weight: bold\">0.056</span><span style=\"font-weight: bold\">]</span> <span style=\"color: #808000; text-decoration-color: #808000\">μ</span>=<span style=\"color: #008080; text-decoration-color: #008080; font-weight: bold\">0.000</span> <span style=\"color: #808000; text-decoration-color: #808000\">σ</span>=<span style=\"color: #008080; text-decoration-color: #008080; font-weight: bold\">0.026</span>,\n",
       "                <span style=\"color: #808000; text-decoration-color: #808000\">stresses</span>=<span style=\"color: #800080; text-decoration-color: #800080\">tensor</span><span style=\"font-weight: bold\">[</span><span style=\"color: #008080; text-decoration-color: #008080; font-weight: bold\">6</span><span style=\"font-weight: bold\">]</span> x∈<span style=\"font-weight: bold\">[</span><span style=\"color: #008080; text-decoration-color: #008080; font-weight: bold\">-0.000</span>, <span style=\"color: #008080; text-decoration-color: #008080; font-weight: bold\">-2.351e-07</span><span style=\"font-weight: bold\">]</span> <span style=\"color: #808000; text-decoration-color: #808000\">μ</span>=<span style=\"color: #008080; text-decoration-color: #008080; font-weight: bold\">-7.264e-05</span> <span style=\"color: #808000; text-decoration-color: #808000\">σ</span>=<span style=\"color: #008080; text-decoration-color: #008080; font-weight: bold\">7.465e-05</span> <span style=\"font-weight: bold\">[</span><span style=\"color: #008080; text-decoration-color: #008080; font-weight: bold\">-0.000</span>, <span style=\"color: #008080; text-decoration-color: #008080; font-weight: bold\">-0.000</span>, <span style=\"color: #008080; text-decoration-color: #008080; font-weight: bold\">-0.000</span>, \n",
       "<span style=\"color: #008080; text-decoration-color: #008080; font-weight: bold\">-6.969e-06</span>, <span style=\"color: #008080; text-decoration-color: #008080; font-weight: bold\">-6.534e-06</span>, <span style=\"color: #008080; text-decoration-color: #008080; font-weight: bold\">-2.351e-07</span><span style=\"font-weight: bold\">]</span>,\n",
       "                <span style=\"color: #808000; text-decoration-color: #808000\">pos</span>=<span style=\"color: #800080; text-decoration-color: #800080\">tensor</span><span style=\"font-weight: bold\">[</span><span style=\"color: #008080; text-decoration-color: #008080; font-weight: bold\">7</span>, <span style=\"color: #008080; text-decoration-color: #008080; font-weight: bold\">3</span><span style=\"font-weight: bold\">]</span> <span style=\"color: #808000; text-decoration-color: #808000\">n</span>=<span style=\"color: #008080; text-decoration-color: #008080; font-weight: bold\">21</span> x∈<span style=\"font-weight: bold\">[</span><span style=\"color: #008080; text-decoration-color: #008080; font-weight: bold\">-2.750</span>, <span style=\"color: #008080; text-decoration-color: #008080; font-weight: bold\">5.026</span><span style=\"font-weight: bold\">]</span> <span style=\"color: #808000; text-decoration-color: #808000\">μ</span>=<span style=\"color: #008080; text-decoration-color: #008080; font-weight: bold\">1.876</span> <span style=\"color: #808000; text-decoration-color: #808000\">σ</span>=<span style=\"color: #008080; text-decoration-color: #008080; font-weight: bold\">2.052</span>,\n",
       "                <span style=\"color: #808000; text-decoration-color: #808000\">cell</span>=<span style=\"color: #800080; text-decoration-color: #800080\">tensor</span><span style=\"font-weight: bold\">[</span><span style=\"color: #008080; text-decoration-color: #008080; font-weight: bold\">3</span>, <span style=\"color: #008080; text-decoration-color: #008080; font-weight: bold\">3</span><span style=\"font-weight: bold\">]</span> <span style=\"color: #808000; text-decoration-color: #808000\">n</span>=<span style=\"color: #008080; text-decoration-color: #008080; font-weight: bold\">9</span> x∈<span style=\"font-weight: bold\">[</span><span style=\"color: #008080; text-decoration-color: #008080; font-weight: bold\">-2.704</span>, <span style=\"color: #008080; text-decoration-color: #008080; font-weight: bold\">7.945</span><span style=\"font-weight: bold\">]</span> <span style=\"color: #808000; text-decoration-color: #808000\">μ</span>=<span style=\"color: #008080; text-decoration-color: #008080; font-weight: bold\">1.459</span> <span style=\"color: #808000; text-decoration-color: #808000\">σ</span>=<span style=\"color: #008080; text-decoration-color: #008080; font-weight: bold\">4.029</span> <span style=\"font-weight: bold\">[[</span><span style=\"color: #008080; text-decoration-color: #008080; font-weight: bold\">5.971</span>, <span style=\"color: #008080; text-decoration-color: #008080; font-weight: bold\">0</span>., <span style=\"color: #008080; text-decoration-color: #008080; font-weight: bold\">-2.704</span><span style=\"font-weight: bold\">]</span>, <span style=\"font-weight: bold\">[</span><span style=\"color: #008080; text-decoration-color: #008080; font-weight: bold\">-1.224</span>, <span style=\"color: #008080; text-decoration-color: #008080; font-weight: bold\">5.844</span>, \n",
       "<span style=\"color: #008080; text-decoration-color: #008080; font-weight: bold\">-2.704</span><span style=\"font-weight: bold\">]</span>, <span style=\"font-weight: bold\">[</span><span style=\"color: #008080; text-decoration-color: #008080; font-weight: bold\">0</span>., <span style=\"color: #008080; text-decoration-color: #008080; font-weight: bold\">0</span>., <span style=\"color: #008080; text-decoration-color: #008080; font-weight: bold\">7.945</span><span style=\"font-weight: bold\">]]</span>\n",
       "            <span style=\"font-weight: bold\">)</span>,\n",
       "            <span style=\"color: #800080; text-decoration-color: #800080; font-weight: bold\">RelaxationTrajectoryFrame</span><span style=\"font-weight: bold\">(</span>\n",
       "                <span style=\"color: #808000; text-decoration-color: #808000\">energy</span>=<span style=\"color: #800080; text-decoration-color: #800080\">tensor</span> <span style=\"color: #008080; text-decoration-color: #008080; font-weight: bold\">-2.264</span>,\n",
       "                <span style=\"color: #808000; text-decoration-color: #808000\">forces</span>=<span style=\"color: #800080; text-decoration-color: #800080\">tensor</span><span style=\"font-weight: bold\">[</span><span style=\"color: #008080; text-decoration-color: #008080; font-weight: bold\">7</span>, <span style=\"color: #008080; text-decoration-color: #008080; font-weight: bold\">3</span><span style=\"font-weight: bold\">]</span> <span style=\"color: #808000; text-decoration-color: #808000\">n</span>=<span style=\"color: #008080; text-decoration-color: #008080; font-weight: bold\">21</span> x∈<span style=\"font-weight: bold\">[</span><span style=\"color: #008080; text-decoration-color: #008080; font-weight: bold\">-0.036</span>, <span style=\"color: #008080; text-decoration-color: #008080; font-weight: bold\">0.045</span><span style=\"font-weight: bold\">]</span> <span style=\"color: #808000; text-decoration-color: #808000\">μ</span>=<span style=\"color: #008080; text-decoration-color: #008080; font-weight: bold\">-5.406e-05</span> <span style=\"color: #808000; text-decoration-color: #808000\">σ</span>=<span style=\"color: #008080; text-decoration-color: #008080; font-weight: bold\">0.021</span>,\n",
       "                <span style=\"color: #808000; text-decoration-color: #808000\">stresses</span>=<span style=\"color: #800080; text-decoration-color: #800080\">tensor</span><span style=\"font-weight: bold\">[</span><span style=\"color: #008080; text-decoration-color: #008080; font-weight: bold\">6</span><span style=\"font-weight: bold\">]</span> x∈<span style=\"font-weight: bold\">[</span><span style=\"color: #008080; text-decoration-color: #008080; font-weight: bold\">-0.000</span>, <span style=\"color: #008080; text-decoration-color: #008080; font-weight: bold\">1.074e-06</span><span style=\"font-weight: bold\">]</span> <span style=\"color: #808000; text-decoration-color: #808000\">μ</span>=<span style=\"color: #008080; text-decoration-color: #008080; font-weight: bold\">-6.974e-05</span> <span style=\"color: #808000; text-decoration-color: #808000\">σ</span>=<span style=\"color: #008080; text-decoration-color: #008080; font-weight: bold\">7.158e-05</span> <span style=\"font-weight: bold\">[</span><span style=\"color: #008080; text-decoration-color: #008080; font-weight: bold\">-0.000</span>, <span style=\"color: #008080; text-decoration-color: #008080; font-weight: bold\">-0.000</span>, <span style=\"color: #008080; text-decoration-color: #008080; font-weight: bold\">-0.000</span>, \n",
       "<span style=\"color: #008080; text-decoration-color: #008080; font-weight: bold\">-6.797e-06</span>, <span style=\"color: #008080; text-decoration-color: #008080; font-weight: bold\">-7.668e-06</span>, <span style=\"color: #008080; text-decoration-color: #008080; font-weight: bold\">1.074e-06</span><span style=\"font-weight: bold\">]</span>,\n",
       "                <span style=\"color: #808000; text-decoration-color: #808000\">pos</span>=<span style=\"color: #800080; text-decoration-color: #800080\">tensor</span><span style=\"font-weight: bold\">[</span><span style=\"color: #008080; text-decoration-color: #008080; font-weight: bold\">7</span>, <span style=\"color: #008080; text-decoration-color: #008080; font-weight: bold\">3</span><span style=\"font-weight: bold\">]</span> <span style=\"color: #808000; text-decoration-color: #808000\">n</span>=<span style=\"color: #008080; text-decoration-color: #008080; font-weight: bold\">21</span> x∈<span style=\"font-weight: bold\">[</span><span style=\"color: #008080; text-decoration-color: #008080; font-weight: bold\">-2.747</span>, <span style=\"color: #008080; text-decoration-color: #008080; font-weight: bold\">5.026</span><span style=\"font-weight: bold\">]</span> <span style=\"color: #808000; text-decoration-color: #808000\">μ</span>=<span style=\"color: #008080; text-decoration-color: #008080; font-weight: bold\">1.876</span> <span style=\"color: #808000; text-decoration-color: #808000\">σ</span>=<span style=\"color: #008080; text-decoration-color: #008080; font-weight: bold\">2.051</span>,\n",
       "                <span style=\"color: #808000; text-decoration-color: #808000\">cell</span>=<span style=\"color: #800080; text-decoration-color: #800080\">tensor</span><span style=\"font-weight: bold\">[</span><span style=\"color: #008080; text-decoration-color: #008080; font-weight: bold\">3</span>, <span style=\"color: #008080; text-decoration-color: #008080; font-weight: bold\">3</span><span style=\"font-weight: bold\">]</span> <span style=\"color: #808000; text-decoration-color: #808000\">n</span>=<span style=\"color: #008080; text-decoration-color: #008080; font-weight: bold\">9</span> x∈<span style=\"font-weight: bold\">[</span><span style=\"color: #008080; text-decoration-color: #008080; font-weight: bold\">-2.704</span>, <span style=\"color: #008080; text-decoration-color: #008080; font-weight: bold\">7.945</span><span style=\"font-weight: bold\">]</span> <span style=\"color: #808000; text-decoration-color: #808000\">μ</span>=<span style=\"color: #008080; text-decoration-color: #008080; font-weight: bold\">1.459</span> <span style=\"color: #808000; text-decoration-color: #808000\">σ</span>=<span style=\"color: #008080; text-decoration-color: #008080; font-weight: bold\">4.029</span> <span style=\"font-weight: bold\">[[</span><span style=\"color: #008080; text-decoration-color: #008080; font-weight: bold\">5.971</span>, <span style=\"color: #008080; text-decoration-color: #008080; font-weight: bold\">0</span>., <span style=\"color: #008080; text-decoration-color: #008080; font-weight: bold\">-2.704</span><span style=\"font-weight: bold\">]</span>, <span style=\"font-weight: bold\">[</span><span style=\"color: #008080; text-decoration-color: #008080; font-weight: bold\">-1.224</span>, <span style=\"color: #008080; text-decoration-color: #008080; font-weight: bold\">5.844</span>, \n",
       "<span style=\"color: #008080; text-decoration-color: #008080; font-weight: bold\">-2.704</span><span style=\"font-weight: bold\">]</span>, <span style=\"font-weight: bold\">[</span><span style=\"color: #008080; text-decoration-color: #008080; font-weight: bold\">0</span>., <span style=\"color: #008080; text-decoration-color: #008080; font-weight: bold\">0</span>., <span style=\"color: #008080; text-decoration-color: #008080; font-weight: bold\">7.945</span><span style=\"font-weight: bold\">]]</span>\n",
       "            <span style=\"font-weight: bold\">)</span>,\n",
       "            <span style=\"color: #800080; text-decoration-color: #800080; font-weight: bold\">RelaxationTrajectoryFrame</span><span style=\"font-weight: bold\">(</span>\n",
       "                <span style=\"color: #808000; text-decoration-color: #808000\">energy</span>=<span style=\"color: #800080; text-decoration-color: #800080\">tensor</span> <span style=\"color: #008080; text-decoration-color: #008080; font-weight: bold\">-2.266</span>,\n",
       "                <span style=\"color: #808000; text-decoration-color: #808000\">forces</span>=<span style=\"color: #800080; text-decoration-color: #800080\">tensor</span><span style=\"font-weight: bold\">[</span><span style=\"color: #008080; text-decoration-color: #008080; font-weight: bold\">7</span>, <span style=\"color: #008080; text-decoration-color: #008080; font-weight: bold\">3</span><span style=\"font-weight: bold\">]</span> <span style=\"color: #808000; text-decoration-color: #808000\">n</span>=<span style=\"color: #008080; text-decoration-color: #008080; font-weight: bold\">21</span> x∈<span style=\"font-weight: bold\">[</span><span style=\"color: #008080; text-decoration-color: #008080; font-weight: bold\">-0.027</span>, <span style=\"color: #008080; text-decoration-color: #008080; font-weight: bold\">0.032</span><span style=\"font-weight: bold\">]</span> <span style=\"color: #808000; text-decoration-color: #808000\">μ</span>=<span style=\"color: #008080; text-decoration-color: #008080; font-weight: bold\">0.000</span> <span style=\"color: #808000; text-decoration-color: #808000\">σ</span>=<span style=\"color: #008080; text-decoration-color: #008080; font-weight: bold\">0.015</span>,\n",
       "                <span style=\"color: #808000; text-decoration-color: #808000\">stresses</span>=<span style=\"color: #800080; text-decoration-color: #800080\">tensor</span><span style=\"font-weight: bold\">[</span><span style=\"color: #008080; text-decoration-color: #008080; font-weight: bold\">6</span><span style=\"font-weight: bold\">]</span> x∈<span style=\"font-weight: bold\">[</span><span style=\"color: #008080; text-decoration-color: #008080; font-weight: bold\">-0.000</span>, <span style=\"color: #008080; text-decoration-color: #008080; font-weight: bold\">2.463e-07</span><span style=\"font-weight: bold\">]</span> <span style=\"color: #808000; text-decoration-color: #808000\">μ</span>=<span style=\"color: #008080; text-decoration-color: #008080; font-weight: bold\">-6.681e-05</span> <span style=\"color: #808000; text-decoration-color: #808000\">σ</span>=<span style=\"color: #008080; text-decoration-color: #008080; font-weight: bold\">6.754e-05</span> <span style=\"font-weight: bold\">[</span><span style=\"color: #008080; text-decoration-color: #008080; font-weight: bold\">-0.000</span>, <span style=\"color: #008080; text-decoration-color: #008080; font-weight: bold\">-0.000</span>, <span style=\"color: #008080; text-decoration-color: #008080; font-weight: bold\">-0.000</span>, \n",
       "<span style=\"color: #008080; text-decoration-color: #008080; font-weight: bold\">-8.750e-06</span>, <span style=\"color: #008080; text-decoration-color: #008080; font-weight: bold\">-7.168e-06</span>, <span style=\"color: #008080; text-decoration-color: #008080; font-weight: bold\">2.463e-07</span><span style=\"font-weight: bold\">]</span>,\n",
       "                <span style=\"color: #808000; text-decoration-color: #808000\">pos</span>=<span style=\"color: #800080; text-decoration-color: #800080\">tensor</span><span style=\"font-weight: bold\">[</span><span style=\"color: #008080; text-decoration-color: #008080; font-weight: bold\">7</span>, <span style=\"color: #008080; text-decoration-color: #008080; font-weight: bold\">3</span><span style=\"font-weight: bold\">]</span> <span style=\"color: #808000; text-decoration-color: #808000\">n</span>=<span style=\"color: #008080; text-decoration-color: #008080; font-weight: bold\">21</span> x∈<span style=\"font-weight: bold\">[</span><span style=\"color: #008080; text-decoration-color: #008080; font-weight: bold\">-2.744</span>, <span style=\"color: #008080; text-decoration-color: #008080; font-weight: bold\">5.026</span><span style=\"font-weight: bold\">]</span> <span style=\"color: #808000; text-decoration-color: #808000\">μ</span>=<span style=\"color: #008080; text-decoration-color: #008080; font-weight: bold\">1.876</span> <span style=\"color: #808000; text-decoration-color: #808000\">σ</span>=<span style=\"color: #008080; text-decoration-color: #008080; font-weight: bold\">2.051</span>,\n",
       "                <span style=\"color: #808000; text-decoration-color: #808000\">cell</span>=<span style=\"color: #800080; text-decoration-color: #800080\">tensor</span><span style=\"font-weight: bold\">[</span><span style=\"color: #008080; text-decoration-color: #008080; font-weight: bold\">3</span>, <span style=\"color: #008080; text-decoration-color: #008080; font-weight: bold\">3</span><span style=\"font-weight: bold\">]</span> <span style=\"color: #808000; text-decoration-color: #808000\">n</span>=<span style=\"color: #008080; text-decoration-color: #008080; font-weight: bold\">9</span> x∈<span style=\"font-weight: bold\">[</span><span style=\"color: #008080; text-decoration-color: #008080; font-weight: bold\">-2.704</span>, <span style=\"color: #008080; text-decoration-color: #008080; font-weight: bold\">7.945</span><span style=\"font-weight: bold\">]</span> <span style=\"color: #808000; text-decoration-color: #808000\">μ</span>=<span style=\"color: #008080; text-decoration-color: #008080; font-weight: bold\">1.459</span> <span style=\"color: #808000; text-decoration-color: #808000\">σ</span>=<span style=\"color: #008080; text-decoration-color: #008080; font-weight: bold\">4.029</span> <span style=\"font-weight: bold\">[[</span><span style=\"color: #008080; text-decoration-color: #008080; font-weight: bold\">5.971</span>, <span style=\"color: #008080; text-decoration-color: #008080; font-weight: bold\">0</span>., <span style=\"color: #008080; text-decoration-color: #008080; font-weight: bold\">-2.704</span><span style=\"font-weight: bold\">]</span>, <span style=\"font-weight: bold\">[</span><span style=\"color: #008080; text-decoration-color: #008080; font-weight: bold\">-1.224</span>, <span style=\"color: #008080; text-decoration-color: #008080; font-weight: bold\">5.844</span>, \n",
       "<span style=\"color: #008080; text-decoration-color: #008080; font-weight: bold\">-2.704</span><span style=\"font-weight: bold\">]</span>, <span style=\"font-weight: bold\">[</span><span style=\"color: #008080; text-decoration-color: #008080; font-weight: bold\">0</span>., <span style=\"color: #008080; text-decoration-color: #008080; font-weight: bold\">0</span>., <span style=\"color: #008080; text-decoration-color: #008080; font-weight: bold\">7.945</span><span style=\"font-weight: bold\">]]</span>\n",
       "            <span style=\"font-weight: bold\">)</span>,\n",
       "            <span style=\"color: #800080; text-decoration-color: #800080; font-weight: bold\">RelaxationTrajectoryFrame</span><span style=\"font-weight: bold\">(</span>\n",
       "                <span style=\"color: #808000; text-decoration-color: #808000\">energy</span>=<span style=\"color: #800080; text-decoration-color: #800080\">tensor</span> <span style=\"color: #008080; text-decoration-color: #008080; font-weight: bold\">-2.262</span>,\n",
       "                <span style=\"color: #808000; text-decoration-color: #808000\">forces</span>=<span style=\"color: #800080; text-decoration-color: #800080\">tensor</span><span style=\"font-weight: bold\">[</span><span style=\"color: #008080; text-decoration-color: #008080; font-weight: bold\">7</span>, <span style=\"color: #008080; text-decoration-color: #008080; font-weight: bold\">3</span><span style=\"font-weight: bold\">]</span> <span style=\"color: #808000; text-decoration-color: #808000\">n</span>=<span style=\"color: #008080; text-decoration-color: #008080; font-weight: bold\">21</span> x∈<span style=\"font-weight: bold\">[</span><span style=\"color: #008080; text-decoration-color: #008080; font-weight: bold\">-0.018</span>, <span style=\"color: #008080; text-decoration-color: #008080; font-weight: bold\">0.023</span><span style=\"font-weight: bold\">]</span> <span style=\"color: #808000; text-decoration-color: #808000\">μ</span>=<span style=\"color: #008080; text-decoration-color: #008080; font-weight: bold\">0.000</span> <span style=\"color: #808000; text-decoration-color: #808000\">σ</span>=<span style=\"color: #008080; text-decoration-color: #008080; font-weight: bold\">0.011</span>,\n",
       "                <span style=\"color: #808000; text-decoration-color: #808000\">stresses</span>=<span style=\"color: #800080; text-decoration-color: #800080\">tensor</span><span style=\"font-weight: bold\">[</span><span style=\"color: #008080; text-decoration-color: #008080; font-weight: bold\">6</span><span style=\"font-weight: bold\">]</span> x∈<span style=\"font-weight: bold\">[</span><span style=\"color: #008080; text-decoration-color: #008080; font-weight: bold\">-0.000</span>, <span style=\"color: #008080; text-decoration-color: #008080; font-weight: bold\">-3.934e-06</span><span style=\"font-weight: bold\">]</span> <span style=\"color: #808000; text-decoration-color: #808000\">μ</span>=<span style=\"color: #008080; text-decoration-color: #008080; font-weight: bold\">-6.700e-05</span> <span style=\"color: #808000; text-decoration-color: #808000\">σ</span>=<span style=\"color: #008080; text-decoration-color: #008080; font-weight: bold\">6.571e-05</span> <span style=\"font-weight: bold\">[</span><span style=\"color: #008080; text-decoration-color: #008080; font-weight: bold\">-0.000</span>, <span style=\"color: #008080; text-decoration-color: #008080; font-weight: bold\">-0.000</span>, <span style=\"color: #008080; text-decoration-color: #008080; font-weight: bold\">-0.000</span>, \n",
       "<span style=\"color: #008080; text-decoration-color: #008080; font-weight: bold\">-7.364e-06</span>, <span style=\"color: #008080; text-decoration-color: #008080; font-weight: bold\">-9.810e-06</span>, <span style=\"color: #008080; text-decoration-color: #008080; font-weight: bold\">-3.934e-06</span><span style=\"font-weight: bold\">]</span>,\n",
       "                <span style=\"color: #808000; text-decoration-color: #808000\">pos</span>=<span style=\"color: #800080; text-decoration-color: #800080\">tensor</span><span style=\"font-weight: bold\">[</span><span style=\"color: #008080; text-decoration-color: #008080; font-weight: bold\">7</span>, <span style=\"color: #008080; text-decoration-color: #008080; font-weight: bold\">3</span><span style=\"font-weight: bold\">]</span> <span style=\"color: #808000; text-decoration-color: #808000\">n</span>=<span style=\"color: #008080; text-decoration-color: #008080; font-weight: bold\">21</span> x∈<span style=\"font-weight: bold\">[</span><span style=\"color: #008080; text-decoration-color: #008080; font-weight: bold\">-2.740</span>, <span style=\"color: #008080; text-decoration-color: #008080; font-weight: bold\">5.026</span><span style=\"font-weight: bold\">]</span> <span style=\"color: #808000; text-decoration-color: #808000\">μ</span>=<span style=\"color: #008080; text-decoration-color: #008080; font-weight: bold\">1.876</span> <span style=\"color: #808000; text-decoration-color: #808000\">σ</span>=<span style=\"color: #008080; text-decoration-color: #008080; font-weight: bold\">2.050</span>,\n",
       "                <span style=\"color: #808000; text-decoration-color: #808000\">cell</span>=<span style=\"color: #800080; text-decoration-color: #800080\">tensor</span><span style=\"font-weight: bold\">[</span><span style=\"color: #008080; text-decoration-color: #008080; font-weight: bold\">3</span>, <span style=\"color: #008080; text-decoration-color: #008080; font-weight: bold\">3</span><span style=\"font-weight: bold\">]</span> <span style=\"color: #808000; text-decoration-color: #808000\">n</span>=<span style=\"color: #008080; text-decoration-color: #008080; font-weight: bold\">9</span> x∈<span style=\"font-weight: bold\">[</span><span style=\"color: #008080; text-decoration-color: #008080; font-weight: bold\">-2.704</span>, <span style=\"color: #008080; text-decoration-color: #008080; font-weight: bold\">7.945</span><span style=\"font-weight: bold\">]</span> <span style=\"color: #808000; text-decoration-color: #808000\">μ</span>=<span style=\"color: #008080; text-decoration-color: #008080; font-weight: bold\">1.459</span> <span style=\"color: #808000; text-decoration-color: #808000\">σ</span>=<span style=\"color: #008080; text-decoration-color: #008080; font-weight: bold\">4.029</span> <span style=\"font-weight: bold\">[[</span><span style=\"color: #008080; text-decoration-color: #008080; font-weight: bold\">5.971</span>, <span style=\"color: #008080; text-decoration-color: #008080; font-weight: bold\">0</span>., <span style=\"color: #008080; text-decoration-color: #008080; font-weight: bold\">-2.704</span><span style=\"font-weight: bold\">]</span>, <span style=\"font-weight: bold\">[</span><span style=\"color: #008080; text-decoration-color: #008080; font-weight: bold\">-1.224</span>, <span style=\"color: #008080; text-decoration-color: #008080; font-weight: bold\">5.844</span>, \n",
       "<span style=\"color: #008080; text-decoration-color: #008080; font-weight: bold\">-2.704</span><span style=\"font-weight: bold\">]</span>, <span style=\"font-weight: bold\">[</span><span style=\"color: #008080; text-decoration-color: #008080; font-weight: bold\">0</span>., <span style=\"color: #008080; text-decoration-color: #008080; font-weight: bold\">0</span>., <span style=\"color: #008080; text-decoration-color: #008080; font-weight: bold\">7.945</span><span style=\"font-weight: bold\">]]</span>\n",
       "            <span style=\"font-weight: bold\">)</span>,\n",
       "            <span style=\"color: #800080; text-decoration-color: #800080; font-weight: bold\">RelaxationTrajectoryFrame</span><span style=\"font-weight: bold\">(</span>\n",
       "                <span style=\"color: #808000; text-decoration-color: #808000\">energy</span>=<span style=\"color: #800080; text-decoration-color: #800080\">tensor</span> <span style=\"color: #008080; text-decoration-color: #008080; font-weight: bold\">-2.260</span>,\n",
       "                <span style=\"color: #808000; text-decoration-color: #808000\">forces</span>=<span style=\"color: #800080; text-decoration-color: #800080\">tensor</span><span style=\"font-weight: bold\">[</span><span style=\"color: #008080; text-decoration-color: #008080; font-weight: bold\">7</span>, <span style=\"color: #008080; text-decoration-color: #008080; font-weight: bold\">3</span><span style=\"font-weight: bold\">]</span> <span style=\"color: #808000; text-decoration-color: #808000\">n</span>=<span style=\"color: #008080; text-decoration-color: #008080; font-weight: bold\">21</span> x∈<span style=\"font-weight: bold\">[</span><span style=\"color: #008080; text-decoration-color: #008080; font-weight: bold\">-0.011</span>, <span style=\"color: #008080; text-decoration-color: #008080; font-weight: bold\">0.013</span><span style=\"font-weight: bold\">]</span> <span style=\"color: #808000; text-decoration-color: #808000\">μ</span>=<span style=\"color: #008080; text-decoration-color: #008080; font-weight: bold\">6.930e-05</span> <span style=\"color: #808000; text-decoration-color: #808000\">σ</span>=<span style=\"color: #008080; text-decoration-color: #008080; font-weight: bold\">0.006</span>,\n",
       "                <span style=\"color: #808000; text-decoration-color: #808000\">stresses</span>=<span style=\"color: #800080; text-decoration-color: #800080\">tensor</span><span style=\"font-weight: bold\">[</span><span style=\"color: #008080; text-decoration-color: #008080; font-weight: bold\">6</span><span style=\"font-weight: bold\">]</span> x∈<span style=\"font-weight: bold\">[</span><span style=\"color: #008080; text-decoration-color: #008080; font-weight: bold\">-0.000</span>, <span style=\"color: #008080; text-decoration-color: #008080; font-weight: bold\">-2.641e-06</span><span style=\"font-weight: bold\">]</span> <span style=\"color: #808000; text-decoration-color: #808000\">μ</span>=<span style=\"color: #008080; text-decoration-color: #008080; font-weight: bold\">-6.583e-05</span> <span style=\"color: #808000; text-decoration-color: #808000\">σ</span>=<span style=\"color: #008080; text-decoration-color: #008080; font-weight: bold\">6.477e-05</span> <span style=\"font-weight: bold\">[</span><span style=\"color: #008080; text-decoration-color: #008080; font-weight: bold\">-0.000</span>, <span style=\"color: #008080; text-decoration-color: #008080; font-weight: bold\">-0.000</span>, <span style=\"color: #008080; text-decoration-color: #008080; font-weight: bold\">-0.000</span>, \n",
       "<span style=\"color: #008080; text-decoration-color: #008080; font-weight: bold\">-9.041e-06</span>, <span style=\"color: #008080; text-decoration-color: #008080; font-weight: bold\">-8.707e-06</span>, <span style=\"color: #008080; text-decoration-color: #008080; font-weight: bold\">-2.641e-06</span><span style=\"font-weight: bold\">]</span>,\n",
       "                <span style=\"color: #808000; text-decoration-color: #808000\">pos</span>=<span style=\"color: #800080; text-decoration-color: #800080\">tensor</span><span style=\"font-weight: bold\">[</span><span style=\"color: #008080; text-decoration-color: #008080; font-weight: bold\">7</span>, <span style=\"color: #008080; text-decoration-color: #008080; font-weight: bold\">3</span><span style=\"font-weight: bold\">]</span> <span style=\"color: #808000; text-decoration-color: #808000\">n</span>=<span style=\"color: #008080; text-decoration-color: #008080; font-weight: bold\">21</span> x∈<span style=\"font-weight: bold\">[</span><span style=\"color: #008080; text-decoration-color: #008080; font-weight: bold\">-2.737</span>, <span style=\"color: #008080; text-decoration-color: #008080; font-weight: bold\">5.026</span><span style=\"font-weight: bold\">]</span> <span style=\"color: #808000; text-decoration-color: #808000\">μ</span>=<span style=\"color: #008080; text-decoration-color: #008080; font-weight: bold\">1.876</span> <span style=\"color: #808000; text-decoration-color: #808000\">σ</span>=<span style=\"color: #008080; text-decoration-color: #008080; font-weight: bold\">2.049</span>,\n",
       "                <span style=\"color: #808000; text-decoration-color: #808000\">cell</span>=<span style=\"color: #800080; text-decoration-color: #800080\">tensor</span><span style=\"font-weight: bold\">[</span><span style=\"color: #008080; text-decoration-color: #008080; font-weight: bold\">3</span>, <span style=\"color: #008080; text-decoration-color: #008080; font-weight: bold\">3</span><span style=\"font-weight: bold\">]</span> <span style=\"color: #808000; text-decoration-color: #808000\">n</span>=<span style=\"color: #008080; text-decoration-color: #008080; font-weight: bold\">9</span> x∈<span style=\"font-weight: bold\">[</span><span style=\"color: #008080; text-decoration-color: #008080; font-weight: bold\">-2.704</span>, <span style=\"color: #008080; text-decoration-color: #008080; font-weight: bold\">7.945</span><span style=\"font-weight: bold\">]</span> <span style=\"color: #808000; text-decoration-color: #808000\">μ</span>=<span style=\"color: #008080; text-decoration-color: #008080; font-weight: bold\">1.459</span> <span style=\"color: #808000; text-decoration-color: #808000\">σ</span>=<span style=\"color: #008080; text-decoration-color: #008080; font-weight: bold\">4.029</span> <span style=\"font-weight: bold\">[[</span><span style=\"color: #008080; text-decoration-color: #008080; font-weight: bold\">5.971</span>, <span style=\"color: #008080; text-decoration-color: #008080; font-weight: bold\">0</span>., <span style=\"color: #008080; text-decoration-color: #008080; font-weight: bold\">-2.704</span><span style=\"font-weight: bold\">]</span>, <span style=\"font-weight: bold\">[</span><span style=\"color: #008080; text-decoration-color: #008080; font-weight: bold\">-1.224</span>, <span style=\"color: #008080; text-decoration-color: #008080; font-weight: bold\">5.844</span>, \n",
       "<span style=\"color: #008080; text-decoration-color: #008080; font-weight: bold\">-2.704</span><span style=\"font-weight: bold\">]</span>, <span style=\"font-weight: bold\">[</span><span style=\"color: #008080; text-decoration-color: #008080; font-weight: bold\">0</span>., <span style=\"color: #008080; text-decoration-color: #008080; font-weight: bold\">0</span>., <span style=\"color: #008080; text-decoration-color: #008080; font-weight: bold\">7.945</span><span style=\"font-weight: bold\">]]</span>\n",
       "            <span style=\"font-weight: bold\">)</span>,\n",
       "            <span style=\"color: #800080; text-decoration-color: #800080; font-weight: bold\">RelaxationTrajectoryFrame</span><span style=\"font-weight: bold\">(</span>\n",
       "                <span style=\"color: #808000; text-decoration-color: #808000\">energy</span>=<span style=\"color: #800080; text-decoration-color: #800080\">tensor</span> <span style=\"color: #008080; text-decoration-color: #008080; font-weight: bold\">-2.259</span>,\n",
       "                <span style=\"color: #808000; text-decoration-color: #808000\">forces</span>=<span style=\"color: #800080; text-decoration-color: #800080\">tensor</span><span style=\"font-weight: bold\">[</span><span style=\"color: #008080; text-decoration-color: #008080; font-weight: bold\">7</span>, <span style=\"color: #008080; text-decoration-color: #008080; font-weight: bold\">3</span><span style=\"font-weight: bold\">]</span> <span style=\"color: #808000; text-decoration-color: #808000\">n</span>=<span style=\"color: #008080; text-decoration-color: #008080; font-weight: bold\">21</span> x∈<span style=\"font-weight: bold\">[</span><span style=\"color: #008080; text-decoration-color: #008080; font-weight: bold\">-0.005</span>, <span style=\"color: #008080; text-decoration-color: #008080; font-weight: bold\">0.004</span><span style=\"font-weight: bold\">]</span> <span style=\"color: #808000; text-decoration-color: #808000\">μ</span>=<span style=\"color: #008080; text-decoration-color: #008080; font-weight: bold\">9.929e-05</span> <span style=\"color: #808000; text-decoration-color: #808000\">σ</span>=<span style=\"color: #008080; text-decoration-color: #008080; font-weight: bold\">0.002</span>,\n",
       "                <span style=\"color: #808000; text-decoration-color: #808000\">stresses</span>=<span style=\"color: #800080; text-decoration-color: #800080\">tensor</span><span style=\"font-weight: bold\">[</span><span style=\"color: #008080; text-decoration-color: #008080; font-weight: bold\">6</span><span style=\"font-weight: bold\">]</span> x∈<span style=\"font-weight: bold\">[</span><span style=\"color: #008080; text-decoration-color: #008080; font-weight: bold\">-0.000</span>, <span style=\"color: #008080; text-decoration-color: #008080; font-weight: bold\">-3.982e-06</span><span style=\"font-weight: bold\">]</span> <span style=\"color: #808000; text-decoration-color: #808000\">μ</span>=<span style=\"color: #008080; text-decoration-color: #008080; font-weight: bold\">-6.586e-05</span> <span style=\"color: #808000; text-decoration-color: #808000\">σ</span>=<span style=\"color: #008080; text-decoration-color: #008080; font-weight: bold\">6.349e-05</span> <span style=\"font-weight: bold\">[</span><span style=\"color: #008080; text-decoration-color: #008080; font-weight: bold\">-0.000</span>, <span style=\"color: #008080; text-decoration-color: #008080; font-weight: bold\">-0.000</span>, <span style=\"color: #008080; text-decoration-color: #008080; font-weight: bold\">-0.000</span>, \n",
       "<span style=\"color: #008080; text-decoration-color: #008080; font-weight: bold\">-1.106e-05</span>, <span style=\"color: #008080; text-decoration-color: #008080; font-weight: bold\">-9.048e-06</span>, <span style=\"color: #008080; text-decoration-color: #008080; font-weight: bold\">-3.982e-06</span><span style=\"font-weight: bold\">]</span>,\n",
       "                <span style=\"color: #808000; text-decoration-color: #808000\">pos</span>=<span style=\"color: #800080; text-decoration-color: #800080\">tensor</span><span style=\"font-weight: bold\">[</span><span style=\"color: #008080; text-decoration-color: #008080; font-weight: bold\">7</span>, <span style=\"color: #008080; text-decoration-color: #008080; font-weight: bold\">3</span><span style=\"font-weight: bold\">]</span> <span style=\"color: #808000; text-decoration-color: #808000\">n</span>=<span style=\"color: #008080; text-decoration-color: #008080; font-weight: bold\">21</span> x∈<span style=\"font-weight: bold\">[</span><span style=\"color: #008080; text-decoration-color: #008080; font-weight: bold\">-2.732</span>, <span style=\"color: #008080; text-decoration-color: #008080; font-weight: bold\">5.027</span><span style=\"font-weight: bold\">]</span> <span style=\"color: #808000; text-decoration-color: #808000\">μ</span>=<span style=\"color: #008080; text-decoration-color: #008080; font-weight: bold\">1.876</span> <span style=\"color: #808000; text-decoration-color: #808000\">σ</span>=<span style=\"color: #008080; text-decoration-color: #008080; font-weight: bold\">2.048</span>,\n",
       "                <span style=\"color: #808000; text-decoration-color: #808000\">cell</span>=<span style=\"color: #800080; text-decoration-color: #800080\">tensor</span><span style=\"font-weight: bold\">[</span><span style=\"color: #008080; text-decoration-color: #008080; font-weight: bold\">3</span>, <span style=\"color: #008080; text-decoration-color: #008080; font-weight: bold\">3</span><span style=\"font-weight: bold\">]</span> <span style=\"color: #808000; text-decoration-color: #808000\">n</span>=<span style=\"color: #008080; text-decoration-color: #008080; font-weight: bold\">9</span> x∈<span style=\"font-weight: bold\">[</span><span style=\"color: #008080; text-decoration-color: #008080; font-weight: bold\">-2.704</span>, <span style=\"color: #008080; text-decoration-color: #008080; font-weight: bold\">7.945</span><span style=\"font-weight: bold\">]</span> <span style=\"color: #808000; text-decoration-color: #808000\">μ</span>=<span style=\"color: #008080; text-decoration-color: #008080; font-weight: bold\">1.459</span> <span style=\"color: #808000; text-decoration-color: #808000\">σ</span>=<span style=\"color: #008080; text-decoration-color: #008080; font-weight: bold\">4.029</span> <span style=\"font-weight: bold\">[[</span><span style=\"color: #008080; text-decoration-color: #008080; font-weight: bold\">5.971</span>, <span style=\"color: #008080; text-decoration-color: #008080; font-weight: bold\">0</span>., <span style=\"color: #008080; text-decoration-color: #008080; font-weight: bold\">-2.704</span><span style=\"font-weight: bold\">]</span>, <span style=\"font-weight: bold\">[</span><span style=\"color: #008080; text-decoration-color: #008080; font-weight: bold\">-1.224</span>, <span style=\"color: #008080; text-decoration-color: #008080; font-weight: bold\">5.844</span>, \n",
       "<span style=\"color: #008080; text-decoration-color: #008080; font-weight: bold\">-2.704</span><span style=\"font-weight: bold\">]</span>, <span style=\"font-weight: bold\">[</span><span style=\"color: #008080; text-decoration-color: #008080; font-weight: bold\">0</span>., <span style=\"color: #008080; text-decoration-color: #008080; font-weight: bold\">0</span>., <span style=\"color: #008080; text-decoration-color: #008080; font-weight: bold\">7.945</span><span style=\"font-weight: bold\">]]</span>\n",
       "            <span style=\"font-weight: bold\">)</span>,\n",
       "            <span style=\"color: #800080; text-decoration-color: #800080; font-weight: bold\">RelaxationTrajectoryFrame</span><span style=\"font-weight: bold\">(</span>\n",
       "                <span style=\"color: #808000; text-decoration-color: #808000\">energy</span>=<span style=\"color: #800080; text-decoration-color: #800080\">tensor</span> <span style=\"color: #008080; text-decoration-color: #008080; font-weight: bold\">-2.259</span>,\n",
       "                <span style=\"color: #808000; text-decoration-color: #808000\">forces</span>=<span style=\"color: #800080; text-decoration-color: #800080\">tensor</span><span style=\"font-weight: bold\">[</span><span style=\"color: #008080; text-decoration-color: #008080; font-weight: bold\">7</span>, <span style=\"color: #008080; text-decoration-color: #008080; font-weight: bold\">3</span><span style=\"font-weight: bold\">]</span> <span style=\"color: #808000; text-decoration-color: #808000\">n</span>=<span style=\"color: #008080; text-decoration-color: #008080; font-weight: bold\">21</span> x∈<span style=\"font-weight: bold\">[</span><span style=\"color: #008080; text-decoration-color: #008080; font-weight: bold\">-0.005</span>, <span style=\"color: #008080; text-decoration-color: #008080; font-weight: bold\">0.004</span><span style=\"font-weight: bold\">]</span> <span style=\"color: #808000; text-decoration-color: #808000\">μ</span>=<span style=\"color: #008080; text-decoration-color: #008080; font-weight: bold\">9.929e-05</span> <span style=\"color: #808000; text-decoration-color: #808000\">σ</span>=<span style=\"color: #008080; text-decoration-color: #008080; font-weight: bold\">0.002</span>,\n",
       "                <span style=\"color: #808000; text-decoration-color: #808000\">stresses</span>=<span style=\"color: #800080; text-decoration-color: #800080\">tensor</span><span style=\"font-weight: bold\">[</span><span style=\"color: #008080; text-decoration-color: #008080; font-weight: bold\">6</span><span style=\"font-weight: bold\">]</span> x∈<span style=\"font-weight: bold\">[</span><span style=\"color: #008080; text-decoration-color: #008080; font-weight: bold\">-0.000</span>, <span style=\"color: #008080; text-decoration-color: #008080; font-weight: bold\">-3.982e-06</span><span style=\"font-weight: bold\">]</span> <span style=\"color: #808000; text-decoration-color: #808000\">μ</span>=<span style=\"color: #008080; text-decoration-color: #008080; font-weight: bold\">-6.586e-05</span> <span style=\"color: #808000; text-decoration-color: #808000\">σ</span>=<span style=\"color: #008080; text-decoration-color: #008080; font-weight: bold\">6.349e-05</span> <span style=\"font-weight: bold\">[</span><span style=\"color: #008080; text-decoration-color: #008080; font-weight: bold\">-0.000</span>, <span style=\"color: #008080; text-decoration-color: #008080; font-weight: bold\">-0.000</span>, <span style=\"color: #008080; text-decoration-color: #008080; font-weight: bold\">-0.000</span>, \n",
       "<span style=\"color: #008080; text-decoration-color: #008080; font-weight: bold\">-1.106e-05</span>, <span style=\"color: #008080; text-decoration-color: #008080; font-weight: bold\">-9.048e-06</span>, <span style=\"color: #008080; text-decoration-color: #008080; font-weight: bold\">-3.982e-06</span><span style=\"font-weight: bold\">]</span>,\n",
       "                <span style=\"color: #808000; text-decoration-color: #808000\">pos</span>=<span style=\"color: #800080; text-decoration-color: #800080\">tensor</span><span style=\"font-weight: bold\">[</span><span style=\"color: #008080; text-decoration-color: #008080; font-weight: bold\">7</span>, <span style=\"color: #008080; text-decoration-color: #008080; font-weight: bold\">3</span><span style=\"font-weight: bold\">]</span> <span style=\"color: #808000; text-decoration-color: #808000\">n</span>=<span style=\"color: #008080; text-decoration-color: #008080; font-weight: bold\">21</span> x∈<span style=\"font-weight: bold\">[</span><span style=\"color: #008080; text-decoration-color: #008080; font-weight: bold\">-2.732</span>, <span style=\"color: #008080; text-decoration-color: #008080; font-weight: bold\">5.027</span><span style=\"font-weight: bold\">]</span> <span style=\"color: #808000; text-decoration-color: #808000\">μ</span>=<span style=\"color: #008080; text-decoration-color: #008080; font-weight: bold\">1.876</span> <span style=\"color: #808000; text-decoration-color: #808000\">σ</span>=<span style=\"color: #008080; text-decoration-color: #008080; font-weight: bold\">2.048</span>,\n",
       "                <span style=\"color: #808000; text-decoration-color: #808000\">cell</span>=<span style=\"color: #800080; text-decoration-color: #800080\">tensor</span><span style=\"font-weight: bold\">[</span><span style=\"color: #008080; text-decoration-color: #008080; font-weight: bold\">3</span>, <span style=\"color: #008080; text-decoration-color: #008080; font-weight: bold\">3</span><span style=\"font-weight: bold\">]</span> <span style=\"color: #808000; text-decoration-color: #808000\">n</span>=<span style=\"color: #008080; text-decoration-color: #008080; font-weight: bold\">9</span> x∈<span style=\"font-weight: bold\">[</span><span style=\"color: #008080; text-decoration-color: #008080; font-weight: bold\">-2.704</span>, <span style=\"color: #008080; text-decoration-color: #008080; font-weight: bold\">7.945</span><span style=\"font-weight: bold\">]</span> <span style=\"color: #808000; text-decoration-color: #808000\">μ</span>=<span style=\"color: #008080; text-decoration-color: #008080; font-weight: bold\">1.459</span> <span style=\"color: #808000; text-decoration-color: #808000\">σ</span>=<span style=\"color: #008080; text-decoration-color: #008080; font-weight: bold\">4.029</span> <span style=\"font-weight: bold\">[[</span><span style=\"color: #008080; text-decoration-color: #008080; font-weight: bold\">5.971</span>, <span style=\"color: #008080; text-decoration-color: #008080; font-weight: bold\">0</span>., <span style=\"color: #008080; text-decoration-color: #008080; font-weight: bold\">-2.704</span><span style=\"font-weight: bold\">]</span>, <span style=\"font-weight: bold\">[</span><span style=\"color: #008080; text-decoration-color: #008080; font-weight: bold\">-1.224</span>, <span style=\"color: #008080; text-decoration-color: #008080; font-weight: bold\">5.844</span>, \n",
       "<span style=\"color: #008080; text-decoration-color: #008080; font-weight: bold\">-2.704</span><span style=\"font-weight: bold\">]</span>, <span style=\"font-weight: bold\">[</span><span style=\"color: #008080; text-decoration-color: #008080; font-weight: bold\">0</span>., <span style=\"color: #008080; text-decoration-color: #008080; font-weight: bold\">0</span>., <span style=\"color: #008080; text-decoration-color: #008080; font-weight: bold\">7.945</span><span style=\"font-weight: bold\">]]</span>\n",
       "            <span style=\"font-weight: bold\">)</span>\n",
       "        <span style=\"font-weight: bold\">]</span>\n",
       "    <span style=\"font-weight: bold\">)</span>\n",
       "<span style=\"font-weight: bold\">)</span>\n",
       "</pre>\n"
      ],
      "text/plain": [
       "\u001b[1;35mRelaxationOutput\u001b[0m\u001b[1m(\u001b[0m\n",
       "    \u001b[33mtrajectory\u001b[0m=\u001b[1;35mRelaxationTrajectory\u001b[0m\u001b[1m(\u001b[0m\n",
       "        \u001b[33mframes\u001b[0m=\u001b[1m[\u001b[0m\n",
       "            \u001b[1;35mRelaxationTrajectoryFrame\u001b[0m\u001b[1m(\u001b[0m\n",
       "                \u001b[33menergy\u001b[0m=\u001b[35mtensor\u001b[0m \u001b[1;36m-2.268\u001b[0m,\n",
       "                \u001b[33mforces\u001b[0m=\u001b[35mtensor\u001b[0m\u001b[1m[\u001b[0m\u001b[1;36m7\u001b[0m, \u001b[1;36m3\u001b[0m\u001b[1m]\u001b[0m \u001b[33mn\u001b[0m=\u001b[1;36m21\u001b[0m x∈\u001b[1m[\u001b[0m\u001b[1;36m-0.061\u001b[0m, \u001b[1;36m0.076\u001b[0m\u001b[1m]\u001b[0m \u001b[33mμ\u001b[0m=\u001b[1;36m-6.903e-05\u001b[0m \u001b[33mσ\u001b[0m=\u001b[1;36m0\u001b[0m\u001b[1;36m.035\u001b[0m,\n",
       "                \u001b[33mstresses\u001b[0m=\u001b[35mtensor\u001b[0m\u001b[1m[\u001b[0m\u001b[1;36m6\u001b[0m\u001b[1m]\u001b[0m x∈\u001b[1m[\u001b[0m\u001b[1;36m-0.000\u001b[0m, \u001b[1;36m4.392e-06\u001b[0m\u001b[1m]\u001b[0m \u001b[33mμ\u001b[0m=\u001b[1;36m-7.421e-05\u001b[0m \u001b[33mσ\u001b[0m=\u001b[1;36m8\u001b[0m\u001b[1;36m.370e-05\u001b[0m \u001b[1m[\u001b[0m\u001b[1;36m-0.000\u001b[0m, \u001b[1;36m-0.000\u001b[0m, \u001b[1;36m-0.000\u001b[0m, \n",
       "\u001b[1;36m1.077e-06\u001b[0m, \u001b[1;36m4.392e-06\u001b[0m, \u001b[1;36m8.945e-07\u001b[0m\u001b[1m]\u001b[0m,\n",
       "                \u001b[33mpos\u001b[0m=\u001b[35mtensor\u001b[0m\u001b[1m[\u001b[0m\u001b[1;36m7\u001b[0m, \u001b[1;36m3\u001b[0m\u001b[1m]\u001b[0m \u001b[33mn\u001b[0m=\u001b[1;36m21\u001b[0m x∈\u001b[1m[\u001b[0m\u001b[1;36m-2.754\u001b[0m, \u001b[1;36m5.026\u001b[0m\u001b[1m]\u001b[0m \u001b[33mμ\u001b[0m=\u001b[1;36m1\u001b[0m\u001b[1;36m.876\u001b[0m \u001b[33mσ\u001b[0m=\u001b[1;36m2\u001b[0m\u001b[1;36m.053\u001b[0m,\n",
       "                \u001b[33mcell\u001b[0m=\u001b[35mtensor\u001b[0m\u001b[1m[\u001b[0m\u001b[1;36m3\u001b[0m, \u001b[1;36m3\u001b[0m\u001b[1m]\u001b[0m \u001b[33mn\u001b[0m=\u001b[1;36m9\u001b[0m x∈\u001b[1m[\u001b[0m\u001b[1;36m-2.704\u001b[0m, \u001b[1;36m7.945\u001b[0m\u001b[1m]\u001b[0m \u001b[33mμ\u001b[0m=\u001b[1;36m1\u001b[0m\u001b[1;36m.459\u001b[0m \u001b[33mσ\u001b[0m=\u001b[1;36m4\u001b[0m\u001b[1;36m.029\u001b[0m \u001b[1m[\u001b[0m\u001b[1m[\u001b[0m\u001b[1;36m5.971\u001b[0m, \u001b[1;36m0\u001b[0m., \u001b[1;36m-2.704\u001b[0m\u001b[1m]\u001b[0m, \u001b[1m[\u001b[0m\u001b[1;36m-1.224\u001b[0m, \u001b[1;36m5.844\u001b[0m, \n",
       "\u001b[1;36m-2.704\u001b[0m\u001b[1m]\u001b[0m, \u001b[1m[\u001b[0m\u001b[1;36m0\u001b[0m., \u001b[1;36m0\u001b[0m., \u001b[1;36m7.945\u001b[0m\u001b[1m]\u001b[0m\u001b[1m]\u001b[0m\n",
       "            \u001b[1m)\u001b[0m,\n",
       "            \u001b[1;35mRelaxationTrajectoryFrame\u001b[0m\u001b[1m(\u001b[0m\n",
       "                \u001b[33menergy\u001b[0m=\u001b[35mtensor\u001b[0m \u001b[1;36m-2.268\u001b[0m,\n",
       "                \u001b[33mforces\u001b[0m=\u001b[35mtensor\u001b[0m\u001b[1m[\u001b[0m\u001b[1;36m7\u001b[0m, \u001b[1;36m3\u001b[0m\u001b[1m]\u001b[0m \u001b[33mn\u001b[0m=\u001b[1;36m21\u001b[0m x∈\u001b[1m[\u001b[0m\u001b[1;36m-0.057\u001b[0m, \u001b[1;36m0.072\u001b[0m\u001b[1m]\u001b[0m \u001b[33mμ\u001b[0m=\u001b[1;36m1\u001b[0m\u001b[1;36m.215e-05\u001b[0m \u001b[33mσ\u001b[0m=\u001b[1;36m0\u001b[0m\u001b[1;36m.033\u001b[0m,\n",
       "                \u001b[33mstresses\u001b[0m=\u001b[35mtensor\u001b[0m\u001b[1m[\u001b[0m\u001b[1;36m6\u001b[0m\u001b[1m]\u001b[0m x∈\u001b[1m[\u001b[0m\u001b[1;36m-0.000\u001b[0m, \u001b[1;36m2.245e-06\u001b[0m\u001b[1m]\u001b[0m \u001b[33mμ\u001b[0m=\u001b[1;36m-7.446e-05\u001b[0m \u001b[33mσ\u001b[0m=\u001b[1;36m8\u001b[0m\u001b[1;36m.204e-05\u001b[0m \u001b[1m[\u001b[0m\u001b[1;36m-0.000\u001b[0m, \u001b[1;36m-0.000\u001b[0m, \u001b[1;36m-0.000\u001b[0m, \n",
       "\u001b[1;36m2.245e-06\u001b[0m, \u001b[1;36m-2.822e-06\u001b[0m, \u001b[1;36m1.260e-06\u001b[0m\u001b[1m]\u001b[0m,\n",
       "                \u001b[33mpos\u001b[0m=\u001b[35mtensor\u001b[0m\u001b[1m[\u001b[0m\u001b[1;36m7\u001b[0m, \u001b[1;36m3\u001b[0m\u001b[1m]\u001b[0m \u001b[33mn\u001b[0m=\u001b[1;36m21\u001b[0m x∈\u001b[1m[\u001b[0m\u001b[1;36m-2.753\u001b[0m, \u001b[1;36m5.026\u001b[0m\u001b[1m]\u001b[0m \u001b[33mμ\u001b[0m=\u001b[1;36m1\u001b[0m\u001b[1;36m.876\u001b[0m \u001b[33mσ\u001b[0m=\u001b[1;36m2\u001b[0m\u001b[1;36m.053\u001b[0m,\n",
       "                \u001b[33mcell\u001b[0m=\u001b[35mtensor\u001b[0m\u001b[1m[\u001b[0m\u001b[1;36m3\u001b[0m, \u001b[1;36m3\u001b[0m\u001b[1m]\u001b[0m \u001b[33mn\u001b[0m=\u001b[1;36m9\u001b[0m x∈\u001b[1m[\u001b[0m\u001b[1;36m-2.704\u001b[0m, \u001b[1;36m7.945\u001b[0m\u001b[1m]\u001b[0m \u001b[33mμ\u001b[0m=\u001b[1;36m1\u001b[0m\u001b[1;36m.459\u001b[0m \u001b[33mσ\u001b[0m=\u001b[1;36m4\u001b[0m\u001b[1;36m.029\u001b[0m \u001b[1m[\u001b[0m\u001b[1m[\u001b[0m\u001b[1;36m5.971\u001b[0m, \u001b[1;36m0\u001b[0m., \u001b[1;36m-2.704\u001b[0m\u001b[1m]\u001b[0m, \u001b[1m[\u001b[0m\u001b[1;36m-1.224\u001b[0m, \u001b[1;36m5.844\u001b[0m, \n",
       "\u001b[1;36m-2.704\u001b[0m\u001b[1m]\u001b[0m, \u001b[1m[\u001b[0m\u001b[1;36m0\u001b[0m., \u001b[1;36m0\u001b[0m., \u001b[1;36m7.945\u001b[0m\u001b[1m]\u001b[0m\u001b[1m]\u001b[0m\n",
       "            \u001b[1m)\u001b[0m,\n",
       "            \u001b[1;35mRelaxationTrajectoryFrame\u001b[0m\u001b[1m(\u001b[0m\n",
       "                \u001b[33menergy\u001b[0m=\u001b[35mtensor\u001b[0m \u001b[1;36m-2.266\u001b[0m,\n",
       "                \u001b[33mforces\u001b[0m=\u001b[35mtensor\u001b[0m\u001b[1m[\u001b[0m\u001b[1;36m7\u001b[0m, \u001b[1;36m3\u001b[0m\u001b[1m]\u001b[0m \u001b[33mn\u001b[0m=\u001b[1;36m21\u001b[0m x∈\u001b[1m[\u001b[0m\u001b[1;36m-0.052\u001b[0m, \u001b[1;36m0.068\u001b[0m\u001b[1m]\u001b[0m \u001b[33mμ\u001b[0m=\u001b[1;36m0\u001b[0m\u001b[1;36m.000\u001b[0m \u001b[33mσ\u001b[0m=\u001b[1;36m0\u001b[0m\u001b[1;36m.031\u001b[0m,\n",
       "                \u001b[33mstresses\u001b[0m=\u001b[35mtensor\u001b[0m\u001b[1m[\u001b[0m\u001b[1;36m6\u001b[0m\u001b[1m]\u001b[0m x∈\u001b[1m[\u001b[0m\u001b[1;36m-0.000\u001b[0m, \u001b[1;36m-9.688e-07\u001b[0m\u001b[1m]\u001b[0m \u001b[33mμ\u001b[0m=\u001b[1;36m-7.522e-05\u001b[0m \u001b[33mσ\u001b[0m=\u001b[1;36m7\u001b[0m\u001b[1;36m.890e-05\u001b[0m \u001b[1m[\u001b[0m\u001b[1;36m-0.000\u001b[0m, \u001b[1;36m-0.000\u001b[0m, \u001b[1;36m-0.000\u001b[0m, \n",
       "\u001b[1;36m-9.688e-07\u001b[0m, \u001b[1;36m-5.014e-06\u001b[0m, \u001b[1;36m-3.826e-06\u001b[0m\u001b[1m]\u001b[0m,\n",
       "                \u001b[33mpos\u001b[0m=\u001b[35mtensor\u001b[0m\u001b[1m[\u001b[0m\u001b[1;36m7\u001b[0m, \u001b[1;36m3\u001b[0m\u001b[1m]\u001b[0m \u001b[33mn\u001b[0m=\u001b[1;36m21\u001b[0m x∈\u001b[1m[\u001b[0m\u001b[1;36m-2.752\u001b[0m, \u001b[1;36m5.026\u001b[0m\u001b[1m]\u001b[0m \u001b[33mμ\u001b[0m=\u001b[1;36m1\u001b[0m\u001b[1;36m.876\u001b[0m \u001b[33mσ\u001b[0m=\u001b[1;36m2\u001b[0m\u001b[1;36m.053\u001b[0m,\n",
       "                \u001b[33mcell\u001b[0m=\u001b[35mtensor\u001b[0m\u001b[1m[\u001b[0m\u001b[1;36m3\u001b[0m, \u001b[1;36m3\u001b[0m\u001b[1m]\u001b[0m \u001b[33mn\u001b[0m=\u001b[1;36m9\u001b[0m x∈\u001b[1m[\u001b[0m\u001b[1;36m-2.704\u001b[0m, \u001b[1;36m7.945\u001b[0m\u001b[1m]\u001b[0m \u001b[33mμ\u001b[0m=\u001b[1;36m1\u001b[0m\u001b[1;36m.459\u001b[0m \u001b[33mσ\u001b[0m=\u001b[1;36m4\u001b[0m\u001b[1;36m.029\u001b[0m \u001b[1m[\u001b[0m\u001b[1m[\u001b[0m\u001b[1;36m5.971\u001b[0m, \u001b[1;36m0\u001b[0m., \u001b[1;36m-2.704\u001b[0m\u001b[1m]\u001b[0m, \u001b[1m[\u001b[0m\u001b[1;36m-1.224\u001b[0m, \u001b[1;36m5.844\u001b[0m, \n",
       "\u001b[1;36m-2.704\u001b[0m\u001b[1m]\u001b[0m, \u001b[1m[\u001b[0m\u001b[1;36m0\u001b[0m., \u001b[1;36m0\u001b[0m., \u001b[1;36m7.945\u001b[0m\u001b[1m]\u001b[0m\u001b[1m]\u001b[0m\n",
       "            \u001b[1m)\u001b[0m,\n",
       "            \u001b[1;35mRelaxationTrajectoryFrame\u001b[0m\u001b[1m(\u001b[0m\n",
       "                \u001b[33menergy\u001b[0m=\u001b[35mtensor\u001b[0m \u001b[1;36m-2.266\u001b[0m,\n",
       "                \u001b[33mforces\u001b[0m=\u001b[35mtensor\u001b[0m\u001b[1m[\u001b[0m\u001b[1;36m7\u001b[0m, \u001b[1;36m3\u001b[0m\u001b[1m]\u001b[0m \u001b[33mn\u001b[0m=\u001b[1;36m21\u001b[0m x∈\u001b[1m[\u001b[0m\u001b[1;36m-0.045\u001b[0m, \u001b[1;36m0.056\u001b[0m\u001b[1m]\u001b[0m \u001b[33mμ\u001b[0m=\u001b[1;36m0\u001b[0m\u001b[1;36m.000\u001b[0m \u001b[33mσ\u001b[0m=\u001b[1;36m0\u001b[0m\u001b[1;36m.026\u001b[0m,\n",
       "                \u001b[33mstresses\u001b[0m=\u001b[35mtensor\u001b[0m\u001b[1m[\u001b[0m\u001b[1;36m6\u001b[0m\u001b[1m]\u001b[0m x∈\u001b[1m[\u001b[0m\u001b[1;36m-0.000\u001b[0m, \u001b[1;36m-2.351e-07\u001b[0m\u001b[1m]\u001b[0m \u001b[33mμ\u001b[0m=\u001b[1;36m-7.264e-05\u001b[0m \u001b[33mσ\u001b[0m=\u001b[1;36m7\u001b[0m\u001b[1;36m.465e-05\u001b[0m \u001b[1m[\u001b[0m\u001b[1;36m-0.000\u001b[0m, \u001b[1;36m-0.000\u001b[0m, \u001b[1;36m-0.000\u001b[0m, \n",
       "\u001b[1;36m-6.969e-06\u001b[0m, \u001b[1;36m-6.534e-06\u001b[0m, \u001b[1;36m-2.351e-07\u001b[0m\u001b[1m]\u001b[0m,\n",
       "                \u001b[33mpos\u001b[0m=\u001b[35mtensor\u001b[0m\u001b[1m[\u001b[0m\u001b[1;36m7\u001b[0m, \u001b[1;36m3\u001b[0m\u001b[1m]\u001b[0m \u001b[33mn\u001b[0m=\u001b[1;36m21\u001b[0m x∈\u001b[1m[\u001b[0m\u001b[1;36m-2.750\u001b[0m, \u001b[1;36m5.026\u001b[0m\u001b[1m]\u001b[0m \u001b[33mμ\u001b[0m=\u001b[1;36m1\u001b[0m\u001b[1;36m.876\u001b[0m \u001b[33mσ\u001b[0m=\u001b[1;36m2\u001b[0m\u001b[1;36m.052\u001b[0m,\n",
       "                \u001b[33mcell\u001b[0m=\u001b[35mtensor\u001b[0m\u001b[1m[\u001b[0m\u001b[1;36m3\u001b[0m, \u001b[1;36m3\u001b[0m\u001b[1m]\u001b[0m \u001b[33mn\u001b[0m=\u001b[1;36m9\u001b[0m x∈\u001b[1m[\u001b[0m\u001b[1;36m-2.704\u001b[0m, \u001b[1;36m7.945\u001b[0m\u001b[1m]\u001b[0m \u001b[33mμ\u001b[0m=\u001b[1;36m1\u001b[0m\u001b[1;36m.459\u001b[0m \u001b[33mσ\u001b[0m=\u001b[1;36m4\u001b[0m\u001b[1;36m.029\u001b[0m \u001b[1m[\u001b[0m\u001b[1m[\u001b[0m\u001b[1;36m5.971\u001b[0m, \u001b[1;36m0\u001b[0m., \u001b[1;36m-2.704\u001b[0m\u001b[1m]\u001b[0m, \u001b[1m[\u001b[0m\u001b[1;36m-1.224\u001b[0m, \u001b[1;36m5.844\u001b[0m, \n",
       "\u001b[1;36m-2.704\u001b[0m\u001b[1m]\u001b[0m, \u001b[1m[\u001b[0m\u001b[1;36m0\u001b[0m., \u001b[1;36m0\u001b[0m., \u001b[1;36m7.945\u001b[0m\u001b[1m]\u001b[0m\u001b[1m]\u001b[0m\n",
       "            \u001b[1m)\u001b[0m,\n",
       "            \u001b[1;35mRelaxationTrajectoryFrame\u001b[0m\u001b[1m(\u001b[0m\n",
       "                \u001b[33menergy\u001b[0m=\u001b[35mtensor\u001b[0m \u001b[1;36m-2.264\u001b[0m,\n",
       "                \u001b[33mforces\u001b[0m=\u001b[35mtensor\u001b[0m\u001b[1m[\u001b[0m\u001b[1;36m7\u001b[0m, \u001b[1;36m3\u001b[0m\u001b[1m]\u001b[0m \u001b[33mn\u001b[0m=\u001b[1;36m21\u001b[0m x∈\u001b[1m[\u001b[0m\u001b[1;36m-0.036\u001b[0m, \u001b[1;36m0.045\u001b[0m\u001b[1m]\u001b[0m \u001b[33mμ\u001b[0m=\u001b[1;36m-5.406e-05\u001b[0m \u001b[33mσ\u001b[0m=\u001b[1;36m0\u001b[0m\u001b[1;36m.021\u001b[0m,\n",
       "                \u001b[33mstresses\u001b[0m=\u001b[35mtensor\u001b[0m\u001b[1m[\u001b[0m\u001b[1;36m6\u001b[0m\u001b[1m]\u001b[0m x∈\u001b[1m[\u001b[0m\u001b[1;36m-0.000\u001b[0m, \u001b[1;36m1.074e-06\u001b[0m\u001b[1m]\u001b[0m \u001b[33mμ\u001b[0m=\u001b[1;36m-6.974e-05\u001b[0m \u001b[33mσ\u001b[0m=\u001b[1;36m7\u001b[0m\u001b[1;36m.158e-05\u001b[0m \u001b[1m[\u001b[0m\u001b[1;36m-0.000\u001b[0m, \u001b[1;36m-0.000\u001b[0m, \u001b[1;36m-0.000\u001b[0m, \n",
       "\u001b[1;36m-6.797e-06\u001b[0m, \u001b[1;36m-7.668e-06\u001b[0m, \u001b[1;36m1.074e-06\u001b[0m\u001b[1m]\u001b[0m,\n",
       "                \u001b[33mpos\u001b[0m=\u001b[35mtensor\u001b[0m\u001b[1m[\u001b[0m\u001b[1;36m7\u001b[0m, \u001b[1;36m3\u001b[0m\u001b[1m]\u001b[0m \u001b[33mn\u001b[0m=\u001b[1;36m21\u001b[0m x∈\u001b[1m[\u001b[0m\u001b[1;36m-2.747\u001b[0m, \u001b[1;36m5.026\u001b[0m\u001b[1m]\u001b[0m \u001b[33mμ\u001b[0m=\u001b[1;36m1\u001b[0m\u001b[1;36m.876\u001b[0m \u001b[33mσ\u001b[0m=\u001b[1;36m2\u001b[0m\u001b[1;36m.051\u001b[0m,\n",
       "                \u001b[33mcell\u001b[0m=\u001b[35mtensor\u001b[0m\u001b[1m[\u001b[0m\u001b[1;36m3\u001b[0m, \u001b[1;36m3\u001b[0m\u001b[1m]\u001b[0m \u001b[33mn\u001b[0m=\u001b[1;36m9\u001b[0m x∈\u001b[1m[\u001b[0m\u001b[1;36m-2.704\u001b[0m, \u001b[1;36m7.945\u001b[0m\u001b[1m]\u001b[0m \u001b[33mμ\u001b[0m=\u001b[1;36m1\u001b[0m\u001b[1;36m.459\u001b[0m \u001b[33mσ\u001b[0m=\u001b[1;36m4\u001b[0m\u001b[1;36m.029\u001b[0m \u001b[1m[\u001b[0m\u001b[1m[\u001b[0m\u001b[1;36m5.971\u001b[0m, \u001b[1;36m0\u001b[0m., \u001b[1;36m-2.704\u001b[0m\u001b[1m]\u001b[0m, \u001b[1m[\u001b[0m\u001b[1;36m-1.224\u001b[0m, \u001b[1;36m5.844\u001b[0m, \n",
       "\u001b[1;36m-2.704\u001b[0m\u001b[1m]\u001b[0m, \u001b[1m[\u001b[0m\u001b[1;36m0\u001b[0m., \u001b[1;36m0\u001b[0m., \u001b[1;36m7.945\u001b[0m\u001b[1m]\u001b[0m\u001b[1m]\u001b[0m\n",
       "            \u001b[1m)\u001b[0m,\n",
       "            \u001b[1;35mRelaxationTrajectoryFrame\u001b[0m\u001b[1m(\u001b[0m\n",
       "                \u001b[33menergy\u001b[0m=\u001b[35mtensor\u001b[0m \u001b[1;36m-2.266\u001b[0m,\n",
       "                \u001b[33mforces\u001b[0m=\u001b[35mtensor\u001b[0m\u001b[1m[\u001b[0m\u001b[1;36m7\u001b[0m, \u001b[1;36m3\u001b[0m\u001b[1m]\u001b[0m \u001b[33mn\u001b[0m=\u001b[1;36m21\u001b[0m x∈\u001b[1m[\u001b[0m\u001b[1;36m-0.027\u001b[0m, \u001b[1;36m0.032\u001b[0m\u001b[1m]\u001b[0m \u001b[33mμ\u001b[0m=\u001b[1;36m0\u001b[0m\u001b[1;36m.000\u001b[0m \u001b[33mσ\u001b[0m=\u001b[1;36m0\u001b[0m\u001b[1;36m.015\u001b[0m,\n",
       "                \u001b[33mstresses\u001b[0m=\u001b[35mtensor\u001b[0m\u001b[1m[\u001b[0m\u001b[1;36m6\u001b[0m\u001b[1m]\u001b[0m x∈\u001b[1m[\u001b[0m\u001b[1;36m-0.000\u001b[0m, \u001b[1;36m2.463e-07\u001b[0m\u001b[1m]\u001b[0m \u001b[33mμ\u001b[0m=\u001b[1;36m-6.681e-05\u001b[0m \u001b[33mσ\u001b[0m=\u001b[1;36m6\u001b[0m\u001b[1;36m.754e-05\u001b[0m \u001b[1m[\u001b[0m\u001b[1;36m-0.000\u001b[0m, \u001b[1;36m-0.000\u001b[0m, \u001b[1;36m-0.000\u001b[0m, \n",
       "\u001b[1;36m-8.750e-06\u001b[0m, \u001b[1;36m-7.168e-06\u001b[0m, \u001b[1;36m2.463e-07\u001b[0m\u001b[1m]\u001b[0m,\n",
       "                \u001b[33mpos\u001b[0m=\u001b[35mtensor\u001b[0m\u001b[1m[\u001b[0m\u001b[1;36m7\u001b[0m, \u001b[1;36m3\u001b[0m\u001b[1m]\u001b[0m \u001b[33mn\u001b[0m=\u001b[1;36m21\u001b[0m x∈\u001b[1m[\u001b[0m\u001b[1;36m-2.744\u001b[0m, \u001b[1;36m5.026\u001b[0m\u001b[1m]\u001b[0m \u001b[33mμ\u001b[0m=\u001b[1;36m1\u001b[0m\u001b[1;36m.876\u001b[0m \u001b[33mσ\u001b[0m=\u001b[1;36m2\u001b[0m\u001b[1;36m.051\u001b[0m,\n",
       "                \u001b[33mcell\u001b[0m=\u001b[35mtensor\u001b[0m\u001b[1m[\u001b[0m\u001b[1;36m3\u001b[0m, \u001b[1;36m3\u001b[0m\u001b[1m]\u001b[0m \u001b[33mn\u001b[0m=\u001b[1;36m9\u001b[0m x∈\u001b[1m[\u001b[0m\u001b[1;36m-2.704\u001b[0m, \u001b[1;36m7.945\u001b[0m\u001b[1m]\u001b[0m \u001b[33mμ\u001b[0m=\u001b[1;36m1\u001b[0m\u001b[1;36m.459\u001b[0m \u001b[33mσ\u001b[0m=\u001b[1;36m4\u001b[0m\u001b[1;36m.029\u001b[0m \u001b[1m[\u001b[0m\u001b[1m[\u001b[0m\u001b[1;36m5.971\u001b[0m, \u001b[1;36m0\u001b[0m., \u001b[1;36m-2.704\u001b[0m\u001b[1m]\u001b[0m, \u001b[1m[\u001b[0m\u001b[1;36m-1.224\u001b[0m, \u001b[1;36m5.844\u001b[0m, \n",
       "\u001b[1;36m-2.704\u001b[0m\u001b[1m]\u001b[0m, \u001b[1m[\u001b[0m\u001b[1;36m0\u001b[0m., \u001b[1;36m0\u001b[0m., \u001b[1;36m7.945\u001b[0m\u001b[1m]\u001b[0m\u001b[1m]\u001b[0m\n",
       "            \u001b[1m)\u001b[0m,\n",
       "            \u001b[1;35mRelaxationTrajectoryFrame\u001b[0m\u001b[1m(\u001b[0m\n",
       "                \u001b[33menergy\u001b[0m=\u001b[35mtensor\u001b[0m \u001b[1;36m-2.262\u001b[0m,\n",
       "                \u001b[33mforces\u001b[0m=\u001b[35mtensor\u001b[0m\u001b[1m[\u001b[0m\u001b[1;36m7\u001b[0m, \u001b[1;36m3\u001b[0m\u001b[1m]\u001b[0m \u001b[33mn\u001b[0m=\u001b[1;36m21\u001b[0m x∈\u001b[1m[\u001b[0m\u001b[1;36m-0.018\u001b[0m, \u001b[1;36m0.023\u001b[0m\u001b[1m]\u001b[0m \u001b[33mμ\u001b[0m=\u001b[1;36m0\u001b[0m\u001b[1;36m.000\u001b[0m \u001b[33mσ\u001b[0m=\u001b[1;36m0\u001b[0m\u001b[1;36m.011\u001b[0m,\n",
       "                \u001b[33mstresses\u001b[0m=\u001b[35mtensor\u001b[0m\u001b[1m[\u001b[0m\u001b[1;36m6\u001b[0m\u001b[1m]\u001b[0m x∈\u001b[1m[\u001b[0m\u001b[1;36m-0.000\u001b[0m, \u001b[1;36m-3.934e-06\u001b[0m\u001b[1m]\u001b[0m \u001b[33mμ\u001b[0m=\u001b[1;36m-6.700e-05\u001b[0m \u001b[33mσ\u001b[0m=\u001b[1;36m6\u001b[0m\u001b[1;36m.571e-05\u001b[0m \u001b[1m[\u001b[0m\u001b[1;36m-0.000\u001b[0m, \u001b[1;36m-0.000\u001b[0m, \u001b[1;36m-0.000\u001b[0m, \n",
       "\u001b[1;36m-7.364e-06\u001b[0m, \u001b[1;36m-9.810e-06\u001b[0m, \u001b[1;36m-3.934e-06\u001b[0m\u001b[1m]\u001b[0m,\n",
       "                \u001b[33mpos\u001b[0m=\u001b[35mtensor\u001b[0m\u001b[1m[\u001b[0m\u001b[1;36m7\u001b[0m, \u001b[1;36m3\u001b[0m\u001b[1m]\u001b[0m \u001b[33mn\u001b[0m=\u001b[1;36m21\u001b[0m x∈\u001b[1m[\u001b[0m\u001b[1;36m-2.740\u001b[0m, \u001b[1;36m5.026\u001b[0m\u001b[1m]\u001b[0m \u001b[33mμ\u001b[0m=\u001b[1;36m1\u001b[0m\u001b[1;36m.876\u001b[0m \u001b[33mσ\u001b[0m=\u001b[1;36m2\u001b[0m\u001b[1;36m.050\u001b[0m,\n",
       "                \u001b[33mcell\u001b[0m=\u001b[35mtensor\u001b[0m\u001b[1m[\u001b[0m\u001b[1;36m3\u001b[0m, \u001b[1;36m3\u001b[0m\u001b[1m]\u001b[0m \u001b[33mn\u001b[0m=\u001b[1;36m9\u001b[0m x∈\u001b[1m[\u001b[0m\u001b[1;36m-2.704\u001b[0m, \u001b[1;36m7.945\u001b[0m\u001b[1m]\u001b[0m \u001b[33mμ\u001b[0m=\u001b[1;36m1\u001b[0m\u001b[1;36m.459\u001b[0m \u001b[33mσ\u001b[0m=\u001b[1;36m4\u001b[0m\u001b[1;36m.029\u001b[0m \u001b[1m[\u001b[0m\u001b[1m[\u001b[0m\u001b[1;36m5.971\u001b[0m, \u001b[1;36m0\u001b[0m., \u001b[1;36m-2.704\u001b[0m\u001b[1m]\u001b[0m, \u001b[1m[\u001b[0m\u001b[1;36m-1.224\u001b[0m, \u001b[1;36m5.844\u001b[0m, \n",
       "\u001b[1;36m-2.704\u001b[0m\u001b[1m]\u001b[0m, \u001b[1m[\u001b[0m\u001b[1;36m0\u001b[0m., \u001b[1;36m0\u001b[0m., \u001b[1;36m7.945\u001b[0m\u001b[1m]\u001b[0m\u001b[1m]\u001b[0m\n",
       "            \u001b[1m)\u001b[0m,\n",
       "            \u001b[1;35mRelaxationTrajectoryFrame\u001b[0m\u001b[1m(\u001b[0m\n",
       "                \u001b[33menergy\u001b[0m=\u001b[35mtensor\u001b[0m \u001b[1;36m-2.260\u001b[0m,\n",
       "                \u001b[33mforces\u001b[0m=\u001b[35mtensor\u001b[0m\u001b[1m[\u001b[0m\u001b[1;36m7\u001b[0m, \u001b[1;36m3\u001b[0m\u001b[1m]\u001b[0m \u001b[33mn\u001b[0m=\u001b[1;36m21\u001b[0m x∈\u001b[1m[\u001b[0m\u001b[1;36m-0.011\u001b[0m, \u001b[1;36m0.013\u001b[0m\u001b[1m]\u001b[0m \u001b[33mμ\u001b[0m=\u001b[1;36m6\u001b[0m\u001b[1;36m.930e-05\u001b[0m \u001b[33mσ\u001b[0m=\u001b[1;36m0\u001b[0m\u001b[1;36m.006\u001b[0m,\n",
       "                \u001b[33mstresses\u001b[0m=\u001b[35mtensor\u001b[0m\u001b[1m[\u001b[0m\u001b[1;36m6\u001b[0m\u001b[1m]\u001b[0m x∈\u001b[1m[\u001b[0m\u001b[1;36m-0.000\u001b[0m, \u001b[1;36m-2.641e-06\u001b[0m\u001b[1m]\u001b[0m \u001b[33mμ\u001b[0m=\u001b[1;36m-6.583e-05\u001b[0m \u001b[33mσ\u001b[0m=\u001b[1;36m6\u001b[0m\u001b[1;36m.477e-05\u001b[0m \u001b[1m[\u001b[0m\u001b[1;36m-0.000\u001b[0m, \u001b[1;36m-0.000\u001b[0m, \u001b[1;36m-0.000\u001b[0m, \n",
       "\u001b[1;36m-9.041e-06\u001b[0m, \u001b[1;36m-8.707e-06\u001b[0m, \u001b[1;36m-2.641e-06\u001b[0m\u001b[1m]\u001b[0m,\n",
       "                \u001b[33mpos\u001b[0m=\u001b[35mtensor\u001b[0m\u001b[1m[\u001b[0m\u001b[1;36m7\u001b[0m, \u001b[1;36m3\u001b[0m\u001b[1m]\u001b[0m \u001b[33mn\u001b[0m=\u001b[1;36m21\u001b[0m x∈\u001b[1m[\u001b[0m\u001b[1;36m-2.737\u001b[0m, \u001b[1;36m5.026\u001b[0m\u001b[1m]\u001b[0m \u001b[33mμ\u001b[0m=\u001b[1;36m1\u001b[0m\u001b[1;36m.876\u001b[0m \u001b[33mσ\u001b[0m=\u001b[1;36m2\u001b[0m\u001b[1;36m.049\u001b[0m,\n",
       "                \u001b[33mcell\u001b[0m=\u001b[35mtensor\u001b[0m\u001b[1m[\u001b[0m\u001b[1;36m3\u001b[0m, \u001b[1;36m3\u001b[0m\u001b[1m]\u001b[0m \u001b[33mn\u001b[0m=\u001b[1;36m9\u001b[0m x∈\u001b[1m[\u001b[0m\u001b[1;36m-2.704\u001b[0m, \u001b[1;36m7.945\u001b[0m\u001b[1m]\u001b[0m \u001b[33mμ\u001b[0m=\u001b[1;36m1\u001b[0m\u001b[1;36m.459\u001b[0m \u001b[33mσ\u001b[0m=\u001b[1;36m4\u001b[0m\u001b[1;36m.029\u001b[0m \u001b[1m[\u001b[0m\u001b[1m[\u001b[0m\u001b[1;36m5.971\u001b[0m, \u001b[1;36m0\u001b[0m., \u001b[1;36m-2.704\u001b[0m\u001b[1m]\u001b[0m, \u001b[1m[\u001b[0m\u001b[1;36m-1.224\u001b[0m, \u001b[1;36m5.844\u001b[0m, \n",
       "\u001b[1;36m-2.704\u001b[0m\u001b[1m]\u001b[0m, \u001b[1m[\u001b[0m\u001b[1;36m0\u001b[0m., \u001b[1;36m0\u001b[0m., \u001b[1;36m7.945\u001b[0m\u001b[1m]\u001b[0m\u001b[1m]\u001b[0m\n",
       "            \u001b[1m)\u001b[0m,\n",
       "            \u001b[1;35mRelaxationTrajectoryFrame\u001b[0m\u001b[1m(\u001b[0m\n",
       "                \u001b[33menergy\u001b[0m=\u001b[35mtensor\u001b[0m \u001b[1;36m-2.259\u001b[0m,\n",
       "                \u001b[33mforces\u001b[0m=\u001b[35mtensor\u001b[0m\u001b[1m[\u001b[0m\u001b[1;36m7\u001b[0m, \u001b[1;36m3\u001b[0m\u001b[1m]\u001b[0m \u001b[33mn\u001b[0m=\u001b[1;36m21\u001b[0m x∈\u001b[1m[\u001b[0m\u001b[1;36m-0.005\u001b[0m, \u001b[1;36m0.004\u001b[0m\u001b[1m]\u001b[0m \u001b[33mμ\u001b[0m=\u001b[1;36m9\u001b[0m\u001b[1;36m.929e-05\u001b[0m \u001b[33mσ\u001b[0m=\u001b[1;36m0\u001b[0m\u001b[1;36m.002\u001b[0m,\n",
       "                \u001b[33mstresses\u001b[0m=\u001b[35mtensor\u001b[0m\u001b[1m[\u001b[0m\u001b[1;36m6\u001b[0m\u001b[1m]\u001b[0m x∈\u001b[1m[\u001b[0m\u001b[1;36m-0.000\u001b[0m, \u001b[1;36m-3.982e-06\u001b[0m\u001b[1m]\u001b[0m \u001b[33mμ\u001b[0m=\u001b[1;36m-6.586e-05\u001b[0m \u001b[33mσ\u001b[0m=\u001b[1;36m6\u001b[0m\u001b[1;36m.349e-05\u001b[0m \u001b[1m[\u001b[0m\u001b[1;36m-0.000\u001b[0m, \u001b[1;36m-0.000\u001b[0m, \u001b[1;36m-0.000\u001b[0m, \n",
       "\u001b[1;36m-1.106e-05\u001b[0m, \u001b[1;36m-9.048e-06\u001b[0m, \u001b[1;36m-3.982e-06\u001b[0m\u001b[1m]\u001b[0m,\n",
       "                \u001b[33mpos\u001b[0m=\u001b[35mtensor\u001b[0m\u001b[1m[\u001b[0m\u001b[1;36m7\u001b[0m, \u001b[1;36m3\u001b[0m\u001b[1m]\u001b[0m \u001b[33mn\u001b[0m=\u001b[1;36m21\u001b[0m x∈\u001b[1m[\u001b[0m\u001b[1;36m-2.732\u001b[0m, \u001b[1;36m5.027\u001b[0m\u001b[1m]\u001b[0m \u001b[33mμ\u001b[0m=\u001b[1;36m1\u001b[0m\u001b[1;36m.876\u001b[0m \u001b[33mσ\u001b[0m=\u001b[1;36m2\u001b[0m\u001b[1;36m.048\u001b[0m,\n",
       "                \u001b[33mcell\u001b[0m=\u001b[35mtensor\u001b[0m\u001b[1m[\u001b[0m\u001b[1;36m3\u001b[0m, \u001b[1;36m3\u001b[0m\u001b[1m]\u001b[0m \u001b[33mn\u001b[0m=\u001b[1;36m9\u001b[0m x∈\u001b[1m[\u001b[0m\u001b[1;36m-2.704\u001b[0m, \u001b[1;36m7.945\u001b[0m\u001b[1m]\u001b[0m \u001b[33mμ\u001b[0m=\u001b[1;36m1\u001b[0m\u001b[1;36m.459\u001b[0m \u001b[33mσ\u001b[0m=\u001b[1;36m4\u001b[0m\u001b[1;36m.029\u001b[0m \u001b[1m[\u001b[0m\u001b[1m[\u001b[0m\u001b[1;36m5.971\u001b[0m, \u001b[1;36m0\u001b[0m., \u001b[1;36m-2.704\u001b[0m\u001b[1m]\u001b[0m, \u001b[1m[\u001b[0m\u001b[1;36m-1.224\u001b[0m, \u001b[1;36m5.844\u001b[0m, \n",
       "\u001b[1;36m-2.704\u001b[0m\u001b[1m]\u001b[0m, \u001b[1m[\u001b[0m\u001b[1;36m0\u001b[0m., \u001b[1;36m0\u001b[0m., \u001b[1;36m7.945\u001b[0m\u001b[1m]\u001b[0m\u001b[1m]\u001b[0m\n",
       "            \u001b[1m)\u001b[0m,\n",
       "            \u001b[1;35mRelaxationTrajectoryFrame\u001b[0m\u001b[1m(\u001b[0m\n",
       "                \u001b[33menergy\u001b[0m=\u001b[35mtensor\u001b[0m \u001b[1;36m-2.259\u001b[0m,\n",
       "                \u001b[33mforces\u001b[0m=\u001b[35mtensor\u001b[0m\u001b[1m[\u001b[0m\u001b[1;36m7\u001b[0m, \u001b[1;36m3\u001b[0m\u001b[1m]\u001b[0m \u001b[33mn\u001b[0m=\u001b[1;36m21\u001b[0m x∈\u001b[1m[\u001b[0m\u001b[1;36m-0.005\u001b[0m, \u001b[1;36m0.004\u001b[0m\u001b[1m]\u001b[0m \u001b[33mμ\u001b[0m=\u001b[1;36m9\u001b[0m\u001b[1;36m.929e-05\u001b[0m \u001b[33mσ\u001b[0m=\u001b[1;36m0\u001b[0m\u001b[1;36m.002\u001b[0m,\n",
       "                \u001b[33mstresses\u001b[0m=\u001b[35mtensor\u001b[0m\u001b[1m[\u001b[0m\u001b[1;36m6\u001b[0m\u001b[1m]\u001b[0m x∈\u001b[1m[\u001b[0m\u001b[1;36m-0.000\u001b[0m, \u001b[1;36m-3.982e-06\u001b[0m\u001b[1m]\u001b[0m \u001b[33mμ\u001b[0m=\u001b[1;36m-6.586e-05\u001b[0m \u001b[33mσ\u001b[0m=\u001b[1;36m6\u001b[0m\u001b[1;36m.349e-05\u001b[0m \u001b[1m[\u001b[0m\u001b[1;36m-0.000\u001b[0m, \u001b[1;36m-0.000\u001b[0m, \u001b[1;36m-0.000\u001b[0m, \n",
       "\u001b[1;36m-1.106e-05\u001b[0m, \u001b[1;36m-9.048e-06\u001b[0m, \u001b[1;36m-3.982e-06\u001b[0m\u001b[1m]\u001b[0m,\n",
       "                \u001b[33mpos\u001b[0m=\u001b[35mtensor\u001b[0m\u001b[1m[\u001b[0m\u001b[1;36m7\u001b[0m, \u001b[1;36m3\u001b[0m\u001b[1m]\u001b[0m \u001b[33mn\u001b[0m=\u001b[1;36m21\u001b[0m x∈\u001b[1m[\u001b[0m\u001b[1;36m-2.732\u001b[0m, \u001b[1;36m5.027\u001b[0m\u001b[1m]\u001b[0m \u001b[33mμ\u001b[0m=\u001b[1;36m1\u001b[0m\u001b[1;36m.876\u001b[0m \u001b[33mσ\u001b[0m=\u001b[1;36m2\u001b[0m\u001b[1;36m.048\u001b[0m,\n",
       "                \u001b[33mcell\u001b[0m=\u001b[35mtensor\u001b[0m\u001b[1m[\u001b[0m\u001b[1;36m3\u001b[0m, \u001b[1;36m3\u001b[0m\u001b[1m]\u001b[0m \u001b[33mn\u001b[0m=\u001b[1;36m9\u001b[0m x∈\u001b[1m[\u001b[0m\u001b[1;36m-2.704\u001b[0m, \u001b[1;36m7.945\u001b[0m\u001b[1m]\u001b[0m \u001b[33mμ\u001b[0m=\u001b[1;36m1\u001b[0m\u001b[1;36m.459\u001b[0m \u001b[33mσ\u001b[0m=\u001b[1;36m4\u001b[0m\u001b[1;36m.029\u001b[0m \u001b[1m[\u001b[0m\u001b[1m[\u001b[0m\u001b[1;36m5.971\u001b[0m, \u001b[1;36m0\u001b[0m., \u001b[1;36m-2.704\u001b[0m\u001b[1m]\u001b[0m, \u001b[1m[\u001b[0m\u001b[1;36m-1.224\u001b[0m, \u001b[1;36m5.844\u001b[0m, \n",
       "\u001b[1;36m-2.704\u001b[0m\u001b[1m]\u001b[0m, \u001b[1m[\u001b[0m\u001b[1;36m0\u001b[0m., \u001b[1;36m0\u001b[0m., \u001b[1;36m7.945\u001b[0m\u001b[1m]\u001b[0m\u001b[1m]\u001b[0m\n",
       "            \u001b[1m)\u001b[0m\n",
       "        \u001b[1m]\u001b[0m\n",
       "    \u001b[1m)\u001b[0m\n",
       "\u001b[1m)\u001b[0m\n"
      ]
     },
     "metadata": {},
     "output_type": "display_data"
    }
   ],
   "source": [
    "from jmppeft.modules.relaxer import Relaxer, RelaxerConfig\n",
    "\n",
    "config = RelaxerConfig(\n",
    "    compute_stress=True,\n",
    "    stress_weight=0.1,\n",
    "    optimizer=\"FIRE\",\n",
    "    fmax=0.01,\n",
    ")\n",
    "relaxer = Relaxer(\n",
    "    config=config,\n",
    "    model=model_fn,\n",
    "    collate_fn=model.collate_fn,\n",
    "    device=model.device,\n",
    ")\n",
    "rich.print(data.y_formation)\n",
    "relax_out = relaxer.relax(data)\n",
    "rich.print(relax_out)"
   ]
  },
  {
   "cell_type": "code",
   "execution_count": 8,
   "metadata": {},
   "outputs": [
    {
     "data": {
      "text/plain": [
       "tensor[1] cuda:0 [0.544]"
      ]
     },
     "execution_count": 8,
     "metadata": {},
     "output_type": "execute_result"
    }
   ],
   "source": [
    "data.y_formation"
   ]
  },
  {
   "cell_type": "code",
   "execution_count": 9,
   "metadata": {},
   "outputs": [
    {
     "data": {
      "text/plain": [
       "formula                                                          Cl6 In2 Pb2\n",
       "n_sites                                                                 10.0\n",
       "volume                                                                362.92\n",
       "uncorrected_energy                                                   -34.039\n",
       "e_form_per_atom_wbm                                                   -1.361\n",
       "e_above_hull_wbm                                                       0.014\n",
       "bandgap_pbe                                                             2.41\n",
       "wyckoff_spglib_initial_structure               A3BC_aP10_1_6a_2a_2a:Cl-In-Pb\n",
       "uncorrected_energy_from_cse                                       -34.038538\n",
       "e_correction_per_atom_mp2020                                         -0.3684\n",
       "e_correction_per_atom_mp_legacy                                          0.0\n",
       "e_form_per_atom_uncorrected                                        -1.001894\n",
       "e_form_per_atom_mp2020_corrected                                   -1.370294\n",
       "e_above_hull_mp2020_corrected_ppd_mp                                 0.01455\n",
       "site_stats_fingerprint_init_final_norm_diff                         1.422789\n",
       "wyckoff_spglib                                   A3BC_mC20_9_3a_a_a:Cl-In-Pb\n",
       "unique_prototype                                                        True\n",
       "Name: wbm-1-10058, dtype: object"
      ]
     },
     "execution_count": 9,
     "metadata": {},
     "output_type": "execute_result"
    }
   ],
   "source": [
    "dataset.df_summary.iloc[10000]"
   ]
  }
 ],
 "metadata": {
  "kernelspec": {
   "display_name": "jmp-peft",
   "language": "python",
   "name": "python3"
  },
  "language_info": {
   "codemirror_mode": {
    "name": "ipython",
    "version": 3
   },
   "file_extension": ".py",
   "mimetype": "text/x-python",
   "name": "python",
   "nbconvert_exporter": "python",
   "pygments_lexer": "ipython3",
   "version": "3.11.9"
  }
 },
 "nbformat": 4,
 "nbformat_minor": 2
}
