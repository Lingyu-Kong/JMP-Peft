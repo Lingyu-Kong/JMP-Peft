{
 "cells": [
  {
   "cell_type": "code",
   "execution_count": 11,
   "metadata": {},
   "outputs": [],
   "source": [
    "import os\n",
    "\n",
    "os.environ[\"CUDA_VISIBLE_DEVICES\"] = \"2\"\n",
    "\n",
    "\n",
    "import ll\n",
    "\n",
    "ll.pretty()\n",
    "\n",
    "import lovely_numpy as _lovely_numpy\n",
    "\n",
    "_lovely_numpy.set_config(repr=_lovely_numpy.lovely)"
   ]
  },
  {
   "cell_type": "code",
   "execution_count": 2,
   "metadata": {},
   "outputs": [
    {
     "data": {
      "text/plain": [
       "Path('/net/csefiles/coc-fung-cluster/nima/shared/experiment-data/lltrainer/lmmtlw3j/checkpoint/last.ckpt')"
      ]
     },
     "execution_count": 2,
     "metadata": {},
     "output_type": "execute_result"
    }
   ],
   "source": [
    "from pathlib import Path\n",
    "\n",
    "ckpt_dir = Path(\n",
    "    \"/net/csefiles/coc-fung-cluster/nima/shared/experiment-data/lltrainer/lmmtlw3j/checkpoint/last.ckpt\"\n",
    ")\n",
    "ckpt_dir"
   ]
  },
  {
   "cell_type": "code",
   "execution_count": 3,
   "metadata": {},
   "outputs": [
    {
     "data": {
      "text/html": [
       "<pre style=\"white-space:pre;overflow-x:auto;line-height:normal;font-family:Menlo,'DejaVu Sans Mono',consolas,'Courier New',monospace\"><span style=\"color: #7fbfbf; text-decoration-color: #7fbfbf\">[18:54:38] </span><span style=\"background-color: #800000; font-weight: bold\">CRITICAL</span> Type checking the following modules: <span style=\"font-weight: bold\">(</span><span style=\"color: #008000; text-decoration-color: #008000\">'jmppeft'</span>,<span style=\"font-weight: bold\">)</span>                               <a href=\"file:///net/csefiles/coc-fung-cluster/nima/shared/repositories/ll/src/ll/typecheck.py\" target=\"_blank\"><span style=\"color: #7f7f7f; text-decoration-color: #7f7f7f\">typecheck.py</span></a><span style=\"color: #7f7f7f; text-decoration-color: #7f7f7f\">:</span><a href=\"file:///net/csefiles/coc-fung-cluster/nima/shared/repositories/ll/src/ll/typecheck.py#65\" target=\"_blank\"><span style=\"color: #7f7f7f; text-decoration-color: #7f7f7f\">65</span></a>\n",
       "</pre>\n"
      ],
      "text/plain": [
       "\u001b[2;36m[18:54:38]\u001b[0m\u001b[2;36m \u001b[0m\u001b[1;7;31mCRITICAL\u001b[0m Type checking the following modules: \u001b[1m(\u001b[0m\u001b[32m'jmppeft'\u001b[0m,\u001b[1m)\u001b[0m                               \u001b]8;id=60395;file:///net/csefiles/coc-fung-cluster/nima/shared/repositories/ll/src/ll/typecheck.py\u001b\\\u001b[2mtypecheck.py\u001b[0m\u001b]8;;\u001b\\\u001b[2m:\u001b[0m\u001b]8;id=207371;file:///net/csefiles/coc-fung-cluster/nima/shared/repositories/ll/src/ll/typecheck.py#65\u001b\\\u001b[2m65\u001b[0m\u001b]8;;\u001b\\\n"
      ]
     },
     "metadata": {},
     "output_type": "display_data"
    },
    {
     "data": {
      "text/html": [
       "<pre style=\"white-space:pre;overflow-x:auto;line-height:normal;font-family:Menlo,'DejaVu Sans Mono',consolas,'Courier New',monospace\"><span style=\"color: #7fbfbf; text-decoration-color: #7fbfbf\">[18:54:39] </span><span style=\"color: #000080; text-decoration-color: #000080\">INFO    </span> PyTorch version <span style=\"color: #008080; text-decoration-color: #008080; font-weight: bold\">2.2</span>.<span style=\"color: #008080; text-decoration-color: #008080; font-weight: bold\">2</span> available.                                                   <a href=\"file:///net/csefiles/coc-fung-cluster/nima/miniforge3/envs/jmp-peft/lib/python3.11/site-packages/datasets/config.py\" target=\"_blank\"><span style=\"color: #7f7f7f; text-decoration-color: #7f7f7f\">config.py</span></a><span style=\"color: #7f7f7f; text-decoration-color: #7f7f7f\">:</span><a href=\"file:///net/csefiles/coc-fung-cluster/nima/miniforge3/envs/jmp-peft/lib/python3.11/site-packages/datasets/config.py#58\" target=\"_blank\"><span style=\"color: #7f7f7f; text-decoration-color: #7f7f7f\">58</span></a>\n",
       "</pre>\n"
      ],
      "text/plain": [
       "\u001b[2;36m[18:54:39]\u001b[0m\u001b[2;36m \u001b[0m\u001b[34mINFO    \u001b[0m PyTorch version \u001b[1;36m2.2\u001b[0m.\u001b[1;36m2\u001b[0m available.                                                   \u001b]8;id=854364;file:///net/csefiles/coc-fung-cluster/nima/miniforge3/envs/jmp-peft/lib/python3.11/site-packages/datasets/config.py\u001b\\\u001b[2mconfig.py\u001b[0m\u001b]8;;\u001b\\\u001b[2m:\u001b[0m\u001b]8;id=131873;file:///net/csefiles/coc-fung-cluster/nima/miniforge3/envs/jmp-peft/lib/python3.11/site-packages/datasets/config.py#58\u001b\\\u001b[2m58\u001b[0m\u001b]8;;\u001b\\\n"
      ]
     },
     "metadata": {},
     "output_type": "display_data"
    },
    {
     "name": "stdout",
     "output_type": "stream",
     "text": [
      "Loading 'wbm_summary' from cached file at '/nethome/nsg6/.cache/matbench-discovery/1.0.0/wbm/2023-12-13-wbm-summary.csv.gz'\n"
     ]
    },
    {
     "data": {
      "text/html": [
       "<pre style=\"white-space:pre;overflow-x:auto;line-height:normal;font-family:Menlo,'DejaVu Sans Mono',consolas,'Courier New',monospace\"><span style=\"color: #7fbfbf; text-decoration-color: #7fbfbf\">[18:54:45] </span><span style=\"background-color: #800000; font-weight: bold\">CRITICAL</span> Using regular backbone                                                              <a href=\"file:///net/csefiles/coc-fung-cluster/nima/shared/repositories/jmp-peft/src/jmppeft/tasks/finetune/base.py\" target=\"_blank\"><span style=\"color: #7f7f7f; text-decoration-color: #7f7f7f\">base.py</span></a><span style=\"color: #7f7f7f; text-decoration-color: #7f7f7f\">:</span><a href=\"file:///net/csefiles/coc-fung-cluster/nima/shared/repositories/jmp-peft/src/jmppeft/tasks/finetune/base.py#602\" target=\"_blank\"><span style=\"color: #7f7f7f; text-decoration-color: #7f7f7f\">602</span></a>\n",
       "</pre>\n"
      ],
      "text/plain": [
       "\u001b[2;36m[18:54:45]\u001b[0m\u001b[2;36m \u001b[0m\u001b[1;7;31mCRITICAL\u001b[0m Using regular backbone                                                              \u001b]8;id=156024;file:///net/csefiles/coc-fung-cluster/nima/shared/repositories/jmp-peft/src/jmppeft/tasks/finetune/base.py\u001b\\\u001b[2mbase.py\u001b[0m\u001b]8;;\u001b\\\u001b[2m:\u001b[0m\u001b]8;id=280613;file:///net/csefiles/coc-fung-cluster/nima/shared/repositories/jmp-peft/src/jmppeft/tasks/finetune/base.py#602\u001b\\\u001b[2m602\u001b[0m\u001b]8;;\u001b\\\n"
      ]
     },
     "metadata": {},
     "output_type": "display_data"
    },
    {
     "name": "stdout",
     "output_type": "stream",
     "text": [
      "Unrecognized arguments:  dict_keys(['name', 'learnable_rbf', 'learnable_rbf_stds', 'unique_basis_per_layer', 'dropout', 'edge_dropout', 'ln_per_layer', 'scale_factor_to_ln'])\n"
     ]
    },
    {
     "data": {
      "text/html": [
       "<pre style=\"white-space:pre;overflow-x:auto;line-height:normal;font-family:Menlo,'DejaVu Sans Mono',consolas,'Courier New',monospace\"><span style=\"color: #7fbfbf; text-decoration-color: #7fbfbf\">           </span><span style=\"color: #000080; text-decoration-color: #000080\">INFO    </span> <span style=\"font-weight: bold\">[</span>RadialBasis<span style=\"font-weight: bold\">]</span> Using absolute cutoff of <span style=\"color: #008080; text-decoration-color: #008080; font-weight: bold\">12.0</span> Angstroms.       <a href=\"file:///net/csefiles/coc-fung-cluster/nima/shared/repositories/jmp-peft/src/jmppeft/models/gemnet/layers/radial_basis_dynamic_cutoff.py\" target=\"_blank\"><span style=\"color: #7f7f7f; text-decoration-color: #7f7f7f\">radial_basis_dynamic_cutoff.py</span></a><span style=\"color: #7f7f7f; text-decoration-color: #7f7f7f\">:</span><a href=\"file:///net/csefiles/coc-fung-cluster/nima/shared/repositories/jmp-peft/src/jmppeft/models/gemnet/layers/radial_basis_dynamic_cutoff.py#213\" target=\"_blank\"><span style=\"color: #7f7f7f; text-decoration-color: #7f7f7f\">213</span></a>\n",
       "</pre>\n"
      ],
      "text/plain": [
       "\u001b[2;36m          \u001b[0m\u001b[2;36m \u001b[0m\u001b[34mINFO    \u001b[0m \u001b[1m[\u001b[0mRadialBasis\u001b[1m]\u001b[0m Using absolute cutoff of \u001b[1;36m12.0\u001b[0m Angstroms.       \u001b]8;id=946243;file:///net/csefiles/coc-fung-cluster/nima/shared/repositories/jmp-peft/src/jmppeft/models/gemnet/layers/radial_basis_dynamic_cutoff.py\u001b\\\u001b[2mradial_basis_dynamic_cutoff.py\u001b[0m\u001b]8;;\u001b\\\u001b[2m:\u001b[0m\u001b]8;id=647115;file:///net/csefiles/coc-fung-cluster/nima/shared/repositories/jmp-peft/src/jmppeft/models/gemnet/layers/radial_basis_dynamic_cutoff.py#213\u001b\\\u001b[2m213\u001b[0m\u001b]8;;\u001b\\\n"
      ]
     },
     "metadata": {},
     "output_type": "display_data"
    },
    {
     "data": {
      "text/html": [
       "<pre style=\"white-space:pre;overflow-x:auto;line-height:normal;font-family:Menlo,'DejaVu Sans Mono',consolas,'Courier New',monospace\"><span style=\"color: #7fbfbf; text-decoration-color: #7fbfbf\">           </span><span style=\"color: #000080; text-decoration-color: #000080\">INFO    </span> <span style=\"font-weight: bold\">[</span>RadialBasis<span style=\"font-weight: bold\">]</span> Using absolute cutoff of <span style=\"color: #008080; text-decoration-color: #008080; font-weight: bold\">12.0</span> Angstroms.       <a href=\"file:///net/csefiles/coc-fung-cluster/nima/shared/repositories/jmp-peft/src/jmppeft/models/gemnet/layers/radial_basis_dynamic_cutoff.py\" target=\"_blank\"><span style=\"color: #7f7f7f; text-decoration-color: #7f7f7f\">radial_basis_dynamic_cutoff.py</span></a><span style=\"color: #7f7f7f; text-decoration-color: #7f7f7f\">:</span><a href=\"file:///net/csefiles/coc-fung-cluster/nima/shared/repositories/jmp-peft/src/jmppeft/models/gemnet/layers/radial_basis_dynamic_cutoff.py#213\" target=\"_blank\"><span style=\"color: #7f7f7f; text-decoration-color: #7f7f7f\">213</span></a>\n",
       "</pre>\n"
      ],
      "text/plain": [
       "\u001b[2;36m          \u001b[0m\u001b[2;36m \u001b[0m\u001b[34mINFO    \u001b[0m \u001b[1m[\u001b[0mRadialBasis\u001b[1m]\u001b[0m Using absolute cutoff of \u001b[1;36m12.0\u001b[0m Angstroms.       \u001b]8;id=413442;file:///net/csefiles/coc-fung-cluster/nima/shared/repositories/jmp-peft/src/jmppeft/models/gemnet/layers/radial_basis_dynamic_cutoff.py\u001b\\\u001b[2mradial_basis_dynamic_cutoff.py\u001b[0m\u001b]8;;\u001b\\\u001b[2m:\u001b[0m\u001b]8;id=623612;file:///net/csefiles/coc-fung-cluster/nima/shared/repositories/jmp-peft/src/jmppeft/models/gemnet/layers/radial_basis_dynamic_cutoff.py#213\u001b\\\u001b[2m213\u001b[0m\u001b]8;;\u001b\\\n"
      ]
     },
     "metadata": {},
     "output_type": "display_data"
    },
    {
     "data": {
      "text/html": [
       "<pre style=\"white-space:pre;overflow-x:auto;line-height:normal;font-family:Menlo,'DejaVu Sans Mono',consolas,'Courier New',monospace\"><span style=\"color: #7fbfbf; text-decoration-color: #7fbfbf\">           </span><span style=\"color: #000080; text-decoration-color: #000080\">INFO    </span> <span style=\"font-weight: bold\">[</span>RadialBasis<span style=\"font-weight: bold\">]</span> Using absolute cutoff of <span style=\"color: #008080; text-decoration-color: #008080; font-weight: bold\">12.0</span> Angstroms.       <a href=\"file:///net/csefiles/coc-fung-cluster/nima/shared/repositories/jmp-peft/src/jmppeft/models/gemnet/layers/radial_basis_dynamic_cutoff.py\" target=\"_blank\"><span style=\"color: #7f7f7f; text-decoration-color: #7f7f7f\">radial_basis_dynamic_cutoff.py</span></a><span style=\"color: #7f7f7f; text-decoration-color: #7f7f7f\">:</span><a href=\"file:///net/csefiles/coc-fung-cluster/nima/shared/repositories/jmp-peft/src/jmppeft/models/gemnet/layers/radial_basis_dynamic_cutoff.py#213\" target=\"_blank\"><span style=\"color: #7f7f7f; text-decoration-color: #7f7f7f\">213</span></a>\n",
       "</pre>\n"
      ],
      "text/plain": [
       "\u001b[2;36m          \u001b[0m\u001b[2;36m \u001b[0m\u001b[34mINFO    \u001b[0m \u001b[1m[\u001b[0mRadialBasis\u001b[1m]\u001b[0m Using absolute cutoff of \u001b[1;36m12.0\u001b[0m Angstroms.       \u001b]8;id=67897;file:///net/csefiles/coc-fung-cluster/nima/shared/repositories/jmp-peft/src/jmppeft/models/gemnet/layers/radial_basis_dynamic_cutoff.py\u001b\\\u001b[2mradial_basis_dynamic_cutoff.py\u001b[0m\u001b]8;;\u001b\\\u001b[2m:\u001b[0m\u001b]8;id=656152;file:///net/csefiles/coc-fung-cluster/nima/shared/repositories/jmp-peft/src/jmppeft/models/gemnet/layers/radial_basis_dynamic_cutoff.py#213\u001b\\\u001b[2m213\u001b[0m\u001b]8;;\u001b\\\n"
      ]
     },
     "metadata": {},
     "output_type": "display_data"
    },
    {
     "data": {
      "text/html": [
       "<pre style=\"white-space:pre;overflow-x:auto;line-height:normal;font-family:Menlo,'DejaVu Sans Mono',consolas,'Courier New',monospace\"><span style=\"color: #7fbfbf; text-decoration-color: #7fbfbf\">           </span><span style=\"color: #000080; text-decoration-color: #000080\">INFO    </span> <span style=\"font-weight: bold\">[</span>RadialBasis<span style=\"font-weight: bold\">]</span> Using absolute cutoff of <span style=\"color: #008080; text-decoration-color: #008080; font-weight: bold\">12.0</span> Angstroms.       <a href=\"file:///net/csefiles/coc-fung-cluster/nima/shared/repositories/jmp-peft/src/jmppeft/models/gemnet/layers/radial_basis_dynamic_cutoff.py\" target=\"_blank\"><span style=\"color: #7f7f7f; text-decoration-color: #7f7f7f\">radial_basis_dynamic_cutoff.py</span></a><span style=\"color: #7f7f7f; text-decoration-color: #7f7f7f\">:</span><a href=\"file:///net/csefiles/coc-fung-cluster/nima/shared/repositories/jmp-peft/src/jmppeft/models/gemnet/layers/radial_basis_dynamic_cutoff.py#213\" target=\"_blank\"><span style=\"color: #7f7f7f; text-decoration-color: #7f7f7f\">213</span></a>\n",
       "</pre>\n"
      ],
      "text/plain": [
       "\u001b[2;36m          \u001b[0m\u001b[2;36m \u001b[0m\u001b[34mINFO    \u001b[0m \u001b[1m[\u001b[0mRadialBasis\u001b[1m]\u001b[0m Using absolute cutoff of \u001b[1;36m12.0\u001b[0m Angstroms.       \u001b]8;id=93826;file:///net/csefiles/coc-fung-cluster/nima/shared/repositories/jmp-peft/src/jmppeft/models/gemnet/layers/radial_basis_dynamic_cutoff.py\u001b\\\u001b[2mradial_basis_dynamic_cutoff.py\u001b[0m\u001b]8;;\u001b\\\u001b[2m:\u001b[0m\u001b]8;id=914091;file:///net/csefiles/coc-fung-cluster/nima/shared/repositories/jmp-peft/src/jmppeft/models/gemnet/layers/radial_basis_dynamic_cutoff.py#213\u001b\\\u001b[2m213\u001b[0m\u001b]8;;\u001b\\\n"
      ]
     },
     "metadata": {},
     "output_type": "display_data"
    },
    {
     "data": {
      "text/html": [
       "<pre style=\"white-space:pre;overflow-x:auto;line-height:normal;font-family:Menlo,'DejaVu Sans Mono',consolas,'Courier New',monospace\"><span style=\"color: #7fbfbf; text-decoration-color: #7fbfbf\">           </span><span style=\"color: #000080; text-decoration-color: #000080\">INFO    </span> <span style=\"font-weight: bold\">[</span>RadialBasis<span style=\"font-weight: bold\">]</span> Using absolute cutoff of <span style=\"color: #008080; text-decoration-color: #008080; font-weight: bold\">12.0</span> Angstroms.       <a href=\"file:///net/csefiles/coc-fung-cluster/nima/shared/repositories/jmp-peft/src/jmppeft/models/gemnet/layers/radial_basis_dynamic_cutoff.py\" target=\"_blank\"><span style=\"color: #7f7f7f; text-decoration-color: #7f7f7f\">radial_basis_dynamic_cutoff.py</span></a><span style=\"color: #7f7f7f; text-decoration-color: #7f7f7f\">:</span><a href=\"file:///net/csefiles/coc-fung-cluster/nima/shared/repositories/jmp-peft/src/jmppeft/models/gemnet/layers/radial_basis_dynamic_cutoff.py#213\" target=\"_blank\"><span style=\"color: #7f7f7f; text-decoration-color: #7f7f7f\">213</span></a>\n",
       "</pre>\n"
      ],
      "text/plain": [
       "\u001b[2;36m          \u001b[0m\u001b[2;36m \u001b[0m\u001b[34mINFO    \u001b[0m \u001b[1m[\u001b[0mRadialBasis\u001b[1m]\u001b[0m Using absolute cutoff of \u001b[1;36m12.0\u001b[0m Angstroms.       \u001b]8;id=193403;file:///net/csefiles/coc-fung-cluster/nima/shared/repositories/jmp-peft/src/jmppeft/models/gemnet/layers/radial_basis_dynamic_cutoff.py\u001b\\\u001b[2mradial_basis_dynamic_cutoff.py\u001b[0m\u001b]8;;\u001b\\\u001b[2m:\u001b[0m\u001b]8;id=598005;file:///net/csefiles/coc-fung-cluster/nima/shared/repositories/jmp-peft/src/jmppeft/models/gemnet/layers/radial_basis_dynamic_cutoff.py#213\u001b\\\u001b[2m213\u001b[0m\u001b]8;;\u001b\\\n"
      ]
     },
     "metadata": {},
     "output_type": "display_data"
    },
    {
     "data": {
      "text/html": [
       "<pre style=\"white-space:pre;overflow-x:auto;line-height:normal;font-family:Menlo,'DejaVu Sans Mono',consolas,'Courier New',monospace\"><span style=\"color: #7fbfbf; text-decoration-color: #7fbfbf\">           </span><span style=\"color: #000080; text-decoration-color: #000080\">INFO    </span> <span style=\"font-weight: bold\">[</span>RadialBasis<span style=\"font-weight: bold\">]</span> Using absolute cutoff of <span style=\"color: #008080; text-decoration-color: #008080; font-weight: bold\">12.0</span> Angstroms.       <a href=\"file:///net/csefiles/coc-fung-cluster/nima/shared/repositories/jmp-peft/src/jmppeft/models/gemnet/layers/radial_basis_dynamic_cutoff.py\" target=\"_blank\"><span style=\"color: #7f7f7f; text-decoration-color: #7f7f7f\">radial_basis_dynamic_cutoff.py</span></a><span style=\"color: #7f7f7f; text-decoration-color: #7f7f7f\">:</span><a href=\"file:///net/csefiles/coc-fung-cluster/nima/shared/repositories/jmp-peft/src/jmppeft/models/gemnet/layers/radial_basis_dynamic_cutoff.py#213\" target=\"_blank\"><span style=\"color: #7f7f7f; text-decoration-color: #7f7f7f\">213</span></a>\n",
       "</pre>\n"
      ],
      "text/plain": [
       "\u001b[2;36m          \u001b[0m\u001b[2;36m \u001b[0m\u001b[34mINFO    \u001b[0m \u001b[1m[\u001b[0mRadialBasis\u001b[1m]\u001b[0m Using absolute cutoff of \u001b[1;36m12.0\u001b[0m Angstroms.       \u001b]8;id=585639;file:///net/csefiles/coc-fung-cluster/nima/shared/repositories/jmp-peft/src/jmppeft/models/gemnet/layers/radial_basis_dynamic_cutoff.py\u001b\\\u001b[2mradial_basis_dynamic_cutoff.py\u001b[0m\u001b]8;;\u001b\\\u001b[2m:\u001b[0m\u001b]8;id=777146;file:///net/csefiles/coc-fung-cluster/nima/shared/repositories/jmp-peft/src/jmppeft/models/gemnet/layers/radial_basis_dynamic_cutoff.py#213\u001b\\\u001b[2m213\u001b[0m\u001b]8;;\u001b\\\n"
      ]
     },
     "metadata": {},
     "output_type": "display_data"
    },
    {
     "data": {
      "text/html": [
       "<pre style=\"white-space:pre;overflow-x:auto;line-height:normal;font-family:Menlo,'DejaVu Sans Mono',consolas,'Courier New',monospace\"><span style=\"color: #7fbfbf; text-decoration-color: #7fbfbf\">           </span><span style=\"color: #000080; text-decoration-color: #000080\">INFO    </span> <span style=\"font-weight: bold\">[</span>RadialBasis<span style=\"font-weight: bold\">]</span> Using absolute cutoff of <span style=\"color: #008080; text-decoration-color: #008080; font-weight: bold\">12.0</span> Angstroms.       <a href=\"file:///net/csefiles/coc-fung-cluster/nima/shared/repositories/jmp-peft/src/jmppeft/models/gemnet/layers/radial_basis_dynamic_cutoff.py\" target=\"_blank\"><span style=\"color: #7f7f7f; text-decoration-color: #7f7f7f\">radial_basis_dynamic_cutoff.py</span></a><span style=\"color: #7f7f7f; text-decoration-color: #7f7f7f\">:</span><a href=\"file:///net/csefiles/coc-fung-cluster/nima/shared/repositories/jmp-peft/src/jmppeft/models/gemnet/layers/radial_basis_dynamic_cutoff.py#213\" target=\"_blank\"><span style=\"color: #7f7f7f; text-decoration-color: #7f7f7f\">213</span></a>\n",
       "</pre>\n"
      ],
      "text/plain": [
       "\u001b[2;36m          \u001b[0m\u001b[2;36m \u001b[0m\u001b[34mINFO    \u001b[0m \u001b[1m[\u001b[0mRadialBasis\u001b[1m]\u001b[0m Using absolute cutoff of \u001b[1;36m12.0\u001b[0m Angstroms.       \u001b]8;id=293309;file:///net/csefiles/coc-fung-cluster/nima/shared/repositories/jmp-peft/src/jmppeft/models/gemnet/layers/radial_basis_dynamic_cutoff.py\u001b\\\u001b[2mradial_basis_dynamic_cutoff.py\u001b[0m\u001b]8;;\u001b\\\u001b[2m:\u001b[0m\u001b]8;id=253438;file:///net/csefiles/coc-fung-cluster/nima/shared/repositories/jmp-peft/src/jmppeft/models/gemnet/layers/radial_basis_dynamic_cutoff.py#213\u001b\\\u001b[2m213\u001b[0m\u001b]8;;\u001b\\\n"
      ]
     },
     "metadata": {},
     "output_type": "display_data"
    },
    {
     "data": {
      "text/html": [
       "<pre style=\"white-space:pre;overflow-x:auto;line-height:normal;font-family:Menlo,'DejaVu Sans Mono',consolas,'Courier New',monospace\"><span style=\"color: #7fbfbf; text-decoration-color: #7fbfbf\">[18:54:48] </span><span style=\"background-color: #800000; font-weight: bold\">CRITICAL</span> Constructed backbone with <span style=\"color: #808000; text-decoration-color: #808000\">dlora</span>=<span style=\"color: #800080; text-decoration-color: #800080; font-style: italic\">None</span>                                                <a href=\"file:///net/csefiles/coc-fung-cluster/nima/shared/repositories/jmp-peft/src/jmppeft/tasks/finetune/base.py\" target=\"_blank\"><span style=\"color: #7f7f7f; text-decoration-color: #7f7f7f\">base.py</span></a><span style=\"color: #7f7f7f; text-decoration-color: #7f7f7f\">:</span><a href=\"file:///net/csefiles/coc-fung-cluster/nima/shared/repositories/jmp-peft/src/jmppeft/tasks/finetune/base.py#613\" target=\"_blank\"><span style=\"color: #7f7f7f; text-decoration-color: #7f7f7f\">613</span></a>\n",
       "</pre>\n"
      ],
      "text/plain": [
       "\u001b[2;36m[18:54:48]\u001b[0m\u001b[2;36m \u001b[0m\u001b[1;7;31mCRITICAL\u001b[0m Constructed backbone with \u001b[33mdlora\u001b[0m=\u001b[3;35mNone\u001b[0m                                                \u001b]8;id=321277;file:///net/csefiles/coc-fung-cluster/nima/shared/repositories/jmp-peft/src/jmppeft/tasks/finetune/base.py\u001b\\\u001b[2mbase.py\u001b[0m\u001b]8;;\u001b\\\u001b[2m:\u001b[0m\u001b]8;id=237772;file:///net/csefiles/coc-fung-cluster/nima/shared/repositories/jmp-peft/src/jmppeft/tasks/finetune/base.py#613\u001b\\\u001b[2m613\u001b[0m\u001b]8;;\u001b\\\n"
      ]
     },
     "metadata": {},
     "output_type": "display_data"
    },
    {
     "data": {
      "text/html": [
       "<pre style=\"white-space:pre;overflow-x:auto;line-height:normal;font-family:Menlo,'DejaVu Sans Mono',consolas,'Courier New',monospace\"><span style=\"color: #7fbfbf; text-decoration-color: #7fbfbf\">           </span><span style=\"color: #000080; text-decoration-color: #000080\">INFO    </span> Registered <span style=\"color: #008080; text-decoration-color: #008080; font-weight: bold\">12</span> shared parameters                                         <a href=\"file:///net/csefiles/coc-fung-cluster/nima/shared/repositories/ll/src/ll/model/modules/shared_parameters.py\" target=\"_blank\"><span style=\"color: #7f7f7f; text-decoration-color: #7f7f7f\">shared_parameters.py</span></a><span style=\"color: #7f7f7f; text-decoration-color: #7f7f7f\">:</span><a href=\"file:///net/csefiles/coc-fung-cluster/nima/shared/repositories/ll/src/ll/model/modules/shared_parameters.py#72\" target=\"_blank\"><span style=\"color: #7f7f7f; text-decoration-color: #7f7f7f\">72</span></a>\n",
       "</pre>\n"
      ],
      "text/plain": [
       "\u001b[2;36m          \u001b[0m\u001b[2;36m \u001b[0m\u001b[34mINFO    \u001b[0m Registered \u001b[1;36m12\u001b[0m shared parameters                                         \u001b]8;id=392574;file:///net/csefiles/coc-fung-cluster/nima/shared/repositories/ll/src/ll/model/modules/shared_parameters.py\u001b\\\u001b[2mshared_parameters.py\u001b[0m\u001b]8;;\u001b\\\u001b[2m:\u001b[0m\u001b]8;id=539036;file:///net/csefiles/coc-fung-cluster/nima/shared/repositories/ll/src/ll/model/modules/shared_parameters.py#72\u001b\\\u001b[2m72\u001b[0m\u001b]8;;\u001b\\\n"
      ]
     },
     "metadata": {},
     "output_type": "display_data"
    },
    {
     "data": {
      "text/html": [
       "<pre style=\"white-space:pre;overflow-x:auto;line-height:normal;font-family:Menlo,'DejaVu Sans Mono',consolas,'Courier New',monospace\"><span style=\"color: #7fbfbf; text-decoration-color: #7fbfbf\">           </span><span style=\"color: #000080; text-decoration-color: #000080\">INFO    </span> List of ignored parameters: <span style=\"font-weight: bold\">[]</span>                                                      <a href=\"file:///net/csefiles/coc-fung-cluster/nima/shared/repositories/jmp-peft/src/jmppeft/tasks/finetune/base.py\" target=\"_blank\"><span style=\"color: #7f7f7f; text-decoration-color: #7f7f7f\">base.py</span></a><span style=\"color: #7f7f7f; text-decoration-color: #7f7f7f\">:</span><a href=\"file:///net/csefiles/coc-fung-cluster/nima/shared/repositories/jmp-peft/src/jmppeft/tasks/finetune/base.py#691\" target=\"_blank\"><span style=\"color: #7f7f7f; text-decoration-color: #7f7f7f\">691</span></a>\n",
       "</pre>\n"
      ],
      "text/plain": [
       "\u001b[2;36m          \u001b[0m\u001b[2;36m \u001b[0m\u001b[34mINFO    \u001b[0m List of ignored parameters: \u001b[1m[\u001b[0m\u001b[1m]\u001b[0m                                                      \u001b]8;id=201716;file:///net/csefiles/coc-fung-cluster/nima/shared/repositories/jmp-peft/src/jmppeft/tasks/finetune/base.py\u001b\\\u001b[2mbase.py\u001b[0m\u001b]8;;\u001b\\\u001b[2m:\u001b[0m\u001b]8;id=243731;file:///net/csefiles/coc-fung-cluster/nima/shared/repositories/jmp-peft/src/jmppeft/tasks/finetune/base.py#691\u001b\\\u001b[2m691\u001b[0m\u001b]8;;\u001b\\\n"
      ]
     },
     "metadata": {},
     "output_type": "display_data"
    },
    {
     "data": {
      "text/html": [
       "<pre style=\"white-space:pre;overflow-x:auto;line-height:normal;font-family:Menlo,'DejaVu Sans Mono',consolas,'Courier New',monospace\"><span style=\"color: #7fbfbf; text-decoration-color: #7fbfbf\">           </span><span style=\"background-color: #800000; font-weight: bold\">CRITICAL</span> Freezing <span style=\"color: #008080; text-decoration-color: #008080; font-weight: bold\">0</span> parameters <span style=\"font-weight: bold\">(</span><span style=\"color: #008080; text-decoration-color: #008080; font-weight: bold\">0.00</span>%<span style=\"font-weight: bold\">)</span> out of <span style=\"color: #008080; text-decoration-color: #008080; font-weight: bold\">40</span>,<span style=\"color: #008080; text-decoration-color: #008080; font-weight: bold\">720</span>,<span style=\"color: #008080; text-decoration-color: #008080; font-weight: bold\">130</span> total parameters <span style=\"font-weight: bold\">(</span><span style=\"color: #008080; text-decoration-color: #008080; font-weight: bold\">40</span>,<span style=\"color: #008080; text-decoration-color: #008080; font-weight: bold\">720</span>,<span style=\"color: #008080; text-decoration-color: #008080; font-weight: bold\">130</span>        <a href=\"file:///net/csefiles/coc-fung-cluster/nima/shared/repositories/jmp-peft/src/jmppeft/tasks/finetune/base.py\" target=\"_blank\"><span style=\"color: #7f7f7f; text-decoration-color: #7f7f7f\">base.py</span></a><span style=\"color: #7f7f7f; text-decoration-color: #7f7f7f\">:</span><a href=\"file:///net/csefiles/coc-fung-cluster/nima/shared/repositories/jmp-peft/src/jmppeft/tasks/finetune/base.py#920\" target=\"_blank\"><span style=\"color: #7f7f7f; text-decoration-color: #7f7f7f\">920</span></a>\n",
       "<span style=\"color: #7fbfbf; text-decoration-color: #7fbfbf\">           </span>         trainable<span style=\"font-weight: bold\">)</span>                                                                          <span style=\"color: #7f7f7f; text-decoration-color: #7f7f7f\">           </span>\n",
       "</pre>\n"
      ],
      "text/plain": [
       "\u001b[2;36m          \u001b[0m\u001b[2;36m \u001b[0m\u001b[1;7;31mCRITICAL\u001b[0m Freezing \u001b[1;36m0\u001b[0m parameters \u001b[1m(\u001b[0m\u001b[1;36m0.00\u001b[0m%\u001b[1m)\u001b[0m out of \u001b[1;36m40\u001b[0m,\u001b[1;36m720\u001b[0m,\u001b[1;36m130\u001b[0m total parameters \u001b[1m(\u001b[0m\u001b[1;36m40\u001b[0m,\u001b[1;36m720\u001b[0m,\u001b[1;36m130\u001b[0m        \u001b]8;id=546172;file:///net/csefiles/coc-fung-cluster/nima/shared/repositories/jmp-peft/src/jmppeft/tasks/finetune/base.py\u001b\\\u001b[2mbase.py\u001b[0m\u001b]8;;\u001b\\\u001b[2m:\u001b[0m\u001b]8;id=172537;file:///net/csefiles/coc-fung-cluster/nima/shared/repositories/jmp-peft/src/jmppeft/tasks/finetune/base.py#920\u001b\\\u001b[2m920\u001b[0m\u001b]8;;\u001b\\\n",
       "\u001b[2;36m           \u001b[0m         trainable\u001b[1m)\u001b[0m                                                                          \u001b[2m           \u001b[0m\n"
      ]
     },
     "metadata": {},
     "output_type": "display_data"
    },
    {
     "data": {
      "text/plain": [
       "MatbenchDiscoveryModel(config=MatbenchDiscoveryConfig(name=mptrj-jmp_s-stress-nograd-maceconf, project=jmp_mptrj), device=cuda:0)"
      ]
     },
     "execution_count": 3,
     "metadata": {},
     "output_type": "execute_result"
    }
   ],
   "source": [
    "from jmppeft.tasks.finetune import matbench_discovery as M\n",
    "\n",
    "model = M.MatbenchDiscoveryModel.load_from_checkpoint(ckpt_dir, map_location=\"cuda\")\n",
    "model"
   ]
  },
  {
   "cell_type": "code",
   "execution_count": 4,
   "metadata": {},
   "outputs": [
    {
     "name": "stdout",
     "output_type": "stream",
     "text": [
      "sample_n=DatasetSampleNConfig(sample_n=16, seed=42)\n"
     ]
    },
    {
     "data": {
      "text/plain": [
       "<jmppeft.datasets.mpd_is2re.MatBenchDiscoveryIS2REDataset at 0x7f2dc1e93ad0>"
      ]
     },
     "execution_count": 4,
     "metadata": {},
     "output_type": "execute_result"
    }
   ],
   "source": [
    "from jmppeft.modules.dataset.common import DatasetSampleNConfig\n",
    "from jmppeft.tasks.finetune.base import FinetuneMatBenchDiscoveryIS2REDatasetConfig\n",
    "\n",
    "dataset_config = FinetuneMatBenchDiscoveryIS2REDatasetConfig(\n",
    "    sample_n=DatasetSampleNConfig(sample_n=16, seed=42)\n",
    ")\n",
    "print(dataset_config)\n",
    "\n",
    "dataset = dataset_config.create_dataset()\n",
    "dataset"
   ]
  },
  {
   "cell_type": "code",
   "execution_count": 5,
   "metadata": {},
   "outputs": [
    {
     "data": {
      "text/plain": [
       "<jmppeft.modules.relaxer._mixin.Relaxer at 0x7f2bc30b1d50>"
      ]
     },
     "execution_count": 5,
     "metadata": {},
     "output_type": "execute_result"
    }
   ],
   "source": [
    "from jmppeft.modules.relaxer import ModelOutput, Relaxer, RelaxerConfig\n",
    "\n",
    "\n",
    "def model_fn(batch) -> ModelOutput:\n",
    "    model_out = model.forward_denormalized(batch)\n",
    "\n",
    "    energy = model_out[\"y\"]\n",
    "    forces = model_out[\"force\"]\n",
    "    stress = model_out[\"stress\"]\n",
    "\n",
    "    return {\n",
    "        \"energy\": energy,\n",
    "        \"forces\": forces,\n",
    "        \"stress\": stress,\n",
    "    }\n",
    "\n",
    "\n",
    "config = RelaxerConfig(compute_stress=True)\n",
    "relaxer = Relaxer(\n",
    "    config=config,\n",
    "    model=model_fn,\n",
    "    collate_fn=model.collate_fn,\n",
    "    device=model.device,\n",
    ")\n",
    "relaxer"
   ]
  },
  {
   "cell_type": "code",
   "execution_count": 6,
   "metadata": {},
   "outputs": [
    {
     "name": "stdout",
     "output_type": "stream",
     "text": [
      "DataBatch(pos=[8, 3], id=[1], atomic_numbers=[8], cell=[1, 3, 3], y_formation=[1], y_above_hull=[1], natoms=[1], tags=[8], fixed=[8], batch=[8], ptr=[2])\n",
      "{'energy': tensor[1] cuda:0 [-5.389], 'forces': tensor[8, 3] n=24 x∈[-0.198, 0.197] μ=8.809e-05 σ=0.089 cuda:0, 'stress': tensor[1, 3, 3] n=9 x∈[-0.000, 0.015] μ=0.005 σ=0.007 cuda:0 [[[0.014, -0.000, -0.000], [-0.000, 0.015, -0.000], [-0.000, -0.000, 0.014]]]}\n"
     ]
    }
   ],
   "source": [
    "from lightning.fabric.utilities.apply_func import move_data_to_device\n",
    "from torch_geometric.data import Batch\n",
    "\n",
    "data = Batch.from_data_list([model.data_transform(dataset[0])])\n",
    "data = move_data_to_device(data, model.device)\n",
    "print(data)\n",
    "\n",
    "print(model_fn(data))"
   ]
  },
  {
   "cell_type": "code",
   "execution_count": 12,
   "metadata": {},
   "outputs": [
    {
     "data": {
      "text/html": [
       "<pre style=\"white-space:pre;overflow-x:auto;line-height:normal;font-family:Menlo,'DejaVu Sans Mono',consolas,'Courier New',monospace\"><span style=\"color: #800080; text-decoration-color: #800080; font-weight: bold\">RelaxationOutput</span><span style=\"font-weight: bold\">(</span>\n",
       "    <span style=\"color: #808000; text-decoration-color: #808000\">trajectory</span>=<span style=\"color: #800080; text-decoration-color: #800080; font-weight: bold\">RelaxationTrajectory</span><span style=\"font-weight: bold\">(</span>\n",
       "        <span style=\"color: #808000; text-decoration-color: #808000\">frames</span>=<span style=\"font-weight: bold\">[</span>\n",
       "            <span style=\"color: #800080; text-decoration-color: #800080; font-weight: bold\">RelaxationTrajectoryFrame</span><span style=\"font-weight: bold\">(</span>\n",
       "                <span style=\"color: #808000; text-decoration-color: #808000\">energy</span>=<span style=\"color: #008080; text-decoration-color: #008080; font-weight: bold\">-5.38877534866333</span>,\n",
       "                <span style=\"color: #808000; text-decoration-color: #808000\">forces</span>=<span style=\"color: #800080; text-decoration-color: #800080; font-weight: bold\">array</span><span style=\"font-weight: bold\">([[</span><span style=\"color: #008080; text-decoration-color: #008080; font-weight: bold\">-0.00879241</span>, <span style=\"color: #008080; text-decoration-color: #008080; font-weight: bold\">-0.07787329</span>,  <span style=\"color: #008080; text-decoration-color: #008080; font-weight: bold\">0.14613828</span><span style=\"font-weight: bold\">]</span>,\n",
       "       <span style=\"font-weight: bold\">[</span><span style=\"color: #008080; text-decoration-color: #008080; font-weight: bold\">-0.01296899</span>, <span style=\"color: #008080; text-decoration-color: #008080; font-weight: bold\">-0.07421171</span>, <span style=\"color: #008080; text-decoration-color: #008080; font-weight: bold\">-0.13867307</span><span style=\"font-weight: bold\">]</span>,\n",
       "       <span style=\"font-weight: bold\">[</span><span style=\"color: #008080; text-decoration-color: #008080; font-weight: bold\">-0.00859971</span>,  <span style=\"color: #008080; text-decoration-color: #008080; font-weight: bold\">0.19691123</span>, <span style=\"color: #008080; text-decoration-color: #008080; font-weight: bold\">-0.00265526</span><span style=\"font-weight: bold\">]</span>,\n",
       "       <span style=\"font-weight: bold\">[</span> <span style=\"color: #008080; text-decoration-color: #008080; font-weight: bold\">0.00953547</span>,  <span style=\"color: #008080; text-decoration-color: #008080; font-weight: bold\">0.07859415</span>, <span style=\"color: #008080; text-decoration-color: #008080; font-weight: bold\">-0.14180662</span><span style=\"font-weight: bold\">]</span>,\n",
       "       <span style=\"font-weight: bold\">[</span> <span style=\"color: #008080; text-decoration-color: #008080; font-weight: bold\">0.01230055</span>,  <span style=\"color: #008080; text-decoration-color: #008080; font-weight: bold\">0.07375252</span>,  <span style=\"color: #008080; text-decoration-color: #008080; font-weight: bold\">0.14357321</span><span style=\"font-weight: bold\">]</span>,\n",
       "       <span style=\"font-weight: bold\">[</span> <span style=\"color: #008080; text-decoration-color: #008080; font-weight: bold\">0.00881439</span>, <span style=\"color: #008080; text-decoration-color: #008080; font-weight: bold\">-0.19769016</span>,  <span style=\"color: #008080; text-decoration-color: #008080; font-weight: bold\">0.00597066</span><span style=\"font-weight: bold\">]</span>,\n",
       "       <span style=\"font-weight: bold\">[</span> <span style=\"color: #008080; text-decoration-color: #008080; font-weight: bold\">0.00470349</span>,  <span style=\"color: #008080; text-decoration-color: #008080; font-weight: bold\">0.00597459</span>, <span style=\"color: #008080; text-decoration-color: #008080; font-weight: bold\">-0.00587778</span><span style=\"font-weight: bold\">]</span>,\n",
       "       <span style=\"font-weight: bold\">[</span><span style=\"color: #008080; text-decoration-color: #008080; font-weight: bold\">-0.00516877</span>, <span style=\"color: #008080; text-decoration-color: #008080; font-weight: bold\">-0.00610733</span>, <span style=\"color: #008080; text-decoration-color: #008080; font-weight: bold\">-0.00372912</span><span style=\"font-weight: bold\">]]</span>, <span style=\"color: #808000; text-decoration-color: #808000\">dtype</span>=<span style=\"color: #800080; text-decoration-color: #800080\">float32</span><span style=\"font-weight: bold\">)</span>,\n",
       "                <span style=\"color: #808000; text-decoration-color: #808000\">stresses</span>=<span style=\"color: #800080; text-decoration-color: #800080; font-weight: bold\">array</span><span style=\"font-weight: bold\">([</span> <span style=\"color: #008080; text-decoration-color: #008080; font-weight: bold\">1.42059856e-04</span>,  <span style=\"color: #008080; text-decoration-color: #008080; font-weight: bold\">1.46274368e-04</span>,  <span style=\"color: #008080; text-decoration-color: #008080; font-weight: bold\">1.43580910e-04</span>, <span style=\"color: #008080; text-decoration-color: #008080; font-weight: bold\">-1.45713432e-06</span>,\n",
       "       <span style=\"color: #008080; text-decoration-color: #008080; font-weight: bold\">-2.41353951e-06</span>, <span style=\"color: #008080; text-decoration-color: #008080; font-weight: bold\">-3.47080913e-06</span><span style=\"font-weight: bold\">])</span>,\n",
       "                <span style=\"color: #808000; text-decoration-color: #808000\">atom_positions</span>=<span style=\"color: #800080; text-decoration-color: #800080; font-weight: bold\">array</span><span style=\"font-weight: bold\">([[</span><span style=\"color: #008080; text-decoration-color: #008080; font-weight: bold\">1.59804428</span>, <span style=\"color: #008080; text-decoration-color: #008080; font-weight: bold\">5.70418167</span>, <span style=\"color: #008080; text-decoration-color: #008080; font-weight: bold\">5.95247364</span><span style=\"font-weight: bold\">]</span>,\n",
       "       <span style=\"font-weight: bold\">[</span><span style=\"color: #008080; text-decoration-color: #008080; font-weight: bold\">1.59804428</span>, <span style=\"color: #008080; text-decoration-color: #008080; font-weight: bold\">5.70418167</span>, <span style=\"color: #008080; text-decoration-color: #008080; font-weight: bold\">9.87993145</span><span style=\"font-weight: bold\">]</span>,\n",
       "       <span style=\"font-weight: bold\">[</span><span style=\"color: #008080; text-decoration-color: #008080; font-weight: bold\">1.59804428</span>, <span style=\"color: #008080; text-decoration-color: #008080; font-weight: bold\">2.30290318</span>, <span style=\"color: #008080; text-decoration-color: #008080; font-weight: bold\">7.91620302</span><span style=\"font-weight: bold\">]</span>,\n",
       "       <span style=\"font-weight: bold\">[</span><span style=\"color: #008080; text-decoration-color: #008080; font-weight: bold\">4.79413891</span>, <span style=\"color: #008080; text-decoration-color: #008080; font-weight: bold\">1.15144467</span>, <span style=\"color: #008080; text-decoration-color: #008080; font-weight: bold\">5.9218421</span> <span style=\"font-weight: bold\">]</span>,\n",
       "       <span style=\"font-weight: bold\">[</span><span style=\"color: #008080; text-decoration-color: #008080; font-weight: bold\">4.79413891</span>, <span style=\"color: #008080; text-decoration-color: #008080; font-weight: bold\">1.15144467</span>, <span style=\"color: #008080; text-decoration-color: #008080; font-weight: bold\">1.99436057</span><span style=\"font-weight: bold\">]</span>,\n",
       "       <span style=\"font-weight: bold\">[</span><span style=\"color: #008080; text-decoration-color: #008080; font-weight: bold\">4.79413891</span>, <span style=\"color: #008080; text-decoration-color: #008080; font-weight: bold\">4.55274343</span>, <span style=\"color: #008080; text-decoration-color: #008080; font-weight: bold\">3.95810127</span><span style=\"font-weight: bold\">]</span>,\n",
       "       <span style=\"font-weight: bold\">[</span><span style=\"color: #008080; text-decoration-color: #008080; font-weight: bold\">4.79413891</span>, <span style=\"color: #008080; text-decoration-color: #008080; font-weight: bold\">4.57042217</span>, <span style=\"color: #008080; text-decoration-color: #008080; font-weight: bold\">7.91620255</span><span style=\"font-weight: bold\">]</span>,\n",
       "       <span style=\"font-weight: bold\">[</span><span style=\"color: #008080; text-decoration-color: #008080; font-weight: bold\">1.59804428</span>, <span style=\"color: #008080; text-decoration-color: #008080; font-weight: bold\">2.28521109</span>, <span style=\"color: #008080; text-decoration-color: #008080; font-weight: bold\">3.95810127</span><span style=\"font-weight: bold\">]])</span>,\n",
       "                <span style=\"color: #808000; text-decoration-color: #808000\">cell</span>=<span style=\"color: #800080; text-decoration-color: #800080; font-weight: bold\">array</span><span style=\"font-weight: bold\">([[</span> <span style=\"color: #008080; text-decoration-color: #008080; font-weight: bold\">6.39217710e+00</span>,  <span style=\"color: #008080; text-decoration-color: #008080; font-weight: bold\">0.00000000e+00</span>,  <span style=\"color: #008080; text-decoration-color: #008080; font-weight: bold\">3.91407943e-16</span><span style=\"font-weight: bold\">]</span>,\n",
       "       <span style=\"font-weight: bold\">[</span><span style=\"color: #008080; text-decoration-color: #008080; font-weight: bold\">-4.19786458e-16</span>,  <span style=\"color: #008080; text-decoration-color: #008080; font-weight: bold\">6.85563278e+00</span>,  <span style=\"color: #008080; text-decoration-color: #008080; font-weight: bold\">3.95810103e+00</span><span style=\"font-weight: bold\">]</span>,\n",
       "       <span style=\"font-weight: bold\">[</span> <span style=\"color: #008080; text-decoration-color: #008080; font-weight: bold\">0.00000000e+00</span>,  <span style=\"color: #008080; text-decoration-color: #008080; font-weight: bold\">0.00000000e+00</span>,  <span style=\"color: #008080; text-decoration-color: #008080; font-weight: bold\">7.91620302e+00</span><span style=\"font-weight: bold\">]])</span>\n",
       "            <span style=\"font-weight: bold\">)</span>,\n",
       "            <span style=\"color: #800080; text-decoration-color: #800080; font-weight: bold\">RelaxationTrajectoryFrame</span><span style=\"font-weight: bold\">(</span>\n",
       "                <span style=\"color: #808000; text-decoration-color: #808000\">energy</span>=<span style=\"color: #008080; text-decoration-color: #008080; font-weight: bold\">-5.359618663787842</span>,\n",
       "                <span style=\"color: #808000; text-decoration-color: #808000\">forces</span>=<span style=\"color: #800080; text-decoration-color: #800080; font-weight: bold\">array</span><span style=\"font-weight: bold\">([[</span><span style=\"color: #008080; text-decoration-color: #008080; font-weight: bold\">-8.01425800e-03</span>, <span style=\"color: #008080; text-decoration-color: #008080; font-weight: bold\">-7.56926090e-02</span>,  <span style=\"color: #008080; text-decoration-color: #008080; font-weight: bold\">1.23800404e-01</span><span style=\"font-weight: bold\">]</span>,\n",
       "       <span style=\"font-weight: bold\">[</span> <span style=\"color: #008080; text-decoration-color: #008080; font-weight: bold\">5.82178123e-04</span>, <span style=\"color: #008080; text-decoration-color: #008080; font-weight: bold\">-6.87898844e-02</span>, <span style=\"color: #008080; text-decoration-color: #008080; font-weight: bold\">-1.20713726e-01</span><span style=\"font-weight: bold\">]</span>,\n",
       "       <span style=\"font-weight: bold\">[</span><span style=\"color: #008080; text-decoration-color: #008080; font-weight: bold\">-3.20255384e-03</span>,  <span style=\"color: #008080; text-decoration-color: #008080; font-weight: bold\">1.50010377e-01</span>, <span style=\"color: #008080; text-decoration-color: #008080; font-weight: bold\">-3.16479057e-03</span><span style=\"font-weight: bold\">]</span>,\n",
       "       <span style=\"font-weight: bold\">[</span> <span style=\"color: #008080; text-decoration-color: #008080; font-weight: bold\">8.14029574e-03</span>,  <span style=\"color: #008080; text-decoration-color: #008080; font-weight: bold\">7.81605467e-02</span>, <span style=\"color: #008080; text-decoration-color: #008080; font-weight: bold\">-1.18364125e-01</span><span style=\"font-weight: bold\">]</span>,\n",
       "       <span style=\"font-weight: bold\">[</span><span style=\"color: #008080; text-decoration-color: #008080; font-weight: bold\">-6.11059368e-04</span>,  <span style=\"color: #008080; text-decoration-color: #008080; font-weight: bold\">7.35138953e-02</span>,  <span style=\"color: #008080; text-decoration-color: #008080; font-weight: bold\">1.26220018e-01</span><span style=\"font-weight: bold\">]</span>,\n",
       "       <span style=\"font-weight: bold\">[</span> <span style=\"color: #008080; text-decoration-color: #008080; font-weight: bold\">2.51951814e-03</span>, <span style=\"color: #008080; text-decoration-color: #008080; font-weight: bold\">-1.48272470e-01</span>,  <span style=\"color: #008080; text-decoration-color: #008080; font-weight: bold\">6.07310049e-03</span><span style=\"font-weight: bold\">]</span>,\n",
       "       <span style=\"font-weight: bold\">[</span> <span style=\"color: #008080; text-decoration-color: #008080; font-weight: bold\">9.95843438e-05</span>,  <span style=\"color: #008080; text-decoration-color: #008080; font-weight: bold\">1.29208816e-02</span>,  <span style=\"color: #008080; text-decoration-color: #008080; font-weight: bold\">3.07436520e-03</span><span style=\"font-weight: bold\">]</span>,\n",
       "       <span style=\"font-weight: bold\">[</span> <span style=\"color: #008080; text-decoration-color: #008080; font-weight: bold\">2.34381645e-04</span>, <span style=\"color: #008080; text-decoration-color: #008080; font-weight: bold\">-1.88248921e-02</span>, <span style=\"color: #008080; text-decoration-color: #008080; font-weight: bold\">-1.11196414e-02</span><span style=\"font-weight: bold\">]]</span>, <span style=\"color: #808000; text-decoration-color: #808000\">dtype</span>=<span style=\"color: #800080; text-decoration-color: #800080\">float32</span><span style=\"font-weight: bold\">)</span>,\n",
       "                <span style=\"color: #808000; text-decoration-color: #808000\">stresses</span>=<span style=\"color: #800080; text-decoration-color: #800080; font-weight: bold\">array</span><span style=\"font-weight: bold\">([</span> <span style=\"color: #008080; text-decoration-color: #008080; font-weight: bold\">1.61776741e-04</span>,  <span style=\"color: #008080; text-decoration-color: #008080; font-weight: bold\">1.45086015e-04</span>,  <span style=\"color: #008080; text-decoration-color: #008080; font-weight: bold\">1.44046819e-04</span>,  <span style=\"color: #008080; text-decoration-color: #008080; font-weight: bold\">9.67504548e-07</span>,\n",
       "        <span style=\"color: #008080; text-decoration-color: #008080; font-weight: bold\">2.47863545e-06</span>, <span style=\"color: #008080; text-decoration-color: #008080; font-weight: bold\">-3.82756798e-06</span><span style=\"font-weight: bold\">])</span>,\n",
       "                <span style=\"color: #808000; text-decoration-color: #808000\">atom_positions</span>=<span style=\"color: #800080; text-decoration-color: #800080; font-weight: bold\">array</span><span style=\"font-weight: bold\">([[</span><span style=\"color: #008080; text-decoration-color: #008080; font-weight: bold\">1.59795635</span>, <span style=\"color: #008080; text-decoration-color: #008080; font-weight: bold\">5.70340294</span>, <span style=\"color: #008080; text-decoration-color: #008080; font-weight: bold\">5.95393502</span><span style=\"font-weight: bold\">]</span>,\n",
       "       <span style=\"font-weight: bold\">[</span><span style=\"color: #008080; text-decoration-color: #008080; font-weight: bold\">1.59791459</span>, <span style=\"color: #008080; text-decoration-color: #008080; font-weight: bold\">5.70343955</span>, <span style=\"color: #008080; text-decoration-color: #008080; font-weight: bold\">9.87854472</span><span style=\"font-weight: bold\">]</span>,\n",
       "       <span style=\"font-weight: bold\">[</span><span style=\"color: #008080; text-decoration-color: #008080; font-weight: bold\">1.59795828</span>, <span style=\"color: #008080; text-decoration-color: #008080; font-weight: bold\">2.30487229</span>, <span style=\"color: #008080; text-decoration-color: #008080; font-weight: bold\">7.91617647</span><span style=\"font-weight: bold\">]</span>,\n",
       "       <span style=\"font-weight: bold\">[</span><span style=\"color: #008080; text-decoration-color: #008080; font-weight: bold\">4.79423426</span>, <span style=\"color: #008080; text-decoration-color: #008080; font-weight: bold\">1.15223062</span>, <span style=\"color: #008080; text-decoration-color: #008080; font-weight: bold\">5.92042403</span><span style=\"font-weight: bold\">]</span>,\n",
       "       <span style=\"font-weight: bold\">[</span><span style=\"color: #008080; text-decoration-color: #008080; font-weight: bold\">4.79426191</span>, <span style=\"color: #008080; text-decoration-color: #008080; font-weight: bold\">1.1521822</span> , <span style=\"color: #008080; text-decoration-color: #008080; font-weight: bold\">1.9957963</span> <span style=\"font-weight: bold\">]</span>,\n",
       "       <span style=\"font-weight: bold\">[</span><span style=\"color: #008080; text-decoration-color: #008080; font-weight: bold\">4.79422705</span>, <span style=\"color: #008080; text-decoration-color: #008080; font-weight: bold\">4.55076653</span>, <span style=\"color: #008080; text-decoration-color: #008080; font-weight: bold\">3.95816098</span><span style=\"font-weight: bold\">]</span>,\n",
       "       <span style=\"font-weight: bold\">[</span><span style=\"color: #008080; text-decoration-color: #008080; font-weight: bold\">4.79418594</span>, <span style=\"color: #008080; text-decoration-color: #008080; font-weight: bold\">4.57048192</span>, <span style=\"color: #008080; text-decoration-color: #008080; font-weight: bold\">7.91614377</span><span style=\"font-weight: bold\">]</span>,\n",
       "       <span style=\"font-weight: bold\">[</span><span style=\"color: #008080; text-decoration-color: #008080; font-weight: bold\">1.59799259</span>, <span style=\"color: #008080; text-decoration-color: #008080; font-weight: bold\">2.28515001</span>, <span style=\"color: #008080; text-decoration-color: #008080; font-weight: bold\">3.95806398</span><span style=\"font-weight: bold\">]])</span>,\n",
       "                <span style=\"color: #808000; text-decoration-color: #808000\">cell</span>=<span style=\"color: #800080; text-decoration-color: #800080; font-weight: bold\">array</span><span style=\"font-weight: bold\">([[</span> <span style=\"color: #008080; text-decoration-color: #008080; font-weight: bold\">6.39217710e+00</span>,  <span style=\"color: #008080; text-decoration-color: #008080; font-weight: bold\">0.00000000e+00</span>,  <span style=\"color: #008080; text-decoration-color: #008080; font-weight: bold\">3.91407943e-16</span><span style=\"font-weight: bold\">]</span>,\n",
       "       <span style=\"font-weight: bold\">[</span><span style=\"color: #008080; text-decoration-color: #008080; font-weight: bold\">-4.19786458e-16</span>,  <span style=\"color: #008080; text-decoration-color: #008080; font-weight: bold\">6.85563278e+00</span>,  <span style=\"color: #008080; text-decoration-color: #008080; font-weight: bold\">3.95810103e+00</span><span style=\"font-weight: bold\">]</span>,\n",
       "       <span style=\"font-weight: bold\">[</span> <span style=\"color: #008080; text-decoration-color: #008080; font-weight: bold\">0.00000000e+00</span>,  <span style=\"color: #008080; text-decoration-color: #008080; font-weight: bold\">0.00000000e+00</span>,  <span style=\"color: #008080; text-decoration-color: #008080; font-weight: bold\">7.91620302e+00</span><span style=\"font-weight: bold\">]])</span>\n",
       "            <span style=\"font-weight: bold\">)</span>,\n",
       "            <span style=\"color: #800080; text-decoration-color: #800080; font-weight: bold\">RelaxationTrajectoryFrame</span><span style=\"font-weight: bold\">(</span>\n",
       "                <span style=\"color: #808000; text-decoration-color: #808000\">energy</span>=<span style=\"color: #008080; text-decoration-color: #008080; font-weight: bold\">-5.36796760559082</span>,\n",
       "                <span style=\"color: #808000; text-decoration-color: #808000\">forces</span>=<span style=\"color: #800080; text-decoration-color: #800080; font-weight: bold\">array</span><span style=\"font-weight: bold\">([[</span> <span style=\"color: #008080; text-decoration-color: #008080; font-weight: bold\">0.00025988</span>, <span style=\"color: #008080; text-decoration-color: #008080; font-weight: bold\">-0.0594218</span> ,  <span style=\"color: #008080; text-decoration-color: #008080; font-weight: bold\">0.11345421</span><span style=\"font-weight: bold\">]</span>,\n",
       "       <span style=\"font-weight: bold\">[</span><span style=\"color: #008080; text-decoration-color: #008080; font-weight: bold\">-0.00481824</span>, <span style=\"color: #008080; text-decoration-color: #008080; font-weight: bold\">-0.0633773</span> , <span style=\"color: #008080; text-decoration-color: #008080; font-weight: bold\">-0.11022365</span><span style=\"font-weight: bold\">]</span>,\n",
       "       <span style=\"font-weight: bold\">[</span><span style=\"color: #008080; text-decoration-color: #008080; font-weight: bold\">-0.00230731</span>,  <span style=\"color: #008080; text-decoration-color: #008080; font-weight: bold\">0.15631162</span>,  <span style=\"color: #008080; text-decoration-color: #008080; font-weight: bold\">0.00918949</span><span style=\"font-weight: bold\">]</span>,\n",
       "       <span style=\"font-weight: bold\">[</span><span style=\"color: #008080; text-decoration-color: #008080; font-weight: bold\">-0.00054599</span>,  <span style=\"color: #008080; text-decoration-color: #008080; font-weight: bold\">0.06357769</span>, <span style=\"color: #008080; text-decoration-color: #008080; font-weight: bold\">-0.1146854</span> <span style=\"font-weight: bold\">]</span>,\n",
       "       <span style=\"font-weight: bold\">[</span> <span style=\"color: #008080; text-decoration-color: #008080; font-weight: bold\">0.00677951</span>,  <span style=\"color: #008080; text-decoration-color: #008080; font-weight: bold\">0.0697119</span> ,  <span style=\"color: #008080; text-decoration-color: #008080; font-weight: bold\">0.1187188</span> <span style=\"font-weight: bold\">]</span>,\n",
       "       <span style=\"font-weight: bold\">[</span> <span style=\"color: #008080; text-decoration-color: #008080; font-weight: bold\">0.00154857</span>, <span style=\"color: #008080; text-decoration-color: #008080; font-weight: bold\">-0.13647068</span>, <span style=\"color: #008080; text-decoration-color: #008080; font-weight: bold\">-0.00815182</span><span style=\"font-weight: bold\">]</span>,\n",
       "       <span style=\"font-weight: bold\">[</span> <span style=\"color: #008080; text-decoration-color: #008080; font-weight: bold\">0.00248333</span>, <span style=\"color: #008080; text-decoration-color: #008080; font-weight: bold\">-0.00236027</span>, <span style=\"color: #008080; text-decoration-color: #008080; font-weight: bold\">-0.00645231</span><span style=\"font-weight: bold\">]</span>,\n",
       "       <span style=\"font-weight: bold\">[</span><span style=\"color: #008080; text-decoration-color: #008080; font-weight: bold\">-0.00177013</span>, <span style=\"color: #008080; text-decoration-color: #008080; font-weight: bold\">-0.01269804</span>,  <span style=\"color: #008080; text-decoration-color: #008080; font-weight: bold\">0.00080473</span><span style=\"font-weight: bold\">]]</span>, <span style=\"color: #808000; text-decoration-color: #808000\">dtype</span>=<span style=\"color: #800080; text-decoration-color: #800080\">float32</span><span style=\"font-weight: bold\">)</span>,\n",
       "                <span style=\"color: #808000; text-decoration-color: #808000\">stresses</span>=<span style=\"color: #800080; text-decoration-color: #800080; font-weight: bold\">array</span><span style=\"font-weight: bold\">([</span> <span style=\"color: #008080; text-decoration-color: #008080; font-weight: bold\">1.62980330e-04</span>,  <span style=\"color: #008080; text-decoration-color: #008080; font-weight: bold\">1.44965103e-04</span>,  <span style=\"color: #008080; text-decoration-color: #008080; font-weight: bold\">1.43618337e-04</span>,  <span style=\"color: #008080; text-decoration-color: #008080; font-weight: bold\">9.85475936e-07</span>,\n",
       "        <span style=\"color: #008080; text-decoration-color: #008080; font-weight: bold\">1.98277007e-06</span>, <span style=\"color: #008080; text-decoration-color: #008080; font-weight: bold\">-3.92579022e-06</span><span style=\"font-weight: bold\">])</span>,\n",
       "                <span style=\"color: #808000; text-decoration-color: #808000\">atom_positions</span>=<span style=\"color: #800080; text-decoration-color: #800080; font-weight: bold\">array</span><span style=\"font-weight: bold\">([[</span><span style=\"color: #008080; text-decoration-color: #008080; font-weight: bold\">1.59778746</span>, <span style=\"color: #008080; text-decoration-color: #008080; font-weight: bold\">5.70185429</span>, <span style=\"color: #008080; text-decoration-color: #008080; font-weight: bold\">5.95663688</span><span style=\"font-weight: bold\">]</span>,\n",
       "       <span style=\"font-weight: bold\">[</span><span style=\"color: #008080; text-decoration-color: #008080; font-weight: bold\">1.59780439</span>, <span style=\"color: #008080; text-decoration-color: #008080; font-weight: bold\">5.70200118</span>, <span style=\"color: #008080; text-decoration-color: #008080; font-weight: bold\">9.87594463</span><span style=\"font-weight: bold\">]</span>,\n",
       "       <span style=\"font-weight: bold\">[</span><span style=\"color: #008080; text-decoration-color: #008080; font-weight: bold\">1.59784501</span>, <span style=\"color: #008080; text-decoration-color: #008080; font-weight: bold\">2.30832466</span>, <span style=\"color: #008080; text-decoration-color: #008080; font-weight: bold\">7.91611713</span><span style=\"font-weight: bold\">]</span>,\n",
       "       <span style=\"font-weight: bold\">[</span><span style=\"color: #008080; text-decoration-color: #008080; font-weight: bold\">4.79441126</span>, <span style=\"color: #008080; text-decoration-color: #008080; font-weight: bold\">1.15381339</span>, <span style=\"color: #008080; text-decoration-color: #008080; font-weight: bold\">5.91782205</span><span style=\"font-weight: bold\">]</span>,\n",
       "       <span style=\"font-weight: bold\">[</span><span style=\"color: #008080; text-decoration-color: #008080; font-weight: bold\">4.79436577</span>, <span style=\"color: #008080; text-decoration-color: #008080; font-weight: bold\">1.15366935</span>, <span style=\"color: #008080; text-decoration-color: #008080; font-weight: bold\">1.99850217</span><span style=\"font-weight: bold\">]</span>,\n",
       "       <span style=\"font-weight: bold\">[</span><span style=\"color: #008080; text-decoration-color: #008080; font-weight: bold\">4.7943346</span> , <span style=\"color: #008080; text-decoration-color: #008080; font-weight: bold\">4.54732662</span>, <span style=\"color: #008080; text-decoration-color: #008080; font-weight: bold\">3.95828274</span><span style=\"font-weight: bold\">]</span>,\n",
       "       <span style=\"font-weight: bold\">[</span><span style=\"color: #008080; text-decoration-color: #008080; font-weight: bold\">4.79422939</span>, <span style=\"color: #008080; text-decoration-color: #008080; font-weight: bold\">4.57068041</span>, <span style=\"color: #008080; text-decoration-color: #008080; font-weight: bold\">7.9161253</span> <span style=\"font-weight: bold\">]</span>,\n",
       "       <span style=\"font-weight: bold\">[</span><span style=\"color: #008080; text-decoration-color: #008080; font-weight: bold\">1.59794869</span>, <span style=\"color: #008080; text-decoration-color: #008080; font-weight: bold\">2.2848842</span> , <span style=\"color: #008080; text-decoration-color: #008080; font-weight: bold\">3.95790588</span><span style=\"font-weight: bold\">]])</span>,\n",
       "                <span style=\"color: #808000; text-decoration-color: #808000\">cell</span>=<span style=\"color: #800080; text-decoration-color: #800080; font-weight: bold\">array</span><span style=\"font-weight: bold\">([[</span> <span style=\"color: #008080; text-decoration-color: #008080; font-weight: bold\">6.39217710e+00</span>,  <span style=\"color: #008080; text-decoration-color: #008080; font-weight: bold\">0.00000000e+00</span>,  <span style=\"color: #008080; text-decoration-color: #008080; font-weight: bold\">3.91407943e-16</span><span style=\"font-weight: bold\">]</span>,\n",
       "       <span style=\"font-weight: bold\">[</span><span style=\"color: #008080; text-decoration-color: #008080; font-weight: bold\">-4.19786458e-16</span>,  <span style=\"color: #008080; text-decoration-color: #008080; font-weight: bold\">6.85563278e+00</span>,  <span style=\"color: #008080; text-decoration-color: #008080; font-weight: bold\">3.95810103e+00</span><span style=\"font-weight: bold\">]</span>,\n",
       "       <span style=\"font-weight: bold\">[</span> <span style=\"color: #008080; text-decoration-color: #008080; font-weight: bold\">0.00000000e+00</span>,  <span style=\"color: #008080; text-decoration-color: #008080; font-weight: bold\">0.00000000e+00</span>,  <span style=\"color: #008080; text-decoration-color: #008080; font-weight: bold\">7.91620302e+00</span><span style=\"font-weight: bold\">]])</span>\n",
       "            <span style=\"font-weight: bold\">)</span>,\n",
       "            <span style=\"color: #800080; text-decoration-color: #800080; font-weight: bold\">RelaxationTrajectoryFrame</span><span style=\"font-weight: bold\">(</span>\n",
       "                <span style=\"color: #808000; text-decoration-color: #808000\">energy</span>=<span style=\"color: #008080; text-decoration-color: #008080; font-weight: bold\">-5.36117696762085</span>,\n",
       "                <span style=\"color: #808000; text-decoration-color: #808000\">forces</span>=<span style=\"color: #800080; text-decoration-color: #800080; font-weight: bold\">array</span><span style=\"font-weight: bold\">([[</span><span style=\"color: #008080; text-decoration-color: #008080; font-weight: bold\">-6.17399812e-04</span>, <span style=\"color: #008080; text-decoration-color: #008080; font-weight: bold\">-5.55835143e-02</span>,  <span style=\"color: #008080; text-decoration-color: #008080; font-weight: bold\">1.08931825e-01</span><span style=\"font-weight: bold\">]</span>,\n",
       "       <span style=\"font-weight: bold\">[</span><span style=\"color: #008080; text-decoration-color: #008080; font-weight: bold\">-6.61595911e-03</span>, <span style=\"color: #008080; text-decoration-color: #008080; font-weight: bold\">-6.02400526e-02</span>, <span style=\"color: #008080; text-decoration-color: #008080; font-weight: bold\">-1.06642991e-01</span><span style=\"font-weight: bold\">]</span>,\n",
       "       <span style=\"font-weight: bold\">[</span><span style=\"color: #008080; text-decoration-color: #008080; font-weight: bold\">-1.66689674e-03</span>,  <span style=\"color: #008080; text-decoration-color: #008080; font-weight: bold\">1.28424406e-01</span>,  <span style=\"color: #008080; text-decoration-color: #008080; font-weight: bold\">8.30736384e-03</span><span style=\"font-weight: bold\">]</span>,\n",
       "       <span style=\"font-weight: bold\">[</span><span style=\"color: #008080; text-decoration-color: #008080; font-weight: bold\">-7.89469341e-04</span>,  <span style=\"color: #008080; text-decoration-color: #008080; font-weight: bold\">5.63081317e-02</span>, <span style=\"color: #008080; text-decoration-color: #008080; font-weight: bold\">-1.04473799e-01</span><span style=\"font-weight: bold\">]</span>,\n",
       "       <span style=\"font-weight: bold\">[</span> <span style=\"color: #008080; text-decoration-color: #008080; font-weight: bold\">5.36224339e-03</span>,  <span style=\"color: #008080; text-decoration-color: #008080; font-weight: bold\">6.18832223e-02</span>,  <span style=\"color: #008080; text-decoration-color: #008080; font-weight: bold\">1.08752936e-01</span><span style=\"font-weight: bold\">]</span>,\n",
       "       <span style=\"font-weight: bold\">[</span> <span style=\"color: #008080; text-decoration-color: #008080; font-weight: bold\">2.28912383e-03</span>, <span style=\"color: #008080; text-decoration-color: #008080; font-weight: bold\">-1.23949707e-01</span>, <span style=\"color: #008080; text-decoration-color: #008080; font-weight: bold\">-6.33779122e-03</span><span style=\"font-weight: bold\">]</span>,\n",
       "       <span style=\"font-weight: bold\">[</span> <span style=\"color: #008080; text-decoration-color: #008080; font-weight: bold\">3.02022113e-03</span>,  <span style=\"color: #008080; text-decoration-color: #008080; font-weight: bold\">3.87175474e-03</span>, <span style=\"color: #008080; text-decoration-color: #008080; font-weight: bold\">-5.18988585e-03</span><span style=\"font-weight: bold\">]</span>,\n",
       "       <span style=\"font-weight: bold\">[</span> <span style=\"color: #008080; text-decoration-color: #008080; font-weight: bold\">3.50959040e-03</span>, <span style=\"color: #008080; text-decoration-color: #008080; font-weight: bold\">-7.67633040e-03</span>, <span style=\"color: #008080; text-decoration-color: #008080; font-weight: bold\">-1.31792622e-05</span><span style=\"font-weight: bold\">]]</span>, <span style=\"color: #808000; text-decoration-color: #808000\">dtype</span>=<span style=\"color: #800080; text-decoration-color: #800080\">float32</span><span style=\"font-weight: bold\">)</span>,\n",
       "                <span style=\"color: #808000; text-decoration-color: #808000\">stresses</span>=<span style=\"color: #800080; text-decoration-color: #800080; font-weight: bold\">array</span><span style=\"font-weight: bold\">([</span> <span style=\"color: #008080; text-decoration-color: #008080; font-weight: bold\">1.65382138e-04</span>,  <span style=\"color: #008080; text-decoration-color: #008080; font-weight: bold\">1.44494406e-04</span>,  <span style=\"color: #008080; text-decoration-color: #008080; font-weight: bold\">1.42920588e-04</span>,  <span style=\"color: #008080; text-decoration-color: #008080; font-weight: bold\">1.27523219e-06</span>,\n",
       "        <span style=\"color: #008080; text-decoration-color: #008080; font-weight: bold\">1.88483261e-06</span>, <span style=\"color: #008080; text-decoration-color: #008080; font-weight: bold\">-4.30873160e-06</span><span style=\"font-weight: bold\">])</span>,\n",
       "                <span style=\"color: #808000; text-decoration-color: #808000\">atom_positions</span>=<span style=\"color: #800080; text-decoration-color: #800080; font-weight: bold\">array</span><span style=\"font-weight: bold\">([[</span><span style=\"color: #008080; text-decoration-color: #008080; font-weight: bold\">1.59763866</span>, <span style=\"color: #008080; text-decoration-color: #008080; font-weight: bold\">5.69972736</span>, <span style=\"color: #008080; text-decoration-color: #008080; font-weight: bold\">5.96046836</span><span style=\"font-weight: bold\">]</span>,\n",
       "       <span style=\"font-weight: bold\">[</span><span style=\"color: #008080; text-decoration-color: #008080; font-weight: bold\">1.59764576</span>, <span style=\"color: #008080; text-decoration-color: #008080; font-weight: bold\">5.69992468</span>, <span style=\"color: #008080; text-decoration-color: #008080; font-weight: bold\">9.87224458</span><span style=\"font-weight: bold\">]</span>,\n",
       "       <span style=\"font-weight: bold\">[</span><span style=\"color: #008080; text-decoration-color: #008080; font-weight: bold\">1.5977146</span> , <span style=\"color: #008080; text-decoration-color: #008080; font-weight: bold\">2.31336039</span>, <span style=\"color: #008080; text-decoration-color: #008080; font-weight: bold\">7.9161771</span> <span style=\"font-weight: bold\">]</span>,\n",
       "       <span style=\"font-weight: bold\">[</span><span style=\"color: #008080; text-decoration-color: #008080; font-weight: bold\">4.79456381</span>, <span style=\"color: #008080; text-decoration-color: #008080; font-weight: bold\">1.15602232</span>, <span style=\"color: #008080; text-decoration-color: #008080; font-weight: bold\">5.91406526</span><span style=\"font-weight: bold\">]</span>,\n",
       "       <span style=\"font-weight: bold\">[</span><span style=\"color: #008080; text-decoration-color: #008080; font-weight: bold\">4.7945429</span> , <span style=\"color: #008080; text-decoration-color: #008080; font-weight: bold\">1.15586791</span>, <span style=\"color: #008080; text-decoration-color: #008080; font-weight: bold\">2.00240222</span><span style=\"font-weight: bold\">]</span>,\n",
       "       <span style=\"font-weight: bold\">[</span><span style=\"color: #008080; text-decoration-color: #008080; font-weight: bold\">4.7944505</span> , <span style=\"color: #008080; text-decoration-color: #008080; font-weight: bold\">4.54254689</span>, <span style=\"color: #008080; text-decoration-color: #008080; font-weight: bold\">3.95829174</span><span style=\"font-weight: bold\">]</span>,\n",
       "       <span style=\"font-weight: bold\">[</span><span style=\"color: #008080; text-decoration-color: #008080; font-weight: bold\">4.79429913</span>, <span style=\"color: #008080; text-decoration-color: #008080; font-weight: bold\">4.57082993</span>, <span style=\"color: #008080; text-decoration-color: #008080; font-weight: bold\">7.91602907</span><span style=\"font-weight: bold\">]</span>,\n",
       "       <span style=\"font-weight: bold\">[</span><span style=\"color: #008080; text-decoration-color: #008080; font-weight: bold\">1.59788735</span>, <span style=\"color: #008080; text-decoration-color: #008080; font-weight: bold\">2.2844883</span> , <span style=\"color: #008080; text-decoration-color: #008080; font-weight: bold\">3.95777351</span><span style=\"font-weight: bold\">]])</span>,\n",
       "                <span style=\"color: #808000; text-decoration-color: #808000\">cell</span>=<span style=\"color: #800080; text-decoration-color: #800080; font-weight: bold\">array</span><span style=\"font-weight: bold\">([[</span> <span style=\"color: #008080; text-decoration-color: #008080; font-weight: bold\">6.39217710e+00</span>,  <span style=\"color: #008080; text-decoration-color: #008080; font-weight: bold\">0.00000000e+00</span>,  <span style=\"color: #008080; text-decoration-color: #008080; font-weight: bold\">3.91407943e-16</span><span style=\"font-weight: bold\">]</span>,\n",
       "       <span style=\"font-weight: bold\">[</span><span style=\"color: #008080; text-decoration-color: #008080; font-weight: bold\">-4.19786458e-16</span>,  <span style=\"color: #008080; text-decoration-color: #008080; font-weight: bold\">6.85563278e+00</span>,  <span style=\"color: #008080; text-decoration-color: #008080; font-weight: bold\">3.95810103e+00</span><span style=\"font-weight: bold\">]</span>,\n",
       "       <span style=\"font-weight: bold\">[</span> <span style=\"color: #008080; text-decoration-color: #008080; font-weight: bold\">0.00000000e+00</span>,  <span style=\"color: #008080; text-decoration-color: #008080; font-weight: bold\">0.00000000e+00</span>,  <span style=\"color: #008080; text-decoration-color: #008080; font-weight: bold\">7.91620302e+00</span><span style=\"font-weight: bold\">]])</span>\n",
       "            <span style=\"font-weight: bold\">)</span>,\n",
       "            <span style=\"color: #800080; text-decoration-color: #800080; font-weight: bold\">RelaxationTrajectoryFrame</span><span style=\"font-weight: bold\">(</span>\n",
       "                <span style=\"color: #808000; text-decoration-color: #808000\">energy</span>=<span style=\"color: #008080; text-decoration-color: #008080; font-weight: bold\">-5.349491596221924</span>,\n",
       "                <span style=\"color: #808000; text-decoration-color: #808000\">forces</span>=<span style=\"color: #800080; text-decoration-color: #800080; font-weight: bold\">array</span><span style=\"font-weight: bold\">([[</span> <span style=\"color: #008080; text-decoration-color: #008080; font-weight: bold\">0.00189847</span>, <span style=\"color: #008080; text-decoration-color: #008080; font-weight: bold\">-0.05185551</span>,  <span style=\"color: #008080; text-decoration-color: #008080; font-weight: bold\">0.09577183</span><span style=\"font-weight: bold\">]</span>,\n",
       "       <span style=\"font-weight: bold\">[</span><span style=\"color: #008080; text-decoration-color: #008080; font-weight: bold\">-0.00728828</span>, <span style=\"color: #008080; text-decoration-color: #008080; font-weight: bold\">-0.05041752</span>, <span style=\"color: #008080; text-decoration-color: #008080; font-weight: bold\">-0.08642185</span><span style=\"font-weight: bold\">]</span>,\n",
       "       <span style=\"font-weight: bold\">[</span><span style=\"color: #008080; text-decoration-color: #008080; font-weight: bold\">-0.00025721</span>,  <span style=\"color: #008080; text-decoration-color: #008080; font-weight: bold\">0.10759735</span>, <span style=\"color: #008080; text-decoration-color: #008080; font-weight: bold\">-0.00017919</span><span style=\"font-weight: bold\">]</span>,\n",
       "       <span style=\"font-weight: bold\">[</span><span style=\"color: #008080; text-decoration-color: #008080; font-weight: bold\">-0.0036549</span> ,  <span style=\"color: #008080; text-decoration-color: #008080; font-weight: bold\">0.05296598</span>, <span style=\"color: #008080; text-decoration-color: #008080; font-weight: bold\">-0.09062269</span><span style=\"font-weight: bold\">]</span>,\n",
       "       <span style=\"font-weight: bold\">[</span> <span style=\"color: #008080; text-decoration-color: #008080; font-weight: bold\">0.00665485</span>,  <span style=\"color: #008080; text-decoration-color: #008080; font-weight: bold\">0.05416045</span>,  <span style=\"color: #008080; text-decoration-color: #008080; font-weight: bold\">0.08880852</span><span style=\"font-weight: bold\">]</span>,\n",
       "       <span style=\"font-weight: bold\">[</span> <span style=\"color: #008080; text-decoration-color: #008080; font-weight: bold\">0.00309523</span>, <span style=\"color: #008080; text-decoration-color: #008080; font-weight: bold\">-0.11027895</span>, <span style=\"color: #008080; text-decoration-color: #008080; font-weight: bold\">-0.00242472</span><span style=\"font-weight: bold\">]</span>,\n",
       "       <span style=\"font-weight: bold\">[</span> <span style=\"color: #008080; text-decoration-color: #008080; font-weight: bold\">0.00171253</span>,  <span style=\"color: #008080; text-decoration-color: #008080; font-weight: bold\">0.00749354</span>, <span style=\"color: #008080; text-decoration-color: #008080; font-weight: bold\">-0.00419774</span><span style=\"font-weight: bold\">]</span>,\n",
       "       <span style=\"font-weight: bold\">[</span> <span style=\"color: #008080; text-decoration-color: #008080; font-weight: bold\">0.00348358</span>, <span style=\"color: #008080; text-decoration-color: #008080; font-weight: bold\">-0.01051046</span>, <span style=\"color: #008080; text-decoration-color: #008080; font-weight: bold\">-0.00154666</span><span style=\"font-weight: bold\">]]</span>, <span style=\"color: #808000; text-decoration-color: #808000\">dtype</span>=<span style=\"color: #800080; text-decoration-color: #800080\">float32</span><span style=\"font-weight: bold\">)</span>,\n",
       "                <span style=\"color: #808000; text-decoration-color: #808000\">stresses</span>=<span style=\"color: #800080; text-decoration-color: #800080; font-weight: bold\">array</span><span style=\"font-weight: bold\">([</span> <span style=\"color: #008080; text-decoration-color: #008080; font-weight: bold\">1.67015067e-04</span>,  <span style=\"color: #008080; text-decoration-color: #008080; font-weight: bold\">1.43482845e-04</span>,  <span style=\"color: #008080; text-decoration-color: #008080; font-weight: bold\">1.40641496e-04</span>, <span style=\"color: #008080; text-decoration-color: #008080; font-weight: bold\">-1.73861622e-06</span>,\n",
       "       <span style=\"color: #008080; text-decoration-color: #008080; font-weight: bold\">-2.24288306e-06</span>, <span style=\"color: #008080; text-decoration-color: #008080; font-weight: bold\">-4.13802536e-06</span><span style=\"font-weight: bold\">])</span>,\n",
       "                <span style=\"color: #808000; text-decoration-color: #808000\">atom_positions</span>=<span style=\"color: #800080; text-decoration-color: #800080; font-weight: bold\">array</span><span style=\"font-weight: bold\">([[</span><span style=\"color: #008080; text-decoration-color: #008080; font-weight: bold\">1.59749629</span>, <span style=\"color: #008080; text-decoration-color: #008080; font-weight: bold\">5.69705242</span>, <span style=\"color: #008080; text-decoration-color: #008080; font-weight: bold\">5.96540751</span><span style=\"font-weight: bold\">]</span>,\n",
       "       <span style=\"font-weight: bold\">[</span><span style=\"color: #008080; text-decoration-color: #008080; font-weight: bold\">1.59741245</span>, <span style=\"color: #008080; text-decoration-color: #008080; font-weight: bold\">5.6972314</span> , <span style=\"color: #008080; text-decoration-color: #008080; font-weight: bold\">9.86745506</span><span style=\"font-weight: bold\">]</span>,\n",
       "       <span style=\"font-weight: bold\">[</span><span style=\"color: #008080; text-decoration-color: #008080; font-weight: bold\">1.59757442</span>, <span style=\"color: #008080; text-decoration-color: #008080; font-weight: bold\">2.31965013</span>, <span style=\"color: #008080; text-decoration-color: #008080; font-weight: bold\">7.91634476</span><span style=\"font-weight: bold\">]</span>,\n",
       "       <span style=\"font-weight: bold\">[</span><span style=\"color: #008080; text-decoration-color: #008080; font-weight: bold\">4.79469031</span>, <span style=\"color: #008080; text-decoration-color: #008080; font-weight: bold\">1.15878097</span>, <span style=\"color: #008080; text-decoration-color: #008080; font-weight: bold\">5.90925435</span><span style=\"font-weight: bold\">]</span>,\n",
       "       <span style=\"font-weight: bold\">[</span><span style=\"color: #008080; text-decoration-color: #008080; font-weight: bold\">4.79477569</span>, <span style=\"color: #008080; text-decoration-color: #008080; font-weight: bold\">1.15869353</span>, <span style=\"color: #008080; text-decoration-color: #008080; font-weight: bold\">2.00740063</span><span style=\"font-weight: bold\">]</span>,\n",
       "       <span style=\"font-weight: bold\">[</span><span style=\"color: #008080; text-decoration-color: #008080; font-weight: bold\">4.79458614</span>, <span style=\"color: #008080; text-decoration-color: #008080; font-weight: bold\">4.5365488</span> , <span style=\"color: #008080; text-decoration-color: #008080; font-weight: bold\">3.9582131</span> <span style=\"font-weight: bold\">]</span>,\n",
       "       <span style=\"font-weight: bold\">[</span><span style=\"color: #008080; text-decoration-color: #008080; font-weight: bold\">4.79440323</span>, <span style=\"color: #008080; text-decoration-color: #008080; font-weight: bold\">4.57101748</span>, <span style=\"color: #008080; text-decoration-color: #008080; font-weight: bold\">7.91587144</span><span style=\"font-weight: bold\">]</span>,\n",
       "       <span style=\"font-weight: bold\">[</span><span style=\"color: #008080; text-decoration-color: #008080; font-weight: bold\">1.59788017</span>, <span style=\"color: #008080; text-decoration-color: #008080; font-weight: bold\">2.28402693</span>, <span style=\"color: #008080; text-decoration-color: #008080; font-weight: bold\">3.9576542</span> <span style=\"font-weight: bold\">]])</span>,\n",
       "                <span style=\"color: #808000; text-decoration-color: #808000\">cell</span>=<span style=\"color: #800080; text-decoration-color: #800080; font-weight: bold\">array</span><span style=\"font-weight: bold\">([[</span> <span style=\"color: #008080; text-decoration-color: #008080; font-weight: bold\">6.39217710e+00</span>,  <span style=\"color: #008080; text-decoration-color: #008080; font-weight: bold\">0.00000000e+00</span>,  <span style=\"color: #008080; text-decoration-color: #008080; font-weight: bold\">3.91407943e-16</span><span style=\"font-weight: bold\">]</span>,\n",
       "       <span style=\"font-weight: bold\">[</span><span style=\"color: #008080; text-decoration-color: #008080; font-weight: bold\">-4.19786458e-16</span>,  <span style=\"color: #008080; text-decoration-color: #008080; font-weight: bold\">6.85563278e+00</span>,  <span style=\"color: #008080; text-decoration-color: #008080; font-weight: bold\">3.95810103e+00</span><span style=\"font-weight: bold\">]</span>,\n",
       "       <span style=\"font-weight: bold\">[</span> <span style=\"color: #008080; text-decoration-color: #008080; font-weight: bold\">0.00000000e+00</span>,  <span style=\"color: #008080; text-decoration-color: #008080; font-weight: bold\">0.00000000e+00</span>,  <span style=\"color: #008080; text-decoration-color: #008080; font-weight: bold\">7.91620302e+00</span><span style=\"font-weight: bold\">]])</span>\n",
       "            <span style=\"font-weight: bold\">)</span>,\n",
       "            <span style=\"color: #800080; text-decoration-color: #800080; font-weight: bold\">RelaxationTrajectoryFrame</span><span style=\"font-weight: bold\">(</span>\n",
       "                <span style=\"color: #808000; text-decoration-color: #808000\">energy</span>=<span style=\"color: #008080; text-decoration-color: #008080; font-weight: bold\">-5.355611801147461</span>,\n",
       "                <span style=\"color: #808000; text-decoration-color: #808000\">forces</span>=<span style=\"color: #800080; text-decoration-color: #800080; font-weight: bold\">array</span><span style=\"font-weight: bold\">([[</span> <span style=\"color: #008080; text-decoration-color: #008080; font-weight: bold\">0.00273847</span>, <span style=\"color: #008080; text-decoration-color: #008080; font-weight: bold\">-0.04411296</span>,  <span style=\"color: #008080; text-decoration-color: #008080; font-weight: bold\">0.0814831</span> <span style=\"font-weight: bold\">]</span>,\n",
       "       <span style=\"font-weight: bold\">[</span><span style=\"color: #008080; text-decoration-color: #008080; font-weight: bold\">-0.00738219</span>, <span style=\"color: #008080; text-decoration-color: #008080; font-weight: bold\">-0.04126022</span>, <span style=\"color: #008080; text-decoration-color: #008080; font-weight: bold\">-0.07496164</span><span style=\"font-weight: bold\">]</span>,\n",
       "       <span style=\"font-weight: bold\">[</span><span style=\"color: #008080; text-decoration-color: #008080; font-weight: bold\">-0.00205893</span>,  <span style=\"color: #008080; text-decoration-color: #008080; font-weight: bold\">0.0936458</span> , <span style=\"color: #008080; text-decoration-color: #008080; font-weight: bold\">-0.00149879</span><span style=\"font-weight: bold\">]</span>,\n",
       "       <span style=\"font-weight: bold\">[</span><span style=\"color: #008080; text-decoration-color: #008080; font-weight: bold\">-0.00091215</span>,  <span style=\"color: #008080; text-decoration-color: #008080; font-weight: bold\">0.04750844</span>, <span style=\"color: #008080; text-decoration-color: #008080; font-weight: bold\">-0.08006975</span><span style=\"font-weight: bold\">]</span>,\n",
       "       <span style=\"font-weight: bold\">[</span> <span style=\"color: #008080; text-decoration-color: #008080; font-weight: bold\">0.00830302</span>,  <span style=\"color: #008080; text-decoration-color: #008080; font-weight: bold\">0.04622352</span>,  <span style=\"color: #008080; text-decoration-color: #008080; font-weight: bold\">0.08001579</span><span style=\"font-weight: bold\">]</span>,\n",
       "       <span style=\"font-weight: bold\">[</span> <span style=\"color: #008080; text-decoration-color: #008080; font-weight: bold\">0.00329108</span>, <span style=\"color: #008080; text-decoration-color: #008080; font-weight: bold\">-0.09338976</span>,  <span style=\"color: #008080; text-decoration-color: #008080; font-weight: bold\">0.00219533</span><span style=\"font-weight: bold\">]</span>,\n",
       "       <span style=\"font-weight: bold\">[</span> <span style=\"color: #008080; text-decoration-color: #008080; font-weight: bold\">0.0023378</span> ,  <span style=\"color: #008080; text-decoration-color: #008080; font-weight: bold\">0.000177</span>  , <span style=\"color: #008080; text-decoration-color: #008080; font-weight: bold\">-0.00525451</span><span style=\"font-weight: bold\">]</span>,\n",
       "       <span style=\"font-weight: bold\">[</span><span style=\"color: #008080; text-decoration-color: #008080; font-weight: bold\">-0.00430396</span>, <span style=\"color: #008080; text-decoration-color: #008080; font-weight: bold\">-0.00571929</span>, <span style=\"color: #008080; text-decoration-color: #008080; font-weight: bold\">-0.00154125</span><span style=\"font-weight: bold\">]]</span>, <span style=\"color: #808000; text-decoration-color: #808000\">dtype</span>=<span style=\"color: #800080; text-decoration-color: #800080\">float32</span><span style=\"font-weight: bold\">)</span>,\n",
       "                <span style=\"color: #808000; text-decoration-color: #808000\">stresses</span>=<span style=\"color: #800080; text-decoration-color: #800080; font-weight: bold\">array</span><span style=\"font-weight: bold\">([</span> <span style=\"color: #008080; text-decoration-color: #008080; font-weight: bold\">1.61899719e-04</span>,  <span style=\"color: #008080; text-decoration-color: #008080; font-weight: bold\">1.42609686e-04</span>,  <span style=\"color: #008080; text-decoration-color: #008080; font-weight: bold\">1.39268930e-04</span>, <span style=\"color: #008080; text-decoration-color: #008080; font-weight: bold\">-1.74334502e-06</span>,\n",
       "       <span style=\"color: #008080; text-decoration-color: #008080; font-weight: bold\">-1.70021895e-06</span>, <span style=\"color: #008080; text-decoration-color: #008080; font-weight: bold\">-3.24729899e-06</span><span style=\"font-weight: bold\">])</span>,\n",
       "                <span style=\"color: #808000; text-decoration-color: #808000\">atom_positions</span>=<span style=\"color: #800080; text-decoration-color: #800080; font-weight: bold\">array</span><span style=\"font-weight: bold\">([[</span><span style=\"color: #008080; text-decoration-color: #008080; font-weight: bold\">1.5973975</span> , <span style=\"color: #008080; text-decoration-color: #008080; font-weight: bold\">5.69384366</span>, <span style=\"color: #008080; text-decoration-color: #008080; font-weight: bold\">5.97133267</span><span style=\"font-weight: bold\">]</span>,\n",
       "       <span style=\"font-weight: bold\">[</span><span style=\"color: #008080; text-decoration-color: #008080; font-weight: bold\">1.59708985</span>, <span style=\"color: #008080; text-decoration-color: #008080; font-weight: bold\">5.69402837</span>, <span style=\"color: #008080; text-decoration-color: #008080; font-weight: bold\">9.86180904</span><span style=\"font-weight: bold\">]</span>,\n",
       "       <span style=\"font-weight: bold\">[</span><span style=\"color: #008080; text-decoration-color: #008080; font-weight: bold\">1.59744429</span>, <span style=\"color: #008080; text-decoration-color: #008080; font-weight: bold\">2.32697356</span>, <span style=\"color: #008080; text-decoration-color: #008080; font-weight: bold\">7.9164929</span> <span style=\"font-weight: bold\">]</span>,\n",
       "       <span style=\"font-weight: bold\">[</span><span style=\"color: #008080; text-decoration-color: #008080; font-weight: bold\">4.79474768</span>, <span style=\"color: #008080; text-decoration-color: #008080; font-weight: bold\">1.16208222</span>, <span style=\"color: #008080; text-decoration-color: #008080; font-weight: bold\">5.90352417</span><span style=\"font-weight: bold\">]</span>,\n",
       "       <span style=\"font-weight: bold\">[</span><span style=\"color: #008080; text-decoration-color: #008080; font-weight: bold\">4.79508804</span>, <span style=\"color: #008080; text-decoration-color: #008080; font-weight: bold\">1.1620735</span> , <span style=\"color: #008080; text-decoration-color: #008080; font-weight: bold\">2.01327153</span><span style=\"font-weight: bold\">]</span>,\n",
       "       <span style=\"font-weight: bold\">[</span><span style=\"color: #008080; text-decoration-color: #008080; font-weight: bold\">4.79475605</span>, <span style=\"color: #008080; text-decoration-color: #008080; font-weight: bold\">4.52944642</span>, <span style=\"color: #008080; text-decoration-color: #008080; font-weight: bold\">3.95810486</span><span style=\"font-weight: bold\">]</span>,\n",
       "       <span style=\"font-weight: bold\">[</span><span style=\"color: #008080; text-decoration-color: #008080; font-weight: bold\">4.79452339</span>, <span style=\"color: #008080; text-decoration-color: #008080; font-weight: bold\">4.57130208</span>, <span style=\"color: #008080; text-decoration-color: #008080; font-weight: bold\">7.9156647</span> <span style=\"font-weight: bold\">]</span>,\n",
       "       <span style=\"font-weight: bold\">[</span><span style=\"color: #008080; text-decoration-color: #008080; font-weight: bold\">1.59792754</span>, <span style=\"color: #008080; text-decoration-color: #008080; font-weight: bold\">2.28344929</span>, <span style=\"color: #008080; text-decoration-color: #008080; font-weight: bold\">3.95752292</span><span style=\"font-weight: bold\">]])</span>,\n",
       "                <span style=\"color: #808000; text-decoration-color: #808000\">cell</span>=<span style=\"color: #800080; text-decoration-color: #800080; font-weight: bold\">array</span><span style=\"font-weight: bold\">([[</span> <span style=\"color: #008080; text-decoration-color: #008080; font-weight: bold\">6.39217710e+00</span>,  <span style=\"color: #008080; text-decoration-color: #008080; font-weight: bold\">0.00000000e+00</span>,  <span style=\"color: #008080; text-decoration-color: #008080; font-weight: bold\">3.91407943e-16</span><span style=\"font-weight: bold\">]</span>,\n",
       "       <span style=\"font-weight: bold\">[</span><span style=\"color: #008080; text-decoration-color: #008080; font-weight: bold\">-4.19786458e-16</span>,  <span style=\"color: #008080; text-decoration-color: #008080; font-weight: bold\">6.85563278e+00</span>,  <span style=\"color: #008080; text-decoration-color: #008080; font-weight: bold\">3.95810103e+00</span><span style=\"font-weight: bold\">]</span>,\n",
       "       <span style=\"font-weight: bold\">[</span> <span style=\"color: #008080; text-decoration-color: #008080; font-weight: bold\">0.00000000e+00</span>,  <span style=\"color: #008080; text-decoration-color: #008080; font-weight: bold\">0.00000000e+00</span>,  <span style=\"color: #008080; text-decoration-color: #008080; font-weight: bold\">7.91620302e+00</span><span style=\"font-weight: bold\">]])</span>\n",
       "            <span style=\"font-weight: bold\">)</span>,\n",
       "            <span style=\"color: #800080; text-decoration-color: #800080; font-weight: bold\">RelaxationTrajectoryFrame</span><span style=\"font-weight: bold\">(</span>\n",
       "                <span style=\"color: #808000; text-decoration-color: #808000\">energy</span>=<span style=\"color: #008080; text-decoration-color: #008080; font-weight: bold\">-5.350079536437988</span>,\n",
       "                <span style=\"color: #808000; text-decoration-color: #808000\">forces</span>=<span style=\"color: #800080; text-decoration-color: #800080; font-weight: bold\">array</span><span style=\"font-weight: bold\">([[</span><span style=\"color: #008080; text-decoration-color: #008080; font-weight: bold\">-4.5339633e-03</span>, <span style=\"color: #008080; text-decoration-color: #008080; font-weight: bold\">-3.5994925e-02</span>,  <span style=\"color: #008080; text-decoration-color: #008080; font-weight: bold\">6.4077049e-02</span><span style=\"font-weight: bold\">]</span>,\n",
       "       <span style=\"font-weight: bold\">[</span> <span style=\"color: #008080; text-decoration-color: #008080; font-weight: bold\">1.3024110e-03</span>, <span style=\"color: #008080; text-decoration-color: #008080; font-weight: bold\">-2.9917493e-02</span>, <span style=\"color: #008080; text-decoration-color: #008080; font-weight: bold\">-6.0599595e-02</span><span style=\"font-weight: bold\">]</span>,\n",
       "       <span style=\"font-weight: bold\">[</span><span style=\"color: #008080; text-decoration-color: #008080; font-weight: bold\">-1.5537356e-03</span>,  <span style=\"color: #008080; text-decoration-color: #008080; font-weight: bold\">7.6465517e-02</span>, <span style=\"color: #008080; text-decoration-color: #008080; font-weight: bold\">-6.8748370e-03</span><span style=\"font-weight: bold\">]</span>,\n",
       "       <span style=\"font-weight: bold\">[</span> <span style=\"color: #008080; text-decoration-color: #008080; font-weight: bold\">5.4353327e-03</span>,  <span style=\"color: #008080; text-decoration-color: #008080; font-weight: bold\">3.9140336e-02</span>, <span style=\"color: #008080; text-decoration-color: #008080; font-weight: bold\">-6.1961919e-02</span><span style=\"font-weight: bold\">]</span>,\n",
       "       <span style=\"font-weight: bold\">[</span><span style=\"color: #008080; text-decoration-color: #008080; font-weight: bold\">-7.2377175e-04</span>,  <span style=\"color: #008080; text-decoration-color: #008080; font-weight: bold\">3.3564784e-02</span>,  <span style=\"color: #008080; text-decoration-color: #008080; font-weight: bold\">6.2495105e-02</span><span style=\"font-weight: bold\">]</span>,\n",
       "       <span style=\"font-weight: bold\">[</span> <span style=\"color: #008080; text-decoration-color: #008080; font-weight: bold\">1.8133596e-03</span>, <span style=\"color: #008080; text-decoration-color: #008080; font-weight: bold\">-7.5866126e-02</span>,  <span style=\"color: #008080; text-decoration-color: #008080; font-weight: bold\">8.1407065e-03</span><span style=\"font-weight: bold\">]</span>,\n",
       "       <span style=\"font-weight: bold\">[</span> <span style=\"color: #008080; text-decoration-color: #008080; font-weight: bold\">1.7899686e-03</span>,  <span style=\"color: #008080; text-decoration-color: #008080; font-weight: bold\">5.7811936e-05</span>, <span style=\"color: #008080; text-decoration-color: #008080; font-weight: bold\">-3.4962518e-03</span><span style=\"font-weight: bold\">]</span>,\n",
       "       <span style=\"font-weight: bold\">[</span><span style=\"color: #008080; text-decoration-color: #008080; font-weight: bold\">-2.4669957e-03</span>, <span style=\"color: #008080; text-decoration-color: #008080; font-weight: bold\">-5.5981050e-03</span>, <span style=\"color: #008080; text-decoration-color: #008080; font-weight: bold\">-1.4370690e-03</span><span style=\"font-weight: bold\">]]</span>, <span style=\"color: #808000; text-decoration-color: #808000\">dtype</span>=<span style=\"color: #800080; text-decoration-color: #800080\">float32</span><span style=\"font-weight: bold\">)</span>,\n",
       "                <span style=\"color: #808000; text-decoration-color: #808000\">stresses</span>=<span style=\"color: #800080; text-decoration-color: #800080; font-weight: bold\">array</span><span style=\"font-weight: bold\">([</span> <span style=\"color: #008080; text-decoration-color: #008080; font-weight: bold\">1.63717428e-04</span>,  <span style=\"color: #008080; text-decoration-color: #008080; font-weight: bold\">1.40392251e-04</span>,  <span style=\"color: #008080; text-decoration-color: #008080; font-weight: bold\">1.36617004e-04</span>, <span style=\"color: #008080; text-decoration-color: #008080; font-weight: bold\">-9.13571398e-07</span>,\n",
       "       <span style=\"color: #008080; text-decoration-color: #008080; font-weight: bold\">-1.96161250e-06</span>, <span style=\"color: #008080; text-decoration-color: #008080; font-weight: bold\">-3.29448358e-06</span><span style=\"font-weight: bold\">])</span>,\n",
       "                <span style=\"color: #808000; text-decoration-color: #808000\">atom_positions</span>=<span style=\"color: #800080; text-decoration-color: #800080; font-weight: bold\">array</span><span style=\"font-weight: bold\">([[</span><span style=\"color: #008080; text-decoration-color: #008080; font-weight: bold\">1.59735636</span>, <span style=\"color: #008080; text-decoration-color: #008080; font-weight: bold\">5.69018612</span>, <span style=\"color: #008080; text-decoration-color: #008080; font-weight: bold\">5.978087</span>  <span style=\"font-weight: bold\">]</span>,\n",
       "       <span style=\"font-weight: bold\">[</span><span style=\"color: #008080; text-decoration-color: #008080; font-weight: bold\">1.5966707</span> , <span style=\"color: #008080; text-decoration-color: #008080; font-weight: bold\">5.69042575</span>, <span style=\"color: #008080; text-decoration-color: #008080; font-weight: bold\">9.85541972</span><span style=\"font-weight: bold\">]</span>,\n",
       "       <span style=\"font-weight: bold\">[</span><span style=\"color: #008080; text-decoration-color: #008080; font-weight: bold\">1.59729124</span>, <span style=\"color: #008080; text-decoration-color: #008080; font-weight: bold\">2.33519854</span>, <span style=\"color: #008080; text-decoration-color: #008080; font-weight: bold\">7.91660006</span><span style=\"font-weight: bold\">]</span>,\n",
       "       <span style=\"font-weight: bold\">[</span><span style=\"color: #008080; text-decoration-color: #008080; font-weight: bold\">4.7947834</span> , <span style=\"color: #008080; text-decoration-color: #008080; font-weight: bold\">1.16588226</span>, <span style=\"color: #008080; text-decoration-color: #008080; font-weight: bold\">5.89696999</span><span style=\"font-weight: bold\">]</span>,\n",
       "       <span style=\"font-weight: bold\">[</span><span style=\"color: #008080; text-decoration-color: #008080; font-weight: bold\">4.79551403</span>, <span style=\"color: #008080; text-decoration-color: #008080; font-weight: bold\">1.16592197</span>, <span style=\"color: #008080; text-decoration-color: #008080; font-weight: bold\">2.01995142</span><span style=\"font-weight: bold\">]</span>,\n",
       "       <span style=\"font-weight: bold\">[</span><span style=\"color: #008080; text-decoration-color: #008080; font-weight: bold\">4.79496638</span>, <span style=\"color: #008080; text-decoration-color: #008080; font-weight: bold\">4.52142485</span>, <span style=\"color: #008080; text-decoration-color: #008080; font-weight: bold\">3.95804575</span><span style=\"font-weight: bold\">]</span>,\n",
       "       <span style=\"font-weight: bold\">[</span><span style=\"color: #008080; text-decoration-color: #008080; font-weight: bold\">4.79467232</span>, <span style=\"color: #008080; text-decoration-color: #008080; font-weight: bold\">4.5715613</span> , <span style=\"color: #008080; text-decoration-color: #008080; font-weight: bold\">7.91538696</span><span style=\"font-weight: bold\">]</span>,\n",
       "       <span style=\"font-weight: bold\">[</span><span style=\"color: #008080; text-decoration-color: #008080; font-weight: bold\">1.59789508</span>, <span style=\"color: #008080; text-decoration-color: #008080; font-weight: bold\">2.28282962</span>, <span style=\"color: #008080; text-decoration-color: #008080; font-weight: bold\">3.95737788</span><span style=\"font-weight: bold\">]])</span>,\n",
       "                <span style=\"color: #808000; text-decoration-color: #808000\">cell</span>=<span style=\"color: #800080; text-decoration-color: #800080; font-weight: bold\">array</span><span style=\"font-weight: bold\">([[</span> <span style=\"color: #008080; text-decoration-color: #008080; font-weight: bold\">6.39217710e+00</span>,  <span style=\"color: #008080; text-decoration-color: #008080; font-weight: bold\">0.00000000e+00</span>,  <span style=\"color: #008080; text-decoration-color: #008080; font-weight: bold\">3.91407943e-16</span><span style=\"font-weight: bold\">]</span>,\n",
       "       <span style=\"font-weight: bold\">[</span><span style=\"color: #008080; text-decoration-color: #008080; font-weight: bold\">-4.19786458e-16</span>,  <span style=\"color: #008080; text-decoration-color: #008080; font-weight: bold\">6.85563278e+00</span>,  <span style=\"color: #008080; text-decoration-color: #008080; font-weight: bold\">3.95810103e+00</span><span style=\"font-weight: bold\">]</span>,\n",
       "       <span style=\"font-weight: bold\">[</span> <span style=\"color: #008080; text-decoration-color: #008080; font-weight: bold\">0.00000000e+00</span>,  <span style=\"color: #008080; text-decoration-color: #008080; font-weight: bold\">0.00000000e+00</span>,  <span style=\"color: #008080; text-decoration-color: #008080; font-weight: bold\">7.91620302e+00</span><span style=\"font-weight: bold\">]])</span>\n",
       "            <span style=\"font-weight: bold\">)</span>,\n",
       "            <span style=\"color: #800080; text-decoration-color: #800080; font-weight: bold\">RelaxationTrajectoryFrame</span><span style=\"font-weight: bold\">(</span>\n",
       "                <span style=\"color: #808000; text-decoration-color: #808000\">energy</span>=<span style=\"color: #008080; text-decoration-color: #008080; font-weight: bold\">-5.358945846557617</span>,\n",
       "                <span style=\"color: #808000; text-decoration-color: #808000\">forces</span>=<span style=\"color: #800080; text-decoration-color: #800080; font-weight: bold\">array</span><span style=\"font-weight: bold\">([[</span><span style=\"color: #008080; text-decoration-color: #008080; font-weight: bold\">-0.00395736</span>, <span style=\"color: #008080; text-decoration-color: #008080; font-weight: bold\">-0.0264507</span> ,  <span style=\"color: #008080; text-decoration-color: #008080; font-weight: bold\">0.04788474</span><span style=\"font-weight: bold\">]</span>,\n",
       "       <span style=\"font-weight: bold\">[</span> <span style=\"color: #008080; text-decoration-color: #008080; font-weight: bold\">0.00135883</span>, <span style=\"color: #008080; text-decoration-color: #008080; font-weight: bold\">-0.02110184</span>, <span style=\"color: #008080; text-decoration-color: #008080; font-weight: bold\">-0.0442165</span> <span style=\"font-weight: bold\">]</span>,\n",
       "       <span style=\"font-weight: bold\">[</span><span style=\"color: #008080; text-decoration-color: #008080; font-weight: bold\">-0.00097958</span>,  <span style=\"color: #008080; text-decoration-color: #008080; font-weight: bold\">0.05665862</span>, <span style=\"color: #008080; text-decoration-color: #008080; font-weight: bold\">-0.00641331</span><span style=\"font-weight: bold\">]</span>,\n",
       "       <span style=\"font-weight: bold\">[</span> <span style=\"color: #008080; text-decoration-color: #008080; font-weight: bold\">0.00493497</span>,  <span style=\"color: #008080; text-decoration-color: #008080; font-weight: bold\">0.02932939</span>, <span style=\"color: #008080; text-decoration-color: #008080; font-weight: bold\">-0.04536406</span><span style=\"font-weight: bold\">]</span>,\n",
       "       <span style=\"font-weight: bold\">[</span><span style=\"color: #008080; text-decoration-color: #008080; font-weight: bold\">-0.00079696</span>,  <span style=\"color: #008080; text-decoration-color: #008080; font-weight: bold\">0.02390195</span>,  <span style=\"color: #008080; text-decoration-color: #008080; font-weight: bold\">0.04546329</span><span style=\"font-weight: bold\">]</span>,\n",
       "       <span style=\"font-weight: bold\">[</span> <span style=\"color: #008080; text-decoration-color: #008080; font-weight: bold\">0.00130409</span>, <span style=\"color: #008080; text-decoration-color: #008080; font-weight: bold\">-0.05617945</span>,  <span style=\"color: #008080; text-decoration-color: #008080; font-weight: bold\">0.00788735</span><span style=\"font-weight: bold\">]</span>,\n",
       "       <span style=\"font-weight: bold\">[</span> <span style=\"color: #008080; text-decoration-color: #008080; font-weight: bold\">0.00156742</span>,  <span style=\"color: #008080; text-decoration-color: #008080; font-weight: bold\">0.00039814</span>, <span style=\"color: #008080; text-decoration-color: #008080; font-weight: bold\">-0.00307346</span><span style=\"font-weight: bold\">]</span>,\n",
       "       <span style=\"font-weight: bold\">[</span><span style=\"color: #008080; text-decoration-color: #008080; font-weight: bold\">-0.00213406</span>, <span style=\"color: #008080; text-decoration-color: #008080; font-weight: bold\">-0.00499097</span>, <span style=\"color: #008080; text-decoration-color: #008080; font-weight: bold\">-0.00111399</span><span style=\"font-weight: bold\">]]</span>, <span style=\"color: #808000; text-decoration-color: #808000\">dtype</span>=<span style=\"color: #800080; text-decoration-color: #800080\">float32</span><span style=\"font-weight: bold\">)</span>,\n",
       "                <span style=\"color: #808000; text-decoration-color: #808000\">stresses</span>=<span style=\"color: #800080; text-decoration-color: #800080; font-weight: bold\">array</span><span style=\"font-weight: bold\">([</span> <span style=\"color: #008080; text-decoration-color: #008080; font-weight: bold\">1.63485165e-04</span>,  <span style=\"color: #008080; text-decoration-color: #008080; font-weight: bold\">1.38045376e-04</span>,  <span style=\"color: #008080; text-decoration-color: #008080; font-weight: bold\">1.34509784e-04</span>, <span style=\"color: #008080; text-decoration-color: #008080; font-weight: bold\">-8.59728345e-07</span>,\n",
       "       <span style=\"color: #008080; text-decoration-color: #008080; font-weight: bold\">-1.90242645e-06</span>, <span style=\"color: #008080; text-decoration-color: #008080; font-weight: bold\">-3.26285976e-06</span><span style=\"font-weight: bold\">])</span>,\n",
       "                <span style=\"color: #808000; text-decoration-color: #808000\">atom_positions</span>=<span style=\"color: #800080; text-decoration-color: #800080; font-weight: bold\">array</span><span style=\"font-weight: bold\">([[</span><span style=\"color: #008080; text-decoration-color: #008080; font-weight: bold\">1.59722588</span>, <span style=\"color: #008080; text-decoration-color: #008080; font-weight: bold\">5.6861524</span> , <span style=\"color: #008080; text-decoration-color: #008080; font-weight: bold\">5.98548666</span><span style=\"font-weight: bold\">]</span>,\n",
       "       <span style=\"font-weight: bold\">[</span><span style=\"color: #008080; text-decoration-color: #008080; font-weight: bold\">1.59632032</span>, <span style=\"color: #008080; text-decoration-color: #008080; font-weight: bold\">5.68656672</span>, <span style=\"color: #008080; text-decoration-color: #008080; font-weight: bold\">9.84842025</span><span style=\"font-weight: bold\">]</span>,\n",
       "       <span style=\"font-weight: bold\">[</span><span style=\"color: #008080; text-decoration-color: #008080; font-weight: bold\">1.59712147</span>, <span style=\"color: #008080; text-decoration-color: #008080; font-weight: bold\">2.34417714</span>, <span style=\"color: #008080; text-decoration-color: #008080; font-weight: bold\">7.91655481</span><span style=\"font-weight: bold\">]</span>,\n",
       "       <span style=\"font-weight: bold\">[</span><span style=\"color: #008080; text-decoration-color: #008080; font-weight: bold\">4.79492758</span>, <span style=\"color: #008080; text-decoration-color: #008080; font-weight: bold\">1.17010905</span>, <span style=\"color: #008080; text-decoration-color: #008080; font-weight: bold\">5.88979405</span><span style=\"font-weight: bold\">]</span>,\n",
       "       <span style=\"font-weight: bold\">[</span><span style=\"color: #008080; text-decoration-color: #008080; font-weight: bold\">4.79588249</span>, <span style=\"color: #008080; text-decoration-color: #008080; font-weight: bold\">1.17007744</span>, <span style=\"color: #008080; text-decoration-color: #008080; font-weight: bold\">2.02725147</span><span style=\"font-weight: bold\">]</span>,\n",
       "       <span style=\"font-weight: bold\">[</span><span style=\"color: #008080; text-decoration-color: #008080; font-weight: bold\">4.79519306</span>, <span style=\"color: #008080; text-decoration-color: #008080; font-weight: bold\">4.51264167</span>, <span style=\"color: #008080; text-decoration-color: #008080; font-weight: bold\">3.95816035</span><span style=\"font-weight: bold\">]</span>,\n",
       "       <span style=\"font-weight: bold\">[</span><span style=\"color: #008080; text-decoration-color: #008080; font-weight: bold\">4.79484325</span>, <span style=\"color: #008080; text-decoration-color: #008080; font-weight: bold\">4.57179579</span>, <span style=\"color: #008080; text-decoration-color: #008080; font-weight: bold\">7.91506493</span><span style=\"font-weight: bold\">]</span>,\n",
       "       <span style=\"font-weight: bold\">[</span><span style=\"color: #008080; text-decoration-color: #008080; font-weight: bold\">1.59781501</span>, <span style=\"color: #008080; text-decoration-color: #008080; font-weight: bold\">2.28215653</span>, <span style=\"color: #008080; text-decoration-color: #008080; font-weight: bold\">3.95721772</span><span style=\"font-weight: bold\">]])</span>,\n",
       "                <span style=\"color: #808000; text-decoration-color: #808000\">cell</span>=<span style=\"color: #800080; text-decoration-color: #800080; font-weight: bold\">array</span><span style=\"font-weight: bold\">([[</span> <span style=\"color: #008080; text-decoration-color: #008080; font-weight: bold\">6.39217710e+00</span>,  <span style=\"color: #008080; text-decoration-color: #008080; font-weight: bold\">0.00000000e+00</span>,  <span style=\"color: #008080; text-decoration-color: #008080; font-weight: bold\">3.91407943e-16</span><span style=\"font-weight: bold\">]</span>,\n",
       "       <span style=\"font-weight: bold\">[</span><span style=\"color: #008080; text-decoration-color: #008080; font-weight: bold\">-4.19786458e-16</span>,  <span style=\"color: #008080; text-decoration-color: #008080; font-weight: bold\">6.85563278e+00</span>,  <span style=\"color: #008080; text-decoration-color: #008080; font-weight: bold\">3.95810103e+00</span><span style=\"font-weight: bold\">]</span>,\n",
       "       <span style=\"font-weight: bold\">[</span> <span style=\"color: #008080; text-decoration-color: #008080; font-weight: bold\">0.00000000e+00</span>,  <span style=\"color: #008080; text-decoration-color: #008080; font-weight: bold\">0.00000000e+00</span>,  <span style=\"color: #008080; text-decoration-color: #008080; font-weight: bold\">7.91620302e+00</span><span style=\"font-weight: bold\">]])</span>\n",
       "            <span style=\"font-weight: bold\">)</span>,\n",
       "            <span style=\"color: #800080; text-decoration-color: #800080; font-weight: bold\">RelaxationTrajectoryFrame</span><span style=\"font-weight: bold\">(</span>\n",
       "                <span style=\"color: #808000; text-decoration-color: #808000\">energy</span>=<span style=\"color: #008080; text-decoration-color: #008080; font-weight: bold\">-5.3689398765563965</span>,\n",
       "                <span style=\"color: #808000; text-decoration-color: #808000\">forces</span>=<span style=\"color: #800080; text-decoration-color: #800080; font-weight: bold\">array</span><span style=\"font-weight: bold\">([[</span><span style=\"color: #008080; text-decoration-color: #008080; font-weight: bold\">-0.00552282</span>, <span style=\"color: #008080; text-decoration-color: #008080; font-weight: bold\">-0.01390654</span>,  <span style=\"color: #008080; text-decoration-color: #008080; font-weight: bold\">0.02802956</span><span style=\"font-weight: bold\">]</span>,\n",
       "       <span style=\"font-weight: bold\">[</span> <span style=\"color: #008080; text-decoration-color: #008080; font-weight: bold\">0.00259443</span>, <span style=\"color: #008080; text-decoration-color: #008080; font-weight: bold\">-0.01437235</span>, <span style=\"color: #008080; text-decoration-color: #008080; font-weight: bold\">-0.03003361</span><span style=\"font-weight: bold\">]</span>,\n",
       "       <span style=\"font-weight: bold\">[</span><span style=\"color: #008080; text-decoration-color: #008080; font-weight: bold\">-0.00025332</span>,  <span style=\"color: #008080; text-decoration-color: #008080; font-weight: bold\">0.03421012</span>,  <span style=\"color: #008080; text-decoration-color: #008080; font-weight: bold\">0.00150421</span><span style=\"font-weight: bold\">]</span>,\n",
       "       <span style=\"font-weight: bold\">[</span> <span style=\"color: #008080; text-decoration-color: #008080; font-weight: bold\">0.00610946</span>,  <span style=\"color: #008080; text-decoration-color: #008080; font-weight: bold\">0.01724229</span>, <span style=\"color: #008080; text-decoration-color: #008080; font-weight: bold\">-0.02540286</span><span style=\"font-weight: bold\">]</span>,\n",
       "       <span style=\"font-weight: bold\">[</span><span style=\"color: #008080; text-decoration-color: #008080; font-weight: bold\">-0.00216627</span>,  <span style=\"color: #008080; text-decoration-color: #008080; font-weight: bold\">0.01653441</span>,  <span style=\"color: #008080; text-decoration-color: #008080; font-weight: bold\">0.03086051</span><span style=\"font-weight: bold\">]</span>,\n",
       "       <span style=\"font-weight: bold\">[</span> <span style=\"color: #008080; text-decoration-color: #008080; font-weight: bold\">0.00031441</span>, <span style=\"color: #008080; text-decoration-color: #008080; font-weight: bold\">-0.03401289</span>,  <span style=\"color: #008080; text-decoration-color: #008080; font-weight: bold\">0.00124098</span><span style=\"font-weight: bold\">]</span>,\n",
       "       <span style=\"font-weight: bold\">[</span> <span style=\"color: #008080; text-decoration-color: #008080; font-weight: bold\">0.00150884</span>,  <span style=\"color: #008080; text-decoration-color: #008080; font-weight: bold\">0.00059087</span>, <span style=\"color: #008080; text-decoration-color: #008080; font-weight: bold\">-0.00160554</span><span style=\"font-weight: bold\">]</span>,\n",
       "       <span style=\"font-weight: bold\">[</span><span style=\"color: #008080; text-decoration-color: #008080; font-weight: bold\">-0.00205415</span>, <span style=\"color: #008080; text-decoration-color: #008080; font-weight: bold\">-0.00451505</span>, <span style=\"color: #008080; text-decoration-color: #008080; font-weight: bold\">-0.00119859</span><span style=\"font-weight: bold\">]]</span>, <span style=\"color: #808000; text-decoration-color: #808000\">dtype</span>=<span style=\"color: #800080; text-decoration-color: #800080\">float32</span><span style=\"font-weight: bold\">)</span>,\n",
       "                <span style=\"color: #808000; text-decoration-color: #808000\">stresses</span>=<span style=\"color: #800080; text-decoration-color: #800080; font-weight: bold\">array</span><span style=\"font-weight: bold\">([</span> <span style=\"color: #008080; text-decoration-color: #008080; font-weight: bold\">1.62693876e-04</span>,  <span style=\"color: #008080; text-decoration-color: #008080; font-weight: bold\">1.34791830e-04</span>,  <span style=\"color: #008080; text-decoration-color: #008080; font-weight: bold\">1.31715802e-04</span>,  <span style=\"color: #008080; text-decoration-color: #008080; font-weight: bold\">1.38002770e-06</span>,\n",
       "        <span style=\"color: #008080; text-decoration-color: #008080; font-weight: bold\">1.99009173e-06</span>, <span style=\"color: #008080; text-decoration-color: #008080; font-weight: bold\">-3.13665396e-06</span><span style=\"font-weight: bold\">])</span>,\n",
       "                <span style=\"color: #808000; text-decoration-color: #808000\">atom_positions</span>=<span style=\"color: #800080; text-decoration-color: #800080; font-weight: bold\">array</span><span style=\"font-weight: bold\">([[</span><span style=\"color: #008080; text-decoration-color: #008080; font-weight: bold\">1.59698032</span>, <span style=\"color: #008080; text-decoration-color: #008080; font-weight: bold\">5.68138104</span>, <span style=\"color: #008080; text-decoration-color: #008080; font-weight: bold\">5.99422073</span><span style=\"font-weight: bold\">]</span>,\n",
       "       <span style=\"font-weight: bold\">[</span><span style=\"color: #008080; text-decoration-color: #008080; font-weight: bold\">1.59601341</span>, <span style=\"color: #008080; text-decoration-color: #008080; font-weight: bold\">5.68212563</span>, <span style=\"color: #008080; text-decoration-color: #008080; font-weight: bold\">9.84019026</span><span style=\"font-weight: bold\">]</span>,\n",
       "       <span style=\"font-weight: bold\">[</span><span style=\"color: #008080; text-decoration-color: #008080; font-weight: bold\">1.59692459</span>, <span style=\"color: #008080; text-decoration-color: #008080; font-weight: bold\">2.35473242</span>, <span style=\"color: #008080; text-decoration-color: #008080; font-weight: bold\">7.91632138</span><span style=\"font-weight: bold\">]</span>,\n",
       "       <span style=\"font-weight: bold\">[</span><span style=\"color: #008080; text-decoration-color: #008080; font-weight: bold\">4.79521547</span>, <span style=\"color: #008080; text-decoration-color: #008080; font-weight: bold\">1.17515623</span>, <span style=\"color: #008080; text-decoration-color: #008080; font-weight: bold\">5.88135561</span><span style=\"font-weight: bold\">]</span>,\n",
       "       <span style=\"font-weight: bold\">[</span><span style=\"color: #008080; text-decoration-color: #008080; font-weight: bold\">4.79622384</span>, <span style=\"color: #008080; text-decoration-color: #008080; font-weight: bold\">1.17489436</span>, <span style=\"color: #008080; text-decoration-color: #008080; font-weight: bold\">2.03581572</span><span style=\"font-weight: bold\">]</span>,\n",
       "       <span style=\"font-weight: bold\">[</span><span style=\"color: #008080; text-decoration-color: #008080; font-weight: bold\">4.79545583</span>, <span style=\"color: #008080; text-decoration-color: #008080; font-weight: bold\">4.50229395</span>, <span style=\"color: #008080; text-decoration-color: #008080; font-weight: bold\">3.95850578</span><span style=\"font-weight: bold\">]</span>,\n",
       "       <span style=\"font-weight: bold\">[</span><span style=\"color: #008080; text-decoration-color: #008080; font-weight: bold\">4.79505857</span>, <span style=\"color: #008080; text-decoration-color: #008080; font-weight: bold\">4.57203965</span>, <span style=\"color: #008080; text-decoration-color: #008080; font-weight: bold\">7.91465572</span><span style=\"font-weight: bold\">]</span>,\n",
       "       <span style=\"font-weight: bold\">[</span><span style=\"color: #008080; text-decoration-color: #008080; font-weight: bold\">1.59767298</span>, <span style=\"color: #008080; text-decoration-color: #008080; font-weight: bold\">2.28134338</span>, <span style=\"color: #008080; text-decoration-color: #008080; font-weight: bold\">3.9570264</span> <span style=\"font-weight: bold\">]])</span>,\n",
       "                <span style=\"color: #808000; text-decoration-color: #808000\">cell</span>=<span style=\"color: #800080; text-decoration-color: #800080; font-weight: bold\">array</span><span style=\"font-weight: bold\">([[</span> <span style=\"color: #008080; text-decoration-color: #008080; font-weight: bold\">6.39217710e+00</span>,  <span style=\"color: #008080; text-decoration-color: #008080; font-weight: bold\">0.00000000e+00</span>,  <span style=\"color: #008080; text-decoration-color: #008080; font-weight: bold\">3.91407943e-16</span><span style=\"font-weight: bold\">]</span>,\n",
       "       <span style=\"font-weight: bold\">[</span><span style=\"color: #008080; text-decoration-color: #008080; font-weight: bold\">-4.19786458e-16</span>,  <span style=\"color: #008080; text-decoration-color: #008080; font-weight: bold\">6.85563278e+00</span>,  <span style=\"color: #008080; text-decoration-color: #008080; font-weight: bold\">3.95810103e+00</span><span style=\"font-weight: bold\">]</span>,\n",
       "       <span style=\"font-weight: bold\">[</span> <span style=\"color: #008080; text-decoration-color: #008080; font-weight: bold\">0.00000000e+00</span>,  <span style=\"color: #008080; text-decoration-color: #008080; font-weight: bold\">0.00000000e+00</span>,  <span style=\"color: #008080; text-decoration-color: #008080; font-weight: bold\">7.91620302e+00</span><span style=\"font-weight: bold\">]])</span>\n",
       "            <span style=\"font-weight: bold\">)</span>,\n",
       "            <span style=\"color: #800080; text-decoration-color: #800080; font-weight: bold\">RelaxationTrajectoryFrame</span><span style=\"font-weight: bold\">(</span>\n",
       "                <span style=\"color: #808000; text-decoration-color: #808000\">energy</span>=<span style=\"color: #008080; text-decoration-color: #008080; font-weight: bold\">-5.3689398765563965</span>,\n",
       "                <span style=\"color: #808000; text-decoration-color: #808000\">forces</span>=<span style=\"color: #800080; text-decoration-color: #800080; font-weight: bold\">array</span><span style=\"font-weight: bold\">([[</span><span style=\"color: #008080; text-decoration-color: #008080; font-weight: bold\">-0.00552282</span>, <span style=\"color: #008080; text-decoration-color: #008080; font-weight: bold\">-0.01390654</span>,  <span style=\"color: #008080; text-decoration-color: #008080; font-weight: bold\">0.02802956</span><span style=\"font-weight: bold\">]</span>,\n",
       "       <span style=\"font-weight: bold\">[</span> <span style=\"color: #008080; text-decoration-color: #008080; font-weight: bold\">0.00259443</span>, <span style=\"color: #008080; text-decoration-color: #008080; font-weight: bold\">-0.01437235</span>, <span style=\"color: #008080; text-decoration-color: #008080; font-weight: bold\">-0.03003361</span><span style=\"font-weight: bold\">]</span>,\n",
       "       <span style=\"font-weight: bold\">[</span><span style=\"color: #008080; text-decoration-color: #008080; font-weight: bold\">-0.00025332</span>,  <span style=\"color: #008080; text-decoration-color: #008080; font-weight: bold\">0.03421012</span>,  <span style=\"color: #008080; text-decoration-color: #008080; font-weight: bold\">0.00150421</span><span style=\"font-weight: bold\">]</span>,\n",
       "       <span style=\"font-weight: bold\">[</span> <span style=\"color: #008080; text-decoration-color: #008080; font-weight: bold\">0.00610946</span>,  <span style=\"color: #008080; text-decoration-color: #008080; font-weight: bold\">0.01724229</span>, <span style=\"color: #008080; text-decoration-color: #008080; font-weight: bold\">-0.02540286</span><span style=\"font-weight: bold\">]</span>,\n",
       "       <span style=\"font-weight: bold\">[</span><span style=\"color: #008080; text-decoration-color: #008080; font-weight: bold\">-0.00216627</span>,  <span style=\"color: #008080; text-decoration-color: #008080; font-weight: bold\">0.01653441</span>,  <span style=\"color: #008080; text-decoration-color: #008080; font-weight: bold\">0.03086051</span><span style=\"font-weight: bold\">]</span>,\n",
       "       <span style=\"font-weight: bold\">[</span> <span style=\"color: #008080; text-decoration-color: #008080; font-weight: bold\">0.00031441</span>, <span style=\"color: #008080; text-decoration-color: #008080; font-weight: bold\">-0.03401289</span>,  <span style=\"color: #008080; text-decoration-color: #008080; font-weight: bold\">0.00124098</span><span style=\"font-weight: bold\">]</span>,\n",
       "       <span style=\"font-weight: bold\">[</span> <span style=\"color: #008080; text-decoration-color: #008080; font-weight: bold\">0.00150884</span>,  <span style=\"color: #008080; text-decoration-color: #008080; font-weight: bold\">0.00059087</span>, <span style=\"color: #008080; text-decoration-color: #008080; font-weight: bold\">-0.00160554</span><span style=\"font-weight: bold\">]</span>,\n",
       "       <span style=\"font-weight: bold\">[</span><span style=\"color: #008080; text-decoration-color: #008080; font-weight: bold\">-0.00205415</span>, <span style=\"color: #008080; text-decoration-color: #008080; font-weight: bold\">-0.00451505</span>, <span style=\"color: #008080; text-decoration-color: #008080; font-weight: bold\">-0.00119859</span><span style=\"font-weight: bold\">]]</span>, <span style=\"color: #808000; text-decoration-color: #808000\">dtype</span>=<span style=\"color: #800080; text-decoration-color: #800080\">float32</span><span style=\"font-weight: bold\">)</span>,\n",
       "                <span style=\"color: #808000; text-decoration-color: #808000\">stresses</span>=<span style=\"color: #800080; text-decoration-color: #800080; font-weight: bold\">array</span><span style=\"font-weight: bold\">([</span> <span style=\"color: #008080; text-decoration-color: #008080; font-weight: bold\">1.62693876e-04</span>,  <span style=\"color: #008080; text-decoration-color: #008080; font-weight: bold\">1.34791830e-04</span>,  <span style=\"color: #008080; text-decoration-color: #008080; font-weight: bold\">1.31715802e-04</span>,  <span style=\"color: #008080; text-decoration-color: #008080; font-weight: bold\">1.38002770e-06</span>,\n",
       "        <span style=\"color: #008080; text-decoration-color: #008080; font-weight: bold\">1.99009173e-06</span>, <span style=\"color: #008080; text-decoration-color: #008080; font-weight: bold\">-3.13665396e-06</span><span style=\"font-weight: bold\">])</span>,\n",
       "                <span style=\"color: #808000; text-decoration-color: #808000\">atom_positions</span>=<span style=\"color: #800080; text-decoration-color: #800080; font-weight: bold\">array</span><span style=\"font-weight: bold\">([[</span><span style=\"color: #008080; text-decoration-color: #008080; font-weight: bold\">1.59698032</span>, <span style=\"color: #008080; text-decoration-color: #008080; font-weight: bold\">5.68138104</span>, <span style=\"color: #008080; text-decoration-color: #008080; font-weight: bold\">5.99422073</span><span style=\"font-weight: bold\">]</span>,\n",
       "       <span style=\"font-weight: bold\">[</span><span style=\"color: #008080; text-decoration-color: #008080; font-weight: bold\">1.59601341</span>, <span style=\"color: #008080; text-decoration-color: #008080; font-weight: bold\">5.68212563</span>, <span style=\"color: #008080; text-decoration-color: #008080; font-weight: bold\">9.84019026</span><span style=\"font-weight: bold\">]</span>,\n",
       "       <span style=\"font-weight: bold\">[</span><span style=\"color: #008080; text-decoration-color: #008080; font-weight: bold\">1.59692459</span>, <span style=\"color: #008080; text-decoration-color: #008080; font-weight: bold\">2.35473242</span>, <span style=\"color: #008080; text-decoration-color: #008080; font-weight: bold\">7.91632138</span><span style=\"font-weight: bold\">]</span>,\n",
       "       <span style=\"font-weight: bold\">[</span><span style=\"color: #008080; text-decoration-color: #008080; font-weight: bold\">4.79521547</span>, <span style=\"color: #008080; text-decoration-color: #008080; font-weight: bold\">1.17515623</span>, <span style=\"color: #008080; text-decoration-color: #008080; font-weight: bold\">5.88135561</span><span style=\"font-weight: bold\">]</span>,\n",
       "       <span style=\"font-weight: bold\">[</span><span style=\"color: #008080; text-decoration-color: #008080; font-weight: bold\">4.79622384</span>, <span style=\"color: #008080; text-decoration-color: #008080; font-weight: bold\">1.17489436</span>, <span style=\"color: #008080; text-decoration-color: #008080; font-weight: bold\">2.03581572</span><span style=\"font-weight: bold\">]</span>,\n",
       "       <span style=\"font-weight: bold\">[</span><span style=\"color: #008080; text-decoration-color: #008080; font-weight: bold\">4.79545583</span>, <span style=\"color: #008080; text-decoration-color: #008080; font-weight: bold\">4.50229395</span>, <span style=\"color: #008080; text-decoration-color: #008080; font-weight: bold\">3.95850578</span><span style=\"font-weight: bold\">]</span>,\n",
       "       <span style=\"font-weight: bold\">[</span><span style=\"color: #008080; text-decoration-color: #008080; font-weight: bold\">4.79505857</span>, <span style=\"color: #008080; text-decoration-color: #008080; font-weight: bold\">4.57203965</span>, <span style=\"color: #008080; text-decoration-color: #008080; font-weight: bold\">7.91465572</span><span style=\"font-weight: bold\">]</span>,\n",
       "       <span style=\"font-weight: bold\">[</span><span style=\"color: #008080; text-decoration-color: #008080; font-weight: bold\">1.59767298</span>, <span style=\"color: #008080; text-decoration-color: #008080; font-weight: bold\">2.28134338</span>, <span style=\"color: #008080; text-decoration-color: #008080; font-weight: bold\">3.9570264</span> <span style=\"font-weight: bold\">]])</span>,\n",
       "                <span style=\"color: #808000; text-decoration-color: #808000\">cell</span>=<span style=\"color: #800080; text-decoration-color: #800080; font-weight: bold\">array</span><span style=\"font-weight: bold\">([[</span> <span style=\"color: #008080; text-decoration-color: #008080; font-weight: bold\">6.39217710e+00</span>,  <span style=\"color: #008080; text-decoration-color: #008080; font-weight: bold\">0.00000000e+00</span>,  <span style=\"color: #008080; text-decoration-color: #008080; font-weight: bold\">3.91407943e-16</span><span style=\"font-weight: bold\">]</span>,\n",
       "       <span style=\"font-weight: bold\">[</span><span style=\"color: #008080; text-decoration-color: #008080; font-weight: bold\">-4.19786458e-16</span>,  <span style=\"color: #008080; text-decoration-color: #008080; font-weight: bold\">6.85563278e+00</span>,  <span style=\"color: #008080; text-decoration-color: #008080; font-weight: bold\">3.95810103e+00</span><span style=\"font-weight: bold\">]</span>,\n",
       "       <span style=\"font-weight: bold\">[</span> <span style=\"color: #008080; text-decoration-color: #008080; font-weight: bold\">0.00000000e+00</span>,  <span style=\"color: #008080; text-decoration-color: #008080; font-weight: bold\">0.00000000e+00</span>,  <span style=\"color: #008080; text-decoration-color: #008080; font-weight: bold\">7.91620302e+00</span><span style=\"font-weight: bold\">]])</span>\n",
       "            <span style=\"font-weight: bold\">)</span>\n",
       "        <span style=\"font-weight: bold\">]</span>\n",
       "    <span style=\"font-weight: bold\">)</span>\n",
       "<span style=\"font-weight: bold\">)</span>\n",
       "</pre>\n"
      ],
      "text/plain": [
       "\u001b[1;35mRelaxationOutput\u001b[0m\u001b[1m(\u001b[0m\n",
       "    \u001b[33mtrajectory\u001b[0m=\u001b[1;35mRelaxationTrajectory\u001b[0m\u001b[1m(\u001b[0m\n",
       "        \u001b[33mframes\u001b[0m=\u001b[1m[\u001b[0m\n",
       "            \u001b[1;35mRelaxationTrajectoryFrame\u001b[0m\u001b[1m(\u001b[0m\n",
       "                \u001b[33menergy\u001b[0m=\u001b[1;36m-5.38877534866333\u001b[0m,\n",
       "                \u001b[33mforces\u001b[0m=\u001b[1;35marray\u001b[0m\u001b[1m(\u001b[0m\u001b[1m[\u001b[0m\u001b[1m[\u001b[0m\u001b[1;36m-0.00879241\u001b[0m, \u001b[1;36m-0.07787329\u001b[0m,  \u001b[1;36m0.14613828\u001b[0m\u001b[1m]\u001b[0m,\n",
       "       \u001b[1m[\u001b[0m\u001b[1;36m-0.01296899\u001b[0m, \u001b[1;36m-0.07421171\u001b[0m, \u001b[1;36m-0.13867307\u001b[0m\u001b[1m]\u001b[0m,\n",
       "       \u001b[1m[\u001b[0m\u001b[1;36m-0.00859971\u001b[0m,  \u001b[1;36m0.19691123\u001b[0m, \u001b[1;36m-0.00265526\u001b[0m\u001b[1m]\u001b[0m,\n",
       "       \u001b[1m[\u001b[0m \u001b[1;36m0.00953547\u001b[0m,  \u001b[1;36m0.07859415\u001b[0m, \u001b[1;36m-0.14180662\u001b[0m\u001b[1m]\u001b[0m,\n",
       "       \u001b[1m[\u001b[0m \u001b[1;36m0.01230055\u001b[0m,  \u001b[1;36m0.07375252\u001b[0m,  \u001b[1;36m0.14357321\u001b[0m\u001b[1m]\u001b[0m,\n",
       "       \u001b[1m[\u001b[0m \u001b[1;36m0.00881439\u001b[0m, \u001b[1;36m-0.19769016\u001b[0m,  \u001b[1;36m0.00597066\u001b[0m\u001b[1m]\u001b[0m,\n",
       "       \u001b[1m[\u001b[0m \u001b[1;36m0.00470349\u001b[0m,  \u001b[1;36m0.00597459\u001b[0m, \u001b[1;36m-0.00587778\u001b[0m\u001b[1m]\u001b[0m,\n",
       "       \u001b[1m[\u001b[0m\u001b[1;36m-0.00516877\u001b[0m, \u001b[1;36m-0.00610733\u001b[0m, \u001b[1;36m-0.00372912\u001b[0m\u001b[1m]\u001b[0m\u001b[1m]\u001b[0m, \u001b[33mdtype\u001b[0m=\u001b[35mfloat32\u001b[0m\u001b[1m)\u001b[0m,\n",
       "                \u001b[33mstresses\u001b[0m=\u001b[1;35marray\u001b[0m\u001b[1m(\u001b[0m\u001b[1m[\u001b[0m \u001b[1;36m1.42059856e-04\u001b[0m,  \u001b[1;36m1.46274368e-04\u001b[0m,  \u001b[1;36m1.43580910e-04\u001b[0m, \u001b[1;36m-1.45713432e-06\u001b[0m,\n",
       "       \u001b[1;36m-2.41353951e-06\u001b[0m, \u001b[1;36m-3.47080913e-06\u001b[0m\u001b[1m]\u001b[0m\u001b[1m)\u001b[0m,\n",
       "                \u001b[33matom_positions\u001b[0m=\u001b[1;35marray\u001b[0m\u001b[1m(\u001b[0m\u001b[1m[\u001b[0m\u001b[1m[\u001b[0m\u001b[1;36m1.59804428\u001b[0m, \u001b[1;36m5.70418167\u001b[0m, \u001b[1;36m5.95247364\u001b[0m\u001b[1m]\u001b[0m,\n",
       "       \u001b[1m[\u001b[0m\u001b[1;36m1.59804428\u001b[0m, \u001b[1;36m5.70418167\u001b[0m, \u001b[1;36m9.87993145\u001b[0m\u001b[1m]\u001b[0m,\n",
       "       \u001b[1m[\u001b[0m\u001b[1;36m1.59804428\u001b[0m, \u001b[1;36m2.30290318\u001b[0m, \u001b[1;36m7.91620302\u001b[0m\u001b[1m]\u001b[0m,\n",
       "       \u001b[1m[\u001b[0m\u001b[1;36m4.79413891\u001b[0m, \u001b[1;36m1.15144467\u001b[0m, \u001b[1;36m5.9218421\u001b[0m \u001b[1m]\u001b[0m,\n",
       "       \u001b[1m[\u001b[0m\u001b[1;36m4.79413891\u001b[0m, \u001b[1;36m1.15144467\u001b[0m, \u001b[1;36m1.99436057\u001b[0m\u001b[1m]\u001b[0m,\n",
       "       \u001b[1m[\u001b[0m\u001b[1;36m4.79413891\u001b[0m, \u001b[1;36m4.55274343\u001b[0m, \u001b[1;36m3.95810127\u001b[0m\u001b[1m]\u001b[0m,\n",
       "       \u001b[1m[\u001b[0m\u001b[1;36m4.79413891\u001b[0m, \u001b[1;36m4.57042217\u001b[0m, \u001b[1;36m7.91620255\u001b[0m\u001b[1m]\u001b[0m,\n",
       "       \u001b[1m[\u001b[0m\u001b[1;36m1.59804428\u001b[0m, \u001b[1;36m2.28521109\u001b[0m, \u001b[1;36m3.95810127\u001b[0m\u001b[1m]\u001b[0m\u001b[1m]\u001b[0m\u001b[1m)\u001b[0m,\n",
       "                \u001b[33mcell\u001b[0m=\u001b[1;35marray\u001b[0m\u001b[1m(\u001b[0m\u001b[1m[\u001b[0m\u001b[1m[\u001b[0m \u001b[1;36m6.39217710e+00\u001b[0m,  \u001b[1;36m0.00000000e+00\u001b[0m,  \u001b[1;36m3.91407943e-16\u001b[0m\u001b[1m]\u001b[0m,\n",
       "       \u001b[1m[\u001b[0m\u001b[1;36m-4.19786458e-16\u001b[0m,  \u001b[1;36m6.85563278e+00\u001b[0m,  \u001b[1;36m3.95810103e+00\u001b[0m\u001b[1m]\u001b[0m,\n",
       "       \u001b[1m[\u001b[0m \u001b[1;36m0.00000000e+00\u001b[0m,  \u001b[1;36m0.00000000e+00\u001b[0m,  \u001b[1;36m7.91620302e+00\u001b[0m\u001b[1m]\u001b[0m\u001b[1m]\u001b[0m\u001b[1m)\u001b[0m\n",
       "            \u001b[1m)\u001b[0m,\n",
       "            \u001b[1;35mRelaxationTrajectoryFrame\u001b[0m\u001b[1m(\u001b[0m\n",
       "                \u001b[33menergy\u001b[0m=\u001b[1;36m-5.359618663787842\u001b[0m,\n",
       "                \u001b[33mforces\u001b[0m=\u001b[1;35marray\u001b[0m\u001b[1m(\u001b[0m\u001b[1m[\u001b[0m\u001b[1m[\u001b[0m\u001b[1;36m-8.01425800e-03\u001b[0m, \u001b[1;36m-7.56926090e-02\u001b[0m,  \u001b[1;36m1.23800404e-01\u001b[0m\u001b[1m]\u001b[0m,\n",
       "       \u001b[1m[\u001b[0m \u001b[1;36m5.82178123e-04\u001b[0m, \u001b[1;36m-6.87898844e-02\u001b[0m, \u001b[1;36m-1.20713726e-01\u001b[0m\u001b[1m]\u001b[0m,\n",
       "       \u001b[1m[\u001b[0m\u001b[1;36m-3.20255384e-03\u001b[0m,  \u001b[1;36m1.50010377e-01\u001b[0m, \u001b[1;36m-3.16479057e-03\u001b[0m\u001b[1m]\u001b[0m,\n",
       "       \u001b[1m[\u001b[0m \u001b[1;36m8.14029574e-03\u001b[0m,  \u001b[1;36m7.81605467e-02\u001b[0m, \u001b[1;36m-1.18364125e-01\u001b[0m\u001b[1m]\u001b[0m,\n",
       "       \u001b[1m[\u001b[0m\u001b[1;36m-6.11059368e-04\u001b[0m,  \u001b[1;36m7.35138953e-02\u001b[0m,  \u001b[1;36m1.26220018e-01\u001b[0m\u001b[1m]\u001b[0m,\n",
       "       \u001b[1m[\u001b[0m \u001b[1;36m2.51951814e-03\u001b[0m, \u001b[1;36m-1.48272470e-01\u001b[0m,  \u001b[1;36m6.07310049e-03\u001b[0m\u001b[1m]\u001b[0m,\n",
       "       \u001b[1m[\u001b[0m \u001b[1;36m9.95843438e-05\u001b[0m,  \u001b[1;36m1.29208816e-02\u001b[0m,  \u001b[1;36m3.07436520e-03\u001b[0m\u001b[1m]\u001b[0m,\n",
       "       \u001b[1m[\u001b[0m \u001b[1;36m2.34381645e-04\u001b[0m, \u001b[1;36m-1.88248921e-02\u001b[0m, \u001b[1;36m-1.11196414e-02\u001b[0m\u001b[1m]\u001b[0m\u001b[1m]\u001b[0m, \u001b[33mdtype\u001b[0m=\u001b[35mfloat32\u001b[0m\u001b[1m)\u001b[0m,\n",
       "                \u001b[33mstresses\u001b[0m=\u001b[1;35marray\u001b[0m\u001b[1m(\u001b[0m\u001b[1m[\u001b[0m \u001b[1;36m1.61776741e-04\u001b[0m,  \u001b[1;36m1.45086015e-04\u001b[0m,  \u001b[1;36m1.44046819e-04\u001b[0m,  \u001b[1;36m9.67504548e-07\u001b[0m,\n",
       "        \u001b[1;36m2.47863545e-06\u001b[0m, \u001b[1;36m-3.82756798e-06\u001b[0m\u001b[1m]\u001b[0m\u001b[1m)\u001b[0m,\n",
       "                \u001b[33matom_positions\u001b[0m=\u001b[1;35marray\u001b[0m\u001b[1m(\u001b[0m\u001b[1m[\u001b[0m\u001b[1m[\u001b[0m\u001b[1;36m1.59795635\u001b[0m, \u001b[1;36m5.70340294\u001b[0m, \u001b[1;36m5.95393502\u001b[0m\u001b[1m]\u001b[0m,\n",
       "       \u001b[1m[\u001b[0m\u001b[1;36m1.59791459\u001b[0m, \u001b[1;36m5.70343955\u001b[0m, \u001b[1;36m9.87854472\u001b[0m\u001b[1m]\u001b[0m,\n",
       "       \u001b[1m[\u001b[0m\u001b[1;36m1.59795828\u001b[0m, \u001b[1;36m2.30487229\u001b[0m, \u001b[1;36m7.91617647\u001b[0m\u001b[1m]\u001b[0m,\n",
       "       \u001b[1m[\u001b[0m\u001b[1;36m4.79423426\u001b[0m, \u001b[1;36m1.15223062\u001b[0m, \u001b[1;36m5.92042403\u001b[0m\u001b[1m]\u001b[0m,\n",
       "       \u001b[1m[\u001b[0m\u001b[1;36m4.79426191\u001b[0m, \u001b[1;36m1.1521822\u001b[0m , \u001b[1;36m1.9957963\u001b[0m \u001b[1m]\u001b[0m,\n",
       "       \u001b[1m[\u001b[0m\u001b[1;36m4.79422705\u001b[0m, \u001b[1;36m4.55076653\u001b[0m, \u001b[1;36m3.95816098\u001b[0m\u001b[1m]\u001b[0m,\n",
       "       \u001b[1m[\u001b[0m\u001b[1;36m4.79418594\u001b[0m, \u001b[1;36m4.57048192\u001b[0m, \u001b[1;36m7.91614377\u001b[0m\u001b[1m]\u001b[0m,\n",
       "       \u001b[1m[\u001b[0m\u001b[1;36m1.59799259\u001b[0m, \u001b[1;36m2.28515001\u001b[0m, \u001b[1;36m3.95806398\u001b[0m\u001b[1m]\u001b[0m\u001b[1m]\u001b[0m\u001b[1m)\u001b[0m,\n",
       "                \u001b[33mcell\u001b[0m=\u001b[1;35marray\u001b[0m\u001b[1m(\u001b[0m\u001b[1m[\u001b[0m\u001b[1m[\u001b[0m \u001b[1;36m6.39217710e+00\u001b[0m,  \u001b[1;36m0.00000000e+00\u001b[0m,  \u001b[1;36m3.91407943e-16\u001b[0m\u001b[1m]\u001b[0m,\n",
       "       \u001b[1m[\u001b[0m\u001b[1;36m-4.19786458e-16\u001b[0m,  \u001b[1;36m6.85563278e+00\u001b[0m,  \u001b[1;36m3.95810103e+00\u001b[0m\u001b[1m]\u001b[0m,\n",
       "       \u001b[1m[\u001b[0m \u001b[1;36m0.00000000e+00\u001b[0m,  \u001b[1;36m0.00000000e+00\u001b[0m,  \u001b[1;36m7.91620302e+00\u001b[0m\u001b[1m]\u001b[0m\u001b[1m]\u001b[0m\u001b[1m)\u001b[0m\n",
       "            \u001b[1m)\u001b[0m,\n",
       "            \u001b[1;35mRelaxationTrajectoryFrame\u001b[0m\u001b[1m(\u001b[0m\n",
       "                \u001b[33menergy\u001b[0m=\u001b[1;36m-5.36796760559082\u001b[0m,\n",
       "                \u001b[33mforces\u001b[0m=\u001b[1;35marray\u001b[0m\u001b[1m(\u001b[0m\u001b[1m[\u001b[0m\u001b[1m[\u001b[0m \u001b[1;36m0.00025988\u001b[0m, \u001b[1;36m-0.0594218\u001b[0m ,  \u001b[1;36m0.11345421\u001b[0m\u001b[1m]\u001b[0m,\n",
       "       \u001b[1m[\u001b[0m\u001b[1;36m-0.00481824\u001b[0m, \u001b[1;36m-0.0633773\u001b[0m , \u001b[1;36m-0.11022365\u001b[0m\u001b[1m]\u001b[0m,\n",
       "       \u001b[1m[\u001b[0m\u001b[1;36m-0.00230731\u001b[0m,  \u001b[1;36m0.15631162\u001b[0m,  \u001b[1;36m0.00918949\u001b[0m\u001b[1m]\u001b[0m,\n",
       "       \u001b[1m[\u001b[0m\u001b[1;36m-0.00054599\u001b[0m,  \u001b[1;36m0.06357769\u001b[0m, \u001b[1;36m-0.1146854\u001b[0m \u001b[1m]\u001b[0m,\n",
       "       \u001b[1m[\u001b[0m \u001b[1;36m0.00677951\u001b[0m,  \u001b[1;36m0.0697119\u001b[0m ,  \u001b[1;36m0.1187188\u001b[0m \u001b[1m]\u001b[0m,\n",
       "       \u001b[1m[\u001b[0m \u001b[1;36m0.00154857\u001b[0m, \u001b[1;36m-0.13647068\u001b[0m, \u001b[1;36m-0.00815182\u001b[0m\u001b[1m]\u001b[0m,\n",
       "       \u001b[1m[\u001b[0m \u001b[1;36m0.00248333\u001b[0m, \u001b[1;36m-0.00236027\u001b[0m, \u001b[1;36m-0.00645231\u001b[0m\u001b[1m]\u001b[0m,\n",
       "       \u001b[1m[\u001b[0m\u001b[1;36m-0.00177013\u001b[0m, \u001b[1;36m-0.01269804\u001b[0m,  \u001b[1;36m0.00080473\u001b[0m\u001b[1m]\u001b[0m\u001b[1m]\u001b[0m, \u001b[33mdtype\u001b[0m=\u001b[35mfloat32\u001b[0m\u001b[1m)\u001b[0m,\n",
       "                \u001b[33mstresses\u001b[0m=\u001b[1;35marray\u001b[0m\u001b[1m(\u001b[0m\u001b[1m[\u001b[0m \u001b[1;36m1.62980330e-04\u001b[0m,  \u001b[1;36m1.44965103e-04\u001b[0m,  \u001b[1;36m1.43618337e-04\u001b[0m,  \u001b[1;36m9.85475936e-07\u001b[0m,\n",
       "        \u001b[1;36m1.98277007e-06\u001b[0m, \u001b[1;36m-3.92579022e-06\u001b[0m\u001b[1m]\u001b[0m\u001b[1m)\u001b[0m,\n",
       "                \u001b[33matom_positions\u001b[0m=\u001b[1;35marray\u001b[0m\u001b[1m(\u001b[0m\u001b[1m[\u001b[0m\u001b[1m[\u001b[0m\u001b[1;36m1.59778746\u001b[0m, \u001b[1;36m5.70185429\u001b[0m, \u001b[1;36m5.95663688\u001b[0m\u001b[1m]\u001b[0m,\n",
       "       \u001b[1m[\u001b[0m\u001b[1;36m1.59780439\u001b[0m, \u001b[1;36m5.70200118\u001b[0m, \u001b[1;36m9.87594463\u001b[0m\u001b[1m]\u001b[0m,\n",
       "       \u001b[1m[\u001b[0m\u001b[1;36m1.59784501\u001b[0m, \u001b[1;36m2.30832466\u001b[0m, \u001b[1;36m7.91611713\u001b[0m\u001b[1m]\u001b[0m,\n",
       "       \u001b[1m[\u001b[0m\u001b[1;36m4.79441126\u001b[0m, \u001b[1;36m1.15381339\u001b[0m, \u001b[1;36m5.91782205\u001b[0m\u001b[1m]\u001b[0m,\n",
       "       \u001b[1m[\u001b[0m\u001b[1;36m4.79436577\u001b[0m, \u001b[1;36m1.15366935\u001b[0m, \u001b[1;36m1.99850217\u001b[0m\u001b[1m]\u001b[0m,\n",
       "       \u001b[1m[\u001b[0m\u001b[1;36m4.7943346\u001b[0m , \u001b[1;36m4.54732662\u001b[0m, \u001b[1;36m3.95828274\u001b[0m\u001b[1m]\u001b[0m,\n",
       "       \u001b[1m[\u001b[0m\u001b[1;36m4.79422939\u001b[0m, \u001b[1;36m4.57068041\u001b[0m, \u001b[1;36m7.9161253\u001b[0m \u001b[1m]\u001b[0m,\n",
       "       \u001b[1m[\u001b[0m\u001b[1;36m1.59794869\u001b[0m, \u001b[1;36m2.2848842\u001b[0m , \u001b[1;36m3.95790588\u001b[0m\u001b[1m]\u001b[0m\u001b[1m]\u001b[0m\u001b[1m)\u001b[0m,\n",
       "                \u001b[33mcell\u001b[0m=\u001b[1;35marray\u001b[0m\u001b[1m(\u001b[0m\u001b[1m[\u001b[0m\u001b[1m[\u001b[0m \u001b[1;36m6.39217710e+00\u001b[0m,  \u001b[1;36m0.00000000e+00\u001b[0m,  \u001b[1;36m3.91407943e-16\u001b[0m\u001b[1m]\u001b[0m,\n",
       "       \u001b[1m[\u001b[0m\u001b[1;36m-4.19786458e-16\u001b[0m,  \u001b[1;36m6.85563278e+00\u001b[0m,  \u001b[1;36m3.95810103e+00\u001b[0m\u001b[1m]\u001b[0m,\n",
       "       \u001b[1m[\u001b[0m \u001b[1;36m0.00000000e+00\u001b[0m,  \u001b[1;36m0.00000000e+00\u001b[0m,  \u001b[1;36m7.91620302e+00\u001b[0m\u001b[1m]\u001b[0m\u001b[1m]\u001b[0m\u001b[1m)\u001b[0m\n",
       "            \u001b[1m)\u001b[0m,\n",
       "            \u001b[1;35mRelaxationTrajectoryFrame\u001b[0m\u001b[1m(\u001b[0m\n",
       "                \u001b[33menergy\u001b[0m=\u001b[1;36m-5.36117696762085\u001b[0m,\n",
       "                \u001b[33mforces\u001b[0m=\u001b[1;35marray\u001b[0m\u001b[1m(\u001b[0m\u001b[1m[\u001b[0m\u001b[1m[\u001b[0m\u001b[1;36m-6.17399812e-04\u001b[0m, \u001b[1;36m-5.55835143e-02\u001b[0m,  \u001b[1;36m1.08931825e-01\u001b[0m\u001b[1m]\u001b[0m,\n",
       "       \u001b[1m[\u001b[0m\u001b[1;36m-6.61595911e-03\u001b[0m, \u001b[1;36m-6.02400526e-02\u001b[0m, \u001b[1;36m-1.06642991e-01\u001b[0m\u001b[1m]\u001b[0m,\n",
       "       \u001b[1m[\u001b[0m\u001b[1;36m-1.66689674e-03\u001b[0m,  \u001b[1;36m1.28424406e-01\u001b[0m,  \u001b[1;36m8.30736384e-03\u001b[0m\u001b[1m]\u001b[0m,\n",
       "       \u001b[1m[\u001b[0m\u001b[1;36m-7.89469341e-04\u001b[0m,  \u001b[1;36m5.63081317e-02\u001b[0m, \u001b[1;36m-1.04473799e-01\u001b[0m\u001b[1m]\u001b[0m,\n",
       "       \u001b[1m[\u001b[0m \u001b[1;36m5.36224339e-03\u001b[0m,  \u001b[1;36m6.18832223e-02\u001b[0m,  \u001b[1;36m1.08752936e-01\u001b[0m\u001b[1m]\u001b[0m,\n",
       "       \u001b[1m[\u001b[0m \u001b[1;36m2.28912383e-03\u001b[0m, \u001b[1;36m-1.23949707e-01\u001b[0m, \u001b[1;36m-6.33779122e-03\u001b[0m\u001b[1m]\u001b[0m,\n",
       "       \u001b[1m[\u001b[0m \u001b[1;36m3.02022113e-03\u001b[0m,  \u001b[1;36m3.87175474e-03\u001b[0m, \u001b[1;36m-5.18988585e-03\u001b[0m\u001b[1m]\u001b[0m,\n",
       "       \u001b[1m[\u001b[0m \u001b[1;36m3.50959040e-03\u001b[0m, \u001b[1;36m-7.67633040e-03\u001b[0m, \u001b[1;36m-1.31792622e-05\u001b[0m\u001b[1m]\u001b[0m\u001b[1m]\u001b[0m, \u001b[33mdtype\u001b[0m=\u001b[35mfloat32\u001b[0m\u001b[1m)\u001b[0m,\n",
       "                \u001b[33mstresses\u001b[0m=\u001b[1;35marray\u001b[0m\u001b[1m(\u001b[0m\u001b[1m[\u001b[0m \u001b[1;36m1.65382138e-04\u001b[0m,  \u001b[1;36m1.44494406e-04\u001b[0m,  \u001b[1;36m1.42920588e-04\u001b[0m,  \u001b[1;36m1.27523219e-06\u001b[0m,\n",
       "        \u001b[1;36m1.88483261e-06\u001b[0m, \u001b[1;36m-4.30873160e-06\u001b[0m\u001b[1m]\u001b[0m\u001b[1m)\u001b[0m,\n",
       "                \u001b[33matom_positions\u001b[0m=\u001b[1;35marray\u001b[0m\u001b[1m(\u001b[0m\u001b[1m[\u001b[0m\u001b[1m[\u001b[0m\u001b[1;36m1.59763866\u001b[0m, \u001b[1;36m5.69972736\u001b[0m, \u001b[1;36m5.96046836\u001b[0m\u001b[1m]\u001b[0m,\n",
       "       \u001b[1m[\u001b[0m\u001b[1;36m1.59764576\u001b[0m, \u001b[1;36m5.69992468\u001b[0m, \u001b[1;36m9.87224458\u001b[0m\u001b[1m]\u001b[0m,\n",
       "       \u001b[1m[\u001b[0m\u001b[1;36m1.5977146\u001b[0m , \u001b[1;36m2.31336039\u001b[0m, \u001b[1;36m7.9161771\u001b[0m \u001b[1m]\u001b[0m,\n",
       "       \u001b[1m[\u001b[0m\u001b[1;36m4.79456381\u001b[0m, \u001b[1;36m1.15602232\u001b[0m, \u001b[1;36m5.91406526\u001b[0m\u001b[1m]\u001b[0m,\n",
       "       \u001b[1m[\u001b[0m\u001b[1;36m4.7945429\u001b[0m , \u001b[1;36m1.15586791\u001b[0m, \u001b[1;36m2.00240222\u001b[0m\u001b[1m]\u001b[0m,\n",
       "       \u001b[1m[\u001b[0m\u001b[1;36m4.7944505\u001b[0m , \u001b[1;36m4.54254689\u001b[0m, \u001b[1;36m3.95829174\u001b[0m\u001b[1m]\u001b[0m,\n",
       "       \u001b[1m[\u001b[0m\u001b[1;36m4.79429913\u001b[0m, \u001b[1;36m4.57082993\u001b[0m, \u001b[1;36m7.91602907\u001b[0m\u001b[1m]\u001b[0m,\n",
       "       \u001b[1m[\u001b[0m\u001b[1;36m1.59788735\u001b[0m, \u001b[1;36m2.2844883\u001b[0m , \u001b[1;36m3.95777351\u001b[0m\u001b[1m]\u001b[0m\u001b[1m]\u001b[0m\u001b[1m)\u001b[0m,\n",
       "                \u001b[33mcell\u001b[0m=\u001b[1;35marray\u001b[0m\u001b[1m(\u001b[0m\u001b[1m[\u001b[0m\u001b[1m[\u001b[0m \u001b[1;36m6.39217710e+00\u001b[0m,  \u001b[1;36m0.00000000e+00\u001b[0m,  \u001b[1;36m3.91407943e-16\u001b[0m\u001b[1m]\u001b[0m,\n",
       "       \u001b[1m[\u001b[0m\u001b[1;36m-4.19786458e-16\u001b[0m,  \u001b[1;36m6.85563278e+00\u001b[0m,  \u001b[1;36m3.95810103e+00\u001b[0m\u001b[1m]\u001b[0m,\n",
       "       \u001b[1m[\u001b[0m \u001b[1;36m0.00000000e+00\u001b[0m,  \u001b[1;36m0.00000000e+00\u001b[0m,  \u001b[1;36m7.91620302e+00\u001b[0m\u001b[1m]\u001b[0m\u001b[1m]\u001b[0m\u001b[1m)\u001b[0m\n",
       "            \u001b[1m)\u001b[0m,\n",
       "            \u001b[1;35mRelaxationTrajectoryFrame\u001b[0m\u001b[1m(\u001b[0m\n",
       "                \u001b[33menergy\u001b[0m=\u001b[1;36m-5.349491596221924\u001b[0m,\n",
       "                \u001b[33mforces\u001b[0m=\u001b[1;35marray\u001b[0m\u001b[1m(\u001b[0m\u001b[1m[\u001b[0m\u001b[1m[\u001b[0m \u001b[1;36m0.00189847\u001b[0m, \u001b[1;36m-0.05185551\u001b[0m,  \u001b[1;36m0.09577183\u001b[0m\u001b[1m]\u001b[0m,\n",
       "       \u001b[1m[\u001b[0m\u001b[1;36m-0.00728828\u001b[0m, \u001b[1;36m-0.05041752\u001b[0m, \u001b[1;36m-0.08642185\u001b[0m\u001b[1m]\u001b[0m,\n",
       "       \u001b[1m[\u001b[0m\u001b[1;36m-0.00025721\u001b[0m,  \u001b[1;36m0.10759735\u001b[0m, \u001b[1;36m-0.00017919\u001b[0m\u001b[1m]\u001b[0m,\n",
       "       \u001b[1m[\u001b[0m\u001b[1;36m-0.0036549\u001b[0m ,  \u001b[1;36m0.05296598\u001b[0m, \u001b[1;36m-0.09062269\u001b[0m\u001b[1m]\u001b[0m,\n",
       "       \u001b[1m[\u001b[0m \u001b[1;36m0.00665485\u001b[0m,  \u001b[1;36m0.05416045\u001b[0m,  \u001b[1;36m0.08880852\u001b[0m\u001b[1m]\u001b[0m,\n",
       "       \u001b[1m[\u001b[0m \u001b[1;36m0.00309523\u001b[0m, \u001b[1;36m-0.11027895\u001b[0m, \u001b[1;36m-0.00242472\u001b[0m\u001b[1m]\u001b[0m,\n",
       "       \u001b[1m[\u001b[0m \u001b[1;36m0.00171253\u001b[0m,  \u001b[1;36m0.00749354\u001b[0m, \u001b[1;36m-0.00419774\u001b[0m\u001b[1m]\u001b[0m,\n",
       "       \u001b[1m[\u001b[0m \u001b[1;36m0.00348358\u001b[0m, \u001b[1;36m-0.01051046\u001b[0m, \u001b[1;36m-0.00154666\u001b[0m\u001b[1m]\u001b[0m\u001b[1m]\u001b[0m, \u001b[33mdtype\u001b[0m=\u001b[35mfloat32\u001b[0m\u001b[1m)\u001b[0m,\n",
       "                \u001b[33mstresses\u001b[0m=\u001b[1;35marray\u001b[0m\u001b[1m(\u001b[0m\u001b[1m[\u001b[0m \u001b[1;36m1.67015067e-04\u001b[0m,  \u001b[1;36m1.43482845e-04\u001b[0m,  \u001b[1;36m1.40641496e-04\u001b[0m, \u001b[1;36m-1.73861622e-06\u001b[0m,\n",
       "       \u001b[1;36m-2.24288306e-06\u001b[0m, \u001b[1;36m-4.13802536e-06\u001b[0m\u001b[1m]\u001b[0m\u001b[1m)\u001b[0m,\n",
       "                \u001b[33matom_positions\u001b[0m=\u001b[1;35marray\u001b[0m\u001b[1m(\u001b[0m\u001b[1m[\u001b[0m\u001b[1m[\u001b[0m\u001b[1;36m1.59749629\u001b[0m, \u001b[1;36m5.69705242\u001b[0m, \u001b[1;36m5.96540751\u001b[0m\u001b[1m]\u001b[0m,\n",
       "       \u001b[1m[\u001b[0m\u001b[1;36m1.59741245\u001b[0m, \u001b[1;36m5.6972314\u001b[0m , \u001b[1;36m9.86745506\u001b[0m\u001b[1m]\u001b[0m,\n",
       "       \u001b[1m[\u001b[0m\u001b[1;36m1.59757442\u001b[0m, \u001b[1;36m2.31965013\u001b[0m, \u001b[1;36m7.91634476\u001b[0m\u001b[1m]\u001b[0m,\n",
       "       \u001b[1m[\u001b[0m\u001b[1;36m4.79469031\u001b[0m, \u001b[1;36m1.15878097\u001b[0m, \u001b[1;36m5.90925435\u001b[0m\u001b[1m]\u001b[0m,\n",
       "       \u001b[1m[\u001b[0m\u001b[1;36m4.79477569\u001b[0m, \u001b[1;36m1.15869353\u001b[0m, \u001b[1;36m2.00740063\u001b[0m\u001b[1m]\u001b[0m,\n",
       "       \u001b[1m[\u001b[0m\u001b[1;36m4.79458614\u001b[0m, \u001b[1;36m4.5365488\u001b[0m , \u001b[1;36m3.9582131\u001b[0m \u001b[1m]\u001b[0m,\n",
       "       \u001b[1m[\u001b[0m\u001b[1;36m4.79440323\u001b[0m, \u001b[1;36m4.57101748\u001b[0m, \u001b[1;36m7.91587144\u001b[0m\u001b[1m]\u001b[0m,\n",
       "       \u001b[1m[\u001b[0m\u001b[1;36m1.59788017\u001b[0m, \u001b[1;36m2.28402693\u001b[0m, \u001b[1;36m3.9576542\u001b[0m \u001b[1m]\u001b[0m\u001b[1m]\u001b[0m\u001b[1m)\u001b[0m,\n",
       "                \u001b[33mcell\u001b[0m=\u001b[1;35marray\u001b[0m\u001b[1m(\u001b[0m\u001b[1m[\u001b[0m\u001b[1m[\u001b[0m \u001b[1;36m6.39217710e+00\u001b[0m,  \u001b[1;36m0.00000000e+00\u001b[0m,  \u001b[1;36m3.91407943e-16\u001b[0m\u001b[1m]\u001b[0m,\n",
       "       \u001b[1m[\u001b[0m\u001b[1;36m-4.19786458e-16\u001b[0m,  \u001b[1;36m6.85563278e+00\u001b[0m,  \u001b[1;36m3.95810103e+00\u001b[0m\u001b[1m]\u001b[0m,\n",
       "       \u001b[1m[\u001b[0m \u001b[1;36m0.00000000e+00\u001b[0m,  \u001b[1;36m0.00000000e+00\u001b[0m,  \u001b[1;36m7.91620302e+00\u001b[0m\u001b[1m]\u001b[0m\u001b[1m]\u001b[0m\u001b[1m)\u001b[0m\n",
       "            \u001b[1m)\u001b[0m,\n",
       "            \u001b[1;35mRelaxationTrajectoryFrame\u001b[0m\u001b[1m(\u001b[0m\n",
       "                \u001b[33menergy\u001b[0m=\u001b[1;36m-5.355611801147461\u001b[0m,\n",
       "                \u001b[33mforces\u001b[0m=\u001b[1;35marray\u001b[0m\u001b[1m(\u001b[0m\u001b[1m[\u001b[0m\u001b[1m[\u001b[0m \u001b[1;36m0.00273847\u001b[0m, \u001b[1;36m-0.04411296\u001b[0m,  \u001b[1;36m0.0814831\u001b[0m \u001b[1m]\u001b[0m,\n",
       "       \u001b[1m[\u001b[0m\u001b[1;36m-0.00738219\u001b[0m, \u001b[1;36m-0.04126022\u001b[0m, \u001b[1;36m-0.07496164\u001b[0m\u001b[1m]\u001b[0m,\n",
       "       \u001b[1m[\u001b[0m\u001b[1;36m-0.00205893\u001b[0m,  \u001b[1;36m0.0936458\u001b[0m , \u001b[1;36m-0.00149879\u001b[0m\u001b[1m]\u001b[0m,\n",
       "       \u001b[1m[\u001b[0m\u001b[1;36m-0.00091215\u001b[0m,  \u001b[1;36m0.04750844\u001b[0m, \u001b[1;36m-0.08006975\u001b[0m\u001b[1m]\u001b[0m,\n",
       "       \u001b[1m[\u001b[0m \u001b[1;36m0.00830302\u001b[0m,  \u001b[1;36m0.04622352\u001b[0m,  \u001b[1;36m0.08001579\u001b[0m\u001b[1m]\u001b[0m,\n",
       "       \u001b[1m[\u001b[0m \u001b[1;36m0.00329108\u001b[0m, \u001b[1;36m-0.09338976\u001b[0m,  \u001b[1;36m0.00219533\u001b[0m\u001b[1m]\u001b[0m,\n",
       "       \u001b[1m[\u001b[0m \u001b[1;36m0.0023378\u001b[0m ,  \u001b[1;36m0.000177\u001b[0m  , \u001b[1;36m-0.00525451\u001b[0m\u001b[1m]\u001b[0m,\n",
       "       \u001b[1m[\u001b[0m\u001b[1;36m-0.00430396\u001b[0m, \u001b[1;36m-0.00571929\u001b[0m, \u001b[1;36m-0.00154125\u001b[0m\u001b[1m]\u001b[0m\u001b[1m]\u001b[0m, \u001b[33mdtype\u001b[0m=\u001b[35mfloat32\u001b[0m\u001b[1m)\u001b[0m,\n",
       "                \u001b[33mstresses\u001b[0m=\u001b[1;35marray\u001b[0m\u001b[1m(\u001b[0m\u001b[1m[\u001b[0m \u001b[1;36m1.61899719e-04\u001b[0m,  \u001b[1;36m1.42609686e-04\u001b[0m,  \u001b[1;36m1.39268930e-04\u001b[0m, \u001b[1;36m-1.74334502e-06\u001b[0m,\n",
       "       \u001b[1;36m-1.70021895e-06\u001b[0m, \u001b[1;36m-3.24729899e-06\u001b[0m\u001b[1m]\u001b[0m\u001b[1m)\u001b[0m,\n",
       "                \u001b[33matom_positions\u001b[0m=\u001b[1;35marray\u001b[0m\u001b[1m(\u001b[0m\u001b[1m[\u001b[0m\u001b[1m[\u001b[0m\u001b[1;36m1.5973975\u001b[0m , \u001b[1;36m5.69384366\u001b[0m, \u001b[1;36m5.97133267\u001b[0m\u001b[1m]\u001b[0m,\n",
       "       \u001b[1m[\u001b[0m\u001b[1;36m1.59708985\u001b[0m, \u001b[1;36m5.69402837\u001b[0m, \u001b[1;36m9.86180904\u001b[0m\u001b[1m]\u001b[0m,\n",
       "       \u001b[1m[\u001b[0m\u001b[1;36m1.59744429\u001b[0m, \u001b[1;36m2.32697356\u001b[0m, \u001b[1;36m7.9164929\u001b[0m \u001b[1m]\u001b[0m,\n",
       "       \u001b[1m[\u001b[0m\u001b[1;36m4.79474768\u001b[0m, \u001b[1;36m1.16208222\u001b[0m, \u001b[1;36m5.90352417\u001b[0m\u001b[1m]\u001b[0m,\n",
       "       \u001b[1m[\u001b[0m\u001b[1;36m4.79508804\u001b[0m, \u001b[1;36m1.1620735\u001b[0m , \u001b[1;36m2.01327153\u001b[0m\u001b[1m]\u001b[0m,\n",
       "       \u001b[1m[\u001b[0m\u001b[1;36m4.79475605\u001b[0m, \u001b[1;36m4.52944642\u001b[0m, \u001b[1;36m3.95810486\u001b[0m\u001b[1m]\u001b[0m,\n",
       "       \u001b[1m[\u001b[0m\u001b[1;36m4.79452339\u001b[0m, \u001b[1;36m4.57130208\u001b[0m, \u001b[1;36m7.9156647\u001b[0m \u001b[1m]\u001b[0m,\n",
       "       \u001b[1m[\u001b[0m\u001b[1;36m1.59792754\u001b[0m, \u001b[1;36m2.28344929\u001b[0m, \u001b[1;36m3.95752292\u001b[0m\u001b[1m]\u001b[0m\u001b[1m]\u001b[0m\u001b[1m)\u001b[0m,\n",
       "                \u001b[33mcell\u001b[0m=\u001b[1;35marray\u001b[0m\u001b[1m(\u001b[0m\u001b[1m[\u001b[0m\u001b[1m[\u001b[0m \u001b[1;36m6.39217710e+00\u001b[0m,  \u001b[1;36m0.00000000e+00\u001b[0m,  \u001b[1;36m3.91407943e-16\u001b[0m\u001b[1m]\u001b[0m,\n",
       "       \u001b[1m[\u001b[0m\u001b[1;36m-4.19786458e-16\u001b[0m,  \u001b[1;36m6.85563278e+00\u001b[0m,  \u001b[1;36m3.95810103e+00\u001b[0m\u001b[1m]\u001b[0m,\n",
       "       \u001b[1m[\u001b[0m \u001b[1;36m0.00000000e+00\u001b[0m,  \u001b[1;36m0.00000000e+00\u001b[0m,  \u001b[1;36m7.91620302e+00\u001b[0m\u001b[1m]\u001b[0m\u001b[1m]\u001b[0m\u001b[1m)\u001b[0m\n",
       "            \u001b[1m)\u001b[0m,\n",
       "            \u001b[1;35mRelaxationTrajectoryFrame\u001b[0m\u001b[1m(\u001b[0m\n",
       "                \u001b[33menergy\u001b[0m=\u001b[1;36m-5.350079536437988\u001b[0m,\n",
       "                \u001b[33mforces\u001b[0m=\u001b[1;35marray\u001b[0m\u001b[1m(\u001b[0m\u001b[1m[\u001b[0m\u001b[1m[\u001b[0m\u001b[1;36m-4.5339633e-03\u001b[0m, \u001b[1;36m-3.5994925e-02\u001b[0m,  \u001b[1;36m6.4077049e-02\u001b[0m\u001b[1m]\u001b[0m,\n",
       "       \u001b[1m[\u001b[0m \u001b[1;36m1.3024110e-03\u001b[0m, \u001b[1;36m-2.9917493e-02\u001b[0m, \u001b[1;36m-6.0599595e-02\u001b[0m\u001b[1m]\u001b[0m,\n",
       "       \u001b[1m[\u001b[0m\u001b[1;36m-1.5537356e-03\u001b[0m,  \u001b[1;36m7.6465517e-02\u001b[0m, \u001b[1;36m-6.8748370e-03\u001b[0m\u001b[1m]\u001b[0m,\n",
       "       \u001b[1m[\u001b[0m \u001b[1;36m5.4353327e-03\u001b[0m,  \u001b[1;36m3.9140336e-02\u001b[0m, \u001b[1;36m-6.1961919e-02\u001b[0m\u001b[1m]\u001b[0m,\n",
       "       \u001b[1m[\u001b[0m\u001b[1;36m-7.2377175e-04\u001b[0m,  \u001b[1;36m3.3564784e-02\u001b[0m,  \u001b[1;36m6.2495105e-02\u001b[0m\u001b[1m]\u001b[0m,\n",
       "       \u001b[1m[\u001b[0m \u001b[1;36m1.8133596e-03\u001b[0m, \u001b[1;36m-7.5866126e-02\u001b[0m,  \u001b[1;36m8.1407065e-03\u001b[0m\u001b[1m]\u001b[0m,\n",
       "       \u001b[1m[\u001b[0m \u001b[1;36m1.7899686e-03\u001b[0m,  \u001b[1;36m5.7811936e-05\u001b[0m, \u001b[1;36m-3.4962518e-03\u001b[0m\u001b[1m]\u001b[0m,\n",
       "       \u001b[1m[\u001b[0m\u001b[1;36m-2.4669957e-03\u001b[0m, \u001b[1;36m-5.5981050e-03\u001b[0m, \u001b[1;36m-1.4370690e-03\u001b[0m\u001b[1m]\u001b[0m\u001b[1m]\u001b[0m, \u001b[33mdtype\u001b[0m=\u001b[35mfloat32\u001b[0m\u001b[1m)\u001b[0m,\n",
       "                \u001b[33mstresses\u001b[0m=\u001b[1;35marray\u001b[0m\u001b[1m(\u001b[0m\u001b[1m[\u001b[0m \u001b[1;36m1.63717428e-04\u001b[0m,  \u001b[1;36m1.40392251e-04\u001b[0m,  \u001b[1;36m1.36617004e-04\u001b[0m, \u001b[1;36m-9.13571398e-07\u001b[0m,\n",
       "       \u001b[1;36m-1.96161250e-06\u001b[0m, \u001b[1;36m-3.29448358e-06\u001b[0m\u001b[1m]\u001b[0m\u001b[1m)\u001b[0m,\n",
       "                \u001b[33matom_positions\u001b[0m=\u001b[1;35marray\u001b[0m\u001b[1m(\u001b[0m\u001b[1m[\u001b[0m\u001b[1m[\u001b[0m\u001b[1;36m1.59735636\u001b[0m, \u001b[1;36m5.69018612\u001b[0m, \u001b[1;36m5.978087\u001b[0m  \u001b[1m]\u001b[0m,\n",
       "       \u001b[1m[\u001b[0m\u001b[1;36m1.5966707\u001b[0m , \u001b[1;36m5.69042575\u001b[0m, \u001b[1;36m9.85541972\u001b[0m\u001b[1m]\u001b[0m,\n",
       "       \u001b[1m[\u001b[0m\u001b[1;36m1.59729124\u001b[0m, \u001b[1;36m2.33519854\u001b[0m, \u001b[1;36m7.91660006\u001b[0m\u001b[1m]\u001b[0m,\n",
       "       \u001b[1m[\u001b[0m\u001b[1;36m4.7947834\u001b[0m , \u001b[1;36m1.16588226\u001b[0m, \u001b[1;36m5.89696999\u001b[0m\u001b[1m]\u001b[0m,\n",
       "       \u001b[1m[\u001b[0m\u001b[1;36m4.79551403\u001b[0m, \u001b[1;36m1.16592197\u001b[0m, \u001b[1;36m2.01995142\u001b[0m\u001b[1m]\u001b[0m,\n",
       "       \u001b[1m[\u001b[0m\u001b[1;36m4.79496638\u001b[0m, \u001b[1;36m4.52142485\u001b[0m, \u001b[1;36m3.95804575\u001b[0m\u001b[1m]\u001b[0m,\n",
       "       \u001b[1m[\u001b[0m\u001b[1;36m4.79467232\u001b[0m, \u001b[1;36m4.5715613\u001b[0m , \u001b[1;36m7.91538696\u001b[0m\u001b[1m]\u001b[0m,\n",
       "       \u001b[1m[\u001b[0m\u001b[1;36m1.59789508\u001b[0m, \u001b[1;36m2.28282962\u001b[0m, \u001b[1;36m3.95737788\u001b[0m\u001b[1m]\u001b[0m\u001b[1m]\u001b[0m\u001b[1m)\u001b[0m,\n",
       "                \u001b[33mcell\u001b[0m=\u001b[1;35marray\u001b[0m\u001b[1m(\u001b[0m\u001b[1m[\u001b[0m\u001b[1m[\u001b[0m \u001b[1;36m6.39217710e+00\u001b[0m,  \u001b[1;36m0.00000000e+00\u001b[0m,  \u001b[1;36m3.91407943e-16\u001b[0m\u001b[1m]\u001b[0m,\n",
       "       \u001b[1m[\u001b[0m\u001b[1;36m-4.19786458e-16\u001b[0m,  \u001b[1;36m6.85563278e+00\u001b[0m,  \u001b[1;36m3.95810103e+00\u001b[0m\u001b[1m]\u001b[0m,\n",
       "       \u001b[1m[\u001b[0m \u001b[1;36m0.00000000e+00\u001b[0m,  \u001b[1;36m0.00000000e+00\u001b[0m,  \u001b[1;36m7.91620302e+00\u001b[0m\u001b[1m]\u001b[0m\u001b[1m]\u001b[0m\u001b[1m)\u001b[0m\n",
       "            \u001b[1m)\u001b[0m,\n",
       "            \u001b[1;35mRelaxationTrajectoryFrame\u001b[0m\u001b[1m(\u001b[0m\n",
       "                \u001b[33menergy\u001b[0m=\u001b[1;36m-5.358945846557617\u001b[0m,\n",
       "                \u001b[33mforces\u001b[0m=\u001b[1;35marray\u001b[0m\u001b[1m(\u001b[0m\u001b[1m[\u001b[0m\u001b[1m[\u001b[0m\u001b[1;36m-0.00395736\u001b[0m, \u001b[1;36m-0.0264507\u001b[0m ,  \u001b[1;36m0.04788474\u001b[0m\u001b[1m]\u001b[0m,\n",
       "       \u001b[1m[\u001b[0m \u001b[1;36m0.00135883\u001b[0m, \u001b[1;36m-0.02110184\u001b[0m, \u001b[1;36m-0.0442165\u001b[0m \u001b[1m]\u001b[0m,\n",
       "       \u001b[1m[\u001b[0m\u001b[1;36m-0.00097958\u001b[0m,  \u001b[1;36m0.05665862\u001b[0m, \u001b[1;36m-0.00641331\u001b[0m\u001b[1m]\u001b[0m,\n",
       "       \u001b[1m[\u001b[0m \u001b[1;36m0.00493497\u001b[0m,  \u001b[1;36m0.02932939\u001b[0m, \u001b[1;36m-0.04536406\u001b[0m\u001b[1m]\u001b[0m,\n",
       "       \u001b[1m[\u001b[0m\u001b[1;36m-0.00079696\u001b[0m,  \u001b[1;36m0.02390195\u001b[0m,  \u001b[1;36m0.04546329\u001b[0m\u001b[1m]\u001b[0m,\n",
       "       \u001b[1m[\u001b[0m \u001b[1;36m0.00130409\u001b[0m, \u001b[1;36m-0.05617945\u001b[0m,  \u001b[1;36m0.00788735\u001b[0m\u001b[1m]\u001b[0m,\n",
       "       \u001b[1m[\u001b[0m \u001b[1;36m0.00156742\u001b[0m,  \u001b[1;36m0.00039814\u001b[0m, \u001b[1;36m-0.00307346\u001b[0m\u001b[1m]\u001b[0m,\n",
       "       \u001b[1m[\u001b[0m\u001b[1;36m-0.00213406\u001b[0m, \u001b[1;36m-0.00499097\u001b[0m, \u001b[1;36m-0.00111399\u001b[0m\u001b[1m]\u001b[0m\u001b[1m]\u001b[0m, \u001b[33mdtype\u001b[0m=\u001b[35mfloat32\u001b[0m\u001b[1m)\u001b[0m,\n",
       "                \u001b[33mstresses\u001b[0m=\u001b[1;35marray\u001b[0m\u001b[1m(\u001b[0m\u001b[1m[\u001b[0m \u001b[1;36m1.63485165e-04\u001b[0m,  \u001b[1;36m1.38045376e-04\u001b[0m,  \u001b[1;36m1.34509784e-04\u001b[0m, \u001b[1;36m-8.59728345e-07\u001b[0m,\n",
       "       \u001b[1;36m-1.90242645e-06\u001b[0m, \u001b[1;36m-3.26285976e-06\u001b[0m\u001b[1m]\u001b[0m\u001b[1m)\u001b[0m,\n",
       "                \u001b[33matom_positions\u001b[0m=\u001b[1;35marray\u001b[0m\u001b[1m(\u001b[0m\u001b[1m[\u001b[0m\u001b[1m[\u001b[0m\u001b[1;36m1.59722588\u001b[0m, \u001b[1;36m5.6861524\u001b[0m , \u001b[1;36m5.98548666\u001b[0m\u001b[1m]\u001b[0m,\n",
       "       \u001b[1m[\u001b[0m\u001b[1;36m1.59632032\u001b[0m, \u001b[1;36m5.68656672\u001b[0m, \u001b[1;36m9.84842025\u001b[0m\u001b[1m]\u001b[0m,\n",
       "       \u001b[1m[\u001b[0m\u001b[1;36m1.59712147\u001b[0m, \u001b[1;36m2.34417714\u001b[0m, \u001b[1;36m7.91655481\u001b[0m\u001b[1m]\u001b[0m,\n",
       "       \u001b[1m[\u001b[0m\u001b[1;36m4.79492758\u001b[0m, \u001b[1;36m1.17010905\u001b[0m, \u001b[1;36m5.88979405\u001b[0m\u001b[1m]\u001b[0m,\n",
       "       \u001b[1m[\u001b[0m\u001b[1;36m4.79588249\u001b[0m, \u001b[1;36m1.17007744\u001b[0m, \u001b[1;36m2.02725147\u001b[0m\u001b[1m]\u001b[0m,\n",
       "       \u001b[1m[\u001b[0m\u001b[1;36m4.79519306\u001b[0m, \u001b[1;36m4.51264167\u001b[0m, \u001b[1;36m3.95816035\u001b[0m\u001b[1m]\u001b[0m,\n",
       "       \u001b[1m[\u001b[0m\u001b[1;36m4.79484325\u001b[0m, \u001b[1;36m4.57179579\u001b[0m, \u001b[1;36m7.91506493\u001b[0m\u001b[1m]\u001b[0m,\n",
       "       \u001b[1m[\u001b[0m\u001b[1;36m1.59781501\u001b[0m, \u001b[1;36m2.28215653\u001b[0m, \u001b[1;36m3.95721772\u001b[0m\u001b[1m]\u001b[0m\u001b[1m]\u001b[0m\u001b[1m)\u001b[0m,\n",
       "                \u001b[33mcell\u001b[0m=\u001b[1;35marray\u001b[0m\u001b[1m(\u001b[0m\u001b[1m[\u001b[0m\u001b[1m[\u001b[0m \u001b[1;36m6.39217710e+00\u001b[0m,  \u001b[1;36m0.00000000e+00\u001b[0m,  \u001b[1;36m3.91407943e-16\u001b[0m\u001b[1m]\u001b[0m,\n",
       "       \u001b[1m[\u001b[0m\u001b[1;36m-4.19786458e-16\u001b[0m,  \u001b[1;36m6.85563278e+00\u001b[0m,  \u001b[1;36m3.95810103e+00\u001b[0m\u001b[1m]\u001b[0m,\n",
       "       \u001b[1m[\u001b[0m \u001b[1;36m0.00000000e+00\u001b[0m,  \u001b[1;36m0.00000000e+00\u001b[0m,  \u001b[1;36m7.91620302e+00\u001b[0m\u001b[1m]\u001b[0m\u001b[1m]\u001b[0m\u001b[1m)\u001b[0m\n",
       "            \u001b[1m)\u001b[0m,\n",
       "            \u001b[1;35mRelaxationTrajectoryFrame\u001b[0m\u001b[1m(\u001b[0m\n",
       "                \u001b[33menergy\u001b[0m=\u001b[1;36m-5.3689398765563965\u001b[0m,\n",
       "                \u001b[33mforces\u001b[0m=\u001b[1;35marray\u001b[0m\u001b[1m(\u001b[0m\u001b[1m[\u001b[0m\u001b[1m[\u001b[0m\u001b[1;36m-0.00552282\u001b[0m, \u001b[1;36m-0.01390654\u001b[0m,  \u001b[1;36m0.02802956\u001b[0m\u001b[1m]\u001b[0m,\n",
       "       \u001b[1m[\u001b[0m \u001b[1;36m0.00259443\u001b[0m, \u001b[1;36m-0.01437235\u001b[0m, \u001b[1;36m-0.03003361\u001b[0m\u001b[1m]\u001b[0m,\n",
       "       \u001b[1m[\u001b[0m\u001b[1;36m-0.00025332\u001b[0m,  \u001b[1;36m0.03421012\u001b[0m,  \u001b[1;36m0.00150421\u001b[0m\u001b[1m]\u001b[0m,\n",
       "       \u001b[1m[\u001b[0m \u001b[1;36m0.00610946\u001b[0m,  \u001b[1;36m0.01724229\u001b[0m, \u001b[1;36m-0.02540286\u001b[0m\u001b[1m]\u001b[0m,\n",
       "       \u001b[1m[\u001b[0m\u001b[1;36m-0.00216627\u001b[0m,  \u001b[1;36m0.01653441\u001b[0m,  \u001b[1;36m0.03086051\u001b[0m\u001b[1m]\u001b[0m,\n",
       "       \u001b[1m[\u001b[0m \u001b[1;36m0.00031441\u001b[0m, \u001b[1;36m-0.03401289\u001b[0m,  \u001b[1;36m0.00124098\u001b[0m\u001b[1m]\u001b[0m,\n",
       "       \u001b[1m[\u001b[0m \u001b[1;36m0.00150884\u001b[0m,  \u001b[1;36m0.00059087\u001b[0m, \u001b[1;36m-0.00160554\u001b[0m\u001b[1m]\u001b[0m,\n",
       "       \u001b[1m[\u001b[0m\u001b[1;36m-0.00205415\u001b[0m, \u001b[1;36m-0.00451505\u001b[0m, \u001b[1;36m-0.00119859\u001b[0m\u001b[1m]\u001b[0m\u001b[1m]\u001b[0m, \u001b[33mdtype\u001b[0m=\u001b[35mfloat32\u001b[0m\u001b[1m)\u001b[0m,\n",
       "                \u001b[33mstresses\u001b[0m=\u001b[1;35marray\u001b[0m\u001b[1m(\u001b[0m\u001b[1m[\u001b[0m \u001b[1;36m1.62693876e-04\u001b[0m,  \u001b[1;36m1.34791830e-04\u001b[0m,  \u001b[1;36m1.31715802e-04\u001b[0m,  \u001b[1;36m1.38002770e-06\u001b[0m,\n",
       "        \u001b[1;36m1.99009173e-06\u001b[0m, \u001b[1;36m-3.13665396e-06\u001b[0m\u001b[1m]\u001b[0m\u001b[1m)\u001b[0m,\n",
       "                \u001b[33matom_positions\u001b[0m=\u001b[1;35marray\u001b[0m\u001b[1m(\u001b[0m\u001b[1m[\u001b[0m\u001b[1m[\u001b[0m\u001b[1;36m1.59698032\u001b[0m, \u001b[1;36m5.68138104\u001b[0m, \u001b[1;36m5.99422073\u001b[0m\u001b[1m]\u001b[0m,\n",
       "       \u001b[1m[\u001b[0m\u001b[1;36m1.59601341\u001b[0m, \u001b[1;36m5.68212563\u001b[0m, \u001b[1;36m9.84019026\u001b[0m\u001b[1m]\u001b[0m,\n",
       "       \u001b[1m[\u001b[0m\u001b[1;36m1.59692459\u001b[0m, \u001b[1;36m2.35473242\u001b[0m, \u001b[1;36m7.91632138\u001b[0m\u001b[1m]\u001b[0m,\n",
       "       \u001b[1m[\u001b[0m\u001b[1;36m4.79521547\u001b[0m, \u001b[1;36m1.17515623\u001b[0m, \u001b[1;36m5.88135561\u001b[0m\u001b[1m]\u001b[0m,\n",
       "       \u001b[1m[\u001b[0m\u001b[1;36m4.79622384\u001b[0m, \u001b[1;36m1.17489436\u001b[0m, \u001b[1;36m2.03581572\u001b[0m\u001b[1m]\u001b[0m,\n",
       "       \u001b[1m[\u001b[0m\u001b[1;36m4.79545583\u001b[0m, \u001b[1;36m4.50229395\u001b[0m, \u001b[1;36m3.95850578\u001b[0m\u001b[1m]\u001b[0m,\n",
       "       \u001b[1m[\u001b[0m\u001b[1;36m4.79505857\u001b[0m, \u001b[1;36m4.57203965\u001b[0m, \u001b[1;36m7.91465572\u001b[0m\u001b[1m]\u001b[0m,\n",
       "       \u001b[1m[\u001b[0m\u001b[1;36m1.59767298\u001b[0m, \u001b[1;36m2.28134338\u001b[0m, \u001b[1;36m3.9570264\u001b[0m \u001b[1m]\u001b[0m\u001b[1m]\u001b[0m\u001b[1m)\u001b[0m,\n",
       "                \u001b[33mcell\u001b[0m=\u001b[1;35marray\u001b[0m\u001b[1m(\u001b[0m\u001b[1m[\u001b[0m\u001b[1m[\u001b[0m \u001b[1;36m6.39217710e+00\u001b[0m,  \u001b[1;36m0.00000000e+00\u001b[0m,  \u001b[1;36m3.91407943e-16\u001b[0m\u001b[1m]\u001b[0m,\n",
       "       \u001b[1m[\u001b[0m\u001b[1;36m-4.19786458e-16\u001b[0m,  \u001b[1;36m6.85563278e+00\u001b[0m,  \u001b[1;36m3.95810103e+00\u001b[0m\u001b[1m]\u001b[0m,\n",
       "       \u001b[1m[\u001b[0m \u001b[1;36m0.00000000e+00\u001b[0m,  \u001b[1;36m0.00000000e+00\u001b[0m,  \u001b[1;36m7.91620302e+00\u001b[0m\u001b[1m]\u001b[0m\u001b[1m]\u001b[0m\u001b[1m)\u001b[0m\n",
       "            \u001b[1m)\u001b[0m,\n",
       "            \u001b[1;35mRelaxationTrajectoryFrame\u001b[0m\u001b[1m(\u001b[0m\n",
       "                \u001b[33menergy\u001b[0m=\u001b[1;36m-5.3689398765563965\u001b[0m,\n",
       "                \u001b[33mforces\u001b[0m=\u001b[1;35marray\u001b[0m\u001b[1m(\u001b[0m\u001b[1m[\u001b[0m\u001b[1m[\u001b[0m\u001b[1;36m-0.00552282\u001b[0m, \u001b[1;36m-0.01390654\u001b[0m,  \u001b[1;36m0.02802956\u001b[0m\u001b[1m]\u001b[0m,\n",
       "       \u001b[1m[\u001b[0m \u001b[1;36m0.00259443\u001b[0m, \u001b[1;36m-0.01437235\u001b[0m, \u001b[1;36m-0.03003361\u001b[0m\u001b[1m]\u001b[0m,\n",
       "       \u001b[1m[\u001b[0m\u001b[1;36m-0.00025332\u001b[0m,  \u001b[1;36m0.03421012\u001b[0m,  \u001b[1;36m0.00150421\u001b[0m\u001b[1m]\u001b[0m,\n",
       "       \u001b[1m[\u001b[0m \u001b[1;36m0.00610946\u001b[0m,  \u001b[1;36m0.01724229\u001b[0m, \u001b[1;36m-0.02540286\u001b[0m\u001b[1m]\u001b[0m,\n",
       "       \u001b[1m[\u001b[0m\u001b[1;36m-0.00216627\u001b[0m,  \u001b[1;36m0.01653441\u001b[0m,  \u001b[1;36m0.03086051\u001b[0m\u001b[1m]\u001b[0m,\n",
       "       \u001b[1m[\u001b[0m \u001b[1;36m0.00031441\u001b[0m, \u001b[1;36m-0.03401289\u001b[0m,  \u001b[1;36m0.00124098\u001b[0m\u001b[1m]\u001b[0m,\n",
       "       \u001b[1m[\u001b[0m \u001b[1;36m0.00150884\u001b[0m,  \u001b[1;36m0.00059087\u001b[0m, \u001b[1;36m-0.00160554\u001b[0m\u001b[1m]\u001b[0m,\n",
       "       \u001b[1m[\u001b[0m\u001b[1;36m-0.00205415\u001b[0m, \u001b[1;36m-0.00451505\u001b[0m, \u001b[1;36m-0.00119859\u001b[0m\u001b[1m]\u001b[0m\u001b[1m]\u001b[0m, \u001b[33mdtype\u001b[0m=\u001b[35mfloat32\u001b[0m\u001b[1m)\u001b[0m,\n",
       "                \u001b[33mstresses\u001b[0m=\u001b[1;35marray\u001b[0m\u001b[1m(\u001b[0m\u001b[1m[\u001b[0m \u001b[1;36m1.62693876e-04\u001b[0m,  \u001b[1;36m1.34791830e-04\u001b[0m,  \u001b[1;36m1.31715802e-04\u001b[0m,  \u001b[1;36m1.38002770e-06\u001b[0m,\n",
       "        \u001b[1;36m1.99009173e-06\u001b[0m, \u001b[1;36m-3.13665396e-06\u001b[0m\u001b[1m]\u001b[0m\u001b[1m)\u001b[0m,\n",
       "                \u001b[33matom_positions\u001b[0m=\u001b[1;35marray\u001b[0m\u001b[1m(\u001b[0m\u001b[1m[\u001b[0m\u001b[1m[\u001b[0m\u001b[1;36m1.59698032\u001b[0m, \u001b[1;36m5.68138104\u001b[0m, \u001b[1;36m5.99422073\u001b[0m\u001b[1m]\u001b[0m,\n",
       "       \u001b[1m[\u001b[0m\u001b[1;36m1.59601341\u001b[0m, \u001b[1;36m5.68212563\u001b[0m, \u001b[1;36m9.84019026\u001b[0m\u001b[1m]\u001b[0m,\n",
       "       \u001b[1m[\u001b[0m\u001b[1;36m1.59692459\u001b[0m, \u001b[1;36m2.35473242\u001b[0m, \u001b[1;36m7.91632138\u001b[0m\u001b[1m]\u001b[0m,\n",
       "       \u001b[1m[\u001b[0m\u001b[1;36m4.79521547\u001b[0m, \u001b[1;36m1.17515623\u001b[0m, \u001b[1;36m5.88135561\u001b[0m\u001b[1m]\u001b[0m,\n",
       "       \u001b[1m[\u001b[0m\u001b[1;36m4.79622384\u001b[0m, \u001b[1;36m1.17489436\u001b[0m, \u001b[1;36m2.03581572\u001b[0m\u001b[1m]\u001b[0m,\n",
       "       \u001b[1m[\u001b[0m\u001b[1;36m4.79545583\u001b[0m, \u001b[1;36m4.50229395\u001b[0m, \u001b[1;36m3.95850578\u001b[0m\u001b[1m]\u001b[0m,\n",
       "       \u001b[1m[\u001b[0m\u001b[1;36m4.79505857\u001b[0m, \u001b[1;36m4.57203965\u001b[0m, \u001b[1;36m7.91465572\u001b[0m\u001b[1m]\u001b[0m,\n",
       "       \u001b[1m[\u001b[0m\u001b[1;36m1.59767298\u001b[0m, \u001b[1;36m2.28134338\u001b[0m, \u001b[1;36m3.9570264\u001b[0m \u001b[1m]\u001b[0m\u001b[1m]\u001b[0m\u001b[1m)\u001b[0m,\n",
       "                \u001b[33mcell\u001b[0m=\u001b[1;35marray\u001b[0m\u001b[1m(\u001b[0m\u001b[1m[\u001b[0m\u001b[1m[\u001b[0m \u001b[1;36m6.39217710e+00\u001b[0m,  \u001b[1;36m0.00000000e+00\u001b[0m,  \u001b[1;36m3.91407943e-16\u001b[0m\u001b[1m]\u001b[0m,\n",
       "       \u001b[1m[\u001b[0m\u001b[1;36m-4.19786458e-16\u001b[0m,  \u001b[1;36m6.85563278e+00\u001b[0m,  \u001b[1;36m3.95810103e+00\u001b[0m\u001b[1m]\u001b[0m,\n",
       "       \u001b[1m[\u001b[0m \u001b[1;36m0.00000000e+00\u001b[0m,  \u001b[1;36m0.00000000e+00\u001b[0m,  \u001b[1;36m7.91620302e+00\u001b[0m\u001b[1m]\u001b[0m\u001b[1m]\u001b[0m\u001b[1m)\u001b[0m\n",
       "            \u001b[1m)\u001b[0m\n",
       "        \u001b[1m]\u001b[0m\n",
       "    \u001b[1m)\u001b[0m\n",
       "\u001b[1m)\u001b[0m\n"
      ]
     },
     "metadata": {},
     "output_type": "display_data"
    }
   ],
   "source": [
    "import rich\n",
    "\n",
    "relax_out = relaxer.relax(data)\n",
    "rich.print(relax_out)"
   ]
  },
  {
   "cell_type": "code",
   "execution_count": 16,
   "metadata": {},
   "outputs": [
    {
     "data": {
      "text/plain": [
       "tensor[1] cuda:0 [0.544]"
      ]
     },
     "execution_count": 16,
     "metadata": {},
     "output_type": "execute_result"
    }
   ],
   "source": [
    "data.y_formation"
   ]
  }
 ],
 "metadata": {
  "kernelspec": {
   "display_name": "jmp-peft",
   "language": "python",
   "name": "python3"
  },
  "language_info": {
   "codemirror_mode": {
    "name": "ipython",
    "version": 3
   },
   "file_extension": ".py",
   "mimetype": "text/x-python",
   "name": "python",
   "nbconvert_exporter": "python",
   "pygments_lexer": "ipython3",
   "version": "3.11.9"
  }
 },
 "nbformat": 4,
 "nbformat_minor": 2
}
