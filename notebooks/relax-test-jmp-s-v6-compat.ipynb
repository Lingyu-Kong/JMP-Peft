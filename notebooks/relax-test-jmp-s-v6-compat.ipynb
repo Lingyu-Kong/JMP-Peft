{
 "cells": [
  {
   "cell_type": "code",
   "execution_count": 1,
   "metadata": {},
   "outputs": [
    {
     "name": "stdout",
     "output_type": "stream",
     "text": [
      "/net/csefiles/coc-fung-cluster/nima/shared/experiment-data/lltrainer/uirlcewv\n"
     ]
    }
   ],
   "source": [
    "from pathlib import Path\n",
    "\n",
    "run_id = \"uirlcewv\"\n",
    "run_dir = Path(\n",
    "    f\"/net/csefiles/coc-fung-cluster/nima/shared/experiment-data/lltrainer/{run_id}/\"\n",
    ")\n",
    "assert (\n",
    "    run_dir.exists() and run_dir.is_dir()\n",
    "), f\"run_dir: {run_dir} does not exist or is not a directory\"\n",
    "print(run_dir)"
   ]
  },
  {
   "cell_type": "code",
   "execution_count": 2,
   "metadata": {},
   "outputs": [
    {
     "name": "stderr",
     "output_type": "stream",
     "text": [
      "TensorBoard/TensorBoardX not found. Disabling TensorBoardLogger. Please install TensorBoard with `pip install tensorboard` or TensorBoardX with `pip install tensorboardx` to enable TensorBoard logging.\n",
      "Type checking the following modules: ('jmppeft',)\n",
      "/net/csefiles/coc-fung-cluster/nima/miniforge3/envs/jmp-peft/lib/python3.11/site-packages/nshtrainer/model/config.py:1504: IdSeedWarning: BaseConfig._rng is None. The generated IDs will not be reproducible. To fix this, call BaseConfig.set_seed(...) before generating any IDs.\n",
      "  warnings.warn(\n"
     ]
    },
    {
     "data": {
      "text/plain": [
       "MatbenchDiscoveryConfig(id='tsrzetma', name='mptrj', name_parts=['jmps', 'bsz40', 'linrefenergy', 'lr8e-05', 'ln', 'direct', 'maceenergy', 'maceforce', 'rele', 'ec5.0', 'fc10.0', 'sc100.0', 'posaug_std0.01'], project='jmp_mptrj', directory=DirectoryConfig(project_root=PosixPath('/net/csefiles/coc-fung-cluster/nima/shared/experiment-data')), trainer=TrainerConfig(optimizer=OptimizationConfig(log_grad_norm=True, gradient_clipping=GradientClippingConfig(value=2.0, algorithm='value')), early_stopping=EarlyStoppingConfig(patience=50, min_lr=1e-08), precision='fp16-mixed', max_epochs=500, max_time='07:00:00:00', use_distributed_sampler=False, set_float32_matmul_precision='medium'), primary_metric=MetricConfig(name='matbench_discovery/force_mae', mode='min'), meta={'jmp_kind': 's'}, train_dataset=FinetuneMPTrjHuggingfaceDatasetConfig(split='train', energy_column_mapping={'y': 'corrected_total_energy_referenced', 'y_relaxed': 'corrected_total_energy_relaxed_referenced'}), val_dataset=FinetuneMPTrjHuggingfaceDatasetConfig(split='val', energy_column_mapping={'y': 'corrected_total_energy_referenced', 'y_relaxed': 'corrected_total_energy_relaxed_referenced'}), test_dataset=FinetuneMPTrjHuggingfaceDatasetConfig(split='test', energy_column_mapping={'y': 'corrected_total_energy_referenced', 'y_relaxed': 'corrected_total_energy_relaxed_referenced'}), optimizer=AdamWConfig(lr=8e-05, weight_decay=0.1, betas=(0.9, 0.95)), lr_scheduler=WarmupCosRLPConfig(warmup_epochs=1, max_epochs=128, warmup_start_lr_factor=0.1, min_lr_factor=0.5, rlp=RLPConfig(patience=5, factor=0.8)), embedding=EmbeddingConfig(num_elements=120, embedding_size=256), backbone=BackboneConfig(num_spherical=7, num_radial=128, num_blocks=4, emb_size_atom=256, emb_size_edge=512, emb_size_trip_in=64, emb_size_trip_out=64, emb_size_quad_in=32, emb_size_quad_out=32, emb_size_aint_in=64, emb_size_aint_out=64, emb_size_rbf=16, emb_size_cbf=16, emb_size_sbf=32, num_before_skip=2, num_after_skip=2, num_concat=1, num_atom=3, num_output_afteratom=3, num_atom_emb_layers=2, direct_forces=True, sbf={'name': 'legendre_outer'}, quad_interaction=True, atom_edge_interaction=True, edge_atom_interaction=True, atom_interaction=True, absolute_rbf_cutoff=12.0, dropout=None, edge_dropout=None, ln_per_layer=True, scale_factor_to_ln=True), batch_size=40, num_workers=7, graph_targets=[AllegroScalarTargetConfig(name='y', loss_coefficient=5.0, loss=MACEHuberEnergyLossConfig(delta=0.01), max_atomic_number=120, edge_level_energies=True), AllegroScalarTargetConfig(name='y_relaxed', loss_coefficient=2.5, loss=MACEHuberEnergyLossConfig(delta=0.01), max_atomic_number=120, edge_level_energies=True), DirectStressTargetConfig(name='stress', loss_coefficient=100.0, reduction='mean', loss=HuberLossConfig(delta=0.01))], node_targets=[NodeVectorTargetConfig(name='force', loss_coefficient=10.0, loss=MACEHuberLossConfig(delta=0.01))], parameter_specific_optimizers=[ParamSpecificOptimizerConfig(name='ln', paremeter_patterns=['backbone.h_lns.*', 'backbone.m_lns.*', 'backbone.*.scale*.ln.*'], optimizer=AdamWConfig(lr=0.00012000000000000002, weight_decay=0.1, betas=(0.9, 0.95)), lr_scheduler=WarmupCosRLPConfig(warmup_epochs=1, max_epochs=128, warmup_start_lr_factor=0.1, min_lr_factor=0.3333333333333333, rlp=RLPConfig(patience=5, factor=0.8))), ParamSpecificOptimizerConfig(name='embedding', paremeter_patterns=['embedding.*'], optimizer=AdamWConfig(lr=2.4e-05, weight_decay=0.1, betas=(0.9, 0.95)), lr_scheduler=WarmupCosRLPConfig(warmup_epochs=1, max_epochs=128, warmup_start_lr_factor=0.1, min_lr_factor=0.99, rlp=RLPConfig(patience=5, factor=0.8))), ParamSpecificOptimizerConfig(name='blocks_0', paremeter_patterns=['backbone.int_blocks.0.*', 'backbone.out_blocks.1.*', 'backbone.out_blocks.0.*'], optimizer=AdamWConfig(lr=2.4e-05, weight_decay=0.1, betas=(0.9, 0.95)), lr_scheduler=WarmupCosRLPConfig(warmup_epochs=1, max_epochs=128, warmup_start_lr_factor=0.1, min_lr_factor=0.99, rlp=RLPConfig(patience=5, factor=0.8))), ParamSpecificOptimizerConfig(name='blocks_1', paremeter_patterns=['backbone.int_blocks.1.*', 'backbone.out_blocks.2.*'], optimizer=AdamWConfig(lr=3.2000000000000005e-05, weight_decay=0.1, betas=(0.9, 0.95)), lr_scheduler=WarmupCosRLPConfig(warmup_epochs=1, max_epochs=128, warmup_start_lr_factor=0.1, min_lr_factor=0.99, rlp=RLPConfig(patience=5, factor=0.8))), ParamSpecificOptimizerConfig(name='blocks_2', paremeter_patterns=['backbone.int_blocks.2.*', 'backbone.out_blocks.3.*'], optimizer=AdamWConfig(lr=4.4000000000000006e-05, weight_decay=0.1, betas=(0.9, 0.95)), lr_scheduler=WarmupCosRLPConfig(warmup_epochs=1, max_epochs=128, warmup_start_lr_factor=0.1, min_lr_factor=0.9090909090909091, rlp=RLPConfig(patience=5, factor=0.8))), ParamSpecificOptimizerConfig(name='blocks_3', paremeter_patterns=['backbone.int_blocks.3.*', 'backbone.out_blocks.4.*'], optimizer=AdamWConfig(lr=5e-05, weight_decay=0.1, betas=(0.9, 0.95)), lr_scheduler=WarmupCosRLPConfig(warmup_epochs=1, max_epochs=128, warmup_start_lr_factor=0.1, min_lr_factor=0.8, rlp=RLPConfig(patience=5, factor=0.8))), ParamSpecificOptimizerConfig(name='y.scales', paremeter_patterns=['graph_outputs._module_dict.ft_mlp_y.per_atom_scales.*', 'graph_outputs._module_dict.ft_mlp_y.per_atom_shifts.*', 'graph_outputs._module_dict.ft_mlp_y.pairwise_scales.*'], optimizer=AdamWConfig(lr=8.000000000000001e-06, weight_decay=0.1, betas=(0.9, 0.95)), lr_scheduler=WarmupCosRLPConfig(warmup_epochs=1, max_epochs=128, warmup_start_lr_factor=0.1, min_lr_factor=0.99, rlp=RLPConfig(patience=5, factor=0.8))), ParamSpecificOptimizerConfig(name='y_relaxed.scales', paremeter_patterns=['graph_outputs._module_dict.ft_mlp_y_relaxed.per_atom_scales.*', 'graph_outputs._module_dict.ft_mlp_y_relaxed.per_atom_shifts.*', 'graph_outputs._module_dict.ft_mlp_y_relaxed.pairwise_scales.*'], optimizer=AdamWConfig(lr=8.000000000000001e-06, weight_decay=0.1, betas=(0.9, 0.95)), lr_scheduler=WarmupCosRLPConfig(warmup_epochs=1, max_epochs=128, warmup_start_lr_factor=0.1, min_lr_factor=0.99, rlp=RLPConfig(patience=5, factor=0.8)))], use_balanced_batch_sampler=True, ckpt_load=CheckpointLoadConfig(checkpoint=PretrainedCheckpointConfig(path=PosixPath('/net/csefiles/coc-fung-cluster/nima/shared/checkpoints/jmp-s.pt'))), pos_noise_augmentation=PositionNoiseAugmentationConfig(noise_std=0.01, system_corrupt_prob=0.75, atom_corrupt_prob=0.5), per_graph_radius_graph=True, ignore_graph_generation_errors=False, max_neighbors=MaxNeighbors(main=25, aeaint=20, qint=8, aint=1000))"
      ]
     },
     "execution_count": 2,
     "metadata": {},
     "output_type": "execute_result"
    }
   ],
   "source": [
    "def make_config():\n",
    "    from collections.abc import Callable\n",
    "    from pathlib import Path\n",
    "    from typing import Literal\n",
    "\n",
    "    import nshtrainer as nt\n",
    "    from jmppeft.configs.finetune.jmp_s import jmp_s_ft_config_\n",
    "    from jmppeft.modules import loss\n",
    "    from jmppeft.tasks.config import AdamWConfig\n",
    "    from jmppeft.tasks.finetune import base, output_head\n",
    "    from jmppeft.tasks.finetune import matbench_discovery as M\n",
    "    from jmppeft.utils.param_specific_util import (\n",
    "        make_parameter_specific_optimizer_config,\n",
    "        parameter_specific_optimizer_config,\n",
    "    )\n",
    "\n",
    "    jmp_s_ckpt_path = Path(\n",
    "        \"/net/csefiles/coc-fung-cluster/nima/shared/checkpoints/jmp-s.pt\"\n",
    "    )\n",
    "\n",
    "    # Set this to None if you want the run logs to be saved in the current directory\n",
    "    project_root: Path | None = Path(\n",
    "        \"/net/csefiles/coc-fung-cluster/nima/shared/experiment-data/\"\n",
    "    )\n",
    "    project_root.mkdir(exist_ok=True, parents=True)\n",
    "\n",
    "    def jmp_s_(config: base.FinetuneConfigBase):\n",
    "        ckpt_path = jmp_s_ckpt_path\n",
    "        assert ckpt_path.exists(), f\"Checkpoint not found: {ckpt_path}\"\n",
    "\n",
    "        jmp_s_ft_config_(config)\n",
    "        config.ckpt_load.checkpoint = base.PretrainedCheckpointConfig(\n",
    "            path=ckpt_path, ema=True\n",
    "        )\n",
    "\n",
    "        config.meta[\"jmp_kind\"] = \"s\"\n",
    "        config.name_parts.append(\"jmps\")\n",
    "\n",
    "    def parameter_specific_optimizers_(config: base.FinetuneConfigBase):\n",
    "        if config.parameter_specific_optimizers is None:\n",
    "            config.parameter_specific_optimizers = []\n",
    "\n",
    "        match config.meta[\"jmp_kind\"]:\n",
    "            case \"l\":\n",
    "                config.parameter_specific_optimizers.extend(\n",
    "                    make_parameter_specific_optimizer_config(\n",
    "                        config,\n",
    "                        config.backbone.num_blocks,\n",
    "                        {\n",
    "                            \"embedding\": 0.3,\n",
    "                            \"blocks_0\": 0.55,\n",
    "                            \"blocks_1\": 0.40,\n",
    "                            \"blocks_2\": 0.30,\n",
    "                            \"blocks_3\": 0.40,\n",
    "                            \"blocks_4\": 0.55,\n",
    "                            \"blocks_5\": 0.625,\n",
    "                        },\n",
    "                    )\n",
    "                )\n",
    "            case \"s\":\n",
    "                config.parameter_specific_optimizers.extend(\n",
    "                    make_parameter_specific_optimizer_config(\n",
    "                        config,\n",
    "                        config.backbone.num_blocks,\n",
    "                        {\n",
    "                            \"embedding\": 0.3,\n",
    "                            \"blocks_0\": 0.30,\n",
    "                            \"blocks_1\": 0.40,\n",
    "                            \"blocks_2\": 0.55,\n",
    "                            \"blocks_3\": 0.625,\n",
    "                        },\n",
    "                    )\n",
    "                )\n",
    "            case _:\n",
    "                raise ValueError(f\"Invalid jmp_kind: {config.meta['jmp_kind']}\")\n",
    "\n",
    "    def parameter_specific_optimizers_energy_references_(\n",
    "        config: base.FinetuneConfigBase,\n",
    "        lr_multiplier: float = 0.1,\n",
    "    ):\n",
    "        if not config.parameter_specific_optimizers:\n",
    "            config.parameter_specific_optimizers = []\n",
    "\n",
    "        if energy_ref_heads := [\n",
    "            t\n",
    "            for t in config.graph_targets\n",
    "            if isinstance(t, output_head.ReferencedScalarTargetConfig)\n",
    "        ]:\n",
    "            config.parameter_specific_optimizers.extend(\n",
    "                parameter_specific_optimizer_config(\n",
    "                    config,\n",
    "                    [\n",
    "                        {\n",
    "                            \"name\": f\"{energy_ref_head.name}.ref\",\n",
    "                            \"lr_multiplier\": lr_multiplier,\n",
    "                            \"parameter_patterns\": [\n",
    "                                f\"graph_outputs._module_dict.ft_mlp_{energy_ref_head.name}.references.*\"\n",
    "                            ],\n",
    "                        }\n",
    "                        for energy_ref_head in energy_ref_heads\n",
    "                    ],\n",
    "                )\n",
    "            )\n",
    "\n",
    "        elif allegro_heads := [\n",
    "            t\n",
    "            for t in config.graph_targets\n",
    "            if isinstance(t, output_head.AllegroScalarTargetConfig)\n",
    "        ]:\n",
    "            config.parameter_specific_optimizers.extend(\n",
    "                parameter_specific_optimizer_config(\n",
    "                    config,\n",
    "                    [\n",
    "                        {\n",
    "                            \"name\": f\"{h.name}.scales\",\n",
    "                            \"lr_multiplier\": lr_multiplier,\n",
    "                            \"parameter_patterns\": [\n",
    "                                f\"graph_outputs._module_dict.ft_mlp_{h.name}.per_atom_scales.*\",\n",
    "                                f\"graph_outputs._module_dict.ft_mlp_{h.name}.per_atom_shifts.*\",\n",
    "                                *(\n",
    "                                    [\n",
    "                                        f\"graph_outputs._module_dict.ft_mlp_{h.name}.pairwise_scales.*\"\n",
    "                                    ]\n",
    "                                    if h.edge_level_energies\n",
    "                                    else []\n",
    "                                ),\n",
    "                            ],\n",
    "                        }\n",
    "                        for h in allegro_heads\n",
    "                    ],\n",
    "                )\n",
    "            )\n",
    "        else:\n",
    "            raise ValueError(\"No energy reference or allegro heads found\")\n",
    "\n",
    "    def direct_(config: base.FinetuneConfigBase):\n",
    "        config.backbone.regress_forces = True\n",
    "        config.backbone.direct_forces = True\n",
    "        config.backbone.regress_energy = True\n",
    "        config.name_parts.append(\"direct\")\n",
    "\n",
    "    def ln_(\n",
    "        config: base.FinetuneConfigBase,\n",
    "        *,\n",
    "        lr_multiplier: float | None,\n",
    "    ):\n",
    "        config.backbone.ln_per_layer = True\n",
    "        config.backbone.scale_factor_to_ln = True\n",
    "\n",
    "        if lr_multiplier is not None:\n",
    "            if config.parameter_specific_optimizers is None:\n",
    "                config.parameter_specific_optimizers = []\n",
    "\n",
    "            config.parameter_specific_optimizers = [\n",
    "                *parameter_specific_optimizer_config(\n",
    "                    config,\n",
    "                    [\n",
    "                        {\n",
    "                            \"name\": \"ln\",\n",
    "                            \"lr_multiplier\": lr_multiplier,\n",
    "                            \"parameter_patterns\": [\n",
    "                                \"backbone.h_lns.*\",\n",
    "                                \"backbone.m_lns.*\",\n",
    "                                \"backbone.*.scale*.ln.*\",\n",
    "                            ],\n",
    "                        }\n",
    "                    ],\n",
    "                ),\n",
    "                *config.parameter_specific_optimizers,\n",
    "            ]\n",
    "\n",
    "        config.name_parts.append(\"ln\")\n",
    "\n",
    "    def pos_aug_(config: base.FinetuneConfigBase, *, std: float):\n",
    "        config.pos_noise_augmentation = base.PositionNoiseAugmentationConfig(\n",
    "            system_corrupt_prob=0.75,\n",
    "            atom_corrupt_prob=0.5,\n",
    "            noise_std=std,\n",
    "        )\n",
    "        config.name_parts.append(f\"posaug_std{std}\")\n",
    "\n",
    "    def data_config_(\n",
    "        config: M.MatbenchDiscoveryConfig,\n",
    "        *,\n",
    "        batch_size: int,\n",
    "        reference: bool,\n",
    "    ):\n",
    "        config.batch_size = batch_size\n",
    "        config.name_parts.append(f\"bsz{batch_size}\")\n",
    "\n",
    "        def dataset_fn(split: Literal[\"train\", \"val\", \"test\"]):\n",
    "            return base.FinetuneMPTrjHuggingfaceDatasetConfig(\n",
    "                split=split,\n",
    "                energy_column_mapping={\n",
    "                    \"y\": \"corrected_total_energy_referenced\",\n",
    "                    \"y_relaxed\": \"corrected_total_energy_relaxed_referenced\",\n",
    "                }\n",
    "                if reference\n",
    "                else {\n",
    "                    \"y\": \"corrected_total_energy\",\n",
    "                    \"y_relaxed\": \"corrected_total_energy_relaxed\",\n",
    "                },\n",
    "            )\n",
    "\n",
    "        config.train_dataset = dataset_fn(\"train\")\n",
    "        config.val_dataset = dataset_fn(\"val\")\n",
    "        config.test_dataset = dataset_fn(\"test\")\n",
    "\n",
    "        if reference:\n",
    "            config.name_parts.append(\"linrefenergy\")\n",
    "        else:\n",
    "            config.name_parts.append(\"totalenergy\")\n",
    "\n",
    "        # Set data config\n",
    "        config.num_workers = 7\n",
    "\n",
    "        # Balanced batch sampler\n",
    "        config.use_balanced_batch_sampler = True\n",
    "        config.trainer.use_distributed_sampler = False\n",
    "\n",
    "    def output_heads_config_(\n",
    "        config: M.MatbenchDiscoveryConfig,\n",
    "        *,\n",
    "        relaxed_energy: bool,\n",
    "        mace_energy_loss: bool,\n",
    "        mace_force_loss: bool,\n",
    "        energy_coefficient: float,\n",
    "        force_coefficient: float,\n",
    "        stress_coefficient: float,\n",
    "    ):\n",
    "        energy_loss = loss.HuberLossConfig(delta=0.01)\n",
    "        if mace_energy_loss:\n",
    "            energy_loss = loss.MACEHuberEnergyLossConfig(delta=0.01)\n",
    "            config.name_parts.append(\"maceenergy\")\n",
    "\n",
    "        force_loss = loss.HuberLossConfig(delta=0.01)\n",
    "        if mace_force_loss:\n",
    "            force_loss = loss.MACEHuberLossConfig(delta=0.01)\n",
    "            config.name_parts.append(\"maceforce\")\n",
    "\n",
    "        # Energy head\n",
    "        config.graph_targets.append(\n",
    "            output_head.AllegroScalarTargetConfig(\n",
    "                name=\"y\",\n",
    "                loss_coefficient=energy_coefficient,\n",
    "                loss=energy_loss.model_copy(),\n",
    "                reduction=\"sum\",\n",
    "                max_atomic_number=config.backbone.num_elements,\n",
    "                edge_level_energies=True,\n",
    "            )\n",
    "        )\n",
    "        if relaxed_energy:\n",
    "            # Relaxed Energy head\n",
    "            config.graph_targets.append(\n",
    "                output_head.AllegroScalarTargetConfig(\n",
    "                    name=\"y_relaxed\",\n",
    "                    loss_coefficient=energy_coefficient / 2.0,\n",
    "                    loss=energy_loss.model_copy(),\n",
    "                    reduction=\"sum\",\n",
    "                    max_atomic_number=config.backbone.num_elements,\n",
    "                    edge_level_energies=True,\n",
    "                )\n",
    "            )\n",
    "\n",
    "            config.name_parts.append(\"rele\")\n",
    "        # Stress head\n",
    "        config.graph_targets.append(\n",
    "            output_head.DirectStressTargetConfig(\n",
    "                name=\"stress\",\n",
    "                loss_coefficient=stress_coefficient,\n",
    "                loss=loss.HuberLossConfig(delta=0.01),\n",
    "                reduction=\"mean\",\n",
    "            )\n",
    "        )\n",
    "        # Force head\n",
    "        config.node_targets.append(\n",
    "            output_head.NodeVectorTargetConfig(\n",
    "                name=\"force\",\n",
    "                loss_coefficient=force_coefficient,\n",
    "                loss=force_loss,\n",
    "                reduction=\"sum\",\n",
    "            )\n",
    "        )\n",
    "\n",
    "        config.name_parts.append(f\"ec{energy_coefficient}\")\n",
    "        config.name_parts.append(f\"fc{force_coefficient}\")\n",
    "        config.name_parts.append(f\"sc{stress_coefficient}\")\n",
    "\n",
    "    def optimization_config_(\n",
    "        config: M.MatbenchDiscoveryConfig,\n",
    "        *,\n",
    "        lr: float,\n",
    "    ):\n",
    "        config.optimizer = AdamWConfig(\n",
    "            lr=lr,\n",
    "            amsgrad=False,\n",
    "            betas=(0.9, 0.95),\n",
    "            weight_decay=0.1,\n",
    "        )\n",
    "        config.lr_scheduler = base.WarmupCosRLPConfig(\n",
    "            warmup_epochs=1,\n",
    "            warmup_start_lr_factor=1.0e-1,\n",
    "            should_restart=False,\n",
    "            max_epochs=128,\n",
    "            min_lr_factor=0.5,\n",
    "            rlp=base.RLPConfig(patience=5, factor=0.8),\n",
    "        )\n",
    "        config.trainer.optimizer.gradient_clipping = nt.model.GradientClippingConfig(\n",
    "            value=2.0,\n",
    "            algorithm=\"value\",\n",
    "        )\n",
    "\n",
    "        config.name_parts.append(f\"lr{lr}\")\n",
    "\n",
    "    def create_config(config_fn: Callable[[M.MatbenchDiscoveryConfig], None]):\n",
    "        config = M.MatbenchDiscoveryConfig.draft()\n",
    "\n",
    "        config.trainer.precision = \"16-mixed-auto\"\n",
    "        config.trainer.set_float32_matmul_precision = \"medium\"\n",
    "\n",
    "        config.project = \"jmp_mptrj\"\n",
    "        config.name = \"mptrj\"\n",
    "        config_fn(config)\n",
    "        config.backbone.qint_tags = [0, 1, 2]\n",
    "\n",
    "        config.primary_metric = nt.MetricConfig(\n",
    "            name=\"matbench_discovery/force_mae\", mode=\"min\"\n",
    "        )\n",
    "\n",
    "        if project_root:\n",
    "            config.with_project_root_(project_root)\n",
    "        return config\n",
    "\n",
    "    config = create_config(jmp_s_)\n",
    "    config.parameter_specific_optimizers = []\n",
    "    config.max_neighbors = M.MaxNeighbors(main=25, aeaint=20, aint=1000, qint=8)\n",
    "    config.cutoffs = M.Cutoffs.from_constant(12.0)\n",
    "    data_config_(config, reference=True, batch_size=40)\n",
    "    optimization_config_(config, lr=8.0e-5)\n",
    "    ln_(config, lr_multiplier=1.5)\n",
    "    direct_(config=config)\n",
    "    output_heads_config_(\n",
    "        config,\n",
    "        relaxed_energy=True,\n",
    "        mace_energy_loss=True,\n",
    "        mace_force_loss=True,\n",
    "        energy_coefficient=5.0,\n",
    "        force_coefficient=10.0,\n",
    "        stress_coefficient=100.0,\n",
    "    )\n",
    "    parameter_specific_optimizers_(config)\n",
    "    parameter_specific_optimizers_energy_references_(config, lr_multiplier=0.1)\n",
    "    pos_aug_(config, std=0.01)\n",
    "    config.per_graph_radius_graph = True\n",
    "    config.ignore_graph_generation_errors = False\n",
    "\n",
    "    config = config.finalize()\n",
    "\n",
    "    return config\n",
    "\n",
    "\n",
    "config = make_config()\n",
    "config"
   ]
  },
  {
   "cell_type": "code",
   "execution_count": 3,
   "metadata": {},
   "outputs": [
    {
     "name": "stdout",
     "output_type": "stream",
     "text": [
      "/net/csefiles/coc-fung-cluster/nima/shared/experiment-data/lltrainer/uirlcewv/log/csv/csv/mptrj-jmps-bsz16-linrefenergy-lr8e-05-ln-direct-maceenergy-maceforce-rele-ec2.0-fc10.0-sc100.0-posaug_std0.01/uirlcewv/hparams.yaml\n"
     ]
    }
   ],
   "source": [
    "import yaml\n",
    "\n",
    "config_updated = config\n",
    "\n",
    "hparams_file = next(run_dir.glob(\"./log/csv/csv/*/*/hparams.yaml\"))\n",
    "print(hparams_file)\n",
    "\n",
    "key_keys = (\n",
    "    \"backbone\",\n",
    "    \"embedding\",\n",
    "    \"output\",\n",
    "    \"graph_targets\",\n",
    "    \"node_targets\",\n",
    "    \"train_dataset\",\n",
    "    \"val_dataset\",\n",
    "    \"test_dataset\",\n",
    "    \"id\",\n",
    "    \"name\",\n",
    "    \"name_parts\",\n",
    "    # \"predict_dataset\",\n",
    ")\n",
    "\n",
    "hparams = yaml.unsafe_load(hparams_file.read_text())\n",
    "\n",
    "# Update the config with the hparams\n",
    "for key in key_keys:\n",
    "    assert (value := hparams.get(key)), f\"{key} not found in hparams\"\n",
    "\n",
    "    config_dict = config_updated.model_dump(round_trip=True)\n",
    "    config_dict[key] = value\n",
    "    config_updated = config_updated.model_validate(config_dict, strict=True)"
   ]
  },
  {
   "cell_type": "code",
   "execution_count": 4,
   "metadata": {},
   "outputs": [],
   "source": [
    "import os\n",
    "\n",
    "os.environ[\"LL_DISABLE_TYPECHECKING\"] = \"1\"\n",
    "os.environ[\"CUDA_VISIBLE_DEVICES\"] = \"0\"\n",
    "\n",
    "\n",
    "import torch\n",
    "\n",
    "torch.no_grad().__enter__()\n",
    "torch.inference_mode().__enter__()"
   ]
  },
  {
   "cell_type": "code",
   "execution_count": 5,
   "metadata": {},
   "outputs": [
    {
     "data": {
      "text/plain": [
       "PosixPath('/net/csefiles/coc-fung-cluster/nima/shared/experiment-data/lltrainer/uirlcewv/checkpoint/latest_epoch31_step724384.ckpt')"
      ]
     },
     "execution_count": 5,
     "metadata": {},
     "output_type": "execute_result"
    }
   ],
   "source": [
    "# ckpt_path = run_dir / \"checkpoint\" / \"last.ckpt\"\n",
    "ckpt_path = next(run_dir.glob(\"checkpoint/latest_*.ckpt\"))\n",
    "# If the file is a symlink, get the target\n",
    "if ckpt_path.is_symlink():\n",
    "    print(f\"Symlink found {ckpt_path} => {ckpt_path.resolve()}\")\n",
    "    ckpt_path = ckpt_path.resolve()\n",
    "\n",
    "ckpt_path"
   ]
  },
  {
   "cell_type": "code",
   "execution_count": 6,
   "metadata": {},
   "outputs": [
    {
     "name": "stdout",
     "output_type": "stream",
     "text": [
      "\n",
      "Loading 'wbm_summary' from cached file at '/nethome/nsg6/.cache/matbench-discovery/1.0.0/wbm/2023-12-13-wbm-summary.csv.gz'\n"
     ]
    },
    {
     "data": {
      "text/plain": [
       "(<jmppeft.datasets.mpd_is2re.MatBenchDiscoveryIS2REDataset at 0x7f95dd318250>,\n",
       " 256963)"
      ]
     },
     "execution_count": 6,
     "metadata": {},
     "output_type": "execute_result"
    }
   ],
   "source": [
    "from jmppeft.tasks.finetune.base import FinetuneMatBenchDiscoveryIS2REDatasetConfig\n",
    "\n",
    "dataset_config = FinetuneMatBenchDiscoveryIS2REDatasetConfig(\n",
    "    # sample_n=DatasetSampleNConfig(sample_n=16, seed=42)\n",
    ")\n",
    "print(dataset_config)\n",
    "\n",
    "dataset_og = dataset_config.create_dataset()\n",
    "dataset_og, len(dataset_og)"
   ]
  },
  {
   "cell_type": "code",
   "execution_count": 9,
   "metadata": {},
   "outputs": [
    {
     "data": {
      "text/html": [
       "<pre style=\"white-space:pre;overflow-x:auto;line-height:normal;font-family:Menlo,'DejaVu Sans Mono',consolas,'Courier New',monospace\"><span style=\"color: #7fbfbf; text-decoration-color: #7fbfbf\">[19:29:00] </span><span style=\"color: #800000; text-decoration-color: #800000\">WARNING </span> NSHRUNNER_SESSION_DIR is not set. Skipping symlink creation.                      <a href=\"file:///net/csefiles/coc-fung-cluster/nima/miniforge3/envs/jmp-peft/lib/python3.11/site-packages/nshtrainer/model/config.py\" target=\"_blank\"><span style=\"color: #7f7f7f; text-decoration-color: #7f7f7f\">config.py</span></a><span style=\"color: #7f7f7f; text-decoration-color: #7f7f7f\">:</span><a href=\"file:///net/csefiles/coc-fung-cluster/nima/miniforge3/envs/jmp-peft/lib/python3.11/site-packages/nshtrainer/model/config.py#621\" target=\"_blank\"><span style=\"color: #7f7f7f; text-decoration-color: #7f7f7f\">621</span></a>\n",
       "</pre>\n"
      ],
      "text/plain": [
       "\u001b[2;36m[19:29:00]\u001b[0m\u001b[2;36m \u001b[0m\u001b[31mWARNING \u001b[0m NSHRUNNER_SESSION_DIR is not set. Skipping symlink creation.                      \u001b]8;id=242578;file:///net/csefiles/coc-fung-cluster/nima/miniforge3/envs/jmp-peft/lib/python3.11/site-packages/nshtrainer/model/config.py\u001b\\\u001b[2mconfig.py\u001b[0m\u001b]8;;\u001b\\\u001b[2m:\u001b[0m\u001b]8;id=710622;file:///net/csefiles/coc-fung-cluster/nima/miniforge3/envs/jmp-peft/lib/python3.11/site-packages/nshtrainer/model/config.py#621\u001b\\\u001b[2m621\u001b[0m\u001b]8;;\u001b\\\n"
      ]
     },
     "metadata": {},
     "output_type": "display_data"
    },
    {
     "data": {
      "text/html": [
       "<pre style=\"white-space:pre;overflow-x:auto;line-height:normal;font-family:Menlo,'DejaVu Sans Mono',consolas,'Courier New',monospace\"><span style=\"color: #7fbfbf; text-decoration-color: #7fbfbf\">           </span><span style=\"color: #800000; text-decoration-color: #800000\">WARNING </span> NSHRUNNER_SESSION_DIR is not set. Skipping symlink creation.                      <a href=\"file:///net/csefiles/coc-fung-cluster/nima/miniforge3/envs/jmp-peft/lib/python3.11/site-packages/nshtrainer/model/config.py\" target=\"_blank\"><span style=\"color: #7f7f7f; text-decoration-color: #7f7f7f\">config.py</span></a><span style=\"color: #7f7f7f; text-decoration-color: #7f7f7f\">:</span><a href=\"file:///net/csefiles/coc-fung-cluster/nima/miniforge3/envs/jmp-peft/lib/python3.11/site-packages/nshtrainer/model/config.py#621\" target=\"_blank\"><span style=\"color: #7f7f7f; text-decoration-color: #7f7f7f\">621</span></a>\n",
       "</pre>\n"
      ],
      "text/plain": [
       "\u001b[2;36m          \u001b[0m\u001b[2;36m \u001b[0m\u001b[31mWARNING \u001b[0m NSHRUNNER_SESSION_DIR is not set. Skipping symlink creation.                      \u001b]8;id=35720;file:///net/csefiles/coc-fung-cluster/nima/miniforge3/envs/jmp-peft/lib/python3.11/site-packages/nshtrainer/model/config.py\u001b\\\u001b[2mconfig.py\u001b[0m\u001b]8;;\u001b\\\u001b[2m:\u001b[0m\u001b]8;id=522257;file:///net/csefiles/coc-fung-cluster/nima/miniforge3/envs/jmp-peft/lib/python3.11/site-packages/nshtrainer/model/config.py#621\u001b\\\u001b[2m621\u001b[0m\u001b]8;;\u001b\\\n"
      ]
     },
     "metadata": {},
     "output_type": "display_data"
    },
    {
     "data": {
      "text/html": [
       "<pre style=\"white-space:pre;overflow-x:auto;line-height:normal;font-family:Menlo,'DejaVu Sans Mono',consolas,'Courier New',monospace\"><span style=\"color: #7fbfbf; text-decoration-color: #7fbfbf\">           </span><span style=\"color: #800000; text-decoration-color: #800000\">WARNING </span> NSHRUNNER_SESSION_DIR is not set. Skipping symlink creation.                      <a href=\"file:///net/csefiles/coc-fung-cluster/nima/miniforge3/envs/jmp-peft/lib/python3.11/site-packages/nshtrainer/model/config.py\" target=\"_blank\"><span style=\"color: #7f7f7f; text-decoration-color: #7f7f7f\">config.py</span></a><span style=\"color: #7f7f7f; text-decoration-color: #7f7f7f\">:</span><a href=\"file:///net/csefiles/coc-fung-cluster/nima/miniforge3/envs/jmp-peft/lib/python3.11/site-packages/nshtrainer/model/config.py#621\" target=\"_blank\"><span style=\"color: #7f7f7f; text-decoration-color: #7f7f7f\">621</span></a>\n",
       "</pre>\n"
      ],
      "text/plain": [
       "\u001b[2;36m          \u001b[0m\u001b[2;36m \u001b[0m\u001b[31mWARNING \u001b[0m NSHRUNNER_SESSION_DIR is not set. Skipping symlink creation.                      \u001b]8;id=112932;file:///net/csefiles/coc-fung-cluster/nima/miniforge3/envs/jmp-peft/lib/python3.11/site-packages/nshtrainer/model/config.py\u001b\\\u001b[2mconfig.py\u001b[0m\u001b]8;;\u001b\\\u001b[2m:\u001b[0m\u001b]8;id=395956;file:///net/csefiles/coc-fung-cluster/nima/miniforge3/envs/jmp-peft/lib/python3.11/site-packages/nshtrainer/model/config.py#621\u001b\\\u001b[2m621\u001b[0m\u001b]8;;\u001b\\\n"
      ]
     },
     "metadata": {},
     "output_type": "display_data"
    },
    {
     "data": {
      "text/html": [
       "<pre style=\"white-space:pre;overflow-x:auto;line-height:normal;font-family:Menlo,'DejaVu Sans Mono',consolas,'Courier New',monospace\"><span style=\"color: #7fbfbf; text-decoration-color: #7fbfbf\">           </span><span style=\"color: #800000; text-decoration-color: #800000\">WARNING </span> NSHRUNNER_SESSION_DIR is not set. Skipping symlink creation.                      <a href=\"file:///net/csefiles/coc-fung-cluster/nima/miniforge3/envs/jmp-peft/lib/python3.11/site-packages/nshtrainer/model/config.py\" target=\"_blank\"><span style=\"color: #7f7f7f; text-decoration-color: #7f7f7f\">config.py</span></a><span style=\"color: #7f7f7f; text-decoration-color: #7f7f7f\">:</span><a href=\"file:///net/csefiles/coc-fung-cluster/nima/miniforge3/envs/jmp-peft/lib/python3.11/site-packages/nshtrainer/model/config.py#621\" target=\"_blank\"><span style=\"color: #7f7f7f; text-decoration-color: #7f7f7f\">621</span></a>\n",
       "</pre>\n"
      ],
      "text/plain": [
       "\u001b[2;36m          \u001b[0m\u001b[2;36m \u001b[0m\u001b[31mWARNING \u001b[0m NSHRUNNER_SESSION_DIR is not set. Skipping symlink creation.                      \u001b]8;id=30733;file:///net/csefiles/coc-fung-cluster/nima/miniforge3/envs/jmp-peft/lib/python3.11/site-packages/nshtrainer/model/config.py\u001b\\\u001b[2mconfig.py\u001b[0m\u001b]8;;\u001b\\\u001b[2m:\u001b[0m\u001b]8;id=616353;file:///net/csefiles/coc-fung-cluster/nima/miniforge3/envs/jmp-peft/lib/python3.11/site-packages/nshtrainer/model/config.py#621\u001b\\\u001b[2m621\u001b[0m\u001b]8;;\u001b\\\n"
      ]
     },
     "metadata": {},
     "output_type": "display_data"
    },
    {
     "data": {
      "text/html": [
       "<pre style=\"white-space:pre;overflow-x:auto;line-height:normal;font-family:Menlo,'DejaVu Sans Mono',consolas,'Courier New',monospace\"><span style=\"color: #7fbfbf; text-decoration-color: #7fbfbf\">           </span><span style=\"background-color: #800000; font-weight: bold\">CRITICAL</span> Using regular backbone                                                              <a href=\"file:///net/csefiles/coc-fung-cluster/nima/shared/repositories/jmp-peft/src/jmppeft/tasks/finetune/base.py\" target=\"_blank\"><span style=\"color: #7f7f7f; text-decoration-color: #7f7f7f\">base.py</span></a><span style=\"color: #7f7f7f; text-decoration-color: #7f7f7f\">:</span><a href=\"file:///net/csefiles/coc-fung-cluster/nima/shared/repositories/jmp-peft/src/jmppeft/tasks/finetune/base.py#611\" target=\"_blank\"><span style=\"color: #7f7f7f; text-decoration-color: #7f7f7f\">611</span></a>\n",
       "</pre>\n"
      ],
      "text/plain": [
       "\u001b[2;36m          \u001b[0m\u001b[2;36m \u001b[0m\u001b[1;7;31mCRITICAL\u001b[0m Using regular backbone                                                              \u001b]8;id=851940;file:///net/csefiles/coc-fung-cluster/nima/shared/repositories/jmp-peft/src/jmppeft/tasks/finetune/base.py\u001b\\\u001b[2mbase.py\u001b[0m\u001b]8;;\u001b\\\u001b[2m:\u001b[0m\u001b]8;id=113313;file:///net/csefiles/coc-fung-cluster/nima/shared/repositories/jmp-peft/src/jmppeft/tasks/finetune/base.py#611\u001b\\\u001b[2m611\u001b[0m\u001b]8;;\u001b\\\n"
      ]
     },
     "metadata": {},
     "output_type": "display_data"
    },
    {
     "name": "stdout",
     "output_type": "stream",
     "text": [
      "Unrecognized arguments:  dict_keys(['name', 'learnable_rbf', 'learnable_rbf_stds', 'unique_basis_per_layer', 'dropout', 'edge_dropout', 'ln_per_layer', 'scale_factor_to_ln'])\n"
     ]
    },
    {
     "data": {
      "text/html": [
       "<pre style=\"white-space:pre;overflow-x:auto;line-height:normal;font-family:Menlo,'DejaVu Sans Mono',consolas,'Courier New',monospace\"><span style=\"color: #7fbfbf; text-decoration-color: #7fbfbf\">           </span><span style=\"color: #000080; text-decoration-color: #000080\">INFO    </span> <span style=\"font-weight: bold\">[</span>RadialBasis<span style=\"font-weight: bold\">]</span> Using absolute cutoff of <span style=\"color: #008080; text-decoration-color: #008080; font-weight: bold\">12.0</span> Angstroms.       <a href=\"file:///net/csefiles/coc-fung-cluster/nima/shared/repositories/jmp-peft/src/jmppeft/models/gemnet/layers/radial_basis_dynamic_cutoff.py\" target=\"_blank\"><span style=\"color: #7f7f7f; text-decoration-color: #7f7f7f\">radial_basis_dynamic_cutoff.py</span></a><span style=\"color: #7f7f7f; text-decoration-color: #7f7f7f\">:</span><a href=\"file:///net/csefiles/coc-fung-cluster/nima/shared/repositories/jmp-peft/src/jmppeft/models/gemnet/layers/radial_basis_dynamic_cutoff.py#213\" target=\"_blank\"><span style=\"color: #7f7f7f; text-decoration-color: #7f7f7f\">213</span></a>\n",
       "</pre>\n"
      ],
      "text/plain": [
       "\u001b[2;36m          \u001b[0m\u001b[2;36m \u001b[0m\u001b[34mINFO    \u001b[0m \u001b[1m[\u001b[0mRadialBasis\u001b[1m]\u001b[0m Using absolute cutoff of \u001b[1;36m12.0\u001b[0m Angstroms.       \u001b]8;id=708012;file:///net/csefiles/coc-fung-cluster/nima/shared/repositories/jmp-peft/src/jmppeft/models/gemnet/layers/radial_basis_dynamic_cutoff.py\u001b\\\u001b[2mradial_basis_dynamic_cutoff.py\u001b[0m\u001b]8;;\u001b\\\u001b[2m:\u001b[0m\u001b]8;id=534168;file:///net/csefiles/coc-fung-cluster/nima/shared/repositories/jmp-peft/src/jmppeft/models/gemnet/layers/radial_basis_dynamic_cutoff.py#213\u001b\\\u001b[2m213\u001b[0m\u001b]8;;\u001b\\\n"
      ]
     },
     "metadata": {},
     "output_type": "display_data"
    },
    {
     "data": {
      "text/html": [
       "<pre style=\"white-space:pre;overflow-x:auto;line-height:normal;font-family:Menlo,'DejaVu Sans Mono',consolas,'Courier New',monospace\"><span style=\"color: #7fbfbf; text-decoration-color: #7fbfbf\">           </span><span style=\"color: #000080; text-decoration-color: #000080\">INFO    </span> <span style=\"font-weight: bold\">[</span>RadialBasis<span style=\"font-weight: bold\">]</span> Using absolute cutoff of <span style=\"color: #008080; text-decoration-color: #008080; font-weight: bold\">12.0</span> Angstroms.       <a href=\"file:///net/csefiles/coc-fung-cluster/nima/shared/repositories/jmp-peft/src/jmppeft/models/gemnet/layers/radial_basis_dynamic_cutoff.py\" target=\"_blank\"><span style=\"color: #7f7f7f; text-decoration-color: #7f7f7f\">radial_basis_dynamic_cutoff.py</span></a><span style=\"color: #7f7f7f; text-decoration-color: #7f7f7f\">:</span><a href=\"file:///net/csefiles/coc-fung-cluster/nima/shared/repositories/jmp-peft/src/jmppeft/models/gemnet/layers/radial_basis_dynamic_cutoff.py#213\" target=\"_blank\"><span style=\"color: #7f7f7f; text-decoration-color: #7f7f7f\">213</span></a>\n",
       "</pre>\n"
      ],
      "text/plain": [
       "\u001b[2;36m          \u001b[0m\u001b[2;36m \u001b[0m\u001b[34mINFO    \u001b[0m \u001b[1m[\u001b[0mRadialBasis\u001b[1m]\u001b[0m Using absolute cutoff of \u001b[1;36m12.0\u001b[0m Angstroms.       \u001b]8;id=189127;file:///net/csefiles/coc-fung-cluster/nima/shared/repositories/jmp-peft/src/jmppeft/models/gemnet/layers/radial_basis_dynamic_cutoff.py\u001b\\\u001b[2mradial_basis_dynamic_cutoff.py\u001b[0m\u001b]8;;\u001b\\\u001b[2m:\u001b[0m\u001b]8;id=114401;file:///net/csefiles/coc-fung-cluster/nima/shared/repositories/jmp-peft/src/jmppeft/models/gemnet/layers/radial_basis_dynamic_cutoff.py#213\u001b\\\u001b[2m213\u001b[0m\u001b]8;;\u001b\\\n"
      ]
     },
     "metadata": {},
     "output_type": "display_data"
    },
    {
     "data": {
      "text/html": [
       "<pre style=\"white-space:pre;overflow-x:auto;line-height:normal;font-family:Menlo,'DejaVu Sans Mono',consolas,'Courier New',monospace\"><span style=\"color: #7fbfbf; text-decoration-color: #7fbfbf\">           </span><span style=\"color: #000080; text-decoration-color: #000080\">INFO    </span> <span style=\"font-weight: bold\">[</span>RadialBasis<span style=\"font-weight: bold\">]</span> Using absolute cutoff of <span style=\"color: #008080; text-decoration-color: #008080; font-weight: bold\">12.0</span> Angstroms.       <a href=\"file:///net/csefiles/coc-fung-cluster/nima/shared/repositories/jmp-peft/src/jmppeft/models/gemnet/layers/radial_basis_dynamic_cutoff.py\" target=\"_blank\"><span style=\"color: #7f7f7f; text-decoration-color: #7f7f7f\">radial_basis_dynamic_cutoff.py</span></a><span style=\"color: #7f7f7f; text-decoration-color: #7f7f7f\">:</span><a href=\"file:///net/csefiles/coc-fung-cluster/nima/shared/repositories/jmp-peft/src/jmppeft/models/gemnet/layers/radial_basis_dynamic_cutoff.py#213\" target=\"_blank\"><span style=\"color: #7f7f7f; text-decoration-color: #7f7f7f\">213</span></a>\n",
       "</pre>\n"
      ],
      "text/plain": [
       "\u001b[2;36m          \u001b[0m\u001b[2;36m \u001b[0m\u001b[34mINFO    \u001b[0m \u001b[1m[\u001b[0mRadialBasis\u001b[1m]\u001b[0m Using absolute cutoff of \u001b[1;36m12.0\u001b[0m Angstroms.       \u001b]8;id=877770;file:///net/csefiles/coc-fung-cluster/nima/shared/repositories/jmp-peft/src/jmppeft/models/gemnet/layers/radial_basis_dynamic_cutoff.py\u001b\\\u001b[2mradial_basis_dynamic_cutoff.py\u001b[0m\u001b]8;;\u001b\\\u001b[2m:\u001b[0m\u001b]8;id=630049;file:///net/csefiles/coc-fung-cluster/nima/shared/repositories/jmp-peft/src/jmppeft/models/gemnet/layers/radial_basis_dynamic_cutoff.py#213\u001b\\\u001b[2m213\u001b[0m\u001b]8;;\u001b\\\n"
      ]
     },
     "metadata": {},
     "output_type": "display_data"
    },
    {
     "data": {
      "text/html": [
       "<pre style=\"white-space:pre;overflow-x:auto;line-height:normal;font-family:Menlo,'DejaVu Sans Mono',consolas,'Courier New',monospace\"><span style=\"color: #7fbfbf; text-decoration-color: #7fbfbf\">           </span><span style=\"color: #000080; text-decoration-color: #000080\">INFO    </span> <span style=\"font-weight: bold\">[</span>RadialBasis<span style=\"font-weight: bold\">]</span> Using absolute cutoff of <span style=\"color: #008080; text-decoration-color: #008080; font-weight: bold\">12.0</span> Angstroms.       <a href=\"file:///net/csefiles/coc-fung-cluster/nima/shared/repositories/jmp-peft/src/jmppeft/models/gemnet/layers/radial_basis_dynamic_cutoff.py\" target=\"_blank\"><span style=\"color: #7f7f7f; text-decoration-color: #7f7f7f\">radial_basis_dynamic_cutoff.py</span></a><span style=\"color: #7f7f7f; text-decoration-color: #7f7f7f\">:</span><a href=\"file:///net/csefiles/coc-fung-cluster/nima/shared/repositories/jmp-peft/src/jmppeft/models/gemnet/layers/radial_basis_dynamic_cutoff.py#213\" target=\"_blank\"><span style=\"color: #7f7f7f; text-decoration-color: #7f7f7f\">213</span></a>\n",
       "</pre>\n"
      ],
      "text/plain": [
       "\u001b[2;36m          \u001b[0m\u001b[2;36m \u001b[0m\u001b[34mINFO    \u001b[0m \u001b[1m[\u001b[0mRadialBasis\u001b[1m]\u001b[0m Using absolute cutoff of \u001b[1;36m12.0\u001b[0m Angstroms.       \u001b]8;id=250015;file:///net/csefiles/coc-fung-cluster/nima/shared/repositories/jmp-peft/src/jmppeft/models/gemnet/layers/radial_basis_dynamic_cutoff.py\u001b\\\u001b[2mradial_basis_dynamic_cutoff.py\u001b[0m\u001b]8;;\u001b\\\u001b[2m:\u001b[0m\u001b]8;id=797670;file:///net/csefiles/coc-fung-cluster/nima/shared/repositories/jmp-peft/src/jmppeft/models/gemnet/layers/radial_basis_dynamic_cutoff.py#213\u001b\\\u001b[2m213\u001b[0m\u001b]8;;\u001b\\\n"
      ]
     },
     "metadata": {},
     "output_type": "display_data"
    },
    {
     "data": {
      "text/html": [
       "<pre style=\"white-space:pre;overflow-x:auto;line-height:normal;font-family:Menlo,'DejaVu Sans Mono',consolas,'Courier New',monospace\"><span style=\"color: #7fbfbf; text-decoration-color: #7fbfbf\">           </span><span style=\"color: #000080; text-decoration-color: #000080\">INFO    </span> <span style=\"font-weight: bold\">[</span>RadialBasis<span style=\"font-weight: bold\">]</span> Using absolute cutoff of <span style=\"color: #008080; text-decoration-color: #008080; font-weight: bold\">12.0</span> Angstroms.       <a href=\"file:///net/csefiles/coc-fung-cluster/nima/shared/repositories/jmp-peft/src/jmppeft/models/gemnet/layers/radial_basis_dynamic_cutoff.py\" target=\"_blank\"><span style=\"color: #7f7f7f; text-decoration-color: #7f7f7f\">radial_basis_dynamic_cutoff.py</span></a><span style=\"color: #7f7f7f; text-decoration-color: #7f7f7f\">:</span><a href=\"file:///net/csefiles/coc-fung-cluster/nima/shared/repositories/jmp-peft/src/jmppeft/models/gemnet/layers/radial_basis_dynamic_cutoff.py#213\" target=\"_blank\"><span style=\"color: #7f7f7f; text-decoration-color: #7f7f7f\">213</span></a>\n",
       "</pre>\n"
      ],
      "text/plain": [
       "\u001b[2;36m          \u001b[0m\u001b[2;36m \u001b[0m\u001b[34mINFO    \u001b[0m \u001b[1m[\u001b[0mRadialBasis\u001b[1m]\u001b[0m Using absolute cutoff of \u001b[1;36m12.0\u001b[0m Angstroms.       \u001b]8;id=926345;file:///net/csefiles/coc-fung-cluster/nima/shared/repositories/jmp-peft/src/jmppeft/models/gemnet/layers/radial_basis_dynamic_cutoff.py\u001b\\\u001b[2mradial_basis_dynamic_cutoff.py\u001b[0m\u001b]8;;\u001b\\\u001b[2m:\u001b[0m\u001b]8;id=733436;file:///net/csefiles/coc-fung-cluster/nima/shared/repositories/jmp-peft/src/jmppeft/models/gemnet/layers/radial_basis_dynamic_cutoff.py#213\u001b\\\u001b[2m213\u001b[0m\u001b]8;;\u001b\\\n"
      ]
     },
     "metadata": {},
     "output_type": "display_data"
    },
    {
     "data": {
      "text/html": [
       "<pre style=\"white-space:pre;overflow-x:auto;line-height:normal;font-family:Menlo,'DejaVu Sans Mono',consolas,'Courier New',monospace\"><span style=\"color: #7fbfbf; text-decoration-color: #7fbfbf\">           </span><span style=\"color: #000080; text-decoration-color: #000080\">INFO    </span> <span style=\"font-weight: bold\">[</span>RadialBasis<span style=\"font-weight: bold\">]</span> Using absolute cutoff of <span style=\"color: #008080; text-decoration-color: #008080; font-weight: bold\">12.0</span> Angstroms.       <a href=\"file:///net/csefiles/coc-fung-cluster/nima/shared/repositories/jmp-peft/src/jmppeft/models/gemnet/layers/radial_basis_dynamic_cutoff.py\" target=\"_blank\"><span style=\"color: #7f7f7f; text-decoration-color: #7f7f7f\">radial_basis_dynamic_cutoff.py</span></a><span style=\"color: #7f7f7f; text-decoration-color: #7f7f7f\">:</span><a href=\"file:///net/csefiles/coc-fung-cluster/nima/shared/repositories/jmp-peft/src/jmppeft/models/gemnet/layers/radial_basis_dynamic_cutoff.py#213\" target=\"_blank\"><span style=\"color: #7f7f7f; text-decoration-color: #7f7f7f\">213</span></a>\n",
       "</pre>\n"
      ],
      "text/plain": [
       "\u001b[2;36m          \u001b[0m\u001b[2;36m \u001b[0m\u001b[34mINFO    \u001b[0m \u001b[1m[\u001b[0mRadialBasis\u001b[1m]\u001b[0m Using absolute cutoff of \u001b[1;36m12.0\u001b[0m Angstroms.       \u001b]8;id=689619;file:///net/csefiles/coc-fung-cluster/nima/shared/repositories/jmp-peft/src/jmppeft/models/gemnet/layers/radial_basis_dynamic_cutoff.py\u001b\\\u001b[2mradial_basis_dynamic_cutoff.py\u001b[0m\u001b]8;;\u001b\\\u001b[2m:\u001b[0m\u001b]8;id=723692;file:///net/csefiles/coc-fung-cluster/nima/shared/repositories/jmp-peft/src/jmppeft/models/gemnet/layers/radial_basis_dynamic_cutoff.py#213\u001b\\\u001b[2m213\u001b[0m\u001b]8;;\u001b\\\n"
      ]
     },
     "metadata": {},
     "output_type": "display_data"
    },
    {
     "data": {
      "text/html": [
       "<pre style=\"white-space:pre;overflow-x:auto;line-height:normal;font-family:Menlo,'DejaVu Sans Mono',consolas,'Courier New',monospace\"><span style=\"color: #7fbfbf; text-decoration-color: #7fbfbf\">           </span><span style=\"color: #000080; text-decoration-color: #000080\">INFO    </span> <span style=\"font-weight: bold\">[</span>RadialBasis<span style=\"font-weight: bold\">]</span> Using absolute cutoff of <span style=\"color: #008080; text-decoration-color: #008080; font-weight: bold\">12.0</span> Angstroms.       <a href=\"file:///net/csefiles/coc-fung-cluster/nima/shared/repositories/jmp-peft/src/jmppeft/models/gemnet/layers/radial_basis_dynamic_cutoff.py\" target=\"_blank\"><span style=\"color: #7f7f7f; text-decoration-color: #7f7f7f\">radial_basis_dynamic_cutoff.py</span></a><span style=\"color: #7f7f7f; text-decoration-color: #7f7f7f\">:</span><a href=\"file:///net/csefiles/coc-fung-cluster/nima/shared/repositories/jmp-peft/src/jmppeft/models/gemnet/layers/radial_basis_dynamic_cutoff.py#213\" target=\"_blank\"><span style=\"color: #7f7f7f; text-decoration-color: #7f7f7f\">213</span></a>\n",
       "</pre>\n"
      ],
      "text/plain": [
       "\u001b[2;36m          \u001b[0m\u001b[2;36m \u001b[0m\u001b[34mINFO    \u001b[0m \u001b[1m[\u001b[0mRadialBasis\u001b[1m]\u001b[0m Using absolute cutoff of \u001b[1;36m12.0\u001b[0m Angstroms.       \u001b]8;id=118846;file:///net/csefiles/coc-fung-cluster/nima/shared/repositories/jmp-peft/src/jmppeft/models/gemnet/layers/radial_basis_dynamic_cutoff.py\u001b\\\u001b[2mradial_basis_dynamic_cutoff.py\u001b[0m\u001b]8;;\u001b\\\u001b[2m:\u001b[0m\u001b]8;id=465187;file:///net/csefiles/coc-fung-cluster/nima/shared/repositories/jmp-peft/src/jmppeft/models/gemnet/layers/radial_basis_dynamic_cutoff.py#213\u001b\\\u001b[2m213\u001b[0m\u001b]8;;\u001b\\\n"
      ]
     },
     "metadata": {},
     "output_type": "display_data"
    },
    {
     "data": {
      "text/html": [
       "<pre style=\"white-space:pre;overflow-x:auto;line-height:normal;font-family:Menlo,'DejaVu Sans Mono',consolas,'Courier New',monospace\"><span style=\"color: #7fbfbf; text-decoration-color: #7fbfbf\">[19:29:05] </span><span style=\"background-color: #800000; font-weight: bold\">CRITICAL</span> Constructed backbone with <span style=\"color: #808000; text-decoration-color: #808000\">dlora</span>=<span style=\"color: #800080; text-decoration-color: #800080; font-style: italic\">None</span>                                                <a href=\"file:///net/csefiles/coc-fung-cluster/nima/shared/repositories/jmp-peft/src/jmppeft/tasks/finetune/base.py\" target=\"_blank\"><span style=\"color: #7f7f7f; text-decoration-color: #7f7f7f\">base.py</span></a><span style=\"color: #7f7f7f; text-decoration-color: #7f7f7f\">:</span><a href=\"file:///net/csefiles/coc-fung-cluster/nima/shared/repositories/jmp-peft/src/jmppeft/tasks/finetune/base.py#622\" target=\"_blank\"><span style=\"color: #7f7f7f; text-decoration-color: #7f7f7f\">622</span></a>\n",
       "</pre>\n"
      ],
      "text/plain": [
       "\u001b[2;36m[19:29:05]\u001b[0m\u001b[2;36m \u001b[0m\u001b[1;7;31mCRITICAL\u001b[0m Constructed backbone with \u001b[33mdlora\u001b[0m=\u001b[3;35mNone\u001b[0m                                                \u001b]8;id=632833;file:///net/csefiles/coc-fung-cluster/nima/shared/repositories/jmp-peft/src/jmppeft/tasks/finetune/base.py\u001b\\\u001b[2mbase.py\u001b[0m\u001b]8;;\u001b\\\u001b[2m:\u001b[0m\u001b]8;id=113816;file:///net/csefiles/coc-fung-cluster/nima/shared/repositories/jmp-peft/src/jmppeft/tasks/finetune/base.py#622\u001b\\\u001b[2m622\u001b[0m\u001b]8;;\u001b\\\n"
      ]
     },
     "metadata": {},
     "output_type": "display_data"
    },
    {
     "data": {
      "text/html": [
       "<pre style=\"white-space:pre;overflow-x:auto;line-height:normal;font-family:Menlo,'DejaVu Sans Mono',consolas,'Courier New',monospace\"><span style=\"color: #7fbfbf; text-decoration-color: #7fbfbf\">           </span><span style=\"color: #000080; text-decoration-color: #000080\">INFO    </span> Registered <span style=\"color: #008080; text-decoration-color: #008080; font-weight: bold\">12</span> shared parameters                                         <a href=\"file:///net/csefiles/coc-fung-cluster/nima/miniforge3/envs/jmp-peft/lib/python3.11/site-packages/nshtrainer/model/modules/shared_parameters.py\" target=\"_blank\"><span style=\"color: #7f7f7f; text-decoration-color: #7f7f7f\">shared_parameters.py</span></a><span style=\"color: #7f7f7f; text-decoration-color: #7f7f7f\">:</span><a href=\"file:///net/csefiles/coc-fung-cluster/nima/miniforge3/envs/jmp-peft/lib/python3.11/site-packages/nshtrainer/model/modules/shared_parameters.py#72\" target=\"_blank\"><span style=\"color: #7f7f7f; text-decoration-color: #7f7f7f\">72</span></a>\n",
       "</pre>\n"
      ],
      "text/plain": [
       "\u001b[2;36m          \u001b[0m\u001b[2;36m \u001b[0m\u001b[34mINFO    \u001b[0m Registered \u001b[1;36m12\u001b[0m shared parameters                                         \u001b]8;id=355164;file:///net/csefiles/coc-fung-cluster/nima/miniforge3/envs/jmp-peft/lib/python3.11/site-packages/nshtrainer/model/modules/shared_parameters.py\u001b\\\u001b[2mshared_parameters.py\u001b[0m\u001b]8;;\u001b\\\u001b[2m:\u001b[0m\u001b]8;id=765532;file:///net/csefiles/coc-fung-cluster/nima/miniforge3/envs/jmp-peft/lib/python3.11/site-packages/nshtrainer/model/modules/shared_parameters.py#72\u001b\\\u001b[2m72\u001b[0m\u001b]8;;\u001b\\\n"
      ]
     },
     "metadata": {},
     "output_type": "display_data"
    },
    {
     "data": {
      "text/html": [
       "<pre style=\"white-space:pre;overflow-x:auto;line-height:normal;font-family:Menlo,'DejaVu Sans Mono',consolas,'Courier New',monospace\"><span style=\"color: #7fbfbf; text-decoration-color: #7fbfbf\">           </span><span style=\"color: #000080; text-decoration-color: #000080\">INFO    </span> List of ignored parameters: <span style=\"font-weight: bold\">[]</span>                                                      <a href=\"file:///net/csefiles/coc-fung-cluster/nima/shared/repositories/jmp-peft/src/jmppeft/tasks/finetune/base.py\" target=\"_blank\"><span style=\"color: #7f7f7f; text-decoration-color: #7f7f7f\">base.py</span></a><span style=\"color: #7f7f7f; text-decoration-color: #7f7f7f\">:</span><a href=\"file:///net/csefiles/coc-fung-cluster/nima/shared/repositories/jmp-peft/src/jmppeft/tasks/finetune/base.py#700\" target=\"_blank\"><span style=\"color: #7f7f7f; text-decoration-color: #7f7f7f\">700</span></a>\n",
       "</pre>\n"
      ],
      "text/plain": [
       "\u001b[2;36m          \u001b[0m\u001b[2;36m \u001b[0m\u001b[34mINFO    \u001b[0m List of ignored parameters: \u001b[1m[\u001b[0m\u001b[1m]\u001b[0m                                                      \u001b]8;id=60377;file:///net/csefiles/coc-fung-cluster/nima/shared/repositories/jmp-peft/src/jmppeft/tasks/finetune/base.py\u001b\\\u001b[2mbase.py\u001b[0m\u001b]8;;\u001b\\\u001b[2m:\u001b[0m\u001b]8;id=161032;file:///net/csefiles/coc-fung-cluster/nima/shared/repositories/jmp-peft/src/jmppeft/tasks/finetune/base.py#700\u001b\\\u001b[2m700\u001b[0m\u001b]8;;\u001b\\\n"
      ]
     },
     "metadata": {},
     "output_type": "display_data"
    },
    {
     "data": {
      "text/html": [
       "<pre style=\"white-space:pre;overflow-x:auto;line-height:normal;font-family:Menlo,'DejaVu Sans Mono',consolas,'Courier New',monospace\"><span style=\"color: #7fbfbf; text-decoration-color: #7fbfbf\">           </span><span style=\"background-color: #800000; font-weight: bold\">CRITICAL</span> Freezing <span style=\"color: #008080; text-decoration-color: #008080; font-weight: bold\">0</span> parameters <span style=\"font-weight: bold\">(</span><span style=\"color: #008080; text-decoration-color: #008080; font-weight: bold\">0.00</span>%<span style=\"font-weight: bold\">)</span> out of <span style=\"color: #008080; text-decoration-color: #008080; font-weight: bold\">43</span>,<span style=\"color: #008080; text-decoration-color: #008080; font-weight: bold\">146</span>,<span style=\"color: #008080; text-decoration-color: #008080; font-weight: bold\">824</span> total parameters <span style=\"font-weight: bold\">(</span><span style=\"color: #008080; text-decoration-color: #008080; font-weight: bold\">43</span>,<span style=\"color: #008080; text-decoration-color: #008080; font-weight: bold\">146</span>,<span style=\"color: #008080; text-decoration-color: #008080; font-weight: bold\">824</span>        <a href=\"file:///net/csefiles/coc-fung-cluster/nima/shared/repositories/jmp-peft/src/jmppeft/tasks/finetune/base.py\" target=\"_blank\"><span style=\"color: #7f7f7f; text-decoration-color: #7f7f7f\">base.py</span></a><span style=\"color: #7f7f7f; text-decoration-color: #7f7f7f\">:</span><a href=\"file:///net/csefiles/coc-fung-cluster/nima/shared/repositories/jmp-peft/src/jmppeft/tasks/finetune/base.py#929\" target=\"_blank\"><span style=\"color: #7f7f7f; text-decoration-color: #7f7f7f\">929</span></a>\n",
       "<span style=\"color: #7fbfbf; text-decoration-color: #7fbfbf\">           </span>         trainable<span style=\"font-weight: bold\">)</span>                                                                          <span style=\"color: #7f7f7f; text-decoration-color: #7f7f7f\">           </span>\n",
       "</pre>\n"
      ],
      "text/plain": [
       "\u001b[2;36m          \u001b[0m\u001b[2;36m \u001b[0m\u001b[1;7;31mCRITICAL\u001b[0m Freezing \u001b[1;36m0\u001b[0m parameters \u001b[1m(\u001b[0m\u001b[1;36m0.00\u001b[0m%\u001b[1m)\u001b[0m out of \u001b[1;36m43\u001b[0m,\u001b[1;36m146\u001b[0m,\u001b[1;36m824\u001b[0m total parameters \u001b[1m(\u001b[0m\u001b[1;36m43\u001b[0m,\u001b[1;36m146\u001b[0m,\u001b[1;36m824\u001b[0m        \u001b]8;id=490821;file:///net/csefiles/coc-fung-cluster/nima/shared/repositories/jmp-peft/src/jmppeft/tasks/finetune/base.py\u001b\\\u001b[2mbase.py\u001b[0m\u001b]8;;\u001b\\\u001b[2m:\u001b[0m\u001b]8;id=175887;file:///net/csefiles/coc-fung-cluster/nima/shared/repositories/jmp-peft/src/jmppeft/tasks/finetune/base.py#929\u001b\\\u001b[2m929\u001b[0m\u001b]8;;\u001b\\\n",
       "\u001b[2;36m           \u001b[0m         trainable\u001b[1m)\u001b[0m                                                                          \u001b[2m           \u001b[0m\n"
      ]
     },
     "metadata": {},
     "output_type": "display_data"
    },
    {
     "data": {
      "text/plain": [
       "MatbenchDiscoveryModel(config=MatbenchDiscoveryConfig(name=mptrj-jmps-bsz16-linrefenergy-lr8e-05-ln-direct-maceenergy-maceforce-rele-ec2.0-fc10.0-sc100.0-posaug_std0.01, project=jmp_mptrj), device=cuda:0)"
      ]
     },
     "execution_count": 9,
     "metadata": {},
     "output_type": "execute_result"
    }
   ],
   "source": [
    "from jmppeft.tasks.finetune import matbench_discovery as M\n",
    "\n",
    "default_dtype = torch.float32\n",
    "ckpt = torch.load(ckpt_path, map_location=\"cuda\")\n",
    "\n",
    "model = M.MatbenchDiscoveryModel(config_updated)\n",
    "model = model.to(default_dtype).cuda().eval()\n",
    "model.load_state_dict(ckpt[\"state_dict\"])\n",
    "model"
   ]
  },
  {
   "cell_type": "code",
   "execution_count": 10,
   "metadata": {},
   "outputs": [
    {
     "data": {
      "text/html": [
       "<pre style=\"white-space:pre;overflow-x:auto;line-height:normal;font-family:Menlo,'DejaVu Sans Mono',consolas,'Courier New',monospace\"><span style=\"font-weight: bold\">{</span>\n",
       "    <span style=\"color: #008000; text-decoration-color: #008000\">'pos'</span>: tensor<span style=\"font-weight: bold\">[</span><span style=\"color: #008080; text-decoration-color: #008080; font-weight: bold\">11</span>, <span style=\"color: #008080; text-decoration-color: #008080; font-weight: bold\">3</span><span style=\"font-weight: bold\">]</span> <span style=\"color: #808000; text-decoration-color: #808000\">n</span>=<span style=\"color: #008080; text-decoration-color: #008080; font-weight: bold\">33</span> x∈<span style=\"font-weight: bold\">[</span><span style=\"color: #008080; text-decoration-color: #008080; font-weight: bold\">-4.297</span>, <span style=\"color: #008080; text-decoration-color: #008080; font-weight: bold\">6.937</span><span style=\"font-weight: bold\">]</span> <span style=\"color: #808000; text-decoration-color: #808000\">μ</span>=<span style=\"color: #008080; text-decoration-color: #008080; font-weight: bold\">1.412</span> <span style=\"color: #808000; text-decoration-color: #808000\">σ</span>=<span style=\"color: #008080; text-decoration-color: #008080; font-weight: bold\">2.423</span>,\n",
       "    <span style=\"color: #008000; text-decoration-color: #008000\">'id'</span>: <span style=\"font-weight: bold\">[</span><span style=\"color: #008000; text-decoration-color: #008000\">'wbm-3-72883'</span><span style=\"font-weight: bold\">]</span>,\n",
       "    <span style=\"color: #008000; text-decoration-color: #008000\">'atomic_numbers'</span>: tensor<span style=\"font-weight: bold\">[</span><span style=\"color: #008080; text-decoration-color: #008080; font-weight: bold\">11</span><span style=\"font-weight: bold\">]</span> i64 x∈<span style=\"font-weight: bold\">[</span><span style=\"color: #008080; text-decoration-color: #008080; font-weight: bold\">50</span>, <span style=\"color: #008080; text-decoration-color: #008080; font-weight: bold\">79</span><span style=\"font-weight: bold\">]</span> <span style=\"color: #808000; text-decoration-color: #808000\">μ</span>=<span style=\"color: #008080; text-decoration-color: #008080; font-weight: bold\">62.000</span> <span style=\"color: #808000; text-decoration-color: #808000\">σ</span>=<span style=\"color: #008080; text-decoration-color: #008080; font-weight: bold\">14.269</span>,\n",
       "    <span style=\"color: #008000; text-decoration-color: #008000\">'cell'</span>: tensor<span style=\"font-weight: bold\">[</span><span style=\"color: #008080; text-decoration-color: #008080; font-weight: bold\">1</span>, <span style=\"color: #008080; text-decoration-color: #008080; font-weight: bold\">3</span>, <span style=\"color: #008080; text-decoration-color: #008080; font-weight: bold\">3</span><span style=\"font-weight: bold\">]</span> <span style=\"color: #808000; text-decoration-color: #808000\">n</span>=<span style=\"color: #008080; text-decoration-color: #008080; font-weight: bold\">9</span> x∈<span style=\"font-weight: bold\">[</span><span style=\"color: #008080; text-decoration-color: #008080; font-weight: bold\">-3.509</span>, <span style=\"color: #008080; text-decoration-color: #008080; font-weight: bold\">6.938</span><span style=\"font-weight: bold\">]</span> <span style=\"color: #808000; text-decoration-color: #808000\">μ</span>=<span style=\"color: #008080; text-decoration-color: #008080; font-weight: bold\">1.065</span> <span style=\"color: #808000; text-decoration-color: #808000\">σ</span>=<span style=\"color: #008080; text-decoration-color: #008080; font-weight: bold\">4.112</span> <span style=\"font-weight: bold\">[[[</span><span style=\"color: #008080; text-decoration-color: #008080; font-weight: bold\">6.029</span>, <span style=\"color: #008080; text-decoration-color: #008080; font-weight: bold\">0</span>., <span style=\"color: #008080; text-decoration-color: #008080; font-weight: bold\">-3.509</span><span style=\"font-weight: bold\">]</span>, <span style=\"font-weight: bold\">[</span><span style=\"color: #008080; text-decoration-color: #008080; font-weight: bold\">-2.037</span>, <span style=\"color: #008080; text-decoration-color: #008080; font-weight: bold\">5.674</span>, <span style=\"color: #008080; text-decoration-color: #008080; font-weight: bold\">-3.509</span><span style=\"font-weight: bold\">]</span>, \n",
       "<span style=\"font-weight: bold\">[</span><span style=\"color: #008080; text-decoration-color: #008080; font-weight: bold\">0</span>., <span style=\"color: #008080; text-decoration-color: #008080; font-weight: bold\">0</span>., <span style=\"color: #008080; text-decoration-color: #008080; font-weight: bold\">6.938</span><span style=\"font-weight: bold\">]]]</span>,\n",
       "    <span style=\"color: #008000; text-decoration-color: #008000\">'y_formation'</span>: tensor<span style=\"font-weight: bold\">[</span><span style=\"color: #008080; text-decoration-color: #008080; font-weight: bold\">1</span><span style=\"font-weight: bold\">]</span> <span style=\"font-weight: bold\">[</span><span style=\"color: #008080; text-decoration-color: #008080; font-weight: bold\">-0.236</span><span style=\"font-weight: bold\">]</span>,\n",
       "    <span style=\"color: #008000; text-decoration-color: #008000\">'y_formation_correction'</span>: tensor<span style=\"font-weight: bold\">[</span><span style=\"color: #008080; text-decoration-color: #008080; font-weight: bold\">1</span><span style=\"font-weight: bold\">]</span> <span style=\"font-weight: bold\">[</span><span style=\"color: #008080; text-decoration-color: #008080; font-weight: bold\">0</span>.<span style=\"font-weight: bold\">]</span>,\n",
       "    <span style=\"color: #008000; text-decoration-color: #008000\">'y_above_hull'</span>: tensor<span style=\"font-weight: bold\">[</span><span style=\"color: #008080; text-decoration-color: #008080; font-weight: bold\">1</span><span style=\"font-weight: bold\">]</span> <span style=\"font-weight: bold\">[</span><span style=\"color: #008080; text-decoration-color: #008080; font-weight: bold\">0.093</span><span style=\"font-weight: bold\">]</span>,\n",
       "    <span style=\"color: #008000; text-decoration-color: #008000\">'natoms'</span>: tensor<span style=\"font-weight: bold\">[</span><span style=\"color: #008080; text-decoration-color: #008080; font-weight: bold\">1</span><span style=\"font-weight: bold\">]</span> i64 <span style=\"font-weight: bold\">[</span><span style=\"color: #008080; text-decoration-color: #008080; font-weight: bold\">11</span><span style=\"font-weight: bold\">]</span>,\n",
       "    <span style=\"color: #008000; text-decoration-color: #008000\">'pos_noise'</span>: tensor<span style=\"font-weight: bold\">[</span><span style=\"color: #008080; text-decoration-color: #008080; font-weight: bold\">11</span>, <span style=\"color: #008080; text-decoration-color: #008080; font-weight: bold\">3</span><span style=\"font-weight: bold\">]</span> <span style=\"color: #808000; text-decoration-color: #808000\">n</span>=<span style=\"color: #008080; text-decoration-color: #008080; font-weight: bold\">33</span> x∈<span style=\"font-weight: bold\">[</span><span style=\"color: #008080; text-decoration-color: #008080; font-weight: bold\">-0.020</span>, <span style=\"color: #008080; text-decoration-color: #008080; font-weight: bold\">0.029</span><span style=\"font-weight: bold\">]</span> <span style=\"color: #808000; text-decoration-color: #808000\">μ</span>=<span style=\"color: #008080; text-decoration-color: #008080; font-weight: bold\">-0.001</span> <span style=\"color: #808000; text-decoration-color: #808000\">σ</span>=<span style=\"color: #008080; text-decoration-color: #008080; font-weight: bold\">0.009</span>,\n",
       "    <span style=\"color: #008000; text-decoration-color: #008000\">'tags'</span>: tensor<span style=\"font-weight: bold\">[</span><span style=\"color: #008080; text-decoration-color: #008080; font-weight: bold\">11</span><span style=\"font-weight: bold\">]</span> i64 x∈<span style=\"font-weight: bold\">[</span><span style=\"color: #008080; text-decoration-color: #008080; font-weight: bold\">2</span>, <span style=\"color: #008080; text-decoration-color: #008080; font-weight: bold\">2</span><span style=\"font-weight: bold\">]</span> <span style=\"color: #808000; text-decoration-color: #808000\">μ</span>=<span style=\"color: #008080; text-decoration-color: #008080; font-weight: bold\">2.000</span> <span style=\"color: #808000; text-decoration-color: #808000\">σ</span>=<span style=\"color: #008080; text-decoration-color: #008080; font-weight: bold\">0</span>.,\n",
       "    <span style=\"color: #008000; text-decoration-color: #008000\">'fixed'</span>: tensor<span style=\"font-weight: bold\">[</span><span style=\"color: #008080; text-decoration-color: #008080; font-weight: bold\">11</span><span style=\"font-weight: bold\">]</span> bool <span style=\"color: #7f7f7f; text-decoration-color: #7f7f7f\">all_zeros</span>,\n",
       "    <span style=\"color: #008000; text-decoration-color: #008000\">'batch'</span>: tensor<span style=\"font-weight: bold\">[</span><span style=\"color: #008080; text-decoration-color: #008080; font-weight: bold\">11</span><span style=\"font-weight: bold\">]</span> i64 <span style=\"color: #7f7f7f; text-decoration-color: #7f7f7f\">all_zeros</span>,\n",
       "    <span style=\"color: #008000; text-decoration-color: #008000\">'ptr'</span>: tensor<span style=\"font-weight: bold\">[</span><span style=\"color: #008080; text-decoration-color: #008080; font-weight: bold\">2</span><span style=\"font-weight: bold\">]</span> i64 <span style=\"color: #808000; text-decoration-color: #808000\">μ</span>=<span style=\"color: #008080; text-decoration-color: #008080; font-weight: bold\">5.500</span> <span style=\"color: #808000; text-decoration-color: #808000\">σ</span>=<span style=\"color: #008080; text-decoration-color: #008080; font-weight: bold\">7.778</span> <span style=\"font-weight: bold\">[</span><span style=\"color: #008080; text-decoration-color: #008080; font-weight: bold\">0</span>, <span style=\"color: #008080; text-decoration-color: #008080; font-weight: bold\">11</span><span style=\"font-weight: bold\">]</span>\n",
       "<span style=\"font-weight: bold\">}</span>\n",
       "<span style=\"font-weight: bold\">{</span><span style=\"color: #008080; text-decoration-color: #008080; font-weight: bold\">66</span>: <span style=\"color: #008080; text-decoration-color: #008080; font-weight: bold\">1</span>, <span style=\"color: #008080; text-decoration-color: #008080; font-weight: bold\">50</span>: <span style=\"color: #008080; text-decoration-color: #008080; font-weight: bold\">6</span>, <span style=\"color: #008080; text-decoration-color: #008080; font-weight: bold\">79</span>: <span style=\"color: #008080; text-decoration-color: #008080; font-weight: bold\">4</span><span style=\"font-weight: bold\">}</span>\n",
       "</pre>\n"
      ],
      "text/plain": [
       "\u001b[1m{\u001b[0m\n",
       "    \u001b[32m'pos'\u001b[0m: tensor\u001b[1m[\u001b[0m\u001b[1;36m11\u001b[0m, \u001b[1;36m3\u001b[0m\u001b[1m]\u001b[0m \u001b[33mn\u001b[0m=\u001b[1;36m33\u001b[0m x∈\u001b[1m[\u001b[0m\u001b[1;36m-4.297\u001b[0m, \u001b[1;36m6.937\u001b[0m\u001b[1m]\u001b[0m \u001b[33mμ\u001b[0m=\u001b[1;36m1\u001b[0m\u001b[1;36m.412\u001b[0m \u001b[33mσ\u001b[0m=\u001b[1;36m2\u001b[0m\u001b[1;36m.423\u001b[0m,\n",
       "    \u001b[32m'id'\u001b[0m: \u001b[1m[\u001b[0m\u001b[32m'wbm-3-72883'\u001b[0m\u001b[1m]\u001b[0m,\n",
       "    \u001b[32m'atomic_numbers'\u001b[0m: tensor\u001b[1m[\u001b[0m\u001b[1;36m11\u001b[0m\u001b[1m]\u001b[0m i64 x∈\u001b[1m[\u001b[0m\u001b[1;36m50\u001b[0m, \u001b[1;36m79\u001b[0m\u001b[1m]\u001b[0m \u001b[33mμ\u001b[0m=\u001b[1;36m62\u001b[0m\u001b[1;36m.000\u001b[0m \u001b[33mσ\u001b[0m=\u001b[1;36m14\u001b[0m\u001b[1;36m.269\u001b[0m,\n",
       "    \u001b[32m'cell'\u001b[0m: tensor\u001b[1m[\u001b[0m\u001b[1;36m1\u001b[0m, \u001b[1;36m3\u001b[0m, \u001b[1;36m3\u001b[0m\u001b[1m]\u001b[0m \u001b[33mn\u001b[0m=\u001b[1;36m9\u001b[0m x∈\u001b[1m[\u001b[0m\u001b[1;36m-3.509\u001b[0m, \u001b[1;36m6.938\u001b[0m\u001b[1m]\u001b[0m \u001b[33mμ\u001b[0m=\u001b[1;36m1\u001b[0m\u001b[1;36m.065\u001b[0m \u001b[33mσ\u001b[0m=\u001b[1;36m4\u001b[0m\u001b[1;36m.112\u001b[0m \u001b[1m[\u001b[0m\u001b[1m[\u001b[0m\u001b[1m[\u001b[0m\u001b[1;36m6.029\u001b[0m, \u001b[1;36m0\u001b[0m., \u001b[1;36m-3.509\u001b[0m\u001b[1m]\u001b[0m, \u001b[1m[\u001b[0m\u001b[1;36m-2.037\u001b[0m, \u001b[1;36m5.674\u001b[0m, \u001b[1;36m-3.509\u001b[0m\u001b[1m]\u001b[0m, \n",
       "\u001b[1m[\u001b[0m\u001b[1;36m0\u001b[0m., \u001b[1;36m0\u001b[0m., \u001b[1;36m6.938\u001b[0m\u001b[1m]\u001b[0m\u001b[1m]\u001b[0m\u001b[1m]\u001b[0m,\n",
       "    \u001b[32m'y_formation'\u001b[0m: tensor\u001b[1m[\u001b[0m\u001b[1;36m1\u001b[0m\u001b[1m]\u001b[0m \u001b[1m[\u001b[0m\u001b[1;36m-0.236\u001b[0m\u001b[1m]\u001b[0m,\n",
       "    \u001b[32m'y_formation_correction'\u001b[0m: tensor\u001b[1m[\u001b[0m\u001b[1;36m1\u001b[0m\u001b[1m]\u001b[0m \u001b[1m[\u001b[0m\u001b[1;36m0\u001b[0m.\u001b[1m]\u001b[0m,\n",
       "    \u001b[32m'y_above_hull'\u001b[0m: tensor\u001b[1m[\u001b[0m\u001b[1;36m1\u001b[0m\u001b[1m]\u001b[0m \u001b[1m[\u001b[0m\u001b[1;36m0.093\u001b[0m\u001b[1m]\u001b[0m,\n",
       "    \u001b[32m'natoms'\u001b[0m: tensor\u001b[1m[\u001b[0m\u001b[1;36m1\u001b[0m\u001b[1m]\u001b[0m i64 \u001b[1m[\u001b[0m\u001b[1;36m11\u001b[0m\u001b[1m]\u001b[0m,\n",
       "    \u001b[32m'pos_noise'\u001b[0m: tensor\u001b[1m[\u001b[0m\u001b[1;36m11\u001b[0m, \u001b[1;36m3\u001b[0m\u001b[1m]\u001b[0m \u001b[33mn\u001b[0m=\u001b[1;36m33\u001b[0m x∈\u001b[1m[\u001b[0m\u001b[1;36m-0.020\u001b[0m, \u001b[1;36m0.029\u001b[0m\u001b[1m]\u001b[0m \u001b[33mμ\u001b[0m=\u001b[1;36m-0.001\u001b[0m \u001b[33mσ\u001b[0m=\u001b[1;36m0\u001b[0m\u001b[1;36m.009\u001b[0m,\n",
       "    \u001b[32m'tags'\u001b[0m: tensor\u001b[1m[\u001b[0m\u001b[1;36m11\u001b[0m\u001b[1m]\u001b[0m i64 x∈\u001b[1m[\u001b[0m\u001b[1;36m2\u001b[0m, \u001b[1;36m2\u001b[0m\u001b[1m]\u001b[0m \u001b[33mμ\u001b[0m=\u001b[1;36m2\u001b[0m\u001b[1;36m.000\u001b[0m \u001b[33mσ\u001b[0m=\u001b[1;36m0\u001b[0m.,\n",
       "    \u001b[32m'fixed'\u001b[0m: tensor\u001b[1m[\u001b[0m\u001b[1;36m11\u001b[0m\u001b[1m]\u001b[0m bool \u001b[38;2;127;127;127mall_zeros\u001b[0m,\n",
       "    \u001b[32m'batch'\u001b[0m: tensor\u001b[1m[\u001b[0m\u001b[1;36m11\u001b[0m\u001b[1m]\u001b[0m i64 \u001b[38;2;127;127;127mall_zeros\u001b[0m,\n",
       "    \u001b[32m'ptr'\u001b[0m: tensor\u001b[1m[\u001b[0m\u001b[1;36m2\u001b[0m\u001b[1m]\u001b[0m i64 \u001b[33mμ\u001b[0m=\u001b[1;36m5\u001b[0m\u001b[1;36m.500\u001b[0m \u001b[33mσ\u001b[0m=\u001b[1;36m7\u001b[0m\u001b[1;36m.778\u001b[0m \u001b[1m[\u001b[0m\u001b[1;36m0\u001b[0m, \u001b[1;36m11\u001b[0m\u001b[1m]\u001b[0m\n",
       "\u001b[1m}\u001b[0m\n",
       "\u001b[1m{\u001b[0m\u001b[1;36m66\u001b[0m: \u001b[1;36m1\u001b[0m, \u001b[1;36m50\u001b[0m: \u001b[1;36m6\u001b[0m, \u001b[1;36m79\u001b[0m: \u001b[1;36m4\u001b[0m\u001b[1m}\u001b[0m\n"
      ]
     },
     "metadata": {},
     "output_type": "display_data"
    }
   ],
   "source": [
    "from collections import Counter\n",
    "\n",
    "import jmppeft.modules.dataset.dataset_transform as DT\n",
    "import nshutils\n",
    "import rich\n",
    "import torch.utils._pytree as tree\n",
    "from lightning.fabric.utilities.apply_func import move_data_to_device\n",
    "from torch_geometric.data import Batch, Data\n",
    "\n",
    "nshutils.pretty()\n",
    "\n",
    "\n",
    "def data_transform(data: Data):\n",
    "    data = model.data_transform(data)\n",
    "    data = Data.from_dict(\n",
    "        tree.tree_map(\n",
    "            lambda x: x.type(default_dtype)\n",
    "            if torch.is_tensor(x) and torch.is_floating_point(x)\n",
    "            else x,\n",
    "            data.to_dict(),\n",
    "        )\n",
    "    )\n",
    "    return data\n",
    "\n",
    "\n",
    "def composition(data: Batch):\n",
    "    return dict(Counter(data.atomic_numbers.tolist()))\n",
    "\n",
    "\n",
    "num_items = 1024\n",
    "\n",
    "dataset = DT.transform(dataset_og, data_transform)\n",
    "dataset = DT.sample_n_transform(dataset, n=num_items, seed=42)\n",
    "\n",
    "\n",
    "idx = 32\n",
    "data = Batch.from_data_list([dataset[idx]])\n",
    "rich.print(data.to_dict(), composition(data))"
   ]
  },
  {
   "cell_type": "code",
   "execution_count": 15,
   "metadata": {},
   "outputs": [
    {
     "data": {
      "text/plain": [
       "{'energy': tensor[1] cuda:0 [-0.780],\n",
       " 'forces': tensor[8, 3] n=24 x∈[-1.142, 1.170] μ=-9.773e-05 σ=0.461 cuda:0,\n",
       " 'stress': tensor[1, 3, 3] n=9 x∈[-0.044, 0.012] μ=-0.006 σ=0.018 cuda:0 [[[-0.010, 0.003, -0.004], [0.003, -0.044, 0.012], [-0.004, 0.012, -0.022]]]}"
      ]
     },
     "execution_count": 15,
     "metadata": {},
     "output_type": "execute_result"
    }
   ],
   "source": [
    "import numpy as np\n",
    "from jmppeft.modules.relaxer import ModelOutput, Relaxer\n",
    "from matbench_discovery.energy import get_e_form_per_atom\n",
    "\n",
    "USE_Y_RELAXED = False\n",
    "LINREF = np.load(\n",
    "    \"/net/csefiles/coc-fung-cluster/nima/shared/repositories/jmp-peft/notebooks/mptrj_linref.npy\"\n",
    ")\n",
    "\n",
    "\n",
    "def model_fn(data, initial_data, *, use_y_relaxed: bool = USE_Y_RELAXED) -> ModelOutput:\n",
    "    model_out = model.forward_denormalized(data)\n",
    "\n",
    "    energy = model_out[\"y_relaxed\"] if use_y_relaxed else model_out[\"y\"]\n",
    "    # energy = model_out[\"y\"]\n",
    "    # relaxed_energy = model_out[\"y_relaxed\"]\n",
    "    forces = model_out[\"force\"]\n",
    "    stress = model_out[\"stress\"]\n",
    "\n",
    "    # Undo the linref\n",
    "    if LINREF is not None:\n",
    "        energy = energy + LINREF[data.atomic_numbers.cpu().numpy()].sum()\n",
    "\n",
    "    # JMP-S v2 energy is corrected_energy, i.e., DFT total energy\n",
    "    # This energy is now DFT total energy, we need to convert it to formation energy per atom\n",
    "    energy = get_e_form_per_atom(\n",
    "        {\n",
    "            \"composition\": composition(data),\n",
    "            \"energy\": energy,\n",
    "        }\n",
    "    )\n",
    "    assert isinstance(energy, torch.Tensor)\n",
    "    # assert isinstance(relaxed_energy, torch.Tensor)\n",
    "\n",
    "    # Add the correction factor\n",
    "    if False:\n",
    "        energy += initial_data.y_formation_correction.item()\n",
    "\n",
    "    # energy, relaxed_energy = tree.tree_map(\n",
    "    #     lambda energy: energy.view(1), (energy, relaxed_energy)\n",
    "    # )\n",
    "    energy = energy.view(1)\n",
    "    forces = forces.view(-1, 3)\n",
    "    stress = stress.view(1, 3, 3) if stress.numel() == 9 else stress.view(1, 6)\n",
    "\n",
    "    return {\n",
    "        \"energy\": energy,\n",
    "        # \"relaxed_energy\": relaxed_energy,\n",
    "        \"forces\": forces,\n",
    "        \"stress\": stress,\n",
    "    }\n",
    "\n",
    "\n",
    "data = move_data_to_device(data, model.device)\n",
    "model_fn(data, data)"
   ]
  },
  {
   "cell_type": "code",
   "execution_count": 16,
   "metadata": {},
   "outputs": [
    {
     "data": {
      "text/html": [
       "<pre style=\"white-space:pre;overflow-x:auto;line-height:normal;font-family:Menlo,'DejaVu Sans Mono',consolas,'Courier New',monospace\">tensor<span style=\"font-weight: bold\">[</span><span style=\"color: #008080; text-decoration-color: #008080; font-weight: bold\">1</span><span style=\"font-weight: bold\">]</span> cu<span style=\"color: #00ff00; text-decoration-color: #00ff00; font-weight: bold\">da:0</span> <span style=\"font-weight: bold\">[</span><span style=\"color: #008080; text-decoration-color: #008080; font-weight: bold\">-0.801</span><span style=\"font-weight: bold\">]</span>\n",
       "</pre>\n"
      ],
      "text/plain": [
       "tensor\u001b[1m[\u001b[0m\u001b[1;36m1\u001b[0m\u001b[1m]\u001b[0m cu\u001b[1;92mda:0\u001b[0m \u001b[1m[\u001b[0m\u001b[1;36m-0.801\u001b[0m\u001b[1m]\u001b[0m\n"
      ]
     },
     "metadata": {},
     "output_type": "display_data"
    },
    {
     "name": "stdout",
     "output_type": "stream",
     "text": [
      "      Step     Time          Energy          fmax\n",
      "FIRE:    0 19:36:15       -0.779941        1.201617\n",
      "FIRE:    1 19:36:15       -0.793563        1.011052\n",
      "FIRE:    2 19:36:16       -0.805330        0.738426\n",
      "FIRE:    3 19:36:16       -0.813030        0.496835\n",
      "FIRE:    4 19:36:16       -0.811783        0.350428\n",
      "FIRE:    5 19:36:16       -0.814731        0.397165\n",
      "FIRE:    6 19:36:16       -0.820647        0.392510\n",
      "FIRE:    7 19:36:16       -0.822031        0.353560\n",
      "FIRE:    8 19:36:16       -0.820724        0.423257\n",
      "FIRE:    9 19:36:16       -0.828358        0.291592\n",
      "FIRE:   10 19:36:16       -0.831860        0.177611\n",
      "FIRE:   11 19:36:17       -0.832110        0.165220\n",
      "FIRE:   12 19:36:17       -0.832574        0.141642\n",
      "FIRE:   13 19:36:17       -0.832232        0.115080\n",
      "FIRE:   14 19:36:17       -0.832485        0.082270\n",
      "FIRE:   15 19:36:17       -0.833324        0.054162\n",
      "FIRE:   16 19:36:17       -0.834452        0.051933\n",
      "FIRE:   17 19:36:17       -0.835300        0.051716\n",
      "FIRE:   18 19:36:17       -0.836228        0.044808\n"
     ]
    },
    {
     "data": {
      "text/html": [
       "<pre style=\"white-space:pre;overflow-x:auto;line-height:normal;font-family:Menlo,'DejaVu Sans Mono',consolas,'Courier New',monospace\"><span style=\"color: #008080; text-decoration-color: #008080; font-weight: bold\">-0.8362278938293457</span> tensor<span style=\"font-weight: bold\">[</span><span style=\"color: #008080; text-decoration-color: #008080; font-weight: bold\">1</span><span style=\"font-weight: bold\">]</span> cu<span style=\"color: #00ff00; text-decoration-color: #00ff00; font-weight: bold\">da:0</span> <span style=\"font-weight: bold\">[</span><span style=\"color: #008080; text-decoration-color: #008080; font-weight: bold\">-0.801</span><span style=\"font-weight: bold\">]</span>\n",
       "</pre>\n"
      ],
      "text/plain": [
       "\u001b[1;36m-0.8362278938293457\u001b[0m tensor\u001b[1m[\u001b[0m\u001b[1;36m1\u001b[0m\u001b[1m]\u001b[0m cu\u001b[1;92mda:0\u001b[0m \u001b[1m[\u001b[0m\u001b[1;36m-0.801\u001b[0m\u001b[1m]\u001b[0m\n"
      ]
     },
     "metadata": {},
     "output_type": "display_data"
    }
   ],
   "source": [
    "from functools import partial\n",
    "\n",
    "import rich\n",
    "from jmppeft.modules.relaxer import RelaxerConfig\n",
    "\n",
    "config = RelaxerConfig(\n",
    "    compute_stress=True,\n",
    "    stress_weight=0.1,\n",
    "    optimizer=\"FIRE\",\n",
    "    fmax=0.05,\n",
    "    ase_filter=\"exp\",\n",
    ")\n",
    "relaxer = Relaxer(\n",
    "    config=config,\n",
    "    model=partial(model_fn, use_y_relaxed=False),\n",
    "    collate_fn=model.collate_fn,\n",
    "    device=model.device,\n",
    ")\n",
    "rich.print(data.y_formation)\n",
    "relax_out = relaxer.relax(data)\n",
    "# rich.print(relax_out)\n",
    "\n",
    "energy = relax_out.atoms.get_total_energy()\n",
    "rich.print(energy, data.y_formation)"
   ]
  },
  {
   "cell_type": "code",
   "execution_count": 28,
   "metadata": {},
   "outputs": [
    {
     "data": {
      "application/vnd.jupyter.widget-view+json": {
       "model_id": "b96baf132ea741158c16b9501677ef05",
       "version_major": 2,
       "version_minor": 0
      },
      "text/plain": [
       "  0%|          | 0/1024 [00:00<?, ?it/s]"
      ]
     },
     "metadata": {},
     "output_type": "display_data"
    },
    {
     "name": "stdout",
     "output_type": "stream",
     "text": [
      "✅ # Steps: 20; e_form: P=-0.8364, GT=-0.8008, Δ=0.0356, MAE=0.0356\n",
      "✅ # Steps: 37; e_form: P=0.0515, GT=-0.0220, Δ=0.0734, MAE=0.0545\n",
      "✅ # Steps: 24; e_form: P=-0.6248, GT=-0.6088, Δ=0.0160, MAE=0.0417\n",
      "❌ # Steps: 86; e_form: P=-0.3030, GT=-0.1544, Δ=0.1486, MAE=0.0684\n",
      "✅ # Steps: 30; e_form: P=-0.1468, GT=-0.1154, Δ=0.0313, MAE=0.0610\n",
      "✅ # Steps: 23; e_form: P=-0.3913, GT=-0.3905, Δ=0.0008, MAE=0.0510\n",
      "✅ # Steps: 13; e_form: P=-0.2625, GT=-0.2468, Δ=0.0157, MAE=0.0459\n",
      "❌ # Steps: 15; e_form: P=-0.5679, GT=-0.4542, Δ=0.1137, MAE=0.0544\n",
      "✅ # Steps: 13; e_form: P=-1.9527, GT=-1.9089, Δ=0.0438, MAE=0.0532\n",
      "✅ # Steps: 7; e_form: P=-0.1210, GT=-0.1224, Δ=0.0014, MAE=0.0480\n",
      "✅ # Steps: 4; e_form: P=-1.9095, GT=-1.8781, Δ=0.0314, MAE=0.0465\n",
      "✅ # Steps: 5; e_form: P=-1.5753, GT=-1.6101, Δ=0.0348, MAE=0.0455\n",
      "✅ # Steps: 14; e_form: P=-1.8406, GT=-1.8180, Δ=0.0226, MAE=0.0438\n",
      "✅ # Steps: 4; e_form: P=-0.3363, GT=-0.3333, Δ=0.0030, MAE=0.0409\n",
      "✅ # Steps: 14; e_form: P=-0.7534, GT=-0.7299, Δ=0.0235, MAE=0.0397\n",
      "✅ # Steps: 11; e_form: P=-0.0455, GT=-0.0433, Δ=0.0022, MAE=0.0374\n",
      "✅ # Steps: 32; e_form: P=-0.5489, GT=-0.5591, Δ=0.0102, MAE=0.0358\n",
      "✅ # Steps: 11; e_form: P=-3.1450, GT=-3.0844, Δ=0.0605, MAE=0.0371\n",
      "❌ # Steps: 11; e_form: P=-1.5551, GT=-1.7130, Δ=0.1579, MAE=0.0435\n",
      "✅ # Steps: 72; e_form: P=-2.8666, GT=-2.8650, Δ=0.0016, MAE=0.0414\n",
      "✅ # Steps: 14; e_form: P=-2.4182, GT=-2.3807, Δ=0.0375, MAE=0.0412\n",
      "✅ # Steps: 18; e_form: P=-0.6727, GT=-0.6476, Δ=0.0251, MAE=0.0405\n",
      "✅ # Steps: 7; e_form: P=-0.5064, GT=-0.4119, Δ=0.0946, MAE=0.0428\n",
      "✅ # Steps: 7; e_form: P=-0.0093, GT=-0.0061, Δ=0.0032, MAE=0.0412\n",
      "✅ # Steps: 24; e_form: P=-0.5978, GT=-0.5812, Δ=0.0166, MAE=0.0402\n",
      "✅ # Steps: 21; e_form: P=-0.4530, GT=-0.4616, Δ=0.0086, MAE=0.0390\n",
      "✅ # Steps: 24; e_form: P=-1.1298, GT=-1.0945, Δ=0.0352, MAE=0.0388\n",
      "✅ # Steps: 16; e_form: P=-2.0532, GT=-2.0012, Δ=0.0521, MAE=0.0393\n",
      "✅ # Steps: 14; e_form: P=-2.1893, GT=-2.1870, Δ=0.0022, MAE=0.0380\n",
      "✅ # Steps: 11; e_form: P=-0.7433, GT=-0.7626, Δ=0.0193, MAE=0.0374\n",
      "✅ # Steps: 25; e_form: P=-1.8423, GT=-1.9263, Δ=0.0840, MAE=0.0389\n",
      "✅ # Steps: 11; e_form: P=-0.1296, GT=-0.1229, Δ=0.0068, MAE=0.0379\n",
      "✅ # Steps: 36; e_form: P=-0.2297, GT=-0.2364, Δ=0.0066, MAE=0.0370\n",
      "✅ # Steps: 17; e_form: P=-0.1917, GT=-0.1713, Δ=0.0204, MAE=0.0365\n",
      "✅ # Steps: 11; e_form: P=-0.5113, GT=-0.5257, Δ=0.0144, MAE=0.0358\n",
      "✅ # Steps: 10; e_form: P=-0.5117, GT=-0.4484, Δ=0.0633, MAE=0.0366\n",
      "✅ # Steps: 16; e_form: P=-0.8907, GT=-0.9048, Δ=0.0141, MAE=0.0360\n",
      "✅ # Steps: 58; e_form: P=-0.2291, GT=-0.2392, Δ=0.0101, MAE=0.0353\n",
      "✅ # Steps: 31; e_form: P=-0.5854, GT=-0.6018, Δ=0.0164, MAE=0.0348\n",
      "✅ # Steps: 9; e_form: P=-0.4625, GT=-0.4596, Δ=0.0029, MAE=0.0340\n",
      "✅ # Steps: 17; e_form: P=-0.0241, GT=0.0228, Δ=0.0469, MAE=0.0344\n",
      "✅ # Steps: 13; e_form: P=-0.6627, GT=-0.6482, Δ=0.0145, MAE=0.0339\n",
      "✅ # Steps: 19; e_form: P=-0.3393, GT=-0.3384, Δ=0.0009, MAE=0.0331\n",
      "✅ # Steps: 27; e_form: P=0.0097, GT=0.0744, Δ=0.0647, MAE=0.0338\n",
      "✅ # Steps: 2; e_form: P=-0.3423, GT=-0.2690, Δ=0.0733, MAE=0.0347\n",
      "✅ # Steps: 29; e_form: P=-3.0025, GT=-2.9990, Δ=0.0035, MAE=0.0340\n",
      "✅ # Steps: 31; e_form: P=-1.0269, GT=-1.0127, Δ=0.0143, MAE=0.0336\n",
      "✅ # Steps: 12; e_form: P=-0.4014, GT=-0.4317, Δ=0.0303, MAE=0.0335\n",
      "✅ # Steps: 7; e_form: P=-0.7825, GT=-0.8011, Δ=0.0186, MAE=0.0332\n",
      "✅ # Steps: 34; e_form: P=-3.2181, GT=-3.2035, Δ=0.0146, MAE=0.0329\n",
      "✅ # Steps: 34; e_form: P=-0.1853, GT=-0.1638, Δ=0.0215, MAE=0.0326\n",
      "❌ # Steps: 19; e_form: P=-1.4395, GT=-1.3358, Δ=0.1037, MAE=0.0340\n",
      "✅ # Steps: 9; e_form: P=-1.1624, GT=-1.1612, Δ=0.0012, MAE=0.0334\n",
      "✅ # Steps: 2; e_form: P=-0.1397, GT=-0.1789, Δ=0.0391, MAE=0.0335\n",
      "✅ # Steps: 28; e_form: P=-0.3227, GT=-0.3186, Δ=0.0041, MAE=0.0330\n",
      "❌ # Steps: 26; e_form: P=0.3698, GT=0.4827, Δ=0.1129, MAE=0.0344\n",
      "✅ # Steps: 14; e_form: P=-1.7397, GT=-1.7589, Δ=0.0192, MAE=0.0341\n",
      "✅ # Steps: 16; e_form: P=-0.3463, GT=-0.2765, Δ=0.0697, MAE=0.0347\n",
      "✅ # Steps: 12; e_form: P=-3.2658, GT=-3.3041, Δ=0.0383, MAE=0.0348\n",
      "✅ # Steps: 14; e_form: P=-0.4422, GT=-0.3660, Δ=0.0762, MAE=0.0355\n",
      "✅ # Steps: 19; e_form: P=-0.6569, GT=-0.6369, Δ=0.0200, MAE=0.0352\n",
      "✅ # Steps: 39; e_form: P=-2.6258, GT=-2.6335, Δ=0.0077, MAE=0.0348\n",
      "❌ # Steps: 21; e_form: P=-1.9115, GT=-1.5591, Δ=0.3524, MAE=0.0398\n"
     ]
    },
    {
     "ename": "KeyboardInterrupt",
     "evalue": "",
     "output_type": "error",
     "traceback": [
      "\u001b[0;31m---------------------------------------------------------------------------\u001b[0m",
      "\u001b[0;31mKeyboardInterrupt\u001b[0m                         Traceback (most recent call last)",
      "Cell \u001b[0;32mIn[28], line 57\u001b[0m\n\u001b[1;32m     55\u001b[0m data \u001b[38;5;241m=\u001b[39m move_data_to_device(data, model\u001b[38;5;241m.\u001b[39mdevice)\n\u001b[1;32m     56\u001b[0m data\u001b[38;5;241m.\u001b[39my_prediction \u001b[38;5;241m=\u001b[39m data\u001b[38;5;241m.\u001b[39my_formation\n\u001b[0;32m---> 57\u001b[0m relaxed_data, relax_out \u001b[38;5;241m=\u001b[39m \u001b[43mrelaxer\u001b[49m\u001b[38;5;241;43m.\u001b[39;49m\u001b[43mrelax_and_return_structure\u001b[49m\u001b[43m(\u001b[49m\u001b[43mdata\u001b[49m\u001b[43m,\u001b[49m\u001b[43m \u001b[49m\u001b[43mverbose\u001b[49m\u001b[38;5;241;43m=\u001b[39;49m\u001b[38;5;28;43;01mFalse\u001b[39;49;00m\u001b[43m)\u001b[49m\n\u001b[1;32m     59\u001b[0m e_form_true \u001b[38;5;241m=\u001b[39m data\u001b[38;5;241m.\u001b[39my_formation\u001b[38;5;241m.\u001b[39mitem()\n\u001b[1;32m     60\u001b[0m e_form_pred \u001b[38;5;241m=\u001b[39m relax_out\u001b[38;5;241m.\u001b[39matoms\u001b[38;5;241m.\u001b[39mget_total_energy()\n",
      "    \u001b[0;31m[... skipping hidden 1 frame]\u001b[0m\n",
      "File \u001b[0;32m/net/csefiles/coc-fung-cluster/nima/miniforge3/envs/jmp-peft/lib/python3.11/site-packages/jaxtyping/_decorator.py:449\u001b[0m, in \u001b[0;36mjaxtyped.<locals>.wrapped_fn_impl\u001b[0;34m(args, kwargs, bound, memos)\u001b[0m\n\u001b[1;32m    446\u001b[0m             \u001b[38;5;28;01mraise\u001b[39;00m TypeCheckError(msg) \u001b[38;5;28;01mfrom\u001b[39;00m \u001b[38;5;21;01me\u001b[39;00m\n\u001b[1;32m    448\u001b[0m \u001b[38;5;66;03m# Actually call the function.\u001b[39;00m\n\u001b[0;32m--> 449\u001b[0m out \u001b[38;5;241m=\u001b[39m \u001b[43mfn\u001b[49m\u001b[43m(\u001b[49m\u001b[38;5;241;43m*\u001b[39;49m\u001b[43margs\u001b[49m\u001b[43m,\u001b[49m\u001b[43m \u001b[49m\u001b[38;5;241;43m*\u001b[39;49m\u001b[38;5;241;43m*\u001b[39;49m\u001b[43mkwargs\u001b[49m\u001b[43m)\u001b[49m\n\u001b[1;32m    451\u001b[0m \u001b[38;5;28;01mif\u001b[39;00m full_signature\u001b[38;5;241m.\u001b[39mreturn_annotation \u001b[38;5;129;01mis\u001b[39;00m \u001b[38;5;129;01mnot\u001b[39;00m inspect\u001b[38;5;241m.\u001b[39mSignature\u001b[38;5;241m.\u001b[39mempty:\n\u001b[1;32m    452\u001b[0m     \u001b[38;5;66;03m# Now type-check the return value. We need to include the\u001b[39;00m\n\u001b[1;32m    453\u001b[0m     \u001b[38;5;66;03m# parameters in the type-checking here in case there are any\u001b[39;00m\n\u001b[0;32m   (...)\u001b[0m\n\u001b[1;32m    464\u001b[0m     \u001b[38;5;66;03m# checking of the parameters. Unfortunately there doesn't seem\u001b[39;00m\n\u001b[1;32m    465\u001b[0m     \u001b[38;5;66;03m# to be a way around that, so c'est la vie.\u001b[39;00m\n\u001b[1;32m    466\u001b[0m     kwargs[output_name] \u001b[38;5;241m=\u001b[39m out\n",
      "File \u001b[0;32m/net/csefiles/coc-fung-cluster/nima/shared/repositories/jmp-peft/src/jmppeft/modules/relaxer/_mixin.py:297\u001b[0m, in \u001b[0;36mRelaxer.relax_and_return_structure\u001b[0;34m(self, graph, device, verbose)\u001b[0m\n\u001b[1;32m    290\u001b[0m \u001b[38;5;28;01mdef\u001b[39;00m \u001b[38;5;21mrelax_and_return_structure\u001b[39m(\n\u001b[1;32m    291\u001b[0m     \u001b[38;5;28mself\u001b[39m,\n\u001b[1;32m    292\u001b[0m     graph: Batch,\n\u001b[1;32m    293\u001b[0m     device: \u001b[38;5;28mstr\u001b[39m \u001b[38;5;241m|\u001b[39m torch\u001b[38;5;241m.\u001b[39mdevice \u001b[38;5;241m|\u001b[39m \u001b[38;5;28;01mNone\u001b[39;00m \u001b[38;5;241m=\u001b[39m \u001b[38;5;28;01mNone\u001b[39;00m,\n\u001b[1;32m    294\u001b[0m     verbose: \u001b[38;5;28mbool\u001b[39m \u001b[38;5;241m=\u001b[39m \u001b[38;5;28;01mTrue\u001b[39;00m,\n\u001b[1;32m    295\u001b[0m ):\n\u001b[1;32m    296\u001b[0m     out_graph \u001b[38;5;241m=\u001b[39m copy\u001b[38;5;241m.\u001b[39mdeepcopy(graph)\n\u001b[0;32m--> 297\u001b[0m     output \u001b[38;5;241m=\u001b[39m \u001b[38;5;28;43mself\u001b[39;49m\u001b[38;5;241;43m.\u001b[39;49m\u001b[43mrelax\u001b[49m\u001b[43m(\u001b[49m\u001b[43mgraph\u001b[49m\u001b[43m,\u001b[49m\u001b[43m \u001b[49m\u001b[43mverbose\u001b[49m\u001b[38;5;241;43m=\u001b[39;49m\u001b[43mverbose\u001b[49m\u001b[43m)\u001b[49m\n\u001b[1;32m    299\u001b[0m     atoms \u001b[38;5;241m=\u001b[39m output\u001b[38;5;241m.\u001b[39matoms\n\u001b[1;32m    300\u001b[0m     \u001b[38;5;66;03m# Convert the relaxed structure to a graph\u001b[39;00m\n",
      "    \u001b[0;31m[... skipping hidden 1 frame]\u001b[0m\n",
      "File \u001b[0;32m/net/csefiles/coc-fung-cluster/nima/miniforge3/envs/jmp-peft/lib/python3.11/site-packages/jaxtyping/_decorator.py:449\u001b[0m, in \u001b[0;36mjaxtyped.<locals>.wrapped_fn_impl\u001b[0;34m(args, kwargs, bound, memos)\u001b[0m\n\u001b[1;32m    446\u001b[0m             \u001b[38;5;28;01mraise\u001b[39;00m TypeCheckError(msg) \u001b[38;5;28;01mfrom\u001b[39;00m \u001b[38;5;21;01me\u001b[39;00m\n\u001b[1;32m    448\u001b[0m \u001b[38;5;66;03m# Actually call the function.\u001b[39;00m\n\u001b[0;32m--> 449\u001b[0m out \u001b[38;5;241m=\u001b[39m \u001b[43mfn\u001b[49m\u001b[43m(\u001b[49m\u001b[38;5;241;43m*\u001b[39;49m\u001b[43margs\u001b[49m\u001b[43m,\u001b[49m\u001b[43m \u001b[49m\u001b[38;5;241;43m*\u001b[39;49m\u001b[38;5;241;43m*\u001b[39;49m\u001b[43mkwargs\u001b[49m\u001b[43m)\u001b[49m\n\u001b[1;32m    451\u001b[0m \u001b[38;5;28;01mif\u001b[39;00m full_signature\u001b[38;5;241m.\u001b[39mreturn_annotation \u001b[38;5;129;01mis\u001b[39;00m \u001b[38;5;129;01mnot\u001b[39;00m inspect\u001b[38;5;241m.\u001b[39mSignature\u001b[38;5;241m.\u001b[39mempty:\n\u001b[1;32m    452\u001b[0m     \u001b[38;5;66;03m# Now type-check the return value. We need to include the\u001b[39;00m\n\u001b[1;32m    453\u001b[0m     \u001b[38;5;66;03m# parameters in the type-checking here in case there are any\u001b[39;00m\n\u001b[0;32m   (...)\u001b[0m\n\u001b[1;32m    464\u001b[0m     \u001b[38;5;66;03m# checking of the parameters. Unfortunately there doesn't seem\u001b[39;00m\n\u001b[1;32m    465\u001b[0m     \u001b[38;5;66;03m# to be a way around that, so c'est la vie.\u001b[39;00m\n\u001b[1;32m    466\u001b[0m     kwargs[output_name] \u001b[38;5;241m=\u001b[39m out\n",
      "File \u001b[0;32m/net/csefiles/coc-fung-cluster/nima/shared/repositories/jmp-peft/src/jmppeft/modules/relaxer/_mixin.py:279\u001b[0m, in \u001b[0;36mrelax\u001b[0;34m(self, graph, verbose)\u001b[0m\n\u001b[1;32m    267\u001b[0m atoms \u001b[38;5;241m=\u001b[39m \u001b[38;5;28mself\u001b[39m\u001b[38;5;241m.\u001b[39m_graph_to_atoms(graph)\n\u001b[1;32m    269\u001b[0m relaxer \u001b[38;5;241m=\u001b[39m _Relaxer(\n\u001b[1;32m    270\u001b[0m     potential\u001b[38;5;241m=\u001b[39mpartial(\u001b[38;5;28mself\u001b[39m\u001b[38;5;241m.\u001b[39m_potential, initial_graph\u001b[38;5;241m=\u001b[39mgraph),\n\u001b[1;32m    271\u001b[0m     graph_converter\u001b[38;5;241m=\u001b[39mpartial(\u001b[38;5;28mself\u001b[39m\u001b[38;5;241m.\u001b[39m_atoms_to_graph, initial_graph\u001b[38;5;241m=\u001b[39mgraph),\n\u001b[0;32m   (...)\u001b[0m\n\u001b[1;32m    276\u001b[0m     ase_filter\u001b[38;5;241m=\u001b[39m\u001b[38;5;28mself\u001b[39m\u001b[38;5;241m.\u001b[39mconfig\u001b[38;5;241m.\u001b[39mase_filter,\n\u001b[1;32m    277\u001b[0m )\n\u001b[1;32m    278\u001b[0m \u001b[38;5;28;01mreturn\u001b[39;00m relaxer\u001b[38;5;241m.\u001b[39mrelax(\n\u001b[0;32m--> 279\u001b[0m     atoms,\n\u001b[1;32m    280\u001b[0m     fmax\u001b[38;5;241m=\u001b[39m\u001b[38;5;28mself\u001b[39m\u001b[38;5;241m.\u001b[39mconfig\u001b[38;5;241m.\u001b[39mfmax,\n\u001b[1;32m    281\u001b[0m     steps\u001b[38;5;241m=\u001b[39m\u001b[38;5;28mself\u001b[39m\u001b[38;5;241m.\u001b[39mconfig\u001b[38;5;241m.\u001b[39msteps,\n\u001b[1;32m    282\u001b[0m     traj_file\u001b[38;5;241m=\u001b[39m\u001b[38;5;28mstr\u001b[39m(\u001b[38;5;28mself\u001b[39m\u001b[38;5;241m.\u001b[39mconfig\u001b[38;5;241m.\u001b[39mtraj_file\u001b[38;5;241m.\u001b[39mabsolute())\n\u001b[1;32m    283\u001b[0m     \u001b[38;5;28;01mif\u001b[39;00m \u001b[38;5;28mself\u001b[39m\u001b[38;5;241m.\u001b[39mconfig\u001b[38;5;241m.\u001b[39mtraj_file\n\u001b[1;32m    284\u001b[0m     \u001b[38;5;28;01melse\u001b[39;00m \u001b[38;5;28;01mNone\u001b[39;00m,\n\u001b[1;32m    285\u001b[0m     interval\u001b[38;5;241m=\u001b[39m\u001b[38;5;28mself\u001b[39m\u001b[38;5;241m.\u001b[39mconfig\u001b[38;5;241m.\u001b[39minterval,\n\u001b[1;32m    286\u001b[0m     verbose\u001b[38;5;241m=\u001b[39mverbose,\n\u001b[1;32m    287\u001b[0m     \u001b[38;5;241m*\u001b[39m\u001b[38;5;241m*\u001b[39m\u001b[38;5;28mself\u001b[39m\u001b[38;5;241m.\u001b[39mconfig\u001b[38;5;241m.\u001b[39moptimizer_kwargs,\n\u001b[1;32m    288\u001b[0m )\n",
      "    \u001b[0;31m[... skipping hidden 1 frame]\u001b[0m\n",
      "File \u001b[0;32m/net/csefiles/coc-fung-cluster/nima/miniforge3/envs/jmp-peft/lib/python3.11/site-packages/jaxtyping/_decorator.py:449\u001b[0m, in \u001b[0;36mjaxtyped.<locals>.wrapped_fn_impl\u001b[0;34m(args, kwargs, bound, memos)\u001b[0m\n\u001b[1;32m    446\u001b[0m             \u001b[38;5;28;01mraise\u001b[39;00m TypeCheckError(msg) \u001b[38;5;28;01mfrom\u001b[39;00m \u001b[38;5;21;01me\u001b[39;00m\n\u001b[1;32m    448\u001b[0m \u001b[38;5;66;03m# Actually call the function.\u001b[39;00m\n\u001b[0;32m--> 449\u001b[0m out \u001b[38;5;241m=\u001b[39m \u001b[43mfn\u001b[49m\u001b[43m(\u001b[49m\u001b[38;5;241;43m*\u001b[39;49m\u001b[43margs\u001b[49m\u001b[43m,\u001b[49m\u001b[43m \u001b[49m\u001b[38;5;241;43m*\u001b[39;49m\u001b[38;5;241;43m*\u001b[39;49m\u001b[43mkwargs\u001b[49m\u001b[43m)\u001b[49m\n\u001b[1;32m    451\u001b[0m \u001b[38;5;28;01mif\u001b[39;00m full_signature\u001b[38;5;241m.\u001b[39mreturn_annotation \u001b[38;5;129;01mis\u001b[39;00m \u001b[38;5;129;01mnot\u001b[39;00m inspect\u001b[38;5;241m.\u001b[39mSignature\u001b[38;5;241m.\u001b[39mempty:\n\u001b[1;32m    452\u001b[0m     \u001b[38;5;66;03m# Now type-check the return value. We need to include the\u001b[39;00m\n\u001b[1;32m    453\u001b[0m     \u001b[38;5;66;03m# parameters in the type-checking here in case there are any\u001b[39;00m\n\u001b[0;32m   (...)\u001b[0m\n\u001b[1;32m    464\u001b[0m     \u001b[38;5;66;03m# checking of the parameters. Unfortunately there doesn't seem\u001b[39;00m\n\u001b[1;32m    465\u001b[0m     \u001b[38;5;66;03m# to be a way around that, so c'est la vie.\u001b[39;00m\n\u001b[1;32m    466\u001b[0m     kwargs[output_name] \u001b[38;5;241m=\u001b[39m out\n",
      "File \u001b[0;32m/net/csefiles/coc-fung-cluster/nima/shared/repositories/jmp-peft/src/jmppeft/modules/relaxer/_relaxer.py:332\u001b[0m, in \u001b[0;36mRelaxer.relax\u001b[0;34m(self, atoms, fmax, steps, traj_file, interval, verbose, **kwargs)\u001b[0m\n\u001b[1;32m    330\u001b[0m     optimizer \u001b[38;5;241m=\u001b[39m \u001b[38;5;28mself\u001b[39m\u001b[38;5;241m.\u001b[39moptimizer_cls(atoms, \u001b[38;5;241m*\u001b[39m\u001b[38;5;241m*\u001b[39mkwargs)\n\u001b[1;32m    331\u001b[0m     optimizer\u001b[38;5;241m.\u001b[39mattach(obs, interval\u001b[38;5;241m=\u001b[39minterval)\n\u001b[0;32m--> 332\u001b[0m     \u001b[43moptimizer\u001b[49m\u001b[38;5;241;43m.\u001b[39;49m\u001b[43mrun\u001b[49m\u001b[43m(\u001b[49m\u001b[43mfmax\u001b[49m\u001b[38;5;241;43m=\u001b[39;49m\u001b[43mfmax\u001b[49m\u001b[43m,\u001b[49m\u001b[43m \u001b[49m\u001b[43msteps\u001b[49m\u001b[38;5;241;43m=\u001b[39;49m\u001b[43msteps\u001b[49m\u001b[43m)\u001b[49m\n\u001b[1;32m    333\u001b[0m     obs()\n\u001b[1;32m    334\u001b[0m \u001b[38;5;28;01mif\u001b[39;00m traj_file \u001b[38;5;129;01mis\u001b[39;00m \u001b[38;5;129;01mnot\u001b[39;00m \u001b[38;5;28;01mNone\u001b[39;00m:\n",
      "File \u001b[0;32m/net/csefiles/coc-fung-cluster/nima/miniforge3/envs/jmp-peft/lib/python3.11/site-packages/ase/optimize/optimize.py:430\u001b[0m, in \u001b[0;36mOptimizer.run\u001b[0;34m(self, fmax, steps)\u001b[0m\n\u001b[1;32m    415\u001b[0m \u001b[38;5;250m\u001b[39m\u001b[38;5;124;03m\"\"\"Run optimizer.\u001b[39;00m\n\u001b[1;32m    416\u001b[0m \n\u001b[1;32m    417\u001b[0m \u001b[38;5;124;03mParameters\u001b[39;00m\n\u001b[0;32m   (...)\u001b[0m\n\u001b[1;32m    427\u001b[0m \u001b[38;5;124;03m    True if the forces on atoms are converged.\u001b[39;00m\n\u001b[1;32m    428\u001b[0m \u001b[38;5;124;03m\"\"\"\u001b[39;00m\n\u001b[1;32m    429\u001b[0m \u001b[38;5;28mself\u001b[39m\u001b[38;5;241m.\u001b[39mfmax \u001b[38;5;241m=\u001b[39m fmax\n\u001b[0;32m--> 430\u001b[0m \u001b[38;5;28;01mreturn\u001b[39;00m \u001b[43mDynamics\u001b[49m\u001b[38;5;241;43m.\u001b[39;49m\u001b[43mrun\u001b[49m\u001b[43m(\u001b[49m\u001b[38;5;28;43mself\u001b[39;49m\u001b[43m,\u001b[49m\u001b[43m \u001b[49m\u001b[43msteps\u001b[49m\u001b[38;5;241;43m=\u001b[39;49m\u001b[43msteps\u001b[49m\u001b[43m)\u001b[49m\n",
      "File \u001b[0;32m/net/csefiles/coc-fung-cluster/nima/miniforge3/envs/jmp-peft/lib/python3.11/site-packages/ase/optimize/optimize.py:275\u001b[0m, in \u001b[0;36mDynamics.run\u001b[0;34m(self, steps)\u001b[0m\n\u001b[1;32m    257\u001b[0m \u001b[38;5;28;01mdef\u001b[39;00m \u001b[38;5;21mrun\u001b[39m(\u001b[38;5;28mself\u001b[39m, steps\u001b[38;5;241m=\u001b[39mDEFAULT_MAX_STEPS):\n\u001b[1;32m    258\u001b[0m \u001b[38;5;250m    \u001b[39m\u001b[38;5;124;03m\"\"\"Run dynamics algorithm.\u001b[39;00m\n\u001b[1;32m    259\u001b[0m \n\u001b[1;32m    260\u001b[0m \u001b[38;5;124;03m    This method will return when the forces on all individual\u001b[39;00m\n\u001b[0;32m   (...)\u001b[0m\n\u001b[1;32m    272\u001b[0m \u001b[38;5;124;03m        True if the forces on atoms are converged.\u001b[39;00m\n\u001b[1;32m    273\u001b[0m \u001b[38;5;124;03m    \"\"\"\u001b[39;00m\n\u001b[0;32m--> 275\u001b[0m \u001b[43m    \u001b[49m\u001b[38;5;28;43;01mfor\u001b[39;49;00m\u001b[43m \u001b[49m\u001b[43mconverged\u001b[49m\u001b[43m \u001b[49m\u001b[38;5;129;43;01min\u001b[39;49;00m\u001b[43m \u001b[49m\u001b[43mDynamics\u001b[49m\u001b[38;5;241;43m.\u001b[39;49m\u001b[43mirun\u001b[49m\u001b[43m(\u001b[49m\u001b[38;5;28;43mself\u001b[39;49m\u001b[43m,\u001b[49m\u001b[43m \u001b[49m\u001b[43msteps\u001b[49m\u001b[38;5;241;43m=\u001b[39;49m\u001b[43msteps\u001b[49m\u001b[43m)\u001b[49m\u001b[43m:\u001b[49m\n\u001b[1;32m    276\u001b[0m \u001b[43m        \u001b[49m\u001b[38;5;28;43;01mpass\u001b[39;49;00m\n\u001b[1;32m    277\u001b[0m     \u001b[38;5;28;01mreturn\u001b[39;00m converged\n",
      "File \u001b[0;32m/net/csefiles/coc-fung-cluster/nima/miniforge3/envs/jmp-peft/lib/python3.11/site-packages/ase/optimize/optimize.py:250\u001b[0m, in \u001b[0;36mDynamics.irun\u001b[0;34m(self, steps)\u001b[0m\n\u001b[1;32m    247\u001b[0m \u001b[38;5;28mself\u001b[39m\u001b[38;5;241m.\u001b[39mnsteps \u001b[38;5;241m+\u001b[39m\u001b[38;5;241m=\u001b[39m \u001b[38;5;241m1\u001b[39m\n\u001b[1;32m    249\u001b[0m \u001b[38;5;66;03m# log the step\u001b[39;00m\n\u001b[0;32m--> 250\u001b[0m \u001b[38;5;28;43mself\u001b[39;49m\u001b[38;5;241;43m.\u001b[39;49m\u001b[43mlog\u001b[49m\u001b[43m(\u001b[49m\u001b[43m)\u001b[49m\n\u001b[1;32m    251\u001b[0m \u001b[38;5;28mself\u001b[39m\u001b[38;5;241m.\u001b[39mcall_observers()\n\u001b[1;32m    253\u001b[0m \u001b[38;5;66;03m# check convergence\u001b[39;00m\n",
      "File \u001b[0;32m/net/csefiles/coc-fung-cluster/nima/miniforge3/envs/jmp-peft/lib/python3.11/site-packages/ase/optimize/optimize.py:440\u001b[0m, in \u001b[0;36mOptimizer.log\u001b[0;34m(self, forces)\u001b[0m\n\u001b[1;32m    438\u001b[0m \u001b[38;5;28;01mdef\u001b[39;00m \u001b[38;5;21mlog\u001b[39m(\u001b[38;5;28mself\u001b[39m, forces\u001b[38;5;241m=\u001b[39m\u001b[38;5;28;01mNone\u001b[39;00m):\n\u001b[1;32m    439\u001b[0m     \u001b[38;5;28;01mif\u001b[39;00m forces \u001b[38;5;129;01mis\u001b[39;00m \u001b[38;5;28;01mNone\u001b[39;00m:\n\u001b[0;32m--> 440\u001b[0m         forces \u001b[38;5;241m=\u001b[39m \u001b[38;5;28;43mself\u001b[39;49m\u001b[38;5;241;43m.\u001b[39;49m\u001b[43moptimizable\u001b[49m\u001b[38;5;241;43m.\u001b[39;49m\u001b[43mget_forces\u001b[49m\u001b[43m(\u001b[49m\u001b[43m)\u001b[49m\n\u001b[1;32m    441\u001b[0m     fmax \u001b[38;5;241m=\u001b[39m sqrt((forces \u001b[38;5;241m*\u001b[39m\u001b[38;5;241m*\u001b[39m \u001b[38;5;241m2\u001b[39m)\u001b[38;5;241m.\u001b[39msum(axis\u001b[38;5;241m=\u001b[39m\u001b[38;5;241m1\u001b[39m)\u001b[38;5;241m.\u001b[39mmax())\n\u001b[1;32m    442\u001b[0m     e \u001b[38;5;241m=\u001b[39m \u001b[38;5;28mself\u001b[39m\u001b[38;5;241m.\u001b[39moptimizable\u001b[38;5;241m.\u001b[39mget_potential_energy()\n",
      "File \u001b[0;32m/net/csefiles/coc-fung-cluster/nima/miniforge3/envs/jmp-peft/lib/python3.11/site-packages/ase/filters.py:29\u001b[0m, in \u001b[0;36mOptimizableFilter.get_forces\u001b[0;34m(self)\u001b[0m\n\u001b[1;32m     28\u001b[0m \u001b[38;5;28;01mdef\u001b[39;00m \u001b[38;5;21mget_forces\u001b[39m(\u001b[38;5;28mself\u001b[39m):\n\u001b[0;32m---> 29\u001b[0m     \u001b[38;5;28;01mreturn\u001b[39;00m \u001b[38;5;28;43mself\u001b[39;49m\u001b[38;5;241;43m.\u001b[39;49m\u001b[43mfilterobj\u001b[49m\u001b[38;5;241;43m.\u001b[39;49m\u001b[43mget_forces\u001b[49m\u001b[43m(\u001b[49m\u001b[43m)\u001b[49m\n",
      "File \u001b[0;32m/net/csefiles/coc-fung-cluster/nima/miniforge3/envs/jmp-peft/lib/python3.11/site-packages/ase/filters.py:811\u001b[0m, in \u001b[0;36mExpCellFilter.get_forces\u001b[0;34m(self, **kwargs)\u001b[0m\n\u001b[1;32m    810\u001b[0m \u001b[38;5;28;01mdef\u001b[39;00m \u001b[38;5;21mget_forces\u001b[39m(\u001b[38;5;28mself\u001b[39m, \u001b[38;5;241m*\u001b[39m\u001b[38;5;241m*\u001b[39mkwargs):\n\u001b[0;32m--> 811\u001b[0m     forces \u001b[38;5;241m=\u001b[39m \u001b[43mUnitCellFilter\u001b[49m\u001b[38;5;241;43m.\u001b[39;49m\u001b[43mget_forces\u001b[49m\u001b[43m(\u001b[49m\u001b[38;5;28;43mself\u001b[39;49m\u001b[43m,\u001b[49m\u001b[43m \u001b[49m\u001b[38;5;241;43m*\u001b[39;49m\u001b[38;5;241;43m*\u001b[39;49m\u001b[43mkwargs\u001b[49m\u001b[43m)\u001b[49m\n\u001b[1;32m    813\u001b[0m     \u001b[38;5;66;03m# forces on atoms are same as UnitCellFilter, we just\u001b[39;00m\n\u001b[1;32m    814\u001b[0m     \u001b[38;5;66;03m# need to modify the stress contribution\u001b[39;00m\n\u001b[1;32m    815\u001b[0m     stress \u001b[38;5;241m=\u001b[39m \u001b[38;5;28mself\u001b[39m\u001b[38;5;241m.\u001b[39matoms\u001b[38;5;241m.\u001b[39mget_stress(\u001b[38;5;241m*\u001b[39m\u001b[38;5;241m*\u001b[39mkwargs)\n",
      "File \u001b[0;32m/net/csefiles/coc-fung-cluster/nima/miniforge3/envs/jmp-peft/lib/python3.11/site-packages/ase/filters.py:455\u001b[0m, in \u001b[0;36mUnitCellFilter.get_forces\u001b[0;34m(self, **kwargs)\u001b[0m\n\u001b[1;32m    445\u001b[0m \u001b[38;5;28;01mdef\u001b[39;00m \u001b[38;5;21mget_forces\u001b[39m(\u001b[38;5;28mself\u001b[39m, \u001b[38;5;241m*\u001b[39m\u001b[38;5;241m*\u001b[39mkwargs):\n\u001b[1;32m    446\u001b[0m \u001b[38;5;250m    \u001b[39m\u001b[38;5;124;03m\"\"\"\u001b[39;00m\n\u001b[1;32m    447\u001b[0m \u001b[38;5;124;03m    returns an array with shape (natoms+3,3) of the atomic forces\u001b[39;00m\n\u001b[1;32m    448\u001b[0m \u001b[38;5;124;03m    and unit cell stresses.\u001b[39;00m\n\u001b[0;32m   (...)\u001b[0m\n\u001b[1;32m    452\u001b[0m \u001b[38;5;124;03m    computed from the stress tensor.\u001b[39;00m\n\u001b[1;32m    453\u001b[0m \u001b[38;5;124;03m    \"\"\"\u001b[39;00m\n\u001b[0;32m--> 455\u001b[0m     stress \u001b[38;5;241m=\u001b[39m \u001b[38;5;28;43mself\u001b[39;49m\u001b[38;5;241;43m.\u001b[39;49m\u001b[43matoms\u001b[49m\u001b[38;5;241;43m.\u001b[39;49m\u001b[43mget_stress\u001b[49m\u001b[43m(\u001b[49m\u001b[38;5;241;43m*\u001b[39;49m\u001b[38;5;241;43m*\u001b[39;49m\u001b[43mkwargs\u001b[49m\u001b[43m)\u001b[49m\n\u001b[1;32m    456\u001b[0m     atoms_forces \u001b[38;5;241m=\u001b[39m \u001b[38;5;28mself\u001b[39m\u001b[38;5;241m.\u001b[39matoms\u001b[38;5;241m.\u001b[39mget_forces(\u001b[38;5;241m*\u001b[39m\u001b[38;5;241m*\u001b[39mkwargs)\n\u001b[1;32m    458\u001b[0m     volume \u001b[38;5;241m=\u001b[39m \u001b[38;5;28mself\u001b[39m\u001b[38;5;241m.\u001b[39matoms\u001b[38;5;241m.\u001b[39mget_volume()\n",
      "File \u001b[0;32m/net/csefiles/coc-fung-cluster/nima/miniforge3/envs/jmp-peft/lib/python3.11/site-packages/ase/atoms.py:844\u001b[0m, in \u001b[0;36mAtoms.get_stress\u001b[0;34m(self, voigt, apply_constraint, include_ideal_gas)\u001b[0m\n\u001b[1;32m    841\u001b[0m \u001b[38;5;28;01mif\u001b[39;00m \u001b[38;5;28mself\u001b[39m\u001b[38;5;241m.\u001b[39m_calc \u001b[38;5;129;01mis\u001b[39;00m \u001b[38;5;28;01mNone\u001b[39;00m:\n\u001b[1;32m    842\u001b[0m     \u001b[38;5;28;01mraise\u001b[39;00m \u001b[38;5;167;01mRuntimeError\u001b[39;00m(\u001b[38;5;124m'\u001b[39m\u001b[38;5;124mAtoms object has no calculator.\u001b[39m\u001b[38;5;124m'\u001b[39m)\n\u001b[0;32m--> 844\u001b[0m stress \u001b[38;5;241m=\u001b[39m \u001b[38;5;28;43mself\u001b[39;49m\u001b[38;5;241;43m.\u001b[39;49m\u001b[43m_calc\u001b[49m\u001b[38;5;241;43m.\u001b[39;49m\u001b[43mget_stress\u001b[49m\u001b[43m(\u001b[49m\u001b[38;5;28;43mself\u001b[39;49m\u001b[43m)\u001b[49m\n\u001b[1;32m    845\u001b[0m shape \u001b[38;5;241m=\u001b[39m stress\u001b[38;5;241m.\u001b[39mshape\n\u001b[1;32m    847\u001b[0m \u001b[38;5;28;01mif\u001b[39;00m shape \u001b[38;5;241m==\u001b[39m (\u001b[38;5;241m3\u001b[39m, \u001b[38;5;241m3\u001b[39m):\n\u001b[1;32m    848\u001b[0m     \u001b[38;5;66;03m# Convert to the Voigt form before possibly applying\u001b[39;00m\n\u001b[1;32m    849\u001b[0m     \u001b[38;5;66;03m# constraints and adding the dynamic part of the stress\u001b[39;00m\n\u001b[1;32m    850\u001b[0m     \u001b[38;5;66;03m# (the \"ideal gas contribution\").\u001b[39;00m\n",
      "File \u001b[0;32m/net/csefiles/coc-fung-cluster/nima/miniforge3/envs/jmp-peft/lib/python3.11/site-packages/ase/calculators/abc.py:33\u001b[0m, in \u001b[0;36mGetPropertiesMixin.get_stress\u001b[0;34m(self, atoms)\u001b[0m\n\u001b[1;32m     32\u001b[0m \u001b[38;5;28;01mdef\u001b[39;00m \u001b[38;5;21mget_stress\u001b[39m(\u001b[38;5;28mself\u001b[39m, atoms\u001b[38;5;241m=\u001b[39m\u001b[38;5;28;01mNone\u001b[39;00m):\n\u001b[0;32m---> 33\u001b[0m     \u001b[38;5;28;01mreturn\u001b[39;00m \u001b[38;5;28;43mself\u001b[39;49m\u001b[38;5;241;43m.\u001b[39;49m\u001b[43mget_property\u001b[49m\u001b[43m(\u001b[49m\u001b[38;5;124;43m'\u001b[39;49m\u001b[38;5;124;43mstress\u001b[39;49m\u001b[38;5;124;43m'\u001b[39;49m\u001b[43m,\u001b[49m\u001b[43m \u001b[49m\u001b[43matoms\u001b[49m\u001b[43m)\u001b[49m\n",
      "File \u001b[0;32m/net/csefiles/coc-fung-cluster/nima/miniforge3/envs/jmp-peft/lib/python3.11/site-packages/ase/calculators/calculator.py:538\u001b[0m, in \u001b[0;36mBaseCalculator.get_property\u001b[0;34m(self, name, atoms, allow_calculation)\u001b[0m\n\u001b[1;32m    535\u001b[0m     \u001b[38;5;28;01mif\u001b[39;00m \u001b[38;5;28mself\u001b[39m\u001b[38;5;241m.\u001b[39muse_cache:\n\u001b[1;32m    536\u001b[0m         \u001b[38;5;28mself\u001b[39m\u001b[38;5;241m.\u001b[39matoms \u001b[38;5;241m=\u001b[39m atoms\u001b[38;5;241m.\u001b[39mcopy()\n\u001b[0;32m--> 538\u001b[0m     \u001b[38;5;28;43mself\u001b[39;49m\u001b[38;5;241;43m.\u001b[39;49m\u001b[43mcalculate\u001b[49m\u001b[43m(\u001b[49m\u001b[43matoms\u001b[49m\u001b[43m,\u001b[49m\u001b[43m \u001b[49m\u001b[43m[\u001b[49m\u001b[43mname\u001b[49m\u001b[43m]\u001b[49m\u001b[43m,\u001b[49m\u001b[43m \u001b[49m\u001b[43msystem_changes\u001b[49m\u001b[43m)\u001b[49m\n\u001b[1;32m    540\u001b[0m \u001b[38;5;28;01mif\u001b[39;00m name \u001b[38;5;129;01mnot\u001b[39;00m \u001b[38;5;129;01min\u001b[39;00m \u001b[38;5;28mself\u001b[39m\u001b[38;5;241m.\u001b[39mresults:\n\u001b[1;32m    541\u001b[0m     \u001b[38;5;66;03m# For some reason the calculator was not able to do what we want,\u001b[39;00m\n\u001b[1;32m    542\u001b[0m     \u001b[38;5;66;03m# and that is OK.\u001b[39;00m\n\u001b[1;32m    543\u001b[0m     \u001b[38;5;28;01mraise\u001b[39;00m PropertyNotImplementedError(\n\u001b[1;32m    544\u001b[0m         \u001b[38;5;124m'\u001b[39m\u001b[38;5;132;01m{}\u001b[39;00m\u001b[38;5;124m not present in this \u001b[39m\u001b[38;5;124m'\u001b[39m \u001b[38;5;124m'\u001b[39m\u001b[38;5;124mcalculation\u001b[39m\u001b[38;5;124m'\u001b[39m\u001b[38;5;241m.\u001b[39mformat(name)\n\u001b[1;32m    545\u001b[0m     )\n",
      "    \u001b[0;31m[... skipping hidden 1 frame]\u001b[0m\n",
      "File \u001b[0;32m/net/csefiles/coc-fung-cluster/nima/miniforge3/envs/jmp-peft/lib/python3.11/site-packages/jaxtyping/_decorator.py:449\u001b[0m, in \u001b[0;36mjaxtyped.<locals>.wrapped_fn_impl\u001b[0;34m(args, kwargs, bound, memos)\u001b[0m\n\u001b[1;32m    446\u001b[0m             \u001b[38;5;28;01mraise\u001b[39;00m TypeCheckError(msg) \u001b[38;5;28;01mfrom\u001b[39;00m \u001b[38;5;21;01me\u001b[39;00m\n\u001b[1;32m    448\u001b[0m \u001b[38;5;66;03m# Actually call the function.\u001b[39;00m\n\u001b[0;32m--> 449\u001b[0m out \u001b[38;5;241m=\u001b[39m \u001b[43mfn\u001b[49m\u001b[43m(\u001b[49m\u001b[38;5;241;43m*\u001b[39;49m\u001b[43margs\u001b[49m\u001b[43m,\u001b[49m\u001b[43m \u001b[49m\u001b[38;5;241;43m*\u001b[39;49m\u001b[38;5;241;43m*\u001b[39;49m\u001b[43mkwargs\u001b[49m\u001b[43m)\u001b[49m\n\u001b[1;32m    451\u001b[0m \u001b[38;5;28;01mif\u001b[39;00m full_signature\u001b[38;5;241m.\u001b[39mreturn_annotation \u001b[38;5;129;01mis\u001b[39;00m \u001b[38;5;129;01mnot\u001b[39;00m inspect\u001b[38;5;241m.\u001b[39mSignature\u001b[38;5;241m.\u001b[39mempty:\n\u001b[1;32m    452\u001b[0m     \u001b[38;5;66;03m# Now type-check the return value. We need to include the\u001b[39;00m\n\u001b[1;32m    453\u001b[0m     \u001b[38;5;66;03m# parameters in the type-checking here in case there are any\u001b[39;00m\n\u001b[0;32m   (...)\u001b[0m\n\u001b[1;32m    464\u001b[0m     \u001b[38;5;66;03m# checking of the parameters. Unfortunately there doesn't seem\u001b[39;00m\n\u001b[1;32m    465\u001b[0m     \u001b[38;5;66;03m# to be a way around that, so c'est la vie.\u001b[39;00m\n\u001b[1;32m    466\u001b[0m     kwargs[output_name] \u001b[38;5;241m=\u001b[39m out\n",
      "File \u001b[0;32m/net/csefiles/coc-fung-cluster/nima/shared/repositories/jmp-peft/src/jmppeft/modules/relaxer/_relaxer.py:118\u001b[0m, in \u001b[0;36mCalculator.calculate\u001b[0;34m(self, atoms, properties, system_changes)\u001b[0m\n\u001b[1;32m    113\u001b[0m \u001b[38;5;28msuper\u001b[39m()\u001b[38;5;241m.\u001b[39mcalculate(\n\u001b[1;32m    114\u001b[0m     atoms\u001b[38;5;241m=\u001b[39matoms, properties\u001b[38;5;241m=\u001b[39mproperties, system_changes\u001b[38;5;241m=\u001b[39msystem_changes\n\u001b[1;32m    115\u001b[0m )\n\u001b[1;32m    117\u001b[0m graph \u001b[38;5;241m=\u001b[39m \u001b[38;5;28mself\u001b[39m\u001b[38;5;241m.\u001b[39mgraph_converter(atoms)\n\u001b[0;32m--> 118\u001b[0m results \u001b[38;5;241m=\u001b[39m \u001b[38;5;28;43mself\u001b[39;49m\u001b[38;5;241;43m.\u001b[39;49m\u001b[43mpotential\u001b[49m\u001b[43m(\u001b[49m\u001b[43mgraph\u001b[49m\u001b[43m)\u001b[49m\n\u001b[1;32m    119\u001b[0m \u001b[38;5;28mself\u001b[39m\u001b[38;5;241m.\u001b[39mresults\u001b[38;5;241m.\u001b[39mupdate(\n\u001b[1;32m    120\u001b[0m     energy\u001b[38;5;241m=\u001b[39mresults[\u001b[38;5;124m\"\u001b[39m\u001b[38;5;124menergy\u001b[39m\u001b[38;5;124m\"\u001b[39m]\u001b[38;5;241m.\u001b[39mnumpy()\u001b[38;5;241m.\u001b[39mravel()[\u001b[38;5;241m0\u001b[39m],\n\u001b[1;32m    121\u001b[0m     free_energy\u001b[38;5;241m=\u001b[39mresults[\u001b[38;5;124m\"\u001b[39m\u001b[38;5;124menergy\u001b[39m\u001b[38;5;124m\"\u001b[39m]\u001b[38;5;241m.\u001b[39mnumpy()\u001b[38;5;241m.\u001b[39mravel()[\u001b[38;5;241m0\u001b[39m],\n\u001b[1;32m    122\u001b[0m     forces\u001b[38;5;241m=\u001b[39mresults[\u001b[38;5;124m\"\u001b[39m\u001b[38;5;124mforces\u001b[39m\u001b[38;5;124m\"\u001b[39m]\u001b[38;5;241m.\u001b[39mnumpy(),\n\u001b[1;32m    123\u001b[0m )\n\u001b[1;32m    124\u001b[0m \u001b[38;5;66;03m# if (relaxed_energy := results.get(\"relaxed_energy\")) is not None:\u001b[39;00m\n\u001b[1;32m    125\u001b[0m \u001b[38;5;66;03m#     self.results.update(relaxed_energy=relaxed_energy.numpy().ravel()[0])\u001b[39;00m\n",
      "    \u001b[0;31m[... skipping hidden 1 frame]\u001b[0m\n",
      "File \u001b[0;32m/net/csefiles/coc-fung-cluster/nima/miniforge3/envs/jmp-peft/lib/python3.11/site-packages/jaxtyping/_decorator.py:449\u001b[0m, in \u001b[0;36mjaxtyped.<locals>.wrapped_fn_impl\u001b[0;34m(args, kwargs, bound, memos)\u001b[0m\n\u001b[1;32m    446\u001b[0m             \u001b[38;5;28;01mraise\u001b[39;00m TypeCheckError(msg) \u001b[38;5;28;01mfrom\u001b[39;00m \u001b[38;5;21;01me\u001b[39;00m\n\u001b[1;32m    448\u001b[0m \u001b[38;5;66;03m# Actually call the function.\u001b[39;00m\n\u001b[0;32m--> 449\u001b[0m out \u001b[38;5;241m=\u001b[39m \u001b[43mfn\u001b[49m\u001b[43m(\u001b[49m\u001b[38;5;241;43m*\u001b[39;49m\u001b[43margs\u001b[49m\u001b[43m,\u001b[49m\u001b[43m \u001b[49m\u001b[38;5;241;43m*\u001b[39;49m\u001b[38;5;241;43m*\u001b[39;49m\u001b[43mkwargs\u001b[49m\u001b[43m)\u001b[49m\n\u001b[1;32m    451\u001b[0m \u001b[38;5;28;01mif\u001b[39;00m full_signature\u001b[38;5;241m.\u001b[39mreturn_annotation \u001b[38;5;129;01mis\u001b[39;00m \u001b[38;5;129;01mnot\u001b[39;00m inspect\u001b[38;5;241m.\u001b[39mSignature\u001b[38;5;241m.\u001b[39mempty:\n\u001b[1;32m    452\u001b[0m     \u001b[38;5;66;03m# Now type-check the return value. We need to include the\u001b[39;00m\n\u001b[1;32m    453\u001b[0m     \u001b[38;5;66;03m# parameters in the type-checking here in case there are any\u001b[39;00m\n\u001b[0;32m   (...)\u001b[0m\n\u001b[1;32m    464\u001b[0m     \u001b[38;5;66;03m# checking of the parameters. Unfortunately there doesn't seem\u001b[39;00m\n\u001b[1;32m    465\u001b[0m     \u001b[38;5;66;03m# to be a way around that, so c'est la vie.\u001b[39;00m\n\u001b[1;32m    466\u001b[0m     kwargs[output_name] \u001b[38;5;241m=\u001b[39m out\n",
      "File \u001b[0;32m/net/csefiles/coc-fung-cluster/nima/shared/repositories/jmp-peft/src/jmppeft/modules/relaxer/_mixin.py:238\u001b[0m, in \u001b[0;36m_potential\u001b[0;34m(self, graph, initial_graph)\u001b[0m\n\u001b[1;32m    235\u001b[0m \u001b[38;5;66;03m# Compute the energy and forces\u001b[39;00m\n\u001b[1;32m    236\u001b[0m \u001b[38;5;66;03m# If self.model takes 2 arguments, pass the initial graph as well\u001b[39;00m\n\u001b[1;32m    237\u001b[0m model_out \u001b[38;5;241m=\u001b[39m \u001b[38;5;28mself\u001b[39m\u001b[38;5;241m.\u001b[39mmodel(graph, initial_graph)\n\u001b[0;32m--> 238\u001b[0m energy \u001b[38;5;241m=\u001b[39m model_out[\u001b[38;5;124m\"\u001b[39m\u001b[38;5;124menergy\u001b[39m\u001b[38;5;124m\"\u001b[39m]\n\u001b[1;32m    239\u001b[0m forces \u001b[38;5;241m=\u001b[39m model_out[\u001b[38;5;124m\"\u001b[39m\u001b[38;5;124mforces\u001b[39m\u001b[38;5;124m\"\u001b[39m]\n\u001b[1;32m    241\u001b[0m d: \u001b[38;5;28mdict\u001b[39m[\u001b[38;5;28mstr\u001b[39m, torch\u001b[38;5;241m.\u001b[39mTensor] \u001b[38;5;241m=\u001b[39m {}\n",
      "Cell \u001b[0;32mIn[15], line 12\u001b[0m, in \u001b[0;36mmodel_fn\u001b[0;34m(data, initial_data, use_y_relaxed)\u001b[0m\n\u001b[1;32m     11\u001b[0m \u001b[38;5;28;01mdef\u001b[39;00m \u001b[38;5;21mmodel_fn\u001b[39m(data, initial_data, \u001b[38;5;241m*\u001b[39m, use_y_relaxed: \u001b[38;5;28mbool\u001b[39m \u001b[38;5;241m=\u001b[39m USE_Y_RELAXED) \u001b[38;5;241m-\u001b[39m\u001b[38;5;241m>\u001b[39m ModelOutput:\n\u001b[0;32m---> 12\u001b[0m     model_out \u001b[38;5;241m=\u001b[39m \u001b[43mmodel\u001b[49m\u001b[38;5;241;43m.\u001b[39;49m\u001b[43mforward_denormalized\u001b[49m\u001b[43m(\u001b[49m\u001b[43mdata\u001b[49m\u001b[43m)\u001b[49m\n\u001b[1;32m     14\u001b[0m     energy \u001b[38;5;241m=\u001b[39m model_out[\u001b[38;5;124m\"\u001b[39m\u001b[38;5;124my_relaxed\u001b[39m\u001b[38;5;124m\"\u001b[39m] \u001b[38;5;28;01mif\u001b[39;00m use_y_relaxed \u001b[38;5;28;01melse\u001b[39;00m model_out[\u001b[38;5;124m\"\u001b[39m\u001b[38;5;124my\u001b[39m\u001b[38;5;124m\"\u001b[39m]\n\u001b[1;32m     15\u001b[0m     \u001b[38;5;66;03m# energy = model_out[\"y\"]\u001b[39;00m\n\u001b[1;32m     16\u001b[0m     \u001b[38;5;66;03m# relaxed_energy = model_out[\"y_relaxed\"]\u001b[39;00m\n",
      "    \u001b[0;31m[... skipping hidden 1 frame]\u001b[0m\n",
      "File \u001b[0;32m/net/csefiles/coc-fung-cluster/nima/miniforge3/envs/jmp-peft/lib/python3.11/site-packages/jaxtyping/_decorator.py:449\u001b[0m, in \u001b[0;36mjaxtyped.<locals>.wrapped_fn_impl\u001b[0;34m(args, kwargs, bound, memos)\u001b[0m\n\u001b[1;32m    446\u001b[0m             \u001b[38;5;28;01mraise\u001b[39;00m TypeCheckError(msg) \u001b[38;5;28;01mfrom\u001b[39;00m \u001b[38;5;21;01me\u001b[39;00m\n\u001b[1;32m    448\u001b[0m \u001b[38;5;66;03m# Actually call the function.\u001b[39;00m\n\u001b[0;32m--> 449\u001b[0m out \u001b[38;5;241m=\u001b[39m \u001b[43mfn\u001b[49m\u001b[43m(\u001b[49m\u001b[38;5;241;43m*\u001b[39;49m\u001b[43margs\u001b[49m\u001b[43m,\u001b[49m\u001b[43m \u001b[49m\u001b[38;5;241;43m*\u001b[39;49m\u001b[38;5;241;43m*\u001b[39;49m\u001b[43mkwargs\u001b[49m\u001b[43m)\u001b[49m\n\u001b[1;32m    451\u001b[0m \u001b[38;5;28;01mif\u001b[39;00m full_signature\u001b[38;5;241m.\u001b[39mreturn_annotation \u001b[38;5;129;01mis\u001b[39;00m \u001b[38;5;129;01mnot\u001b[39;00m inspect\u001b[38;5;241m.\u001b[39mSignature\u001b[38;5;241m.\u001b[39mempty:\n\u001b[1;32m    452\u001b[0m     \u001b[38;5;66;03m# Now type-check the return value. We need to include the\u001b[39;00m\n\u001b[1;32m    453\u001b[0m     \u001b[38;5;66;03m# parameters in the type-checking here in case there are any\u001b[39;00m\n\u001b[0;32m   (...)\u001b[0m\n\u001b[1;32m    464\u001b[0m     \u001b[38;5;66;03m# checking of the parameters. Unfortunately there doesn't seem\u001b[39;00m\n\u001b[1;32m    465\u001b[0m     \u001b[38;5;66;03m# to be a way around that, so c'est la vie.\u001b[39;00m\n\u001b[1;32m    466\u001b[0m     kwargs[output_name] \u001b[38;5;241m=\u001b[39m out\n",
      "File \u001b[0;32m/net/csefiles/coc-fung-cluster/nima/shared/repositories/jmp-peft/src/jmppeft/tasks/finetune/base.py:1132\u001b[0m, in \u001b[0;36mFinetuneModelBase.forward_denormalized\u001b[0;34m(self, data, detach)\u001b[0m\n\u001b[1;32m   1131\u001b[0m \u001b[38;5;28;01mdef\u001b[39;00m \u001b[38;5;21mforward_denormalized\u001b[39m(\u001b[38;5;28mself\u001b[39m, data: BaseData, detach: \u001b[38;5;28mbool\u001b[39m \u001b[38;5;241m=\u001b[39m \u001b[38;5;28;01mTrue\u001b[39;00m):\n\u001b[0;32m-> 1132\u001b[0m     preds \u001b[38;5;241m=\u001b[39m \u001b[38;5;28;43mself\u001b[39;49m\u001b[43m(\u001b[49m\u001b[43mdata\u001b[49m\u001b[43m)\u001b[49m\n\u001b[1;32m   1133\u001b[0m     \u001b[38;5;28;01mif\u001b[39;00m detach:\n\u001b[1;32m   1134\u001b[0m         preds \u001b[38;5;241m=\u001b[39m {\n\u001b[1;32m   1135\u001b[0m             k: v\u001b[38;5;241m.\u001b[39mdetach() \u001b[38;5;28;01mif\u001b[39;00m torch\u001b[38;5;241m.\u001b[39mis_tensor(v) \u001b[38;5;28;01melse\u001b[39;00m v \u001b[38;5;28;01mfor\u001b[39;00m k, v \u001b[38;5;129;01min\u001b[39;00m preds\u001b[38;5;241m.\u001b[39mitems()\n\u001b[1;32m   1136\u001b[0m         }\n",
      "File \u001b[0;32m/net/csefiles/coc-fung-cluster/nima/miniforge3/envs/jmp-peft/lib/python3.11/site-packages/torch/nn/modules/module.py:1511\u001b[0m, in \u001b[0;36mModule._wrapped_call_impl\u001b[0;34m(self, *args, **kwargs)\u001b[0m\n\u001b[1;32m   1509\u001b[0m     \u001b[38;5;28;01mreturn\u001b[39;00m \u001b[38;5;28mself\u001b[39m\u001b[38;5;241m.\u001b[39m_compiled_call_impl(\u001b[38;5;241m*\u001b[39margs, \u001b[38;5;241m*\u001b[39m\u001b[38;5;241m*\u001b[39mkwargs)  \u001b[38;5;66;03m# type: ignore[misc]\u001b[39;00m\n\u001b[1;32m   1510\u001b[0m \u001b[38;5;28;01melse\u001b[39;00m:\n\u001b[0;32m-> 1511\u001b[0m     \u001b[38;5;28;01mreturn\u001b[39;00m \u001b[38;5;28;43mself\u001b[39;49m\u001b[38;5;241;43m.\u001b[39;49m\u001b[43m_call_impl\u001b[49m\u001b[43m(\u001b[49m\u001b[38;5;241;43m*\u001b[39;49m\u001b[43margs\u001b[49m\u001b[43m,\u001b[49m\u001b[43m \u001b[49m\u001b[38;5;241;43m*\u001b[39;49m\u001b[38;5;241;43m*\u001b[39;49m\u001b[43mkwargs\u001b[49m\u001b[43m)\u001b[49m\n",
      "File \u001b[0;32m/net/csefiles/coc-fung-cluster/nima/miniforge3/envs/jmp-peft/lib/python3.11/site-packages/torch/nn/modules/module.py:1520\u001b[0m, in \u001b[0;36mModule._call_impl\u001b[0;34m(self, *args, **kwargs)\u001b[0m\n\u001b[1;32m   1515\u001b[0m \u001b[38;5;66;03m# If we don't have any hooks, we want to skip the rest of the logic in\u001b[39;00m\n\u001b[1;32m   1516\u001b[0m \u001b[38;5;66;03m# this function, and just call forward.\u001b[39;00m\n\u001b[1;32m   1517\u001b[0m \u001b[38;5;28;01mif\u001b[39;00m \u001b[38;5;129;01mnot\u001b[39;00m (\u001b[38;5;28mself\u001b[39m\u001b[38;5;241m.\u001b[39m_backward_hooks \u001b[38;5;129;01mor\u001b[39;00m \u001b[38;5;28mself\u001b[39m\u001b[38;5;241m.\u001b[39m_backward_pre_hooks \u001b[38;5;129;01mor\u001b[39;00m \u001b[38;5;28mself\u001b[39m\u001b[38;5;241m.\u001b[39m_forward_hooks \u001b[38;5;129;01mor\u001b[39;00m \u001b[38;5;28mself\u001b[39m\u001b[38;5;241m.\u001b[39m_forward_pre_hooks\n\u001b[1;32m   1518\u001b[0m         \u001b[38;5;129;01mor\u001b[39;00m _global_backward_pre_hooks \u001b[38;5;129;01mor\u001b[39;00m _global_backward_hooks\n\u001b[1;32m   1519\u001b[0m         \u001b[38;5;129;01mor\u001b[39;00m _global_forward_hooks \u001b[38;5;129;01mor\u001b[39;00m _global_forward_pre_hooks):\n\u001b[0;32m-> 1520\u001b[0m     \u001b[38;5;28;01mreturn\u001b[39;00m \u001b[43mforward_call\u001b[49m\u001b[43m(\u001b[49m\u001b[38;5;241;43m*\u001b[39;49m\u001b[43margs\u001b[49m\u001b[43m,\u001b[49m\u001b[43m \u001b[49m\u001b[38;5;241;43m*\u001b[39;49m\u001b[38;5;241;43m*\u001b[39;49m\u001b[43mkwargs\u001b[49m\u001b[43m)\u001b[49m\n\u001b[1;32m   1522\u001b[0m \u001b[38;5;28;01mtry\u001b[39;00m:\n\u001b[1;32m   1523\u001b[0m     result \u001b[38;5;241m=\u001b[39m \u001b[38;5;28;01mNone\u001b[39;00m\n",
      "    \u001b[0;31m[... skipping hidden 1 frame]\u001b[0m\n",
      "File \u001b[0;32m/net/csefiles/coc-fung-cluster/nima/miniforge3/envs/jmp-peft/lib/python3.11/site-packages/jaxtyping/_decorator.py:449\u001b[0m, in \u001b[0;36mjaxtyped.<locals>.wrapped_fn_impl\u001b[0;34m(args, kwargs, bound, memos)\u001b[0m\n\u001b[1;32m    446\u001b[0m             \u001b[38;5;28;01mraise\u001b[39;00m TypeCheckError(msg) \u001b[38;5;28;01mfrom\u001b[39;00m \u001b[38;5;21;01me\u001b[39;00m\n\u001b[1;32m    448\u001b[0m \u001b[38;5;66;03m# Actually call the function.\u001b[39;00m\n\u001b[0;32m--> 449\u001b[0m out \u001b[38;5;241m=\u001b[39m \u001b[43mfn\u001b[49m\u001b[43m(\u001b[49m\u001b[38;5;241;43m*\u001b[39;49m\u001b[43margs\u001b[49m\u001b[43m,\u001b[49m\u001b[43m \u001b[49m\u001b[38;5;241;43m*\u001b[39;49m\u001b[38;5;241;43m*\u001b[39;49m\u001b[43mkwargs\u001b[49m\u001b[43m)\u001b[49m\n\u001b[1;32m    451\u001b[0m \u001b[38;5;28;01mif\u001b[39;00m full_signature\u001b[38;5;241m.\u001b[39mreturn_annotation \u001b[38;5;129;01mis\u001b[39;00m \u001b[38;5;129;01mnot\u001b[39;00m inspect\u001b[38;5;241m.\u001b[39mSignature\u001b[38;5;241m.\u001b[39mempty:\n\u001b[1;32m    452\u001b[0m     \u001b[38;5;66;03m# Now type-check the return value. We need to include the\u001b[39;00m\n\u001b[1;32m    453\u001b[0m     \u001b[38;5;66;03m# parameters in the type-checking here in case there are any\u001b[39;00m\n\u001b[0;32m   (...)\u001b[0m\n\u001b[1;32m    464\u001b[0m     \u001b[38;5;66;03m# checking of the parameters. Unfortunately there doesn't seem\u001b[39;00m\n\u001b[1;32m    465\u001b[0m     \u001b[38;5;66;03m# to be a way around that, so c'est la vie.\u001b[39;00m\n\u001b[1;32m    466\u001b[0m     kwargs[output_name] \u001b[38;5;241m=\u001b[39m out\n",
      "File \u001b[0;32m/net/csefiles/coc-fung-cluster/nima/shared/repositories/jmp-peft/src/jmppeft/tasks/finetune/energy_forces_base.py:236\u001b[0m, in \u001b[0;36mEnergyForcesModelBase.forward\u001b[0;34m(self, data)\u001b[0m\n\u001b[1;32m    234\u001b[0m atomic_numbers \u001b[38;5;241m=\u001b[39m data\u001b[38;5;241m.\u001b[39matomic_numbers \u001b[38;5;241m-\u001b[39m \u001b[38;5;241m1\u001b[39m\n\u001b[1;32m    235\u001b[0m h \u001b[38;5;241m=\u001b[39m \u001b[38;5;28mself\u001b[39m\u001b[38;5;241m.\u001b[39membedding(atomic_numbers)  \u001b[38;5;66;03m# (N, d_model)\u001b[39;00m\n\u001b[0;32m--> 236\u001b[0m out \u001b[38;5;241m=\u001b[39m cast(GOCBackboneOutput, \u001b[38;5;28;43mself\u001b[39;49m\u001b[38;5;241;43m.\u001b[39;49m\u001b[43mbackbone\u001b[49m\u001b[43m(\u001b[49m\u001b[43mdata\u001b[49m\u001b[43m,\u001b[49m\u001b[43m \u001b[49m\u001b[43mh\u001b[49m\u001b[38;5;241;43m=\u001b[39;49m\u001b[43mh\u001b[49m\u001b[43m)\u001b[49m)\n\u001b[1;32m    238\u001b[0m graph_preds: \u001b[38;5;28mdict\u001b[39m[\u001b[38;5;28mstr\u001b[39m, torch\u001b[38;5;241m.\u001b[39mTensor] \u001b[38;5;241m=\u001b[39m {}\n\u001b[1;32m    239\u001b[0m node_preds: \u001b[38;5;28mdict\u001b[39m[\u001b[38;5;28mstr\u001b[39m, torch\u001b[38;5;241m.\u001b[39mTensor] \u001b[38;5;241m=\u001b[39m {}\n",
      "File \u001b[0;32m/net/csefiles/coc-fung-cluster/nima/miniforge3/envs/jmp-peft/lib/python3.11/site-packages/torch/nn/modules/module.py:1511\u001b[0m, in \u001b[0;36mModule._wrapped_call_impl\u001b[0;34m(self, *args, **kwargs)\u001b[0m\n\u001b[1;32m   1509\u001b[0m     \u001b[38;5;28;01mreturn\u001b[39;00m \u001b[38;5;28mself\u001b[39m\u001b[38;5;241m.\u001b[39m_compiled_call_impl(\u001b[38;5;241m*\u001b[39margs, \u001b[38;5;241m*\u001b[39m\u001b[38;5;241m*\u001b[39mkwargs)  \u001b[38;5;66;03m# type: ignore[misc]\u001b[39;00m\n\u001b[1;32m   1510\u001b[0m \u001b[38;5;28;01melse\u001b[39;00m:\n\u001b[0;32m-> 1511\u001b[0m     \u001b[38;5;28;01mreturn\u001b[39;00m \u001b[38;5;28;43mself\u001b[39;49m\u001b[38;5;241;43m.\u001b[39;49m\u001b[43m_call_impl\u001b[49m\u001b[43m(\u001b[49m\u001b[38;5;241;43m*\u001b[39;49m\u001b[43margs\u001b[49m\u001b[43m,\u001b[49m\u001b[43m \u001b[49m\u001b[38;5;241;43m*\u001b[39;49m\u001b[38;5;241;43m*\u001b[39;49m\u001b[43mkwargs\u001b[49m\u001b[43m)\u001b[49m\n",
      "File \u001b[0;32m/net/csefiles/coc-fung-cluster/nima/miniforge3/envs/jmp-peft/lib/python3.11/site-packages/torch/nn/modules/module.py:1520\u001b[0m, in \u001b[0;36mModule._call_impl\u001b[0;34m(self, *args, **kwargs)\u001b[0m\n\u001b[1;32m   1515\u001b[0m \u001b[38;5;66;03m# If we don't have any hooks, we want to skip the rest of the logic in\u001b[39;00m\n\u001b[1;32m   1516\u001b[0m \u001b[38;5;66;03m# this function, and just call forward.\u001b[39;00m\n\u001b[1;32m   1517\u001b[0m \u001b[38;5;28;01mif\u001b[39;00m \u001b[38;5;129;01mnot\u001b[39;00m (\u001b[38;5;28mself\u001b[39m\u001b[38;5;241m.\u001b[39m_backward_hooks \u001b[38;5;129;01mor\u001b[39;00m \u001b[38;5;28mself\u001b[39m\u001b[38;5;241m.\u001b[39m_backward_pre_hooks \u001b[38;5;129;01mor\u001b[39;00m \u001b[38;5;28mself\u001b[39m\u001b[38;5;241m.\u001b[39m_forward_hooks \u001b[38;5;129;01mor\u001b[39;00m \u001b[38;5;28mself\u001b[39m\u001b[38;5;241m.\u001b[39m_forward_pre_hooks\n\u001b[1;32m   1518\u001b[0m         \u001b[38;5;129;01mor\u001b[39;00m _global_backward_pre_hooks \u001b[38;5;129;01mor\u001b[39;00m _global_backward_hooks\n\u001b[1;32m   1519\u001b[0m         \u001b[38;5;129;01mor\u001b[39;00m _global_forward_hooks \u001b[38;5;129;01mor\u001b[39;00m _global_forward_pre_hooks):\n\u001b[0;32m-> 1520\u001b[0m     \u001b[38;5;28;01mreturn\u001b[39;00m \u001b[43mforward_call\u001b[49m\u001b[43m(\u001b[49m\u001b[38;5;241;43m*\u001b[39;49m\u001b[43margs\u001b[49m\u001b[43m,\u001b[49m\u001b[43m \u001b[49m\u001b[38;5;241;43m*\u001b[39;49m\u001b[38;5;241;43m*\u001b[39;49m\u001b[43mkwargs\u001b[49m\u001b[43m)\u001b[49m\n\u001b[1;32m   1522\u001b[0m \u001b[38;5;28;01mtry\u001b[39;00m:\n\u001b[1;32m   1523\u001b[0m     result \u001b[38;5;241m=\u001b[39m \u001b[38;5;28;01mNone\u001b[39;00m\n",
      "    \u001b[0;31m[... skipping hidden 1 frame]\u001b[0m\n",
      "File \u001b[0;32m/net/csefiles/coc-fung-cluster/nima/miniforge3/envs/jmp-peft/lib/python3.11/site-packages/jaxtyping/_decorator.py:449\u001b[0m, in \u001b[0;36mjaxtyped.<locals>.wrapped_fn_impl\u001b[0;34m(args, kwargs, bound, memos)\u001b[0m\n\u001b[1;32m    446\u001b[0m             \u001b[38;5;28;01mraise\u001b[39;00m TypeCheckError(msg) \u001b[38;5;28;01mfrom\u001b[39;00m \u001b[38;5;21;01me\u001b[39;00m\n\u001b[1;32m    448\u001b[0m \u001b[38;5;66;03m# Actually call the function.\u001b[39;00m\n\u001b[0;32m--> 449\u001b[0m out \u001b[38;5;241m=\u001b[39m \u001b[43mfn\u001b[49m\u001b[43m(\u001b[49m\u001b[38;5;241;43m*\u001b[39;49m\u001b[43margs\u001b[49m\u001b[43m,\u001b[49m\u001b[43m \u001b[49m\u001b[38;5;241;43m*\u001b[39;49m\u001b[38;5;241;43m*\u001b[39;49m\u001b[43mkwargs\u001b[49m\u001b[43m)\u001b[49m\n\u001b[1;32m    451\u001b[0m \u001b[38;5;28;01mif\u001b[39;00m full_signature\u001b[38;5;241m.\u001b[39mreturn_annotation \u001b[38;5;129;01mis\u001b[39;00m \u001b[38;5;129;01mnot\u001b[39;00m inspect\u001b[38;5;241m.\u001b[39mSignature\u001b[38;5;241m.\u001b[39mempty:\n\u001b[1;32m    452\u001b[0m     \u001b[38;5;66;03m# Now type-check the return value. We need to include the\u001b[39;00m\n\u001b[1;32m    453\u001b[0m     \u001b[38;5;66;03m# parameters in the type-checking here in case there are any\u001b[39;00m\n\u001b[0;32m   (...)\u001b[0m\n\u001b[1;32m    464\u001b[0m     \u001b[38;5;66;03m# checking of the parameters. Unfortunately there doesn't seem\u001b[39;00m\n\u001b[1;32m    465\u001b[0m     \u001b[38;5;66;03m# to be a way around that, so c'est la vie.\u001b[39;00m\n\u001b[1;32m    466\u001b[0m     kwargs[output_name] \u001b[38;5;241m=\u001b[39m out\n",
      "File \u001b[0;32m/net/csefiles/coc-fung-cluster/nima/shared/repositories/jmp-peft/src/jmppeft/models/gemnet/backbone.py:897\u001b[0m, in \u001b[0;36mGemNetOCBackbone.forward\u001b[0;34m(self, data, h)\u001b[0m\n\u001b[1;32m    895\u001b[0m \u001b[38;5;28;01mif\u001b[39;00m \u001b[38;5;28mself\u001b[39m\u001b[38;5;241m.\u001b[39mgradient_checkpointing:\n\u001b[1;32m    896\u001b[0m     fn \u001b[38;5;241m=\u001b[39m checkpoint(fn, \u001b[38;5;28mself\u001b[39m\u001b[38;5;241m.\u001b[39mgradient_checkpointing)\n\u001b[0;32m--> 897\u001b[0m h, m, x_E, x_F \u001b[38;5;241m=\u001b[39m \u001b[43mfn\u001b[49m\u001b[43m(\u001b[49m\n\u001b[1;32m    898\u001b[0m \u001b[43m    \u001b[49m\u001b[43mdata\u001b[49m\u001b[43m,\u001b[49m\n\u001b[1;32m    899\u001b[0m \u001b[43m    \u001b[49m\u001b[43midx_t\u001b[49m\u001b[43m,\u001b[49m\n\u001b[1;32m    900\u001b[0m \u001b[43m    \u001b[49m\u001b[43mh\u001b[49m\u001b[43m,\u001b[49m\n\u001b[1;32m    901\u001b[0m \u001b[43m    \u001b[49m\u001b[43mm\u001b[49m\u001b[43m,\u001b[49m\n\u001b[1;32m    902\u001b[0m \u001b[43m    \u001b[49m\u001b[43mbases\u001b[49m\u001b[43m,\u001b[49m\n\u001b[1;32m    903\u001b[0m \u001b[43m    \u001b[49m\u001b[43mmain_graph\u001b[49m\u001b[43m,\u001b[49m\n\u001b[1;32m    904\u001b[0m \u001b[43m    \u001b[49m\u001b[43ma2a_graph\u001b[49m\u001b[43m,\u001b[49m\n\u001b[1;32m    905\u001b[0m \u001b[43m    \u001b[49m\u001b[43ma2ee2a_graph\u001b[49m\u001b[43m,\u001b[49m\n\u001b[1;32m    906\u001b[0m \u001b[43m    \u001b[49m\u001b[43mid_swap\u001b[49m\u001b[43m,\u001b[49m\n\u001b[1;32m    907\u001b[0m \u001b[43m    \u001b[49m\u001b[43mtrip_idx_e2e\u001b[49m\u001b[43m,\u001b[49m\n\u001b[1;32m    908\u001b[0m \u001b[43m    \u001b[49m\u001b[43mtrip_idx_a2e\u001b[49m\u001b[43m,\u001b[49m\n\u001b[1;32m    909\u001b[0m \u001b[43m    \u001b[49m\u001b[43mtrip_idx_e2a\u001b[49m\u001b[43m,\u001b[49m\n\u001b[1;32m    910\u001b[0m \u001b[43m    \u001b[49m\u001b[43mquad_idx\u001b[49m\u001b[43m,\u001b[49m\n\u001b[1;32m    911\u001b[0m \u001b[43m\u001b[49m\u001b[43m)\u001b[49m\n\u001b[1;32m    912\u001b[0m xs_E\u001b[38;5;241m.\u001b[39mappend(x_E)\n\u001b[1;32m    913\u001b[0m xs_F\u001b[38;5;241m.\u001b[39mappend(x_F)\n",
      "    \u001b[0;31m[... skipping hidden 1 frame]\u001b[0m\n",
      "File \u001b[0;32m/net/csefiles/coc-fung-cluster/nima/miniforge3/envs/jmp-peft/lib/python3.11/site-packages/jaxtyping/_decorator.py:449\u001b[0m, in \u001b[0;36mjaxtyped.<locals>.wrapped_fn_impl\u001b[0;34m(args, kwargs, bound, memos)\u001b[0m\n\u001b[1;32m    446\u001b[0m             \u001b[38;5;28;01mraise\u001b[39;00m TypeCheckError(msg) \u001b[38;5;28;01mfrom\u001b[39;00m \u001b[38;5;21;01me\u001b[39;00m\n\u001b[1;32m    448\u001b[0m \u001b[38;5;66;03m# Actually call the function.\u001b[39;00m\n\u001b[0;32m--> 449\u001b[0m out \u001b[38;5;241m=\u001b[39m \u001b[43mfn\u001b[49m\u001b[43m(\u001b[49m\u001b[38;5;241;43m*\u001b[39;49m\u001b[43margs\u001b[49m\u001b[43m,\u001b[49m\u001b[43m \u001b[49m\u001b[38;5;241;43m*\u001b[39;49m\u001b[38;5;241;43m*\u001b[39;49m\u001b[43mkwargs\u001b[49m\u001b[43m)\u001b[49m\n\u001b[1;32m    451\u001b[0m \u001b[38;5;28;01mif\u001b[39;00m full_signature\u001b[38;5;241m.\u001b[39mreturn_annotation \u001b[38;5;129;01mis\u001b[39;00m \u001b[38;5;129;01mnot\u001b[39;00m inspect\u001b[38;5;241m.\u001b[39mSignature\u001b[38;5;241m.\u001b[39mempty:\n\u001b[1;32m    452\u001b[0m     \u001b[38;5;66;03m# Now type-check the return value. We need to include the\u001b[39;00m\n\u001b[1;32m    453\u001b[0m     \u001b[38;5;66;03m# parameters in the type-checking here in case there are any\u001b[39;00m\n\u001b[0;32m   (...)\u001b[0m\n\u001b[1;32m    464\u001b[0m     \u001b[38;5;66;03m# checking of the parameters. Unfortunately there doesn't seem\u001b[39;00m\n\u001b[1;32m    465\u001b[0m     \u001b[38;5;66;03m# to be a way around that, so c'est la vie.\u001b[39;00m\n\u001b[1;32m    466\u001b[0m     kwargs[output_name] \u001b[38;5;241m=\u001b[39m out\n",
      "File \u001b[0;32m/net/csefiles/coc-fung-cluster/nima/shared/repositories/jmp-peft/src/jmppeft/models/gemnet/backbone.py:794\u001b[0m, in \u001b[0;36mGemNetOCBackbone.block\u001b[0;34m(self, i, data, idx_t, h, m, bases, main_graph, a2a_graph, a2ee2a_graph, id_swap, trip_idx_e2e, trip_idx_a2e, trip_idx_e2a, quad_idx)\u001b[0m\n\u001b[1;32m    791\u001b[0m     m \u001b[38;5;241m=\u001b[39m \u001b[38;5;28mself\u001b[39m\u001b[38;5;241m.\u001b[39mm_lns[i](m)\n\u001b[1;32m    793\u001b[0m \u001b[38;5;66;03m# Interaction block\u001b[39;00m\n\u001b[0;32m--> 794\u001b[0m h, m \u001b[38;5;241m=\u001b[39m \u001b[38;5;28;43mself\u001b[39;49m\u001b[38;5;241;43m.\u001b[39;49m\u001b[43mint_blocks\u001b[49m\u001b[43m[\u001b[49m\u001b[43mi\u001b[49m\u001b[43m]\u001b[49m\u001b[43m(\u001b[49m\n\u001b[1;32m    795\u001b[0m \u001b[43m    \u001b[49m\u001b[43mh\u001b[49m\u001b[38;5;241;43m=\u001b[39;49m\u001b[43mh\u001b[49m\u001b[43m,\u001b[49m\n\u001b[1;32m    796\u001b[0m \u001b[43m    \u001b[49m\u001b[43mm\u001b[49m\u001b[38;5;241;43m=\u001b[39;49m\u001b[43mm\u001b[49m\u001b[43m,\u001b[49m\n\u001b[1;32m    797\u001b[0m \u001b[43m    \u001b[49m\u001b[43mbases_qint\u001b[49m\u001b[38;5;241;43m=\u001b[39;49m\u001b[43mbases\u001b[49m\u001b[38;5;241;43m.\u001b[39;49m\u001b[43mqint\u001b[49m\u001b[43m,\u001b[49m\n\u001b[1;32m    798\u001b[0m \u001b[43m    \u001b[49m\u001b[43mbases_e2e\u001b[49m\u001b[38;5;241;43m=\u001b[39;49m\u001b[43mbases\u001b[49m\u001b[38;5;241;43m.\u001b[39;49m\u001b[43me2e\u001b[49m\u001b[43m,\u001b[49m\n\u001b[1;32m    799\u001b[0m \u001b[43m    \u001b[49m\u001b[43mbases_a2e\u001b[49m\u001b[38;5;241;43m=\u001b[39;49m\u001b[43mbases\u001b[49m\u001b[38;5;241;43m.\u001b[39;49m\u001b[43ma2e\u001b[49m\u001b[43m,\u001b[49m\n\u001b[1;32m    800\u001b[0m \u001b[43m    \u001b[49m\u001b[43mbases_e2a\u001b[49m\u001b[38;5;241;43m=\u001b[39;49m\u001b[43mbases\u001b[49m\u001b[38;5;241;43m.\u001b[39;49m\u001b[43me2a\u001b[49m\u001b[43m,\u001b[49m\n\u001b[1;32m    801\u001b[0m \u001b[43m    \u001b[49m\u001b[43mbasis_a2a_rad\u001b[49m\u001b[38;5;241;43m=\u001b[39;49m\u001b[43mbases\u001b[49m\u001b[38;5;241;43m.\u001b[39;49m\u001b[43ma2a_rad\u001b[49m\u001b[43m,\u001b[49m\n\u001b[1;32m    802\u001b[0m \u001b[43m    \u001b[49m\u001b[43mbasis_atom_update\u001b[49m\u001b[38;5;241;43m=\u001b[39;49m\u001b[43mbases\u001b[49m\u001b[38;5;241;43m.\u001b[39;49m\u001b[43matom_update\u001b[49m\u001b[43m,\u001b[49m\n\u001b[1;32m    803\u001b[0m \u001b[43m    \u001b[49m\u001b[43medge_index_main\u001b[49m\u001b[38;5;241;43m=\u001b[39;49m\u001b[43mmain_graph\u001b[49m\u001b[43m[\u001b[49m\u001b[38;5;124;43m\"\u001b[39;49m\u001b[38;5;124;43medge_index\u001b[39;49m\u001b[38;5;124;43m\"\u001b[39;49m\u001b[43m]\u001b[49m\u001b[43m,\u001b[49m\n\u001b[1;32m    804\u001b[0m \u001b[43m    \u001b[49m\u001b[43ma2ee2a_graph\u001b[49m\u001b[38;5;241;43m=\u001b[39;49m\u001b[43ma2ee2a_graph\u001b[49m\u001b[43m,\u001b[49m\n\u001b[1;32m    805\u001b[0m \u001b[43m    \u001b[49m\u001b[43ma2a_graph\u001b[49m\u001b[38;5;241;43m=\u001b[39;49m\u001b[43ma2a_graph\u001b[49m\u001b[43m,\u001b[49m\n\u001b[1;32m    806\u001b[0m \u001b[43m    \u001b[49m\u001b[43mid_swap\u001b[49m\u001b[38;5;241;43m=\u001b[39;49m\u001b[43mid_swap\u001b[49m\u001b[43m,\u001b[49m\n\u001b[1;32m    807\u001b[0m \u001b[43m    \u001b[49m\u001b[43mtrip_idx_e2e\u001b[49m\u001b[38;5;241;43m=\u001b[39;49m\u001b[43mtrip_idx_e2e\u001b[49m\u001b[43m,\u001b[49m\n\u001b[1;32m    808\u001b[0m \u001b[43m    \u001b[49m\u001b[43mtrip_idx_a2e\u001b[49m\u001b[38;5;241;43m=\u001b[39;49m\u001b[43mtrip_idx_a2e\u001b[49m\u001b[43m,\u001b[49m\n\u001b[1;32m    809\u001b[0m \u001b[43m    \u001b[49m\u001b[43mtrip_idx_e2a\u001b[49m\u001b[38;5;241;43m=\u001b[39;49m\u001b[43mtrip_idx_e2a\u001b[49m\u001b[43m,\u001b[49m\n\u001b[1;32m    810\u001b[0m \u001b[43m    \u001b[49m\u001b[43mquad_idx\u001b[49m\u001b[38;5;241;43m=\u001b[39;49m\u001b[43mquad_idx\u001b[49m\u001b[43m,\u001b[49m\n\u001b[1;32m    811\u001b[0m \u001b[43m\u001b[49m\u001b[43m)\u001b[49m  \u001b[38;5;66;03m# (nAtoms, emb_size_atom), (nEdges, emb_size_edge)\u001b[39;00m\n\u001b[1;32m    813\u001b[0m x_E, x_F \u001b[38;5;241m=\u001b[39m \u001b[38;5;28mself\u001b[39m\u001b[38;5;241m.\u001b[39mout_blocks[i \u001b[38;5;241m+\u001b[39m \u001b[38;5;241m1\u001b[39m](h, m, bases\u001b[38;5;241m.\u001b[39moutput, idx_t)\n\u001b[1;32m    814\u001b[0m x_E, x_F \u001b[38;5;241m=\u001b[39m \u001b[38;5;28mself\u001b[39m\u001b[38;5;241m.\u001b[39m_process_outblock_outputs(x_E, x_F)\n",
      "File \u001b[0;32m/net/csefiles/coc-fung-cluster/nima/miniforge3/envs/jmp-peft/lib/python3.11/site-packages/torch/nn/modules/module.py:1511\u001b[0m, in \u001b[0;36mModule._wrapped_call_impl\u001b[0;34m(self, *args, **kwargs)\u001b[0m\n\u001b[1;32m   1509\u001b[0m     \u001b[38;5;28;01mreturn\u001b[39;00m \u001b[38;5;28mself\u001b[39m\u001b[38;5;241m.\u001b[39m_compiled_call_impl(\u001b[38;5;241m*\u001b[39margs, \u001b[38;5;241m*\u001b[39m\u001b[38;5;241m*\u001b[39mkwargs)  \u001b[38;5;66;03m# type: ignore[misc]\u001b[39;00m\n\u001b[1;32m   1510\u001b[0m \u001b[38;5;28;01melse\u001b[39;00m:\n\u001b[0;32m-> 1511\u001b[0m     \u001b[38;5;28;01mreturn\u001b[39;00m \u001b[38;5;28;43mself\u001b[39;49m\u001b[38;5;241;43m.\u001b[39;49m\u001b[43m_call_impl\u001b[49m\u001b[43m(\u001b[49m\u001b[38;5;241;43m*\u001b[39;49m\u001b[43margs\u001b[49m\u001b[43m,\u001b[49m\u001b[43m \u001b[49m\u001b[38;5;241;43m*\u001b[39;49m\u001b[38;5;241;43m*\u001b[39;49m\u001b[43mkwargs\u001b[49m\u001b[43m)\u001b[49m\n",
      "File \u001b[0;32m/net/csefiles/coc-fung-cluster/nima/miniforge3/envs/jmp-peft/lib/python3.11/site-packages/torch/nn/modules/module.py:1520\u001b[0m, in \u001b[0;36mModule._call_impl\u001b[0;34m(self, *args, **kwargs)\u001b[0m\n\u001b[1;32m   1515\u001b[0m \u001b[38;5;66;03m# If we don't have any hooks, we want to skip the rest of the logic in\u001b[39;00m\n\u001b[1;32m   1516\u001b[0m \u001b[38;5;66;03m# this function, and just call forward.\u001b[39;00m\n\u001b[1;32m   1517\u001b[0m \u001b[38;5;28;01mif\u001b[39;00m \u001b[38;5;129;01mnot\u001b[39;00m (\u001b[38;5;28mself\u001b[39m\u001b[38;5;241m.\u001b[39m_backward_hooks \u001b[38;5;129;01mor\u001b[39;00m \u001b[38;5;28mself\u001b[39m\u001b[38;5;241m.\u001b[39m_backward_pre_hooks \u001b[38;5;129;01mor\u001b[39;00m \u001b[38;5;28mself\u001b[39m\u001b[38;5;241m.\u001b[39m_forward_hooks \u001b[38;5;129;01mor\u001b[39;00m \u001b[38;5;28mself\u001b[39m\u001b[38;5;241m.\u001b[39m_forward_pre_hooks\n\u001b[1;32m   1518\u001b[0m         \u001b[38;5;129;01mor\u001b[39;00m _global_backward_pre_hooks \u001b[38;5;129;01mor\u001b[39;00m _global_backward_hooks\n\u001b[1;32m   1519\u001b[0m         \u001b[38;5;129;01mor\u001b[39;00m _global_forward_hooks \u001b[38;5;129;01mor\u001b[39;00m _global_forward_pre_hooks):\n\u001b[0;32m-> 1520\u001b[0m     \u001b[38;5;28;01mreturn\u001b[39;00m \u001b[43mforward_call\u001b[49m\u001b[43m(\u001b[49m\u001b[38;5;241;43m*\u001b[39;49m\u001b[43margs\u001b[49m\u001b[43m,\u001b[49m\u001b[43m \u001b[49m\u001b[38;5;241;43m*\u001b[39;49m\u001b[38;5;241;43m*\u001b[39;49m\u001b[43mkwargs\u001b[49m\u001b[43m)\u001b[49m\n\u001b[1;32m   1522\u001b[0m \u001b[38;5;28;01mtry\u001b[39;00m:\n\u001b[1;32m   1523\u001b[0m     result \u001b[38;5;241m=\u001b[39m \u001b[38;5;28;01mNone\u001b[39;00m\n",
      "    \u001b[0;31m[... skipping hidden 1 frame]\u001b[0m\n",
      "File \u001b[0;32m/net/csefiles/coc-fung-cluster/nima/miniforge3/envs/jmp-peft/lib/python3.11/site-packages/jaxtyping/_decorator.py:449\u001b[0m, in \u001b[0;36mjaxtyped.<locals>.wrapped_fn_impl\u001b[0;34m(args, kwargs, bound, memos)\u001b[0m\n\u001b[1;32m    446\u001b[0m             \u001b[38;5;28;01mraise\u001b[39;00m TypeCheckError(msg) \u001b[38;5;28;01mfrom\u001b[39;00m \u001b[38;5;21;01me\u001b[39;00m\n\u001b[1;32m    448\u001b[0m \u001b[38;5;66;03m# Actually call the function.\u001b[39;00m\n\u001b[0;32m--> 449\u001b[0m out \u001b[38;5;241m=\u001b[39m \u001b[43mfn\u001b[49m\u001b[43m(\u001b[49m\u001b[38;5;241;43m*\u001b[39;49m\u001b[43margs\u001b[49m\u001b[43m,\u001b[49m\u001b[43m \u001b[49m\u001b[38;5;241;43m*\u001b[39;49m\u001b[38;5;241;43m*\u001b[39;49m\u001b[43mkwargs\u001b[49m\u001b[43m)\u001b[49m\n\u001b[1;32m    451\u001b[0m \u001b[38;5;28;01mif\u001b[39;00m full_signature\u001b[38;5;241m.\u001b[39mreturn_annotation \u001b[38;5;129;01mis\u001b[39;00m \u001b[38;5;129;01mnot\u001b[39;00m inspect\u001b[38;5;241m.\u001b[39mSignature\u001b[38;5;241m.\u001b[39mempty:\n\u001b[1;32m    452\u001b[0m     \u001b[38;5;66;03m# Now type-check the return value. We need to include the\u001b[39;00m\n\u001b[1;32m    453\u001b[0m     \u001b[38;5;66;03m# parameters in the type-checking here in case there are any\u001b[39;00m\n\u001b[0;32m   (...)\u001b[0m\n\u001b[1;32m    464\u001b[0m     \u001b[38;5;66;03m# checking of the parameters. Unfortunately there doesn't seem\u001b[39;00m\n\u001b[1;32m    465\u001b[0m     \u001b[38;5;66;03m# to be a way around that, so c'est la vie.\u001b[39;00m\n\u001b[1;32m    466\u001b[0m     kwargs[output_name] \u001b[38;5;241m=\u001b[39m out\n",
      "File \u001b[0;32m/net/csefiles/coc-fung-cluster/nima/shared/repositories/jmp-peft/src/jmppeft/models/gemnet/layers/interaction_block.py:331\u001b[0m, in \u001b[0;36mInteractionBlock.forward\u001b[0;34m(self, h, m, bases_qint, bases_e2e, bases_a2e, bases_e2a, basis_a2a_rad, basis_atom_update, edge_index_main, a2ee2a_graph, a2a_graph, id_swap, trip_idx_e2e, trip_idx_a2e, trip_idx_e2a, quad_idx)\u001b[0m\n\u001b[1;32m    321\u001b[0m     h_e2a \u001b[38;5;241m=\u001b[39m \u001b[38;5;28mself\u001b[39m\u001b[38;5;241m.\u001b[39medge_atom_interaction(\n\u001b[1;32m    322\u001b[0m         m,\n\u001b[1;32m    323\u001b[0m         bases_e2a,\n\u001b[0;32m   (...)\u001b[0m\n\u001b[1;32m    328\u001b[0m         agg2_out_size\u001b[38;5;241m=\u001b[39mnum_atoms,\n\u001b[1;32m    329\u001b[0m     )\n\u001b[1;32m    330\u001b[0m \u001b[38;5;28;01mif\u001b[39;00m \u001b[38;5;28mself\u001b[39m\u001b[38;5;241m.\u001b[39matom_interaction \u001b[38;5;129;01mis\u001b[39;00m \u001b[38;5;129;01mnot\u001b[39;00m \u001b[38;5;28;01mNone\u001b[39;00m:\n\u001b[0;32m--> 331\u001b[0m     h_a2a \u001b[38;5;241m=\u001b[39m \u001b[38;5;28;43mself\u001b[39;49m\u001b[38;5;241;43m.\u001b[39;49m\u001b[43matom_interaction\u001b[49m\u001b[43m(\u001b[49m\n\u001b[1;32m    332\u001b[0m \u001b[43m        \u001b[49m\u001b[43mh\u001b[49m\u001b[43m,\u001b[49m\n\u001b[1;32m    333\u001b[0m \u001b[43m        \u001b[49m\u001b[43mbasis_a2a_rad\u001b[49m\u001b[43m,\u001b[49m\n\u001b[1;32m    334\u001b[0m \u001b[43m        \u001b[49m\u001b[43ma2a_graph\u001b[49m\u001b[43m[\u001b[49m\u001b[38;5;124;43m\"\u001b[39;49m\u001b[38;5;124;43medge_index\u001b[39;49m\u001b[38;5;124;43m\"\u001b[39;49m\u001b[43m]\u001b[49m\u001b[43m,\u001b[49m\n\u001b[1;32m    335\u001b[0m \u001b[43m        \u001b[49m\u001b[43ma2a_graph\u001b[49m\u001b[43m[\u001b[49m\u001b[38;5;124;43m\"\u001b[39;49m\u001b[38;5;124;43mtarget_neighbor_idx\u001b[39;49m\u001b[38;5;124;43m\"\u001b[39;49m\u001b[43m]\u001b[49m\u001b[43m,\u001b[49m\n\u001b[1;32m    336\u001b[0m \u001b[43m    \u001b[49m\u001b[43m)\u001b[49m\n\u001b[1;32m    338\u001b[0m \u001b[38;5;66;03m## -------------- Merge Embeddings after interactions ------------- ##\u001b[39;00m\n\u001b[1;32m    339\u001b[0m x \u001b[38;5;241m=\u001b[39m x_ca_skip \u001b[38;5;241m+\u001b[39m x_e2e  \u001b[38;5;66;03m# (nEdges, emb_size_edge)\u001b[39;00m\n",
      "File \u001b[0;32m/net/csefiles/coc-fung-cluster/nima/miniforge3/envs/jmp-peft/lib/python3.11/site-packages/torch/nn/modules/module.py:1511\u001b[0m, in \u001b[0;36mModule._wrapped_call_impl\u001b[0;34m(self, *args, **kwargs)\u001b[0m\n\u001b[1;32m   1509\u001b[0m     \u001b[38;5;28;01mreturn\u001b[39;00m \u001b[38;5;28mself\u001b[39m\u001b[38;5;241m.\u001b[39m_compiled_call_impl(\u001b[38;5;241m*\u001b[39margs, \u001b[38;5;241m*\u001b[39m\u001b[38;5;241m*\u001b[39mkwargs)  \u001b[38;5;66;03m# type: ignore[misc]\u001b[39;00m\n\u001b[1;32m   1510\u001b[0m \u001b[38;5;28;01melse\u001b[39;00m:\n\u001b[0;32m-> 1511\u001b[0m     \u001b[38;5;28;01mreturn\u001b[39;00m \u001b[38;5;28;43mself\u001b[39;49m\u001b[38;5;241;43m.\u001b[39;49m\u001b[43m_call_impl\u001b[49m\u001b[43m(\u001b[49m\u001b[38;5;241;43m*\u001b[39;49m\u001b[43margs\u001b[49m\u001b[43m,\u001b[49m\u001b[43m \u001b[49m\u001b[38;5;241;43m*\u001b[39;49m\u001b[38;5;241;43m*\u001b[39;49m\u001b[43mkwargs\u001b[49m\u001b[43m)\u001b[49m\n",
      "File \u001b[0;32m/net/csefiles/coc-fung-cluster/nima/miniforge3/envs/jmp-peft/lib/python3.11/site-packages/torch/nn/modules/module.py:1520\u001b[0m, in \u001b[0;36mModule._call_impl\u001b[0;34m(self, *args, **kwargs)\u001b[0m\n\u001b[1;32m   1515\u001b[0m \u001b[38;5;66;03m# If we don't have any hooks, we want to skip the rest of the logic in\u001b[39;00m\n\u001b[1;32m   1516\u001b[0m \u001b[38;5;66;03m# this function, and just call forward.\u001b[39;00m\n\u001b[1;32m   1517\u001b[0m \u001b[38;5;28;01mif\u001b[39;00m \u001b[38;5;129;01mnot\u001b[39;00m (\u001b[38;5;28mself\u001b[39m\u001b[38;5;241m.\u001b[39m_backward_hooks \u001b[38;5;129;01mor\u001b[39;00m \u001b[38;5;28mself\u001b[39m\u001b[38;5;241m.\u001b[39m_backward_pre_hooks \u001b[38;5;129;01mor\u001b[39;00m \u001b[38;5;28mself\u001b[39m\u001b[38;5;241m.\u001b[39m_forward_hooks \u001b[38;5;129;01mor\u001b[39;00m \u001b[38;5;28mself\u001b[39m\u001b[38;5;241m.\u001b[39m_forward_pre_hooks\n\u001b[1;32m   1518\u001b[0m         \u001b[38;5;129;01mor\u001b[39;00m _global_backward_pre_hooks \u001b[38;5;129;01mor\u001b[39;00m _global_backward_hooks\n\u001b[1;32m   1519\u001b[0m         \u001b[38;5;129;01mor\u001b[39;00m _global_forward_hooks \u001b[38;5;129;01mor\u001b[39;00m _global_forward_pre_hooks):\n\u001b[0;32m-> 1520\u001b[0m     \u001b[38;5;28;01mreturn\u001b[39;00m \u001b[43mforward_call\u001b[49m\u001b[43m(\u001b[49m\u001b[38;5;241;43m*\u001b[39;49m\u001b[43margs\u001b[49m\u001b[43m,\u001b[49m\u001b[43m \u001b[49m\u001b[38;5;241;43m*\u001b[39;49m\u001b[38;5;241;43m*\u001b[39;49m\u001b[43mkwargs\u001b[49m\u001b[43m)\u001b[49m\n\u001b[1;32m   1522\u001b[0m \u001b[38;5;28;01mtry\u001b[39;00m:\n\u001b[1;32m   1523\u001b[0m     result \u001b[38;5;241m=\u001b[39m \u001b[38;5;28;01mNone\u001b[39;00m\n",
      "    \u001b[0;31m[... skipping hidden 1 frame]\u001b[0m\n",
      "File \u001b[0;32m/net/csefiles/coc-fung-cluster/nima/miniforge3/envs/jmp-peft/lib/python3.11/site-packages/jaxtyping/_decorator.py:449\u001b[0m, in \u001b[0;36mjaxtyped.<locals>.wrapped_fn_impl\u001b[0;34m(args, kwargs, bound, memos)\u001b[0m\n\u001b[1;32m    446\u001b[0m             \u001b[38;5;28;01mraise\u001b[39;00m TypeCheckError(msg) \u001b[38;5;28;01mfrom\u001b[39;00m \u001b[38;5;21;01me\u001b[39;00m\n\u001b[1;32m    448\u001b[0m \u001b[38;5;66;03m# Actually call the function.\u001b[39;00m\n\u001b[0;32m--> 449\u001b[0m out \u001b[38;5;241m=\u001b[39m \u001b[43mfn\u001b[49m\u001b[43m(\u001b[49m\u001b[38;5;241;43m*\u001b[39;49m\u001b[43margs\u001b[49m\u001b[43m,\u001b[49m\u001b[43m \u001b[49m\u001b[38;5;241;43m*\u001b[39;49m\u001b[38;5;241;43m*\u001b[39;49m\u001b[43mkwargs\u001b[49m\u001b[43m)\u001b[49m\n\u001b[1;32m    451\u001b[0m \u001b[38;5;28;01mif\u001b[39;00m full_signature\u001b[38;5;241m.\u001b[39mreturn_annotation \u001b[38;5;129;01mis\u001b[39;00m \u001b[38;5;129;01mnot\u001b[39;00m inspect\u001b[38;5;241m.\u001b[39mSignature\u001b[38;5;241m.\u001b[39mempty:\n\u001b[1;32m    452\u001b[0m     \u001b[38;5;66;03m# Now type-check the return value. We need to include the\u001b[39;00m\n\u001b[1;32m    453\u001b[0m     \u001b[38;5;66;03m# parameters in the type-checking here in case there are any\u001b[39;00m\n\u001b[0;32m   (...)\u001b[0m\n\u001b[1;32m    464\u001b[0m     \u001b[38;5;66;03m# checking of the parameters. Unfortunately there doesn't seem\u001b[39;00m\n\u001b[1;32m    465\u001b[0m     \u001b[38;5;66;03m# to be a way around that, so c'est la vie.\u001b[39;00m\n\u001b[1;32m    466\u001b[0m     kwargs[output_name] \u001b[38;5;241m=\u001b[39m out\n",
      "File \u001b[0;32m/net/csefiles/coc-fung-cluster/nima/shared/repositories/jmp-peft/src/jmppeft/models/gemnet/layers/interaction_block.py:831\u001b[0m, in \u001b[0;36mPairInteraction.forward\u001b[0;34m(self, h, rad_basis, edge_index, target_neighbor_idx)\u001b[0m\n\u001b[1;32m    828\u001b[0m h_out \u001b[38;5;241m=\u001b[39m \u001b[38;5;28mself\u001b[39m\u001b[38;5;241m.\u001b[39mscale_rbf_sum(h_out, ref\u001b[38;5;241m=\u001b[39mx_ba)\n\u001b[1;32m    829\u001b[0m \u001b[38;5;66;03m# (num_atoms, emb_size_edge)\u001b[39;00m\n\u001b[0;32m--> 831\u001b[0m h_out \u001b[38;5;241m=\u001b[39m \u001b[38;5;28;43mself\u001b[39;49m\u001b[38;5;241;43m.\u001b[39;49m\u001b[43mup_projection\u001b[49m\u001b[43m(\u001b[49m\u001b[43mh_out\u001b[49m\u001b[43m)\u001b[49m  \u001b[38;5;66;03m# (num_atoms, emb_size_atom)\u001b[39;00m\n\u001b[1;32m    833\u001b[0m \u001b[38;5;28;01mreturn\u001b[39;00m h_out\n",
      "File \u001b[0;32m/net/csefiles/coc-fung-cluster/nima/miniforge3/envs/jmp-peft/lib/python3.11/site-packages/torch/nn/modules/module.py:1511\u001b[0m, in \u001b[0;36mModule._wrapped_call_impl\u001b[0;34m(self, *args, **kwargs)\u001b[0m\n\u001b[1;32m   1509\u001b[0m     \u001b[38;5;28;01mreturn\u001b[39;00m \u001b[38;5;28mself\u001b[39m\u001b[38;5;241m.\u001b[39m_compiled_call_impl(\u001b[38;5;241m*\u001b[39margs, \u001b[38;5;241m*\u001b[39m\u001b[38;5;241m*\u001b[39mkwargs)  \u001b[38;5;66;03m# type: ignore[misc]\u001b[39;00m\n\u001b[1;32m   1510\u001b[0m \u001b[38;5;28;01melse\u001b[39;00m:\n\u001b[0;32m-> 1511\u001b[0m     \u001b[38;5;28;01mreturn\u001b[39;00m \u001b[38;5;28;43mself\u001b[39;49m\u001b[38;5;241;43m.\u001b[39;49m\u001b[43m_call_impl\u001b[49m\u001b[43m(\u001b[49m\u001b[38;5;241;43m*\u001b[39;49m\u001b[43margs\u001b[49m\u001b[43m,\u001b[49m\u001b[43m \u001b[49m\u001b[38;5;241;43m*\u001b[39;49m\u001b[38;5;241;43m*\u001b[39;49m\u001b[43mkwargs\u001b[49m\u001b[43m)\u001b[49m\n",
      "File \u001b[0;32m/net/csefiles/coc-fung-cluster/nima/miniforge3/envs/jmp-peft/lib/python3.11/site-packages/torch/nn/modules/module.py:1520\u001b[0m, in \u001b[0;36mModule._call_impl\u001b[0;34m(self, *args, **kwargs)\u001b[0m\n\u001b[1;32m   1515\u001b[0m \u001b[38;5;66;03m# If we don't have any hooks, we want to skip the rest of the logic in\u001b[39;00m\n\u001b[1;32m   1516\u001b[0m \u001b[38;5;66;03m# this function, and just call forward.\u001b[39;00m\n\u001b[1;32m   1517\u001b[0m \u001b[38;5;28;01mif\u001b[39;00m \u001b[38;5;129;01mnot\u001b[39;00m (\u001b[38;5;28mself\u001b[39m\u001b[38;5;241m.\u001b[39m_backward_hooks \u001b[38;5;129;01mor\u001b[39;00m \u001b[38;5;28mself\u001b[39m\u001b[38;5;241m.\u001b[39m_backward_pre_hooks \u001b[38;5;129;01mor\u001b[39;00m \u001b[38;5;28mself\u001b[39m\u001b[38;5;241m.\u001b[39m_forward_hooks \u001b[38;5;129;01mor\u001b[39;00m \u001b[38;5;28mself\u001b[39m\u001b[38;5;241m.\u001b[39m_forward_pre_hooks\n\u001b[1;32m   1518\u001b[0m         \u001b[38;5;129;01mor\u001b[39;00m _global_backward_pre_hooks \u001b[38;5;129;01mor\u001b[39;00m _global_backward_hooks\n\u001b[1;32m   1519\u001b[0m         \u001b[38;5;129;01mor\u001b[39;00m _global_forward_hooks \u001b[38;5;129;01mor\u001b[39;00m _global_forward_pre_hooks):\n\u001b[0;32m-> 1520\u001b[0m     \u001b[38;5;28;01mreturn\u001b[39;00m \u001b[43mforward_call\u001b[49m\u001b[43m(\u001b[49m\u001b[38;5;241;43m*\u001b[39;49m\u001b[43margs\u001b[49m\u001b[43m,\u001b[49m\u001b[43m \u001b[49m\u001b[38;5;241;43m*\u001b[39;49m\u001b[38;5;241;43m*\u001b[39;49m\u001b[43mkwargs\u001b[49m\u001b[43m)\u001b[49m\n\u001b[1;32m   1522\u001b[0m \u001b[38;5;28;01mtry\u001b[39;00m:\n\u001b[1;32m   1523\u001b[0m     result \u001b[38;5;241m=\u001b[39m \u001b[38;5;28;01mNone\u001b[39;00m\n",
      "    \u001b[0;31m[... skipping hidden 1 frame]\u001b[0m\n",
      "File \u001b[0;32m/net/csefiles/coc-fung-cluster/nima/miniforge3/envs/jmp-peft/lib/python3.11/site-packages/jaxtyping/_decorator.py:468\u001b[0m, in \u001b[0;36mjaxtyped.<locals>.wrapped_fn_impl\u001b[0;34m(args, kwargs, bound, memos)\u001b[0m\n\u001b[1;32m    466\u001b[0m kwargs[output_name] \u001b[38;5;241m=\u001b[39m out\n\u001b[1;32m    467\u001b[0m \u001b[38;5;28;01mtry\u001b[39;00m:\n\u001b[0;32m--> 468\u001b[0m     \u001b[43mfull_fn\u001b[49m\u001b[43m(\u001b[49m\u001b[38;5;241;43m*\u001b[39;49m\u001b[43margs\u001b[49m\u001b[43m,\u001b[49m\u001b[43m \u001b[49m\u001b[38;5;241;43m*\u001b[39;49m\u001b[38;5;241;43m*\u001b[39;49m\u001b[43mkwargs\u001b[49m\u001b[43m)\u001b[49m\n\u001b[1;32m    469\u001b[0m \u001b[38;5;28;01mexcept\u001b[39;00m AnnotationError:\n\u001b[1;32m    470\u001b[0m     \u001b[38;5;28;01mraise\u001b[39;00m\n",
      "File \u001b[0;32m<@beartype(jmppeft.models.gemnet.layers.base_layers.Dense.forward) at 0x7f94f90c7f60>:39\u001b[0m, in \u001b[0;36mforward\u001b[0;34m(__beartype_object_94391301341888, __beartype_get_violation, __beartype_conf, __beartype_object_94391301392080, __beartype_func, *args, **kwargs)\u001b[0m\n",
      "File \u001b[0;32m/net/csefiles/coc-fung-cluster/nima/miniforge3/envs/jmp-peft/lib/python3.11/site-packages/jaxtyping/_array_types.py:180\u001b[0m, in \u001b[0;36m_MetaAbstractArray.__instancecheck__\u001b[0;34m(cls, obj)\u001b[0m\n\u001b[1;32m    179\u001b[0m \u001b[38;5;28;01mdef\u001b[39;00m \u001b[38;5;21m__instancecheck__\u001b[39m(\u001b[38;5;28mcls\u001b[39m, obj: Any) \u001b[38;5;241m-\u001b[39m\u001b[38;5;241m>\u001b[39m \u001b[38;5;28mbool\u001b[39m:\n\u001b[0;32m--> 180\u001b[0m     \u001b[38;5;28;01mreturn\u001b[39;00m \u001b[38;5;28;43mcls\u001b[39;49m\u001b[38;5;241;43m.\u001b[39;49m\u001b[43m__instancecheck_str__\u001b[49m\u001b[43m(\u001b[49m\u001b[43mobj\u001b[49m\u001b[43m)\u001b[49m \u001b[38;5;241m==\u001b[39m \u001b[38;5;124m\"\u001b[39m\u001b[38;5;124m\"\u001b[39m\n",
      "File \u001b[0;32m/net/csefiles/coc-fung-cluster/nima/miniforge3/envs/jmp-peft/lib/python3.11/site-packages/jaxtyping/_array_types.py:234\u001b[0m, in \u001b[0;36m_MetaAbstractArray.__instancecheck_str__\u001b[0;34m(cls, obj)\u001b[0m\n\u001b[1;32m    232\u001b[0m arg_memo_bak \u001b[38;5;241m=\u001b[39m arg_memo\u001b[38;5;241m.\u001b[39mcopy()\n\u001b[1;32m    233\u001b[0m \u001b[38;5;28;01mtry\u001b[39;00m:\n\u001b[0;32m--> 234\u001b[0m     check \u001b[38;5;241m=\u001b[39m \u001b[38;5;28;43mcls\u001b[39;49m\u001b[38;5;241;43m.\u001b[39;49m\u001b[43m_check_shape\u001b[49m\u001b[43m(\u001b[49m\u001b[43mobj\u001b[49m\u001b[43m,\u001b[49m\u001b[43m \u001b[49m\u001b[43msingle_memo\u001b[49m\u001b[43m,\u001b[49m\u001b[43m \u001b[49m\u001b[43mvariadic_memo\u001b[49m\u001b[43m,\u001b[49m\u001b[43m \u001b[49m\u001b[43marg_memo\u001b[49m\u001b[43m)\u001b[49m\n\u001b[1;32m    235\u001b[0m \u001b[38;5;28;01mexcept\u001b[39;00m \u001b[38;5;167;01mException\u001b[39;00m:\n\u001b[1;32m    236\u001b[0m     set_shape_memo(\n\u001b[1;32m    237\u001b[0m         single_memo_bak, variadic_memo_bak, pytree_memo_bak, arg_memo_bak\n\u001b[1;32m    238\u001b[0m     )\n",
      "File \u001b[0;32m/net/csefiles/coc-fung-cluster/nima/miniforge3/envs/jmp-peft/lib/python3.11/site-packages/jaxtyping/_array_types.py:272\u001b[0m, in \u001b[0;36m_MetaAbstractArray._check_shape\u001b[0;34m(cls, obj, single_memo, variadic_memo, arg_memo)\u001b[0m\n\u001b[1;32m    270\u001b[0m     \u001b[38;5;28;01mreturn\u001b[39;00m prefix_check\n\u001b[1;32m    271\u001b[0m \u001b[38;5;28;01mif\u001b[39;00m j \u001b[38;5;129;01mis\u001b[39;00m \u001b[38;5;129;01mnot\u001b[39;00m \u001b[38;5;28;01mNone\u001b[39;00m:\n\u001b[0;32m--> 272\u001b[0m     suffix_check \u001b[38;5;241m=\u001b[39m \u001b[43m_check_dims\u001b[49m\u001b[43m(\u001b[49m\n\u001b[1;32m    273\u001b[0m \u001b[43m        \u001b[49m\u001b[38;5;28;43mcls\u001b[39;49m\u001b[38;5;241;43m.\u001b[39;49m\u001b[43mdims\u001b[49m\u001b[43m[\u001b[49m\u001b[43mj\u001b[49m\u001b[43m:\u001b[49m\u001b[43m]\u001b[49m\u001b[43m,\u001b[49m\u001b[43m \u001b[49m\u001b[43mobj\u001b[49m\u001b[38;5;241;43m.\u001b[39;49m\u001b[43mshape\u001b[49m\u001b[43m[\u001b[49m\u001b[43mj\u001b[49m\u001b[43m:\u001b[49m\u001b[43m]\u001b[49m\u001b[43m,\u001b[49m\u001b[43m \u001b[49m\u001b[43msingle_memo\u001b[49m\u001b[43m,\u001b[49m\u001b[43m \u001b[49m\u001b[43marg_memo\u001b[49m\n\u001b[1;32m    274\u001b[0m \u001b[43m    \u001b[49m\u001b[43m)\u001b[49m\n\u001b[1;32m    275\u001b[0m     \u001b[38;5;28;01mif\u001b[39;00m suffix_check \u001b[38;5;241m!=\u001b[39m \u001b[38;5;124m\"\u001b[39m\u001b[38;5;124m\"\u001b[39m:\n\u001b[1;32m    276\u001b[0m         \u001b[38;5;28;01mreturn\u001b[39;00m suffix_check\n",
      "File \u001b[0;32m/net/csefiles/coc-fung-cluster/nima/miniforge3/envs/jmp-peft/lib/python3.11/site-packages/jaxtyping/_array_types.py:140\u001b[0m, in \u001b[0;36m_check_dims\u001b[0;34m(cls_dims, obj_shape, single_memo, arg_memo)\u001b[0m\n\u001b[1;32m    136\u001b[0m \u001b[38;5;28;01melif\u001b[39;00m \u001b[38;5;28mtype\u001b[39m(cls_dim) \u001b[38;5;129;01mis\u001b[39;00m _SymbolicDim:\n\u001b[1;32m    137\u001b[0m     \u001b[38;5;28;01mtry\u001b[39;00m:\n\u001b[1;32m    138\u001b[0m         \u001b[38;5;66;03m# Support f-string syntax.\u001b[39;00m\n\u001b[1;32m    139\u001b[0m         \u001b[38;5;66;03m# https://stackoverflow.com/a/53671539/22545467\u001b[39;00m\n\u001b[0;32m--> 140\u001b[0m         elem \u001b[38;5;241m=\u001b[39m \u001b[38;5;28meval\u001b[39m(\u001b[38;5;124mf\u001b[39m\u001b[38;5;124m\"\u001b[39m\u001b[38;5;124mf\u001b[39m\u001b[38;5;124m'\u001b[39m\u001b[38;5;132;01m{\u001b[39;00mcls_dim\u001b[38;5;241m.\u001b[39melem\u001b[38;5;132;01m}\u001b[39;00m\u001b[38;5;124m'\u001b[39m\u001b[38;5;124m\"\u001b[39m, arg_memo\u001b[38;5;241m.\u001b[39mcopy())\n\u001b[1;32m    141\u001b[0m         \u001b[38;5;66;03m# Make a copy to avoid `__builtins__` getting added as a key.\u001b[39;00m\n\u001b[1;32m    142\u001b[0m         eval_size \u001b[38;5;241m=\u001b[39m \u001b[38;5;28meval\u001b[39m(elem, single_memo\u001b[38;5;241m.\u001b[39mcopy())\n",
      "File \u001b[0;32m<string>:0\u001b[0m\n",
      "\u001b[0;31mKeyboardInterrupt\u001b[0m: "
     ]
    }
   ],
   "source": [
    "from collections import defaultdict\n",
    "from functools import partial\n",
    "from typing import TypedDict, cast\n",
    "\n",
    "import numpy as np\n",
    "from jmppeft.modules.relaxer._relaxer import RelaxationOutput\n",
    "from torch.utils.data import DataLoader\n",
    "from torch_geometric.data import Batch\n",
    "from tqdm.auto import tqdm\n",
    "\n",
    "use_y_relaxed = False\n",
    "\n",
    "config = RelaxerConfig(\n",
    "    compute_stress=True,\n",
    "    stress_weight=0.1,\n",
    "    optimizer=\"FIRE\",\n",
    "    # fmax=0.01,\n",
    "    # ase_filter=\"frechet\",\n",
    "    fmax=0.05,\n",
    "    ase_filter=\"exp\",\n",
    ")\n",
    "relaxer = Relaxer(\n",
    "    config=config,\n",
    "    model=partial(model_fn, use_y_relaxed=use_y_relaxed),\n",
    "    collate_fn=model.collate_fn,\n",
    "    device=model.device,\n",
    ")\n",
    "\n",
    "dl = DataLoader(\n",
    "    dataset,\n",
    "    batch_size=1,\n",
    "    collate_fn=model.collate_fn,\n",
    "    shuffle=False,\n",
    "    num_workers=0,\n",
    "    pin_memory=True,\n",
    ")\n",
    "\n",
    "preds_targets = defaultdict[str, list[tuple[float, float]]](lambda: [])\n",
    "mae_error = 0.0\n",
    "mae_count = 0\n",
    "\n",
    "\n",
    "class ProblematicSample(TypedDict):\n",
    "    error: float\n",
    "    initial_data: Batch\n",
    "    relaxed_data: Batch\n",
    "    relax_out: RelaxationOutput\n",
    "\n",
    "\n",
    "problematic_samples: list[ProblematicSample] = []\n",
    "ae_threshold = 0.1\n",
    "\n",
    "for data in tqdm(dl, total=len(dl)):\n",
    "    data = cast(Batch, data)\n",
    "    data = move_data_to_device(data, model.device)\n",
    "    data.y_prediction = data.y_formation\n",
    "    relaxed_data, relax_out = relaxer.relax_and_return_structure(data, verbose=False)\n",
    "\n",
    "    e_form_true = data.y_formation.item()\n",
    "    e_form_pred = relax_out.atoms.get_total_energy()\n",
    "    preds_targets[\"e_form\"].append((e_form_pred, e_form_true))\n",
    "\n",
    "    e_above_hull_true = data.y_above_hull.item()\n",
    "    e_above_hull_pred = e_above_hull_true + (e_form_pred - e_form_true)\n",
    "    preds_targets[\"e_above_hull\"].append((e_above_hull_pred, e_above_hull_true))\n",
    "\n",
    "    mae_error += abs(e_form_pred - e_form_true)\n",
    "    mae_count += 1\n",
    "    mae_running = mae_error / mae_count\n",
    "\n",
    "    nsteps = len(relax_out.trajectory.frames)\n",
    "\n",
    "    error = abs(e_form_pred - e_form_true)\n",
    "    prefix = \"✅\"\n",
    "    if error > ae_threshold:\n",
    "        problematic_samples.append(\n",
    "            {\n",
    "                \"error\": error,\n",
    "                \"initial_data\": move_data_to_device(data, \"cpu\"),\n",
    "                \"relaxed_data\": move_data_to_device(relaxed_data, \"cpu\"),\n",
    "                \"relax_out\": move_data_to_device(relax_out, \"cpu\"),\n",
    "            }\n",
    "        )\n",
    "        prefix = \"❌\"\n",
    "\n",
    "    print(\n",
    "        f\"{prefix} # Steps: {nsteps}; e_form: P={e_form_pred:.4f}, GT={e_form_true:.4f}, Δ={abs(e_form_pred - e_form_true):.4f}, MAE={mae_running:.4f}\"\n",
    "    )"
   ]
  },
  {
   "cell_type": "code",
   "execution_count": 44,
   "metadata": {},
   "outputs": [
    {
     "data": {
      "application/vnd.jupyter.widget-view+json": {
       "model_id": "41d8a5a765e84c019e66cf4a2396dc49",
       "version_major": 2,
       "version_minor": 0
      },
      "text/plain": [
       "  0%|          | 0/21 [00:00<?, ?it/s]"
      ]
     },
     "metadata": {},
     "output_type": "display_data"
    },
    {
     "data": {
      "image/png": "[encoded data removed]",
      "text/plain": [
       "<Figure size 1280x960 with 1 Axes>"
      ]
     },
     "metadata": {},
     "output_type": "display_data"
    }
   ],
   "source": [
    "import copy\n",
    "\n",
    "import matplotlib.pyplot as plt\n",
    "import numpy as np\n",
    "import seaborn as sns\n",
    "\n",
    "sns.set_theme()\n",
    "\n",
    "\n",
    "def compute_relaxed(\n",
    "    sample: ProblematicSample,\n",
    "):\n",
    "    relax_out = sample[\"relax_out\"]\n",
    "\n",
    "    initial_data = move_data_to_device(\n",
    "        copy.deepcopy(sample[\"initial_data\"]), model.device\n",
    "    )\n",
    "    data = move_data_to_device(copy.deepcopy(sample[\"initial_data\"]), model.device)\n",
    "\n",
    "    for f in tqdm(relax_out.trajectory.frames):\n",
    "        data.pos = f.pos.type_as(data.pos).reshape_as(data.pos).to(data.pos.device)\n",
    "        data.cell = f.cell.type_as(data.cell).reshape_as(data.cell).to(data.cell.device)\n",
    "\n",
    "        out = model_fn(data, initial_data, use_y_relaxed=True)\n",
    "        yield out[\"energy\"].item()\n",
    "\n",
    "\n",
    "def plot_energy_vs_steps(\n",
    "    sample: ProblematicSample,\n",
    "    ax: plt.Axes | None = None,\n",
    "):\n",
    "    initial_data = sample[\"initial_data\"]\n",
    "    relax_out = sample[\"relax_out\"]\n",
    "\n",
    "    e_form_true = initial_data.y_formation.item()\n",
    "    e_form_pred = [f.energy.item() for f in relax_out.trajectory.frames]\n",
    "    e_form_pred_relaxed = None\n",
    "    if True:\n",
    "        e_form_pred_relaxed = list(compute_relaxed(sample))\n",
    "\n",
    "    if ax is None:\n",
    "        _, ax = plt.subplots()\n",
    "    ax.plot(e_form_pred, label=\"Predicted\")\n",
    "    if e_form_pred_relaxed:\n",
    "        ax.plot(e_form_pred_relaxed, label=\"Predicted (y_relaxed)\")\n",
    "    ax.axhline(y=e_form_true, color=\"r\", linestyle=\"--\", label=\"True\")\n",
    "    ax.set_xlabel(\"Step\")\n",
    "    ax.set_ylabel(\"Formation Energy\")\n",
    "    ax.legend()\n",
    "\n",
    "\n",
    "plot_energy_vs_steps(problematic_samples[5])"
   ]
  }
 ],
 "metadata": {
  "kernelspec": {
   "display_name": "Python 3 (ipykernel)",
   "language": "python",
   "name": "python3"
  },
  "language_info": {
   "codemirror_mode": {
    "name": "ipython",
    "version": 3
   },
   "file_extension": ".py",
   "mimetype": "text/x-python",
   "name": "python",
   "nbconvert_exporter": "python",
   "pygments_lexer": "ipython3",
   "version": "3.11.9"
  }
 },
 "nbformat": 4,
 "nbformat_minor": 4
}
