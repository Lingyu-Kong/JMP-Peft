{
 "cells": [
  {
   "cell_type": "markdown",
   "metadata": {},
   "source": [
    "Context:\n",
    "\n",
    "We previously discussed just using MP energies to see if they are consistent with how we compute formation energies. Using MACE fully to reproduce the benchmarks is also fine. If needed, you can also reach out to Janosh or anyone else with specific questions. I would do this sooner rather than later, so that they have time to respond.\n",
    "\n",
    "\n",
    "Nima Shoghi\n",
    "  3:23 PM\n",
    "Can you remind me again about the specifics of how to do the MP energies part? My whole system for taking meeting notes has been very unorganized for the past few weeks, and I've lost some of the TODOs I had taken in some meetings.\n",
    "What do we mean here by just using MP energies?\n",
    "\n",
    "\n",
    "Victor\n",
    "  3:24 PM\n",
    "I think it was perhaps to do with computing formation energy from MP total energies and comparing with MP formation energies, to see if we are computing the formation energies incorrectly\n",
    "\n",
    "\n",
    "Nima Shoghi\n",
    "  3:25 PM\n",
    "Ok, I can do that right now to check."
   ]
  },
  {
   "cell_type": "code",
   "execution_count": 50,
   "metadata": {},
   "outputs": [],
   "source": [
    "import ll\n",
    "\n",
    "ll.pretty()"
   ]
  },
  {
   "cell_type": "code",
   "execution_count": 51,
   "metadata": {},
   "outputs": [
    {
     "name": "stdout",
     "output_type": "stream",
     "text": [
      "/mnt/datasets/mptrj-mace/mptrj-gga-ggapu\n",
      "145923\n"
     ]
    }
   ],
   "source": [
    "from pathlib import Path\n",
    "\n",
    "base_path = Path(\"/mnt/datasets/mptrj-mace/mptrj-gga-ggapu/\")\n",
    "print(base_path)\n",
    "\n",
    "extxyz_files = list(base_path.glob(\"**/*.extxyz\"))\n",
    "print(len(extxyz_files))"
   ]
  },
  {
   "cell_type": "code",
   "execution_count": 52,
   "metadata": {},
   "outputs": [
    {
     "name": "stdout",
     "output_type": "stream",
     "text": [
      "<class 'list'> 2\n"
     ]
    }
   ],
   "source": [
    "import ase.io\n",
    "\n",
    "f = extxyz_files[0]\n",
    "atoms_list = ase.io.read(f, index=\":\")\n",
    "assert isinstance(atoms_list, list)\n",
    "print(type(atoms_list), len(atoms_list))"
   ]
  },
  {
   "cell_type": "code",
   "execution_count": 53,
   "metadata": {},
   "outputs": [
    {
     "data": {
      "text/html": [
       "<pre style=\"white-space:pre;overflow-x:auto;line-height:normal;font-family:Menlo,'DejaVu Sans Mono',consolas,'Courier New',monospace\"><span style=\"font-weight: bold\">{</span>\n",
       "    <span style=\"color: #008000; text-decoration-color: #008000\">'numbers'</span>: array<span style=\"font-weight: bold\">[</span><span style=\"color: #008080; text-decoration-color: #008080; font-weight: bold\">20</span><span style=\"font-weight: bold\">]</span> i64 x∈<span style=\"font-weight: bold\">[</span><span style=\"color: #008080; text-decoration-color: #008080; font-weight: bold\">8</span>, <span style=\"color: #008080; text-decoration-color: #008080; font-weight: bold\">50</span><span style=\"font-weight: bold\">]</span> <span style=\"color: #808000; text-decoration-color: #808000\">μ</span>=<span style=\"color: #008080; text-decoration-color: #008080; font-weight: bold\">19.600</span> <span style=\"color: #808000; text-decoration-color: #808000\">σ</span>=<span style=\"color: #008080; text-decoration-color: #008080; font-weight: bold\">15.628</span>,\n",
       "    <span style=\"color: #008000; text-decoration-color: #008000\">'positions'</span>: array<span style=\"font-weight: bold\">[</span><span style=\"color: #008080; text-decoration-color: #008080; font-weight: bold\">20</span>, <span style=\"color: #008080; text-decoration-color: #008080; font-weight: bold\">3</span><span style=\"font-weight: bold\">]</span> <span style=\"color: #808000; text-decoration-color: #808000\">n</span>=<span style=\"color: #008080; text-decoration-color: #008080; font-weight: bold\">60</span> x∈<span style=\"font-weight: bold\">[</span><span style=\"color: #008080; text-decoration-color: #008080; font-weight: bold\">0.031</span>, <span style=\"color: #008080; text-decoration-color: #008080; font-weight: bold\">10.047</span><span style=\"font-weight: bold\">]</span> <span style=\"color: #808000; text-decoration-color: #808000\">μ</span>=<span style=\"color: #008080; text-decoration-color: #008080; font-weight: bold\">3.993</span> <span style=\"color: #808000; text-decoration-color: #808000\">σ</span>=<span style=\"color: #008080; text-decoration-color: #008080; font-weight: bold\">2.585</span>,\n",
       "    <span style=\"color: #008000; text-decoration-color: #008000\">'forces'</span>: array<span style=\"font-weight: bold\">[</span><span style=\"color: #008080; text-decoration-color: #008080; font-weight: bold\">20</span>, <span style=\"color: #008080; text-decoration-color: #008080; font-weight: bold\">3</span><span style=\"font-weight: bold\">]</span> <span style=\"color: #808000; text-decoration-color: #808000\">n</span>=<span style=\"color: #008080; text-decoration-color: #008080; font-weight: bold\">60</span> x∈<span style=\"font-weight: bold\">[</span><span style=\"color: #008080; text-decoration-color: #008080; font-weight: bold\">-0.138</span>, <span style=\"color: #008080; text-decoration-color: #008080; font-weight: bold\">0.138</span><span style=\"font-weight: bold\">]</span> <span style=\"color: #808000; text-decoration-color: #808000\">μ</span>=<span style=\"color: #008080; text-decoration-color: #008080; font-weight: bold\">-5.782e-19</span> <span style=\"color: #808000; text-decoration-color: #808000\">σ</span>=<span style=\"color: #008080; text-decoration-color: #008080; font-weight: bold\">0.050</span>,\n",
       "    <span style=\"color: #008000; text-decoration-color: #008000\">'magmoms'</span>: array<span style=\"font-weight: bold\">[</span><span style=\"color: #008080; text-decoration-color: #008080; font-weight: bold\">20</span><span style=\"font-weight: bold\">]</span> <span style=\"color: #7f7f7f; text-decoration-color: #7f7f7f\">all_zeros</span>,\n",
       "    <span style=\"color: #008000; text-decoration-color: #008000\">'cell'</span>: array<span style=\"font-weight: bold\">[</span><span style=\"color: #008080; text-decoration-color: #008080; font-weight: bold\">3</span>, <span style=\"color: #008080; text-decoration-color: #008080; font-weight: bold\">3</span><span style=\"font-weight: bold\">]</span> <span style=\"color: #808000; text-decoration-color: #808000\">n</span>=<span style=\"color: #008080; text-decoration-color: #008080; font-weight: bold\">9</span> x∈<span style=\"font-weight: bold\">[</span><span style=\"color: #008080; text-decoration-color: #008080; font-weight: bold\">0</span>., <span style=\"color: #008080; text-decoration-color: #008080; font-weight: bold\">10.302</span><span style=\"font-weight: bold\">]</span> <span style=\"color: #808000; text-decoration-color: #808000\">μ</span>=<span style=\"color: #008080; text-decoration-color: #008080; font-weight: bold\">2.662</span> <span style=\"color: #808000; text-decoration-color: #808000\">σ</span>=<span style=\"color: #008080; text-decoration-color: #008080; font-weight: bold\">3.922</span> <span style=\"font-weight: bold\">[[</span><span style=\"color: #008080; text-decoration-color: #008080; font-weight: bold\">5.636</span>, <span style=\"color: #008080; text-decoration-color: #008080; font-weight: bold\">0</span>., <span style=\"color: #008080; text-decoration-color: #008080; font-weight: bold\">0</span>.<span style=\"font-weight: bold\">]</span>, <span style=\"font-weight: bold\">[</span><span style=\"color: #008080; text-decoration-color: #008080; font-weight: bold\">0</span>., <span style=\"color: #008080; text-decoration-color: #008080; font-weight: bold\">8.023</span>, <span style=\"color: #008080; text-decoration-color: #008080; font-weight: bold\">0</span>.<span style=\"font-weight: bold\">]</span>, <span style=\"font-weight: bold\">[</span><span style=\"color: #008080; text-decoration-color: #008080; font-weight: bold\">0</span>., <span style=\"color: #008080; text-decoration-color: #008080; font-weight: bold\">0</span>., <span style=\"color: #008080; text-decoration-color: #008080; font-weight: bold\">10.302</span><span style=\"font-weight: bold\">]]</span>,\n",
       "    <span style=\"color: #008000; text-decoration-color: #008000\">'pbc'</span>: array<span style=\"font-weight: bold\">[</span><span style=\"color: #008080; text-decoration-color: #008080; font-weight: bold\">3</span><span style=\"font-weight: bold\">]</span> bool x∈<span style=\"font-weight: bold\">[</span><span style=\"color: #00ff00; text-decoration-color: #00ff00; font-style: italic\">True</span>, <span style=\"color: #00ff00; text-decoration-color: #00ff00; font-style: italic\">True</span><span style=\"font-weight: bold\">]</span> <span style=\"color: #808000; text-decoration-color: #808000\">μ</span>=<span style=\"color: #008080; text-decoration-color: #008080; font-weight: bold\">1.000</span> <span style=\"color: #808000; text-decoration-color: #808000\">σ</span>=<span style=\"color: #008080; text-decoration-color: #008080; font-weight: bold\">0</span>. <span style=\"font-weight: bold\">[</span><span style=\"color: #00ff00; text-decoration-color: #00ff00; font-style: italic\">True</span>, <span style=\"color: #00ff00; text-decoration-color: #00ff00; font-style: italic\">True</span>, <span style=\"color: #00ff00; text-decoration-color: #00ff00; font-style: italic\">True</span><span style=\"font-weight: bold\">]</span>,\n",
       "    <span style=\"color: #008000; text-decoration-color: #008000\">'info'</span>: <span style=\"font-weight: bold\">{</span>\n",
       "        <span style=\"color: #008000; text-decoration-color: #008000\">'energy'</span>: <span style=\"color: #008080; text-decoration-color: #008080; font-weight: bold\">-110.8780801</span>,\n",
       "        <span style=\"color: #008000; text-decoration-color: #008000\">'stress'</span>: array<span style=\"font-weight: bold\">[</span><span style=\"color: #008080; text-decoration-color: #008080; font-weight: bold\">3</span>, <span style=\"color: #008080; text-decoration-color: #008080; font-weight: bold\">3</span><span style=\"font-weight: bold\">]</span> <span style=\"color: #808000; text-decoration-color: #808000\">n</span>=<span style=\"color: #008080; text-decoration-color: #008080; font-weight: bold\">9</span> x∈<span style=\"font-weight: bold\">[</span><span style=\"color: #008080; text-decoration-color: #008080; font-weight: bold\">-0.001</span>, <span style=\"color: #008080; text-decoration-color: #008080; font-weight: bold\">0.000</span><span style=\"font-weight: bold\">]</span> <span style=\"color: #808000; text-decoration-color: #808000\">μ</span>=<span style=\"color: #008080; text-decoration-color: #008080; font-weight: bold\">-7.495e-05</span> <span style=\"color: #808000; text-decoration-color: #808000\">σ</span>=<span style=\"color: #008080; text-decoration-color: #008080; font-weight: bold\">0.000</span> <span style=\"font-weight: bold\">[[</span><span style=\"color: #008080; text-decoration-color: #008080; font-weight: bold\">0.000</span>, <span style=\"color: #008080; text-decoration-color: #008080; font-weight: bold\">0</span>., <span style=\"color: #008080; text-decoration-color: #008080; font-weight: bold\">0</span>.<span style=\"font-weight: bold\">]</span>, <span style=\"font-weight: bold\">[</span><span style=\"color: #008080; text-decoration-color: #008080; font-weight: bold\">0</span>., <span style=\"color: #008080; text-decoration-color: #008080; font-weight: bold\">-0.000</span>, <span style=\"color: #008080; text-decoration-color: #008080; font-weight: bold\">0</span>.<span style=\"font-weight: bold\">]</span>, <span style=\"font-weight: bold\">[</span><span style=\"color: #008080; text-decoration-color: #008080; font-weight: bold\">0</span>., \n",
       "<span style=\"color: #008080; text-decoration-color: #008080; font-weight: bold\">0</span>., <span style=\"color: #008080; text-decoration-color: #008080; font-weight: bold\">-0.001</span><span style=\"font-weight: bold\">]]</span>,\n",
       "        <span style=\"color: #008000; text-decoration-color: #008000\">'bandgap'</span>: <span style=\"color: #008080; text-decoration-color: #008080; font-weight: bold\">2.6418999999999997</span>,\n",
       "        <span style=\"color: #008000; text-decoration-color: #008000\">'e_per_atom_relaxed'</span>: <span style=\"color: #008080; text-decoration-color: #008080; font-weight: bold\">-5.9435017155</span>,\n",
       "        <span style=\"color: #008000; text-decoration-color: #008000\">'mp_id'</span>: <span style=\"color: #008000; text-decoration-color: #008000\">'mp-725947'</span>,\n",
       "        <span style=\"color: #008000; text-decoration-color: #008000\">'energy_per_atom'</span>: <span style=\"color: #008080; text-decoration-color: #008080; font-weight: bold\">-5.941504005</span>,\n",
       "        <span style=\"color: #008000; text-decoration-color: #008000\">'ef_per_atom_relaxed'</span>: <span style=\"color: #008080; text-decoration-color: #008080; font-weight: bold\">-5.9435017155</span>,\n",
       "        <span style=\"color: #008000; text-decoration-color: #008000\">'corrected_total_energy'</span>: <span style=\"color: #008080; text-decoration-color: #008080; font-weight: bold\">-118.8300801</span>,\n",
       "        <span style=\"color: #008000; text-decoration-color: #008000\">'ef_per_atom'</span>: <span style=\"color: #008080; text-decoration-color: #008080; font-weight: bold\">-1.711500402714286</span>,\n",
       "        <span style=\"color: #008000; text-decoration-color: #008000\">'task_id'</span>: <span style=\"color: #008000; text-decoration-color: #008000\">'mp-725947'</span>,\n",
       "        <span style=\"color: #008000; text-decoration-color: #008000\">'calc_id'</span>: <span style=\"color: #008080; text-decoration-color: #008080; font-weight: bold\">0</span>,\n",
       "        <span style=\"color: #008000; text-decoration-color: #008000\">'ionic_step'</span>: <span style=\"color: #008080; text-decoration-color: #008080; font-weight: bold\">0</span>\n",
       "    <span style=\"font-weight: bold\">}</span>\n",
       "<span style=\"font-weight: bold\">}</span>\n",
       "</pre>\n"
      ],
      "text/plain": [
       "\u001b[1m{\u001b[0m\n",
       "    \u001b[32m'numbers'\u001b[0m: array\u001b[1m[\u001b[0m\u001b[1;36m20\u001b[0m\u001b[1m]\u001b[0m i64 x∈\u001b[1m[\u001b[0m\u001b[1;36m8\u001b[0m, \u001b[1;36m50\u001b[0m\u001b[1m]\u001b[0m \u001b[33mμ\u001b[0m=\u001b[1;36m19\u001b[0m\u001b[1;36m.600\u001b[0m \u001b[33mσ\u001b[0m=\u001b[1;36m15\u001b[0m\u001b[1;36m.628\u001b[0m,\n",
       "    \u001b[32m'positions'\u001b[0m: array\u001b[1m[\u001b[0m\u001b[1;36m20\u001b[0m, \u001b[1;36m3\u001b[0m\u001b[1m]\u001b[0m \u001b[33mn\u001b[0m=\u001b[1;36m60\u001b[0m x∈\u001b[1m[\u001b[0m\u001b[1;36m0.031\u001b[0m, \u001b[1;36m10.047\u001b[0m\u001b[1m]\u001b[0m \u001b[33mμ\u001b[0m=\u001b[1;36m3\u001b[0m\u001b[1;36m.993\u001b[0m \u001b[33mσ\u001b[0m=\u001b[1;36m2\u001b[0m\u001b[1;36m.585\u001b[0m,\n",
       "    \u001b[32m'forces'\u001b[0m: array\u001b[1m[\u001b[0m\u001b[1;36m20\u001b[0m, \u001b[1;36m3\u001b[0m\u001b[1m]\u001b[0m \u001b[33mn\u001b[0m=\u001b[1;36m60\u001b[0m x∈\u001b[1m[\u001b[0m\u001b[1;36m-0.138\u001b[0m, \u001b[1;36m0.138\u001b[0m\u001b[1m]\u001b[0m \u001b[33mμ\u001b[0m=\u001b[1;36m-5.782e-19\u001b[0m \u001b[33mσ\u001b[0m=\u001b[1;36m0\u001b[0m\u001b[1;36m.050\u001b[0m,\n",
       "    \u001b[32m'magmoms'\u001b[0m: array\u001b[1m[\u001b[0m\u001b[1;36m20\u001b[0m\u001b[1m]\u001b[0m \u001b[38;2;127;127;127mall_zeros\u001b[0m,\n",
       "    \u001b[32m'cell'\u001b[0m: array\u001b[1m[\u001b[0m\u001b[1;36m3\u001b[0m, \u001b[1;36m3\u001b[0m\u001b[1m]\u001b[0m \u001b[33mn\u001b[0m=\u001b[1;36m9\u001b[0m x∈\u001b[1m[\u001b[0m\u001b[1;36m0\u001b[0m., \u001b[1;36m10.302\u001b[0m\u001b[1m]\u001b[0m \u001b[33mμ\u001b[0m=\u001b[1;36m2\u001b[0m\u001b[1;36m.662\u001b[0m \u001b[33mσ\u001b[0m=\u001b[1;36m3\u001b[0m\u001b[1;36m.922\u001b[0m \u001b[1m[\u001b[0m\u001b[1m[\u001b[0m\u001b[1;36m5.636\u001b[0m, \u001b[1;36m0\u001b[0m., \u001b[1;36m0\u001b[0m.\u001b[1m]\u001b[0m, \u001b[1m[\u001b[0m\u001b[1;36m0\u001b[0m., \u001b[1;36m8.023\u001b[0m, \u001b[1;36m0\u001b[0m.\u001b[1m]\u001b[0m, \u001b[1m[\u001b[0m\u001b[1;36m0\u001b[0m., \u001b[1;36m0\u001b[0m., \u001b[1;36m10.302\u001b[0m\u001b[1m]\u001b[0m\u001b[1m]\u001b[0m,\n",
       "    \u001b[32m'pbc'\u001b[0m: array\u001b[1m[\u001b[0m\u001b[1;36m3\u001b[0m\u001b[1m]\u001b[0m bool x∈\u001b[1m[\u001b[0m\u001b[3;92mTrue\u001b[0m, \u001b[3;92mTrue\u001b[0m\u001b[1m]\u001b[0m \u001b[33mμ\u001b[0m=\u001b[1;36m1\u001b[0m\u001b[1;36m.000\u001b[0m \u001b[33mσ\u001b[0m=\u001b[1;36m0\u001b[0m. \u001b[1m[\u001b[0m\u001b[3;92mTrue\u001b[0m, \u001b[3;92mTrue\u001b[0m, \u001b[3;92mTrue\u001b[0m\u001b[1m]\u001b[0m,\n",
       "    \u001b[32m'info'\u001b[0m: \u001b[1m{\u001b[0m\n",
       "        \u001b[32m'energy'\u001b[0m: \u001b[1;36m-110.8780801\u001b[0m,\n",
       "        \u001b[32m'stress'\u001b[0m: array\u001b[1m[\u001b[0m\u001b[1;36m3\u001b[0m, \u001b[1;36m3\u001b[0m\u001b[1m]\u001b[0m \u001b[33mn\u001b[0m=\u001b[1;36m9\u001b[0m x∈\u001b[1m[\u001b[0m\u001b[1;36m-0.001\u001b[0m, \u001b[1;36m0.000\u001b[0m\u001b[1m]\u001b[0m \u001b[33mμ\u001b[0m=\u001b[1;36m-7.495e-05\u001b[0m \u001b[33mσ\u001b[0m=\u001b[1;36m0\u001b[0m\u001b[1;36m.000\u001b[0m \u001b[1m[\u001b[0m\u001b[1m[\u001b[0m\u001b[1;36m0.000\u001b[0m, \u001b[1;36m0\u001b[0m., \u001b[1;36m0\u001b[0m.\u001b[1m]\u001b[0m, \u001b[1m[\u001b[0m\u001b[1;36m0\u001b[0m., \u001b[1;36m-0.000\u001b[0m, \u001b[1;36m0\u001b[0m.\u001b[1m]\u001b[0m, \u001b[1m[\u001b[0m\u001b[1;36m0\u001b[0m., \n",
       "\u001b[1;36m0\u001b[0m., \u001b[1;36m-0.001\u001b[0m\u001b[1m]\u001b[0m\u001b[1m]\u001b[0m,\n",
       "        \u001b[32m'bandgap'\u001b[0m: \u001b[1;36m2.6418999999999997\u001b[0m,\n",
       "        \u001b[32m'e_per_atom_relaxed'\u001b[0m: \u001b[1;36m-5.9435017155\u001b[0m,\n",
       "        \u001b[32m'mp_id'\u001b[0m: \u001b[32m'mp-725947'\u001b[0m,\n",
       "        \u001b[32m'energy_per_atom'\u001b[0m: \u001b[1;36m-5.941504005\u001b[0m,\n",
       "        \u001b[32m'ef_per_atom_relaxed'\u001b[0m: \u001b[1;36m-5.9435017155\u001b[0m,\n",
       "        \u001b[32m'corrected_total_energy'\u001b[0m: \u001b[1;36m-118.8300801\u001b[0m,\n",
       "        \u001b[32m'ef_per_atom'\u001b[0m: \u001b[1;36m-1.711500402714286\u001b[0m,\n",
       "        \u001b[32m'task_id'\u001b[0m: \u001b[32m'mp-725947'\u001b[0m,\n",
       "        \u001b[32m'calc_id'\u001b[0m: \u001b[1;36m0\u001b[0m,\n",
       "        \u001b[32m'ionic_step'\u001b[0m: \u001b[1;36m0\u001b[0m\n",
       "    \u001b[1m}\u001b[0m\n",
       "\u001b[1m}\u001b[0m\n"
      ]
     },
     "metadata": {},
     "output_type": "display_data"
    }
   ],
   "source": [
    "from typing import cast\n",
    "import ase\n",
    "import rich\n",
    "\n",
    "atoms = cast(ase.Atoms, atoms_list[0])\n",
    "rich.print(atoms.todict())"
   ]
  },
  {
   "cell_type": "code",
   "execution_count": 56,
   "metadata": {},
   "outputs": [
    {
     "data": {
      "text/html": [
       "<pre style=\"white-space:pre;overflow-x:auto;line-height:normal;font-family:Menlo,'DejaVu Sans Mono',consolas,'Courier New',monospace\"><span style=\"color: #008080; text-decoration-color: #008080; font-weight: bold\">-1.711500402714286</span>\n",
       "</pre>\n"
      ],
      "text/plain": [
       "\u001b[1;36m-1.711500402714286\u001b[0m\n"
      ]
     },
     "metadata": {},
     "output_type": "display_data"
    },
    {
     "data": {
      "text/html": [
       "<pre style=\"white-space:pre;overflow-x:auto;line-height:normal;font-family:Menlo,'DejaVu Sans Mono',consolas,'Courier New',monospace\"><span style=\"font-weight: bold\">{</span><span style=\"color: #008000; text-decoration-color: #008000\">'energy'</span>: <span style=\"color: #008080; text-decoration-color: #008080; font-weight: bold\">-1.3109440050000003</span>, <span style=\"color: #008000; text-decoration-color: #008000\">'corrected_total_energy'</span>: <span style=\"color: #008080; text-decoration-color: #008080; font-weight: bold\">-1.7085440050000003</span><span style=\"font-weight: bold\">}</span>\n",
       "</pre>\n"
      ],
      "text/plain": [
       "\u001b[1m{\u001b[0m\u001b[32m'energy'\u001b[0m: \u001b[1;36m-1.3109440050000003\u001b[0m, \u001b[32m'corrected_total_energy'\u001b[0m: \u001b[1;36m-1.7085440050000003\u001b[0m\u001b[1m}\u001b[0m\n"
      ]
     },
     "metadata": {},
     "output_type": "display_data"
    }
   ],
   "source": [
    "from matbench_discovery.energy import get_e_form_per_atom\n",
    "from pymatgen.io.ase import AseAtomsAdaptor\n",
    "\n",
    "# Convert ase Atoms to pymatgen Structure\n",
    "structure = AseAtomsAdaptor.get_structure(atoms)\n",
    "rich.print(atoms.todict()[\"info\"][\"ef_per_atom\"])\n",
    "rich.print(\n",
    "    {\n",
    "        k: get_e_form_per_atom(\n",
    "            {\n",
    "                \"energy\": atoms.todict()[\"info\"][k],\n",
    "                \"composition\": structure.composition,\n",
    "            }\n",
    "        )\n",
    "        for k in [\"energy\", \"corrected_total_energy\"]\n",
    "    }\n",
    ")"
   ]
  }
 ],
 "metadata": {
  "kernelspec": {
   "display_name": "jmp-peft",
   "language": "python",
   "name": "python3"
  },
  "language_info": {
   "codemirror_mode": {
    "name": "ipython",
    "version": 3
   },
   "file_extension": ".py",
   "mimetype": "text/x-python",
   "name": "python",
   "nbconvert_exporter": "python",
   "pygments_lexer": "ipython3",
   "version": "3.11.6"
  }
 },
 "nbformat": 4,
 "nbformat_minor": 2
}
