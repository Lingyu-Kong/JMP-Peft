{
 "cells": [
  {
   "cell_type": "code",
   "execution_count": 5,
   "metadata": {},
   "outputs": [
    {
     "name": "stdout",
     "output_type": "stream",
     "text": [
      "[[-0.91559356  4.42640257 -0.38316962]\n",
      " [ 5.0699048   1.32753575 -2.42969084]\n",
      " [-1.11768103  3.44839883  4.15745735]\n",
      " [ 0.86092585  2.1631937   1.47511756]\n",
      " [ 3.305825    3.30098414 -0.48317614]\n",
      " [ 2.38047576  0.44415089 -0.82452267]\n",
      " [ 2.61758423  2.89459658 -3.52554584]\n",
      " [-4.72391653  5.79787636 -0.09908229]\n",
      " [ 4.77054405  1.21628368  0.40756866]\n",
      " [ 3.9768486   0.90067512  2.66448069]\n",
      " [ 0.02968658  4.90500736  2.166219  ]\n",
      " [ 0.82911426  2.60515499 -1.53553665]\n",
      " [-2.94854975  5.54240608 -2.08150339]\n",
      " [ 2.39447045  4.51521778  1.7342099 ]]\n",
      "Cell([[6.412071704864502, -0.0038352999836206436, -1.8478816747665405], [-4.85444974899292, 5.803574562072754, -4.606549263000488], [0.0056654298678040504, -0.001001829979941249, 7.560880661010742]])\n",
      "[[ 2.0362792   0.8575297   0.40736744 ...  2.9537816   1.23237169\n",
      "   0.9735955 ]\n",
      " [ 2.24784517  0.91578138  0.60349762 ...  2.03681254  1.64246643\n",
      "   1.12261438]\n",
      " [ 2.00162029  0.90266544  0.23938972 ...  1.99605453  1.28856623\n",
      "   1.58742213]\n",
      " ...\n",
      " [ 2.26298285  1.27150381  0.15431704 ...  2.23460674 -0.00388398\n",
      "  -0.39442343]\n",
      " [ 2.57005906  0.72600269 -0.29268953 ...  1.20471632  0.67165172\n",
      "   0.21539387]\n",
      " [ 1.85216498  0.38917699 -0.46101022 ...  1.05489182  0.5199337\n",
      "   0.2738547 ]]\n"
     ]
    }
   ],
   "source": [
    "from ase.io import read, write\n",
    "import numpy as np\n",
    "\n",
    "atoms = read(\"./jmp-s-MgSi-mptrj.xyz\", index=0)\n",
    "print(atoms.get_positions())\n",
    "print(atoms.get_cell())\n",
    "print(atoms.info[\"node_features\"])\n"
   ]
  },
  {
   "cell_type": "code",
   "execution_count": 16,
   "metadata": {},
   "outputs": [
    {
     "name": "stderr",
     "output_type": "stream",
     "text": [
      "/tmp/ipykernel_4164252/3927738579.py:41: DeprecationWarning: Please use atoms.calc = calc\n",
      "  processed_atoms.set_calculator(calculator)\n"
     ]
    },
    {
     "name": "stdout",
     "output_type": "stream",
     "text": [
      "Length of atoms_list:  1593\n",
      "Average volume: 14396.887578476166A^3\n",
      "Average num_atoms:  192.0\n"
     ]
    }
   ],
   "source": [
    "from ase.io import read, write\n",
    "from ase import Atoms\n",
    "import numpy as np\n",
    "from ase.calculators.calculator import Calculator\n",
    "from ase.stress import full_3x3_to_voigt_6_stress\n",
    "\n",
    "class FakeCalculator(Calculator):\n",
    "    implemented_properties = [\"energy\", \"free_energy\", \"forces\", \"stress\"]\n",
    "    def __init__(self, energy: float, forces: np.ndarray, stress: np.ndarray):\n",
    "        super().__init__()\n",
    "        self.energy = energy\n",
    "        self.forces = forces\n",
    "        self.stress = stress\n",
    "    \n",
    "    def calculate(\n",
    "        self, atoms=None, properties=None, system_changes=None\n",
    "    ):\n",
    "        all_changes = ['positions', 'numbers', 'cell', 'pbc',\n",
    "               'initial_charges', 'initial_magmoms']\n",
    "\n",
    "        properties = properties or [\"energy\"]\n",
    "        system_changes = system_changes or all_changes\n",
    "        super().calculate(atoms=atoms, properties=properties, system_changes=system_changes)\n",
    "        self.results.update({\n",
    "            \"energy\": self.energy, \n",
    "            \"free_energy\": self.energy,\n",
    "            \"forces\": self.forces, \n",
    "            \"stress\": full_3x3_to_voigt_6_stress(self.stress)\n",
    "        })\n",
    "\n",
    "atoms_list = read(\"./temp_data/water.xyz\", index=\":\")\n",
    "volume_list = []\n",
    "num_atoms_list = []\n",
    "processed_atoms_list = []\n",
    "for atoms in atoms_list:\n",
    "    energy = atoms.info[\"TotEnergy\"]\n",
    "    forces = atoms.arrays[\"force\"]\n",
    "    stress = np.zeros((3, 3))\n",
    "    calculator = FakeCalculator(energy, forces, stress)\n",
    "    processed_atoms = Atoms(symbols=atoms.get_chemical_symbols(), positions=atoms.get_positions(), cell=atoms.get_cell(), pbc=atoms.pbc)\n",
    "    processed_atoms.set_calculator(calculator)\n",
    "    energy_ = processed_atoms.get_potential_energy()\n",
    "    forces_ = processed_atoms.get_forces()\n",
    "    stress_ = processed_atoms.get_stress(voigt=False)\n",
    "    assert np.allclose(energy, energy_)\n",
    "    assert np.allclose(forces, forces_)\n",
    "    assert np.allclose(stress, stress_)\n",
    "    processed_atoms_list.append(processed_atoms)\n",
    "    volume_list.append(processed_atoms.get_volume())\n",
    "    num_atoms_list.append(len(processed_atoms))\n",
    "print(\"Length of atoms_list: \", len(atoms_list))\n",
    "print(\"Average volume: {}A^3\".format(np.mean(volume_list)))\n",
    "print(\"Average num_atoms: \", np.mean(num_atoms_list))\n",
    "write(\"./temp_data/water_processed.xyz\", processed_atoms_list)"
   ]
  },
  {
   "cell_type": "code",
   "execution_count": 3,
   "metadata": {},
   "outputs": [
    {
     "name": "stdout",
     "output_type": "stream",
     "text": [
      "Energy std:  0.5448013872538504\n",
      "Energy per atom std:  0.002837507225280458\n"
     ]
    }
   ],
   "source": [
    "from ase.io import read, write\n",
    "from ase import Atoms\n",
    "import numpy as np\n",
    "\n",
    "atoms_list = read(\"./temp_data/water_processed.xyz\", index=\":\")\n",
    "energy_list = [atoms.get_potential_energy() for atoms in atoms_list]\n",
    "energy_per_atom_list = [energy/len(atoms) for energy, atoms in zip(energy_list, atoms_list)]\n",
    "e_std = np.std(energy_list)\n",
    "print(\"Energy std: \", e_std)\n",
    "e_per_atom_std = np.std(energy_per_atom_list)\n",
    "print(\"Energy per atom std: \", e_per_atom_std)"
   ]
  },
  {
   "cell_type": "code",
   "execution_count": null,
   "metadata": {},
   "outputs": [],
   "source": []
  }
 ],
 "metadata": {
  "kernelspec": {
   "display_name": "jmp-peft",
   "language": "python",
   "name": "python3"
  },
  "language_info": {
   "codemirror_mode": {
    "name": "ipython",
    "version": 3
   },
   "file_extension": ".py",
   "mimetype": "text/x-python",
   "name": "python",
   "nbconvert_exporter": "python",
   "pygments_lexer": "ipython3",
   "version": "3.11.8"
  }
 },
 "nbformat": 4,
 "nbformat_minor": 2
}
