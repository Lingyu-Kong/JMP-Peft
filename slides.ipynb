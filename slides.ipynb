{
 "cells": [
  {
   "cell_type": "markdown",
   "metadata": {
    "vscode": {
     "languageId": "raw"
    }
   },
   "source": [
    "---\n",
    "title: \"JMP - MatBench Discovery\"\n",
    "format:\n",
    "    revealjs:\n",
    "        incremental: true\n",
    "jupyter: python3\n",
    "---"
   ]
  },
  {
   "cell_type": "markdown",
   "metadata": {
    "vscode": {
     "languageId": "raw"
    }
   },
   "source": [
    "## MatBench Discovery\n",
    "\n",
    "- **Goal**: Fine-tuning JMP for evaluation on MatBench Discovery's WBM dataset.\n",
    "- **Training Dataset**: MP Trajectory dataset: 1.6M data points (single-point DFT calculations)\n",
    "- **Evaluation Dataset**: WBM dataset: 250k initial structures (i.e., 250k relaxations need to be performed)\n",
    "\n",
    "## First Set of Experiments: JMP-S\n",
    "\n",
    "- **Model**: JMP-S (~30M parameters)\n",
    "- **Training**: ~100 epochs on MP Trajectory dataset\n",
    "- Original results on our own infrastructure.\n",
    "- We reached out to FAIR and have been able to start a collaboration with them; they run the experiments on their infrastructure.\n",
    "\n",
    "## Hyperparameters Experimented With\n",
    "\n",
    "::: {.nonincremental}\n",
    "\n",
    "- **S2E** energy prediction vs. **S2RE** energy prediction\n",
    "- **Loss coefficients (energy, force, stress)**:\n",
    "    - $(1, 10, 100)$\n",
    "    - $(2, 10, 100)$\n",
    "    - $(20, 20, 10)$\n",
    "    - $(100, 100, 1)$\n",
    "    - $(1, 100, 1)$\n",
    "    - $(100, 1, 1)$\n",
    "\n",
    ":::\n",
    "\n",
    "## Hyperparameters Experimented With (cont'd)\n",
    "\n",
    "::: {.nonincremental}\n",
    "\n",
    "- **Weight Decay**:\n",
    "    - $10^{-2}$\n",
    "    - $10^{-1}$\n",
    "- **Position Noise Augmentation**:\n",
    "    - $\\sigma = 0$ (i.e., no noise)\n",
    "    - $\\sigma = 0.01$\n",
    "\n",
    ":::\n",
    "\n",
    "## Results (So Far)\n",
    "\n",
    "- JMP-S, S2RE, $(1, 10, 100)$, $10^{-2}$, $\\sigma = 0.01$ evaluated on 1k\n",
    "- JMP-S, S2RE, $(20, 20, 100)$, $10^{-2}$, $\\sigma = None$ evaluated on 1k and 16k\n",
    "\n",
    "## Future Steps\n",
    "\n",
    "- Perform relaxations on the trained checkpoints from FAIR.\n",
    "- Pick the best hyperparameter choices.\n",
    "- Kick off a large JMP-L training run."
   ]
  }
 ],
 "metadata": {
  "kernelspec": {
   "display_name": "jmp-peft",
   "language": "python",
   "name": "python3"
  },
  "language_info": {
   "codemirror_mode": {
    "name": "ipython",
    "version": 3
   },
   "file_extension": ".py",
   "mimetype": "text/x-python",
   "name": "python",
   "nbconvert_exporter": "python",
   "pygments_lexer": "ipython3",
   "version": "3.11.6"
  }
 },
 "nbformat": 4,
 "nbformat_minor": 2
}
