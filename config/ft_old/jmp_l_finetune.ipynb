{
 "cells": [
  {
   "cell_type": "code",
   "execution_count": 1,
   "metadata": {},
   "outputs": [
    {
     "name": "stderr",
     "output_type": "stream",
     "text": [
      "\u001b[34m\u001b[1mwandb\u001b[0m: \u001b[33mWARNING\u001b[0m W&B installed but not logged in.  Run `wandb login` or set the WANDB_API_KEY env variable.\n"
     ]
    },
    {
     "name": "stdout",
     "output_type": "stream",
     "text": [
      "id='nd23ue3a' name=None project=None tags=[] notes=[] debug=False environment=EnvironmentConfig(cwd=None, python_executable=None, python_path=None, python_version=None, config=None, model=None, data=None, slurm=None, log_dir=None, seed=None, seed_workers=None, sweep_id=None, sweep_config=None) trainer=TrainerConfig(python_logging=PythonLogging(log_level=None, rich=True, rich_tracebacks=True, lovely_tensors=True, lovely_numpy=False), logging=LoggingConfig(enabled=True, log_lr=True, log_epoch=True, wandb=WandbLoggingConfig(enabled=True, log_model=False, watch=WandbWatchConfig(enabled=True, log=None, log_graph=True, log_freq=100)), csv=CSVLoggingConfig(enabled=True), tensorboard=TensorboardLoggingConfig(enabled=False)), optimizer=OptimizerConfig(grad_finite_checks=False, grad_none_checks=False, log_grad_norm=True, log_grad_norm_per_param=False, log_param_norm=False, log_param_norm_per_param=False, gradient_clipping=GradientClippingConfig(enabled=True, value=1.0, algorithm='value'), gradient_skipping=None), seed=0, seed_workers=False, default_ckpt_path=None, auto_wrap_trainer=True, auto_set_default_root_dir=True, auto_set_loggers=True, checkpoint_last_by_default=True, on_exception_checkpoint=True, auto_add_trainer_finalizer=True, enable_logger_validation=True, supports_skip_batch_exception=False, supports_shared_parameters=True, supports_parameter_hooks=False, log_batch_info_on_error=False, reduce_lr_on_plateau_sanity_checks='error', additional_trainer_kwargs={}, additional_env_vars={}, set_nccl_optimal_params=False, set_float32_matmul_precision='medium', accelerator='auto', strategy='auto', devices='auto', num_nodes='auto', precision='16-mixed', logger=None, fast_dev_run=False, max_epochs=100000, min_epochs=None, max_steps=-1, min_steps=None, max_time='07:00:00:00', limit_train_batches=None, limit_val_batches=None, limit_test_batches=None, limit_predict_batches=None, overfit_batches=0.0, val_check_interval=None, check_val_every_n_epoch=1, num_sanity_val_steps=None, log_every_n_steps=50, enable_checkpointing=None, enable_progress_bar=None, enable_model_summary=None, accumulate_grad_batches=1, deterministic=None, benchmark=None, inference_mode=False, use_distributed_sampler=True, profiler=None, detect_anomaly=False, barebones=False, plugins=None, sync_batchnorm=False, reload_dataloaders_every_n_epochs=0, default_root_dir=None) runner=RunnerConfig(auto_call_trainer_init_from_runner=True, save_output=None) meta={'ckpt_path': PosixPath('/mnt/shared/checkpoints/fm_gnoc_large_2_epoch.ckpt'), 'ema_backbone': True} train_dataset=FinetuneLmdbDatasetConfig(sample_n=None, atom_ref=None, src=PosixPath('/mnt/shared/datasets/rmd17/lmdb/aspirin/train'), metadata_path=PosixPath('/mnt/shared/datasets/rmd17/lmdb/aspirin/train/metadata.npz'), name='lmdb') val_dataset=FinetuneLmdbDatasetConfig(sample_n=None, atom_ref=None, src=PosixPath('/mnt/shared/datasets/rmd17/lmdb/aspirin/val'), metadata_path=PosixPath('/mnt/shared/datasets/rmd17/lmdb/aspirin/val/metadata.npz'), name='lmdb') test_dataset=FinetuneLmdbDatasetConfig(sample_n=None, atom_ref=None, src=PosixPath('/mnt/shared/datasets/rmd17/lmdb/aspirin/test'), metadata_path=PosixPath('/mnt/shared/datasets/rmd17/lmdb/aspirin/test/metadata.npz'), name='lmdb') optimizer=AdamWConfig(name='adamw', lr=5e-06, weight_decay=0.1, betas=(0.9, 0.95), eps=1e-08, amsgrad=False) lr_scheduler=WarmupCosRLPConfig(name='warmup_cos_rlp', warmup_steps=None, warmup_epochs=5, max_steps=None, max_epochs=32, warmup_start_lr_factor=0.1, min_lr_factor=0.1, last_step=-1, should_restart=False, rlp=RLPConfig(name='rlp', monitor=None, mode=None, patience=25, factor=0.8, min_lr=0.0, eps=1e-08, cooldown=0, threshold=0.0001, threshold_mode='rel', interval='epoch', frequency=1, warmup=None)) activation='scaled_silu' embedding=EmbeddingConfig(num_elements=120, embedding_size=256) backbone=BackboneConfig(num_targets=1, num_spherical=7, num_radial=128, num_blocks=6, emb_size_atom=256, emb_size_edge=1024, emb_size_trip_in=64, emb_size_trip_out=128, emb_size_quad_in=64, emb_size_quad_out=32, emb_size_aint_in=64, emb_size_aint_out=64, emb_size_rbf=32, emb_size_cbf=16, emb_size_sbf=64, num_before_skip=2, num_after_skip=2, num_concat=4, num_atom=3, num_output_afteratom=3, num_atom_emb_layers=2, num_global_out_layers=2, regress_forces=False, regress_energy=True, direct_forces=False, use_pbc=True, scale_backprop_forces=False, rbf={'name': 'gaussian'}, rbf_spherical=None, envelope={'name': 'polynomial', 'exponent': 5}, cbf={'name': 'spherical_harmonics'}, sbf={'name': 'legendre_outer'}, extensive=True, forces_coupled=False, activation='scaled_silu', quad_interaction=True, atom_edge_interaction=True, edge_atom_interaction=True, atom_interaction=True, scale_basis=False, qint_tags=[1, 2], num_elements=120, otf_graph=False, scale_file=None, absolute_rbf_cutoff=12.0, learnable_rbf=False, learnable_rbf_stds=False, unique_basis_per_layer=False, dropout=None, edge_dropout=None) output=OutputConfig(num_mlps=5, output_init='HeOrthogonal') batch_size=4 eval_batch_size=None num_workers=8 pin_memory=True primary_metric=PrimaryMetricConfig(name='force_mae', mode='min') early_stopping=EarlyStoppingConfig(monitor=None, mode=None, patience=1000, min_delta=1e-08, min_lr=1e-10, strict=True) ckpt_best=CheckpointBestConfig(monitor=None, mode=None) test=None graph_scalar_targets=['y'] graph_classification_targets=[] node_vector_targets=['force'] graph_scalar_loss_coefficient_default=1.0 graph_classification_loss_coefficient_default=1.0 node_vector_loss_coefficient_default=1.0 graph_scalar_loss_coefficients={'y': 0.0} graph_classification_loss_coefficients={} node_vector_loss_coefficients={'force': 10.0} graph_scalar_reduction_default='sum' graph_classification_reduction_default='sum' node_vector_reduction_default='sum' graph_scalar_reduction={} graph_classification_reduction={} node_vector_reduction={} normalization={'y': NormalizationConfig(mean=-17617.379355234374, std=0.2673998440577667), 'force': NormalizationConfig(mean=0.0, std=1.2733363)} parameter_specific_optimizers=[ParamSpecificOptimizerConfig(name=None, paremeter_patterns=['embedding.*'], optimizer=AdamWConfig(name='adamw', lr=1.5e-06, weight_decay=0.1, betas=(0.9, 0.95), eps=1e-08, amsgrad=False), lr_scheduler=WarmupCosRLPConfig(name='warmup_cos_rlp', warmup_steps=None, warmup_epochs=5, max_steps=None, max_epochs=32, warmup_start_lr_factor=0.1, min_lr_factor=0.33333333333333337, last_step=-1, should_restart=False, rlp=RLPConfig(name='rlp', monitor=None, mode=None, patience=3, factor=0.8, min_lr=0.0, eps=1e-08, cooldown=0, threshold=0.0001, threshold_mode='rel', interval='epoch', frequency=1, warmup=None))), ParamSpecificOptimizerConfig(name=None, paremeter_patterns=['backbone.int_blocks.0.*', 'backbone.out_blocks.1.*', 'backbone.out_blocks.0.*'], optimizer=AdamWConfig(name='adamw', lr=2.7500000000000004e-06, weight_decay=0.1, betas=(0.9, 0.95), eps=1e-08, amsgrad=False), lr_scheduler=WarmupCosRLPConfig(name='warmup_cos_rlp', warmup_steps=None, warmup_epochs=5, max_steps=None, max_epochs=32, warmup_start_lr_factor=0.1, min_lr_factor=0.18181818181818182, last_step=-1, should_restart=False, rlp=RLPConfig(name='rlp', monitor=None, mode=None, patience=3, factor=0.8, min_lr=0.0, eps=1e-08, cooldown=0, threshold=0.0001, threshold_mode='rel', interval='epoch', frequency=1, warmup=None))), ParamSpecificOptimizerConfig(name=None, paremeter_patterns=['backbone.int_blocks.1.*', 'backbone.out_blocks.2.*'], optimizer=AdamWConfig(name='adamw', lr=2.0000000000000003e-06, weight_decay=0.1, betas=(0.9, 0.95), eps=1e-08, amsgrad=False), lr_scheduler=WarmupCosRLPConfig(name='warmup_cos_rlp', warmup_steps=None, warmup_epochs=5, max_steps=None, max_epochs=32, warmup_start_lr_factor=0.1, min_lr_factor=0.25, last_step=-1, should_restart=False, rlp=RLPConfig(name='rlp', monitor=None, mode=None, patience=3, factor=0.8, min_lr=0.0, eps=1e-08, cooldown=0, threshold=0.0001, threshold_mode='rel', interval='epoch', frequency=1, warmup=None))), ParamSpecificOptimizerConfig(name=None, paremeter_patterns=['backbone.int_blocks.2.*', 'backbone.out_blocks.3.*'], optimizer=AdamWConfig(name='adamw', lr=1.5e-06, weight_decay=0.1, betas=(0.9, 0.95), eps=1e-08, amsgrad=False), lr_scheduler=WarmupCosRLPConfig(name='warmup_cos_rlp', warmup_steps=None, warmup_epochs=5, max_steps=None, max_epochs=32, warmup_start_lr_factor=0.1, min_lr_factor=0.33333333333333337, last_step=-1, should_restart=False, rlp=RLPConfig(name='rlp', monitor=None, mode=None, patience=3, factor=0.8, min_lr=0.0, eps=1e-08, cooldown=0, threshold=0.0001, threshold_mode='rel', interval='epoch', frequency=1, warmup=None))), ParamSpecificOptimizerConfig(name=None, paremeter_patterns=['backbone.int_blocks.3.*', 'backbone.out_blocks.4.*'], optimizer=AdamWConfig(name='adamw', lr=2.0000000000000003e-06, weight_decay=0.1, betas=(0.9, 0.95), eps=1e-08, amsgrad=False), lr_scheduler=WarmupCosRLPConfig(name='warmup_cos_rlp', warmup_steps=None, warmup_epochs=5, max_steps=None, max_epochs=32, warmup_start_lr_factor=0.1, min_lr_factor=0.25, last_step=-1, should_restart=False, rlp=RLPConfig(name='rlp', monitor=None, mode=None, patience=3, factor=0.8, min_lr=0.0, eps=1e-08, cooldown=0, threshold=0.0001, threshold_mode='rel', interval='epoch', frequency=1, warmup=None))), ParamSpecificOptimizerConfig(name=None, paremeter_patterns=['backbone.int_blocks.4.*', 'backbone.out_blocks.5.*'], optimizer=AdamWConfig(name='adamw', lr=2.7500000000000004e-06, weight_decay=0.1, betas=(0.9, 0.95), eps=1e-08, amsgrad=False), lr_scheduler=WarmupCosRLPConfig(name='warmup_cos_rlp', warmup_steps=None, warmup_epochs=5, max_steps=None, max_epochs=32, warmup_start_lr_factor=0.1, min_lr_factor=0.18181818181818182, last_step=-1, should_restart=False, rlp=RLPConfig(name='rlp', monitor=None, mode=None, patience=3, factor=0.8, min_lr=0.0, eps=1e-08, cooldown=0, threshold=0.0001, threshold_mode='rel', interval='epoch', frequency=1, warmup=None))), ParamSpecificOptimizerConfig(name=None, paremeter_patterns=['backbone.int_blocks.5.*', 'backbone.out_blocks.6.*'], optimizer=AdamWConfig(name='adamw', lr=3.125e-06, weight_decay=0.1, betas=(0.9, 0.95), eps=1e-08, amsgrad=False), lr_scheduler=WarmupCosRLPConfig(name='warmup_cos_rlp', warmup_steps=None, warmup_epochs=5, max_steps=None, max_epochs=32, warmup_start_lr_factor=0.1, min_lr_factor=0.16, last_step=-1, should_restart=False, rlp=RLPConfig(name='rlp', monitor=None, mode=None, patience=3, factor=0.8, min_lr=0.0, eps=1e-08, cooldown=0, threshold=0.0001, threshold_mode='rel', interval='epoch', frequency=1, warmup=None)))] use_balanced_batch_sampler=False freeze=FreezeConfig(backbone=False, embedding=False, backbone_bases=False, backbone_interaction_layers=None, backbone_output_layers=None, parameter_patterns=[]) ckpt_load=CheckpointLoadConfig(ignored_key_patterns=[], ignored_missing_keys=[], ignored_unexpected_keys=[], reset_embeddings=False) shuffle_val=False shuffle_test=False metrics=MetricsConfig(check_conflicting_structures=None, report_rmse=False) ema=None gradient_forces=True model_type='forces' pretrain_output_head=PretrainOutputHeadConfig(enabled=False, num_pretrain_heads=4, energy_reduction='sum', direct_forces=False, gradient_forces=False, combine_strategy='mean') molecule='aspirin' cutoff=7.0 max_neighbors=100\n"
     ]
    },
    {
     "name": "stderr",
     "output_type": "stream",
     "text": [
      "/workspaces/repositories/fm/src/ll/model/config.py:709: IdSeedWarning: BaseConfig._rng is None. The generated IDs will not be reproducible. To fix this, call BaseConfig.set_seed(...) before generating any IDs.\n",
      "  warnings.warn(\n"
     ]
    }
   ],
   "source": [
    "from pathlib import Path\n",
    "\n",
    "from jmppeft.configs.finetune.rmd17 import jmp_l_rmd17_config\n",
    "from jmppeft.tasks.finetune.base import FinetuneConfigBase, FinetuneModelBase\n",
    "\n",
    "ckpt_path = Path(\"/mnt/shared/checkpoints/fm_gnoc_large_2_epoch.ckpt\")\n",
    "base_path = Path(\"/mnt/shared/datasets/rmd17/\")\n",
    "\n",
    "config, model_cls = jmp_l_rmd17_config(\"aspirin\", base_path, ckpt_path)\n",
    "print(config)\n",
    "\n",
    "configs: list[tuple[FinetuneConfigBase, type[FinetuneModelBase]]] = []\n",
    "configs.append((config, model_cls))\n"
   ]
  },
  {
   "cell_type": "code",
   "execution_count": 2,
   "metadata": {},
   "outputs": [
    {
     "data": {
      "application/vnd.jupyter.widget-view+json": {
       "model_id": "0457260eb6b54200baee802b643c7bd3",
       "version_major": 2,
       "version_minor": 0
      },
      "text/plain": [
       "Fast dev run:   0%|          | 0/1 [00:00<?, ?it/s]"
      ]
     },
     "metadata": {},
     "output_type": "display_data"
    },
    {
     "data": {
      "text/html": [
       "<pre style=\"white-space:pre;overflow-x:auto;line-height:normal;font-family:Menlo,'DejaVu Sans Mono',consolas,'Courier New',monospace\"><span style=\"color: #7fbfbf; text-decoration-color: #7fbfbf\">[22:36:07] </span><span style=\"background-color: #800000; font-weight: bold\">CRITICAL</span> Setting                                                                          <a href=\"file:///workspaces/repositories/fm/src/ll/trainer/trainer.py\" target=\"_blank\"><span style=\"color: #7f7f7f; text-decoration-color: #7f7f7f\">trainer.py</span></a><span style=\"color: #7f7f7f; text-decoration-color: #7f7f7f\">:</span><a href=\"file:///workspaces/repositories/fm/src/ll/trainer/trainer.py#159\" target=\"_blank\"><span style=\"color: #7f7f7f; text-decoration-color: #7f7f7f\">159</span></a>\n",
       "<span style=\"color: #7fbfbf; text-decoration-color: #7fbfbf\">           </span>         config.trainer.<span style=\"color: #808000; text-decoration-color: #808000\">default_root_dir</span>=<span style=\"color: #008000; text-decoration-color: #008000\">'/workspaces/repositories/jmp-peft/config/pretra</span> <span style=\"color: #7f7f7f; text-decoration-color: #7f7f7f\">              </span>\n",
       "<span style=\"color: #7fbfbf; text-decoration-color: #7fbfbf\">           </span>         <span style=\"color: #008000; text-decoration-color: #008000\">in/lightning_logs/23abt9n2'</span>.                                                     <span style=\"color: #7f7f7f; text-decoration-color: #7f7f7f\">              </span>\n",
       "</pre>\n"
      ],
      "text/plain": [
       "\u001b[2;36m[22:36:07]\u001b[0m\u001b[2;36m \u001b[0m\u001b[1;7;31mCRITICAL\u001b[0m Setting                                                                          \u001b]8;id=412185;file:///workspaces/repositories/fm/src/ll/trainer/trainer.py\u001b\\\u001b[2mtrainer.py\u001b[0m\u001b]8;;\u001b\\\u001b[2m:\u001b[0m\u001b]8;id=561916;file:///workspaces/repositories/fm/src/ll/trainer/trainer.py#159\u001b\\\u001b[2m159\u001b[0m\u001b]8;;\u001b\\\n",
       "\u001b[2;36m           \u001b[0m         config.trainer.\u001b[33mdefault_root_dir\u001b[0m=\u001b[32m'/workspaces/repositories/jmp-peft/config/pretra\u001b[0m \u001b[2m              \u001b[0m\n",
       "\u001b[2;36m           \u001b[0m         \u001b[32min/lightning_logs/23abt9n2'\u001b[0m.                                                     \u001b[2m              \u001b[0m\n"
      ]
     },
     "metadata": {},
     "output_type": "display_data"
    },
    {
     "name": "stderr",
     "output_type": "stream",
     "text": [
      "Seed set to 0\n"
     ]
    },
    {
     "data": {
      "text/html": [
       "<pre style=\"white-space:pre;overflow-x:auto;line-height:normal;font-family:Menlo,'DejaVu Sans Mono',consolas,'Courier New',monospace\"><span style=\"color: #7fbfbf; text-decoration-color: #7fbfbf\">           </span><span style=\"background-color: #800000; font-weight: bold\">CRITICAL</span> Set global seed to <span style=\"color: #008080; text-decoration-color: #008080; font-weight: bold\">0</span>.                                                                <a href=\"file:///workspaces/repositories/fm/src/ll/util/seed.py\" target=\"_blank\"><span style=\"color: #7f7f7f; text-decoration-color: #7f7f7f\">seed.py</span></a><span style=\"color: #7f7f7f; text-decoration-color: #7f7f7f\">:</span><a href=\"file:///workspaces/repositories/fm/src/ll/util/seed.py#11\" target=\"_blank\"><span style=\"color: #7f7f7f; text-decoration-color: #7f7f7f\">11</span></a>\n",
       "</pre>\n"
      ],
      "text/plain": [
       "\u001b[2;36m          \u001b[0m\u001b[2;36m \u001b[0m\u001b[1;7;31mCRITICAL\u001b[0m Set global seed to \u001b[1;36m0\u001b[0m.                                                                \u001b]8;id=271493;file:///workspaces/repositories/fm/src/ll/util/seed.py\u001b\\\u001b[2mseed.py\u001b[0m\u001b]8;;\u001b\\\u001b[2m:\u001b[0m\u001b]8;id=536110;file:///workspaces/repositories/fm/src/ll/util/seed.py#11\u001b\\\u001b[2m11\u001b[0m\u001b]8;;\u001b\\\n"
      ]
     },
     "metadata": {},
     "output_type": "display_data"
    },
    {
     "data": {
      "text/html": [
       "<pre style=\"white-space:pre;overflow-x:auto;line-height:normal;font-family:Menlo,'DejaVu Sans Mono',consolas,'Courier New',monospace\"><span style=\"color: #7fbfbf; text-decoration-color: #7fbfbf\">           </span><span style=\"background-color: #800000; font-weight: bold\">CRITICAL</span> Auto-wrapping run in Trainer context                                              <a href=\"file:///workspaces/repositories/fm/src/ll/runner.py\" target=\"_blank\"><span style=\"color: #7f7f7f; text-decoration-color: #7f7f7f\">runner.py</span></a><span style=\"color: #7f7f7f; text-decoration-color: #7f7f7f\">:</span><a href=\"file:///workspaces/repositories/fm/src/ll/runner.py#111\" target=\"_blank\"><span style=\"color: #7f7f7f; text-decoration-color: #7f7f7f\">111</span></a>\n",
       "</pre>\n"
      ],
      "text/plain": [
       "\u001b[2;36m          \u001b[0m\u001b[2;36m \u001b[0m\u001b[1;7;31mCRITICAL\u001b[0m Auto-wrapping run in Trainer context                                              \u001b]8;id=499748;file:///workspaces/repositories/fm/src/ll/runner.py\u001b\\\u001b[2mrunner.py\u001b[0m\u001b]8;;\u001b\\\u001b[2m:\u001b[0m\u001b]8;id=375441;file:///workspaces/repositories/fm/src/ll/runner.py#111\u001b\\\u001b[2m111\u001b[0m\u001b]8;;\u001b\\\n"
      ]
     },
     "metadata": {},
     "output_type": "display_data"
    },
    {
     "data": {
      "text/html": [
       "<pre style=\"white-space:pre;overflow-x:auto;line-height:normal;font-family:Menlo,'DejaVu Sans Mono',consolas,'Courier New',monospace\"><span style=\"color: #7fbfbf; text-decoration-color: #7fbfbf\">           </span><span style=\"background-color: #800000; font-weight: bold\">CRITICAL</span> Using regular backbone                                                              <a href=\"file:///workspaces/repositories/jmp-peft/src/jmppeft/tasks/finetune/base.py\" target=\"_blank\"><span style=\"color: #7f7f7f; text-decoration-color: #7f7f7f\">base.py</span></a><span style=\"color: #7f7f7f; text-decoration-color: #7f7f7f\">:</span><a href=\"file:///workspaces/repositories/jmp-peft/src/jmppeft/tasks/finetune/base.py#755\" target=\"_blank\"><span style=\"color: #7f7f7f; text-decoration-color: #7f7f7f\">755</span></a>\n",
       "</pre>\n"
      ],
      "text/plain": [
       "\u001b[2;36m          \u001b[0m\u001b[2;36m \u001b[0m\u001b[1;7;31mCRITICAL\u001b[0m Using regular backbone                                                              \u001b]8;id=295528;file:///workspaces/repositories/jmp-peft/src/jmppeft/tasks/finetune/base.py\u001b\\\u001b[2mbase.py\u001b[0m\u001b]8;;\u001b\\\u001b[2m:\u001b[0m\u001b]8;id=146534;file:///workspaces/repositories/jmp-peft/src/jmppeft/tasks/finetune/base.py#755\u001b\\\u001b[2m755\u001b[0m\u001b]8;;\u001b\\\n"
      ]
     },
     "metadata": {},
     "output_type": "display_data"
    },
    {
     "name": "stdout",
     "output_type": "stream",
     "text": [
      "Unrecognized arguments:  dict_keys(['learnable_rbf', 'learnable_rbf_stds', 'unique_basis_per_layer', 'dropout', 'edge_dropout'])\n"
     ]
    },
    {
     "data": {
      "text/html": [
       "<pre style=\"white-space:pre;overflow-x:auto;line-height:normal;font-family:Menlo,'DejaVu Sans Mono',consolas,'Courier New',monospace\"><span style=\"color: #7fbfbf; text-decoration-color: #7fbfbf\">[22:36:13] </span><span style=\"background-color: #800000; font-weight: bold\">CRITICAL</span> Freezing <span style=\"color: #008080; text-decoration-color: #008080; font-weight: bold\">0</span> parameters <span style=\"font-weight: bold\">(</span><span style=\"color: #008080; text-decoration-color: #008080; font-weight: bold\">0.00</span>%<span style=\"font-weight: bold\">)</span> out of <span style=\"color: #008080; text-decoration-color: #008080; font-weight: bold\">160</span>,<span style=\"color: #008080; text-decoration-color: #008080; font-weight: bold\">874</span>,<span style=\"color: #008080; text-decoration-color: #008080; font-weight: bold\">752</span> total parameters <span style=\"font-weight: bold\">(</span><span style=\"color: #008080; text-decoration-color: #008080; font-weight: bold\">160</span>,<span style=\"color: #008080; text-decoration-color: #008080; font-weight: bold\">874</span>,<span style=\"color: #008080; text-decoration-color: #008080; font-weight: bold\">752</span>      <a href=\"file:///workspaces/repositories/jmp-peft/src/jmppeft/tasks/finetune/base.py\" target=\"_blank\"><span style=\"color: #7f7f7f; text-decoration-color: #7f7f7f\">base.py</span></a><span style=\"color: #7f7f7f; text-decoration-color: #7f7f7f\">:</span><a href=\"file:///workspaces/repositories/jmp-peft/src/jmppeft/tasks/finetune/base.py#948\" target=\"_blank\"><span style=\"color: #7f7f7f; text-decoration-color: #7f7f7f\">948</span></a>\n",
       "<span style=\"color: #7fbfbf; text-decoration-color: #7fbfbf\">           </span>         trainable<span style=\"font-weight: bold\">)</span>                                                                          <span style=\"color: #7f7f7f; text-decoration-color: #7f7f7f\">           </span>\n",
       "</pre>\n"
      ],
      "text/plain": [
       "\u001b[2;36m[22:36:13]\u001b[0m\u001b[2;36m \u001b[0m\u001b[1;7;31mCRITICAL\u001b[0m Freezing \u001b[1;36m0\u001b[0m parameters \u001b[1m(\u001b[0m\u001b[1;36m0.00\u001b[0m%\u001b[1m)\u001b[0m out of \u001b[1;36m160\u001b[0m,\u001b[1;36m874\u001b[0m,\u001b[1;36m752\u001b[0m total parameters \u001b[1m(\u001b[0m\u001b[1;36m160\u001b[0m,\u001b[1;36m874\u001b[0m,\u001b[1;36m752\u001b[0m      \u001b]8;id=849574;file:///workspaces/repositories/jmp-peft/src/jmppeft/tasks/finetune/base.py\u001b\\\u001b[2mbase.py\u001b[0m\u001b]8;;\u001b\\\u001b[2m:\u001b[0m\u001b]8;id=631140;file:///workspaces/repositories/jmp-peft/src/jmppeft/tasks/finetune/base.py#948\u001b\\\u001b[2m948\u001b[0m\u001b]8;;\u001b\\\n",
       "\u001b[2;36m           \u001b[0m         trainable\u001b[1m)\u001b[0m                                                                          \u001b[2m           \u001b[0m\n"
      ]
     },
     "metadata": {},
     "output_type": "display_data"
    },
    {
     "data": {
      "text/html": [
       "<pre style=\"white-space:pre;overflow-x:auto;line-height:normal;font-family:Menlo,'DejaVu Sans Mono',consolas,'Courier New',monospace\"><span style=\"color: #7fbfbf; text-decoration-color: #7fbfbf\">[22:36:14] </span><span style=\"background-color: #800000; font-weight: bold\">CRITICAL</span> Loaded <span style=\"color: #008080; text-decoration-color: #008080; font-weight: bold\">585</span> EMA parameters                                            <a href=\"file:///workspaces/repositories/jmp-peft/src/jmppeft/utils/finetune_state_dict.py\" target=\"_blank\"><span style=\"color: #7f7f7f; text-decoration-color: #7f7f7f\">finetune_state_dict.py</span></a><span style=\"color: #7f7f7f; text-decoration-color: #7f7f7f\">:</span><a href=\"file:///workspaces/repositories/jmp-peft/src/jmppeft/utils/finetune_state_dict.py#117\" target=\"_blank\"><span style=\"color: #7f7f7f; text-decoration-color: #7f7f7f\">117</span></a>\n",
       "</pre>\n"
      ],
      "text/plain": [
       "\u001b[2;36m[22:36:14]\u001b[0m\u001b[2;36m \u001b[0m\u001b[1;7;31mCRITICAL\u001b[0m Loaded \u001b[1;36m585\u001b[0m EMA parameters                                            \u001b]8;id=346236;file:///workspaces/repositories/jmp-peft/src/jmppeft/utils/finetune_state_dict.py\u001b\\\u001b[2mfinetune_state_dict.py\u001b[0m\u001b]8;;\u001b\\\u001b[2m:\u001b[0m\u001b]8;id=495077;file:///workspaces/repositories/jmp-peft/src/jmppeft/utils/finetune_state_dict.py#117\u001b\\\u001b[2m117\u001b[0m\u001b]8;;\u001b\\\n"
      ]
     },
     "metadata": {},
     "output_type": "display_data"
    },
    {
     "data": {
      "text/html": [
       "<pre style=\"white-space:pre;overflow-x:auto;line-height:normal;font-family:Menlo,'DejaVu Sans Mono',consolas,'Courier New',monospace\"><span style=\"color: #7fbfbf; text-decoration-color: #7fbfbf\">           </span><span style=\"background-color: #800000; font-weight: bold\">CRITICAL</span> Loaded state dict from                                                <a href=\"file:///workspaces/repositories/jmp-peft/src/jmppeft/utils/finetune_state_dict.py\" target=\"_blank\"><span style=\"color: #7f7f7f; text-decoration-color: #7f7f7f\">finetune_state_dict.py</span></a><span style=\"color: #7f7f7f; text-decoration-color: #7f7f7f\">:</span><a href=\"file:///workspaces/repositories/jmp-peft/src/jmppeft/utils/finetune_state_dict.py#74\" target=\"_blank\"><span style=\"color: #7f7f7f; text-decoration-color: #7f7f7f\">74</span></a>\n",
       "<span style=\"color: #7fbfbf; text-decoration-color: #7fbfbf\">           </span>         <span style=\"color: #800080; text-decoration-color: #800080\">/mnt/shared/checkpoints/</span><span style=\"color: #ff00ff; text-decoration-color: #ff00ff\">fm_gnoc_large_2_epoch.ckpt</span>                    <span style=\"color: #7f7f7f; text-decoration-color: #7f7f7f\">                         </span>\n",
       "</pre>\n"
      ],
      "text/plain": [
       "\u001b[2;36m          \u001b[0m\u001b[2;36m \u001b[0m\u001b[1;7;31mCRITICAL\u001b[0m Loaded state dict from                                                \u001b]8;id=640561;file:///workspaces/repositories/jmp-peft/src/jmppeft/utils/finetune_state_dict.py\u001b\\\u001b[2mfinetune_state_dict.py\u001b[0m\u001b]8;;\u001b\\\u001b[2m:\u001b[0m\u001b]8;id=671532;file:///workspaces/repositories/jmp-peft/src/jmppeft/utils/finetune_state_dict.py#74\u001b\\\u001b[2m74\u001b[0m\u001b]8;;\u001b\\\n",
       "\u001b[2;36m           \u001b[0m         \u001b[35m/mnt/shared/checkpoints/\u001b[0m\u001b[95mfm_gnoc_large_2_epoch.ckpt\u001b[0m                    \u001b[2m                         \u001b[0m\n"
      ]
     },
     "metadata": {},
     "output_type": "display_data"
    },
    {
     "data": {
      "text/html": [
       "<pre style=\"white-space:pre;overflow-x:auto;line-height:normal;font-family:Menlo,'DejaVu Sans Mono',consolas,'Courier New',monospace\"><span style=\"color: #7fbfbf; text-decoration-color: #7fbfbf\">           </span><span style=\"background-color: #800000; font-weight: bold\">CRITICAL</span> <span style=\"color: #808000; text-decoration-color: #808000\">pattern</span>=<span style=\"color: #008000; text-decoration-color: #008000\">'out_blocks.0.scale_rbf_F.*'</span> matched keys                              <a href=\"file:///workspaces/repositories/jmp-peft/src/jmppeft/utils/state_dict.py\" target=\"_blank\"><span style=\"color: #7f7f7f; text-decoration-color: #7f7f7f\">state_dict.py</span></a><span style=\"color: #7f7f7f; text-decoration-color: #7f7f7f\">:</span><a href=\"file:///workspaces/repositories/jmp-peft/src/jmppeft/utils/state_dict.py#74\" target=\"_blank\"><span style=\"color: #7f7f7f; text-decoration-color: #7f7f7f\">74</span></a>\n",
       "<span style=\"color: #7fbfbf; text-decoration-color: #7fbfbf\">           </span>         <span style=\"font-weight: bold\">[</span><span style=\"color: #008000; text-decoration-color: #008000\">'out_blocks.0.scale_rbf_F.scale_factor'</span><span style=\"font-weight: bold\">]</span>, which were ignored during loading.  <span style=\"color: #7f7f7f; text-decoration-color: #7f7f7f\">                </span>\n",
       "</pre>\n"
      ],
      "text/plain": [
       "\u001b[2;36m          \u001b[0m\u001b[2;36m \u001b[0m\u001b[1;7;31mCRITICAL\u001b[0m \u001b[33mpattern\u001b[0m=\u001b[32m'out_blocks.0.scale_rbf_F.*'\u001b[0m matched keys                              \u001b]8;id=273145;file:///workspaces/repositories/jmp-peft/src/jmppeft/utils/state_dict.py\u001b\\\u001b[2mstate_dict.py\u001b[0m\u001b]8;;\u001b\\\u001b[2m:\u001b[0m\u001b]8;id=65304;file:///workspaces/repositories/jmp-peft/src/jmppeft/utils/state_dict.py#74\u001b\\\u001b[2m74\u001b[0m\u001b]8;;\u001b\\\n",
       "\u001b[2;36m           \u001b[0m         \u001b[1m[\u001b[0m\u001b[32m'out_blocks.0.scale_rbf_F.scale_factor'\u001b[0m\u001b[1m]\u001b[0m, which were ignored during loading.  \u001b[2m                \u001b[0m\n"
      ]
     },
     "metadata": {},
     "output_type": "display_data"
    },
    {
     "data": {
      "text/html": [
       "<pre style=\"white-space:pre;overflow-x:auto;line-height:normal;font-family:Menlo,'DejaVu Sans Mono',consolas,'Courier New',monospace\"><span style=\"color: #7fbfbf; text-decoration-color: #7fbfbf\">           </span><span style=\"background-color: #800000; font-weight: bold\">CRITICAL</span> <span style=\"color: #808000; text-decoration-color: #808000\">pattern</span>=<span style=\"color: #008000; text-decoration-color: #008000\">'out_blocks.0.seq_forces.*'</span> matched keys                               <a href=\"file:///workspaces/repositories/jmp-peft/src/jmppeft/utils/state_dict.py\" target=\"_blank\"><span style=\"color: #7f7f7f; text-decoration-color: #7f7f7f\">state_dict.py</span></a><span style=\"color: #7f7f7f; text-decoration-color: #7f7f7f\">:</span><a href=\"file:///workspaces/repositories/jmp-peft/src/jmppeft/utils/state_dict.py#74\" target=\"_blank\"><span style=\"color: #7f7f7f; text-decoration-color: #7f7f7f\">74</span></a>\n",
       "<span style=\"color: #7fbfbf; text-decoration-color: #7fbfbf\">           </span>         <span style=\"font-weight: bold\">[</span><span style=\"color: #008000; text-decoration-color: #008000\">'out_blocks.0.seq_forces.0.dense_mlp.0.linear.weight'</span>,                        <span style=\"color: #7f7f7f; text-decoration-color: #7f7f7f\">                </span>\n",
       "<span style=\"color: #7fbfbf; text-decoration-color: #7fbfbf\">           </span>         <span style=\"color: #008000; text-decoration-color: #008000\">'out_blocks.0.seq_forces.0.dense_mlp.1.linear.weight'</span>,                         <span style=\"color: #7f7f7f; text-decoration-color: #7f7f7f\">                </span>\n",
       "<span style=\"color: #7fbfbf; text-decoration-color: #7fbfbf\">           </span>         <span style=\"color: #008000; text-decoration-color: #008000\">'out_blocks.0.seq_forces.1.dense_mlp.0.linear.weight'</span>,                         <span style=\"color: #7f7f7f; text-decoration-color: #7f7f7f\">                </span>\n",
       "<span style=\"color: #7fbfbf; text-decoration-color: #7fbfbf\">           </span>         <span style=\"color: #008000; text-decoration-color: #008000\">'out_blocks.0.seq_forces.1.dense_mlp.1.linear.weight'</span>,                         <span style=\"color: #7f7f7f; text-decoration-color: #7f7f7f\">                </span>\n",
       "<span style=\"color: #7fbfbf; text-decoration-color: #7fbfbf\">           </span>         <span style=\"color: #008000; text-decoration-color: #008000\">'out_blocks.0.seq_forces.2.dense_mlp.0.linear.weight'</span>,                         <span style=\"color: #7f7f7f; text-decoration-color: #7f7f7f\">                </span>\n",
       "<span style=\"color: #7fbfbf; text-decoration-color: #7fbfbf\">           </span>         <span style=\"color: #008000; text-decoration-color: #008000\">'out_blocks.0.seq_forces.2.dense_mlp.1.linear.weight'</span><span style=\"font-weight: bold\">]</span>, which were ignored     <span style=\"color: #7f7f7f; text-decoration-color: #7f7f7f\">                </span>\n",
       "<span style=\"color: #7fbfbf; text-decoration-color: #7fbfbf\">           </span>         during loading.                                                                <span style=\"color: #7f7f7f; text-decoration-color: #7f7f7f\">                </span>\n",
       "</pre>\n"
      ],
      "text/plain": [
       "\u001b[2;36m          \u001b[0m\u001b[2;36m \u001b[0m\u001b[1;7;31mCRITICAL\u001b[0m \u001b[33mpattern\u001b[0m=\u001b[32m'out_blocks.0.seq_forces.*'\u001b[0m matched keys                               \u001b]8;id=14723;file:///workspaces/repositories/jmp-peft/src/jmppeft/utils/state_dict.py\u001b\\\u001b[2mstate_dict.py\u001b[0m\u001b]8;;\u001b\\\u001b[2m:\u001b[0m\u001b]8;id=97802;file:///workspaces/repositories/jmp-peft/src/jmppeft/utils/state_dict.py#74\u001b\\\u001b[2m74\u001b[0m\u001b]8;;\u001b\\\n",
       "\u001b[2;36m           \u001b[0m         \u001b[1m[\u001b[0m\u001b[32m'out_blocks.0.seq_forces.0.dense_mlp.0.linear.weight'\u001b[0m,                        \u001b[2m                \u001b[0m\n",
       "\u001b[2;36m           \u001b[0m         \u001b[32m'out_blocks.0.seq_forces.0.dense_mlp.1.linear.weight'\u001b[0m,                         \u001b[2m                \u001b[0m\n",
       "\u001b[2;36m           \u001b[0m         \u001b[32m'out_blocks.0.seq_forces.1.dense_mlp.0.linear.weight'\u001b[0m,                         \u001b[2m                \u001b[0m\n",
       "\u001b[2;36m           \u001b[0m         \u001b[32m'out_blocks.0.seq_forces.1.dense_mlp.1.linear.weight'\u001b[0m,                         \u001b[2m                \u001b[0m\n",
       "\u001b[2;36m           \u001b[0m         \u001b[32m'out_blocks.0.seq_forces.2.dense_mlp.0.linear.weight'\u001b[0m,                         \u001b[2m                \u001b[0m\n",
       "\u001b[2;36m           \u001b[0m         \u001b[32m'out_blocks.0.seq_forces.2.dense_mlp.1.linear.weight'\u001b[0m\u001b[1m]\u001b[0m, which were ignored     \u001b[2m                \u001b[0m\n",
       "\u001b[2;36m           \u001b[0m         during loading.                                                                \u001b[2m                \u001b[0m\n"
      ]
     },
     "metadata": {},
     "output_type": "display_data"
    },
    {
     "data": {
      "text/html": [
       "<pre style=\"white-space:pre;overflow-x:auto;line-height:normal;font-family:Menlo,'DejaVu Sans Mono',consolas,'Courier New',monospace\"><span style=\"color: #7fbfbf; text-decoration-color: #7fbfbf\">           </span><span style=\"background-color: #800000; font-weight: bold\">CRITICAL</span> <span style=\"color: #808000; text-decoration-color: #808000\">pattern</span>=<span style=\"color: #008000; text-decoration-color: #008000\">'out_blocks.0.dense_rbf_F.*'</span> matched keys                              <a href=\"file:///workspaces/repositories/jmp-peft/src/jmppeft/utils/state_dict.py\" target=\"_blank\"><span style=\"color: #7f7f7f; text-decoration-color: #7f7f7f\">state_dict.py</span></a><span style=\"color: #7f7f7f; text-decoration-color: #7f7f7f\">:</span><a href=\"file:///workspaces/repositories/jmp-peft/src/jmppeft/utils/state_dict.py#74\" target=\"_blank\"><span style=\"color: #7f7f7f; text-decoration-color: #7f7f7f\">74</span></a>\n",
       "<span style=\"color: #7fbfbf; text-decoration-color: #7fbfbf\">           </span>         <span style=\"font-weight: bold\">[</span><span style=\"color: #008000; text-decoration-color: #008000\">'out_blocks.0.dense_rbf_F.linear.weight'</span><span style=\"font-weight: bold\">]</span>, which were ignored during loading. <span style=\"color: #7f7f7f; text-decoration-color: #7f7f7f\">                </span>\n",
       "</pre>\n"
      ],
      "text/plain": [
       "\u001b[2;36m          \u001b[0m\u001b[2;36m \u001b[0m\u001b[1;7;31mCRITICAL\u001b[0m \u001b[33mpattern\u001b[0m=\u001b[32m'out_blocks.0.dense_rbf_F.*'\u001b[0m matched keys                              \u001b]8;id=864912;file:///workspaces/repositories/jmp-peft/src/jmppeft/utils/state_dict.py\u001b\\\u001b[2mstate_dict.py\u001b[0m\u001b]8;;\u001b\\\u001b[2m:\u001b[0m\u001b]8;id=823182;file:///workspaces/repositories/jmp-peft/src/jmppeft/utils/state_dict.py#74\u001b\\\u001b[2m74\u001b[0m\u001b]8;;\u001b\\\n",
       "\u001b[2;36m           \u001b[0m         \u001b[1m[\u001b[0m\u001b[32m'out_blocks.0.dense_rbf_F.linear.weight'\u001b[0m\u001b[1m]\u001b[0m, which were ignored during loading. \u001b[2m                \u001b[0m\n"
      ]
     },
     "metadata": {},
     "output_type": "display_data"
    },
    {
     "data": {
      "text/html": [
       "<pre style=\"white-space:pre;overflow-x:auto;line-height:normal;font-family:Menlo,'DejaVu Sans Mono',consolas,'Courier New',monospace\"><span style=\"color: #7fbfbf; text-decoration-color: #7fbfbf\">           </span><span style=\"background-color: #800000; font-weight: bold\">CRITICAL</span> <span style=\"color: #808000; text-decoration-color: #808000\">pattern</span>=<span style=\"color: #008000; text-decoration-color: #008000\">'out_blocks.1.scale_rbf_F.*'</span> matched keys                              <a href=\"file:///workspaces/repositories/jmp-peft/src/jmppeft/utils/state_dict.py\" target=\"_blank\"><span style=\"color: #7f7f7f; text-decoration-color: #7f7f7f\">state_dict.py</span></a><span style=\"color: #7f7f7f; text-decoration-color: #7f7f7f\">:</span><a href=\"file:///workspaces/repositories/jmp-peft/src/jmppeft/utils/state_dict.py#74\" target=\"_blank\"><span style=\"color: #7f7f7f; text-decoration-color: #7f7f7f\">74</span></a>\n",
       "<span style=\"color: #7fbfbf; text-decoration-color: #7fbfbf\">           </span>         <span style=\"font-weight: bold\">[</span><span style=\"color: #008000; text-decoration-color: #008000\">'out_blocks.1.scale_rbf_F.scale_factor'</span><span style=\"font-weight: bold\">]</span>, which were ignored during loading.  <span style=\"color: #7f7f7f; text-decoration-color: #7f7f7f\">                </span>\n",
       "</pre>\n"
      ],
      "text/plain": [
       "\u001b[2;36m          \u001b[0m\u001b[2;36m \u001b[0m\u001b[1;7;31mCRITICAL\u001b[0m \u001b[33mpattern\u001b[0m=\u001b[32m'out_blocks.1.scale_rbf_F.*'\u001b[0m matched keys                              \u001b]8;id=517553;file:///workspaces/repositories/jmp-peft/src/jmppeft/utils/state_dict.py\u001b\\\u001b[2mstate_dict.py\u001b[0m\u001b]8;;\u001b\\\u001b[2m:\u001b[0m\u001b]8;id=868287;file:///workspaces/repositories/jmp-peft/src/jmppeft/utils/state_dict.py#74\u001b\\\u001b[2m74\u001b[0m\u001b]8;;\u001b\\\n",
       "\u001b[2;36m           \u001b[0m         \u001b[1m[\u001b[0m\u001b[32m'out_blocks.1.scale_rbf_F.scale_factor'\u001b[0m\u001b[1m]\u001b[0m, which were ignored during loading.  \u001b[2m                \u001b[0m\n"
      ]
     },
     "metadata": {},
     "output_type": "display_data"
    },
    {
     "data": {
      "text/html": [
       "<pre style=\"white-space:pre;overflow-x:auto;line-height:normal;font-family:Menlo,'DejaVu Sans Mono',consolas,'Courier New',monospace\"><span style=\"color: #7fbfbf; text-decoration-color: #7fbfbf\">           </span><span style=\"background-color: #800000; font-weight: bold\">CRITICAL</span> <span style=\"color: #808000; text-decoration-color: #808000\">pattern</span>=<span style=\"color: #008000; text-decoration-color: #008000\">'out_blocks.1.seq_forces.*'</span> matched keys                               <a href=\"file:///workspaces/repositories/jmp-peft/src/jmppeft/utils/state_dict.py\" target=\"_blank\"><span style=\"color: #7f7f7f; text-decoration-color: #7f7f7f\">state_dict.py</span></a><span style=\"color: #7f7f7f; text-decoration-color: #7f7f7f\">:</span><a href=\"file:///workspaces/repositories/jmp-peft/src/jmppeft/utils/state_dict.py#74\" target=\"_blank\"><span style=\"color: #7f7f7f; text-decoration-color: #7f7f7f\">74</span></a>\n",
       "<span style=\"color: #7fbfbf; text-decoration-color: #7fbfbf\">           </span>         <span style=\"font-weight: bold\">[</span><span style=\"color: #008000; text-decoration-color: #008000\">'out_blocks.1.seq_forces.0.dense_mlp.0.linear.weight'</span>,                        <span style=\"color: #7f7f7f; text-decoration-color: #7f7f7f\">                </span>\n",
       "<span style=\"color: #7fbfbf; text-decoration-color: #7fbfbf\">           </span>         <span style=\"color: #008000; text-decoration-color: #008000\">'out_blocks.1.seq_forces.0.dense_mlp.1.linear.weight'</span>,                         <span style=\"color: #7f7f7f; text-decoration-color: #7f7f7f\">                </span>\n",
       "<span style=\"color: #7fbfbf; text-decoration-color: #7fbfbf\">           </span>         <span style=\"color: #008000; text-decoration-color: #008000\">'out_blocks.1.seq_forces.1.dense_mlp.0.linear.weight'</span>,                         <span style=\"color: #7f7f7f; text-decoration-color: #7f7f7f\">                </span>\n",
       "<span style=\"color: #7fbfbf; text-decoration-color: #7fbfbf\">           </span>         <span style=\"color: #008000; text-decoration-color: #008000\">'out_blocks.1.seq_forces.1.dense_mlp.1.linear.weight'</span>,                         <span style=\"color: #7f7f7f; text-decoration-color: #7f7f7f\">                </span>\n",
       "<span style=\"color: #7fbfbf; text-decoration-color: #7fbfbf\">           </span>         <span style=\"color: #008000; text-decoration-color: #008000\">'out_blocks.1.seq_forces.2.dense_mlp.0.linear.weight'</span>,                         <span style=\"color: #7f7f7f; text-decoration-color: #7f7f7f\">                </span>\n",
       "<span style=\"color: #7fbfbf; text-decoration-color: #7fbfbf\">           </span>         <span style=\"color: #008000; text-decoration-color: #008000\">'out_blocks.1.seq_forces.2.dense_mlp.1.linear.weight'</span><span style=\"font-weight: bold\">]</span>, which were ignored     <span style=\"color: #7f7f7f; text-decoration-color: #7f7f7f\">                </span>\n",
       "<span style=\"color: #7fbfbf; text-decoration-color: #7fbfbf\">           </span>         during loading.                                                                <span style=\"color: #7f7f7f; text-decoration-color: #7f7f7f\">                </span>\n",
       "</pre>\n"
      ],
      "text/plain": [
       "\u001b[2;36m          \u001b[0m\u001b[2;36m \u001b[0m\u001b[1;7;31mCRITICAL\u001b[0m \u001b[33mpattern\u001b[0m=\u001b[32m'out_blocks.1.seq_forces.*'\u001b[0m matched keys                               \u001b]8;id=341001;file:///workspaces/repositories/jmp-peft/src/jmppeft/utils/state_dict.py\u001b\\\u001b[2mstate_dict.py\u001b[0m\u001b]8;;\u001b\\\u001b[2m:\u001b[0m\u001b]8;id=737822;file:///workspaces/repositories/jmp-peft/src/jmppeft/utils/state_dict.py#74\u001b\\\u001b[2m74\u001b[0m\u001b]8;;\u001b\\\n",
       "\u001b[2;36m           \u001b[0m         \u001b[1m[\u001b[0m\u001b[32m'out_blocks.1.seq_forces.0.dense_mlp.0.linear.weight'\u001b[0m,                        \u001b[2m                \u001b[0m\n",
       "\u001b[2;36m           \u001b[0m         \u001b[32m'out_blocks.1.seq_forces.0.dense_mlp.1.linear.weight'\u001b[0m,                         \u001b[2m                \u001b[0m\n",
       "\u001b[2;36m           \u001b[0m         \u001b[32m'out_blocks.1.seq_forces.1.dense_mlp.0.linear.weight'\u001b[0m,                         \u001b[2m                \u001b[0m\n",
       "\u001b[2;36m           \u001b[0m         \u001b[32m'out_blocks.1.seq_forces.1.dense_mlp.1.linear.weight'\u001b[0m,                         \u001b[2m                \u001b[0m\n",
       "\u001b[2;36m           \u001b[0m         \u001b[32m'out_blocks.1.seq_forces.2.dense_mlp.0.linear.weight'\u001b[0m,                         \u001b[2m                \u001b[0m\n",
       "\u001b[2;36m           \u001b[0m         \u001b[32m'out_blocks.1.seq_forces.2.dense_mlp.1.linear.weight'\u001b[0m\u001b[1m]\u001b[0m, which were ignored     \u001b[2m                \u001b[0m\n",
       "\u001b[2;36m           \u001b[0m         during loading.                                                                \u001b[2m                \u001b[0m\n"
      ]
     },
     "metadata": {},
     "output_type": "display_data"
    },
    {
     "data": {
      "text/html": [
       "<pre style=\"white-space:pre;overflow-x:auto;line-height:normal;font-family:Menlo,'DejaVu Sans Mono',consolas,'Courier New',monospace\"><span style=\"color: #7fbfbf; text-decoration-color: #7fbfbf\">           </span><span style=\"background-color: #800000; font-weight: bold\">CRITICAL</span> <span style=\"color: #808000; text-decoration-color: #808000\">pattern</span>=<span style=\"color: #008000; text-decoration-color: #008000\">'out_blocks.1.dense_rbf_F.*'</span> matched keys                              <a href=\"file:///workspaces/repositories/jmp-peft/src/jmppeft/utils/state_dict.py\" target=\"_blank\"><span style=\"color: #7f7f7f; text-decoration-color: #7f7f7f\">state_dict.py</span></a><span style=\"color: #7f7f7f; text-decoration-color: #7f7f7f\">:</span><a href=\"file:///workspaces/repositories/jmp-peft/src/jmppeft/utils/state_dict.py#74\" target=\"_blank\"><span style=\"color: #7f7f7f; text-decoration-color: #7f7f7f\">74</span></a>\n",
       "<span style=\"color: #7fbfbf; text-decoration-color: #7fbfbf\">           </span>         <span style=\"font-weight: bold\">[</span><span style=\"color: #008000; text-decoration-color: #008000\">'out_blocks.1.dense_rbf_F.linear.weight'</span><span style=\"font-weight: bold\">]</span>, which were ignored during loading. <span style=\"color: #7f7f7f; text-decoration-color: #7f7f7f\">                </span>\n",
       "</pre>\n"
      ],
      "text/plain": [
       "\u001b[2;36m          \u001b[0m\u001b[2;36m \u001b[0m\u001b[1;7;31mCRITICAL\u001b[0m \u001b[33mpattern\u001b[0m=\u001b[32m'out_blocks.1.dense_rbf_F.*'\u001b[0m matched keys                              \u001b]8;id=595078;file:///workspaces/repositories/jmp-peft/src/jmppeft/utils/state_dict.py\u001b\\\u001b[2mstate_dict.py\u001b[0m\u001b]8;;\u001b\\\u001b[2m:\u001b[0m\u001b]8;id=232473;file:///workspaces/repositories/jmp-peft/src/jmppeft/utils/state_dict.py#74\u001b\\\u001b[2m74\u001b[0m\u001b]8;;\u001b\\\n",
       "\u001b[2;36m           \u001b[0m         \u001b[1m[\u001b[0m\u001b[32m'out_blocks.1.dense_rbf_F.linear.weight'\u001b[0m\u001b[1m]\u001b[0m, which were ignored during loading. \u001b[2m                \u001b[0m\n"
      ]
     },
     "metadata": {},
     "output_type": "display_data"
    },
    {
     "data": {
      "text/html": [
       "<pre style=\"white-space:pre;overflow-x:auto;line-height:normal;font-family:Menlo,'DejaVu Sans Mono',consolas,'Courier New',monospace\"><span style=\"color: #7fbfbf; text-decoration-color: #7fbfbf\">           </span><span style=\"background-color: #800000; font-weight: bold\">CRITICAL</span> <span style=\"color: #808000; text-decoration-color: #808000\">pattern</span>=<span style=\"color: #008000; text-decoration-color: #008000\">'out_blocks.2.scale_rbf_F.*'</span> matched keys                              <a href=\"file:///workspaces/repositories/jmp-peft/src/jmppeft/utils/state_dict.py\" target=\"_blank\"><span style=\"color: #7f7f7f; text-decoration-color: #7f7f7f\">state_dict.py</span></a><span style=\"color: #7f7f7f; text-decoration-color: #7f7f7f\">:</span><a href=\"file:///workspaces/repositories/jmp-peft/src/jmppeft/utils/state_dict.py#74\" target=\"_blank\"><span style=\"color: #7f7f7f; text-decoration-color: #7f7f7f\">74</span></a>\n",
       "<span style=\"color: #7fbfbf; text-decoration-color: #7fbfbf\">           </span>         <span style=\"font-weight: bold\">[</span><span style=\"color: #008000; text-decoration-color: #008000\">'out_blocks.2.scale_rbf_F.scale_factor'</span><span style=\"font-weight: bold\">]</span>, which were ignored during loading.  <span style=\"color: #7f7f7f; text-decoration-color: #7f7f7f\">                </span>\n",
       "</pre>\n"
      ],
      "text/plain": [
       "\u001b[2;36m          \u001b[0m\u001b[2;36m \u001b[0m\u001b[1;7;31mCRITICAL\u001b[0m \u001b[33mpattern\u001b[0m=\u001b[32m'out_blocks.2.scale_rbf_F.*'\u001b[0m matched keys                              \u001b]8;id=569366;file:///workspaces/repositories/jmp-peft/src/jmppeft/utils/state_dict.py\u001b\\\u001b[2mstate_dict.py\u001b[0m\u001b]8;;\u001b\\\u001b[2m:\u001b[0m\u001b]8;id=469730;file:///workspaces/repositories/jmp-peft/src/jmppeft/utils/state_dict.py#74\u001b\\\u001b[2m74\u001b[0m\u001b]8;;\u001b\\\n",
       "\u001b[2;36m           \u001b[0m         \u001b[1m[\u001b[0m\u001b[32m'out_blocks.2.scale_rbf_F.scale_factor'\u001b[0m\u001b[1m]\u001b[0m, which were ignored during loading.  \u001b[2m                \u001b[0m\n"
      ]
     },
     "metadata": {},
     "output_type": "display_data"
    },
    {
     "data": {
      "text/html": [
       "<pre style=\"white-space:pre;overflow-x:auto;line-height:normal;font-family:Menlo,'DejaVu Sans Mono',consolas,'Courier New',monospace\"><span style=\"color: #7fbfbf; text-decoration-color: #7fbfbf\">           </span><span style=\"background-color: #800000; font-weight: bold\">CRITICAL</span> <span style=\"color: #808000; text-decoration-color: #808000\">pattern</span>=<span style=\"color: #008000; text-decoration-color: #008000\">'out_blocks.2.seq_forces.*'</span> matched keys                               <a href=\"file:///workspaces/repositories/jmp-peft/src/jmppeft/utils/state_dict.py\" target=\"_blank\"><span style=\"color: #7f7f7f; text-decoration-color: #7f7f7f\">state_dict.py</span></a><span style=\"color: #7f7f7f; text-decoration-color: #7f7f7f\">:</span><a href=\"file:///workspaces/repositories/jmp-peft/src/jmppeft/utils/state_dict.py#74\" target=\"_blank\"><span style=\"color: #7f7f7f; text-decoration-color: #7f7f7f\">74</span></a>\n",
       "<span style=\"color: #7fbfbf; text-decoration-color: #7fbfbf\">           </span>         <span style=\"font-weight: bold\">[</span><span style=\"color: #008000; text-decoration-color: #008000\">'out_blocks.2.seq_forces.0.dense_mlp.0.linear.weight'</span>,                        <span style=\"color: #7f7f7f; text-decoration-color: #7f7f7f\">                </span>\n",
       "<span style=\"color: #7fbfbf; text-decoration-color: #7fbfbf\">           </span>         <span style=\"color: #008000; text-decoration-color: #008000\">'out_blocks.2.seq_forces.0.dense_mlp.1.linear.weight'</span>,                         <span style=\"color: #7f7f7f; text-decoration-color: #7f7f7f\">                </span>\n",
       "<span style=\"color: #7fbfbf; text-decoration-color: #7fbfbf\">           </span>         <span style=\"color: #008000; text-decoration-color: #008000\">'out_blocks.2.seq_forces.1.dense_mlp.0.linear.weight'</span>,                         <span style=\"color: #7f7f7f; text-decoration-color: #7f7f7f\">                </span>\n",
       "<span style=\"color: #7fbfbf; text-decoration-color: #7fbfbf\">           </span>         <span style=\"color: #008000; text-decoration-color: #008000\">'out_blocks.2.seq_forces.1.dense_mlp.1.linear.weight'</span>,                         <span style=\"color: #7f7f7f; text-decoration-color: #7f7f7f\">                </span>\n",
       "<span style=\"color: #7fbfbf; text-decoration-color: #7fbfbf\">           </span>         <span style=\"color: #008000; text-decoration-color: #008000\">'out_blocks.2.seq_forces.2.dense_mlp.0.linear.weight'</span>,                         <span style=\"color: #7f7f7f; text-decoration-color: #7f7f7f\">                </span>\n",
       "<span style=\"color: #7fbfbf; text-decoration-color: #7fbfbf\">           </span>         <span style=\"color: #008000; text-decoration-color: #008000\">'out_blocks.2.seq_forces.2.dense_mlp.1.linear.weight'</span><span style=\"font-weight: bold\">]</span>, which were ignored     <span style=\"color: #7f7f7f; text-decoration-color: #7f7f7f\">                </span>\n",
       "<span style=\"color: #7fbfbf; text-decoration-color: #7fbfbf\">           </span>         during loading.                                                                <span style=\"color: #7f7f7f; text-decoration-color: #7f7f7f\">                </span>\n",
       "</pre>\n"
      ],
      "text/plain": [
       "\u001b[2;36m          \u001b[0m\u001b[2;36m \u001b[0m\u001b[1;7;31mCRITICAL\u001b[0m \u001b[33mpattern\u001b[0m=\u001b[32m'out_blocks.2.seq_forces.*'\u001b[0m matched keys                               \u001b]8;id=532614;file:///workspaces/repositories/jmp-peft/src/jmppeft/utils/state_dict.py\u001b\\\u001b[2mstate_dict.py\u001b[0m\u001b]8;;\u001b\\\u001b[2m:\u001b[0m\u001b]8;id=978147;file:///workspaces/repositories/jmp-peft/src/jmppeft/utils/state_dict.py#74\u001b\\\u001b[2m74\u001b[0m\u001b]8;;\u001b\\\n",
       "\u001b[2;36m           \u001b[0m         \u001b[1m[\u001b[0m\u001b[32m'out_blocks.2.seq_forces.0.dense_mlp.0.linear.weight'\u001b[0m,                        \u001b[2m                \u001b[0m\n",
       "\u001b[2;36m           \u001b[0m         \u001b[32m'out_blocks.2.seq_forces.0.dense_mlp.1.linear.weight'\u001b[0m,                         \u001b[2m                \u001b[0m\n",
       "\u001b[2;36m           \u001b[0m         \u001b[32m'out_blocks.2.seq_forces.1.dense_mlp.0.linear.weight'\u001b[0m,                         \u001b[2m                \u001b[0m\n",
       "\u001b[2;36m           \u001b[0m         \u001b[32m'out_blocks.2.seq_forces.1.dense_mlp.1.linear.weight'\u001b[0m,                         \u001b[2m                \u001b[0m\n",
       "\u001b[2;36m           \u001b[0m         \u001b[32m'out_blocks.2.seq_forces.2.dense_mlp.0.linear.weight'\u001b[0m,                         \u001b[2m                \u001b[0m\n",
       "\u001b[2;36m           \u001b[0m         \u001b[32m'out_blocks.2.seq_forces.2.dense_mlp.1.linear.weight'\u001b[0m\u001b[1m]\u001b[0m, which were ignored     \u001b[2m                \u001b[0m\n",
       "\u001b[2;36m           \u001b[0m         during loading.                                                                \u001b[2m                \u001b[0m\n"
      ]
     },
     "metadata": {},
     "output_type": "display_data"
    },
    {
     "data": {
      "text/html": [
       "<pre style=\"white-space:pre;overflow-x:auto;line-height:normal;font-family:Menlo,'DejaVu Sans Mono',consolas,'Courier New',monospace\"><span style=\"color: #7fbfbf; text-decoration-color: #7fbfbf\">           </span><span style=\"background-color: #800000; font-weight: bold\">CRITICAL</span> <span style=\"color: #808000; text-decoration-color: #808000\">pattern</span>=<span style=\"color: #008000; text-decoration-color: #008000\">'out_blocks.2.dense_rbf_F.*'</span> matched keys                              <a href=\"file:///workspaces/repositories/jmp-peft/src/jmppeft/utils/state_dict.py\" target=\"_blank\"><span style=\"color: #7f7f7f; text-decoration-color: #7f7f7f\">state_dict.py</span></a><span style=\"color: #7f7f7f; text-decoration-color: #7f7f7f\">:</span><a href=\"file:///workspaces/repositories/jmp-peft/src/jmppeft/utils/state_dict.py#74\" target=\"_blank\"><span style=\"color: #7f7f7f; text-decoration-color: #7f7f7f\">74</span></a>\n",
       "<span style=\"color: #7fbfbf; text-decoration-color: #7fbfbf\">           </span>         <span style=\"font-weight: bold\">[</span><span style=\"color: #008000; text-decoration-color: #008000\">'out_blocks.2.dense_rbf_F.linear.weight'</span><span style=\"font-weight: bold\">]</span>, which were ignored during loading. <span style=\"color: #7f7f7f; text-decoration-color: #7f7f7f\">                </span>\n",
       "</pre>\n"
      ],
      "text/plain": [
       "\u001b[2;36m          \u001b[0m\u001b[2;36m \u001b[0m\u001b[1;7;31mCRITICAL\u001b[0m \u001b[33mpattern\u001b[0m=\u001b[32m'out_blocks.2.dense_rbf_F.*'\u001b[0m matched keys                              \u001b]8;id=305230;file:///workspaces/repositories/jmp-peft/src/jmppeft/utils/state_dict.py\u001b\\\u001b[2mstate_dict.py\u001b[0m\u001b]8;;\u001b\\\u001b[2m:\u001b[0m\u001b]8;id=740883;file:///workspaces/repositories/jmp-peft/src/jmppeft/utils/state_dict.py#74\u001b\\\u001b[2m74\u001b[0m\u001b]8;;\u001b\\\n",
       "\u001b[2;36m           \u001b[0m         \u001b[1m[\u001b[0m\u001b[32m'out_blocks.2.dense_rbf_F.linear.weight'\u001b[0m\u001b[1m]\u001b[0m, which were ignored during loading. \u001b[2m                \u001b[0m\n"
      ]
     },
     "metadata": {},
     "output_type": "display_data"
    },
    {
     "data": {
      "text/html": [
       "<pre style=\"white-space:pre;overflow-x:auto;line-height:normal;font-family:Menlo,'DejaVu Sans Mono',consolas,'Courier New',monospace\"><span style=\"color: #7fbfbf; text-decoration-color: #7fbfbf\">           </span><span style=\"background-color: #800000; font-weight: bold\">CRITICAL</span> <span style=\"color: #808000; text-decoration-color: #808000\">pattern</span>=<span style=\"color: #008000; text-decoration-color: #008000\">'out_blocks.3.scale_rbf_F.*'</span> matched keys                              <a href=\"file:///workspaces/repositories/jmp-peft/src/jmppeft/utils/state_dict.py\" target=\"_blank\"><span style=\"color: #7f7f7f; text-decoration-color: #7f7f7f\">state_dict.py</span></a><span style=\"color: #7f7f7f; text-decoration-color: #7f7f7f\">:</span><a href=\"file:///workspaces/repositories/jmp-peft/src/jmppeft/utils/state_dict.py#74\" target=\"_blank\"><span style=\"color: #7f7f7f; text-decoration-color: #7f7f7f\">74</span></a>\n",
       "<span style=\"color: #7fbfbf; text-decoration-color: #7fbfbf\">           </span>         <span style=\"font-weight: bold\">[</span><span style=\"color: #008000; text-decoration-color: #008000\">'out_blocks.3.scale_rbf_F.scale_factor'</span><span style=\"font-weight: bold\">]</span>, which were ignored during loading.  <span style=\"color: #7f7f7f; text-decoration-color: #7f7f7f\">                </span>\n",
       "</pre>\n"
      ],
      "text/plain": [
       "\u001b[2;36m          \u001b[0m\u001b[2;36m \u001b[0m\u001b[1;7;31mCRITICAL\u001b[0m \u001b[33mpattern\u001b[0m=\u001b[32m'out_blocks.3.scale_rbf_F.*'\u001b[0m matched keys                              \u001b]8;id=967048;file:///workspaces/repositories/jmp-peft/src/jmppeft/utils/state_dict.py\u001b\\\u001b[2mstate_dict.py\u001b[0m\u001b]8;;\u001b\\\u001b[2m:\u001b[0m\u001b]8;id=566528;file:///workspaces/repositories/jmp-peft/src/jmppeft/utils/state_dict.py#74\u001b\\\u001b[2m74\u001b[0m\u001b]8;;\u001b\\\n",
       "\u001b[2;36m           \u001b[0m         \u001b[1m[\u001b[0m\u001b[32m'out_blocks.3.scale_rbf_F.scale_factor'\u001b[0m\u001b[1m]\u001b[0m, which were ignored during loading.  \u001b[2m                \u001b[0m\n"
      ]
     },
     "metadata": {},
     "output_type": "display_data"
    },
    {
     "data": {
      "text/html": [
       "<pre style=\"white-space:pre;overflow-x:auto;line-height:normal;font-family:Menlo,'DejaVu Sans Mono',consolas,'Courier New',monospace\"><span style=\"color: #7fbfbf; text-decoration-color: #7fbfbf\">           </span><span style=\"background-color: #800000; font-weight: bold\">CRITICAL</span> <span style=\"color: #808000; text-decoration-color: #808000\">pattern</span>=<span style=\"color: #008000; text-decoration-color: #008000\">'out_blocks.3.seq_forces.*'</span> matched keys                               <a href=\"file:///workspaces/repositories/jmp-peft/src/jmppeft/utils/state_dict.py\" target=\"_blank\"><span style=\"color: #7f7f7f; text-decoration-color: #7f7f7f\">state_dict.py</span></a><span style=\"color: #7f7f7f; text-decoration-color: #7f7f7f\">:</span><a href=\"file:///workspaces/repositories/jmp-peft/src/jmppeft/utils/state_dict.py#74\" target=\"_blank\"><span style=\"color: #7f7f7f; text-decoration-color: #7f7f7f\">74</span></a>\n",
       "<span style=\"color: #7fbfbf; text-decoration-color: #7fbfbf\">           </span>         <span style=\"font-weight: bold\">[</span><span style=\"color: #008000; text-decoration-color: #008000\">'out_blocks.3.seq_forces.0.dense_mlp.0.linear.weight'</span>,                        <span style=\"color: #7f7f7f; text-decoration-color: #7f7f7f\">                </span>\n",
       "<span style=\"color: #7fbfbf; text-decoration-color: #7fbfbf\">           </span>         <span style=\"color: #008000; text-decoration-color: #008000\">'out_blocks.3.seq_forces.0.dense_mlp.1.linear.weight'</span>,                         <span style=\"color: #7f7f7f; text-decoration-color: #7f7f7f\">                </span>\n",
       "<span style=\"color: #7fbfbf; text-decoration-color: #7fbfbf\">           </span>         <span style=\"color: #008000; text-decoration-color: #008000\">'out_blocks.3.seq_forces.1.dense_mlp.0.linear.weight'</span>,                         <span style=\"color: #7f7f7f; text-decoration-color: #7f7f7f\">                </span>\n",
       "<span style=\"color: #7fbfbf; text-decoration-color: #7fbfbf\">           </span>         <span style=\"color: #008000; text-decoration-color: #008000\">'out_blocks.3.seq_forces.1.dense_mlp.1.linear.weight'</span>,                         <span style=\"color: #7f7f7f; text-decoration-color: #7f7f7f\">                </span>\n",
       "<span style=\"color: #7fbfbf; text-decoration-color: #7fbfbf\">           </span>         <span style=\"color: #008000; text-decoration-color: #008000\">'out_blocks.3.seq_forces.2.dense_mlp.0.linear.weight'</span>,                         <span style=\"color: #7f7f7f; text-decoration-color: #7f7f7f\">                </span>\n",
       "<span style=\"color: #7fbfbf; text-decoration-color: #7fbfbf\">           </span>         <span style=\"color: #008000; text-decoration-color: #008000\">'out_blocks.3.seq_forces.2.dense_mlp.1.linear.weight'</span><span style=\"font-weight: bold\">]</span>, which were ignored     <span style=\"color: #7f7f7f; text-decoration-color: #7f7f7f\">                </span>\n",
       "<span style=\"color: #7fbfbf; text-decoration-color: #7fbfbf\">           </span>         during loading.                                                                <span style=\"color: #7f7f7f; text-decoration-color: #7f7f7f\">                </span>\n",
       "</pre>\n"
      ],
      "text/plain": [
       "\u001b[2;36m          \u001b[0m\u001b[2;36m \u001b[0m\u001b[1;7;31mCRITICAL\u001b[0m \u001b[33mpattern\u001b[0m=\u001b[32m'out_blocks.3.seq_forces.*'\u001b[0m matched keys                               \u001b]8;id=616161;file:///workspaces/repositories/jmp-peft/src/jmppeft/utils/state_dict.py\u001b\\\u001b[2mstate_dict.py\u001b[0m\u001b]8;;\u001b\\\u001b[2m:\u001b[0m\u001b]8;id=301630;file:///workspaces/repositories/jmp-peft/src/jmppeft/utils/state_dict.py#74\u001b\\\u001b[2m74\u001b[0m\u001b]8;;\u001b\\\n",
       "\u001b[2;36m           \u001b[0m         \u001b[1m[\u001b[0m\u001b[32m'out_blocks.3.seq_forces.0.dense_mlp.0.linear.weight'\u001b[0m,                        \u001b[2m                \u001b[0m\n",
       "\u001b[2;36m           \u001b[0m         \u001b[32m'out_blocks.3.seq_forces.0.dense_mlp.1.linear.weight'\u001b[0m,                         \u001b[2m                \u001b[0m\n",
       "\u001b[2;36m           \u001b[0m         \u001b[32m'out_blocks.3.seq_forces.1.dense_mlp.0.linear.weight'\u001b[0m,                         \u001b[2m                \u001b[0m\n",
       "\u001b[2;36m           \u001b[0m         \u001b[32m'out_blocks.3.seq_forces.1.dense_mlp.1.linear.weight'\u001b[0m,                         \u001b[2m                \u001b[0m\n",
       "\u001b[2;36m           \u001b[0m         \u001b[32m'out_blocks.3.seq_forces.2.dense_mlp.0.linear.weight'\u001b[0m,                         \u001b[2m                \u001b[0m\n",
       "\u001b[2;36m           \u001b[0m         \u001b[32m'out_blocks.3.seq_forces.2.dense_mlp.1.linear.weight'\u001b[0m\u001b[1m]\u001b[0m, which were ignored     \u001b[2m                \u001b[0m\n",
       "\u001b[2;36m           \u001b[0m         during loading.                                                                \u001b[2m                \u001b[0m\n"
      ]
     },
     "metadata": {},
     "output_type": "display_data"
    },
    {
     "data": {
      "text/html": [
       "<pre style=\"white-space:pre;overflow-x:auto;line-height:normal;font-family:Menlo,'DejaVu Sans Mono',consolas,'Courier New',monospace\"><span style=\"color: #7fbfbf; text-decoration-color: #7fbfbf\">           </span><span style=\"background-color: #800000; font-weight: bold\">CRITICAL</span> <span style=\"color: #808000; text-decoration-color: #808000\">pattern</span>=<span style=\"color: #008000; text-decoration-color: #008000\">'out_blocks.3.dense_rbf_F.*'</span> matched keys                              <a href=\"file:///workspaces/repositories/jmp-peft/src/jmppeft/utils/state_dict.py\" target=\"_blank\"><span style=\"color: #7f7f7f; text-decoration-color: #7f7f7f\">state_dict.py</span></a><span style=\"color: #7f7f7f; text-decoration-color: #7f7f7f\">:</span><a href=\"file:///workspaces/repositories/jmp-peft/src/jmppeft/utils/state_dict.py#74\" target=\"_blank\"><span style=\"color: #7f7f7f; text-decoration-color: #7f7f7f\">74</span></a>\n",
       "<span style=\"color: #7fbfbf; text-decoration-color: #7fbfbf\">           </span>         <span style=\"font-weight: bold\">[</span><span style=\"color: #008000; text-decoration-color: #008000\">'out_blocks.3.dense_rbf_F.linear.weight'</span><span style=\"font-weight: bold\">]</span>, which were ignored during loading. <span style=\"color: #7f7f7f; text-decoration-color: #7f7f7f\">                </span>\n",
       "</pre>\n"
      ],
      "text/plain": [
       "\u001b[2;36m          \u001b[0m\u001b[2;36m \u001b[0m\u001b[1;7;31mCRITICAL\u001b[0m \u001b[33mpattern\u001b[0m=\u001b[32m'out_blocks.3.dense_rbf_F.*'\u001b[0m matched keys                              \u001b]8;id=403598;file:///workspaces/repositories/jmp-peft/src/jmppeft/utils/state_dict.py\u001b\\\u001b[2mstate_dict.py\u001b[0m\u001b]8;;\u001b\\\u001b[2m:\u001b[0m\u001b]8;id=332447;file:///workspaces/repositories/jmp-peft/src/jmppeft/utils/state_dict.py#74\u001b\\\u001b[2m74\u001b[0m\u001b]8;;\u001b\\\n",
       "\u001b[2;36m           \u001b[0m         \u001b[1m[\u001b[0m\u001b[32m'out_blocks.3.dense_rbf_F.linear.weight'\u001b[0m\u001b[1m]\u001b[0m, which were ignored during loading. \u001b[2m                \u001b[0m\n"
      ]
     },
     "metadata": {},
     "output_type": "display_data"
    },
    {
     "data": {
      "text/html": [
       "<pre style=\"white-space:pre;overflow-x:auto;line-height:normal;font-family:Menlo,'DejaVu Sans Mono',consolas,'Courier New',monospace\"><span style=\"color: #7fbfbf; text-decoration-color: #7fbfbf\">           </span><span style=\"background-color: #800000; font-weight: bold\">CRITICAL</span> <span style=\"color: #808000; text-decoration-color: #808000\">pattern</span>=<span style=\"color: #008000; text-decoration-color: #008000\">'out_blocks.4.scale_rbf_F.*'</span> matched keys                              <a href=\"file:///workspaces/repositories/jmp-peft/src/jmppeft/utils/state_dict.py\" target=\"_blank\"><span style=\"color: #7f7f7f; text-decoration-color: #7f7f7f\">state_dict.py</span></a><span style=\"color: #7f7f7f; text-decoration-color: #7f7f7f\">:</span><a href=\"file:///workspaces/repositories/jmp-peft/src/jmppeft/utils/state_dict.py#74\" target=\"_blank\"><span style=\"color: #7f7f7f; text-decoration-color: #7f7f7f\">74</span></a>\n",
       "<span style=\"color: #7fbfbf; text-decoration-color: #7fbfbf\">           </span>         <span style=\"font-weight: bold\">[</span><span style=\"color: #008000; text-decoration-color: #008000\">'out_blocks.4.scale_rbf_F.scale_factor'</span><span style=\"font-weight: bold\">]</span>, which were ignored during loading.  <span style=\"color: #7f7f7f; text-decoration-color: #7f7f7f\">                </span>\n",
       "</pre>\n"
      ],
      "text/plain": [
       "\u001b[2;36m          \u001b[0m\u001b[2;36m \u001b[0m\u001b[1;7;31mCRITICAL\u001b[0m \u001b[33mpattern\u001b[0m=\u001b[32m'out_blocks.4.scale_rbf_F.*'\u001b[0m matched keys                              \u001b]8;id=198591;file:///workspaces/repositories/jmp-peft/src/jmppeft/utils/state_dict.py\u001b\\\u001b[2mstate_dict.py\u001b[0m\u001b]8;;\u001b\\\u001b[2m:\u001b[0m\u001b]8;id=861370;file:///workspaces/repositories/jmp-peft/src/jmppeft/utils/state_dict.py#74\u001b\\\u001b[2m74\u001b[0m\u001b]8;;\u001b\\\n",
       "\u001b[2;36m           \u001b[0m         \u001b[1m[\u001b[0m\u001b[32m'out_blocks.4.scale_rbf_F.scale_factor'\u001b[0m\u001b[1m]\u001b[0m, which were ignored during loading.  \u001b[2m                \u001b[0m\n"
      ]
     },
     "metadata": {},
     "output_type": "display_data"
    },
    {
     "data": {
      "text/html": [
       "<pre style=\"white-space:pre;overflow-x:auto;line-height:normal;font-family:Menlo,'DejaVu Sans Mono',consolas,'Courier New',monospace\"><span style=\"color: #7fbfbf; text-decoration-color: #7fbfbf\">           </span><span style=\"background-color: #800000; font-weight: bold\">CRITICAL</span> <span style=\"color: #808000; text-decoration-color: #808000\">pattern</span>=<span style=\"color: #008000; text-decoration-color: #008000\">'out_blocks.4.seq_forces.*'</span> matched keys                               <a href=\"file:///workspaces/repositories/jmp-peft/src/jmppeft/utils/state_dict.py\" target=\"_blank\"><span style=\"color: #7f7f7f; text-decoration-color: #7f7f7f\">state_dict.py</span></a><span style=\"color: #7f7f7f; text-decoration-color: #7f7f7f\">:</span><a href=\"file:///workspaces/repositories/jmp-peft/src/jmppeft/utils/state_dict.py#74\" target=\"_blank\"><span style=\"color: #7f7f7f; text-decoration-color: #7f7f7f\">74</span></a>\n",
       "<span style=\"color: #7fbfbf; text-decoration-color: #7fbfbf\">           </span>         <span style=\"font-weight: bold\">[</span><span style=\"color: #008000; text-decoration-color: #008000\">'out_blocks.4.seq_forces.0.dense_mlp.0.linear.weight'</span>,                        <span style=\"color: #7f7f7f; text-decoration-color: #7f7f7f\">                </span>\n",
       "<span style=\"color: #7fbfbf; text-decoration-color: #7fbfbf\">           </span>         <span style=\"color: #008000; text-decoration-color: #008000\">'out_blocks.4.seq_forces.0.dense_mlp.1.linear.weight'</span>,                         <span style=\"color: #7f7f7f; text-decoration-color: #7f7f7f\">                </span>\n",
       "<span style=\"color: #7fbfbf; text-decoration-color: #7fbfbf\">           </span>         <span style=\"color: #008000; text-decoration-color: #008000\">'out_blocks.4.seq_forces.1.dense_mlp.0.linear.weight'</span>,                         <span style=\"color: #7f7f7f; text-decoration-color: #7f7f7f\">                </span>\n",
       "<span style=\"color: #7fbfbf; text-decoration-color: #7fbfbf\">           </span>         <span style=\"color: #008000; text-decoration-color: #008000\">'out_blocks.4.seq_forces.1.dense_mlp.1.linear.weight'</span>,                         <span style=\"color: #7f7f7f; text-decoration-color: #7f7f7f\">                </span>\n",
       "<span style=\"color: #7fbfbf; text-decoration-color: #7fbfbf\">           </span>         <span style=\"color: #008000; text-decoration-color: #008000\">'out_blocks.4.seq_forces.2.dense_mlp.0.linear.weight'</span>,                         <span style=\"color: #7f7f7f; text-decoration-color: #7f7f7f\">                </span>\n",
       "<span style=\"color: #7fbfbf; text-decoration-color: #7fbfbf\">           </span>         <span style=\"color: #008000; text-decoration-color: #008000\">'out_blocks.4.seq_forces.2.dense_mlp.1.linear.weight'</span><span style=\"font-weight: bold\">]</span>, which were ignored     <span style=\"color: #7f7f7f; text-decoration-color: #7f7f7f\">                </span>\n",
       "<span style=\"color: #7fbfbf; text-decoration-color: #7fbfbf\">           </span>         during loading.                                                                <span style=\"color: #7f7f7f; text-decoration-color: #7f7f7f\">                </span>\n",
       "</pre>\n"
      ],
      "text/plain": [
       "\u001b[2;36m          \u001b[0m\u001b[2;36m \u001b[0m\u001b[1;7;31mCRITICAL\u001b[0m \u001b[33mpattern\u001b[0m=\u001b[32m'out_blocks.4.seq_forces.*'\u001b[0m matched keys                               \u001b]8;id=272688;file:///workspaces/repositories/jmp-peft/src/jmppeft/utils/state_dict.py\u001b\\\u001b[2mstate_dict.py\u001b[0m\u001b]8;;\u001b\\\u001b[2m:\u001b[0m\u001b]8;id=499678;file:///workspaces/repositories/jmp-peft/src/jmppeft/utils/state_dict.py#74\u001b\\\u001b[2m74\u001b[0m\u001b]8;;\u001b\\\n",
       "\u001b[2;36m           \u001b[0m         \u001b[1m[\u001b[0m\u001b[32m'out_blocks.4.seq_forces.0.dense_mlp.0.linear.weight'\u001b[0m,                        \u001b[2m                \u001b[0m\n",
       "\u001b[2;36m           \u001b[0m         \u001b[32m'out_blocks.4.seq_forces.0.dense_mlp.1.linear.weight'\u001b[0m,                         \u001b[2m                \u001b[0m\n",
       "\u001b[2;36m           \u001b[0m         \u001b[32m'out_blocks.4.seq_forces.1.dense_mlp.0.linear.weight'\u001b[0m,                         \u001b[2m                \u001b[0m\n",
       "\u001b[2;36m           \u001b[0m         \u001b[32m'out_blocks.4.seq_forces.1.dense_mlp.1.linear.weight'\u001b[0m,                         \u001b[2m                \u001b[0m\n",
       "\u001b[2;36m           \u001b[0m         \u001b[32m'out_blocks.4.seq_forces.2.dense_mlp.0.linear.weight'\u001b[0m,                         \u001b[2m                \u001b[0m\n",
       "\u001b[2;36m           \u001b[0m         \u001b[32m'out_blocks.4.seq_forces.2.dense_mlp.1.linear.weight'\u001b[0m\u001b[1m]\u001b[0m, which were ignored     \u001b[2m                \u001b[0m\n",
       "\u001b[2;36m           \u001b[0m         during loading.                                                                \u001b[2m                \u001b[0m\n"
      ]
     },
     "metadata": {},
     "output_type": "display_data"
    },
    {
     "data": {
      "text/html": [
       "<pre style=\"white-space:pre;overflow-x:auto;line-height:normal;font-family:Menlo,'DejaVu Sans Mono',consolas,'Courier New',monospace\"><span style=\"color: #7fbfbf; text-decoration-color: #7fbfbf\">           </span><span style=\"background-color: #800000; font-weight: bold\">CRITICAL</span> <span style=\"color: #808000; text-decoration-color: #808000\">pattern</span>=<span style=\"color: #008000; text-decoration-color: #008000\">'out_blocks.4.dense_rbf_F.*'</span> matched keys                              <a href=\"file:///workspaces/repositories/jmp-peft/src/jmppeft/utils/state_dict.py\" target=\"_blank\"><span style=\"color: #7f7f7f; text-decoration-color: #7f7f7f\">state_dict.py</span></a><span style=\"color: #7f7f7f; text-decoration-color: #7f7f7f\">:</span><a href=\"file:///workspaces/repositories/jmp-peft/src/jmppeft/utils/state_dict.py#74\" target=\"_blank\"><span style=\"color: #7f7f7f; text-decoration-color: #7f7f7f\">74</span></a>\n",
       "<span style=\"color: #7fbfbf; text-decoration-color: #7fbfbf\">           </span>         <span style=\"font-weight: bold\">[</span><span style=\"color: #008000; text-decoration-color: #008000\">'out_blocks.4.dense_rbf_F.linear.weight'</span><span style=\"font-weight: bold\">]</span>, which were ignored during loading. <span style=\"color: #7f7f7f; text-decoration-color: #7f7f7f\">                </span>\n",
       "</pre>\n"
      ],
      "text/plain": [
       "\u001b[2;36m          \u001b[0m\u001b[2;36m \u001b[0m\u001b[1;7;31mCRITICAL\u001b[0m \u001b[33mpattern\u001b[0m=\u001b[32m'out_blocks.4.dense_rbf_F.*'\u001b[0m matched keys                              \u001b]8;id=136550;file:///workspaces/repositories/jmp-peft/src/jmppeft/utils/state_dict.py\u001b\\\u001b[2mstate_dict.py\u001b[0m\u001b]8;;\u001b\\\u001b[2m:\u001b[0m\u001b]8;id=919360;file:///workspaces/repositories/jmp-peft/src/jmppeft/utils/state_dict.py#74\u001b\\\u001b[2m74\u001b[0m\u001b]8;;\u001b\\\n",
       "\u001b[2;36m           \u001b[0m         \u001b[1m[\u001b[0m\u001b[32m'out_blocks.4.dense_rbf_F.linear.weight'\u001b[0m\u001b[1m]\u001b[0m, which were ignored during loading. \u001b[2m                \u001b[0m\n"
      ]
     },
     "metadata": {},
     "output_type": "display_data"
    },
    {
     "data": {
      "text/html": [
       "<pre style=\"white-space:pre;overflow-x:auto;line-height:normal;font-family:Menlo,'DejaVu Sans Mono',consolas,'Courier New',monospace\"><span style=\"color: #7fbfbf; text-decoration-color: #7fbfbf\">           </span><span style=\"background-color: #800000; font-weight: bold\">CRITICAL</span> <span style=\"color: #808000; text-decoration-color: #808000\">pattern</span>=<span style=\"color: #008000; text-decoration-color: #008000\">'out_blocks.5.scale_rbf_F.*'</span> matched keys                              <a href=\"file:///workspaces/repositories/jmp-peft/src/jmppeft/utils/state_dict.py\" target=\"_blank\"><span style=\"color: #7f7f7f; text-decoration-color: #7f7f7f\">state_dict.py</span></a><span style=\"color: #7f7f7f; text-decoration-color: #7f7f7f\">:</span><a href=\"file:///workspaces/repositories/jmp-peft/src/jmppeft/utils/state_dict.py#74\" target=\"_blank\"><span style=\"color: #7f7f7f; text-decoration-color: #7f7f7f\">74</span></a>\n",
       "<span style=\"color: #7fbfbf; text-decoration-color: #7fbfbf\">           </span>         <span style=\"font-weight: bold\">[</span><span style=\"color: #008000; text-decoration-color: #008000\">'out_blocks.5.scale_rbf_F.scale_factor'</span><span style=\"font-weight: bold\">]</span>, which were ignored during loading.  <span style=\"color: #7f7f7f; text-decoration-color: #7f7f7f\">                </span>\n",
       "</pre>\n"
      ],
      "text/plain": [
       "\u001b[2;36m          \u001b[0m\u001b[2;36m \u001b[0m\u001b[1;7;31mCRITICAL\u001b[0m \u001b[33mpattern\u001b[0m=\u001b[32m'out_blocks.5.scale_rbf_F.*'\u001b[0m matched keys                              \u001b]8;id=84146;file:///workspaces/repositories/jmp-peft/src/jmppeft/utils/state_dict.py\u001b\\\u001b[2mstate_dict.py\u001b[0m\u001b]8;;\u001b\\\u001b[2m:\u001b[0m\u001b]8;id=941802;file:///workspaces/repositories/jmp-peft/src/jmppeft/utils/state_dict.py#74\u001b\\\u001b[2m74\u001b[0m\u001b]8;;\u001b\\\n",
       "\u001b[2;36m           \u001b[0m         \u001b[1m[\u001b[0m\u001b[32m'out_blocks.5.scale_rbf_F.scale_factor'\u001b[0m\u001b[1m]\u001b[0m, which were ignored during loading.  \u001b[2m                \u001b[0m\n"
      ]
     },
     "metadata": {},
     "output_type": "display_data"
    },
    {
     "data": {
      "text/html": [
       "<pre style=\"white-space:pre;overflow-x:auto;line-height:normal;font-family:Menlo,'DejaVu Sans Mono',consolas,'Courier New',monospace\"><span style=\"color: #7fbfbf; text-decoration-color: #7fbfbf\">           </span><span style=\"background-color: #800000; font-weight: bold\">CRITICAL</span> <span style=\"color: #808000; text-decoration-color: #808000\">pattern</span>=<span style=\"color: #008000; text-decoration-color: #008000\">'out_blocks.5.seq_forces.*'</span> matched keys                               <a href=\"file:///workspaces/repositories/jmp-peft/src/jmppeft/utils/state_dict.py\" target=\"_blank\"><span style=\"color: #7f7f7f; text-decoration-color: #7f7f7f\">state_dict.py</span></a><span style=\"color: #7f7f7f; text-decoration-color: #7f7f7f\">:</span><a href=\"file:///workspaces/repositories/jmp-peft/src/jmppeft/utils/state_dict.py#74\" target=\"_blank\"><span style=\"color: #7f7f7f; text-decoration-color: #7f7f7f\">74</span></a>\n",
       "<span style=\"color: #7fbfbf; text-decoration-color: #7fbfbf\">           </span>         <span style=\"font-weight: bold\">[</span><span style=\"color: #008000; text-decoration-color: #008000\">'out_blocks.5.seq_forces.0.dense_mlp.0.linear.weight'</span>,                        <span style=\"color: #7f7f7f; text-decoration-color: #7f7f7f\">                </span>\n",
       "<span style=\"color: #7fbfbf; text-decoration-color: #7fbfbf\">           </span>         <span style=\"color: #008000; text-decoration-color: #008000\">'out_blocks.5.seq_forces.0.dense_mlp.1.linear.weight'</span>,                         <span style=\"color: #7f7f7f; text-decoration-color: #7f7f7f\">                </span>\n",
       "<span style=\"color: #7fbfbf; text-decoration-color: #7fbfbf\">           </span>         <span style=\"color: #008000; text-decoration-color: #008000\">'out_blocks.5.seq_forces.1.dense_mlp.0.linear.weight'</span>,                         <span style=\"color: #7f7f7f; text-decoration-color: #7f7f7f\">                </span>\n",
       "<span style=\"color: #7fbfbf; text-decoration-color: #7fbfbf\">           </span>         <span style=\"color: #008000; text-decoration-color: #008000\">'out_blocks.5.seq_forces.1.dense_mlp.1.linear.weight'</span>,                         <span style=\"color: #7f7f7f; text-decoration-color: #7f7f7f\">                </span>\n",
       "<span style=\"color: #7fbfbf; text-decoration-color: #7fbfbf\">           </span>         <span style=\"color: #008000; text-decoration-color: #008000\">'out_blocks.5.seq_forces.2.dense_mlp.0.linear.weight'</span>,                         <span style=\"color: #7f7f7f; text-decoration-color: #7f7f7f\">                </span>\n",
       "<span style=\"color: #7fbfbf; text-decoration-color: #7fbfbf\">           </span>         <span style=\"color: #008000; text-decoration-color: #008000\">'out_blocks.5.seq_forces.2.dense_mlp.1.linear.weight'</span><span style=\"font-weight: bold\">]</span>, which were ignored     <span style=\"color: #7f7f7f; text-decoration-color: #7f7f7f\">                </span>\n",
       "<span style=\"color: #7fbfbf; text-decoration-color: #7fbfbf\">           </span>         during loading.                                                                <span style=\"color: #7f7f7f; text-decoration-color: #7f7f7f\">                </span>\n",
       "</pre>\n"
      ],
      "text/plain": [
       "\u001b[2;36m          \u001b[0m\u001b[2;36m \u001b[0m\u001b[1;7;31mCRITICAL\u001b[0m \u001b[33mpattern\u001b[0m=\u001b[32m'out_blocks.5.seq_forces.*'\u001b[0m matched keys                               \u001b]8;id=716700;file:///workspaces/repositories/jmp-peft/src/jmppeft/utils/state_dict.py\u001b\\\u001b[2mstate_dict.py\u001b[0m\u001b]8;;\u001b\\\u001b[2m:\u001b[0m\u001b]8;id=410303;file:///workspaces/repositories/jmp-peft/src/jmppeft/utils/state_dict.py#74\u001b\\\u001b[2m74\u001b[0m\u001b]8;;\u001b\\\n",
       "\u001b[2;36m           \u001b[0m         \u001b[1m[\u001b[0m\u001b[32m'out_blocks.5.seq_forces.0.dense_mlp.0.linear.weight'\u001b[0m,                        \u001b[2m                \u001b[0m\n",
       "\u001b[2;36m           \u001b[0m         \u001b[32m'out_blocks.5.seq_forces.0.dense_mlp.1.linear.weight'\u001b[0m,                         \u001b[2m                \u001b[0m\n",
       "\u001b[2;36m           \u001b[0m         \u001b[32m'out_blocks.5.seq_forces.1.dense_mlp.0.linear.weight'\u001b[0m,                         \u001b[2m                \u001b[0m\n",
       "\u001b[2;36m           \u001b[0m         \u001b[32m'out_blocks.5.seq_forces.1.dense_mlp.1.linear.weight'\u001b[0m,                         \u001b[2m                \u001b[0m\n",
       "\u001b[2;36m           \u001b[0m         \u001b[32m'out_blocks.5.seq_forces.2.dense_mlp.0.linear.weight'\u001b[0m,                         \u001b[2m                \u001b[0m\n",
       "\u001b[2;36m           \u001b[0m         \u001b[32m'out_blocks.5.seq_forces.2.dense_mlp.1.linear.weight'\u001b[0m\u001b[1m]\u001b[0m, which were ignored     \u001b[2m                \u001b[0m\n",
       "\u001b[2;36m           \u001b[0m         during loading.                                                                \u001b[2m                \u001b[0m\n"
      ]
     },
     "metadata": {},
     "output_type": "display_data"
    },
    {
     "data": {
      "text/html": [
       "<pre style=\"white-space:pre;overflow-x:auto;line-height:normal;font-family:Menlo,'DejaVu Sans Mono',consolas,'Courier New',monospace\"><span style=\"color: #7fbfbf; text-decoration-color: #7fbfbf\">           </span><span style=\"background-color: #800000; font-weight: bold\">CRITICAL</span> <span style=\"color: #808000; text-decoration-color: #808000\">pattern</span>=<span style=\"color: #008000; text-decoration-color: #008000\">'out_blocks.5.dense_rbf_F.*'</span> matched keys                              <a href=\"file:///workspaces/repositories/jmp-peft/src/jmppeft/utils/state_dict.py\" target=\"_blank\"><span style=\"color: #7f7f7f; text-decoration-color: #7f7f7f\">state_dict.py</span></a><span style=\"color: #7f7f7f; text-decoration-color: #7f7f7f\">:</span><a href=\"file:///workspaces/repositories/jmp-peft/src/jmppeft/utils/state_dict.py#74\" target=\"_blank\"><span style=\"color: #7f7f7f; text-decoration-color: #7f7f7f\">74</span></a>\n",
       "<span style=\"color: #7fbfbf; text-decoration-color: #7fbfbf\">           </span>         <span style=\"font-weight: bold\">[</span><span style=\"color: #008000; text-decoration-color: #008000\">'out_blocks.5.dense_rbf_F.linear.weight'</span><span style=\"font-weight: bold\">]</span>, which were ignored during loading. <span style=\"color: #7f7f7f; text-decoration-color: #7f7f7f\">                </span>\n",
       "</pre>\n"
      ],
      "text/plain": [
       "\u001b[2;36m          \u001b[0m\u001b[2;36m \u001b[0m\u001b[1;7;31mCRITICAL\u001b[0m \u001b[33mpattern\u001b[0m=\u001b[32m'out_blocks.5.dense_rbf_F.*'\u001b[0m matched keys                              \u001b]8;id=547136;file:///workspaces/repositories/jmp-peft/src/jmppeft/utils/state_dict.py\u001b\\\u001b[2mstate_dict.py\u001b[0m\u001b]8;;\u001b\\\u001b[2m:\u001b[0m\u001b]8;id=851054;file:///workspaces/repositories/jmp-peft/src/jmppeft/utils/state_dict.py#74\u001b\\\u001b[2m74\u001b[0m\u001b]8;;\u001b\\\n",
       "\u001b[2;36m           \u001b[0m         \u001b[1m[\u001b[0m\u001b[32m'out_blocks.5.dense_rbf_F.linear.weight'\u001b[0m\u001b[1m]\u001b[0m, which were ignored during loading. \u001b[2m                \u001b[0m\n"
      ]
     },
     "metadata": {},
     "output_type": "display_data"
    },
    {
     "data": {
      "text/html": [
       "<pre style=\"white-space:pre;overflow-x:auto;line-height:normal;font-family:Menlo,'DejaVu Sans Mono',consolas,'Courier New',monospace\"><span style=\"color: #7fbfbf; text-decoration-color: #7fbfbf\">           </span><span style=\"background-color: #800000; font-weight: bold\">CRITICAL</span> <span style=\"color: #808000; text-decoration-color: #808000\">pattern</span>=<span style=\"color: #008000; text-decoration-color: #008000\">'out_blocks.6.scale_rbf_F.*'</span> matched keys                              <a href=\"file:///workspaces/repositories/jmp-peft/src/jmppeft/utils/state_dict.py\" target=\"_blank\"><span style=\"color: #7f7f7f; text-decoration-color: #7f7f7f\">state_dict.py</span></a><span style=\"color: #7f7f7f; text-decoration-color: #7f7f7f\">:</span><a href=\"file:///workspaces/repositories/jmp-peft/src/jmppeft/utils/state_dict.py#74\" target=\"_blank\"><span style=\"color: #7f7f7f; text-decoration-color: #7f7f7f\">74</span></a>\n",
       "<span style=\"color: #7fbfbf; text-decoration-color: #7fbfbf\">           </span>         <span style=\"font-weight: bold\">[</span><span style=\"color: #008000; text-decoration-color: #008000\">'out_blocks.6.scale_rbf_F.scale_factor'</span><span style=\"font-weight: bold\">]</span>, which were ignored during loading.  <span style=\"color: #7f7f7f; text-decoration-color: #7f7f7f\">                </span>\n",
       "</pre>\n"
      ],
      "text/plain": [
       "\u001b[2;36m          \u001b[0m\u001b[2;36m \u001b[0m\u001b[1;7;31mCRITICAL\u001b[0m \u001b[33mpattern\u001b[0m=\u001b[32m'out_blocks.6.scale_rbf_F.*'\u001b[0m matched keys                              \u001b]8;id=712480;file:///workspaces/repositories/jmp-peft/src/jmppeft/utils/state_dict.py\u001b\\\u001b[2mstate_dict.py\u001b[0m\u001b]8;;\u001b\\\u001b[2m:\u001b[0m\u001b]8;id=618451;file:///workspaces/repositories/jmp-peft/src/jmppeft/utils/state_dict.py#74\u001b\\\u001b[2m74\u001b[0m\u001b]8;;\u001b\\\n",
       "\u001b[2;36m           \u001b[0m         \u001b[1m[\u001b[0m\u001b[32m'out_blocks.6.scale_rbf_F.scale_factor'\u001b[0m\u001b[1m]\u001b[0m, which were ignored during loading.  \u001b[2m                \u001b[0m\n"
      ]
     },
     "metadata": {},
     "output_type": "display_data"
    },
    {
     "data": {
      "text/html": [
       "<pre style=\"white-space:pre;overflow-x:auto;line-height:normal;font-family:Menlo,'DejaVu Sans Mono',consolas,'Courier New',monospace\"><span style=\"color: #7fbfbf; text-decoration-color: #7fbfbf\">           </span><span style=\"background-color: #800000; font-weight: bold\">CRITICAL</span> <span style=\"color: #808000; text-decoration-color: #808000\">pattern</span>=<span style=\"color: #008000; text-decoration-color: #008000\">'out_blocks.6.seq_forces.*'</span> matched keys                               <a href=\"file:///workspaces/repositories/jmp-peft/src/jmppeft/utils/state_dict.py\" target=\"_blank\"><span style=\"color: #7f7f7f; text-decoration-color: #7f7f7f\">state_dict.py</span></a><span style=\"color: #7f7f7f; text-decoration-color: #7f7f7f\">:</span><a href=\"file:///workspaces/repositories/jmp-peft/src/jmppeft/utils/state_dict.py#74\" target=\"_blank\"><span style=\"color: #7f7f7f; text-decoration-color: #7f7f7f\">74</span></a>\n",
       "<span style=\"color: #7fbfbf; text-decoration-color: #7fbfbf\">           </span>         <span style=\"font-weight: bold\">[</span><span style=\"color: #008000; text-decoration-color: #008000\">'out_blocks.6.seq_forces.0.dense_mlp.0.linear.weight'</span>,                        <span style=\"color: #7f7f7f; text-decoration-color: #7f7f7f\">                </span>\n",
       "<span style=\"color: #7fbfbf; text-decoration-color: #7fbfbf\">           </span>         <span style=\"color: #008000; text-decoration-color: #008000\">'out_blocks.6.seq_forces.0.dense_mlp.1.linear.weight'</span>,                         <span style=\"color: #7f7f7f; text-decoration-color: #7f7f7f\">                </span>\n",
       "<span style=\"color: #7fbfbf; text-decoration-color: #7fbfbf\">           </span>         <span style=\"color: #008000; text-decoration-color: #008000\">'out_blocks.6.seq_forces.1.dense_mlp.0.linear.weight'</span>,                         <span style=\"color: #7f7f7f; text-decoration-color: #7f7f7f\">                </span>\n",
       "<span style=\"color: #7fbfbf; text-decoration-color: #7fbfbf\">           </span>         <span style=\"color: #008000; text-decoration-color: #008000\">'out_blocks.6.seq_forces.1.dense_mlp.1.linear.weight'</span>,                         <span style=\"color: #7f7f7f; text-decoration-color: #7f7f7f\">                </span>\n",
       "<span style=\"color: #7fbfbf; text-decoration-color: #7fbfbf\">           </span>         <span style=\"color: #008000; text-decoration-color: #008000\">'out_blocks.6.seq_forces.2.dense_mlp.0.linear.weight'</span>,                         <span style=\"color: #7f7f7f; text-decoration-color: #7f7f7f\">                </span>\n",
       "<span style=\"color: #7fbfbf; text-decoration-color: #7fbfbf\">           </span>         <span style=\"color: #008000; text-decoration-color: #008000\">'out_blocks.6.seq_forces.2.dense_mlp.1.linear.weight'</span><span style=\"font-weight: bold\">]</span>, which were ignored     <span style=\"color: #7f7f7f; text-decoration-color: #7f7f7f\">                </span>\n",
       "<span style=\"color: #7fbfbf; text-decoration-color: #7fbfbf\">           </span>         during loading.                                                                <span style=\"color: #7f7f7f; text-decoration-color: #7f7f7f\">                </span>\n",
       "</pre>\n"
      ],
      "text/plain": [
       "\u001b[2;36m          \u001b[0m\u001b[2;36m \u001b[0m\u001b[1;7;31mCRITICAL\u001b[0m \u001b[33mpattern\u001b[0m=\u001b[32m'out_blocks.6.seq_forces.*'\u001b[0m matched keys                               \u001b]8;id=288579;file:///workspaces/repositories/jmp-peft/src/jmppeft/utils/state_dict.py\u001b\\\u001b[2mstate_dict.py\u001b[0m\u001b]8;;\u001b\\\u001b[2m:\u001b[0m\u001b]8;id=472449;file:///workspaces/repositories/jmp-peft/src/jmppeft/utils/state_dict.py#74\u001b\\\u001b[2m74\u001b[0m\u001b]8;;\u001b\\\n",
       "\u001b[2;36m           \u001b[0m         \u001b[1m[\u001b[0m\u001b[32m'out_blocks.6.seq_forces.0.dense_mlp.0.linear.weight'\u001b[0m,                        \u001b[2m                \u001b[0m\n",
       "\u001b[2;36m           \u001b[0m         \u001b[32m'out_blocks.6.seq_forces.0.dense_mlp.1.linear.weight'\u001b[0m,                         \u001b[2m                \u001b[0m\n",
       "\u001b[2;36m           \u001b[0m         \u001b[32m'out_blocks.6.seq_forces.1.dense_mlp.0.linear.weight'\u001b[0m,                         \u001b[2m                \u001b[0m\n",
       "\u001b[2;36m           \u001b[0m         \u001b[32m'out_blocks.6.seq_forces.1.dense_mlp.1.linear.weight'\u001b[0m,                         \u001b[2m                \u001b[0m\n",
       "\u001b[2;36m           \u001b[0m         \u001b[32m'out_blocks.6.seq_forces.2.dense_mlp.0.linear.weight'\u001b[0m,                         \u001b[2m                \u001b[0m\n",
       "\u001b[2;36m           \u001b[0m         \u001b[32m'out_blocks.6.seq_forces.2.dense_mlp.1.linear.weight'\u001b[0m\u001b[1m]\u001b[0m, which were ignored     \u001b[2m                \u001b[0m\n",
       "\u001b[2;36m           \u001b[0m         during loading.                                                                \u001b[2m                \u001b[0m\n"
      ]
     },
     "metadata": {},
     "output_type": "display_data"
    },
    {
     "data": {
      "text/html": [
       "<pre style=\"white-space:pre;overflow-x:auto;line-height:normal;font-family:Menlo,'DejaVu Sans Mono',consolas,'Courier New',monospace\"><span style=\"color: #7fbfbf; text-decoration-color: #7fbfbf\">           </span><span style=\"background-color: #800000; font-weight: bold\">CRITICAL</span> <span style=\"color: #808000; text-decoration-color: #808000\">pattern</span>=<span style=\"color: #008000; text-decoration-color: #008000\">'out_blocks.6.dense_rbf_F.*'</span> matched keys                              <a href=\"file:///workspaces/repositories/jmp-peft/src/jmppeft/utils/state_dict.py\" target=\"_blank\"><span style=\"color: #7f7f7f; text-decoration-color: #7f7f7f\">state_dict.py</span></a><span style=\"color: #7f7f7f; text-decoration-color: #7f7f7f\">:</span><a href=\"file:///workspaces/repositories/jmp-peft/src/jmppeft/utils/state_dict.py#74\" target=\"_blank\"><span style=\"color: #7f7f7f; text-decoration-color: #7f7f7f\">74</span></a>\n",
       "<span style=\"color: #7fbfbf; text-decoration-color: #7fbfbf\">           </span>         <span style=\"font-weight: bold\">[</span><span style=\"color: #008000; text-decoration-color: #008000\">'out_blocks.6.dense_rbf_F.linear.weight'</span><span style=\"font-weight: bold\">]</span>, which were ignored during loading. <span style=\"color: #7f7f7f; text-decoration-color: #7f7f7f\">                </span>\n",
       "</pre>\n"
      ],
      "text/plain": [
       "\u001b[2;36m          \u001b[0m\u001b[2;36m \u001b[0m\u001b[1;7;31mCRITICAL\u001b[0m \u001b[33mpattern\u001b[0m=\u001b[32m'out_blocks.6.dense_rbf_F.*'\u001b[0m matched keys                              \u001b]8;id=961482;file:///workspaces/repositories/jmp-peft/src/jmppeft/utils/state_dict.py\u001b\\\u001b[2mstate_dict.py\u001b[0m\u001b]8;;\u001b\\\u001b[2m:\u001b[0m\u001b]8;id=831861;file:///workspaces/repositories/jmp-peft/src/jmppeft/utils/state_dict.py#74\u001b\\\u001b[2m74\u001b[0m\u001b]8;;\u001b\\\n",
       "\u001b[2;36m           \u001b[0m         \u001b[1m[\u001b[0m\u001b[32m'out_blocks.6.dense_rbf_F.linear.weight'\u001b[0m\u001b[1m]\u001b[0m, which were ignored during loading. \u001b[2m                \u001b[0m\n"
      ]
     },
     "metadata": {},
     "output_type": "display_data"
    },
    {
     "data": {
      "text/html": [
       "<pre style=\"white-space:pre;overflow-x:auto;line-height:normal;font-family:Menlo,'DejaVu Sans Mono',consolas,'Courier New',monospace\"><span style=\"color: #7fbfbf; text-decoration-color: #7fbfbf\">           </span><span style=\"background-color: #800000; font-weight: bold\">CRITICAL</span> <span style=\"color: #808000; text-decoration-color: #808000\">pattern</span>=<span style=\"color: #008000; text-decoration-color: #008000\">'out_mlp_F.*'</span> matched keys <span style=\"font-weight: bold\">[</span><span style=\"color: #008000; text-decoration-color: #008000\">'out_mlp_F.out_mlp.0.linear.weight'</span>,       <a href=\"file:///workspaces/repositories/jmp-peft/src/jmppeft/utils/state_dict.py\" target=\"_blank\"><span style=\"color: #7f7f7f; text-decoration-color: #7f7f7f\">state_dict.py</span></a><span style=\"color: #7f7f7f; text-decoration-color: #7f7f7f\">:</span><a href=\"file:///workspaces/repositories/jmp-peft/src/jmppeft/utils/state_dict.py#74\" target=\"_blank\"><span style=\"color: #7f7f7f; text-decoration-color: #7f7f7f\">74</span></a>\n",
       "<span style=\"color: #7fbfbf; text-decoration-color: #7fbfbf\">           </span>         <span style=\"color: #008000; text-decoration-color: #008000\">'out_mlp_F.out_mlp.1.dense_mlp.0.linear.weight'</span>,                               <span style=\"color: #7f7f7f; text-decoration-color: #7f7f7f\">                </span>\n",
       "<span style=\"color: #7fbfbf; text-decoration-color: #7fbfbf\">           </span>         <span style=\"color: #008000; text-decoration-color: #008000\">'out_mlp_F.out_mlp.1.dense_mlp.1.linear.weight'</span>,                               <span style=\"color: #7f7f7f; text-decoration-color: #7f7f7f\">                </span>\n",
       "<span style=\"color: #7fbfbf; text-decoration-color: #7fbfbf\">           </span>         <span style=\"color: #008000; text-decoration-color: #008000\">'out_mlp_F.out_mlp.2.dense_mlp.0.linear.weight'</span>,                               <span style=\"color: #7f7f7f; text-decoration-color: #7f7f7f\">                </span>\n",
       "<span style=\"color: #7fbfbf; text-decoration-color: #7fbfbf\">           </span>         <span style=\"color: #008000; text-decoration-color: #008000\">'out_mlp_F.out_mlp.2.dense_mlp.1.linear.weight'</span><span style=\"font-weight: bold\">]</span>, which were ignored during    <span style=\"color: #7f7f7f; text-decoration-color: #7f7f7f\">                </span>\n",
       "<span style=\"color: #7fbfbf; text-decoration-color: #7fbfbf\">           </span>         loading.                                                                       <span style=\"color: #7f7f7f; text-decoration-color: #7f7f7f\">                </span>\n",
       "</pre>\n"
      ],
      "text/plain": [
       "\u001b[2;36m          \u001b[0m\u001b[2;36m \u001b[0m\u001b[1;7;31mCRITICAL\u001b[0m \u001b[33mpattern\u001b[0m=\u001b[32m'out_mlp_F.*'\u001b[0m matched keys \u001b[1m[\u001b[0m\u001b[32m'out_mlp_F.out_mlp.0.linear.weight'\u001b[0m,       \u001b]8;id=120952;file:///workspaces/repositories/jmp-peft/src/jmppeft/utils/state_dict.py\u001b\\\u001b[2mstate_dict.py\u001b[0m\u001b]8;;\u001b\\\u001b[2m:\u001b[0m\u001b]8;id=510073;file:///workspaces/repositories/jmp-peft/src/jmppeft/utils/state_dict.py#74\u001b\\\u001b[2m74\u001b[0m\u001b]8;;\u001b\\\n",
       "\u001b[2;36m           \u001b[0m         \u001b[32m'out_mlp_F.out_mlp.1.dense_mlp.0.linear.weight'\u001b[0m,                               \u001b[2m                \u001b[0m\n",
       "\u001b[2;36m           \u001b[0m         \u001b[32m'out_mlp_F.out_mlp.1.dense_mlp.1.linear.weight'\u001b[0m,                               \u001b[2m                \u001b[0m\n",
       "\u001b[2;36m           \u001b[0m         \u001b[32m'out_mlp_F.out_mlp.2.dense_mlp.0.linear.weight'\u001b[0m,                               \u001b[2m                \u001b[0m\n",
       "\u001b[2;36m           \u001b[0m         \u001b[32m'out_mlp_F.out_mlp.2.dense_mlp.1.linear.weight'\u001b[0m\u001b[1m]\u001b[0m, which were ignored during    \u001b[2m                \u001b[0m\n",
       "\u001b[2;36m           \u001b[0m         loading.                                                                       \u001b[2m                \u001b[0m\n"
      ]
     },
     "metadata": {},
     "output_type": "display_data"
    },
    {
     "data": {
      "text/html": [
       "<pre style=\"white-space:pre;overflow-x:auto;line-height:normal;font-family:Menlo,'DejaVu Sans Mono',consolas,'Courier New',monospace\"><span style=\"color: #7fbfbf; text-decoration-color: #7fbfbf\">           </span><span style=\"background-color: #800000; font-weight: bold\">CRITICAL</span> Loaded backbone state dict <span style=\"font-weight: bold\">(</span>backbone and embedding<span style=\"font-weight: bold\">)</span>.                               <a href=\"file:///workspaces/repositories/jmp-peft/src/jmppeft/tasks/finetune/base.py\" target=\"_blank\"><span style=\"color: #7f7f7f; text-decoration-color: #7f7f7f\">base.py</span></a><span style=\"color: #7f7f7f; text-decoration-color: #7f7f7f\">:</span><a href=\"file:///workspaces/repositories/jmp-peft/src/jmppeft/tasks/finetune/base.py#1046\" target=\"_blank\"><span style=\"color: #7f7f7f; text-decoration-color: #7f7f7f\">1046</span></a>\n",
       "</pre>\n"
      ],
      "text/plain": [
       "\u001b[2;36m          \u001b[0m\u001b[2;36m \u001b[0m\u001b[1;7;31mCRITICAL\u001b[0m Loaded backbone state dict \u001b[1m(\u001b[0mbackbone and embedding\u001b[1m)\u001b[0m.                               \u001b]8;id=284203;file:///workspaces/repositories/jmp-peft/src/jmppeft/tasks/finetune/base.py\u001b\\\u001b[2mbase.py\u001b[0m\u001b]8;;\u001b\\\u001b[2m:\u001b[0m\u001b]8;id=122824;file:///workspaces/repositories/jmp-peft/src/jmppeft/tasks/finetune/base.py#1046\u001b\\\u001b[2m1046\u001b[0m\u001b]8;;\u001b\\\n"
      ]
     },
     "metadata": {},
     "output_type": "display_data"
    },
    {
     "data": {
      "text/html": [
       "<pre style=\"white-space:pre;overflow-x:auto;line-height:normal;font-family:Menlo,'DejaVu Sans Mono',consolas,'Courier New',monospace\"><span style=\"color: #7fbfbf; text-decoration-color: #7fbfbf\">           </span><span style=\"background-color: #800000; font-weight: bold\">CRITICAL</span> Disabling loggers because fast_dev_run is enabled.                               <a href=\"file:///workspaces/repositories/fm/src/ll/trainer/trainer.py\" target=\"_blank\"><span style=\"color: #7f7f7f; text-decoration-color: #7f7f7f\">trainer.py</span></a><span style=\"color: #7f7f7f; text-decoration-color: #7f7f7f\">:</span><a href=\"file:///workspaces/repositories/fm/src/ll/trainer/trainer.py#305\" target=\"_blank\"><span style=\"color: #7f7f7f; text-decoration-color: #7f7f7f\">305</span></a>\n",
       "</pre>\n"
      ],
      "text/plain": [
       "\u001b[2;36m          \u001b[0m\u001b[2;36m \u001b[0m\u001b[1;7;31mCRITICAL\u001b[0m Disabling loggers because fast_dev_run is enabled.                               \u001b]8;id=348689;file:///workspaces/repositories/fm/src/ll/trainer/trainer.py\u001b\\\u001b[2mtrainer.py\u001b[0m\u001b]8;;\u001b\\\u001b[2m:\u001b[0m\u001b]8;id=446830;file:///workspaces/repositories/fm/src/ll/trainer/trainer.py#305\u001b\\\u001b[2m305\u001b[0m\u001b]8;;\u001b\\\n"
      ]
     },
     "metadata": {},
     "output_type": "display_data"
    },
    {
     "data": {
      "text/html": [
       "<pre style=\"white-space:pre;overflow-x:auto;line-height:normal;font-family:Menlo,'DejaVu Sans Mono',consolas,'Courier New',monospace\"><span style=\"color: #7fbfbf; text-decoration-color: #7fbfbf\">           </span><span style=\"background-color: #800000; font-weight: bold\">CRITICAL</span> Setting num_nodes to <span style=\"color: #008080; text-decoration-color: #008080; font-weight: bold\">1</span> <span style=\"font-weight: bold\">(</span>no SLURM detected<span style=\"font-weight: bold\">)</span>.                                      <a href=\"file:///workspaces/repositories/fm/src/ll/trainer/trainer.py\" target=\"_blank\"><span style=\"color: #7f7f7f; text-decoration-color: #7f7f7f\">trainer.py</span></a><span style=\"color: #7f7f7f; text-decoration-color: #7f7f7f\">:</span><a href=\"file:///workspaces/repositories/fm/src/ll/trainer/trainer.py#336\" target=\"_blank\"><span style=\"color: #7f7f7f; text-decoration-color: #7f7f7f\">336</span></a>\n",
       "</pre>\n"
      ],
      "text/plain": [
       "\u001b[2;36m          \u001b[0m\u001b[2;36m \u001b[0m\u001b[1;7;31mCRITICAL\u001b[0m Setting num_nodes to \u001b[1;36m1\u001b[0m \u001b[1m(\u001b[0mno SLURM detected\u001b[1m)\u001b[0m.                                      \u001b]8;id=896870;file:///workspaces/repositories/fm/src/ll/trainer/trainer.py\u001b\\\u001b[2mtrainer.py\u001b[0m\u001b]8;;\u001b\\\u001b[2m:\u001b[0m\u001b]8;id=731560;file:///workspaces/repositories/fm/src/ll/trainer/trainer.py#336\u001b\\\u001b[2m336\u001b[0m\u001b]8;;\u001b\\\n"
      ]
     },
     "metadata": {},
     "output_type": "display_data"
    },
    {
     "data": {
      "text/html": [
       "<pre style=\"white-space:pre;overflow-x:auto;line-height:normal;font-family:Menlo,'DejaVu Sans Mono',consolas,'Courier New',monospace\"><span style=\"color: #7fbfbf; text-decoration-color: #7fbfbf\">           </span><span style=\"background-color: #800000; font-weight: bold\">CRITICAL</span> LightningTrainer.__init__ with <span style=\"color: #808000; text-decoration-color: #808000\">args</span>=<span style=\"font-weight: bold\">()</span> and <span style=\"color: #808000; text-decoration-color: #808000\">kwargs</span>=<span style=\"font-weight: bold\">{</span><span style=\"color: #008000; text-decoration-color: #008000\">'accelerator'</span>: <span style=\"color: #008000; text-decoration-color: #008000\">'auto'</span>,        <a href=\"file:///workspaces/repositories/fm/src/ll/trainer/trainer.py\" target=\"_blank\"><span style=\"color: #7f7f7f; text-decoration-color: #7f7f7f\">trainer.py</span></a><span style=\"color: #7f7f7f; text-decoration-color: #7f7f7f\">:</span><a href=\"file:///workspaces/repositories/fm/src/ll/trainer/trainer.py#360\" target=\"_blank\"><span style=\"color: #7f7f7f; text-decoration-color: #7f7f7f\">360</span></a>\n",
       "<span style=\"color: #7fbfbf; text-decoration-color: #7fbfbf\">           </span>         <span style=\"color: #008000; text-decoration-color: #008000\">'strategy'</span>: <span style=\"color: #008000; text-decoration-color: #008000\">'auto'</span>, <span style=\"color: #008000; text-decoration-color: #008000\">'devices'</span>: <span style=\"color: #008000; text-decoration-color: #008000\">'auto'</span>, <span style=\"color: #008000; text-decoration-color: #008000\">'num_nodes'</span>: <span style=\"color: #008080; text-decoration-color: #008080; font-weight: bold\">1</span>, <span style=\"color: #008000; text-decoration-color: #008000\">'precision'</span>: <span style=\"color: #008000; text-decoration-color: #008000\">'16-mixed'</span>,  <span style=\"color: #7f7f7f; text-decoration-color: #7f7f7f\">              </span>\n",
       "<span style=\"color: #7fbfbf; text-decoration-color: #7fbfbf\">           </span>         <span style=\"color: #008000; text-decoration-color: #008000\">'logger'</span>: <span style=\"color: #800080; text-decoration-color: #800080; font-style: italic\">None</span>, <span style=\"color: #008000; text-decoration-color: #008000\">'fast_dev_run'</span>: <span style=\"color: #008080; text-decoration-color: #008080; font-weight: bold\">1</span>, <span style=\"color: #008000; text-decoration-color: #008000\">'max_epochs'</span>: <span style=\"color: #008080; text-decoration-color: #008080; font-weight: bold\">100000</span>, <span style=\"color: #008000; text-decoration-color: #008000\">'min_epochs'</span>: <span style=\"color: #800080; text-decoration-color: #800080; font-style: italic\">None</span>,     <span style=\"color: #7f7f7f; text-decoration-color: #7f7f7f\">              </span>\n",
       "<span style=\"color: #7fbfbf; text-decoration-color: #7fbfbf\">           </span>         <span style=\"color: #008000; text-decoration-color: #008000\">'max_steps'</span>: <span style=\"color: #008080; text-decoration-color: #008080; font-weight: bold\">-1</span>, <span style=\"color: #008000; text-decoration-color: #008000\">'min_steps'</span>: <span style=\"color: #800080; text-decoration-color: #800080; font-style: italic\">None</span>, <span style=\"color: #008000; text-decoration-color: #008000\">'max_time'</span>: <span style=\"color: #008000; text-decoration-color: #008000\">'07:00:00:00'</span>,                   <span style=\"color: #7f7f7f; text-decoration-color: #7f7f7f\">              </span>\n",
       "<span style=\"color: #7fbfbf; text-decoration-color: #7fbfbf\">           </span>         <span style=\"color: #008000; text-decoration-color: #008000\">'limit_train_batches'</span>: <span style=\"color: #800080; text-decoration-color: #800080; font-style: italic\">None</span>, <span style=\"color: #008000; text-decoration-color: #008000\">'limit_val_batches'</span>: <span style=\"color: #800080; text-decoration-color: #800080; font-style: italic\">None</span>, <span style=\"color: #008000; text-decoration-color: #008000\">'limit_test_batches'</span>:    <span style=\"color: #7f7f7f; text-decoration-color: #7f7f7f\">              </span>\n",
       "<span style=\"color: #7fbfbf; text-decoration-color: #7fbfbf\">           </span>         <span style=\"color: #800080; text-decoration-color: #800080; font-style: italic\">None</span>, <span style=\"color: #008000; text-decoration-color: #008000\">'limit_predict_batches'</span>: <span style=\"color: #800080; text-decoration-color: #800080; font-style: italic\">None</span>, <span style=\"color: #008000; text-decoration-color: #008000\">'overfit_batches'</span>: <span style=\"color: #008080; text-decoration-color: #008080; font-weight: bold\">0.0</span>,                     <span style=\"color: #7f7f7f; text-decoration-color: #7f7f7f\">              </span>\n",
       "<span style=\"color: #7fbfbf; text-decoration-color: #7fbfbf\">           </span>         <span style=\"color: #008000; text-decoration-color: #008000\">'val_check_interval'</span>: <span style=\"color: #800080; text-decoration-color: #800080; font-style: italic\">None</span>, <span style=\"color: #008000; text-decoration-color: #008000\">'check_val_every_n_epoch'</span>: <span style=\"color: #008080; text-decoration-color: #008080; font-weight: bold\">1</span>,                        <span style=\"color: #7f7f7f; text-decoration-color: #7f7f7f\">              </span>\n",
       "<span style=\"color: #7fbfbf; text-decoration-color: #7fbfbf\">           </span>         <span style=\"color: #008000; text-decoration-color: #008000\">'num_sanity_val_steps'</span>: <span style=\"color: #800080; text-decoration-color: #800080; font-style: italic\">None</span>, <span style=\"color: #008000; text-decoration-color: #008000\">'log_every_n_steps'</span>: <span style=\"color: #008080; text-decoration-color: #008080; font-weight: bold\">50</span>, <span style=\"color: #008000; text-decoration-color: #008000\">'enable_checkpointing'</span>:   <span style=\"color: #7f7f7f; text-decoration-color: #7f7f7f\">              </span>\n",
       "<span style=\"color: #7fbfbf; text-decoration-color: #7fbfbf\">           </span>         <span style=\"color: #800080; text-decoration-color: #800080; font-style: italic\">None</span>, <span style=\"color: #008000; text-decoration-color: #008000\">'enable_progress_bar'</span>: <span style=\"color: #800080; text-decoration-color: #800080; font-style: italic\">None</span>, <span style=\"color: #008000; text-decoration-color: #008000\">'enable_model_summary'</span>: <span style=\"color: #800080; text-decoration-color: #800080; font-style: italic\">None</span>,                 <span style=\"color: #7f7f7f; text-decoration-color: #7f7f7f\">              </span>\n",
       "<span style=\"color: #7fbfbf; text-decoration-color: #7fbfbf\">           </span>         <span style=\"color: #008000; text-decoration-color: #008000\">'accumulate_grad_batches'</span>: <span style=\"color: #008080; text-decoration-color: #008080; font-weight: bold\">1</span>, <span style=\"color: #008000; text-decoration-color: #008000\">'deterministic'</span>: <span style=\"color: #800080; text-decoration-color: #800080; font-style: italic\">None</span>, <span style=\"color: #008000; text-decoration-color: #008000\">'benchmark'</span>: <span style=\"color: #800080; text-decoration-color: #800080; font-style: italic\">None</span>,          <span style=\"color: #7f7f7f; text-decoration-color: #7f7f7f\">              </span>\n",
       "<span style=\"color: #7fbfbf; text-decoration-color: #7fbfbf\">           </span>         <span style=\"color: #008000; text-decoration-color: #008000\">'inference_mode'</span>: <span style=\"color: #ff0000; text-decoration-color: #ff0000; font-style: italic\">False</span>, <span style=\"color: #008000; text-decoration-color: #008000\">'use_distributed_sampler'</span>: <span style=\"color: #00ff00; text-decoration-color: #00ff00; font-style: italic\">True</span>, <span style=\"color: #008000; text-decoration-color: #008000\">'detect_anomaly'</span>:      <span style=\"color: #7f7f7f; text-decoration-color: #7f7f7f\">              </span>\n",
       "<span style=\"color: #7fbfbf; text-decoration-color: #7fbfbf\">           </span>         <span style=\"color: #ff0000; text-decoration-color: #ff0000; font-style: italic\">False</span>, <span style=\"color: #008000; text-decoration-color: #008000\">'barebones'</span>: <span style=\"color: #ff0000; text-decoration-color: #ff0000; font-style: italic\">False</span>, <span style=\"color: #008000; text-decoration-color: #008000\">'plugins'</span>: <span style=\"font-weight: bold\">[]</span>, <span style=\"color: #008000; text-decoration-color: #008000\">'sync_batchnorm'</span>: <span style=\"color: #ff0000; text-decoration-color: #ff0000; font-style: italic\">False</span>,               <span style=\"color: #7f7f7f; text-decoration-color: #7f7f7f\">              </span>\n",
       "<span style=\"color: #7fbfbf; text-decoration-color: #7fbfbf\">           </span>         <span style=\"color: #008000; text-decoration-color: #008000\">'reload_dataloaders_every_n_epochs'</span>: <span style=\"color: #008080; text-decoration-color: #008080; font-weight: bold\">0</span>, <span style=\"color: #008000; text-decoration-color: #008000\">'gradient_clip_algorithm'</span>: <span style=\"color: #008000; text-decoration-color: #008000\">'value'</span>,      <span style=\"color: #7f7f7f; text-decoration-color: #7f7f7f\">              </span>\n",
       "<span style=\"color: #7fbfbf; text-decoration-color: #7fbfbf\">           </span>         <span style=\"color: #008000; text-decoration-color: #008000\">'gradient_clip_val'</span>: <span style=\"color: #008080; text-decoration-color: #008080; font-weight: bold\">1.0</span>, <span style=\"color: #008000; text-decoration-color: #008000\">'default_root_dir'</span>:                                    <span style=\"color: #7f7f7f; text-decoration-color: #7f7f7f\">              </span>\n",
       "<span style=\"color: #7fbfbf; text-decoration-color: #7fbfbf\">           </span>         <span style=\"color: #008000; text-decoration-color: #008000\">'/workspaces/repositories/jmp-peft/config/pretrain/lightning_logs/23abt9n2'</span>,     <span style=\"color: #7f7f7f; text-decoration-color: #7f7f7f\">              </span>\n",
       "<span style=\"color: #7fbfbf; text-decoration-color: #7fbfbf\">           </span>         <span style=\"color: #008000; text-decoration-color: #008000\">'callbacks'</span>:                                                                     <span style=\"color: #7f7f7f; text-decoration-color: #7f7f7f\">              </span>\n",
       "<span style=\"color: #7fbfbf; text-decoration-color: #7fbfbf\">           </span>         <span style=\"font-weight: bold\">[&lt;</span><span style=\"color: #ff00ff; text-decoration-color: #ff00ff; font-weight: bold\">lightning.pytorch.callbacks.on_exception_checkpoint.OnExceptionCheckpoint</span><span style=\"color: #000000; text-decoration-color: #000000\"> </span>     <span style=\"color: #7f7f7f; text-decoration-color: #7f7f7f\">              </span>\n",
       "<span style=\"color: #7fbfbf; text-decoration-color: #7fbfbf\">           </span>         <span style=\"color: #000000; text-decoration-color: #000000\">object at </span><span style=\"color: #008080; text-decoration-color: #008080; font-weight: bold\">0x7f983f670690</span><span style=\"font-weight: bold\">&gt;]}</span>.                                                     <span style=\"color: #7f7f7f; text-decoration-color: #7f7f7f\">              </span>\n",
       "</pre>\n"
      ],
      "text/plain": [
       "\u001b[2;36m          \u001b[0m\u001b[2;36m \u001b[0m\u001b[1;7;31mCRITICAL\u001b[0m LightningTrainer.__init__ with \u001b[33margs\u001b[0m=\u001b[1m(\u001b[0m\u001b[1m)\u001b[0m and \u001b[33mkwargs\u001b[0m=\u001b[1m{\u001b[0m\u001b[32m'accelerator'\u001b[0m: \u001b[32m'auto'\u001b[0m,        \u001b]8;id=954220;file:///workspaces/repositories/fm/src/ll/trainer/trainer.py\u001b\\\u001b[2mtrainer.py\u001b[0m\u001b]8;;\u001b\\\u001b[2m:\u001b[0m\u001b]8;id=982012;file:///workspaces/repositories/fm/src/ll/trainer/trainer.py#360\u001b\\\u001b[2m360\u001b[0m\u001b]8;;\u001b\\\n",
       "\u001b[2;36m           \u001b[0m         \u001b[32m'strategy'\u001b[0m: \u001b[32m'auto'\u001b[0m, \u001b[32m'devices'\u001b[0m: \u001b[32m'auto'\u001b[0m, \u001b[32m'num_nodes'\u001b[0m: \u001b[1;36m1\u001b[0m, \u001b[32m'precision'\u001b[0m: \u001b[32m'16-mixed'\u001b[0m,  \u001b[2m              \u001b[0m\n",
       "\u001b[2;36m           \u001b[0m         \u001b[32m'logger'\u001b[0m: \u001b[3;35mNone\u001b[0m, \u001b[32m'fast_dev_run'\u001b[0m: \u001b[1;36m1\u001b[0m, \u001b[32m'max_epochs'\u001b[0m: \u001b[1;36m100000\u001b[0m, \u001b[32m'min_epochs'\u001b[0m: \u001b[3;35mNone\u001b[0m,     \u001b[2m              \u001b[0m\n",
       "\u001b[2;36m           \u001b[0m         \u001b[32m'max_steps'\u001b[0m: \u001b[1;36m-1\u001b[0m, \u001b[32m'min_steps'\u001b[0m: \u001b[3;35mNone\u001b[0m, \u001b[32m'max_time'\u001b[0m: \u001b[32m'07:00:00:00'\u001b[0m,                   \u001b[2m              \u001b[0m\n",
       "\u001b[2;36m           \u001b[0m         \u001b[32m'limit_train_batches'\u001b[0m: \u001b[3;35mNone\u001b[0m, \u001b[32m'limit_val_batches'\u001b[0m: \u001b[3;35mNone\u001b[0m, \u001b[32m'limit_test_batches'\u001b[0m:    \u001b[2m              \u001b[0m\n",
       "\u001b[2;36m           \u001b[0m         \u001b[3;35mNone\u001b[0m, \u001b[32m'limit_predict_batches'\u001b[0m: \u001b[3;35mNone\u001b[0m, \u001b[32m'overfit_batches'\u001b[0m: \u001b[1;36m0.0\u001b[0m,                     \u001b[2m              \u001b[0m\n",
       "\u001b[2;36m           \u001b[0m         \u001b[32m'val_check_interval'\u001b[0m: \u001b[3;35mNone\u001b[0m, \u001b[32m'check_val_every_n_epoch'\u001b[0m: \u001b[1;36m1\u001b[0m,                        \u001b[2m              \u001b[0m\n",
       "\u001b[2;36m           \u001b[0m         \u001b[32m'num_sanity_val_steps'\u001b[0m: \u001b[3;35mNone\u001b[0m, \u001b[32m'log_every_n_steps'\u001b[0m: \u001b[1;36m50\u001b[0m, \u001b[32m'enable_checkpointing'\u001b[0m:   \u001b[2m              \u001b[0m\n",
       "\u001b[2;36m           \u001b[0m         \u001b[3;35mNone\u001b[0m, \u001b[32m'enable_progress_bar'\u001b[0m: \u001b[3;35mNone\u001b[0m, \u001b[32m'enable_model_summary'\u001b[0m: \u001b[3;35mNone\u001b[0m,                 \u001b[2m              \u001b[0m\n",
       "\u001b[2;36m           \u001b[0m         \u001b[32m'accumulate_grad_batches'\u001b[0m: \u001b[1;36m1\u001b[0m, \u001b[32m'deterministic'\u001b[0m: \u001b[3;35mNone\u001b[0m, \u001b[32m'benchmark'\u001b[0m: \u001b[3;35mNone\u001b[0m,          \u001b[2m              \u001b[0m\n",
       "\u001b[2;36m           \u001b[0m         \u001b[32m'inference_mode'\u001b[0m: \u001b[3;91mFalse\u001b[0m, \u001b[32m'use_distributed_sampler'\u001b[0m: \u001b[3;92mTrue\u001b[0m, \u001b[32m'detect_anomaly'\u001b[0m:      \u001b[2m              \u001b[0m\n",
       "\u001b[2;36m           \u001b[0m         \u001b[3;91mFalse\u001b[0m, \u001b[32m'barebones'\u001b[0m: \u001b[3;91mFalse\u001b[0m, \u001b[32m'plugins'\u001b[0m: \u001b[1m[\u001b[0m\u001b[1m]\u001b[0m, \u001b[32m'sync_batchnorm'\u001b[0m: \u001b[3;91mFalse\u001b[0m,               \u001b[2m              \u001b[0m\n",
       "\u001b[2;36m           \u001b[0m         \u001b[32m'reload_dataloaders_every_n_epochs'\u001b[0m: \u001b[1;36m0\u001b[0m, \u001b[32m'gradient_clip_algorithm'\u001b[0m: \u001b[32m'value'\u001b[0m,      \u001b[2m              \u001b[0m\n",
       "\u001b[2;36m           \u001b[0m         \u001b[32m'gradient_clip_val'\u001b[0m: \u001b[1;36m1.0\u001b[0m, \u001b[32m'default_root_dir'\u001b[0m:                                    \u001b[2m              \u001b[0m\n",
       "\u001b[2;36m           \u001b[0m         \u001b[32m'/workspaces/repositories/jmp-peft/config/pretrain/lightning_logs/23abt9n2'\u001b[0m,     \u001b[2m              \u001b[0m\n",
       "\u001b[2;36m           \u001b[0m         \u001b[32m'callbacks'\u001b[0m:                                                                     \u001b[2m              \u001b[0m\n",
       "\u001b[2;36m           \u001b[0m         \u001b[1m[\u001b[0m\u001b[1m<\u001b[0m\u001b[1;95mlightning.pytorch.callbacks.on_exception_checkpoint.OnExceptionCheckpoint\u001b[0m\u001b[39m \u001b[0m     \u001b[2m              \u001b[0m\n",
       "\u001b[2;36m           \u001b[0m         \u001b[39mobject at \u001b[0m\u001b[1;36m0x7f983f670690\u001b[0m\u001b[1m>\u001b[0m\u001b[1m]\u001b[0m\u001b[1m}\u001b[0m.                                                     \u001b[2m              \u001b[0m\n"
      ]
     },
     "metadata": {},
     "output_type": "display_data"
    },
    {
     "name": "stderr",
     "output_type": "stream",
     "text": [
      "Trainer will use only 1 of 2 GPUs because it is running inside an interactive / notebook environment. You may try to set `Trainer(devices=2)` but please note that multi-GPU inside interactive / notebook environments is considered experimental and unstable. Your mileage may vary.\n",
      "Using 16bit Automatic Mixed Precision (AMP)\n",
      "GPU available: True (cuda), used: True\n",
      "TPU available: False, using: 0 TPU cores\n",
      "IPU available: False, using: 0 IPUs\n",
      "HPU available: False, using: 0 HPUs\n",
      "Running in `fast_dev_run` mode: will run the requested loop using 1 batch(es). Logging and checkpointing is suppressed.\n"
     ]
    },
    {
     "data": {
      "text/html": [
       "<pre style=\"white-space:pre;overflow-x:auto;line-height:normal;font-family:Menlo,'DejaVu Sans Mono',consolas,'Courier New',monospace\"><span style=\"color: #7fbfbf; text-decoration-color: #7fbfbf\">           </span><span style=\"color: #800000; text-decoration-color: #800000\">WARNING </span> Logger DummyLogger does not support run_id, ignoring.                            <a href=\"file:///workspaces/repositories/fm/src/ll/trainer/logging.py\" target=\"_blank\"><span style=\"color: #7f7f7f; text-decoration-color: #7f7f7f\">logging.py</span></a><span style=\"color: #7f7f7f; text-decoration-color: #7f7f7f\">:</span><a href=\"file:///workspaces/repositories/fm/src/ll/trainer/logging.py#112\" target=\"_blank\"><span style=\"color: #7f7f7f; text-decoration-color: #7f7f7f\">112</span></a>\n",
       "</pre>\n"
      ],
      "text/plain": [
       "\u001b[2;36m          \u001b[0m\u001b[2;36m \u001b[0m\u001b[31mWARNING \u001b[0m Logger DummyLogger does not support run_id, ignoring.                            \u001b]8;id=665845;file:///workspaces/repositories/fm/src/ll/trainer/logging.py\u001b\\\u001b[2mlogging.py\u001b[0m\u001b]8;;\u001b\\\u001b[2m:\u001b[0m\u001b]8;id=197678;file:///workspaces/repositories/fm/src/ll/trainer/logging.py#112\u001b\\\u001b[2m112\u001b[0m\u001b]8;;\u001b\\\n"
      ]
     },
     "metadata": {},
     "output_type": "display_data"
    },
    {
     "data": {
      "text/html": [
       "<pre style=\"white-space:pre;overflow-x:auto;line-height:normal;font-family:Menlo,'DejaVu Sans Mono',consolas,'Courier New',monospace\"><span style=\"color: #7fbfbf; text-decoration-color: #7fbfbf\">           </span><span style=\"background-color: #800000; font-weight: bold\">CRITICAL</span> LightningTrainer log directory: <span style=\"color: #800080; text-decoration-color: #800080; font-style: italic\">None</span>.                                            <a href=\"file:///workspaces/repositories/fm/src/ll/trainer/trainer.py\" target=\"_blank\"><span style=\"color: #7f7f7f; text-decoration-color: #7f7f7f\">trainer.py</span></a><span style=\"color: #7f7f7f; text-decoration-color: #7f7f7f\">:</span><a href=\"file:///workspaces/repositories/fm/src/ll/trainer/trainer.py#375\" target=\"_blank\"><span style=\"color: #7f7f7f; text-decoration-color: #7f7f7f\">375</span></a>\n",
       "</pre>\n"
      ],
      "text/plain": [
       "\u001b[2;36m          \u001b[0m\u001b[2;36m \u001b[0m\u001b[1;7;31mCRITICAL\u001b[0m LightningTrainer log directory: \u001b[3;35mNone\u001b[0m.                                            \u001b]8;id=95978;file:///workspaces/repositories/fm/src/ll/trainer/trainer.py\u001b\\\u001b[2mtrainer.py\u001b[0m\u001b]8;;\u001b\\\u001b[2m:\u001b[0m\u001b]8;id=388119;file:///workspaces/repositories/fm/src/ll/trainer/trainer.py#375\u001b\\\u001b[2m375\u001b[0m\u001b]8;;\u001b\\\n"
      ]
     },
     "metadata": {},
     "output_type": "display_data"
    },
    {
     "name": "stderr",
     "output_type": "stream",
     "text": [
      "/opt/conda/envs/fm/lib/python3.11/site-packages/lightning/pytorch/trainer/connectors/checkpoint_connector.py:126: `.fit(ckpt_path=None)` was called without a model. The last model of the previous `fit` call will be used. You can pass `fit(ckpt_path='best')` to use the best model or `fit(ckpt_path='last')` to use the last model. If you pass a value, this warning will be silenced.\n",
      "/opt/conda/envs/fm/lib/python3.11/site-packages/lightning/pytorch/trainer/connectors/checkpoint_connector.py:186: .fit(ckpt_path=\"last\") is set, but there is no last checkpoint available. No checkpoint will be loaded. HINT: Set `ModelCheckpoint(..., save_last=True)`.\n"
     ]
    },
    {
     "data": {
      "text/html": [
       "<pre style=\"white-space:pre;overflow-x:auto;line-height:normal;font-family:Menlo,'DejaVu Sans Mono',consolas,'Courier New',monospace\"><span style=\"color: #7fbfbf; text-decoration-color: #7fbfbf\">           </span><span style=\"color: #800000; text-decoration-color: #800000\">WARNING </span> Could not find wandb logger or module to log                                        <a href=\"file:///workspaces/repositories/fm/src/ll/model/modules/wandb.py\" target=\"_blank\"><span style=\"color: #7f7f7f; text-decoration-color: #7f7f7f\">wandb.py</span></a><span style=\"color: #7f7f7f; text-decoration-color: #7f7f7f\">:</span><a href=\"file:///workspaces/repositories/fm/src/ll/model/modules/wandb.py#38\" target=\"_blank\"><span style=\"color: #7f7f7f; text-decoration-color: #7f7f7f\">38</span></a>\n",
       "</pre>\n"
      ],
      "text/plain": [
       "\u001b[2;36m          \u001b[0m\u001b[2;36m \u001b[0m\u001b[31mWARNING \u001b[0m Could not find wandb logger or module to log                                        \u001b]8;id=193957;file:///workspaces/repositories/fm/src/ll/model/modules/wandb.py\u001b\\\u001b[2mwandb.py\u001b[0m\u001b]8;;\u001b\\\u001b[2m:\u001b[0m\u001b]8;id=752996;file:///workspaces/repositories/fm/src/ll/model/modules/wandb.py#38\u001b\\\u001b[2m38\u001b[0m\u001b]8;;\u001b\\\n"
      ]
     },
     "metadata": {},
     "output_type": "display_data"
    },
    {
     "data": {
      "text/html": [
       "<pre style=\"white-space:pre;overflow-x:auto;line-height:normal;font-family:Menlo,'DejaVu Sans Mono',consolas,'Courier New',monospace\"><span style=\"color: #7fbfbf; text-decoration-color: #7fbfbf\">           </span><span style=\"background-color: #800000; font-weight: bold\">CRITICAL</span> Fast dev run detected, setting debug flag to <span style=\"color: #00ff00; text-decoration-color: #00ff00; font-style: italic\">True</span>.                                  <a href=\"file:///workspaces/repositories/fm/src/ll/model/base.py\" target=\"_blank\"><span style=\"color: #7f7f7f; text-decoration-color: #7f7f7f\">base.py</span></a><span style=\"color: #7f7f7f; text-decoration-color: #7f7f7f\">:</span><a href=\"file:///workspaces/repositories/fm/src/ll/model/base.py#153\" target=\"_blank\"><span style=\"color: #7f7f7f; text-decoration-color: #7f7f7f\">153</span></a>\n",
       "</pre>\n"
      ],
      "text/plain": [
       "\u001b[2;36m          \u001b[0m\u001b[2;36m \u001b[0m\u001b[1;7;31mCRITICAL\u001b[0m Fast dev run detected, setting debug flag to \u001b[3;92mTrue\u001b[0m.                                  \u001b]8;id=982483;file:///workspaces/repositories/fm/src/ll/model/base.py\u001b\\\u001b[2mbase.py\u001b[0m\u001b]8;;\u001b\\\u001b[2m:\u001b[0m\u001b]8;id=712347;file:///workspaces/repositories/fm/src/ll/model/base.py#153\u001b\\\u001b[2m153\u001b[0m\u001b]8;;\u001b\\\n"
      ]
     },
     "metadata": {},
     "output_type": "display_data"
    },
    {
     "name": "stderr",
     "output_type": "stream",
     "text": [
      "LOCAL_RANK: 0 - CUDA_VISIBLE_DEVICES: [0,1]\n"
     ]
    },
    {
     "data": {
      "text/html": [
       "<pre style=\"white-space:pre;overflow-x:auto;line-height:normal;font-family:Menlo,'DejaVu Sans Mono',consolas,'Courier New',monospace\"><span style=\"color: #7fbfbf; text-decoration-color: #7fbfbf\">           </span><span style=\"background-color: #800000; font-weight: bold\">CRITICAL</span> Optimizer: AdamW                                                                  <a href=\"file:///workspaces/repositories/jmp-peft/src/jmppeft/tasks/config.py\" target=\"_blank\"><span style=\"color: #7f7f7f; text-decoration-color: #7f7f7f\">config.py</span></a><span style=\"color: #7f7f7f; text-decoration-color: #7f7f7f\">:</span><a href=\"file:///workspaces/repositories/jmp-peft/src/jmppeft/tasks/config.py#146\" target=\"_blank\"><span style=\"color: #7f7f7f; text-decoration-color: #7f7f7f\">146</span></a>\n",
       "<span style=\"color: #7fbfbf; text-decoration-color: #7fbfbf\">           </span>         Optimizer kwargs: <span style=\"font-weight: bold\">{}</span>                                                              <span style=\"color: #7f7f7f; text-decoration-color: #7f7f7f\">             </span>\n",
       "<span style=\"color: #7fbfbf; text-decoration-color: #7fbfbf\">           </span>         Base kwargs: <span style=\"font-weight: bold\">{</span><span style=\"color: #008000; text-decoration-color: #008000\">'lr'</span>: <span style=\"color: #008080; text-decoration-color: #008080; font-weight: bold\">5e-06</span>, <span style=\"color: #008000; text-decoration-color: #008000\">'amsgrad'</span>: <span style=\"color: #ff0000; text-decoration-color: #ff0000; font-style: italic\">False</span>, <span style=\"color: #008000; text-decoration-color: #008000\">'weight_decay'</span>: <span style=\"color: #008080; text-decoration-color: #008080; font-weight: bold\">0.1</span>, <span style=\"color: #008000; text-decoration-color: #008000\">'betas'</span>: <span style=\"font-weight: bold\">(</span><span style=\"color: #008080; text-decoration-color: #008080; font-weight: bold\">0.9</span>,  <span style=\"color: #7f7f7f; text-decoration-color: #7f7f7f\">             </span>\n",
       "<span style=\"color: #7fbfbf; text-decoration-color: #7fbfbf\">           </span>         <span style=\"color: #008080; text-decoration-color: #008080; font-weight: bold\">0.95</span><span style=\"font-weight: bold\">)</span>, <span style=\"color: #008000; text-decoration-color: #008000\">'eps'</span>: <span style=\"color: #008080; text-decoration-color: #008080; font-weight: bold\">1e-08</span><span style=\"font-weight: bold\">}</span>                                                              <span style=\"color: #7f7f7f; text-decoration-color: #7f7f7f\">             </span>\n",
       "<span style=\"color: #7fbfbf; text-decoration-color: #7fbfbf\">           </span>         Param groups: Param group <span style=\"color: #008080; text-decoration-color: #008080; font-weight: bold\">0</span>:                                                      <span style=\"color: #7f7f7f; text-decoration-color: #7f7f7f\">             </span>\n",
       "<span style=\"color: #7fbfbf; text-decoration-color: #7fbfbf\">           </span>             Params: <span style=\"color: #008080; text-decoration-color: #008080; font-weight: bold\">1</span>                                                                     <span style=\"color: #7f7f7f; text-decoration-color: #7f7f7f\">             </span>\n",
       "<span style=\"color: #7fbfbf; text-decoration-color: #7fbfbf\">           </span>             Total param size: <span style=\"color: #008080; text-decoration-color: #008080; font-weight: bold\">30720</span>                                                       <span style=\"color: #7f7f7f; text-decoration-color: #7f7f7f\">             </span>\n",
       "<span style=\"color: #7fbfbf; text-decoration-color: #7fbfbf\">           </span>             Other kwargs: <span style=\"font-weight: bold\">{</span><span style=\"color: #008000; text-decoration-color: #008000\">'lr'</span>: <span style=\"color: #008080; text-decoration-color: #008080; font-weight: bold\">1.5e-06</span>, <span style=\"color: #008000; text-decoration-color: #008000\">'amsgrad'</span>: <span style=\"color: #ff0000; text-decoration-color: #ff0000; font-style: italic\">False</span>, <span style=\"color: #008000; text-decoration-color: #008000\">'weight_decay'</span>: <span style=\"color: #008080; text-decoration-color: #008080; font-weight: bold\">0.1</span>, <span style=\"color: #008000; text-decoration-color: #008000\">'betas'</span>: <span style=\"color: #7f7f7f; text-decoration-color: #7f7f7f\">             </span>\n",
       "<span style=\"color: #7fbfbf; text-decoration-color: #7fbfbf\">           </span>         <span style=\"font-weight: bold\">(</span><span style=\"color: #008080; text-decoration-color: #008080; font-weight: bold\">0.9</span>, <span style=\"color: #008080; text-decoration-color: #008080; font-weight: bold\">0.95</span><span style=\"font-weight: bold\">)</span>, <span style=\"color: #008000; text-decoration-color: #008000\">'eps'</span>: <span style=\"color: #008080; text-decoration-color: #008080; font-weight: bold\">1e-08</span>, <span style=\"color: #008000; text-decoration-color: #008000\">'name'</span>: <span style=\"color: #008000; text-decoration-color: #008000\">'embedding.*'</span>, <span style=\"color: #008000; text-decoration-color: #008000\">'foreach'</span>: <span style=\"color: #800080; text-decoration-color: #800080; font-style: italic\">None</span>, <span style=\"color: #008000; text-decoration-color: #008000\">'maximize'</span>:    <span style=\"color: #7f7f7f; text-decoration-color: #7f7f7f\">             </span>\n",
       "<span style=\"color: #7fbfbf; text-decoration-color: #7fbfbf\">           </span>         <span style=\"color: #ff0000; text-decoration-color: #ff0000; font-style: italic\">False</span>, <span style=\"color: #008000; text-decoration-color: #008000\">'capturable'</span>: <span style=\"color: #ff0000; text-decoration-color: #ff0000; font-style: italic\">False</span>, <span style=\"color: #008000; text-decoration-color: #008000\">'differentiable'</span>: <span style=\"color: #ff0000; text-decoration-color: #ff0000; font-style: italic\">False</span>, <span style=\"color: #008000; text-decoration-color: #008000\">'fused'</span>: <span style=\"color: #800080; text-decoration-color: #800080; font-style: italic\">None</span><span style=\"font-weight: bold\">}</span>               <span style=\"color: #7f7f7f; text-decoration-color: #7f7f7f\">             </span>\n",
       "<span style=\"color: #7fbfbf; text-decoration-color: #7fbfbf\">           </span>         Param group <span style=\"color: #008080; text-decoration-color: #008080; font-weight: bold\">1</span>:                                                                    <span style=\"color: #7f7f7f; text-decoration-color: #7f7f7f\">             </span>\n",
       "<span style=\"color: #7fbfbf; text-decoration-color: #7fbfbf\">           </span>             Params: <span style=\"color: #008080; text-decoration-color: #008080; font-weight: bold\">85</span>                                                                    <span style=\"color: #7f7f7f; text-decoration-color: #7f7f7f\">             </span>\n",
       "<span style=\"color: #7fbfbf; text-decoration-color: #7fbfbf\">           </span>             Total param size: <span style=\"color: #008080; text-decoration-color: #008080; font-weight: bold\">27354112</span>                                                    <span style=\"color: #7f7f7f; text-decoration-color: #7f7f7f\">             </span>\n",
       "<span style=\"color: #7fbfbf; text-decoration-color: #7fbfbf\">           </span>             Other kwargs: <span style=\"font-weight: bold\">{</span><span style=\"color: #008000; text-decoration-color: #008000\">'lr'</span>: <span style=\"color: #008080; text-decoration-color: #008080; font-weight: bold\">2.7500000000000004e-06</span>, <span style=\"color: #008000; text-decoration-color: #008000\">'amsgrad'</span>: <span style=\"color: #ff0000; text-decoration-color: #ff0000; font-style: italic\">False</span>,                <span style=\"color: #7f7f7f; text-decoration-color: #7f7f7f\">             </span>\n",
       "<span style=\"color: #7fbfbf; text-decoration-color: #7fbfbf\">           </span>         <span style=\"color: #008000; text-decoration-color: #008000\">'weight_decay'</span>: <span style=\"color: #008080; text-decoration-color: #008080; font-weight: bold\">0.1</span>, <span style=\"color: #008000; text-decoration-color: #008000\">'betas'</span>: <span style=\"font-weight: bold\">(</span><span style=\"color: #008080; text-decoration-color: #008080; font-weight: bold\">0.9</span>, <span style=\"color: #008080; text-decoration-color: #008080; font-weight: bold\">0.95</span><span style=\"font-weight: bold\">)</span>, <span style=\"color: #008000; text-decoration-color: #008000\">'eps'</span>: <span style=\"color: #008080; text-decoration-color: #008080; font-weight: bold\">1e-08</span>, <span style=\"color: #008000; text-decoration-color: #008000\">'name'</span>:                  <span style=\"color: #7f7f7f; text-decoration-color: #7f7f7f\">             </span>\n",
       "<span style=\"color: #7fbfbf; text-decoration-color: #7fbfbf\">           </span>         <span style=\"color: #008000; text-decoration-color: #008000\">'backbone.int_blocks.0.*,backbone.out_blocks.1.*,backbone.out_blocks.0.*'</span>,        <span style=\"color: #7f7f7f; text-decoration-color: #7f7f7f\">             </span>\n",
       "<span style=\"color: #7fbfbf; text-decoration-color: #7fbfbf\">           </span>         <span style=\"color: #008000; text-decoration-color: #008000\">'foreach'</span>: <span style=\"color: #800080; text-decoration-color: #800080; font-style: italic\">None</span>, <span style=\"color: #008000; text-decoration-color: #008000\">'maximize'</span>: <span style=\"color: #ff0000; text-decoration-color: #ff0000; font-style: italic\">False</span>, <span style=\"color: #008000; text-decoration-color: #008000\">'capturable'</span>: <span style=\"color: #ff0000; text-decoration-color: #ff0000; font-style: italic\">False</span>, <span style=\"color: #008000; text-decoration-color: #008000\">'differentiable'</span>: <span style=\"color: #ff0000; text-decoration-color: #ff0000; font-style: italic\">False</span>, <span style=\"color: #7f7f7f; text-decoration-color: #7f7f7f\">             </span>\n",
       "<span style=\"color: #7fbfbf; text-decoration-color: #7fbfbf\">           </span>         <span style=\"color: #008000; text-decoration-color: #008000\">'fused'</span>: <span style=\"color: #800080; text-decoration-color: #800080; font-style: italic\">None</span><span style=\"font-weight: bold\">}</span>                                                                    <span style=\"color: #7f7f7f; text-decoration-color: #7f7f7f\">             </span>\n",
       "<span style=\"color: #7fbfbf; text-decoration-color: #7fbfbf\">           </span>         Param group <span style=\"color: #008080; text-decoration-color: #008080; font-weight: bold\">2</span>:                                                                    <span style=\"color: #7f7f7f; text-decoration-color: #7f7f7f\">             </span>\n",
       "<span style=\"color: #7fbfbf; text-decoration-color: #7fbfbf\">           </span>             Params: <span style=\"color: #008080; text-decoration-color: #008080; font-weight: bold\">71</span>                                                                    <span style=\"color: #7f7f7f; text-decoration-color: #7f7f7f\">             </span>\n",
       "<span style=\"color: #7fbfbf; text-decoration-color: #7fbfbf\">           </span>             Total param size: <span style=\"color: #008080; text-decoration-color: #008080; font-weight: bold\">26272768</span>                                                    <span style=\"color: #7f7f7f; text-decoration-color: #7f7f7f\">             </span>\n",
       "<span style=\"color: #7fbfbf; text-decoration-color: #7fbfbf\">           </span>             Other kwargs: <span style=\"font-weight: bold\">{</span><span style=\"color: #008000; text-decoration-color: #008000\">'lr'</span>: <span style=\"color: #008080; text-decoration-color: #008080; font-weight: bold\">2.0000000000000003e-06</span>, <span style=\"color: #008000; text-decoration-color: #008000\">'amsgrad'</span>: <span style=\"color: #ff0000; text-decoration-color: #ff0000; font-style: italic\">False</span>,                <span style=\"color: #7f7f7f; text-decoration-color: #7f7f7f\">             </span>\n",
       "<span style=\"color: #7fbfbf; text-decoration-color: #7fbfbf\">           </span>         <span style=\"color: #008000; text-decoration-color: #008000\">'weight_decay'</span>: <span style=\"color: #008080; text-decoration-color: #008080; font-weight: bold\">0.1</span>, <span style=\"color: #008000; text-decoration-color: #008000\">'betas'</span>: <span style=\"font-weight: bold\">(</span><span style=\"color: #008080; text-decoration-color: #008080; font-weight: bold\">0.9</span>, <span style=\"color: #008080; text-decoration-color: #008080; font-weight: bold\">0.95</span><span style=\"font-weight: bold\">)</span>, <span style=\"color: #008000; text-decoration-color: #008000\">'eps'</span>: <span style=\"color: #008080; text-decoration-color: #008080; font-weight: bold\">1e-08</span>, <span style=\"color: #008000; text-decoration-color: #008000\">'name'</span>:                  <span style=\"color: #7f7f7f; text-decoration-color: #7f7f7f\">             </span>\n",
       "<span style=\"color: #7fbfbf; text-decoration-color: #7fbfbf\">           </span>         <span style=\"color: #008000; text-decoration-color: #008000\">'backbone.int_blocks.1.*,backbone.out_blocks.2.*'</span>, <span style=\"color: #008000; text-decoration-color: #008000\">'foreach'</span>: <span style=\"color: #800080; text-decoration-color: #800080; font-style: italic\">None</span>, <span style=\"color: #008000; text-decoration-color: #008000\">'maximize'</span>:   <span style=\"color: #7f7f7f; text-decoration-color: #7f7f7f\">             </span>\n",
       "<span style=\"color: #7fbfbf; text-decoration-color: #7fbfbf\">           </span>         <span style=\"color: #ff0000; text-decoration-color: #ff0000; font-style: italic\">False</span>, <span style=\"color: #008000; text-decoration-color: #008000\">'capturable'</span>: <span style=\"color: #ff0000; text-decoration-color: #ff0000; font-style: italic\">False</span>, <span style=\"color: #008000; text-decoration-color: #008000\">'differentiable'</span>: <span style=\"color: #ff0000; text-decoration-color: #ff0000; font-style: italic\">False</span>, <span style=\"color: #008000; text-decoration-color: #008000\">'fused'</span>: <span style=\"color: #800080; text-decoration-color: #800080; font-style: italic\">None</span><span style=\"font-weight: bold\">}</span>               <span style=\"color: #7f7f7f; text-decoration-color: #7f7f7f\">             </span>\n",
       "<span style=\"color: #7fbfbf; text-decoration-color: #7fbfbf\">           </span>         Param group <span style=\"color: #008080; text-decoration-color: #008080; font-weight: bold\">3</span>:                                                                    <span style=\"color: #7f7f7f; text-decoration-color: #7f7f7f\">             </span>\n",
       "<span style=\"color: #7fbfbf; text-decoration-color: #7fbfbf\">           </span>             Params: <span style=\"color: #008080; text-decoration-color: #008080; font-weight: bold\">71</span>                                                                    <span style=\"color: #7f7f7f; text-decoration-color: #7f7f7f\">             </span>\n",
       "<span style=\"color: #7fbfbf; text-decoration-color: #7fbfbf\">           </span>             Total param size: <span style=\"color: #008080; text-decoration-color: #008080; font-weight: bold\">26272768</span>                                                    <span style=\"color: #7f7f7f; text-decoration-color: #7f7f7f\">             </span>\n",
       "<span style=\"color: #7fbfbf; text-decoration-color: #7fbfbf\">           </span>             Other kwargs: <span style=\"font-weight: bold\">{</span><span style=\"color: #008000; text-decoration-color: #008000\">'lr'</span>: <span style=\"color: #008080; text-decoration-color: #008080; font-weight: bold\">1.5e-06</span>, <span style=\"color: #008000; text-decoration-color: #008000\">'amsgrad'</span>: <span style=\"color: #ff0000; text-decoration-color: #ff0000; font-style: italic\">False</span>, <span style=\"color: #008000; text-decoration-color: #008000\">'weight_decay'</span>: <span style=\"color: #008080; text-decoration-color: #008080; font-weight: bold\">0.1</span>, <span style=\"color: #008000; text-decoration-color: #008000\">'betas'</span>: <span style=\"color: #7f7f7f; text-decoration-color: #7f7f7f\">             </span>\n",
       "<span style=\"color: #7fbfbf; text-decoration-color: #7fbfbf\">           </span>         <span style=\"font-weight: bold\">(</span><span style=\"color: #008080; text-decoration-color: #008080; font-weight: bold\">0.9</span>, <span style=\"color: #008080; text-decoration-color: #008080; font-weight: bold\">0.95</span><span style=\"font-weight: bold\">)</span>, <span style=\"color: #008000; text-decoration-color: #008000\">'eps'</span>: <span style=\"color: #008080; text-decoration-color: #008080; font-weight: bold\">1e-08</span>, <span style=\"color: #008000; text-decoration-color: #008000\">'name'</span>:                                                <span style=\"color: #7f7f7f; text-decoration-color: #7f7f7f\">             </span>\n",
       "<span style=\"color: #7fbfbf; text-decoration-color: #7fbfbf\">           </span>         <span style=\"color: #008000; text-decoration-color: #008000\">'backbone.int_blocks.2.*,backbone.out_blocks.3.*'</span>, <span style=\"color: #008000; text-decoration-color: #008000\">'foreach'</span>: <span style=\"color: #800080; text-decoration-color: #800080; font-style: italic\">None</span>, <span style=\"color: #008000; text-decoration-color: #008000\">'maximize'</span>:   <span style=\"color: #7f7f7f; text-decoration-color: #7f7f7f\">             </span>\n",
       "<span style=\"color: #7fbfbf; text-decoration-color: #7fbfbf\">           </span>         <span style=\"color: #ff0000; text-decoration-color: #ff0000; font-style: italic\">False</span>, <span style=\"color: #008000; text-decoration-color: #008000\">'capturable'</span>: <span style=\"color: #ff0000; text-decoration-color: #ff0000; font-style: italic\">False</span>, <span style=\"color: #008000; text-decoration-color: #008000\">'differentiable'</span>: <span style=\"color: #ff0000; text-decoration-color: #ff0000; font-style: italic\">False</span>, <span style=\"color: #008000; text-decoration-color: #008000\">'fused'</span>: <span style=\"color: #800080; text-decoration-color: #800080; font-style: italic\">None</span><span style=\"font-weight: bold\">}</span>               <span style=\"color: #7f7f7f; text-decoration-color: #7f7f7f\">             </span>\n",
       "<span style=\"color: #7fbfbf; text-decoration-color: #7fbfbf\">           </span>         Param group <span style=\"color: #008080; text-decoration-color: #008080; font-weight: bold\">4</span>:                                                                    <span style=\"color: #7f7f7f; text-decoration-color: #7f7f7f\">             </span>\n",
       "<span style=\"color: #7fbfbf; text-decoration-color: #7fbfbf\">           </span>             Params: <span style=\"color: #008080; text-decoration-color: #008080; font-weight: bold\">71</span>                                                                    <span style=\"color: #7f7f7f; text-decoration-color: #7f7f7f\">             </span>\n",
       "<span style=\"color: #7fbfbf; text-decoration-color: #7fbfbf\">           </span>             Total param size: <span style=\"color: #008080; text-decoration-color: #008080; font-weight: bold\">26272768</span>                                                    <span style=\"color: #7f7f7f; text-decoration-color: #7f7f7f\">             </span>\n",
       "<span style=\"color: #7fbfbf; text-decoration-color: #7fbfbf\">           </span>             Other kwargs: <span style=\"font-weight: bold\">{</span><span style=\"color: #008000; text-decoration-color: #008000\">'lr'</span>: <span style=\"color: #008080; text-decoration-color: #008080; font-weight: bold\">2.0000000000000003e-06</span>, <span style=\"color: #008000; text-decoration-color: #008000\">'amsgrad'</span>: <span style=\"color: #ff0000; text-decoration-color: #ff0000; font-style: italic\">False</span>,                <span style=\"color: #7f7f7f; text-decoration-color: #7f7f7f\">             </span>\n",
       "<span style=\"color: #7fbfbf; text-decoration-color: #7fbfbf\">           </span>         <span style=\"color: #008000; text-decoration-color: #008000\">'weight_decay'</span>: <span style=\"color: #008080; text-decoration-color: #008080; font-weight: bold\">0.1</span>, <span style=\"color: #008000; text-decoration-color: #008000\">'betas'</span>: <span style=\"font-weight: bold\">(</span><span style=\"color: #008080; text-decoration-color: #008080; font-weight: bold\">0.9</span>, <span style=\"color: #008080; text-decoration-color: #008080; font-weight: bold\">0.95</span><span style=\"font-weight: bold\">)</span>, <span style=\"color: #008000; text-decoration-color: #008000\">'eps'</span>: <span style=\"color: #008080; text-decoration-color: #008080; font-weight: bold\">1e-08</span>, <span style=\"color: #008000; text-decoration-color: #008000\">'name'</span>:                  <span style=\"color: #7f7f7f; text-decoration-color: #7f7f7f\">             </span>\n",
       "<span style=\"color: #7fbfbf; text-decoration-color: #7fbfbf\">           </span>         <span style=\"color: #008000; text-decoration-color: #008000\">'backbone.int_blocks.3.*,backbone.out_blocks.4.*'</span>, <span style=\"color: #008000; text-decoration-color: #008000\">'foreach'</span>: <span style=\"color: #800080; text-decoration-color: #800080; font-style: italic\">None</span>, <span style=\"color: #008000; text-decoration-color: #008000\">'maximize'</span>:   <span style=\"color: #7f7f7f; text-decoration-color: #7f7f7f\">             </span>\n",
       "<span style=\"color: #7fbfbf; text-decoration-color: #7fbfbf\">           </span>         <span style=\"color: #ff0000; text-decoration-color: #ff0000; font-style: italic\">False</span>, <span style=\"color: #008000; text-decoration-color: #008000\">'capturable'</span>: <span style=\"color: #ff0000; text-decoration-color: #ff0000; font-style: italic\">False</span>, <span style=\"color: #008000; text-decoration-color: #008000\">'differentiable'</span>: <span style=\"color: #ff0000; text-decoration-color: #ff0000; font-style: italic\">False</span>, <span style=\"color: #008000; text-decoration-color: #008000\">'fused'</span>: <span style=\"color: #800080; text-decoration-color: #800080; font-style: italic\">None</span><span style=\"font-weight: bold\">}</span>               <span style=\"color: #7f7f7f; text-decoration-color: #7f7f7f\">             </span>\n",
       "<span style=\"color: #7fbfbf; text-decoration-color: #7fbfbf\">           </span>         Param group <span style=\"color: #008080; text-decoration-color: #008080; font-weight: bold\">5</span>:                                                                    <span style=\"color: #7f7f7f; text-decoration-color: #7f7f7f\">             </span>\n",
       "<span style=\"color: #7fbfbf; text-decoration-color: #7fbfbf\">           </span>             Params: <span style=\"color: #008080; text-decoration-color: #008080; font-weight: bold\">71</span>                                                                    <span style=\"color: #7f7f7f; text-decoration-color: #7f7f7f\">             </span>\n",
       "<span style=\"color: #7fbfbf; text-decoration-color: #7fbfbf\">           </span>             Total param size: <span style=\"color: #008080; text-decoration-color: #008080; font-weight: bold\">26272768</span>                                                    <span style=\"color: #7f7f7f; text-decoration-color: #7f7f7f\">             </span>\n",
       "<span style=\"color: #7fbfbf; text-decoration-color: #7fbfbf\">           </span>             Other kwargs: <span style=\"font-weight: bold\">{</span><span style=\"color: #008000; text-decoration-color: #008000\">'lr'</span>: <span style=\"color: #008080; text-decoration-color: #008080; font-weight: bold\">2.7500000000000004e-06</span>, <span style=\"color: #008000; text-decoration-color: #008000\">'amsgrad'</span>: <span style=\"color: #ff0000; text-decoration-color: #ff0000; font-style: italic\">False</span>,                <span style=\"color: #7f7f7f; text-decoration-color: #7f7f7f\">             </span>\n",
       "<span style=\"color: #7fbfbf; text-decoration-color: #7fbfbf\">           </span>         <span style=\"color: #008000; text-decoration-color: #008000\">'weight_decay'</span>: <span style=\"color: #008080; text-decoration-color: #008080; font-weight: bold\">0.1</span>, <span style=\"color: #008000; text-decoration-color: #008000\">'betas'</span>: <span style=\"font-weight: bold\">(</span><span style=\"color: #008080; text-decoration-color: #008080; font-weight: bold\">0.9</span>, <span style=\"color: #008080; text-decoration-color: #008080; font-weight: bold\">0.95</span><span style=\"font-weight: bold\">)</span>, <span style=\"color: #008000; text-decoration-color: #008000\">'eps'</span>: <span style=\"color: #008080; text-decoration-color: #008080; font-weight: bold\">1e-08</span>, <span style=\"color: #008000; text-decoration-color: #008000\">'name'</span>:                  <span style=\"color: #7f7f7f; text-decoration-color: #7f7f7f\">             </span>\n",
       "<span style=\"color: #7fbfbf; text-decoration-color: #7fbfbf\">           </span>         <span style=\"color: #008000; text-decoration-color: #008000\">'backbone.int_blocks.4.*,backbone.out_blocks.5.*'</span>, <span style=\"color: #008000; text-decoration-color: #008000\">'foreach'</span>: <span style=\"color: #800080; text-decoration-color: #800080; font-style: italic\">None</span>, <span style=\"color: #008000; text-decoration-color: #008000\">'maximize'</span>:   <span style=\"color: #7f7f7f; text-decoration-color: #7f7f7f\">             </span>\n",
       "<span style=\"color: #7fbfbf; text-decoration-color: #7fbfbf\">           </span>         <span style=\"color: #ff0000; text-decoration-color: #ff0000; font-style: italic\">False</span>, <span style=\"color: #008000; text-decoration-color: #008000\">'capturable'</span>: <span style=\"color: #ff0000; text-decoration-color: #ff0000; font-style: italic\">False</span>, <span style=\"color: #008000; text-decoration-color: #008000\">'differentiable'</span>: <span style=\"color: #ff0000; text-decoration-color: #ff0000; font-style: italic\">False</span>, <span style=\"color: #008000; text-decoration-color: #008000\">'fused'</span>: <span style=\"color: #800080; text-decoration-color: #800080; font-style: italic\">None</span><span style=\"font-weight: bold\">}</span>               <span style=\"color: #7f7f7f; text-decoration-color: #7f7f7f\">             </span>\n",
       "<span style=\"color: #7fbfbf; text-decoration-color: #7fbfbf\">           </span>         Param group <span style=\"color: #008080; text-decoration-color: #008080; font-weight: bold\">6</span>:                                                                    <span style=\"color: #7f7f7f; text-decoration-color: #7f7f7f\">             </span>\n",
       "<span style=\"color: #7fbfbf; text-decoration-color: #7fbfbf\">           </span>             Params: <span style=\"color: #008080; text-decoration-color: #008080; font-weight: bold\">71</span>                                                                    <span style=\"color: #7f7f7f; text-decoration-color: #7f7f7f\">             </span>\n",
       "<span style=\"color: #7fbfbf; text-decoration-color: #7fbfbf\">           </span>             Total param size: <span style=\"color: #008080; text-decoration-color: #008080; font-weight: bold\">26272768</span>                                                    <span style=\"color: #7f7f7f; text-decoration-color: #7f7f7f\">             </span>\n",
       "<span style=\"color: #7fbfbf; text-decoration-color: #7fbfbf\">           </span>             Other kwargs: <span style=\"font-weight: bold\">{</span><span style=\"color: #008000; text-decoration-color: #008000\">'lr'</span>: <span style=\"color: #008080; text-decoration-color: #008080; font-weight: bold\">3.125e-06</span>, <span style=\"color: #008000; text-decoration-color: #008000\">'amsgrad'</span>: <span style=\"color: #ff0000; text-decoration-color: #ff0000; font-style: italic\">False</span>, <span style=\"color: #008000; text-decoration-color: #008000\">'weight_decay'</span>: <span style=\"color: #008080; text-decoration-color: #008080; font-weight: bold\">0.1</span>,        <span style=\"color: #7f7f7f; text-decoration-color: #7f7f7f\">             </span>\n",
       "<span style=\"color: #7fbfbf; text-decoration-color: #7fbfbf\">           </span>         <span style=\"color: #008000; text-decoration-color: #008000\">'betas'</span>: <span style=\"font-weight: bold\">(</span><span style=\"color: #008080; text-decoration-color: #008080; font-weight: bold\">0.9</span>, <span style=\"color: #008080; text-decoration-color: #008080; font-weight: bold\">0.95</span><span style=\"font-weight: bold\">)</span>, <span style=\"color: #008000; text-decoration-color: #008000\">'eps'</span>: <span style=\"color: #008080; text-decoration-color: #008080; font-weight: bold\">1e-08</span>, <span style=\"color: #008000; text-decoration-color: #008000\">'name'</span>:                                       <span style=\"color: #7f7f7f; text-decoration-color: #7f7f7f\">             </span>\n",
       "<span style=\"color: #7fbfbf; text-decoration-color: #7fbfbf\">           </span>         <span style=\"color: #008000; text-decoration-color: #008000\">'backbone.int_blocks.5.*,backbone.out_blocks.6.*'</span>, <span style=\"color: #008000; text-decoration-color: #008000\">'foreach'</span>: <span style=\"color: #800080; text-decoration-color: #800080; font-style: italic\">None</span>, <span style=\"color: #008000; text-decoration-color: #008000\">'maximize'</span>:   <span style=\"color: #7f7f7f; text-decoration-color: #7f7f7f\">             </span>\n",
       "<span style=\"color: #7fbfbf; text-decoration-color: #7fbfbf\">           </span>         <span style=\"color: #ff0000; text-decoration-color: #ff0000; font-style: italic\">False</span>, <span style=\"color: #008000; text-decoration-color: #008000\">'capturable'</span>: <span style=\"color: #ff0000; text-decoration-color: #ff0000; font-style: italic\">False</span>, <span style=\"color: #008000; text-decoration-color: #008000\">'differentiable'</span>: <span style=\"color: #ff0000; text-decoration-color: #ff0000; font-style: italic\">False</span>, <span style=\"color: #008000; text-decoration-color: #008000\">'fused'</span>: <span style=\"color: #800080; text-decoration-color: #800080; font-style: italic\">None</span><span style=\"font-weight: bold\">}</span>               <span style=\"color: #7f7f7f; text-decoration-color: #7f7f7f\">             </span>\n",
       "<span style=\"color: #7fbfbf; text-decoration-color: #7fbfbf\">           </span>         Param group <span style=\"color: #008080; text-decoration-color: #008080; font-weight: bold\">7</span>:                                                                    <span style=\"color: #7f7f7f; text-decoration-color: #7f7f7f\">             </span>\n",
       "<span style=\"color: #7fbfbf; text-decoration-color: #7fbfbf\">           </span>             Params: <span style=\"color: #008080; text-decoration-color: #008080; font-weight: bold\">23</span>                                                                    <span style=\"color: #7f7f7f; text-decoration-color: #7f7f7f\">             </span>\n",
       "<span style=\"color: #7fbfbf; text-decoration-color: #7fbfbf\">           </span>             Total param size: <span style=\"color: #008080; text-decoration-color: #008080; font-weight: bold\">2126080</span>                                                     <span style=\"color: #7f7f7f; text-decoration-color: #7f7f7f\">             </span>\n",
       "<span style=\"color: #7fbfbf; text-decoration-color: #7fbfbf\">           </span>             Other kwargs: <span style=\"font-weight: bold\">{</span><span style=\"color: #008000; text-decoration-color: #008000\">'lr'</span>: <span style=\"color: #008080; text-decoration-color: #008080; font-weight: bold\">5e-06</span>, <span style=\"color: #008000; text-decoration-color: #008000\">'amsgrad'</span>: <span style=\"color: #ff0000; text-decoration-color: #ff0000; font-style: italic\">False</span>, <span style=\"color: #008000; text-decoration-color: #008000\">'weight_decay'</span>: <span style=\"color: #008080; text-decoration-color: #008080; font-weight: bold\">0.1</span>, <span style=\"color: #008000; text-decoration-color: #008000\">'betas'</span>:   <span style=\"color: #7f7f7f; text-decoration-color: #7f7f7f\">             </span>\n",
       "<span style=\"color: #7fbfbf; text-decoration-color: #7fbfbf\">           </span>         <span style=\"font-weight: bold\">(</span><span style=\"color: #008080; text-decoration-color: #008080; font-weight: bold\">0.9</span>, <span style=\"color: #008080; text-decoration-color: #008080; font-weight: bold\">0.95</span><span style=\"font-weight: bold\">)</span>, <span style=\"color: #008000; text-decoration-color: #008000\">'eps'</span>: <span style=\"color: #008080; text-decoration-color: #008080; font-weight: bold\">1e-08</span>, <span style=\"color: #008000; text-decoration-color: #008000\">'name'</span>: <span style=\"color: #008000; text-decoration-color: #008000\">'rest'</span>, <span style=\"color: #008000; text-decoration-color: #008000\">'foreach'</span>: <span style=\"color: #800080; text-decoration-color: #800080; font-style: italic\">None</span>, <span style=\"color: #008000; text-decoration-color: #008000\">'maximize'</span>: <span style=\"color: #ff0000; text-decoration-color: #ff0000; font-style: italic\">False</span>,    <span style=\"color: #7f7f7f; text-decoration-color: #7f7f7f\">             </span>\n",
       "<span style=\"color: #7fbfbf; text-decoration-color: #7fbfbf\">           </span>         <span style=\"color: #008000; text-decoration-color: #008000\">'capturable'</span>: <span style=\"color: #ff0000; text-decoration-color: #ff0000; font-style: italic\">False</span>, <span style=\"color: #008000; text-decoration-color: #008000\">'differentiable'</span>: <span style=\"color: #ff0000; text-decoration-color: #ff0000; font-style: italic\">False</span>, <span style=\"color: #008000; text-decoration-color: #008000\">'fused'</span>: <span style=\"color: #800080; text-decoration-color: #800080; font-style: italic\">None</span><span style=\"font-weight: bold\">}</span>                      <span style=\"color: #7f7f7f; text-decoration-color: #7f7f7f\">             </span>\n",
       "</pre>\n"
      ],
      "text/plain": [
       "\u001b[2;36m          \u001b[0m\u001b[2;36m \u001b[0m\u001b[1;7;31mCRITICAL\u001b[0m Optimizer: AdamW                                                                  \u001b]8;id=528101;file:///workspaces/repositories/jmp-peft/src/jmppeft/tasks/config.py\u001b\\\u001b[2mconfig.py\u001b[0m\u001b]8;;\u001b\\\u001b[2m:\u001b[0m\u001b]8;id=489822;file:///workspaces/repositories/jmp-peft/src/jmppeft/tasks/config.py#146\u001b\\\u001b[2m146\u001b[0m\u001b]8;;\u001b\\\n",
       "\u001b[2;36m           \u001b[0m         Optimizer kwargs: \u001b[1m{\u001b[0m\u001b[1m}\u001b[0m                                                              \u001b[2m             \u001b[0m\n",
       "\u001b[2;36m           \u001b[0m         Base kwargs: \u001b[1m{\u001b[0m\u001b[32m'lr'\u001b[0m: \u001b[1;36m5e-06\u001b[0m, \u001b[32m'amsgrad'\u001b[0m: \u001b[3;91mFalse\u001b[0m, \u001b[32m'weight_decay'\u001b[0m: \u001b[1;36m0.1\u001b[0m, \u001b[32m'betas'\u001b[0m: \u001b[1m(\u001b[0m\u001b[1;36m0.9\u001b[0m,  \u001b[2m             \u001b[0m\n",
       "\u001b[2;36m           \u001b[0m         \u001b[1;36m0.95\u001b[0m\u001b[1m)\u001b[0m, \u001b[32m'eps'\u001b[0m: \u001b[1;36m1e-08\u001b[0m\u001b[1m}\u001b[0m                                                              \u001b[2m             \u001b[0m\n",
       "\u001b[2;36m           \u001b[0m         Param groups: Param group \u001b[1;36m0\u001b[0m:                                                      \u001b[2m             \u001b[0m\n",
       "\u001b[2;36m           \u001b[0m             Params: \u001b[1;36m1\u001b[0m                                                                     \u001b[2m             \u001b[0m\n",
       "\u001b[2;36m           \u001b[0m             Total param size: \u001b[1;36m30720\u001b[0m                                                       \u001b[2m             \u001b[0m\n",
       "\u001b[2;36m           \u001b[0m             Other kwargs: \u001b[1m{\u001b[0m\u001b[32m'lr'\u001b[0m: \u001b[1;36m1.5e-06\u001b[0m, \u001b[32m'amsgrad'\u001b[0m: \u001b[3;91mFalse\u001b[0m, \u001b[32m'weight_decay'\u001b[0m: \u001b[1;36m0.1\u001b[0m, \u001b[32m'betas'\u001b[0m: \u001b[2m             \u001b[0m\n",
       "\u001b[2;36m           \u001b[0m         \u001b[1m(\u001b[0m\u001b[1;36m0.9\u001b[0m, \u001b[1;36m0.95\u001b[0m\u001b[1m)\u001b[0m, \u001b[32m'eps'\u001b[0m: \u001b[1;36m1e-08\u001b[0m, \u001b[32m'name'\u001b[0m: \u001b[32m'embedding.*'\u001b[0m, \u001b[32m'foreach'\u001b[0m: \u001b[3;35mNone\u001b[0m, \u001b[32m'maximize'\u001b[0m:    \u001b[2m             \u001b[0m\n",
       "\u001b[2;36m           \u001b[0m         \u001b[3;91mFalse\u001b[0m, \u001b[32m'capturable'\u001b[0m: \u001b[3;91mFalse\u001b[0m, \u001b[32m'differentiable'\u001b[0m: \u001b[3;91mFalse\u001b[0m, \u001b[32m'fused'\u001b[0m: \u001b[3;35mNone\u001b[0m\u001b[1m}\u001b[0m               \u001b[2m             \u001b[0m\n",
       "\u001b[2;36m           \u001b[0m         Param group \u001b[1;36m1\u001b[0m:                                                                    \u001b[2m             \u001b[0m\n",
       "\u001b[2;36m           \u001b[0m             Params: \u001b[1;36m85\u001b[0m                                                                    \u001b[2m             \u001b[0m\n",
       "\u001b[2;36m           \u001b[0m             Total param size: \u001b[1;36m27354112\u001b[0m                                                    \u001b[2m             \u001b[0m\n",
       "\u001b[2;36m           \u001b[0m             Other kwargs: \u001b[1m{\u001b[0m\u001b[32m'lr'\u001b[0m: \u001b[1;36m2.7500000000000004e-06\u001b[0m, \u001b[32m'amsgrad'\u001b[0m: \u001b[3;91mFalse\u001b[0m,                \u001b[2m             \u001b[0m\n",
       "\u001b[2;36m           \u001b[0m         \u001b[32m'weight_decay'\u001b[0m: \u001b[1;36m0.1\u001b[0m, \u001b[32m'betas'\u001b[0m: \u001b[1m(\u001b[0m\u001b[1;36m0.9\u001b[0m, \u001b[1;36m0.95\u001b[0m\u001b[1m)\u001b[0m, \u001b[32m'eps'\u001b[0m: \u001b[1;36m1e-08\u001b[0m, \u001b[32m'name'\u001b[0m:                  \u001b[2m             \u001b[0m\n",
       "\u001b[2;36m           \u001b[0m         \u001b[32m'backbone.int_blocks.0.*,backbone.out_blocks.1.*,backbone.out_blocks.0.*'\u001b[0m,        \u001b[2m             \u001b[0m\n",
       "\u001b[2;36m           \u001b[0m         \u001b[32m'foreach'\u001b[0m: \u001b[3;35mNone\u001b[0m, \u001b[32m'maximize'\u001b[0m: \u001b[3;91mFalse\u001b[0m, \u001b[32m'capturable'\u001b[0m: \u001b[3;91mFalse\u001b[0m, \u001b[32m'differentiable'\u001b[0m: \u001b[3;91mFalse\u001b[0m, \u001b[2m             \u001b[0m\n",
       "\u001b[2;36m           \u001b[0m         \u001b[32m'fused'\u001b[0m: \u001b[3;35mNone\u001b[0m\u001b[1m}\u001b[0m                                                                    \u001b[2m             \u001b[0m\n",
       "\u001b[2;36m           \u001b[0m         Param group \u001b[1;36m2\u001b[0m:                                                                    \u001b[2m             \u001b[0m\n",
       "\u001b[2;36m           \u001b[0m             Params: \u001b[1;36m71\u001b[0m                                                                    \u001b[2m             \u001b[0m\n",
       "\u001b[2;36m           \u001b[0m             Total param size: \u001b[1;36m26272768\u001b[0m                                                    \u001b[2m             \u001b[0m\n",
       "\u001b[2;36m           \u001b[0m             Other kwargs: \u001b[1m{\u001b[0m\u001b[32m'lr'\u001b[0m: \u001b[1;36m2.0000000000000003e-06\u001b[0m, \u001b[32m'amsgrad'\u001b[0m: \u001b[3;91mFalse\u001b[0m,                \u001b[2m             \u001b[0m\n",
       "\u001b[2;36m           \u001b[0m         \u001b[32m'weight_decay'\u001b[0m: \u001b[1;36m0.1\u001b[0m, \u001b[32m'betas'\u001b[0m: \u001b[1m(\u001b[0m\u001b[1;36m0.9\u001b[0m, \u001b[1;36m0.95\u001b[0m\u001b[1m)\u001b[0m, \u001b[32m'eps'\u001b[0m: \u001b[1;36m1e-08\u001b[0m, \u001b[32m'name'\u001b[0m:                  \u001b[2m             \u001b[0m\n",
       "\u001b[2;36m           \u001b[0m         \u001b[32m'backbone.int_blocks.1.*,backbone.out_blocks.2.*'\u001b[0m, \u001b[32m'foreach'\u001b[0m: \u001b[3;35mNone\u001b[0m, \u001b[32m'maximize'\u001b[0m:   \u001b[2m             \u001b[0m\n",
       "\u001b[2;36m           \u001b[0m         \u001b[3;91mFalse\u001b[0m, \u001b[32m'capturable'\u001b[0m: \u001b[3;91mFalse\u001b[0m, \u001b[32m'differentiable'\u001b[0m: \u001b[3;91mFalse\u001b[0m, \u001b[32m'fused'\u001b[0m: \u001b[3;35mNone\u001b[0m\u001b[1m}\u001b[0m               \u001b[2m             \u001b[0m\n",
       "\u001b[2;36m           \u001b[0m         Param group \u001b[1;36m3\u001b[0m:                                                                    \u001b[2m             \u001b[0m\n",
       "\u001b[2;36m           \u001b[0m             Params: \u001b[1;36m71\u001b[0m                                                                    \u001b[2m             \u001b[0m\n",
       "\u001b[2;36m           \u001b[0m             Total param size: \u001b[1;36m26272768\u001b[0m                                                    \u001b[2m             \u001b[0m\n",
       "\u001b[2;36m           \u001b[0m             Other kwargs: \u001b[1m{\u001b[0m\u001b[32m'lr'\u001b[0m: \u001b[1;36m1.5e-06\u001b[0m, \u001b[32m'amsgrad'\u001b[0m: \u001b[3;91mFalse\u001b[0m, \u001b[32m'weight_decay'\u001b[0m: \u001b[1;36m0.1\u001b[0m, \u001b[32m'betas'\u001b[0m: \u001b[2m             \u001b[0m\n",
       "\u001b[2;36m           \u001b[0m         \u001b[1m(\u001b[0m\u001b[1;36m0.9\u001b[0m, \u001b[1;36m0.95\u001b[0m\u001b[1m)\u001b[0m, \u001b[32m'eps'\u001b[0m: \u001b[1;36m1e-08\u001b[0m, \u001b[32m'name'\u001b[0m:                                                \u001b[2m             \u001b[0m\n",
       "\u001b[2;36m           \u001b[0m         \u001b[32m'backbone.int_blocks.2.*,backbone.out_blocks.3.*'\u001b[0m, \u001b[32m'foreach'\u001b[0m: \u001b[3;35mNone\u001b[0m, \u001b[32m'maximize'\u001b[0m:   \u001b[2m             \u001b[0m\n",
       "\u001b[2;36m           \u001b[0m         \u001b[3;91mFalse\u001b[0m, \u001b[32m'capturable'\u001b[0m: \u001b[3;91mFalse\u001b[0m, \u001b[32m'differentiable'\u001b[0m: \u001b[3;91mFalse\u001b[0m, \u001b[32m'fused'\u001b[0m: \u001b[3;35mNone\u001b[0m\u001b[1m}\u001b[0m               \u001b[2m             \u001b[0m\n",
       "\u001b[2;36m           \u001b[0m         Param group \u001b[1;36m4\u001b[0m:                                                                    \u001b[2m             \u001b[0m\n",
       "\u001b[2;36m           \u001b[0m             Params: \u001b[1;36m71\u001b[0m                                                                    \u001b[2m             \u001b[0m\n",
       "\u001b[2;36m           \u001b[0m             Total param size: \u001b[1;36m26272768\u001b[0m                                                    \u001b[2m             \u001b[0m\n",
       "\u001b[2;36m           \u001b[0m             Other kwargs: \u001b[1m{\u001b[0m\u001b[32m'lr'\u001b[0m: \u001b[1;36m2.0000000000000003e-06\u001b[0m, \u001b[32m'amsgrad'\u001b[0m: \u001b[3;91mFalse\u001b[0m,                \u001b[2m             \u001b[0m\n",
       "\u001b[2;36m           \u001b[0m         \u001b[32m'weight_decay'\u001b[0m: \u001b[1;36m0.1\u001b[0m, \u001b[32m'betas'\u001b[0m: \u001b[1m(\u001b[0m\u001b[1;36m0.9\u001b[0m, \u001b[1;36m0.95\u001b[0m\u001b[1m)\u001b[0m, \u001b[32m'eps'\u001b[0m: \u001b[1;36m1e-08\u001b[0m, \u001b[32m'name'\u001b[0m:                  \u001b[2m             \u001b[0m\n",
       "\u001b[2;36m           \u001b[0m         \u001b[32m'backbone.int_blocks.3.*,backbone.out_blocks.4.*'\u001b[0m, \u001b[32m'foreach'\u001b[0m: \u001b[3;35mNone\u001b[0m, \u001b[32m'maximize'\u001b[0m:   \u001b[2m             \u001b[0m\n",
       "\u001b[2;36m           \u001b[0m         \u001b[3;91mFalse\u001b[0m, \u001b[32m'capturable'\u001b[0m: \u001b[3;91mFalse\u001b[0m, \u001b[32m'differentiable'\u001b[0m: \u001b[3;91mFalse\u001b[0m, \u001b[32m'fused'\u001b[0m: \u001b[3;35mNone\u001b[0m\u001b[1m}\u001b[0m               \u001b[2m             \u001b[0m\n",
       "\u001b[2;36m           \u001b[0m         Param group \u001b[1;36m5\u001b[0m:                                                                    \u001b[2m             \u001b[0m\n",
       "\u001b[2;36m           \u001b[0m             Params: \u001b[1;36m71\u001b[0m                                                                    \u001b[2m             \u001b[0m\n",
       "\u001b[2;36m           \u001b[0m             Total param size: \u001b[1;36m26272768\u001b[0m                                                    \u001b[2m             \u001b[0m\n",
       "\u001b[2;36m           \u001b[0m             Other kwargs: \u001b[1m{\u001b[0m\u001b[32m'lr'\u001b[0m: \u001b[1;36m2.7500000000000004e-06\u001b[0m, \u001b[32m'amsgrad'\u001b[0m: \u001b[3;91mFalse\u001b[0m,                \u001b[2m             \u001b[0m\n",
       "\u001b[2;36m           \u001b[0m         \u001b[32m'weight_decay'\u001b[0m: \u001b[1;36m0.1\u001b[0m, \u001b[32m'betas'\u001b[0m: \u001b[1m(\u001b[0m\u001b[1;36m0.9\u001b[0m, \u001b[1;36m0.95\u001b[0m\u001b[1m)\u001b[0m, \u001b[32m'eps'\u001b[0m: \u001b[1;36m1e-08\u001b[0m, \u001b[32m'name'\u001b[0m:                  \u001b[2m             \u001b[0m\n",
       "\u001b[2;36m           \u001b[0m         \u001b[32m'backbone.int_blocks.4.*,backbone.out_blocks.5.*'\u001b[0m, \u001b[32m'foreach'\u001b[0m: \u001b[3;35mNone\u001b[0m, \u001b[32m'maximize'\u001b[0m:   \u001b[2m             \u001b[0m\n",
       "\u001b[2;36m           \u001b[0m         \u001b[3;91mFalse\u001b[0m, \u001b[32m'capturable'\u001b[0m: \u001b[3;91mFalse\u001b[0m, \u001b[32m'differentiable'\u001b[0m: \u001b[3;91mFalse\u001b[0m, \u001b[32m'fused'\u001b[0m: \u001b[3;35mNone\u001b[0m\u001b[1m}\u001b[0m               \u001b[2m             \u001b[0m\n",
       "\u001b[2;36m           \u001b[0m         Param group \u001b[1;36m6\u001b[0m:                                                                    \u001b[2m             \u001b[0m\n",
       "\u001b[2;36m           \u001b[0m             Params: \u001b[1;36m71\u001b[0m                                                                    \u001b[2m             \u001b[0m\n",
       "\u001b[2;36m           \u001b[0m             Total param size: \u001b[1;36m26272768\u001b[0m                                                    \u001b[2m             \u001b[0m\n",
       "\u001b[2;36m           \u001b[0m             Other kwargs: \u001b[1m{\u001b[0m\u001b[32m'lr'\u001b[0m: \u001b[1;36m3.125e-06\u001b[0m, \u001b[32m'amsgrad'\u001b[0m: \u001b[3;91mFalse\u001b[0m, \u001b[32m'weight_decay'\u001b[0m: \u001b[1;36m0.1\u001b[0m,        \u001b[2m             \u001b[0m\n",
       "\u001b[2;36m           \u001b[0m         \u001b[32m'betas'\u001b[0m: \u001b[1m(\u001b[0m\u001b[1;36m0.9\u001b[0m, \u001b[1;36m0.95\u001b[0m\u001b[1m)\u001b[0m, \u001b[32m'eps'\u001b[0m: \u001b[1;36m1e-08\u001b[0m, \u001b[32m'name'\u001b[0m:                                       \u001b[2m             \u001b[0m\n",
       "\u001b[2;36m           \u001b[0m         \u001b[32m'backbone.int_blocks.5.*,backbone.out_blocks.6.*'\u001b[0m, \u001b[32m'foreach'\u001b[0m: \u001b[3;35mNone\u001b[0m, \u001b[32m'maximize'\u001b[0m:   \u001b[2m             \u001b[0m\n",
       "\u001b[2;36m           \u001b[0m         \u001b[3;91mFalse\u001b[0m, \u001b[32m'capturable'\u001b[0m: \u001b[3;91mFalse\u001b[0m, \u001b[32m'differentiable'\u001b[0m: \u001b[3;91mFalse\u001b[0m, \u001b[32m'fused'\u001b[0m: \u001b[3;35mNone\u001b[0m\u001b[1m}\u001b[0m               \u001b[2m             \u001b[0m\n",
       "\u001b[2;36m           \u001b[0m         Param group \u001b[1;36m7\u001b[0m:                                                                    \u001b[2m             \u001b[0m\n",
       "\u001b[2;36m           \u001b[0m             Params: \u001b[1;36m23\u001b[0m                                                                    \u001b[2m             \u001b[0m\n",
       "\u001b[2;36m           \u001b[0m             Total param size: \u001b[1;36m2126080\u001b[0m                                                     \u001b[2m             \u001b[0m\n",
       "\u001b[2;36m           \u001b[0m             Other kwargs: \u001b[1m{\u001b[0m\u001b[32m'lr'\u001b[0m: \u001b[1;36m5e-06\u001b[0m, \u001b[32m'amsgrad'\u001b[0m: \u001b[3;91mFalse\u001b[0m, \u001b[32m'weight_decay'\u001b[0m: \u001b[1;36m0.1\u001b[0m, \u001b[32m'betas'\u001b[0m:   \u001b[2m             \u001b[0m\n",
       "\u001b[2;36m           \u001b[0m         \u001b[1m(\u001b[0m\u001b[1;36m0.9\u001b[0m, \u001b[1;36m0.95\u001b[0m\u001b[1m)\u001b[0m, \u001b[32m'eps'\u001b[0m: \u001b[1;36m1e-08\u001b[0m, \u001b[32m'name'\u001b[0m: \u001b[32m'rest'\u001b[0m, \u001b[32m'foreach'\u001b[0m: \u001b[3;35mNone\u001b[0m, \u001b[32m'maximize'\u001b[0m: \u001b[3;91mFalse\u001b[0m,    \u001b[2m             \u001b[0m\n",
       "\u001b[2;36m           \u001b[0m         \u001b[32m'capturable'\u001b[0m: \u001b[3;91mFalse\u001b[0m, \u001b[32m'differentiable'\u001b[0m: \u001b[3;91mFalse\u001b[0m, \u001b[32m'fused'\u001b[0m: \u001b[3;35mNone\u001b[0m\u001b[1m}\u001b[0m                      \u001b[2m             \u001b[0m\n"
      ]
     },
     "metadata": {},
     "output_type": "display_data"
    },
    {
     "name": "stderr",
     "output_type": "stream",
     "text": [
      "Loading `train_dataloader` to estimate number of stepping batches.\n"
     ]
    },
    {
     "data": {
      "text/html": [
       "<pre style=\"white-space:pre;overflow-x:auto;line-height:normal;font-family:Menlo,'DejaVu Sans Mono',consolas,'Courier New',monospace\"><span style=\"color: #7fbfbf; text-decoration-color: #7fbfbf\">[22:36:15] </span><span style=\"background-color: #800000; font-weight: bold\">CRITICAL</span> Computed warmup_steps: <span style=\"color: #008080; text-decoration-color: #008080; font-weight: bold\">5</span>                                                           <a href=\"file:///workspaces/repositories/jmp-peft/src/jmppeft/tasks/finetune/base.py\" target=\"_blank\"><span style=\"color: #7f7f7f; text-decoration-color: #7f7f7f\">base.py</span></a><span style=\"color: #7f7f7f; text-decoration-color: #7f7f7f\">:</span><a href=\"file:///workspaces/repositories/jmp-peft/src/jmppeft/tasks/finetune/base.py#1309\" target=\"_blank\"><span style=\"color: #7f7f7f; text-decoration-color: #7f7f7f\">1309</span></a>\n",
       "</pre>\n"
      ],
      "text/plain": [
       "\u001b[2;36m[22:36:15]\u001b[0m\u001b[2;36m \u001b[0m\u001b[1;7;31mCRITICAL\u001b[0m Computed warmup_steps: \u001b[1;36m5\u001b[0m                                                           \u001b]8;id=209039;file:///workspaces/repositories/jmp-peft/src/jmppeft/tasks/finetune/base.py\u001b\\\u001b[2mbase.py\u001b[0m\u001b]8;;\u001b\\\u001b[2m:\u001b[0m\u001b]8;id=272769;file:///workspaces/repositories/jmp-peft/src/jmppeft/tasks/finetune/base.py#1309\u001b\\\u001b[2m1309\u001b[0m\u001b]8;;\u001b\\\n"
      ]
     },
     "metadata": {},
     "output_type": "display_data"
    },
    {
     "data": {
      "text/html": [
       "<pre style=\"white-space:pre;overflow-x:auto;line-height:normal;font-family:Menlo,'DejaVu Sans Mono',consolas,'Courier New',monospace\"><span style=\"color: #7fbfbf; text-decoration-color: #7fbfbf\">           </span><span style=\"background-color: #800000; font-weight: bold\">CRITICAL</span> Computed max_steps: <span style=\"color: #008080; text-decoration-color: #008080; font-weight: bold\">32</span>                                                             <a href=\"file:///workspaces/repositories/jmp-peft/src/jmppeft/tasks/finetune/base.py\" target=\"_blank\"><span style=\"color: #7f7f7f; text-decoration-color: #7f7f7f\">base.py</span></a><span style=\"color: #7f7f7f; text-decoration-color: #7f7f7f\">:</span><a href=\"file:///workspaces/repositories/jmp-peft/src/jmppeft/tasks/finetune/base.py#1326\" target=\"_blank\"><span style=\"color: #7f7f7f; text-decoration-color: #7f7f7f\">1326</span></a>\n",
       "</pre>\n"
      ],
      "text/plain": [
       "\u001b[2;36m          \u001b[0m\u001b[2;36m \u001b[0m\u001b[1;7;31mCRITICAL\u001b[0m Computed max_steps: \u001b[1;36m32\u001b[0m                                                             \u001b]8;id=946134;file:///workspaces/repositories/jmp-peft/src/jmppeft/tasks/finetune/base.py\u001b\\\u001b[2mbase.py\u001b[0m\u001b]8;;\u001b\\\u001b[2m:\u001b[0m\u001b]8;id=963098;file:///workspaces/repositories/jmp-peft/src/jmppeft/tasks/finetune/base.py#1326\u001b\\\u001b[2m1326\u001b[0m\u001b]8;;\u001b\\\n"
      ]
     },
     "metadata": {},
     "output_type": "display_data"
    },
    {
     "data": {
      "text/html": [
       "<pre style=\"white-space:pre;overflow-x:auto;line-height:normal;font-family:Menlo,'DejaVu Sans Mono',consolas,'Courier New',monospace\"><span style=\"color: #7fbfbf; text-decoration-color: #7fbfbf\">           </span><span style=\"background-color: #800000; font-weight: bold\">CRITICAL</span> Computed warmup_steps: <span style=\"color: #008080; text-decoration-color: #008080; font-weight: bold\">5</span>                                                           <a href=\"file:///workspaces/repositories/jmp-peft/src/jmppeft/tasks/finetune/base.py\" target=\"_blank\"><span style=\"color: #7f7f7f; text-decoration-color: #7f7f7f\">base.py</span></a><span style=\"color: #7f7f7f; text-decoration-color: #7f7f7f\">:</span><a href=\"file:///workspaces/repositories/jmp-peft/src/jmppeft/tasks/finetune/base.py#1309\" target=\"_blank\"><span style=\"color: #7f7f7f; text-decoration-color: #7f7f7f\">1309</span></a>\n",
       "</pre>\n"
      ],
      "text/plain": [
       "\u001b[2;36m          \u001b[0m\u001b[2;36m \u001b[0m\u001b[1;7;31mCRITICAL\u001b[0m Computed warmup_steps: \u001b[1;36m5\u001b[0m                                                           \u001b]8;id=213295;file:///workspaces/repositories/jmp-peft/src/jmppeft/tasks/finetune/base.py\u001b\\\u001b[2mbase.py\u001b[0m\u001b]8;;\u001b\\\u001b[2m:\u001b[0m\u001b]8;id=804623;file:///workspaces/repositories/jmp-peft/src/jmppeft/tasks/finetune/base.py#1309\u001b\\\u001b[2m1309\u001b[0m\u001b]8;;\u001b\\\n"
      ]
     },
     "metadata": {},
     "output_type": "display_data"
    },
    {
     "data": {
      "text/html": [
       "<pre style=\"white-space:pre;overflow-x:auto;line-height:normal;font-family:Menlo,'DejaVu Sans Mono',consolas,'Courier New',monospace\"><span style=\"color: #7fbfbf; text-decoration-color: #7fbfbf\">           </span><span style=\"background-color: #800000; font-weight: bold\">CRITICAL</span> Computed max_steps: <span style=\"color: #008080; text-decoration-color: #008080; font-weight: bold\">32</span>                                                             <a href=\"file:///workspaces/repositories/jmp-peft/src/jmppeft/tasks/finetune/base.py\" target=\"_blank\"><span style=\"color: #7f7f7f; text-decoration-color: #7f7f7f\">base.py</span></a><span style=\"color: #7f7f7f; text-decoration-color: #7f7f7f\">:</span><a href=\"file:///workspaces/repositories/jmp-peft/src/jmppeft/tasks/finetune/base.py#1326\" target=\"_blank\"><span style=\"color: #7f7f7f; text-decoration-color: #7f7f7f\">1326</span></a>\n",
       "</pre>\n"
      ],
      "text/plain": [
       "\u001b[2;36m          \u001b[0m\u001b[2;36m \u001b[0m\u001b[1;7;31mCRITICAL\u001b[0m Computed max_steps: \u001b[1;36m32\u001b[0m                                                             \u001b]8;id=886491;file:///workspaces/repositories/jmp-peft/src/jmppeft/tasks/finetune/base.py\u001b\\\u001b[2mbase.py\u001b[0m\u001b]8;;\u001b\\\u001b[2m:\u001b[0m\u001b]8;id=169821;file:///workspaces/repositories/jmp-peft/src/jmppeft/tasks/finetune/base.py#1326\u001b\\\u001b[2m1326\u001b[0m\u001b]8;;\u001b\\\n"
      ]
     },
     "metadata": {},
     "output_type": "display_data"
    },
    {
     "data": {
      "text/html": [
       "<pre style=\"white-space:pre;overflow-x:auto;line-height:normal;font-family:Menlo,'DejaVu Sans Mono',consolas,'Courier New',monospace\"><span style=\"color: #7fbfbf; text-decoration-color: #7fbfbf\">           </span><span style=\"background-color: #800000; font-weight: bold\">CRITICAL</span> Computed warmup_steps: <span style=\"color: #008080; text-decoration-color: #008080; font-weight: bold\">5</span>                                                           <a href=\"file:///workspaces/repositories/jmp-peft/src/jmppeft/tasks/finetune/base.py\" target=\"_blank\"><span style=\"color: #7f7f7f; text-decoration-color: #7f7f7f\">base.py</span></a><span style=\"color: #7f7f7f; text-decoration-color: #7f7f7f\">:</span><a href=\"file:///workspaces/repositories/jmp-peft/src/jmppeft/tasks/finetune/base.py#1309\" target=\"_blank\"><span style=\"color: #7f7f7f; text-decoration-color: #7f7f7f\">1309</span></a>\n",
       "</pre>\n"
      ],
      "text/plain": [
       "\u001b[2;36m          \u001b[0m\u001b[2;36m \u001b[0m\u001b[1;7;31mCRITICAL\u001b[0m Computed warmup_steps: \u001b[1;36m5\u001b[0m                                                           \u001b]8;id=625781;file:///workspaces/repositories/jmp-peft/src/jmppeft/tasks/finetune/base.py\u001b\\\u001b[2mbase.py\u001b[0m\u001b]8;;\u001b\\\u001b[2m:\u001b[0m\u001b]8;id=966177;file:///workspaces/repositories/jmp-peft/src/jmppeft/tasks/finetune/base.py#1309\u001b\\\u001b[2m1309\u001b[0m\u001b]8;;\u001b\\\n"
      ]
     },
     "metadata": {},
     "output_type": "display_data"
    },
    {
     "data": {
      "text/html": [
       "<pre style=\"white-space:pre;overflow-x:auto;line-height:normal;font-family:Menlo,'DejaVu Sans Mono',consolas,'Courier New',monospace\"><span style=\"color: #7fbfbf; text-decoration-color: #7fbfbf\">           </span><span style=\"background-color: #800000; font-weight: bold\">CRITICAL</span> Computed max_steps: <span style=\"color: #008080; text-decoration-color: #008080; font-weight: bold\">32</span>                                                             <a href=\"file:///workspaces/repositories/jmp-peft/src/jmppeft/tasks/finetune/base.py\" target=\"_blank\"><span style=\"color: #7f7f7f; text-decoration-color: #7f7f7f\">base.py</span></a><span style=\"color: #7f7f7f; text-decoration-color: #7f7f7f\">:</span><a href=\"file:///workspaces/repositories/jmp-peft/src/jmppeft/tasks/finetune/base.py#1326\" target=\"_blank\"><span style=\"color: #7f7f7f; text-decoration-color: #7f7f7f\">1326</span></a>\n",
       "</pre>\n"
      ],
      "text/plain": [
       "\u001b[2;36m          \u001b[0m\u001b[2;36m \u001b[0m\u001b[1;7;31mCRITICAL\u001b[0m Computed max_steps: \u001b[1;36m32\u001b[0m                                                             \u001b]8;id=494535;file:///workspaces/repositories/jmp-peft/src/jmppeft/tasks/finetune/base.py\u001b\\\u001b[2mbase.py\u001b[0m\u001b]8;;\u001b\\\u001b[2m:\u001b[0m\u001b]8;id=714374;file:///workspaces/repositories/jmp-peft/src/jmppeft/tasks/finetune/base.py#1326\u001b\\\u001b[2m1326\u001b[0m\u001b]8;;\u001b\\\n"
      ]
     },
     "metadata": {},
     "output_type": "display_data"
    },
    {
     "data": {
      "text/html": [
       "<pre style=\"white-space:pre;overflow-x:auto;line-height:normal;font-family:Menlo,'DejaVu Sans Mono',consolas,'Courier New',monospace\"><span style=\"color: #7fbfbf; text-decoration-color: #7fbfbf\">           </span><span style=\"background-color: #800000; font-weight: bold\">CRITICAL</span> Computed warmup_steps: <span style=\"color: #008080; text-decoration-color: #008080; font-weight: bold\">5</span>                                                           <a href=\"file:///workspaces/repositories/jmp-peft/src/jmppeft/tasks/finetune/base.py\" target=\"_blank\"><span style=\"color: #7f7f7f; text-decoration-color: #7f7f7f\">base.py</span></a><span style=\"color: #7f7f7f; text-decoration-color: #7f7f7f\">:</span><a href=\"file:///workspaces/repositories/jmp-peft/src/jmppeft/tasks/finetune/base.py#1309\" target=\"_blank\"><span style=\"color: #7f7f7f; text-decoration-color: #7f7f7f\">1309</span></a>\n",
       "</pre>\n"
      ],
      "text/plain": [
       "\u001b[2;36m          \u001b[0m\u001b[2;36m \u001b[0m\u001b[1;7;31mCRITICAL\u001b[0m Computed warmup_steps: \u001b[1;36m5\u001b[0m                                                           \u001b]8;id=533305;file:///workspaces/repositories/jmp-peft/src/jmppeft/tasks/finetune/base.py\u001b\\\u001b[2mbase.py\u001b[0m\u001b]8;;\u001b\\\u001b[2m:\u001b[0m\u001b]8;id=962080;file:///workspaces/repositories/jmp-peft/src/jmppeft/tasks/finetune/base.py#1309\u001b\\\u001b[2m1309\u001b[0m\u001b]8;;\u001b\\\n"
      ]
     },
     "metadata": {},
     "output_type": "display_data"
    },
    {
     "data": {
      "text/html": [
       "<pre style=\"white-space:pre;overflow-x:auto;line-height:normal;font-family:Menlo,'DejaVu Sans Mono',consolas,'Courier New',monospace\"><span style=\"color: #7fbfbf; text-decoration-color: #7fbfbf\">           </span><span style=\"background-color: #800000; font-weight: bold\">CRITICAL</span> Computed max_steps: <span style=\"color: #008080; text-decoration-color: #008080; font-weight: bold\">32</span>                                                             <a href=\"file:///workspaces/repositories/jmp-peft/src/jmppeft/tasks/finetune/base.py\" target=\"_blank\"><span style=\"color: #7f7f7f; text-decoration-color: #7f7f7f\">base.py</span></a><span style=\"color: #7f7f7f; text-decoration-color: #7f7f7f\">:</span><a href=\"file:///workspaces/repositories/jmp-peft/src/jmppeft/tasks/finetune/base.py#1326\" target=\"_blank\"><span style=\"color: #7f7f7f; text-decoration-color: #7f7f7f\">1326</span></a>\n",
       "</pre>\n"
      ],
      "text/plain": [
       "\u001b[2;36m          \u001b[0m\u001b[2;36m \u001b[0m\u001b[1;7;31mCRITICAL\u001b[0m Computed max_steps: \u001b[1;36m32\u001b[0m                                                             \u001b]8;id=878351;file:///workspaces/repositories/jmp-peft/src/jmppeft/tasks/finetune/base.py\u001b\\\u001b[2mbase.py\u001b[0m\u001b]8;;\u001b\\\u001b[2m:\u001b[0m\u001b]8;id=689560;file:///workspaces/repositories/jmp-peft/src/jmppeft/tasks/finetune/base.py#1326\u001b\\\u001b[2m1326\u001b[0m\u001b]8;;\u001b\\\n"
      ]
     },
     "metadata": {},
     "output_type": "display_data"
    },
    {
     "data": {
      "text/html": [
       "<pre style=\"white-space:pre;overflow-x:auto;line-height:normal;font-family:Menlo,'DejaVu Sans Mono',consolas,'Courier New',monospace\"><span style=\"color: #7fbfbf; text-decoration-color: #7fbfbf\">           </span><span style=\"background-color: #800000; font-weight: bold\">CRITICAL</span> Computed warmup_steps: <span style=\"color: #008080; text-decoration-color: #008080; font-weight: bold\">5</span>                                                           <a href=\"file:///workspaces/repositories/jmp-peft/src/jmppeft/tasks/finetune/base.py\" target=\"_blank\"><span style=\"color: #7f7f7f; text-decoration-color: #7f7f7f\">base.py</span></a><span style=\"color: #7f7f7f; text-decoration-color: #7f7f7f\">:</span><a href=\"file:///workspaces/repositories/jmp-peft/src/jmppeft/tasks/finetune/base.py#1309\" target=\"_blank\"><span style=\"color: #7f7f7f; text-decoration-color: #7f7f7f\">1309</span></a>\n",
       "</pre>\n"
      ],
      "text/plain": [
       "\u001b[2;36m          \u001b[0m\u001b[2;36m \u001b[0m\u001b[1;7;31mCRITICAL\u001b[0m Computed warmup_steps: \u001b[1;36m5\u001b[0m                                                           \u001b]8;id=13040;file:///workspaces/repositories/jmp-peft/src/jmppeft/tasks/finetune/base.py\u001b\\\u001b[2mbase.py\u001b[0m\u001b]8;;\u001b\\\u001b[2m:\u001b[0m\u001b]8;id=480199;file:///workspaces/repositories/jmp-peft/src/jmppeft/tasks/finetune/base.py#1309\u001b\\\u001b[2m1309\u001b[0m\u001b]8;;\u001b\\\n"
      ]
     },
     "metadata": {},
     "output_type": "display_data"
    },
    {
     "data": {
      "text/html": [
       "<pre style=\"white-space:pre;overflow-x:auto;line-height:normal;font-family:Menlo,'DejaVu Sans Mono',consolas,'Courier New',monospace\"><span style=\"color: #7fbfbf; text-decoration-color: #7fbfbf\">           </span><span style=\"background-color: #800000; font-weight: bold\">CRITICAL</span> Computed max_steps: <span style=\"color: #008080; text-decoration-color: #008080; font-weight: bold\">32</span>                                                             <a href=\"file:///workspaces/repositories/jmp-peft/src/jmppeft/tasks/finetune/base.py\" target=\"_blank\"><span style=\"color: #7f7f7f; text-decoration-color: #7f7f7f\">base.py</span></a><span style=\"color: #7f7f7f; text-decoration-color: #7f7f7f\">:</span><a href=\"file:///workspaces/repositories/jmp-peft/src/jmppeft/tasks/finetune/base.py#1326\" target=\"_blank\"><span style=\"color: #7f7f7f; text-decoration-color: #7f7f7f\">1326</span></a>\n",
       "</pre>\n"
      ],
      "text/plain": [
       "\u001b[2;36m          \u001b[0m\u001b[2;36m \u001b[0m\u001b[1;7;31mCRITICAL\u001b[0m Computed max_steps: \u001b[1;36m32\u001b[0m                                                             \u001b]8;id=47916;file:///workspaces/repositories/jmp-peft/src/jmppeft/tasks/finetune/base.py\u001b\\\u001b[2mbase.py\u001b[0m\u001b]8;;\u001b\\\u001b[2m:\u001b[0m\u001b]8;id=570760;file:///workspaces/repositories/jmp-peft/src/jmppeft/tasks/finetune/base.py#1326\u001b\\\u001b[2m1326\u001b[0m\u001b]8;;\u001b\\\n"
      ]
     },
     "metadata": {},
     "output_type": "display_data"
    },
    {
     "data": {
      "text/html": [
       "<pre style=\"white-space:pre;overflow-x:auto;line-height:normal;font-family:Menlo,'DejaVu Sans Mono',consolas,'Courier New',monospace\"><span style=\"color: #7fbfbf; text-decoration-color: #7fbfbf\">           </span><span style=\"background-color: #800000; font-weight: bold\">CRITICAL</span> Computed warmup_steps: <span style=\"color: #008080; text-decoration-color: #008080; font-weight: bold\">5</span>                                                           <a href=\"file:///workspaces/repositories/jmp-peft/src/jmppeft/tasks/finetune/base.py\" target=\"_blank\"><span style=\"color: #7f7f7f; text-decoration-color: #7f7f7f\">base.py</span></a><span style=\"color: #7f7f7f; text-decoration-color: #7f7f7f\">:</span><a href=\"file:///workspaces/repositories/jmp-peft/src/jmppeft/tasks/finetune/base.py#1309\" target=\"_blank\"><span style=\"color: #7f7f7f; text-decoration-color: #7f7f7f\">1309</span></a>\n",
       "</pre>\n"
      ],
      "text/plain": [
       "\u001b[2;36m          \u001b[0m\u001b[2;36m \u001b[0m\u001b[1;7;31mCRITICAL\u001b[0m Computed warmup_steps: \u001b[1;36m5\u001b[0m                                                           \u001b]8;id=999428;file:///workspaces/repositories/jmp-peft/src/jmppeft/tasks/finetune/base.py\u001b\\\u001b[2mbase.py\u001b[0m\u001b]8;;\u001b\\\u001b[2m:\u001b[0m\u001b]8;id=505232;file:///workspaces/repositories/jmp-peft/src/jmppeft/tasks/finetune/base.py#1309\u001b\\\u001b[2m1309\u001b[0m\u001b]8;;\u001b\\\n"
      ]
     },
     "metadata": {},
     "output_type": "display_data"
    },
    {
     "data": {
      "text/html": [
       "<pre style=\"white-space:pre;overflow-x:auto;line-height:normal;font-family:Menlo,'DejaVu Sans Mono',consolas,'Courier New',monospace\"><span style=\"color: #7fbfbf; text-decoration-color: #7fbfbf\">           </span><span style=\"background-color: #800000; font-weight: bold\">CRITICAL</span> Computed max_steps: <span style=\"color: #008080; text-decoration-color: #008080; font-weight: bold\">32</span>                                                             <a href=\"file:///workspaces/repositories/jmp-peft/src/jmppeft/tasks/finetune/base.py\" target=\"_blank\"><span style=\"color: #7f7f7f; text-decoration-color: #7f7f7f\">base.py</span></a><span style=\"color: #7f7f7f; text-decoration-color: #7f7f7f\">:</span><a href=\"file:///workspaces/repositories/jmp-peft/src/jmppeft/tasks/finetune/base.py#1326\" target=\"_blank\"><span style=\"color: #7f7f7f; text-decoration-color: #7f7f7f\">1326</span></a>\n",
       "</pre>\n"
      ],
      "text/plain": [
       "\u001b[2;36m          \u001b[0m\u001b[2;36m \u001b[0m\u001b[1;7;31mCRITICAL\u001b[0m Computed max_steps: \u001b[1;36m32\u001b[0m                                                             \u001b]8;id=376649;file:///workspaces/repositories/jmp-peft/src/jmppeft/tasks/finetune/base.py\u001b\\\u001b[2mbase.py\u001b[0m\u001b]8;;\u001b\\\u001b[2m:\u001b[0m\u001b]8;id=618951;file:///workspaces/repositories/jmp-peft/src/jmppeft/tasks/finetune/base.py#1326\u001b\\\u001b[2m1326\u001b[0m\u001b]8;;\u001b\\\n"
      ]
     },
     "metadata": {},
     "output_type": "display_data"
    },
    {
     "data": {
      "text/html": [
       "<pre style=\"white-space:pre;overflow-x:auto;line-height:normal;font-family:Menlo,'DejaVu Sans Mono',consolas,'Courier New',monospace\"><span style=\"color: #7fbfbf; text-decoration-color: #7fbfbf\">           </span><span style=\"background-color: #800000; font-weight: bold\">CRITICAL</span> Computed warmup_steps: <span style=\"color: #008080; text-decoration-color: #008080; font-weight: bold\">5</span>                                                           <a href=\"file:///workspaces/repositories/jmp-peft/src/jmppeft/tasks/finetune/base.py\" target=\"_blank\"><span style=\"color: #7f7f7f; text-decoration-color: #7f7f7f\">base.py</span></a><span style=\"color: #7f7f7f; text-decoration-color: #7f7f7f\">:</span><a href=\"file:///workspaces/repositories/jmp-peft/src/jmppeft/tasks/finetune/base.py#1309\" target=\"_blank\"><span style=\"color: #7f7f7f; text-decoration-color: #7f7f7f\">1309</span></a>\n",
       "</pre>\n"
      ],
      "text/plain": [
       "\u001b[2;36m          \u001b[0m\u001b[2;36m \u001b[0m\u001b[1;7;31mCRITICAL\u001b[0m Computed warmup_steps: \u001b[1;36m5\u001b[0m                                                           \u001b]8;id=651246;file:///workspaces/repositories/jmp-peft/src/jmppeft/tasks/finetune/base.py\u001b\\\u001b[2mbase.py\u001b[0m\u001b]8;;\u001b\\\u001b[2m:\u001b[0m\u001b]8;id=138773;file:///workspaces/repositories/jmp-peft/src/jmppeft/tasks/finetune/base.py#1309\u001b\\\u001b[2m1309\u001b[0m\u001b]8;;\u001b\\\n"
      ]
     },
     "metadata": {},
     "output_type": "display_data"
    },
    {
     "data": {
      "text/html": [
       "<pre style=\"white-space:pre;overflow-x:auto;line-height:normal;font-family:Menlo,'DejaVu Sans Mono',consolas,'Courier New',monospace\"><span style=\"color: #7fbfbf; text-decoration-color: #7fbfbf\">           </span><span style=\"background-color: #800000; font-weight: bold\">CRITICAL</span> Computed max_steps: <span style=\"color: #008080; text-decoration-color: #008080; font-weight: bold\">32</span>                                                             <a href=\"file:///workspaces/repositories/jmp-peft/src/jmppeft/tasks/finetune/base.py\" target=\"_blank\"><span style=\"color: #7f7f7f; text-decoration-color: #7f7f7f\">base.py</span></a><span style=\"color: #7f7f7f; text-decoration-color: #7f7f7f\">:</span><a href=\"file:///workspaces/repositories/jmp-peft/src/jmppeft/tasks/finetune/base.py#1326\" target=\"_blank\"><span style=\"color: #7f7f7f; text-decoration-color: #7f7f7f\">1326</span></a>\n",
       "</pre>\n"
      ],
      "text/plain": [
       "\u001b[2;36m          \u001b[0m\u001b[2;36m \u001b[0m\u001b[1;7;31mCRITICAL\u001b[0m Computed max_steps: \u001b[1;36m32\u001b[0m                                                             \u001b]8;id=434548;file:///workspaces/repositories/jmp-peft/src/jmppeft/tasks/finetune/base.py\u001b\\\u001b[2mbase.py\u001b[0m\u001b]8;;\u001b\\\u001b[2m:\u001b[0m\u001b]8;id=869167;file:///workspaces/repositories/jmp-peft/src/jmppeft/tasks/finetune/base.py#1326\u001b\\\u001b[2m1326\u001b[0m\u001b]8;;\u001b\\\n"
      ]
     },
     "metadata": {},
     "output_type": "display_data"
    },
    {
     "data": {
      "text/html": [
       "<pre style=\"white-space:pre;overflow-x:auto;line-height:normal;font-family:Menlo,'DejaVu Sans Mono',consolas,'Courier New',monospace\"><span style=\"color: #7fbfbf; text-decoration-color: #7fbfbf\">           </span><span style=\"background-color: #800000; font-weight: bold\">CRITICAL</span> Computed warmup_steps: <span style=\"color: #008080; text-decoration-color: #008080; font-weight: bold\">5</span>                                                           <a href=\"file:///workspaces/repositories/jmp-peft/src/jmppeft/tasks/finetune/base.py\" target=\"_blank\"><span style=\"color: #7f7f7f; text-decoration-color: #7f7f7f\">base.py</span></a><span style=\"color: #7f7f7f; text-decoration-color: #7f7f7f\">:</span><a href=\"file:///workspaces/repositories/jmp-peft/src/jmppeft/tasks/finetune/base.py#1309\" target=\"_blank\"><span style=\"color: #7f7f7f; text-decoration-color: #7f7f7f\">1309</span></a>\n",
       "</pre>\n"
      ],
      "text/plain": [
       "\u001b[2;36m          \u001b[0m\u001b[2;36m \u001b[0m\u001b[1;7;31mCRITICAL\u001b[0m Computed warmup_steps: \u001b[1;36m5\u001b[0m                                                           \u001b]8;id=201651;file:///workspaces/repositories/jmp-peft/src/jmppeft/tasks/finetune/base.py\u001b\\\u001b[2mbase.py\u001b[0m\u001b]8;;\u001b\\\u001b[2m:\u001b[0m\u001b]8;id=732517;file:///workspaces/repositories/jmp-peft/src/jmppeft/tasks/finetune/base.py#1309\u001b\\\u001b[2m1309\u001b[0m\u001b]8;;\u001b\\\n"
      ]
     },
     "metadata": {},
     "output_type": "display_data"
    },
    {
     "data": {
      "text/html": [
       "<pre style=\"white-space:pre;overflow-x:auto;line-height:normal;font-family:Menlo,'DejaVu Sans Mono',consolas,'Courier New',monospace\"><span style=\"color: #7fbfbf; text-decoration-color: #7fbfbf\">           </span><span style=\"background-color: #800000; font-weight: bold\">CRITICAL</span> Computed max_steps: <span style=\"color: #008080; text-decoration-color: #008080; font-weight: bold\">32</span>                                                             <a href=\"file:///workspaces/repositories/jmp-peft/src/jmppeft/tasks/finetune/base.py\" target=\"_blank\"><span style=\"color: #7f7f7f; text-decoration-color: #7f7f7f\">base.py</span></a><span style=\"color: #7f7f7f; text-decoration-color: #7f7f7f\">:</span><a href=\"file:///workspaces/repositories/jmp-peft/src/jmppeft/tasks/finetune/base.py#1326\" target=\"_blank\"><span style=\"color: #7f7f7f; text-decoration-color: #7f7f7f\">1326</span></a>\n",
       "</pre>\n"
      ],
      "text/plain": [
       "\u001b[2;36m          \u001b[0m\u001b[2;36m \u001b[0m\u001b[1;7;31mCRITICAL\u001b[0m Computed max_steps: \u001b[1;36m32\u001b[0m                                                             \u001b]8;id=668361;file:///workspaces/repositories/jmp-peft/src/jmppeft/tasks/finetune/base.py\u001b\\\u001b[2mbase.py\u001b[0m\u001b]8;;\u001b\\\u001b[2m:\u001b[0m\u001b]8;id=469903;file:///workspaces/repositories/jmp-peft/src/jmppeft/tasks/finetune/base.py#1326\u001b\\\u001b[2m1326\u001b[0m\u001b]8;;\u001b\\\n"
      ]
     },
     "metadata": {},
     "output_type": "display_data"
    },
    {
     "data": {
      "text/html": [
       "<pre style=\"white-space:pre;overflow-x:auto;line-height:normal;font-family:Menlo,'DejaVu Sans Mono',consolas,'Courier New',monospace\"><span style=\"color: #7fbfbf; text-decoration-color: #7fbfbf\">           </span><span style=\"background-color: #800000; font-weight: bold\">CRITICAL</span> <span style=\"color: #808000; text-decoration-color: #808000\">param_group_lr_scheduler_settings</span>=<span style=\"font-weight: bold\">[{</span><span style=\"color: #008000; text-decoration-color: #008000\">'warmup_epochs'</span>: <span style=\"color: #008080; text-decoration-color: #008080; font-weight: bold\">5</span>, <span style=\"color: #008000; text-decoration-color: #008000\">'max_epochs'</span>: <span style=\"color: #008080; text-decoration-color: #008080; font-weight: bold\">32</span>,          <a href=\"file:///workspaces/repositories/jmp-peft/src/jmppeft/tasks/finetune/base.py\" target=\"_blank\"><span style=\"color: #7f7f7f; text-decoration-color: #7f7f7f\">base.py</span></a><span style=\"color: #7f7f7f; text-decoration-color: #7f7f7f\">:</span><a href=\"file:///workspaces/repositories/jmp-peft/src/jmppeft/tasks/finetune/base.py#1450\" target=\"_blank\"><span style=\"color: #7f7f7f; text-decoration-color: #7f7f7f\">1450</span></a>\n",
       "<span style=\"color: #7fbfbf; text-decoration-color: #7fbfbf\">           </span>         <span style=\"color: #008000; text-decoration-color: #008000\">'warmup_start_lr'</span>: <span style=\"color: #008080; text-decoration-color: #008080; font-weight: bold\">1.5000000000000002e-07</span>, <span style=\"color: #008000; text-decoration-color: #008000\">'eta_min'</span>: <span style=\"color: #008080; text-decoration-color: #008080; font-weight: bold\">5.000000000000001e-07</span>,       <span style=\"color: #7f7f7f; text-decoration-color: #7f7f7f\">            </span>\n",
       "<span style=\"color: #7fbfbf; text-decoration-color: #7fbfbf\">           </span>         <span style=\"color: #008000; text-decoration-color: #008000\">'should_restart'</span>: <span style=\"color: #ff0000; text-decoration-color: #ff0000; font-style: italic\">False</span><span style=\"font-weight: bold\">}</span>, <span style=\"font-weight: bold\">{</span><span style=\"color: #008000; text-decoration-color: #008000\">'warmup_epochs'</span>: <span style=\"color: #008080; text-decoration-color: #008080; font-weight: bold\">5</span>, <span style=\"color: #008000; text-decoration-color: #008000\">'max_epochs'</span>: <span style=\"color: #008080; text-decoration-color: #008080; font-weight: bold\">32</span>,                   <span style=\"color: #7f7f7f; text-decoration-color: #7f7f7f\">            </span>\n",
       "<span style=\"color: #7fbfbf; text-decoration-color: #7fbfbf\">           </span>         <span style=\"color: #008000; text-decoration-color: #008000\">'warmup_start_lr'</span>: <span style=\"color: #008080; text-decoration-color: #008080; font-weight: bold\">2.7500000000000007e-07</span>, <span style=\"color: #008000; text-decoration-color: #008000\">'eta_min'</span>: <span style=\"color: #008080; text-decoration-color: #008080; font-weight: bold\">5.000000000000001e-07</span>,       <span style=\"color: #7f7f7f; text-decoration-color: #7f7f7f\">            </span>\n",
       "<span style=\"color: #7fbfbf; text-decoration-color: #7fbfbf\">           </span>         <span style=\"color: #008000; text-decoration-color: #008000\">'should_restart'</span>: <span style=\"color: #ff0000; text-decoration-color: #ff0000; font-style: italic\">False</span><span style=\"font-weight: bold\">}</span>, <span style=\"font-weight: bold\">{</span><span style=\"color: #008000; text-decoration-color: #008000\">'warmup_epochs'</span>: <span style=\"color: #008080; text-decoration-color: #008080; font-weight: bold\">5</span>, <span style=\"color: #008000; text-decoration-color: #008000\">'max_epochs'</span>: <span style=\"color: #008080; text-decoration-color: #008080; font-weight: bold\">32</span>,                   <span style=\"color: #7f7f7f; text-decoration-color: #7f7f7f\">            </span>\n",
       "<span style=\"color: #7fbfbf; text-decoration-color: #7fbfbf\">           </span>         <span style=\"color: #008000; text-decoration-color: #008000\">'warmup_start_lr'</span>: <span style=\"color: #008080; text-decoration-color: #008080; font-weight: bold\">2.0000000000000004e-07</span>, <span style=\"color: #008000; text-decoration-color: #008000\">'eta_min'</span>: <span style=\"color: #008080; text-decoration-color: #008080; font-weight: bold\">5.000000000000001e-07</span>,       <span style=\"color: #7f7f7f; text-decoration-color: #7f7f7f\">            </span>\n",
       "<span style=\"color: #7fbfbf; text-decoration-color: #7fbfbf\">           </span>         <span style=\"color: #008000; text-decoration-color: #008000\">'should_restart'</span>: <span style=\"color: #ff0000; text-decoration-color: #ff0000; font-style: italic\">False</span><span style=\"font-weight: bold\">}</span>, <span style=\"font-weight: bold\">{</span><span style=\"color: #008000; text-decoration-color: #008000\">'warmup_epochs'</span>: <span style=\"color: #008080; text-decoration-color: #008080; font-weight: bold\">5</span>, <span style=\"color: #008000; text-decoration-color: #008000\">'max_epochs'</span>: <span style=\"color: #008080; text-decoration-color: #008080; font-weight: bold\">32</span>,                   <span style=\"color: #7f7f7f; text-decoration-color: #7f7f7f\">            </span>\n",
       "<span style=\"color: #7fbfbf; text-decoration-color: #7fbfbf\">           </span>         <span style=\"color: #008000; text-decoration-color: #008000\">'warmup_start_lr'</span>: <span style=\"color: #008080; text-decoration-color: #008080; font-weight: bold\">1.5000000000000002e-07</span>, <span style=\"color: #008000; text-decoration-color: #008000\">'eta_min'</span>: <span style=\"color: #008080; text-decoration-color: #008080; font-weight: bold\">5.000000000000001e-07</span>,       <span style=\"color: #7f7f7f; text-decoration-color: #7f7f7f\">            </span>\n",
       "<span style=\"color: #7fbfbf; text-decoration-color: #7fbfbf\">           </span>         <span style=\"color: #008000; text-decoration-color: #008000\">'should_restart'</span>: <span style=\"color: #ff0000; text-decoration-color: #ff0000; font-style: italic\">False</span><span style=\"font-weight: bold\">}</span>, <span style=\"font-weight: bold\">{</span><span style=\"color: #008000; text-decoration-color: #008000\">'warmup_epochs'</span>: <span style=\"color: #008080; text-decoration-color: #008080; font-weight: bold\">5</span>, <span style=\"color: #008000; text-decoration-color: #008000\">'max_epochs'</span>: <span style=\"color: #008080; text-decoration-color: #008080; font-weight: bold\">32</span>,                   <span style=\"color: #7f7f7f; text-decoration-color: #7f7f7f\">            </span>\n",
       "<span style=\"color: #7fbfbf; text-decoration-color: #7fbfbf\">           </span>         <span style=\"color: #008000; text-decoration-color: #008000\">'warmup_start_lr'</span>: <span style=\"color: #008080; text-decoration-color: #008080; font-weight: bold\">2.0000000000000004e-07</span>, <span style=\"color: #008000; text-decoration-color: #008000\">'eta_min'</span>: <span style=\"color: #008080; text-decoration-color: #008080; font-weight: bold\">5.000000000000001e-07</span>,       <span style=\"color: #7f7f7f; text-decoration-color: #7f7f7f\">            </span>\n",
       "<span style=\"color: #7fbfbf; text-decoration-color: #7fbfbf\">           </span>         <span style=\"color: #008000; text-decoration-color: #008000\">'should_restart'</span>: <span style=\"color: #ff0000; text-decoration-color: #ff0000; font-style: italic\">False</span><span style=\"font-weight: bold\">}</span>, <span style=\"font-weight: bold\">{</span><span style=\"color: #008000; text-decoration-color: #008000\">'warmup_epochs'</span>: <span style=\"color: #008080; text-decoration-color: #008080; font-weight: bold\">5</span>, <span style=\"color: #008000; text-decoration-color: #008000\">'max_epochs'</span>: <span style=\"color: #008080; text-decoration-color: #008080; font-weight: bold\">32</span>,                   <span style=\"color: #7f7f7f; text-decoration-color: #7f7f7f\">            </span>\n",
       "<span style=\"color: #7fbfbf; text-decoration-color: #7fbfbf\">           </span>         <span style=\"color: #008000; text-decoration-color: #008000\">'warmup_start_lr'</span>: <span style=\"color: #008080; text-decoration-color: #008080; font-weight: bold\">2.7500000000000007e-07</span>, <span style=\"color: #008000; text-decoration-color: #008000\">'eta_min'</span>: <span style=\"color: #008080; text-decoration-color: #008080; font-weight: bold\">5.000000000000001e-07</span>,       <span style=\"color: #7f7f7f; text-decoration-color: #7f7f7f\">            </span>\n",
       "<span style=\"color: #7fbfbf; text-decoration-color: #7fbfbf\">           </span>         <span style=\"color: #008000; text-decoration-color: #008000\">'should_restart'</span>: <span style=\"color: #ff0000; text-decoration-color: #ff0000; font-style: italic\">False</span><span style=\"font-weight: bold\">}</span>, <span style=\"font-weight: bold\">{</span><span style=\"color: #008000; text-decoration-color: #008000\">'warmup_epochs'</span>: <span style=\"color: #008080; text-decoration-color: #008080; font-weight: bold\">5</span>, <span style=\"color: #008000; text-decoration-color: #008000\">'max_epochs'</span>: <span style=\"color: #008080; text-decoration-color: #008080; font-weight: bold\">32</span>,                   <span style=\"color: #7f7f7f; text-decoration-color: #7f7f7f\">            </span>\n",
       "<span style=\"color: #7fbfbf; text-decoration-color: #7fbfbf\">           </span>         <span style=\"color: #008000; text-decoration-color: #008000\">'warmup_start_lr'</span>: <span style=\"color: #008080; text-decoration-color: #008080; font-weight: bold\">3.125e-07</span>, <span style=\"color: #008000; text-decoration-color: #008000\">'eta_min'</span>: <span style=\"color: #008080; text-decoration-color: #008080; font-weight: bold\">5.000000000000001e-07</span>, <span style=\"color: #008000; text-decoration-color: #008000\">'should_restart'</span>:  <span style=\"color: #7f7f7f; text-decoration-color: #7f7f7f\">            </span>\n",
       "<span style=\"color: #7fbfbf; text-decoration-color: #7fbfbf\">           </span>         <span style=\"color: #ff0000; text-decoration-color: #ff0000; font-style: italic\">False</span><span style=\"font-weight: bold\">}</span>, <span style=\"font-weight: bold\">{</span><span style=\"color: #008000; text-decoration-color: #008000\">'warmup_epochs'</span>: <span style=\"color: #008080; text-decoration-color: #008080; font-weight: bold\">5</span>, <span style=\"color: #008000; text-decoration-color: #008000\">'max_epochs'</span>: <span style=\"color: #008080; text-decoration-color: #008080; font-weight: bold\">32</span>, <span style=\"color: #008000; text-decoration-color: #008000\">'warmup_start_lr'</span>:                  <span style=\"color: #7f7f7f; text-decoration-color: #7f7f7f\">            </span>\n",
       "<span style=\"color: #7fbfbf; text-decoration-color: #7fbfbf\">           </span>         <span style=\"color: #008080; text-decoration-color: #008080; font-weight: bold\">5.000000000000001e-07</span>, <span style=\"color: #008000; text-decoration-color: #008000\">'eta_min'</span>: <span style=\"color: #008080; text-decoration-color: #008080; font-weight: bold\">5.000000000000001e-07</span>, <span style=\"color: #008000; text-decoration-color: #008000\">'should_restart'</span>: <span style=\"color: #ff0000; text-decoration-color: #ff0000; font-style: italic\">False</span><span style=\"font-weight: bold\">}]</span> <span style=\"color: #7f7f7f; text-decoration-color: #7f7f7f\">            </span>\n",
       "</pre>\n"
      ],
      "text/plain": [
       "\u001b[2;36m          \u001b[0m\u001b[2;36m \u001b[0m\u001b[1;7;31mCRITICAL\u001b[0m \u001b[33mparam_group_lr_scheduler_settings\u001b[0m=\u001b[1m[\u001b[0m\u001b[1m{\u001b[0m\u001b[32m'warmup_epochs'\u001b[0m: \u001b[1;36m5\u001b[0m, \u001b[32m'max_epochs'\u001b[0m: \u001b[1;36m32\u001b[0m,          \u001b]8;id=917019;file:///workspaces/repositories/jmp-peft/src/jmppeft/tasks/finetune/base.py\u001b\\\u001b[2mbase.py\u001b[0m\u001b]8;;\u001b\\\u001b[2m:\u001b[0m\u001b]8;id=434536;file:///workspaces/repositories/jmp-peft/src/jmppeft/tasks/finetune/base.py#1450\u001b\\\u001b[2m1450\u001b[0m\u001b]8;;\u001b\\\n",
       "\u001b[2;36m           \u001b[0m         \u001b[32m'warmup_start_lr'\u001b[0m: \u001b[1;36m1.5000000000000002e-07\u001b[0m, \u001b[32m'eta_min'\u001b[0m: \u001b[1;36m5.000000000000001e-07\u001b[0m,       \u001b[2m            \u001b[0m\n",
       "\u001b[2;36m           \u001b[0m         \u001b[32m'should_restart'\u001b[0m: \u001b[3;91mFalse\u001b[0m\u001b[1m}\u001b[0m, \u001b[1m{\u001b[0m\u001b[32m'warmup_epochs'\u001b[0m: \u001b[1;36m5\u001b[0m, \u001b[32m'max_epochs'\u001b[0m: \u001b[1;36m32\u001b[0m,                   \u001b[2m            \u001b[0m\n",
       "\u001b[2;36m           \u001b[0m         \u001b[32m'warmup_start_lr'\u001b[0m: \u001b[1;36m2.7500000000000007e-07\u001b[0m, \u001b[32m'eta_min'\u001b[0m: \u001b[1;36m5.000000000000001e-07\u001b[0m,       \u001b[2m            \u001b[0m\n",
       "\u001b[2;36m           \u001b[0m         \u001b[32m'should_restart'\u001b[0m: \u001b[3;91mFalse\u001b[0m\u001b[1m}\u001b[0m, \u001b[1m{\u001b[0m\u001b[32m'warmup_epochs'\u001b[0m: \u001b[1;36m5\u001b[0m, \u001b[32m'max_epochs'\u001b[0m: \u001b[1;36m32\u001b[0m,                   \u001b[2m            \u001b[0m\n",
       "\u001b[2;36m           \u001b[0m         \u001b[32m'warmup_start_lr'\u001b[0m: \u001b[1;36m2.0000000000000004e-07\u001b[0m, \u001b[32m'eta_min'\u001b[0m: \u001b[1;36m5.000000000000001e-07\u001b[0m,       \u001b[2m            \u001b[0m\n",
       "\u001b[2;36m           \u001b[0m         \u001b[32m'should_restart'\u001b[0m: \u001b[3;91mFalse\u001b[0m\u001b[1m}\u001b[0m, \u001b[1m{\u001b[0m\u001b[32m'warmup_epochs'\u001b[0m: \u001b[1;36m5\u001b[0m, \u001b[32m'max_epochs'\u001b[0m: \u001b[1;36m32\u001b[0m,                   \u001b[2m            \u001b[0m\n",
       "\u001b[2;36m           \u001b[0m         \u001b[32m'warmup_start_lr'\u001b[0m: \u001b[1;36m1.5000000000000002e-07\u001b[0m, \u001b[32m'eta_min'\u001b[0m: \u001b[1;36m5.000000000000001e-07\u001b[0m,       \u001b[2m            \u001b[0m\n",
       "\u001b[2;36m           \u001b[0m         \u001b[32m'should_restart'\u001b[0m: \u001b[3;91mFalse\u001b[0m\u001b[1m}\u001b[0m, \u001b[1m{\u001b[0m\u001b[32m'warmup_epochs'\u001b[0m: \u001b[1;36m5\u001b[0m, \u001b[32m'max_epochs'\u001b[0m: \u001b[1;36m32\u001b[0m,                   \u001b[2m            \u001b[0m\n",
       "\u001b[2;36m           \u001b[0m         \u001b[32m'warmup_start_lr'\u001b[0m: \u001b[1;36m2.0000000000000004e-07\u001b[0m, \u001b[32m'eta_min'\u001b[0m: \u001b[1;36m5.000000000000001e-07\u001b[0m,       \u001b[2m            \u001b[0m\n",
       "\u001b[2;36m           \u001b[0m         \u001b[32m'should_restart'\u001b[0m: \u001b[3;91mFalse\u001b[0m\u001b[1m}\u001b[0m, \u001b[1m{\u001b[0m\u001b[32m'warmup_epochs'\u001b[0m: \u001b[1;36m5\u001b[0m, \u001b[32m'max_epochs'\u001b[0m: \u001b[1;36m32\u001b[0m,                   \u001b[2m            \u001b[0m\n",
       "\u001b[2;36m           \u001b[0m         \u001b[32m'warmup_start_lr'\u001b[0m: \u001b[1;36m2.7500000000000007e-07\u001b[0m, \u001b[32m'eta_min'\u001b[0m: \u001b[1;36m5.000000000000001e-07\u001b[0m,       \u001b[2m            \u001b[0m\n",
       "\u001b[2;36m           \u001b[0m         \u001b[32m'should_restart'\u001b[0m: \u001b[3;91mFalse\u001b[0m\u001b[1m}\u001b[0m, \u001b[1m{\u001b[0m\u001b[32m'warmup_epochs'\u001b[0m: \u001b[1;36m5\u001b[0m, \u001b[32m'max_epochs'\u001b[0m: \u001b[1;36m32\u001b[0m,                   \u001b[2m            \u001b[0m\n",
       "\u001b[2;36m           \u001b[0m         \u001b[32m'warmup_start_lr'\u001b[0m: \u001b[1;36m3.125e-07\u001b[0m, \u001b[32m'eta_min'\u001b[0m: \u001b[1;36m5.000000000000001e-07\u001b[0m, \u001b[32m'should_restart'\u001b[0m:  \u001b[2m            \u001b[0m\n",
       "\u001b[2;36m           \u001b[0m         \u001b[3;91mFalse\u001b[0m\u001b[1m}\u001b[0m, \u001b[1m{\u001b[0m\u001b[32m'warmup_epochs'\u001b[0m: \u001b[1;36m5\u001b[0m, \u001b[32m'max_epochs'\u001b[0m: \u001b[1;36m32\u001b[0m, \u001b[32m'warmup_start_lr'\u001b[0m:                  \u001b[2m            \u001b[0m\n",
       "\u001b[2;36m           \u001b[0m         \u001b[1;36m5.000000000000001e-07\u001b[0m, \u001b[32m'eta_min'\u001b[0m: \u001b[1;36m5.000000000000001e-07\u001b[0m, \u001b[32m'should_restart'\u001b[0m: \u001b[3;91mFalse\u001b[0m\u001b[1m}\u001b[0m\u001b[1m]\u001b[0m \u001b[2m            \u001b[0m\n"
      ]
     },
     "metadata": {},
     "output_type": "display_data"
    },
    {
     "name": "stderr",
     "output_type": "stream",
     "text": [
      "\n",
      "  | Name          | Type             | Params\n",
      "---------------------------------------------------\n",
      "0 | embedding     | Embedding        | 30.7 K\n",
      "1 | backbone      | GemNetOCBackbone | 160 M \n",
      "2 | out_energy    | Sequential       | 262 K \n",
      "3 | train_metrics | FinetuneMetrics  | 0     \n",
      "4 | val_metrics   | FinetuneMetrics  | 0     \n",
      "5 | test_metrics  | FinetuneMetrics  | 0     \n",
      "---------------------------------------------------\n",
      "160 M     Trainable params\n",
      "0         Non-trainable params\n",
      "160 M     Total params\n",
      "643.499   Total estimated model params size (MB)\n"
     ]
    },
    {
     "data": {
      "application/vnd.jupyter.widget-view+json": {
       "model_id": "a77949e6d8264798a3762e05cdf6efae",
       "version_major": 2,
       "version_minor": 0
      },
      "text/plain": [
       "Training: |          | 0/? [00:00<?, ?it/s]"
      ]
     },
     "metadata": {},
     "output_type": "display_data"
    },
    {
     "name": "stderr",
     "output_type": "stream",
     "text": [
      "/opt/conda/envs/fm/lib/python3.11/site-packages/torch/optim/lr_scheduler.py:136: UserWarning: Detected call of `lr_scheduler.step()` before `optimizer.step()`. In PyTorch 1.1.0 and later, you should call them in the opposite order: `optimizer.step()` before `lr_scheduler.step()`.  Failure to do this will result in PyTorch skipping the first value of the learning rate schedule. See more details at https://pytorch.org/docs/stable/optim.html#how-to-adjust-learning-rate\n",
      "  warnings.warn(\"Detected call of `lr_scheduler.step()` before `optimizer.step()`. \"\n"
     ]
    },
    {
     "data": {
      "application/vnd.jupyter.widget-view+json": {
       "model_id": "ee2fadc040c74b7da5937390b2c8df42",
       "version_major": 2,
       "version_minor": 0
      },
      "text/plain": [
       "Validation: |          | 0/? [00:00<?, ?it/s]"
      ]
     },
     "metadata": {},
     "output_type": "display_data"
    },
    {
     "name": "stderr",
     "output_type": "stream",
     "text": [
      "`Trainer.fit` stopped: `max_steps=1` reached.\n"
     ]
    },
    {
     "data": {
      "text/html": [
       "<pre style=\"white-space:pre;overflow-x:auto;line-height:normal;font-family:Menlo,'DejaVu Sans Mono',consolas,'Courier New',monospace\"><span style=\"color: #7fbfbf; text-decoration-color: #7fbfbf\">[22:36:17] </span><span style=\"background-color: #800000; font-weight: bold\">CRITICAL</span> Ran <span style=\"color: #008080; text-decoration-color: #008080; font-weight: bold\">1</span> finalizers for Trainer cleanup.                                            <a href=\"file:///workspaces/repositories/fm/src/ll/trainer/trainer.py\" target=\"_blank\"><span style=\"color: #7f7f7f; text-decoration-color: #7f7f7f\">trainer.py</span></a><span style=\"color: #7f7f7f; text-decoration-color: #7f7f7f\">:</span><a href=\"file:///workspaces/repositories/fm/src/ll/trainer/trainer.py#223\" target=\"_blank\"><span style=\"color: #7f7f7f; text-decoration-color: #7f7f7f\">223</span></a>\n",
       "</pre>\n"
      ],
      "text/plain": [
       "\u001b[2;36m[22:36:17]\u001b[0m\u001b[2;36m \u001b[0m\u001b[1;7;31mCRITICAL\u001b[0m Ran \u001b[1;36m1\u001b[0m finalizers for Trainer cleanup.                                            \u001b]8;id=165346;file:///workspaces/repositories/fm/src/ll/trainer/trainer.py\u001b\\\u001b[2mtrainer.py\u001b[0m\u001b]8;;\u001b\\\u001b[2m:\u001b[0m\u001b]8;id=468047;file:///workspaces/repositories/fm/src/ll/trainer/trainer.py#223\u001b\\\u001b[2m223\u001b[0m\u001b]8;;\u001b\\\n"
      ]
     },
     "metadata": {},
     "output_type": "display_data"
    },
    {
     "name": "stderr",
     "output_type": "stream",
     "text": [
      "Seed set to 0\n"
     ]
    },
    {
     "data": {
      "text/html": [
       "<pre style=\"white-space:pre;overflow-x:auto;line-height:normal;font-family:Menlo,'DejaVu Sans Mono',consolas,'Courier New',monospace\"><span style=\"color: #7fbfbf; text-decoration-color: #7fbfbf\">           </span><span style=\"background-color: #800000; font-weight: bold\">CRITICAL</span> Reset global seed.                                                                   <a href=\"file:///workspaces/repositories/fm/src/ll/util/seed.py\" target=\"_blank\"><span style=\"color: #7f7f7f; text-decoration-color: #7f7f7f\">seed.py</span></a><span style=\"color: #7f7f7f; text-decoration-color: #7f7f7f\">:</span><a href=\"file:///workspaces/repositories/fm/src/ll/util/seed.py#17\" target=\"_blank\"><span style=\"color: #7f7f7f; text-decoration-color: #7f7f7f\">17</span></a>\n",
       "</pre>\n"
      ],
      "text/plain": [
       "\u001b[2;36m          \u001b[0m\u001b[2;36m \u001b[0m\u001b[1;7;31mCRITICAL\u001b[0m Reset global seed.                                                                   \u001b]8;id=42450;file:///workspaces/repositories/fm/src/ll/util/seed.py\u001b\\\u001b[2mseed.py\u001b[0m\u001b]8;;\u001b\\\u001b[2m:\u001b[0m\u001b]8;id=271493;file:///workspaces/repositories/fm/src/ll/util/seed.py#17\u001b\\\u001b[2m17\u001b[0m\u001b]8;;\u001b\\\n"
      ]
     },
     "metadata": {},
     "output_type": "display_data"
    },
    {
     "data": {
      "text/plain": [
       "[None]"
      ]
     },
     "execution_count": 2,
     "metadata": {},
     "output_type": "execute_result"
    },
    {
     "ename": "",
     "evalue": "",
     "output_type": "error",
     "traceback": [
      "\u001b[1;31mThe Kernel crashed while executing code in the current cell or a previous cell. \n",
      "\u001b[1;31mPlease review the code in the cell(s) to identify a possible cause of the failure. \n",
      "\u001b[1;31mClick <a href='https://aka.ms/vscodeJupyterKernelCrash'>here</a> for more info. \n",
      "\u001b[1;31mView Jupyter <a href='command:jupyter.viewOutput'>log</a> for further details."
     ]
    }
   ],
   "source": [
    "from ll import Runner, Trainer\n",
    "\n",
    "from jmppeft.utils.finetune_state_dict import (\n",
    "    filter_state_dict,\n",
    "    retreive_state_dict_for_finetuning,\n",
    ")\n",
    "\n",
    "\n",
    "def run(config: FinetuneConfigBase, model_cls: type[FinetuneModelBase]) -> None:\n",
    "    if (ckpt_path := config.meta.get(\"ckpt_path\")) is None:\n",
    "        raise ValueError(\"No checkpoint path provided\")\n",
    "\n",
    "    model = model_cls(config)\n",
    "\n",
    "    # Load the checkpoint\n",
    "    state_dict = retreive_state_dict_for_finetuning(\n",
    "        ckpt_path, load_emas=config.meta.get(\"ema_backbone\", False)\n",
    "    )\n",
    "    embedding = filter_state_dict(state_dict, \"embedding.atom_embedding.\")\n",
    "    backbone = filter_state_dict(state_dict, \"backbone.\")\n",
    "    model.load_backbone_state_dict(backbone=backbone, embedding=embedding, strict=True)\n",
    "\n",
    "    trainer = Trainer(config)\n",
    "    trainer.fit(model)\n",
    "\n",
    "\n",
    "runner = Runner(run)\n",
    "runner.fast_dev_run(configs)"
   ]
  }
 ],
 "metadata": {
  "kernelspec": {
   "display_name": "fm",
   "language": "python",
   "name": "python3"
  },
  "language_info": {
   "codemirror_mode": {
    "name": "ipython",
    "version": 3
   },
   "file_extension": ".py",
   "mimetype": "text/x-python",
   "name": "python",
   "nbconvert_exporter": "python",
   "pygments_lexer": "ipython3",
   "version": "3.11.6"
  }
 },
 "nbformat": 4,
 "nbformat_minor": 2
}
