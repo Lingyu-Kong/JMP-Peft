{
 "cells": [
  {
   "cell_type": "code",
   "execution_count": 1,
   "metadata": {},
   "outputs": [],
   "source": [
    "# | output: false\n",
    "# | echo: false\n",
    "\n",
    "import plotly.io as pio\n",
    "\n",
    "pio.renderers.default = \"plotly_mimetype+notebook_connected\""
   ]
  },
  {
   "cell_type": "code",
   "execution_count": 2,
   "metadata": {},
   "outputs": [
    {
     "data": {
      "application/vnd.jupyter.widget-view+json": {
       "model_id": "d7e7e3a48d604af0a4051c59c3c968e4",
       "version_major": 2,
       "version_minor": 0
      },
      "text/plain": [
       "  0%|          | 0/12 [00:00<?, ?it/s]"
      ]
     },
     "metadata": {},
     "output_type": "display_data"
    },
    {
     "name": "stderr",
     "output_type": "stream",
     "text": [
      "Type checking the following modules: ('jmppeft',)\n"
     ]
    },
    {
     "name": "stdout",
     "output_type": "stream",
     "text": [
      "Loading 'wbm_summary' from cached file at '/root/.cache/matbench-discovery/1.0.0/wbm/2023-12-13-wbm-summary.csv.gz'\n"
     ]
    },
    {
     "data": {
      "text/html": [
       "<pre style=\"white-space:pre;overflow-x:auto;line-height:normal;font-family:Menlo,'DejaVu Sans Mono',consolas,'Courier New',monospace\"><span style=\"font-weight: bold\">{</span><span style=\"color: #008000; text-decoration-color: #008000\">'e_form'</span>: <span style=\"font-weight: bold\">{</span><span style=\"color: #008000; text-decoration-color: #008000\">'pred'</span>: <span style=\"font-weight: bold\">(</span><span style=\"color: #008080; text-decoration-color: #008080; font-weight: bold\">8192</span>,<span style=\"font-weight: bold\">)</span>, <span style=\"color: #008000; text-decoration-color: #008000\">'true'</span>: <span style=\"font-weight: bold\">(</span><span style=\"color: #008080; text-decoration-color: #008080; font-weight: bold\">8192</span>,<span style=\"font-weight: bold\">)}</span>, <span style=\"color: #008000; text-decoration-color: #008000\">'e_above_hull'</span>: <span style=\"font-weight: bold\">{</span><span style=\"color: #008000; text-decoration-color: #008000\">'pred'</span>: <span style=\"font-weight: bold\">(</span><span style=\"color: #008080; text-decoration-color: #008080; font-weight: bold\">8192</span>,<span style=\"font-weight: bold\">)</span>, <span style=\"color: #008000; text-decoration-color: #008000\">'true'</span>: <span style=\"font-weight: bold\">(</span><span style=\"color: #008080; text-decoration-color: #008080; font-weight: bold\">8192</span>,<span style=\"font-weight: bold\">)}}</span>\n",
       "</pre>\n"
      ],
      "text/plain": [
       "\u001b[1m{\u001b[0m\u001b[32m'e_form'\u001b[0m: \u001b[1m{\u001b[0m\u001b[32m'pred'\u001b[0m: \u001b[1m(\u001b[0m\u001b[1;36m8192\u001b[0m,\u001b[1m)\u001b[0m, \u001b[32m'true'\u001b[0m: \u001b[1m(\u001b[0m\u001b[1;36m8192\u001b[0m,\u001b[1m)\u001b[0m\u001b[1m}\u001b[0m, \u001b[32m'e_above_hull'\u001b[0m: \u001b[1m{\u001b[0m\u001b[32m'pred'\u001b[0m: \u001b[1m(\u001b[0m\u001b[1;36m8192\u001b[0m,\u001b[1m)\u001b[0m, \u001b[32m'true'\u001b[0m: \u001b[1m(\u001b[0m\u001b[1;36m8192\u001b[0m,\u001b[1m)\u001b[0m\u001b[1m}\u001b[0m\u001b[1m}\u001b[0m\n"
      ]
     },
     "metadata": {},
     "output_type": "display_data"
    },
    {
     "data": {
      "text/html": [
       "<pre style=\"white-space:pre;overflow-x:auto;line-height:normal;font-family:Menlo,'DejaVu Sans Mono',consolas,'Courier New',monospace\"><span style=\"font-weight: bold\">{</span><span style=\"color: #008000; text-decoration-color: #008000\">'e_form'</span>: <span style=\"font-weight: bold\">{</span><span style=\"color: #008000; text-decoration-color: #008000\">'pred'</span>: <span style=\"font-weight: bold\">(</span><span style=\"color: #008080; text-decoration-color: #008080; font-weight: bold\">8192</span>,<span style=\"font-weight: bold\">)</span>, <span style=\"color: #008000; text-decoration-color: #008000\">'true'</span>: <span style=\"font-weight: bold\">(</span><span style=\"color: #008080; text-decoration-color: #008080; font-weight: bold\">8192</span>,<span style=\"font-weight: bold\">)}</span>, <span style=\"color: #008000; text-decoration-color: #008000\">'e_above_hull'</span>: <span style=\"font-weight: bold\">{</span><span style=\"color: #008000; text-decoration-color: #008000\">'pred'</span>: <span style=\"font-weight: bold\">(</span><span style=\"color: #008080; text-decoration-color: #008080; font-weight: bold\">8192</span>,<span style=\"font-weight: bold\">)</span>, <span style=\"color: #008000; text-decoration-color: #008000\">'true'</span>: <span style=\"font-weight: bold\">(</span><span style=\"color: #008080; text-decoration-color: #008080; font-weight: bold\">8192</span>,<span style=\"font-weight: bold\">)}}</span>\n",
       "</pre>\n"
      ],
      "text/plain": [
       "\u001b[1m{\u001b[0m\u001b[32m'e_form'\u001b[0m: \u001b[1m{\u001b[0m\u001b[32m'pred'\u001b[0m: \u001b[1m(\u001b[0m\u001b[1;36m8192\u001b[0m,\u001b[1m)\u001b[0m, \u001b[32m'true'\u001b[0m: \u001b[1m(\u001b[0m\u001b[1;36m8192\u001b[0m,\u001b[1m)\u001b[0m\u001b[1m}\u001b[0m, \u001b[32m'e_above_hull'\u001b[0m: \u001b[1m{\u001b[0m\u001b[32m'pred'\u001b[0m: \u001b[1m(\u001b[0m\u001b[1;36m8192\u001b[0m,\u001b[1m)\u001b[0m, \u001b[32m'true'\u001b[0m: \u001b[1m(\u001b[0m\u001b[1;36m8192\u001b[0m,\u001b[1m)\u001b[0m\u001b[1m}\u001b[0m\u001b[1m}\u001b[0m\n"
      ]
     },
     "metadata": {},
     "output_type": "display_data"
    },
    {
     "data": {
      "text/html": [
       "<pre style=\"white-space:pre;overflow-x:auto;line-height:normal;font-family:Menlo,'DejaVu Sans Mono',consolas,'Courier New',monospace\"><span style=\"font-weight: bold\">{</span><span style=\"color: #008000; text-decoration-color: #008000\">'e_form'</span>: <span style=\"font-weight: bold\">{</span><span style=\"color: #008000; text-decoration-color: #008000\">'pred'</span>: <span style=\"font-weight: bold\">(</span><span style=\"color: #008080; text-decoration-color: #008080; font-weight: bold\">8192</span>,<span style=\"font-weight: bold\">)</span>, <span style=\"color: #008000; text-decoration-color: #008000\">'true'</span>: <span style=\"font-weight: bold\">(</span><span style=\"color: #008080; text-decoration-color: #008080; font-weight: bold\">8192</span>,<span style=\"font-weight: bold\">)}</span>, <span style=\"color: #008000; text-decoration-color: #008000\">'e_above_hull'</span>: <span style=\"font-weight: bold\">{</span><span style=\"color: #008000; text-decoration-color: #008000\">'pred'</span>: <span style=\"font-weight: bold\">(</span><span style=\"color: #008080; text-decoration-color: #008080; font-weight: bold\">8192</span>,<span style=\"font-weight: bold\">)</span>, <span style=\"color: #008000; text-decoration-color: #008000\">'true'</span>: <span style=\"font-weight: bold\">(</span><span style=\"color: #008080; text-decoration-color: #008080; font-weight: bold\">8192</span>,<span style=\"font-weight: bold\">)}}</span>\n",
       "</pre>\n"
      ],
      "text/plain": [
       "\u001b[1m{\u001b[0m\u001b[32m'e_form'\u001b[0m: \u001b[1m{\u001b[0m\u001b[32m'pred'\u001b[0m: \u001b[1m(\u001b[0m\u001b[1;36m8192\u001b[0m,\u001b[1m)\u001b[0m, \u001b[32m'true'\u001b[0m: \u001b[1m(\u001b[0m\u001b[1;36m8192\u001b[0m,\u001b[1m)\u001b[0m\u001b[1m}\u001b[0m, \u001b[32m'e_above_hull'\u001b[0m: \u001b[1m{\u001b[0m\u001b[32m'pred'\u001b[0m: \u001b[1m(\u001b[0m\u001b[1;36m8192\u001b[0m,\u001b[1m)\u001b[0m, \u001b[32m'true'\u001b[0m: \u001b[1m(\u001b[0m\u001b[1;36m8192\u001b[0m,\u001b[1m)\u001b[0m\u001b[1m}\u001b[0m\u001b[1m}\u001b[0m\n"
      ]
     },
     "metadata": {},
     "output_type": "display_data"
    },
    {
     "data": {
      "text/html": [
       "<pre style=\"white-space:pre;overflow-x:auto;line-height:normal;font-family:Menlo,'DejaVu Sans Mono',consolas,'Courier New',monospace\"><span style=\"font-weight: bold\">{</span><span style=\"color: #008000; text-decoration-color: #008000\">'e_form'</span>: <span style=\"font-weight: bold\">{</span><span style=\"color: #008000; text-decoration-color: #008000\">'pred'</span>: <span style=\"font-weight: bold\">(</span><span style=\"color: #008080; text-decoration-color: #008080; font-weight: bold\">8192</span>,<span style=\"font-weight: bold\">)</span>, <span style=\"color: #008000; text-decoration-color: #008000\">'true'</span>: <span style=\"font-weight: bold\">(</span><span style=\"color: #008080; text-decoration-color: #008080; font-weight: bold\">8192</span>,<span style=\"font-weight: bold\">)}</span>, <span style=\"color: #008000; text-decoration-color: #008000\">'e_above_hull'</span>: <span style=\"font-weight: bold\">{</span><span style=\"color: #008000; text-decoration-color: #008000\">'pred'</span>: <span style=\"font-weight: bold\">(</span><span style=\"color: #008080; text-decoration-color: #008080; font-weight: bold\">8192</span>,<span style=\"font-weight: bold\">)</span>, <span style=\"color: #008000; text-decoration-color: #008000\">'true'</span>: <span style=\"font-weight: bold\">(</span><span style=\"color: #008080; text-decoration-color: #008080; font-weight: bold\">8192</span>,<span style=\"font-weight: bold\">)}}</span>\n",
       "</pre>\n"
      ],
      "text/plain": [
       "\u001b[1m{\u001b[0m\u001b[32m'e_form'\u001b[0m: \u001b[1m{\u001b[0m\u001b[32m'pred'\u001b[0m: \u001b[1m(\u001b[0m\u001b[1;36m8192\u001b[0m,\u001b[1m)\u001b[0m, \u001b[32m'true'\u001b[0m: \u001b[1m(\u001b[0m\u001b[1;36m8192\u001b[0m,\u001b[1m)\u001b[0m\u001b[1m}\u001b[0m, \u001b[32m'e_above_hull'\u001b[0m: \u001b[1m{\u001b[0m\u001b[32m'pred'\u001b[0m: \u001b[1m(\u001b[0m\u001b[1;36m8192\u001b[0m,\u001b[1m)\u001b[0m, \u001b[32m'true'\u001b[0m: \u001b[1m(\u001b[0m\u001b[1;36m8192\u001b[0m,\u001b[1m)\u001b[0m\u001b[1m}\u001b[0m\u001b[1m}\u001b[0m\n"
      ]
     },
     "metadata": {},
     "output_type": "display_data"
    },
    {
     "data": {
      "text/html": [
       "<pre style=\"white-space:pre;overflow-x:auto;line-height:normal;font-family:Menlo,'DejaVu Sans Mono',consolas,'Courier New',monospace\"><span style=\"font-weight: bold\">{</span><span style=\"color: #008000; text-decoration-color: #008000\">'e_form'</span>: <span style=\"font-weight: bold\">{</span><span style=\"color: #008000; text-decoration-color: #008000\">'pred'</span>: <span style=\"font-weight: bold\">(</span><span style=\"color: #008080; text-decoration-color: #008080; font-weight: bold\">8192</span>,<span style=\"font-weight: bold\">)</span>, <span style=\"color: #008000; text-decoration-color: #008000\">'true'</span>: <span style=\"font-weight: bold\">(</span><span style=\"color: #008080; text-decoration-color: #008080; font-weight: bold\">8192</span>,<span style=\"font-weight: bold\">)}</span>, <span style=\"color: #008000; text-decoration-color: #008000\">'e_above_hull'</span>: <span style=\"font-weight: bold\">{</span><span style=\"color: #008000; text-decoration-color: #008000\">'pred'</span>: <span style=\"font-weight: bold\">(</span><span style=\"color: #008080; text-decoration-color: #008080; font-weight: bold\">8192</span>,<span style=\"font-weight: bold\">)</span>, <span style=\"color: #008000; text-decoration-color: #008000\">'true'</span>: <span style=\"font-weight: bold\">(</span><span style=\"color: #008080; text-decoration-color: #008080; font-weight: bold\">8192</span>,<span style=\"font-weight: bold\">)}}</span>\n",
       "</pre>\n"
      ],
      "text/plain": [
       "\u001b[1m{\u001b[0m\u001b[32m'e_form'\u001b[0m: \u001b[1m{\u001b[0m\u001b[32m'pred'\u001b[0m: \u001b[1m(\u001b[0m\u001b[1;36m8192\u001b[0m,\u001b[1m)\u001b[0m, \u001b[32m'true'\u001b[0m: \u001b[1m(\u001b[0m\u001b[1;36m8192\u001b[0m,\u001b[1m)\u001b[0m\u001b[1m}\u001b[0m, \u001b[32m'e_above_hull'\u001b[0m: \u001b[1m{\u001b[0m\u001b[32m'pred'\u001b[0m: \u001b[1m(\u001b[0m\u001b[1;36m8192\u001b[0m,\u001b[1m)\u001b[0m, \u001b[32m'true'\u001b[0m: \u001b[1m(\u001b[0m\u001b[1;36m8192\u001b[0m,\u001b[1m)\u001b[0m\u001b[1m}\u001b[0m\u001b[1m}\u001b[0m\n"
      ]
     },
     "metadata": {},
     "output_type": "display_data"
    },
    {
     "data": {
      "text/html": [
       "<pre style=\"white-space:pre;overflow-x:auto;line-height:normal;font-family:Menlo,'DejaVu Sans Mono',consolas,'Courier New',monospace\"><span style=\"font-weight: bold\">{</span><span style=\"color: #008000; text-decoration-color: #008000\">'e_form'</span>: <span style=\"font-weight: bold\">{</span><span style=\"color: #008000; text-decoration-color: #008000\">'pred'</span>: <span style=\"font-weight: bold\">(</span><span style=\"color: #008080; text-decoration-color: #008080; font-weight: bold\">8192</span>,<span style=\"font-weight: bold\">)</span>, <span style=\"color: #008000; text-decoration-color: #008000\">'true'</span>: <span style=\"font-weight: bold\">(</span><span style=\"color: #008080; text-decoration-color: #008080; font-weight: bold\">8192</span>,<span style=\"font-weight: bold\">)}</span>, <span style=\"color: #008000; text-decoration-color: #008000\">'e_above_hull'</span>: <span style=\"font-weight: bold\">{</span><span style=\"color: #008000; text-decoration-color: #008000\">'pred'</span>: <span style=\"font-weight: bold\">(</span><span style=\"color: #008080; text-decoration-color: #008080; font-weight: bold\">8192</span>,<span style=\"font-weight: bold\">)</span>, <span style=\"color: #008000; text-decoration-color: #008000\">'true'</span>: <span style=\"font-weight: bold\">(</span><span style=\"color: #008080; text-decoration-color: #008080; font-weight: bold\">8192</span>,<span style=\"font-weight: bold\">)}}</span>\n",
       "</pre>\n"
      ],
      "text/plain": [
       "\u001b[1m{\u001b[0m\u001b[32m'e_form'\u001b[0m: \u001b[1m{\u001b[0m\u001b[32m'pred'\u001b[0m: \u001b[1m(\u001b[0m\u001b[1;36m8192\u001b[0m,\u001b[1m)\u001b[0m, \u001b[32m'true'\u001b[0m: \u001b[1m(\u001b[0m\u001b[1;36m8192\u001b[0m,\u001b[1m)\u001b[0m\u001b[1m}\u001b[0m, \u001b[32m'e_above_hull'\u001b[0m: \u001b[1m{\u001b[0m\u001b[32m'pred'\u001b[0m: \u001b[1m(\u001b[0m\u001b[1;36m8192\u001b[0m,\u001b[1m)\u001b[0m, \u001b[32m'true'\u001b[0m: \u001b[1m(\u001b[0m\u001b[1;36m8192\u001b[0m,\u001b[1m)\u001b[0m\u001b[1m}\u001b[0m\u001b[1m}\u001b[0m\n"
      ]
     },
     "metadata": {},
     "output_type": "display_data"
    },
    {
     "data": {
      "text/html": [
       "<pre style=\"white-space:pre;overflow-x:auto;line-height:normal;font-family:Menlo,'DejaVu Sans Mono',consolas,'Courier New',monospace\"><span style=\"font-weight: bold\">{</span><span style=\"color: #008000; text-decoration-color: #008000\">'e_form'</span>: <span style=\"font-weight: bold\">{</span><span style=\"color: #008000; text-decoration-color: #008000\">'pred'</span>: <span style=\"font-weight: bold\">(</span><span style=\"color: #008080; text-decoration-color: #008080; font-weight: bold\">8192</span>,<span style=\"font-weight: bold\">)</span>, <span style=\"color: #008000; text-decoration-color: #008000\">'true'</span>: <span style=\"font-weight: bold\">(</span><span style=\"color: #008080; text-decoration-color: #008080; font-weight: bold\">8192</span>,<span style=\"font-weight: bold\">)}</span>, <span style=\"color: #008000; text-decoration-color: #008000\">'e_above_hull'</span>: <span style=\"font-weight: bold\">{</span><span style=\"color: #008000; text-decoration-color: #008000\">'pred'</span>: <span style=\"font-weight: bold\">(</span><span style=\"color: #008080; text-decoration-color: #008080; font-weight: bold\">8192</span>,<span style=\"font-weight: bold\">)</span>, <span style=\"color: #008000; text-decoration-color: #008000\">'true'</span>: <span style=\"font-weight: bold\">(</span><span style=\"color: #008080; text-decoration-color: #008080; font-weight: bold\">8192</span>,<span style=\"font-weight: bold\">)}}</span>\n",
       "</pre>\n"
      ],
      "text/plain": [
       "\u001b[1m{\u001b[0m\u001b[32m'e_form'\u001b[0m: \u001b[1m{\u001b[0m\u001b[32m'pred'\u001b[0m: \u001b[1m(\u001b[0m\u001b[1;36m8192\u001b[0m,\u001b[1m)\u001b[0m, \u001b[32m'true'\u001b[0m: \u001b[1m(\u001b[0m\u001b[1;36m8192\u001b[0m,\u001b[1m)\u001b[0m\u001b[1m}\u001b[0m, \u001b[32m'e_above_hull'\u001b[0m: \u001b[1m{\u001b[0m\u001b[32m'pred'\u001b[0m: \u001b[1m(\u001b[0m\u001b[1;36m8192\u001b[0m,\u001b[1m)\u001b[0m, \u001b[32m'true'\u001b[0m: \u001b[1m(\u001b[0m\u001b[1;36m8192\u001b[0m,\u001b[1m)\u001b[0m\u001b[1m}\u001b[0m\u001b[1m}\u001b[0m\n"
      ]
     },
     "metadata": {},
     "output_type": "display_data"
    },
    {
     "data": {
      "text/html": [
       "<pre style=\"white-space:pre;overflow-x:auto;line-height:normal;font-family:Menlo,'DejaVu Sans Mono',consolas,'Courier New',monospace\"><span style=\"font-weight: bold\">{</span><span style=\"color: #008000; text-decoration-color: #008000\">'e_form'</span>: <span style=\"font-weight: bold\">{</span><span style=\"color: #008000; text-decoration-color: #008000\">'pred'</span>: <span style=\"font-weight: bold\">(</span><span style=\"color: #008080; text-decoration-color: #008080; font-weight: bold\">8192</span>,<span style=\"font-weight: bold\">)</span>, <span style=\"color: #008000; text-decoration-color: #008000\">'true'</span>: <span style=\"font-weight: bold\">(</span><span style=\"color: #008080; text-decoration-color: #008080; font-weight: bold\">8192</span>,<span style=\"font-weight: bold\">)}</span>, <span style=\"color: #008000; text-decoration-color: #008000\">'e_above_hull'</span>: <span style=\"font-weight: bold\">{</span><span style=\"color: #008000; text-decoration-color: #008000\">'pred'</span>: <span style=\"font-weight: bold\">(</span><span style=\"color: #008080; text-decoration-color: #008080; font-weight: bold\">8192</span>,<span style=\"font-weight: bold\">)</span>, <span style=\"color: #008000; text-decoration-color: #008000\">'true'</span>: <span style=\"font-weight: bold\">(</span><span style=\"color: #008080; text-decoration-color: #008080; font-weight: bold\">8192</span>,<span style=\"font-weight: bold\">)}}</span>\n",
       "</pre>\n"
      ],
      "text/plain": [
       "\u001b[1m{\u001b[0m\u001b[32m'e_form'\u001b[0m: \u001b[1m{\u001b[0m\u001b[32m'pred'\u001b[0m: \u001b[1m(\u001b[0m\u001b[1;36m8192\u001b[0m,\u001b[1m)\u001b[0m, \u001b[32m'true'\u001b[0m: \u001b[1m(\u001b[0m\u001b[1;36m8192\u001b[0m,\u001b[1m)\u001b[0m\u001b[1m}\u001b[0m, \u001b[32m'e_above_hull'\u001b[0m: \u001b[1m{\u001b[0m\u001b[32m'pred'\u001b[0m: \u001b[1m(\u001b[0m\u001b[1;36m8192\u001b[0m,\u001b[1m)\u001b[0m, \u001b[32m'true'\u001b[0m: \u001b[1m(\u001b[0m\u001b[1;36m8192\u001b[0m,\u001b[1m)\u001b[0m\u001b[1m}\u001b[0m\u001b[1m}\u001b[0m\n"
      ]
     },
     "metadata": {},
     "output_type": "display_data"
    },
    {
     "data": {
      "text/html": [
       "<pre style=\"white-space:pre;overflow-x:auto;line-height:normal;font-family:Menlo,'DejaVu Sans Mono',consolas,'Courier New',monospace\"><span style=\"font-weight: bold\">{</span><span style=\"color: #008000; text-decoration-color: #008000\">'e_form'</span>: <span style=\"font-weight: bold\">{</span><span style=\"color: #008000; text-decoration-color: #008000\">'pred'</span>: <span style=\"font-weight: bold\">(</span><span style=\"color: #008080; text-decoration-color: #008080; font-weight: bold\">8192</span>,<span style=\"font-weight: bold\">)</span>, <span style=\"color: #008000; text-decoration-color: #008000\">'true'</span>: <span style=\"font-weight: bold\">(</span><span style=\"color: #008080; text-decoration-color: #008080; font-weight: bold\">8192</span>,<span style=\"font-weight: bold\">)}</span>, <span style=\"color: #008000; text-decoration-color: #008000\">'e_above_hull'</span>: <span style=\"font-weight: bold\">{</span><span style=\"color: #008000; text-decoration-color: #008000\">'pred'</span>: <span style=\"font-weight: bold\">(</span><span style=\"color: #008080; text-decoration-color: #008080; font-weight: bold\">8192</span>,<span style=\"font-weight: bold\">)</span>, <span style=\"color: #008000; text-decoration-color: #008000\">'true'</span>: <span style=\"font-weight: bold\">(</span><span style=\"color: #008080; text-decoration-color: #008080; font-weight: bold\">8192</span>,<span style=\"font-weight: bold\">)}}</span>\n",
       "</pre>\n"
      ],
      "text/plain": [
       "\u001b[1m{\u001b[0m\u001b[32m'e_form'\u001b[0m: \u001b[1m{\u001b[0m\u001b[32m'pred'\u001b[0m: \u001b[1m(\u001b[0m\u001b[1;36m8192\u001b[0m,\u001b[1m)\u001b[0m, \u001b[32m'true'\u001b[0m: \u001b[1m(\u001b[0m\u001b[1;36m8192\u001b[0m,\u001b[1m)\u001b[0m\u001b[1m}\u001b[0m, \u001b[32m'e_above_hull'\u001b[0m: \u001b[1m{\u001b[0m\u001b[32m'pred'\u001b[0m: \u001b[1m(\u001b[0m\u001b[1;36m8192\u001b[0m,\u001b[1m)\u001b[0m, \u001b[32m'true'\u001b[0m: \u001b[1m(\u001b[0m\u001b[1;36m8192\u001b[0m,\u001b[1m)\u001b[0m\u001b[1m}\u001b[0m\u001b[1m}\u001b[0m\n"
      ]
     },
     "metadata": {},
     "output_type": "display_data"
    },
    {
     "data": {
      "text/html": [
       "<pre style=\"white-space:pre;overflow-x:auto;line-height:normal;font-family:Menlo,'DejaVu Sans Mono',consolas,'Courier New',monospace\"><span style=\"font-weight: bold\">{</span><span style=\"color: #008000; text-decoration-color: #008000\">'e_form'</span>: <span style=\"font-weight: bold\">{</span><span style=\"color: #008000; text-decoration-color: #008000\">'pred'</span>: <span style=\"font-weight: bold\">(</span><span style=\"color: #008080; text-decoration-color: #008080; font-weight: bold\">8192</span>,<span style=\"font-weight: bold\">)</span>, <span style=\"color: #008000; text-decoration-color: #008000\">'true'</span>: <span style=\"font-weight: bold\">(</span><span style=\"color: #008080; text-decoration-color: #008080; font-weight: bold\">8192</span>,<span style=\"font-weight: bold\">)}</span>, <span style=\"color: #008000; text-decoration-color: #008000\">'e_above_hull'</span>: <span style=\"font-weight: bold\">{</span><span style=\"color: #008000; text-decoration-color: #008000\">'pred'</span>: <span style=\"font-weight: bold\">(</span><span style=\"color: #008080; text-decoration-color: #008080; font-weight: bold\">8192</span>,<span style=\"font-weight: bold\">)</span>, <span style=\"color: #008000; text-decoration-color: #008000\">'true'</span>: <span style=\"font-weight: bold\">(</span><span style=\"color: #008080; text-decoration-color: #008080; font-weight: bold\">8192</span>,<span style=\"font-weight: bold\">)}}</span>\n",
       "</pre>\n"
      ],
      "text/plain": [
       "\u001b[1m{\u001b[0m\u001b[32m'e_form'\u001b[0m: \u001b[1m{\u001b[0m\u001b[32m'pred'\u001b[0m: \u001b[1m(\u001b[0m\u001b[1;36m8192\u001b[0m,\u001b[1m)\u001b[0m, \u001b[32m'true'\u001b[0m: \u001b[1m(\u001b[0m\u001b[1;36m8192\u001b[0m,\u001b[1m)\u001b[0m\u001b[1m}\u001b[0m, \u001b[32m'e_above_hull'\u001b[0m: \u001b[1m{\u001b[0m\u001b[32m'pred'\u001b[0m: \u001b[1m(\u001b[0m\u001b[1;36m8192\u001b[0m,\u001b[1m)\u001b[0m, \u001b[32m'true'\u001b[0m: \u001b[1m(\u001b[0m\u001b[1;36m8192\u001b[0m,\u001b[1m)\u001b[0m\u001b[1m}\u001b[0m\u001b[1m}\u001b[0m\n"
      ]
     },
     "metadata": {},
     "output_type": "display_data"
    },
    {
     "data": {
      "text/html": [
       "<pre style=\"white-space:pre;overflow-x:auto;line-height:normal;font-family:Menlo,'DejaVu Sans Mono',consolas,'Courier New',monospace\"><span style=\"font-weight: bold\">{</span><span style=\"color: #008000; text-decoration-color: #008000\">'e_form'</span>: <span style=\"font-weight: bold\">{</span><span style=\"color: #008000; text-decoration-color: #008000\">'pred'</span>: <span style=\"font-weight: bold\">(</span><span style=\"color: #008080; text-decoration-color: #008080; font-weight: bold\">8192</span>,<span style=\"font-weight: bold\">)</span>, <span style=\"color: #008000; text-decoration-color: #008000\">'true'</span>: <span style=\"font-weight: bold\">(</span><span style=\"color: #008080; text-decoration-color: #008080; font-weight: bold\">8192</span>,<span style=\"font-weight: bold\">)}</span>, <span style=\"color: #008000; text-decoration-color: #008000\">'e_above_hull'</span>: <span style=\"font-weight: bold\">{</span><span style=\"color: #008000; text-decoration-color: #008000\">'pred'</span>: <span style=\"font-weight: bold\">(</span><span style=\"color: #008080; text-decoration-color: #008080; font-weight: bold\">8192</span>,<span style=\"font-weight: bold\">)</span>, <span style=\"color: #008000; text-decoration-color: #008000\">'true'</span>: <span style=\"font-weight: bold\">(</span><span style=\"color: #008080; text-decoration-color: #008080; font-weight: bold\">8192</span>,<span style=\"font-weight: bold\">)}}</span>\n",
       "</pre>\n"
      ],
      "text/plain": [
       "\u001b[1m{\u001b[0m\u001b[32m'e_form'\u001b[0m: \u001b[1m{\u001b[0m\u001b[32m'pred'\u001b[0m: \u001b[1m(\u001b[0m\u001b[1;36m8192\u001b[0m,\u001b[1m)\u001b[0m, \u001b[32m'true'\u001b[0m: \u001b[1m(\u001b[0m\u001b[1;36m8192\u001b[0m,\u001b[1m)\u001b[0m\u001b[1m}\u001b[0m, \u001b[32m'e_above_hull'\u001b[0m: \u001b[1m{\u001b[0m\u001b[32m'pred'\u001b[0m: \u001b[1m(\u001b[0m\u001b[1;36m8192\u001b[0m,\u001b[1m)\u001b[0m, \u001b[32m'true'\u001b[0m: \u001b[1m(\u001b[0m\u001b[1;36m8192\u001b[0m,\u001b[1m)\u001b[0m\u001b[1m}\u001b[0m\u001b[1m}\u001b[0m\n"
      ]
     },
     "metadata": {},
     "output_type": "display_data"
    },
    {
     "data": {
      "text/html": [
       "<pre style=\"white-space:pre;overflow-x:auto;line-height:normal;font-family:Menlo,'DejaVu Sans Mono',consolas,'Courier New',monospace\"><span style=\"font-weight: bold\">{</span><span style=\"color: #008000; text-decoration-color: #008000\">'e_form'</span>: <span style=\"font-weight: bold\">{</span><span style=\"color: #008000; text-decoration-color: #008000\">'pred'</span>: <span style=\"font-weight: bold\">(</span><span style=\"color: #008080; text-decoration-color: #008080; font-weight: bold\">8192</span>,<span style=\"font-weight: bold\">)</span>, <span style=\"color: #008000; text-decoration-color: #008000\">'true'</span>: <span style=\"font-weight: bold\">(</span><span style=\"color: #008080; text-decoration-color: #008080; font-weight: bold\">8192</span>,<span style=\"font-weight: bold\">)}</span>, <span style=\"color: #008000; text-decoration-color: #008000\">'e_above_hull'</span>: <span style=\"font-weight: bold\">{</span><span style=\"color: #008000; text-decoration-color: #008000\">'pred'</span>: <span style=\"font-weight: bold\">(</span><span style=\"color: #008080; text-decoration-color: #008080; font-weight: bold\">8192</span>,<span style=\"font-weight: bold\">)</span>, <span style=\"color: #008000; text-decoration-color: #008000\">'true'</span>: <span style=\"font-weight: bold\">(</span><span style=\"color: #008080; text-decoration-color: #008080; font-weight: bold\">8192</span>,<span style=\"font-weight: bold\">)}}</span>\n",
       "</pre>\n"
      ],
      "text/plain": [
       "\u001b[1m{\u001b[0m\u001b[32m'e_form'\u001b[0m: \u001b[1m{\u001b[0m\u001b[32m'pred'\u001b[0m: \u001b[1m(\u001b[0m\u001b[1;36m8192\u001b[0m,\u001b[1m)\u001b[0m, \u001b[32m'true'\u001b[0m: \u001b[1m(\u001b[0m\u001b[1;36m8192\u001b[0m,\u001b[1m)\u001b[0m\u001b[1m}\u001b[0m, \u001b[32m'e_above_hull'\u001b[0m: \u001b[1m{\u001b[0m\u001b[32m'pred'\u001b[0m: \u001b[1m(\u001b[0m\u001b[1;36m8192\u001b[0m,\u001b[1m)\u001b[0m, \u001b[32m'true'\u001b[0m: \u001b[1m(\u001b[0m\u001b[1;36m8192\u001b[0m,\u001b[1m)\u001b[0m\u001b[1m}\u001b[0m\u001b[1m}\u001b[0m\n"
      ]
     },
     "metadata": {},
     "output_type": "display_data"
    },
    {
     "data": {
      "text/html": [
       "<div>\n",
       "<style scoped>\n",
       "    .dataframe tbody tr th:only-of-type {\n",
       "        vertical-align: middle;\n",
       "    }\n",
       "\n",
       "    .dataframe tbody tr th {\n",
       "        vertical-align: top;\n",
       "    }\n",
       "\n",
       "    .dataframe thead th {\n",
       "        text-align: right;\n",
       "    }\n",
       "</style>\n",
       "<table border=\"1\" class=\"dataframe\">\n",
       "  <thead>\n",
       "    <tr style=\"text-align: right;\">\n",
       "      <th></th>\n",
       "      <th>name</th>\n",
       "      <th>F1</th>\n",
       "      <th>DAF</th>\n",
       "      <th>Precision</th>\n",
       "      <th>Recall</th>\n",
       "      <th>Accuracy</th>\n",
       "      <th>TPR</th>\n",
       "      <th>FPR</th>\n",
       "      <th>TNR</th>\n",
       "      <th>FNR</th>\n",
       "      <th>TP</th>\n",
       "      <th>FP</th>\n",
       "      <th>TN</th>\n",
       "      <th>FN</th>\n",
       "      <th>MAE</th>\n",
       "      <th>RMSE</th>\n",
       "      <th>R2</th>\n",
       "    </tr>\n",
       "  </thead>\n",
       "  <tbody>\n",
       "    <tr>\n",
       "      <th>0</th>\n",
       "      <td>mptrj-jmps-s2ef_s2re_s2e_energy</td>\n",
       "      <td>0.784783</td>\n",
       "      <td>4.666613</td>\n",
       "      <td>0.818594</td>\n",
       "      <td>0.753653</td>\n",
       "      <td>0.927490</td>\n",
       "      <td>0.753653</td>\n",
       "      <td>0.035529</td>\n",
       "      <td>0.964471</td>\n",
       "      <td>0.246347</td>\n",
       "      <td>1083</td>\n",
       "      <td>240</td>\n",
       "      <td>6515</td>\n",
       "      <td>354</td>\n",
       "      <td>0.035932</td>\n",
       "      <td>0.081184</td>\n",
       "      <td>0.786146</td>\n",
       "    </tr>\n",
       "    <tr>\n",
       "      <th>1</th>\n",
       "      <td>mptrj-jmps-ec1.0_fc100.0_sc1.0_s2re_energy</td>\n",
       "      <td>0.730471</td>\n",
       "      <td>4.231260</td>\n",
       "      <td>0.784580</td>\n",
       "      <td>0.683344</td>\n",
       "      <td>0.906494</td>\n",
       "      <td>0.683344</td>\n",
       "      <td>0.042709</td>\n",
       "      <td>0.957291</td>\n",
       "      <td>0.316656</td>\n",
       "      <td>1038</td>\n",
       "      <td>285</td>\n",
       "      <td>6388</td>\n",
       "      <td>481</td>\n",
       "      <td>0.040820</td>\n",
       "      <td>0.084466</td>\n",
       "      <td>0.756666</td>\n",
       "    </tr>\n",
       "    <tr>\n",
       "      <th>2</th>\n",
       "      <td>mptrj-jmps-wd0.1_s2e_energy</td>\n",
       "      <td>0.760542</td>\n",
       "      <td>4.823078</td>\n",
       "      <td>0.743008</td>\n",
       "      <td>0.778922</td>\n",
       "      <td>0.924438</td>\n",
       "      <td>0.778922</td>\n",
       "      <td>0.049062</td>\n",
       "      <td>0.950938</td>\n",
       "      <td>0.221078</td>\n",
       "      <td>983</td>\n",
       "      <td>340</td>\n",
       "      <td>6590</td>\n",
       "      <td>279</td>\n",
       "      <td>0.037506</td>\n",
       "      <td>0.082736</td>\n",
       "      <td>0.771938</td>\n",
       "    </tr>\n",
       "    <tr>\n",
       "      <th>3</th>\n",
       "      <td>mptrj-jmps-posaug0.01_s2re_energy</td>\n",
       "      <td>0.774379</td>\n",
       "      <td>4.575947</td>\n",
       "      <td>0.813303</td>\n",
       "      <td>0.739011</td>\n",
       "      <td>0.923462</td>\n",
       "      <td>0.739011</td>\n",
       "      <td>0.036669</td>\n",
       "      <td>0.963331</td>\n",
       "      <td>0.260989</td>\n",
       "      <td>1076</td>\n",
       "      <td>247</td>\n",
       "      <td>6489</td>\n",
       "      <td>380</td>\n",
       "      <td>0.037098</td>\n",
       "      <td>0.080555</td>\n",
       "      <td>0.781434</td>\n",
       "    </tr>\n",
       "    <tr>\n",
       "      <th>4</th>\n",
       "      <td>mptrj-jmps-posaug0.01_s2e_energy</td>\n",
       "      <td>0.788618</td>\n",
       "      <td>4.777188</td>\n",
       "      <td>0.806500</td>\n",
       "      <td>0.771511</td>\n",
       "      <td>0.930176</td>\n",
       "      <td>0.771511</td>\n",
       "      <td>0.037597</td>\n",
       "      <td>0.962403</td>\n",
       "      <td>0.228489</td>\n",
       "      <td>1067</td>\n",
       "      <td>256</td>\n",
       "      <td>6553</td>\n",
       "      <td>316</td>\n",
       "      <td>0.037591</td>\n",
       "      <td>0.083958</td>\n",
       "      <td>0.775603</td>\n",
       "    </tr>\n",
       "    <tr>\n",
       "      <th>5</th>\n",
       "      <td>mptrj-jmps-ec20.0_fc20.0_sc10.0_s2re_energy</td>\n",
       "      <td>0.757396</td>\n",
       "      <td>4.591307</td>\n",
       "      <td>0.773998</td>\n",
       "      <td>0.741492</td>\n",
       "      <td>0.919922</td>\n",
       "      <td>0.741492</td>\n",
       "      <td>0.043900</td>\n",
       "      <td>0.956100</td>\n",
       "      <td>0.258508</td>\n",
       "      <td>1024</td>\n",
       "      <td>299</td>\n",
       "      <td>6512</td>\n",
       "      <td>357</td>\n",
       "      <td>0.038808</td>\n",
       "      <td>0.082041</td>\n",
       "      <td>0.756282</td>\n",
       "    </tr>\n",
       "    <tr>\n",
       "      <th>6</th>\n",
       "      <td>mptrj-jmps-ec100.0_fc100.0_sc1.0_s2e_energy</td>\n",
       "      <td>0.768444</td>\n",
       "      <td>4.603513</td>\n",
       "      <td>0.795163</td>\n",
       "      <td>0.743463</td>\n",
       "      <td>0.922607</td>\n",
       "      <td>0.743463</td>\n",
       "      <td>0.039988</td>\n",
       "      <td>0.960012</td>\n",
       "      <td>0.256537</td>\n",
       "      <td>1052</td>\n",
       "      <td>271</td>\n",
       "      <td>6506</td>\n",
       "      <td>363</td>\n",
       "      <td>0.039654</td>\n",
       "      <td>0.087729</td>\n",
       "      <td>0.745308</td>\n",
       "    </tr>\n",
       "    <tr>\n",
       "      <th>7</th>\n",
       "      <td>mptrj-jmps-s2ef_s2re_s2re_energy</td>\n",
       "      <td>0.768166</td>\n",
       "      <td>4.386156</td>\n",
       "      <td>0.839002</td>\n",
       "      <td>0.708360</td>\n",
       "      <td>0.918213</td>\n",
       "      <td>0.708360</td>\n",
       "      <td>0.032151</td>\n",
       "      <td>0.967849</td>\n",
       "      <td>0.291640</td>\n",
       "      <td>1110</td>\n",
       "      <td>213</td>\n",
       "      <td>6412</td>\n",
       "      <td>457</td>\n",
       "      <td>0.036932</td>\n",
       "      <td>0.080548</td>\n",
       "      <td>0.776085</td>\n",
       "    </tr>\n",
       "    <tr>\n",
       "      <th>8</th>\n",
       "      <td>mptrj-jmps-ec100.0_fc100.0_sc1.0_s2re_energy</td>\n",
       "      <td>0.759619</td>\n",
       "      <td>4.412304</td>\n",
       "      <td>0.813303</td>\n",
       "      <td>0.712583</td>\n",
       "      <td>0.916870</td>\n",
       "      <td>0.712583</td>\n",
       "      <td>0.036965</td>\n",
       "      <td>0.963035</td>\n",
       "      <td>0.287417</td>\n",
       "      <td>1076</td>\n",
       "      <td>247</td>\n",
       "      <td>6435</td>\n",
       "      <td>434</td>\n",
       "      <td>0.039558</td>\n",
       "      <td>0.085523</td>\n",
       "      <td>0.738495</td>\n",
       "    </tr>\n",
       "    <tr>\n",
       "      <th>9</th>\n",
       "      <td>mptrj-jmps-ec1.0_fc100.0_sc1.0_s2e_energy</td>\n",
       "      <td>0.749629</td>\n",
       "      <td>4.563708</td>\n",
       "      <td>0.762661</td>\n",
       "      <td>0.737034</td>\n",
       "      <td>0.917725</td>\n",
       "      <td>0.737034</td>\n",
       "      <td>0.046021</td>\n",
       "      <td>0.953979</td>\n",
       "      <td>0.262966</td>\n",
       "      <td>1009</td>\n",
       "      <td>314</td>\n",
       "      <td>6509</td>\n",
       "      <td>360</td>\n",
       "      <td>0.040631</td>\n",
       "      <td>0.089544</td>\n",
       "      <td>0.755822</td>\n",
       "    </tr>\n",
       "    <tr>\n",
       "      <th>10</th>\n",
       "      <td>mptrj-jmps-ec20.0_fc20.0_sc10.0_s2e_energy</td>\n",
       "      <td>0.761652</td>\n",
       "      <td>4.728684</td>\n",
       "      <td>0.759637</td>\n",
       "      <td>0.763678</td>\n",
       "      <td>0.923218</td>\n",
       "      <td>0.763678</td>\n",
       "      <td>0.046248</td>\n",
       "      <td>0.953752</td>\n",
       "      <td>0.236322</td>\n",
       "      <td>1005</td>\n",
       "      <td>318</td>\n",
       "      <td>6558</td>\n",
       "      <td>311</td>\n",
       "      <td>0.038665</td>\n",
       "      <td>0.084565</td>\n",
       "      <td>0.758008</td>\n",
       "    </tr>\n",
       "    <tr>\n",
       "      <th>11</th>\n",
       "      <td>mptrj-jmps-wd0.1_s2re_energy</td>\n",
       "      <td>0.762286</td>\n",
       "      <td>4.552677</td>\n",
       "      <td>0.791383</td>\n",
       "      <td>0.735253</td>\n",
       "      <td>0.920288</td>\n",
       "      <td>0.735253</td>\n",
       "      <td>0.040780</td>\n",
       "      <td>0.959220</td>\n",
       "      <td>0.264747</td>\n",
       "      <td>1047</td>\n",
       "      <td>276</td>\n",
       "      <td>6492</td>\n",
       "      <td>377</td>\n",
       "      <td>0.038262</td>\n",
       "      <td>0.082429</td>\n",
       "      <td>0.763875</td>\n",
       "    </tr>\n",
       "  </tbody>\n",
       "</table>\n",
       "</div>"
      ],
      "text/plain": [
       "                                            name        F1       DAF  \\\n",
       "0                mptrj-jmps-s2ef_s2re_s2e_energy  0.784783  4.666613   \n",
       "1     mptrj-jmps-ec1.0_fc100.0_sc1.0_s2re_energy  0.730471  4.231260   \n",
       "2                    mptrj-jmps-wd0.1_s2e_energy  0.760542  4.823078   \n",
       "3              mptrj-jmps-posaug0.01_s2re_energy  0.774379  4.575947   \n",
       "4               mptrj-jmps-posaug0.01_s2e_energy  0.788618  4.777188   \n",
       "5    mptrj-jmps-ec20.0_fc20.0_sc10.0_s2re_energy  0.757396  4.591307   \n",
       "6    mptrj-jmps-ec100.0_fc100.0_sc1.0_s2e_energy  0.768444  4.603513   \n",
       "7               mptrj-jmps-s2ef_s2re_s2re_energy  0.768166  4.386156   \n",
       "8   mptrj-jmps-ec100.0_fc100.0_sc1.0_s2re_energy  0.759619  4.412304   \n",
       "9      mptrj-jmps-ec1.0_fc100.0_sc1.0_s2e_energy  0.749629  4.563708   \n",
       "10    mptrj-jmps-ec20.0_fc20.0_sc10.0_s2e_energy  0.761652  4.728684   \n",
       "11                  mptrj-jmps-wd0.1_s2re_energy  0.762286  4.552677   \n",
       "\n",
       "    Precision    Recall  Accuracy       TPR       FPR       TNR       FNR  \\\n",
       "0    0.818594  0.753653  0.927490  0.753653  0.035529  0.964471  0.246347   \n",
       "1    0.784580  0.683344  0.906494  0.683344  0.042709  0.957291  0.316656   \n",
       "2    0.743008  0.778922  0.924438  0.778922  0.049062  0.950938  0.221078   \n",
       "3    0.813303  0.739011  0.923462  0.739011  0.036669  0.963331  0.260989   \n",
       "4    0.806500  0.771511  0.930176  0.771511  0.037597  0.962403  0.228489   \n",
       "5    0.773998  0.741492  0.919922  0.741492  0.043900  0.956100  0.258508   \n",
       "6    0.795163  0.743463  0.922607  0.743463  0.039988  0.960012  0.256537   \n",
       "7    0.839002  0.708360  0.918213  0.708360  0.032151  0.967849  0.291640   \n",
       "8    0.813303  0.712583  0.916870  0.712583  0.036965  0.963035  0.287417   \n",
       "9    0.762661  0.737034  0.917725  0.737034  0.046021  0.953979  0.262966   \n",
       "10   0.759637  0.763678  0.923218  0.763678  0.046248  0.953752  0.236322   \n",
       "11   0.791383  0.735253  0.920288  0.735253  0.040780  0.959220  0.264747   \n",
       "\n",
       "      TP   FP    TN   FN       MAE      RMSE        R2  \n",
       "0   1083  240  6515  354  0.035932  0.081184  0.786146  \n",
       "1   1038  285  6388  481  0.040820  0.084466  0.756666  \n",
       "2    983  340  6590  279  0.037506  0.082736  0.771938  \n",
       "3   1076  247  6489  380  0.037098  0.080555  0.781434  \n",
       "4   1067  256  6553  316  0.037591  0.083958  0.775603  \n",
       "5   1024  299  6512  357  0.038808  0.082041  0.756282  \n",
       "6   1052  271  6506  363  0.039654  0.087729  0.745308  \n",
       "7   1110  213  6412  457  0.036932  0.080548  0.776085  \n",
       "8   1076  247  6435  434  0.039558  0.085523  0.738495  \n",
       "9   1009  314  6509  360  0.040631  0.089544  0.755822  \n",
       "10  1005  318  6558  311  0.038665  0.084565  0.758008  \n",
       "11  1047  276  6492  377  0.038262  0.082429  0.763875  "
      ]
     },
     "execution_count": 2,
     "metadata": {},
     "output_type": "execute_result"
    }
   ],
   "source": [
    "# | output: false\n",
    "# | echo: false\n",
    "\n",
    "from pathlib import Path\n",
    "\n",
    "import dill\n",
    "import numpy as np\n",
    "import pandas as pd\n",
    "import rich\n",
    "import seaborn as sns\n",
    "from matbench_discovery.metrics import stable_metrics\n",
    "from tqdm.auto import tqdm\n",
    "\n",
    "sns.set_context(\"notebook\")\n",
    "\n",
    "\n",
    "def plot_relax(preds_targets, title: str):\n",
    "    e_form_true, e_form_pred = zip(*preds_targets[\"e_form\"])\n",
    "    e_form_true = np.array(e_form_true)\n",
    "    e_form_pred = np.array(e_form_pred)\n",
    "\n",
    "    e_above_hull_true, e_above_hull_pred = zip(*preds_targets[\"e_above_hull\"])\n",
    "    e_above_hull_true = np.array(e_above_hull_true)\n",
    "    e_above_hull_pred = np.array(e_above_hull_pred)\n",
    "\n",
    "    rich.print(\n",
    "        {\n",
    "            \"e_form\": {\"pred\": e_form_pred.shape, \"true\": e_form_true.shape},\n",
    "            \"e_above_hull\": {\n",
    "                \"pred\": e_above_hull_pred.shape,\n",
    "                \"true\": e_above_hull_true.shape,\n",
    "            },\n",
    "        }\n",
    "    )\n",
    "\n",
    "    metrics = stable_metrics(e_above_hull_true, e_above_hull_pred, fillna=False)\n",
    "    # rich.print(metrics)\n",
    "    return {\"name\": title, **metrics}\n",
    "\n",
    "\n",
    "base_dir = Path(\"/mnt/datasets/jmp-mptrj-checkpoints/relaxer-results-8k/\")\n",
    "all_metrics = [\n",
    "    plot_relax(dill.load(f.open(\"rb\")), title=f.stem)\n",
    "    for f in tqdm(list(base_dir.glob(\"*.dill\")))\n",
    "]\n",
    "df = pd.DataFrame.from_records(all_metrics)\n",
    "df"
   ]
  },
  {
   "cell_type": "code",
   "execution_count": 3,
   "metadata": {},
   "outputs": [
    {
     "data": {
      "text/html": [
       "<div>\n",
       "<style scoped>\n",
       "    .dataframe tbody tr th:only-of-type {\n",
       "        vertical-align: middle;\n",
       "    }\n",
       "\n",
       "    .dataframe tbody tr th {\n",
       "        vertical-align: top;\n",
       "    }\n",
       "\n",
       "    .dataframe thead th {\n",
       "        text-align: right;\n",
       "    }\n",
       "</style>\n",
       "<table border=\"1\" class=\"dataframe\">\n",
       "  <thead>\n",
       "    <tr style=\"text-align: right;\">\n",
       "      <th></th>\n",
       "      <th>energy_type</th>\n",
       "      <th>name</th>\n",
       "      <th>F1</th>\n",
       "      <th>DAF</th>\n",
       "      <th>Precision</th>\n",
       "      <th>Recall</th>\n",
       "      <th>Accuracy</th>\n",
       "      <th>TPR</th>\n",
       "      <th>FPR</th>\n",
       "      <th>TNR</th>\n",
       "      <th>FNR</th>\n",
       "      <th>TP</th>\n",
       "      <th>FP</th>\n",
       "      <th>TN</th>\n",
       "      <th>FN</th>\n",
       "      <th>MAE</th>\n",
       "      <th>RMSE</th>\n",
       "      <th>R2</th>\n",
       "    </tr>\n",
       "  </thead>\n",
       "  <tbody>\n",
       "    <tr>\n",
       "      <th>0</th>\n",
       "      <td>s2e</td>\n",
       "      <td>base</td>\n",
       "      <td>0.784783</td>\n",
       "      <td>4.666613</td>\n",
       "      <td>0.818594</td>\n",
       "      <td>0.753653</td>\n",
       "      <td>0.927490</td>\n",
       "      <td>0.753653</td>\n",
       "      <td>0.035529</td>\n",
       "      <td>0.964471</td>\n",
       "      <td>0.246347</td>\n",
       "      <td>1083</td>\n",
       "      <td>240</td>\n",
       "      <td>6515</td>\n",
       "      <td>354</td>\n",
       "      <td>0.035932</td>\n",
       "      <td>0.081184</td>\n",
       "      <td>0.786146</td>\n",
       "    </tr>\n",
       "    <tr>\n",
       "      <th>1</th>\n",
       "      <td>s2re</td>\n",
       "      <td>base</td>\n",
       "      <td>0.768166</td>\n",
       "      <td>4.386156</td>\n",
       "      <td>0.839002</td>\n",
       "      <td>0.708360</td>\n",
       "      <td>0.918213</td>\n",
       "      <td>0.708360</td>\n",
       "      <td>0.032151</td>\n",
       "      <td>0.967849</td>\n",
       "      <td>0.291640</td>\n",
       "      <td>1110</td>\n",
       "      <td>213</td>\n",
       "      <td>6412</td>\n",
       "      <td>457</td>\n",
       "      <td>0.036932</td>\n",
       "      <td>0.080548</td>\n",
       "      <td>0.776085</td>\n",
       "    </tr>\n",
       "    <tr>\n",
       "      <th>2</th>\n",
       "      <td>s2e</td>\n",
       "      <td>ec20_fc20_sc10</td>\n",
       "      <td>0.761652</td>\n",
       "      <td>4.728684</td>\n",
       "      <td>0.759637</td>\n",
       "      <td>0.763678</td>\n",
       "      <td>0.923218</td>\n",
       "      <td>0.763678</td>\n",
       "      <td>0.046248</td>\n",
       "      <td>0.953752</td>\n",
       "      <td>0.236322</td>\n",
       "      <td>1005</td>\n",
       "      <td>318</td>\n",
       "      <td>6558</td>\n",
       "      <td>311</td>\n",
       "      <td>0.038665</td>\n",
       "      <td>0.084565</td>\n",
       "      <td>0.758008</td>\n",
       "    </tr>\n",
       "    <tr>\n",
       "      <th>3</th>\n",
       "      <td>s2re</td>\n",
       "      <td>ec20_fc20_sc10</td>\n",
       "      <td>0.757396</td>\n",
       "      <td>4.591307</td>\n",
       "      <td>0.773998</td>\n",
       "      <td>0.741492</td>\n",
       "      <td>0.919922</td>\n",
       "      <td>0.741492</td>\n",
       "      <td>0.043900</td>\n",
       "      <td>0.956100</td>\n",
       "      <td>0.258508</td>\n",
       "      <td>1024</td>\n",
       "      <td>299</td>\n",
       "      <td>6512</td>\n",
       "      <td>357</td>\n",
       "      <td>0.038808</td>\n",
       "      <td>0.082041</td>\n",
       "      <td>0.756282</td>\n",
       "    </tr>\n",
       "    <tr>\n",
       "      <th>4</th>\n",
       "      <td>s2e</td>\n",
       "      <td>ec100_fc100_sc1</td>\n",
       "      <td>0.768444</td>\n",
       "      <td>4.603513</td>\n",
       "      <td>0.795163</td>\n",
       "      <td>0.743463</td>\n",
       "      <td>0.922607</td>\n",
       "      <td>0.743463</td>\n",
       "      <td>0.039988</td>\n",
       "      <td>0.960012</td>\n",
       "      <td>0.256537</td>\n",
       "      <td>1052</td>\n",
       "      <td>271</td>\n",
       "      <td>6506</td>\n",
       "      <td>363</td>\n",
       "      <td>0.039654</td>\n",
       "      <td>0.087729</td>\n",
       "      <td>0.745308</td>\n",
       "    </tr>\n",
       "    <tr>\n",
       "      <th>5</th>\n",
       "      <td>s2re</td>\n",
       "      <td>ec100_fc100_sc1</td>\n",
       "      <td>0.759619</td>\n",
       "      <td>4.412304</td>\n",
       "      <td>0.813303</td>\n",
       "      <td>0.712583</td>\n",
       "      <td>0.916870</td>\n",
       "      <td>0.712583</td>\n",
       "      <td>0.036965</td>\n",
       "      <td>0.963035</td>\n",
       "      <td>0.287417</td>\n",
       "      <td>1076</td>\n",
       "      <td>247</td>\n",
       "      <td>6435</td>\n",
       "      <td>434</td>\n",
       "      <td>0.039558</td>\n",
       "      <td>0.085523</td>\n",
       "      <td>0.738495</td>\n",
       "    </tr>\n",
       "    <tr>\n",
       "      <th>6</th>\n",
       "      <td>s2e</td>\n",
       "      <td>ec1_fc100_sc1</td>\n",
       "      <td>0.749629</td>\n",
       "      <td>4.563708</td>\n",
       "      <td>0.762661</td>\n",
       "      <td>0.737034</td>\n",
       "      <td>0.917725</td>\n",
       "      <td>0.737034</td>\n",
       "      <td>0.046021</td>\n",
       "      <td>0.953979</td>\n",
       "      <td>0.262966</td>\n",
       "      <td>1009</td>\n",
       "      <td>314</td>\n",
       "      <td>6509</td>\n",
       "      <td>360</td>\n",
       "      <td>0.040631</td>\n",
       "      <td>0.089544</td>\n",
       "      <td>0.755822</td>\n",
       "    </tr>\n",
       "    <tr>\n",
       "      <th>7</th>\n",
       "      <td>s2re</td>\n",
       "      <td>ec1_fc100_sc1</td>\n",
       "      <td>0.730471</td>\n",
       "      <td>4.231260</td>\n",
       "      <td>0.784580</td>\n",
       "      <td>0.683344</td>\n",
       "      <td>0.906494</td>\n",
       "      <td>0.683344</td>\n",
       "      <td>0.042709</td>\n",
       "      <td>0.957291</td>\n",
       "      <td>0.316656</td>\n",
       "      <td>1038</td>\n",
       "      <td>285</td>\n",
       "      <td>6388</td>\n",
       "      <td>481</td>\n",
       "      <td>0.040820</td>\n",
       "      <td>0.084466</td>\n",
       "      <td>0.756666</td>\n",
       "    </tr>\n",
       "    <tr>\n",
       "      <th>8</th>\n",
       "      <td>s2e</td>\n",
       "      <td>wd0.1</td>\n",
       "      <td>0.760542</td>\n",
       "      <td>4.823078</td>\n",
       "      <td>0.743008</td>\n",
       "      <td>0.778922</td>\n",
       "      <td>0.924438</td>\n",
       "      <td>0.778922</td>\n",
       "      <td>0.049062</td>\n",
       "      <td>0.950938</td>\n",
       "      <td>0.221078</td>\n",
       "      <td>983</td>\n",
       "      <td>340</td>\n",
       "      <td>6590</td>\n",
       "      <td>279</td>\n",
       "      <td>0.037506</td>\n",
       "      <td>0.082736</td>\n",
       "      <td>0.771938</td>\n",
       "    </tr>\n",
       "    <tr>\n",
       "      <th>9</th>\n",
       "      <td>s2re</td>\n",
       "      <td>wd0.1</td>\n",
       "      <td>0.762286</td>\n",
       "      <td>4.552677</td>\n",
       "      <td>0.791383</td>\n",
       "      <td>0.735253</td>\n",
       "      <td>0.920288</td>\n",
       "      <td>0.735253</td>\n",
       "      <td>0.040780</td>\n",
       "      <td>0.959220</td>\n",
       "      <td>0.264747</td>\n",
       "      <td>1047</td>\n",
       "      <td>276</td>\n",
       "      <td>6492</td>\n",
       "      <td>377</td>\n",
       "      <td>0.038262</td>\n",
       "      <td>0.082429</td>\n",
       "      <td>0.763875</td>\n",
       "    </tr>\n",
       "    <tr>\n",
       "      <th>10</th>\n",
       "      <td>s2e</td>\n",
       "      <td>posaug0.01</td>\n",
       "      <td>0.788618</td>\n",
       "      <td>4.777188</td>\n",
       "      <td>0.806500</td>\n",
       "      <td>0.771511</td>\n",
       "      <td>0.930176</td>\n",
       "      <td>0.771511</td>\n",
       "      <td>0.037597</td>\n",
       "      <td>0.962403</td>\n",
       "      <td>0.228489</td>\n",
       "      <td>1067</td>\n",
       "      <td>256</td>\n",
       "      <td>6553</td>\n",
       "      <td>316</td>\n",
       "      <td>0.037591</td>\n",
       "      <td>0.083958</td>\n",
       "      <td>0.775603</td>\n",
       "    </tr>\n",
       "    <tr>\n",
       "      <th>11</th>\n",
       "      <td>s2re</td>\n",
       "      <td>posaug0.01</td>\n",
       "      <td>0.774379</td>\n",
       "      <td>4.575947</td>\n",
       "      <td>0.813303</td>\n",
       "      <td>0.739011</td>\n",
       "      <td>0.923462</td>\n",
       "      <td>0.739011</td>\n",
       "      <td>0.036669</td>\n",
       "      <td>0.963331</td>\n",
       "      <td>0.260989</td>\n",
       "      <td>1076</td>\n",
       "      <td>247</td>\n",
       "      <td>6489</td>\n",
       "      <td>380</td>\n",
       "      <td>0.037098</td>\n",
       "      <td>0.080555</td>\n",
       "      <td>0.781434</td>\n",
       "    </tr>\n",
       "  </tbody>\n",
       "</table>\n",
       "</div>"
      ],
      "text/plain": [
       "   energy_type             name        F1       DAF  Precision    Recall  \\\n",
       "0          s2e             base  0.784783  4.666613   0.818594  0.753653   \n",
       "1         s2re             base  0.768166  4.386156   0.839002  0.708360   \n",
       "2          s2e   ec20_fc20_sc10  0.761652  4.728684   0.759637  0.763678   \n",
       "3         s2re   ec20_fc20_sc10  0.757396  4.591307   0.773998  0.741492   \n",
       "4          s2e  ec100_fc100_sc1  0.768444  4.603513   0.795163  0.743463   \n",
       "5         s2re  ec100_fc100_sc1  0.759619  4.412304   0.813303  0.712583   \n",
       "6          s2e    ec1_fc100_sc1  0.749629  4.563708   0.762661  0.737034   \n",
       "7         s2re    ec1_fc100_sc1  0.730471  4.231260   0.784580  0.683344   \n",
       "8          s2e            wd0.1  0.760542  4.823078   0.743008  0.778922   \n",
       "9         s2re            wd0.1  0.762286  4.552677   0.791383  0.735253   \n",
       "10         s2e       posaug0.01  0.788618  4.777188   0.806500  0.771511   \n",
       "11        s2re       posaug0.01  0.774379  4.575947   0.813303  0.739011   \n",
       "\n",
       "    Accuracy       TPR       FPR       TNR       FNR    TP   FP    TN   FN  \\\n",
       "0   0.927490  0.753653  0.035529  0.964471  0.246347  1083  240  6515  354   \n",
       "1   0.918213  0.708360  0.032151  0.967849  0.291640  1110  213  6412  457   \n",
       "2   0.923218  0.763678  0.046248  0.953752  0.236322  1005  318  6558  311   \n",
       "3   0.919922  0.741492  0.043900  0.956100  0.258508  1024  299  6512  357   \n",
       "4   0.922607  0.743463  0.039988  0.960012  0.256537  1052  271  6506  363   \n",
       "5   0.916870  0.712583  0.036965  0.963035  0.287417  1076  247  6435  434   \n",
       "6   0.917725  0.737034  0.046021  0.953979  0.262966  1009  314  6509  360   \n",
       "7   0.906494  0.683344  0.042709  0.957291  0.316656  1038  285  6388  481   \n",
       "8   0.924438  0.778922  0.049062  0.950938  0.221078   983  340  6590  279   \n",
       "9   0.920288  0.735253  0.040780  0.959220  0.264747  1047  276  6492  377   \n",
       "10  0.930176  0.771511  0.037597  0.962403  0.228489  1067  256  6553  316   \n",
       "11  0.923462  0.739011  0.036669  0.963331  0.260989  1076  247  6489  380   \n",
       "\n",
       "         MAE      RMSE        R2  \n",
       "0   0.035932  0.081184  0.786146  \n",
       "1   0.036932  0.080548  0.776085  \n",
       "2   0.038665  0.084565  0.758008  \n",
       "3   0.038808  0.082041  0.756282  \n",
       "4   0.039654  0.087729  0.745308  \n",
       "5   0.039558  0.085523  0.738495  \n",
       "6   0.040631  0.089544  0.755822  \n",
       "7   0.040820  0.084466  0.756666  \n",
       "8   0.037506  0.082736  0.771938  \n",
       "9   0.038262  0.082429  0.763875  \n",
       "10  0.037591  0.083958  0.775603  \n",
       "11  0.037098  0.080555  0.781434  "
      ]
     },
     "execution_count": 3,
     "metadata": {},
     "output_type": "execute_result"
    }
   ],
   "source": [
    "def _name_postprocess(name: str):\n",
    "    if name == \"s2ef_s2re\":\n",
    "        name = \"base\"\n",
    "    name = name.replace(\".0\", \"\")\n",
    "    if name == \"posaug01\":\n",
    "        name = \"posaug0.01\"\n",
    "    return name\n",
    "\n",
    "\n",
    "def _sortidx(name: str):\n",
    "    mapping = {\n",
    "        \"s2ef_s2re\": 0,\n",
    "        \"ec20.0_fc20.0_sc10.0\": 1,\n",
    "        \"ec100.0_fc100.0_sc1.0\": 2,\n",
    "        \"ec1.0_fc100.0_sc1.0\": 3,\n",
    "        \"wd0.1\": 4,\n",
    "        \"posaug0.01\": 5,\n",
    "    }\n",
    "    return mapping.get(name, len(mapping) + 1)\n",
    "\n",
    "\n",
    "df_new = df.copy()\n",
    "df_new[\"energy_type\"] = df_new[\"name\"].apply(lambda x: x.rsplit(\"_\", 2)[-2])\n",
    "df_new[\"name\"] = df_new[\"name\"].apply(\n",
    "    lambda name: name.rsplit(\"_\", 2)[0][len(\"mptrj-jmps-\") :]\n",
    ")\n",
    "df_new[\"_sortidx\"] = df_new[\"name\"].apply(_sortidx)\n",
    "df_new[\"name\"] = df_new[\"name\"].apply(_name_postprocess)\n",
    "# move energy_type, _sortidx to the front\n",
    "df_new = df_new[\n",
    "    [\"_sortidx\", \"energy_type\"]\n",
    "    + [c for c in df_new.columns if c not in (\"_sortidx\", \"energy_type\")]\n",
    "]\n",
    "df_new = df_new.sort_values(\n",
    "    by=[\n",
    "        \"_sortidx\",\n",
    "        \"name\",\n",
    "        \"energy_type\",\n",
    "    ]\n",
    ")\n",
    "df_new = df_new.drop(columns=\"_sortidx\").reset_index(drop=True)\n",
    "df_new"
   ]
  },
  {
   "cell_type": "code",
   "execution_count": 4,
   "metadata": {},
   "outputs": [
    {
     "data": {
      "text/html": [
       "        <script type=\"text/javascript\">\n",
       "        window.PlotlyConfig = {MathJaxConfig: 'local'};\n",
       "        if (window.MathJax && window.MathJax.Hub && window.MathJax.Hub.Config) {window.MathJax.Hub.Config({SVG: {font: \"STIX-Web\"}});}\n",
       "        if (typeof require !== 'undefined') {\n",
       "        require.undef(\"plotly\");\n",
       "        requirejs.config({\n",
       "            paths: {\n",
       "                'plotly': ['https://cdn.plot.ly/plotly-2.29.1.min']\n",
       "            }\n",
       "        });\n",
       "        require(['plotly'], function(Plotly) {\n",
       "            window._Plotly = Plotly;\n",
       "        });\n",
       "        }\n",
       "        </script>\n",
       "        "
      ]
     },
     "metadata": {},
     "output_type": "display_data"
    },
    {
     "data": {
      "application/vnd.plotly.v1+json": {
       "config": {
        "plotlyServerURL": "https://plot.ly"
       },
       "data": [
        {
         "hoverinfo": "y",
         "hovertemplate": "%{y:.4f}<extra></extra>",
         "legendgroup": "s2e",
         "marker": {
          "color": "rgb(136, 204, 238)"
         },
         "name": "s2e",
         "showlegend": true,
         "type": "bar",
         "x": [
          "base",
          "ec20_fc20_sc10",
          "ec100_fc100_sc1",
          "ec1_fc100_sc1",
          "wd0.1",
          "posaug0.01"
         ],
         "xaxis": "x",
         "y": [
          0.035932278009769544,
          0.03866454409088234,
          0.03965442618387631,
          0.040631254500527667,
          0.03750620581238011,
          0.037591210266904304
         ],
         "yaxis": "y"
        },
        {
         "hoverinfo": "y",
         "hovertemplate": "%{y:.4f}<extra></extra>",
         "legendgroup": "s2e",
         "marker": {
          "color": "rgb(136, 204, 238)"
         },
         "name": "s2e",
         "showlegend": false,
         "type": "bar",
         "x": [
          "base",
          "ec20_fc20_sc10",
          "ec100_fc100_sc1",
          "ec1_fc100_sc1",
          "wd0.1",
          "posaug0.01"
         ],
         "xaxis": "x2",
         "y": [
          4.666613014957781,
          4.728683773408046,
          4.603513270247243,
          4.563707667954772,
          4.823077743159247,
          4.777188066517681
         ],
         "yaxis": "y2"
        },
        {
         "hoverinfo": "y",
         "hovertemplate": "%{y:.4f}<extra></extra>",
         "legendgroup": "s2e",
         "marker": {
          "color": "rgb(136, 204, 238)"
         },
         "name": "s2e",
         "showlegend": false,
         "type": "bar",
         "x": [
          "base",
          "ec20_fc20_sc10",
          "ec100_fc100_sc1",
          "ec1_fc100_sc1",
          "wd0.1",
          "posaug0.01"
         ],
         "xaxis": "x3",
         "y": [
          0.7847826086956521,
          0.7616521409624858,
          0.7684441197954711,
          0.7496285289747399,
          0.7605415860735009,
          0.7886178861788619
         ],
         "yaxis": "y3"
        },
        {
         "hoverinfo": "y",
         "hovertemplate": "%{y:.4f}<extra></extra>",
         "legendgroup": "s2re",
         "marker": {
          "color": "rgb(204, 102, 119)"
         },
         "name": "s2re",
         "showlegend": true,
         "type": "bar",
         "x": [
          "base",
          "ec20_fc20_sc10",
          "ec100_fc100_sc1",
          "ec1_fc100_sc1",
          "wd0.1",
          "posaug0.01"
         ],
         "xaxis": "x",
         "y": [
          0.036932333812608895,
          0.03880832061311763,
          0.03955773503365463,
          0.04081967482312181,
          0.03826177177944605,
          0.03709755760406906
         ],
         "yaxis": "y"
        },
        {
         "hoverinfo": "y",
         "hovertemplate": "%{y:.4f}<extra></extra>",
         "legendgroup": "s2re",
         "marker": {
          "color": "rgb(204, 102, 119)"
         },
         "name": "s2re",
         "showlegend": false,
         "type": "bar",
         "x": [
          "base",
          "ec20_fc20_sc10",
          "ec100_fc100_sc1",
          "ec1_fc100_sc1",
          "wd0.1",
          "posaug0.01"
         ],
         "xaxis": "x2",
         "y": [
          4.386156079108946,
          4.591307469966827,
          4.412303965000275,
          4.231259675254785,
          4.552676501312136,
          4.575947106559352
         ],
         "yaxis": "y2"
        },
        {
         "hoverinfo": "y",
         "hovertemplate": "%{y:.4f}<extra></extra>",
         "legendgroup": "s2re",
         "marker": {
          "color": "rgb(204, 102, 119)"
         },
         "name": "s2re",
         "showlegend": false,
         "type": "bar",
         "x": [
          "base",
          "ec20_fc20_sc10",
          "ec100_fc100_sc1",
          "ec1_fc100_sc1",
          "wd0.1",
          "posaug0.01"
         ],
         "xaxis": "x3",
         "y": [
          0.7681660899653978,
          0.7573964497041419,
          0.7596187786798446,
          0.7304714989444054,
          0.7622861303239898,
          0.7743792731198272
         ],
         "yaxis": "y3"
        }
       ],
       "layout": {
        "annotations": [
         {
          "font": {
           "size": 16
          },
          "showarrow": false,
          "text": "MAE",
          "x": 0.14444444444444446,
          "xanchor": "center",
          "xref": "paper",
          "y": 1,
          "yanchor": "bottom",
          "yref": "paper"
         },
         {
          "font": {
           "size": 16
          },
          "showarrow": false,
          "text": "DAF",
          "x": 0.5,
          "xanchor": "center",
          "xref": "paper",
          "y": 1,
          "yanchor": "bottom",
          "yref": "paper"
         },
         {
          "font": {
           "size": 16
          },
          "showarrow": false,
          "text": "F1",
          "x": 0.8555555555555556,
          "xanchor": "center",
          "xref": "paper",
          "y": 1,
          "yanchor": "bottom",
          "yref": "paper"
         }
        ],
        "barmode": "group",
        "font": {
         "color": "gray"
        },
        "height": 400,
        "legend": {
         "orientation": "h",
         "x": 0.5,
         "xanchor": "center",
         "y": 1.15,
         "yanchor": "bottom"
        },
        "paper_bgcolor": "rgba(0,0,0,0)",
        "plot_bgcolor": "rgba(0,0,0,0)",
        "template": {
         "data": {
          "bar": [
           {
            "error_x": {
             "color": "#f2f5fa"
            },
            "error_y": {
             "color": "#f2f5fa"
            },
            "marker": {
             "line": {
              "color": "rgb(17,17,17)",
              "width": 0.5
             },
             "pattern": {
              "fillmode": "overlay",
              "size": 10,
              "solidity": 0.2
             }
            },
            "type": "bar"
           }
          ],
          "barpolar": [
           {
            "marker": {
             "line": {
              "color": "rgb(17,17,17)",
              "width": 0.5
             },
             "pattern": {
              "fillmode": "overlay",
              "size": 10,
              "solidity": 0.2
             }
            },
            "type": "barpolar"
           }
          ],
          "carpet": [
           {
            "aaxis": {
             "endlinecolor": "#A2B1C6",
             "gridcolor": "#506784",
             "linecolor": "#506784",
             "minorgridcolor": "#506784",
             "startlinecolor": "#A2B1C6"
            },
            "baxis": {
             "endlinecolor": "#A2B1C6",
             "gridcolor": "#506784",
             "linecolor": "#506784",
             "minorgridcolor": "#506784",
             "startlinecolor": "#A2B1C6"
            },
            "type": "carpet"
           }
          ],
          "choropleth": [
           {
            "colorbar": {
             "outlinewidth": 0,
             "ticks": ""
            },
            "type": "choropleth"
           }
          ],
          "contour": [
           {
            "colorbar": {
             "outlinewidth": 0,
             "ticks": ""
            },
            "colorscale": [
             [
              0,
              "#0d0887"
             ],
             [
              0.1111111111111111,
              "#46039f"
             ],
             [
              0.2222222222222222,
              "#7201a8"
             ],
             [
              0.3333333333333333,
              "#9c179e"
             ],
             [
              0.4444444444444444,
              "#bd3786"
             ],
             [
              0.5555555555555556,
              "#d8576b"
             ],
             [
              0.6666666666666666,
              "#ed7953"
             ],
             [
              0.7777777777777778,
              "#fb9f3a"
             ],
             [
              0.8888888888888888,
              "#fdca26"
             ],
             [
              1,
              "#f0f921"
             ]
            ],
            "type": "contour"
           }
          ],
          "contourcarpet": [
           {
            "colorbar": {
             "outlinewidth": 0,
             "ticks": ""
            },
            "type": "contourcarpet"
           }
          ],
          "heatmap": [
           {
            "colorbar": {
             "outlinewidth": 0,
             "ticks": ""
            },
            "colorscale": [
             [
              0,
              "#0d0887"
             ],
             [
              0.1111111111111111,
              "#46039f"
             ],
             [
              0.2222222222222222,
              "#7201a8"
             ],
             [
              0.3333333333333333,
              "#9c179e"
             ],
             [
              0.4444444444444444,
              "#bd3786"
             ],
             [
              0.5555555555555556,
              "#d8576b"
             ],
             [
              0.6666666666666666,
              "#ed7953"
             ],
             [
              0.7777777777777778,
              "#fb9f3a"
             ],
             [
              0.8888888888888888,
              "#fdca26"
             ],
             [
              1,
              "#f0f921"
             ]
            ],
            "type": "heatmap"
           }
          ],
          "heatmapgl": [
           {
            "colorbar": {
             "outlinewidth": 0,
             "ticks": ""
            },
            "colorscale": [
             [
              0,
              "#0d0887"
             ],
             [
              0.1111111111111111,
              "#46039f"
             ],
             [
              0.2222222222222222,
              "#7201a8"
             ],
             [
              0.3333333333333333,
              "#9c179e"
             ],
             [
              0.4444444444444444,
              "#bd3786"
             ],
             [
              0.5555555555555556,
              "#d8576b"
             ],
             [
              0.6666666666666666,
              "#ed7953"
             ],
             [
              0.7777777777777778,
              "#fb9f3a"
             ],
             [
              0.8888888888888888,
              "#fdca26"
             ],
             [
              1,
              "#f0f921"
             ]
            ],
            "type": "heatmapgl"
           }
          ],
          "histogram": [
           {
            "marker": {
             "pattern": {
              "fillmode": "overlay",
              "size": 10,
              "solidity": 0.2
             }
            },
            "type": "histogram"
           }
          ],
          "histogram2d": [
           {
            "colorbar": {
             "outlinewidth": 0,
             "ticks": ""
            },
            "colorscale": [
             [
              0,
              "#0d0887"
             ],
             [
              0.1111111111111111,
              "#46039f"
             ],
             [
              0.2222222222222222,
              "#7201a8"
             ],
             [
              0.3333333333333333,
              "#9c179e"
             ],
             [
              0.4444444444444444,
              "#bd3786"
             ],
             [
              0.5555555555555556,
              "#d8576b"
             ],
             [
              0.6666666666666666,
              "#ed7953"
             ],
             [
              0.7777777777777778,
              "#fb9f3a"
             ],
             [
              0.8888888888888888,
              "#fdca26"
             ],
             [
              1,
              "#f0f921"
             ]
            ],
            "type": "histogram2d"
           }
          ],
          "histogram2dcontour": [
           {
            "colorbar": {
             "outlinewidth": 0,
             "ticks": ""
            },
            "colorscale": [
             [
              0,
              "#0d0887"
             ],
             [
              0.1111111111111111,
              "#46039f"
             ],
             [
              0.2222222222222222,
              "#7201a8"
             ],
             [
              0.3333333333333333,
              "#9c179e"
             ],
             [
              0.4444444444444444,
              "#bd3786"
             ],
             [
              0.5555555555555556,
              "#d8576b"
             ],
             [
              0.6666666666666666,
              "#ed7953"
             ],
             [
              0.7777777777777778,
              "#fb9f3a"
             ],
             [
              0.8888888888888888,
              "#fdca26"
             ],
             [
              1,
              "#f0f921"
             ]
            ],
            "type": "histogram2dcontour"
           }
          ],
          "mesh3d": [
           {
            "colorbar": {
             "outlinewidth": 0,
             "ticks": ""
            },
            "type": "mesh3d"
           }
          ],
          "parcoords": [
           {
            "line": {
             "colorbar": {
              "outlinewidth": 0,
              "ticks": ""
             }
            },
            "type": "parcoords"
           }
          ],
          "pie": [
           {
            "automargin": true,
            "type": "pie"
           }
          ],
          "scatter": [
           {
            "marker": {
             "line": {
              "color": "#283442"
             }
            },
            "type": "scatter"
           }
          ],
          "scatter3d": [
           {
            "line": {
             "colorbar": {
              "outlinewidth": 0,
              "ticks": ""
             }
            },
            "marker": {
             "colorbar": {
              "outlinewidth": 0,
              "ticks": ""
             }
            },
            "type": "scatter3d"
           }
          ],
          "scattercarpet": [
           {
            "marker": {
             "colorbar": {
              "outlinewidth": 0,
              "ticks": ""
             }
            },
            "type": "scattercarpet"
           }
          ],
          "scattergeo": [
           {
            "marker": {
             "colorbar": {
              "outlinewidth": 0,
              "ticks": ""
             }
            },
            "type": "scattergeo"
           }
          ],
          "scattergl": [
           {
            "marker": {
             "line": {
              "color": "#283442"
             }
            },
            "type": "scattergl"
           }
          ],
          "scattermapbox": [
           {
            "marker": {
             "colorbar": {
              "outlinewidth": 0,
              "ticks": ""
             }
            },
            "type": "scattermapbox"
           }
          ],
          "scatterpolar": [
           {
            "marker": {
             "colorbar": {
              "outlinewidth": 0,
              "ticks": ""
             }
            },
            "type": "scatterpolar"
           }
          ],
          "scatterpolargl": [
           {
            "marker": {
             "colorbar": {
              "outlinewidth": 0,
              "ticks": ""
             }
            },
            "type": "scatterpolargl"
           }
          ],
          "scatterternary": [
           {
            "marker": {
             "colorbar": {
              "outlinewidth": 0,
              "ticks": ""
             }
            },
            "type": "scatterternary"
           }
          ],
          "surface": [
           {
            "colorbar": {
             "outlinewidth": 0,
             "ticks": ""
            },
            "colorscale": [
             [
              0,
              "#0d0887"
             ],
             [
              0.1111111111111111,
              "#46039f"
             ],
             [
              0.2222222222222222,
              "#7201a8"
             ],
             [
              0.3333333333333333,
              "#9c179e"
             ],
             [
              0.4444444444444444,
              "#bd3786"
             ],
             [
              0.5555555555555556,
              "#d8576b"
             ],
             [
              0.6666666666666666,
              "#ed7953"
             ],
             [
              0.7777777777777778,
              "#fb9f3a"
             ],
             [
              0.8888888888888888,
              "#fdca26"
             ],
             [
              1,
              "#f0f921"
             ]
            ],
            "type": "surface"
           }
          ],
          "table": [
           {
            "cells": {
             "fill": {
              "color": "#506784"
             },
             "line": {
              "color": "rgb(17,17,17)"
             }
            },
            "header": {
             "fill": {
              "color": "#2a3f5f"
             },
             "line": {
              "color": "rgb(17,17,17)"
             }
            },
            "type": "table"
           }
          ]
         },
         "layout": {
          "annotationdefaults": {
           "arrowcolor": "#f2f5fa",
           "arrowhead": 0,
           "arrowwidth": 1
          },
          "autotypenumbers": "strict",
          "coloraxis": {
           "colorbar": {
            "outlinewidth": 0,
            "ticks": ""
           }
          },
          "colorscale": {
           "diverging": [
            [
             0,
             "#8e0152"
            ],
            [
             0.1,
             "#c51b7d"
            ],
            [
             0.2,
             "#de77ae"
            ],
            [
             0.3,
             "#f1b6da"
            ],
            [
             0.4,
             "#fde0ef"
            ],
            [
             0.5,
             "#f7f7f7"
            ],
            [
             0.6,
             "#e6f5d0"
            ],
            [
             0.7,
             "#b8e186"
            ],
            [
             0.8,
             "#7fbc41"
            ],
            [
             0.9,
             "#4d9221"
            ],
            [
             1,
             "#276419"
            ]
           ],
           "sequential": [
            [
             0,
             "#0d0887"
            ],
            [
             0.1111111111111111,
             "#46039f"
            ],
            [
             0.2222222222222222,
             "#7201a8"
            ],
            [
             0.3333333333333333,
             "#9c179e"
            ],
            [
             0.4444444444444444,
             "#bd3786"
            ],
            [
             0.5555555555555556,
             "#d8576b"
            ],
            [
             0.6666666666666666,
             "#ed7953"
            ],
            [
             0.7777777777777778,
             "#fb9f3a"
            ],
            [
             0.8888888888888888,
             "#fdca26"
            ],
            [
             1,
             "#f0f921"
            ]
           ],
           "sequentialminus": [
            [
             0,
             "#0d0887"
            ],
            [
             0.1111111111111111,
             "#46039f"
            ],
            [
             0.2222222222222222,
             "#7201a8"
            ],
            [
             0.3333333333333333,
             "#9c179e"
            ],
            [
             0.4444444444444444,
             "#bd3786"
            ],
            [
             0.5555555555555556,
             "#d8576b"
            ],
            [
             0.6666666666666666,
             "#ed7953"
            ],
            [
             0.7777777777777778,
             "#fb9f3a"
            ],
            [
             0.8888888888888888,
             "#fdca26"
            ],
            [
             1,
             "#f0f921"
            ]
           ]
          },
          "colorway": [
           "#636efa",
           "#EF553B",
           "#00cc96",
           "#ab63fa",
           "#FFA15A",
           "#19d3f3",
           "#FF6692",
           "#B6E880",
           "#FF97FF",
           "#FECB52"
          ],
          "font": {
           "color": "white",
           "size": 13
          },
          "geo": {
           "bgcolor": "rgb(17,17,17)",
           "lakecolor": "rgb(17,17,17)",
           "landcolor": "rgb(17,17,17)",
           "showlakes": true,
           "showland": true,
           "subunitcolor": "#506784"
          },
          "hoverlabel": {
           "align": "left"
          },
          "hovermode": "closest",
          "legend": {
           "bgcolor": "rgba(0, 0, 0, 0)",
           "itemsizing": "constant"
          },
          "mapbox": {
           "style": "dark"
          },
          "margin": {
           "b": 10,
           "l": 10,
           "r": 10,
           "t": 10
          },
          "paper_bgcolor": "rgba(0,0,0,0)",
          "plot_bgcolor": "rgb(17,17,17)",
          "polar": {
           "angularaxis": {
            "gridcolor": "#506784",
            "linecolor": "#506784",
            "ticks": ""
           },
           "bgcolor": "rgb(17,17,17)",
           "radialaxis": {
            "gridcolor": "#506784",
            "linecolor": "#506784",
            "ticks": ""
           }
          },
          "scene": {
           "xaxis": {
            "backgroundcolor": "rgb(17,17,17)",
            "gridcolor": "#506784",
            "gridwidth": 2,
            "linecolor": "#506784",
            "showbackground": true,
            "ticks": "",
            "zerolinecolor": "#C8D4E3"
           },
           "yaxis": {
            "backgroundcolor": "rgb(17,17,17)",
            "gridcolor": "#506784",
            "gridwidth": 2,
            "linecolor": "#506784",
            "showbackground": true,
            "ticks": "",
            "zerolinecolor": "#C8D4E3"
           },
           "zaxis": {
            "backgroundcolor": "rgb(17,17,17)",
            "gridcolor": "#506784",
            "gridwidth": 2,
            "linecolor": "#506784",
            "showbackground": true,
            "ticks": "",
            "zerolinecolor": "#C8D4E3"
           }
          },
          "shapedefaults": {
           "line": {
            "color": "#f2f5fa"
           }
          },
          "sliderdefaults": {
           "bgcolor": "#C8D4E3",
           "bordercolor": "rgb(17,17,17)",
           "borderwidth": 1,
           "tickwidth": 0
          },
          "ternary": {
           "aaxis": {
            "gridcolor": "#506784",
            "linecolor": "#506784",
            "ticks": ""
           },
           "baxis": {
            "gridcolor": "#506784",
            "linecolor": "#506784",
            "ticks": ""
           },
           "bgcolor": "rgb(17,17,17)",
           "caxis": {
            "gridcolor": "#506784",
            "linecolor": "#506784",
            "ticks": ""
           }
          },
          "title": {
           "x": 0.05
          },
          "updatemenudefaults": {
           "bgcolor": "#506784",
           "borderwidth": 0
          },
          "xaxis": {
           "automargin": true,
           "gridcolor": "darkgray",
           "linecolor": "white",
           "linewidth": 1,
           "mirror": true,
           "showgrid": true,
           "showline": true,
           "ticks": "outside",
           "title": {
            "standoff": 15
           },
           "zeroline": true,
           "zerolinecolor": "#283442",
           "zerolinewidth": 2
          },
          "yaxis": {
           "automargin": true,
           "gridcolor": "darkgray",
           "linecolor": "white",
           "linewidth": 1,
           "mirror": true,
           "showgrid": true,
           "showline": true,
           "ticks": "outside",
           "title": {
            "standoff": 15
           },
           "zeroline": true,
           "zerolinecolor": "#283442",
           "zerolinewidth": 2
          }
         }
        },
        "width": 1000,
        "xaxis": {
         "anchor": "y",
         "domain": [
          0,
          0.2888888888888889
         ],
         "gridcolor": "lightgray",
         "showgrid": true,
         "tickangle": 75,
         "title": {
          "text": ""
         }
        },
        "xaxis2": {
         "anchor": "y2",
         "domain": [
          0.35555555555555557,
          0.6444444444444445
         ],
         "gridcolor": "lightgray",
         "showgrid": true,
         "tickangle": 75,
         "title": {
          "text": ""
         }
        },
        "xaxis3": {
         "anchor": "y3",
         "domain": [
          0.7111111111111111,
          1
         ],
         "gridcolor": "lightgray",
         "showgrid": true,
         "tickangle": 75,
         "title": {
          "text": ""
         }
        },
        "yaxis": {
         "anchor": "x",
         "domain": [
          0,
          1
         ],
         "gridcolor": "lightgray",
         "range": [
          0.03,
          0.04490164230543399
         ],
         "showgrid": true
        },
        "yaxis2": {
         "anchor": "x2",
         "domain": [
          0,
          1
         ],
         "gridcolor": "lightgray",
         "range": [
          4,
          5.305385517475171
         ],
         "showgrid": true
        },
        "yaxis3": {
         "anchor": "x3",
         "domain": [
          0,
          1
         ],
         "gridcolor": "lightgray",
         "range": [
          0.65,
          0.801
         ],
         "showgrid": true
        }
       }
      },
      "text/html": [
       "<div>                            <div id=\"c9781a1e-fdfd-4618-8242-b9aa3f0ec953\" class=\"plotly-graph-div\" style=\"height:400px; width:1000px;\"></div>            <script type=\"text/javascript\">                require([\"plotly\"], function(Plotly) {                    window.PLOTLYENV=window.PLOTLYENV || {};                                    if (document.getElementById(\"c9781a1e-fdfd-4618-8242-b9aa3f0ec953\")) {                    Plotly.newPlot(                        \"c9781a1e-fdfd-4618-8242-b9aa3f0ec953\",                        [{\"hoverinfo\":\"y\",\"hovertemplate\":\"%{y:.4f}\\u003cextra\\u003e\\u003c\\u002fextra\\u003e\",\"legendgroup\":\"s2e\",\"marker\":{\"color\":\"rgb(136, 204, 238)\"},\"name\":\"s2e\",\"showlegend\":true,\"x\":[\"base\",\"ec20_fc20_sc10\",\"ec100_fc100_sc1\",\"ec1_fc100_sc1\",\"wd0.1\",\"posaug0.01\"],\"y\":[0.035932278009769544,0.03866454409088234,0.03965442618387631,0.040631254500527667,0.03750620581238011,0.037591210266904304],\"type\":\"bar\",\"xaxis\":\"x\",\"yaxis\":\"y\"},{\"hoverinfo\":\"y\",\"hovertemplate\":\"%{y:.4f}\\u003cextra\\u003e\\u003c\\u002fextra\\u003e\",\"legendgroup\":\"s2e\",\"marker\":{\"color\":\"rgb(136, 204, 238)\"},\"name\":\"s2e\",\"showlegend\":false,\"x\":[\"base\",\"ec20_fc20_sc10\",\"ec100_fc100_sc1\",\"ec1_fc100_sc1\",\"wd0.1\",\"posaug0.01\"],\"y\":[4.666613014957781,4.728683773408046,4.603513270247243,4.563707667954772,4.823077743159247,4.777188066517681],\"type\":\"bar\",\"xaxis\":\"x2\",\"yaxis\":\"y2\"},{\"hoverinfo\":\"y\",\"hovertemplate\":\"%{y:.4f}\\u003cextra\\u003e\\u003c\\u002fextra\\u003e\",\"legendgroup\":\"s2e\",\"marker\":{\"color\":\"rgb(136, 204, 238)\"},\"name\":\"s2e\",\"showlegend\":false,\"x\":[\"base\",\"ec20_fc20_sc10\",\"ec100_fc100_sc1\",\"ec1_fc100_sc1\",\"wd0.1\",\"posaug0.01\"],\"y\":[0.7847826086956521,0.7616521409624858,0.7684441197954711,0.7496285289747399,0.7605415860735009,0.7886178861788619],\"type\":\"bar\",\"xaxis\":\"x3\",\"yaxis\":\"y3\"},{\"hoverinfo\":\"y\",\"hovertemplate\":\"%{y:.4f}\\u003cextra\\u003e\\u003c\\u002fextra\\u003e\",\"legendgroup\":\"s2re\",\"marker\":{\"color\":\"rgb(204, 102, 119)\"},\"name\":\"s2re\",\"showlegend\":true,\"x\":[\"base\",\"ec20_fc20_sc10\",\"ec100_fc100_sc1\",\"ec1_fc100_sc1\",\"wd0.1\",\"posaug0.01\"],\"y\":[0.036932333812608895,0.03880832061311763,0.03955773503365463,0.04081967482312181,0.03826177177944605,0.03709755760406906],\"type\":\"bar\",\"xaxis\":\"x\",\"yaxis\":\"y\"},{\"hoverinfo\":\"y\",\"hovertemplate\":\"%{y:.4f}\\u003cextra\\u003e\\u003c\\u002fextra\\u003e\",\"legendgroup\":\"s2re\",\"marker\":{\"color\":\"rgb(204, 102, 119)\"},\"name\":\"s2re\",\"showlegend\":false,\"x\":[\"base\",\"ec20_fc20_sc10\",\"ec100_fc100_sc1\",\"ec1_fc100_sc1\",\"wd0.1\",\"posaug0.01\"],\"y\":[4.386156079108946,4.591307469966827,4.412303965000275,4.231259675254785,4.552676501312136,4.575947106559352],\"type\":\"bar\",\"xaxis\":\"x2\",\"yaxis\":\"y2\"},{\"hoverinfo\":\"y\",\"hovertemplate\":\"%{y:.4f}\\u003cextra\\u003e\\u003c\\u002fextra\\u003e\",\"legendgroup\":\"s2re\",\"marker\":{\"color\":\"rgb(204, 102, 119)\"},\"name\":\"s2re\",\"showlegend\":false,\"x\":[\"base\",\"ec20_fc20_sc10\",\"ec100_fc100_sc1\",\"ec1_fc100_sc1\",\"wd0.1\",\"posaug0.01\"],\"y\":[0.7681660899653978,0.7573964497041419,0.7596187786798446,0.7304714989444054,0.7622861303239898,0.7743792731198272],\"type\":\"bar\",\"xaxis\":\"x3\",\"yaxis\":\"y3\"}],                        {\"template\":{\"data\":{\"barpolar\":[{\"marker\":{\"line\":{\"color\":\"rgb(17,17,17)\",\"width\":0.5},\"pattern\":{\"fillmode\":\"overlay\",\"size\":10,\"solidity\":0.2}},\"type\":\"barpolar\"}],\"bar\":[{\"error_x\":{\"color\":\"#f2f5fa\"},\"error_y\":{\"color\":\"#f2f5fa\"},\"marker\":{\"line\":{\"color\":\"rgb(17,17,17)\",\"width\":0.5},\"pattern\":{\"fillmode\":\"overlay\",\"size\":10,\"solidity\":0.2}},\"type\":\"bar\"}],\"carpet\":[{\"aaxis\":{\"endlinecolor\":\"#A2B1C6\",\"gridcolor\":\"#506784\",\"linecolor\":\"#506784\",\"minorgridcolor\":\"#506784\",\"startlinecolor\":\"#A2B1C6\"},\"baxis\":{\"endlinecolor\":\"#A2B1C6\",\"gridcolor\":\"#506784\",\"linecolor\":\"#506784\",\"minorgridcolor\":\"#506784\",\"startlinecolor\":\"#A2B1C6\"},\"type\":\"carpet\"}],\"choropleth\":[{\"colorbar\":{\"outlinewidth\":0,\"ticks\":\"\"},\"type\":\"choropleth\"}],\"contourcarpet\":[{\"colorbar\":{\"outlinewidth\":0,\"ticks\":\"\"},\"type\":\"contourcarpet\"}],\"contour\":[{\"colorbar\":{\"outlinewidth\":0,\"ticks\":\"\"},\"colorscale\":[[0.0,\"#0d0887\"],[0.1111111111111111,\"#46039f\"],[0.2222222222222222,\"#7201a8\"],[0.3333333333333333,\"#9c179e\"],[0.4444444444444444,\"#bd3786\"],[0.5555555555555556,\"#d8576b\"],[0.6666666666666666,\"#ed7953\"],[0.7777777777777778,\"#fb9f3a\"],[0.8888888888888888,\"#fdca26\"],[1.0,\"#f0f921\"]],\"type\":\"contour\"}],\"heatmapgl\":[{\"colorbar\":{\"outlinewidth\":0,\"ticks\":\"\"},\"colorscale\":[[0.0,\"#0d0887\"],[0.1111111111111111,\"#46039f\"],[0.2222222222222222,\"#7201a8\"],[0.3333333333333333,\"#9c179e\"],[0.4444444444444444,\"#bd3786\"],[0.5555555555555556,\"#d8576b\"],[0.6666666666666666,\"#ed7953\"],[0.7777777777777778,\"#fb9f3a\"],[0.8888888888888888,\"#fdca26\"],[1.0,\"#f0f921\"]],\"type\":\"heatmapgl\"}],\"heatmap\":[{\"colorbar\":{\"outlinewidth\":0,\"ticks\":\"\"},\"colorscale\":[[0.0,\"#0d0887\"],[0.1111111111111111,\"#46039f\"],[0.2222222222222222,\"#7201a8\"],[0.3333333333333333,\"#9c179e\"],[0.4444444444444444,\"#bd3786\"],[0.5555555555555556,\"#d8576b\"],[0.6666666666666666,\"#ed7953\"],[0.7777777777777778,\"#fb9f3a\"],[0.8888888888888888,\"#fdca26\"],[1.0,\"#f0f921\"]],\"type\":\"heatmap\"}],\"histogram2dcontour\":[{\"colorbar\":{\"outlinewidth\":0,\"ticks\":\"\"},\"colorscale\":[[0.0,\"#0d0887\"],[0.1111111111111111,\"#46039f\"],[0.2222222222222222,\"#7201a8\"],[0.3333333333333333,\"#9c179e\"],[0.4444444444444444,\"#bd3786\"],[0.5555555555555556,\"#d8576b\"],[0.6666666666666666,\"#ed7953\"],[0.7777777777777778,\"#fb9f3a\"],[0.8888888888888888,\"#fdca26\"],[1.0,\"#f0f921\"]],\"type\":\"histogram2dcontour\"}],\"histogram2d\":[{\"colorbar\":{\"outlinewidth\":0,\"ticks\":\"\"},\"colorscale\":[[0.0,\"#0d0887\"],[0.1111111111111111,\"#46039f\"],[0.2222222222222222,\"#7201a8\"],[0.3333333333333333,\"#9c179e\"],[0.4444444444444444,\"#bd3786\"],[0.5555555555555556,\"#d8576b\"],[0.6666666666666666,\"#ed7953\"],[0.7777777777777778,\"#fb9f3a\"],[0.8888888888888888,\"#fdca26\"],[1.0,\"#f0f921\"]],\"type\":\"histogram2d\"}],\"histogram\":[{\"marker\":{\"pattern\":{\"fillmode\":\"overlay\",\"size\":10,\"solidity\":0.2}},\"type\":\"histogram\"}],\"mesh3d\":[{\"colorbar\":{\"outlinewidth\":0,\"ticks\":\"\"},\"type\":\"mesh3d\"}],\"parcoords\":[{\"line\":{\"colorbar\":{\"outlinewidth\":0,\"ticks\":\"\"}},\"type\":\"parcoords\"}],\"pie\":[{\"automargin\":true,\"type\":\"pie\"}],\"scatter3d\":[{\"line\":{\"colorbar\":{\"outlinewidth\":0,\"ticks\":\"\"}},\"marker\":{\"colorbar\":{\"outlinewidth\":0,\"ticks\":\"\"}},\"type\":\"scatter3d\"}],\"scattercarpet\":[{\"marker\":{\"colorbar\":{\"outlinewidth\":0,\"ticks\":\"\"}},\"type\":\"scattercarpet\"}],\"scattergeo\":[{\"marker\":{\"colorbar\":{\"outlinewidth\":0,\"ticks\":\"\"}},\"type\":\"scattergeo\"}],\"scattergl\":[{\"marker\":{\"line\":{\"color\":\"#283442\"}},\"type\":\"scattergl\"}],\"scattermapbox\":[{\"marker\":{\"colorbar\":{\"outlinewidth\":0,\"ticks\":\"\"}},\"type\":\"scattermapbox\"}],\"scatterpolargl\":[{\"marker\":{\"colorbar\":{\"outlinewidth\":0,\"ticks\":\"\"}},\"type\":\"scatterpolargl\"}],\"scatterpolar\":[{\"marker\":{\"colorbar\":{\"outlinewidth\":0,\"ticks\":\"\"}},\"type\":\"scatterpolar\"}],\"scatter\":[{\"marker\":{\"line\":{\"color\":\"#283442\"}},\"type\":\"scatter\"}],\"scatterternary\":[{\"marker\":{\"colorbar\":{\"outlinewidth\":0,\"ticks\":\"\"}},\"type\":\"scatterternary\"}],\"surface\":[{\"colorbar\":{\"outlinewidth\":0,\"ticks\":\"\"},\"colorscale\":[[0.0,\"#0d0887\"],[0.1111111111111111,\"#46039f\"],[0.2222222222222222,\"#7201a8\"],[0.3333333333333333,\"#9c179e\"],[0.4444444444444444,\"#bd3786\"],[0.5555555555555556,\"#d8576b\"],[0.6666666666666666,\"#ed7953\"],[0.7777777777777778,\"#fb9f3a\"],[0.8888888888888888,\"#fdca26\"],[1.0,\"#f0f921\"]],\"type\":\"surface\"}],\"table\":[{\"cells\":{\"fill\":{\"color\":\"#506784\"},\"line\":{\"color\":\"rgb(17,17,17)\"}},\"header\":{\"fill\":{\"color\":\"#2a3f5f\"},\"line\":{\"color\":\"rgb(17,17,17)\"}},\"type\":\"table\"}]},\"layout\":{\"annotationdefaults\":{\"arrowcolor\":\"#f2f5fa\",\"arrowhead\":0,\"arrowwidth\":1},\"autotypenumbers\":\"strict\",\"coloraxis\":{\"colorbar\":{\"outlinewidth\":0,\"ticks\":\"\"}},\"colorscale\":{\"diverging\":[[0,\"#8e0152\"],[0.1,\"#c51b7d\"],[0.2,\"#de77ae\"],[0.3,\"#f1b6da\"],[0.4,\"#fde0ef\"],[0.5,\"#f7f7f7\"],[0.6,\"#e6f5d0\"],[0.7,\"#b8e186\"],[0.8,\"#7fbc41\"],[0.9,\"#4d9221\"],[1,\"#276419\"]],\"sequential\":[[0.0,\"#0d0887\"],[0.1111111111111111,\"#46039f\"],[0.2222222222222222,\"#7201a8\"],[0.3333333333333333,\"#9c179e\"],[0.4444444444444444,\"#bd3786\"],[0.5555555555555556,\"#d8576b\"],[0.6666666666666666,\"#ed7953\"],[0.7777777777777778,\"#fb9f3a\"],[0.8888888888888888,\"#fdca26\"],[1.0,\"#f0f921\"]],\"sequentialminus\":[[0.0,\"#0d0887\"],[0.1111111111111111,\"#46039f\"],[0.2222222222222222,\"#7201a8\"],[0.3333333333333333,\"#9c179e\"],[0.4444444444444444,\"#bd3786\"],[0.5555555555555556,\"#d8576b\"],[0.6666666666666666,\"#ed7953\"],[0.7777777777777778,\"#fb9f3a\"],[0.8888888888888888,\"#fdca26\"],[1.0,\"#f0f921\"]]},\"colorway\":[\"#636efa\",\"#EF553B\",\"#00cc96\",\"#ab63fa\",\"#FFA15A\",\"#19d3f3\",\"#FF6692\",\"#B6E880\",\"#FF97FF\",\"#FECB52\"],\"font\":{\"color\":\"white\",\"size\":13},\"geo\":{\"bgcolor\":\"rgb(17,17,17)\",\"lakecolor\":\"rgb(17,17,17)\",\"landcolor\":\"rgb(17,17,17)\",\"showlakes\":true,\"showland\":true,\"subunitcolor\":\"#506784\"},\"hoverlabel\":{\"align\":\"left\"},\"hovermode\":\"closest\",\"mapbox\":{\"style\":\"dark\"},\"margin\":{\"b\":10,\"l\":10,\"r\":10,\"t\":10},\"paper_bgcolor\":\"rgba(0,0,0,0)\",\"plot_bgcolor\":\"rgb(17,17,17)\",\"polar\":{\"angularaxis\":{\"gridcolor\":\"#506784\",\"linecolor\":\"#506784\",\"ticks\":\"\"},\"bgcolor\":\"rgb(17,17,17)\",\"radialaxis\":{\"gridcolor\":\"#506784\",\"linecolor\":\"#506784\",\"ticks\":\"\"}},\"scene\":{\"xaxis\":{\"backgroundcolor\":\"rgb(17,17,17)\",\"gridcolor\":\"#506784\",\"gridwidth\":2,\"linecolor\":\"#506784\",\"showbackground\":true,\"ticks\":\"\",\"zerolinecolor\":\"#C8D4E3\"},\"yaxis\":{\"backgroundcolor\":\"rgb(17,17,17)\",\"gridcolor\":\"#506784\",\"gridwidth\":2,\"linecolor\":\"#506784\",\"showbackground\":true,\"ticks\":\"\",\"zerolinecolor\":\"#C8D4E3\"},\"zaxis\":{\"backgroundcolor\":\"rgb(17,17,17)\",\"gridcolor\":\"#506784\",\"gridwidth\":2,\"linecolor\":\"#506784\",\"showbackground\":true,\"ticks\":\"\",\"zerolinecolor\":\"#C8D4E3\"}},\"shapedefaults\":{\"line\":{\"color\":\"#f2f5fa\"}},\"sliderdefaults\":{\"bgcolor\":\"#C8D4E3\",\"bordercolor\":\"rgb(17,17,17)\",\"borderwidth\":1,\"tickwidth\":0},\"ternary\":{\"aaxis\":{\"gridcolor\":\"#506784\",\"linecolor\":\"#506784\",\"ticks\":\"\"},\"baxis\":{\"gridcolor\":\"#506784\",\"linecolor\":\"#506784\",\"ticks\":\"\"},\"bgcolor\":\"rgb(17,17,17)\",\"caxis\":{\"gridcolor\":\"#506784\",\"linecolor\":\"#506784\",\"ticks\":\"\"}},\"title\":{\"x\":0.05},\"updatemenudefaults\":{\"bgcolor\":\"#506784\",\"borderwidth\":0},\"xaxis\":{\"automargin\":true,\"gridcolor\":\"darkgray\",\"linecolor\":\"white\",\"linewidth\":1,\"mirror\":true,\"showgrid\":true,\"showline\":true,\"ticks\":\"outside\",\"title\":{\"standoff\":15},\"zeroline\":true,\"zerolinecolor\":\"#283442\",\"zerolinewidth\":2},\"yaxis\":{\"automargin\":true,\"gridcolor\":\"darkgray\",\"linecolor\":\"white\",\"linewidth\":1,\"mirror\":true,\"showgrid\":true,\"showline\":true,\"ticks\":\"outside\",\"title\":{\"standoff\":15},\"zeroline\":true,\"zerolinecolor\":\"#283442\",\"zerolinewidth\":2},\"legend\":{\"bgcolor\":\"rgba(0, 0, 0, 0)\",\"itemsizing\":\"constant\"}}},\"xaxis\":{\"anchor\":\"y\",\"domain\":[0.0,0.2888888888888889],\"title\":{\"text\":\"\"},\"tickangle\":75,\"showgrid\":true,\"gridcolor\":\"lightgray\"},\"yaxis\":{\"anchor\":\"x\",\"domain\":[0.0,1.0],\"range\":[0.03,0.04490164230543399],\"showgrid\":true,\"gridcolor\":\"lightgray\"},\"xaxis2\":{\"anchor\":\"y2\",\"domain\":[0.35555555555555557,0.6444444444444445],\"title\":{\"text\":\"\"},\"tickangle\":75,\"showgrid\":true,\"gridcolor\":\"lightgray\"},\"yaxis2\":{\"anchor\":\"x2\",\"domain\":[0.0,1.0],\"range\":[4.0,5.305385517475171],\"showgrid\":true,\"gridcolor\":\"lightgray\"},\"xaxis3\":{\"anchor\":\"y3\",\"domain\":[0.7111111111111111,1.0],\"title\":{\"text\":\"\"},\"tickangle\":75,\"showgrid\":true,\"gridcolor\":\"lightgray\"},\"yaxis3\":{\"anchor\":\"x3\",\"domain\":[0.0,1.0],\"range\":[0.65,0.801],\"showgrid\":true,\"gridcolor\":\"lightgray\"},\"annotations\":[{\"font\":{\"size\":16},\"showarrow\":false,\"text\":\"MAE\",\"x\":0.14444444444444446,\"xanchor\":\"center\",\"xref\":\"paper\",\"y\":1.0,\"yanchor\":\"bottom\",\"yref\":\"paper\"},{\"font\":{\"size\":16},\"showarrow\":false,\"text\":\"DAF\",\"x\":0.5,\"xanchor\":\"center\",\"xref\":\"paper\",\"y\":1.0,\"yanchor\":\"bottom\",\"yref\":\"paper\"},{\"font\":{\"size\":16},\"showarrow\":false,\"text\":\"F1\",\"x\":0.8555555555555556,\"xanchor\":\"center\",\"xref\":\"paper\",\"y\":1.0,\"yanchor\":\"bottom\",\"yref\":\"paper\"}],\"legend\":{\"orientation\":\"h\",\"yanchor\":\"bottom\",\"y\":1.15,\"xanchor\":\"center\",\"x\":0.5},\"font\":{\"color\":\"gray\"},\"height\":400,\"width\":1000,\"barmode\":\"group\",\"plot_bgcolor\":\"rgba(0,0,0,0)\",\"paper_bgcolor\":\"rgba(0,0,0,0)\"},                        {\"responsive\": true}                    ).then(function(){\n",
       "                            \n",
       "var gd = document.getElementById('c9781a1e-fdfd-4618-8242-b9aa3f0ec953');\n",
       "var x = new MutationObserver(function (mutations, observer) {{\n",
       "        var display = window.getComputedStyle(gd).display;\n",
       "        if (!display || display === 'none') {{\n",
       "            console.log([gd, 'removed!']);\n",
       "            Plotly.purge(gd);\n",
       "            observer.disconnect();\n",
       "        }}\n",
       "}});\n",
       "\n",
       "// Listen for the removal of the full notebook cells\n",
       "var notebookContainer = gd.closest('#notebook-container');\n",
       "if (notebookContainer) {{\n",
       "    x.observe(notebookContainer, {childList: true});\n",
       "}}\n",
       "\n",
       "// Listen for the clearing of the current output cell\n",
       "var outputEl = gd.closest('.output');\n",
       "if (outputEl) {{\n",
       "    x.observe(outputEl, {childList: true});\n",
       "}}\n",
       "\n",
       "                        })                };                });            </script>        </div>"
      ]
     },
     "metadata": {},
     "output_type": "display_data"
    }
   ],
   "source": [
    "# | output: false\n",
    "# | echo: false\n",
    "\n",
    "import plotly.express as px\n",
    "import plotly.graph_objects as go\n",
    "from plotly.subplots import make_subplots\n",
    "\n",
    "\n",
    "def plot_metrics_plotly(df: pd.DataFrame, title: str | None = None):\n",
    "    # Create subplots\n",
    "    fig = make_subplots(\n",
    "        rows=1, cols=3, subplot_titles=(\"MAE\", \"DAF\", \"F1\"), shared_yaxes=False\n",
    "    )\n",
    "\n",
    "    # Get a color sequence that works well on both light and dark backgrounds\n",
    "    colors = px.colors.qualitative.Safe\n",
    "\n",
    "    # Define y-axis ranges\n",
    "    y_ranges = {\"MAE\": [0.03, None], \"DAF\": [4.0, None], \"F1\": [0.65, 0.801]}\n",
    "\n",
    "    # Create barplots for each metric\n",
    "    for j, energy_type in enumerate(df[\"energy_type\"].unique()):\n",
    "        for i, metric in enumerate([\"MAE\", \"DAF\", \"F1\"], start=1):\n",
    "            df_filtered = df[df[\"energy_type\"] == energy_type]\n",
    "            fig.add_trace(\n",
    "                go.Bar(\n",
    "                    x=df_filtered[\"name\"],\n",
    "                    y=df_filtered[metric],\n",
    "                    name=energy_type,\n",
    "                    marker_color=colors[j % len(colors)],  # Cycle through colors\n",
    "                    legendgroup=energy_type,  # Group bars by energy type\n",
    "                    showlegend=(i == 1),  # Only show legend for the first plot\n",
    "                    hoverinfo=\"y\",  # Only show y-value in hover\n",
    "                    hovertemplate=\"%{y:.4f}<extra></extra>\",  # Format to 4 decimal places\n",
    "                ),\n",
    "                row=1,\n",
    "                col=i,\n",
    "            )\n",
    "\n",
    "            # Set y-axis range for this metric\n",
    "            y_min, y_max = y_ranges[metric]\n",
    "            if y_max is None:\n",
    "                y_max = df[metric].max() * 1.1  # Add 10% padding\n",
    "            fig.update_yaxes(range=[y_min, y_max], row=1, col=i)\n",
    "\n",
    "    # Update layout\n",
    "    fig.update_layout(\n",
    "        height=400,\n",
    "        width=1000,\n",
    "        title_text=title,\n",
    "        barmode=\"group\",\n",
    "        legend=dict(orientation=\"h\", yanchor=\"bottom\", y=1.15, xanchor=\"center\", x=0.5),\n",
    "        plot_bgcolor=\"rgba(0,0,0,0)\",  # Transparent background\n",
    "        paper_bgcolor=\"rgba(0,0,0,0)\",  # Transparent paper\n",
    "        font=dict(\n",
    "            color=\"gray\"\n",
    "        ),  # Gray font color for better visibility on any background\n",
    "    )\n",
    "\n",
    "    # Update x-axis properties\n",
    "    for i in range(1, 4):\n",
    "        fig.update_xaxes(\n",
    "            tickangle=75,\n",
    "            title_text=\"\",\n",
    "            row=1,\n",
    "            col=i,\n",
    "            showgrid=True,\n",
    "            gridcolor=\"lightgray\",\n",
    "        )\n",
    "\n",
    "    # Update y-axis properties\n",
    "    for i, metric in enumerate([\"MAE\", \"DAF\", \"F1\"], start=1):\n",
    "        fig.update_yaxes(showgrid=True, gridcolor=\"lightgray\", row=1, col=i)\n",
    "\n",
    "    # Show the plot\n",
    "    fig.show()\n",
    "\n",
    "\n",
    "# Usage\n",
    "plot_metrics_plotly(df_new)"
   ]
  },
  {
   "cell_type": "code",
   "execution_count": 5,
   "metadata": {},
   "outputs": [
    {
     "data": {
      "application/vnd.plotly.v1+json": {
       "config": {
        "plotlyServerURL": "https://plot.ly"
       },
       "data": [
        {
         "hoverinfo": "y",
         "hovertemplate": "%{y:.4f}<extra></extra>",
         "legendgroup": "s2e",
         "marker": {
          "color": "rgb(136, 204, 238)"
         },
         "name": "s2e",
         "showlegend": true,
         "type": "bar",
         "x": [
          "base",
          "ec20_fc20_sc10",
          "ec100_fc100_sc1",
          "ec1_fc100_sc1"
         ],
         "xaxis": "x",
         "y": [
          0.035932278009769544,
          0.03866454409088234,
          0.03965442618387631,
          0.040631254500527667
         ],
         "yaxis": "y"
        },
        {
         "hoverinfo": "y",
         "hovertemplate": "%{y:.4f}<extra></extra>",
         "legendgroup": "s2e",
         "marker": {
          "color": "rgb(136, 204, 238)"
         },
         "name": "s2e",
         "showlegend": false,
         "type": "bar",
         "x": [
          "base",
          "ec20_fc20_sc10",
          "ec100_fc100_sc1",
          "ec1_fc100_sc1"
         ],
         "xaxis": "x2",
         "y": [
          4.666613014957781,
          4.728683773408046,
          4.603513270247243,
          4.563707667954772
         ],
         "yaxis": "y2"
        },
        {
         "hoverinfo": "y",
         "hovertemplate": "%{y:.4f}<extra></extra>",
         "legendgroup": "s2e",
         "marker": {
          "color": "rgb(136, 204, 238)"
         },
         "name": "s2e",
         "showlegend": false,
         "type": "bar",
         "x": [
          "base",
          "ec20_fc20_sc10",
          "ec100_fc100_sc1",
          "ec1_fc100_sc1"
         ],
         "xaxis": "x3",
         "y": [
          0.7847826086956521,
          0.7616521409624858,
          0.7684441197954711,
          0.7496285289747399
         ],
         "yaxis": "y3"
        },
        {
         "hoverinfo": "y",
         "hovertemplate": "%{y:.4f}<extra></extra>",
         "legendgroup": "s2re",
         "marker": {
          "color": "rgb(204, 102, 119)"
         },
         "name": "s2re",
         "showlegend": true,
         "type": "bar",
         "x": [
          "base",
          "ec20_fc20_sc10",
          "ec100_fc100_sc1",
          "ec1_fc100_sc1"
         ],
         "xaxis": "x",
         "y": [
          0.036932333812608895,
          0.03880832061311763,
          0.03955773503365463,
          0.04081967482312181
         ],
         "yaxis": "y"
        },
        {
         "hoverinfo": "y",
         "hovertemplate": "%{y:.4f}<extra></extra>",
         "legendgroup": "s2re",
         "marker": {
          "color": "rgb(204, 102, 119)"
         },
         "name": "s2re",
         "showlegend": false,
         "type": "bar",
         "x": [
          "base",
          "ec20_fc20_sc10",
          "ec100_fc100_sc1",
          "ec1_fc100_sc1"
         ],
         "xaxis": "x2",
         "y": [
          4.386156079108946,
          4.591307469966827,
          4.412303965000275,
          4.231259675254785
         ],
         "yaxis": "y2"
        },
        {
         "hoverinfo": "y",
         "hovertemplate": "%{y:.4f}<extra></extra>",
         "legendgroup": "s2re",
         "marker": {
          "color": "rgb(204, 102, 119)"
         },
         "name": "s2re",
         "showlegend": false,
         "type": "bar",
         "x": [
          "base",
          "ec20_fc20_sc10",
          "ec100_fc100_sc1",
          "ec1_fc100_sc1"
         ],
         "xaxis": "x3",
         "y": [
          0.7681660899653978,
          0.7573964497041419,
          0.7596187786798446,
          0.7304714989444054
         ],
         "yaxis": "y3"
        }
       ],
       "layout": {
        "annotations": [
         {
          "font": {
           "size": 16
          },
          "showarrow": false,
          "text": "MAE",
          "x": 0.14444444444444446,
          "xanchor": "center",
          "xref": "paper",
          "y": 1,
          "yanchor": "bottom",
          "yref": "paper"
         },
         {
          "font": {
           "size": 16
          },
          "showarrow": false,
          "text": "DAF",
          "x": 0.5,
          "xanchor": "center",
          "xref": "paper",
          "y": 1,
          "yanchor": "bottom",
          "yref": "paper"
         },
         {
          "font": {
           "size": 16
          },
          "showarrow": false,
          "text": "F1",
          "x": 0.8555555555555556,
          "xanchor": "center",
          "xref": "paper",
          "y": 1,
          "yanchor": "bottom",
          "yref": "paper"
         }
        ],
        "barmode": "group",
        "font": {
         "color": "gray"
        },
        "height": 400,
        "legend": {
         "orientation": "h",
         "x": 0.5,
         "xanchor": "center",
         "y": 1.15,
         "yanchor": "bottom"
        },
        "paper_bgcolor": "rgba(0,0,0,0)",
        "plot_bgcolor": "rgba(0,0,0,0)",
        "template": {
         "data": {
          "bar": [
           {
            "error_x": {
             "color": "#f2f5fa"
            },
            "error_y": {
             "color": "#f2f5fa"
            },
            "marker": {
             "line": {
              "color": "rgb(17,17,17)",
              "width": 0.5
             },
             "pattern": {
              "fillmode": "overlay",
              "size": 10,
              "solidity": 0.2
             }
            },
            "type": "bar"
           }
          ],
          "barpolar": [
           {
            "marker": {
             "line": {
              "color": "rgb(17,17,17)",
              "width": 0.5
             },
             "pattern": {
              "fillmode": "overlay",
              "size": 10,
              "solidity": 0.2
             }
            },
            "type": "barpolar"
           }
          ],
          "carpet": [
           {
            "aaxis": {
             "endlinecolor": "#A2B1C6",
             "gridcolor": "#506784",
             "linecolor": "#506784",
             "minorgridcolor": "#506784",
             "startlinecolor": "#A2B1C6"
            },
            "baxis": {
             "endlinecolor": "#A2B1C6",
             "gridcolor": "#506784",
             "linecolor": "#506784",
             "minorgridcolor": "#506784",
             "startlinecolor": "#A2B1C6"
            },
            "type": "carpet"
           }
          ],
          "choropleth": [
           {
            "colorbar": {
             "outlinewidth": 0,
             "ticks": ""
            },
            "type": "choropleth"
           }
          ],
          "contour": [
           {
            "colorbar": {
             "outlinewidth": 0,
             "ticks": ""
            },
            "colorscale": [
             [
              0,
              "#0d0887"
             ],
             [
              0.1111111111111111,
              "#46039f"
             ],
             [
              0.2222222222222222,
              "#7201a8"
             ],
             [
              0.3333333333333333,
              "#9c179e"
             ],
             [
              0.4444444444444444,
              "#bd3786"
             ],
             [
              0.5555555555555556,
              "#d8576b"
             ],
             [
              0.6666666666666666,
              "#ed7953"
             ],
             [
              0.7777777777777778,
              "#fb9f3a"
             ],
             [
              0.8888888888888888,
              "#fdca26"
             ],
             [
              1,
              "#f0f921"
             ]
            ],
            "type": "contour"
           }
          ],
          "contourcarpet": [
           {
            "colorbar": {
             "outlinewidth": 0,
             "ticks": ""
            },
            "type": "contourcarpet"
           }
          ],
          "heatmap": [
           {
            "colorbar": {
             "outlinewidth": 0,
             "ticks": ""
            },
            "colorscale": [
             [
              0,
              "#0d0887"
             ],
             [
              0.1111111111111111,
              "#46039f"
             ],
             [
              0.2222222222222222,
              "#7201a8"
             ],
             [
              0.3333333333333333,
              "#9c179e"
             ],
             [
              0.4444444444444444,
              "#bd3786"
             ],
             [
              0.5555555555555556,
              "#d8576b"
             ],
             [
              0.6666666666666666,
              "#ed7953"
             ],
             [
              0.7777777777777778,
              "#fb9f3a"
             ],
             [
              0.8888888888888888,
              "#fdca26"
             ],
             [
              1,
              "#f0f921"
             ]
            ],
            "type": "heatmap"
           }
          ],
          "heatmapgl": [
           {
            "colorbar": {
             "outlinewidth": 0,
             "ticks": ""
            },
            "colorscale": [
             [
              0,
              "#0d0887"
             ],
             [
              0.1111111111111111,
              "#46039f"
             ],
             [
              0.2222222222222222,
              "#7201a8"
             ],
             [
              0.3333333333333333,
              "#9c179e"
             ],
             [
              0.4444444444444444,
              "#bd3786"
             ],
             [
              0.5555555555555556,
              "#d8576b"
             ],
             [
              0.6666666666666666,
              "#ed7953"
             ],
             [
              0.7777777777777778,
              "#fb9f3a"
             ],
             [
              0.8888888888888888,
              "#fdca26"
             ],
             [
              1,
              "#f0f921"
             ]
            ],
            "type": "heatmapgl"
           }
          ],
          "histogram": [
           {
            "marker": {
             "pattern": {
              "fillmode": "overlay",
              "size": 10,
              "solidity": 0.2
             }
            },
            "type": "histogram"
           }
          ],
          "histogram2d": [
           {
            "colorbar": {
             "outlinewidth": 0,
             "ticks": ""
            },
            "colorscale": [
             [
              0,
              "#0d0887"
             ],
             [
              0.1111111111111111,
              "#46039f"
             ],
             [
              0.2222222222222222,
              "#7201a8"
             ],
             [
              0.3333333333333333,
              "#9c179e"
             ],
             [
              0.4444444444444444,
              "#bd3786"
             ],
             [
              0.5555555555555556,
              "#d8576b"
             ],
             [
              0.6666666666666666,
              "#ed7953"
             ],
             [
              0.7777777777777778,
              "#fb9f3a"
             ],
             [
              0.8888888888888888,
              "#fdca26"
             ],
             [
              1,
              "#f0f921"
             ]
            ],
            "type": "histogram2d"
           }
          ],
          "histogram2dcontour": [
           {
            "colorbar": {
             "outlinewidth": 0,
             "ticks": ""
            },
            "colorscale": [
             [
              0,
              "#0d0887"
             ],
             [
              0.1111111111111111,
              "#46039f"
             ],
             [
              0.2222222222222222,
              "#7201a8"
             ],
             [
              0.3333333333333333,
              "#9c179e"
             ],
             [
              0.4444444444444444,
              "#bd3786"
             ],
             [
              0.5555555555555556,
              "#d8576b"
             ],
             [
              0.6666666666666666,
              "#ed7953"
             ],
             [
              0.7777777777777778,
              "#fb9f3a"
             ],
             [
              0.8888888888888888,
              "#fdca26"
             ],
             [
              1,
              "#f0f921"
             ]
            ],
            "type": "histogram2dcontour"
           }
          ],
          "mesh3d": [
           {
            "colorbar": {
             "outlinewidth": 0,
             "ticks": ""
            },
            "type": "mesh3d"
           }
          ],
          "parcoords": [
           {
            "line": {
             "colorbar": {
              "outlinewidth": 0,
              "ticks": ""
             }
            },
            "type": "parcoords"
           }
          ],
          "pie": [
           {
            "automargin": true,
            "type": "pie"
           }
          ],
          "scatter": [
           {
            "marker": {
             "line": {
              "color": "#283442"
             }
            },
            "type": "scatter"
           }
          ],
          "scatter3d": [
           {
            "line": {
             "colorbar": {
              "outlinewidth": 0,
              "ticks": ""
             }
            },
            "marker": {
             "colorbar": {
              "outlinewidth": 0,
              "ticks": ""
             }
            },
            "type": "scatter3d"
           }
          ],
          "scattercarpet": [
           {
            "marker": {
             "colorbar": {
              "outlinewidth": 0,
              "ticks": ""
             }
            },
            "type": "scattercarpet"
           }
          ],
          "scattergeo": [
           {
            "marker": {
             "colorbar": {
              "outlinewidth": 0,
              "ticks": ""
             }
            },
            "type": "scattergeo"
           }
          ],
          "scattergl": [
           {
            "marker": {
             "line": {
              "color": "#283442"
             }
            },
            "type": "scattergl"
           }
          ],
          "scattermapbox": [
           {
            "marker": {
             "colorbar": {
              "outlinewidth": 0,
              "ticks": ""
             }
            },
            "type": "scattermapbox"
           }
          ],
          "scatterpolar": [
           {
            "marker": {
             "colorbar": {
              "outlinewidth": 0,
              "ticks": ""
             }
            },
            "type": "scatterpolar"
           }
          ],
          "scatterpolargl": [
           {
            "marker": {
             "colorbar": {
              "outlinewidth": 0,
              "ticks": ""
             }
            },
            "type": "scatterpolargl"
           }
          ],
          "scatterternary": [
           {
            "marker": {
             "colorbar": {
              "outlinewidth": 0,
              "ticks": ""
             }
            },
            "type": "scatterternary"
           }
          ],
          "surface": [
           {
            "colorbar": {
             "outlinewidth": 0,
             "ticks": ""
            },
            "colorscale": [
             [
              0,
              "#0d0887"
             ],
             [
              0.1111111111111111,
              "#46039f"
             ],
             [
              0.2222222222222222,
              "#7201a8"
             ],
             [
              0.3333333333333333,
              "#9c179e"
             ],
             [
              0.4444444444444444,
              "#bd3786"
             ],
             [
              0.5555555555555556,
              "#d8576b"
             ],
             [
              0.6666666666666666,
              "#ed7953"
             ],
             [
              0.7777777777777778,
              "#fb9f3a"
             ],
             [
              0.8888888888888888,
              "#fdca26"
             ],
             [
              1,
              "#f0f921"
             ]
            ],
            "type": "surface"
           }
          ],
          "table": [
           {
            "cells": {
             "fill": {
              "color": "#506784"
             },
             "line": {
              "color": "rgb(17,17,17)"
             }
            },
            "header": {
             "fill": {
              "color": "#2a3f5f"
             },
             "line": {
              "color": "rgb(17,17,17)"
             }
            },
            "type": "table"
           }
          ]
         },
         "layout": {
          "annotationdefaults": {
           "arrowcolor": "#f2f5fa",
           "arrowhead": 0,
           "arrowwidth": 1
          },
          "autotypenumbers": "strict",
          "coloraxis": {
           "colorbar": {
            "outlinewidth": 0,
            "ticks": ""
           }
          },
          "colorscale": {
           "diverging": [
            [
             0,
             "#8e0152"
            ],
            [
             0.1,
             "#c51b7d"
            ],
            [
             0.2,
             "#de77ae"
            ],
            [
             0.3,
             "#f1b6da"
            ],
            [
             0.4,
             "#fde0ef"
            ],
            [
             0.5,
             "#f7f7f7"
            ],
            [
             0.6,
             "#e6f5d0"
            ],
            [
             0.7,
             "#b8e186"
            ],
            [
             0.8,
             "#7fbc41"
            ],
            [
             0.9,
             "#4d9221"
            ],
            [
             1,
             "#276419"
            ]
           ],
           "sequential": [
            [
             0,
             "#0d0887"
            ],
            [
             0.1111111111111111,
             "#46039f"
            ],
            [
             0.2222222222222222,
             "#7201a8"
            ],
            [
             0.3333333333333333,
             "#9c179e"
            ],
            [
             0.4444444444444444,
             "#bd3786"
            ],
            [
             0.5555555555555556,
             "#d8576b"
            ],
            [
             0.6666666666666666,
             "#ed7953"
            ],
            [
             0.7777777777777778,
             "#fb9f3a"
            ],
            [
             0.8888888888888888,
             "#fdca26"
            ],
            [
             1,
             "#f0f921"
            ]
           ],
           "sequentialminus": [
            [
             0,
             "#0d0887"
            ],
            [
             0.1111111111111111,
             "#46039f"
            ],
            [
             0.2222222222222222,
             "#7201a8"
            ],
            [
             0.3333333333333333,
             "#9c179e"
            ],
            [
             0.4444444444444444,
             "#bd3786"
            ],
            [
             0.5555555555555556,
             "#d8576b"
            ],
            [
             0.6666666666666666,
             "#ed7953"
            ],
            [
             0.7777777777777778,
             "#fb9f3a"
            ],
            [
             0.8888888888888888,
             "#fdca26"
            ],
            [
             1,
             "#f0f921"
            ]
           ]
          },
          "colorway": [
           "#636efa",
           "#EF553B",
           "#00cc96",
           "#ab63fa",
           "#FFA15A",
           "#19d3f3",
           "#FF6692",
           "#B6E880",
           "#FF97FF",
           "#FECB52"
          ],
          "font": {
           "color": "white",
           "size": 13
          },
          "geo": {
           "bgcolor": "rgb(17,17,17)",
           "lakecolor": "rgb(17,17,17)",
           "landcolor": "rgb(17,17,17)",
           "showlakes": true,
           "showland": true,
           "subunitcolor": "#506784"
          },
          "hoverlabel": {
           "align": "left"
          },
          "hovermode": "closest",
          "legend": {
           "bgcolor": "rgba(0, 0, 0, 0)",
           "itemsizing": "constant"
          },
          "mapbox": {
           "style": "dark"
          },
          "margin": {
           "b": 10,
           "l": 10,
           "r": 10,
           "t": 10
          },
          "paper_bgcolor": "rgba(0,0,0,0)",
          "plot_bgcolor": "rgb(17,17,17)",
          "polar": {
           "angularaxis": {
            "gridcolor": "#506784",
            "linecolor": "#506784",
            "ticks": ""
           },
           "bgcolor": "rgb(17,17,17)",
           "radialaxis": {
            "gridcolor": "#506784",
            "linecolor": "#506784",
            "ticks": ""
           }
          },
          "scene": {
           "xaxis": {
            "backgroundcolor": "rgb(17,17,17)",
            "gridcolor": "#506784",
            "gridwidth": 2,
            "linecolor": "#506784",
            "showbackground": true,
            "ticks": "",
            "zerolinecolor": "#C8D4E3"
           },
           "yaxis": {
            "backgroundcolor": "rgb(17,17,17)",
            "gridcolor": "#506784",
            "gridwidth": 2,
            "linecolor": "#506784",
            "showbackground": true,
            "ticks": "",
            "zerolinecolor": "#C8D4E3"
           },
           "zaxis": {
            "backgroundcolor": "rgb(17,17,17)",
            "gridcolor": "#506784",
            "gridwidth": 2,
            "linecolor": "#506784",
            "showbackground": true,
            "ticks": "",
            "zerolinecolor": "#C8D4E3"
           }
          },
          "shapedefaults": {
           "line": {
            "color": "#f2f5fa"
           }
          },
          "sliderdefaults": {
           "bgcolor": "#C8D4E3",
           "bordercolor": "rgb(17,17,17)",
           "borderwidth": 1,
           "tickwidth": 0
          },
          "ternary": {
           "aaxis": {
            "gridcolor": "#506784",
            "linecolor": "#506784",
            "ticks": ""
           },
           "baxis": {
            "gridcolor": "#506784",
            "linecolor": "#506784",
            "ticks": ""
           },
           "bgcolor": "rgb(17,17,17)",
           "caxis": {
            "gridcolor": "#506784",
            "linecolor": "#506784",
            "ticks": ""
           }
          },
          "title": {
           "x": 0.05
          },
          "updatemenudefaults": {
           "bgcolor": "#506784",
           "borderwidth": 0
          },
          "xaxis": {
           "automargin": true,
           "gridcolor": "darkgray",
           "linecolor": "white",
           "linewidth": 1,
           "mirror": true,
           "showgrid": true,
           "showline": true,
           "ticks": "outside",
           "title": {
            "standoff": 15
           },
           "zeroline": true,
           "zerolinecolor": "#283442",
           "zerolinewidth": 2
          },
          "yaxis": {
           "automargin": true,
           "gridcolor": "darkgray",
           "linecolor": "white",
           "linewidth": 1,
           "mirror": true,
           "showgrid": true,
           "showline": true,
           "ticks": "outside",
           "title": {
            "standoff": 15
           },
           "zeroline": true,
           "zerolinecolor": "#283442",
           "zerolinewidth": 2
          }
         }
        },
        "title": {
         "text": "Loss Coefficient Ablations"
        },
        "width": 1000,
        "xaxis": {
         "anchor": "y",
         "domain": [
          0,
          0.2888888888888889
         ],
         "gridcolor": "lightgray",
         "showgrid": true,
         "tickangle": 75,
         "title": {
          "text": ""
         }
        },
        "xaxis2": {
         "anchor": "y2",
         "domain": [
          0.35555555555555557,
          0.6444444444444445
         ],
         "gridcolor": "lightgray",
         "showgrid": true,
         "tickangle": 75,
         "title": {
          "text": ""
         }
        },
        "xaxis3": {
         "anchor": "y3",
         "domain": [
          0.7111111111111111,
          1
         ],
         "gridcolor": "lightgray",
         "showgrid": true,
         "tickangle": 75,
         "title": {
          "text": ""
         }
        },
        "yaxis": {
         "anchor": "x",
         "domain": [
          0,
          1
         ],
         "gridcolor": "lightgray",
         "range": [
          0.03,
          0.04490164230543399
         ],
         "showgrid": true
        },
        "yaxis2": {
         "anchor": "x2",
         "domain": [
          0,
          1
         ],
         "gridcolor": "lightgray",
         "range": [
          4,
          5.201552150748851
         ],
         "showgrid": true
        },
        "yaxis3": {
         "anchor": "x3",
         "domain": [
          0,
          1
         ],
         "gridcolor": "lightgray",
         "range": [
          0.65,
          0.801
         ],
         "showgrid": true
        }
       }
      },
      "text/html": [
       "<div>                            <div id=\"6859cc3f-b5cc-4520-825b-51866b8b9bf3\" class=\"plotly-graph-div\" style=\"height:400px; width:1000px;\"></div>            <script type=\"text/javascript\">                require([\"plotly\"], function(Plotly) {                    window.PLOTLYENV=window.PLOTLYENV || {};                                    if (document.getElementById(\"6859cc3f-b5cc-4520-825b-51866b8b9bf3\")) {                    Plotly.newPlot(                        \"6859cc3f-b5cc-4520-825b-51866b8b9bf3\",                        [{\"hoverinfo\":\"y\",\"hovertemplate\":\"%{y:.4f}\\u003cextra\\u003e\\u003c\\u002fextra\\u003e\",\"legendgroup\":\"s2e\",\"marker\":{\"color\":\"rgb(136, 204, 238)\"},\"name\":\"s2e\",\"showlegend\":true,\"x\":[\"base\",\"ec20_fc20_sc10\",\"ec100_fc100_sc1\",\"ec1_fc100_sc1\"],\"y\":[0.035932278009769544,0.03866454409088234,0.03965442618387631,0.040631254500527667],\"type\":\"bar\",\"xaxis\":\"x\",\"yaxis\":\"y\"},{\"hoverinfo\":\"y\",\"hovertemplate\":\"%{y:.4f}\\u003cextra\\u003e\\u003c\\u002fextra\\u003e\",\"legendgroup\":\"s2e\",\"marker\":{\"color\":\"rgb(136, 204, 238)\"},\"name\":\"s2e\",\"showlegend\":false,\"x\":[\"base\",\"ec20_fc20_sc10\",\"ec100_fc100_sc1\",\"ec1_fc100_sc1\"],\"y\":[4.666613014957781,4.728683773408046,4.603513270247243,4.563707667954772],\"type\":\"bar\",\"xaxis\":\"x2\",\"yaxis\":\"y2\"},{\"hoverinfo\":\"y\",\"hovertemplate\":\"%{y:.4f}\\u003cextra\\u003e\\u003c\\u002fextra\\u003e\",\"legendgroup\":\"s2e\",\"marker\":{\"color\":\"rgb(136, 204, 238)\"},\"name\":\"s2e\",\"showlegend\":false,\"x\":[\"base\",\"ec20_fc20_sc10\",\"ec100_fc100_sc1\",\"ec1_fc100_sc1\"],\"y\":[0.7847826086956521,0.7616521409624858,0.7684441197954711,0.7496285289747399],\"type\":\"bar\",\"xaxis\":\"x3\",\"yaxis\":\"y3\"},{\"hoverinfo\":\"y\",\"hovertemplate\":\"%{y:.4f}\\u003cextra\\u003e\\u003c\\u002fextra\\u003e\",\"legendgroup\":\"s2re\",\"marker\":{\"color\":\"rgb(204, 102, 119)\"},\"name\":\"s2re\",\"showlegend\":true,\"x\":[\"base\",\"ec20_fc20_sc10\",\"ec100_fc100_sc1\",\"ec1_fc100_sc1\"],\"y\":[0.036932333812608895,0.03880832061311763,0.03955773503365463,0.04081967482312181],\"type\":\"bar\",\"xaxis\":\"x\",\"yaxis\":\"y\"},{\"hoverinfo\":\"y\",\"hovertemplate\":\"%{y:.4f}\\u003cextra\\u003e\\u003c\\u002fextra\\u003e\",\"legendgroup\":\"s2re\",\"marker\":{\"color\":\"rgb(204, 102, 119)\"},\"name\":\"s2re\",\"showlegend\":false,\"x\":[\"base\",\"ec20_fc20_sc10\",\"ec100_fc100_sc1\",\"ec1_fc100_sc1\"],\"y\":[4.386156079108946,4.591307469966827,4.412303965000275,4.231259675254785],\"type\":\"bar\",\"xaxis\":\"x2\",\"yaxis\":\"y2\"},{\"hoverinfo\":\"y\",\"hovertemplate\":\"%{y:.4f}\\u003cextra\\u003e\\u003c\\u002fextra\\u003e\",\"legendgroup\":\"s2re\",\"marker\":{\"color\":\"rgb(204, 102, 119)\"},\"name\":\"s2re\",\"showlegend\":false,\"x\":[\"base\",\"ec20_fc20_sc10\",\"ec100_fc100_sc1\",\"ec1_fc100_sc1\"],\"y\":[0.7681660899653978,0.7573964497041419,0.7596187786798446,0.7304714989444054],\"type\":\"bar\",\"xaxis\":\"x3\",\"yaxis\":\"y3\"}],                        {\"template\":{\"data\":{\"barpolar\":[{\"marker\":{\"line\":{\"color\":\"rgb(17,17,17)\",\"width\":0.5},\"pattern\":{\"fillmode\":\"overlay\",\"size\":10,\"solidity\":0.2}},\"type\":\"barpolar\"}],\"bar\":[{\"error_x\":{\"color\":\"#f2f5fa\"},\"error_y\":{\"color\":\"#f2f5fa\"},\"marker\":{\"line\":{\"color\":\"rgb(17,17,17)\",\"width\":0.5},\"pattern\":{\"fillmode\":\"overlay\",\"size\":10,\"solidity\":0.2}},\"type\":\"bar\"}],\"carpet\":[{\"aaxis\":{\"endlinecolor\":\"#A2B1C6\",\"gridcolor\":\"#506784\",\"linecolor\":\"#506784\",\"minorgridcolor\":\"#506784\",\"startlinecolor\":\"#A2B1C6\"},\"baxis\":{\"endlinecolor\":\"#A2B1C6\",\"gridcolor\":\"#506784\",\"linecolor\":\"#506784\",\"minorgridcolor\":\"#506784\",\"startlinecolor\":\"#A2B1C6\"},\"type\":\"carpet\"}],\"choropleth\":[{\"colorbar\":{\"outlinewidth\":0,\"ticks\":\"\"},\"type\":\"choropleth\"}],\"contourcarpet\":[{\"colorbar\":{\"outlinewidth\":0,\"ticks\":\"\"},\"type\":\"contourcarpet\"}],\"contour\":[{\"colorbar\":{\"outlinewidth\":0,\"ticks\":\"\"},\"colorscale\":[[0.0,\"#0d0887\"],[0.1111111111111111,\"#46039f\"],[0.2222222222222222,\"#7201a8\"],[0.3333333333333333,\"#9c179e\"],[0.4444444444444444,\"#bd3786\"],[0.5555555555555556,\"#d8576b\"],[0.6666666666666666,\"#ed7953\"],[0.7777777777777778,\"#fb9f3a\"],[0.8888888888888888,\"#fdca26\"],[1.0,\"#f0f921\"]],\"type\":\"contour\"}],\"heatmapgl\":[{\"colorbar\":{\"outlinewidth\":0,\"ticks\":\"\"},\"colorscale\":[[0.0,\"#0d0887\"],[0.1111111111111111,\"#46039f\"],[0.2222222222222222,\"#7201a8\"],[0.3333333333333333,\"#9c179e\"],[0.4444444444444444,\"#bd3786\"],[0.5555555555555556,\"#d8576b\"],[0.6666666666666666,\"#ed7953\"],[0.7777777777777778,\"#fb9f3a\"],[0.8888888888888888,\"#fdca26\"],[1.0,\"#f0f921\"]],\"type\":\"heatmapgl\"}],\"heatmap\":[{\"colorbar\":{\"outlinewidth\":0,\"ticks\":\"\"},\"colorscale\":[[0.0,\"#0d0887\"],[0.1111111111111111,\"#46039f\"],[0.2222222222222222,\"#7201a8\"],[0.3333333333333333,\"#9c179e\"],[0.4444444444444444,\"#bd3786\"],[0.5555555555555556,\"#d8576b\"],[0.6666666666666666,\"#ed7953\"],[0.7777777777777778,\"#fb9f3a\"],[0.8888888888888888,\"#fdca26\"],[1.0,\"#f0f921\"]],\"type\":\"heatmap\"}],\"histogram2dcontour\":[{\"colorbar\":{\"outlinewidth\":0,\"ticks\":\"\"},\"colorscale\":[[0.0,\"#0d0887\"],[0.1111111111111111,\"#46039f\"],[0.2222222222222222,\"#7201a8\"],[0.3333333333333333,\"#9c179e\"],[0.4444444444444444,\"#bd3786\"],[0.5555555555555556,\"#d8576b\"],[0.6666666666666666,\"#ed7953\"],[0.7777777777777778,\"#fb9f3a\"],[0.8888888888888888,\"#fdca26\"],[1.0,\"#f0f921\"]],\"type\":\"histogram2dcontour\"}],\"histogram2d\":[{\"colorbar\":{\"outlinewidth\":0,\"ticks\":\"\"},\"colorscale\":[[0.0,\"#0d0887\"],[0.1111111111111111,\"#46039f\"],[0.2222222222222222,\"#7201a8\"],[0.3333333333333333,\"#9c179e\"],[0.4444444444444444,\"#bd3786\"],[0.5555555555555556,\"#d8576b\"],[0.6666666666666666,\"#ed7953\"],[0.7777777777777778,\"#fb9f3a\"],[0.8888888888888888,\"#fdca26\"],[1.0,\"#f0f921\"]],\"type\":\"histogram2d\"}],\"histogram\":[{\"marker\":{\"pattern\":{\"fillmode\":\"overlay\",\"size\":10,\"solidity\":0.2}},\"type\":\"histogram\"}],\"mesh3d\":[{\"colorbar\":{\"outlinewidth\":0,\"ticks\":\"\"},\"type\":\"mesh3d\"}],\"parcoords\":[{\"line\":{\"colorbar\":{\"outlinewidth\":0,\"ticks\":\"\"}},\"type\":\"parcoords\"}],\"pie\":[{\"automargin\":true,\"type\":\"pie\"}],\"scatter3d\":[{\"line\":{\"colorbar\":{\"outlinewidth\":0,\"ticks\":\"\"}},\"marker\":{\"colorbar\":{\"outlinewidth\":0,\"ticks\":\"\"}},\"type\":\"scatter3d\"}],\"scattercarpet\":[{\"marker\":{\"colorbar\":{\"outlinewidth\":0,\"ticks\":\"\"}},\"type\":\"scattercarpet\"}],\"scattergeo\":[{\"marker\":{\"colorbar\":{\"outlinewidth\":0,\"ticks\":\"\"}},\"type\":\"scattergeo\"}],\"scattergl\":[{\"marker\":{\"line\":{\"color\":\"#283442\"}},\"type\":\"scattergl\"}],\"scattermapbox\":[{\"marker\":{\"colorbar\":{\"outlinewidth\":0,\"ticks\":\"\"}},\"type\":\"scattermapbox\"}],\"scatterpolargl\":[{\"marker\":{\"colorbar\":{\"outlinewidth\":0,\"ticks\":\"\"}},\"type\":\"scatterpolargl\"}],\"scatterpolar\":[{\"marker\":{\"colorbar\":{\"outlinewidth\":0,\"ticks\":\"\"}},\"type\":\"scatterpolar\"}],\"scatter\":[{\"marker\":{\"line\":{\"color\":\"#283442\"}},\"type\":\"scatter\"}],\"scatterternary\":[{\"marker\":{\"colorbar\":{\"outlinewidth\":0,\"ticks\":\"\"}},\"type\":\"scatterternary\"}],\"surface\":[{\"colorbar\":{\"outlinewidth\":0,\"ticks\":\"\"},\"colorscale\":[[0.0,\"#0d0887\"],[0.1111111111111111,\"#46039f\"],[0.2222222222222222,\"#7201a8\"],[0.3333333333333333,\"#9c179e\"],[0.4444444444444444,\"#bd3786\"],[0.5555555555555556,\"#d8576b\"],[0.6666666666666666,\"#ed7953\"],[0.7777777777777778,\"#fb9f3a\"],[0.8888888888888888,\"#fdca26\"],[1.0,\"#f0f921\"]],\"type\":\"surface\"}],\"table\":[{\"cells\":{\"fill\":{\"color\":\"#506784\"},\"line\":{\"color\":\"rgb(17,17,17)\"}},\"header\":{\"fill\":{\"color\":\"#2a3f5f\"},\"line\":{\"color\":\"rgb(17,17,17)\"}},\"type\":\"table\"}]},\"layout\":{\"annotationdefaults\":{\"arrowcolor\":\"#f2f5fa\",\"arrowhead\":0,\"arrowwidth\":1},\"autotypenumbers\":\"strict\",\"coloraxis\":{\"colorbar\":{\"outlinewidth\":0,\"ticks\":\"\"}},\"colorscale\":{\"diverging\":[[0,\"#8e0152\"],[0.1,\"#c51b7d\"],[0.2,\"#de77ae\"],[0.3,\"#f1b6da\"],[0.4,\"#fde0ef\"],[0.5,\"#f7f7f7\"],[0.6,\"#e6f5d0\"],[0.7,\"#b8e186\"],[0.8,\"#7fbc41\"],[0.9,\"#4d9221\"],[1,\"#276419\"]],\"sequential\":[[0.0,\"#0d0887\"],[0.1111111111111111,\"#46039f\"],[0.2222222222222222,\"#7201a8\"],[0.3333333333333333,\"#9c179e\"],[0.4444444444444444,\"#bd3786\"],[0.5555555555555556,\"#d8576b\"],[0.6666666666666666,\"#ed7953\"],[0.7777777777777778,\"#fb9f3a\"],[0.8888888888888888,\"#fdca26\"],[1.0,\"#f0f921\"]],\"sequentialminus\":[[0.0,\"#0d0887\"],[0.1111111111111111,\"#46039f\"],[0.2222222222222222,\"#7201a8\"],[0.3333333333333333,\"#9c179e\"],[0.4444444444444444,\"#bd3786\"],[0.5555555555555556,\"#d8576b\"],[0.6666666666666666,\"#ed7953\"],[0.7777777777777778,\"#fb9f3a\"],[0.8888888888888888,\"#fdca26\"],[1.0,\"#f0f921\"]]},\"colorway\":[\"#636efa\",\"#EF553B\",\"#00cc96\",\"#ab63fa\",\"#FFA15A\",\"#19d3f3\",\"#FF6692\",\"#B6E880\",\"#FF97FF\",\"#FECB52\"],\"font\":{\"color\":\"white\",\"size\":13},\"geo\":{\"bgcolor\":\"rgb(17,17,17)\",\"lakecolor\":\"rgb(17,17,17)\",\"landcolor\":\"rgb(17,17,17)\",\"showlakes\":true,\"showland\":true,\"subunitcolor\":\"#506784\"},\"hoverlabel\":{\"align\":\"left\"},\"hovermode\":\"closest\",\"mapbox\":{\"style\":\"dark\"},\"margin\":{\"b\":10,\"l\":10,\"r\":10,\"t\":10},\"paper_bgcolor\":\"rgba(0,0,0,0)\",\"plot_bgcolor\":\"rgb(17,17,17)\",\"polar\":{\"angularaxis\":{\"gridcolor\":\"#506784\",\"linecolor\":\"#506784\",\"ticks\":\"\"},\"bgcolor\":\"rgb(17,17,17)\",\"radialaxis\":{\"gridcolor\":\"#506784\",\"linecolor\":\"#506784\",\"ticks\":\"\"}},\"scene\":{\"xaxis\":{\"backgroundcolor\":\"rgb(17,17,17)\",\"gridcolor\":\"#506784\",\"gridwidth\":2,\"linecolor\":\"#506784\",\"showbackground\":true,\"ticks\":\"\",\"zerolinecolor\":\"#C8D4E3\"},\"yaxis\":{\"backgroundcolor\":\"rgb(17,17,17)\",\"gridcolor\":\"#506784\",\"gridwidth\":2,\"linecolor\":\"#506784\",\"showbackground\":true,\"ticks\":\"\",\"zerolinecolor\":\"#C8D4E3\"},\"zaxis\":{\"backgroundcolor\":\"rgb(17,17,17)\",\"gridcolor\":\"#506784\",\"gridwidth\":2,\"linecolor\":\"#506784\",\"showbackground\":true,\"ticks\":\"\",\"zerolinecolor\":\"#C8D4E3\"}},\"shapedefaults\":{\"line\":{\"color\":\"#f2f5fa\"}},\"sliderdefaults\":{\"bgcolor\":\"#C8D4E3\",\"bordercolor\":\"rgb(17,17,17)\",\"borderwidth\":1,\"tickwidth\":0},\"ternary\":{\"aaxis\":{\"gridcolor\":\"#506784\",\"linecolor\":\"#506784\",\"ticks\":\"\"},\"baxis\":{\"gridcolor\":\"#506784\",\"linecolor\":\"#506784\",\"ticks\":\"\"},\"bgcolor\":\"rgb(17,17,17)\",\"caxis\":{\"gridcolor\":\"#506784\",\"linecolor\":\"#506784\",\"ticks\":\"\"}},\"title\":{\"x\":0.05},\"updatemenudefaults\":{\"bgcolor\":\"#506784\",\"borderwidth\":0},\"xaxis\":{\"automargin\":true,\"gridcolor\":\"darkgray\",\"linecolor\":\"white\",\"linewidth\":1,\"mirror\":true,\"showgrid\":true,\"showline\":true,\"ticks\":\"outside\",\"title\":{\"standoff\":15},\"zeroline\":true,\"zerolinecolor\":\"#283442\",\"zerolinewidth\":2},\"yaxis\":{\"automargin\":true,\"gridcolor\":\"darkgray\",\"linecolor\":\"white\",\"linewidth\":1,\"mirror\":true,\"showgrid\":true,\"showline\":true,\"ticks\":\"outside\",\"title\":{\"standoff\":15},\"zeroline\":true,\"zerolinecolor\":\"#283442\",\"zerolinewidth\":2},\"legend\":{\"bgcolor\":\"rgba(0, 0, 0, 0)\",\"itemsizing\":\"constant\"}}},\"xaxis\":{\"anchor\":\"y\",\"domain\":[0.0,0.2888888888888889],\"title\":{\"text\":\"\"},\"tickangle\":75,\"showgrid\":true,\"gridcolor\":\"lightgray\"},\"yaxis\":{\"anchor\":\"x\",\"domain\":[0.0,1.0],\"range\":[0.03,0.04490164230543399],\"showgrid\":true,\"gridcolor\":\"lightgray\"},\"xaxis2\":{\"anchor\":\"y2\",\"domain\":[0.35555555555555557,0.6444444444444445],\"title\":{\"text\":\"\"},\"tickangle\":75,\"showgrid\":true,\"gridcolor\":\"lightgray\"},\"yaxis2\":{\"anchor\":\"x2\",\"domain\":[0.0,1.0],\"range\":[4.0,5.201552150748851],\"showgrid\":true,\"gridcolor\":\"lightgray\"},\"xaxis3\":{\"anchor\":\"y3\",\"domain\":[0.7111111111111111,1.0],\"title\":{\"text\":\"\"},\"tickangle\":75,\"showgrid\":true,\"gridcolor\":\"lightgray\"},\"yaxis3\":{\"anchor\":\"x3\",\"domain\":[0.0,1.0],\"range\":[0.65,0.801],\"showgrid\":true,\"gridcolor\":\"lightgray\"},\"annotations\":[{\"font\":{\"size\":16},\"showarrow\":false,\"text\":\"MAE\",\"x\":0.14444444444444446,\"xanchor\":\"center\",\"xref\":\"paper\",\"y\":1.0,\"yanchor\":\"bottom\",\"yref\":\"paper\"},{\"font\":{\"size\":16},\"showarrow\":false,\"text\":\"DAF\",\"x\":0.5,\"xanchor\":\"center\",\"xref\":\"paper\",\"y\":1.0,\"yanchor\":\"bottom\",\"yref\":\"paper\"},{\"font\":{\"size\":16},\"showarrow\":false,\"text\":\"F1\",\"x\":0.8555555555555556,\"xanchor\":\"center\",\"xref\":\"paper\",\"y\":1.0,\"yanchor\":\"bottom\",\"yref\":\"paper\"}],\"title\":{\"text\":\"Loss Coefficient Ablations\"},\"legend\":{\"orientation\":\"h\",\"yanchor\":\"bottom\",\"y\":1.15,\"xanchor\":\"center\",\"x\":0.5},\"font\":{\"color\":\"gray\"},\"height\":400,\"width\":1000,\"barmode\":\"group\",\"plot_bgcolor\":\"rgba(0,0,0,0)\",\"paper_bgcolor\":\"rgba(0,0,0,0)\"},                        {\"responsive\": true}                    ).then(function(){\n",
       "                            \n",
       "var gd = document.getElementById('6859cc3f-b5cc-4520-825b-51866b8b9bf3');\n",
       "var x = new MutationObserver(function (mutations, observer) {{\n",
       "        var display = window.getComputedStyle(gd).display;\n",
       "        if (!display || display === 'none') {{\n",
       "            console.log([gd, 'removed!']);\n",
       "            Plotly.purge(gd);\n",
       "            observer.disconnect();\n",
       "        }}\n",
       "}});\n",
       "\n",
       "// Listen for the removal of the full notebook cells\n",
       "var notebookContainer = gd.closest('#notebook-container');\n",
       "if (notebookContainer) {{\n",
       "    x.observe(notebookContainer, {childList: true});\n",
       "}}\n",
       "\n",
       "// Listen for the clearing of the current output cell\n",
       "var outputEl = gd.closest('.output');\n",
       "if (outputEl) {{\n",
       "    x.observe(outputEl, {childList: true});\n",
       "}}\n",
       "\n",
       "                        })                };                });            </script>        </div>"
      ]
     },
     "metadata": {},
     "output_type": "display_data"
    }
   ],
   "source": [
    "plot_metrics_plotly(\n",
    "    df_new[(df_new[\"name\"] == \"base\") | df_new[\"name\"].str.contains(\"ec\")],\n",
    "    \"Loss Coefficient Ablations\",\n",
    ")"
   ]
  },
  {
   "cell_type": "code",
   "execution_count": 6,
   "metadata": {},
   "outputs": [
    {
     "data": {
      "application/vnd.plotly.v1+json": {
       "config": {
        "plotlyServerURL": "https://plot.ly"
       },
       "data": [
        {
         "hoverinfo": "y",
         "hovertemplate": "%{y:.4f}<extra></extra>",
         "legendgroup": "s2e",
         "marker": {
          "color": "rgb(136, 204, 238)"
         },
         "name": "s2e",
         "showlegend": true,
         "type": "bar",
         "x": [
          "base",
          "wd0.1",
          "posaug0.01"
         ],
         "xaxis": "x",
         "y": [
          0.035932278009769544,
          0.03750620581238011,
          0.037591210266904304
         ],
         "yaxis": "y"
        },
        {
         "hoverinfo": "y",
         "hovertemplate": "%{y:.4f}<extra></extra>",
         "legendgroup": "s2e",
         "marker": {
          "color": "rgb(136, 204, 238)"
         },
         "name": "s2e",
         "showlegend": false,
         "type": "bar",
         "x": [
          "base",
          "wd0.1",
          "posaug0.01"
         ],
         "xaxis": "x2",
         "y": [
          4.666613014957781,
          4.823077743159247,
          4.777188066517681
         ],
         "yaxis": "y2"
        },
        {
         "hoverinfo": "y",
         "hovertemplate": "%{y:.4f}<extra></extra>",
         "legendgroup": "s2e",
         "marker": {
          "color": "rgb(136, 204, 238)"
         },
         "name": "s2e",
         "showlegend": false,
         "type": "bar",
         "x": [
          "base",
          "wd0.1",
          "posaug0.01"
         ],
         "xaxis": "x3",
         "y": [
          0.7847826086956521,
          0.7605415860735009,
          0.7886178861788619
         ],
         "yaxis": "y3"
        },
        {
         "hoverinfo": "y",
         "hovertemplate": "%{y:.4f}<extra></extra>",
         "legendgroup": "s2re",
         "marker": {
          "color": "rgb(204, 102, 119)"
         },
         "name": "s2re",
         "showlegend": true,
         "type": "bar",
         "x": [
          "base",
          "wd0.1",
          "posaug0.01"
         ],
         "xaxis": "x",
         "y": [
          0.036932333812608895,
          0.03826177177944605,
          0.03709755760406906
         ],
         "yaxis": "y"
        },
        {
         "hoverinfo": "y",
         "hovertemplate": "%{y:.4f}<extra></extra>",
         "legendgroup": "s2re",
         "marker": {
          "color": "rgb(204, 102, 119)"
         },
         "name": "s2re",
         "showlegend": false,
         "type": "bar",
         "x": [
          "base",
          "wd0.1",
          "posaug0.01"
         ],
         "xaxis": "x2",
         "y": [
          4.386156079108946,
          4.552676501312136,
          4.575947106559352
         ],
         "yaxis": "y2"
        },
        {
         "hoverinfo": "y",
         "hovertemplate": "%{y:.4f}<extra></extra>",
         "legendgroup": "s2re",
         "marker": {
          "color": "rgb(204, 102, 119)"
         },
         "name": "s2re",
         "showlegend": false,
         "type": "bar",
         "x": [
          "base",
          "wd0.1",
          "posaug0.01"
         ],
         "xaxis": "x3",
         "y": [
          0.7681660899653978,
          0.7622861303239898,
          0.7743792731198272
         ],
         "yaxis": "y3"
        }
       ],
       "layout": {
        "annotations": [
         {
          "font": {
           "size": 16
          },
          "showarrow": false,
          "text": "MAE",
          "x": 0.14444444444444446,
          "xanchor": "center",
          "xref": "paper",
          "y": 1,
          "yanchor": "bottom",
          "yref": "paper"
         },
         {
          "font": {
           "size": 16
          },
          "showarrow": false,
          "text": "DAF",
          "x": 0.5,
          "xanchor": "center",
          "xref": "paper",
          "y": 1,
          "yanchor": "bottom",
          "yref": "paper"
         },
         {
          "font": {
           "size": 16
          },
          "showarrow": false,
          "text": "F1",
          "x": 0.8555555555555556,
          "xanchor": "center",
          "xref": "paper",
          "y": 1,
          "yanchor": "bottom",
          "yref": "paper"
         }
        ],
        "barmode": "group",
        "font": {
         "color": "gray"
        },
        "height": 400,
        "legend": {
         "orientation": "h",
         "x": 0.5,
         "xanchor": "center",
         "y": 1.15,
         "yanchor": "bottom"
        },
        "paper_bgcolor": "rgba(0,0,0,0)",
        "plot_bgcolor": "rgba(0,0,0,0)",
        "template": {
         "data": {
          "bar": [
           {
            "error_x": {
             "color": "#f2f5fa"
            },
            "error_y": {
             "color": "#f2f5fa"
            },
            "marker": {
             "line": {
              "color": "rgb(17,17,17)",
              "width": 0.5
             },
             "pattern": {
              "fillmode": "overlay",
              "size": 10,
              "solidity": 0.2
             }
            },
            "type": "bar"
           }
          ],
          "barpolar": [
           {
            "marker": {
             "line": {
              "color": "rgb(17,17,17)",
              "width": 0.5
             },
             "pattern": {
              "fillmode": "overlay",
              "size": 10,
              "solidity": 0.2
             }
            },
            "type": "barpolar"
           }
          ],
          "carpet": [
           {
            "aaxis": {
             "endlinecolor": "#A2B1C6",
             "gridcolor": "#506784",
             "linecolor": "#506784",
             "minorgridcolor": "#506784",
             "startlinecolor": "#A2B1C6"
            },
            "baxis": {
             "endlinecolor": "#A2B1C6",
             "gridcolor": "#506784",
             "linecolor": "#506784",
             "minorgridcolor": "#506784",
             "startlinecolor": "#A2B1C6"
            },
            "type": "carpet"
           }
          ],
          "choropleth": [
           {
            "colorbar": {
             "outlinewidth": 0,
             "ticks": ""
            },
            "type": "choropleth"
           }
          ],
          "contour": [
           {
            "colorbar": {
             "outlinewidth": 0,
             "ticks": ""
            },
            "colorscale": [
             [
              0,
              "#0d0887"
             ],
             [
              0.1111111111111111,
              "#46039f"
             ],
             [
              0.2222222222222222,
              "#7201a8"
             ],
             [
              0.3333333333333333,
              "#9c179e"
             ],
             [
              0.4444444444444444,
              "#bd3786"
             ],
             [
              0.5555555555555556,
              "#d8576b"
             ],
             [
              0.6666666666666666,
              "#ed7953"
             ],
             [
              0.7777777777777778,
              "#fb9f3a"
             ],
             [
              0.8888888888888888,
              "#fdca26"
             ],
             [
              1,
              "#f0f921"
             ]
            ],
            "type": "contour"
           }
          ],
          "contourcarpet": [
           {
            "colorbar": {
             "outlinewidth": 0,
             "ticks": ""
            },
            "type": "contourcarpet"
           }
          ],
          "heatmap": [
           {
            "colorbar": {
             "outlinewidth": 0,
             "ticks": ""
            },
            "colorscale": [
             [
              0,
              "#0d0887"
             ],
             [
              0.1111111111111111,
              "#46039f"
             ],
             [
              0.2222222222222222,
              "#7201a8"
             ],
             [
              0.3333333333333333,
              "#9c179e"
             ],
             [
              0.4444444444444444,
              "#bd3786"
             ],
             [
              0.5555555555555556,
              "#d8576b"
             ],
             [
              0.6666666666666666,
              "#ed7953"
             ],
             [
              0.7777777777777778,
              "#fb9f3a"
             ],
             [
              0.8888888888888888,
              "#fdca26"
             ],
             [
              1,
              "#f0f921"
             ]
            ],
            "type": "heatmap"
           }
          ],
          "heatmapgl": [
           {
            "colorbar": {
             "outlinewidth": 0,
             "ticks": ""
            },
            "colorscale": [
             [
              0,
              "#0d0887"
             ],
             [
              0.1111111111111111,
              "#46039f"
             ],
             [
              0.2222222222222222,
              "#7201a8"
             ],
             [
              0.3333333333333333,
              "#9c179e"
             ],
             [
              0.4444444444444444,
              "#bd3786"
             ],
             [
              0.5555555555555556,
              "#d8576b"
             ],
             [
              0.6666666666666666,
              "#ed7953"
             ],
             [
              0.7777777777777778,
              "#fb9f3a"
             ],
             [
              0.8888888888888888,
              "#fdca26"
             ],
             [
              1,
              "#f0f921"
             ]
            ],
            "type": "heatmapgl"
           }
          ],
          "histogram": [
           {
            "marker": {
             "pattern": {
              "fillmode": "overlay",
              "size": 10,
              "solidity": 0.2
             }
            },
            "type": "histogram"
           }
          ],
          "histogram2d": [
           {
            "colorbar": {
             "outlinewidth": 0,
             "ticks": ""
            },
            "colorscale": [
             [
              0,
              "#0d0887"
             ],
             [
              0.1111111111111111,
              "#46039f"
             ],
             [
              0.2222222222222222,
              "#7201a8"
             ],
             [
              0.3333333333333333,
              "#9c179e"
             ],
             [
              0.4444444444444444,
              "#bd3786"
             ],
             [
              0.5555555555555556,
              "#d8576b"
             ],
             [
              0.6666666666666666,
              "#ed7953"
             ],
             [
              0.7777777777777778,
              "#fb9f3a"
             ],
             [
              0.8888888888888888,
              "#fdca26"
             ],
             [
              1,
              "#f0f921"
             ]
            ],
            "type": "histogram2d"
           }
          ],
          "histogram2dcontour": [
           {
            "colorbar": {
             "outlinewidth": 0,
             "ticks": ""
            },
            "colorscale": [
             [
              0,
              "#0d0887"
             ],
             [
              0.1111111111111111,
              "#46039f"
             ],
             [
              0.2222222222222222,
              "#7201a8"
             ],
             [
              0.3333333333333333,
              "#9c179e"
             ],
             [
              0.4444444444444444,
              "#bd3786"
             ],
             [
              0.5555555555555556,
              "#d8576b"
             ],
             [
              0.6666666666666666,
              "#ed7953"
             ],
             [
              0.7777777777777778,
              "#fb9f3a"
             ],
             [
              0.8888888888888888,
              "#fdca26"
             ],
             [
              1,
              "#f0f921"
             ]
            ],
            "type": "histogram2dcontour"
           }
          ],
          "mesh3d": [
           {
            "colorbar": {
             "outlinewidth": 0,
             "ticks": ""
            },
            "type": "mesh3d"
           }
          ],
          "parcoords": [
           {
            "line": {
             "colorbar": {
              "outlinewidth": 0,
              "ticks": ""
             }
            },
            "type": "parcoords"
           }
          ],
          "pie": [
           {
            "automargin": true,
            "type": "pie"
           }
          ],
          "scatter": [
           {
            "marker": {
             "line": {
              "color": "#283442"
             }
            },
            "type": "scatter"
           }
          ],
          "scatter3d": [
           {
            "line": {
             "colorbar": {
              "outlinewidth": 0,
              "ticks": ""
             }
            },
            "marker": {
             "colorbar": {
              "outlinewidth": 0,
              "ticks": ""
             }
            },
            "type": "scatter3d"
           }
          ],
          "scattercarpet": [
           {
            "marker": {
             "colorbar": {
              "outlinewidth": 0,
              "ticks": ""
             }
            },
            "type": "scattercarpet"
           }
          ],
          "scattergeo": [
           {
            "marker": {
             "colorbar": {
              "outlinewidth": 0,
              "ticks": ""
             }
            },
            "type": "scattergeo"
           }
          ],
          "scattergl": [
           {
            "marker": {
             "line": {
              "color": "#283442"
             }
            },
            "type": "scattergl"
           }
          ],
          "scattermapbox": [
           {
            "marker": {
             "colorbar": {
              "outlinewidth": 0,
              "ticks": ""
             }
            },
            "type": "scattermapbox"
           }
          ],
          "scatterpolar": [
           {
            "marker": {
             "colorbar": {
              "outlinewidth": 0,
              "ticks": ""
             }
            },
            "type": "scatterpolar"
           }
          ],
          "scatterpolargl": [
           {
            "marker": {
             "colorbar": {
              "outlinewidth": 0,
              "ticks": ""
             }
            },
            "type": "scatterpolargl"
           }
          ],
          "scatterternary": [
           {
            "marker": {
             "colorbar": {
              "outlinewidth": 0,
              "ticks": ""
             }
            },
            "type": "scatterternary"
           }
          ],
          "surface": [
           {
            "colorbar": {
             "outlinewidth": 0,
             "ticks": ""
            },
            "colorscale": [
             [
              0,
              "#0d0887"
             ],
             [
              0.1111111111111111,
              "#46039f"
             ],
             [
              0.2222222222222222,
              "#7201a8"
             ],
             [
              0.3333333333333333,
              "#9c179e"
             ],
             [
              0.4444444444444444,
              "#bd3786"
             ],
             [
              0.5555555555555556,
              "#d8576b"
             ],
             [
              0.6666666666666666,
              "#ed7953"
             ],
             [
              0.7777777777777778,
              "#fb9f3a"
             ],
             [
              0.8888888888888888,
              "#fdca26"
             ],
             [
              1,
              "#f0f921"
             ]
            ],
            "type": "surface"
           }
          ],
          "table": [
           {
            "cells": {
             "fill": {
              "color": "#506784"
             },
             "line": {
              "color": "rgb(17,17,17)"
             }
            },
            "header": {
             "fill": {
              "color": "#2a3f5f"
             },
             "line": {
              "color": "rgb(17,17,17)"
             }
            },
            "type": "table"
           }
          ]
         },
         "layout": {
          "annotationdefaults": {
           "arrowcolor": "#f2f5fa",
           "arrowhead": 0,
           "arrowwidth": 1
          },
          "autotypenumbers": "strict",
          "coloraxis": {
           "colorbar": {
            "outlinewidth": 0,
            "ticks": ""
           }
          },
          "colorscale": {
           "diverging": [
            [
             0,
             "#8e0152"
            ],
            [
             0.1,
             "#c51b7d"
            ],
            [
             0.2,
             "#de77ae"
            ],
            [
             0.3,
             "#f1b6da"
            ],
            [
             0.4,
             "#fde0ef"
            ],
            [
             0.5,
             "#f7f7f7"
            ],
            [
             0.6,
             "#e6f5d0"
            ],
            [
             0.7,
             "#b8e186"
            ],
            [
             0.8,
             "#7fbc41"
            ],
            [
             0.9,
             "#4d9221"
            ],
            [
             1,
             "#276419"
            ]
           ],
           "sequential": [
            [
             0,
             "#0d0887"
            ],
            [
             0.1111111111111111,
             "#46039f"
            ],
            [
             0.2222222222222222,
             "#7201a8"
            ],
            [
             0.3333333333333333,
             "#9c179e"
            ],
            [
             0.4444444444444444,
             "#bd3786"
            ],
            [
             0.5555555555555556,
             "#d8576b"
            ],
            [
             0.6666666666666666,
             "#ed7953"
            ],
            [
             0.7777777777777778,
             "#fb9f3a"
            ],
            [
             0.8888888888888888,
             "#fdca26"
            ],
            [
             1,
             "#f0f921"
            ]
           ],
           "sequentialminus": [
            [
             0,
             "#0d0887"
            ],
            [
             0.1111111111111111,
             "#46039f"
            ],
            [
             0.2222222222222222,
             "#7201a8"
            ],
            [
             0.3333333333333333,
             "#9c179e"
            ],
            [
             0.4444444444444444,
             "#bd3786"
            ],
            [
             0.5555555555555556,
             "#d8576b"
            ],
            [
             0.6666666666666666,
             "#ed7953"
            ],
            [
             0.7777777777777778,
             "#fb9f3a"
            ],
            [
             0.8888888888888888,
             "#fdca26"
            ],
            [
             1,
             "#f0f921"
            ]
           ]
          },
          "colorway": [
           "#636efa",
           "#EF553B",
           "#00cc96",
           "#ab63fa",
           "#FFA15A",
           "#19d3f3",
           "#FF6692",
           "#B6E880",
           "#FF97FF",
           "#FECB52"
          ],
          "font": {
           "color": "white",
           "size": 13
          },
          "geo": {
           "bgcolor": "rgb(17,17,17)",
           "lakecolor": "rgb(17,17,17)",
           "landcolor": "rgb(17,17,17)",
           "showlakes": true,
           "showland": true,
           "subunitcolor": "#506784"
          },
          "hoverlabel": {
           "align": "left"
          },
          "hovermode": "closest",
          "legend": {
           "bgcolor": "rgba(0, 0, 0, 0)",
           "itemsizing": "constant"
          },
          "mapbox": {
           "style": "dark"
          },
          "margin": {
           "b": 10,
           "l": 10,
           "r": 10,
           "t": 10
          },
          "paper_bgcolor": "rgba(0,0,0,0)",
          "plot_bgcolor": "rgb(17,17,17)",
          "polar": {
           "angularaxis": {
            "gridcolor": "#506784",
            "linecolor": "#506784",
            "ticks": ""
           },
           "bgcolor": "rgb(17,17,17)",
           "radialaxis": {
            "gridcolor": "#506784",
            "linecolor": "#506784",
            "ticks": ""
           }
          },
          "scene": {
           "xaxis": {
            "backgroundcolor": "rgb(17,17,17)",
            "gridcolor": "#506784",
            "gridwidth": 2,
            "linecolor": "#506784",
            "showbackground": true,
            "ticks": "",
            "zerolinecolor": "#C8D4E3"
           },
           "yaxis": {
            "backgroundcolor": "rgb(17,17,17)",
            "gridcolor": "#506784",
            "gridwidth": 2,
            "linecolor": "#506784",
            "showbackground": true,
            "ticks": "",
            "zerolinecolor": "#C8D4E3"
           },
           "zaxis": {
            "backgroundcolor": "rgb(17,17,17)",
            "gridcolor": "#506784",
            "gridwidth": 2,
            "linecolor": "#506784",
            "showbackground": true,
            "ticks": "",
            "zerolinecolor": "#C8D4E3"
           }
          },
          "shapedefaults": {
           "line": {
            "color": "#f2f5fa"
           }
          },
          "sliderdefaults": {
           "bgcolor": "#C8D4E3",
           "bordercolor": "rgb(17,17,17)",
           "borderwidth": 1,
           "tickwidth": 0
          },
          "ternary": {
           "aaxis": {
            "gridcolor": "#506784",
            "linecolor": "#506784",
            "ticks": ""
           },
           "baxis": {
            "gridcolor": "#506784",
            "linecolor": "#506784",
            "ticks": ""
           },
           "bgcolor": "rgb(17,17,17)",
           "caxis": {
            "gridcolor": "#506784",
            "linecolor": "#506784",
            "ticks": ""
           }
          },
          "title": {
           "x": 0.05
          },
          "updatemenudefaults": {
           "bgcolor": "#506784",
           "borderwidth": 0
          },
          "xaxis": {
           "automargin": true,
           "gridcolor": "darkgray",
           "linecolor": "white",
           "linewidth": 1,
           "mirror": true,
           "showgrid": true,
           "showline": true,
           "ticks": "outside",
           "title": {
            "standoff": 15
           },
           "zeroline": true,
           "zerolinecolor": "#283442",
           "zerolinewidth": 2
          },
          "yaxis": {
           "automargin": true,
           "gridcolor": "darkgray",
           "linecolor": "white",
           "linewidth": 1,
           "mirror": true,
           "showgrid": true,
           "showline": true,
           "ticks": "outside",
           "title": {
            "standoff": 15
           },
           "zeroline": true,
           "zerolinecolor": "#283442",
           "zerolinewidth": 2
          }
         }
        },
        "title": {
         "text": "Regularization Ablations"
        },
        "width": 1000,
        "xaxis": {
         "anchor": "y",
         "domain": [
          0,
          0.2888888888888889
         ],
         "gridcolor": "lightgray",
         "showgrid": true,
         "tickangle": 75,
         "title": {
          "text": ""
         }
        },
        "xaxis2": {
         "anchor": "y2",
         "domain": [
          0.35555555555555557,
          0.6444444444444445
         ],
         "gridcolor": "lightgray",
         "showgrid": true,
         "tickangle": 75,
         "title": {
          "text": ""
         }
        },
        "xaxis3": {
         "anchor": "y3",
         "domain": [
          0.7111111111111111,
          1
         ],
         "gridcolor": "lightgray",
         "showgrid": true,
         "tickangle": 75,
         "title": {
          "text": ""
         }
        },
        "yaxis": {
         "anchor": "x",
         "domain": [
          0,
          1
         ],
         "gridcolor": "lightgray",
         "range": [
          0.03,
          0.04208794895739066
         ],
         "showgrid": true
        },
        "yaxis2": {
         "anchor": "x2",
         "domain": [
          0,
          1
         ],
         "gridcolor": "lightgray",
         "range": [
          4,
          5.305385517475171
         ],
         "showgrid": true
        },
        "yaxis3": {
         "anchor": "x3",
         "domain": [
          0,
          1
         ],
         "gridcolor": "lightgray",
         "range": [
          0.65,
          0.801
         ],
         "showgrid": true
        }
       }
      },
      "text/html": [
       "<div>                            <div id=\"2751f264-835f-426a-973e-eed1abaaaca3\" class=\"plotly-graph-div\" style=\"height:400px; width:1000px;\"></div>            <script type=\"text/javascript\">                require([\"plotly\"], function(Plotly) {                    window.PLOTLYENV=window.PLOTLYENV || {};                                    if (document.getElementById(\"2751f264-835f-426a-973e-eed1abaaaca3\")) {                    Plotly.newPlot(                        \"2751f264-835f-426a-973e-eed1abaaaca3\",                        [{\"hoverinfo\":\"y\",\"hovertemplate\":\"%{y:.4f}\\u003cextra\\u003e\\u003c\\u002fextra\\u003e\",\"legendgroup\":\"s2e\",\"marker\":{\"color\":\"rgb(136, 204, 238)\"},\"name\":\"s2e\",\"showlegend\":true,\"x\":[\"base\",\"wd0.1\",\"posaug0.01\"],\"y\":[0.035932278009769544,0.03750620581238011,0.037591210266904304],\"type\":\"bar\",\"xaxis\":\"x\",\"yaxis\":\"y\"},{\"hoverinfo\":\"y\",\"hovertemplate\":\"%{y:.4f}\\u003cextra\\u003e\\u003c\\u002fextra\\u003e\",\"legendgroup\":\"s2e\",\"marker\":{\"color\":\"rgb(136, 204, 238)\"},\"name\":\"s2e\",\"showlegend\":false,\"x\":[\"base\",\"wd0.1\",\"posaug0.01\"],\"y\":[4.666613014957781,4.823077743159247,4.777188066517681],\"type\":\"bar\",\"xaxis\":\"x2\",\"yaxis\":\"y2\"},{\"hoverinfo\":\"y\",\"hovertemplate\":\"%{y:.4f}\\u003cextra\\u003e\\u003c\\u002fextra\\u003e\",\"legendgroup\":\"s2e\",\"marker\":{\"color\":\"rgb(136, 204, 238)\"},\"name\":\"s2e\",\"showlegend\":false,\"x\":[\"base\",\"wd0.1\",\"posaug0.01\"],\"y\":[0.7847826086956521,0.7605415860735009,0.7886178861788619],\"type\":\"bar\",\"xaxis\":\"x3\",\"yaxis\":\"y3\"},{\"hoverinfo\":\"y\",\"hovertemplate\":\"%{y:.4f}\\u003cextra\\u003e\\u003c\\u002fextra\\u003e\",\"legendgroup\":\"s2re\",\"marker\":{\"color\":\"rgb(204, 102, 119)\"},\"name\":\"s2re\",\"showlegend\":true,\"x\":[\"base\",\"wd0.1\",\"posaug0.01\"],\"y\":[0.036932333812608895,0.03826177177944605,0.03709755760406906],\"type\":\"bar\",\"xaxis\":\"x\",\"yaxis\":\"y\"},{\"hoverinfo\":\"y\",\"hovertemplate\":\"%{y:.4f}\\u003cextra\\u003e\\u003c\\u002fextra\\u003e\",\"legendgroup\":\"s2re\",\"marker\":{\"color\":\"rgb(204, 102, 119)\"},\"name\":\"s2re\",\"showlegend\":false,\"x\":[\"base\",\"wd0.1\",\"posaug0.01\"],\"y\":[4.386156079108946,4.552676501312136,4.575947106559352],\"type\":\"bar\",\"xaxis\":\"x2\",\"yaxis\":\"y2\"},{\"hoverinfo\":\"y\",\"hovertemplate\":\"%{y:.4f}\\u003cextra\\u003e\\u003c\\u002fextra\\u003e\",\"legendgroup\":\"s2re\",\"marker\":{\"color\":\"rgb(204, 102, 119)\"},\"name\":\"s2re\",\"showlegend\":false,\"x\":[\"base\",\"wd0.1\",\"posaug0.01\"],\"y\":[0.7681660899653978,0.7622861303239898,0.7743792731198272],\"type\":\"bar\",\"xaxis\":\"x3\",\"yaxis\":\"y3\"}],                        {\"template\":{\"data\":{\"barpolar\":[{\"marker\":{\"line\":{\"color\":\"rgb(17,17,17)\",\"width\":0.5},\"pattern\":{\"fillmode\":\"overlay\",\"size\":10,\"solidity\":0.2}},\"type\":\"barpolar\"}],\"bar\":[{\"error_x\":{\"color\":\"#f2f5fa\"},\"error_y\":{\"color\":\"#f2f5fa\"},\"marker\":{\"line\":{\"color\":\"rgb(17,17,17)\",\"width\":0.5},\"pattern\":{\"fillmode\":\"overlay\",\"size\":10,\"solidity\":0.2}},\"type\":\"bar\"}],\"carpet\":[{\"aaxis\":{\"endlinecolor\":\"#A2B1C6\",\"gridcolor\":\"#506784\",\"linecolor\":\"#506784\",\"minorgridcolor\":\"#506784\",\"startlinecolor\":\"#A2B1C6\"},\"baxis\":{\"endlinecolor\":\"#A2B1C6\",\"gridcolor\":\"#506784\",\"linecolor\":\"#506784\",\"minorgridcolor\":\"#506784\",\"startlinecolor\":\"#A2B1C6\"},\"type\":\"carpet\"}],\"choropleth\":[{\"colorbar\":{\"outlinewidth\":0,\"ticks\":\"\"},\"type\":\"choropleth\"}],\"contourcarpet\":[{\"colorbar\":{\"outlinewidth\":0,\"ticks\":\"\"},\"type\":\"contourcarpet\"}],\"contour\":[{\"colorbar\":{\"outlinewidth\":0,\"ticks\":\"\"},\"colorscale\":[[0.0,\"#0d0887\"],[0.1111111111111111,\"#46039f\"],[0.2222222222222222,\"#7201a8\"],[0.3333333333333333,\"#9c179e\"],[0.4444444444444444,\"#bd3786\"],[0.5555555555555556,\"#d8576b\"],[0.6666666666666666,\"#ed7953\"],[0.7777777777777778,\"#fb9f3a\"],[0.8888888888888888,\"#fdca26\"],[1.0,\"#f0f921\"]],\"type\":\"contour\"}],\"heatmapgl\":[{\"colorbar\":{\"outlinewidth\":0,\"ticks\":\"\"},\"colorscale\":[[0.0,\"#0d0887\"],[0.1111111111111111,\"#46039f\"],[0.2222222222222222,\"#7201a8\"],[0.3333333333333333,\"#9c179e\"],[0.4444444444444444,\"#bd3786\"],[0.5555555555555556,\"#d8576b\"],[0.6666666666666666,\"#ed7953\"],[0.7777777777777778,\"#fb9f3a\"],[0.8888888888888888,\"#fdca26\"],[1.0,\"#f0f921\"]],\"type\":\"heatmapgl\"}],\"heatmap\":[{\"colorbar\":{\"outlinewidth\":0,\"ticks\":\"\"},\"colorscale\":[[0.0,\"#0d0887\"],[0.1111111111111111,\"#46039f\"],[0.2222222222222222,\"#7201a8\"],[0.3333333333333333,\"#9c179e\"],[0.4444444444444444,\"#bd3786\"],[0.5555555555555556,\"#d8576b\"],[0.6666666666666666,\"#ed7953\"],[0.7777777777777778,\"#fb9f3a\"],[0.8888888888888888,\"#fdca26\"],[1.0,\"#f0f921\"]],\"type\":\"heatmap\"}],\"histogram2dcontour\":[{\"colorbar\":{\"outlinewidth\":0,\"ticks\":\"\"},\"colorscale\":[[0.0,\"#0d0887\"],[0.1111111111111111,\"#46039f\"],[0.2222222222222222,\"#7201a8\"],[0.3333333333333333,\"#9c179e\"],[0.4444444444444444,\"#bd3786\"],[0.5555555555555556,\"#d8576b\"],[0.6666666666666666,\"#ed7953\"],[0.7777777777777778,\"#fb9f3a\"],[0.8888888888888888,\"#fdca26\"],[1.0,\"#f0f921\"]],\"type\":\"histogram2dcontour\"}],\"histogram2d\":[{\"colorbar\":{\"outlinewidth\":0,\"ticks\":\"\"},\"colorscale\":[[0.0,\"#0d0887\"],[0.1111111111111111,\"#46039f\"],[0.2222222222222222,\"#7201a8\"],[0.3333333333333333,\"#9c179e\"],[0.4444444444444444,\"#bd3786\"],[0.5555555555555556,\"#d8576b\"],[0.6666666666666666,\"#ed7953\"],[0.7777777777777778,\"#fb9f3a\"],[0.8888888888888888,\"#fdca26\"],[1.0,\"#f0f921\"]],\"type\":\"histogram2d\"}],\"histogram\":[{\"marker\":{\"pattern\":{\"fillmode\":\"overlay\",\"size\":10,\"solidity\":0.2}},\"type\":\"histogram\"}],\"mesh3d\":[{\"colorbar\":{\"outlinewidth\":0,\"ticks\":\"\"},\"type\":\"mesh3d\"}],\"parcoords\":[{\"line\":{\"colorbar\":{\"outlinewidth\":0,\"ticks\":\"\"}},\"type\":\"parcoords\"}],\"pie\":[{\"automargin\":true,\"type\":\"pie\"}],\"scatter3d\":[{\"line\":{\"colorbar\":{\"outlinewidth\":0,\"ticks\":\"\"}},\"marker\":{\"colorbar\":{\"outlinewidth\":0,\"ticks\":\"\"}},\"type\":\"scatter3d\"}],\"scattercarpet\":[{\"marker\":{\"colorbar\":{\"outlinewidth\":0,\"ticks\":\"\"}},\"type\":\"scattercarpet\"}],\"scattergeo\":[{\"marker\":{\"colorbar\":{\"outlinewidth\":0,\"ticks\":\"\"}},\"type\":\"scattergeo\"}],\"scattergl\":[{\"marker\":{\"line\":{\"color\":\"#283442\"}},\"type\":\"scattergl\"}],\"scattermapbox\":[{\"marker\":{\"colorbar\":{\"outlinewidth\":0,\"ticks\":\"\"}},\"type\":\"scattermapbox\"}],\"scatterpolargl\":[{\"marker\":{\"colorbar\":{\"outlinewidth\":0,\"ticks\":\"\"}},\"type\":\"scatterpolargl\"}],\"scatterpolar\":[{\"marker\":{\"colorbar\":{\"outlinewidth\":0,\"ticks\":\"\"}},\"type\":\"scatterpolar\"}],\"scatter\":[{\"marker\":{\"line\":{\"color\":\"#283442\"}},\"type\":\"scatter\"}],\"scatterternary\":[{\"marker\":{\"colorbar\":{\"outlinewidth\":0,\"ticks\":\"\"}},\"type\":\"scatterternary\"}],\"surface\":[{\"colorbar\":{\"outlinewidth\":0,\"ticks\":\"\"},\"colorscale\":[[0.0,\"#0d0887\"],[0.1111111111111111,\"#46039f\"],[0.2222222222222222,\"#7201a8\"],[0.3333333333333333,\"#9c179e\"],[0.4444444444444444,\"#bd3786\"],[0.5555555555555556,\"#d8576b\"],[0.6666666666666666,\"#ed7953\"],[0.7777777777777778,\"#fb9f3a\"],[0.8888888888888888,\"#fdca26\"],[1.0,\"#f0f921\"]],\"type\":\"surface\"}],\"table\":[{\"cells\":{\"fill\":{\"color\":\"#506784\"},\"line\":{\"color\":\"rgb(17,17,17)\"}},\"header\":{\"fill\":{\"color\":\"#2a3f5f\"},\"line\":{\"color\":\"rgb(17,17,17)\"}},\"type\":\"table\"}]},\"layout\":{\"annotationdefaults\":{\"arrowcolor\":\"#f2f5fa\",\"arrowhead\":0,\"arrowwidth\":1},\"autotypenumbers\":\"strict\",\"coloraxis\":{\"colorbar\":{\"outlinewidth\":0,\"ticks\":\"\"}},\"colorscale\":{\"diverging\":[[0,\"#8e0152\"],[0.1,\"#c51b7d\"],[0.2,\"#de77ae\"],[0.3,\"#f1b6da\"],[0.4,\"#fde0ef\"],[0.5,\"#f7f7f7\"],[0.6,\"#e6f5d0\"],[0.7,\"#b8e186\"],[0.8,\"#7fbc41\"],[0.9,\"#4d9221\"],[1,\"#276419\"]],\"sequential\":[[0.0,\"#0d0887\"],[0.1111111111111111,\"#46039f\"],[0.2222222222222222,\"#7201a8\"],[0.3333333333333333,\"#9c179e\"],[0.4444444444444444,\"#bd3786\"],[0.5555555555555556,\"#d8576b\"],[0.6666666666666666,\"#ed7953\"],[0.7777777777777778,\"#fb9f3a\"],[0.8888888888888888,\"#fdca26\"],[1.0,\"#f0f921\"]],\"sequentialminus\":[[0.0,\"#0d0887\"],[0.1111111111111111,\"#46039f\"],[0.2222222222222222,\"#7201a8\"],[0.3333333333333333,\"#9c179e\"],[0.4444444444444444,\"#bd3786\"],[0.5555555555555556,\"#d8576b\"],[0.6666666666666666,\"#ed7953\"],[0.7777777777777778,\"#fb9f3a\"],[0.8888888888888888,\"#fdca26\"],[1.0,\"#f0f921\"]]},\"colorway\":[\"#636efa\",\"#EF553B\",\"#00cc96\",\"#ab63fa\",\"#FFA15A\",\"#19d3f3\",\"#FF6692\",\"#B6E880\",\"#FF97FF\",\"#FECB52\"],\"font\":{\"color\":\"white\",\"size\":13},\"geo\":{\"bgcolor\":\"rgb(17,17,17)\",\"lakecolor\":\"rgb(17,17,17)\",\"landcolor\":\"rgb(17,17,17)\",\"showlakes\":true,\"showland\":true,\"subunitcolor\":\"#506784\"},\"hoverlabel\":{\"align\":\"left\"},\"hovermode\":\"closest\",\"mapbox\":{\"style\":\"dark\"},\"margin\":{\"b\":10,\"l\":10,\"r\":10,\"t\":10},\"paper_bgcolor\":\"rgba(0,0,0,0)\",\"plot_bgcolor\":\"rgb(17,17,17)\",\"polar\":{\"angularaxis\":{\"gridcolor\":\"#506784\",\"linecolor\":\"#506784\",\"ticks\":\"\"},\"bgcolor\":\"rgb(17,17,17)\",\"radialaxis\":{\"gridcolor\":\"#506784\",\"linecolor\":\"#506784\",\"ticks\":\"\"}},\"scene\":{\"xaxis\":{\"backgroundcolor\":\"rgb(17,17,17)\",\"gridcolor\":\"#506784\",\"gridwidth\":2,\"linecolor\":\"#506784\",\"showbackground\":true,\"ticks\":\"\",\"zerolinecolor\":\"#C8D4E3\"},\"yaxis\":{\"backgroundcolor\":\"rgb(17,17,17)\",\"gridcolor\":\"#506784\",\"gridwidth\":2,\"linecolor\":\"#506784\",\"showbackground\":true,\"ticks\":\"\",\"zerolinecolor\":\"#C8D4E3\"},\"zaxis\":{\"backgroundcolor\":\"rgb(17,17,17)\",\"gridcolor\":\"#506784\",\"gridwidth\":2,\"linecolor\":\"#506784\",\"showbackground\":true,\"ticks\":\"\",\"zerolinecolor\":\"#C8D4E3\"}},\"shapedefaults\":{\"line\":{\"color\":\"#f2f5fa\"}},\"sliderdefaults\":{\"bgcolor\":\"#C8D4E3\",\"bordercolor\":\"rgb(17,17,17)\",\"borderwidth\":1,\"tickwidth\":0},\"ternary\":{\"aaxis\":{\"gridcolor\":\"#506784\",\"linecolor\":\"#506784\",\"ticks\":\"\"},\"baxis\":{\"gridcolor\":\"#506784\",\"linecolor\":\"#506784\",\"ticks\":\"\"},\"bgcolor\":\"rgb(17,17,17)\",\"caxis\":{\"gridcolor\":\"#506784\",\"linecolor\":\"#506784\",\"ticks\":\"\"}},\"title\":{\"x\":0.05},\"updatemenudefaults\":{\"bgcolor\":\"#506784\",\"borderwidth\":0},\"xaxis\":{\"automargin\":true,\"gridcolor\":\"darkgray\",\"linecolor\":\"white\",\"linewidth\":1,\"mirror\":true,\"showgrid\":true,\"showline\":true,\"ticks\":\"outside\",\"title\":{\"standoff\":15},\"zeroline\":true,\"zerolinecolor\":\"#283442\",\"zerolinewidth\":2},\"yaxis\":{\"automargin\":true,\"gridcolor\":\"darkgray\",\"linecolor\":\"white\",\"linewidth\":1,\"mirror\":true,\"showgrid\":true,\"showline\":true,\"ticks\":\"outside\",\"title\":{\"standoff\":15},\"zeroline\":true,\"zerolinecolor\":\"#283442\",\"zerolinewidth\":2},\"legend\":{\"bgcolor\":\"rgba(0, 0, 0, 0)\",\"itemsizing\":\"constant\"}}},\"xaxis\":{\"anchor\":\"y\",\"domain\":[0.0,0.2888888888888889],\"title\":{\"text\":\"\"},\"tickangle\":75,\"showgrid\":true,\"gridcolor\":\"lightgray\"},\"yaxis\":{\"anchor\":\"x\",\"domain\":[0.0,1.0],\"range\":[0.03,0.04208794895739066],\"showgrid\":true,\"gridcolor\":\"lightgray\"},\"xaxis2\":{\"anchor\":\"y2\",\"domain\":[0.35555555555555557,0.6444444444444445],\"title\":{\"text\":\"\"},\"tickangle\":75,\"showgrid\":true,\"gridcolor\":\"lightgray\"},\"yaxis2\":{\"anchor\":\"x2\",\"domain\":[0.0,1.0],\"range\":[4.0,5.305385517475171],\"showgrid\":true,\"gridcolor\":\"lightgray\"},\"xaxis3\":{\"anchor\":\"y3\",\"domain\":[0.7111111111111111,1.0],\"title\":{\"text\":\"\"},\"tickangle\":75,\"showgrid\":true,\"gridcolor\":\"lightgray\"},\"yaxis3\":{\"anchor\":\"x3\",\"domain\":[0.0,1.0],\"range\":[0.65,0.801],\"showgrid\":true,\"gridcolor\":\"lightgray\"},\"annotations\":[{\"font\":{\"size\":16},\"showarrow\":false,\"text\":\"MAE\",\"x\":0.14444444444444446,\"xanchor\":\"center\",\"xref\":\"paper\",\"y\":1.0,\"yanchor\":\"bottom\",\"yref\":\"paper\"},{\"font\":{\"size\":16},\"showarrow\":false,\"text\":\"DAF\",\"x\":0.5,\"xanchor\":\"center\",\"xref\":\"paper\",\"y\":1.0,\"yanchor\":\"bottom\",\"yref\":\"paper\"},{\"font\":{\"size\":16},\"showarrow\":false,\"text\":\"F1\",\"x\":0.8555555555555556,\"xanchor\":\"center\",\"xref\":\"paper\",\"y\":1.0,\"yanchor\":\"bottom\",\"yref\":\"paper\"}],\"title\":{\"text\":\"Regularization Ablations\"},\"legend\":{\"orientation\":\"h\",\"yanchor\":\"bottom\",\"y\":1.15,\"xanchor\":\"center\",\"x\":0.5},\"font\":{\"color\":\"gray\"},\"height\":400,\"width\":1000,\"barmode\":\"group\",\"plot_bgcolor\":\"rgba(0,0,0,0)\",\"paper_bgcolor\":\"rgba(0,0,0,0)\"},                        {\"responsive\": true}                    ).then(function(){\n",
       "                            \n",
       "var gd = document.getElementById('2751f264-835f-426a-973e-eed1abaaaca3');\n",
       "var x = new MutationObserver(function (mutations, observer) {{\n",
       "        var display = window.getComputedStyle(gd).display;\n",
       "        if (!display || display === 'none') {{\n",
       "            console.log([gd, 'removed!']);\n",
       "            Plotly.purge(gd);\n",
       "            observer.disconnect();\n",
       "        }}\n",
       "}});\n",
       "\n",
       "// Listen for the removal of the full notebook cells\n",
       "var notebookContainer = gd.closest('#notebook-container');\n",
       "if (notebookContainer) {{\n",
       "    x.observe(notebookContainer, {childList: true});\n",
       "}}\n",
       "\n",
       "// Listen for the clearing of the current output cell\n",
       "var outputEl = gd.closest('.output');\n",
       "if (outputEl) {{\n",
       "    x.observe(outputEl, {childList: true});\n",
       "}}\n",
       "\n",
       "                        })                };                });            </script>        </div>"
      ]
     },
     "metadata": {},
     "output_type": "display_data"
    }
   ],
   "source": [
    "plot_metrics_plotly(\n",
    "    df_new[(df_new[\"name\"] == \"base\") | ~df_new[\"name\"].str.contains(\"ec\")],\n",
    "    \"Regularization Ablations\",\n",
    ")"
   ]
  }
 ],
 "metadata": {
  "kernelspec": {
   "display_name": "jmp-peft",
   "language": "python",
   "name": "python3"
  },
  "language_info": {
   "codemirror_mode": {
    "name": "ipython",
    "version": 3
   },
   "file_extension": ".py",
   "mimetype": "text/x-python",
   "name": "python",
   "nbconvert_exporter": "python",
   "pygments_lexer": "ipython3",
   "version": "3.11.6"
  }
 },
 "nbformat": 4,
 "nbformat_minor": 2
}
